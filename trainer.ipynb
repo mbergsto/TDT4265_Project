{
 "cells": [
  {
   "cell_type": "code",
   "execution_count": 1,
   "metadata": {},
   "outputs": [
    {
     "name": "stderr",
     "output_type": "stream",
     "text": [
      "/home/aakesh/.local/lib/python3.10/site-packages/matplotlib/projections/__init__.py:63: UserWarning: Unable to import Axes3D. This may be due to multiple versions of Matplotlib being installed (e.g. as a system package and as a pip package). As a result, the 3D projection is not available.\n",
      "  warnings.warn(\"Unable to import Axes3D. This may be due to multiple versions of \"\n"
     ]
    }
   ],
   "source": [
    "from ultralytics import YOLO\n",
    "import os\n",
    "import random\n",
    "import cv2\n",
    "import numpy as np\n",
    "import shutil\n",
    "import supervision as sv\n",
    "import cv2\n",
    "import matplotlib.pyplot as plt\n",
    "\n",
    "\n"
   ]
  },
  {
   "cell_type": "code",
   "execution_count": 2,
   "metadata": {},
   "outputs": [],
   "source": [
    "# Choose dataset 1 or 2:\n",
    "dataset = 1  # 1 or 2\n",
    "\n",
    "if dataset == 1:\n",
    "    data_folder = \"1_train-val_1min_aalesund_from_start/\"\n",
    "    yaml_file_combined = \"yaml_files/data_1.yaml\"\n",
    "    yaml_file_ball = \"yaml_files/ball_1.yaml\"\n",
    "    yaml_file_players = \"yaml_files/player_1.yaml\"\n",
    "\n",
    "else:\n",
    "    data_folder = \"2_train-val_1min_after_goal/\"\n",
    "    yaml_file_combined = \"yaml_files/data_2.yaml\"\n",
    "    yaml_file_ball = \"yaml_files/ball_2.yaml\"\n",
    "    yaml_file_players = \"yaml_files/player_2.yaml\"\n",
    "\n",
    "test_combined = \"yaml_files/test_files/test_combined.yaml\"\n",
    "test_ball = \"yaml_files/test_files/test_ball.yaml\"\n",
    "test_players = \"yaml_files/test_files/test_players.yaml\"\n",
    "\n",
    "img_width = 1920  \n",
    "img_height = 1080  "
   ]
  },
  {
   "cell_type": "code",
   "execution_count": 5,
   "metadata": {},
   "outputs": [],
   "source": [
    "# Generate shuffled txt and img files for training and validation, 80% training and 20% validation\n",
    "\n",
    "from scripts.shuffler import generate_shuffled_txt_img_files_for_train_val\n",
    "from scripts.ball_dataset import generate_ball_dataset\n",
    "from scripts.player_dataset import generate_player_dataset\n",
    "\n",
    "object_path = f\"data_yolov8/object_datasets/{data_folder}/\"  \n",
    "ball_path = f\"data_yolov8/ball_datasets/{data_folder}/\"  \n",
    "player_path = f\"data_yolov8/player_datasets/{data_folder}/\"\n",
    "text_file_path = f\"/datasets/tdt4265/other/rbk/{data_folder}/gt/gt.txt\"  \n",
    "all_images_path = f\"/datasets/tdt4265/other/rbk/{data_folder}/img1\"\n",
    "\n",
    "\n",
    "\n",
    "generate_shuffled_txt_img_files_for_train_val(text_file_path, img_width, img_height, object_path, all_images_path)\n",
    "generate_ball_dataset(text_file_path, img_width, img_height, ball_path, all_images_path)\n",
    "generate_player_dataset(text_file_path, img_width, img_height, player_path, all_images_path)\n"
   ]
  },
  {
   "cell_type": "code",
   "execution_count": 6,
   "metadata": {},
   "outputs": [],
   "source": [
    "# Generate test txt and img files\n",
    "\n",
    "from scripts.test_dataset import generate_txt_img_files_for_test\n",
    "\n",
    "object_path = f\"data_yolov8/object_datasets/3_test_1min_hamkam_from_start/\"  \n",
    "ball_path = f\"data_yolov8/ball_datasets/3_test_1min_hamkam_from_start/\"  \n",
    "player_path = f\"data_yolov8/player_datasets/3_test_1min_hamkam_from_start/\" \n",
    "text_file_path = \"/datasets/tdt4265/other/rbk/3_test_1min_hamkam_from_start/gt/gt.txt\"  \n",
    "all_images_path = \"/datasets/tdt4265/other/rbk/3_test_1min_hamkam_from_start/img1/\"\n",
    "\n",
    "generate_txt_img_files_for_test(text_file_path, img_width, img_height, object_path, all_images_path)\n",
    "generate_txt_img_files_for_test(text_file_path, img_width, img_height, ball_path, all_images_path, type='ball')\n",
    "generate_txt_img_files_for_test(text_file_path, img_width, img_height, player_path, all_images_path, type='player')"
   ]
  },
  {
   "cell_type": "code",
   "execution_count": 3,
   "metadata": {},
   "outputs": [],
   "source": [
    "# Last inn sist trente modell\n",
    "\n",
    "def find_latest_model_with_best(base_path, type):\n",
    "    detect_path = os.path.join(base_path, 'runs/detect', type)\n",
    "    training_sessions = [os.path.join(detect_path, d) for d in os.listdir(detect_path) if os.path.isdir(os.path.join(detect_path, d))]\n",
    "    \n",
    "    # Liste for å holde stiene til alle 'best.pt'-filer\n",
    "    best_model_paths = []\n",
    "\n",
    "    for session in training_sessions:\n",
    "        best_model_path = os.path.join(session, 'weights', 'best.pt')\n",
    "        if os.path.exists(best_model_path):\n",
    "            best_model_paths.append((best_model_path, os.path.getmtime(best_model_path)))\n",
    "\n",
    "    if not best_model_paths:\n",
    "        print(\"Ingen 'best.pt' fil funnet i noen av treningsøktene.\")\n",
    "        return None\n",
    "    \n",
    "    # Sorter basert på modifiseringstid og returner den nyeste\n",
    "    best_model_paths.sort(key=lambda x: x[1], reverse=True)\n",
    "    return best_model_paths[0][0]\n",
    "\n",
    "\n",
    "base_path = '/work/aakesh/TDT4265_Project' \n",
    "\n",
    "#model_combined = YOLO(find_latest_model_with_best(base_path, 'combined'))\n",
    "#model_ball = YOLO(find_latest_model_with_best(base_path, 'ball'))\n",
    "#model_players = YOLO(find_latest_model_with_best(base_path, 'player'))\n",
    "model = YOLO('yolov8n.pt')\n"
   ]
  },
  {
   "cell_type": "code",
   "execution_count": 5,
   "metadata": {},
   "outputs": [
    {
     "name": "stdout",
     "output_type": "stream",
     "text": [
      "Ultralytics YOLOv8.2.2 🚀 Python-3.10.12 torch-2.3.0+cu121 CUDA:0 (NVIDIA GeForce RTX 4090, 24195MiB)\n",
      "\u001b[34m\u001b[1mengine/trainer: \u001b[0mtask=detect, mode=train, model=yolov8n.pt, data=yaml_files/ball_1.yaml, epochs=100, time=None, patience=100, batch=14, imgsz=1920, save=True, save_period=-1, cache=False, device=None, workers=8, project=/work/aakesh/TDT4265_Project/runs/detect/ball, name=train5, exist_ok=False, pretrained=True, optimizer=auto, verbose=True, seed=0, deterministic=True, single_cls=False, rect=False, cos_lr=False, close_mosaic=10, resume=False, amp=True, fraction=1.0, profile=False, freeze=None, multi_scale=False, overlap_mask=True, mask_ratio=4, dropout=0.0, val=True, split=val, save_json=False, save_hybrid=False, conf=None, iou=0.7, max_det=300, half=False, dnn=False, plots=True, source=None, vid_stride=1, stream_buffer=False, visualize=False, augment=False, agnostic_nms=False, classes=None, retina_masks=False, embed=None, show=False, save_frames=False, save_txt=False, save_conf=False, save_crop=False, show_labels=True, show_conf=True, show_boxes=True, line_width=None, format=torchscript, keras=False, optimize=False, int8=False, dynamic=False, simplify=False, opset=None, workspace=4, nms=False, lr0=0.00718, lrf=0.00974, momentum=0.93197, weight_decay=0.00055, warmup_epochs=3.36666, warmup_momentum=0.85781, warmup_bias_lr=0.1, box=4.72259, cls=0.5465, dfl=1.92783, pose=12.0, kobj=1.0, label_smoothing=0.0, nbs=64, hsv_h=0.02044, hsv_s=0.31706, hsv_v=0.45266, degrees=0.0, translate=0.18063, scale=0.35211, shear=0.0, perspective=0.0, flipud=0.0, fliplr=0.21613, bgr=0.0, mosaic=1.0, mixup=0.0, copy_paste=0.0, auto_augment=randaugment, erasing=0.4, crop_fraction=1.0, cfg=/work/aakesh/TDT4265_Project/runs/detect/tune2/best_hyperparameters.yaml, tracker=botsort.yaml, save_dir=/work/aakesh/TDT4265_Project/runs/detect/ball/train5\n",
      "Overriding model.yaml nc=80 with nc=1\n",
      "\n",
      "                   from  n    params  module                                       arguments                     \n",
      "  0                  -1  1       464  ultralytics.nn.modules.conv.Conv             [3, 16, 3, 2]                 \n",
      "  1                  -1  1      4672  ultralytics.nn.modules.conv.Conv             [16, 32, 3, 2]                \n",
      "  2                  -1  1      7360  ultralytics.nn.modules.block.C2f             [32, 32, 1, True]             \n",
      "  3                  -1  1     18560  ultralytics.nn.modules.conv.Conv             [32, 64, 3, 2]                \n",
      "  4                  -1  2     49664  ultralytics.nn.modules.block.C2f             [64, 64, 2, True]             \n",
      "  5                  -1  1     73984  ultralytics.nn.modules.conv.Conv             [64, 128, 3, 2]               \n",
      "  6                  -1  2    197632  ultralytics.nn.modules.block.C2f             [128, 128, 2, True]           \n",
      "  7                  -1  1    295424  ultralytics.nn.modules.conv.Conv             [128, 256, 3, 2]              \n",
      "  8                  -1  1    460288  ultralytics.nn.modules.block.C2f             [256, 256, 1, True]           \n",
      "  9                  -1  1    164608  ultralytics.nn.modules.block.SPPF            [256, 256, 5]                 \n",
      " 10                  -1  1         0  torch.nn.modules.upsampling.Upsample         [None, 2, 'nearest']          \n",
      " 11             [-1, 6]  1         0  ultralytics.nn.modules.conv.Concat           [1]                           \n",
      " 12                  -1  1    148224  ultralytics.nn.modules.block.C2f             [384, 128, 1]                 \n",
      " 13                  -1  1         0  torch.nn.modules.upsampling.Upsample         [None, 2, 'nearest']          \n",
      " 14             [-1, 4]  1         0  ultralytics.nn.modules.conv.Concat           [1]                           \n",
      " 15                  -1  1     37248  ultralytics.nn.modules.block.C2f             [192, 64, 1]                  \n",
      " 16                  -1  1     36992  ultralytics.nn.modules.conv.Conv             [64, 64, 3, 2]                \n",
      " 17            [-1, 12]  1         0  ultralytics.nn.modules.conv.Concat           [1]                           \n",
      " 18                  -1  1    123648  ultralytics.nn.modules.block.C2f             [192, 128, 1]                 \n",
      " 19                  -1  1    147712  ultralytics.nn.modules.conv.Conv             [128, 128, 3, 2]              \n",
      " 20             [-1, 9]  1         0  ultralytics.nn.modules.conv.Concat           [1]                           \n",
      " 21                  -1  1    493056  ultralytics.nn.modules.block.C2f             [384, 256, 1]                 \n",
      " 22        [15, 18, 21]  1    751507  ultralytics.nn.modules.head.Detect           [1, [64, 128, 256]]           \n",
      "Model summary: 225 layers, 3011043 parameters, 3011027 gradients, 8.2 GFLOPs\n",
      "\n",
      "Transferred 319/355 items from pretrained weights\n",
      "\u001b[34m\u001b[1mTensorBoard: \u001b[0mStart with 'tensorboard --logdir /work/aakesh/TDT4265_Project/runs/detect/ball/train5', view at http://localhost:6006/\n",
      "Freezing layer 'model.22.dfl.conv.weight'\n",
      "\u001b[34m\u001b[1mAMP: \u001b[0mrunning Automatic Mixed Precision (AMP) checks with YOLOv8n...\n",
      "\u001b[34m\u001b[1mAMP: \u001b[0mchecks passed ✅\n"
     ]
    },
    {
     "name": "stderr",
     "output_type": "stream",
     "text": [
      "UserWarning: Plan failed with a cudnnException: CUDNN_BACKEND_EXECUTION_PLAN_DESCRIPTOR: cudnnFinalize Descriptor Failed cudnn_status: CUDNN_STATUS_NOT_SUPPORTED (Triggered internally at ../aten/src/ATen/native/cudnn/Conv_v8.cpp:919.)\n",
      "\u001b[34m\u001b[1mtrain: \u001b[0mScanning /work/aakesh/TDT4265_Project/data_yolov8/ball_datasets/1_train-val_1min_aalesund_from_start/labels/train.cache... 1024 images, 0 backgrounds, 0 corrupt: 100%|██████████| 1024/1024 [00:00<?, ?it/s]\n",
      "\u001b[34m\u001b[1mval: \u001b[0mScanning /work/aakesh/TDT4265_Project/data_yolov8/ball_datasets/1_train-val_1min_aalesund_from_start/labels/val.cache... 257 images, 0 backgrounds, 0 corrupt: 100%|██████████| 257/257 [00:00<?, ?it/s]\n"
     ]
    },
    {
     "name": "stdout",
     "output_type": "stream",
     "text": [
      "Plotting labels to /work/aakesh/TDT4265_Project/runs/detect/ball/train5/labels.jpg... \n",
      "\u001b[34m\u001b[1moptimizer:\u001b[0m 'optimizer=auto' found, ignoring 'lr0=0.00718' and 'momentum=0.93197' and determining best 'optimizer', 'lr0' and 'momentum' automatically... \n",
      "\u001b[34m\u001b[1moptimizer:\u001b[0m AdamW(lr=0.002, momentum=0.9) with parameter groups 57 weight(decay=0.0), 64 weight(decay=0.0006015625), 63 bias(decay=0.0)\n",
      "\u001b[34m\u001b[1mTensorBoard: \u001b[0mmodel graph visualization added ✅\n",
      "Image sizes 1920 train, 1920 val\n",
      "Using 8 dataloader workers\n",
      "Logging results to \u001b[1m/work/aakesh/TDT4265_Project/runs/detect/ball/train5\u001b[0m\n",
      "Starting training for 100 epochs...\n",
      "\n",
      "      Epoch    GPU_mem   box_loss   cls_loss   dfl_loss  Instances       Size\n"
     ]
    },
    {
     "name": "stderr",
     "output_type": "stream",
     "text": [
      "  0%|          | 0/74 [00:00<?, ?it/s]UserWarning: Plan failed with a cudnnException: CUDNN_BACKEND_EXECUTION_PLAN_DESCRIPTOR: cudnnFinalize Descriptor Failed cudnn_status: CUDNN_STATUS_NOT_SUPPORTED (Triggered internally at ../aten/src/ATen/native/cudnn/Conv_v8.cpp:919.)\n",
      "      1/100      17.7G      1.303      47.92      1.089          5       1920: 100%|██████████| 74/74 [00:18<00:00,  3.97it/s]\n",
      "                 Class     Images  Instances      Box(P          R      mAP50  mAP50-95): 100%|██████████| 10/10 [00:01<00:00,  6.01it/s]"
     ]
    },
    {
     "name": "stdout",
     "output_type": "stream",
     "text": [
      "                   all        257        257      0.992      0.465      0.723      0.386\n"
     ]
    },
    {
     "name": "stderr",
     "output_type": "stream",
     "text": [
      "\n"
     ]
    },
    {
     "name": "stdout",
     "output_type": "stream",
     "text": [
      "\n",
      "      Epoch    GPU_mem   box_loss   cls_loss   dfl_loss  Instances       Size\n"
     ]
    },
    {
     "name": "stderr",
     "output_type": "stream",
     "text": [
      "      2/100      17.5G      1.154      28.15      1.059          4       1920: 100%|██████████| 74/74 [00:17<00:00,  4.25it/s]\n",
      "                 Class     Images  Instances      Box(P          R      mAP50  mAP50-95): 100%|██████████| 10/10 [00:01<00:00,  8.54it/s]"
     ]
    },
    {
     "name": "stdout",
     "output_type": "stream",
     "text": [
      "                   all        257        257      0.903      0.762      0.844      0.458\n"
     ]
    },
    {
     "name": "stderr",
     "output_type": "stream",
     "text": [
      "\n"
     ]
    },
    {
     "name": "stdout",
     "output_type": "stream",
     "text": [
      "\n",
      "      Epoch    GPU_mem   box_loss   cls_loss   dfl_loss  Instances       Size\n"
     ]
    },
    {
     "name": "stderr",
     "output_type": "stream",
     "text": [
      "      3/100      17.5G      1.139      18.81      1.065          2       1920: 100%|██████████| 74/74 [00:17<00:00,  4.29it/s]\n",
      "                 Class     Images  Instances      Box(P          R      mAP50  mAP50-95): 100%|██████████| 10/10 [00:00<00:00, 10.26it/s]"
     ]
    },
    {
     "name": "stdout",
     "output_type": "stream",
     "text": [
      "                   all        257        257      0.945      0.806      0.903      0.492\n"
     ]
    },
    {
     "name": "stderr",
     "output_type": "stream",
     "text": [
      "\n"
     ]
    },
    {
     "name": "stdout",
     "output_type": "stream",
     "text": [
      "\n",
      "      Epoch    GPU_mem   box_loss   cls_loss   dfl_loss  Instances       Size\n"
     ]
    },
    {
     "name": "stderr",
     "output_type": "stream",
     "text": [
      "      4/100      17.5G      1.113      11.15      1.065          5       1920: 100%|██████████| 74/74 [00:17<00:00,  4.29it/s]\n",
      "                 Class     Images  Instances      Box(P          R      mAP50  mAP50-95): 100%|██████████| 10/10 [00:00<00:00, 10.31it/s]"
     ]
    },
    {
     "name": "stdout",
     "output_type": "stream",
     "text": [
      "                   all        257        257      0.944      0.774      0.876       0.38\n"
     ]
    },
    {
     "name": "stderr",
     "output_type": "stream",
     "text": [
      "\n"
     ]
    },
    {
     "name": "stdout",
     "output_type": "stream",
     "text": [
      "\n",
      "      Epoch    GPU_mem   box_loss   cls_loss   dfl_loss  Instances       Size\n"
     ]
    },
    {
     "name": "stderr",
     "output_type": "stream",
     "text": [
      "      5/100      17.5G      1.186       7.29      1.076          2       1920: 100%|██████████| 74/74 [00:16<00:00,  4.51it/s]\n",
      "                 Class     Images  Instances      Box(P          R      mAP50  mAP50-95): 100%|██████████| 10/10 [00:00<00:00, 10.73it/s]"
     ]
    },
    {
     "name": "stdout",
     "output_type": "stream",
     "text": [
      "                   all        257        257      0.852      0.844      0.867      0.386\n"
     ]
    },
    {
     "name": "stderr",
     "output_type": "stream",
     "text": [
      "\n"
     ]
    },
    {
     "name": "stdout",
     "output_type": "stream",
     "text": [
      "\n",
      "      Epoch    GPU_mem   box_loss   cls_loss   dfl_loss  Instances       Size\n"
     ]
    },
    {
     "name": "stderr",
     "output_type": "stream",
     "text": [
      "      6/100      17.5G      1.109      4.177      1.068          3       1920: 100%|██████████| 74/74 [00:16<00:00,  4.61it/s]\n",
      "                 Class     Images  Instances      Box(P          R      mAP50  mAP50-95): 100%|██████████| 10/10 [00:00<00:00, 11.76it/s]"
     ]
    },
    {
     "name": "stdout",
     "output_type": "stream",
     "text": [
      "                   all        257        257      0.921      0.868       0.91      0.514\n"
     ]
    },
    {
     "name": "stderr",
     "output_type": "stream",
     "text": [
      "\n"
     ]
    },
    {
     "name": "stdout",
     "output_type": "stream",
     "text": [
      "\n",
      "      Epoch    GPU_mem   box_loss   cls_loss   dfl_loss  Instances       Size\n"
     ]
    },
    {
     "name": "stderr",
     "output_type": "stream",
     "text": [
      "      7/100      17.5G      1.071      2.918      1.059          3       1920: 100%|██████████| 74/74 [00:16<00:00,  4.61it/s]\n",
      "                 Class     Images  Instances      Box(P          R      mAP50  mAP50-95): 100%|██████████| 10/10 [00:00<00:00, 11.64it/s]"
     ]
    },
    {
     "name": "stdout",
     "output_type": "stream",
     "text": [
      "                   all        257        257      0.971      0.895      0.964      0.509\n"
     ]
    },
    {
     "name": "stderr",
     "output_type": "stream",
     "text": [
      "\n"
     ]
    },
    {
     "name": "stdout",
     "output_type": "stream",
     "text": [
      "\n",
      "      Epoch    GPU_mem   box_loss   cls_loss   dfl_loss  Instances       Size\n"
     ]
    },
    {
     "name": "stderr",
     "output_type": "stream",
     "text": [
      "      8/100      17.5G      1.087      2.079      1.047          3       1920: 100%|██████████| 74/74 [00:16<00:00,  4.56it/s]\n",
      "                 Class     Images  Instances      Box(P          R      mAP50  mAP50-95): 100%|██████████| 10/10 [00:00<00:00, 11.60it/s]"
     ]
    },
    {
     "name": "stdout",
     "output_type": "stream",
     "text": [
      "                   all        257        257      0.923      0.911      0.945      0.466\n"
     ]
    },
    {
     "name": "stderr",
     "output_type": "stream",
     "text": [
      "\n"
     ]
    },
    {
     "name": "stdout",
     "output_type": "stream",
     "text": [
      "\n",
      "      Epoch    GPU_mem   box_loss   cls_loss   dfl_loss  Instances       Size\n"
     ]
    },
    {
     "name": "stderr",
     "output_type": "stream",
     "text": [
      "      9/100      17.5G      1.071      1.674      1.046          4       1920: 100%|██████████| 74/74 [00:16<00:00,  4.50it/s]\n",
      "                 Class     Images  Instances      Box(P          R      mAP50  mAP50-95): 100%|██████████| 10/10 [00:00<00:00, 11.19it/s]"
     ]
    },
    {
     "name": "stdout",
     "output_type": "stream",
     "text": [
      "                   all        257        257      0.929      0.926       0.95      0.522\n"
     ]
    },
    {
     "name": "stderr",
     "output_type": "stream",
     "text": [
      "\n"
     ]
    },
    {
     "name": "stdout",
     "output_type": "stream",
     "text": [
      "\n",
      "      Epoch    GPU_mem   box_loss   cls_loss   dfl_loss  Instances       Size\n"
     ]
    },
    {
     "name": "stderr",
     "output_type": "stream",
     "text": [
      "     10/100      17.5G      1.032      1.399      1.043          3       1920: 100%|██████████| 74/74 [00:16<00:00,  4.58it/s]\n",
      "                 Class     Images  Instances      Box(P          R      mAP50  mAP50-95): 100%|██████████| 10/10 [00:00<00:00, 11.71it/s]"
     ]
    },
    {
     "name": "stdout",
     "output_type": "stream",
     "text": [
      "                   all        257        257      0.958      0.885      0.944       0.36\n"
     ]
    },
    {
     "name": "stderr",
     "output_type": "stream",
     "text": [
      "\n"
     ]
    },
    {
     "name": "stdout",
     "output_type": "stream",
     "text": [
      "\n",
      "      Epoch    GPU_mem   box_loss   cls_loss   dfl_loss  Instances       Size\n"
     ]
    },
    {
     "name": "stderr",
     "output_type": "stream",
     "text": [
      "     11/100      17.5G     0.9909      1.206       1.04          4       1920: 100%|██████████| 74/74 [00:16<00:00,  4.61it/s]\n",
      "                 Class     Images  Instances      Box(P          R      mAP50  mAP50-95): 100%|██████████| 10/10 [00:00<00:00, 11.72it/s]"
     ]
    },
    {
     "name": "stdout",
     "output_type": "stream",
     "text": [
      "                   all        257        257      0.956      0.932      0.962      0.552\n"
     ]
    },
    {
     "name": "stderr",
     "output_type": "stream",
     "text": [
      "\n"
     ]
    },
    {
     "name": "stdout",
     "output_type": "stream",
     "text": [
      "\n",
      "      Epoch    GPU_mem   box_loss   cls_loss   dfl_loss  Instances       Size\n"
     ]
    },
    {
     "name": "stderr",
     "output_type": "stream",
     "text": [
      "     12/100      17.5G     0.9599      1.047       1.04          3       1920: 100%|██████████| 74/74 [00:16<00:00,  4.59it/s]\n",
      "                 Class     Images  Instances      Box(P          R      mAP50  mAP50-95): 100%|██████████| 10/10 [00:00<00:00, 11.64it/s]"
     ]
    },
    {
     "name": "stdout",
     "output_type": "stream",
     "text": [
      "                   all        257        257      0.962      0.903      0.962      0.585\n"
     ]
    },
    {
     "name": "stderr",
     "output_type": "stream",
     "text": [
      "\n"
     ]
    },
    {
     "name": "stdout",
     "output_type": "stream",
     "text": [
      "\n",
      "      Epoch    GPU_mem   box_loss   cls_loss   dfl_loss  Instances       Size\n"
     ]
    },
    {
     "name": "stderr",
     "output_type": "stream",
     "text": [
      "     13/100      17.5G     0.9414     0.9776      1.032          5       1920: 100%|██████████| 74/74 [00:16<00:00,  4.60it/s]\n",
      "                 Class     Images  Instances      Box(P          R      mAP50  mAP50-95): 100%|██████████| 10/10 [00:00<00:00, 11.75it/s]"
     ]
    },
    {
     "name": "stdout",
     "output_type": "stream",
     "text": [
      "                   all        257        257      0.952      0.928      0.963      0.557\n"
     ]
    },
    {
     "name": "stderr",
     "output_type": "stream",
     "text": [
      "\n"
     ]
    },
    {
     "name": "stdout",
     "output_type": "stream",
     "text": [
      "\n",
      "      Epoch    GPU_mem   box_loss   cls_loss   dfl_loss  Instances       Size\n"
     ]
    },
    {
     "name": "stderr",
     "output_type": "stream",
     "text": [
      "     14/100      17.5G     0.9338     0.9123      1.028          5       1920: 100%|██████████| 74/74 [00:16<00:00,  4.61it/s]\n",
      "                 Class     Images  Instances      Box(P          R      mAP50  mAP50-95): 100%|██████████| 10/10 [00:00<00:00, 11.70it/s]"
     ]
    },
    {
     "name": "stdout",
     "output_type": "stream",
     "text": [
      "                   all        257        257      0.951      0.909      0.949      0.542\n"
     ]
    },
    {
     "name": "stderr",
     "output_type": "stream",
     "text": [
      "\n"
     ]
    },
    {
     "name": "stdout",
     "output_type": "stream",
     "text": [
      "\n",
      "      Epoch    GPU_mem   box_loss   cls_loss   dfl_loss  Instances       Size\n"
     ]
    },
    {
     "name": "stderr",
     "output_type": "stream",
     "text": [
      "     15/100      17.5G     0.9195     0.8377      1.032          2       1920: 100%|██████████| 74/74 [00:16<00:00,  4.59it/s]\n",
      "                 Class     Images  Instances      Box(P          R      mAP50  mAP50-95): 100%|██████████| 10/10 [00:00<00:00, 11.75it/s]"
     ]
    },
    {
     "name": "stdout",
     "output_type": "stream",
     "text": [
      "                   all        257        257      0.964       0.93      0.964      0.616\n"
     ]
    },
    {
     "name": "stderr",
     "output_type": "stream",
     "text": [
      "\n"
     ]
    },
    {
     "name": "stdout",
     "output_type": "stream",
     "text": [
      "\n",
      "      Epoch    GPU_mem   box_loss   cls_loss   dfl_loss  Instances       Size\n"
     ]
    },
    {
     "name": "stderr",
     "output_type": "stream",
     "text": [
      "     16/100      17.5G     0.9252     0.8311      1.035          4       1920: 100%|██████████| 74/74 [00:16<00:00,  4.48it/s]\n",
      "                 Class     Images  Instances      Box(P          R      mAP50  mAP50-95): 100%|██████████| 10/10 [00:00<00:00, 11.08it/s]"
     ]
    },
    {
     "name": "stdout",
     "output_type": "stream",
     "text": [
      "                   all        257        257      0.975      0.914      0.971      0.592\n"
     ]
    },
    {
     "name": "stderr",
     "output_type": "stream",
     "text": [
      "\n"
     ]
    },
    {
     "name": "stdout",
     "output_type": "stream",
     "text": [
      "\n",
      "      Epoch    GPU_mem   box_loss   cls_loss   dfl_loss  Instances       Size\n"
     ]
    },
    {
     "name": "stderr",
     "output_type": "stream",
     "text": [
      "     17/100      17.5G     0.8867     0.7867      1.023          4       1920: 100%|██████████| 74/74 [00:17<00:00,  4.30it/s]\n",
      "                 Class     Images  Instances      Box(P          R      mAP50  mAP50-95): 100%|██████████| 10/10 [00:00<00:00, 10.90it/s]"
     ]
    },
    {
     "name": "stdout",
     "output_type": "stream",
     "text": [
      "                   all        257        257      0.963      0.909      0.952      0.519\n"
     ]
    },
    {
     "name": "stderr",
     "output_type": "stream",
     "text": [
      "\n"
     ]
    },
    {
     "name": "stdout",
     "output_type": "stream",
     "text": [
      "\n",
      "      Epoch    GPU_mem   box_loss   cls_loss   dfl_loss  Instances       Size\n"
     ]
    },
    {
     "name": "stderr",
     "output_type": "stream",
     "text": [
      "     18/100      17.5G     0.9234     0.7843      1.022          3       1920: 100%|██████████| 74/74 [00:17<00:00,  4.29it/s]\n",
      "                 Class     Images  Instances      Box(P          R      mAP50  mAP50-95): 100%|██████████| 10/10 [00:00<00:00, 10.82it/s]"
     ]
    },
    {
     "name": "stdout",
     "output_type": "stream",
     "text": [
      "                   all        257        257      0.978      0.949      0.983       0.62\n"
     ]
    },
    {
     "name": "stderr",
     "output_type": "stream",
     "text": [
      "\n"
     ]
    },
    {
     "name": "stdout",
     "output_type": "stream",
     "text": [
      "\n",
      "      Epoch    GPU_mem   box_loss   cls_loss   dfl_loss  Instances       Size\n"
     ]
    },
    {
     "name": "stderr",
     "output_type": "stream",
     "text": [
      "     19/100      17.5G     0.8874     0.7274      1.019          2       1920: 100%|██████████| 74/74 [00:17<00:00,  4.31it/s]\n",
      "                 Class     Images  Instances      Box(P          R      mAP50  mAP50-95): 100%|██████████| 10/10 [00:00<00:00, 11.07it/s]"
     ]
    },
    {
     "name": "stdout",
     "output_type": "stream",
     "text": [
      "                   all        257        257      0.968      0.945      0.969      0.556\n"
     ]
    },
    {
     "name": "stderr",
     "output_type": "stream",
     "text": [
      "\n"
     ]
    },
    {
     "name": "stdout",
     "output_type": "stream",
     "text": [
      "\n",
      "      Epoch    GPU_mem   box_loss   cls_loss   dfl_loss  Instances       Size\n"
     ]
    },
    {
     "name": "stderr",
     "output_type": "stream",
     "text": [
      "     20/100      17.5G     0.8989     0.7119      1.024          4       1920: 100%|██████████| 74/74 [00:17<00:00,  4.30it/s]\n",
      "                 Class     Images  Instances      Box(P          R      mAP50  mAP50-95): 100%|██████████| 10/10 [00:00<00:00, 11.00it/s]"
     ]
    },
    {
     "name": "stdout",
     "output_type": "stream",
     "text": [
      "                   all        257        257      0.976       0.93       0.98      0.617\n"
     ]
    },
    {
     "name": "stderr",
     "output_type": "stream",
     "text": [
      "\n"
     ]
    },
    {
     "name": "stdout",
     "output_type": "stream",
     "text": [
      "\n",
      "      Epoch    GPU_mem   box_loss   cls_loss   dfl_loss  Instances       Size\n"
     ]
    },
    {
     "name": "stderr",
     "output_type": "stream",
     "text": [
      "     21/100      17.5G     0.8679     0.6799      1.026          2       1920: 100%|██████████| 74/74 [00:17<00:00,  4.30it/s]\n",
      "                 Class     Images  Instances      Box(P          R      mAP50  mAP50-95): 100%|██████████| 10/10 [00:00<00:00, 11.17it/s]"
     ]
    },
    {
     "name": "stdout",
     "output_type": "stream",
     "text": [
      "                   all        257        257      0.963      0.946      0.977      0.621\n"
     ]
    },
    {
     "name": "stderr",
     "output_type": "stream",
     "text": [
      "\n"
     ]
    },
    {
     "name": "stdout",
     "output_type": "stream",
     "text": [
      "\n",
      "      Epoch    GPU_mem   box_loss   cls_loss   dfl_loss  Instances       Size\n"
     ]
    },
    {
     "name": "stderr",
     "output_type": "stream",
     "text": [
      "     22/100      17.5G     0.8647     0.6895      1.021          2       1920: 100%|██████████| 74/74 [00:17<00:00,  4.30it/s]\n",
      "                 Class     Images  Instances      Box(P          R      mAP50  mAP50-95): 100%|██████████| 10/10 [00:00<00:00, 11.16it/s]"
     ]
    },
    {
     "name": "stdout",
     "output_type": "stream",
     "text": [
      "                   all        257        257      0.939      0.956       0.98      0.597\n"
     ]
    },
    {
     "name": "stderr",
     "output_type": "stream",
     "text": [
      "\n"
     ]
    },
    {
     "name": "stdout",
     "output_type": "stream",
     "text": [
      "\n",
      "      Epoch    GPU_mem   box_loss   cls_loss   dfl_loss  Instances       Size\n"
     ]
    },
    {
     "name": "stderr",
     "output_type": "stream",
     "text": [
      "     23/100      17.5G     0.8518     0.6496      1.021          4       1920: 100%|██████████| 74/74 [00:17<00:00,  4.29it/s]\n",
      "                 Class     Images  Instances      Box(P          R      mAP50  mAP50-95): 100%|██████████| 10/10 [00:00<00:00, 11.11it/s]"
     ]
    },
    {
     "name": "stdout",
     "output_type": "stream",
     "text": [
      "                   all        257        257      0.949      0.946      0.974      0.566\n"
     ]
    },
    {
     "name": "stderr",
     "output_type": "stream",
     "text": [
      "\n"
     ]
    },
    {
     "name": "stdout",
     "output_type": "stream",
     "text": [
      "\n",
      "      Epoch    GPU_mem   box_loss   cls_loss   dfl_loss  Instances       Size\n"
     ]
    },
    {
     "name": "stderr",
     "output_type": "stream",
     "text": [
      "     24/100      17.5G     0.8826     0.6717      1.023          3       1920: 100%|██████████| 74/74 [00:17<00:00,  4.30it/s]\n",
      "                 Class     Images  Instances      Box(P          R      mAP50  mAP50-95): 100%|██████████| 10/10 [00:00<00:00, 10.80it/s]"
     ]
    },
    {
     "name": "stdout",
     "output_type": "stream",
     "text": [
      "                   all        257        257      0.976      0.934      0.984      0.608\n"
     ]
    },
    {
     "name": "stderr",
     "output_type": "stream",
     "text": [
      "\n"
     ]
    },
    {
     "name": "stdout",
     "output_type": "stream",
     "text": [
      "\n",
      "      Epoch    GPU_mem   box_loss   cls_loss   dfl_loss  Instances       Size\n"
     ]
    },
    {
     "name": "stderr",
     "output_type": "stream",
     "text": [
      "     25/100      17.5G     0.9048     0.6684      1.018          2       1920: 100%|██████████| 74/74 [00:17<00:00,  4.31it/s]\n",
      "                 Class     Images  Instances      Box(P          R      mAP50  mAP50-95): 100%|██████████| 10/10 [00:00<00:00, 10.82it/s]"
     ]
    },
    {
     "name": "stdout",
     "output_type": "stream",
     "text": [
      "                   all        257        257      0.953      0.955      0.977      0.623\n"
     ]
    },
    {
     "name": "stderr",
     "output_type": "stream",
     "text": [
      "\n"
     ]
    },
    {
     "name": "stdout",
     "output_type": "stream",
     "text": [
      "\n",
      "      Epoch    GPU_mem   box_loss   cls_loss   dfl_loss  Instances       Size\n"
     ]
    },
    {
     "name": "stderr",
     "output_type": "stream",
     "text": [
      "     26/100      17.5G     0.8481     0.6212      1.023          3       1920: 100%|██████████| 74/74 [00:17<00:00,  4.26it/s]\n",
      "                 Class     Images  Instances      Box(P          R      mAP50  mAP50-95): 100%|██████████| 10/10 [00:00<00:00, 10.93it/s]"
     ]
    },
    {
     "name": "stdout",
     "output_type": "stream",
     "text": [
      "                   all        257        257      0.967      0.946      0.979      0.621\n"
     ]
    },
    {
     "name": "stderr",
     "output_type": "stream",
     "text": [
      "\n"
     ]
    },
    {
     "name": "stdout",
     "output_type": "stream",
     "text": [
      "\n",
      "      Epoch    GPU_mem   box_loss   cls_loss   dfl_loss  Instances       Size\n"
     ]
    },
    {
     "name": "stderr",
     "output_type": "stream",
     "text": [
      "     27/100      17.5G     0.8472       0.64      1.019          2       1920: 100%|██████████| 74/74 [00:17<00:00,  4.28it/s]\n",
      "                 Class     Images  Instances      Box(P          R      mAP50  mAP50-95): 100%|██████████| 10/10 [00:00<00:00, 10.87it/s]"
     ]
    },
    {
     "name": "stdout",
     "output_type": "stream",
     "text": [
      "                   all        257        257      0.969      0.953      0.978      0.601\n"
     ]
    },
    {
     "name": "stderr",
     "output_type": "stream",
     "text": [
      "\n"
     ]
    },
    {
     "name": "stdout",
     "output_type": "stream",
     "text": [
      "\n",
      "      Epoch    GPU_mem   box_loss   cls_loss   dfl_loss  Instances       Size\n"
     ]
    },
    {
     "name": "stderr",
     "output_type": "stream",
     "text": [
      "     28/100      17.5G     0.8241     0.6338      1.022          4       1920: 100%|██████████| 74/74 [00:17<00:00,  4.30it/s]\n",
      "                 Class     Images  Instances      Box(P          R      mAP50  mAP50-95): 100%|██████████| 10/10 [00:00<00:00, 11.10it/s]"
     ]
    },
    {
     "name": "stdout",
     "output_type": "stream",
     "text": [
      "                   all        257        257      0.972      0.946      0.979      0.597\n"
     ]
    },
    {
     "name": "stderr",
     "output_type": "stream",
     "text": [
      "\n"
     ]
    },
    {
     "name": "stdout",
     "output_type": "stream",
     "text": [
      "\n",
      "      Epoch    GPU_mem   box_loss   cls_loss   dfl_loss  Instances       Size\n"
     ]
    },
    {
     "name": "stderr",
     "output_type": "stream",
     "text": [
      "     29/100      17.5G     0.8447     0.6548      1.009          4       1920: 100%|██████████| 74/74 [00:17<00:00,  4.30it/s]\n",
      "                 Class     Images  Instances      Box(P          R      mAP50  mAP50-95): 100%|██████████| 10/10 [00:00<00:00, 10.92it/s]"
     ]
    },
    {
     "name": "stdout",
     "output_type": "stream",
     "text": [
      "                   all        257        257       0.98       0.94      0.977      0.624\n"
     ]
    },
    {
     "name": "stderr",
     "output_type": "stream",
     "text": [
      "\n"
     ]
    },
    {
     "name": "stdout",
     "output_type": "stream",
     "text": [
      "\n",
      "      Epoch    GPU_mem   box_loss   cls_loss   dfl_loss  Instances       Size\n"
     ]
    },
    {
     "name": "stderr",
     "output_type": "stream",
     "text": [
      "     30/100      17.5G     0.8865     0.6701      1.019          3       1920: 100%|██████████| 74/74 [00:17<00:00,  4.30it/s]\n",
      "                 Class     Images  Instances      Box(P          R      mAP50  mAP50-95): 100%|██████████| 10/10 [00:00<00:00, 10.67it/s]"
     ]
    },
    {
     "name": "stdout",
     "output_type": "stream",
     "text": [
      "                   all        257        257      0.987      0.942      0.984       0.65\n"
     ]
    },
    {
     "name": "stderr",
     "output_type": "stream",
     "text": [
      "\n"
     ]
    },
    {
     "name": "stdout",
     "output_type": "stream",
     "text": [
      "\n",
      "      Epoch    GPU_mem   box_loss   cls_loss   dfl_loss  Instances       Size\n"
     ]
    },
    {
     "name": "stderr",
     "output_type": "stream",
     "text": [
      "     31/100      17.5G     0.8137     0.6382      1.003          2       1920: 100%|██████████| 74/74 [00:17<00:00,  4.27it/s]\n",
      "                 Class     Images  Instances      Box(P          R      mAP50  mAP50-95): 100%|██████████| 10/10 [00:00<00:00, 10.91it/s]"
     ]
    },
    {
     "name": "stdout",
     "output_type": "stream",
     "text": [
      "                   all        257        257      0.961      0.946      0.975      0.601\n"
     ]
    },
    {
     "name": "stderr",
     "output_type": "stream",
     "text": [
      "\n"
     ]
    },
    {
     "name": "stdout",
     "output_type": "stream",
     "text": [
      "\n",
      "      Epoch    GPU_mem   box_loss   cls_loss   dfl_loss  Instances       Size\n"
     ]
    },
    {
     "name": "stderr",
     "output_type": "stream",
     "text": [
      "     32/100      17.5G     0.8281     0.6024      1.012          2       1920: 100%|██████████| 74/74 [00:17<00:00,  4.32it/s]\n",
      "                 Class     Images  Instances      Box(P          R      mAP50  mAP50-95): 100%|██████████| 10/10 [00:00<00:00, 11.83it/s]"
     ]
    },
    {
     "name": "stdout",
     "output_type": "stream",
     "text": [
      "                   all        257        257      0.969      0.959       0.98      0.581\n"
     ]
    },
    {
     "name": "stderr",
     "output_type": "stream",
     "text": [
      "\n"
     ]
    },
    {
     "name": "stdout",
     "output_type": "stream",
     "text": [
      "\n",
      "      Epoch    GPU_mem   box_loss   cls_loss   dfl_loss  Instances       Size\n"
     ]
    },
    {
     "name": "stderr",
     "output_type": "stream",
     "text": [
      "     33/100      17.5G     0.8283     0.5836      1.008          1       1920: 100%|██████████| 74/74 [00:17<00:00,  4.31it/s]\n",
      "                 Class     Images  Instances      Box(P          R      mAP50  mAP50-95): 100%|██████████| 10/10 [00:00<00:00, 11.07it/s]"
     ]
    },
    {
     "name": "stdout",
     "output_type": "stream",
     "text": [
      "                   all        257        257      0.964      0.961      0.982      0.607\n"
     ]
    },
    {
     "name": "stderr",
     "output_type": "stream",
     "text": [
      "\n"
     ]
    },
    {
     "name": "stdout",
     "output_type": "stream",
     "text": [
      "\n",
      "      Epoch    GPU_mem   box_loss   cls_loss   dfl_loss  Instances       Size\n"
     ]
    },
    {
     "name": "stderr",
     "output_type": "stream",
     "text": [
      "     34/100      17.5G     0.8389     0.6074       1.01          2       1920: 100%|██████████| 74/74 [00:17<00:00,  4.30it/s]\n",
      "                 Class     Images  Instances      Box(P          R      mAP50  mAP50-95): 100%|██████████| 10/10 [00:00<00:00, 11.02it/s]"
     ]
    },
    {
     "name": "stdout",
     "output_type": "stream",
     "text": [
      "                   all        257        257      0.958      0.953      0.979      0.624\n"
     ]
    },
    {
     "name": "stderr",
     "output_type": "stream",
     "text": [
      "\n"
     ]
    },
    {
     "name": "stdout",
     "output_type": "stream",
     "text": [
      "\n",
      "      Epoch    GPU_mem   box_loss   cls_loss   dfl_loss  Instances       Size\n"
     ]
    },
    {
     "name": "stderr",
     "output_type": "stream",
     "text": [
      "     35/100      17.5G     0.8286     0.5922      1.006          2       1920: 100%|██████████| 74/74 [00:17<00:00,  4.29it/s]\n",
      "                 Class     Images  Instances      Box(P          R      mAP50  mAP50-95): 100%|██████████| 10/10 [00:00<00:00, 10.82it/s]"
     ]
    },
    {
     "name": "stdout",
     "output_type": "stream",
     "text": [
      "                   all        257        257      0.981      0.949       0.98      0.609\n"
     ]
    },
    {
     "name": "stderr",
     "output_type": "stream",
     "text": [
      "\n"
     ]
    },
    {
     "name": "stdout",
     "output_type": "stream",
     "text": [
      "\n",
      "      Epoch    GPU_mem   box_loss   cls_loss   dfl_loss  Instances       Size\n"
     ]
    },
    {
     "name": "stderr",
     "output_type": "stream",
     "text": [
      "     36/100      17.5G     0.8368      0.583      1.013          7       1920: 100%|██████████| 74/74 [00:17<00:00,  4.29it/s]\n",
      "                 Class     Images  Instances      Box(P          R      mAP50  mAP50-95): 100%|██████████| 10/10 [00:00<00:00, 11.02it/s]"
     ]
    },
    {
     "name": "stdout",
     "output_type": "stream",
     "text": [
      "                   all        257        257      0.972      0.953      0.974      0.612\n"
     ]
    },
    {
     "name": "stderr",
     "output_type": "stream",
     "text": [
      "\n"
     ]
    },
    {
     "name": "stdout",
     "output_type": "stream",
     "text": [
      "\n",
      "      Epoch    GPU_mem   box_loss   cls_loss   dfl_loss  Instances       Size\n"
     ]
    },
    {
     "name": "stderr",
     "output_type": "stream",
     "text": [
      "     37/100      17.5G     0.8221     0.5563      1.013          2       1920: 100%|██████████| 74/74 [00:17<00:00,  4.29it/s]\n",
      "                 Class     Images  Instances      Box(P          R      mAP50  mAP50-95): 100%|██████████| 10/10 [00:00<00:00, 10.98it/s]"
     ]
    },
    {
     "name": "stdout",
     "output_type": "stream",
     "text": [
      "                   all        257        257      0.988      0.944      0.984      0.654\n"
     ]
    },
    {
     "name": "stderr",
     "output_type": "stream",
     "text": [
      "\n"
     ]
    },
    {
     "name": "stdout",
     "output_type": "stream",
     "text": [
      "\n",
      "      Epoch    GPU_mem   box_loss   cls_loss   dfl_loss  Instances       Size\n"
     ]
    },
    {
     "name": "stderr",
     "output_type": "stream",
     "text": [
      "     38/100      17.5G     0.8161     0.5498       1.01          2       1920: 100%|██████████| 74/74 [00:17<00:00,  4.28it/s]\n",
      "                 Class     Images  Instances      Box(P          R      mAP50  mAP50-95): 100%|██████████| 10/10 [00:00<00:00, 10.91it/s]"
     ]
    },
    {
     "name": "stdout",
     "output_type": "stream",
     "text": [
      "                   all        257        257      0.975      0.942      0.979      0.657\n"
     ]
    },
    {
     "name": "stderr",
     "output_type": "stream",
     "text": [
      "\n"
     ]
    },
    {
     "name": "stdout",
     "output_type": "stream",
     "text": [
      "\n",
      "      Epoch    GPU_mem   box_loss   cls_loss   dfl_loss  Instances       Size\n"
     ]
    },
    {
     "name": "stderr",
     "output_type": "stream",
     "text": [
      "     39/100      17.5G     0.8128     0.5638       1.01          4       1920: 100%|██████████| 74/74 [00:17<00:00,  4.29it/s]\n",
      "                 Class     Images  Instances      Box(P          R      mAP50  mAP50-95): 100%|██████████| 10/10 [00:00<00:00, 10.92it/s]"
     ]
    },
    {
     "name": "stdout",
     "output_type": "stream",
     "text": [
      "                   all        257        257      0.972      0.957      0.983       0.66\n"
     ]
    },
    {
     "name": "stderr",
     "output_type": "stream",
     "text": [
      "\n"
     ]
    },
    {
     "name": "stdout",
     "output_type": "stream",
     "text": [
      "\n",
      "      Epoch    GPU_mem   box_loss   cls_loss   dfl_loss  Instances       Size\n"
     ]
    },
    {
     "name": "stderr",
     "output_type": "stream",
     "text": [
      "     40/100      17.5G     0.8038     0.5562      1.022          3       1920: 100%|██████████| 74/74 [00:17<00:00,  4.29it/s]\n",
      "                 Class     Images  Instances      Box(P          R      mAP50  mAP50-95): 100%|██████████| 10/10 [00:00<00:00, 10.96it/s]"
     ]
    },
    {
     "name": "stdout",
     "output_type": "stream",
     "text": [
      "                   all        257        257       0.98       0.96      0.986      0.663\n"
     ]
    },
    {
     "name": "stderr",
     "output_type": "stream",
     "text": [
      "\n"
     ]
    },
    {
     "name": "stdout",
     "output_type": "stream",
     "text": [
      "\n",
      "      Epoch    GPU_mem   box_loss   cls_loss   dfl_loss  Instances       Size\n"
     ]
    },
    {
     "name": "stderr",
     "output_type": "stream",
     "text": [
      "     41/100      17.5G     0.8296     0.5728      1.024          5       1920: 100%|██████████| 74/74 [00:17<00:00,  4.28it/s]\n",
      "                 Class     Images  Instances      Box(P          R      mAP50  mAP50-95): 100%|██████████| 10/10 [00:00<00:00, 10.76it/s]"
     ]
    },
    {
     "name": "stdout",
     "output_type": "stream",
     "text": [
      "                   all        257        257      0.969      0.962      0.984      0.645\n"
     ]
    },
    {
     "name": "stderr",
     "output_type": "stream",
     "text": [
      "\n"
     ]
    },
    {
     "name": "stdout",
     "output_type": "stream",
     "text": [
      "\n",
      "      Epoch    GPU_mem   box_loss   cls_loss   dfl_loss  Instances       Size\n"
     ]
    },
    {
     "name": "stderr",
     "output_type": "stream",
     "text": [
      "     42/100      17.5G     0.7968     0.5681      1.003          4       1920: 100%|██████████| 74/74 [00:17<00:00,  4.28it/s]\n",
      "                 Class     Images  Instances      Box(P          R      mAP50  mAP50-95): 100%|██████████| 10/10 [00:00<00:00, 11.03it/s]"
     ]
    },
    {
     "name": "stdout",
     "output_type": "stream",
     "text": [
      "                   all        257        257      0.968      0.946      0.981      0.629\n"
     ]
    },
    {
     "name": "stderr",
     "output_type": "stream",
     "text": [
      "\n"
     ]
    },
    {
     "name": "stdout",
     "output_type": "stream",
     "text": [
      "\n",
      "      Epoch    GPU_mem   box_loss   cls_loss   dfl_loss  Instances       Size\n"
     ]
    },
    {
     "name": "stderr",
     "output_type": "stream",
     "text": [
      "     43/100      17.5G     0.7799     0.5197      1.021          5       1920: 100%|██████████| 74/74 [00:17<00:00,  4.30it/s]\n",
      "                 Class     Images  Instances      Box(P          R      mAP50  mAP50-95): 100%|██████████| 10/10 [00:00<00:00, 11.04it/s]"
     ]
    },
    {
     "name": "stdout",
     "output_type": "stream",
     "text": [
      "                   all        257        257      0.984      0.949      0.987      0.572\n"
     ]
    },
    {
     "name": "stderr",
     "output_type": "stream",
     "text": [
      "\n"
     ]
    },
    {
     "name": "stdout",
     "output_type": "stream",
     "text": [
      "\n",
      "      Epoch    GPU_mem   box_loss   cls_loss   dfl_loss  Instances       Size\n"
     ]
    },
    {
     "name": "stderr",
     "output_type": "stream",
     "text": [
      "     44/100      17.5G     0.7723     0.5272      1.007          3       1920: 100%|██████████| 74/74 [00:17<00:00,  4.30it/s]\n",
      "                 Class     Images  Instances      Box(P          R      mAP50  mAP50-95): 100%|██████████| 10/10 [00:00<00:00, 11.09it/s]"
     ]
    },
    {
     "name": "stdout",
     "output_type": "stream",
     "text": [
      "                   all        257        257      0.973      0.953      0.984      0.664\n"
     ]
    },
    {
     "name": "stderr",
     "output_type": "stream",
     "text": [
      "\n"
     ]
    },
    {
     "name": "stdout",
     "output_type": "stream",
     "text": [
      "\n",
      "      Epoch    GPU_mem   box_loss   cls_loss   dfl_loss  Instances       Size\n"
     ]
    },
    {
     "name": "stderr",
     "output_type": "stream",
     "text": [
      "     45/100      17.5G     0.7771     0.5365      1.008          1       1920: 100%|██████████| 74/74 [00:17<00:00,  4.31it/s]\n",
      "                 Class     Images  Instances      Box(P          R      mAP50  mAP50-95): 100%|██████████| 10/10 [00:00<00:00, 10.97it/s]"
     ]
    },
    {
     "name": "stdout",
     "output_type": "stream",
     "text": [
      "                   all        257        257      0.976      0.955      0.982      0.637\n"
     ]
    },
    {
     "name": "stderr",
     "output_type": "stream",
     "text": [
      "\n"
     ]
    },
    {
     "name": "stdout",
     "output_type": "stream",
     "text": [
      "\n",
      "      Epoch    GPU_mem   box_loss   cls_loss   dfl_loss  Instances       Size\n"
     ]
    },
    {
     "name": "stderr",
     "output_type": "stream",
     "text": [
      "     46/100      17.5G     0.7694     0.5066      1.004          2       1920: 100%|██████████| 74/74 [00:17<00:00,  4.29it/s]\n",
      "                 Class     Images  Instances      Box(P          R      mAP50  mAP50-95): 100%|██████████| 10/10 [00:00<00:00, 10.87it/s]"
     ]
    },
    {
     "name": "stdout",
     "output_type": "stream",
     "text": [
      "                   all        257        257      0.967      0.946      0.981      0.645\n"
     ]
    },
    {
     "name": "stderr",
     "output_type": "stream",
     "text": [
      "\n"
     ]
    },
    {
     "name": "stdout",
     "output_type": "stream",
     "text": [
      "\n",
      "      Epoch    GPU_mem   box_loss   cls_loss   dfl_loss  Instances       Size\n"
     ]
    },
    {
     "name": "stderr",
     "output_type": "stream",
     "text": [
      "     47/100      17.5G     0.7836     0.5286      1.002          3       1920: 100%|██████████| 74/74 [00:17<00:00,  4.29it/s]\n",
      "                 Class     Images  Instances      Box(P          R      mAP50  mAP50-95): 100%|██████████| 10/10 [00:00<00:00, 11.12it/s]"
     ]
    },
    {
     "name": "stdout",
     "output_type": "stream",
     "text": [
      "                   all        257        257      0.975      0.953      0.979      0.612\n"
     ]
    },
    {
     "name": "stderr",
     "output_type": "stream",
     "text": [
      "\n"
     ]
    },
    {
     "name": "stdout",
     "output_type": "stream",
     "text": [
      "\n",
      "      Epoch    GPU_mem   box_loss   cls_loss   dfl_loss  Instances       Size\n"
     ]
    },
    {
     "name": "stderr",
     "output_type": "stream",
     "text": [
      "     48/100      17.5G     0.7807     0.5462      1.012          3       1920: 100%|██████████| 74/74 [00:17<00:00,  4.31it/s]\n",
      "                 Class     Images  Instances      Box(P          R      mAP50  mAP50-95): 100%|██████████| 10/10 [00:00<00:00, 11.23it/s]"
     ]
    },
    {
     "name": "stdout",
     "output_type": "stream",
     "text": [
      "                   all        257        257      0.972      0.961      0.986      0.643\n"
     ]
    },
    {
     "name": "stderr",
     "output_type": "stream",
     "text": [
      "\n"
     ]
    },
    {
     "name": "stdout",
     "output_type": "stream",
     "text": [
      "\n",
      "      Epoch    GPU_mem   box_loss   cls_loss   dfl_loss  Instances       Size\n"
     ]
    },
    {
     "name": "stderr",
     "output_type": "stream",
     "text": [
      "     49/100      17.5G     0.7686     0.5255      1.003          4       1920: 100%|██████████| 74/74 [00:17<00:00,  4.32it/s]\n",
      "                 Class     Images  Instances      Box(P          R      mAP50  mAP50-95): 100%|██████████| 10/10 [00:00<00:00, 10.81it/s]"
     ]
    },
    {
     "name": "stdout",
     "output_type": "stream",
     "text": [
      "                   all        257        257      0.976      0.949      0.978      0.674\n"
     ]
    },
    {
     "name": "stderr",
     "output_type": "stream",
     "text": [
      "\n"
     ]
    },
    {
     "name": "stdout",
     "output_type": "stream",
     "text": [
      "\n",
      "      Epoch    GPU_mem   box_loss   cls_loss   dfl_loss  Instances       Size\n"
     ]
    },
    {
     "name": "stderr",
     "output_type": "stream",
     "text": [
      "     50/100      17.5G     0.7853     0.5252      1.002          2       1920: 100%|██████████| 74/74 [00:17<00:00,  4.31it/s]\n",
      "                 Class     Images  Instances      Box(P          R      mAP50  mAP50-95): 100%|██████████| 10/10 [00:00<00:00, 11.03it/s]"
     ]
    },
    {
     "name": "stdout",
     "output_type": "stream",
     "text": [
      "                   all        257        257      0.965      0.954      0.982      0.629\n"
     ]
    },
    {
     "name": "stderr",
     "output_type": "stream",
     "text": [
      "\n"
     ]
    },
    {
     "name": "stdout",
     "output_type": "stream",
     "text": [
      "\n",
      "      Epoch    GPU_mem   box_loss   cls_loss   dfl_loss  Instances       Size\n"
     ]
    },
    {
     "name": "stderr",
     "output_type": "stream",
     "text": [
      "     51/100      17.5G     0.7547     0.5202      1.012          4       1920: 100%|██████████| 74/74 [00:17<00:00,  4.31it/s]\n",
      "                 Class     Images  Instances      Box(P          R      mAP50  mAP50-95): 100%|██████████| 10/10 [00:00<00:00, 10.99it/s]"
     ]
    },
    {
     "name": "stdout",
     "output_type": "stream",
     "text": [
      "                   all        257        257      0.975      0.957      0.983      0.657\n"
     ]
    },
    {
     "name": "stderr",
     "output_type": "stream",
     "text": [
      "\n"
     ]
    },
    {
     "name": "stdout",
     "output_type": "stream",
     "text": [
      "\n",
      "      Epoch    GPU_mem   box_loss   cls_loss   dfl_loss  Instances       Size\n"
     ]
    },
    {
     "name": "stderr",
     "output_type": "stream",
     "text": [
      "     52/100      17.5G     0.7755      0.516       1.01          2       1920: 100%|██████████| 74/74 [00:17<00:00,  4.32it/s]\n",
      "                 Class     Images  Instances      Box(P          R      mAP50  mAP50-95): 100%|██████████| 10/10 [00:00<00:00, 10.83it/s]"
     ]
    },
    {
     "name": "stdout",
     "output_type": "stream",
     "text": [
      "                   all        257        257       0.98      0.967      0.991      0.621\n"
     ]
    },
    {
     "name": "stderr",
     "output_type": "stream",
     "text": [
      "\n"
     ]
    },
    {
     "name": "stdout",
     "output_type": "stream",
     "text": [
      "\n",
      "      Epoch    GPU_mem   box_loss   cls_loss   dfl_loss  Instances       Size\n"
     ]
    },
    {
     "name": "stderr",
     "output_type": "stream",
     "text": [
      "     53/100      17.5G       0.76     0.5121     0.9923          3       1920: 100%|██████████| 74/74 [00:17<00:00,  4.31it/s]\n",
      "                 Class     Images  Instances      Box(P          R      mAP50  mAP50-95): 100%|██████████| 10/10 [00:00<00:00, 11.05it/s]"
     ]
    },
    {
     "name": "stdout",
     "output_type": "stream",
     "text": [
      "                   all        257        257      0.972      0.963      0.985      0.646\n"
     ]
    },
    {
     "name": "stderr",
     "output_type": "stream",
     "text": [
      "\n"
     ]
    },
    {
     "name": "stdout",
     "output_type": "stream",
     "text": [
      "\n",
      "      Epoch    GPU_mem   box_loss   cls_loss   dfl_loss  Instances       Size\n"
     ]
    },
    {
     "name": "stderr",
     "output_type": "stream",
     "text": [
      "     54/100      17.5G     0.7378     0.5032     0.9956          5       1920: 100%|██████████| 74/74 [00:17<00:00,  4.31it/s]\n",
      "                 Class     Images  Instances      Box(P          R      mAP50  mAP50-95): 100%|██████████| 10/10 [00:00<00:00, 11.09it/s]"
     ]
    },
    {
     "name": "stdout",
     "output_type": "stream",
     "text": [
      "                   all        257        257      0.974      0.965      0.984       0.64\n"
     ]
    },
    {
     "name": "stderr",
     "output_type": "stream",
     "text": [
      "\n"
     ]
    },
    {
     "name": "stdout",
     "output_type": "stream",
     "text": [
      "\n",
      "      Epoch    GPU_mem   box_loss   cls_loss   dfl_loss  Instances       Size\n"
     ]
    },
    {
     "name": "stderr",
     "output_type": "stream",
     "text": [
      "     55/100      17.5G     0.7427     0.5185      1.004          2       1920: 100%|██████████| 74/74 [00:17<00:00,  4.30it/s]\n",
      "                 Class     Images  Instances      Box(P          R      mAP50  mAP50-95): 100%|██████████| 10/10 [00:00<00:00, 10.85it/s]"
     ]
    },
    {
     "name": "stdout",
     "output_type": "stream",
     "text": [
      "                   all        257        257      0.974      0.965      0.988      0.648\n"
     ]
    },
    {
     "name": "stderr",
     "output_type": "stream",
     "text": [
      "\n"
     ]
    },
    {
     "name": "stdout",
     "output_type": "stream",
     "text": [
      "\n",
      "      Epoch    GPU_mem   box_loss   cls_loss   dfl_loss  Instances       Size\n"
     ]
    },
    {
     "name": "stderr",
     "output_type": "stream",
     "text": [
      "     56/100      17.5G     0.7491     0.5065      1.003          4       1920: 100%|██████████| 74/74 [00:17<00:00,  4.30it/s]\n",
      "                 Class     Images  Instances      Box(P          R      mAP50  mAP50-95): 100%|██████████| 10/10 [00:00<00:00, 11.05it/s]"
     ]
    },
    {
     "name": "stdout",
     "output_type": "stream",
     "text": [
      "                   all        257        257      0.974      0.961      0.985      0.654\n"
     ]
    },
    {
     "name": "stderr",
     "output_type": "stream",
     "text": [
      "\n"
     ]
    },
    {
     "name": "stdout",
     "output_type": "stream",
     "text": [
      "\n",
      "      Epoch    GPU_mem   box_loss   cls_loss   dfl_loss  Instances       Size\n"
     ]
    },
    {
     "name": "stderr",
     "output_type": "stream",
     "text": [
      "     57/100      17.5G     0.7539     0.5093     0.9955          3       1920: 100%|██████████| 74/74 [00:17<00:00,  4.31it/s]\n",
      "                 Class     Images  Instances      Box(P          R      mAP50  mAP50-95): 100%|██████████| 10/10 [00:00<00:00, 11.06it/s]"
     ]
    },
    {
     "name": "stdout",
     "output_type": "stream",
     "text": [
      "                   all        257        257      0.967      0.957      0.982      0.655\n"
     ]
    },
    {
     "name": "stderr",
     "output_type": "stream",
     "text": [
      "\n"
     ]
    },
    {
     "name": "stdout",
     "output_type": "stream",
     "text": [
      "\n",
      "      Epoch    GPU_mem   box_loss   cls_loss   dfl_loss  Instances       Size\n"
     ]
    },
    {
     "name": "stderr",
     "output_type": "stream",
     "text": [
      "     58/100      17.5G      0.772     0.5194      1.012          3       1920: 100%|██████████| 74/74 [00:17<00:00,  4.32it/s]\n",
      "                 Class     Images  Instances      Box(P          R      mAP50  mAP50-95): 100%|██████████| 10/10 [00:00<00:00, 10.97it/s]"
     ]
    },
    {
     "name": "stdout",
     "output_type": "stream",
     "text": [
      "                   all        257        257      0.984      0.953      0.985      0.644\n"
     ]
    },
    {
     "name": "stderr",
     "output_type": "stream",
     "text": [
      "\n"
     ]
    },
    {
     "name": "stdout",
     "output_type": "stream",
     "text": [
      "\n",
      "      Epoch    GPU_mem   box_loss   cls_loss   dfl_loss  Instances       Size\n"
     ]
    },
    {
     "name": "stderr",
     "output_type": "stream",
     "text": [
      "     59/100      17.5G     0.7515      0.514      1.001          3       1920: 100%|██████████| 74/74 [00:17<00:00,  4.31it/s]\n",
      "                 Class     Images  Instances      Box(P          R      mAP50  mAP50-95): 100%|██████████| 10/10 [00:00<00:00, 10.97it/s]"
     ]
    },
    {
     "name": "stdout",
     "output_type": "stream",
     "text": [
      "                   all        257        257      0.954      0.961      0.982      0.671\n"
     ]
    },
    {
     "name": "stderr",
     "output_type": "stream",
     "text": [
      "\n"
     ]
    },
    {
     "name": "stdout",
     "output_type": "stream",
     "text": [
      "\n",
      "      Epoch    GPU_mem   box_loss   cls_loss   dfl_loss  Instances       Size\n"
     ]
    },
    {
     "name": "stderr",
     "output_type": "stream",
     "text": [
      "     60/100      17.5G     0.7599     0.5015      1.015          2       1920: 100%|██████████| 74/74 [00:17<00:00,  4.31it/s]\n",
      "                 Class     Images  Instances      Box(P          R      mAP50  mAP50-95): 100%|██████████| 10/10 [00:00<00:00, 11.04it/s]"
     ]
    },
    {
     "name": "stdout",
     "output_type": "stream",
     "text": [
      "                   all        257        257      0.979      0.942      0.988       0.68\n"
     ]
    },
    {
     "name": "stderr",
     "output_type": "stream",
     "text": [
      "\n"
     ]
    },
    {
     "name": "stdout",
     "output_type": "stream",
     "text": [
      "\n",
      "      Epoch    GPU_mem   box_loss   cls_loss   dfl_loss  Instances       Size\n"
     ]
    },
    {
     "name": "stderr",
     "output_type": "stream",
     "text": [
      "     61/100      17.5G     0.7427     0.5157      0.996          5       1920: 100%|██████████| 74/74 [00:17<00:00,  4.31it/s]\n",
      "                 Class     Images  Instances      Box(P          R      mAP50  mAP50-95): 100%|██████████| 10/10 [00:00<00:00, 10.96it/s]"
     ]
    },
    {
     "name": "stdout",
     "output_type": "stream",
     "text": [
      "                   all        257        257      0.968      0.946      0.979      0.643\n"
     ]
    },
    {
     "name": "stderr",
     "output_type": "stream",
     "text": [
      "\n"
     ]
    },
    {
     "name": "stdout",
     "output_type": "stream",
     "text": [
      "\n",
      "      Epoch    GPU_mem   box_loss   cls_loss   dfl_loss  Instances       Size\n"
     ]
    },
    {
     "name": "stderr",
     "output_type": "stream",
     "text": [
      "     62/100      17.5G     0.7354     0.4945      1.007          5       1920: 100%|██████████| 74/74 [00:17<00:00,  4.32it/s]\n",
      "                 Class     Images  Instances      Box(P          R      mAP50  mAP50-95): 100%|██████████| 10/10 [00:00<00:00, 10.96it/s]"
     ]
    },
    {
     "name": "stdout",
     "output_type": "stream",
     "text": [
      "                   all        257        257      0.985       0.93      0.984      0.658\n"
     ]
    },
    {
     "name": "stderr",
     "output_type": "stream",
     "text": [
      "\n"
     ]
    },
    {
     "name": "stdout",
     "output_type": "stream",
     "text": [
      "\n",
      "      Epoch    GPU_mem   box_loss   cls_loss   dfl_loss  Instances       Size\n"
     ]
    },
    {
     "name": "stderr",
     "output_type": "stream",
     "text": [
      "     63/100      17.5G     0.7298     0.4937      1.006          3       1920: 100%|██████████| 74/74 [00:17<00:00,  4.31it/s]\n",
      "                 Class     Images  Instances      Box(P          R      mAP50  mAP50-95): 100%|██████████| 10/10 [00:00<00:00, 11.28it/s]"
     ]
    },
    {
     "name": "stdout",
     "output_type": "stream",
     "text": [
      "                   all        257        257      0.969      0.963      0.986       0.67\n"
     ]
    },
    {
     "name": "stderr",
     "output_type": "stream",
     "text": [
      "\n"
     ]
    },
    {
     "name": "stdout",
     "output_type": "stream",
     "text": [
      "\n",
      "      Epoch    GPU_mem   box_loss   cls_loss   dfl_loss  Instances       Size\n"
     ]
    },
    {
     "name": "stderr",
     "output_type": "stream",
     "text": [
      "     64/100      17.5G     0.7174     0.4849      1.004          3       1920: 100%|██████████| 74/74 [00:17<00:00,  4.32it/s]\n",
      "                 Class     Images  Instances      Box(P          R      mAP50  mAP50-95): 100%|██████████| 10/10 [00:00<00:00, 11.11it/s]"
     ]
    },
    {
     "name": "stdout",
     "output_type": "stream",
     "text": [
      "                   all        257        257      0.984      0.949      0.986      0.673\n"
     ]
    },
    {
     "name": "stderr",
     "output_type": "stream",
     "text": [
      "\n"
     ]
    },
    {
     "name": "stdout",
     "output_type": "stream",
     "text": [
      "\n",
      "      Epoch    GPU_mem   box_loss   cls_loss   dfl_loss  Instances       Size\n"
     ]
    },
    {
     "name": "stderr",
     "output_type": "stream",
     "text": [
      "     65/100      17.5G     0.7472     0.4923      1.007          4       1920: 100%|██████████| 74/74 [00:17<00:00,  4.29it/s]\n",
      "                 Class     Images  Instances      Box(P          R      mAP50  mAP50-95): 100%|██████████| 10/10 [00:00<00:00, 11.01it/s]"
     ]
    },
    {
     "name": "stdout",
     "output_type": "stream",
     "text": [
      "                   all        257        257      0.982      0.953      0.986      0.663\n"
     ]
    },
    {
     "name": "stderr",
     "output_type": "stream",
     "text": [
      "\n"
     ]
    },
    {
     "name": "stdout",
     "output_type": "stream",
     "text": [
      "\n",
      "      Epoch    GPU_mem   box_loss   cls_loss   dfl_loss  Instances       Size\n"
     ]
    },
    {
     "name": "stderr",
     "output_type": "stream",
     "text": [
      "     66/100      17.5G     0.7261     0.4805      1.009          3       1920: 100%|██████████| 74/74 [00:17<00:00,  4.30it/s]\n",
      "                 Class     Images  Instances      Box(P          R      mAP50  mAP50-95): 100%|██████████| 10/10 [00:00<00:00, 11.02it/s]"
     ]
    },
    {
     "name": "stdout",
     "output_type": "stream",
     "text": [
      "                   all        257        257      0.964      0.938      0.983      0.659\n"
     ]
    },
    {
     "name": "stderr",
     "output_type": "stream",
     "text": [
      "\n"
     ]
    },
    {
     "name": "stdout",
     "output_type": "stream",
     "text": [
      "\n",
      "      Epoch    GPU_mem   box_loss   cls_loss   dfl_loss  Instances       Size\n"
     ]
    },
    {
     "name": "stderr",
     "output_type": "stream",
     "text": [
      "     67/100      17.5G     0.6846     0.4784     0.9908          0       1920: 100%|██████████| 74/74 [00:17<00:00,  4.31it/s]\n",
      "                 Class     Images  Instances      Box(P          R      mAP50  mAP50-95): 100%|██████████| 10/10 [00:00<00:00, 10.90it/s]"
     ]
    },
    {
     "name": "stdout",
     "output_type": "stream",
     "text": [
      "                   all        257        257      0.973      0.942      0.983      0.684\n"
     ]
    },
    {
     "name": "stderr",
     "output_type": "stream",
     "text": [
      "\n"
     ]
    },
    {
     "name": "stdout",
     "output_type": "stream",
     "text": [
      "\n",
      "      Epoch    GPU_mem   box_loss   cls_loss   dfl_loss  Instances       Size\n"
     ]
    },
    {
     "name": "stderr",
     "output_type": "stream",
     "text": [
      "     68/100      17.5G     0.6901      0.462      0.993          2       1920: 100%|██████████| 74/74 [00:17<00:00,  4.31it/s]\n",
      "                 Class     Images  Instances      Box(P          R      mAP50  mAP50-95): 100%|██████████| 10/10 [00:00<00:00, 10.92it/s]"
     ]
    },
    {
     "name": "stdout",
     "output_type": "stream",
     "text": [
      "                   all        257        257      0.988       0.94      0.986       0.69\n"
     ]
    },
    {
     "name": "stderr",
     "output_type": "stream",
     "text": [
      "\n"
     ]
    },
    {
     "name": "stdout",
     "output_type": "stream",
     "text": [
      "\n",
      "      Epoch    GPU_mem   box_loss   cls_loss   dfl_loss  Instances       Size\n"
     ]
    },
    {
     "name": "stderr",
     "output_type": "stream",
     "text": [
      "     69/100      17.5G     0.7295     0.4958     0.9956          4       1920: 100%|██████████| 74/74 [00:17<00:00,  4.31it/s]\n",
      "                 Class     Images  Instances      Box(P          R      mAP50  mAP50-95): 100%|██████████| 10/10 [00:00<00:00, 11.05it/s]"
     ]
    },
    {
     "name": "stdout",
     "output_type": "stream",
     "text": [
      "                   all        257        257      0.974      0.957      0.987      0.669\n"
     ]
    },
    {
     "name": "stderr",
     "output_type": "stream",
     "text": [
      "\n"
     ]
    },
    {
     "name": "stdout",
     "output_type": "stream",
     "text": [
      "\n",
      "      Epoch    GPU_mem   box_loss   cls_loss   dfl_loss  Instances       Size\n"
     ]
    },
    {
     "name": "stderr",
     "output_type": "stream",
     "text": [
      "     70/100      17.5G     0.7058     0.4956      1.009          2       1920: 100%|██████████| 74/74 [00:17<00:00,  4.30it/s]\n",
      "                 Class     Images  Instances      Box(P          R      mAP50  mAP50-95): 100%|██████████| 10/10 [00:00<00:00, 10.93it/s]"
     ]
    },
    {
     "name": "stdout",
     "output_type": "stream",
     "text": [
      "                   all        257        257      0.987      0.969      0.989      0.681\n"
     ]
    },
    {
     "name": "stderr",
     "output_type": "stream",
     "text": [
      "\n"
     ]
    },
    {
     "name": "stdout",
     "output_type": "stream",
     "text": [
      "\n",
      "      Epoch    GPU_mem   box_loss   cls_loss   dfl_loss  Instances       Size\n"
     ]
    },
    {
     "name": "stderr",
     "output_type": "stream",
     "text": [
      "     71/100      17.5G     0.7275     0.4876          1          5       1920: 100%|██████████| 74/74 [00:17<00:00,  4.31it/s]\n",
      "                 Class     Images  Instances      Box(P          R      mAP50  mAP50-95): 100%|██████████| 10/10 [00:00<00:00, 10.90it/s]"
     ]
    },
    {
     "name": "stdout",
     "output_type": "stream",
     "text": [
      "                   all        257        257      0.982      0.953      0.988       0.68\n"
     ]
    },
    {
     "name": "stderr",
     "output_type": "stream",
     "text": [
      "\n"
     ]
    },
    {
     "name": "stdout",
     "output_type": "stream",
     "text": [
      "\n",
      "      Epoch    GPU_mem   box_loss   cls_loss   dfl_loss  Instances       Size\n"
     ]
    },
    {
     "name": "stderr",
     "output_type": "stream",
     "text": [
      "     72/100      17.5G     0.7122      0.469      1.001          3       1920: 100%|██████████| 74/74 [00:17<00:00,  4.30it/s]\n",
      "                 Class     Images  Instances      Box(P          R      mAP50  mAP50-95): 100%|██████████| 10/10 [00:00<00:00, 10.97it/s]"
     ]
    },
    {
     "name": "stdout",
     "output_type": "stream",
     "text": [
      "                   all        257        257      0.965      0.961      0.986      0.668\n"
     ]
    },
    {
     "name": "stderr",
     "output_type": "stream",
     "text": [
      "\n"
     ]
    },
    {
     "name": "stdout",
     "output_type": "stream",
     "text": [
      "\n",
      "      Epoch    GPU_mem   box_loss   cls_loss   dfl_loss  Instances       Size\n"
     ]
    },
    {
     "name": "stderr",
     "output_type": "stream",
     "text": [
      "     73/100      17.5G     0.7052     0.4722      1.001          4       1920: 100%|██████████| 74/74 [00:17<00:00,  4.30it/s]\n",
      "                 Class     Images  Instances      Box(P          R      mAP50  mAP50-95): 100%|██████████| 10/10 [00:00<00:00, 10.90it/s]"
     ]
    },
    {
     "name": "stdout",
     "output_type": "stream",
     "text": [
      "                   all        257        257      0.975      0.957      0.988      0.658\n"
     ]
    },
    {
     "name": "stderr",
     "output_type": "stream",
     "text": [
      "\n"
     ]
    },
    {
     "name": "stdout",
     "output_type": "stream",
     "text": [
      "\n",
      "      Epoch    GPU_mem   box_loss   cls_loss   dfl_loss  Instances       Size\n"
     ]
    },
    {
     "name": "stderr",
     "output_type": "stream",
     "text": [
      "     74/100      17.5G     0.6981     0.4523      1.004          5       1920: 100%|██████████| 74/74 [00:17<00:00,  4.30it/s]\n",
      "                 Class     Images  Instances      Box(P          R      mAP50  mAP50-95): 100%|██████████| 10/10 [00:00<00:00, 10.89it/s]"
     ]
    },
    {
     "name": "stdout",
     "output_type": "stream",
     "text": [
      "                   all        257        257      0.976      0.969      0.992      0.712\n"
     ]
    },
    {
     "name": "stderr",
     "output_type": "stream",
     "text": [
      "\n"
     ]
    },
    {
     "name": "stdout",
     "output_type": "stream",
     "text": [
      "\n",
      "      Epoch    GPU_mem   box_loss   cls_loss   dfl_loss  Instances       Size\n"
     ]
    },
    {
     "name": "stderr",
     "output_type": "stream",
     "text": [
      "     75/100      17.5G     0.7011     0.4636     0.9946          3       1920: 100%|██████████| 74/74 [00:17<00:00,  4.27it/s]\n",
      "                 Class     Images  Instances      Box(P          R      mAP50  mAP50-95): 100%|██████████| 10/10 [00:00<00:00, 11.01it/s]"
     ]
    },
    {
     "name": "stdout",
     "output_type": "stream",
     "text": [
      "                   all        257        257      0.961      0.965      0.986      0.665\n"
     ]
    },
    {
     "name": "stderr",
     "output_type": "stream",
     "text": [
      "\n"
     ]
    },
    {
     "name": "stdout",
     "output_type": "stream",
     "text": [
      "\n",
      "      Epoch    GPU_mem   box_loss   cls_loss   dfl_loss  Instances       Size\n"
     ]
    },
    {
     "name": "stderr",
     "output_type": "stream",
     "text": [
      "     76/100      17.5G     0.6904     0.4442      1.007          4       1920: 100%|██████████| 74/74 [00:17<00:00,  4.29it/s]\n",
      "                 Class     Images  Instances      Box(P          R      mAP50  mAP50-95): 100%|██████████| 10/10 [00:00<00:00, 10.80it/s]"
     ]
    },
    {
     "name": "stdout",
     "output_type": "stream",
     "text": [
      "                   all        257        257      0.988      0.948      0.991      0.675\n"
     ]
    },
    {
     "name": "stderr",
     "output_type": "stream",
     "text": [
      "\n"
     ]
    },
    {
     "name": "stdout",
     "output_type": "stream",
     "text": [
      "\n",
      "      Epoch    GPU_mem   box_loss   cls_loss   dfl_loss  Instances       Size\n"
     ]
    },
    {
     "name": "stderr",
     "output_type": "stream",
     "text": [
      "     77/100      17.5G     0.6813     0.4671     0.9981          3       1920: 100%|██████████| 74/74 [00:17<00:00,  4.30it/s]\n",
      "                 Class     Images  Instances      Box(P          R      mAP50  mAP50-95): 100%|██████████| 10/10 [00:00<00:00, 10.93it/s]"
     ]
    },
    {
     "name": "stdout",
     "output_type": "stream",
     "text": [
      "                   all        257        257      0.967      0.965      0.988      0.667\n"
     ]
    },
    {
     "name": "stderr",
     "output_type": "stream",
     "text": [
      "\n"
     ]
    },
    {
     "name": "stdout",
     "output_type": "stream",
     "text": [
      "\n",
      "      Epoch    GPU_mem   box_loss   cls_loss   dfl_loss  Instances       Size\n"
     ]
    },
    {
     "name": "stderr",
     "output_type": "stream",
     "text": [
      "     78/100      17.5G      0.688     0.4661     0.9926          2       1920: 100%|██████████| 74/74 [00:17<00:00,  4.29it/s]\n",
      "                 Class     Images  Instances      Box(P          R      mAP50  mAP50-95): 100%|██████████| 10/10 [00:00<00:00, 11.06it/s]"
     ]
    },
    {
     "name": "stdout",
     "output_type": "stream",
     "text": [
      "                   all        257        257      0.976      0.942      0.986      0.672\n"
     ]
    },
    {
     "name": "stderr",
     "output_type": "stream",
     "text": [
      "\n"
     ]
    },
    {
     "name": "stdout",
     "output_type": "stream",
     "text": [
      "\n",
      "      Epoch    GPU_mem   box_loss   cls_loss   dfl_loss  Instances       Size\n"
     ]
    },
    {
     "name": "stderr",
     "output_type": "stream",
     "text": [
      "     79/100      17.5G     0.6672     0.4472     0.9955          2       1920: 100%|██████████| 74/74 [00:17<00:00,  4.29it/s]\n",
      "                 Class     Images  Instances      Box(P          R      mAP50  mAP50-95): 100%|██████████| 10/10 [00:00<00:00, 11.04it/s]"
     ]
    },
    {
     "name": "stdout",
     "output_type": "stream",
     "text": [
      "                   all        257        257      0.984      0.961      0.992      0.641\n"
     ]
    },
    {
     "name": "stderr",
     "output_type": "stream",
     "text": [
      "\n"
     ]
    },
    {
     "name": "stdout",
     "output_type": "stream",
     "text": [
      "\n",
      "      Epoch    GPU_mem   box_loss   cls_loss   dfl_loss  Instances       Size\n"
     ]
    },
    {
     "name": "stderr",
     "output_type": "stream",
     "text": [
      "     80/100      17.5G      0.697     0.4523     0.9981          2       1920: 100%|██████████| 74/74 [00:17<00:00,  4.29it/s]\n",
      "                 Class     Images  Instances      Box(P          R      mAP50  mAP50-95): 100%|██████████| 10/10 [00:00<00:00, 10.77it/s]"
     ]
    },
    {
     "name": "stdout",
     "output_type": "stream",
     "text": [
      "                   all        257        257      0.984      0.957      0.991      0.679\n"
     ]
    },
    {
     "name": "stderr",
     "output_type": "stream",
     "text": [
      "\n"
     ]
    },
    {
     "name": "stdout",
     "output_type": "stream",
     "text": [
      "\n",
      "      Epoch    GPU_mem   box_loss   cls_loss   dfl_loss  Instances       Size\n"
     ]
    },
    {
     "name": "stderr",
     "output_type": "stream",
     "text": [
      "     81/100      17.5G     0.6787     0.4511     0.9962          4       1920: 100%|██████████| 74/74 [00:17<00:00,  4.29it/s]\n",
      "                 Class     Images  Instances      Box(P          R      mAP50  mAP50-95): 100%|██████████| 10/10 [00:00<00:00, 11.09it/s]"
     ]
    },
    {
     "name": "stdout",
     "output_type": "stream",
     "text": [
      "                   all        257        257      0.977      0.974      0.993      0.669\n"
     ]
    },
    {
     "name": "stderr",
     "output_type": "stream",
     "text": [
      "\n"
     ]
    },
    {
     "name": "stdout",
     "output_type": "stream",
     "text": [
      "\n",
      "      Epoch    GPU_mem   box_loss   cls_loss   dfl_loss  Instances       Size\n"
     ]
    },
    {
     "name": "stderr",
     "output_type": "stream",
     "text": [
      "     82/100      17.5G     0.6745     0.4449          1          3       1920: 100%|██████████| 74/74 [00:17<00:00,  4.29it/s]\n",
      "                 Class     Images  Instances      Box(P          R      mAP50  mAP50-95): 100%|██████████| 10/10 [00:00<00:00, 11.04it/s]"
     ]
    },
    {
     "name": "stdout",
     "output_type": "stream",
     "text": [
      "                   all        257        257      0.979      0.965      0.992      0.685\n"
     ]
    },
    {
     "name": "stderr",
     "output_type": "stream",
     "text": [
      "\n"
     ]
    },
    {
     "name": "stdout",
     "output_type": "stream",
     "text": [
      "\n",
      "      Epoch    GPU_mem   box_loss   cls_loss   dfl_loss  Instances       Size\n"
     ]
    },
    {
     "name": "stderr",
     "output_type": "stream",
     "text": [
      "     83/100      17.5G     0.6678     0.4391      1.005          6       1920: 100%|██████████| 74/74 [00:17<00:00,  4.29it/s]\n",
      "                 Class     Images  Instances      Box(P          R      mAP50  mAP50-95): 100%|██████████| 10/10 [00:00<00:00, 11.10it/s]"
     ]
    },
    {
     "name": "stdout",
     "output_type": "stream",
     "text": [
      "                   all        257        257      0.972       0.96      0.988      0.658\n"
     ]
    },
    {
     "name": "stderr",
     "output_type": "stream",
     "text": [
      "\n"
     ]
    },
    {
     "name": "stdout",
     "output_type": "stream",
     "text": [
      "\n",
      "      Epoch    GPU_mem   box_loss   cls_loss   dfl_loss  Instances       Size\n"
     ]
    },
    {
     "name": "stderr",
     "output_type": "stream",
     "text": [
      "     84/100      17.5G     0.6864     0.4617      1.046          3       1920: 100%|██████████| 74/74 [00:17<00:00,  4.30it/s]\n",
      "                 Class     Images  Instances      Box(P          R      mAP50  mAP50-95): 100%|██████████| 10/10 [00:00<00:00, 11.07it/s]"
     ]
    },
    {
     "name": "stdout",
     "output_type": "stream",
     "text": [
      "                   all        257        257       0.98      0.965      0.992       0.68\n"
     ]
    },
    {
     "name": "stderr",
     "output_type": "stream",
     "text": [
      "\n"
     ]
    },
    {
     "name": "stdout",
     "output_type": "stream",
     "text": [
      "\n",
      "      Epoch    GPU_mem   box_loss   cls_loss   dfl_loss  Instances       Size\n"
     ]
    },
    {
     "name": "stderr",
     "output_type": "stream",
     "text": [
      "     85/100      17.5G     0.6703      0.437      1.006          7       1920: 100%|██████████| 74/74 [00:16<00:00,  4.37it/s]\n",
      "                 Class     Images  Instances      Box(P          R      mAP50  mAP50-95): 100%|██████████| 10/10 [00:00<00:00, 11.75it/s]"
     ]
    },
    {
     "name": "stdout",
     "output_type": "stream",
     "text": [
      "                   all        257        257      0.984      0.961      0.992      0.687\n"
     ]
    },
    {
     "name": "stderr",
     "output_type": "stream",
     "text": [
      "\n"
     ]
    },
    {
     "name": "stdout",
     "output_type": "stream",
     "text": [
      "\n",
      "      Epoch    GPU_mem   box_loss   cls_loss   dfl_loss  Instances       Size\n"
     ]
    },
    {
     "name": "stderr",
     "output_type": "stream",
     "text": [
      "     86/100      17.5G      0.655     0.4361      0.989          1       1920: 100%|██████████| 74/74 [00:17<00:00,  4.31it/s]\n",
      "                 Class     Images  Instances      Box(P          R      mAP50  mAP50-95): 100%|██████████| 10/10 [00:00<00:00, 11.13it/s]"
     ]
    },
    {
     "name": "stdout",
     "output_type": "stream",
     "text": [
      "                   all        257        257      0.988      0.956      0.992      0.683\n"
     ]
    },
    {
     "name": "stderr",
     "output_type": "stream",
     "text": [
      "\n"
     ]
    },
    {
     "name": "stdout",
     "output_type": "stream",
     "text": [
      "\n",
      "      Epoch    GPU_mem   box_loss   cls_loss   dfl_loss  Instances       Size\n"
     ]
    },
    {
     "name": "stderr",
     "output_type": "stream",
     "text": [
      "     87/100      17.5G     0.6618     0.4513      1.002          4       1920: 100%|██████████| 74/74 [00:17<00:00,  4.29it/s]\n",
      "                 Class     Images  Instances      Box(P          R      mAP50  mAP50-95): 100%|██████████| 10/10 [00:00<00:00, 10.93it/s]"
     ]
    },
    {
     "name": "stdout",
     "output_type": "stream",
     "text": [
      "                   all        257        257      0.978      0.946      0.986      0.682\n"
     ]
    },
    {
     "name": "stderr",
     "output_type": "stream",
     "text": [
      "\n"
     ]
    },
    {
     "name": "stdout",
     "output_type": "stream",
     "text": [
      "\n",
      "      Epoch    GPU_mem   box_loss   cls_loss   dfl_loss  Instances       Size\n"
     ]
    },
    {
     "name": "stderr",
     "output_type": "stream",
     "text": [
      "     88/100      17.5G     0.6564     0.4342     0.9967          4       1920: 100%|██████████| 74/74 [00:17<00:00,  4.29it/s]\n",
      "                 Class     Images  Instances      Box(P          R      mAP50  mAP50-95): 100%|██████████| 10/10 [00:00<00:00, 11.13it/s]"
     ]
    },
    {
     "name": "stdout",
     "output_type": "stream",
     "text": [
      "                   all        257        257      0.976      0.962      0.991      0.711\n"
     ]
    },
    {
     "name": "stderr",
     "output_type": "stream",
     "text": [
      "\n"
     ]
    },
    {
     "name": "stdout",
     "output_type": "stream",
     "text": [
      "\n",
      "      Epoch    GPU_mem   box_loss   cls_loss   dfl_loss  Instances       Size\n"
     ]
    },
    {
     "name": "stderr",
     "output_type": "stream",
     "text": [
      "     89/100      17.5G      0.647     0.4356     0.9937          3       1920: 100%|██████████| 74/74 [00:17<00:00,  4.30it/s]\n",
      "                 Class     Images  Instances      Box(P          R      mAP50  mAP50-95): 100%|██████████| 10/10 [00:00<00:00, 10.96it/s]"
     ]
    },
    {
     "name": "stdout",
     "output_type": "stream",
     "text": [
      "                   all        257        257       0.98      0.971      0.992      0.696\n"
     ]
    },
    {
     "name": "stderr",
     "output_type": "stream",
     "text": [
      "\n"
     ]
    },
    {
     "name": "stdout",
     "output_type": "stream",
     "text": [
      "\n",
      "      Epoch    GPU_mem   box_loss   cls_loss   dfl_loss  Instances       Size\n"
     ]
    },
    {
     "name": "stderr",
     "output_type": "stream",
     "text": [
      "     90/100      17.5G     0.6403      0.428     0.9884          2       1920: 100%|██████████| 74/74 [00:17<00:00,  4.29it/s]\n",
      "                 Class     Images  Instances      Box(P          R      mAP50  mAP50-95): 100%|██████████| 10/10 [00:00<00:00, 10.96it/s]"
     ]
    },
    {
     "name": "stdout",
     "output_type": "stream",
     "text": [
      "                   all        257        257      0.991      0.953       0.99      0.696\n"
     ]
    },
    {
     "name": "stderr",
     "output_type": "stream",
     "text": [
      "\n"
     ]
    },
    {
     "name": "stdout",
     "output_type": "stream",
     "text": [
      "Closing dataloader mosaic\n",
      "\n",
      "      Epoch    GPU_mem   box_loss   cls_loss   dfl_loss  Instances       Size\n"
     ]
    },
    {
     "name": "stderr",
     "output_type": "stream",
     "text": [
      "     91/100      17.5G     0.6458     0.4375      1.005          2       1920: 100%|██████████| 74/74 [00:18<00:00,  4.06it/s]\n",
      "                 Class     Images  Instances      Box(P          R      mAP50  mAP50-95): 100%|██████████| 10/10 [00:00<00:00, 10.95it/s]"
     ]
    },
    {
     "name": "stdout",
     "output_type": "stream",
     "text": [
      "                   all        257        257      0.972      0.965       0.99      0.684\n"
     ]
    },
    {
     "name": "stderr",
     "output_type": "stream",
     "text": [
      "\n"
     ]
    },
    {
     "name": "stdout",
     "output_type": "stream",
     "text": [
      "\n",
      "      Epoch    GPU_mem   box_loss   cls_loss   dfl_loss  Instances       Size\n"
     ]
    },
    {
     "name": "stderr",
     "output_type": "stream",
     "text": [
      "     92/100      17.5G     0.6458     0.4304      0.997          2       1920: 100%|██████████| 74/74 [00:17<00:00,  4.35it/s]\n",
      "                 Class     Images  Instances      Box(P          R      mAP50  mAP50-95): 100%|██████████| 10/10 [00:00<00:00, 11.07it/s]"
     ]
    },
    {
     "name": "stdout",
     "output_type": "stream",
     "text": [
      "                   all        257        257       0.98      0.966      0.991      0.668\n"
     ]
    },
    {
     "name": "stderr",
     "output_type": "stream",
     "text": [
      "\n"
     ]
    },
    {
     "name": "stdout",
     "output_type": "stream",
     "text": [
      "\n",
      "      Epoch    GPU_mem   box_loss   cls_loss   dfl_loss  Instances       Size\n"
     ]
    },
    {
     "name": "stderr",
     "output_type": "stream",
     "text": [
      "     93/100      17.5G     0.6393     0.4237     0.9961          1       1920: 100%|██████████| 74/74 [00:17<00:00,  4.34it/s]\n",
      "                 Class     Images  Instances      Box(P          R      mAP50  mAP50-95): 100%|██████████| 10/10 [00:00<00:00, 11.17it/s]"
     ]
    },
    {
     "name": "stdout",
     "output_type": "stream",
     "text": [
      "                   all        257        257      0.976      0.954      0.987      0.676\n"
     ]
    },
    {
     "name": "stderr",
     "output_type": "stream",
     "text": [
      "\n"
     ]
    },
    {
     "name": "stdout",
     "output_type": "stream",
     "text": [
      "\n",
      "      Epoch    GPU_mem   box_loss   cls_loss   dfl_loss  Instances       Size\n"
     ]
    },
    {
     "name": "stderr",
     "output_type": "stream",
     "text": [
      "     94/100      17.5G     0.6219     0.4164     0.9943          2       1920: 100%|██████████| 74/74 [00:17<00:00,  4.35it/s]\n",
      "                 Class     Images  Instances      Box(P          R      mAP50  mAP50-95): 100%|██████████| 10/10 [00:00<00:00, 11.11it/s]"
     ]
    },
    {
     "name": "stdout",
     "output_type": "stream",
     "text": [
      "                   all        257        257      0.984      0.953      0.987      0.685\n"
     ]
    },
    {
     "name": "stderr",
     "output_type": "stream",
     "text": [
      "\n"
     ]
    },
    {
     "name": "stdout",
     "output_type": "stream",
     "text": [
      "\n",
      "      Epoch    GPU_mem   box_loss   cls_loss   dfl_loss  Instances       Size\n"
     ]
    },
    {
     "name": "stderr",
     "output_type": "stream",
     "text": [
      "     95/100      17.5G     0.6367     0.4269     0.9973          2       1920: 100%|██████████| 74/74 [00:17<00:00,  4.35it/s]\n",
      "                 Class     Images  Instances      Box(P          R      mAP50  mAP50-95): 100%|██████████| 10/10 [00:00<00:00, 11.19it/s]"
     ]
    },
    {
     "name": "stdout",
     "output_type": "stream",
     "text": [
      "                   all        257        257      0.976      0.953      0.991      0.689\n"
     ]
    },
    {
     "name": "stderr",
     "output_type": "stream",
     "text": [
      "\n"
     ]
    },
    {
     "name": "stdout",
     "output_type": "stream",
     "text": [
      "\n",
      "      Epoch    GPU_mem   box_loss   cls_loss   dfl_loss  Instances       Size\n"
     ]
    },
    {
     "name": "stderr",
     "output_type": "stream",
     "text": [
      "     96/100      17.5G     0.6257     0.4206     0.9954          2       1920: 100%|██████████| 74/74 [00:17<00:00,  4.34it/s]\n",
      "                 Class     Images  Instances      Box(P          R      mAP50  mAP50-95): 100%|██████████| 10/10 [00:00<00:00, 11.22it/s]"
     ]
    },
    {
     "name": "stdout",
     "output_type": "stream",
     "text": [
      "                   all        257        257       0.98      0.953      0.991      0.698\n"
     ]
    },
    {
     "name": "stderr",
     "output_type": "stream",
     "text": [
      "\n"
     ]
    },
    {
     "name": "stdout",
     "output_type": "stream",
     "text": [
      "\n",
      "      Epoch    GPU_mem   box_loss   cls_loss   dfl_loss  Instances       Size\n"
     ]
    },
    {
     "name": "stderr",
     "output_type": "stream",
     "text": [
      "     97/100      17.5G     0.6325     0.4288     0.9981          2       1920: 100%|██████████| 74/74 [00:17<00:00,  4.33it/s]\n",
      "                 Class     Images  Instances      Box(P          R      mAP50  mAP50-95): 100%|██████████| 10/10 [00:00<00:00, 11.15it/s]"
     ]
    },
    {
     "name": "stdout",
     "output_type": "stream",
     "text": [
      "                   all        257        257      0.992      0.945      0.988      0.694\n"
     ]
    },
    {
     "name": "stderr",
     "output_type": "stream",
     "text": [
      "\n"
     ]
    },
    {
     "name": "stdout",
     "output_type": "stream",
     "text": [
      "\n",
      "      Epoch    GPU_mem   box_loss   cls_loss   dfl_loss  Instances       Size\n"
     ]
    },
    {
     "name": "stderr",
     "output_type": "stream",
     "text": [
      "     98/100      17.5G      0.626     0.4239          1          2       1920: 100%|██████████| 74/74 [00:17<00:00,  4.32it/s]\n",
      "                 Class     Images  Instances      Box(P          R      mAP50  mAP50-95): 100%|██████████| 10/10 [00:00<00:00, 11.11it/s]"
     ]
    },
    {
     "name": "stdout",
     "output_type": "stream",
     "text": [
      "                   all        257        257      0.988      0.949      0.991      0.689\n"
     ]
    },
    {
     "name": "stderr",
     "output_type": "stream",
     "text": [
      "\n"
     ]
    },
    {
     "name": "stdout",
     "output_type": "stream",
     "text": [
      "\n",
      "      Epoch    GPU_mem   box_loss   cls_loss   dfl_loss  Instances       Size\n"
     ]
    },
    {
     "name": "stderr",
     "output_type": "stream",
     "text": [
      "     99/100      17.5G     0.6091      0.423     0.9864          1       1920: 100%|██████████| 74/74 [00:17<00:00,  4.33it/s]\n",
      "                 Class     Images  Instances      Box(P          R      mAP50  mAP50-95): 100%|██████████| 10/10 [00:00<00:00, 10.97it/s]"
     ]
    },
    {
     "name": "stdout",
     "output_type": "stream",
     "text": [
      "                   all        257        257      0.983      0.946       0.99      0.694\n"
     ]
    },
    {
     "name": "stderr",
     "output_type": "stream",
     "text": [
      "\n"
     ]
    },
    {
     "name": "stdout",
     "output_type": "stream",
     "text": [
      "\n",
      "      Epoch    GPU_mem   box_loss   cls_loss   dfl_loss  Instances       Size\n"
     ]
    },
    {
     "name": "stderr",
     "output_type": "stream",
     "text": [
      "    100/100      17.5G     0.6317     0.4389      0.991          2       1920: 100%|██████████| 74/74 [00:17<00:00,  4.34it/s]\n",
      "                 Class     Images  Instances      Box(P          R      mAP50  mAP50-95): 100%|██████████| 10/10 [00:00<00:00, 11.05it/s]"
     ]
    },
    {
     "name": "stdout",
     "output_type": "stream",
     "text": [
      "                   all        257        257      0.986      0.946       0.99      0.694\n"
     ]
    },
    {
     "name": "stderr",
     "output_type": "stream",
     "text": [
      "\n"
     ]
    },
    {
     "name": "stdout",
     "output_type": "stream",
     "text": [
      "\n",
      "100 epochs completed in 0.513 hours.\n",
      "Optimizer stripped from /work/aakesh/TDT4265_Project/runs/detect/ball/train5/weights/last.pt, 6.5MB\n",
      "Optimizer stripped from /work/aakesh/TDT4265_Project/runs/detect/ball/train5/weights/best.pt, 6.5MB\n",
      "\n",
      "Validating /work/aakesh/TDT4265_Project/runs/detect/ball/train5/weights/best.pt...\n",
      "Ultralytics YOLOv8.2.2 🚀 Python-3.10.12 torch-2.3.0+cu121 CUDA:0 (NVIDIA GeForce RTX 4090, 24195MiB)\n",
      "Model summary (fused): 168 layers, 3005843 parameters, 0 gradients, 8.1 GFLOPs\n"
     ]
    },
    {
     "name": "stderr",
     "output_type": "stream",
     "text": [
      "                 Class     Images  Instances      Box(P          R      mAP50  mAP50-95): 100%|██████████| 10/10 [00:01<00:00,  7.43it/s]\n"
     ]
    },
    {
     "name": "stdout",
     "output_type": "stream",
     "text": [
      "                   all        257        257      0.976      0.969      0.992      0.712\n",
      "Speed: 0.3ms preprocess, 2.1ms inference, 0.0ms loss, 1.0ms postprocess per image\n",
      "Results saved to \u001b[1m/work/aakesh/TDT4265_Project/runs/detect/ball/train5\u001b[0m\n"
     ]
    }
   ],
   "source": [
    "# Object Detection\n",
    "\n",
    "# Tren modellen på datasettet\n",
    "#results = model_combined.train(data=yaml_file_combined, epochs=2, batch=8, imgsz=(1920, 1080), project='/work/mbergst/TDT4265_Project/runs/detect/combined')\n",
    "results = model.train(data=yaml_file_ball, cfg='/work/aakesh/TDT4265_Project/runs/detect/tune2/best_hyperparameters.yaml', epochs=100, batch=14, imgsz=1920, project='/work/aakesh/TDT4265_Project/runs/detect/ball')\n",
    "#results = model_players.train(data=yaml_file_players, epochs=100, batch=8, imgsz=(1920, 1080), project='/work/mbergst/TDT4265_Project/runs/detect/player')\n",
    "\n",
    "#model.tune(data=yaml_file_ball, epochs=30, iterations=100, optimizer='AdamW', imgsz=1920)\n",
    "\n"
   ]
  },
  {
   "cell_type": "code",
   "execution_count": null,
   "metadata": {},
   "outputs": [],
   "source": [
    "#model_combined = YOLO(\"/work/mbergst/TDT4265_Project/runs/detect/combined/train7/weights/best.pt\")\n",
    "model_combined.predict('/work/mbergst/TDT4265_Project/data_yolov8/object_datasets/1_train-val_1min_aalesund_from_start/images/all_frames/000763.jpg', \n",
    "                       save=True, imgsz=(1920, 1080), conf=0.5, project='/work/mbergst/TDT4265_Project/runs/detect/combined')"
   ]
  },
  {
   "cell_type": "code",
   "execution_count": 22,
   "metadata": {},
   "outputs": [],
   "source": [
    "# Evaluér modellens prestasjon på valideringssettet\n",
    "# Gjør det litt ulikt train sitt output pga ingen parametere definert\n",
    "#val_results = model_combined.val()\n"
   ]
  },
  {
   "cell_type": "code",
   "execution_count": 9,
   "metadata": {},
   "outputs": [
    {
     "name": "stdout",
     "output_type": "stream",
     "text": [
      "WARNING ⚠️ updating to 'imgsz=1920'. 'train' and 'val' imgsz must be an integer, while 'predict' and 'export' imgsz may be a [h, w] list or an integer, i.e. 'yolo export imgsz=640,480' or 'yolo export imgsz=640'\n",
      "Ultralytics YOLOv8.2.2 🚀 Python-3.10.12 torch-2.3.0+cu121 CUDA:0 (NVIDIA GeForce RTX 4090, 24195MiB)\n"
     ]
    },
    {
     "name": "stderr",
     "output_type": "stream",
     "text": [
      "\u001b[34m\u001b[1mval: \u001b[0mScanning /work/aakesh/TDT4265_Project/data_yolov8/ball_datasets/3_test_1min_hamkam_from_start/labels/test... 1412 images, 390 backgrounds, 0 corrupt: 100%|██████████| 1802/1802 [00:00<00:00, 6994.83it/s]"
     ]
    },
    {
     "name": "stdout",
     "output_type": "stream",
     "text": [
      "\u001b[34m\u001b[1mval: \u001b[0mNew cache created: /work/aakesh/TDT4265_Project/data_yolov8/ball_datasets/3_test_1min_hamkam_from_start/labels/test.cache\n"
     ]
    },
    {
     "name": "stderr",
     "output_type": "stream",
     "text": [
      "\n",
      "                 Class     Images  Instances      Box(P          R      mAP50  mAP50-95):   0%|          | 0/226 [00:00<?, ?it/s]UserWarning: Plan failed with a cudnnException: CUDNN_BACKEND_EXECUTION_PLAN_DESCRIPTOR: cudnnFinalize Descriptor Failed cudnn_status: CUDNN_STATUS_NOT_SUPPORTED (Triggered internally at ../aten/src/ATen/native/cudnn/Conv_v8.cpp:919.)\n",
      "                 Class     Images  Instances      Box(P          R      mAP50  mAP50-95): 100%|██████████| 226/226 [00:08<00:00, 26.26it/s]\n"
     ]
    },
    {
     "name": "stdout",
     "output_type": "stream",
     "text": [
      "                   all       1802       1412      0.859      0.643      0.723      0.466\n",
      "Speed: 0.4ms preprocess, 3.1ms inference, 0.0ms loss, 0.3ms postprocess per image\n",
      "Results saved to \u001b[1m/work/aakesh/TDT4265_Project/runs/detect/ball/test/train53\u001b[0m\n"
     ]
    }
   ],
   "source": [
    "# Test modellen på testsettet\n",
    "#test_combined = model_combined.val(data=test_combined, batch=8, imgsz=(1920, 1080), project = '/work/mbergst/TDT4265_Project/runs/detect/combined/test')\n",
    "test_ball = model.val(data=test_ball, batch=14, imgsz=1920, project = '/work/aakesh/TDT4265_Project/runs/detect/ball/test')\n",
    "#test_players = model_players.val(data=test_players, batch=8, imgsz=(1920, 1080))\n"
   ]
  },
  {
   "cell_type": "code",
   "execution_count": 6,
   "metadata": {},
   "outputs": [],
   "source": [
    "# Object tracking\n",
    "all_frames = f'/datasets/tdt4265/other/rbk/{data_folder}/img1'\n",
    "\n",
    "frame_paths = sorted([os.path.join(all_frames, f) for f in os.listdir(all_frames) if f.endswith('.jpg')])\n"
   ]
  },
  {
   "cell_type": "code",
   "execution_count": 7,
   "metadata": {},
   "outputs": [
    {
     "name": "stdout",
     "output_type": "stream",
     "text": [
      "\n",
      "image 1/1 /datasets/tdt4265/other/rbk/1_train-val_1min_aalesund_from_start/img1/000001.jpg: 1088x1920 1 ball, 22 players, 45.1ms\n",
      "Speed: 4.4ms preprocess, 45.1ms inference, 419.2ms postprocess per image at shape (1, 3, 1088, 1920)\n",
      "\n",
      "image 1/1 /datasets/tdt4265/other/rbk/1_train-val_1min_aalesund_from_start/img1/000002.jpg: 1088x1920 1 ball, 22 players, 2.5ms\n",
      "Speed: 4.5ms preprocess, 2.5ms inference, 0.5ms postprocess per image at shape (1, 3, 1088, 1920)\n",
      "\n",
      "image 1/1 /datasets/tdt4265/other/rbk/1_train-val_1min_aalesund_from_start/img1/000003.jpg: 1088x1920 1 ball, 22 players, 2.8ms\n",
      "Speed: 2.7ms preprocess, 2.8ms inference, 0.6ms postprocess per image at shape (1, 3, 1088, 1920)\n",
      "\n",
      "image 1/1 /datasets/tdt4265/other/rbk/1_train-val_1min_aalesund_from_start/img1/000004.jpg: 1088x1920 1 ball, 22 players, 2.5ms\n",
      "Speed: 3.6ms preprocess, 2.5ms inference, 0.7ms postprocess per image at shape (1, 3, 1088, 1920)\n",
      "\n",
      "image 1/1 /datasets/tdt4265/other/rbk/1_train-val_1min_aalesund_from_start/img1/000005.jpg: 1088x1920 1 ball, 22 players, 3.4ms\n",
      "Speed: 3.3ms preprocess, 3.4ms inference, 0.7ms postprocess per image at shape (1, 3, 1088, 1920)\n",
      "\n",
      "image 1/1 /datasets/tdt4265/other/rbk/1_train-val_1min_aalesund_from_start/img1/000006.jpg: 1088x1920 1 ball, 22 players, 3.4ms\n",
      "Speed: 3.4ms preprocess, 3.4ms inference, 0.5ms postprocess per image at shape (1, 3, 1088, 1920)\n",
      "\n",
      "image 1/1 /datasets/tdt4265/other/rbk/1_train-val_1min_aalesund_from_start/img1/000007.jpg: 1088x1920 1 ball, 22 players, 2.6ms\n",
      "Speed: 3.4ms preprocess, 2.6ms inference, 0.8ms postprocess per image at shape (1, 3, 1088, 1920)\n",
      "\n",
      "image 1/1 /datasets/tdt4265/other/rbk/1_train-val_1min_aalesund_from_start/img1/000008.jpg: 1088x1920 1 ball, 22 players, 2.4ms\n",
      "Speed: 3.1ms preprocess, 2.4ms inference, 1.0ms postprocess per image at shape (1, 3, 1088, 1920)\n",
      "\n",
      "image 1/1 /datasets/tdt4265/other/rbk/1_train-val_1min_aalesund_from_start/img1/000009.jpg: 1088x1920 1 ball, 22 players, 2.3ms\n",
      "Speed: 3.2ms preprocess, 2.3ms inference, 1.1ms postprocess per image at shape (1, 3, 1088, 1920)\n",
      "\n",
      "image 1/1 /datasets/tdt4265/other/rbk/1_train-val_1min_aalesund_from_start/img1/000010.jpg: 1088x1920 1 ball, 22 players, 2.4ms\n",
      "Speed: 3.1ms preprocess, 2.4ms inference, 0.5ms postprocess per image at shape (1, 3, 1088, 1920)\n",
      "\n",
      "image 1/1 /datasets/tdt4265/other/rbk/1_train-val_1min_aalesund_from_start/img1/000011.jpg: 1088x1920 1 ball, 22 players, 2.3ms\n",
      "Speed: 3.3ms preprocess, 2.3ms inference, 0.5ms postprocess per image at shape (1, 3, 1088, 1920)\n",
      "\n",
      "image 1/1 /datasets/tdt4265/other/rbk/1_train-val_1min_aalesund_from_start/img1/000012.jpg: 1088x1920 1 ball, 22 players, 2.4ms\n",
      "Speed: 3.1ms preprocess, 2.4ms inference, 0.5ms postprocess per image at shape (1, 3, 1088, 1920)\n",
      "\n",
      "image 1/1 /datasets/tdt4265/other/rbk/1_train-val_1min_aalesund_from_start/img1/000013.jpg: 1088x1920 1 ball, 22 players, 2.4ms\n",
      "Speed: 3.3ms preprocess, 2.4ms inference, 0.5ms postprocess per image at shape (1, 3, 1088, 1920)\n",
      "\n",
      "image 1/1 /datasets/tdt4265/other/rbk/1_train-val_1min_aalesund_from_start/img1/000014.jpg: 1088x1920 1 ball, 22 players, 2.4ms\n",
      "Speed: 3.1ms preprocess, 2.4ms inference, 0.5ms postprocess per image at shape (1, 3, 1088, 1920)\n",
      "\n",
      "image 1/1 /datasets/tdt4265/other/rbk/1_train-val_1min_aalesund_from_start/img1/000015.jpg: 1088x1920 1 ball, 22 players, 2.4ms\n",
      "Speed: 3.3ms preprocess, 2.4ms inference, 0.5ms postprocess per image at shape (1, 3, 1088, 1920)\n",
      "\n",
      "image 1/1 /datasets/tdt4265/other/rbk/1_train-val_1min_aalesund_from_start/img1/000016.jpg: 1088x1920 1 ball, 22 players, 2.3ms\n",
      "Speed: 2.2ms preprocess, 2.3ms inference, 0.5ms postprocess per image at shape (1, 3, 1088, 1920)\n",
      "\n",
      "image 1/1 /datasets/tdt4265/other/rbk/1_train-val_1min_aalesund_from_start/img1/000017.jpg: 1088x1920 1 ball, 22 players, 2.3ms\n",
      "Speed: 2.7ms preprocess, 2.3ms inference, 0.5ms postprocess per image at shape (1, 3, 1088, 1920)\n",
      "\n",
      "image 1/1 /datasets/tdt4265/other/rbk/1_train-val_1min_aalesund_from_start/img1/000018.jpg: 1088x1920 1 ball, 22 players, 2.3ms\n",
      "Speed: 2.9ms preprocess, 2.3ms inference, 0.5ms postprocess per image at shape (1, 3, 1088, 1920)\n",
      "\n",
      "image 1/1 /datasets/tdt4265/other/rbk/1_train-val_1min_aalesund_from_start/img1/000019.jpg: 1088x1920 1 ball, 22 players, 2.3ms\n",
      "Speed: 3.8ms preprocess, 2.3ms inference, 0.6ms postprocess per image at shape (1, 3, 1088, 1920)\n",
      "\n",
      "image 1/1 /datasets/tdt4265/other/rbk/1_train-val_1min_aalesund_from_start/img1/000020.jpg: 1088x1920 1 ball, 22 players, 2.3ms\n",
      "Speed: 2.3ms preprocess, 2.3ms inference, 0.6ms postprocess per image at shape (1, 3, 1088, 1920)\n",
      "\n",
      "image 1/1 /datasets/tdt4265/other/rbk/1_train-val_1min_aalesund_from_start/img1/000021.jpg: 1088x1920 1 ball, 22 players, 2.3ms\n",
      "Speed: 3.3ms preprocess, 2.3ms inference, 0.6ms postprocess per image at shape (1, 3, 1088, 1920)\n",
      "\n",
      "image 1/1 /datasets/tdt4265/other/rbk/1_train-val_1min_aalesund_from_start/img1/000022.jpg: 1088x1920 1 ball, 22 players, 2.3ms\n",
      "Speed: 2.4ms preprocess, 2.3ms inference, 0.5ms postprocess per image at shape (1, 3, 1088, 1920)\n",
      "\n",
      "image 1/1 /datasets/tdt4265/other/rbk/1_train-val_1min_aalesund_from_start/img1/000023.jpg: 1088x1920 1 ball, 22 players, 2.6ms\n",
      "Speed: 2.4ms preprocess, 2.6ms inference, 0.6ms postprocess per image at shape (1, 3, 1088, 1920)\n",
      "\n",
      "image 1/1 /datasets/tdt4265/other/rbk/1_train-val_1min_aalesund_from_start/img1/000024.jpg: 1088x1920 1 ball, 22 players, 2.3ms\n",
      "Speed: 2.3ms preprocess, 2.3ms inference, 0.8ms postprocess per image at shape (1, 3, 1088, 1920)\n",
      "\n",
      "image 1/1 /datasets/tdt4265/other/rbk/1_train-val_1min_aalesund_from_start/img1/000025.jpg: 1088x1920 1 ball, 22 players, 2.3ms\n",
      "Speed: 2.5ms preprocess, 2.3ms inference, 0.5ms postprocess per image at shape (1, 3, 1088, 1920)\n",
      "\n",
      "image 1/1 /datasets/tdt4265/other/rbk/1_train-val_1min_aalesund_from_start/img1/000026.jpg: 1088x1920 1 ball, 22 players, 2.3ms\n",
      "Speed: 2.4ms preprocess, 2.3ms inference, 0.5ms postprocess per image at shape (1, 3, 1088, 1920)\n",
      "\n",
      "image 1/1 /datasets/tdt4265/other/rbk/1_train-val_1min_aalesund_from_start/img1/000027.jpg: 1088x1920 1 ball, 22 players, 2.3ms\n",
      "Speed: 2.5ms preprocess, 2.3ms inference, 0.5ms postprocess per image at shape (1, 3, 1088, 1920)\n",
      "\n",
      "image 1/1 /datasets/tdt4265/other/rbk/1_train-val_1min_aalesund_from_start/img1/000028.jpg: 1088x1920 1 ball, 22 players, 2.6ms\n",
      "Speed: 2.4ms preprocess, 2.6ms inference, 0.8ms postprocess per image at shape (1, 3, 1088, 1920)\n",
      "\n",
      "image 1/1 /datasets/tdt4265/other/rbk/1_train-val_1min_aalesund_from_start/img1/000029.jpg: 1088x1920 1 ball, 22 players, 2.3ms\n",
      "Speed: 2.4ms preprocess, 2.3ms inference, 1.0ms postprocess per image at shape (1, 3, 1088, 1920)\n",
      "\n",
      "image 1/1 /datasets/tdt4265/other/rbk/1_train-val_1min_aalesund_from_start/img1/000030.jpg: 1088x1920 1 ball, 22 players, 2.3ms\n",
      "Speed: 2.4ms preprocess, 2.3ms inference, 0.5ms postprocess per image at shape (1, 3, 1088, 1920)\n",
      "\n",
      "image 1/1 /datasets/tdt4265/other/rbk/1_train-val_1min_aalesund_from_start/img1/000031.jpg: 1088x1920 1 ball, 22 players, 2.6ms\n",
      "Speed: 2.4ms preprocess, 2.6ms inference, 0.5ms postprocess per image at shape (1, 3, 1088, 1920)\n",
      "\n",
      "image 1/1 /datasets/tdt4265/other/rbk/1_train-val_1min_aalesund_from_start/img1/000032.jpg: 1088x1920 1 ball, 22 players, 2.5ms\n",
      "Speed: 2.3ms preprocess, 2.5ms inference, 0.5ms postprocess per image at shape (1, 3, 1088, 1920)\n",
      "\n",
      "image 1/1 /datasets/tdt4265/other/rbk/1_train-val_1min_aalesund_from_start/img1/000033.jpg: 1088x1920 1 ball, 22 players, 2.3ms\n",
      "Speed: 2.4ms preprocess, 2.3ms inference, 0.6ms postprocess per image at shape (1, 3, 1088, 1920)\n",
      "\n",
      "image 1/1 /datasets/tdt4265/other/rbk/1_train-val_1min_aalesund_from_start/img1/000034.jpg: 1088x1920 1 ball, 22 players, 2.3ms\n",
      "Speed: 2.4ms preprocess, 2.3ms inference, 0.5ms postprocess per image at shape (1, 3, 1088, 1920)\n",
      "\n",
      "image 1/1 /datasets/tdt4265/other/rbk/1_train-val_1min_aalesund_from_start/img1/000035.jpg: 1088x1920 1 ball, 22 players, 2.3ms\n",
      "Speed: 2.5ms preprocess, 2.3ms inference, 0.6ms postprocess per image at shape (1, 3, 1088, 1920)\n",
      "\n",
      "image 1/1 /datasets/tdt4265/other/rbk/1_train-val_1min_aalesund_from_start/img1/000036.jpg: 1088x1920 1 ball, 22 players, 2.6ms\n",
      "Speed: 2.4ms preprocess, 2.6ms inference, 0.6ms postprocess per image at shape (1, 3, 1088, 1920)\n",
      "\n",
      "image 1/1 /datasets/tdt4265/other/rbk/1_train-val_1min_aalesund_from_start/img1/000037.jpg: 1088x1920 1 ball, 22 players, 2.5ms\n",
      "Speed: 2.4ms preprocess, 2.5ms inference, 0.6ms postprocess per image at shape (1, 3, 1088, 1920)\n",
      "\n",
      "image 1/1 /datasets/tdt4265/other/rbk/1_train-val_1min_aalesund_from_start/img1/000038.jpg: 1088x1920 1 ball, 22 players, 2.3ms\n",
      "Speed: 2.4ms preprocess, 2.3ms inference, 0.8ms postprocess per image at shape (1, 3, 1088, 1920)\n",
      "\n",
      "image 1/1 /datasets/tdt4265/other/rbk/1_train-val_1min_aalesund_from_start/img1/000039.jpg: 1088x1920 1 ball, 22 players, 2.3ms\n",
      "Speed: 2.2ms preprocess, 2.3ms inference, 0.5ms postprocess per image at shape (1, 3, 1088, 1920)\n",
      "\n",
      "image 1/1 /datasets/tdt4265/other/rbk/1_train-val_1min_aalesund_from_start/img1/000040.jpg: 1088x1920 1 ball, 22 players, 2.3ms\n",
      "Speed: 2.2ms preprocess, 2.3ms inference, 0.5ms postprocess per image at shape (1, 3, 1088, 1920)\n",
      "\n",
      "image 1/1 /datasets/tdt4265/other/rbk/1_train-val_1min_aalesund_from_start/img1/000041.jpg: 1088x1920 1 ball, 22 players, 2.3ms\n",
      "Speed: 2.5ms preprocess, 2.3ms inference, 0.5ms postprocess per image at shape (1, 3, 1088, 1920)\n",
      "\n",
      "image 1/1 /datasets/tdt4265/other/rbk/1_train-val_1min_aalesund_from_start/img1/000042.jpg: 1088x1920 1 ball, 22 players, 2.6ms\n",
      "Speed: 2.4ms preprocess, 2.6ms inference, 0.8ms postprocess per image at shape (1, 3, 1088, 1920)\n",
      "\n",
      "image 1/1 /datasets/tdt4265/other/rbk/1_train-val_1min_aalesund_from_start/img1/000043.jpg: 1088x1920 1 ball, 22 players, 2.6ms\n",
      "Speed: 2.6ms preprocess, 2.6ms inference, 0.8ms postprocess per image at shape (1, 3, 1088, 1920)\n",
      "\n",
      "image 1/1 /datasets/tdt4265/other/rbk/1_train-val_1min_aalesund_from_start/img1/000044.jpg: 1088x1920 1 ball, 22 players, 2.7ms\n",
      "Speed: 2.4ms preprocess, 2.7ms inference, 0.8ms postprocess per image at shape (1, 3, 1088, 1920)\n",
      "\n",
      "image 1/1 /datasets/tdt4265/other/rbk/1_train-val_1min_aalesund_from_start/img1/000045.jpg: 1088x1920 1 ball, 22 players, 2.4ms\n",
      "Speed: 2.4ms preprocess, 2.4ms inference, 1.0ms postprocess per image at shape (1, 3, 1088, 1920)\n",
      "\n",
      "image 1/1 /datasets/tdt4265/other/rbk/1_train-val_1min_aalesund_from_start/img1/000046.jpg: 1088x1920 1 ball, 22 players, 2.5ms\n",
      "Speed: 2.3ms preprocess, 2.5ms inference, 0.8ms postprocess per image at shape (1, 3, 1088, 1920)\n",
      "\n",
      "image 1/1 /datasets/tdt4265/other/rbk/1_train-val_1min_aalesund_from_start/img1/000047.jpg: 1088x1920 1 ball, 22 players, 2.6ms\n",
      "Speed: 2.5ms preprocess, 2.6ms inference, 0.5ms postprocess per image at shape (1, 3, 1088, 1920)\n",
      "\n",
      "image 1/1 /datasets/tdt4265/other/rbk/1_train-val_1min_aalesund_from_start/img1/000048.jpg: 1088x1920 1 ball, 22 players, 2.5ms\n",
      "Speed: 2.4ms preprocess, 2.5ms inference, 0.5ms postprocess per image at shape (1, 3, 1088, 1920)\n",
      "\n",
      "image 1/1 /datasets/tdt4265/other/rbk/1_train-val_1min_aalesund_from_start/img1/000049.jpg: 1088x1920 1 ball, 22 players, 2.4ms\n",
      "Speed: 2.4ms preprocess, 2.4ms inference, 0.6ms postprocess per image at shape (1, 3, 1088, 1920)\n",
      "\n",
      "image 1/1 /datasets/tdt4265/other/rbk/1_train-val_1min_aalesund_from_start/img1/000050.jpg: 1088x1920 1 ball, 22 players, 2.4ms\n",
      "Speed: 2.3ms preprocess, 2.4ms inference, 0.5ms postprocess per image at shape (1, 3, 1088, 1920)\n",
      "\n",
      "image 1/1 /datasets/tdt4265/other/rbk/1_train-val_1min_aalesund_from_start/img1/000051.jpg: 1088x1920 1 ball, 22 players, 2.3ms\n",
      "Speed: 2.4ms preprocess, 2.3ms inference, 0.6ms postprocess per image at shape (1, 3, 1088, 1920)\n",
      "\n",
      "image 1/1 /datasets/tdt4265/other/rbk/1_train-val_1min_aalesund_from_start/img1/000052.jpg: 1088x1920 1 ball, 22 players, 2.3ms\n",
      "Speed: 2.3ms preprocess, 2.3ms inference, 0.5ms postprocess per image at shape (1, 3, 1088, 1920)\n",
      "\n",
      "image 1/1 /datasets/tdt4265/other/rbk/1_train-val_1min_aalesund_from_start/img1/000053.jpg: 1088x1920 1 ball, 22 players, 2.3ms\n",
      "Speed: 2.4ms preprocess, 2.3ms inference, 0.5ms postprocess per image at shape (1, 3, 1088, 1920)\n",
      "\n",
      "image 1/1 /datasets/tdt4265/other/rbk/1_train-val_1min_aalesund_from_start/img1/000054.jpg: 1088x1920 1 ball, 22 players, 2.3ms\n",
      "Speed: 2.3ms preprocess, 2.3ms inference, 0.6ms postprocess per image at shape (1, 3, 1088, 1920)\n",
      "\n",
      "image 1/1 /datasets/tdt4265/other/rbk/1_train-val_1min_aalesund_from_start/img1/000055.jpg: 1088x1920 1 ball, 22 players, 2.7ms\n",
      "Speed: 2.4ms preprocess, 2.7ms inference, 0.7ms postprocess per image at shape (1, 3, 1088, 1920)\n",
      "\n",
      "image 1/1 /datasets/tdt4265/other/rbk/1_train-val_1min_aalesund_from_start/img1/000056.jpg: 1088x1920 1 ball, 22 players, 2.4ms\n",
      "Speed: 2.4ms preprocess, 2.4ms inference, 0.6ms postprocess per image at shape (1, 3, 1088, 1920)\n",
      "\n",
      "image 1/1 /datasets/tdt4265/other/rbk/1_train-val_1min_aalesund_from_start/img1/000057.jpg: 1088x1920 1 ball, 22 players, 2.5ms\n",
      "Speed: 2.7ms preprocess, 2.5ms inference, 0.5ms postprocess per image at shape (1, 3, 1088, 1920)\n",
      "\n",
      "image 1/1 /datasets/tdt4265/other/rbk/1_train-val_1min_aalesund_from_start/img1/000058.jpg: 1088x1920 1 ball, 22 players, 2.7ms\n",
      "Speed: 2.3ms preprocess, 2.7ms inference, 0.7ms postprocess per image at shape (1, 3, 1088, 1920)\n",
      "\n",
      "image 1/1 /datasets/tdt4265/other/rbk/1_train-val_1min_aalesund_from_start/img1/000059.jpg: 1088x1920 1 ball, 22 players, 2.9ms\n",
      "Speed: 2.5ms preprocess, 2.9ms inference, 0.5ms postprocess per image at shape (1, 3, 1088, 1920)\n",
      "\n",
      "image 1/1 /datasets/tdt4265/other/rbk/1_train-val_1min_aalesund_from_start/img1/000060.jpg: 1088x1920 1 ball, 22 players, 3.1ms\n",
      "Speed: 2.4ms preprocess, 3.1ms inference, 0.6ms postprocess per image at shape (1, 3, 1088, 1920)\n",
      "\n",
      "image 1/1 /datasets/tdt4265/other/rbk/1_train-val_1min_aalesund_from_start/img1/000061.jpg: 1088x1920 1 ball, 22 players, 2.3ms\n",
      "Speed: 3.0ms preprocess, 2.3ms inference, 0.5ms postprocess per image at shape (1, 3, 1088, 1920)\n",
      "\n",
      "image 1/1 /datasets/tdt4265/other/rbk/1_train-val_1min_aalesund_from_start/img1/000062.jpg: 1088x1920 1 ball, 22 players, 3.1ms\n",
      "Speed: 2.4ms preprocess, 3.1ms inference, 1.1ms postprocess per image at shape (1, 3, 1088, 1920)\n",
      "\n",
      "image 1/1 /datasets/tdt4265/other/rbk/1_train-val_1min_aalesund_from_start/img1/000063.jpg: 1088x1920 1 ball, 22 players, 2.6ms\n",
      "Speed: 2.7ms preprocess, 2.6ms inference, 0.8ms postprocess per image at shape (1, 3, 1088, 1920)\n",
      "\n",
      "image 1/1 /datasets/tdt4265/other/rbk/1_train-val_1min_aalesund_from_start/img1/000064.jpg: 1088x1920 1 ball, 22 players, 3.1ms\n",
      "Speed: 3.0ms preprocess, 3.1ms inference, 0.7ms postprocess per image at shape (1, 3, 1088, 1920)\n",
      "\n",
      "image 1/1 /datasets/tdt4265/other/rbk/1_train-val_1min_aalesund_from_start/img1/000065.jpg: 1088x1920 1 ball, 22 players, 2.3ms\n",
      "Speed: 2.2ms preprocess, 2.3ms inference, 0.6ms postprocess per image at shape (1, 3, 1088, 1920)\n",
      "\n",
      "image 1/1 /datasets/tdt4265/other/rbk/1_train-val_1min_aalesund_from_start/img1/000066.jpg: 1088x1920 1 ball, 22 players, 2.4ms\n",
      "Speed: 2.3ms preprocess, 2.4ms inference, 0.5ms postprocess per image at shape (1, 3, 1088, 1920)\n",
      "\n",
      "image 1/1 /datasets/tdt4265/other/rbk/1_train-val_1min_aalesund_from_start/img1/000067.jpg: 1088x1920 1 ball, 22 players, 2.4ms\n",
      "Speed: 2.4ms preprocess, 2.4ms inference, 0.5ms postprocess per image at shape (1, 3, 1088, 1920)\n",
      "\n",
      "image 1/1 /datasets/tdt4265/other/rbk/1_train-val_1min_aalesund_from_start/img1/000068.jpg: 1088x1920 1 ball, 22 players, 2.4ms\n",
      "Speed: 2.3ms preprocess, 2.4ms inference, 0.5ms postprocess per image at shape (1, 3, 1088, 1920)\n",
      "\n",
      "image 1/1 /datasets/tdt4265/other/rbk/1_train-val_1min_aalesund_from_start/img1/000069.jpg: 1088x1920 1 ball, 22 players, 2.4ms\n",
      "Speed: 2.4ms preprocess, 2.4ms inference, 0.5ms postprocess per image at shape (1, 3, 1088, 1920)\n",
      "\n",
      "image 1/1 /datasets/tdt4265/other/rbk/1_train-val_1min_aalesund_from_start/img1/000070.jpg: 1088x1920 1 ball, 22 players, 2.4ms\n",
      "Speed: 2.3ms preprocess, 2.4ms inference, 0.5ms postprocess per image at shape (1, 3, 1088, 1920)\n",
      "\n",
      "image 1/1 /datasets/tdt4265/other/rbk/1_train-val_1min_aalesund_from_start/img1/000071.jpg: 1088x1920 1 ball, 22 players, 2.3ms\n",
      "Speed: 2.4ms preprocess, 2.3ms inference, 0.6ms postprocess per image at shape (1, 3, 1088, 1920)\n",
      "\n",
      "image 1/1 /datasets/tdt4265/other/rbk/1_train-val_1min_aalesund_from_start/img1/000072.jpg: 1088x1920 1 ball, 22 players, 2.4ms\n",
      "Speed: 2.4ms preprocess, 2.4ms inference, 0.5ms postprocess per image at shape (1, 3, 1088, 1920)\n",
      "\n",
      "image 1/1 /datasets/tdt4265/other/rbk/1_train-val_1min_aalesund_from_start/img1/000073.jpg: 1088x1920 1 ball, 22 players, 2.3ms\n",
      "Speed: 2.4ms preprocess, 2.3ms inference, 0.5ms postprocess per image at shape (1, 3, 1088, 1920)\n",
      "\n",
      "image 1/1 /datasets/tdt4265/other/rbk/1_train-val_1min_aalesund_from_start/img1/000074.jpg: 1088x1920 1 ball, 22 players, 2.4ms\n",
      "Speed: 2.4ms preprocess, 2.4ms inference, 0.5ms postprocess per image at shape (1, 3, 1088, 1920)\n",
      "\n",
      "image 1/1 /datasets/tdt4265/other/rbk/1_train-val_1min_aalesund_from_start/img1/000075.jpg: 1088x1920 1 ball, 22 players, 2.3ms\n",
      "Speed: 2.4ms preprocess, 2.3ms inference, 0.8ms postprocess per image at shape (1, 3, 1088, 1920)\n",
      "\n",
      "image 1/1 /datasets/tdt4265/other/rbk/1_train-val_1min_aalesund_from_start/img1/000076.jpg: 1088x1920 1 ball, 22 players, 2.3ms\n",
      "Speed: 2.5ms preprocess, 2.3ms inference, 1.0ms postprocess per image at shape (1, 3, 1088, 1920)\n",
      "\n",
      "image 1/1 /datasets/tdt4265/other/rbk/1_train-val_1min_aalesund_from_start/img1/000077.jpg: 1088x1920 1 ball, 22 players, 2.6ms\n",
      "Speed: 2.4ms preprocess, 2.6ms inference, 0.8ms postprocess per image at shape (1, 3, 1088, 1920)\n",
      "\n",
      "image 1/1 /datasets/tdt4265/other/rbk/1_train-val_1min_aalesund_from_start/img1/000078.jpg: 1088x1920 1 ball, 22 players, 2.6ms\n",
      "Speed: 2.3ms preprocess, 2.6ms inference, 0.8ms postprocess per image at shape (1, 3, 1088, 1920)\n",
      "\n",
      "image 1/1 /datasets/tdt4265/other/rbk/1_train-val_1min_aalesund_from_start/img1/000079.jpg: 1088x1920 1 ball, 22 players, 2.3ms\n",
      "Speed: 2.4ms preprocess, 2.3ms inference, 0.5ms postprocess per image at shape (1, 3, 1088, 1920)\n",
      "\n",
      "image 1/1 /datasets/tdt4265/other/rbk/1_train-val_1min_aalesund_from_start/img1/000080.jpg: 1088x1920 1 ball, 22 players, 2.3ms\n",
      "Speed: 2.2ms preprocess, 2.3ms inference, 0.5ms postprocess per image at shape (1, 3, 1088, 1920)\n",
      "\n",
      "image 1/1 /datasets/tdt4265/other/rbk/1_train-val_1min_aalesund_from_start/img1/000081.jpg: 1088x1920 1 ball, 22 players, 2.3ms\n",
      "Speed: 2.2ms preprocess, 2.3ms inference, 0.5ms postprocess per image at shape (1, 3, 1088, 1920)\n",
      "\n",
      "image 1/1 /datasets/tdt4265/other/rbk/1_train-val_1min_aalesund_from_start/img1/000082.jpg: 1088x1920 1 ball, 22 players, 2.3ms\n",
      "Speed: 2.4ms preprocess, 2.3ms inference, 0.5ms postprocess per image at shape (1, 3, 1088, 1920)\n",
      "\n",
      "image 1/1 /datasets/tdt4265/other/rbk/1_train-val_1min_aalesund_from_start/img1/000083.jpg: 1088x1920 1 ball, 22 players, 2.3ms\n",
      "Speed: 2.4ms preprocess, 2.3ms inference, 0.5ms postprocess per image at shape (1, 3, 1088, 1920)\n",
      "\n",
      "image 1/1 /datasets/tdt4265/other/rbk/1_train-val_1min_aalesund_from_start/img1/000084.jpg: 1088x1920 1 ball, 22 players, 2.3ms\n",
      "Speed: 2.3ms preprocess, 2.3ms inference, 0.8ms postprocess per image at shape (1, 3, 1088, 1920)\n",
      "\n",
      "image 1/1 /datasets/tdt4265/other/rbk/1_train-val_1min_aalesund_from_start/img1/000085.jpg: 1088x1920 1 ball, 22 players, 2.6ms\n",
      "Speed: 2.4ms preprocess, 2.6ms inference, 0.6ms postprocess per image at shape (1, 3, 1088, 1920)\n",
      "\n",
      "image 1/1 /datasets/tdt4265/other/rbk/1_train-val_1min_aalesund_from_start/img1/000086.jpg: 1088x1920 1 ball, 22 players, 2.4ms\n",
      "Speed: 2.3ms preprocess, 2.4ms inference, 0.5ms postprocess per image at shape (1, 3, 1088, 1920)\n",
      "\n",
      "image 1/1 /datasets/tdt4265/other/rbk/1_train-val_1min_aalesund_from_start/img1/000087.jpg: 1088x1920 1 ball, 22 players, 2.3ms\n",
      "Speed: 2.4ms preprocess, 2.3ms inference, 0.5ms postprocess per image at shape (1, 3, 1088, 1920)\n",
      "\n",
      "image 1/1 /datasets/tdt4265/other/rbk/1_train-val_1min_aalesund_from_start/img1/000088.jpg: 1088x1920 1 ball, 22 players, 2.3ms\n",
      "Speed: 2.3ms preprocess, 2.3ms inference, 0.5ms postprocess per image at shape (1, 3, 1088, 1920)\n",
      "\n",
      "image 1/1 /datasets/tdt4265/other/rbk/1_train-val_1min_aalesund_from_start/img1/000089.jpg: 1088x1920 1 ball, 22 players, 2.3ms\n",
      "Speed: 2.4ms preprocess, 2.3ms inference, 0.5ms postprocess per image at shape (1, 3, 1088, 1920)\n",
      "\n",
      "image 1/1 /datasets/tdt4265/other/rbk/1_train-val_1min_aalesund_from_start/img1/000090.jpg: 1088x1920 1 ball, 22 players, 2.3ms\n",
      "Speed: 2.4ms preprocess, 2.3ms inference, 0.5ms postprocess per image at shape (1, 3, 1088, 1920)\n",
      "\n",
      "image 1/1 /datasets/tdt4265/other/rbk/1_train-val_1min_aalesund_from_start/img1/000091.jpg: 1088x1920 1 ball, 22 players, 2.3ms\n",
      "Speed: 2.4ms preprocess, 2.3ms inference, 0.5ms postprocess per image at shape (1, 3, 1088, 1920)\n",
      "\n",
      "image 1/1 /datasets/tdt4265/other/rbk/1_train-val_1min_aalesund_from_start/img1/000092.jpg: 1088x1920 1 ball, 22 players, 2.3ms\n",
      "Speed: 2.3ms preprocess, 2.3ms inference, 0.5ms postprocess per image at shape (1, 3, 1088, 1920)\n",
      "\n",
      "image 1/1 /datasets/tdt4265/other/rbk/1_train-val_1min_aalesund_from_start/img1/000093.jpg: 1088x1920 1 ball, 22 players, 2.3ms\n",
      "Speed: 2.4ms preprocess, 2.3ms inference, 0.5ms postprocess per image at shape (1, 3, 1088, 1920)\n",
      "\n",
      "image 1/1 /datasets/tdt4265/other/rbk/1_train-val_1min_aalesund_from_start/img1/000094.jpg: 1088x1920 1 ball, 22 players, 2.4ms\n",
      "Speed: 2.3ms preprocess, 2.4ms inference, 0.5ms postprocess per image at shape (1, 3, 1088, 1920)\n",
      "\n",
      "image 1/1 /datasets/tdt4265/other/rbk/1_train-val_1min_aalesund_from_start/img1/000095.jpg: 1088x1920 1 ball, 22 players, 2.3ms\n",
      "Speed: 2.4ms preprocess, 2.3ms inference, 0.6ms postprocess per image at shape (1, 3, 1088, 1920)\n",
      "\n",
      "image 1/1 /datasets/tdt4265/other/rbk/1_train-val_1min_aalesund_from_start/img1/000096.jpg: 1088x1920 1 ball, 22 players, 2.4ms\n",
      "Speed: 2.3ms preprocess, 2.4ms inference, 0.5ms postprocess per image at shape (1, 3, 1088, 1920)\n",
      "\n",
      "image 1/1 /datasets/tdt4265/other/rbk/1_train-val_1min_aalesund_from_start/img1/000097.jpg: 1088x1920 1 ball, 22 players, 2.4ms\n",
      "Speed: 2.4ms preprocess, 2.4ms inference, 0.5ms postprocess per image at shape (1, 3, 1088, 1920)\n",
      "\n",
      "image 1/1 /datasets/tdt4265/other/rbk/1_train-val_1min_aalesund_from_start/img1/000098.jpg: 1088x1920 1 ball, 22 players, 2.4ms\n",
      "Speed: 2.3ms preprocess, 2.4ms inference, 0.6ms postprocess per image at shape (1, 3, 1088, 1920)\n",
      "\n",
      "image 1/1 /datasets/tdt4265/other/rbk/1_train-val_1min_aalesund_from_start/img1/000099.jpg: 1088x1920 1 ball, 22 players, 2.4ms\n",
      "Speed: 2.4ms preprocess, 2.4ms inference, 0.5ms postprocess per image at shape (1, 3, 1088, 1920)\n",
      "\n",
      "image 1/1 /datasets/tdt4265/other/rbk/1_train-val_1min_aalesund_from_start/img1/000100.jpg: 1088x1920 1 ball, 22 players, 2.3ms\n",
      "Speed: 2.3ms preprocess, 2.3ms inference, 0.5ms postprocess per image at shape (1, 3, 1088, 1920)\n",
      "\n",
      "image 1/1 /datasets/tdt4265/other/rbk/1_train-val_1min_aalesund_from_start/img1/000101.jpg: 1088x1920 1 ball, 22 players, 2.4ms\n",
      "Speed: 2.4ms preprocess, 2.4ms inference, 0.5ms postprocess per image at shape (1, 3, 1088, 1920)\n",
      "\n",
      "image 1/1 /datasets/tdt4265/other/rbk/1_train-val_1min_aalesund_from_start/img1/000102.jpg: 1088x1920 1 ball, 22 players, 2.3ms\n",
      "Speed: 2.4ms preprocess, 2.3ms inference, 0.5ms postprocess per image at shape (1, 3, 1088, 1920)\n",
      "\n",
      "image 1/1 /datasets/tdt4265/other/rbk/1_train-val_1min_aalesund_from_start/img1/000103.jpg: 1088x1920 1 ball, 22 players, 2.3ms\n",
      "Speed: 2.4ms preprocess, 2.3ms inference, 0.5ms postprocess per image at shape (1, 3, 1088, 1920)\n",
      "\n",
      "image 1/1 /datasets/tdt4265/other/rbk/1_train-val_1min_aalesund_from_start/img1/000104.jpg: 1088x1920 1 ball, 22 players, 2.3ms\n",
      "Speed: 2.3ms preprocess, 2.3ms inference, 1.1ms postprocess per image at shape (1, 3, 1088, 1920)\n",
      "\n",
      "image 1/1 /datasets/tdt4265/other/rbk/1_train-val_1min_aalesund_from_start/img1/000105.jpg: 1088x1920 1 ball, 22 players, 2.4ms\n",
      "Speed: 2.5ms preprocess, 2.4ms inference, 1.0ms postprocess per image at shape (1, 3, 1088, 1920)\n",
      "\n",
      "image 1/1 /datasets/tdt4265/other/rbk/1_train-val_1min_aalesund_from_start/img1/000106.jpg: 1088x1920 1 ball, 22 players, 2.6ms\n",
      "Speed: 2.4ms preprocess, 2.6ms inference, 0.8ms postprocess per image at shape (1, 3, 1088, 1920)\n",
      "\n",
      "image 1/1 /datasets/tdt4265/other/rbk/1_train-val_1min_aalesund_from_start/img1/000107.jpg: 1088x1920 1 ball, 22 players, 2.6ms\n",
      "Speed: 2.2ms preprocess, 2.6ms inference, 0.7ms postprocess per image at shape (1, 3, 1088, 1920)\n",
      "\n",
      "image 1/1 /datasets/tdt4265/other/rbk/1_train-val_1min_aalesund_from_start/img1/000108.jpg: 1088x1920 1 ball, 22 players, 2.5ms\n",
      "Speed: 2.4ms preprocess, 2.5ms inference, 0.8ms postprocess per image at shape (1, 3, 1088, 1920)\n",
      "\n",
      "image 1/1 /datasets/tdt4265/other/rbk/1_train-val_1min_aalesund_from_start/img1/000109.jpg: 1088x1920 1 ball, 22 players, 2.6ms\n",
      "Speed: 2.4ms preprocess, 2.6ms inference, 0.8ms postprocess per image at shape (1, 3, 1088, 1920)\n",
      "\n",
      "image 1/1 /datasets/tdt4265/other/rbk/1_train-val_1min_aalesund_from_start/img1/000110.jpg: 1088x1920 1 ball, 22 players, 2.8ms\n",
      "Speed: 2.4ms preprocess, 2.8ms inference, 0.5ms postprocess per image at shape (1, 3, 1088, 1920)\n",
      "\n",
      "image 1/1 /datasets/tdt4265/other/rbk/1_train-val_1min_aalesund_from_start/img1/000111.jpg: 1088x1920 1 ball, 22 players, 2.6ms\n",
      "Speed: 2.4ms preprocess, 2.6ms inference, 0.8ms postprocess per image at shape (1, 3, 1088, 1920)\n",
      "\n",
      "image 1/1 /datasets/tdt4265/other/rbk/1_train-val_1min_aalesund_from_start/img1/000112.jpg: 1088x1920 1 ball, 22 players, 2.3ms\n",
      "Speed: 2.3ms preprocess, 2.3ms inference, 1.0ms postprocess per image at shape (1, 3, 1088, 1920)\n",
      "\n",
      "image 1/1 /datasets/tdt4265/other/rbk/1_train-val_1min_aalesund_from_start/img1/000113.jpg: 1088x1920 1 ball, 22 players, 2.3ms\n",
      "Speed: 2.4ms preprocess, 2.3ms inference, 1.0ms postprocess per image at shape (1, 3, 1088, 1920)\n",
      "\n",
      "image 1/1 /datasets/tdt4265/other/rbk/1_train-val_1min_aalesund_from_start/img1/000114.jpg: 1088x1920 1 ball, 22 players, 2.3ms\n",
      "Speed: 2.4ms preprocess, 2.3ms inference, 1.0ms postprocess per image at shape (1, 3, 1088, 1920)\n",
      "\n",
      "image 1/1 /datasets/tdt4265/other/rbk/1_train-val_1min_aalesund_from_start/img1/000115.jpg: 1088x1920 1 ball, 22 players, 2.6ms\n",
      "Speed: 2.4ms preprocess, 2.6ms inference, 0.8ms postprocess per image at shape (1, 3, 1088, 1920)\n",
      "\n",
      "image 1/1 /datasets/tdt4265/other/rbk/1_train-val_1min_aalesund_from_start/img1/000116.jpg: 1088x1920 1 ball, 22 players, 2.3ms\n",
      "Speed: 2.5ms preprocess, 2.3ms inference, 1.0ms postprocess per image at shape (1, 3, 1088, 1920)\n",
      "\n",
      "image 1/1 /datasets/tdt4265/other/rbk/1_train-val_1min_aalesund_from_start/img1/000117.jpg: 1088x1920 1 ball, 22 players, 2.3ms\n",
      "Speed: 2.4ms preprocess, 2.3ms inference, 1.0ms postprocess per image at shape (1, 3, 1088, 1920)\n",
      "\n",
      "image 1/1 /datasets/tdt4265/other/rbk/1_train-val_1min_aalesund_from_start/img1/000118.jpg: 1088x1920 1 ball, 22 players, 2.3ms\n",
      "Speed: 2.2ms preprocess, 2.3ms inference, 1.1ms postprocess per image at shape (1, 3, 1088, 1920)\n",
      "\n",
      "image 1/1 /datasets/tdt4265/other/rbk/1_train-val_1min_aalesund_from_start/img1/000119.jpg: 1088x1920 1 ball, 22 players, 2.6ms\n",
      "Speed: 2.4ms preprocess, 2.6ms inference, 0.8ms postprocess per image at shape (1, 3, 1088, 1920)\n",
      "\n",
      "image 1/1 /datasets/tdt4265/other/rbk/1_train-val_1min_aalesund_from_start/img1/000120.jpg: 1088x1920 1 ball, 22 players, 2.3ms\n",
      "Speed: 2.4ms preprocess, 2.3ms inference, 0.9ms postprocess per image at shape (1, 3, 1088, 1920)\n",
      "\n",
      "image 1/1 /datasets/tdt4265/other/rbk/1_train-val_1min_aalesund_from_start/img1/000121.jpg: 1088x1920 1 ball, 22 players, 2.6ms\n",
      "Speed: 2.4ms preprocess, 2.6ms inference, 0.8ms postprocess per image at shape (1, 3, 1088, 1920)\n",
      "\n",
      "image 1/1 /datasets/tdt4265/other/rbk/1_train-val_1min_aalesund_from_start/img1/000122.jpg: 1088x1920 22 players, 2.3ms\n",
      "Speed: 2.3ms preprocess, 2.3ms inference, 1.0ms postprocess per image at shape (1, 3, 1088, 1920)\n",
      "\n",
      "image 1/1 /datasets/tdt4265/other/rbk/1_train-val_1min_aalesund_from_start/img1/000123.jpg: 1088x1920 22 players, 2.6ms\n",
      "Speed: 2.5ms preprocess, 2.6ms inference, 0.8ms postprocess per image at shape (1, 3, 1088, 1920)\n",
      "\n",
      "image 1/1 /datasets/tdt4265/other/rbk/1_train-val_1min_aalesund_from_start/img1/000124.jpg: 1088x1920 22 players, 2.6ms\n",
      "Speed: 2.4ms preprocess, 2.6ms inference, 0.8ms postprocess per image at shape (1, 3, 1088, 1920)\n",
      "\n",
      "image 1/1 /datasets/tdt4265/other/rbk/1_train-val_1min_aalesund_from_start/img1/000125.jpg: 1088x1920 22 players, 2.6ms\n",
      "Speed: 2.4ms preprocess, 2.6ms inference, 0.8ms postprocess per image at shape (1, 3, 1088, 1920)\n",
      "\n",
      "image 1/1 /datasets/tdt4265/other/rbk/1_train-val_1min_aalesund_from_start/img1/000126.jpg: 1088x1920 22 players, 2.6ms\n",
      "Speed: 2.4ms preprocess, 2.6ms inference, 0.8ms postprocess per image at shape (1, 3, 1088, 1920)\n",
      "\n",
      "image 1/1 /datasets/tdt4265/other/rbk/1_train-val_1min_aalesund_from_start/img1/000127.jpg: 1088x1920 22 players, 2.6ms\n",
      "Speed: 2.4ms preprocess, 2.6ms inference, 0.8ms postprocess per image at shape (1, 3, 1088, 1920)\n",
      "\n",
      "image 1/1 /datasets/tdt4265/other/rbk/1_train-val_1min_aalesund_from_start/img1/000128.jpg: 1088x1920 22 players, 2.6ms\n",
      "Speed: 2.4ms preprocess, 2.6ms inference, 0.8ms postprocess per image at shape (1, 3, 1088, 1920)\n",
      "\n",
      "image 1/1 /datasets/tdt4265/other/rbk/1_train-val_1min_aalesund_from_start/img1/000129.jpg: 1088x1920 22 players, 2.6ms\n",
      "Speed: 2.4ms preprocess, 2.6ms inference, 0.8ms postprocess per image at shape (1, 3, 1088, 1920)\n",
      "\n",
      "image 1/1 /datasets/tdt4265/other/rbk/1_train-val_1min_aalesund_from_start/img1/000130.jpg: 1088x1920 22 players, 2.8ms\n",
      "Speed: 2.4ms preprocess, 2.8ms inference, 0.6ms postprocess per image at shape (1, 3, 1088, 1920)\n",
      "\n",
      "image 1/1 /datasets/tdt4265/other/rbk/1_train-val_1min_aalesund_from_start/img1/000131.jpg: 1088x1920 22 players, 2.6ms\n",
      "Speed: 2.5ms preprocess, 2.6ms inference, 0.8ms postprocess per image at shape (1, 3, 1088, 1920)\n",
      "\n",
      "image 1/1 /datasets/tdt4265/other/rbk/1_train-val_1min_aalesund_from_start/img1/000132.jpg: 1088x1920 22 players, 2.6ms\n",
      "Speed: 2.4ms preprocess, 2.6ms inference, 0.8ms postprocess per image at shape (1, 3, 1088, 1920)\n",
      "\n",
      "image 1/1 /datasets/tdt4265/other/rbk/1_train-val_1min_aalesund_from_start/img1/000133.jpg: 1088x1920 22 players, 2.3ms\n",
      "Speed: 2.4ms preprocess, 2.3ms inference, 1.0ms postprocess per image at shape (1, 3, 1088, 1920)\n",
      "\n",
      "image 1/1 /datasets/tdt4265/other/rbk/1_train-val_1min_aalesund_from_start/img1/000134.jpg: 1088x1920 22 players, 2.4ms\n",
      "Speed: 2.4ms preprocess, 2.4ms inference, 1.0ms postprocess per image at shape (1, 3, 1088, 1920)\n",
      "\n",
      "image 1/1 /datasets/tdt4265/other/rbk/1_train-val_1min_aalesund_from_start/img1/000135.jpg: 1088x1920 22 players, 2.3ms\n",
      "Speed: 2.4ms preprocess, 2.3ms inference, 1.0ms postprocess per image at shape (1, 3, 1088, 1920)\n",
      "\n",
      "image 1/1 /datasets/tdt4265/other/rbk/1_train-val_1min_aalesund_from_start/img1/000136.jpg: 1088x1920 22 players, 2.3ms\n",
      "Speed: 2.4ms preprocess, 2.3ms inference, 1.1ms postprocess per image at shape (1, 3, 1088, 1920)\n",
      "\n",
      "image 1/1 /datasets/tdt4265/other/rbk/1_train-val_1min_aalesund_from_start/img1/000137.jpg: 1088x1920 22 players, 2.3ms\n",
      "Speed: 2.5ms preprocess, 2.3ms inference, 1.1ms postprocess per image at shape (1, 3, 1088, 1920)\n",
      "\n",
      "image 1/1 /datasets/tdt4265/other/rbk/1_train-val_1min_aalesund_from_start/img1/000138.jpg: 1088x1920 22 players, 2.4ms\n",
      "Speed: 2.4ms preprocess, 2.4ms inference, 0.5ms postprocess per image at shape (1, 3, 1088, 1920)\n",
      "\n",
      "image 1/1 /datasets/tdt4265/other/rbk/1_train-val_1min_aalesund_from_start/img1/000139.jpg: 1088x1920 22 players, 2.3ms\n",
      "Speed: 2.4ms preprocess, 2.3ms inference, 0.5ms postprocess per image at shape (1, 3, 1088, 1920)\n",
      "\n",
      "image 1/1 /datasets/tdt4265/other/rbk/1_train-val_1min_aalesund_from_start/img1/000140.jpg: 1088x1920 22 players, 2.4ms\n",
      "Speed: 2.3ms preprocess, 2.4ms inference, 0.5ms postprocess per image at shape (1, 3, 1088, 1920)\n",
      "\n",
      "image 1/1 /datasets/tdt4265/other/rbk/1_train-val_1min_aalesund_from_start/img1/000141.jpg: 1088x1920 22 players, 2.3ms\n",
      "Speed: 2.4ms preprocess, 2.3ms inference, 0.5ms postprocess per image at shape (1, 3, 1088, 1920)\n",
      "\n",
      "image 1/1 /datasets/tdt4265/other/rbk/1_train-val_1min_aalesund_from_start/img1/000142.jpg: 1088x1920 22 players, 2.3ms\n",
      "Speed: 2.3ms preprocess, 2.3ms inference, 0.6ms postprocess per image at shape (1, 3, 1088, 1920)\n",
      "\n",
      "image 1/1 /datasets/tdt4265/other/rbk/1_train-val_1min_aalesund_from_start/img1/000143.jpg: 1088x1920 22 players, 2.4ms\n",
      "Speed: 2.7ms preprocess, 2.4ms inference, 0.5ms postprocess per image at shape (1, 3, 1088, 1920)\n",
      "\n",
      "image 1/1 /datasets/tdt4265/other/rbk/1_train-val_1min_aalesund_from_start/img1/000144.jpg: 1088x1920 22 players, 2.4ms\n",
      "Speed: 2.4ms preprocess, 2.4ms inference, 0.6ms postprocess per image at shape (1, 3, 1088, 1920)\n",
      "\n",
      "image 1/1 /datasets/tdt4265/other/rbk/1_train-val_1min_aalesund_from_start/img1/000145.jpg: 1088x1920 22 players, 2.5ms\n",
      "Speed: 2.5ms preprocess, 2.5ms inference, 0.5ms postprocess per image at shape (1, 3, 1088, 1920)\n",
      "\n",
      "image 1/1 /datasets/tdt4265/other/rbk/1_train-val_1min_aalesund_from_start/img1/000146.jpg: 1088x1920 22 players, 2.4ms\n",
      "Speed: 2.5ms preprocess, 2.4ms inference, 0.6ms postprocess per image at shape (1, 3, 1088, 1920)\n",
      "\n",
      "image 1/1 /datasets/tdt4265/other/rbk/1_train-val_1min_aalesund_from_start/img1/000147.jpg: 1088x1920 22 players, 2.4ms\n",
      "Speed: 2.5ms preprocess, 2.4ms inference, 1.1ms postprocess per image at shape (1, 3, 1088, 1920)\n",
      "\n",
      "image 1/1 /datasets/tdt4265/other/rbk/1_train-val_1min_aalesund_from_start/img1/000148.jpg: 1088x1920 22 players, 2.6ms\n",
      "Speed: 2.5ms preprocess, 2.6ms inference, 0.7ms postprocess per image at shape (1, 3, 1088, 1920)\n",
      "\n",
      "image 1/1 /datasets/tdt4265/other/rbk/1_train-val_1min_aalesund_from_start/img1/000149.jpg: 1088x1920 22 players, 2.6ms\n",
      "Speed: 2.5ms preprocess, 2.6ms inference, 0.8ms postprocess per image at shape (1, 3, 1088, 1920)\n",
      "\n",
      "image 1/1 /datasets/tdt4265/other/rbk/1_train-val_1min_aalesund_from_start/img1/000150.jpg: 1088x1920 22 players, 2.6ms\n",
      "Speed: 2.5ms preprocess, 2.6ms inference, 0.8ms postprocess per image at shape (1, 3, 1088, 1920)\n",
      "\n",
      "image 1/1 /datasets/tdt4265/other/rbk/1_train-val_1min_aalesund_from_start/img1/000151.jpg: 1088x1920 1 ball, 22 players, 2.8ms\n",
      "Speed: 2.5ms preprocess, 2.8ms inference, 0.5ms postprocess per image at shape (1, 3, 1088, 1920)\n",
      "\n",
      "image 1/1 /datasets/tdt4265/other/rbk/1_train-val_1min_aalesund_from_start/img1/000152.jpg: 1088x1920 1 ball, 22 players, 2.3ms\n",
      "Speed: 2.4ms preprocess, 2.3ms inference, 0.5ms postprocess per image at shape (1, 3, 1088, 1920)\n",
      "\n",
      "image 1/1 /datasets/tdt4265/other/rbk/1_train-val_1min_aalesund_from_start/img1/000153.jpg: 1088x1920 1 ball, 22 players, 2.3ms\n",
      "Speed: 2.4ms preprocess, 2.3ms inference, 0.5ms postprocess per image at shape (1, 3, 1088, 1920)\n",
      "\n",
      "image 1/1 /datasets/tdt4265/other/rbk/1_train-val_1min_aalesund_from_start/img1/000154.jpg: 1088x1920 1 ball, 22 players, 2.3ms\n",
      "Speed: 2.4ms preprocess, 2.3ms inference, 0.5ms postprocess per image at shape (1, 3, 1088, 1920)\n",
      "\n",
      "image 1/1 /datasets/tdt4265/other/rbk/1_train-val_1min_aalesund_from_start/img1/000155.jpg: 1088x1920 1 ball, 22 players, 2.3ms\n",
      "Speed: 2.4ms preprocess, 2.3ms inference, 0.6ms postprocess per image at shape (1, 3, 1088, 1920)\n",
      "\n",
      "image 1/1 /datasets/tdt4265/other/rbk/1_train-val_1min_aalesund_from_start/img1/000156.jpg: 1088x1920 1 ball, 22 players, 2.4ms\n",
      "Speed: 2.4ms preprocess, 2.4ms inference, 0.9ms postprocess per image at shape (1, 3, 1088, 1920)\n",
      "\n",
      "image 1/1 /datasets/tdt4265/other/rbk/1_train-val_1min_aalesund_from_start/img1/000157.jpg: 1088x1920 1 ball, 22 players, 2.5ms\n",
      "Speed: 2.4ms preprocess, 2.5ms inference, 0.6ms postprocess per image at shape (1, 3, 1088, 1920)\n",
      "\n",
      "image 1/1 /datasets/tdt4265/other/rbk/1_train-val_1min_aalesund_from_start/img1/000158.jpg: 1088x1920 1 ball, 22 players, 2.9ms\n",
      "Speed: 2.4ms preprocess, 2.9ms inference, 0.5ms postprocess per image at shape (1, 3, 1088, 1920)\n",
      "\n",
      "image 1/1 /datasets/tdt4265/other/rbk/1_train-val_1min_aalesund_from_start/img1/000159.jpg: 1088x1920 1 ball, 22 players, 2.4ms\n",
      "Speed: 2.4ms preprocess, 2.4ms inference, 0.5ms postprocess per image at shape (1, 3, 1088, 1920)\n",
      "\n",
      "image 1/1 /datasets/tdt4265/other/rbk/1_train-val_1min_aalesund_from_start/img1/000160.jpg: 1088x1920 1 ball, 22 players, 2.4ms\n",
      "Speed: 2.4ms preprocess, 2.4ms inference, 0.6ms postprocess per image at shape (1, 3, 1088, 1920)\n",
      "\n",
      "image 1/1 /datasets/tdt4265/other/rbk/1_train-val_1min_aalesund_from_start/img1/000161.jpg: 1088x1920 1 ball, 22 players, 2.4ms\n",
      "Speed: 2.4ms preprocess, 2.4ms inference, 0.5ms postprocess per image at shape (1, 3, 1088, 1920)\n",
      "\n",
      "image 1/1 /datasets/tdt4265/other/rbk/1_train-val_1min_aalesund_from_start/img1/000162.jpg: 1088x1920 1 ball, 22 players, 2.4ms\n",
      "Speed: 2.4ms preprocess, 2.4ms inference, 0.5ms postprocess per image at shape (1, 3, 1088, 1920)\n",
      "\n",
      "image 1/1 /datasets/tdt4265/other/rbk/1_train-val_1min_aalesund_from_start/img1/000163.jpg: 1088x1920 1 ball, 22 players, 2.7ms\n",
      "Speed: 2.5ms preprocess, 2.7ms inference, 0.8ms postprocess per image at shape (1, 3, 1088, 1920)\n",
      "\n",
      "image 1/1 /datasets/tdt4265/other/rbk/1_train-val_1min_aalesund_from_start/img1/000164.jpg: 1088x1920 1 ball, 22 players, 2.4ms\n",
      "Speed: 2.4ms preprocess, 2.4ms inference, 0.5ms postprocess per image at shape (1, 3, 1088, 1920)\n",
      "\n",
      "image 1/1 /datasets/tdt4265/other/rbk/1_train-val_1min_aalesund_from_start/img1/000165.jpg: 1088x1920 1 ball, 22 players, 2.3ms\n",
      "Speed: 2.5ms preprocess, 2.3ms inference, 0.5ms postprocess per image at shape (1, 3, 1088, 1920)\n",
      "\n",
      "image 1/1 /datasets/tdt4265/other/rbk/1_train-val_1min_aalesund_from_start/img1/000166.jpg: 1088x1920 1 ball, 22 players, 2.3ms\n",
      "Speed: 2.4ms preprocess, 2.3ms inference, 0.8ms postprocess per image at shape (1, 3, 1088, 1920)\n",
      "\n",
      "image 1/1 /datasets/tdt4265/other/rbk/1_train-val_1min_aalesund_from_start/img1/000167.jpg: 1088x1920 1 ball, 22 players, 2.4ms\n",
      "Speed: 2.5ms preprocess, 2.4ms inference, 0.5ms postprocess per image at shape (1, 3, 1088, 1920)\n",
      "\n",
      "image 1/1 /datasets/tdt4265/other/rbk/1_train-val_1min_aalesund_from_start/img1/000168.jpg: 1088x1920 1 ball, 22 players, 2.3ms\n",
      "Speed: 2.4ms preprocess, 2.3ms inference, 0.5ms postprocess per image at shape (1, 3, 1088, 1920)\n",
      "\n",
      "image 1/1 /datasets/tdt4265/other/rbk/1_train-val_1min_aalesund_from_start/img1/000169.jpg: 1088x1920 1 ball, 22 players, 2.3ms\n",
      "Speed: 2.5ms preprocess, 2.3ms inference, 0.5ms postprocess per image at shape (1, 3, 1088, 1920)\n",
      "\n",
      "image 1/1 /datasets/tdt4265/other/rbk/1_train-val_1min_aalesund_from_start/img1/000170.jpg: 1088x1920 1 ball, 22 players, 2.3ms\n",
      "Speed: 2.3ms preprocess, 2.3ms inference, 0.5ms postprocess per image at shape (1, 3, 1088, 1920)\n",
      "\n",
      "image 1/1 /datasets/tdt4265/other/rbk/1_train-val_1min_aalesund_from_start/img1/000171.jpg: 1088x1920 1 ball, 22 players, 2.3ms\n",
      "Speed: 2.4ms preprocess, 2.3ms inference, 0.5ms postprocess per image at shape (1, 3, 1088, 1920)\n",
      "\n",
      "image 1/1 /datasets/tdt4265/other/rbk/1_train-val_1min_aalesund_from_start/img1/000172.jpg: 1088x1920 1 ball, 22 players, 2.3ms\n",
      "Speed: 2.3ms preprocess, 2.3ms inference, 0.5ms postprocess per image at shape (1, 3, 1088, 1920)\n",
      "\n",
      "image 1/1 /datasets/tdt4265/other/rbk/1_train-val_1min_aalesund_from_start/img1/000173.jpg: 1088x1920 1 ball, 22 players, 2.3ms\n",
      "Speed: 2.4ms preprocess, 2.3ms inference, 0.5ms postprocess per image at shape (1, 3, 1088, 1920)\n",
      "\n",
      "image 1/1 /datasets/tdt4265/other/rbk/1_train-val_1min_aalesund_from_start/img1/000174.jpg: 1088x1920 1 ball, 22 players, 2.3ms\n",
      "Speed: 2.3ms preprocess, 2.3ms inference, 0.5ms postprocess per image at shape (1, 3, 1088, 1920)\n",
      "\n",
      "image 1/1 /datasets/tdt4265/other/rbk/1_train-val_1min_aalesund_from_start/img1/000175.jpg: 1088x1920 1 ball, 22 players, 2.3ms\n",
      "Speed: 2.4ms preprocess, 2.3ms inference, 0.5ms postprocess per image at shape (1, 3, 1088, 1920)\n",
      "\n",
      "image 1/1 /datasets/tdt4265/other/rbk/1_train-val_1min_aalesund_from_start/img1/000176.jpg: 1088x1920 1 ball, 22 players, 2.3ms\n",
      "Speed: 2.3ms preprocess, 2.3ms inference, 0.6ms postprocess per image at shape (1, 3, 1088, 1920)\n",
      "\n",
      "image 1/1 /datasets/tdt4265/other/rbk/1_train-val_1min_aalesund_from_start/img1/000177.jpg: 1088x1920 1 ball, 22 players, 2.3ms\n",
      "Speed: 2.2ms preprocess, 2.3ms inference, 0.5ms postprocess per image at shape (1, 3, 1088, 1920)\n",
      "\n",
      "image 1/1 /datasets/tdt4265/other/rbk/1_train-val_1min_aalesund_from_start/img1/000178.jpg: 1088x1920 22 players, 2.3ms\n",
      "Speed: 2.3ms preprocess, 2.3ms inference, 0.5ms postprocess per image at shape (1, 3, 1088, 1920)\n",
      "\n",
      "image 1/1 /datasets/tdt4265/other/rbk/1_train-val_1min_aalesund_from_start/img1/000179.jpg: 1088x1920 22 players, 2.3ms\n",
      "Speed: 2.4ms preprocess, 2.3ms inference, 0.9ms postprocess per image at shape (1, 3, 1088, 1920)\n",
      "\n",
      "image 1/1 /datasets/tdt4265/other/rbk/1_train-val_1min_aalesund_from_start/img1/000180.jpg: 1088x1920 22 players, 2.5ms\n",
      "Speed: 2.3ms preprocess, 2.5ms inference, 0.6ms postprocess per image at shape (1, 3, 1088, 1920)\n",
      "\n",
      "image 1/1 /datasets/tdt4265/other/rbk/1_train-val_1min_aalesund_from_start/img1/000181.jpg: 1088x1920 22 players, 2.5ms\n",
      "Speed: 2.4ms preprocess, 2.5ms inference, 0.6ms postprocess per image at shape (1, 3, 1088, 1920)\n",
      "\n",
      "image 1/1 /datasets/tdt4265/other/rbk/1_train-val_1min_aalesund_from_start/img1/000182.jpg: 1088x1920 22 players, 2.6ms\n",
      "Speed: 2.3ms preprocess, 2.6ms inference, 0.6ms postprocess per image at shape (1, 3, 1088, 1920)\n",
      "\n",
      "image 1/1 /datasets/tdt4265/other/rbk/1_train-val_1min_aalesund_from_start/img1/000183.jpg: 1088x1920 22 players, 2.7ms\n",
      "Speed: 2.4ms preprocess, 2.7ms inference, 0.5ms postprocess per image at shape (1, 3, 1088, 1920)\n",
      "\n",
      "image 1/1 /datasets/tdt4265/other/rbk/1_train-val_1min_aalesund_from_start/img1/000184.jpg: 1088x1920 22 players, 2.3ms\n",
      "Speed: 2.2ms preprocess, 2.3ms inference, 0.5ms postprocess per image at shape (1, 3, 1088, 1920)\n",
      "\n",
      "image 1/1 /datasets/tdt4265/other/rbk/1_train-val_1min_aalesund_from_start/img1/000185.jpg: 1088x1920 22 players, 2.3ms\n",
      "Speed: 2.2ms preprocess, 2.3ms inference, 0.5ms postprocess per image at shape (1, 3, 1088, 1920)\n",
      "\n",
      "image 1/1 /datasets/tdt4265/other/rbk/1_train-val_1min_aalesund_from_start/img1/000186.jpg: 1088x1920 22 players, 2.3ms\n",
      "Speed: 2.3ms preprocess, 2.3ms inference, 0.5ms postprocess per image at shape (1, 3, 1088, 1920)\n",
      "\n",
      "image 1/1 /datasets/tdt4265/other/rbk/1_train-val_1min_aalesund_from_start/img1/000187.jpg: 1088x1920 22 players, 2.3ms\n",
      "Speed: 2.4ms preprocess, 2.3ms inference, 0.5ms postprocess per image at shape (1, 3, 1088, 1920)\n",
      "\n",
      "image 1/1 /datasets/tdt4265/other/rbk/1_train-val_1min_aalesund_from_start/img1/000188.jpg: 1088x1920 22 players, 2.4ms\n",
      "Speed: 2.3ms preprocess, 2.4ms inference, 0.7ms postprocess per image at shape (1, 3, 1088, 1920)\n",
      "\n",
      "image 1/1 /datasets/tdt4265/other/rbk/1_train-val_1min_aalesund_from_start/img1/000189.jpg: 1088x1920 22 players, 2.7ms\n",
      "Speed: 5.8ms preprocess, 2.7ms inference, 6.6ms postprocess per image at shape (1, 3, 1088, 1920)\n",
      "\n",
      "image 1/1 /datasets/tdt4265/other/rbk/1_train-val_1min_aalesund_from_start/img1/000190.jpg: 1088x1920 22 players, 2.6ms\n",
      "Speed: 2.3ms preprocess, 2.6ms inference, 0.5ms postprocess per image at shape (1, 3, 1088, 1920)\n",
      "\n",
      "image 1/1 /datasets/tdt4265/other/rbk/1_train-val_1min_aalesund_from_start/img1/000191.jpg: 1088x1920 22 players, 2.3ms\n",
      "Speed: 2.4ms preprocess, 2.3ms inference, 0.5ms postprocess per image at shape (1, 3, 1088, 1920)\n",
      "\n",
      "image 1/1 /datasets/tdt4265/other/rbk/1_train-val_1min_aalesund_from_start/img1/000192.jpg: 1088x1920 22 players, 2.4ms\n",
      "Speed: 2.3ms preprocess, 2.4ms inference, 0.5ms postprocess per image at shape (1, 3, 1088, 1920)\n",
      "\n",
      "image 1/1 /datasets/tdt4265/other/rbk/1_train-val_1min_aalesund_from_start/img1/000193.jpg: 1088x1920 22 players, 2.8ms\n",
      "Speed: 2.4ms preprocess, 2.8ms inference, 0.5ms postprocess per image at shape (1, 3, 1088, 1920)\n",
      "\n",
      "image 1/1 /datasets/tdt4265/other/rbk/1_train-val_1min_aalesund_from_start/img1/000194.jpg: 1088x1920 22 players, 2.3ms\n",
      "Speed: 2.4ms preprocess, 2.3ms inference, 0.5ms postprocess per image at shape (1, 3, 1088, 1920)\n",
      "\n",
      "image 1/1 /datasets/tdt4265/other/rbk/1_train-val_1min_aalesund_from_start/img1/000195.jpg: 1088x1920 22 players, 2.6ms\n",
      "Speed: 2.4ms preprocess, 2.6ms inference, 0.8ms postprocess per image at shape (1, 3, 1088, 1920)\n",
      "\n",
      "image 1/1 /datasets/tdt4265/other/rbk/1_train-val_1min_aalesund_from_start/img1/000196.jpg: 1088x1920 22 players, 2.3ms\n",
      "Speed: 2.4ms preprocess, 2.3ms inference, 0.5ms postprocess per image at shape (1, 3, 1088, 1920)\n",
      "\n",
      "image 1/1 /datasets/tdt4265/other/rbk/1_train-val_1min_aalesund_from_start/img1/000197.jpg: 1088x1920 22 players, 2.3ms\n",
      "Speed: 2.4ms preprocess, 2.3ms inference, 0.5ms postprocess per image at shape (1, 3, 1088, 1920)\n",
      "\n",
      "image 1/1 /datasets/tdt4265/other/rbk/1_train-val_1min_aalesund_from_start/img1/000198.jpg: 1088x1920 22 players, 2.5ms\n",
      "Speed: 2.3ms preprocess, 2.5ms inference, 0.6ms postprocess per image at shape (1, 3, 1088, 1920)\n",
      "\n",
      "image 1/1 /datasets/tdt4265/other/rbk/1_train-val_1min_aalesund_from_start/img1/000199.jpg: 1088x1920 22 players, 2.6ms\n",
      "Speed: 2.4ms preprocess, 2.6ms inference, 0.5ms postprocess per image at shape (1, 3, 1088, 1920)\n",
      "\n",
      "image 1/1 /datasets/tdt4265/other/rbk/1_train-val_1min_aalesund_from_start/img1/000200.jpg: 1088x1920 22 players, 2.3ms\n",
      "Speed: 2.3ms preprocess, 2.3ms inference, 0.5ms postprocess per image at shape (1, 3, 1088, 1920)\n",
      "\n",
      "image 1/1 /datasets/tdt4265/other/rbk/1_train-val_1min_aalesund_from_start/img1/000201.jpg: 1088x1920 22 players, 2.3ms\n",
      "Speed: 2.4ms preprocess, 2.3ms inference, 0.5ms postprocess per image at shape (1, 3, 1088, 1920)\n",
      "\n",
      "image 1/1 /datasets/tdt4265/other/rbk/1_train-val_1min_aalesund_from_start/img1/000202.jpg: 1088x1920 22 players, 2.3ms\n",
      "Speed: 2.3ms preprocess, 2.3ms inference, 0.5ms postprocess per image at shape (1, 3, 1088, 1920)\n",
      "\n",
      "image 1/1 /datasets/tdt4265/other/rbk/1_train-val_1min_aalesund_from_start/img1/000203.jpg: 1088x1920 22 players, 2.3ms\n",
      "Speed: 2.4ms preprocess, 2.3ms inference, 0.6ms postprocess per image at shape (1, 3, 1088, 1920)\n",
      "\n",
      "image 1/1 /datasets/tdt4265/other/rbk/1_train-val_1min_aalesund_from_start/img1/000204.jpg: 1088x1920 22 players, 2.3ms\n",
      "Speed: 2.3ms preprocess, 2.3ms inference, 0.6ms postprocess per image at shape (1, 3, 1088, 1920)\n",
      "\n",
      "image 1/1 /datasets/tdt4265/other/rbk/1_train-val_1min_aalesund_from_start/img1/000205.jpg: 1088x1920 22 players, 2.3ms\n",
      "Speed: 2.4ms preprocess, 2.3ms inference, 0.6ms postprocess per image at shape (1, 3, 1088, 1920)\n",
      "\n",
      "image 1/1 /datasets/tdt4265/other/rbk/1_train-val_1min_aalesund_from_start/img1/000206.jpg: 1088x1920 22 players, 2.3ms\n",
      "Speed: 2.3ms preprocess, 2.3ms inference, 0.5ms postprocess per image at shape (1, 3, 1088, 1920)\n",
      "\n",
      "image 1/1 /datasets/tdt4265/other/rbk/1_train-val_1min_aalesund_from_start/img1/000207.jpg: 1088x1920 22 players, 2.4ms\n",
      "Speed: 2.4ms preprocess, 2.4ms inference, 0.5ms postprocess per image at shape (1, 3, 1088, 1920)\n",
      "\n",
      "image 1/1 /datasets/tdt4265/other/rbk/1_train-val_1min_aalesund_from_start/img1/000208.jpg: 1088x1920 22 players, 2.3ms\n",
      "Speed: 2.3ms preprocess, 2.3ms inference, 0.7ms postprocess per image at shape (1, 3, 1088, 1920)\n",
      "\n",
      "image 1/1 /datasets/tdt4265/other/rbk/1_train-val_1min_aalesund_from_start/img1/000209.jpg: 1088x1920 22 players, 3.1ms\n",
      "Speed: 3.0ms preprocess, 3.1ms inference, 0.7ms postprocess per image at shape (1, 3, 1088, 1920)\n",
      "\n",
      "image 1/1 /datasets/tdt4265/other/rbk/1_train-val_1min_aalesund_from_start/img1/000210.jpg: 1088x1920 22 players, 2.4ms\n",
      "Speed: 2.6ms preprocess, 2.4ms inference, 0.5ms postprocess per image at shape (1, 3, 1088, 1920)\n",
      "\n",
      "image 1/1 /datasets/tdt4265/other/rbk/1_train-val_1min_aalesund_from_start/img1/000211.jpg: 1088x1920 1 ball, 22 players, 2.3ms\n",
      "Speed: 2.4ms preprocess, 2.3ms inference, 0.5ms postprocess per image at shape (1, 3, 1088, 1920)\n",
      "\n",
      "image 1/1 /datasets/tdt4265/other/rbk/1_train-val_1min_aalesund_from_start/img1/000212.jpg: 1088x1920 1 ball, 22 players, 2.6ms\n",
      "Speed: 2.4ms preprocess, 2.6ms inference, 0.6ms postprocess per image at shape (1, 3, 1088, 1920)\n",
      "\n",
      "image 1/1 /datasets/tdt4265/other/rbk/1_train-val_1min_aalesund_from_start/img1/000213.jpg: 1088x1920 1 ball, 22 players, 2.3ms\n",
      "Speed: 2.4ms preprocess, 2.3ms inference, 0.5ms postprocess per image at shape (1, 3, 1088, 1920)\n",
      "\n",
      "image 1/1 /datasets/tdt4265/other/rbk/1_train-val_1min_aalesund_from_start/img1/000214.jpg: 1088x1920 1 ball, 22 players, 2.5ms\n",
      "Speed: 2.4ms preprocess, 2.5ms inference, 0.5ms postprocess per image at shape (1, 3, 1088, 1920)\n",
      "\n",
      "image 1/1 /datasets/tdt4265/other/rbk/1_train-val_1min_aalesund_from_start/img1/000215.jpg: 1088x1920 1 ball, 22 players, 2.4ms\n",
      "Speed: 2.4ms preprocess, 2.4ms inference, 0.5ms postprocess per image at shape (1, 3, 1088, 1920)\n",
      "\n",
      "image 1/1 /datasets/tdt4265/other/rbk/1_train-val_1min_aalesund_from_start/img1/000216.jpg: 1088x1920 1 ball, 22 players, 2.3ms\n",
      "Speed: 2.4ms preprocess, 2.3ms inference, 0.5ms postprocess per image at shape (1, 3, 1088, 1920)\n",
      "\n",
      "image 1/1 /datasets/tdt4265/other/rbk/1_train-val_1min_aalesund_from_start/img1/000217.jpg: 1088x1920 1 ball, 22 players, 2.3ms\n",
      "Speed: 2.4ms preprocess, 2.3ms inference, 0.5ms postprocess per image at shape (1, 3, 1088, 1920)\n",
      "\n",
      "image 1/1 /datasets/tdt4265/other/rbk/1_train-val_1min_aalesund_from_start/img1/000218.jpg: 1088x1920 1 ball, 22 players, 2.3ms\n",
      "Speed: 2.3ms preprocess, 2.3ms inference, 0.5ms postprocess per image at shape (1, 3, 1088, 1920)\n",
      "\n",
      "image 1/1 /datasets/tdt4265/other/rbk/1_train-val_1min_aalesund_from_start/img1/000219.jpg: 1088x1920 1 ball, 22 players, 2.3ms\n",
      "Speed: 2.4ms preprocess, 2.3ms inference, 0.5ms postprocess per image at shape (1, 3, 1088, 1920)\n",
      "\n",
      "image 1/1 /datasets/tdt4265/other/rbk/1_train-val_1min_aalesund_from_start/img1/000220.jpg: 1088x1920 1 ball, 22 players, 2.3ms\n",
      "Speed: 2.4ms preprocess, 2.3ms inference, 0.5ms postprocess per image at shape (1, 3, 1088, 1920)\n",
      "\n",
      "image 1/1 /datasets/tdt4265/other/rbk/1_train-val_1min_aalesund_from_start/img1/000221.jpg: 1088x1920 1 ball, 22 players, 2.3ms\n",
      "Speed: 2.4ms preprocess, 2.3ms inference, 0.5ms postprocess per image at shape (1, 3, 1088, 1920)\n",
      "\n",
      "image 1/1 /datasets/tdt4265/other/rbk/1_train-val_1min_aalesund_from_start/img1/000222.jpg: 1088x1920 1 ball, 22 players, 2.3ms\n",
      "Speed: 2.3ms preprocess, 2.3ms inference, 0.5ms postprocess per image at shape (1, 3, 1088, 1920)\n",
      "\n",
      "image 1/1 /datasets/tdt4265/other/rbk/1_train-val_1min_aalesund_from_start/img1/000223.jpg: 1088x1920 1 ball, 22 players, 2.3ms\n",
      "Speed: 2.4ms preprocess, 2.3ms inference, 0.5ms postprocess per image at shape (1, 3, 1088, 1920)\n",
      "\n",
      "image 1/1 /datasets/tdt4265/other/rbk/1_train-val_1min_aalesund_from_start/img1/000224.jpg: 1088x1920 1 ball, 22 players, 2.3ms\n",
      "Speed: 2.3ms preprocess, 2.3ms inference, 0.5ms postprocess per image at shape (1, 3, 1088, 1920)\n",
      "\n",
      "image 1/1 /datasets/tdt4265/other/rbk/1_train-val_1min_aalesund_from_start/img1/000225.jpg: 1088x1920 1 ball, 22 players, 2.3ms\n",
      "Speed: 2.4ms preprocess, 2.3ms inference, 0.5ms postprocess per image at shape (1, 3, 1088, 1920)\n",
      "\n",
      "image 1/1 /datasets/tdt4265/other/rbk/1_train-val_1min_aalesund_from_start/img1/000226.jpg: 1088x1920 1 ball, 22 players, 2.3ms\n",
      "Speed: 2.3ms preprocess, 2.3ms inference, 0.5ms postprocess per image at shape (1, 3, 1088, 1920)\n",
      "\n",
      "image 1/1 /datasets/tdt4265/other/rbk/1_train-val_1min_aalesund_from_start/img1/000227.jpg: 1088x1920 1 ball, 22 players, 2.3ms\n",
      "Speed: 2.4ms preprocess, 2.3ms inference, 0.5ms postprocess per image at shape (1, 3, 1088, 1920)\n",
      "\n",
      "image 1/1 /datasets/tdt4265/other/rbk/1_train-val_1min_aalesund_from_start/img1/000228.jpg: 1088x1920 1 ball, 21 players, 2.4ms\n",
      "Speed: 2.5ms preprocess, 2.4ms inference, 0.5ms postprocess per image at shape (1, 3, 1088, 1920)\n",
      "\n",
      "image 1/1 /datasets/tdt4265/other/rbk/1_train-val_1min_aalesund_from_start/img1/000229.jpg: 1088x1920 1 ball, 21 players, 2.6ms\n",
      "Speed: 2.4ms preprocess, 2.6ms inference, 0.6ms postprocess per image at shape (1, 3, 1088, 1920)\n",
      "\n",
      "image 1/1 /datasets/tdt4265/other/rbk/1_train-val_1min_aalesund_from_start/img1/000230.jpg: 1088x1920 1 ball, 21 players, 2.5ms\n",
      "Speed: 2.3ms preprocess, 2.5ms inference, 0.6ms postprocess per image at shape (1, 3, 1088, 1920)\n",
      "\n",
      "image 1/1 /datasets/tdt4265/other/rbk/1_train-val_1min_aalesund_from_start/img1/000231.jpg: 1088x1920 1 ball, 21 players, 2.5ms\n",
      "Speed: 2.4ms preprocess, 2.5ms inference, 0.6ms postprocess per image at shape (1, 3, 1088, 1920)\n",
      "\n",
      "image 1/1 /datasets/tdt4265/other/rbk/1_train-val_1min_aalesund_from_start/img1/000232.jpg: 1088x1920 1 ball, 22 players, 2.3ms\n",
      "Speed: 2.3ms preprocess, 2.3ms inference, 0.8ms postprocess per image at shape (1, 3, 1088, 1920)\n",
      "\n",
      "image 1/1 /datasets/tdt4265/other/rbk/1_train-val_1min_aalesund_from_start/img1/000233.jpg: 1088x1920 1 ball, 22 players, 2.3ms\n",
      "Speed: 2.4ms preprocess, 2.3ms inference, 0.7ms postprocess per image at shape (1, 3, 1088, 1920)\n",
      "\n",
      "image 1/1 /datasets/tdt4265/other/rbk/1_train-val_1min_aalesund_from_start/img1/000234.jpg: 1088x1920 1 ball, 22 players, 2.3ms\n",
      "Speed: 2.4ms preprocess, 2.3ms inference, 0.5ms postprocess per image at shape (1, 3, 1088, 1920)\n",
      "\n",
      "image 1/1 /datasets/tdt4265/other/rbk/1_train-val_1min_aalesund_from_start/img1/000235.jpg: 1088x1920 1 ball, 22 players, 2.3ms\n",
      "Speed: 2.4ms preprocess, 2.3ms inference, 0.5ms postprocess per image at shape (1, 3, 1088, 1920)\n",
      "\n",
      "image 1/1 /datasets/tdt4265/other/rbk/1_train-val_1min_aalesund_from_start/img1/000236.jpg: 1088x1920 1 ball, 22 players, 2.5ms\n",
      "Speed: 2.2ms preprocess, 2.5ms inference, 0.5ms postprocess per image at shape (1, 3, 1088, 1920)\n",
      "\n",
      "image 1/1 /datasets/tdt4265/other/rbk/1_train-val_1min_aalesund_from_start/img1/000237.jpg: 1088x1920 1 ball, 22 players, 2.6ms\n",
      "Speed: 2.4ms preprocess, 2.6ms inference, 0.7ms postprocess per image at shape (1, 3, 1088, 1920)\n",
      "\n",
      "image 1/1 /datasets/tdt4265/other/rbk/1_train-val_1min_aalesund_from_start/img1/000238.jpg: 1088x1920 1 ball, 22 players, 2.6ms\n",
      "Speed: 2.4ms preprocess, 2.6ms inference, 0.8ms postprocess per image at shape (1, 3, 1088, 1920)\n",
      "\n",
      "image 1/1 /datasets/tdt4265/other/rbk/1_train-val_1min_aalesund_from_start/img1/000239.jpg: 1088x1920 1 ball, 22 players, 2.6ms\n",
      "Speed: 2.4ms preprocess, 2.6ms inference, 0.8ms postprocess per image at shape (1, 3, 1088, 1920)\n",
      "\n",
      "image 1/1 /datasets/tdt4265/other/rbk/1_train-val_1min_aalesund_from_start/img1/000240.jpg: 1088x1920 1 ball, 22 players, 2.6ms\n",
      "Speed: 2.3ms preprocess, 2.6ms inference, 0.8ms postprocess per image at shape (1, 3, 1088, 1920)\n",
      "\n",
      "image 1/1 /datasets/tdt4265/other/rbk/1_train-val_1min_aalesund_from_start/img1/000241.jpg: 1088x1920 1 ball, 22 players, 2.6ms\n",
      "Speed: 2.4ms preprocess, 2.6ms inference, 0.8ms postprocess per image at shape (1, 3, 1088, 1920)\n",
      "\n",
      "image 1/1 /datasets/tdt4265/other/rbk/1_train-val_1min_aalesund_from_start/img1/000242.jpg: 1088x1920 1 ball, 22 players, 2.3ms\n",
      "Speed: 2.4ms preprocess, 2.3ms inference, 1.2ms postprocess per image at shape (1, 3, 1088, 1920)\n",
      "\n",
      "image 1/1 /datasets/tdt4265/other/rbk/1_train-val_1min_aalesund_from_start/img1/000243.jpg: 1088x1920 1 ball, 22 players, 2.6ms\n",
      "Speed: 2.4ms preprocess, 2.6ms inference, 0.8ms postprocess per image at shape (1, 3, 1088, 1920)\n",
      "\n",
      "image 1/1 /datasets/tdt4265/other/rbk/1_train-val_1min_aalesund_from_start/img1/000244.jpg: 1088x1920 1 ball, 22 players, 2.4ms\n",
      "Speed: 2.4ms preprocess, 2.4ms inference, 1.1ms postprocess per image at shape (1, 3, 1088, 1920)\n",
      "\n",
      "image 1/1 /datasets/tdt4265/other/rbk/1_train-val_1min_aalesund_from_start/img1/000245.jpg: 1088x1920 1 ball, 22 players, 2.3ms\n",
      "Speed: 2.4ms preprocess, 2.3ms inference, 1.1ms postprocess per image at shape (1, 3, 1088, 1920)\n",
      "\n",
      "image 1/1 /datasets/tdt4265/other/rbk/1_train-val_1min_aalesund_from_start/img1/000246.jpg: 1088x1920 1 ball, 22 players, 2.3ms\n",
      "Speed: 2.4ms preprocess, 2.3ms inference, 0.5ms postprocess per image at shape (1, 3, 1088, 1920)\n",
      "\n",
      "image 1/1 /datasets/tdt4265/other/rbk/1_train-val_1min_aalesund_from_start/img1/000247.jpg: 1088x1920 1 ball, 22 players, 2.3ms\n",
      "Speed: 2.2ms preprocess, 2.3ms inference, 0.5ms postprocess per image at shape (1, 3, 1088, 1920)\n",
      "\n",
      "image 1/1 /datasets/tdt4265/other/rbk/1_train-val_1min_aalesund_from_start/img1/000248.jpg: 1088x1920 1 ball, 22 players, 2.3ms\n",
      "Speed: 2.4ms preprocess, 2.3ms inference, 0.5ms postprocess per image at shape (1, 3, 1088, 1920)\n",
      "\n",
      "image 1/1 /datasets/tdt4265/other/rbk/1_train-val_1min_aalesund_from_start/img1/000249.jpg: 1088x1920 1 ball, 22 players, 2.3ms\n",
      "Speed: 2.4ms preprocess, 2.3ms inference, 0.5ms postprocess per image at shape (1, 3, 1088, 1920)\n",
      "\n",
      "image 1/1 /datasets/tdt4265/other/rbk/1_train-val_1min_aalesund_from_start/img1/000250.jpg: 1088x1920 22 players, 2.3ms\n",
      "Speed: 2.4ms preprocess, 2.3ms inference, 0.6ms postprocess per image at shape (1, 3, 1088, 1920)\n",
      "\n",
      "image 1/1 /datasets/tdt4265/other/rbk/1_train-val_1min_aalesund_from_start/img1/000251.jpg: 1088x1920 22 players, 2.3ms\n",
      "Speed: 2.4ms preprocess, 2.3ms inference, 0.5ms postprocess per image at shape (1, 3, 1088, 1920)\n",
      "\n",
      "image 1/1 /datasets/tdt4265/other/rbk/1_train-val_1min_aalesund_from_start/img1/000252.jpg: 1088x1920 22 players, 2.3ms\n",
      "Speed: 2.3ms preprocess, 2.3ms inference, 0.5ms postprocess per image at shape (1, 3, 1088, 1920)\n",
      "\n",
      "image 1/1 /datasets/tdt4265/other/rbk/1_train-val_1min_aalesund_from_start/img1/000253.jpg: 1088x1920 22 players, 2.3ms\n",
      "Speed: 2.4ms preprocess, 2.3ms inference, 0.5ms postprocess per image at shape (1, 3, 1088, 1920)\n",
      "\n",
      "image 1/1 /datasets/tdt4265/other/rbk/1_train-val_1min_aalesund_from_start/img1/000254.jpg: 1088x1920 22 players, 2.6ms\n",
      "Speed: 2.3ms preprocess, 2.6ms inference, 0.6ms postprocess per image at shape (1, 3, 1088, 1920)\n",
      "\n",
      "image 1/1 /datasets/tdt4265/other/rbk/1_train-val_1min_aalesund_from_start/img1/000255.jpg: 1088x1920 22 players, 2.6ms\n",
      "Speed: 2.4ms preprocess, 2.6ms inference, 0.6ms postprocess per image at shape (1, 3, 1088, 1920)\n",
      "\n",
      "image 1/1 /datasets/tdt4265/other/rbk/1_train-val_1min_aalesund_from_start/img1/000256.jpg: 1088x1920 22 players, 2.4ms\n",
      "Speed: 2.3ms preprocess, 2.4ms inference, 0.8ms postprocess per image at shape (1, 3, 1088, 1920)\n",
      "\n",
      "image 1/1 /datasets/tdt4265/other/rbk/1_train-val_1min_aalesund_from_start/img1/000257.jpg: 1088x1920 22 players, 2.3ms\n",
      "Speed: 2.4ms preprocess, 2.3ms inference, 0.5ms postprocess per image at shape (1, 3, 1088, 1920)\n",
      "\n",
      "image 1/1 /datasets/tdt4265/other/rbk/1_train-val_1min_aalesund_from_start/img1/000258.jpg: 1088x1920 22 players, 2.3ms\n",
      "Speed: 2.4ms preprocess, 2.3ms inference, 0.5ms postprocess per image at shape (1, 3, 1088, 1920)\n",
      "\n",
      "image 1/1 /datasets/tdt4265/other/rbk/1_train-val_1min_aalesund_from_start/img1/000259.jpg: 1088x1920 1 ball, 22 players, 2.3ms\n",
      "Speed: 2.5ms preprocess, 2.3ms inference, 0.5ms postprocess per image at shape (1, 3, 1088, 1920)\n",
      "\n",
      "image 1/1 /datasets/tdt4265/other/rbk/1_train-val_1min_aalesund_from_start/img1/000260.jpg: 1088x1920 1 ball, 22 players, 2.6ms\n",
      "Speed: 2.3ms preprocess, 2.6ms inference, 0.8ms postprocess per image at shape (1, 3, 1088, 1920)\n",
      "\n",
      "image 1/1 /datasets/tdt4265/other/rbk/1_train-val_1min_aalesund_from_start/img1/000261.jpg: 1088x1920 1 ball, 22 players, 2.6ms\n",
      "Speed: 2.4ms preprocess, 2.6ms inference, 0.8ms postprocess per image at shape (1, 3, 1088, 1920)\n",
      "\n",
      "image 1/1 /datasets/tdt4265/other/rbk/1_train-val_1min_aalesund_from_start/img1/000262.jpg: 1088x1920 1 ball, 22 players, 2.6ms\n",
      "Speed: 2.3ms preprocess, 2.6ms inference, 0.8ms postprocess per image at shape (1, 3, 1088, 1920)\n",
      "\n",
      "image 1/1 /datasets/tdt4265/other/rbk/1_train-val_1min_aalesund_from_start/img1/000263.jpg: 1088x1920 1 ball, 22 players, 2.3ms\n",
      "Speed: 2.4ms preprocess, 2.3ms inference, 1.0ms postprocess per image at shape (1, 3, 1088, 1920)\n",
      "\n",
      "image 1/1 /datasets/tdt4265/other/rbk/1_train-val_1min_aalesund_from_start/img1/000264.jpg: 1088x1920 1 ball, 22 players, 2.3ms\n",
      "Speed: 2.3ms preprocess, 2.3ms inference, 0.5ms postprocess per image at shape (1, 3, 1088, 1920)\n",
      "\n",
      "image 1/1 /datasets/tdt4265/other/rbk/1_train-val_1min_aalesund_from_start/img1/000265.jpg: 1088x1920 1 ball, 22 players, 2.4ms\n",
      "Speed: 2.4ms preprocess, 2.4ms inference, 0.5ms postprocess per image at shape (1, 3, 1088, 1920)\n",
      "\n",
      "image 1/1 /datasets/tdt4265/other/rbk/1_train-val_1min_aalesund_from_start/img1/000266.jpg: 1088x1920 1 ball, 22 players, 2.3ms\n",
      "Speed: 2.3ms preprocess, 2.3ms inference, 0.5ms postprocess per image at shape (1, 3, 1088, 1920)\n",
      "\n",
      "image 1/1 /datasets/tdt4265/other/rbk/1_train-val_1min_aalesund_from_start/img1/000267.jpg: 1088x1920 1 ball, 22 players, 2.3ms\n",
      "Speed: 2.4ms preprocess, 2.3ms inference, 0.5ms postprocess per image at shape (1, 3, 1088, 1920)\n",
      "\n",
      "image 1/1 /datasets/tdt4265/other/rbk/1_train-val_1min_aalesund_from_start/img1/000268.jpg: 1088x1920 1 ball, 21 players, 2.3ms\n",
      "Speed: 2.2ms preprocess, 2.3ms inference, 0.5ms postprocess per image at shape (1, 3, 1088, 1920)\n",
      "\n",
      "image 1/1 /datasets/tdt4265/other/rbk/1_train-val_1min_aalesund_from_start/img1/000269.jpg: 1088x1920 1 ball, 21 players, 2.3ms\n",
      "Speed: 2.4ms preprocess, 2.3ms inference, 0.5ms postprocess per image at shape (1, 3, 1088, 1920)\n",
      "\n",
      "image 1/1 /datasets/tdt4265/other/rbk/1_train-val_1min_aalesund_from_start/img1/000270.jpg: 1088x1920 1 ball, 21 players, 2.8ms\n",
      "Speed: 2.3ms preprocess, 2.8ms inference, 0.6ms postprocess per image at shape (1, 3, 1088, 1920)\n",
      "\n",
      "image 1/1 /datasets/tdt4265/other/rbk/1_train-val_1min_aalesund_from_start/img1/000271.jpg: 1088x1920 1 ball, 21 players, 2.6ms\n",
      "Speed: 2.4ms preprocess, 2.6ms inference, 0.6ms postprocess per image at shape (1, 3, 1088, 1920)\n",
      "\n",
      "image 1/1 /datasets/tdt4265/other/rbk/1_train-val_1min_aalesund_from_start/img1/000272.jpg: 1088x1920 1 ball, 22 players, 2.6ms\n",
      "Speed: 2.3ms preprocess, 2.6ms inference, 0.6ms postprocess per image at shape (1, 3, 1088, 1920)\n",
      "\n",
      "image 1/1 /datasets/tdt4265/other/rbk/1_train-val_1min_aalesund_from_start/img1/000273.jpg: 1088x1920 1 ball, 22 players, 2.5ms\n",
      "Speed: 2.4ms preprocess, 2.5ms inference, 0.6ms postprocess per image at shape (1, 3, 1088, 1920)\n",
      "\n",
      "image 1/1 /datasets/tdt4265/other/rbk/1_train-val_1min_aalesund_from_start/img1/000274.jpg: 1088x1920 1 ball, 22 players, 2.6ms\n",
      "Speed: 2.5ms preprocess, 2.6ms inference, 0.6ms postprocess per image at shape (1, 3, 1088, 1920)\n",
      "\n",
      "image 1/1 /datasets/tdt4265/other/rbk/1_train-val_1min_aalesund_from_start/img1/000275.jpg: 1088x1920 1 ball, 22 players, 2.5ms\n",
      "Speed: 2.4ms preprocess, 2.5ms inference, 0.6ms postprocess per image at shape (1, 3, 1088, 1920)\n",
      "\n",
      "image 1/1 /datasets/tdt4265/other/rbk/1_train-val_1min_aalesund_from_start/img1/000276.jpg: 1088x1920 1 ball, 22 players, 2.3ms\n",
      "Speed: 2.3ms preprocess, 2.3ms inference, 0.8ms postprocess per image at shape (1, 3, 1088, 1920)\n",
      "\n",
      "image 1/1 /datasets/tdt4265/other/rbk/1_train-val_1min_aalesund_from_start/img1/000277.jpg: 1088x1920 1 ball, 22 players, 2.3ms\n",
      "Speed: 2.4ms preprocess, 2.3ms inference, 0.5ms postprocess per image at shape (1, 3, 1088, 1920)\n",
      "\n",
      "image 1/1 /datasets/tdt4265/other/rbk/1_train-val_1min_aalesund_from_start/img1/000278.jpg: 1088x1920 1 ball, 22 players, 2.3ms\n",
      "Speed: 2.3ms preprocess, 2.3ms inference, 0.5ms postprocess per image at shape (1, 3, 1088, 1920)\n",
      "\n",
      "image 1/1 /datasets/tdt4265/other/rbk/1_train-val_1min_aalesund_from_start/img1/000279.jpg: 1088x1920 1 ball, 22 players, 2.8ms\n",
      "Speed: 2.4ms preprocess, 2.8ms inference, 0.5ms postprocess per image at shape (1, 3, 1088, 1920)\n",
      "\n",
      "image 1/1 /datasets/tdt4265/other/rbk/1_train-val_1min_aalesund_from_start/img1/000280.jpg: 1088x1920 1 ball, 22 players, 2.6ms\n",
      "Speed: 2.4ms preprocess, 2.6ms inference, 0.8ms postprocess per image at shape (1, 3, 1088, 1920)\n",
      "\n",
      "image 1/1 /datasets/tdt4265/other/rbk/1_train-val_1min_aalesund_from_start/img1/000281.jpg: 1088x1920 1 ball, 22 players, 2.6ms\n",
      "Speed: 2.4ms preprocess, 2.6ms inference, 0.8ms postprocess per image at shape (1, 3, 1088, 1920)\n",
      "\n",
      "image 1/1 /datasets/tdt4265/other/rbk/1_train-val_1min_aalesund_from_start/img1/000282.jpg: 1088x1920 1 ball, 22 players, 2.3ms\n",
      "Speed: 2.3ms preprocess, 2.3ms inference, 1.0ms postprocess per image at shape (1, 3, 1088, 1920)\n",
      "\n",
      "image 1/1 /datasets/tdt4265/other/rbk/1_train-val_1min_aalesund_from_start/img1/000283.jpg: 1088x1920 22 players, 2.3ms\n",
      "Speed: 2.4ms preprocess, 2.3ms inference, 0.5ms postprocess per image at shape (1, 3, 1088, 1920)\n",
      "\n",
      "image 1/1 /datasets/tdt4265/other/rbk/1_train-val_1min_aalesund_from_start/img1/000284.jpg: 1088x1920 22 players, 2.4ms\n",
      "Speed: 2.3ms preprocess, 2.4ms inference, 0.5ms postprocess per image at shape (1, 3, 1088, 1920)\n",
      "\n",
      "image 1/1 /datasets/tdt4265/other/rbk/1_train-val_1min_aalesund_from_start/img1/000285.jpg: 1088x1920 22 players, 2.4ms\n",
      "Speed: 2.8ms preprocess, 2.4ms inference, 0.5ms postprocess per image at shape (1, 3, 1088, 1920)\n",
      "\n",
      "image 1/1 /datasets/tdt4265/other/rbk/1_train-val_1min_aalesund_from_start/img1/000286.jpg: 1088x1920 22 players, 2.4ms\n",
      "Speed: 2.6ms preprocess, 2.4ms inference, 1.0ms postprocess per image at shape (1, 3, 1088, 1920)\n",
      "\n",
      "image 1/1 /datasets/tdt4265/other/rbk/1_train-val_1min_aalesund_from_start/img1/000287.jpg: 1088x1920 22 players, 2.8ms\n",
      "Speed: 2.4ms preprocess, 2.8ms inference, 0.5ms postprocess per image at shape (1, 3, 1088, 1920)\n",
      "\n",
      "image 1/1 /datasets/tdt4265/other/rbk/1_train-val_1min_aalesund_from_start/img1/000288.jpg: 1088x1920 22 players, 2.8ms\n",
      "Speed: 2.4ms preprocess, 2.8ms inference, 0.5ms postprocess per image at shape (1, 3, 1088, 1920)\n",
      "\n",
      "image 1/1 /datasets/tdt4265/other/rbk/1_train-val_1min_aalesund_from_start/img1/000289.jpg: 1088x1920 22 players, 2.3ms\n",
      "Speed: 2.4ms preprocess, 2.3ms inference, 0.5ms postprocess per image at shape (1, 3, 1088, 1920)\n",
      "\n",
      "image 1/1 /datasets/tdt4265/other/rbk/1_train-val_1min_aalesund_from_start/img1/000290.jpg: 1088x1920 22 players, 2.3ms\n",
      "Speed: 2.5ms preprocess, 2.3ms inference, 0.5ms postprocess per image at shape (1, 3, 1088, 1920)\n",
      "\n",
      "image 1/1 /datasets/tdt4265/other/rbk/1_train-val_1min_aalesund_from_start/img1/000291.jpg: 1088x1920 22 players, 2.3ms\n",
      "Speed: 2.4ms preprocess, 2.3ms inference, 0.5ms postprocess per image at shape (1, 3, 1088, 1920)\n",
      "\n",
      "image 1/1 /datasets/tdt4265/other/rbk/1_train-val_1min_aalesund_from_start/img1/000292.jpg: 1088x1920 22 players, 2.4ms\n",
      "Speed: 2.4ms preprocess, 2.4ms inference, 0.5ms postprocess per image at shape (1, 3, 1088, 1920)\n",
      "\n",
      "image 1/1 /datasets/tdt4265/other/rbk/1_train-val_1min_aalesund_from_start/img1/000293.jpg: 1088x1920 22 players, 2.3ms\n",
      "Speed: 2.4ms preprocess, 2.3ms inference, 0.5ms postprocess per image at shape (1, 3, 1088, 1920)\n",
      "\n",
      "image 1/1 /datasets/tdt4265/other/rbk/1_train-val_1min_aalesund_from_start/img1/000294.jpg: 1088x1920 22 players, 2.4ms\n",
      "Speed: 2.2ms preprocess, 2.4ms inference, 0.5ms postprocess per image at shape (1, 3, 1088, 1920)\n",
      "\n",
      "image 1/1 /datasets/tdt4265/other/rbk/1_train-val_1min_aalesund_from_start/img1/000295.jpg: 1088x1920 22 players, 2.4ms\n",
      "Speed: 2.5ms preprocess, 2.4ms inference, 0.5ms postprocess per image at shape (1, 3, 1088, 1920)\n",
      "\n",
      "image 1/1 /datasets/tdt4265/other/rbk/1_train-val_1min_aalesund_from_start/img1/000296.jpg: 1088x1920 22 players, 2.4ms\n",
      "Speed: 2.4ms preprocess, 2.4ms inference, 0.5ms postprocess per image at shape (1, 3, 1088, 1920)\n",
      "\n",
      "image 1/1 /datasets/tdt4265/other/rbk/1_train-val_1min_aalesund_from_start/img1/000297.jpg: 1088x1920 22 players, 2.4ms\n",
      "Speed: 2.2ms preprocess, 2.4ms inference, 0.5ms postprocess per image at shape (1, 3, 1088, 1920)\n",
      "\n",
      "image 1/1 /datasets/tdt4265/other/rbk/1_train-val_1min_aalesund_from_start/img1/000298.jpg: 1088x1920 22 players, 2.3ms\n",
      "Speed: 2.4ms preprocess, 2.3ms inference, 0.5ms postprocess per image at shape (1, 3, 1088, 1920)\n",
      "\n",
      "image 1/1 /datasets/tdt4265/other/rbk/1_train-val_1min_aalesund_from_start/img1/000299.jpg: 1088x1920 22 players, 2.4ms\n",
      "Speed: 2.4ms preprocess, 2.4ms inference, 0.5ms postprocess per image at shape (1, 3, 1088, 1920)\n",
      "\n",
      "image 1/1 /datasets/tdt4265/other/rbk/1_train-val_1min_aalesund_from_start/img1/000300.jpg: 1088x1920 22 players, 2.4ms\n",
      "Speed: 2.3ms preprocess, 2.4ms inference, 0.5ms postprocess per image at shape (1, 3, 1088, 1920)\n",
      "\n",
      "image 1/1 /datasets/tdt4265/other/rbk/1_train-val_1min_aalesund_from_start/img1/000301.jpg: 1088x1920 22 players, 2.4ms\n",
      "Speed: 2.4ms preprocess, 2.4ms inference, 0.5ms postprocess per image at shape (1, 3, 1088, 1920)\n",
      "\n",
      "image 1/1 /datasets/tdt4265/other/rbk/1_train-val_1min_aalesund_from_start/img1/000302.jpg: 1088x1920 22 players, 2.3ms\n",
      "Speed: 2.4ms preprocess, 2.3ms inference, 0.6ms postprocess per image at shape (1, 3, 1088, 1920)\n",
      "\n",
      "image 1/1 /datasets/tdt4265/other/rbk/1_train-val_1min_aalesund_from_start/img1/000303.jpg: 1088x1920 22 players, 2.3ms\n",
      "Speed: 2.4ms preprocess, 2.3ms inference, 0.8ms postprocess per image at shape (1, 3, 1088, 1920)\n",
      "\n",
      "image 1/1 /datasets/tdt4265/other/rbk/1_train-val_1min_aalesund_from_start/img1/000304.jpg: 1088x1920 22 players, 2.5ms\n",
      "Speed: 2.4ms preprocess, 2.5ms inference, 0.6ms postprocess per image at shape (1, 3, 1088, 1920)\n",
      "\n",
      "image 1/1 /datasets/tdt4265/other/rbk/1_train-val_1min_aalesund_from_start/img1/000305.jpg: 1088x1920 22 players, 2.5ms\n",
      "Speed: 2.4ms preprocess, 2.5ms inference, 0.6ms postprocess per image at shape (1, 3, 1088, 1920)\n",
      "\n",
      "image 1/1 /datasets/tdt4265/other/rbk/1_train-val_1min_aalesund_from_start/img1/000306.jpg: 1088x1920 22 players, 2.5ms\n",
      "Speed: 2.4ms preprocess, 2.5ms inference, 0.6ms postprocess per image at shape (1, 3, 1088, 1920)\n",
      "\n",
      "image 1/1 /datasets/tdt4265/other/rbk/1_train-val_1min_aalesund_from_start/img1/000307.jpg: 1088x1920 22 players, 2.4ms\n",
      "Speed: 2.4ms preprocess, 2.4ms inference, 0.5ms postprocess per image at shape (1, 3, 1088, 1920)\n",
      "\n",
      "image 1/1 /datasets/tdt4265/other/rbk/1_train-val_1min_aalesund_from_start/img1/000308.jpg: 1088x1920 22 players, 2.4ms\n",
      "Speed: 2.4ms preprocess, 2.4ms inference, 0.5ms postprocess per image at shape (1, 3, 1088, 1920)\n",
      "\n",
      "image 1/1 /datasets/tdt4265/other/rbk/1_train-val_1min_aalesund_from_start/img1/000309.jpg: 1088x1920 22 players, 2.3ms\n",
      "Speed: 2.4ms preprocess, 2.3ms inference, 0.5ms postprocess per image at shape (1, 3, 1088, 1920)\n",
      "\n",
      "image 1/1 /datasets/tdt4265/other/rbk/1_train-val_1min_aalesund_from_start/img1/000310.jpg: 1088x1920 22 players, 2.4ms\n",
      "Speed: 2.4ms preprocess, 2.4ms inference, 0.6ms postprocess per image at shape (1, 3, 1088, 1920)\n",
      "\n",
      "image 1/1 /datasets/tdt4265/other/rbk/1_train-val_1min_aalesund_from_start/img1/000311.jpg: 1088x1920 22 players, 3.0ms\n",
      "Speed: 2.4ms preprocess, 3.0ms inference, 0.5ms postprocess per image at shape (1, 3, 1088, 1920)\n",
      "\n",
      "image 1/1 /datasets/tdt4265/other/rbk/1_train-val_1min_aalesund_from_start/img1/000312.jpg: 1088x1920 22 players, 2.4ms\n",
      "Speed: 2.5ms preprocess, 2.4ms inference, 0.5ms postprocess per image at shape (1, 3, 1088, 1920)\n",
      "\n",
      "image 1/1 /datasets/tdt4265/other/rbk/1_train-val_1min_aalesund_from_start/img1/000313.jpg: 1088x1920 22 players, 2.6ms\n",
      "Speed: 2.7ms preprocess, 2.6ms inference, 0.8ms postprocess per image at shape (1, 3, 1088, 1920)\n",
      "\n",
      "image 1/1 /datasets/tdt4265/other/rbk/1_train-val_1min_aalesund_from_start/img1/000314.jpg: 1088x1920 22 players, 2.3ms\n",
      "Speed: 2.4ms preprocess, 2.3ms inference, 0.5ms postprocess per image at shape (1, 3, 1088, 1920)\n",
      "\n",
      "image 1/1 /datasets/tdt4265/other/rbk/1_train-val_1min_aalesund_from_start/img1/000315.jpg: 1088x1920 22 players, 2.3ms\n",
      "Speed: 2.4ms preprocess, 2.3ms inference, 0.5ms postprocess per image at shape (1, 3, 1088, 1920)\n",
      "\n",
      "image 1/1 /datasets/tdt4265/other/rbk/1_train-val_1min_aalesund_from_start/img1/000316.jpg: 1088x1920 22 players, 2.5ms\n",
      "Speed: 2.4ms preprocess, 2.5ms inference, 0.6ms postprocess per image at shape (1, 3, 1088, 1920)\n",
      "\n",
      "image 1/1 /datasets/tdt4265/other/rbk/1_train-val_1min_aalesund_from_start/img1/000317.jpg: 1088x1920 22 players, 2.4ms\n",
      "Speed: 2.4ms preprocess, 2.4ms inference, 0.5ms postprocess per image at shape (1, 3, 1088, 1920)\n",
      "\n",
      "image 1/1 /datasets/tdt4265/other/rbk/1_train-val_1min_aalesund_from_start/img1/000318.jpg: 1088x1920 22 players, 2.4ms\n",
      "Speed: 2.4ms preprocess, 2.4ms inference, 0.7ms postprocess per image at shape (1, 3, 1088, 1920)\n",
      "\n",
      "image 1/1 /datasets/tdt4265/other/rbk/1_train-val_1min_aalesund_from_start/img1/000319.jpg: 1088x1920 22 players, 2.8ms\n",
      "Speed: 2.4ms preprocess, 2.8ms inference, 0.5ms postprocess per image at shape (1, 3, 1088, 1920)\n",
      "\n",
      "image 1/1 /datasets/tdt4265/other/rbk/1_train-val_1min_aalesund_from_start/img1/000320.jpg: 1088x1920 22 players, 2.4ms\n",
      "Speed: 2.4ms preprocess, 2.4ms inference, 1.1ms postprocess per image at shape (1, 3, 1088, 1920)\n",
      "\n",
      "image 1/1 /datasets/tdt4265/other/rbk/1_train-val_1min_aalesund_from_start/img1/000321.jpg: 1088x1920 1 ball, 22 players, 2.4ms\n",
      "Speed: 2.6ms preprocess, 2.4ms inference, 0.5ms postprocess per image at shape (1, 3, 1088, 1920)\n",
      "\n",
      "image 1/1 /datasets/tdt4265/other/rbk/1_train-val_1min_aalesund_from_start/img1/000322.jpg: 1088x1920 1 ball, 22 players, 2.4ms\n",
      "Speed: 2.4ms preprocess, 2.4ms inference, 0.5ms postprocess per image at shape (1, 3, 1088, 1920)\n",
      "\n",
      "image 1/1 /datasets/tdt4265/other/rbk/1_train-val_1min_aalesund_from_start/img1/000323.jpg: 1088x1920 1 ball, 22 players, 2.5ms\n",
      "Speed: 2.4ms preprocess, 2.5ms inference, 0.6ms postprocess per image at shape (1, 3, 1088, 1920)\n",
      "\n",
      "image 1/1 /datasets/tdt4265/other/rbk/1_train-val_1min_aalesund_from_start/img1/000324.jpg: 1088x1920 22 players, 2.4ms\n",
      "Speed: 2.4ms preprocess, 2.4ms inference, 0.5ms postprocess per image at shape (1, 3, 1088, 1920)\n",
      "\n",
      "image 1/1 /datasets/tdt4265/other/rbk/1_train-val_1min_aalesund_from_start/img1/000325.jpg: 1088x1920 22 players, 2.4ms\n",
      "Speed: 2.4ms preprocess, 2.4ms inference, 0.5ms postprocess per image at shape (1, 3, 1088, 1920)\n",
      "\n",
      "image 1/1 /datasets/tdt4265/other/rbk/1_train-val_1min_aalesund_from_start/img1/000326.jpg: 1088x1920 22 players, 2.9ms\n",
      "Speed: 2.5ms preprocess, 2.9ms inference, 0.6ms postprocess per image at shape (1, 3, 1088, 1920)\n",
      "\n",
      "image 1/1 /datasets/tdt4265/other/rbk/1_train-val_1min_aalesund_from_start/img1/000327.jpg: 1088x1920 22 players, 2.6ms\n",
      "Speed: 2.3ms preprocess, 2.6ms inference, 0.8ms postprocess per image at shape (1, 3, 1088, 1920)\n",
      "\n",
      "image 1/1 /datasets/tdt4265/other/rbk/1_train-val_1min_aalesund_from_start/img1/000328.jpg: 1088x1920 22 players, 2.4ms\n",
      "Speed: 2.4ms preprocess, 2.4ms inference, 0.5ms postprocess per image at shape (1, 3, 1088, 1920)\n",
      "\n",
      "image 1/1 /datasets/tdt4265/other/rbk/1_train-val_1min_aalesund_from_start/img1/000329.jpg: 1088x1920 22 players, 2.6ms\n",
      "Speed: 2.4ms preprocess, 2.6ms inference, 0.6ms postprocess per image at shape (1, 3, 1088, 1920)\n",
      "\n",
      "image 1/1 /datasets/tdt4265/other/rbk/1_train-val_1min_aalesund_from_start/img1/000330.jpg: 1088x1920 22 players, 2.4ms\n",
      "Speed: 2.4ms preprocess, 2.4ms inference, 0.5ms postprocess per image at shape (1, 3, 1088, 1920)\n",
      "\n",
      "image 1/1 /datasets/tdt4265/other/rbk/1_train-val_1min_aalesund_from_start/img1/000331.jpg: 1088x1920 22 players, 2.4ms\n",
      "Speed: 2.4ms preprocess, 2.4ms inference, 0.5ms postprocess per image at shape (1, 3, 1088, 1920)\n",
      "\n",
      "image 1/1 /datasets/tdt4265/other/rbk/1_train-val_1min_aalesund_from_start/img1/000332.jpg: 1088x1920 1 ball, 22 players, 2.4ms\n",
      "Speed: 2.4ms preprocess, 2.4ms inference, 0.5ms postprocess per image at shape (1, 3, 1088, 1920)\n",
      "\n",
      "image 1/1 /datasets/tdt4265/other/rbk/1_train-val_1min_aalesund_from_start/img1/000333.jpg: 1088x1920 1 ball, 22 players, 2.6ms\n",
      "Speed: 2.4ms preprocess, 2.6ms inference, 0.8ms postprocess per image at shape (1, 3, 1088, 1920)\n",
      "\n",
      "image 1/1 /datasets/tdt4265/other/rbk/1_train-val_1min_aalesund_from_start/img1/000334.jpg: 1088x1920 1 ball, 22 players, 2.3ms\n",
      "Speed: 2.4ms preprocess, 2.3ms inference, 0.5ms postprocess per image at shape (1, 3, 1088, 1920)\n",
      "\n",
      "image 1/1 /datasets/tdt4265/other/rbk/1_train-val_1min_aalesund_from_start/img1/000335.jpg: 1088x1920 1 ball, 22 players, 2.5ms\n",
      "Speed: 2.4ms preprocess, 2.5ms inference, 0.6ms postprocess per image at shape (1, 3, 1088, 1920)\n",
      "\n",
      "image 1/1 /datasets/tdt4265/other/rbk/1_train-val_1min_aalesund_from_start/img1/000336.jpg: 1088x1920 1 ball, 22 players, 2.3ms\n",
      "Speed: 2.4ms preprocess, 2.3ms inference, 0.5ms postprocess per image at shape (1, 3, 1088, 1920)\n",
      "\n",
      "image 1/1 /datasets/tdt4265/other/rbk/1_train-val_1min_aalesund_from_start/img1/000337.jpg: 1088x1920 1 ball, 22 players, 2.4ms\n",
      "Speed: 2.4ms preprocess, 2.4ms inference, 0.5ms postprocess per image at shape (1, 3, 1088, 1920)\n",
      "\n",
      "image 1/1 /datasets/tdt4265/other/rbk/1_train-val_1min_aalesund_from_start/img1/000338.jpg: 1088x1920 22 players, 2.3ms\n",
      "Speed: 2.4ms preprocess, 2.3ms inference, 1.2ms postprocess per image at shape (1, 3, 1088, 1920)\n",
      "\n",
      "image 1/1 /datasets/tdt4265/other/rbk/1_train-val_1min_aalesund_from_start/img1/000339.jpg: 1088x1920 22 players, 2.3ms\n",
      "Speed: 2.3ms preprocess, 2.3ms inference, 0.5ms postprocess per image at shape (1, 3, 1088, 1920)\n",
      "\n",
      "image 1/1 /datasets/tdt4265/other/rbk/1_train-val_1min_aalesund_from_start/img1/000340.jpg: 1088x1920 1 ball, 22 players, 2.3ms\n",
      "Speed: 2.4ms preprocess, 2.3ms inference, 0.8ms postprocess per image at shape (1, 3, 1088, 1920)\n",
      "\n",
      "image 1/1 /datasets/tdt4265/other/rbk/1_train-val_1min_aalesund_from_start/img1/000341.jpg: 1088x1920 1 ball, 22 players, 2.3ms\n",
      "Speed: 2.4ms preprocess, 2.3ms inference, 0.5ms postprocess per image at shape (1, 3, 1088, 1920)\n",
      "\n",
      "image 1/1 /datasets/tdt4265/other/rbk/1_train-val_1min_aalesund_from_start/img1/000342.jpg: 1088x1920 1 ball, 22 players, 2.4ms\n",
      "Speed: 2.4ms preprocess, 2.4ms inference, 0.6ms postprocess per image at shape (1, 3, 1088, 1920)\n",
      "\n",
      "image 1/1 /datasets/tdt4265/other/rbk/1_train-val_1min_aalesund_from_start/img1/000343.jpg: 1088x1920 1 ball, 22 players, 2.4ms\n",
      "Speed: 2.4ms preprocess, 2.4ms inference, 0.5ms postprocess per image at shape (1, 3, 1088, 1920)\n",
      "\n",
      "image 1/1 /datasets/tdt4265/other/rbk/1_train-val_1min_aalesund_from_start/img1/000344.jpg: 1088x1920 22 players, 2.6ms\n",
      "Speed: 2.4ms preprocess, 2.6ms inference, 0.8ms postprocess per image at shape (1, 3, 1088, 1920)\n",
      "\n",
      "image 1/1 /datasets/tdt4265/other/rbk/1_train-val_1min_aalesund_from_start/img1/000345.jpg: 1088x1920 22 players, 2.4ms\n",
      "Speed: 2.2ms preprocess, 2.4ms inference, 0.5ms postprocess per image at shape (1, 3, 1088, 1920)\n",
      "\n",
      "image 1/1 /datasets/tdt4265/other/rbk/1_train-val_1min_aalesund_from_start/img1/000346.jpg: 1088x1920 22 players, 2.6ms\n",
      "Speed: 2.4ms preprocess, 2.6ms inference, 0.6ms postprocess per image at shape (1, 3, 1088, 1920)\n",
      "\n",
      "image 1/1 /datasets/tdt4265/other/rbk/1_train-val_1min_aalesund_from_start/img1/000347.jpg: 1088x1920 22 players, 2.3ms\n",
      "Speed: 2.4ms preprocess, 2.3ms inference, 0.5ms postprocess per image at shape (1, 3, 1088, 1920)\n",
      "\n",
      "image 1/1 /datasets/tdt4265/other/rbk/1_train-val_1min_aalesund_from_start/img1/000348.jpg: 1088x1920 22 players, 2.4ms\n",
      "Speed: 2.4ms preprocess, 2.4ms inference, 0.6ms postprocess per image at shape (1, 3, 1088, 1920)\n",
      "\n",
      "image 1/1 /datasets/tdt4265/other/rbk/1_train-val_1min_aalesund_from_start/img1/000349.jpg: 1088x1920 22 players, 2.5ms\n",
      "Speed: 2.6ms preprocess, 2.5ms inference, 1.1ms postprocess per image at shape (1, 3, 1088, 1920)\n",
      "\n",
      "image 1/1 /datasets/tdt4265/other/rbk/1_train-val_1min_aalesund_from_start/img1/000350.jpg: 1088x1920 22 players, 2.3ms\n",
      "Speed: 2.2ms preprocess, 2.3ms inference, 0.5ms postprocess per image at shape (1, 3, 1088, 1920)\n",
      "\n",
      "image 1/1 /datasets/tdt4265/other/rbk/1_train-val_1min_aalesund_from_start/img1/000351.jpg: 1088x1920 22 players, 2.3ms\n",
      "Speed: 2.4ms preprocess, 2.3ms inference, 0.8ms postprocess per image at shape (1, 3, 1088, 1920)\n",
      "\n",
      "image 1/1 /datasets/tdt4265/other/rbk/1_train-val_1min_aalesund_from_start/img1/000352.jpg: 1088x1920 22 players, 2.3ms\n",
      "Speed: 2.4ms preprocess, 2.3ms inference, 0.5ms postprocess per image at shape (1, 3, 1088, 1920)\n",
      "\n",
      "image 1/1 /datasets/tdt4265/other/rbk/1_train-val_1min_aalesund_from_start/img1/000353.jpg: 1088x1920 22 players, 2.5ms\n",
      "Speed: 2.4ms preprocess, 2.5ms inference, 0.5ms postprocess per image at shape (1, 3, 1088, 1920)\n",
      "\n",
      "image 1/1 /datasets/tdt4265/other/rbk/1_train-val_1min_aalesund_from_start/img1/000354.jpg: 1088x1920 22 players, 2.4ms\n",
      "Speed: 2.5ms preprocess, 2.4ms inference, 1.1ms postprocess per image at shape (1, 3, 1088, 1920)\n",
      "\n",
      "image 1/1 /datasets/tdt4265/other/rbk/1_train-val_1min_aalesund_from_start/img1/000355.jpg: 1088x1920 22 players, 2.3ms\n",
      "Speed: 2.5ms preprocess, 2.3ms inference, 0.5ms postprocess per image at shape (1, 3, 1088, 1920)\n",
      "\n",
      "image 1/1 /datasets/tdt4265/other/rbk/1_train-val_1min_aalesund_from_start/img1/000356.jpg: 1088x1920 22 players, 2.3ms\n",
      "Speed: 2.4ms preprocess, 2.3ms inference, 0.8ms postprocess per image at shape (1, 3, 1088, 1920)\n",
      "\n",
      "image 1/1 /datasets/tdt4265/other/rbk/1_train-val_1min_aalesund_from_start/img1/000357.jpg: 1088x1920 22 players, 2.4ms\n",
      "Speed: 2.4ms preprocess, 2.4ms inference, 0.5ms postprocess per image at shape (1, 3, 1088, 1920)\n",
      "\n",
      "image 1/1 /datasets/tdt4265/other/rbk/1_train-val_1min_aalesund_from_start/img1/000358.jpg: 1088x1920 22 players, 2.4ms\n",
      "Speed: 2.4ms preprocess, 2.4ms inference, 0.5ms postprocess per image at shape (1, 3, 1088, 1920)\n",
      "\n",
      "image 1/1 /datasets/tdt4265/other/rbk/1_train-val_1min_aalesund_from_start/img1/000359.jpg: 1088x1920 22 players, 2.4ms\n",
      "Speed: 2.5ms preprocess, 2.4ms inference, 0.5ms postprocess per image at shape (1, 3, 1088, 1920)\n",
      "\n",
      "image 1/1 /datasets/tdt4265/other/rbk/1_train-val_1min_aalesund_from_start/img1/000360.jpg: 1088x1920 22 players, 2.6ms\n",
      "Speed: 2.4ms preprocess, 2.6ms inference, 0.8ms postprocess per image at shape (1, 3, 1088, 1920)\n",
      "\n",
      "image 1/1 /datasets/tdt4265/other/rbk/1_train-val_1min_aalesund_from_start/img1/000361.jpg: 1088x1920 22 players, 2.3ms\n",
      "Speed: 2.4ms preprocess, 2.3ms inference, 0.9ms postprocess per image at shape (1, 3, 1088, 1920)\n",
      "\n",
      "image 1/1 /datasets/tdt4265/other/rbk/1_train-val_1min_aalesund_from_start/img1/000362.jpg: 1088x1920 22 players, 2.3ms\n",
      "Speed: 2.4ms preprocess, 2.3ms inference, 0.5ms postprocess per image at shape (1, 3, 1088, 1920)\n",
      "\n",
      "image 1/1 /datasets/tdt4265/other/rbk/1_train-val_1min_aalesund_from_start/img1/000363.jpg: 1088x1920 22 players, 2.4ms\n",
      "Speed: 2.4ms preprocess, 2.4ms inference, 0.5ms postprocess per image at shape (1, 3, 1088, 1920)\n",
      "\n",
      "image 1/1 /datasets/tdt4265/other/rbk/1_train-val_1min_aalesund_from_start/img1/000364.jpg: 1088x1920 22 players, 2.4ms\n",
      "Speed: 2.4ms preprocess, 2.4ms inference, 0.5ms postprocess per image at shape (1, 3, 1088, 1920)\n",
      "\n",
      "image 1/1 /datasets/tdt4265/other/rbk/1_train-val_1min_aalesund_from_start/img1/000365.jpg: 1088x1920 22 players, 2.4ms\n",
      "Speed: 2.3ms preprocess, 2.4ms inference, 0.6ms postprocess per image at shape (1, 3, 1088, 1920)\n",
      "\n",
      "image 1/1 /datasets/tdt4265/other/rbk/1_train-val_1min_aalesund_from_start/img1/000366.jpg: 1088x1920 22 players, 2.6ms\n",
      "Speed: 2.4ms preprocess, 2.6ms inference, 0.8ms postprocess per image at shape (1, 3, 1088, 1920)\n",
      "\n",
      "image 1/1 /datasets/tdt4265/other/rbk/1_train-val_1min_aalesund_from_start/img1/000367.jpg: 1088x1920 22 players, 2.3ms\n",
      "Speed: 2.4ms preprocess, 2.3ms inference, 0.6ms postprocess per image at shape (1, 3, 1088, 1920)\n",
      "\n",
      "image 1/1 /datasets/tdt4265/other/rbk/1_train-val_1min_aalesund_from_start/img1/000368.jpg: 1088x1920 22 players, 2.3ms\n",
      "Speed: 2.3ms preprocess, 2.3ms inference, 0.5ms postprocess per image at shape (1, 3, 1088, 1920)\n",
      "\n",
      "image 1/1 /datasets/tdt4265/other/rbk/1_train-val_1min_aalesund_from_start/img1/000369.jpg: 1088x1920 22 players, 2.5ms\n",
      "Speed: 2.4ms preprocess, 2.5ms inference, 0.6ms postprocess per image at shape (1, 3, 1088, 1920)\n",
      "\n",
      "image 1/1 /datasets/tdt4265/other/rbk/1_train-val_1min_aalesund_from_start/img1/000370.jpg: 1088x1920 22 players, 2.8ms\n",
      "Speed: 2.6ms preprocess, 2.8ms inference, 0.6ms postprocess per image at shape (1, 3, 1088, 1920)\n",
      "\n",
      "image 1/1 /datasets/tdt4265/other/rbk/1_train-val_1min_aalesund_from_start/img1/000371.jpg: 1088x1920 22 players, 2.4ms\n",
      "Speed: 2.2ms preprocess, 2.4ms inference, 0.5ms postprocess per image at shape (1, 3, 1088, 1920)\n",
      "\n",
      "image 1/1 /datasets/tdt4265/other/rbk/1_train-val_1min_aalesund_from_start/img1/000372.jpg: 1088x1920 22 players, 2.5ms\n",
      "Speed: 2.4ms preprocess, 2.5ms inference, 0.5ms postprocess per image at shape (1, 3, 1088, 1920)\n",
      "\n",
      "image 1/1 /datasets/tdt4265/other/rbk/1_train-val_1min_aalesund_from_start/img1/000373.jpg: 1088x1920 22 players, 2.3ms\n",
      "Speed: 2.5ms preprocess, 2.3ms inference, 0.5ms postprocess per image at shape (1, 3, 1088, 1920)\n",
      "\n",
      "image 1/1 /datasets/tdt4265/other/rbk/1_train-val_1min_aalesund_from_start/img1/000374.jpg: 1088x1920 22 players, 2.4ms\n",
      "Speed: 2.4ms preprocess, 2.4ms inference, 1.0ms postprocess per image at shape (1, 3, 1088, 1920)\n",
      "\n",
      "image 1/1 /datasets/tdt4265/other/rbk/1_train-val_1min_aalesund_from_start/img1/000375.jpg: 1088x1920 22 players, 2.5ms\n",
      "Speed: 2.6ms preprocess, 2.5ms inference, 0.5ms postprocess per image at shape (1, 3, 1088, 1920)\n",
      "\n",
      "image 1/1 /datasets/tdt4265/other/rbk/1_train-val_1min_aalesund_from_start/img1/000376.jpg: 1088x1920 22 players, 2.3ms\n",
      "Speed: 2.2ms preprocess, 2.3ms inference, 0.5ms postprocess per image at shape (1, 3, 1088, 1920)\n",
      "\n",
      "image 1/1 /datasets/tdt4265/other/rbk/1_train-val_1min_aalesund_from_start/img1/000377.jpg: 1088x1920 22 players, 2.3ms\n",
      "Speed: 2.4ms preprocess, 2.3ms inference, 0.7ms postprocess per image at shape (1, 3, 1088, 1920)\n",
      "\n",
      "image 1/1 /datasets/tdt4265/other/rbk/1_train-val_1min_aalesund_from_start/img1/000378.jpg: 1088x1920 22 players, 2.6ms\n"
     ]
    }
   ],
   "source": [
    "# Iterere over hver frame og bruk track metoden\n",
    "for frame_path in frame_paths:\n",
    "    # model.track kan være en generator, så vi bruker en løkke for å hente resultatene\n",
    "    for result in model_combined.track(frame_path, persist=True, stream=True, line_width=1):\n",
    "        annotated_frame = result.plot(font_size=1, line_width=1)\n",
    "        cv2.imshow('frame', annotated_frame)\n",
    "        # Vent på et tastetrykk i 1 millisekund og sjekk om det er 'ESC'\n",
    "        key = cv2.waitKey(1) & 0xFF\n",
    "        if key == 27:  # 27 er ASCII-verdien for 'ESC'\n",
    "            break\n",
    "\n",
    "    if key == 27:  # Kontroller igjen om 'ESC' ble trykket for å bryte ut av den ytre løkken\n",
    "        break\n",
    "\n",
    "cv2.destroyAllWindows()  # Lukker alle OpenCV-vinduene"
   ]
  },
  {
   "cell_type": "code",
   "execution_count": 9,
   "metadata": {},
   "outputs": [
    {
     "name": "stdout",
     "output_type": "stream",
     "text": [
      "\n",
      "image 1/1 /datasets/tdt4265/other/rbk/1_train-val_1min_aalesund_from_start/img1/000001.jpg: 1088x1920 22 players, 2.5ms\n",
      "\n",
      "image 1/1 /datasets/tdt4265/other/rbk/1_train-val_1min_aalesund_from_start/img1/000001.jpg: 1088x1920 1 ball, 2.5ms\n",
      "Speed: 3.0ms preprocess, 2.5ms inference, 0.5ms postprocess per image at shape (1, 3, 1088, 1920)\n",
      "\n",
      "image 1/1 /datasets/tdt4265/other/rbk/1_train-val_1min_aalesund_from_start/img1/000002.jpg: 1088x1920 22 players, 2.4ms\n",
      "\n",
      "image 1/1 /datasets/tdt4265/other/rbk/1_train-val_1min_aalesund_from_start/img1/000002.jpg: 1088x1920 1 ball, 2.3ms\n",
      "Speed: 4.4ms preprocess, 2.4ms inference, 0.5ms postprocess per image at shape (1, 3, 1088, 1920)\n",
      "\n",
      "image 1/1 /datasets/tdt4265/other/rbk/1_train-val_1min_aalesund_from_start/img1/000003.jpg: 1088x1920 22 players, 2.4ms\n",
      "\n",
      "image 1/1 /datasets/tdt4265/other/rbk/1_train-val_1min_aalesund_from_start/img1/000003.jpg: 1088x1920 1 ball, 2.6ms\n",
      "Speed: 3.1ms preprocess, 2.4ms inference, 0.6ms postprocess per image at shape (1, 3, 1088, 1920)\n",
      "\n",
      "image 1/1 /datasets/tdt4265/other/rbk/1_train-val_1min_aalesund_from_start/img1/000004.jpg: 1088x1920 22 players, 2.4ms\n",
      "\n",
      "image 1/1 /datasets/tdt4265/other/rbk/1_train-val_1min_aalesund_from_start/img1/000004.jpg: 1088x1920 1 ball, 2.6ms\n",
      "Speed: 4.2ms preprocess, 2.4ms inference, 0.5ms postprocess per image at shape (1, 3, 1088, 1920)\n",
      "\n",
      "image 1/1 /datasets/tdt4265/other/rbk/1_train-val_1min_aalesund_from_start/img1/000005.jpg: 1088x1920 22 players, 2.4ms\n",
      "\n",
      "image 1/1 /datasets/tdt4265/other/rbk/1_train-val_1min_aalesund_from_start/img1/000005.jpg: 1088x1920 1 ball, 2.4ms\n",
      "Speed: 3.3ms preprocess, 2.4ms inference, 0.6ms postprocess per image at shape (1, 3, 1088, 1920)\n",
      "\n",
      "image 1/1 /datasets/tdt4265/other/rbk/1_train-val_1min_aalesund_from_start/img1/000006.jpg: 1088x1920 22 players, 2.4ms\n",
      "\n",
      "image 1/1 /datasets/tdt4265/other/rbk/1_train-val_1min_aalesund_from_start/img1/000006.jpg: 1088x1920 1 ball, 2.5ms\n",
      "Speed: 3.3ms preprocess, 2.4ms inference, 0.6ms postprocess per image at shape (1, 3, 1088, 1920)\n",
      "\n",
      "image 1/1 /datasets/tdt4265/other/rbk/1_train-val_1min_aalesund_from_start/img1/000007.jpg: 1088x1920 22 players, 2.6ms\n",
      "\n",
      "image 1/1 /datasets/tdt4265/other/rbk/1_train-val_1min_aalesund_from_start/img1/000007.jpg: 1088x1920 1 ball, 2.4ms\n",
      "Speed: 3.3ms preprocess, 2.6ms inference, 0.8ms postprocess per image at shape (1, 3, 1088, 1920)\n",
      "\n",
      "image 1/1 /datasets/tdt4265/other/rbk/1_train-val_1min_aalesund_from_start/img1/000008.jpg: 1088x1920 22 players, 2.5ms\n",
      "\n",
      "image 1/1 /datasets/tdt4265/other/rbk/1_train-val_1min_aalesund_from_start/img1/000008.jpg: 1088x1920 1 ball, 2.4ms\n",
      "Speed: 4.3ms preprocess, 2.5ms inference, 0.7ms postprocess per image at shape (1, 3, 1088, 1920)\n",
      "\n",
      "image 1/1 /datasets/tdt4265/other/rbk/1_train-val_1min_aalesund_from_start/img1/000009.jpg: 1088x1920 22 players, 2.5ms\n",
      "\n",
      "image 1/1 /datasets/tdt4265/other/rbk/1_train-val_1min_aalesund_from_start/img1/000009.jpg: 1088x1920 1 ball, 2.5ms\n",
      "Speed: 3.3ms preprocess, 2.5ms inference, 0.6ms postprocess per image at shape (1, 3, 1088, 1920)\n",
      "\n",
      "image 1/1 /datasets/tdt4265/other/rbk/1_train-val_1min_aalesund_from_start/img1/000010.jpg: 1088x1920 22 players, 2.4ms\n",
      "\n",
      "image 1/1 /datasets/tdt4265/other/rbk/1_train-val_1min_aalesund_from_start/img1/000010.jpg: 1088x1920 1 ball, 2.4ms\n",
      "Speed: 3.3ms preprocess, 2.4ms inference, 0.5ms postprocess per image at shape (1, 3, 1088, 1920)\n",
      "\n",
      "image 1/1 /datasets/tdt4265/other/rbk/1_train-val_1min_aalesund_from_start/img1/000011.jpg: 1088x1920 22 players, 2.4ms\n",
      "\n",
      "image 1/1 /datasets/tdt4265/other/rbk/1_train-val_1min_aalesund_from_start/img1/000011.jpg: 1088x1920 1 ball, 2.5ms\n",
      "Speed: 3.3ms preprocess, 2.4ms inference, 0.6ms postprocess per image at shape (1, 3, 1088, 1920)\n",
      "\n",
      "image 1/1 /datasets/tdt4265/other/rbk/1_train-val_1min_aalesund_from_start/img1/000012.jpg: 1088x1920 22 players, 2.5ms\n",
      "\n",
      "image 1/1 /datasets/tdt4265/other/rbk/1_train-val_1min_aalesund_from_start/img1/000012.jpg: 1088x1920 1 ball, 2.4ms\n",
      "Speed: 3.2ms preprocess, 2.5ms inference, 0.7ms postprocess per image at shape (1, 3, 1088, 1920)\n",
      "\n",
      "image 1/1 /datasets/tdt4265/other/rbk/1_train-val_1min_aalesund_from_start/img1/000013.jpg: 1088x1920 22 players, 2.6ms\n",
      "\n",
      "image 1/1 /datasets/tdt4265/other/rbk/1_train-val_1min_aalesund_from_start/img1/000013.jpg: 1088x1920 1 ball, 2.3ms\n",
      "Speed: 3.3ms preprocess, 2.6ms inference, 0.8ms postprocess per image at shape (1, 3, 1088, 1920)\n",
      "\n",
      "image 1/1 /datasets/tdt4265/other/rbk/1_train-val_1min_aalesund_from_start/img1/000014.jpg: 1088x1920 22 players, 2.4ms\n",
      "\n",
      "image 1/1 /datasets/tdt4265/other/rbk/1_train-val_1min_aalesund_from_start/img1/000014.jpg: 1088x1920 1 ball, 2.7ms\n",
      "Speed: 3.3ms preprocess, 2.4ms inference, 0.6ms postprocess per image at shape (1, 3, 1088, 1920)\n",
      "\n",
      "image 1/1 /datasets/tdt4265/other/rbk/1_train-val_1min_aalesund_from_start/img1/000015.jpg: 1088x1920 22 players, 2.4ms\n",
      "\n",
      "image 1/1 /datasets/tdt4265/other/rbk/1_train-val_1min_aalesund_from_start/img1/000015.jpg: 1088x1920 1 ball, 2.5ms\n",
      "Speed: 3.3ms preprocess, 2.4ms inference, 0.5ms postprocess per image at shape (1, 3, 1088, 1920)\n",
      "\n",
      "image 1/1 /datasets/tdt4265/other/rbk/1_train-val_1min_aalesund_from_start/img1/000016.jpg: 1088x1920 22 players, 2.4ms\n",
      "\n",
      "image 1/1 /datasets/tdt4265/other/rbk/1_train-val_1min_aalesund_from_start/img1/000016.jpg: 1088x1920 1 ball, 2.3ms\n",
      "Speed: 3.3ms preprocess, 2.4ms inference, 0.8ms postprocess per image at shape (1, 3, 1088, 1920)\n",
      "\n",
      "image 1/1 /datasets/tdt4265/other/rbk/1_train-val_1min_aalesund_from_start/img1/000017.jpg: 1088x1920 22 players, 2.5ms\n",
      "\n",
      "image 1/1 /datasets/tdt4265/other/rbk/1_train-val_1min_aalesund_from_start/img1/000017.jpg: 1088x1920 1 ball, 2.3ms\n",
      "Speed: 3.3ms preprocess, 2.5ms inference, 0.5ms postprocess per image at shape (1, 3, 1088, 1920)\n",
      "\n",
      "image 1/1 /datasets/tdt4265/other/rbk/1_train-val_1min_aalesund_from_start/img1/000018.jpg: 1088x1920 22 players, 2.5ms\n",
      "\n",
      "image 1/1 /datasets/tdt4265/other/rbk/1_train-val_1min_aalesund_from_start/img1/000018.jpg: 1088x1920 1 ball, 2.5ms\n",
      "Speed: 3.4ms preprocess, 2.5ms inference, 0.5ms postprocess per image at shape (1, 3, 1088, 1920)\n",
      "\n",
      "image 1/1 /datasets/tdt4265/other/rbk/1_train-val_1min_aalesund_from_start/img1/000019.jpg: 1088x1920 22 players, 2.4ms\n",
      "\n",
      "image 1/1 /datasets/tdt4265/other/rbk/1_train-val_1min_aalesund_from_start/img1/000019.jpg: 1088x1920 1 ball, 2.3ms\n",
      "Speed: 2.6ms preprocess, 2.4ms inference, 0.6ms postprocess per image at shape (1, 3, 1088, 1920)\n",
      "\n",
      "image 1/1 /datasets/tdt4265/other/rbk/1_train-val_1min_aalesund_from_start/img1/000020.jpg: 1088x1920 22 players, 2.4ms\n",
      "\n",
      "image 1/1 /datasets/tdt4265/other/rbk/1_train-val_1min_aalesund_from_start/img1/000020.jpg: 1088x1920 1 ball, 2.5ms\n",
      "Speed: 3.2ms preprocess, 2.4ms inference, 0.5ms postprocess per image at shape (1, 3, 1088, 1920)\n",
      "\n",
      "image 1/1 /datasets/tdt4265/other/rbk/1_train-val_1min_aalesund_from_start/img1/000021.jpg: 1088x1920 22 players, 2.4ms\n",
      "\n",
      "image 1/1 /datasets/tdt4265/other/rbk/1_train-val_1min_aalesund_from_start/img1/000021.jpg: 1088x1920 1 ball, 2.3ms\n",
      "Speed: 4.5ms preprocess, 2.4ms inference, 0.5ms postprocess per image at shape (1, 3, 1088, 1920)\n",
      "\n",
      "image 1/1 /datasets/tdt4265/other/rbk/1_train-val_1min_aalesund_from_start/img1/000022.jpg: 1088x1920 22 players, 2.4ms\n",
      "\n",
      "image 1/1 /datasets/tdt4265/other/rbk/1_train-val_1min_aalesund_from_start/img1/000022.jpg: 1088x1920 1 ball, 2.5ms\n",
      "Speed: 3.2ms preprocess, 2.4ms inference, 0.5ms postprocess per image at shape (1, 3, 1088, 1920)\n",
      "\n",
      "image 1/1 /datasets/tdt4265/other/rbk/1_train-val_1min_aalesund_from_start/img1/000023.jpg: 1088x1920 22 players, 2.5ms\n",
      "\n",
      "image 1/1 /datasets/tdt4265/other/rbk/1_train-val_1min_aalesund_from_start/img1/000023.jpg: 1088x1920 1 ball, 2.5ms\n",
      "Speed: 4.3ms preprocess, 2.5ms inference, 0.6ms postprocess per image at shape (1, 3, 1088, 1920)\n",
      "\n",
      "image 1/1 /datasets/tdt4265/other/rbk/1_train-val_1min_aalesund_from_start/img1/000024.jpg: 1088x1920 22 players, 2.4ms\n",
      "\n",
      "image 1/1 /datasets/tdt4265/other/rbk/1_train-val_1min_aalesund_from_start/img1/000024.jpg: 1088x1920 1 ball, 2.3ms\n",
      "Speed: 3.3ms preprocess, 2.4ms inference, 0.7ms postprocess per image at shape (1, 3, 1088, 1920)\n",
      "\n",
      "image 1/1 /datasets/tdt4265/other/rbk/1_train-val_1min_aalesund_from_start/img1/000025.jpg: 1088x1920 22 players, 2.4ms\n",
      "\n",
      "image 1/1 /datasets/tdt4265/other/rbk/1_train-val_1min_aalesund_from_start/img1/000025.jpg: 1088x1920 1 ball, 2.3ms\n",
      "Speed: 3.3ms preprocess, 2.4ms inference, 0.5ms postprocess per image at shape (1, 3, 1088, 1920)\n",
      "\n",
      "image 1/1 /datasets/tdt4265/other/rbk/1_train-val_1min_aalesund_from_start/img1/000026.jpg: 1088x1920 22 players, 2.4ms\n",
      "\n",
      "image 1/1 /datasets/tdt4265/other/rbk/1_train-val_1min_aalesund_from_start/img1/000026.jpg: 1088x1920 1 ball, 2.3ms\n",
      "Speed: 3.3ms preprocess, 2.4ms inference, 0.5ms postprocess per image at shape (1, 3, 1088, 1920)\n",
      "\n",
      "image 1/1 /datasets/tdt4265/other/rbk/1_train-val_1min_aalesund_from_start/img1/000027.jpg: 1088x1920 22 players, 2.4ms\n",
      "\n",
      "image 1/1 /datasets/tdt4265/other/rbk/1_train-val_1min_aalesund_from_start/img1/000027.jpg: 1088x1920 1 ball, 2.3ms\n",
      "Speed: 3.3ms preprocess, 2.4ms inference, 0.7ms postprocess per image at shape (1, 3, 1088, 1920)\n",
      "\n",
      "image 1/1 /datasets/tdt4265/other/rbk/1_train-val_1min_aalesund_from_start/img1/000028.jpg: 1088x1920 22 players, 2.4ms\n",
      "\n",
      "image 1/1 /datasets/tdt4265/other/rbk/1_train-val_1min_aalesund_from_start/img1/000028.jpg: 1088x1920 1 ball, 2.3ms\n",
      "Speed: 3.3ms preprocess, 2.4ms inference, 0.5ms postprocess per image at shape (1, 3, 1088, 1920)\n",
      "\n",
      "image 1/1 /datasets/tdt4265/other/rbk/1_train-val_1min_aalesund_from_start/img1/000029.jpg: 1088x1920 22 players, 2.4ms\n",
      "\n",
      "image 1/1 /datasets/tdt4265/other/rbk/1_train-val_1min_aalesund_from_start/img1/000029.jpg: 1088x1920 1 ball, 2.5ms\n",
      "Speed: 3.2ms preprocess, 2.4ms inference, 0.5ms postprocess per image at shape (1, 3, 1088, 1920)\n",
      "\n",
      "image 1/1 /datasets/tdt4265/other/rbk/1_train-val_1min_aalesund_from_start/img1/000030.jpg: 1088x1920 22 players, 2.6ms\n",
      "\n",
      "image 1/1 /datasets/tdt4265/other/rbk/1_train-val_1min_aalesund_from_start/img1/000030.jpg: 1088x1920 1 ball, 2.4ms\n",
      "Speed: 3.3ms preprocess, 2.6ms inference, 0.6ms postprocess per image at shape (1, 3, 1088, 1920)\n",
      "\n",
      "image 1/1 /datasets/tdt4265/other/rbk/1_train-val_1min_aalesund_from_start/img1/000031.jpg: 1088x1920 22 players, 2.4ms\n",
      "\n",
      "image 1/1 /datasets/tdt4265/other/rbk/1_train-val_1min_aalesund_from_start/img1/000031.jpg: 1088x1920 1 ball, 2.3ms\n",
      "Speed: 3.3ms preprocess, 2.4ms inference, 1.0ms postprocess per image at shape (1, 3, 1088, 1920)\n",
      "\n",
      "image 1/1 /datasets/tdt4265/other/rbk/1_train-val_1min_aalesund_from_start/img1/000032.jpg: 1088x1920 22 players, 2.5ms\n",
      "\n",
      "image 1/1 /datasets/tdt4265/other/rbk/1_train-val_1min_aalesund_from_start/img1/000032.jpg: 1088x1920 1 ball, 2.6ms\n",
      "Speed: 3.2ms preprocess, 2.5ms inference, 0.5ms postprocess per image at shape (1, 3, 1088, 1920)\n",
      "\n",
      "image 1/1 /datasets/tdt4265/other/rbk/1_train-val_1min_aalesund_from_start/img1/000033.jpg: 1088x1920 22 players, 2.4ms\n",
      "\n",
      "image 1/1 /datasets/tdt4265/other/rbk/1_train-val_1min_aalesund_from_start/img1/000033.jpg: 1088x1920 1 ball, 2.6ms\n",
      "Speed: 3.4ms preprocess, 2.4ms inference, 0.5ms postprocess per image at shape (1, 3, 1088, 1920)\n",
      "\n",
      "image 1/1 /datasets/tdt4265/other/rbk/1_train-val_1min_aalesund_from_start/img1/000034.jpg: 1088x1920 22 players, 2.4ms\n",
      "\n",
      "image 1/1 /datasets/tdt4265/other/rbk/1_train-val_1min_aalesund_from_start/img1/000034.jpg: 1088x1920 1 ball, 2.3ms\n",
      "Speed: 3.3ms preprocess, 2.4ms inference, 0.6ms postprocess per image at shape (1, 3, 1088, 1920)\n",
      "\n",
      "image 1/1 /datasets/tdt4265/other/rbk/1_train-val_1min_aalesund_from_start/img1/000035.jpg: 1088x1920 22 players, 2.4ms\n",
      "\n",
      "image 1/1 /datasets/tdt4265/other/rbk/1_train-val_1min_aalesund_from_start/img1/000035.jpg: 1088x1920 1 ball, 2.4ms\n",
      "Speed: 3.3ms preprocess, 2.4ms inference, 0.5ms postprocess per image at shape (1, 3, 1088, 1920)\n",
      "\n",
      "image 1/1 /datasets/tdt4265/other/rbk/1_train-val_1min_aalesund_from_start/img1/000036.jpg: 1088x1920 22 players, 2.4ms\n",
      "\n",
      "image 1/1 /datasets/tdt4265/other/rbk/1_train-val_1min_aalesund_from_start/img1/000036.jpg: 1088x1920 1 ball, 2.6ms\n",
      "Speed: 3.3ms preprocess, 2.4ms inference, 0.5ms postprocess per image at shape (1, 3, 1088, 1920)\n",
      "\n",
      "image 1/1 /datasets/tdt4265/other/rbk/1_train-val_1min_aalesund_from_start/img1/000037.jpg: 1088x1920 22 players, 2.5ms\n",
      "\n",
      "image 1/1 /datasets/tdt4265/other/rbk/1_train-val_1min_aalesund_from_start/img1/000037.jpg: 1088x1920 1 ball, 2.3ms\n",
      "Speed: 3.2ms preprocess, 2.5ms inference, 0.8ms postprocess per image at shape (1, 3, 1088, 1920)\n",
      "\n",
      "image 1/1 /datasets/tdt4265/other/rbk/1_train-val_1min_aalesund_from_start/img1/000038.jpg: 1088x1920 22 players, 2.4ms\n",
      "\n",
      "image 1/1 /datasets/tdt4265/other/rbk/1_train-val_1min_aalesund_from_start/img1/000038.jpg: 1088x1920 1 ball, 2.3ms\n",
      "Speed: 3.3ms preprocess, 2.4ms inference, 0.8ms postprocess per image at shape (1, 3, 1088, 1920)\n",
      "\n",
      "image 1/1 /datasets/tdt4265/other/rbk/1_train-val_1min_aalesund_from_start/img1/000039.jpg: 1088x1920 22 players, 2.4ms\n",
      "\n",
      "image 1/1 /datasets/tdt4265/other/rbk/1_train-val_1min_aalesund_from_start/img1/000039.jpg: 1088x1920 1 ball, 2.6ms\n",
      "Speed: 3.2ms preprocess, 2.4ms inference, 0.5ms postprocess per image at shape (1, 3, 1088, 1920)\n",
      "\n",
      "image 1/1 /datasets/tdt4265/other/rbk/1_train-val_1min_aalesund_from_start/img1/000040.jpg: 1088x1920 22 players, 2.5ms\n",
      "\n",
      "image 1/1 /datasets/tdt4265/other/rbk/1_train-val_1min_aalesund_from_start/img1/000040.jpg: 1088x1920 1 ball, 2.5ms\n",
      "Speed: 3.3ms preprocess, 2.5ms inference, 0.5ms postprocess per image at shape (1, 3, 1088, 1920)\n",
      "\n",
      "image 1/1 /datasets/tdt4265/other/rbk/1_train-val_1min_aalesund_from_start/img1/000041.jpg: 1088x1920 22 players, 2.4ms\n",
      "\n",
      "image 1/1 /datasets/tdt4265/other/rbk/1_train-val_1min_aalesund_from_start/img1/000041.jpg: 1088x1920 1 ball, 2.3ms\n",
      "Speed: 3.5ms preprocess, 2.4ms inference, 0.5ms postprocess per image at shape (1, 3, 1088, 1920)\n",
      "\n",
      "image 1/1 /datasets/tdt4265/other/rbk/1_train-val_1min_aalesund_from_start/img1/000042.jpg: 1088x1920 22 players, 2.4ms\n",
      "\n",
      "image 1/1 /datasets/tdt4265/other/rbk/1_train-val_1min_aalesund_from_start/img1/000042.jpg: 1088x1920 1 ball, 2.4ms\n",
      "Speed: 3.3ms preprocess, 2.4ms inference, 0.6ms postprocess per image at shape (1, 3, 1088, 1920)\n",
      "\n",
      "image 1/1 /datasets/tdt4265/other/rbk/1_train-val_1min_aalesund_from_start/img1/000043.jpg: 1088x1920 22 players, 2.4ms\n",
      "\n",
      "image 1/1 /datasets/tdt4265/other/rbk/1_train-val_1min_aalesund_from_start/img1/000043.jpg: 1088x1920 1 ball, 2.5ms\n",
      "Speed: 3.3ms preprocess, 2.4ms inference, 0.5ms postprocess per image at shape (1, 3, 1088, 1920)\n",
      "\n",
      "image 1/1 /datasets/tdt4265/other/rbk/1_train-val_1min_aalesund_from_start/img1/000044.jpg: 1088x1920 22 players, 2.8ms\n",
      "\n",
      "image 1/1 /datasets/tdt4265/other/rbk/1_train-val_1min_aalesund_from_start/img1/000044.jpg: 1088x1920 1 ball, 2.5ms\n",
      "Speed: 3.3ms preprocess, 2.8ms inference, 0.5ms postprocess per image at shape (1, 3, 1088, 1920)\n",
      "\n",
      "image 1/1 /datasets/tdt4265/other/rbk/1_train-val_1min_aalesund_from_start/img1/000045.jpg: 1088x1920 22 players, 2.8ms\n",
      "\n",
      "image 1/1 /datasets/tdt4265/other/rbk/1_train-val_1min_aalesund_from_start/img1/000045.jpg: 1088x1920 1 ball, 2.3ms\n",
      "Speed: 3.3ms preprocess, 2.8ms inference, 0.5ms postprocess per image at shape (1, 3, 1088, 1920)\n",
      "\n",
      "image 1/1 /datasets/tdt4265/other/rbk/1_train-val_1min_aalesund_from_start/img1/000046.jpg: 1088x1920 22 players, 2.4ms\n",
      "\n",
      "image 1/1 /datasets/tdt4265/other/rbk/1_train-val_1min_aalesund_from_start/img1/000046.jpg: 1088x1920 1 ball, 2.3ms\n",
      "Speed: 3.2ms preprocess, 2.4ms inference, 0.5ms postprocess per image at shape (1, 3, 1088, 1920)\n",
      "\n",
      "image 1/1 /datasets/tdt4265/other/rbk/1_train-val_1min_aalesund_from_start/img1/000047.jpg: 1088x1920 22 players, 2.4ms\n",
      "\n",
      "image 1/1 /datasets/tdt4265/other/rbk/1_train-val_1min_aalesund_from_start/img1/000047.jpg: 1088x1920 1 ball, 2.6ms\n",
      "Speed: 3.3ms preprocess, 2.4ms inference, 0.5ms postprocess per image at shape (1, 3, 1088, 1920)\n",
      "\n",
      "image 1/1 /datasets/tdt4265/other/rbk/1_train-val_1min_aalesund_from_start/img1/000048.jpg: 1088x1920 22 players, 2.5ms\n",
      "\n",
      "image 1/1 /datasets/tdt4265/other/rbk/1_train-val_1min_aalesund_from_start/img1/000048.jpg: 1088x1920 1 ball, 2.6ms\n",
      "Speed: 3.3ms preprocess, 2.5ms inference, 0.6ms postprocess per image at shape (1, 3, 1088, 1920)\n",
      "\n",
      "image 1/1 /datasets/tdt4265/other/rbk/1_train-val_1min_aalesund_from_start/img1/000049.jpg: 1088x1920 22 players, 2.6ms\n",
      "\n",
      "image 1/1 /datasets/tdt4265/other/rbk/1_train-val_1min_aalesund_from_start/img1/000049.jpg: 1088x1920 1 ball, 2.3ms\n",
      "Speed: 3.4ms preprocess, 2.6ms inference, 0.8ms postprocess per image at shape (1, 3, 1088, 1920)\n",
      "\n",
      "image 1/1 /datasets/tdt4265/other/rbk/1_train-val_1min_aalesund_from_start/img1/000050.jpg: 1088x1920 22 players, 2.4ms\n",
      "\n",
      "image 1/1 /datasets/tdt4265/other/rbk/1_train-val_1min_aalesund_from_start/img1/000050.jpg: 1088x1920 1 ball, 2.3ms\n",
      "Speed: 3.2ms preprocess, 2.4ms inference, 0.5ms postprocess per image at shape (1, 3, 1088, 1920)\n",
      "\n",
      "image 1/1 /datasets/tdt4265/other/rbk/1_train-val_1min_aalesund_from_start/img1/000051.jpg: 1088x1920 22 players, 2.4ms\n",
      "\n",
      "image 1/1 /datasets/tdt4265/other/rbk/1_train-val_1min_aalesund_from_start/img1/000051.jpg: 1088x1920 1 ball, 2.5ms\n",
      "Speed: 3.2ms preprocess, 2.4ms inference, 0.5ms postprocess per image at shape (1, 3, 1088, 1920)\n",
      "\n",
      "image 1/1 /datasets/tdt4265/other/rbk/1_train-val_1min_aalesund_from_start/img1/000052.jpg: 1088x1920 22 players, 2.6ms\n",
      "\n",
      "image 1/1 /datasets/tdt4265/other/rbk/1_train-val_1min_aalesund_from_start/img1/000052.jpg: 1088x1920 1 ball, 2.6ms\n",
      "Speed: 2.4ms preprocess, 2.6ms inference, 0.6ms postprocess per image at shape (1, 3, 1088, 1920)\n",
      "\n",
      "image 1/1 /datasets/tdt4265/other/rbk/1_train-val_1min_aalesund_from_start/img1/000053.jpg: 1088x1920 22 players, 2.6ms\n",
      "\n",
      "image 1/1 /datasets/tdt4265/other/rbk/1_train-val_1min_aalesund_from_start/img1/000053.jpg: 1088x1920 1 ball, 2.9ms\n",
      "Speed: 4.3ms preprocess, 2.6ms inference, 0.6ms postprocess per image at shape (1, 3, 1088, 1920)\n",
      "\n",
      "image 1/1 /datasets/tdt4265/other/rbk/1_train-val_1min_aalesund_from_start/img1/000054.jpg: 1088x1920 22 players, 2.7ms\n",
      "\n",
      "image 1/1 /datasets/tdt4265/other/rbk/1_train-val_1min_aalesund_from_start/img1/000054.jpg: 1088x1920 1 ball, 2.3ms\n",
      "Speed: 3.3ms preprocess, 2.7ms inference, 0.7ms postprocess per image at shape (1, 3, 1088, 1920)\n",
      "\n",
      "image 1/1 /datasets/tdt4265/other/rbk/1_train-val_1min_aalesund_from_start/img1/000055.jpg: 1088x1920 22 players, 2.5ms\n",
      "\n",
      "image 1/1 /datasets/tdt4265/other/rbk/1_train-val_1min_aalesund_from_start/img1/000055.jpg: 1088x1920 1 ball, 2.3ms\n",
      "Speed: 3.3ms preprocess, 2.5ms inference, 0.8ms postprocess per image at shape (1, 3, 1088, 1920)\n",
      "\n",
      "image 1/1 /datasets/tdt4265/other/rbk/1_train-val_1min_aalesund_from_start/img1/000056.jpg: 1088x1920 22 players, 2.4ms\n",
      "\n",
      "image 1/1 /datasets/tdt4265/other/rbk/1_train-val_1min_aalesund_from_start/img1/000056.jpg: 1088x1920 1 ball, 2.3ms\n",
      "Speed: 3.2ms preprocess, 2.4ms inference, 0.5ms postprocess per image at shape (1, 3, 1088, 1920)\n",
      "\n",
      "image 1/1 /datasets/tdt4265/other/rbk/1_train-val_1min_aalesund_from_start/img1/000057.jpg: 1088x1920 22 players, 2.4ms\n",
      "\n",
      "image 1/1 /datasets/tdt4265/other/rbk/1_train-val_1min_aalesund_from_start/img1/000057.jpg: 1088x1920 1 ball, 2.5ms\n",
      "Speed: 3.2ms preprocess, 2.4ms inference, 0.6ms postprocess per image at shape (1, 3, 1088, 1920)\n",
      "\n",
      "image 1/1 /datasets/tdt4265/other/rbk/1_train-val_1min_aalesund_from_start/img1/000058.jpg: 1088x1920 22 players, 2.4ms\n",
      "\n",
      "image 1/1 /datasets/tdt4265/other/rbk/1_train-val_1min_aalesund_from_start/img1/000058.jpg: 1088x1920 1 ball, 2.5ms\n",
      "Speed: 3.3ms preprocess, 2.4ms inference, 0.5ms postprocess per image at shape (1, 3, 1088, 1920)\n",
      "\n",
      "image 1/1 /datasets/tdt4265/other/rbk/1_train-val_1min_aalesund_from_start/img1/000059.jpg: 1088x1920 22 players, 2.6ms\n",
      "\n",
      "image 1/1 /datasets/tdt4265/other/rbk/1_train-val_1min_aalesund_from_start/img1/000059.jpg: 1088x1920 1 ball, 2.6ms\n",
      "Speed: 3.4ms preprocess, 2.6ms inference, 0.6ms postprocess per image at shape (1, 3, 1088, 1920)\n",
      "\n",
      "image 1/1 /datasets/tdt4265/other/rbk/1_train-val_1min_aalesund_from_start/img1/000060.jpg: 1088x1920 22 players, 2.4ms\n",
      "\n",
      "image 1/1 /datasets/tdt4265/other/rbk/1_train-val_1min_aalesund_from_start/img1/000060.jpg: 1088x1920 1 ball, 2.3ms\n",
      "Speed: 3.3ms preprocess, 2.4ms inference, 0.6ms postprocess per image at shape (1, 3, 1088, 1920)\n",
      "\n",
      "image 1/1 /datasets/tdt4265/other/rbk/1_train-val_1min_aalesund_from_start/img1/000061.jpg: 1088x1920 22 players, 2.4ms\n",
      "\n",
      "image 1/1 /datasets/tdt4265/other/rbk/1_train-val_1min_aalesund_from_start/img1/000061.jpg: 1088x1920 1 ball, 2.3ms\n",
      "Speed: 3.3ms preprocess, 2.4ms inference, 1.1ms postprocess per image at shape (1, 3, 1088, 1920)\n",
      "\n",
      "image 1/1 /datasets/tdt4265/other/rbk/1_train-val_1min_aalesund_from_start/img1/000062.jpg: 1088x1920 22 players, 2.4ms\n",
      "\n",
      "image 1/1 /datasets/tdt4265/other/rbk/1_train-val_1min_aalesund_from_start/img1/000062.jpg: 1088x1920 1 ball, 2.3ms\n",
      "Speed: 3.2ms preprocess, 2.4ms inference, 0.5ms postprocess per image at shape (1, 3, 1088, 1920)\n",
      "\n",
      "image 1/1 /datasets/tdt4265/other/rbk/1_train-val_1min_aalesund_from_start/img1/000063.jpg: 1088x1920 22 players, 2.4ms\n",
      "\n",
      "image 1/1 /datasets/tdt4265/other/rbk/1_train-val_1min_aalesund_from_start/img1/000063.jpg: 1088x1920 1 ball, 2.4ms\n",
      "Speed: 3.3ms preprocess, 2.4ms inference, 0.5ms postprocess per image at shape (1, 3, 1088, 1920)\n",
      "\n",
      "image 1/1 /datasets/tdt4265/other/rbk/1_train-val_1min_aalesund_from_start/img1/000064.jpg: 1088x1920 22 players, 2.4ms\n",
      "\n",
      "image 1/1 /datasets/tdt4265/other/rbk/1_train-val_1min_aalesund_from_start/img1/000064.jpg: 1088x1920 1 ball, 2.5ms\n",
      "Speed: 3.2ms preprocess, 2.4ms inference, 0.5ms postprocess per image at shape (1, 3, 1088, 1920)\n",
      "\n",
      "image 1/1 /datasets/tdt4265/other/rbk/1_train-val_1min_aalesund_from_start/img1/000065.jpg: 1088x1920 22 players, 2.4ms\n",
      "\n",
      "image 1/1 /datasets/tdt4265/other/rbk/1_train-val_1min_aalesund_from_start/img1/000065.jpg: 1088x1920 1 ball, 2.6ms\n",
      "Speed: 3.3ms preprocess, 2.4ms inference, 0.5ms postprocess per image at shape (1, 3, 1088, 1920)\n",
      "\n",
      "image 1/1 /datasets/tdt4265/other/rbk/1_train-val_1min_aalesund_from_start/img1/000066.jpg: 1088x1920 22 players, 2.6ms\n",
      "\n",
      "image 1/1 /datasets/tdt4265/other/rbk/1_train-val_1min_aalesund_from_start/img1/000066.jpg: 1088x1920 1 ball, 2.5ms\n",
      "Speed: 3.3ms preprocess, 2.6ms inference, 0.6ms postprocess per image at shape (1, 3, 1088, 1920)\n",
      "\n",
      "image 1/1 /datasets/tdt4265/other/rbk/1_train-val_1min_aalesund_from_start/img1/000067.jpg: 1088x1920 22 players, 2.6ms\n",
      "\n",
      "image 1/1 /datasets/tdt4265/other/rbk/1_train-val_1min_aalesund_from_start/img1/000067.jpg: 1088x1920 1 ball, 2.5ms\n",
      "Speed: 3.3ms preprocess, 2.6ms inference, 0.6ms postprocess per image at shape (1, 3, 1088, 1920)\n",
      "\n",
      "image 1/1 /datasets/tdt4265/other/rbk/1_train-val_1min_aalesund_from_start/img1/000068.jpg: 1088x1920 22 players, 2.6ms\n",
      "\n",
      "image 1/1 /datasets/tdt4265/other/rbk/1_train-val_1min_aalesund_from_start/img1/000068.jpg: 1088x1920 1 ball, 2.3ms\n",
      "Speed: 3.3ms preprocess, 2.6ms inference, 0.5ms postprocess per image at shape (1, 3, 1088, 1920)\n",
      "\n",
      "image 1/1 /datasets/tdt4265/other/rbk/1_train-val_1min_aalesund_from_start/img1/000069.jpg: 1088x1920 22 players, 2.9ms\n",
      "\n",
      "image 1/1 /datasets/tdt4265/other/rbk/1_train-val_1min_aalesund_from_start/img1/000069.jpg: 1088x1920 1 ball, 2.3ms\n",
      "Speed: 3.2ms preprocess, 2.9ms inference, 0.6ms postprocess per image at shape (1, 3, 1088, 1920)\n",
      "\n",
      "image 1/1 /datasets/tdt4265/other/rbk/1_train-val_1min_aalesund_from_start/img1/000070.jpg: 1088x1920 22 players, 2.6ms\n",
      "\n",
      "image 1/1 /datasets/tdt4265/other/rbk/1_train-val_1min_aalesund_from_start/img1/000070.jpg: 1088x1920 1 ball, 2.3ms\n",
      "Speed: 3.3ms preprocess, 2.6ms inference, 0.8ms postprocess per image at shape (1, 3, 1088, 1920)\n",
      "\n",
      "image 1/1 /datasets/tdt4265/other/rbk/1_train-val_1min_aalesund_from_start/img1/000071.jpg: 1088x1920 22 players, 2.4ms\n",
      "\n",
      "image 1/1 /datasets/tdt4265/other/rbk/1_train-val_1min_aalesund_from_start/img1/000071.jpg: 1088x1920 1 ball, 2.4ms\n",
      "Speed: 3.3ms preprocess, 2.4ms inference, 1.0ms postprocess per image at shape (1, 3, 1088, 1920)\n",
      "\n",
      "image 1/1 /datasets/tdt4265/other/rbk/1_train-val_1min_aalesund_from_start/img1/000072.jpg: 1088x1920 22 players, 2.6ms\n",
      "\n",
      "image 1/1 /datasets/tdt4265/other/rbk/1_train-val_1min_aalesund_from_start/img1/000072.jpg: 1088x1920 1 ball, 2.4ms\n",
      "Speed: 3.4ms preprocess, 2.6ms inference, 0.8ms postprocess per image at shape (1, 3, 1088, 1920)\n",
      "\n",
      "image 1/1 /datasets/tdt4265/other/rbk/1_train-val_1min_aalesund_from_start/img1/000073.jpg: 1088x1920 22 players, 2.5ms\n",
      "\n",
      "image 1/1 /datasets/tdt4265/other/rbk/1_train-val_1min_aalesund_from_start/img1/000073.jpg: 1088x1920 1 ball, 2.3ms\n",
      "Speed: 4.3ms preprocess, 2.5ms inference, 0.8ms postprocess per image at shape (1, 3, 1088, 1920)\n",
      "\n",
      "image 1/1 /datasets/tdt4265/other/rbk/1_train-val_1min_aalesund_from_start/img1/000074.jpg: 1088x1920 22 players, 2.4ms\n",
      "\n",
      "image 1/1 /datasets/tdt4265/other/rbk/1_train-val_1min_aalesund_from_start/img1/000074.jpg: 1088x1920 1 ball, 2.3ms\n",
      "Speed: 3.2ms preprocess, 2.4ms inference, 0.5ms postprocess per image at shape (1, 3, 1088, 1920)\n",
      "\n",
      "image 1/1 /datasets/tdt4265/other/rbk/1_train-val_1min_aalesund_from_start/img1/000075.jpg: 1088x1920 22 players, 2.5ms\n",
      "\n",
      "image 1/1 /datasets/tdt4265/other/rbk/1_train-val_1min_aalesund_from_start/img1/000075.jpg: 1088x1920 1 ball, 2.3ms\n",
      "Speed: 3.3ms preprocess, 2.5ms inference, 0.5ms postprocess per image at shape (1, 3, 1088, 1920)\n",
      "\n",
      "image 1/1 /datasets/tdt4265/other/rbk/1_train-val_1min_aalesund_from_start/img1/000076.jpg: 1088x1920 22 players, 2.5ms\n",
      "\n",
      "image 1/1 /datasets/tdt4265/other/rbk/1_train-val_1min_aalesund_from_start/img1/000076.jpg: 1088x1920 1 ball, 2.3ms\n",
      "Speed: 3.2ms preprocess, 2.5ms inference, 0.8ms postprocess per image at shape (1, 3, 1088, 1920)\n",
      "\n",
      "image 1/1 /datasets/tdt4265/other/rbk/1_train-val_1min_aalesund_from_start/img1/000077.jpg: 1088x1920 22 players, 2.4ms\n",
      "\n",
      "image 1/1 /datasets/tdt4265/other/rbk/1_train-val_1min_aalesund_from_start/img1/000077.jpg: 1088x1920 1 ball, 2.3ms\n",
      "Speed: 3.2ms preprocess, 2.4ms inference, 1.1ms postprocess per image at shape (1, 3, 1088, 1920)\n",
      "\n",
      "image 1/1 /datasets/tdt4265/other/rbk/1_train-val_1min_aalesund_from_start/img1/000078.jpg: 1088x1920 22 players, 2.4ms\n",
      "\n",
      "image 1/1 /datasets/tdt4265/other/rbk/1_train-val_1min_aalesund_from_start/img1/000078.jpg: 1088x1920 1 ball, 2.3ms\n",
      "Speed: 3.3ms preprocess, 2.4ms inference, 0.5ms postprocess per image at shape (1, 3, 1088, 1920)\n",
      "\n",
      "image 1/1 /datasets/tdt4265/other/rbk/1_train-val_1min_aalesund_from_start/img1/000079.jpg: 1088x1920 22 players, 2.4ms\n",
      "\n",
      "image 1/1 /datasets/tdt4265/other/rbk/1_train-val_1min_aalesund_from_start/img1/000079.jpg: 1088x1920 1 ball, 2.3ms\n",
      "Speed: 3.2ms preprocess, 2.4ms inference, 0.5ms postprocess per image at shape (1, 3, 1088, 1920)\n",
      "\n",
      "image 1/1 /datasets/tdt4265/other/rbk/1_train-val_1min_aalesund_from_start/img1/000080.jpg: 1088x1920 22 players, 2.4ms\n",
      "\n",
      "image 1/1 /datasets/tdt4265/other/rbk/1_train-val_1min_aalesund_from_start/img1/000080.jpg: 1088x1920 1 ball, 2.3ms\n",
      "Speed: 3.2ms preprocess, 2.4ms inference, 0.5ms postprocess per image at shape (1, 3, 1088, 1920)\n",
      "\n",
      "image 1/1 /datasets/tdt4265/other/rbk/1_train-val_1min_aalesund_from_start/img1/000081.jpg: 1088x1920 22 players, 2.4ms\n",
      "\n",
      "image 1/1 /datasets/tdt4265/other/rbk/1_train-val_1min_aalesund_from_start/img1/000081.jpg: 1088x1920 1 ball, 2.5ms\n",
      "Speed: 3.2ms preprocess, 2.4ms inference, 0.5ms postprocess per image at shape (1, 3, 1088, 1920)\n",
      "\n",
      "image 1/1 /datasets/tdt4265/other/rbk/1_train-val_1min_aalesund_from_start/img1/000082.jpg: 1088x1920 22 players, 2.4ms\n",
      "\n",
      "image 1/1 /datasets/tdt4265/other/rbk/1_train-val_1min_aalesund_from_start/img1/000082.jpg: 1088x1920 1 ball, 2.5ms\n",
      "Speed: 3.3ms preprocess, 2.4ms inference, 0.5ms postprocess per image at shape (1, 3, 1088, 1920)\n",
      "\n",
      "image 1/1 /datasets/tdt4265/other/rbk/1_train-val_1min_aalesund_from_start/img1/000083.jpg: 1088x1920 22 players, 2.4ms\n",
      "\n",
      "image 1/1 /datasets/tdt4265/other/rbk/1_train-val_1min_aalesund_from_start/img1/000083.jpg: 1088x1920 1 ball, 2.3ms\n",
      "Speed: 4.3ms preprocess, 2.4ms inference, 0.5ms postprocess per image at shape (1, 3, 1088, 1920)\n",
      "\n",
      "image 1/1 /datasets/tdt4265/other/rbk/1_train-val_1min_aalesund_from_start/img1/000084.jpg: 1088x1920 22 players, 2.4ms\n",
      "\n",
      "image 1/1 /datasets/tdt4265/other/rbk/1_train-val_1min_aalesund_from_start/img1/000084.jpg: 1088x1920 1 ball, 2.3ms\n",
      "Speed: 3.3ms preprocess, 2.4ms inference, 0.5ms postprocess per image at shape (1, 3, 1088, 1920)\n",
      "\n",
      "image 1/1 /datasets/tdt4265/other/rbk/1_train-val_1min_aalesund_from_start/img1/000085.jpg: 1088x1920 22 players, 2.4ms\n",
      "\n",
      "image 1/1 /datasets/tdt4265/other/rbk/1_train-val_1min_aalesund_from_start/img1/000085.jpg: 1088x1920 1 ball, 2.5ms\n",
      "Speed: 3.2ms preprocess, 2.4ms inference, 0.5ms postprocess per image at shape (1, 3, 1088, 1920)\n",
      "\n",
      "image 1/1 /datasets/tdt4265/other/rbk/1_train-val_1min_aalesund_from_start/img1/000086.jpg: 1088x1920 22 players, 2.4ms\n",
      "\n",
      "image 1/1 /datasets/tdt4265/other/rbk/1_train-val_1min_aalesund_from_start/img1/000086.jpg: 1088x1920 1 ball, 2.5ms\n",
      "Speed: 3.2ms preprocess, 2.4ms inference, 0.5ms postprocess per image at shape (1, 3, 1088, 1920)\n",
      "\n",
      "image 1/1 /datasets/tdt4265/other/rbk/1_train-val_1min_aalesund_from_start/img1/000087.jpg: 1088x1920 22 players, 2.4ms\n",
      "\n",
      "image 1/1 /datasets/tdt4265/other/rbk/1_train-val_1min_aalesund_from_start/img1/000087.jpg: 1088x1920 1 ball, 2.6ms\n",
      "Speed: 3.2ms preprocess, 2.4ms inference, 0.5ms postprocess per image at shape (1, 3, 1088, 1920)\n",
      "\n",
      "image 1/1 /datasets/tdt4265/other/rbk/1_train-val_1min_aalesund_from_start/img1/000088.jpg: 1088x1920 22 players, 2.5ms\n",
      "\n",
      "image 1/1 /datasets/tdt4265/other/rbk/1_train-val_1min_aalesund_from_start/img1/000088.jpg: 1088x1920 1 ball, 2.5ms\n",
      "Speed: 3.2ms preprocess, 2.5ms inference, 0.5ms postprocess per image at shape (1, 3, 1088, 1920)\n",
      "\n",
      "image 1/1 /datasets/tdt4265/other/rbk/1_train-val_1min_aalesund_from_start/img1/000089.jpg: 1088x1920 22 players, 2.5ms\n",
      "\n",
      "image 1/1 /datasets/tdt4265/other/rbk/1_train-val_1min_aalesund_from_start/img1/000089.jpg: 1088x1920 1 ball, 2.8ms\n",
      "Speed: 3.2ms preprocess, 2.5ms inference, 0.6ms postprocess per image at shape (1, 3, 1088, 1920)\n",
      "\n",
      "image 1/1 /datasets/tdt4265/other/rbk/1_train-val_1min_aalesund_from_start/img1/000090.jpg: 1088x1920 22 players, 2.5ms\n",
      "\n",
      "image 1/1 /datasets/tdt4265/other/rbk/1_train-val_1min_aalesund_from_start/img1/000090.jpg: 1088x1920 1 ball, 2.5ms\n",
      "Speed: 3.2ms preprocess, 2.5ms inference, 0.7ms postprocess per image at shape (1, 3, 1088, 1920)\n",
      "\n",
      "image 1/1 /datasets/tdt4265/other/rbk/1_train-val_1min_aalesund_from_start/img1/000091.jpg: 1088x1920 22 players, 2.4ms\n",
      "\n",
      "image 1/1 /datasets/tdt4265/other/rbk/1_train-val_1min_aalesund_from_start/img1/000091.jpg: 1088x1920 1 ball, 2.3ms\n",
      "Speed: 3.2ms preprocess, 2.4ms inference, 0.6ms postprocess per image at shape (1, 3, 1088, 1920)\n",
      "\n",
      "image 1/1 /datasets/tdt4265/other/rbk/1_train-val_1min_aalesund_from_start/img1/000092.jpg: 1088x1920 22 players, 2.5ms\n",
      "\n",
      "image 1/1 /datasets/tdt4265/other/rbk/1_train-val_1min_aalesund_from_start/img1/000092.jpg: 1088x1920 1 ball, 2.3ms\n",
      "Speed: 3.5ms preprocess, 2.5ms inference, 0.5ms postprocess per image at shape (1, 3, 1088, 1920)\n",
      "\n",
      "image 1/1 /datasets/tdt4265/other/rbk/1_train-val_1min_aalesund_from_start/img1/000093.jpg: 1088x1920 22 players, 2.4ms\n",
      "\n",
      "image 1/1 /datasets/tdt4265/other/rbk/1_train-val_1min_aalesund_from_start/img1/000093.jpg: 1088x1920 1 ball, 2.5ms\n",
      "Speed: 4.3ms preprocess, 2.4ms inference, 0.7ms postprocess per image at shape (1, 3, 1088, 1920)\n",
      "\n",
      "image 1/1 /datasets/tdt4265/other/rbk/1_train-val_1min_aalesund_from_start/img1/000094.jpg: 1088x1920 22 players, 2.6ms\n",
      "\n",
      "image 1/1 /datasets/tdt4265/other/rbk/1_train-val_1min_aalesund_from_start/img1/000094.jpg: 1088x1920 1 ball, 2.5ms\n",
      "Speed: 3.2ms preprocess, 2.6ms inference, 0.7ms postprocess per image at shape (1, 3, 1088, 1920)\n",
      "\n",
      "image 1/1 /datasets/tdt4265/other/rbk/1_train-val_1min_aalesund_from_start/img1/000095.jpg: 1088x1920 22 players, 2.4ms\n",
      "\n",
      "image 1/1 /datasets/tdt4265/other/rbk/1_train-val_1min_aalesund_from_start/img1/000095.jpg: 1088x1920 1 ball, 2.5ms\n",
      "Speed: 3.2ms preprocess, 2.4ms inference, 0.6ms postprocess per image at shape (1, 3, 1088, 1920)\n",
      "\n",
      "image 1/1 /datasets/tdt4265/other/rbk/1_train-val_1min_aalesund_from_start/img1/000096.jpg: 1088x1920 22 players, 2.4ms\n",
      "\n",
      "image 1/1 /datasets/tdt4265/other/rbk/1_train-val_1min_aalesund_from_start/img1/000096.jpg: 1088x1920 1 ball, 2.3ms\n",
      "Speed: 3.2ms preprocess, 2.4ms inference, 0.5ms postprocess per image at shape (1, 3, 1088, 1920)\n",
      "\n",
      "image 1/1 /datasets/tdt4265/other/rbk/1_train-val_1min_aalesund_from_start/img1/000097.jpg: 1088x1920 22 players, 2.6ms\n",
      "\n",
      "image 1/1 /datasets/tdt4265/other/rbk/1_train-val_1min_aalesund_from_start/img1/000097.jpg: 1088x1920 1 ball, 2.3ms\n",
      "Speed: 3.3ms preprocess, 2.6ms inference, 0.8ms postprocess per image at shape (1, 3, 1088, 1920)\n",
      "\n",
      "image 1/1 /datasets/tdt4265/other/rbk/1_train-val_1min_aalesund_from_start/img1/000098.jpg: 1088x1920 22 players, 2.4ms\n",
      "\n",
      "image 1/1 /datasets/tdt4265/other/rbk/1_train-val_1min_aalesund_from_start/img1/000098.jpg: 1088x1920 1 ball, 2.3ms\n",
      "Speed: 3.2ms preprocess, 2.4ms inference, 1.2ms postprocess per image at shape (1, 3, 1088, 1920)\n",
      "\n",
      "image 1/1 /datasets/tdt4265/other/rbk/1_train-val_1min_aalesund_from_start/img1/000099.jpg: 1088x1920 22 players, 2.5ms\n",
      "\n",
      "image 1/1 /datasets/tdt4265/other/rbk/1_train-val_1min_aalesund_from_start/img1/000099.jpg: 1088x1920 1 ball, 2.3ms\n",
      "Speed: 3.3ms preprocess, 2.5ms inference, 1.1ms postprocess per image at shape (1, 3, 1088, 1920)\n",
      "\n",
      "image 1/1 /datasets/tdt4265/other/rbk/1_train-val_1min_aalesund_from_start/img1/000100.jpg: 1088x1920 22 players, 2.4ms\n",
      "\n",
      "image 1/1 /datasets/tdt4265/other/rbk/1_train-val_1min_aalesund_from_start/img1/000100.jpg: 1088x1920 1 ball, 2.3ms\n",
      "Speed: 3.2ms preprocess, 2.4ms inference, 0.5ms postprocess per image at shape (1, 3, 1088, 1920)\n",
      "\n",
      "image 1/1 /datasets/tdt4265/other/rbk/1_train-val_1min_aalesund_from_start/img1/000101.jpg: 1088x1920 22 players, 2.4ms\n",
      "\n",
      "image 1/1 /datasets/tdt4265/other/rbk/1_train-val_1min_aalesund_from_start/img1/000101.jpg: 1088x1920 1 ball, 2.3ms\n",
      "Speed: 3.2ms preprocess, 2.4ms inference, 0.5ms postprocess per image at shape (1, 3, 1088, 1920)\n",
      "\n",
      "image 1/1 /datasets/tdt4265/other/rbk/1_train-val_1min_aalesund_from_start/img1/000102.jpg: 1088x1920 22 players, 2.4ms\n",
      "\n",
      "image 1/1 /datasets/tdt4265/other/rbk/1_train-val_1min_aalesund_from_start/img1/000102.jpg: 1088x1920 1 ball, 2.3ms\n",
      "Speed: 3.2ms preprocess, 2.4ms inference, 0.5ms postprocess per image at shape (1, 3, 1088, 1920)\n",
      "\n",
      "image 1/1 /datasets/tdt4265/other/rbk/1_train-val_1min_aalesund_from_start/img1/000103.jpg: 1088x1920 22 players, 2.4ms\n",
      "\n",
      "image 1/1 /datasets/tdt4265/other/rbk/1_train-val_1min_aalesund_from_start/img1/000103.jpg: 1088x1920 1 ball, 2.5ms\n",
      "Speed: 3.2ms preprocess, 2.4ms inference, 0.5ms postprocess per image at shape (1, 3, 1088, 1920)\n",
      "\n",
      "image 1/1 /datasets/tdt4265/other/rbk/1_train-val_1min_aalesund_from_start/img1/000104.jpg: 1088x1920 22 players, 2.4ms\n",
      "\n",
      "image 1/1 /datasets/tdt4265/other/rbk/1_train-val_1min_aalesund_from_start/img1/000104.jpg: 1088x1920 1 ball, 2.5ms\n",
      "Speed: 3.2ms preprocess, 2.4ms inference, 0.5ms postprocess per image at shape (1, 3, 1088, 1920)\n",
      "\n",
      "image 1/1 /datasets/tdt4265/other/rbk/1_train-val_1min_aalesund_from_start/img1/000105.jpg: 1088x1920 22 players, 2.4ms\n",
      "\n",
      "image 1/1 /datasets/tdt4265/other/rbk/1_train-val_1min_aalesund_from_start/img1/000105.jpg: 1088x1920 1 ball, 2.5ms\n",
      "Speed: 3.3ms preprocess, 2.4ms inference, 0.5ms postprocess per image at shape (1, 3, 1088, 1920)\n",
      "\n",
      "image 1/1 /datasets/tdt4265/other/rbk/1_train-val_1min_aalesund_from_start/img1/000106.jpg: 1088x1920 22 players, 2.5ms\n",
      "\n",
      "image 1/1 /datasets/tdt4265/other/rbk/1_train-val_1min_aalesund_from_start/img1/000106.jpg: 1088x1920 1 ball, 2.3ms\n",
      "Speed: 3.2ms preprocess, 2.5ms inference, 0.6ms postprocess per image at shape (1, 3, 1088, 1920)\n",
      "\n",
      "image 1/1 /datasets/tdt4265/other/rbk/1_train-val_1min_aalesund_from_start/img1/000107.jpg: 1088x1920 22 players, 2.5ms\n",
      "\n",
      "image 1/1 /datasets/tdt4265/other/rbk/1_train-val_1min_aalesund_from_start/img1/000107.jpg: 1088x1920 1 ball, 2.6ms\n",
      "Speed: 3.2ms preprocess, 2.5ms inference, 0.6ms postprocess per image at shape (1, 3, 1088, 1920)\n",
      "\n",
      "image 1/1 /datasets/tdt4265/other/rbk/1_train-val_1min_aalesund_from_start/img1/000108.jpg: 1088x1920 22 players, 2.4ms\n",
      "\n",
      "image 1/1 /datasets/tdt4265/other/rbk/1_train-val_1min_aalesund_from_start/img1/000108.jpg: 1088x1920 1 ball, 2.3ms\n",
      "Speed: 3.3ms preprocess, 2.4ms inference, 0.7ms postprocess per image at shape (1, 3, 1088, 1920)\n",
      "\n",
      "image 1/1 /datasets/tdt4265/other/rbk/1_train-val_1min_aalesund_from_start/img1/000109.jpg: 1088x1920 22 players, 2.8ms\n",
      "\n",
      "image 1/1 /datasets/tdt4265/other/rbk/1_train-val_1min_aalesund_from_start/img1/000109.jpg: 1088x1920 1 ball, 2.3ms\n",
      "Speed: 3.2ms preprocess, 2.8ms inference, 0.5ms postprocess per image at shape (1, 3, 1088, 1920)\n",
      "\n",
      "image 1/1 /datasets/tdt4265/other/rbk/1_train-val_1min_aalesund_from_start/img1/000110.jpg: 1088x1920 22 players, 2.6ms\n",
      "\n",
      "image 1/1 /datasets/tdt4265/other/rbk/1_train-val_1min_aalesund_from_start/img1/000110.jpg: 1088x1920 1 ball, 2.3ms\n",
      "Speed: 3.3ms preprocess, 2.6ms inference, 0.8ms postprocess per image at shape (1, 3, 1088, 1920)\n",
      "\n",
      "image 1/1 /datasets/tdt4265/other/rbk/1_train-val_1min_aalesund_from_start/img1/000111.jpg: 1088x1920 22 players, 2.4ms\n",
      "\n",
      "image 1/1 /datasets/tdt4265/other/rbk/1_train-val_1min_aalesund_from_start/img1/000111.jpg: 1088x1920 1 ball, 2.4ms\n",
      "Speed: 3.2ms preprocess, 2.4ms inference, 0.5ms postprocess per image at shape (1, 3, 1088, 1920)\n",
      "\n",
      "image 1/1 /datasets/tdt4265/other/rbk/1_train-val_1min_aalesund_from_start/img1/000112.jpg: 1088x1920 22 players, 2.4ms\n",
      "\n",
      "image 1/1 /datasets/tdt4265/other/rbk/1_train-val_1min_aalesund_from_start/img1/000112.jpg: 1088x1920 1 ball, 2.3ms\n",
      "Speed: 3.2ms preprocess, 2.4ms inference, 0.5ms postprocess per image at shape (1, 3, 1088, 1920)\n",
      "\n",
      "image 1/1 /datasets/tdt4265/other/rbk/1_train-val_1min_aalesund_from_start/img1/000113.jpg: 1088x1920 22 players, 2.4ms\n",
      "\n",
      "image 1/1 /datasets/tdt4265/other/rbk/1_train-val_1min_aalesund_from_start/img1/000113.jpg: 1088x1920 1 ball, 2.4ms\n",
      "Speed: 3.2ms preprocess, 2.4ms inference, 0.5ms postprocess per image at shape (1, 3, 1088, 1920)\n",
      "\n",
      "image 1/1 /datasets/tdt4265/other/rbk/1_train-val_1min_aalesund_from_start/img1/000114.jpg: 1088x1920 22 players, 2.4ms\n",
      "\n",
      "image 1/1 /datasets/tdt4265/other/rbk/1_train-val_1min_aalesund_from_start/img1/000114.jpg: 1088x1920 1 ball, 2.8ms\n",
      "Speed: 3.2ms preprocess, 2.4ms inference, 0.5ms postprocess per image at shape (1, 3, 1088, 1920)\n",
      "\n",
      "image 1/1 /datasets/tdt4265/other/rbk/1_train-val_1min_aalesund_from_start/img1/000115.jpg: 1088x1920 22 players, 2.4ms\n",
      "\n",
      "image 1/1 /datasets/tdt4265/other/rbk/1_train-val_1min_aalesund_from_start/img1/000115.jpg: 1088x1920 1 ball, 2.5ms\n",
      "Speed: 3.2ms preprocess, 2.4ms inference, 0.5ms postprocess per image at shape (1, 3, 1088, 1920)\n",
      "\n",
      "image 1/1 /datasets/tdt4265/other/rbk/1_train-val_1min_aalesund_from_start/img1/000116.jpg: 1088x1920 22 players, 2.5ms\n",
      "\n",
      "image 1/1 /datasets/tdt4265/other/rbk/1_train-val_1min_aalesund_from_start/img1/000116.jpg: 1088x1920 1 ball, 2.5ms\n",
      "Speed: 3.2ms preprocess, 2.5ms inference, 0.6ms postprocess per image at shape (1, 3, 1088, 1920)\n",
      "\n",
      "image 1/1 /datasets/tdt4265/other/rbk/1_train-val_1min_aalesund_from_start/img1/000117.jpg: 1088x1920 22 players, 2.6ms\n",
      "\n",
      "image 1/1 /datasets/tdt4265/other/rbk/1_train-val_1min_aalesund_from_start/img1/000117.jpg: 1088x1920 1 ball, 2.6ms\n",
      "Speed: 3.2ms preprocess, 2.6ms inference, 0.7ms postprocess per image at shape (1, 3, 1088, 1920)\n",
      "\n",
      "image 1/1 /datasets/tdt4265/other/rbk/1_train-val_1min_aalesund_from_start/img1/000118.jpg: 1088x1920 22 players, 2.6ms\n",
      "\n",
      "image 1/1 /datasets/tdt4265/other/rbk/1_train-val_1min_aalesund_from_start/img1/000118.jpg: 1088x1920 1 ball, 2.3ms\n",
      "Speed: 3.3ms preprocess, 2.6ms inference, 0.8ms postprocess per image at shape (1, 3, 1088, 1920)\n",
      "\n",
      "image 1/1 /datasets/tdt4265/other/rbk/1_train-val_1min_aalesund_from_start/img1/000119.jpg: 1088x1920 22 players, 2.4ms\n",
      "\n",
      "image 1/1 /datasets/tdt4265/other/rbk/1_train-val_1min_aalesund_from_start/img1/000119.jpg: 1088x1920 1 ball, 2.3ms\n",
      "Speed: 4.4ms preprocess, 2.4ms inference, 0.7ms postprocess per image at shape (1, 3, 1088, 1920)\n",
      "\n",
      "image 1/1 /datasets/tdt4265/other/rbk/1_train-val_1min_aalesund_from_start/img1/000120.jpg: 1088x1920 22 players, 2.5ms\n",
      "\n",
      "image 1/1 /datasets/tdt4265/other/rbk/1_train-val_1min_aalesund_from_start/img1/000120.jpg: 1088x1920 1 ball, 2.3ms\n",
      "Speed: 3.3ms preprocess, 2.5ms inference, 0.8ms postprocess per image at shape (1, 3, 1088, 1920)\n",
      "\n",
      "image 1/1 /datasets/tdt4265/other/rbk/1_train-val_1min_aalesund_from_start/img1/000121.jpg: 1088x1920 22 players, 2.5ms\n",
      "\n",
      "image 1/1 /datasets/tdt4265/other/rbk/1_train-val_1min_aalesund_from_start/img1/000121.jpg: 1088x1920 1 ball, 2.3ms\n",
      "Speed: 4.4ms preprocess, 2.5ms inference, 0.8ms postprocess per image at shape (1, 3, 1088, 1920)\n",
      "\n",
      "image 1/1 /datasets/tdt4265/other/rbk/1_train-val_1min_aalesund_from_start/img1/000122.jpg: 1088x1920 22 players, 2.5ms\n",
      "\n",
      "image 1/1 /datasets/tdt4265/other/rbk/1_train-val_1min_aalesund_from_start/img1/000122.jpg: 1088x1920 1 ball, 2.3ms\n",
      "Speed: 3.3ms preprocess, 2.5ms inference, 0.8ms postprocess per image at shape (1, 3, 1088, 1920)\n",
      "\n",
      "image 1/1 /datasets/tdt4265/other/rbk/1_train-val_1min_aalesund_from_start/img1/000123.jpg: 1088x1920 22 players, 2.6ms\n",
      "\n",
      "image 1/1 /datasets/tdt4265/other/rbk/1_train-val_1min_aalesund_from_start/img1/000123.jpg: 1088x1920 1 ball, 2.3ms\n",
      "Speed: 3.3ms preprocess, 2.6ms inference, 0.8ms postprocess per image at shape (1, 3, 1088, 1920)\n",
      "\n",
      "image 1/1 /datasets/tdt4265/other/rbk/1_train-val_1min_aalesund_from_start/img1/000124.jpg: 1088x1920 22 players, 2.4ms\n",
      "\n",
      "image 1/1 /datasets/tdt4265/other/rbk/1_train-val_1min_aalesund_from_start/img1/000124.jpg: 1088x1920 1 ball, 2.3ms\n",
      "Speed: 3.2ms preprocess, 2.4ms inference, 0.5ms postprocess per image at shape (1, 3, 1088, 1920)\n",
      "\n",
      "image 1/1 /datasets/tdt4265/other/rbk/1_train-val_1min_aalesund_from_start/img1/000125.jpg: 1088x1920 22 players, 2.4ms\n",
      "\n",
      "image 1/1 /datasets/tdt4265/other/rbk/1_train-val_1min_aalesund_from_start/img1/000125.jpg: 1088x1920 1 ball, 2.6ms\n",
      "Speed: 3.2ms preprocess, 2.4ms inference, 0.5ms postprocess per image at shape (1, 3, 1088, 1920)\n",
      "\n",
      "image 1/1 /datasets/tdt4265/other/rbk/1_train-val_1min_aalesund_from_start/img1/000126.jpg: 1088x1920 22 players, 2.5ms\n",
      "\n",
      "image 1/1 /datasets/tdt4265/other/rbk/1_train-val_1min_aalesund_from_start/img1/000126.jpg: 1088x1920 1 ball, 2.3ms\n",
      "Speed: 3.2ms preprocess, 2.5ms inference, 0.5ms postprocess per image at shape (1, 3, 1088, 1920)\n",
      "\n",
      "image 1/1 /datasets/tdt4265/other/rbk/1_train-val_1min_aalesund_from_start/img1/000127.jpg: 1088x1920 22 players, 2.4ms\n",
      "\n",
      "image 1/1 /datasets/tdt4265/other/rbk/1_train-val_1min_aalesund_from_start/img1/000127.jpg: 1088x1920 1 ball, 2.3ms\n",
      "Speed: 3.3ms preprocess, 2.4ms inference, 0.6ms postprocess per image at shape (1, 3, 1088, 1920)\n",
      "\n",
      "image 1/1 /datasets/tdt4265/other/rbk/1_train-val_1min_aalesund_from_start/img1/000128.jpg: 1088x1920 22 players, 2.6ms\n",
      "\n",
      "image 1/1 /datasets/tdt4265/other/rbk/1_train-val_1min_aalesund_from_start/img1/000128.jpg: 1088x1920 1 ball, 2.3ms\n",
      "Speed: 3.3ms preprocess, 2.6ms inference, 0.8ms postprocess per image at shape (1, 3, 1088, 1920)\n",
      "\n",
      "image 1/1 /datasets/tdt4265/other/rbk/1_train-val_1min_aalesund_from_start/img1/000129.jpg: 1088x1920 22 players, 2.4ms\n",
      "\n",
      "image 1/1 /datasets/tdt4265/other/rbk/1_train-val_1min_aalesund_from_start/img1/000129.jpg: 1088x1920 1 ball, 2.3ms\n",
      "Speed: 3.2ms preprocess, 2.4ms inference, 0.5ms postprocess per image at shape (1, 3, 1088, 1920)\n",
      "\n",
      "image 1/1 /datasets/tdt4265/other/rbk/1_train-val_1min_aalesund_from_start/img1/000130.jpg: 1088x1920 22 players, 2.5ms\n",
      "\n",
      "image 1/1 /datasets/tdt4265/other/rbk/1_train-val_1min_aalesund_from_start/img1/000130.jpg: 1088x1920 1 ball, 2.5ms\n",
      "Speed: 3.3ms preprocess, 2.5ms inference, 0.6ms postprocess per image at shape (1, 3, 1088, 1920)\n",
      "\n",
      "image 1/1 /datasets/tdt4265/other/rbk/1_train-val_1min_aalesund_from_start/img1/000131.jpg: 1088x1920 22 players, 2.4ms\n",
      "\n",
      "image 1/1 /datasets/tdt4265/other/rbk/1_train-val_1min_aalesund_from_start/img1/000131.jpg: 1088x1920 1 ball, 2.3ms\n",
      "Speed: 3.2ms preprocess, 2.4ms inference, 0.5ms postprocess per image at shape (1, 3, 1088, 1920)\n",
      "\n",
      "image 1/1 /datasets/tdt4265/other/rbk/1_train-val_1min_aalesund_from_start/img1/000132.jpg: 1088x1920 22 players, 2.5ms\n",
      "\n",
      "image 1/1 /datasets/tdt4265/other/rbk/1_train-val_1min_aalesund_from_start/img1/000132.jpg: 1088x1920 1 ball, 2.3ms\n",
      "Speed: 3.2ms preprocess, 2.5ms inference, 0.6ms postprocess per image at shape (1, 3, 1088, 1920)\n",
      "\n",
      "image 1/1 /datasets/tdt4265/other/rbk/1_train-val_1min_aalesund_from_start/img1/000133.jpg: 1088x1920 22 players, 2.5ms\n",
      "\n",
      "image 1/1 /datasets/tdt4265/other/rbk/1_train-val_1min_aalesund_from_start/img1/000133.jpg: 1088x1920 1 ball, 2.3ms\n",
      "Speed: 3.4ms preprocess, 2.5ms inference, 0.8ms postprocess per image at shape (1, 3, 1088, 1920)\n",
      "\n",
      "image 1/1 /datasets/tdt4265/other/rbk/1_train-val_1min_aalesund_from_start/img1/000134.jpg: 1088x1920 22 players, 2.4ms\n",
      "\n",
      "image 1/1 /datasets/tdt4265/other/rbk/1_train-val_1min_aalesund_from_start/img1/000134.jpg: 1088x1920 1 ball, 2.6ms\n",
      "Speed: 3.2ms preprocess, 2.4ms inference, 0.5ms postprocess per image at shape (1, 3, 1088, 1920)\n",
      "\n",
      "image 1/1 /datasets/tdt4265/other/rbk/1_train-val_1min_aalesund_from_start/img1/000135.jpg: 1088x1920 22 players, 2.4ms\n",
      "\n",
      "image 1/1 /datasets/tdt4265/other/rbk/1_train-val_1min_aalesund_from_start/img1/000135.jpg: 1088x1920 1 ball, 2.5ms\n",
      "Speed: 3.2ms preprocess, 2.4ms inference, 0.5ms postprocess per image at shape (1, 3, 1088, 1920)\n",
      "\n",
      "image 1/1 /datasets/tdt4265/other/rbk/1_train-val_1min_aalesund_from_start/img1/000136.jpg: 1088x1920 22 players, 2.4ms\n",
      "\n",
      "image 1/1 /datasets/tdt4265/other/rbk/1_train-val_1min_aalesund_from_start/img1/000136.jpg: 1088x1920 1 ball, 2.3ms\n",
      "Speed: 3.2ms preprocess, 2.4ms inference, 0.5ms postprocess per image at shape (1, 3, 1088, 1920)\n",
      "\n",
      "image 1/1 /datasets/tdt4265/other/rbk/1_train-val_1min_aalesund_from_start/img1/000137.jpg: 1088x1920 22 players, 2.4ms\n",
      "\n",
      "image 1/1 /datasets/tdt4265/other/rbk/1_train-val_1min_aalesund_from_start/img1/000137.jpg: 1088x1920 1 ball, 2.4ms\n",
      "Speed: 3.3ms preprocess, 2.4ms inference, 0.5ms postprocess per image at shape (1, 3, 1088, 1920)\n",
      "\n",
      "image 1/1 /datasets/tdt4265/other/rbk/1_train-val_1min_aalesund_from_start/img1/000138.jpg: 1088x1920 22 players, 2.7ms\n",
      "\n",
      "image 1/1 /datasets/tdt4265/other/rbk/1_train-val_1min_aalesund_from_start/img1/000138.jpg: 1088x1920 1 ball, 2.3ms\n",
      "Speed: 3.3ms preprocess, 2.7ms inference, 0.8ms postprocess per image at shape (1, 3, 1088, 1920)\n",
      "\n",
      "image 1/1 /datasets/tdt4265/other/rbk/1_train-val_1min_aalesund_from_start/img1/000139.jpg: 1088x1920 22 players, 2.4ms\n",
      "\n",
      "image 1/1 /datasets/tdt4265/other/rbk/1_train-val_1min_aalesund_from_start/img1/000139.jpg: 1088x1920 1 ball, 2.3ms\n",
      "Speed: 3.2ms preprocess, 2.4ms inference, 0.5ms postprocess per image at shape (1, 3, 1088, 1920)\n",
      "\n",
      "image 1/1 /datasets/tdt4265/other/rbk/1_train-val_1min_aalesund_from_start/img1/000140.jpg: 1088x1920 22 players, 2.5ms\n",
      "\n",
      "image 1/1 /datasets/tdt4265/other/rbk/1_train-val_1min_aalesund_from_start/img1/000140.jpg: 1088x1920 1 ball, 2.3ms\n",
      "Speed: 3.3ms preprocess, 2.5ms inference, 0.5ms postprocess per image at shape (1, 3, 1088, 1920)\n",
      "\n",
      "image 1/1 /datasets/tdt4265/other/rbk/1_train-val_1min_aalesund_from_start/img1/000141.jpg: 1088x1920 22 players, 2.5ms\n",
      "\n",
      "image 1/1 /datasets/tdt4265/other/rbk/1_train-val_1min_aalesund_from_start/img1/000141.jpg: 1088x1920 1 ball, 2.6ms\n",
      "Speed: 3.2ms preprocess, 2.5ms inference, 0.5ms postprocess per image at shape (1, 3, 1088, 1920)\n",
      "\n",
      "image 1/1 /datasets/tdt4265/other/rbk/1_train-val_1min_aalesund_from_start/img1/000142.jpg: 1088x1920 22 players, 2.5ms\n",
      "\n",
      "image 1/1 /datasets/tdt4265/other/rbk/1_train-val_1min_aalesund_from_start/img1/000142.jpg: 1088x1920 1 ball, 2.3ms\n",
      "Speed: 3.3ms preprocess, 2.5ms inference, 0.7ms postprocess per image at shape (1, 3, 1088, 1920)\n",
      "\n",
      "image 1/1 /datasets/tdt4265/other/rbk/1_train-val_1min_aalesund_from_start/img1/000143.jpg: 1088x1920 22 players, 2.4ms\n",
      "\n",
      "image 1/1 /datasets/tdt4265/other/rbk/1_train-val_1min_aalesund_from_start/img1/000143.jpg: 1088x1920 1 ball, 2.6ms\n",
      "Speed: 3.3ms preprocess, 2.4ms inference, 0.6ms postprocess per image at shape (1, 3, 1088, 1920)\n",
      "\n",
      "image 1/1 /datasets/tdt4265/other/rbk/1_train-val_1min_aalesund_from_start/img1/000144.jpg: 1088x1920 22 players, 2.5ms\n",
      "\n",
      "image 1/1 /datasets/tdt4265/other/rbk/1_train-val_1min_aalesund_from_start/img1/000144.jpg: 1088x1920 1 ball, 2.5ms\n",
      "Speed: 3.2ms preprocess, 2.5ms inference, 0.5ms postprocess per image at shape (1, 3, 1088, 1920)\n",
      "\n",
      "image 1/1 /datasets/tdt4265/other/rbk/1_train-val_1min_aalesund_from_start/img1/000145.jpg: 1088x1920 22 players, 2.5ms\n",
      "\n",
      "image 1/1 /datasets/tdt4265/other/rbk/1_train-val_1min_aalesund_from_start/img1/000145.jpg: 1088x1920 1 ball, 2.9ms\n",
      "Speed: 3.2ms preprocess, 2.5ms inference, 0.5ms postprocess per image at shape (1, 3, 1088, 1920)\n",
      "\n",
      "image 1/1 /datasets/tdt4265/other/rbk/1_train-val_1min_aalesund_from_start/img1/000146.jpg: 1088x1920 22 players, 2.4ms\n",
      "\n",
      "image 1/1 /datasets/tdt4265/other/rbk/1_train-val_1min_aalesund_from_start/img1/000146.jpg: 1088x1920 1 ball, 2.3ms\n",
      "Speed: 3.3ms preprocess, 2.4ms inference, 0.5ms postprocess per image at shape (1, 3, 1088, 1920)\n",
      "\n",
      "image 1/1 /datasets/tdt4265/other/rbk/1_train-val_1min_aalesund_from_start/img1/000147.jpg: 1088x1920 22 players, 2.4ms\n",
      "\n",
      "image 1/1 /datasets/tdt4265/other/rbk/1_train-val_1min_aalesund_from_start/img1/000147.jpg: 1088x1920 1 ball, 2.3ms\n",
      "Speed: 3.3ms preprocess, 2.4ms inference, 1.0ms postprocess per image at shape (1, 3, 1088, 1920)\n",
      "\n",
      "image 1/1 /datasets/tdt4265/other/rbk/1_train-val_1min_aalesund_from_start/img1/000148.jpg: 1088x1920 22 players, 2.4ms\n",
      "\n",
      "image 1/1 /datasets/tdt4265/other/rbk/1_train-val_1min_aalesund_from_start/img1/000148.jpg: 1088x1920 1 ball, 2.4ms\n",
      "Speed: 3.3ms preprocess, 2.4ms inference, 0.5ms postprocess per image at shape (1, 3, 1088, 1920)\n",
      "\n",
      "image 1/1 /datasets/tdt4265/other/rbk/1_train-val_1min_aalesund_from_start/img1/000149.jpg: 1088x1920 22 players, 2.4ms\n",
      "\n",
      "image 1/1 /datasets/tdt4265/other/rbk/1_train-val_1min_aalesund_from_start/img1/000149.jpg: 1088x1920 1 ball, 2.4ms\n",
      "Speed: 3.2ms preprocess, 2.4ms inference, 0.6ms postprocess per image at shape (1, 3, 1088, 1920)\n",
      "\n",
      "image 1/1 /datasets/tdt4265/other/rbk/1_train-val_1min_aalesund_from_start/img1/000150.jpg: 1088x1920 22 players, 2.6ms\n",
      "\n",
      "image 1/1 /datasets/tdt4265/other/rbk/1_train-val_1min_aalesund_from_start/img1/000150.jpg: 1088x1920 1 ball, 2.3ms\n",
      "Speed: 3.3ms preprocess, 2.6ms inference, 0.5ms postprocess per image at shape (1, 3, 1088, 1920)\n",
      "\n",
      "image 1/1 /datasets/tdt4265/other/rbk/1_train-val_1min_aalesund_from_start/img1/000151.jpg: 1088x1920 22 players, 2.6ms\n",
      "\n",
      "image 1/1 /datasets/tdt4265/other/rbk/1_train-val_1min_aalesund_from_start/img1/000151.jpg: 1088x1920 1 ball, 2.4ms\n",
      "Speed: 3.3ms preprocess, 2.6ms inference, 0.8ms postprocess per image at shape (1, 3, 1088, 1920)\n",
      "\n",
      "image 1/1 /datasets/tdt4265/other/rbk/1_train-val_1min_aalesund_from_start/img1/000152.jpg: 1088x1920 22 players, 2.4ms\n",
      "\n",
      "image 1/1 /datasets/tdt4265/other/rbk/1_train-val_1min_aalesund_from_start/img1/000152.jpg: 1088x1920 1 ball, 2.5ms\n",
      "Speed: 3.3ms preprocess, 2.4ms inference, 0.5ms postprocess per image at shape (1, 3, 1088, 1920)\n",
      "\n",
      "image 1/1 /datasets/tdt4265/other/rbk/1_train-val_1min_aalesund_from_start/img1/000153.jpg: 1088x1920 22 players, 2.4ms\n",
      "\n",
      "image 1/1 /datasets/tdt4265/other/rbk/1_train-val_1min_aalesund_from_start/img1/000153.jpg: 1088x1920 1 ball, 2.5ms\n",
      "Speed: 3.3ms preprocess, 2.4ms inference, 0.5ms postprocess per image at shape (1, 3, 1088, 1920)\n",
      "\n",
      "image 1/1 /datasets/tdt4265/other/rbk/1_train-val_1min_aalesund_from_start/img1/000154.jpg: 1088x1920 22 players, 2.4ms\n",
      "\n",
      "image 1/1 /datasets/tdt4265/other/rbk/1_train-val_1min_aalesund_from_start/img1/000154.jpg: 1088x1920 1 ball, 2.3ms\n",
      "Speed: 2.4ms preprocess, 2.4ms inference, 0.5ms postprocess per image at shape (1, 3, 1088, 1920)\n",
      "\n",
      "image 1/1 /datasets/tdt4265/other/rbk/1_train-val_1min_aalesund_from_start/img1/000155.jpg: 1088x1920 22 players, 2.5ms\n",
      "\n",
      "image 1/1 /datasets/tdt4265/other/rbk/1_train-val_1min_aalesund_from_start/img1/000155.jpg: 1088x1920 1 ball, 2.3ms\n",
      "Speed: 4.4ms preprocess, 2.5ms inference, 0.5ms postprocess per image at shape (1, 3, 1088, 1920)\n",
      "\n",
      "image 1/1 /datasets/tdt4265/other/rbk/1_train-val_1min_aalesund_from_start/img1/000156.jpg: 1088x1920 22 players, 2.4ms\n",
      "\n",
      "image 1/1 /datasets/tdt4265/other/rbk/1_train-val_1min_aalesund_from_start/img1/000156.jpg: 1088x1920 1 ball, 2.6ms\n",
      "Speed: 3.1ms preprocess, 2.4ms inference, 0.7ms postprocess per image at shape (1, 3, 1088, 1920)\n",
      "\n",
      "image 1/1 /datasets/tdt4265/other/rbk/1_train-val_1min_aalesund_from_start/img1/000157.jpg: 1088x1920 22 players, 2.4ms\n",
      "\n",
      "image 1/1 /datasets/tdt4265/other/rbk/1_train-val_1min_aalesund_from_start/img1/000157.jpg: 1088x1920 1 ball, 2.5ms\n",
      "Speed: 4.4ms preprocess, 2.4ms inference, 0.7ms postprocess per image at shape (1, 3, 1088, 1920)\n",
      "\n",
      "image 1/1 /datasets/tdt4265/other/rbk/1_train-val_1min_aalesund_from_start/img1/000158.jpg: 1088x1920 22 players, 2.5ms\n",
      "\n",
      "image 1/1 /datasets/tdt4265/other/rbk/1_train-val_1min_aalesund_from_start/img1/000158.jpg: 1088x1920 1 ball, 2.3ms\n",
      "Speed: 2.4ms preprocess, 2.5ms inference, 0.5ms postprocess per image at shape (1, 3, 1088, 1920)\n",
      "\n",
      "image 1/1 /datasets/tdt4265/other/rbk/1_train-val_1min_aalesund_from_start/img1/000159.jpg: 1088x1920 22 players, 2.4ms\n",
      "\n",
      "image 1/1 /datasets/tdt4265/other/rbk/1_train-val_1min_aalesund_from_start/img1/000159.jpg: 1088x1920 1 ball, 2.5ms\n",
      "Speed: 4.4ms preprocess, 2.4ms inference, 0.5ms postprocess per image at shape (1, 3, 1088, 1920)\n",
      "\n",
      "image 1/1 /datasets/tdt4265/other/rbk/1_train-val_1min_aalesund_from_start/img1/000160.jpg: 1088x1920 22 players, 2.4ms\n",
      "\n",
      "image 1/1 /datasets/tdt4265/other/rbk/1_train-val_1min_aalesund_from_start/img1/000160.jpg: 1088x1920 1 ball, 2.3ms\n",
      "Speed: 3.2ms preprocess, 2.4ms inference, 0.5ms postprocess per image at shape (1, 3, 1088, 1920)\n",
      "\n",
      "image 1/1 /datasets/tdt4265/other/rbk/1_train-val_1min_aalesund_from_start/img1/000161.jpg: 1088x1920 22 players, 2.4ms\n",
      "\n",
      "image 1/1 /datasets/tdt4265/other/rbk/1_train-val_1min_aalesund_from_start/img1/000161.jpg: 1088x1920 1 ball, 2.4ms\n",
      "Speed: 4.4ms preprocess, 2.4ms inference, 0.5ms postprocess per image at shape (1, 3, 1088, 1920)\n",
      "\n",
      "image 1/1 /datasets/tdt4265/other/rbk/1_train-val_1min_aalesund_from_start/img1/000162.jpg: 1088x1920 22 players, 2.9ms\n",
      "\n",
      "image 1/1 /datasets/tdt4265/other/rbk/1_train-val_1min_aalesund_from_start/img1/000162.jpg: 1088x1920 1 ball, 2.3ms\n",
      "Speed: 3.0ms preprocess, 2.9ms inference, 0.5ms postprocess per image at shape (1, 3, 1088, 1920)\n",
      "\n",
      "image 1/1 /datasets/tdt4265/other/rbk/1_train-val_1min_aalesund_from_start/img1/000163.jpg: 1088x1920 22 players, 2.4ms\n",
      "\n",
      "image 1/1 /datasets/tdt4265/other/rbk/1_train-val_1min_aalesund_from_start/img1/000163.jpg: 1088x1920 1 ball, 2.5ms\n",
      "Speed: 4.3ms preprocess, 2.4ms inference, 0.5ms postprocess per image at shape (1, 3, 1088, 1920)\n",
      "\n",
      "image 1/1 /datasets/tdt4265/other/rbk/1_train-val_1min_aalesund_from_start/img1/000164.jpg: 1088x1920 22 players, 2.4ms\n",
      "\n",
      "image 1/1 /datasets/tdt4265/other/rbk/1_train-val_1min_aalesund_from_start/img1/000164.jpg: 1088x1920 1 ball, 2.4ms\n",
      "Speed: 2.4ms preprocess, 2.4ms inference, 0.5ms postprocess per image at shape (1, 3, 1088, 1920)\n",
      "\n",
      "image 1/1 /datasets/tdt4265/other/rbk/1_train-val_1min_aalesund_from_start/img1/000165.jpg: 1088x1920 22 players, 2.4ms\n",
      "\n",
      "image 1/1 /datasets/tdt4265/other/rbk/1_train-val_1min_aalesund_from_start/img1/000165.jpg: 1088x1920 1 ball, 2.6ms\n",
      "Speed: 4.5ms preprocess, 2.4ms inference, 0.5ms postprocess per image at shape (1, 3, 1088, 1920)\n",
      "\n",
      "image 1/1 /datasets/tdt4265/other/rbk/1_train-val_1min_aalesund_from_start/img1/000166.jpg: 1088x1920 22 players, 2.4ms\n",
      "\n",
      "image 1/1 /datasets/tdt4265/other/rbk/1_train-val_1min_aalesund_from_start/img1/000166.jpg: 1088x1920 1 ball, 2.4ms\n",
      "Speed: 3.1ms preprocess, 2.4ms inference, 0.5ms postprocess per image at shape (1, 3, 1088, 1920)\n",
      "\n",
      "image 1/1 /datasets/tdt4265/other/rbk/1_train-val_1min_aalesund_from_start/img1/000167.jpg: 1088x1920 22 players, 2.6ms\n",
      "\n",
      "image 1/1 /datasets/tdt4265/other/rbk/1_train-val_1min_aalesund_from_start/img1/000167.jpg: 1088x1920 1 ball, 2.5ms\n",
      "Speed: 4.5ms preprocess, 2.6ms inference, 0.6ms postprocess per image at shape (1, 3, 1088, 1920)\n",
      "\n",
      "image 1/1 /datasets/tdt4265/other/rbk/1_train-val_1min_aalesund_from_start/img1/000168.jpg: 1088x1920 22 players, 2.4ms\n",
      "\n",
      "image 1/1 /datasets/tdt4265/other/rbk/1_train-val_1min_aalesund_from_start/img1/000168.jpg: 1088x1920 1 ball, 2.6ms\n",
      "Speed: 2.3ms preprocess, 2.4ms inference, 0.7ms postprocess per image at shape (1, 3, 1088, 1920)\n",
      "\n",
      "image 1/1 /datasets/tdt4265/other/rbk/1_train-val_1min_aalesund_from_start/img1/000169.jpg: 1088x1920 22 players, 2.5ms\n",
      "\n",
      "image 1/1 /datasets/tdt4265/other/rbk/1_train-val_1min_aalesund_from_start/img1/000169.jpg: 1088x1920 1 ball, 2.3ms\n",
      "Speed: 4.4ms preprocess, 2.5ms inference, 0.5ms postprocess per image at shape (1, 3, 1088, 1920)\n",
      "\n",
      "image 1/1 /datasets/tdt4265/other/rbk/1_train-val_1min_aalesund_from_start/img1/000170.jpg: 1088x1920 22 players, 2.4ms\n",
      "\n",
      "image 1/1 /datasets/tdt4265/other/rbk/1_train-val_1min_aalesund_from_start/img1/000170.jpg: 1088x1920 1 ball, 2.3ms\n",
      "Speed: 3.2ms preprocess, 2.4ms inference, 0.5ms postprocess per image at shape (1, 3, 1088, 1920)\n",
      "\n",
      "image 1/1 /datasets/tdt4265/other/rbk/1_train-val_1min_aalesund_from_start/img1/000171.jpg: 1088x1920 22 players, 2.4ms\n",
      "\n",
      "image 1/1 /datasets/tdt4265/other/rbk/1_train-val_1min_aalesund_from_start/img1/000171.jpg: 1088x1920 1 ball, 2.5ms\n",
      "Speed: 4.4ms preprocess, 2.4ms inference, 0.6ms postprocess per image at shape (1, 3, 1088, 1920)\n",
      "\n",
      "image 1/1 /datasets/tdt4265/other/rbk/1_train-val_1min_aalesund_from_start/img1/000172.jpg: 1088x1920 22 players, 2.4ms\n",
      "\n",
      "image 1/1 /datasets/tdt4265/other/rbk/1_train-val_1min_aalesund_from_start/img1/000172.jpg: 1088x1920 1 ball, 2.5ms\n",
      "Speed: 3.0ms preprocess, 2.4ms inference, 0.6ms postprocess per image at shape (1, 3, 1088, 1920)\n",
      "\n",
      "image 1/1 /datasets/tdt4265/other/rbk/1_train-val_1min_aalesund_from_start/img1/000173.jpg: 1088x1920 22 players, 2.5ms\n",
      "\n",
      "image 1/1 /datasets/tdt4265/other/rbk/1_train-val_1min_aalesund_from_start/img1/000173.jpg: 1088x1920 1 ball, 2.3ms\n",
      "Speed: 4.2ms preprocess, 2.5ms inference, 0.5ms postprocess per image at shape (1, 3, 1088, 1920)\n",
      "\n",
      "image 1/1 /datasets/tdt4265/other/rbk/1_train-val_1min_aalesund_from_start/img1/000174.jpg: 1088x1920 22 players, 2.4ms\n",
      "\n",
      "image 1/1 /datasets/tdt4265/other/rbk/1_train-val_1min_aalesund_from_start/img1/000174.jpg: 1088x1920 1 ball, 2.4ms\n",
      "Speed: 2.4ms preprocess, 2.4ms inference, 0.5ms postprocess per image at shape (1, 3, 1088, 1920)\n",
      "\n",
      "image 1/1 /datasets/tdt4265/other/rbk/1_train-val_1min_aalesund_from_start/img1/000175.jpg: 1088x1920 22 players, 2.4ms\n",
      "\n",
      "image 1/1 /datasets/tdt4265/other/rbk/1_train-val_1min_aalesund_from_start/img1/000175.jpg: 1088x1920 1 ball, 2.3ms\n",
      "Speed: 4.4ms preprocess, 2.4ms inference, 0.5ms postprocess per image at shape (1, 3, 1088, 1920)\n",
      "\n",
      "image 1/1 /datasets/tdt4265/other/rbk/1_train-val_1min_aalesund_from_start/img1/000176.jpg: 1088x1920 22 players, 2.4ms\n",
      "\n",
      "image 1/1 /datasets/tdt4265/other/rbk/1_train-val_1min_aalesund_from_start/img1/000176.jpg: 1088x1920 1 ball, 2.4ms\n",
      "Speed: 3.1ms preprocess, 2.4ms inference, 0.5ms postprocess per image at shape (1, 3, 1088, 1920)\n",
      "\n",
      "image 1/1 /datasets/tdt4265/other/rbk/1_train-val_1min_aalesund_from_start/img1/000177.jpg: 1088x1920 22 players, 2.4ms\n",
      "\n",
      "image 1/1 /datasets/tdt4265/other/rbk/1_train-val_1min_aalesund_from_start/img1/000177.jpg: 1088x1920 1 ball, 2.4ms\n",
      "Speed: 4.5ms preprocess, 2.4ms inference, 0.6ms postprocess per image at shape (1, 3, 1088, 1920)\n",
      "\n",
      "image 1/1 /datasets/tdt4265/other/rbk/1_train-val_1min_aalesund_from_start/img1/000178.jpg: 1088x1920 22 players, 2.4ms\n",
      "\n",
      "image 1/1 /datasets/tdt4265/other/rbk/1_train-val_1min_aalesund_from_start/img1/000178.jpg: 1088x1920 1 ball, 2.4ms\n",
      "Speed: 3.1ms preprocess, 2.4ms inference, 0.7ms postprocess per image at shape (1, 3, 1088, 1920)\n",
      "\n",
      "image 1/1 /datasets/tdt4265/other/rbk/1_train-val_1min_aalesund_from_start/img1/000179.jpg: 1088x1920 22 players, 2.7ms\n",
      "\n",
      "image 1/1 /datasets/tdt4265/other/rbk/1_train-val_1min_aalesund_from_start/img1/000179.jpg: 1088x1920 (no detections), 2.5ms\n",
      "Speed: 4.5ms preprocess, 2.7ms inference, 0.5ms postprocess per image at shape (1, 3, 1088, 1920)\n",
      "\n",
      "image 1/1 /datasets/tdt4265/other/rbk/1_train-val_1min_aalesund_from_start/img1/000180.jpg: 1088x1920 22 players, 2.5ms\n",
      "\n",
      "image 1/1 /datasets/tdt4265/other/rbk/1_train-val_1min_aalesund_from_start/img1/000180.jpg: 1088x1920 (no detections), 2.4ms\n",
      "Speed: 3.3ms preprocess, 2.5ms inference, 0.6ms postprocess per image at shape (1, 3, 1088, 1920)\n",
      "\n",
      "image 1/1 /datasets/tdt4265/other/rbk/1_train-val_1min_aalesund_from_start/img1/000181.jpg: 1088x1920 22 players, 2.7ms\n",
      "\n",
      "image 1/1 /datasets/tdt4265/other/rbk/1_train-val_1min_aalesund_from_start/img1/000181.jpg: 1088x1920 (no detections), 2.4ms\n",
      "Speed: 4.6ms preprocess, 2.7ms inference, 0.8ms postprocess per image at shape (1, 3, 1088, 1920)\n",
      "\n",
      "image 1/1 /datasets/tdt4265/other/rbk/1_train-val_1min_aalesund_from_start/img1/000182.jpg: 1088x1920 22 players, 2.6ms\n",
      "\n",
      "image 1/1 /datasets/tdt4265/other/rbk/1_train-val_1min_aalesund_from_start/img1/000182.jpg: 1088x1920 (no detections), 2.5ms\n",
      "Speed: 3.1ms preprocess, 2.6ms inference, 0.5ms postprocess per image at shape (1, 3, 1088, 1920)\n",
      "\n",
      "image 1/1 /datasets/tdt4265/other/rbk/1_train-val_1min_aalesund_from_start/img1/000183.jpg: 1088x1920 22 players, 2.4ms\n",
      "\n",
      "image 1/1 /datasets/tdt4265/other/rbk/1_train-val_1min_aalesund_from_start/img1/000183.jpg: 1088x1920 (no detections), 2.4ms\n",
      "Speed: 4.3ms preprocess, 2.4ms inference, 0.6ms postprocess per image at shape (1, 3, 1088, 1920)\n",
      "\n",
      "image 1/1 /datasets/tdt4265/other/rbk/1_train-val_1min_aalesund_from_start/img1/000184.jpg: 1088x1920 22 players, 2.5ms\n",
      "\n",
      "image 1/1 /datasets/tdt4265/other/rbk/1_train-val_1min_aalesund_from_start/img1/000184.jpg: 1088x1920 (no detections), 2.4ms\n",
      "Speed: 2.4ms preprocess, 2.5ms inference, 0.8ms postprocess per image at shape (1, 3, 1088, 1920)\n",
      "\n",
      "image 1/1 /datasets/tdt4265/other/rbk/1_train-val_1min_aalesund_from_start/img1/000185.jpg: 1088x1920 22 players, 2.6ms\n",
      "\n",
      "image 1/1 /datasets/tdt4265/other/rbk/1_train-val_1min_aalesund_from_start/img1/000185.jpg: 1088x1920 (no detections), 2.3ms\n",
      "Speed: 4.4ms preprocess, 2.6ms inference, 0.5ms postprocess per image at shape (1, 3, 1088, 1920)\n",
      "\n",
      "image 1/1 /datasets/tdt4265/other/rbk/1_train-val_1min_aalesund_from_start/img1/000186.jpg: 1088x1920 22 players, 2.4ms\n",
      "\n",
      "image 1/1 /datasets/tdt4265/other/rbk/1_train-val_1min_aalesund_from_start/img1/000186.jpg: 1088x1920 (no detections), 2.3ms\n",
      "Speed: 3.1ms preprocess, 2.4ms inference, 0.5ms postprocess per image at shape (1, 3, 1088, 1920)\n",
      "\n",
      "image 1/1 /datasets/tdt4265/other/rbk/1_train-val_1min_aalesund_from_start/img1/000187.jpg: 1088x1920 22 players, 2.4ms\n",
      "\n",
      "image 1/1 /datasets/tdt4265/other/rbk/1_train-val_1min_aalesund_from_start/img1/000187.jpg: 1088x1920 (no detections), 2.3ms\n",
      "Speed: 4.5ms preprocess, 2.4ms inference, 0.6ms postprocess per image at shape (1, 3, 1088, 1920)\n",
      "\n",
      "image 1/1 /datasets/tdt4265/other/rbk/1_train-val_1min_aalesund_from_start/img1/000188.jpg: 1088x1920 22 players, 2.6ms\n",
      "\n",
      "image 1/1 /datasets/tdt4265/other/rbk/1_train-val_1min_aalesund_from_start/img1/000188.jpg: 1088x1920 (no detections), 2.3ms\n",
      "Speed: 3.1ms preprocess, 2.6ms inference, 0.5ms postprocess per image at shape (1, 3, 1088, 1920)\n",
      "\n",
      "image 1/1 /datasets/tdt4265/other/rbk/1_train-val_1min_aalesund_from_start/img1/000189.jpg: 1088x1920 22 players, 2.5ms\n",
      "\n",
      "image 1/1 /datasets/tdt4265/other/rbk/1_train-val_1min_aalesund_from_start/img1/000189.jpg: 1088x1920 (no detections), 2.5ms\n",
      "Speed: 4.5ms preprocess, 2.5ms inference, 0.8ms postprocess per image at shape (1, 3, 1088, 1920)\n",
      "\n",
      "image 1/1 /datasets/tdt4265/other/rbk/1_train-val_1min_aalesund_from_start/img1/000190.jpg: 1088x1920 22 players, 2.4ms\n",
      "\n",
      "image 1/1 /datasets/tdt4265/other/rbk/1_train-val_1min_aalesund_from_start/img1/000190.jpg: 1088x1920 (no detections), 2.5ms\n",
      "Speed: 3.2ms preprocess, 2.4ms inference, 0.6ms postprocess per image at shape (1, 3, 1088, 1920)\n",
      "\n",
      "image 1/1 /datasets/tdt4265/other/rbk/1_train-val_1min_aalesund_from_start/img1/000191.jpg: 1088x1920 22 players, 2.6ms\n",
      "\n",
      "image 1/1 /datasets/tdt4265/other/rbk/1_train-val_1min_aalesund_from_start/img1/000191.jpg: 1088x1920 (no detections), 2.3ms\n",
      "Speed: 4.6ms preprocess, 2.6ms inference, 0.8ms postprocess per image at shape (1, 3, 1088, 1920)\n",
      "\n",
      "image 1/1 /datasets/tdt4265/other/rbk/1_train-val_1min_aalesund_from_start/img1/000192.jpg: 1088x1920 22 players, 2.5ms\n",
      "\n",
      "image 1/1 /datasets/tdt4265/other/rbk/1_train-val_1min_aalesund_from_start/img1/000192.jpg: 1088x1920 (no detections), 2.3ms\n",
      "Speed: 3.1ms preprocess, 2.5ms inference, 0.5ms postprocess per image at shape (1, 3, 1088, 1920)\n",
      "\n",
      "image 1/1 /datasets/tdt4265/other/rbk/1_train-val_1min_aalesund_from_start/img1/000193.jpg: 1088x1920 22 players, 2.4ms\n",
      "\n",
      "image 1/1 /datasets/tdt4265/other/rbk/1_train-val_1min_aalesund_from_start/img1/000193.jpg: 1088x1920 (no detections), 2.4ms\n",
      "Speed: 4.3ms preprocess, 2.4ms inference, 0.6ms postprocess per image at shape (1, 3, 1088, 1920)\n",
      "\n",
      "image 1/1 /datasets/tdt4265/other/rbk/1_train-val_1min_aalesund_from_start/img1/000194.jpg: 1088x1920 22 players, 2.5ms\n",
      "\n",
      "image 1/1 /datasets/tdt4265/other/rbk/1_train-val_1min_aalesund_from_start/img1/000194.jpg: 1088x1920 (no detections), 2.6ms\n",
      "Speed: 3.3ms preprocess, 2.5ms inference, 0.5ms postprocess per image at shape (1, 3, 1088, 1920)\n",
      "\n",
      "image 1/1 /datasets/tdt4265/other/rbk/1_train-val_1min_aalesund_from_start/img1/000195.jpg: 1088x1920 22 players, 2.5ms\n",
      "\n",
      "image 1/1 /datasets/tdt4265/other/rbk/1_train-val_1min_aalesund_from_start/img1/000195.jpg: 1088x1920 (no detections), 2.4ms\n",
      "Speed: 4.4ms preprocess, 2.5ms inference, 0.5ms postprocess per image at shape (1, 3, 1088, 1920)\n",
      "\n",
      "image 1/1 /datasets/tdt4265/other/rbk/1_train-val_1min_aalesund_from_start/img1/000196.jpg: 1088x1920 22 players, 2.4ms\n",
      "\n",
      "image 1/1 /datasets/tdt4265/other/rbk/1_train-val_1min_aalesund_from_start/img1/000196.jpg: 1088x1920 (no detections), 2.3ms\n",
      "Speed: 3.1ms preprocess, 2.4ms inference, 1.0ms postprocess per image at shape (1, 3, 1088, 1920)\n",
      "\n",
      "image 1/1 /datasets/tdt4265/other/rbk/1_train-val_1min_aalesund_from_start/img1/000197.jpg: 1088x1920 22 players, 2.5ms\n",
      "\n",
      "image 1/1 /datasets/tdt4265/other/rbk/1_train-val_1min_aalesund_from_start/img1/000197.jpg: 1088x1920 (no detections), 2.3ms\n",
      "Speed: 4.4ms preprocess, 2.5ms inference, 0.5ms postprocess per image at shape (1, 3, 1088, 1920)\n",
      "\n",
      "image 1/1 /datasets/tdt4265/other/rbk/1_train-val_1min_aalesund_from_start/img1/000198.jpg: 1088x1920 22 players, 2.5ms\n",
      "\n",
      "image 1/1 /datasets/tdt4265/other/rbk/1_train-val_1min_aalesund_from_start/img1/000198.jpg: 1088x1920 (no detections), 2.3ms\n",
      "Speed: 2.3ms preprocess, 2.5ms inference, 0.5ms postprocess per image at shape (1, 3, 1088, 1920)\n",
      "\n",
      "image 1/1 /datasets/tdt4265/other/rbk/1_train-val_1min_aalesund_from_start/img1/000199.jpg: 1088x1920 22 players, 2.6ms\n",
      "\n",
      "image 1/1 /datasets/tdt4265/other/rbk/1_train-val_1min_aalesund_from_start/img1/000199.jpg: 1088x1920 (no detections), 2.7ms\n",
      "Speed: 4.5ms preprocess, 2.6ms inference, 0.8ms postprocess per image at shape (1, 3, 1088, 1920)\n",
      "\n",
      "image 1/1 /datasets/tdt4265/other/rbk/1_train-val_1min_aalesund_from_start/img1/000200.jpg: 1088x1920 22 players, 2.4ms\n",
      "\n",
      "image 1/1 /datasets/tdt4265/other/rbk/1_train-val_1min_aalesund_from_start/img1/000200.jpg: 1088x1920 (no detections), 2.5ms\n",
      "Speed: 3.2ms preprocess, 2.4ms inference, 0.7ms postprocess per image at shape (1, 3, 1088, 1920)\n",
      "\n",
      "image 1/1 /datasets/tdt4265/other/rbk/1_train-val_1min_aalesund_from_start/img1/000201.jpg: 1088x1920 22 players, 2.4ms\n",
      "\n",
      "image 1/1 /datasets/tdt4265/other/rbk/1_train-val_1min_aalesund_from_start/img1/000201.jpg: 1088x1920 (no detections), 2.4ms\n",
      "Speed: 4.5ms preprocess, 2.4ms inference, 0.6ms postprocess per image at shape (1, 3, 1088, 1920)\n",
      "\n",
      "image 1/1 /datasets/tdt4265/other/rbk/1_train-val_1min_aalesund_from_start/img1/000202.jpg: 1088x1920 22 players, 2.4ms\n",
      "\n",
      "image 1/1 /datasets/tdt4265/other/rbk/1_train-val_1min_aalesund_from_start/img1/000202.jpg: 1088x1920 (no detections), 2.3ms\n",
      "Speed: 3.1ms preprocess, 2.4ms inference, 0.5ms postprocess per image at shape (1, 3, 1088, 1920)\n",
      "\n",
      "image 1/1 /datasets/tdt4265/other/rbk/1_train-val_1min_aalesund_from_start/img1/000203.jpg: 1088x1920 22 players, 2.4ms\n",
      "\n",
      "image 1/1 /datasets/tdt4265/other/rbk/1_train-val_1min_aalesund_from_start/img1/000203.jpg: 1088x1920 (no detections), 2.5ms\n",
      "Speed: 4.3ms preprocess, 2.4ms inference, 0.6ms postprocess per image at shape (1, 3, 1088, 1920)\n",
      "\n",
      "image 1/1 /datasets/tdt4265/other/rbk/1_train-val_1min_aalesund_from_start/img1/000204.jpg: 1088x1920 22 players, 2.4ms\n",
      "\n",
      "image 1/1 /datasets/tdt4265/other/rbk/1_train-val_1min_aalesund_from_start/img1/000204.jpg: 1088x1920 (no detections), 2.4ms\n",
      "Speed: 2.4ms preprocess, 2.4ms inference, 0.5ms postprocess per image at shape (1, 3, 1088, 1920)\n",
      "\n",
      "image 1/1 /datasets/tdt4265/other/rbk/1_train-val_1min_aalesund_from_start/img1/000205.jpg: 1088x1920 22 players, 2.6ms\n",
      "\n",
      "image 1/1 /datasets/tdt4265/other/rbk/1_train-val_1min_aalesund_from_start/img1/000205.jpg: 1088x1920 (no detections), 2.3ms\n",
      "Speed: 4.5ms preprocess, 2.6ms inference, 0.8ms postprocess per image at shape (1, 3, 1088, 1920)\n",
      "\n",
      "image 1/1 /datasets/tdt4265/other/rbk/1_train-val_1min_aalesund_from_start/img1/000206.jpg: 1088x1920 22 players, 2.4ms\n",
      "\n",
      "image 1/1 /datasets/tdt4265/other/rbk/1_train-val_1min_aalesund_from_start/img1/000206.jpg: 1088x1920 (no detections), 2.6ms\n",
      "Speed: 3.1ms preprocess, 2.4ms inference, 0.6ms postprocess per image at shape (1, 3, 1088, 1920)\n",
      "\n",
      "image 1/1 /datasets/tdt4265/other/rbk/1_train-val_1min_aalesund_from_start/img1/000207.jpg: 1088x1920 22 players, 2.5ms\n",
      "\n",
      "image 1/1 /datasets/tdt4265/other/rbk/1_train-val_1min_aalesund_from_start/img1/000207.jpg: 1088x1920 1 ball, 2.5ms\n",
      "Speed: 4.5ms preprocess, 2.5ms inference, 0.5ms postprocess per image at shape (1, 3, 1088, 1920)\n",
      "\n",
      "image 1/1 /datasets/tdt4265/other/rbk/1_train-val_1min_aalesund_from_start/img1/000208.jpg: 1088x1920 22 players, 2.4ms\n",
      "\n",
      "image 1/1 /datasets/tdt4265/other/rbk/1_train-val_1min_aalesund_from_start/img1/000208.jpg: 1088x1920 1 ball, 2.3ms\n",
      "Speed: 2.3ms preprocess, 2.4ms inference, 0.5ms postprocess per image at shape (1, 3, 1088, 1920)\n",
      "\n",
      "image 1/1 /datasets/tdt4265/other/rbk/1_train-val_1min_aalesund_from_start/img1/000209.jpg: 1088x1920 22 players, 2.4ms\n",
      "\n",
      "image 1/1 /datasets/tdt4265/other/rbk/1_train-val_1min_aalesund_from_start/img1/000209.jpg: 1088x1920 1 ball, 2.5ms\n",
      "Speed: 4.4ms preprocess, 2.4ms inference, 0.5ms postprocess per image at shape (1, 3, 1088, 1920)\n",
      "\n",
      "image 1/1 /datasets/tdt4265/other/rbk/1_train-val_1min_aalesund_from_start/img1/000210.jpg: 1088x1920 22 players, 2.4ms\n",
      "\n",
      "image 1/1 /datasets/tdt4265/other/rbk/1_train-val_1min_aalesund_from_start/img1/000210.jpg: 1088x1920 1 ball, 2.4ms\n",
      "Speed: 3.2ms preprocess, 2.4ms inference, 0.5ms postprocess per image at shape (1, 3, 1088, 1920)\n",
      "\n",
      "image 1/1 /datasets/tdt4265/other/rbk/1_train-val_1min_aalesund_from_start/img1/000211.jpg: 1088x1920 22 players, 2.4ms\n",
      "\n",
      "image 1/1 /datasets/tdt4265/other/rbk/1_train-val_1min_aalesund_from_start/img1/000211.jpg: 1088x1920 1 ball, 2.3ms\n",
      "Speed: 4.4ms preprocess, 2.4ms inference, 0.5ms postprocess per image at shape (1, 3, 1088, 1920)\n",
      "\n",
      "image 1/1 /datasets/tdt4265/other/rbk/1_train-val_1min_aalesund_from_start/img1/000212.jpg: 1088x1920 22 players, 2.6ms\n",
      "\n",
      "image 1/1 /datasets/tdt4265/other/rbk/1_train-val_1min_aalesund_from_start/img1/000212.jpg: 1088x1920 1 ball, 2.3ms\n",
      "Speed: 3.0ms preprocess, 2.6ms inference, 0.5ms postprocess per image at shape (1, 3, 1088, 1920)\n",
      "\n",
      "image 1/1 /datasets/tdt4265/other/rbk/1_train-val_1min_aalesund_from_start/img1/000213.jpg: 1088x1920 22 players, 2.4ms\n",
      "\n",
      "image 1/1 /datasets/tdt4265/other/rbk/1_train-val_1min_aalesund_from_start/img1/000213.jpg: 1088x1920 1 ball, 2.5ms\n",
      "Speed: 4.2ms preprocess, 2.4ms inference, 0.6ms postprocess per image at shape (1, 3, 1088, 1920)\n",
      "\n",
      "image 1/1 /datasets/tdt4265/other/rbk/1_train-val_1min_aalesund_from_start/img1/000214.jpg: 1088x1920 22 players, 2.5ms\n",
      "\n",
      "image 1/1 /datasets/tdt4265/other/rbk/1_train-val_1min_aalesund_from_start/img1/000214.jpg: 1088x1920 1 ball, 2.4ms\n",
      "Speed: 2.4ms preprocess, 2.5ms inference, 0.5ms postprocess per image at shape (1, 3, 1088, 1920)\n",
      "\n",
      "image 1/1 /datasets/tdt4265/other/rbk/1_train-val_1min_aalesund_from_start/img1/000215.jpg: 1088x1920 22 players, 2.5ms\n",
      "\n",
      "image 1/1 /datasets/tdt4265/other/rbk/1_train-val_1min_aalesund_from_start/img1/000215.jpg: 1088x1920 1 ball, 2.4ms\n",
      "Speed: 4.5ms preprocess, 2.5ms inference, 0.5ms postprocess per image at shape (1, 3, 1088, 1920)\n",
      "\n",
      "image 1/1 /datasets/tdt4265/other/rbk/1_train-val_1min_aalesund_from_start/img1/000216.jpg: 1088x1920 22 players, 2.6ms\n",
      "\n",
      "image 1/1 /datasets/tdt4265/other/rbk/1_train-val_1min_aalesund_from_start/img1/000216.jpg: 1088x1920 1 ball, 2.6ms\n",
      "Speed: 3.1ms preprocess, 2.6ms inference, 0.6ms postprocess per image at shape (1, 3, 1088, 1920)\n",
      "\n",
      "image 1/1 /datasets/tdt4265/other/rbk/1_train-val_1min_aalesund_from_start/img1/000217.jpg: 1088x1920 22 players, 2.6ms\n",
      "\n",
      "image 1/1 /datasets/tdt4265/other/rbk/1_train-val_1min_aalesund_from_start/img1/000217.jpg: 1088x1920 1 ball, 2.5ms\n",
      "Speed: 4.4ms preprocess, 2.6ms inference, 0.5ms postprocess per image at shape (1, 3, 1088, 1920)\n",
      "\n",
      "image 1/1 /datasets/tdt4265/other/rbk/1_train-val_1min_aalesund_from_start/img1/000218.jpg: 1088x1920 22 players, 2.4ms\n",
      "\n",
      "image 1/1 /datasets/tdt4265/other/rbk/1_train-val_1min_aalesund_from_start/img1/000218.jpg: 1088x1920 1 ball, 2.3ms\n",
      "Speed: 3.1ms preprocess, 2.4ms inference, 0.5ms postprocess per image at shape (1, 3, 1088, 1920)\n",
      "\n",
      "image 1/1 /datasets/tdt4265/other/rbk/1_train-val_1min_aalesund_from_start/img1/000219.jpg: 1088x1920 22 players, 2.4ms\n",
      "\n",
      "image 1/1 /datasets/tdt4265/other/rbk/1_train-val_1min_aalesund_from_start/img1/000219.jpg: 1088x1920 1 ball, 3.2ms\n",
      "Speed: 4.4ms preprocess, 2.4ms inference, 0.5ms postprocess per image at shape (1, 3, 1088, 1920)\n",
      "\n",
      "image 1/1 /datasets/tdt4265/other/rbk/1_train-val_1min_aalesund_from_start/img1/000220.jpg: 1088x1920 22 players, 2.4ms\n",
      "\n",
      "image 1/1 /datasets/tdt4265/other/rbk/1_train-val_1min_aalesund_from_start/img1/000220.jpg: 1088x1920 1 ball, 2.5ms\n",
      "Speed: 3.3ms preprocess, 2.4ms inference, 0.5ms postprocess per image at shape (1, 3, 1088, 1920)\n",
      "\n",
      "image 1/1 /datasets/tdt4265/other/rbk/1_train-val_1min_aalesund_from_start/img1/000221.jpg: 1088x1920 22 players, 2.4ms\n",
      "\n",
      "image 1/1 /datasets/tdt4265/other/rbk/1_train-val_1min_aalesund_from_start/img1/000221.jpg: 1088x1920 1 ball, 2.5ms\n",
      "Speed: 4.5ms preprocess, 2.4ms inference, 0.5ms postprocess per image at shape (1, 3, 1088, 1920)\n",
      "\n",
      "image 1/1 /datasets/tdt4265/other/rbk/1_train-val_1min_aalesund_from_start/img1/000222.jpg: 1088x1920 22 players, 2.6ms\n",
      "\n",
      "image 1/1 /datasets/tdt4265/other/rbk/1_train-val_1min_aalesund_from_start/img1/000222.jpg: 1088x1920 1 ball, 2.4ms\n",
      "Speed: 3.1ms preprocess, 2.6ms inference, 0.8ms postprocess per image at shape (1, 3, 1088, 1920)\n",
      "\n",
      "image 1/1 /datasets/tdt4265/other/rbk/1_train-val_1min_aalesund_from_start/img1/000223.jpg: 1088x1920 22 players, 2.6ms\n",
      "\n",
      "image 1/1 /datasets/tdt4265/other/rbk/1_train-val_1min_aalesund_from_start/img1/000223.jpg: 1088x1920 1 ball, 2.4ms\n",
      "Speed: 4.3ms preprocess, 2.6ms inference, 0.8ms postprocess per image at shape (1, 3, 1088, 1920)\n",
      "\n",
      "image 1/1 /datasets/tdt4265/other/rbk/1_train-val_1min_aalesund_from_start/img1/000224.jpg: 1088x1920 22 players, 2.6ms\n",
      "\n",
      "image 1/1 /datasets/tdt4265/other/rbk/1_train-val_1min_aalesund_from_start/img1/000224.jpg: 1088x1920 1 ball, 2.4ms\n",
      "Speed: 2.4ms preprocess, 2.6ms inference, 0.8ms postprocess per image at shape (1, 3, 1088, 1920)\n",
      "\n",
      "image 1/1 /datasets/tdt4265/other/rbk/1_train-val_1min_aalesund_from_start/img1/000225.jpg: 1088x1920 22 players, 2.5ms\n",
      "\n",
      "image 1/1 /datasets/tdt4265/other/rbk/1_train-val_1min_aalesund_from_start/img1/000225.jpg: 1088x1920 1 ball, 2.3ms\n",
      "Speed: 4.6ms preprocess, 2.5ms inference, 0.5ms postprocess per image at shape (1, 3, 1088, 1920)\n",
      "\n",
      "image 1/1 /datasets/tdt4265/other/rbk/1_train-val_1min_aalesund_from_start/img1/000226.jpg: 1088x1920 22 players, 2.6ms\n",
      "\n",
      "image 1/1 /datasets/tdt4265/other/rbk/1_train-val_1min_aalesund_from_start/img1/000226.jpg: 1088x1920 1 ball, 2.4ms\n",
      "Speed: 3.2ms preprocess, 2.6ms inference, 0.8ms postprocess per image at shape (1, 3, 1088, 1920)\n",
      "\n",
      "image 1/1 /datasets/tdt4265/other/rbk/1_train-val_1min_aalesund_from_start/img1/000227.jpg: 1088x1920 22 players, 2.7ms\n",
      "\n",
      "image 1/1 /datasets/tdt4265/other/rbk/1_train-val_1min_aalesund_from_start/img1/000227.jpg: 1088x1920 1 ball, 2.4ms\n",
      "Speed: 4.6ms preprocess, 2.7ms inference, 0.8ms postprocess per image at shape (1, 3, 1088, 1920)\n",
      "\n",
      "image 1/1 /datasets/tdt4265/other/rbk/1_train-val_1min_aalesund_from_start/img1/000228.jpg: 1088x1920 21 players, 2.4ms\n",
      "\n",
      "image 1/1 /datasets/tdt4265/other/rbk/1_train-val_1min_aalesund_from_start/img1/000228.jpg: 1088x1920 1 ball, 2.6ms\n",
      "Speed: 2.3ms preprocess, 2.4ms inference, 0.5ms postprocess per image at shape (1, 3, 1088, 1920)\n",
      "\n",
      "image 1/1 /datasets/tdt4265/other/rbk/1_train-val_1min_aalesund_from_start/img1/000229.jpg: 1088x1920 21 players, 2.4ms\n",
      "\n",
      "image 1/1 /datasets/tdt4265/other/rbk/1_train-val_1min_aalesund_from_start/img1/000229.jpg: 1088x1920 1 ball, 2.6ms\n",
      "Speed: 4.6ms preprocess, 2.4ms inference, 0.5ms postprocess per image at shape (1, 3, 1088, 1920)\n",
      "\n",
      "image 1/1 /datasets/tdt4265/other/rbk/1_train-val_1min_aalesund_from_start/img1/000230.jpg: 1088x1920 21 players, 2.4ms\n",
      "\n",
      "image 1/1 /datasets/tdt4265/other/rbk/1_train-val_1min_aalesund_from_start/img1/000230.jpg: 1088x1920 1 ball, 2.4ms\n",
      "Speed: 3.3ms preprocess, 2.4ms inference, 0.5ms postprocess per image at shape (1, 3, 1088, 1920)\n",
      "\n",
      "image 1/1 /datasets/tdt4265/other/rbk/1_train-val_1min_aalesund_from_start/img1/000231.jpg: 1088x1920 21 players, 2.4ms\n",
      "\n",
      "image 1/1 /datasets/tdt4265/other/rbk/1_train-val_1min_aalesund_from_start/img1/000231.jpg: 1088x1920 1 ball, 2.6ms\n",
      "Speed: 4.6ms preprocess, 2.4ms inference, 0.5ms postprocess per image at shape (1, 3, 1088, 1920)\n",
      "\n",
      "image 1/1 /datasets/tdt4265/other/rbk/1_train-val_1min_aalesund_from_start/img1/000232.jpg: 1088x1920 22 players, 2.4ms\n",
      "\n",
      "image 1/1 /datasets/tdt4265/other/rbk/1_train-val_1min_aalesund_from_start/img1/000232.jpg: 1088x1920 1 ball, 2.5ms\n",
      "Speed: 3.1ms preprocess, 2.4ms inference, 0.5ms postprocess per image at shape (1, 3, 1088, 1920)\n",
      "\n",
      "image 1/1 /datasets/tdt4265/other/rbk/1_train-val_1min_aalesund_from_start/img1/000233.jpg: 1088x1920 22 players, 2.5ms\n",
      "\n",
      "image 1/1 /datasets/tdt4265/other/rbk/1_train-val_1min_aalesund_from_start/img1/000233.jpg: 1088x1920 1 ball, 2.5ms\n",
      "Speed: 4.4ms preprocess, 2.5ms inference, 0.5ms postprocess per image at shape (1, 3, 1088, 1920)\n",
      "\n",
      "image 1/1 /datasets/tdt4265/other/rbk/1_train-val_1min_aalesund_from_start/img1/000234.jpg: 1088x1920 22 players, 2.5ms\n",
      "\n",
      "image 1/1 /datasets/tdt4265/other/rbk/1_train-val_1min_aalesund_from_start/img1/000234.jpg: 1088x1920 1 ball, 2.4ms\n",
      "Speed: 3.4ms preprocess, 2.5ms inference, 0.5ms postprocess per image at shape (1, 3, 1088, 1920)\n",
      "\n",
      "image 1/1 /datasets/tdt4265/other/rbk/1_train-val_1min_aalesund_from_start/img1/000235.jpg: 1088x1920 22 players, 2.5ms\n",
      "\n",
      "image 1/1 /datasets/tdt4265/other/rbk/1_train-val_1min_aalesund_from_start/img1/000235.jpg: 1088x1920 1 ball, 2.5ms\n",
      "Speed: 4.5ms preprocess, 2.5ms inference, 0.5ms postprocess per image at shape (1, 3, 1088, 1920)\n",
      "\n",
      "image 1/1 /datasets/tdt4265/other/rbk/1_train-val_1min_aalesund_from_start/img1/000236.jpg: 1088x1920 22 players, 2.5ms\n",
      "\n",
      "image 1/1 /datasets/tdt4265/other/rbk/1_train-val_1min_aalesund_from_start/img1/000236.jpg: 1088x1920 1 ball, 2.5ms\n",
      "Speed: 3.1ms preprocess, 2.5ms inference, 0.5ms postprocess per image at shape (1, 3, 1088, 1920)\n",
      "\n",
      "image 1/1 /datasets/tdt4265/other/rbk/1_train-val_1min_aalesund_from_start/img1/000237.jpg: 1088x1920 22 players, 2.5ms\n",
      "\n",
      "image 1/1 /datasets/tdt4265/other/rbk/1_train-val_1min_aalesund_from_start/img1/000237.jpg: 1088x1920 1 ball, 2.5ms\n",
      "Speed: 4.4ms preprocess, 2.5ms inference, 0.5ms postprocess per image at shape (1, 3, 1088, 1920)\n",
      "\n",
      "image 1/1 /datasets/tdt4265/other/rbk/1_train-val_1min_aalesund_from_start/img1/000238.jpg: 1088x1920 22 players, 2.5ms\n",
      "\n",
      "image 1/1 /datasets/tdt4265/other/rbk/1_train-val_1min_aalesund_from_start/img1/000238.jpg: 1088x1920 1 ball, 2.4ms\n",
      "Speed: 2.3ms preprocess, 2.5ms inference, 0.5ms postprocess per image at shape (1, 3, 1088, 1920)\n",
      "\n",
      "image 1/1 /datasets/tdt4265/other/rbk/1_train-val_1min_aalesund_from_start/img1/000239.jpg: 1088x1920 22 players, 2.5ms\n",
      "\n",
      "image 1/1 /datasets/tdt4265/other/rbk/1_train-val_1min_aalesund_from_start/img1/000239.jpg: 1088x1920 1 ball, 2.3ms\n",
      "Speed: 4.4ms preprocess, 2.5ms inference, 0.5ms postprocess per image at shape (1, 3, 1088, 1920)\n",
      "\n",
      "image 1/1 /datasets/tdt4265/other/rbk/1_train-val_1min_aalesund_from_start/img1/000240.jpg: 1088x1920 22 players, 2.6ms\n",
      "\n",
      "image 1/1 /datasets/tdt4265/other/rbk/1_train-val_1min_aalesund_from_start/img1/000240.jpg: 1088x1920 1 ball, 2.6ms\n",
      "Speed: 3.3ms preprocess, 2.6ms inference, 0.5ms postprocess per image at shape (1, 3, 1088, 1920)\n",
      "\n",
      "image 1/1 /datasets/tdt4265/other/rbk/1_train-val_1min_aalesund_from_start/img1/000241.jpg: 1088x1920 22 players, 2.4ms\n",
      "\n",
      "image 1/1 /datasets/tdt4265/other/rbk/1_train-val_1min_aalesund_from_start/img1/000241.jpg: 1088x1920 1 ball, 2.5ms\n",
      "Speed: 4.5ms preprocess, 2.4ms inference, 0.6ms postprocess per image at shape (1, 3, 1088, 1920)\n",
      "\n",
      "image 1/1 /datasets/tdt4265/other/rbk/1_train-val_1min_aalesund_from_start/img1/000242.jpg: 1088x1920 22 players, 2.4ms\n",
      "\n",
      "image 1/1 /datasets/tdt4265/other/rbk/1_train-val_1min_aalesund_from_start/img1/000242.jpg: 1088x1920 1 ball, 2.5ms\n",
      "Speed: 3.1ms preprocess, 2.4ms inference, 0.5ms postprocess per image at shape (1, 3, 1088, 1920)\n",
      "\n",
      "image 1/1 /datasets/tdt4265/other/rbk/1_train-val_1min_aalesund_from_start/img1/000243.jpg: 1088x1920 22 players, 2.4ms\n",
      "\n",
      "image 1/1 /datasets/tdt4265/other/rbk/1_train-val_1min_aalesund_from_start/img1/000243.jpg: 1088x1920 1 ball, 2.9ms\n",
      "Speed: 4.3ms preprocess, 2.4ms inference, 0.6ms postprocess per image at shape (1, 3, 1088, 1920)\n",
      "\n",
      "image 1/1 /datasets/tdt4265/other/rbk/1_train-val_1min_aalesund_from_start/img1/000244.jpg: 1088x1920 22 players, 2.4ms\n",
      "\n",
      "image 1/1 /datasets/tdt4265/other/rbk/1_train-val_1min_aalesund_from_start/img1/000244.jpg: 1088x1920 1 ball, 2.4ms\n",
      "Speed: 2.5ms preprocess, 2.4ms inference, 0.5ms postprocess per image at shape (1, 3, 1088, 1920)\n",
      "\n",
      "image 1/1 /datasets/tdt4265/other/rbk/1_train-val_1min_aalesund_from_start/img1/000245.jpg: 1088x1920 22 players, 2.6ms\n",
      "\n",
      "image 1/1 /datasets/tdt4265/other/rbk/1_train-val_1min_aalesund_from_start/img1/000245.jpg: 1088x1920 1 ball, 2.3ms\n",
      "Speed: 4.5ms preprocess, 2.6ms inference, 0.8ms postprocess per image at shape (1, 3, 1088, 1920)\n",
      "\n",
      "image 1/1 /datasets/tdt4265/other/rbk/1_train-val_1min_aalesund_from_start/img1/000246.jpg: 1088x1920 22 players, 2.4ms\n",
      "\n",
      "image 1/1 /datasets/tdt4265/other/rbk/1_train-val_1min_aalesund_from_start/img1/000246.jpg: 1088x1920 1 ball, 2.5ms\n",
      "Speed: 3.2ms preprocess, 2.4ms inference, 0.5ms postprocess per image at shape (1, 3, 1088, 1920)\n",
      "\n",
      "image 1/1 /datasets/tdt4265/other/rbk/1_train-val_1min_aalesund_from_start/img1/000247.jpg: 1088x1920 22 players, 2.4ms\n",
      "\n",
      "image 1/1 /datasets/tdt4265/other/rbk/1_train-val_1min_aalesund_from_start/img1/000247.jpg: 1088x1920 1 ball, 2.5ms\n",
      "Speed: 4.5ms preprocess, 2.4ms inference, 0.5ms postprocess per image at shape (1, 3, 1088, 1920)\n",
      "\n",
      "image 1/1 /datasets/tdt4265/other/rbk/1_train-val_1min_aalesund_from_start/img1/000248.jpg: 1088x1920 22 players, 2.6ms\n",
      "\n",
      "image 1/1 /datasets/tdt4265/other/rbk/1_train-val_1min_aalesund_from_start/img1/000248.jpg: 1088x1920 1 ball, 2.4ms\n",
      "Speed: 2.3ms preprocess, 2.6ms inference, 0.6ms postprocess per image at shape (1, 3, 1088, 1920)\n",
      "\n",
      "image 1/1 /datasets/tdt4265/other/rbk/1_train-val_1min_aalesund_from_start/img1/000249.jpg: 1088x1920 22 players, 2.4ms\n",
      "\n",
      "image 1/1 /datasets/tdt4265/other/rbk/1_train-val_1min_aalesund_from_start/img1/000249.jpg: 1088x1920 1 ball, 2.5ms\n",
      "Speed: 4.4ms preprocess, 2.4ms inference, 0.6ms postprocess per image at shape (1, 3, 1088, 1920)\n",
      "\n",
      "image 1/1 /datasets/tdt4265/other/rbk/1_train-val_1min_aalesund_from_start/img1/000250.jpg: 1088x1920 22 players, 2.5ms\n",
      "\n",
      "image 1/1 /datasets/tdt4265/other/rbk/1_train-val_1min_aalesund_from_start/img1/000250.jpg: 1088x1920 1 ball, 2.4ms\n",
      "Speed: 3.3ms preprocess, 2.5ms inference, 0.5ms postprocess per image at shape (1, 3, 1088, 1920)\n",
      "\n",
      "image 1/1 /datasets/tdt4265/other/rbk/1_train-val_1min_aalesund_from_start/img1/000251.jpg: 1088x1920 22 players, 2.5ms\n",
      "\n",
      "image 1/1 /datasets/tdt4265/other/rbk/1_train-val_1min_aalesund_from_start/img1/000251.jpg: 1088x1920 1 ball, 2.9ms\n",
      "Speed: 4.4ms preprocess, 2.5ms inference, 0.5ms postprocess per image at shape (1, 3, 1088, 1920)\n",
      "\n",
      "image 1/1 /datasets/tdt4265/other/rbk/1_train-val_1min_aalesund_from_start/img1/000252.jpg: 1088x1920 22 players, 2.4ms\n",
      "\n",
      "image 1/1 /datasets/tdt4265/other/rbk/1_train-val_1min_aalesund_from_start/img1/000252.jpg: 1088x1920 1 ball, 2.3ms\n",
      "Speed: 3.1ms preprocess, 2.4ms inference, 0.5ms postprocess per image at shape (1, 3, 1088, 1920)\n",
      "\n",
      "image 1/1 /datasets/tdt4265/other/rbk/1_train-val_1min_aalesund_from_start/img1/000253.jpg: 1088x1920 22 players, 2.5ms\n",
      "\n",
      "image 1/1 /datasets/tdt4265/other/rbk/1_train-val_1min_aalesund_from_start/img1/000253.jpg: 1088x1920 1 ball, 2.4ms\n",
      "Speed: 4.6ms preprocess, 2.5ms inference, 0.5ms postprocess per image at shape (1, 3, 1088, 1920)\n",
      "\n",
      "image 1/1 /datasets/tdt4265/other/rbk/1_train-val_1min_aalesund_from_start/img1/000254.jpg: 1088x1920 22 players, 2.6ms\n",
      "\n",
      "image 1/1 /datasets/tdt4265/other/rbk/1_train-val_1min_aalesund_from_start/img1/000254.jpg: 1088x1920 1 ball, 2.4ms\n",
      "Speed: 3.4ms preprocess, 2.6ms inference, 0.8ms postprocess per image at shape (1, 3, 1088, 1920)\n",
      "\n",
      "image 1/1 /datasets/tdt4265/other/rbk/1_train-val_1min_aalesund_from_start/img1/000255.jpg: 1088x1920 22 players, 2.6ms\n",
      "\n",
      "image 1/1 /datasets/tdt4265/other/rbk/1_train-val_1min_aalesund_from_start/img1/000255.jpg: 1088x1920 1 ball, 2.5ms\n",
      "Speed: 4.5ms preprocess, 2.6ms inference, 0.8ms postprocess per image at shape (1, 3, 1088, 1920)\n",
      "\n",
      "image 1/1 /datasets/tdt4265/other/rbk/1_train-val_1min_aalesund_from_start/img1/000256.jpg: 1088x1920 22 players, 2.4ms\n",
      "\n",
      "image 1/1 /datasets/tdt4265/other/rbk/1_train-val_1min_aalesund_from_start/img1/000256.jpg: 1088x1920 1 ball, 2.4ms\n",
      "Speed: 3.1ms preprocess, 2.4ms inference, 1.1ms postprocess per image at shape (1, 3, 1088, 1920)\n",
      "\n",
      "image 1/1 /datasets/tdt4265/other/rbk/1_train-val_1min_aalesund_from_start/img1/000257.jpg: 1088x1920 22 players, 2.4ms\n",
      "\n",
      "image 1/1 /datasets/tdt4265/other/rbk/1_train-val_1min_aalesund_from_start/img1/000257.jpg: 1088x1920 1 ball, 2.4ms\n",
      "Speed: 4.4ms preprocess, 2.4ms inference, 0.5ms postprocess per image at shape (1, 3, 1088, 1920)\n",
      "\n",
      "image 1/1 /datasets/tdt4265/other/rbk/1_train-val_1min_aalesund_from_start/img1/000258.jpg: 1088x1920 22 players, 2.6ms\n",
      "\n",
      "image 1/1 /datasets/tdt4265/other/rbk/1_train-val_1min_aalesund_from_start/img1/000258.jpg: 1088x1920 1 ball, 2.5ms\n",
      "Speed: 2.3ms preprocess, 2.6ms inference, 0.5ms postprocess per image at shape (1, 3, 1088, 1920)\n",
      "\n",
      "image 1/1 /datasets/tdt4265/other/rbk/1_train-val_1min_aalesund_from_start/img1/000259.jpg: 1088x1920 22 players, 2.4ms\n",
      "\n",
      "image 1/1 /datasets/tdt4265/other/rbk/1_train-val_1min_aalesund_from_start/img1/000259.jpg: 1088x1920 1 ball, 2.5ms\n",
      "Speed: 4.4ms preprocess, 2.4ms inference, 0.6ms postprocess per image at shape (1, 3, 1088, 1920)\n",
      "\n",
      "image 1/1 /datasets/tdt4265/other/rbk/1_train-val_1min_aalesund_from_start/img1/000260.jpg: 1088x1920 22 players, 2.4ms\n",
      "\n",
      "image 1/1 /datasets/tdt4265/other/rbk/1_train-val_1min_aalesund_from_start/img1/000260.jpg: 1088x1920 1 ball, 2.5ms\n",
      "Speed: 3.2ms preprocess, 2.4ms inference, 0.5ms postprocess per image at shape (1, 3, 1088, 1920)\n",
      "\n",
      "image 1/1 /datasets/tdt4265/other/rbk/1_train-val_1min_aalesund_from_start/img1/000261.jpg: 1088x1920 22 players, 2.5ms\n",
      "\n",
      "image 1/1 /datasets/tdt4265/other/rbk/1_train-val_1min_aalesund_from_start/img1/000261.jpg: 1088x1920 1 ball, 2.6ms\n",
      "Speed: 4.5ms preprocess, 2.5ms inference, 0.5ms postprocess per image at shape (1, 3, 1088, 1920)\n",
      "\n",
      "image 1/1 /datasets/tdt4265/other/rbk/1_train-val_1min_aalesund_from_start/img1/000262.jpg: 1088x1920 22 players, 2.4ms\n",
      "\n",
      "image 1/1 /datasets/tdt4265/other/rbk/1_train-val_1min_aalesund_from_start/img1/000262.jpg: 1088x1920 1 ball, 2.3ms\n",
      "Speed: 3.5ms preprocess, 2.4ms inference, 0.5ms postprocess per image at shape (1, 3, 1088, 1920)\n",
      "\n",
      "image 1/1 /datasets/tdt4265/other/rbk/1_train-val_1min_aalesund_from_start/img1/000263.jpg: 1088x1920 22 players, 2.4ms\n",
      "\n",
      "image 1/1 /datasets/tdt4265/other/rbk/1_train-val_1min_aalesund_from_start/img1/000263.jpg: 1088x1920 1 ball, 2.3ms\n",
      "Speed: 4.4ms preprocess, 2.4ms inference, 0.5ms postprocess per image at shape (1, 3, 1088, 1920)\n",
      "\n",
      "image 1/1 /datasets/tdt4265/other/rbk/1_train-val_1min_aalesund_from_start/img1/000264.jpg: 1088x1920 22 players, 2.6ms\n",
      "\n",
      "image 1/1 /datasets/tdt4265/other/rbk/1_train-val_1min_aalesund_from_start/img1/000264.jpg: 1088x1920 1 ball, 2.4ms\n",
      "Speed: 2.4ms preprocess, 2.6ms inference, 0.8ms postprocess per image at shape (1, 3, 1088, 1920)\n",
      "\n",
      "image 1/1 /datasets/tdt4265/other/rbk/1_train-val_1min_aalesund_from_start/img1/000265.jpg: 1088x1920 22 players, 2.4ms\n",
      "\n",
      "image 1/1 /datasets/tdt4265/other/rbk/1_train-val_1min_aalesund_from_start/img1/000265.jpg: 1088x1920 1 ball, 2.3ms\n",
      "Speed: 4.5ms preprocess, 2.4ms inference, 0.5ms postprocess per image at shape (1, 3, 1088, 1920)\n",
      "\n",
      "image 1/1 /datasets/tdt4265/other/rbk/1_train-val_1min_aalesund_from_start/img1/000266.jpg: 1088x1920 22 players, 2.6ms\n",
      "\n",
      "image 1/1 /datasets/tdt4265/other/rbk/1_train-val_1min_aalesund_from_start/img1/000266.jpg: 1088x1920 1 ball, 2.5ms\n",
      "Speed: 3.0ms preprocess, 2.6ms inference, 0.5ms postprocess per image at shape (1, 3, 1088, 1920)\n",
      "\n",
      "image 1/1 /datasets/tdt4265/other/rbk/1_train-val_1min_aalesund_from_start/img1/000267.jpg: 1088x1920 22 players, 2.6ms\n",
      "\n",
      "image 1/1 /datasets/tdt4265/other/rbk/1_train-val_1min_aalesund_from_start/img1/000267.jpg: 1088x1920 1 ball, 2.3ms\n",
      "Speed: 4.4ms preprocess, 2.6ms inference, 0.5ms postprocess per image at shape (1, 3, 1088, 1920)\n",
      "\n",
      "image 1/1 /datasets/tdt4265/other/rbk/1_train-val_1min_aalesund_from_start/img1/000268.jpg: 1088x1920 21 players, 2.6ms\n",
      "\n",
      "image 1/1 /datasets/tdt4265/other/rbk/1_train-val_1min_aalesund_from_start/img1/000268.jpg: 1088x1920 1 ball, 2.4ms\n",
      "Speed: 2.3ms preprocess, 2.6ms inference, 0.5ms postprocess per image at shape (1, 3, 1088, 1920)\n",
      "\n",
      "image 1/1 /datasets/tdt4265/other/rbk/1_train-val_1min_aalesund_from_start/img1/000269.jpg: 1088x1920 21 players, 2.3ms\n",
      "\n",
      "image 1/1 /datasets/tdt4265/other/rbk/1_train-val_1min_aalesund_from_start/img1/000269.jpg: 1088x1920 1 ball, 2.5ms\n",
      "Speed: 4.4ms preprocess, 2.3ms inference, 0.5ms postprocess per image at shape (1, 3, 1088, 1920)\n",
      "\n",
      "image 1/1 /datasets/tdt4265/other/rbk/1_train-val_1min_aalesund_from_start/img1/000270.jpg: 1088x1920 21 players, 2.6ms\n",
      "\n",
      "image 1/1 /datasets/tdt4265/other/rbk/1_train-val_1min_aalesund_from_start/img1/000270.jpg: 1088x1920 1 ball, 2.3ms\n",
      "Speed: 3.5ms preprocess, 2.6ms inference, 0.5ms postprocess per image at shape (1, 3, 1088, 1920)\n",
      "\n",
      "image 1/1 /datasets/tdt4265/other/rbk/1_train-val_1min_aalesund_from_start/img1/000271.jpg: 1088x1920 22 players, 2.5ms\n",
      "\n",
      "image 1/1 /datasets/tdt4265/other/rbk/1_train-val_1min_aalesund_from_start/img1/000271.jpg: 1088x1920 1 ball, 2.3ms\n",
      "Speed: 4.5ms preprocess, 2.5ms inference, 0.8ms postprocess per image at shape (1, 3, 1088, 1920)\n",
      "\n",
      "image 1/1 /datasets/tdt4265/other/rbk/1_train-val_1min_aalesund_from_start/img1/000272.jpg: 1088x1920 22 players, 2.4ms\n",
      "\n",
      "image 1/1 /datasets/tdt4265/other/rbk/1_train-val_1min_aalesund_from_start/img1/000272.jpg: 1088x1920 1 ball, 2.9ms\n",
      "Speed: 3.1ms preprocess, 2.4ms inference, 0.5ms postprocess per image at shape (1, 3, 1088, 1920)\n",
      "\n",
      "image 1/1 /datasets/tdt4265/other/rbk/1_train-val_1min_aalesund_from_start/img1/000273.jpg: 1088x1920 22 players, 2.5ms\n",
      "\n",
      "image 1/1 /datasets/tdt4265/other/rbk/1_train-val_1min_aalesund_from_start/img1/000273.jpg: 1088x1920 1 ball, 2.4ms\n",
      "Speed: 4.4ms preprocess, 2.5ms inference, 0.6ms postprocess per image at shape (1, 3, 1088, 1920)\n",
      "\n",
      "image 1/1 /datasets/tdt4265/other/rbk/1_train-val_1min_aalesund_from_start/img1/000274.jpg: 1088x1920 22 players, 2.4ms\n",
      "\n",
      "image 1/1 /datasets/tdt4265/other/rbk/1_train-val_1min_aalesund_from_start/img1/000274.jpg: 1088x1920 1 ball, 2.4ms\n",
      "Speed: 2.4ms preprocess, 2.4ms inference, 0.6ms postprocess per image at shape (1, 3, 1088, 1920)\n",
      "\n",
      "image 1/1 /datasets/tdt4265/other/rbk/1_train-val_1min_aalesund_from_start/img1/000275.jpg: 1088x1920 22 players, 2.5ms\n",
      "\n",
      "image 1/1 /datasets/tdt4265/other/rbk/1_train-val_1min_aalesund_from_start/img1/000275.jpg: 1088x1920 1 ball, 2.5ms\n",
      "Speed: 4.5ms preprocess, 2.5ms inference, 0.5ms postprocess per image at shape (1, 3, 1088, 1920)\n",
      "\n",
      "image 1/1 /datasets/tdt4265/other/rbk/1_train-val_1min_aalesund_from_start/img1/000276.jpg: 1088x1920 22 players, 2.4ms\n",
      "\n",
      "image 1/1 /datasets/tdt4265/other/rbk/1_train-val_1min_aalesund_from_start/img1/000276.jpg: 1088x1920 1 ball, 2.9ms\n",
      "Speed: 3.0ms preprocess, 2.4ms inference, 0.5ms postprocess per image at shape (1, 3, 1088, 1920)\n",
      "\n",
      "image 1/1 /datasets/tdt4265/other/rbk/1_train-val_1min_aalesund_from_start/img1/000277.jpg: 1088x1920 22 players, 2.5ms\n",
      "\n",
      "image 1/1 /datasets/tdt4265/other/rbk/1_train-val_1min_aalesund_from_start/img1/000277.jpg: 1088x1920 1 ball, 2.6ms\n",
      "Speed: 4.5ms preprocess, 2.5ms inference, 0.5ms postprocess per image at shape (1, 3, 1088, 1920)\n",
      "\n",
      "image 1/1 /datasets/tdt4265/other/rbk/1_train-val_1min_aalesund_from_start/img1/000278.jpg: 1088x1920 22 players, 2.5ms\n",
      "\n",
      "image 1/1 /datasets/tdt4265/other/rbk/1_train-val_1min_aalesund_from_start/img1/000278.jpg: 1088x1920 1 ball, 2.3ms\n",
      "Speed: 2.3ms preprocess, 2.5ms inference, 0.8ms postprocess per image at shape (1, 3, 1088, 1920)\n",
      "\n",
      "image 1/1 /datasets/tdt4265/other/rbk/1_train-val_1min_aalesund_from_start/img1/000279.jpg: 1088x1920 22 players, 2.6ms\n",
      "\n",
      "image 1/1 /datasets/tdt4265/other/rbk/1_train-val_1min_aalesund_from_start/img1/000279.jpg: 1088x1920 1 ball, 2.3ms\n",
      "Speed: 4.5ms preprocess, 2.6ms inference, 0.8ms postprocess per image at shape (1, 3, 1088, 1920)\n",
      "\n",
      "image 1/1 /datasets/tdt4265/other/rbk/1_train-val_1min_aalesund_from_start/img1/000280.jpg: 1088x1920 22 players, 2.4ms\n",
      "\n",
      "image 1/1 /datasets/tdt4265/other/rbk/1_train-val_1min_aalesund_from_start/img1/000280.jpg: 1088x1920 1 ball, 2.4ms\n",
      "Speed: 3.3ms preprocess, 2.4ms inference, 1.1ms postprocess per image at shape (1, 3, 1088, 1920)\n",
      "\n",
      "image 1/1 /datasets/tdt4265/other/rbk/1_train-val_1min_aalesund_from_start/img1/000281.jpg: 1088x1920 22 players, 2.4ms\n",
      "\n",
      "image 1/1 /datasets/tdt4265/other/rbk/1_train-val_1min_aalesund_from_start/img1/000281.jpg: 1088x1920 1 ball, 2.4ms\n",
      "Speed: 4.5ms preprocess, 2.4ms inference, 0.5ms postprocess per image at shape (1, 3, 1088, 1920)\n",
      "\n",
      "image 1/1 /datasets/tdt4265/other/rbk/1_train-val_1min_aalesund_from_start/img1/000282.jpg: 1088x1920 22 players, 2.8ms\n",
      "\n",
      "image 1/1 /datasets/tdt4265/other/rbk/1_train-val_1min_aalesund_from_start/img1/000282.jpg: 1088x1920 1 ball, 2.3ms\n",
      "Speed: 3.7ms preprocess, 2.8ms inference, 0.5ms postprocess per image at shape (1, 3, 1088, 1920)\n",
      "\n",
      "image 1/1 /datasets/tdt4265/other/rbk/1_train-val_1min_aalesund_from_start/img1/000283.jpg: 1088x1920 22 players, 2.4ms\n",
      "\n",
      "image 1/1 /datasets/tdt4265/other/rbk/1_train-val_1min_aalesund_from_start/img1/000283.jpg: 1088x1920 1 ball, 2.3ms\n",
      "Speed: 4.3ms preprocess, 2.4ms inference, 0.5ms postprocess per image at shape (1, 3, 1088, 1920)\n",
      "\n",
      "image 1/1 /datasets/tdt4265/other/rbk/1_train-val_1min_aalesund_from_start/img1/000284.jpg: 1088x1920 22 players, 2.4ms\n",
      "\n",
      "image 1/1 /datasets/tdt4265/other/rbk/1_train-val_1min_aalesund_from_start/img1/000284.jpg: 1088x1920 1 ball, 2.6ms\n",
      "Speed: 2.4ms preprocess, 2.4ms inference, 0.6ms postprocess per image at shape (1, 3, 1088, 1920)\n",
      "\n",
      "image 1/1 /datasets/tdt4265/other/rbk/1_train-val_1min_aalesund_from_start/img1/000285.jpg: 1088x1920 22 players, 2.5ms\n",
      "\n",
      "image 1/1 /datasets/tdt4265/other/rbk/1_train-val_1min_aalesund_from_start/img1/000285.jpg: 1088x1920 1 ball, 2.5ms\n",
      "Speed: 4.4ms preprocess, 2.5ms inference, 0.5ms postprocess per image at shape (1, 3, 1088, 1920)\n",
      "\n",
      "image 1/1 /datasets/tdt4265/other/rbk/1_train-val_1min_aalesund_from_start/img1/000286.jpg: 1088x1920 22 players, 2.5ms\n",
      "\n",
      "image 1/1 /datasets/tdt4265/other/rbk/1_train-val_1min_aalesund_from_start/img1/000286.jpg: 1088x1920 1 ball, 2.5ms\n",
      "Speed: 3.1ms preprocess, 2.5ms inference, 0.5ms postprocess per image at shape (1, 3, 1088, 1920)\n",
      "\n",
      "image 1/1 /datasets/tdt4265/other/rbk/1_train-val_1min_aalesund_from_start/img1/000287.jpg: 1088x1920 22 players, 2.6ms\n",
      "\n",
      "image 1/1 /datasets/tdt4265/other/rbk/1_train-val_1min_aalesund_from_start/img1/000287.jpg: 1088x1920 1 ball, 2.6ms\n",
      "Speed: 4.5ms preprocess, 2.6ms inference, 0.7ms postprocess per image at shape (1, 3, 1088, 1920)\n",
      "\n",
      "image 1/1 /datasets/tdt4265/other/rbk/1_train-val_1min_aalesund_from_start/img1/000288.jpg: 1088x1920 22 players, 2.7ms\n",
      "\n",
      "image 1/1 /datasets/tdt4265/other/rbk/1_train-val_1min_aalesund_from_start/img1/000288.jpg: 1088x1920 1 ball, 2.4ms\n",
      "Speed: 2.4ms preprocess, 2.7ms inference, 0.8ms postprocess per image at shape (1, 3, 1088, 1920)\n",
      "\n",
      "image 1/1 /datasets/tdt4265/other/rbk/1_train-val_1min_aalesund_from_start/img1/000289.jpg: 1088x1920 22 players, 2.4ms\n",
      "\n",
      "image 1/1 /datasets/tdt4265/other/rbk/1_train-val_1min_aalesund_from_start/img1/000289.jpg: 1088x1920 1 ball, 2.4ms\n",
      "Speed: 4.6ms preprocess, 2.4ms inference, 0.5ms postprocess per image at shape (1, 3, 1088, 1920)\n",
      "\n",
      "image 1/1 /datasets/tdt4265/other/rbk/1_train-val_1min_aalesund_from_start/img1/000290.jpg: 1088x1920 22 players, 2.7ms\n",
      "\n",
      "image 1/1 /datasets/tdt4265/other/rbk/1_train-val_1min_aalesund_from_start/img1/000290.jpg: 1088x1920 1 ball, 2.3ms\n",
      "Speed: 3.3ms preprocess, 2.7ms inference, 0.5ms postprocess per image at shape (1, 3, 1088, 1920)\n",
      "\n",
      "image 1/1 /datasets/tdt4265/other/rbk/1_train-val_1min_aalesund_from_start/img1/000291.jpg: 1088x1920 22 players, 2.5ms\n",
      "\n",
      "image 1/1 /datasets/tdt4265/other/rbk/1_train-val_1min_aalesund_from_start/img1/000291.jpg: 1088x1920 1 ball, 2.7ms\n",
      "Speed: 4.5ms preprocess, 2.5ms inference, 0.6ms postprocess per image at shape (1, 3, 1088, 1920)\n",
      "\n",
      "image 1/1 /datasets/tdt4265/other/rbk/1_train-val_1min_aalesund_from_start/img1/000292.jpg: 1088x1920 22 players, 2.4ms\n",
      "\n",
      "image 1/1 /datasets/tdt4265/other/rbk/1_train-val_1min_aalesund_from_start/img1/000292.jpg: 1088x1920 1 ball, 2.5ms\n",
      "Speed: 3.1ms preprocess, 2.4ms inference, 0.5ms postprocess per image at shape (1, 3, 1088, 1920)\n",
      "\n",
      "image 1/1 /datasets/tdt4265/other/rbk/1_train-val_1min_aalesund_from_start/img1/000293.jpg: 1088x1920 22 players, 2.4ms\n",
      "\n",
      "image 1/1 /datasets/tdt4265/other/rbk/1_train-val_1min_aalesund_from_start/img1/000293.jpg: 1088x1920 1 ball, 2.5ms\n",
      "Speed: 4.3ms preprocess, 2.4ms inference, 0.5ms postprocess per image at shape (1, 3, 1088, 1920)\n",
      "\n",
      "image 1/1 /datasets/tdt4265/other/rbk/1_train-val_1min_aalesund_from_start/img1/000294.jpg: 1088x1920 22 players, 2.4ms\n",
      "\n",
      "image 1/1 /datasets/tdt4265/other/rbk/1_train-val_1min_aalesund_from_start/img1/000294.jpg: 1088x1920 1 ball, 2.5ms\n",
      "Speed: 3.3ms preprocess, 2.4ms inference, 0.5ms postprocess per image at shape (1, 3, 1088, 1920)\n",
      "\n",
      "image 1/1 /datasets/tdt4265/other/rbk/1_train-val_1min_aalesund_from_start/img1/000295.jpg: 1088x1920 22 players, 2.5ms\n",
      "\n",
      "image 1/1 /datasets/tdt4265/other/rbk/1_train-val_1min_aalesund_from_start/img1/000295.jpg: 1088x1920 1 ball, 2.6ms\n",
      "Speed: 4.5ms preprocess, 2.5ms inference, 0.5ms postprocess per image at shape (1, 3, 1088, 1920)\n",
      "\n",
      "image 1/1 /datasets/tdt4265/other/rbk/1_train-val_1min_aalesund_from_start/img1/000296.jpg: 1088x1920 22 players, 2.5ms\n",
      "\n",
      "image 1/1 /datasets/tdt4265/other/rbk/1_train-val_1min_aalesund_from_start/img1/000296.jpg: 1088x1920 1 ball, 2.3ms\n",
      "Speed: 3.1ms preprocess, 2.5ms inference, 0.5ms postprocess per image at shape (1, 3, 1088, 1920)\n",
      "\n",
      "image 1/1 /datasets/tdt4265/other/rbk/1_train-val_1min_aalesund_from_start/img1/000297.jpg: 1088x1920 22 players, 2.6ms\n",
      "\n",
      "image 1/1 /datasets/tdt4265/other/rbk/1_train-val_1min_aalesund_from_start/img1/000297.jpg: 1088x1920 1 ball, 2.6ms\n",
      "Speed: 4.5ms preprocess, 2.6ms inference, 0.8ms postprocess per image at shape (1, 3, 1088, 1920)\n",
      "\n",
      "image 1/1 /datasets/tdt4265/other/rbk/1_train-val_1min_aalesund_from_start/img1/000298.jpg: 1088x1920 22 players, 2.6ms\n",
      "\n",
      "image 1/1 /datasets/tdt4265/other/rbk/1_train-val_1min_aalesund_from_start/img1/000298.jpg: 1088x1920 1 ball, 2.3ms\n",
      "Speed: 3.1ms preprocess, 2.6ms inference, 0.5ms postprocess per image at shape (1, 3, 1088, 1920)\n",
      "\n",
      "image 1/1 /datasets/tdt4265/other/rbk/1_train-val_1min_aalesund_from_start/img1/000299.jpg: 1088x1920 22 players, 2.6ms\n",
      "\n",
      "image 1/1 /datasets/tdt4265/other/rbk/1_train-val_1min_aalesund_from_start/img1/000299.jpg: 1088x1920 1 ball, 2.4ms\n",
      "Speed: 4.4ms preprocess, 2.6ms inference, 0.5ms postprocess per image at shape (1, 3, 1088, 1920)\n",
      "\n",
      "image 1/1 /datasets/tdt4265/other/rbk/1_train-val_1min_aalesund_from_start/img1/000300.jpg: 1088x1920 22 players, 2.4ms\n",
      "\n",
      "image 1/1 /datasets/tdt4265/other/rbk/1_train-val_1min_aalesund_from_start/img1/000300.jpg: 1088x1920 1 ball, 2.5ms\n",
      "Speed: 3.2ms preprocess, 2.4ms inference, 0.5ms postprocess per image at shape (1, 3, 1088, 1920)\n",
      "\n",
      "image 1/1 /datasets/tdt4265/other/rbk/1_train-val_1min_aalesund_from_start/img1/000301.jpg: 1088x1920 22 players, 2.5ms\n",
      "\n",
      "image 1/1 /datasets/tdt4265/other/rbk/1_train-val_1min_aalesund_from_start/img1/000301.jpg: 1088x1920 1 ball, 2.5ms\n",
      "Speed: 4.6ms preprocess, 2.5ms inference, 0.5ms postprocess per image at shape (1, 3, 1088, 1920)\n",
      "\n",
      "image 1/1 /datasets/tdt4265/other/rbk/1_train-val_1min_aalesund_from_start/img1/000302.jpg: 1088x1920 22 players, 2.5ms\n",
      "\n",
      "image 1/1 /datasets/tdt4265/other/rbk/1_train-val_1min_aalesund_from_start/img1/000302.jpg: 1088x1920 1 ball, 2.5ms\n",
      "Speed: 3.1ms preprocess, 2.5ms inference, 0.5ms postprocess per image at shape (1, 3, 1088, 1920)\n",
      "\n",
      "image 1/1 /datasets/tdt4265/other/rbk/1_train-val_1min_aalesund_from_start/img1/000303.jpg: 1088x1920 22 players, 3.2ms\n",
      "\n",
      "image 1/1 /datasets/tdt4265/other/rbk/1_train-val_1min_aalesund_from_start/img1/000303.jpg: 1088x1920 1 ball, 2.5ms\n",
      "Speed: 5.0ms preprocess, 3.2ms inference, 0.7ms postprocess per image at shape (1, 3, 1088, 1920)\n",
      "\n",
      "image 1/1 /datasets/tdt4265/other/rbk/1_train-val_1min_aalesund_from_start/img1/000304.jpg: 1088x1920 22 players, 2.4ms\n",
      "\n",
      "image 1/1 /datasets/tdt4265/other/rbk/1_train-val_1min_aalesund_from_start/img1/000304.jpg: 1088x1920 1 ball, 2.3ms\n",
      "Speed: 2.2ms preprocess, 2.4ms inference, 0.5ms postprocess per image at shape (1, 3, 1088, 1920)\n",
      "\n",
      "image 1/1 /datasets/tdt4265/other/rbk/1_train-val_1min_aalesund_from_start/img1/000305.jpg: 1088x1920 22 players, 2.4ms\n",
      "\n",
      "image 1/1 /datasets/tdt4265/other/rbk/1_train-val_1min_aalesund_from_start/img1/000305.jpg: 1088x1920 1 ball, 2.5ms\n",
      "Speed: 4.5ms preprocess, 2.4ms inference, 0.5ms postprocess per image at shape (1, 3, 1088, 1920)\n",
      "\n",
      "image 1/1 /datasets/tdt4265/other/rbk/1_train-val_1min_aalesund_from_start/img1/000306.jpg: 1088x1920 22 players, 2.5ms\n",
      "\n",
      "image 1/1 /datasets/tdt4265/other/rbk/1_train-val_1min_aalesund_from_start/img1/000306.jpg: 1088x1920 1 ball, 2.6ms\n",
      "Speed: 3.0ms preprocess, 2.5ms inference, 0.5ms postprocess per image at shape (1, 3, 1088, 1920)\n",
      "\n",
      "image 1/1 /datasets/tdt4265/other/rbk/1_train-val_1min_aalesund_from_start/img1/000307.jpg: 1088x1920 22 players, 2.6ms\n",
      "\n",
      "image 1/1 /datasets/tdt4265/other/rbk/1_train-val_1min_aalesund_from_start/img1/000307.jpg: 1088x1920 1 ball, 2.6ms\n",
      "Speed: 4.4ms preprocess, 2.6ms inference, 0.5ms postprocess per image at shape (1, 3, 1088, 1920)\n",
      "\n",
      "image 1/1 /datasets/tdt4265/other/rbk/1_train-val_1min_aalesund_from_start/img1/000308.jpg: 1088x1920 22 players, 2.4ms\n",
      "\n",
      "image 1/1 /datasets/tdt4265/other/rbk/1_train-val_1min_aalesund_from_start/img1/000308.jpg: 1088x1920 1 ball, 2.3ms\n",
      "Speed: 2.3ms preprocess, 2.4ms inference, 0.5ms postprocess per image at shape (1, 3, 1088, 1920)\n",
      "\n",
      "image 1/1 /datasets/tdt4265/other/rbk/1_train-val_1min_aalesund_from_start/img1/000309.jpg: 1088x1920 22 players, 2.4ms\n",
      "\n",
      "image 1/1 /datasets/tdt4265/other/rbk/1_train-val_1min_aalesund_from_start/img1/000309.jpg: 1088x1920 1 ball, 2.6ms\n",
      "Speed: 4.5ms preprocess, 2.4ms inference, 0.5ms postprocess per image at shape (1, 3, 1088, 1920)\n",
      "\n",
      "image 1/1 /datasets/tdt4265/other/rbk/1_train-val_1min_aalesund_from_start/img1/000310.jpg: 1088x1920 22 players, 2.5ms\n",
      "\n",
      "image 1/1 /datasets/tdt4265/other/rbk/1_train-val_1min_aalesund_from_start/img1/000310.jpg: 1088x1920 1 ball, 2.9ms\n",
      "Speed: 3.2ms preprocess, 2.5ms inference, 0.5ms postprocess per image at shape (1, 3, 1088, 1920)\n",
      "\n",
      "image 1/1 /datasets/tdt4265/other/rbk/1_train-val_1min_aalesund_from_start/img1/000311.jpg: 1088x1920 22 players, 2.6ms\n",
      "\n",
      "image 1/1 /datasets/tdt4265/other/rbk/1_train-val_1min_aalesund_from_start/img1/000311.jpg: 1088x1920 1 ball, 2.5ms\n",
      "Speed: 4.4ms preprocess, 2.6ms inference, 0.5ms postprocess per image at shape (1, 3, 1088, 1920)\n",
      "\n",
      "image 1/1 /datasets/tdt4265/other/rbk/1_train-val_1min_aalesund_from_start/img1/000312.jpg: 1088x1920 22 players, 2.6ms\n",
      "\n",
      "image 1/1 /datasets/tdt4265/other/rbk/1_train-val_1min_aalesund_from_start/img1/000312.jpg: 1088x1920 1 ball, 2.6ms\n",
      "Speed: 3.1ms preprocess, 2.6ms inference, 0.5ms postprocess per image at shape (1, 3, 1088, 1920)\n",
      "\n",
      "image 1/1 /datasets/tdt4265/other/rbk/1_train-val_1min_aalesund_from_start/img1/000313.jpg: 1088x1920 22 players, 2.5ms\n",
      "\n",
      "image 1/1 /datasets/tdt4265/other/rbk/1_train-val_1min_aalesund_from_start/img1/000313.jpg: 1088x1920 1 ball, 2.6ms\n",
      "Speed: 4.3ms preprocess, 2.5ms inference, 0.5ms postprocess per image at shape (1, 3, 1088, 1920)\n",
      "\n",
      "image 1/1 /datasets/tdt4265/other/rbk/1_train-val_1min_aalesund_from_start/img1/000314.jpg: 1088x1920 22 players, 2.5ms\n",
      "\n",
      "image 1/1 /datasets/tdt4265/other/rbk/1_train-val_1min_aalesund_from_start/img1/000314.jpg: 1088x1920 1 ball, 2.5ms\n",
      "Speed: 3.3ms preprocess, 2.5ms inference, 0.5ms postprocess per image at shape (1, 3, 1088, 1920)\n",
      "\n",
      "image 1/1 /datasets/tdt4265/other/rbk/1_train-val_1min_aalesund_from_start/img1/000315.jpg: 1088x1920 22 players, 2.4ms\n",
      "\n",
      "image 1/1 /datasets/tdt4265/other/rbk/1_train-val_1min_aalesund_from_start/img1/000315.jpg: 1088x1920 1 ball, 2.5ms\n",
      "Speed: 4.5ms preprocess, 2.4ms inference, 0.5ms postprocess per image at shape (1, 3, 1088, 1920)\n",
      "\n",
      "image 1/1 /datasets/tdt4265/other/rbk/1_train-val_1min_aalesund_from_start/img1/000316.jpg: 1088x1920 22 players, 2.4ms\n",
      "\n",
      "image 1/1 /datasets/tdt4265/other/rbk/1_train-val_1min_aalesund_from_start/img1/000316.jpg: 1088x1920 1 ball, 2.3ms\n",
      "Speed: 3.0ms preprocess, 2.4ms inference, 0.5ms postprocess per image at shape (1, 3, 1088, 1920)\n",
      "\n",
      "image 1/1 /datasets/tdt4265/other/rbk/1_train-val_1min_aalesund_from_start/img1/000317.jpg: 1088x1920 22 players, 3.2ms\n",
      "\n",
      "image 1/1 /datasets/tdt4265/other/rbk/1_train-val_1min_aalesund_from_start/img1/000317.jpg: 1088x1920 1 ball, 2.4ms\n",
      "Speed: 5.2ms preprocess, 3.2ms inference, 0.7ms postprocess per image at shape (1, 3, 1088, 1920)\n",
      "\n",
      "image 1/1 /datasets/tdt4265/other/rbk/1_train-val_1min_aalesund_from_start/img1/000318.jpg: 1088x1920 22 players, 2.4ms\n",
      "\n",
      "image 1/1 /datasets/tdt4265/other/rbk/1_train-val_1min_aalesund_from_start/img1/000318.jpg: 1088x1920 1 ball, 2.4ms\n",
      "Speed: 2.3ms preprocess, 2.4ms inference, 0.5ms postprocess per image at shape (1, 3, 1088, 1920)\n",
      "\n",
      "image 1/1 /datasets/tdt4265/other/rbk/1_train-val_1min_aalesund_from_start/img1/000319.jpg: 1088x1920 22 players, 2.8ms\n",
      "\n",
      "image 1/1 /datasets/tdt4265/other/rbk/1_train-val_1min_aalesund_from_start/img1/000319.jpg: 1088x1920 1 ball, 2.6ms\n",
      "Speed: 4.6ms preprocess, 2.8ms inference, 0.5ms postprocess per image at shape (1, 3, 1088, 1920)\n",
      "\n",
      "image 1/1 /datasets/tdt4265/other/rbk/1_train-val_1min_aalesund_from_start/img1/000320.jpg: 1088x1920 22 players, 2.4ms\n",
      "\n",
      "image 1/1 /datasets/tdt4265/other/rbk/1_train-val_1min_aalesund_from_start/img1/000320.jpg: 1088x1920 1 ball, 2.6ms\n",
      "Speed: 3.3ms preprocess, 2.4ms inference, 0.6ms postprocess per image at shape (1, 3, 1088, 1920)\n",
      "\n",
      "image 1/1 /datasets/tdt4265/other/rbk/1_train-val_1min_aalesund_from_start/img1/000321.jpg: 1088x1920 22 players, 2.4ms\n",
      "\n",
      "image 1/1 /datasets/tdt4265/other/rbk/1_train-val_1min_aalesund_from_start/img1/000321.jpg: 1088x1920 1 ball, 2.3ms\n",
      "Speed: 4.5ms preprocess, 2.4ms inference, 0.5ms postprocess per image at shape (1, 3, 1088, 1920)\n",
      "\n",
      "image 1/1 /datasets/tdt4265/other/rbk/1_train-val_1min_aalesund_from_start/img1/000322.jpg: 1088x1920 22 players, 2.4ms\n",
      "\n",
      "image 1/1 /datasets/tdt4265/other/rbk/1_train-val_1min_aalesund_from_start/img1/000322.jpg: 1088x1920 1 ball, 2.5ms\n",
      "Speed: 3.1ms preprocess, 2.4ms inference, 0.6ms postprocess per image at shape (1, 3, 1088, 1920)\n",
      "\n",
      "image 1/1 /datasets/tdt4265/other/rbk/1_train-val_1min_aalesund_from_start/img1/000323.jpg: 1088x1920 22 players, 2.4ms\n",
      "\n",
      "image 1/1 /datasets/tdt4265/other/rbk/1_train-val_1min_aalesund_from_start/img1/000323.jpg: 1088x1920 1 ball, 2.3ms\n",
      "Speed: 4.3ms preprocess, 2.4ms inference, 0.5ms postprocess per image at shape (1, 3, 1088, 1920)\n",
      "\n",
      "image 1/1 /datasets/tdt4265/other/rbk/1_train-val_1min_aalesund_from_start/img1/000324.jpg: 1088x1920 22 players, 2.4ms\n",
      "\n",
      "image 1/1 /datasets/tdt4265/other/rbk/1_train-val_1min_aalesund_from_start/img1/000324.jpg: 1088x1920 1 ball, 2.3ms\n",
      "Speed: 3.3ms preprocess, 2.4ms inference, 0.7ms postprocess per image at shape (1, 3, 1088, 1920)\n",
      "\n",
      "image 1/1 /datasets/tdt4265/other/rbk/1_train-val_1min_aalesund_from_start/img1/000325.jpg: 1088x1920 22 players, 2.6ms\n",
      "\n",
      "image 1/1 /datasets/tdt4265/other/rbk/1_train-val_1min_aalesund_from_start/img1/000325.jpg: 1088x1920 1 ball, 2.6ms\n",
      "Speed: 4.5ms preprocess, 2.6ms inference, 0.8ms postprocess per image at shape (1, 3, 1088, 1920)\n",
      "\n",
      "image 1/1 /datasets/tdt4265/other/rbk/1_train-val_1min_aalesund_from_start/img1/000326.jpg: 1088x1920 22 players, 2.6ms\n",
      "\n",
      "image 1/1 /datasets/tdt4265/other/rbk/1_train-val_1min_aalesund_from_start/img1/000326.jpg: 1088x1920 1 ball, 2.3ms\n",
      "Speed: 3.1ms preprocess, 2.6ms inference, 0.7ms postprocess per image at shape (1, 3, 1088, 1920)\n",
      "\n",
      "image 1/1 /datasets/tdt4265/other/rbk/1_train-val_1min_aalesund_from_start/img1/000327.jpg: 1088x1920 22 players, 2.4ms\n",
      "\n",
      "image 1/1 /datasets/tdt4265/other/rbk/1_train-val_1min_aalesund_from_start/img1/000327.jpg: 1088x1920 1 ball, 2.5ms\n",
      "Speed: 4.5ms preprocess, 2.4ms inference, 0.7ms postprocess per image at shape (1, 3, 1088, 1920)\n",
      "\n",
      "image 1/1 /datasets/tdt4265/other/rbk/1_train-val_1min_aalesund_from_start/img1/000328.jpg: 1088x1920 22 players, 2.5ms\n",
      "\n",
      "image 1/1 /datasets/tdt4265/other/rbk/1_train-val_1min_aalesund_from_start/img1/000328.jpg: 1088x1920 1 ball, 2.5ms\n",
      "Speed: 3.1ms preprocess, 2.5ms inference, 0.5ms postprocess per image at shape (1, 3, 1088, 1920)\n",
      "\n",
      "image 1/1 /datasets/tdt4265/other/rbk/1_train-val_1min_aalesund_from_start/img1/000329.jpg: 1088x1920 22 players, 2.4ms\n",
      "\n",
      "image 1/1 /datasets/tdt4265/other/rbk/1_train-val_1min_aalesund_from_start/img1/000329.jpg: 1088x1920 1 ball, 2.3ms\n",
      "Speed: 4.4ms preprocess, 2.4ms inference, 0.5ms postprocess per image at shape (1, 3, 1088, 1920)\n",
      "\n",
      "image 1/1 /datasets/tdt4265/other/rbk/1_train-val_1min_aalesund_from_start/img1/000330.jpg: 1088x1920 22 players, 2.5ms\n",
      "\n",
      "image 1/1 /datasets/tdt4265/other/rbk/1_train-val_1min_aalesund_from_start/img1/000330.jpg: 1088x1920 1 ball, 2.4ms\n",
      "Speed: 3.3ms preprocess, 2.5ms inference, 0.6ms postprocess per image at shape (1, 3, 1088, 1920)\n",
      "\n",
      "image 1/1 /datasets/tdt4265/other/rbk/1_train-val_1min_aalesund_from_start/img1/000331.jpg: 1088x1920 22 players, 2.7ms\n",
      "\n",
      "image 1/1 /datasets/tdt4265/other/rbk/1_train-val_1min_aalesund_from_start/img1/000331.jpg: 1088x1920 1 ball, 2.3ms\n",
      "Speed: 4.5ms preprocess, 2.7ms inference, 0.7ms postprocess per image at shape (1, 3, 1088, 1920)\n",
      "\n",
      "image 1/1 /datasets/tdt4265/other/rbk/1_train-val_1min_aalesund_from_start/img1/000332.jpg: 1088x1920 22 players, 2.6ms\n",
      "\n",
      "image 1/1 /datasets/tdt4265/other/rbk/1_train-val_1min_aalesund_from_start/img1/000332.jpg: 1088x1920 1 ball, 2.6ms\n",
      "Speed: 3.1ms preprocess, 2.6ms inference, 0.5ms postprocess per image at shape (1, 3, 1088, 1920)\n",
      "\n",
      "image 1/1 /datasets/tdt4265/other/rbk/1_train-val_1min_aalesund_from_start/img1/000333.jpg: 1088x1920 22 players, 2.5ms\n",
      "\n",
      "image 1/1 /datasets/tdt4265/other/rbk/1_train-val_1min_aalesund_from_start/img1/000333.jpg: 1088x1920 1 ball, 2.5ms\n",
      "Speed: 4.3ms preprocess, 2.5ms inference, 0.5ms postprocess per image at shape (1, 3, 1088, 1920)\n",
      "\n",
      "image 1/1 /datasets/tdt4265/other/rbk/1_train-val_1min_aalesund_from_start/img1/000334.jpg: 1088x1920 22 players, 2.4ms\n",
      "\n",
      "image 1/1 /datasets/tdt4265/other/rbk/1_train-val_1min_aalesund_from_start/img1/000334.jpg: 1088x1920 1 ball, 2.3ms\n",
      "Speed: 3.3ms preprocess, 2.4ms inference, 0.5ms postprocess per image at shape (1, 3, 1088, 1920)\n",
      "\n",
      "image 1/1 /datasets/tdt4265/other/rbk/1_train-val_1min_aalesund_from_start/img1/000335.jpg: 1088x1920 22 players, 2.5ms\n",
      "\n",
      "image 1/1 /datasets/tdt4265/other/rbk/1_train-val_1min_aalesund_from_start/img1/000335.jpg: 1088x1920 1 ball, 2.5ms\n",
      "Speed: 4.5ms preprocess, 2.5ms inference, 0.5ms postprocess per image at shape (1, 3, 1088, 1920)\n",
      "\n",
      "image 1/1 /datasets/tdt4265/other/rbk/1_train-val_1min_aalesund_from_start/img1/000336.jpg: 1088x1920 22 players, 2.4ms\n",
      "\n",
      "image 1/1 /datasets/tdt4265/other/rbk/1_train-val_1min_aalesund_from_start/img1/000336.jpg: 1088x1920 1 ball, 2.3ms\n",
      "Speed: 3.1ms preprocess, 2.4ms inference, 0.9ms postprocess per image at shape (1, 3, 1088, 1920)\n",
      "\n",
      "image 1/1 /datasets/tdt4265/other/rbk/1_train-val_1min_aalesund_from_start/img1/000337.jpg: 1088x1920 22 players, 2.4ms\n",
      "\n",
      "image 1/1 /datasets/tdt4265/other/rbk/1_train-val_1min_aalesund_from_start/img1/000337.jpg: 1088x1920 1 ball, 2.5ms\n",
      "Speed: 4.4ms preprocess, 2.4ms inference, 0.7ms postprocess per image at shape (1, 3, 1088, 1920)\n",
      "\n",
      "image 1/1 /datasets/tdt4265/other/rbk/1_train-val_1min_aalesund_from_start/img1/000338.jpg: 1088x1920 22 players, 2.5ms\n",
      "\n",
      "image 1/1 /datasets/tdt4265/other/rbk/1_train-val_1min_aalesund_from_start/img1/000338.jpg: 1088x1920 1 ball, 2.3ms\n",
      "Speed: 3.1ms preprocess, 2.5ms inference, 0.5ms postprocess per image at shape (1, 3, 1088, 1920)\n",
      "\n",
      "image 1/1 /datasets/tdt4265/other/rbk/1_train-val_1min_aalesund_from_start/img1/000339.jpg: 1088x1920 22 players, 2.4ms\n",
      "\n",
      "image 1/1 /datasets/tdt4265/other/rbk/1_train-val_1min_aalesund_from_start/img1/000339.jpg: 1088x1920 1 ball, 2.3ms\n",
      "Speed: 4.4ms preprocess, 2.4ms inference, 0.5ms postprocess per image at shape (1, 3, 1088, 1920)\n",
      "\n",
      "image 1/1 /datasets/tdt4265/other/rbk/1_train-val_1min_aalesund_from_start/img1/000340.jpg: 1088x1920 22 players, 2.4ms\n",
      "\n",
      "image 1/1 /datasets/tdt4265/other/rbk/1_train-val_1min_aalesund_from_start/img1/000340.jpg: 1088x1920 1 ball, 2.6ms\n",
      "Speed: 3.3ms preprocess, 2.4ms inference, 0.5ms postprocess per image at shape (1, 3, 1088, 1920)\n",
      "\n",
      "image 1/1 /datasets/tdt4265/other/rbk/1_train-val_1min_aalesund_from_start/img1/000341.jpg: 1088x1920 22 players, 2.6ms\n",
      "\n",
      "image 1/1 /datasets/tdt4265/other/rbk/1_train-val_1min_aalesund_from_start/img1/000341.jpg: 1088x1920 1 ball, 2.5ms\n",
      "Speed: 4.4ms preprocess, 2.6ms inference, 0.7ms postprocess per image at shape (1, 3, 1088, 1920)\n",
      "\n",
      "image 1/1 /datasets/tdt4265/other/rbk/1_train-val_1min_aalesund_from_start/img1/000342.jpg: 1088x1920 22 players, 2.6ms\n",
      "\n",
      "image 1/1 /datasets/tdt4265/other/rbk/1_train-val_1min_aalesund_from_start/img1/000342.jpg: 1088x1920 1 ball, 2.5ms\n",
      "Speed: 3.1ms preprocess, 2.6ms inference, 0.5ms postprocess per image at shape (1, 3, 1088, 1920)\n",
      "\n",
      "image 1/1 /datasets/tdt4265/other/rbk/1_train-val_1min_aalesund_from_start/img1/000343.jpg: 1088x1920 22 players, 2.4ms\n",
      "\n",
      "image 1/1 /datasets/tdt4265/other/rbk/1_train-val_1min_aalesund_from_start/img1/000343.jpg: 1088x1920 1 ball, 3.2ms\n",
      "Speed: 4.3ms preprocess, 2.4ms inference, 0.5ms postprocess per image at shape (1, 3, 1088, 1920)\n",
      "\n",
      "image 1/1 /datasets/tdt4265/other/rbk/1_train-val_1min_aalesund_from_start/img1/000344.jpg: 1088x1920 22 players, 2.4ms\n",
      "\n",
      "image 1/1 /datasets/tdt4265/other/rbk/1_train-val_1min_aalesund_from_start/img1/000344.jpg: 1088x1920 1 ball, 2.3ms\n",
      "Speed: 3.3ms preprocess, 2.4ms inference, 0.7ms postprocess per image at shape (1, 3, 1088, 1920)\n",
      "\n",
      "image 1/1 /datasets/tdt4265/other/rbk/1_train-val_1min_aalesund_from_start/img1/000345.jpg: 1088x1920 22 players, 2.7ms\n",
      "\n",
      "image 1/1 /datasets/tdt4265/other/rbk/1_train-val_1min_aalesund_from_start/img1/000345.jpg: 1088x1920 1 ball, 2.6ms\n",
      "Speed: 4.5ms preprocess, 2.7ms inference, 0.8ms postprocess per image at shape (1, 3, 1088, 1920)\n",
      "\n",
      "image 1/1 /datasets/tdt4265/other/rbk/1_train-val_1min_aalesund_from_start/img1/000346.jpg: 1088x1920 22 players, 2.7ms\n",
      "\n",
      "image 1/1 /datasets/tdt4265/other/rbk/1_train-val_1min_aalesund_from_start/img1/000346.jpg: 1088x1920 1 ball, 2.3ms\n",
      "Speed: 3.1ms preprocess, 2.7ms inference, 0.6ms postprocess per image at shape (1, 3, 1088, 1920)\n",
      "\n",
      "image 1/1 /datasets/tdt4265/other/rbk/1_train-val_1min_aalesund_from_start/img1/000347.jpg: 1088x1920 22 players, 2.5ms\n",
      "\n",
      "image 1/1 /datasets/tdt4265/other/rbk/1_train-val_1min_aalesund_from_start/img1/000347.jpg: 1088x1920 1 ball, 2.3ms\n",
      "Speed: 4.5ms preprocess, 2.5ms inference, 0.5ms postprocess per image at shape (1, 3, 1088, 1920)\n",
      "\n",
      "image 1/1 /datasets/tdt4265/other/rbk/1_train-val_1min_aalesund_from_start/img1/000348.jpg: 1088x1920 22 players, 2.5ms\n",
      "\n",
      "image 1/1 /datasets/tdt4265/other/rbk/1_train-val_1min_aalesund_from_start/img1/000348.jpg: 1088x1920 1 ball, 2.4ms\n",
      "Speed: 2.3ms preprocess, 2.5ms inference, 0.5ms postprocess per image at shape (1, 3, 1088, 1920)\n",
      "\n",
      "image 1/1 /datasets/tdt4265/other/rbk/1_train-val_1min_aalesund_from_start/img1/000349.jpg: 1088x1920 22 players, 2.4ms\n",
      "\n",
      "image 1/1 /datasets/tdt4265/other/rbk/1_train-val_1min_aalesund_from_start/img1/000349.jpg: 1088x1920 1 ball, 2.3ms\n",
      "Speed: 4.2ms preprocess, 2.4ms inference, 0.5ms postprocess per image at shape (1, 3, 1088, 1920)\n",
      "\n",
      "image 1/1 /datasets/tdt4265/other/rbk/1_train-val_1min_aalesund_from_start/img1/000350.jpg: 1088x1920 22 players, 2.4ms\n",
      "\n",
      "image 1/1 /datasets/tdt4265/other/rbk/1_train-val_1min_aalesund_from_start/img1/000350.jpg: 1088x1920 1 ball, 2.4ms\n",
      "Speed: 3.2ms preprocess, 2.4ms inference, 0.7ms postprocess per image at shape (1, 3, 1088, 1920)\n",
      "\n",
      "image 1/1 /datasets/tdt4265/other/rbk/1_train-val_1min_aalesund_from_start/img1/000351.jpg: 1088x1920 22 players, 2.6ms\n",
      "\n",
      "image 1/1 /datasets/tdt4265/other/rbk/1_train-val_1min_aalesund_from_start/img1/000351.jpg: 1088x1920 1 ball, 2.7ms\n",
      "Speed: 4.6ms preprocess, 2.6ms inference, 0.7ms postprocess per image at shape (1, 3, 1088, 1920)\n",
      "\n",
      "image 1/1 /datasets/tdt4265/other/rbk/1_train-val_1min_aalesund_from_start/img1/000352.jpg: 1088x1920 22 players, 2.4ms\n",
      "\n",
      "image 1/1 /datasets/tdt4265/other/rbk/1_train-val_1min_aalesund_from_start/img1/000352.jpg: 1088x1920 1 ball, 2.9ms\n",
      "Speed: 3.1ms preprocess, 2.4ms inference, 0.7ms postprocess per image at shape (1, 3, 1088, 1920)\n",
      "\n",
      "image 1/1 /datasets/tdt4265/other/rbk/1_train-val_1min_aalesund_from_start/img1/000353.jpg: 1088x1920 22 players, 2.4ms\n",
      "\n",
      "image 1/1 /datasets/tdt4265/other/rbk/1_train-val_1min_aalesund_from_start/img1/000353.jpg: 1088x1920 1 ball, 2.3ms\n",
      "Speed: 4.3ms preprocess, 2.4ms inference, 0.5ms postprocess per image at shape (1, 3, 1088, 1920)\n",
      "\n",
      "image 1/1 /datasets/tdt4265/other/rbk/1_train-val_1min_aalesund_from_start/img1/000354.jpg: 1088x1920 22 players, 2.4ms\n",
      "\n",
      "image 1/1 /datasets/tdt4265/other/rbk/1_train-val_1min_aalesund_from_start/img1/000354.jpg: 1088x1920 1 ball, 2.3ms\n",
      "Speed: 3.4ms preprocess, 2.4ms inference, 0.5ms postprocess per image at shape (1, 3, 1088, 1920)\n",
      "\n",
      "image 1/1 /datasets/tdt4265/other/rbk/1_train-val_1min_aalesund_from_start/img1/000355.jpg: 1088x1920 22 players, 2.4ms\n",
      "\n",
      "image 1/1 /datasets/tdt4265/other/rbk/1_train-val_1min_aalesund_from_start/img1/000355.jpg: 1088x1920 1 ball, 2.3ms\n",
      "Speed: 4.4ms preprocess, 2.4ms inference, 0.5ms postprocess per image at shape (1, 3, 1088, 1920)\n",
      "\n",
      "image 1/1 /datasets/tdt4265/other/rbk/1_train-val_1min_aalesund_from_start/img1/000356.jpg: 1088x1920 22 players, 2.4ms\n",
      "\n",
      "image 1/1 /datasets/tdt4265/other/rbk/1_train-val_1min_aalesund_from_start/img1/000356.jpg: 1088x1920 1 ball, 2.3ms\n",
      "Speed: 3.2ms preprocess, 2.4ms inference, 1.0ms postprocess per image at shape (1, 3, 1088, 1920)\n",
      "\n",
      "image 1/1 /datasets/tdt4265/other/rbk/1_train-val_1min_aalesund_from_start/img1/000357.jpg: 1088x1920 22 players, 2.6ms\n",
      "\n",
      "image 1/1 /datasets/tdt4265/other/rbk/1_train-val_1min_aalesund_from_start/img1/000357.jpg: 1088x1920 1 ball, 2.6ms\n",
      "Speed: 4.8ms preprocess, 2.6ms inference, 0.6ms postprocess per image at shape (1, 3, 1088, 1920)\n",
      "\n",
      "image 1/1 /datasets/tdt4265/other/rbk/1_train-val_1min_aalesund_from_start/img1/000358.jpg: 1088x1920 22 players, 2.4ms\n",
      "\n",
      "image 1/1 /datasets/tdt4265/other/rbk/1_train-val_1min_aalesund_from_start/img1/000358.jpg: 1088x1920 1 ball, 3.2ms\n",
      "Speed: 2.2ms preprocess, 2.4ms inference, 0.6ms postprocess per image at shape (1, 3, 1088, 1920)\n",
      "\n",
      "image 1/1 /datasets/tdt4265/other/rbk/1_train-val_1min_aalesund_from_start/img1/000359.jpg: 1088x1920 22 players, 2.4ms\n",
      "\n",
      "image 1/1 /datasets/tdt4265/other/rbk/1_train-val_1min_aalesund_from_start/img1/000359.jpg: 1088x1920 1 ball, 2.3ms\n",
      "Speed: 4.2ms preprocess, 2.4ms inference, 0.6ms postprocess per image at shape (1, 3, 1088, 1920)\n",
      "\n",
      "image 1/1 /datasets/tdt4265/other/rbk/1_train-val_1min_aalesund_from_start/img1/000360.jpg: 1088x1920 22 players, 2.6ms\n",
      "\n",
      "image 1/1 /datasets/tdt4265/other/rbk/1_train-val_1min_aalesund_from_start/img1/000360.jpg: 1088x1920 1 ball, 2.4ms\n",
      "Speed: 3.3ms preprocess, 2.6ms inference, 0.6ms postprocess per image at shape (1, 3, 1088, 1920)\n",
      "\n",
      "image 1/1 /datasets/tdt4265/other/rbk/1_train-val_1min_aalesund_from_start/img1/000361.jpg: 1088x1920 22 players, 2.7ms\n",
      "\n",
      "image 1/1 /datasets/tdt4265/other/rbk/1_train-val_1min_aalesund_from_start/img1/000361.jpg: 1088x1920 1 ball, 2.3ms\n",
      "Speed: 4.6ms preprocess, 2.7ms inference, 0.8ms postprocess per image at shape (1, 3, 1088, 1920)\n",
      "\n",
      "image 1/1 /datasets/tdt4265/other/rbk/1_train-val_1min_aalesund_from_start/img1/000362.jpg: 1088x1920 22 players, 2.8ms\n",
      "\n",
      "image 1/1 /datasets/tdt4265/other/rbk/1_train-val_1min_aalesund_from_start/img1/000362.jpg: 1088x1920 1 ball, 2.4ms\n",
      "Speed: 3.2ms preprocess, 2.8ms inference, 0.5ms postprocess per image at shape (1, 3, 1088, 1920)\n",
      "\n",
      "image 1/1 /datasets/tdt4265/other/rbk/1_train-val_1min_aalesund_from_start/img1/000363.jpg: 1088x1920 22 players, 2.4ms\n",
      "\n",
      "image 1/1 /datasets/tdt4265/other/rbk/1_train-val_1min_aalesund_from_start/img1/000363.jpg: 1088x1920 1 ball, 2.5ms\n",
      "Speed: 4.3ms preprocess, 2.4ms inference, 0.6ms postprocess per image at shape (1, 3, 1088, 1920)\n",
      "\n",
      "image 1/1 /datasets/tdt4265/other/rbk/1_train-val_1min_aalesund_from_start/img1/000364.jpg: 1088x1920 22 players, 2.5ms\n",
      "\n",
      "image 1/1 /datasets/tdt4265/other/rbk/1_train-val_1min_aalesund_from_start/img1/000364.jpg: 1088x1920 1 ball, 2.6ms\n",
      "Speed: 2.2ms preprocess, 2.5ms inference, 0.6ms postprocess per image at shape (1, 3, 1088, 1920)\n",
      "\n",
      "image 1/1 /datasets/tdt4265/other/rbk/1_train-val_1min_aalesund_from_start/img1/000365.jpg: 1088x1920 22 players, 2.4ms\n",
      "\n",
      "image 1/1 /datasets/tdt4265/other/rbk/1_train-val_1min_aalesund_from_start/img1/000365.jpg: 1088x1920 1 ball, 3.1ms\n",
      "Speed: 4.5ms preprocess, 2.4ms inference, 0.5ms postprocess per image at shape (1, 3, 1088, 1920)\n",
      "\n",
      "image 1/1 /datasets/tdt4265/other/rbk/1_train-val_1min_aalesund_from_start/img1/000366.jpg: 1088x1920 22 players, 2.4ms\n",
      "\n",
      "image 1/1 /datasets/tdt4265/other/rbk/1_train-val_1min_aalesund_from_start/img1/000366.jpg: 1088x1920 1 ball, 2.5ms\n",
      "Speed: 3.1ms preprocess, 2.4ms inference, 0.6ms postprocess per image at shape (1, 3, 1088, 1920)\n",
      "\n",
      "image 1/1 /datasets/tdt4265/other/rbk/1_train-val_1min_aalesund_from_start/img1/000367.jpg: 1088x1920 22 players, 2.4ms\n",
      "\n",
      "image 1/1 /datasets/tdt4265/other/rbk/1_train-val_1min_aalesund_from_start/img1/000367.jpg: 1088x1920 1 ball, 2.5ms\n",
      "Speed: 4.5ms preprocess, 2.4ms inference, 0.6ms postprocess per image at shape (1, 3, 1088, 1920)\n",
      "\n",
      "image 1/1 /datasets/tdt4265/other/rbk/1_train-val_1min_aalesund_from_start/img1/000368.jpg: 1088x1920 22 players, 2.4ms\n",
      "\n",
      "image 1/1 /datasets/tdt4265/other/rbk/1_train-val_1min_aalesund_from_start/img1/000368.jpg: 1088x1920 1 ball, 2.4ms\n",
      "Speed: 2.4ms preprocess, 2.4ms inference, 0.5ms postprocess per image at shape (1, 3, 1088, 1920)\n",
      "\n",
      "image 1/1 /datasets/tdt4265/other/rbk/1_train-val_1min_aalesund_from_start/img1/000369.jpg: 1088x1920 22 players, 2.5ms\n",
      "\n",
      "image 1/1 /datasets/tdt4265/other/rbk/1_train-val_1min_aalesund_from_start/img1/000369.jpg: 1088x1920 1 ball, 2.4ms\n",
      "Speed: 4.2ms preprocess, 2.5ms inference, 0.6ms postprocess per image at shape (1, 3, 1088, 1920)\n",
      "\n",
      "image 1/1 /datasets/tdt4265/other/rbk/1_train-val_1min_aalesund_from_start/img1/000370.jpg: 1088x1920 22 players, 2.4ms\n",
      "\n",
      "image 1/1 /datasets/tdt4265/other/rbk/1_train-val_1min_aalesund_from_start/img1/000370.jpg: 1088x1920 1 ball, 2.5ms\n",
      "Speed: 3.3ms preprocess, 2.4ms inference, 0.5ms postprocess per image at shape (1, 3, 1088, 1920)\n",
      "\n",
      "image 1/1 /datasets/tdt4265/other/rbk/1_train-val_1min_aalesund_from_start/img1/000371.jpg: 1088x1920 22 players, 2.4ms\n",
      "\n",
      "image 1/1 /datasets/tdt4265/other/rbk/1_train-val_1min_aalesund_from_start/img1/000371.jpg: 1088x1920 1 ball, 2.4ms\n",
      "Speed: 4.4ms preprocess, 2.4ms inference, 0.5ms postprocess per image at shape (1, 3, 1088, 1920)\n",
      "\n",
      "image 1/1 /datasets/tdt4265/other/rbk/1_train-val_1min_aalesund_from_start/img1/000372.jpg: 1088x1920 22 players, 2.4ms\n",
      "\n",
      "image 1/1 /datasets/tdt4265/other/rbk/1_train-val_1min_aalesund_from_start/img1/000372.jpg: 1088x1920 1 ball, 3.2ms\n",
      "Speed: 3.1ms preprocess, 2.4ms inference, 0.6ms postprocess per image at shape (1, 3, 1088, 1920)\n",
      "\n",
      "image 1/1 /datasets/tdt4265/other/rbk/1_train-val_1min_aalesund_from_start/img1/000373.jpg: 1088x1920 22 players, 2.4ms\n",
      "\n",
      "image 1/1 /datasets/tdt4265/other/rbk/1_train-val_1min_aalesund_from_start/img1/000373.jpg: 1088x1920 1 ball, 2.4ms\n",
      "Speed: 4.2ms preprocess, 2.4ms inference, 0.5ms postprocess per image at shape (1, 3, 1088, 1920)\n",
      "\n",
      "image 1/1 /datasets/tdt4265/other/rbk/1_train-val_1min_aalesund_from_start/img1/000374.jpg: 1088x1920 22 players, 2.4ms\n",
      "\n",
      "image 1/1 /datasets/tdt4265/other/rbk/1_train-val_1min_aalesund_from_start/img1/000374.jpg: 1088x1920 1 ball, 2.5ms\n",
      "Speed: 2.2ms preprocess, 2.4ms inference, 0.5ms postprocess per image at shape (1, 3, 1088, 1920)\n",
      "\n",
      "image 1/1 /datasets/tdt4265/other/rbk/1_train-val_1min_aalesund_from_start/img1/000375.jpg: 1088x1920 22 players, 2.4ms\n",
      "\n",
      "image 1/1 /datasets/tdt4265/other/rbk/1_train-val_1min_aalesund_from_start/img1/000375.jpg: 1088x1920 1 ball, 2.3ms\n",
      "Speed: 4.5ms preprocess, 2.4ms inference, 0.6ms postprocess per image at shape (1, 3, 1088, 1920)\n",
      "\n",
      "image 1/1 /datasets/tdt4265/other/rbk/1_train-val_1min_aalesund_from_start/img1/000376.jpg: 1088x1920 22 players, 2.4ms\n",
      "\n",
      "image 1/1 /datasets/tdt4265/other/rbk/1_train-val_1min_aalesund_from_start/img1/000376.jpg: 1088x1920 1 ball, 2.6ms\n",
      "Speed: 3.1ms preprocess, 2.4ms inference, 0.6ms postprocess per image at shape (1, 3, 1088, 1920)\n",
      "\n",
      "image 1/1 /datasets/tdt4265/other/rbk/1_train-val_1min_aalesund_from_start/img1/000377.jpg: 1088x1920 22 players, 2.4ms\n",
      "\n",
      "image 1/1 /datasets/tdt4265/other/rbk/1_train-val_1min_aalesund_from_start/img1/000377.jpg: 1088x1920 1 ball, 2.5ms\n",
      "Speed: 4.5ms preprocess, 2.4ms inference, 0.6ms postprocess per image at shape (1, 3, 1088, 1920)\n",
      "\n",
      "image 1/1 /datasets/tdt4265/other/rbk/1_train-val_1min_aalesund_from_start/img1/000378.jpg: 1088x1920 22 players, 2.4ms\n",
      "\n",
      "image 1/1 /datasets/tdt4265/other/rbk/1_train-val_1min_aalesund_from_start/img1/000378.jpg: 1088x1920 1 ball, 2.6ms\n",
      "Speed: 2.3ms preprocess, 2.4ms inference, 0.5ms postprocess per image at shape (1, 3, 1088, 1920)\n",
      "\n",
      "image 1/1 /datasets/tdt4265/other/rbk/1_train-val_1min_aalesund_from_start/img1/000379.jpg: 1088x1920 22 players, 2.4ms\n",
      "\n",
      "image 1/1 /datasets/tdt4265/other/rbk/1_train-val_1min_aalesund_from_start/img1/000379.jpg: 1088x1920 1 ball, 2.8ms\n",
      "Speed: 4.2ms preprocess, 2.4ms inference, 0.6ms postprocess per image at shape (1, 3, 1088, 1920)\n",
      "\n",
      "image 1/1 /datasets/tdt4265/other/rbk/1_train-val_1min_aalesund_from_start/img1/000380.jpg: 1088x1920 22 players, 2.4ms\n",
      "\n",
      "image 1/1 /datasets/tdt4265/other/rbk/1_train-val_1min_aalesund_from_start/img1/000380.jpg: 1088x1920 1 ball, 2.3ms\n",
      "Speed: 3.3ms preprocess, 2.4ms inference, 0.5ms postprocess per image at shape (1, 3, 1088, 1920)\n",
      "\n",
      "image 1/1 /datasets/tdt4265/other/rbk/1_train-val_1min_aalesund_from_start/img1/000381.jpg: 1088x1920 22 players, 2.5ms\n",
      "\n",
      "image 1/1 /datasets/tdt4265/other/rbk/1_train-val_1min_aalesund_from_start/img1/000381.jpg: 1088x1920 1 ball, 2.4ms\n",
      "Speed: 4.5ms preprocess, 2.5ms inference, 0.6ms postprocess per image at shape (1, 3, 1088, 1920)\n",
      "\n",
      "image 1/1 /datasets/tdt4265/other/rbk/1_train-val_1min_aalesund_from_start/img1/000382.jpg: 1088x1920 22 players, 2.6ms\n",
      "\n",
      "image 1/1 /datasets/tdt4265/other/rbk/1_train-val_1min_aalesund_from_start/img1/000382.jpg: 1088x1920 1 ball, 2.3ms\n",
      "Speed: 3.1ms preprocess, 2.6ms inference, 0.7ms postprocess per image at shape (1, 3, 1088, 1920)\n",
      "\n",
      "image 1/1 /datasets/tdt4265/other/rbk/1_train-val_1min_aalesund_from_start/img1/000383.jpg: 1088x1920 22 players, 2.6ms\n",
      "\n",
      "image 1/1 /datasets/tdt4265/other/rbk/1_train-val_1min_aalesund_from_start/img1/000383.jpg: 1088x1920 1 ball, 2.7ms\n",
      "Speed: 4.3ms preprocess, 2.6ms inference, 0.5ms postprocess per image at shape (1, 3, 1088, 1920)\n",
      "\n",
      "image 1/1 /datasets/tdt4265/other/rbk/1_train-val_1min_aalesund_from_start/img1/000384.jpg: 1088x1920 22 players, 2.4ms\n",
      "\n",
      "image 1/1 /datasets/tdt4265/other/rbk/1_train-val_1min_aalesund_from_start/img1/000384.jpg: 1088x1920 1 ball, 2.3ms\n",
      "Speed: 3.5ms preprocess, 2.4ms inference, 0.9ms postprocess per image at shape (1, 3, 1088, 1920)\n",
      "\n",
      "image 1/1 /datasets/tdt4265/other/rbk/1_train-val_1min_aalesund_from_start/img1/000385.jpg: 1088x1920 22 players, 2.6ms\n",
      "\n",
      "image 1/1 /datasets/tdt4265/other/rbk/1_train-val_1min_aalesund_from_start/img1/000385.jpg: 1088x1920 1 ball, 2.4ms\n",
      "Speed: 4.5ms preprocess, 2.6ms inference, 0.7ms postprocess per image at shape (1, 3, 1088, 1920)\n",
      "\n",
      "image 1/1 /datasets/tdt4265/other/rbk/1_train-val_1min_aalesund_from_start/img1/000386.jpg: 1088x1920 22 players, 2.9ms\n",
      "\n",
      "image 1/1 /datasets/tdt4265/other/rbk/1_train-val_1min_aalesund_from_start/img1/000386.jpg: 1088x1920 1 ball, 2.9ms\n",
      "Speed: 3.1ms preprocess, 2.9ms inference, 0.5ms postprocess per image at shape (1, 3, 1088, 1920)\n",
      "\n",
      "image 1/1 /datasets/tdt4265/other/rbk/1_train-val_1min_aalesund_from_start/img1/000387.jpg: 1088x1920 22 players, 2.5ms\n",
      "\n",
      "image 1/1 /datasets/tdt4265/other/rbk/1_train-val_1min_aalesund_from_start/img1/000387.jpg: 1088x1920 1 ball, 2.3ms\n",
      "Speed: 4.5ms preprocess, 2.5ms inference, 0.6ms postprocess per image at shape (1, 3, 1088, 1920)\n",
      "\n",
      "image 1/1 /datasets/tdt4265/other/rbk/1_train-val_1min_aalesund_from_start/img1/000388.jpg: 1088x1920 22 players, 2.6ms\n",
      "\n",
      "image 1/1 /datasets/tdt4265/other/rbk/1_train-val_1min_aalesund_from_start/img1/000388.jpg: 1088x1920 1 ball, 2.8ms\n",
      "Speed: 3.1ms preprocess, 2.6ms inference, 0.5ms postprocess per image at shape (1, 3, 1088, 1920)\n",
      "\n",
      "image 1/1 /datasets/tdt4265/other/rbk/1_train-val_1min_aalesund_from_start/img1/000389.jpg: 1088x1920 22 players, 2.4ms\n",
      "\n",
      "image 1/1 /datasets/tdt4265/other/rbk/1_train-val_1min_aalesund_from_start/img1/000389.jpg: 1088x1920 1 ball, 2.5ms\n",
      "Speed: 4.4ms preprocess, 2.4ms inference, 0.5ms postprocess per image at shape (1, 3, 1088, 1920)\n",
      "\n",
      "image 1/1 /datasets/tdt4265/other/rbk/1_train-val_1min_aalesund_from_start/img1/000390.jpg: 1088x1920 22 players, 2.4ms\n",
      "\n",
      "image 1/1 /datasets/tdt4265/other/rbk/1_train-val_1min_aalesund_from_start/img1/000390.jpg: 1088x1920 1 ball, 2.5ms\n",
      "Speed: 3.2ms preprocess, 2.4ms inference, 0.5ms postprocess per image at shape (1, 3, 1088, 1920)\n",
      "\n",
      "image 1/1 /datasets/tdt4265/other/rbk/1_train-val_1min_aalesund_from_start/img1/000391.jpg: 1088x1920 22 players, 2.4ms\n",
      "\n",
      "image 1/1 /datasets/tdt4265/other/rbk/1_train-val_1min_aalesund_from_start/img1/000391.jpg: 1088x1920 1 ball, 2.3ms\n",
      "Speed: 4.5ms preprocess, 2.4ms inference, 0.5ms postprocess per image at shape (1, 3, 1088, 1920)\n",
      "\n",
      "image 1/1 /datasets/tdt4265/other/rbk/1_train-val_1min_aalesund_from_start/img1/000392.jpg: 1088x1920 22 players, 2.4ms\n",
      "\n",
      "image 1/1 /datasets/tdt4265/other/rbk/1_train-val_1min_aalesund_from_start/img1/000392.jpg: 1088x1920 1 ball, 2.3ms\n",
      "Speed: 3.0ms preprocess, 2.4ms inference, 0.5ms postprocess per image at shape (1, 3, 1088, 1920)\n",
      "\n",
      "image 1/1 /datasets/tdt4265/other/rbk/1_train-val_1min_aalesund_from_start/img1/000393.jpg: 1088x1920 22 players, 2.7ms\n",
      "\n",
      "image 1/1 /datasets/tdt4265/other/rbk/1_train-val_1min_aalesund_from_start/img1/000393.jpg: 1088x1920 1 ball, 2.4ms\n",
      "Speed: 4.4ms preprocess, 2.7ms inference, 0.6ms postprocess per image at shape (1, 3, 1088, 1920)\n",
      "\n",
      "image 1/1 /datasets/tdt4265/other/rbk/1_train-val_1min_aalesund_from_start/img1/000394.jpg: 1088x1920 22 players, 2.4ms\n",
      "\n",
      "image 1/1 /datasets/tdt4265/other/rbk/1_train-val_1min_aalesund_from_start/img1/000394.jpg: 1088x1920 1 ball, 2.6ms\n",
      "Speed: 4.0ms preprocess, 2.4ms inference, 0.8ms postprocess per image at shape (1, 3, 1088, 1920)\n",
      "\n",
      "image 1/1 /datasets/tdt4265/other/rbk/1_train-val_1min_aalesund_from_start/img1/000395.jpg: 1088x1920 22 players, 2.5ms\n",
      "\n",
      "image 1/1 /datasets/tdt4265/other/rbk/1_train-val_1min_aalesund_from_start/img1/000395.jpg: 1088x1920 1 ball, 2.4ms\n",
      "Speed: 4.5ms preprocess, 2.5ms inference, 0.5ms postprocess per image at shape (1, 3, 1088, 1920)\n",
      "\n",
      "image 1/1 /datasets/tdt4265/other/rbk/1_train-val_1min_aalesund_from_start/img1/000396.jpg: 1088x1920 22 players, 2.7ms\n",
      "\n",
      "image 1/1 /datasets/tdt4265/other/rbk/1_train-val_1min_aalesund_from_start/img1/000396.jpg: 1088x1920 1 ball, 2.3ms\n",
      "Speed: 3.1ms preprocess, 2.7ms inference, 0.5ms postprocess per image at shape (1, 3, 1088, 1920)\n",
      "\n",
      "image 1/1 /datasets/tdt4265/other/rbk/1_train-val_1min_aalesund_from_start/img1/000397.jpg: 1088x1920 22 players, 2.4ms\n",
      "\n",
      "image 1/1 /datasets/tdt4265/other/rbk/1_train-val_1min_aalesund_from_start/img1/000397.jpg: 1088x1920 1 ball, 2.5ms\n",
      "Speed: 4.5ms preprocess, 2.4ms inference, 0.5ms postprocess per image at shape (1, 3, 1088, 1920)\n",
      "\n",
      "image 1/1 /datasets/tdt4265/other/rbk/1_train-val_1min_aalesund_from_start/img1/000398.jpg: 1088x1920 22 players, 2.4ms\n",
      "\n",
      "image 1/1 /datasets/tdt4265/other/rbk/1_train-val_1min_aalesund_from_start/img1/000398.jpg: 1088x1920 1 ball, 2.4ms\n",
      "Speed: 2.3ms preprocess, 2.4ms inference, 0.5ms postprocess per image at shape (1, 3, 1088, 1920)\n",
      "\n",
      "image 1/1 /datasets/tdt4265/other/rbk/1_train-val_1min_aalesund_from_start/img1/000399.jpg: 1088x1920 22 players, 2.4ms\n",
      "\n",
      "image 1/1 /datasets/tdt4265/other/rbk/1_train-val_1min_aalesund_from_start/img1/000399.jpg: 1088x1920 1 ball, 3.2ms\n",
      "Speed: 4.3ms preprocess, 2.4ms inference, 0.5ms postprocess per image at shape (1, 3, 1088, 1920)\n",
      "\n",
      "image 1/1 /datasets/tdt4265/other/rbk/1_train-val_1min_aalesund_from_start/img1/000400.jpg: 1088x1920 22 players, 2.6ms\n",
      "\n",
      "image 1/1 /datasets/tdt4265/other/rbk/1_train-val_1min_aalesund_from_start/img1/000400.jpg: 1088x1920 1 ball, 2.3ms\n",
      "Speed: 3.3ms preprocess, 2.6ms inference, 0.6ms postprocess per image at shape (1, 3, 1088, 1920)\n",
      "\n",
      "image 1/1 /datasets/tdt4265/other/rbk/1_train-val_1min_aalesund_from_start/img1/000401.jpg: 1088x1920 22 players, 2.6ms\n",
      "\n",
      "image 1/1 /datasets/tdt4265/other/rbk/1_train-val_1min_aalesund_from_start/img1/000401.jpg: 1088x1920 1 ball, 2.7ms\n",
      "Speed: 4.5ms preprocess, 2.6ms inference, 0.8ms postprocess per image at shape (1, 3, 1088, 1920)\n",
      "\n",
      "image 1/1 /datasets/tdt4265/other/rbk/1_train-val_1min_aalesund_from_start/img1/000402.jpg: 1088x1920 22 players, 2.7ms\n",
      "\n",
      "image 1/1 /datasets/tdt4265/other/rbk/1_train-val_1min_aalesund_from_start/img1/000402.jpg: 1088x1920 1 ball, 2.3ms\n",
      "Speed: 3.1ms preprocess, 2.7ms inference, 0.6ms postprocess per image at shape (1, 3, 1088, 1920)\n",
      "\n",
      "image 1/1 /datasets/tdt4265/other/rbk/1_train-val_1min_aalesund_from_start/img1/000403.jpg: 1088x1920 22 players, 2.5ms\n",
      "\n",
      "image 1/1 /datasets/tdt4265/other/rbk/1_train-val_1min_aalesund_from_start/img1/000403.jpg: 1088x1920 1 ball, 2.4ms\n",
      "Speed: 4.2ms preprocess, 2.5ms inference, 0.5ms postprocess per image at shape (1, 3, 1088, 1920)\n",
      "\n",
      "image 1/1 /datasets/tdt4265/other/rbk/1_train-val_1min_aalesund_from_start/img1/000404.jpg: 1088x1920 22 players, 2.4ms\n",
      "\n",
      "image 1/1 /datasets/tdt4265/other/rbk/1_train-val_1min_aalesund_from_start/img1/000404.jpg: 1088x1920 1 ball, 2.5ms\n",
      "Speed: 3.0ms preprocess, 2.4ms inference, 0.5ms postprocess per image at shape (1, 3, 1088, 1920)\n",
      "\n",
      "image 1/1 /datasets/tdt4265/other/rbk/1_train-val_1min_aalesund_from_start/img1/000405.jpg: 1088x1920 22 players, 3.3ms\n",
      "\n",
      "image 1/1 /datasets/tdt4265/other/rbk/1_train-val_1min_aalesund_from_start/img1/000405.jpg: 1088x1920 1 ball, 2.6ms\n",
      "Speed: 5.3ms preprocess, 3.3ms inference, 0.7ms postprocess per image at shape (1, 3, 1088, 1920)\n",
      "\n",
      "image 1/1 /datasets/tdt4265/other/rbk/1_train-val_1min_aalesund_from_start/img1/000406.jpg: 1088x1920 22 players, 2.5ms\n",
      "\n",
      "image 1/1 /datasets/tdt4265/other/rbk/1_train-val_1min_aalesund_from_start/img1/000406.jpg: 1088x1920 1 ball, 2.4ms\n",
      "Speed: 3.1ms preprocess, 2.5ms inference, 0.5ms postprocess per image at shape (1, 3, 1088, 1920)\n",
      "\n",
      "image 1/1 /datasets/tdt4265/other/rbk/1_train-val_1min_aalesund_from_start/img1/000407.jpg: 1088x1920 22 players, 2.4ms\n",
      "\n",
      "image 1/1 /datasets/tdt4265/other/rbk/1_train-val_1min_aalesund_from_start/img1/000407.jpg: 1088x1920 1 ball, 2.3ms\n",
      "Speed: 4.4ms preprocess, 2.4ms inference, 0.5ms postprocess per image at shape (1, 3, 1088, 1920)\n",
      "\n",
      "image 1/1 /datasets/tdt4265/other/rbk/1_train-val_1min_aalesund_from_start/img1/000408.jpg: 1088x1920 22 players, 2.4ms\n",
      "\n",
      "image 1/1 /datasets/tdt4265/other/rbk/1_train-val_1min_aalesund_from_start/img1/000408.jpg: 1088x1920 1 ball, 2.3ms\n",
      "Speed: 3.1ms preprocess, 2.4ms inference, 0.6ms postprocess per image at shape (1, 3, 1088, 1920)\n",
      "\n",
      "image 1/1 /datasets/tdt4265/other/rbk/1_train-val_1min_aalesund_from_start/img1/000409.jpg: 1088x1920 22 players, 2.4ms\n",
      "\n",
      "image 1/1 /datasets/tdt4265/other/rbk/1_train-val_1min_aalesund_from_start/img1/000409.jpg: 1088x1920 1 ball, 2.3ms\n",
      "Speed: 4.3ms preprocess, 2.4ms inference, 0.5ms postprocess per image at shape (1, 3, 1088, 1920)\n",
      "\n",
      "image 1/1 /datasets/tdt4265/other/rbk/1_train-val_1min_aalesund_from_start/img1/000410.jpg: 1088x1920 22 players, 2.6ms\n",
      "\n",
      "image 1/1 /datasets/tdt4265/other/rbk/1_train-val_1min_aalesund_from_start/img1/000410.jpg: 1088x1920 1 ball, 2.6ms\n",
      "Speed: 3.2ms preprocess, 2.6ms inference, 0.5ms postprocess per image at shape (1, 3, 1088, 1920)\n",
      "\n",
      "image 1/1 /datasets/tdt4265/other/rbk/1_train-val_1min_aalesund_from_start/img1/000411.jpg: 1088x1920 22 players, 2.5ms\n",
      "\n",
      "image 1/1 /datasets/tdt4265/other/rbk/1_train-val_1min_aalesund_from_start/img1/000411.jpg: 1088x1920 1 ball, 2.5ms\n",
      "Speed: 4.5ms preprocess, 2.5ms inference, 0.5ms postprocess per image at shape (1, 3, 1088, 1920)\n",
      "\n",
      "image 1/1 /datasets/tdt4265/other/rbk/1_train-val_1min_aalesund_from_start/img1/000412.jpg: 1088x1920 22 players, 2.4ms\n",
      "\n",
      "image 1/1 /datasets/tdt4265/other/rbk/1_train-val_1min_aalesund_from_start/img1/000412.jpg: 1088x1920 1 ball, 3.0ms\n",
      "Speed: 3.0ms preprocess, 2.4ms inference, 0.5ms postprocess per image at shape (1, 3, 1088, 1920)\n",
      "\n",
      "image 1/1 /datasets/tdt4265/other/rbk/1_train-val_1min_aalesund_from_start/img1/000413.jpg: 1088x1920 22 players, 2.5ms\n",
      "\n",
      "image 1/1 /datasets/tdt4265/other/rbk/1_train-val_1min_aalesund_from_start/img1/000413.jpg: 1088x1920 1 ball, 2.6ms\n",
      "Speed: 4.3ms preprocess, 2.5ms inference, 0.5ms postprocess per image at shape (1, 3, 1088, 1920)\n",
      "\n",
      "image 1/1 /datasets/tdt4265/other/rbk/1_train-val_1min_aalesund_from_start/img1/000414.jpg: 1088x1920 22 players, 2.6ms\n",
      "\n",
      "image 1/1 /datasets/tdt4265/other/rbk/1_train-val_1min_aalesund_from_start/img1/000414.jpg: 1088x1920 1 ball, 2.3ms\n",
      "Speed: 3.3ms preprocess, 2.6ms inference, 0.7ms postprocess per image at shape (1, 3, 1088, 1920)\n",
      "\n",
      "image 1/1 /datasets/tdt4265/other/rbk/1_train-val_1min_aalesund_from_start/img1/000415.jpg: 1088x1920 22 players, 2.5ms\n",
      "\n",
      "image 1/1 /datasets/tdt4265/other/rbk/1_train-val_1min_aalesund_from_start/img1/000415.jpg: 1088x1920 1 ball, 2.3ms\n",
      "Speed: 4.5ms preprocess, 2.5ms inference, 0.5ms postprocess per image at shape (1, 3, 1088, 1920)\n",
      "\n",
      "image 1/1 /datasets/tdt4265/other/rbk/1_train-val_1min_aalesund_from_start/img1/000416.jpg: 1088x1920 22 players, 2.5ms\n",
      "\n",
      "image 1/1 /datasets/tdt4265/other/rbk/1_train-val_1min_aalesund_from_start/img1/000416.jpg: 1088x1920 1 ball, 2.3ms\n",
      "Speed: 3.1ms preprocess, 2.5ms inference, 0.5ms postprocess per image at shape (1, 3, 1088, 1920)\n",
      "\n",
      "image 1/1 /datasets/tdt4265/other/rbk/1_train-val_1min_aalesund_from_start/img1/000417.jpg: 1088x1920 22 players, 2.4ms\n",
      "\n",
      "image 1/1 /datasets/tdt4265/other/rbk/1_train-val_1min_aalesund_from_start/img1/000417.jpg: 1088x1920 1 ball, 2.3ms\n",
      "Speed: 4.4ms preprocess, 2.4ms inference, 0.5ms postprocess per image at shape (1, 3, 1088, 1920)\n",
      "\n",
      "image 1/1 /datasets/tdt4265/other/rbk/1_train-val_1min_aalesund_from_start/img1/000418.jpg: 1088x1920 22 players, 2.5ms\n",
      "\n",
      "image 1/1 /datasets/tdt4265/other/rbk/1_train-val_1min_aalesund_from_start/img1/000418.jpg: 1088x1920 1 ball, 2.4ms\n",
      "Speed: 3.2ms preprocess, 2.5ms inference, 0.6ms postprocess per image at shape (1, 3, 1088, 1920)\n",
      "\n",
      "image 1/1 /datasets/tdt4265/other/rbk/1_train-val_1min_aalesund_from_start/img1/000419.jpg: 1088x1920 22 players, 2.4ms\n",
      "\n",
      "image 1/1 /datasets/tdt4265/other/rbk/1_train-val_1min_aalesund_from_start/img1/000419.jpg: 1088x1920 1 ball, 2.4ms\n",
      "Speed: 4.5ms preprocess, 2.4ms inference, 0.5ms postprocess per image at shape (1, 3, 1088, 1920)\n",
      "\n",
      "image 1/1 /datasets/tdt4265/other/rbk/1_train-val_1min_aalesund_from_start/img1/000420.jpg: 1088x1920 22 players, 2.4ms\n",
      "\n",
      "image 1/1 /datasets/tdt4265/other/rbk/1_train-val_1min_aalesund_from_start/img1/000420.jpg: 1088x1920 1 ball, 2.6ms\n",
      "Speed: 3.2ms preprocess, 2.4ms inference, 0.5ms postprocess per image at shape (1, 3, 1088, 1920)\n",
      "\n",
      "image 1/1 /datasets/tdt4265/other/rbk/1_train-val_1min_aalesund_from_start/img1/000421.jpg: 1088x1920 22 players, 2.5ms\n",
      "\n",
      "image 1/1 /datasets/tdt4265/other/rbk/1_train-val_1min_aalesund_from_start/img1/000421.jpg: 1088x1920 1 ball, 2.4ms\n",
      "Speed: 4.5ms preprocess, 2.5ms inference, 0.8ms postprocess per image at shape (1, 3, 1088, 1920)\n",
      "\n",
      "image 1/1 /datasets/tdt4265/other/rbk/1_train-val_1min_aalesund_from_start/img1/000422.jpg: 1088x1920 22 players, 2.5ms\n",
      "\n",
      "image 1/1 /datasets/tdt4265/other/rbk/1_train-val_1min_aalesund_from_start/img1/000422.jpg: 1088x1920 1 ball, 2.4ms\n",
      "Speed: 3.0ms preprocess, 2.5ms inference, 0.9ms postprocess per image at shape (1, 3, 1088, 1920)\n",
      "\n",
      "image 1/1 /datasets/tdt4265/other/rbk/1_train-val_1min_aalesund_from_start/img1/000423.jpg: 1088x1920 22 players, 2.4ms\n",
      "\n",
      "image 1/1 /datasets/tdt4265/other/rbk/1_train-val_1min_aalesund_from_start/img1/000423.jpg: 1088x1920 1 ball, 2.3ms\n",
      "Speed: 4.3ms preprocess, 2.4ms inference, 0.5ms postprocess per image at shape (1, 3, 1088, 1920)\n",
      "\n",
      "image 1/1 /datasets/tdt4265/other/rbk/1_train-val_1min_aalesund_from_start/img1/000424.jpg: 1088x1920 22 players, 2.4ms\n",
      "\n",
      "image 1/1 /datasets/tdt4265/other/rbk/1_train-val_1min_aalesund_from_start/img1/000424.jpg: 1088x1920 1 ball, 2.3ms\n",
      "Speed: 2.4ms preprocess, 2.4ms inference, 1.1ms postprocess per image at shape (1, 3, 1088, 1920)\n",
      "\n",
      "image 1/1 /datasets/tdt4265/other/rbk/1_train-val_1min_aalesund_from_start/img1/000425.jpg: 1088x1920 22 players, 2.5ms\n",
      "\n",
      "image 1/1 /datasets/tdt4265/other/rbk/1_train-val_1min_aalesund_from_start/img1/000425.jpg: 1088x1920 1 ball, 2.3ms\n",
      "Speed: 4.6ms preprocess, 2.5ms inference, 0.5ms postprocess per image at shape (1, 3, 1088, 1920)\n",
      "\n",
      "image 1/1 /datasets/tdt4265/other/rbk/1_train-val_1min_aalesund_from_start/img1/000426.jpg: 1088x1920 22 players, 2.5ms\n",
      "\n",
      "image 1/1 /datasets/tdt4265/other/rbk/1_train-val_1min_aalesund_from_start/img1/000426.jpg: 1088x1920 1 ball, 2.3ms\n",
      "Speed: 3.1ms preprocess, 2.5ms inference, 0.5ms postprocess per image at shape (1, 3, 1088, 1920)\n",
      "\n",
      "image 1/1 /datasets/tdt4265/other/rbk/1_train-val_1min_aalesund_from_start/img1/000427.jpg: 1088x1920 22 players, 2.4ms\n",
      "\n",
      "image 1/1 /datasets/tdt4265/other/rbk/1_train-val_1min_aalesund_from_start/img1/000427.jpg: 1088x1920 1 ball, 2.3ms\n",
      "Speed: 4.4ms preprocess, 2.4ms inference, 0.5ms postprocess per image at shape (1, 3, 1088, 1920)\n",
      "\n",
      "image 1/1 /datasets/tdt4265/other/rbk/1_train-val_1min_aalesund_from_start/img1/000428.jpg: 1088x1920 22 players, 2.4ms\n",
      "\n",
      "image 1/1 /datasets/tdt4265/other/rbk/1_train-val_1min_aalesund_from_start/img1/000428.jpg: 1088x1920 1 ball, 2.6ms\n",
      "Speed: 2.4ms preprocess, 2.4ms inference, 0.5ms postprocess per image at shape (1, 3, 1088, 1920)\n",
      "\n",
      "image 1/1 /datasets/tdt4265/other/rbk/1_train-val_1min_aalesund_from_start/img1/000429.jpg: 1088x1920 22 players, 2.4ms\n",
      "\n",
      "image 1/1 /datasets/tdt4265/other/rbk/1_train-val_1min_aalesund_from_start/img1/000429.jpg: 1088x1920 1 ball, 2.4ms\n",
      "Speed: 4.4ms preprocess, 2.4ms inference, 0.5ms postprocess per image at shape (1, 3, 1088, 1920)\n",
      "\n",
      "image 1/1 /datasets/tdt4265/other/rbk/1_train-val_1min_aalesund_from_start/img1/000430.jpg: 1088x1920 22 players, 2.6ms\n",
      "\n",
      "image 1/1 /datasets/tdt4265/other/rbk/1_train-val_1min_aalesund_from_start/img1/000430.jpg: 1088x1920 1 ball, 2.6ms\n",
      "Speed: 3.2ms preprocess, 2.6ms inference, 0.5ms postprocess per image at shape (1, 3, 1088, 1920)\n",
      "\n",
      "image 1/1 /datasets/tdt4265/other/rbk/1_train-val_1min_aalesund_from_start/img1/000431.jpg: 1088x1920 22 players, 2.4ms\n",
      "\n",
      "image 1/1 /datasets/tdt4265/other/rbk/1_train-val_1min_aalesund_from_start/img1/000431.jpg: 1088x1920 1 ball, 2.5ms\n",
      "Speed: 5.1ms preprocess, 2.4ms inference, 0.6ms postprocess per image at shape (1, 3, 1088, 1920)\n",
      "\n",
      "image 1/1 /datasets/tdt4265/other/rbk/1_train-val_1min_aalesund_from_start/img1/000432.jpg: 1088x1920 22 players, 2.4ms\n",
      "\n",
      "image 1/1 /datasets/tdt4265/other/rbk/1_train-val_1min_aalesund_from_start/img1/000432.jpg: 1088x1920 1 ball, 2.5ms\n",
      "Speed: 3.1ms preprocess, 2.4ms inference, 0.6ms postprocess per image at shape (1, 3, 1088, 1920)\n",
      "\n",
      "image 1/1 /datasets/tdt4265/other/rbk/1_train-val_1min_aalesund_from_start/img1/000433.jpg: 1088x1920 23 players, 2.4ms\n",
      "\n",
      "image 1/1 /datasets/tdt4265/other/rbk/1_train-val_1min_aalesund_from_start/img1/000433.jpg: 1088x1920 1 ball, 2.3ms\n",
      "Speed: 4.3ms preprocess, 2.4ms inference, 0.8ms postprocess per image at shape (1, 3, 1088, 1920)\n",
      "\n",
      "image 1/1 /datasets/tdt4265/other/rbk/1_train-val_1min_aalesund_from_start/img1/000434.jpg: 1088x1920 23 players, 2.4ms\n",
      "\n",
      "image 1/1 /datasets/tdt4265/other/rbk/1_train-val_1min_aalesund_from_start/img1/000434.jpg: 1088x1920 1 ball, 2.4ms\n",
      "Speed: 2.4ms preprocess, 2.4ms inference, 0.7ms postprocess per image at shape (1, 3, 1088, 1920)\n",
      "\n",
      "image 1/1 /datasets/tdt4265/other/rbk/1_train-val_1min_aalesund_from_start/img1/000435.jpg: 1088x1920 23 players, 2.6ms\n",
      "\n",
      "image 1/1 /datasets/tdt4265/other/rbk/1_train-val_1min_aalesund_from_start/img1/000435.jpg: 1088x1920 1 ball, 2.3ms\n",
      "Speed: 4.5ms preprocess, 2.6ms inference, 0.5ms postprocess per image at shape (1, 3, 1088, 1920)\n",
      "\n",
      "image 1/1 /datasets/tdt4265/other/rbk/1_train-val_1min_aalesund_from_start/img1/000436.jpg: 1088x1920 23 players, 2.4ms\n",
      "\n",
      "image 1/1 /datasets/tdt4265/other/rbk/1_train-val_1min_aalesund_from_start/img1/000436.jpg: 1088x1920 1 ball, 2.4ms\n",
      "Speed: 3.0ms preprocess, 2.4ms inference, 0.8ms postprocess per image at shape (1, 3, 1088, 1920)\n",
      "\n",
      "image 1/1 /datasets/tdt4265/other/rbk/1_train-val_1min_aalesund_from_start/img1/000437.jpg: 1088x1920 23 players, 2.5ms\n",
      "\n",
      "image 1/1 /datasets/tdt4265/other/rbk/1_train-val_1min_aalesund_from_start/img1/000437.jpg: 1088x1920 1 ball, 2.3ms\n",
      "Speed: 5.1ms preprocess, 2.5ms inference, 0.8ms postprocess per image at shape (1, 3, 1088, 1920)\n",
      "\n",
      "image 1/1 /datasets/tdt4265/other/rbk/1_train-val_1min_aalesund_from_start/img1/000438.jpg: 1088x1920 23 players, 2.4ms\n",
      "\n",
      "image 1/1 /datasets/tdt4265/other/rbk/1_train-val_1min_aalesund_from_start/img1/000438.jpg: 1088x1920 1 ball, 2.5ms\n",
      "Speed: 3.1ms preprocess, 2.4ms inference, 0.5ms postprocess per image at shape (1, 3, 1088, 1920)\n",
      "\n",
      "image 1/1 /datasets/tdt4265/other/rbk/1_train-val_1min_aalesund_from_start/img1/000439.jpg: 1088x1920 23 players, 2.4ms\n",
      "\n",
      "image 1/1 /datasets/tdt4265/other/rbk/1_train-val_1min_aalesund_from_start/img1/000439.jpg: 1088x1920 1 ball, 2.3ms\n",
      "Speed: 4.3ms preprocess, 2.4ms inference, 0.8ms postprocess per image at shape (1, 3, 1088, 1920)\n",
      "\n",
      "image 1/1 /datasets/tdt4265/other/rbk/1_train-val_1min_aalesund_from_start/img1/000440.jpg: 1088x1920 23 players, 3.2ms\n",
      "\n",
      "image 1/1 /datasets/tdt4265/other/rbk/1_train-val_1min_aalesund_from_start/img1/000440.jpg: 1088x1920 1 ball, 2.4ms\n",
      "Speed: 3.6ms preprocess, 3.2ms inference, 0.8ms postprocess per image at shape (1, 3, 1088, 1920)\n",
      "\n",
      "image 1/1 /datasets/tdt4265/other/rbk/1_train-val_1min_aalesund_from_start/img1/000441.jpg: 1088x1920 22 players, 2.8ms\n",
      "\n",
      "image 1/1 /datasets/tdt4265/other/rbk/1_train-val_1min_aalesund_from_start/img1/000441.jpg: 1088x1920 1 ball, 2.3ms\n",
      "Speed: 4.4ms preprocess, 2.8ms inference, 0.5ms postprocess per image at shape (1, 3, 1088, 1920)\n",
      "\n",
      "image 1/1 /datasets/tdt4265/other/rbk/1_train-val_1min_aalesund_from_start/img1/000442.jpg: 1088x1920 22 players, 2.6ms\n",
      "\n",
      "image 1/1 /datasets/tdt4265/other/rbk/1_train-val_1min_aalesund_from_start/img1/000442.jpg: 1088x1920 1 ball, 2.3ms\n",
      "Speed: 3.0ms preprocess, 2.6ms inference, 0.7ms postprocess per image at shape (1, 3, 1088, 1920)\n",
      "\n",
      "image 1/1 /datasets/tdt4265/other/rbk/1_train-val_1min_aalesund_from_start/img1/000443.jpg: 1088x1920 22 players, 2.6ms\n",
      "\n",
      "image 1/1 /datasets/tdt4265/other/rbk/1_train-val_1min_aalesund_from_start/img1/000443.jpg: 1088x1920 1 ball, 2.6ms\n",
      "Speed: 4.3ms preprocess, 2.6ms inference, 0.5ms postprocess per image at shape (1, 3, 1088, 1920)\n",
      "\n",
      "image 1/1 /datasets/tdt4265/other/rbk/1_train-val_1min_aalesund_from_start/img1/000444.jpg: 1088x1920 22 players, 2.6ms\n",
      "\n",
      "image 1/1 /datasets/tdt4265/other/rbk/1_train-val_1min_aalesund_from_start/img1/000444.jpg: 1088x1920 1 ball, 2.4ms\n",
      "Speed: 2.4ms preprocess, 2.6ms inference, 0.5ms postprocess per image at shape (1, 3, 1088, 1920)\n",
      "\n",
      "image 1/1 /datasets/tdt4265/other/rbk/1_train-val_1min_aalesund_from_start/img1/000445.jpg: 1088x1920 22 players, 2.4ms\n",
      "\n",
      "image 1/1 /datasets/tdt4265/other/rbk/1_train-val_1min_aalesund_from_start/img1/000445.jpg: 1088x1920 1 ball, 2.6ms\n",
      "Speed: 4.4ms preprocess, 2.4ms inference, 0.5ms postprocess per image at shape (1, 3, 1088, 1920)\n",
      "\n",
      "image 1/1 /datasets/tdt4265/other/rbk/1_train-val_1min_aalesund_from_start/img1/000446.jpg: 1088x1920 22 players, 2.4ms\n",
      "\n",
      "image 1/1 /datasets/tdt4265/other/rbk/1_train-val_1min_aalesund_from_start/img1/000446.jpg: 1088x1920 1 ball, 2.3ms\n",
      "Speed: 3.1ms preprocess, 2.4ms inference, 0.6ms postprocess per image at shape (1, 3, 1088, 1920)\n",
      "\n",
      "image 1/1 /datasets/tdt4265/other/rbk/1_train-val_1min_aalesund_from_start/img1/000447.jpg: 1088x1920 22 players, 2.6ms\n",
      "\n",
      "image 1/1 /datasets/tdt4265/other/rbk/1_train-val_1min_aalesund_from_start/img1/000447.jpg: 1088x1920 1 ball, 2.6ms\n",
      "Speed: 4.4ms preprocess, 2.6ms inference, 0.5ms postprocess per image at shape (1, 3, 1088, 1920)\n",
      "\n",
      "image 1/1 /datasets/tdt4265/other/rbk/1_train-val_1min_aalesund_from_start/img1/000448.jpg: 1088x1920 22 players, 2.4ms\n",
      "\n",
      "image 1/1 /datasets/tdt4265/other/rbk/1_train-val_1min_aalesund_from_start/img1/000448.jpg: 1088x1920 1 ball, 2.6ms\n",
      "Speed: 2.3ms preprocess, 2.4ms inference, 0.7ms postprocess per image at shape (1, 3, 1088, 1920)\n",
      "\n",
      "image 1/1 /datasets/tdt4265/other/rbk/1_train-val_1min_aalesund_from_start/img1/000449.jpg: 1088x1920 22 players, 2.5ms\n",
      "\n",
      "image 1/1 /datasets/tdt4265/other/rbk/1_train-val_1min_aalesund_from_start/img1/000449.jpg: 1088x1920 1 ball, 2.4ms\n",
      "Speed: 4.5ms preprocess, 2.5ms inference, 0.5ms postprocess per image at shape (1, 3, 1088, 1920)\n",
      "\n",
      "image 1/1 /datasets/tdt4265/other/rbk/1_train-val_1min_aalesund_from_start/img1/000450.jpg: 1088x1920 22 players, 2.5ms\n",
      "\n",
      "image 1/1 /datasets/tdt4265/other/rbk/1_train-val_1min_aalesund_from_start/img1/000450.jpg: 1088x1920 1 ball, 2.3ms\n",
      "Speed: 3.2ms preprocess, 2.5ms inference, 0.5ms postprocess per image at shape (1, 3, 1088, 1920)\n",
      "\n",
      "image 1/1 /datasets/tdt4265/other/rbk/1_train-val_1min_aalesund_from_start/img1/000451.jpg: 1088x1920 22 players, 2.9ms\n",
      "\n",
      "image 1/1 /datasets/tdt4265/other/rbk/1_train-val_1min_aalesund_from_start/img1/000451.jpg: 1088x1920 1 ball, 2.4ms\n",
      "Speed: 4.5ms preprocess, 2.9ms inference, 0.6ms postprocess per image at shape (1, 3, 1088, 1920)\n",
      "\n",
      "image 1/1 /datasets/tdt4265/other/rbk/1_train-val_1min_aalesund_from_start/img1/000452.jpg: 1088x1920 22 players, 2.4ms\n",
      "\n",
      "image 1/1 /datasets/tdt4265/other/rbk/1_train-val_1min_aalesund_from_start/img1/000452.jpg: 1088x1920 1 ball, 2.4ms\n",
      "Speed: 3.2ms preprocess, 2.4ms inference, 0.5ms postprocess per image at shape (1, 3, 1088, 1920)\n",
      "\n",
      "image 1/1 /datasets/tdt4265/other/rbk/1_train-val_1min_aalesund_from_start/img1/000453.jpg: 1088x1920 22 players, 2.6ms\n",
      "\n",
      "image 1/1 /datasets/tdt4265/other/rbk/1_train-val_1min_aalesund_from_start/img1/000453.jpg: 1088x1920 1 ball, 2.3ms\n",
      "Speed: 4.4ms preprocess, 2.6ms inference, 0.8ms postprocess per image at shape (1, 3, 1088, 1920)\n",
      "\n",
      "image 1/1 /datasets/tdt4265/other/rbk/1_train-val_1min_aalesund_from_start/img1/000454.jpg: 1088x1920 22 players, 2.6ms\n",
      "\n",
      "image 1/1 /datasets/tdt4265/other/rbk/1_train-val_1min_aalesund_from_start/img1/000454.jpg: 1088x1920 1 ball, 2.4ms\n",
      "Speed: 2.2ms preprocess, 2.6ms inference, 0.7ms postprocess per image at shape (1, 3, 1088, 1920)\n",
      "\n",
      "image 1/1 /datasets/tdt4265/other/rbk/1_train-val_1min_aalesund_from_start/img1/000455.jpg: 1088x1920 22 players, 2.7ms\n",
      "\n",
      "image 1/1 /datasets/tdt4265/other/rbk/1_train-val_1min_aalesund_from_start/img1/000455.jpg: 1088x1920 1 ball, 2.3ms\n",
      "Speed: 5.3ms preprocess, 2.7ms inference, 0.5ms postprocess per image at shape (1, 3, 1088, 1920)\n",
      "\n",
      "image 1/1 /datasets/tdt4265/other/rbk/1_train-val_1min_aalesund_from_start/img1/000456.jpg: 1088x1920 22 players, 2.5ms\n",
      "\n",
      "image 1/1 /datasets/tdt4265/other/rbk/1_train-val_1min_aalesund_from_start/img1/000456.jpg: 1088x1920 1 ball, 2.3ms\n",
      "Speed: 3.1ms preprocess, 2.5ms inference, 0.5ms postprocess per image at shape (1, 3, 1088, 1920)\n",
      "\n",
      "image 1/1 /datasets/tdt4265/other/rbk/1_train-val_1min_aalesund_from_start/img1/000457.jpg: 1088x1920 22 players, 2.4ms\n",
      "\n",
      "image 1/1 /datasets/tdt4265/other/rbk/1_train-val_1min_aalesund_from_start/img1/000457.jpg: 1088x1920 1 ball, 2.3ms\n",
      "Speed: 4.4ms preprocess, 2.4ms inference, 0.6ms postprocess per image at shape (1, 3, 1088, 1920)\n",
      "\n",
      "image 1/1 /datasets/tdt4265/other/rbk/1_train-val_1min_aalesund_from_start/img1/000458.jpg: 1088x1920 22 players, 2.4ms\n",
      "\n",
      "image 1/1 /datasets/tdt4265/other/rbk/1_train-val_1min_aalesund_from_start/img1/000458.jpg: 1088x1920 1 ball, 2.3ms\n",
      "Speed: 2.3ms preprocess, 2.4ms inference, 0.6ms postprocess per image at shape (1, 3, 1088, 1920)\n",
      "\n",
      "image 1/1 /datasets/tdt4265/other/rbk/1_train-val_1min_aalesund_from_start/img1/000459.jpg: 1088x1920 22 players, 2.6ms\n",
      "\n",
      "image 1/1 /datasets/tdt4265/other/rbk/1_train-val_1min_aalesund_from_start/img1/000459.jpg: 1088x1920 1 ball, 2.8ms\n",
      "Speed: 4.5ms preprocess, 2.6ms inference, 0.5ms postprocess per image at shape (1, 3, 1088, 1920)\n",
      "\n",
      "image 1/1 /datasets/tdt4265/other/rbk/1_train-val_1min_aalesund_from_start/img1/000460.jpg: 1088x1920 22 players, 2.4ms\n",
      "\n",
      "image 1/1 /datasets/tdt4265/other/rbk/1_train-val_1min_aalesund_from_start/img1/000460.jpg: 1088x1920 1 ball, 2.6ms\n",
      "Speed: 3.2ms preprocess, 2.4ms inference, 1.1ms postprocess per image at shape (1, 3, 1088, 1920)\n",
      "\n",
      "image 1/1 /datasets/tdt4265/other/rbk/1_train-val_1min_aalesund_from_start/img1/000461.jpg: 1088x1920 22 players, 2.8ms\n",
      "\n",
      "image 1/1 /datasets/tdt4265/other/rbk/1_train-val_1min_aalesund_from_start/img1/000461.jpg: 1088x1920 1 ball, 2.7ms\n",
      "Speed: 4.0ms preprocess, 2.8ms inference, 0.7ms postprocess per image at shape (1, 3, 1088, 1920)\n",
      "\n",
      "image 1/1 /datasets/tdt4265/other/rbk/1_train-val_1min_aalesund_from_start/img1/000462.jpg: 1088x1920 22 players, 2.4ms\n",
      "\n",
      "image 1/1 /datasets/tdt4265/other/rbk/1_train-val_1min_aalesund_from_start/img1/000462.jpg: 1088x1920 1 ball, 2.6ms\n",
      "Speed: 3.3ms preprocess, 2.4ms inference, 0.5ms postprocess per image at shape (1, 3, 1088, 1920)\n",
      "\n",
      "image 1/1 /datasets/tdt4265/other/rbk/1_train-val_1min_aalesund_from_start/img1/000463.jpg: 1088x1920 22 players, 2.4ms\n",
      "\n",
      "image 1/1 /datasets/tdt4265/other/rbk/1_train-val_1min_aalesund_from_start/img1/000463.jpg: 1088x1920 1 ball, 2.6ms\n",
      "Speed: 3.3ms preprocess, 2.4ms inference, 0.7ms postprocess per image at shape (1, 3, 1088, 1920)\n",
      "\n",
      "image 1/1 /datasets/tdt4265/other/rbk/1_train-val_1min_aalesund_from_start/img1/000464.jpg: 1088x1920 22 players, 2.5ms\n",
      "\n",
      "image 1/1 /datasets/tdt4265/other/rbk/1_train-val_1min_aalesund_from_start/img1/000464.jpg: 1088x1920 1 ball, 2.8ms\n",
      "Speed: 2.5ms preprocess, 2.5ms inference, 0.6ms postprocess per image at shape (1, 3, 1088, 1920)\n",
      "\n",
      "image 1/1 /datasets/tdt4265/other/rbk/1_train-val_1min_aalesund_from_start/img1/000465.jpg: 1088x1920 22 players, 2.5ms\n",
      "\n",
      "image 1/1 /datasets/tdt4265/other/rbk/1_train-val_1min_aalesund_from_start/img1/000465.jpg: 1088x1920 1 ball, 2.9ms\n",
      "Speed: 3.2ms preprocess, 2.5ms inference, 0.5ms postprocess per image at shape (1, 3, 1088, 1920)\n",
      "\n",
      "image 1/1 /datasets/tdt4265/other/rbk/1_train-val_1min_aalesund_from_start/img1/000466.jpg: 1088x1920 22 players, 2.4ms\n",
      "\n",
      "image 1/1 /datasets/tdt4265/other/rbk/1_train-val_1min_aalesund_from_start/img1/000466.jpg: 1088x1920 1 ball, 3.2ms\n",
      "Speed: 4.4ms preprocess, 2.4ms inference, 0.5ms postprocess per image at shape (1, 3, 1088, 1920)\n",
      "\n",
      "image 1/1 /datasets/tdt4265/other/rbk/1_train-val_1min_aalesund_from_start/img1/000467.jpg: 1088x1920 22 players, 2.4ms\n",
      "\n",
      "image 1/1 /datasets/tdt4265/other/rbk/1_train-val_1min_aalesund_from_start/img1/000467.jpg: 1088x1920 1 ball, 2.5ms\n",
      "Speed: 3.0ms preprocess, 2.4ms inference, 0.6ms postprocess per image at shape (1, 3, 1088, 1920)\n",
      "\n",
      "image 1/1 /datasets/tdt4265/other/rbk/1_train-val_1min_aalesund_from_start/img1/000468.jpg: 1088x1920 22 players, 2.7ms\n",
      "\n",
      "image 1/1 /datasets/tdt4265/other/rbk/1_train-val_1min_aalesund_from_start/img1/000468.jpg: 1088x1920 1 ball, 2.7ms\n",
      "Speed: 4.3ms preprocess, 2.7ms inference, 0.5ms postprocess per image at shape (1, 3, 1088, 1920)\n",
      "\n",
      "image 1/1 /datasets/tdt4265/other/rbk/1_train-val_1min_aalesund_from_start/img1/000469.jpg: 1088x1920 22 players, 2.4ms\n",
      "\n",
      "image 1/1 /datasets/tdt4265/other/rbk/1_train-val_1min_aalesund_from_start/img1/000469.jpg: 1088x1920 1 ball, 2.4ms\n",
      "Speed: 3.3ms preprocess, 2.4ms inference, 0.5ms postprocess per image at shape (1, 3, 1088, 1920)\n",
      "\n",
      "image 1/1 /datasets/tdt4265/other/rbk/1_train-val_1min_aalesund_from_start/img1/000470.jpg: 1088x1920 22 players, 2.4ms\n",
      "\n",
      "image 1/1 /datasets/tdt4265/other/rbk/1_train-val_1min_aalesund_from_start/img1/000470.jpg: 1088x1920 1 ball, 2.6ms\n",
      "Speed: 3.3ms preprocess, 2.4ms inference, 0.8ms postprocess per image at shape (1, 3, 1088, 1920)\n",
      "\n",
      "image 1/1 /datasets/tdt4265/other/rbk/1_train-val_1min_aalesund_from_start/img1/000471.jpg: 1088x1920 22 players, 3.7ms\n",
      "\n",
      "image 1/1 /datasets/tdt4265/other/rbk/1_train-val_1min_aalesund_from_start/img1/000471.jpg: 1088x1920 1 ball, 2.4ms\n",
      "Speed: 4.0ms preprocess, 3.7ms inference, 0.7ms postprocess per image at shape (1, 3, 1088, 1920)\n",
      "\n",
      "image 1/1 /datasets/tdt4265/other/rbk/1_train-val_1min_aalesund_from_start/img1/000472.jpg: 1088x1920 22 players, 2.7ms\n",
      "\n",
      "image 1/1 /datasets/tdt4265/other/rbk/1_train-val_1min_aalesund_from_start/img1/000472.jpg: 1088x1920 1 ball, 3.1ms\n",
      "Speed: 4.3ms preprocess, 2.7ms inference, 0.5ms postprocess per image at shape (1, 3, 1088, 1920)\n",
      "\n",
      "image 1/1 /datasets/tdt4265/other/rbk/1_train-val_1min_aalesund_from_start/img1/000473.jpg: 1088x1920 22 players, 2.7ms\n",
      "\n",
      "image 1/1 /datasets/tdt4265/other/rbk/1_train-val_1min_aalesund_from_start/img1/000473.jpg: 1088x1920 1 ball, 2.5ms\n",
      "Speed: 3.3ms preprocess, 2.7ms inference, 0.7ms postprocess per image at shape (1, 3, 1088, 1920)\n",
      "\n",
      "image 1/1 /datasets/tdt4265/other/rbk/1_train-val_1min_aalesund_from_start/img1/000474.jpg: 1088x1920 22 players, 2.6ms\n",
      "\n",
      "image 1/1 /datasets/tdt4265/other/rbk/1_train-val_1min_aalesund_from_start/img1/000474.jpg: 1088x1920 1 ball, 2.3ms\n",
      "Speed: 3.3ms preprocess, 2.6ms inference, 0.5ms postprocess per image at shape (1, 3, 1088, 1920)\n",
      "\n",
      "image 1/1 /datasets/tdt4265/other/rbk/1_train-val_1min_aalesund_from_start/img1/000475.jpg: 1088x1920 22 players, 2.4ms\n",
      "\n",
      "image 1/1 /datasets/tdt4265/other/rbk/1_train-val_1min_aalesund_from_start/img1/000475.jpg: 1088x1920 1 ball, 2.6ms\n",
      "Speed: 3.3ms preprocess, 2.4ms inference, 0.5ms postprocess per image at shape (1, 3, 1088, 1920)\n",
      "\n",
      "image 1/1 /datasets/tdt4265/other/rbk/1_train-val_1min_aalesund_from_start/img1/000476.jpg: 1088x1920 22 players, 2.4ms\n",
      "\n",
      "image 1/1 /datasets/tdt4265/other/rbk/1_train-val_1min_aalesund_from_start/img1/000476.jpg: 1088x1920 1 ball, 2.6ms\n",
      "Speed: 3.3ms preprocess, 2.4ms inference, 0.7ms postprocess per image at shape (1, 3, 1088, 1920)\n",
      "\n",
      "image 1/1 /datasets/tdt4265/other/rbk/1_train-val_1min_aalesund_from_start/img1/000477.jpg: 1088x1920 22 players, 2.5ms\n",
      "\n",
      "image 1/1 /datasets/tdt4265/other/rbk/1_train-val_1min_aalesund_from_start/img1/000477.jpg: 1088x1920 1 ball, 2.8ms\n",
      "Speed: 3.3ms preprocess, 2.5ms inference, 0.5ms postprocess per image at shape (1, 3, 1088, 1920)\n",
      "\n",
      "image 1/1 /datasets/tdt4265/other/rbk/1_train-val_1min_aalesund_from_start/img1/000478.jpg: 1088x1920 22 players, 2.5ms\n",
      "\n",
      "image 1/1 /datasets/tdt4265/other/rbk/1_train-val_1min_aalesund_from_start/img1/000478.jpg: 1088x1920 1 ball, 2.6ms\n",
      "Speed: 3.3ms preprocess, 2.5ms inference, 0.6ms postprocess per image at shape (1, 3, 1088, 1920)\n",
      "\n",
      "image 1/1 /datasets/tdt4265/other/rbk/1_train-val_1min_aalesund_from_start/img1/000479.jpg: 1088x1920 22 players, 2.5ms\n",
      "\n",
      "image 1/1 /datasets/tdt4265/other/rbk/1_train-val_1min_aalesund_from_start/img1/000479.jpg: 1088x1920 1 ball, 2.3ms\n",
      "Speed: 3.2ms preprocess, 2.5ms inference, 0.5ms postprocess per image at shape (1, 3, 1088, 1920)\n",
      "\n",
      "image 1/1 /datasets/tdt4265/other/rbk/1_train-val_1min_aalesund_from_start/img1/000480.jpg: 1088x1920 22 players, 2.5ms\n",
      "\n",
      "image 1/1 /datasets/tdt4265/other/rbk/1_train-val_1min_aalesund_from_start/img1/000480.jpg: 1088x1920 1 ball, 2.3ms\n",
      "Speed: 3.2ms preprocess, 2.5ms inference, 0.5ms postprocess per image at shape (1, 3, 1088, 1920)\n",
      "\n",
      "image 1/1 /datasets/tdt4265/other/rbk/1_train-val_1min_aalesund_from_start/img1/000481.jpg: 1088x1920 22 players, 2.5ms\n",
      "\n",
      "image 1/1 /datasets/tdt4265/other/rbk/1_train-val_1min_aalesund_from_start/img1/000481.jpg: 1088x1920 1 ball, 2.3ms\n",
      "Speed: 3.3ms preprocess, 2.5ms inference, 0.6ms postprocess per image at shape (1, 3, 1088, 1920)\n",
      "\n",
      "image 1/1 /datasets/tdt4265/other/rbk/1_train-val_1min_aalesund_from_start/img1/000482.jpg: 1088x1920 22 players, 2.4ms\n",
      "\n",
      "image 1/1 /datasets/tdt4265/other/rbk/1_train-val_1min_aalesund_from_start/img1/000482.jpg: 1088x1920 1 ball, 2.3ms\n",
      "Speed: 3.3ms preprocess, 2.4ms inference, 0.5ms postprocess per image at shape (1, 3, 1088, 1920)\n",
      "\n",
      "image 1/1 /datasets/tdt4265/other/rbk/1_train-val_1min_aalesund_from_start/img1/000483.jpg: 1088x1920 22 players, 2.5ms\n",
      "\n",
      "image 1/1 /datasets/tdt4265/other/rbk/1_train-val_1min_aalesund_from_start/img1/000483.jpg: 1088x1920 1 ball, 2.3ms\n",
      "Speed: 3.2ms preprocess, 2.5ms inference, 0.5ms postprocess per image at shape (1, 3, 1088, 1920)\n",
      "\n",
      "image 1/1 /datasets/tdt4265/other/rbk/1_train-val_1min_aalesund_from_start/img1/000484.jpg: 1088x1920 22 players, 2.4ms\n",
      "\n",
      "image 1/1 /datasets/tdt4265/other/rbk/1_train-val_1min_aalesund_from_start/img1/000484.jpg: 1088x1920 1 ball, 2.6ms\n",
      "Speed: 3.3ms preprocess, 2.4ms inference, 0.5ms postprocess per image at shape (1, 3, 1088, 1920)\n",
      "\n",
      "image 1/1 /datasets/tdt4265/other/rbk/1_train-val_1min_aalesund_from_start/img1/000485.jpg: 1088x1920 22 players, 2.4ms\n",
      "\n",
      "image 1/1 /datasets/tdt4265/other/rbk/1_train-val_1min_aalesund_from_start/img1/000485.jpg: 1088x1920 1 ball, 2.4ms\n",
      "Speed: 3.3ms preprocess, 2.4ms inference, 0.5ms postprocess per image at shape (1, 3, 1088, 1920)\n",
      "\n",
      "image 1/1 /datasets/tdt4265/other/rbk/1_train-val_1min_aalesund_from_start/img1/000486.jpg: 1088x1920 22 players, 2.4ms\n",
      "\n",
      "image 1/1 /datasets/tdt4265/other/rbk/1_train-val_1min_aalesund_from_start/img1/000486.jpg: 1088x1920 1 ball, 2.5ms\n",
      "Speed: 3.3ms preprocess, 2.4ms inference, 0.5ms postprocess per image at shape (1, 3, 1088, 1920)\n",
      "\n",
      "image 1/1 /datasets/tdt4265/other/rbk/1_train-val_1min_aalesund_from_start/img1/000487.jpg: 1088x1920 22 players, 2.4ms\n",
      "\n",
      "image 1/1 /datasets/tdt4265/other/rbk/1_train-val_1min_aalesund_from_start/img1/000487.jpg: 1088x1920 1 ball, 2.5ms\n",
      "Speed: 3.2ms preprocess, 2.4ms inference, 0.5ms postprocess per image at shape (1, 3, 1088, 1920)\n",
      "\n",
      "image 1/1 /datasets/tdt4265/other/rbk/1_train-val_1min_aalesund_from_start/img1/000488.jpg: 1088x1920 22 players, 2.4ms\n",
      "\n",
      "image 1/1 /datasets/tdt4265/other/rbk/1_train-val_1min_aalesund_from_start/img1/000488.jpg: 1088x1920 1 ball, 2.5ms\n",
      "Speed: 3.3ms preprocess, 2.4ms inference, 0.5ms postprocess per image at shape (1, 3, 1088, 1920)\n",
      "\n",
      "image 1/1 /datasets/tdt4265/other/rbk/1_train-val_1min_aalesund_from_start/img1/000489.jpg: 1088x1920 22 players, 2.4ms\n",
      "\n",
      "image 1/1 /datasets/tdt4265/other/rbk/1_train-val_1min_aalesund_from_start/img1/000489.jpg: 1088x1920 1 ball, 2.5ms\n",
      "Speed: 3.3ms preprocess, 2.4ms inference, 0.6ms postprocess per image at shape (1, 3, 1088, 1920)\n",
      "\n",
      "image 1/1 /datasets/tdt4265/other/rbk/1_train-val_1min_aalesund_from_start/img1/000490.jpg: 1088x1920 22 players, 2.5ms\n",
      "\n",
      "image 1/1 /datasets/tdt4265/other/rbk/1_train-val_1min_aalesund_from_start/img1/000490.jpg: 1088x1920 1 ball, 2.6ms\n",
      "Speed: 3.3ms preprocess, 2.5ms inference, 0.5ms postprocess per image at shape (1, 3, 1088, 1920)\n",
      "\n",
      "image 1/1 /datasets/tdt4265/other/rbk/1_train-val_1min_aalesund_from_start/img1/000491.jpg: 1088x1920 22 players, 2.4ms\n",
      "\n",
      "image 1/1 /datasets/tdt4265/other/rbk/1_train-val_1min_aalesund_from_start/img1/000491.jpg: 1088x1920 1 ball, 2.5ms\n",
      "Speed: 2.4ms preprocess, 2.4ms inference, 0.6ms postprocess per image at shape (1, 3, 1088, 1920)\n",
      "\n",
      "image 1/1 /datasets/tdt4265/other/rbk/1_train-val_1min_aalesund_from_start/img1/000492.jpg: 1088x1920 22 players, 2.7ms\n",
      "\n",
      "image 1/1 /datasets/tdt4265/other/rbk/1_train-val_1min_aalesund_from_start/img1/000492.jpg: 1088x1920 1 ball, 2.6ms\n",
      "Speed: 5.4ms preprocess, 2.7ms inference, 0.6ms postprocess per image at shape (1, 3, 1088, 1920)\n",
      "\n",
      "image 1/1 /datasets/tdt4265/other/rbk/1_train-val_1min_aalesund_from_start/img1/000493.jpg: 1088x1920 22 players, 2.3ms\n",
      "\n",
      "image 1/1 /datasets/tdt4265/other/rbk/1_train-val_1min_aalesund_from_start/img1/000493.jpg: 1088x1920 1 ball, 2.8ms\n",
      "Speed: 2.3ms preprocess, 2.3ms inference, 0.6ms postprocess per image at shape (1, 3, 1088, 1920)\n",
      "\n",
      "image 1/1 /datasets/tdt4265/other/rbk/1_train-val_1min_aalesund_from_start/img1/000494.jpg: 1088x1920 22 players, 2.4ms\n",
      "\n",
      "image 1/1 /datasets/tdt4265/other/rbk/1_train-val_1min_aalesund_from_start/img1/000494.jpg: 1088x1920 1 ball, 2.3ms\n",
      "Speed: 4.4ms preprocess, 2.4ms inference, 0.5ms postprocess per image at shape (1, 3, 1088, 1920)\n",
      "\n",
      "image 1/1 /datasets/tdt4265/other/rbk/1_train-val_1min_aalesund_from_start/img1/000495.jpg: 1088x1920 22 players, 2.5ms\n",
      "\n",
      "image 1/1 /datasets/tdt4265/other/rbk/1_train-val_1min_aalesund_from_start/img1/000495.jpg: 1088x1920 1 ball, 2.3ms\n",
      "Speed: 3.3ms preprocess, 2.5ms inference, 0.6ms postprocess per image at shape (1, 3, 1088, 1920)\n",
      "\n",
      "image 1/1 /datasets/tdt4265/other/rbk/1_train-val_1min_aalesund_from_start/img1/000496.jpg: 1088x1920 22 players, 2.6ms\n",
      "\n",
      "image 1/1 /datasets/tdt4265/other/rbk/1_train-val_1min_aalesund_from_start/img1/000496.jpg: 1088x1920 1 ball, 2.4ms\n",
      "Speed: 4.5ms preprocess, 2.6ms inference, 0.5ms postprocess per image at shape (1, 3, 1088, 1920)\n",
      "\n",
      "image 1/1 /datasets/tdt4265/other/rbk/1_train-val_1min_aalesund_from_start/img1/000497.jpg: 1088x1920 22 players, 2.6ms\n",
      "\n",
      "image 1/1 /datasets/tdt4265/other/rbk/1_train-val_1min_aalesund_from_start/img1/000497.jpg: 1088x1920 1 ball, 2.4ms\n",
      "Speed: 3.2ms preprocess, 2.6ms inference, 0.5ms postprocess per image at shape (1, 3, 1088, 1920)\n",
      "\n",
      "image 1/1 /datasets/tdt4265/other/rbk/1_train-val_1min_aalesund_from_start/img1/000498.jpg: 1088x1920 22 players, 2.6ms\n",
      "\n",
      "image 1/1 /datasets/tdt4265/other/rbk/1_train-val_1min_aalesund_from_start/img1/000498.jpg: 1088x1920 1 ball, 2.7ms\n",
      "Speed: 4.3ms preprocess, 2.6ms inference, 0.7ms postprocess per image at shape (1, 3, 1088, 1920)\n",
      "\n",
      "image 1/1 /datasets/tdt4265/other/rbk/1_train-val_1min_aalesund_from_start/img1/000499.jpg: 1088x1920 22 players, 2.4ms\n",
      "\n",
      "image 1/1 /datasets/tdt4265/other/rbk/1_train-val_1min_aalesund_from_start/img1/000499.jpg: 1088x1920 1 ball, 2.7ms\n",
      "Speed: 2.4ms preprocess, 2.4ms inference, 0.7ms postprocess per image at shape (1, 3, 1088, 1920)\n",
      "\n",
      "image 1/1 /datasets/tdt4265/other/rbk/1_train-val_1min_aalesund_from_start/img1/000500.jpg: 1088x1920 22 players, 2.4ms\n",
      "\n",
      "image 1/1 /datasets/tdt4265/other/rbk/1_train-val_1min_aalesund_from_start/img1/000500.jpg: 1088x1920 1 ball, 2.5ms\n",
      "Speed: 4.5ms preprocess, 2.4ms inference, 0.5ms postprocess per image at shape (1, 3, 1088, 1920)\n",
      "\n",
      "image 1/1 /datasets/tdt4265/other/rbk/1_train-val_1min_aalesund_from_start/img1/000501.jpg: 1088x1920 22 players, 2.4ms\n",
      "\n",
      "image 1/1 /datasets/tdt4265/other/rbk/1_train-val_1min_aalesund_from_start/img1/000501.jpg: 1088x1920 1 ball, 2.6ms\n",
      "Speed: 3.1ms preprocess, 2.4ms inference, 0.5ms postprocess per image at shape (1, 3, 1088, 1920)\n",
      "\n",
      "image 1/1 /datasets/tdt4265/other/rbk/1_train-val_1min_aalesund_from_start/img1/000502.jpg: 1088x1920 22 players, 2.4ms\n",
      "\n",
      "image 1/1 /datasets/tdt4265/other/rbk/1_train-val_1min_aalesund_from_start/img1/000502.jpg: 1088x1920 1 ball, 2.6ms\n",
      "Speed: 4.4ms preprocess, 2.4ms inference, 0.5ms postprocess per image at shape (1, 3, 1088, 1920)\n",
      "\n",
      "image 1/1 /datasets/tdt4265/other/rbk/1_train-val_1min_aalesund_from_start/img1/000503.jpg: 1088x1920 22 players, 2.4ms\n",
      "\n",
      "image 1/1 /datasets/tdt4265/other/rbk/1_train-val_1min_aalesund_from_start/img1/000503.jpg: 1088x1920 1 ball, 2.4ms\n",
      "Speed: 3.1ms preprocess, 2.4ms inference, 0.8ms postprocess per image at shape (1, 3, 1088, 1920)\n",
      "\n",
      "image 1/1 /datasets/tdt4265/other/rbk/1_train-val_1min_aalesund_from_start/img1/000504.jpg: 1088x1920 22 players, 2.6ms\n",
      "\n",
      "image 1/1 /datasets/tdt4265/other/rbk/1_train-val_1min_aalesund_from_start/img1/000504.jpg: 1088x1920 1 ball, 2.7ms\n",
      "Speed: 4.4ms preprocess, 2.6ms inference, 0.5ms postprocess per image at shape (1, 3, 1088, 1920)\n",
      "\n",
      "image 1/1 /datasets/tdt4265/other/rbk/1_train-val_1min_aalesund_from_start/img1/000505.jpg: 1088x1920 22 players, 2.4ms\n",
      "\n",
      "image 1/1 /datasets/tdt4265/other/rbk/1_train-val_1min_aalesund_from_start/img1/000505.jpg: 1088x1920 1 ball, 2.4ms\n",
      "Speed: 3.3ms preprocess, 2.4ms inference, 1.0ms postprocess per image at shape (1, 3, 1088, 1920)\n",
      "\n",
      "image 1/1 /datasets/tdt4265/other/rbk/1_train-val_1min_aalesund_from_start/img1/000506.jpg: 1088x1920 22 players, 2.5ms\n",
      "\n",
      "image 1/1 /datasets/tdt4265/other/rbk/1_train-val_1min_aalesund_from_start/img1/000506.jpg: 1088x1920 1 ball, 2.6ms\n",
      "Speed: 4.5ms preprocess, 2.5ms inference, 0.5ms postprocess per image at shape (1, 3, 1088, 1920)\n",
      "\n",
      "image 1/1 /datasets/tdt4265/other/rbk/1_train-val_1min_aalesund_from_start/img1/000507.jpg: 1088x1920 22 players, 2.6ms\n",
      "\n",
      "image 1/1 /datasets/tdt4265/other/rbk/1_train-val_1min_aalesund_from_start/img1/000507.jpg: 1088x1920 1 ball, 2.6ms\n",
      "Speed: 3.1ms preprocess, 2.6ms inference, 0.5ms postprocess per image at shape (1, 3, 1088, 1920)\n",
      "\n",
      "image 1/1 /datasets/tdt4265/other/rbk/1_train-val_1min_aalesund_from_start/img1/000508.jpg: 1088x1920 22 players, 2.5ms\n",
      "\n",
      "image 1/1 /datasets/tdt4265/other/rbk/1_train-val_1min_aalesund_from_start/img1/000508.jpg: 1088x1920 1 ball, 2.4ms\n",
      "Speed: 4.4ms preprocess, 2.5ms inference, 0.5ms postprocess per image at shape (1, 3, 1088, 1920)\n",
      "\n",
      "image 1/1 /datasets/tdt4265/other/rbk/1_train-val_1min_aalesund_from_start/img1/000509.jpg: 1088x1920 22 players, 2.4ms\n",
      "\n",
      "image 1/1 /datasets/tdt4265/other/rbk/1_train-val_1min_aalesund_from_start/img1/000509.jpg: 1088x1920 1 ball, 2.6ms\n",
      "Speed: 2.4ms preprocess, 2.4ms inference, 0.5ms postprocess per image at shape (1, 3, 1088, 1920)\n",
      "\n",
      "image 1/1 /datasets/tdt4265/other/rbk/1_train-val_1min_aalesund_from_start/img1/000510.jpg: 1088x1920 22 players, 2.4ms\n",
      "\n",
      "image 1/1 /datasets/tdt4265/other/rbk/1_train-val_1min_aalesund_from_start/img1/000510.jpg: 1088x1920 1 ball, 2.4ms\n",
      "Speed: 4.5ms preprocess, 2.4ms inference, 0.6ms postprocess per image at shape (1, 3, 1088, 1920)\n",
      "\n",
      "image 1/1 /datasets/tdt4265/other/rbk/1_train-val_1min_aalesund_from_start/img1/000511.jpg: 1088x1920 22 players, 2.6ms\n",
      "\n",
      "image 1/1 /datasets/tdt4265/other/rbk/1_train-val_1min_aalesund_from_start/img1/000511.jpg: 1088x1920 1 ball, 2.4ms\n",
      "Speed: 3.1ms preprocess, 2.6ms inference, 0.5ms postprocess per image at shape (1, 3, 1088, 1920)\n",
      "\n",
      "image 1/1 /datasets/tdt4265/other/rbk/1_train-val_1min_aalesund_from_start/img1/000512.jpg: 1088x1920 22 players, 2.8ms\n",
      "\n",
      "image 1/1 /datasets/tdt4265/other/rbk/1_train-val_1min_aalesund_from_start/img1/000512.jpg: 1088x1920 1 ball, 2.5ms\n",
      "Speed: 4.6ms preprocess, 2.8ms inference, 1.1ms postprocess per image at shape (1, 3, 1088, 1920)\n",
      "\n",
      "image 1/1 /datasets/tdt4265/other/rbk/1_train-val_1min_aalesund_from_start/img1/000513.jpg: 1088x1920 22 players, 3.0ms\n",
      "\n",
      "image 1/1 /datasets/tdt4265/other/rbk/1_train-val_1min_aalesund_from_start/img1/000513.jpg: 1088x1920 1 ball, 2.6ms\n",
      "Speed: 3.7ms preprocess, 3.0ms inference, 0.7ms postprocess per image at shape (1, 3, 1088, 1920)\n",
      "\n",
      "image 1/1 /datasets/tdt4265/other/rbk/1_train-val_1min_aalesund_from_start/img1/000514.jpg: 1088x1920 22 players, 2.4ms\n",
      "\n",
      "image 1/1 /datasets/tdt4265/other/rbk/1_train-val_1min_aalesund_from_start/img1/000514.jpg: 1088x1920 1 ball, 2.7ms\n",
      "Speed: 4.4ms preprocess, 2.4ms inference, 0.6ms postprocess per image at shape (1, 3, 1088, 1920)\n",
      "\n",
      "image 1/1 /datasets/tdt4265/other/rbk/1_train-val_1min_aalesund_from_start/img1/000515.jpg: 1088x1920 22 players, 2.6ms\n",
      "\n",
      "image 1/1 /datasets/tdt4265/other/rbk/1_train-val_1min_aalesund_from_start/img1/000515.jpg: 1088x1920 1 ball, 2.5ms\n",
      "Speed: 3.3ms preprocess, 2.6ms inference, 0.7ms postprocess per image at shape (1, 3, 1088, 1920)\n",
      "\n",
      "image 1/1 /datasets/tdt4265/other/rbk/1_train-val_1min_aalesund_from_start/img1/000516.jpg: 1088x1920 22 players, 2.4ms\n",
      "\n",
      "image 1/1 /datasets/tdt4265/other/rbk/1_train-val_1min_aalesund_from_start/img1/000516.jpg: 1088x1920 1 ball, 2.6ms\n",
      "Speed: 4.5ms preprocess, 2.4ms inference, 0.5ms postprocess per image at shape (1, 3, 1088, 1920)\n",
      "\n",
      "image 1/1 /datasets/tdt4265/other/rbk/1_train-val_1min_aalesund_from_start/img1/000517.jpg: 1088x1920 22 players, 2.4ms\n",
      "\n",
      "image 1/1 /datasets/tdt4265/other/rbk/1_train-val_1min_aalesund_from_start/img1/000517.jpg: 1088x1920 1 ball, 2.4ms\n",
      "Speed: 3.1ms preprocess, 2.4ms inference, 0.5ms postprocess per image at shape (1, 3, 1088, 1920)\n",
      "\n",
      "image 1/1 /datasets/tdt4265/other/rbk/1_train-val_1min_aalesund_from_start/img1/000518.jpg: 1088x1920 22 players, 2.7ms\n",
      "\n",
      "image 1/1 /datasets/tdt4265/other/rbk/1_train-val_1min_aalesund_from_start/img1/000518.jpg: 1088x1920 1 ball, 2.3ms\n",
      "Speed: 5.3ms preprocess, 2.7ms inference, 0.7ms postprocess per image at shape (1, 3, 1088, 1920)\n",
      "\n",
      "image 1/1 /datasets/tdt4265/other/rbk/1_train-val_1min_aalesund_from_start/img1/000519.jpg: 1088x1920 22 players, 2.8ms\n",
      "\n",
      "image 1/1 /datasets/tdt4265/other/rbk/1_train-val_1min_aalesund_from_start/img1/000519.jpg: 1088x1920 1 ball, 2.3ms\n",
      "Speed: 3.4ms preprocess, 2.8ms inference, 0.6ms postprocess per image at shape (1, 3, 1088, 1920)\n",
      "\n",
      "image 1/1 /datasets/tdt4265/other/rbk/1_train-val_1min_aalesund_from_start/img1/000520.jpg: 1088x1920 22 players, 2.5ms\n",
      "\n",
      "image 1/1 /datasets/tdt4265/other/rbk/1_train-val_1min_aalesund_from_start/img1/000520.jpg: 1088x1920 1 ball, 2.4ms\n",
      "Speed: 4.4ms preprocess, 2.5ms inference, 0.5ms postprocess per image at shape (1, 3, 1088, 1920)\n",
      "\n",
      "image 1/1 /datasets/tdt4265/other/rbk/1_train-val_1min_aalesund_from_start/img1/000521.jpg: 1088x1920 22 players, 2.4ms\n",
      "\n",
      "image 1/1 /datasets/tdt4265/other/rbk/1_train-val_1min_aalesund_from_start/img1/000521.jpg: 1088x1920 1 ball, 2.3ms\n",
      "Speed: 3.2ms preprocess, 2.4ms inference, 0.5ms postprocess per image at shape (1, 3, 1088, 1920)\n",
      "\n",
      "image 1/1 /datasets/tdt4265/other/rbk/1_train-val_1min_aalesund_from_start/img1/000522.jpg: 1088x1920 22 players, 2.4ms\n",
      "\n",
      "image 1/1 /datasets/tdt4265/other/rbk/1_train-val_1min_aalesund_from_start/img1/000522.jpg: 1088x1920 1 ball, 2.7ms\n",
      "Speed: 4.5ms preprocess, 2.4ms inference, 0.5ms postprocess per image at shape (1, 3, 1088, 1920)\n",
      "\n",
      "image 1/1 /datasets/tdt4265/other/rbk/1_train-val_1min_aalesund_from_start/img1/000523.jpg: 1088x1920 22 players, 3.1ms\n",
      "\n",
      "image 1/1 /datasets/tdt4265/other/rbk/1_train-val_1min_aalesund_from_start/img1/000523.jpg: 1088x1920 1 ball, 2.6ms\n",
      "Speed: 3.0ms preprocess, 3.1ms inference, 0.8ms postprocess per image at shape (1, 3, 1088, 1920)\n",
      "\n",
      "image 1/1 /datasets/tdt4265/other/rbk/1_train-val_1min_aalesund_from_start/img1/000524.jpg: 1088x1920 22 players, 2.5ms\n",
      "\n",
      "image 1/1 /datasets/tdt4265/other/rbk/1_train-val_1min_aalesund_from_start/img1/000524.jpg: 1088x1920 1 ball, 2.3ms\n",
      "Speed: 4.4ms preprocess, 2.5ms inference, 0.5ms postprocess per image at shape (1, 3, 1088, 1920)\n",
      "\n",
      "image 1/1 /datasets/tdt4265/other/rbk/1_train-val_1min_aalesund_from_start/img1/000525.jpg: 1088x1920 22 players, 2.4ms\n",
      "\n",
      "image 1/1 /datasets/tdt4265/other/rbk/1_train-val_1min_aalesund_from_start/img1/000525.jpg: 1088x1920 1 ball, 2.3ms\n",
      "Speed: 3.2ms preprocess, 2.4ms inference, 0.5ms postprocess per image at shape (1, 3, 1088, 1920)\n",
      "\n",
      "image 1/1 /datasets/tdt4265/other/rbk/1_train-val_1min_aalesund_from_start/img1/000526.jpg: 1088x1920 22 players, 2.4ms\n",
      "\n",
      "image 1/1 /datasets/tdt4265/other/rbk/1_train-val_1min_aalesund_from_start/img1/000526.jpg: 1088x1920 1 ball, 2.3ms\n",
      "Speed: 4.5ms preprocess, 2.4ms inference, 0.5ms postprocess per image at shape (1, 3, 1088, 1920)\n",
      "\n",
      "image 1/1 /datasets/tdt4265/other/rbk/1_train-val_1min_aalesund_from_start/img1/000527.jpg: 1088x1920 22 players, 2.4ms\n",
      "\n",
      "image 1/1 /datasets/tdt4265/other/rbk/1_train-val_1min_aalesund_from_start/img1/000527.jpg: 1088x1920 1 ball, 2.3ms\n",
      "Speed: 3.1ms preprocess, 2.4ms inference, 0.5ms postprocess per image at shape (1, 3, 1088, 1920)\n",
      "\n",
      "image 1/1 /datasets/tdt4265/other/rbk/1_train-val_1min_aalesund_from_start/img1/000528.jpg: 1088x1920 22 players, 3.0ms\n",
      "\n",
      "image 1/1 /datasets/tdt4265/other/rbk/1_train-val_1min_aalesund_from_start/img1/000528.jpg: 1088x1920 1 ball, 2.3ms\n",
      "Speed: 4.7ms preprocess, 3.0ms inference, 0.6ms postprocess per image at shape (1, 3, 1088, 1920)\n",
      "\n",
      "image 1/1 /datasets/tdt4265/other/rbk/1_train-val_1min_aalesund_from_start/img1/000529.jpg: 1088x1920 22 players, 2.4ms\n",
      "\n",
      "image 1/1 /datasets/tdt4265/other/rbk/1_train-val_1min_aalesund_from_start/img1/000529.jpg: 1088x1920 1 ball, 2.4ms\n",
      "Speed: 2.4ms preprocess, 2.4ms inference, 0.5ms postprocess per image at shape (1, 3, 1088, 1920)\n",
      "\n",
      "image 1/1 /datasets/tdt4265/other/rbk/1_train-val_1min_aalesund_from_start/img1/000530.jpg: 1088x1920 22 players, 2.4ms\n",
      "\n",
      "image 1/1 /datasets/tdt4265/other/rbk/1_train-val_1min_aalesund_from_start/img1/000530.jpg: 1088x1920 1 ball, 2.5ms\n",
      "Speed: 4.4ms preprocess, 2.4ms inference, 0.5ms postprocess per image at shape (1, 3, 1088, 1920)\n",
      "\n",
      "image 1/1 /datasets/tdt4265/other/rbk/1_train-val_1min_aalesund_from_start/img1/000531.jpg: 1088x1920 22 players, 2.7ms\n",
      "\n",
      "image 1/1 /datasets/tdt4265/other/rbk/1_train-val_1min_aalesund_from_start/img1/000531.jpg: 1088x1920 1 ball, 2.5ms\n",
      "Speed: 3.2ms preprocess, 2.7ms inference, 0.6ms postprocess per image at shape (1, 3, 1088, 1920)\n",
      "\n",
      "image 1/1 /datasets/tdt4265/other/rbk/1_train-val_1min_aalesund_from_start/img1/000532.jpg: 1088x1920 22 players, 2.5ms\n",
      "\n",
      "image 1/1 /datasets/tdt4265/other/rbk/1_train-val_1min_aalesund_from_start/img1/000532.jpg: 1088x1920 1 ball, 2.3ms\n",
      "Speed: 4.5ms preprocess, 2.5ms inference, 0.5ms postprocess per image at shape (1, 3, 1088, 1920)\n",
      "\n",
      "image 1/1 /datasets/tdt4265/other/rbk/1_train-val_1min_aalesund_from_start/img1/000533.jpg: 1088x1920 22 players, 2.9ms\n",
      "\n",
      "image 1/1 /datasets/tdt4265/other/rbk/1_train-val_1min_aalesund_from_start/img1/000533.jpg: 1088x1920 1 ball, 2.6ms\n",
      "Speed: 2.9ms preprocess, 2.9ms inference, 0.7ms postprocess per image at shape (1, 3, 1088, 1920)\n",
      "\n",
      "image 1/1 /datasets/tdt4265/other/rbk/1_train-val_1min_aalesund_from_start/img1/000534.jpg: 1088x1920 22 players, 2.4ms\n",
      "\n",
      "image 1/1 /datasets/tdt4265/other/rbk/1_train-val_1min_aalesund_from_start/img1/000534.jpg: 1088x1920 1 ball, 2.5ms\n",
      "Speed: 4.5ms preprocess, 2.4ms inference, 0.5ms postprocess per image at shape (1, 3, 1088, 1920)\n",
      "\n",
      "image 1/1 /datasets/tdt4265/other/rbk/1_train-val_1min_aalesund_from_start/img1/000535.jpg: 1088x1920 22 players, 2.4ms\n",
      "\n",
      "image 1/1 /datasets/tdt4265/other/rbk/1_train-val_1min_aalesund_from_start/img1/000535.jpg: 1088x1920 1 ball, 2.5ms\n",
      "Speed: 3.2ms preprocess, 2.4ms inference, 0.5ms postprocess per image at shape (1, 3, 1088, 1920)\n",
      "\n",
      "image 1/1 /datasets/tdt4265/other/rbk/1_train-val_1min_aalesund_from_start/img1/000536.jpg: 1088x1920 22 players, 2.5ms\n",
      "\n",
      "image 1/1 /datasets/tdt4265/other/rbk/1_train-val_1min_aalesund_from_start/img1/000536.jpg: 1088x1920 1 ball, 2.5ms\n",
      "Speed: 4.4ms preprocess, 2.5ms inference, 0.5ms postprocess per image at shape (1, 3, 1088, 1920)\n",
      "\n",
      "image 1/1 /datasets/tdt4265/other/rbk/1_train-val_1min_aalesund_from_start/img1/000537.jpg: 1088x1920 22 players, 2.4ms\n",
      "\n",
      "image 1/1 /datasets/tdt4265/other/rbk/1_train-val_1min_aalesund_from_start/img1/000537.jpg: 1088x1920 1 ball, 2.3ms\n",
      "Speed: 3.0ms preprocess, 2.4ms inference, 0.5ms postprocess per image at shape (1, 3, 1088, 1920)\n",
      "\n",
      "image 1/1 /datasets/tdt4265/other/rbk/1_train-val_1min_aalesund_from_start/img1/000538.jpg: 1088x1920 22 players, 2.9ms\n",
      "\n",
      "image 1/1 /datasets/tdt4265/other/rbk/1_train-val_1min_aalesund_from_start/img1/000538.jpg: 1088x1920 1 ball, 2.5ms\n",
      "Speed: 4.5ms preprocess, 2.9ms inference, 0.6ms postprocess per image at shape (1, 3, 1088, 1920)\n",
      "\n",
      "image 1/1 /datasets/tdt4265/other/rbk/1_train-val_1min_aalesund_from_start/img1/000539.jpg: 1088x1920 22 players, 2.4ms\n",
      "\n",
      "image 1/1 /datasets/tdt4265/other/rbk/1_train-val_1min_aalesund_from_start/img1/000539.jpg: 1088x1920 1 ball, 2.3ms\n",
      "Speed: 3.3ms preprocess, 2.4ms inference, 0.5ms postprocess per image at shape (1, 3, 1088, 1920)\n",
      "\n",
      "image 1/1 /datasets/tdt4265/other/rbk/1_train-val_1min_aalesund_from_start/img1/000540.jpg: 1088x1920 22 players, 2.7ms\n",
      "\n",
      "image 1/1 /datasets/tdt4265/other/rbk/1_train-val_1min_aalesund_from_start/img1/000540.jpg: 1088x1920 1 ball, 2.3ms\n",
      "Speed: 4.4ms preprocess, 2.7ms inference, 0.5ms postprocess per image at shape (1, 3, 1088, 1920)\n",
      "\n",
      "image 1/1 /datasets/tdt4265/other/rbk/1_train-val_1min_aalesund_from_start/img1/000541.jpg: 1088x1920 22 players, 2.4ms\n",
      "\n",
      "image 1/1 /datasets/tdt4265/other/rbk/1_train-val_1min_aalesund_from_start/img1/000541.jpg: 1088x1920 1 ball, 2.6ms\n",
      "Speed: 3.1ms preprocess, 2.4ms inference, 0.6ms postprocess per image at shape (1, 3, 1088, 1920)\n",
      "\n",
      "image 1/1 /datasets/tdt4265/other/rbk/1_train-val_1min_aalesund_from_start/img1/000542.jpg: 1088x1920 22 players, 2.4ms\n",
      "\n",
      "image 1/1 /datasets/tdt4265/other/rbk/1_train-val_1min_aalesund_from_start/img1/000542.jpg: 1088x1920 1 ball, 2.6ms\n",
      "Speed: 4.5ms preprocess, 2.4ms inference, 1.0ms postprocess per image at shape (1, 3, 1088, 1920)\n",
      "\n",
      "image 1/1 /datasets/tdt4265/other/rbk/1_train-val_1min_aalesund_from_start/img1/000543.jpg: 1088x1920 22 players, 2.4ms\n",
      "\n",
      "image 1/1 /datasets/tdt4265/other/rbk/1_train-val_1min_aalesund_from_start/img1/000543.jpg: 1088x1920 1 ball, 2.9ms\n",
      "Speed: 3.1ms preprocess, 2.4ms inference, 0.5ms postprocess per image at shape (1, 3, 1088, 1920)\n",
      "\n",
      "image 1/1 /datasets/tdt4265/other/rbk/1_train-val_1min_aalesund_from_start/img1/000544.jpg: 1088x1920 22 players, 2.5ms\n",
      "\n",
      "image 1/1 /datasets/tdt4265/other/rbk/1_train-val_1min_aalesund_from_start/img1/000544.jpg: 1088x1920 1 ball, 2.6ms\n",
      "Speed: 4.5ms preprocess, 2.5ms inference, 0.5ms postprocess per image at shape (1, 3, 1088, 1920)\n",
      "\n",
      "image 1/1 /datasets/tdt4265/other/rbk/1_train-val_1min_aalesund_from_start/img1/000545.jpg: 1088x1920 22 players, 2.4ms\n",
      "\n",
      "image 1/1 /datasets/tdt4265/other/rbk/1_train-val_1min_aalesund_from_start/img1/000545.jpg: 1088x1920 1 ball, 2.4ms\n",
      "Speed: 3.2ms preprocess, 2.4ms inference, 0.5ms postprocess per image at shape (1, 3, 1088, 1920)\n",
      "\n",
      "image 1/1 /datasets/tdt4265/other/rbk/1_train-val_1min_aalesund_from_start/img1/000546.jpg: 1088x1920 22 players, 2.4ms\n",
      "\n",
      "image 1/1 /datasets/tdt4265/other/rbk/1_train-val_1min_aalesund_from_start/img1/000546.jpg: 1088x1920 1 ball, 2.5ms\n",
      "Speed: 4.4ms preprocess, 2.4ms inference, 0.6ms postprocess per image at shape (1, 3, 1088, 1920)\n",
      "\n",
      "image 1/1 /datasets/tdt4265/other/rbk/1_train-val_1min_aalesund_from_start/img1/000547.jpg: 1088x1920 22 players, 2.4ms\n",
      "\n",
      "image 1/1 /datasets/tdt4265/other/rbk/1_train-val_1min_aalesund_from_start/img1/000547.jpg: 1088x1920 1 ball, 2.5ms\n",
      "Speed: 3.1ms preprocess, 2.4ms inference, 0.5ms postprocess per image at shape (1, 3, 1088, 1920)\n",
      "\n",
      "image 1/1 /datasets/tdt4265/other/rbk/1_train-val_1min_aalesund_from_start/img1/000548.jpg: 1088x1920 22 players, 2.4ms\n",
      "\n",
      "image 1/1 /datasets/tdt4265/other/rbk/1_train-val_1min_aalesund_from_start/img1/000548.jpg: 1088x1920 1 ball, 3.2ms\n",
      "Speed: 4.2ms preprocess, 2.4ms inference, 0.5ms postprocess per image at shape (1, 3, 1088, 1920)\n",
      "\n",
      "image 1/1 /datasets/tdt4265/other/rbk/1_train-val_1min_aalesund_from_start/img1/000549.jpg: 1088x1920 22 players, 2.6ms\n",
      "\n",
      "image 1/1 /datasets/tdt4265/other/rbk/1_train-val_1min_aalesund_from_start/img1/000549.jpg: 1088x1920 1 ball, 2.5ms\n",
      "Speed: 3.4ms preprocess, 2.6ms inference, 0.5ms postprocess per image at shape (1, 3, 1088, 1920)\n",
      "\n",
      "image 1/1 /datasets/tdt4265/other/rbk/1_train-val_1min_aalesund_from_start/img1/000550.jpg: 1088x1920 22 players, 2.5ms\n",
      "\n",
      "image 1/1 /datasets/tdt4265/other/rbk/1_train-val_1min_aalesund_from_start/img1/000550.jpg: 1088x1920 1 ball, 2.5ms\n",
      "Speed: 4.6ms preprocess, 2.5ms inference, 0.7ms postprocess per image at shape (1, 3, 1088, 1920)\n",
      "\n",
      "image 1/1 /datasets/tdt4265/other/rbk/1_train-val_1min_aalesund_from_start/img1/000551.jpg: 1088x1920 22 players, 2.7ms\n",
      "\n",
      "image 1/1 /datasets/tdt4265/other/rbk/1_train-val_1min_aalesund_from_start/img1/000551.jpg: 1088x1920 1 ball, 2.6ms\n",
      "Speed: 3.1ms preprocess, 2.7ms inference, 0.7ms postprocess per image at shape (1, 3, 1088, 1920)\n",
      "\n",
      "image 1/1 /datasets/tdt4265/other/rbk/1_train-val_1min_aalesund_from_start/img1/000552.jpg: 1088x1920 22 players, 2.6ms\n",
      "\n",
      "image 1/1 /datasets/tdt4265/other/rbk/1_train-val_1min_aalesund_from_start/img1/000552.jpg: 1088x1920 1 ball, 3.5ms\n",
      "Speed: 4.5ms preprocess, 2.6ms inference, 0.5ms postprocess per image at shape (1, 3, 1088, 1920)\n",
      "\n",
      "image 1/1 /datasets/tdt4265/other/rbk/1_train-val_1min_aalesund_from_start/img1/000553.jpg: 1088x1920 22 players, 2.5ms\n",
      "\n",
      "image 1/1 /datasets/tdt4265/other/rbk/1_train-val_1min_aalesund_from_start/img1/000553.jpg: 1088x1920 1 ball, 2.8ms\n",
      "Speed: 2.3ms preprocess, 2.5ms inference, 0.5ms postprocess per image at shape (1, 3, 1088, 1920)\n",
      "\n",
      "image 1/1 /datasets/tdt4265/other/rbk/1_train-val_1min_aalesund_from_start/img1/000554.jpg: 1088x1920 22 players, 2.4ms\n",
      "\n",
      "image 1/1 /datasets/tdt4265/other/rbk/1_train-val_1min_aalesund_from_start/img1/000554.jpg: 1088x1920 1 ball, 2.4ms\n",
      "Speed: 4.4ms preprocess, 2.4ms inference, 0.6ms postprocess per image at shape (1, 3, 1088, 1920)\n",
      "\n",
      "image 1/1 /datasets/tdt4265/other/rbk/1_train-val_1min_aalesund_from_start/img1/000555.jpg: 1088x1920 22 players, 2.7ms\n",
      "\n",
      "image 1/1 /datasets/tdt4265/other/rbk/1_train-val_1min_aalesund_from_start/img1/000555.jpg: 1088x1920 1 ball, 2.3ms\n",
      "Speed: 3.3ms preprocess, 2.7ms inference, 0.6ms postprocess per image at shape (1, 3, 1088, 1920)\n",
      "\n",
      "image 1/1 /datasets/tdt4265/other/rbk/1_train-val_1min_aalesund_from_start/img1/000556.jpg: 1088x1920 22 players, 2.4ms\n",
      "\n",
      "image 1/1 /datasets/tdt4265/other/rbk/1_train-val_1min_aalesund_from_start/img1/000556.jpg: 1088x1920 1 ball, 2.4ms\n",
      "Speed: 4.5ms preprocess, 2.4ms inference, 0.5ms postprocess per image at shape (1, 3, 1088, 1920)\n",
      "\n",
      "image 1/1 /datasets/tdt4265/other/rbk/1_train-val_1min_aalesund_from_start/img1/000557.jpg: 1088x1920 22 players, 2.4ms\n",
      "\n",
      "image 1/1 /datasets/tdt4265/other/rbk/1_train-val_1min_aalesund_from_start/img1/000557.jpg: 1088x1920 1 ball, 2.3ms\n",
      "Speed: 3.1ms preprocess, 2.4ms inference, 0.9ms postprocess per image at shape (1, 3, 1088, 1920)\n",
      "\n",
      "image 1/1 /datasets/tdt4265/other/rbk/1_train-val_1min_aalesund_from_start/img1/000558.jpg: 1088x1920 22 players, 2.5ms\n",
      "\n",
      "image 1/1 /datasets/tdt4265/other/rbk/1_train-val_1min_aalesund_from_start/img1/000558.jpg: 1088x1920 1 ball, 2.7ms\n",
      "Speed: 4.4ms preprocess, 2.5ms inference, 0.5ms postprocess per image at shape (1, 3, 1088, 1920)\n",
      "\n",
      "image 1/1 /datasets/tdt4265/other/rbk/1_train-val_1min_aalesund_from_start/img1/000559.jpg: 1088x1920 22 players, 2.4ms\n",
      "\n",
      "image 1/1 /datasets/tdt4265/other/rbk/1_train-val_1min_aalesund_from_start/img1/000559.jpg: 1088x1920 1 ball, 2.6ms\n",
      "Speed: 2.3ms preprocess, 2.4ms inference, 0.6ms postprocess per image at shape (1, 3, 1088, 1920)\n",
      "\n",
      "image 1/1 /datasets/tdt4265/other/rbk/1_train-val_1min_aalesund_from_start/img1/000560.jpg: 1088x1920 22 players, 2.4ms\n",
      "\n",
      "image 1/1 /datasets/tdt4265/other/rbk/1_train-val_1min_aalesund_from_start/img1/000560.jpg: 1088x1920 1 ball, 2.4ms\n",
      "Speed: 4.2ms preprocess, 2.4ms inference, 0.5ms postprocess per image at shape (1, 3, 1088, 1920)\n",
      "\n",
      "image 1/1 /datasets/tdt4265/other/rbk/1_train-val_1min_aalesund_from_start/img1/000561.jpg: 1088x1920 22 players, 3.2ms\n",
      "\n",
      "image 1/1 /datasets/tdt4265/other/rbk/1_train-val_1min_aalesund_from_start/img1/000561.jpg: 1088x1920 1 ball, 2.8ms\n",
      "Speed: 3.8ms preprocess, 3.2ms inference, 0.7ms postprocess per image at shape (1, 3, 1088, 1920)\n",
      "\n",
      "image 1/1 /datasets/tdt4265/other/rbk/1_train-val_1min_aalesund_from_start/img1/000562.jpg: 1088x1920 22 players, 2.4ms\n",
      "\n",
      "image 1/1 /datasets/tdt4265/other/rbk/1_train-val_1min_aalesund_from_start/img1/000562.jpg: 1088x1920 1 ball, 2.7ms\n",
      "Speed: 4.6ms preprocess, 2.4ms inference, 0.5ms postprocess per image at shape (1, 3, 1088, 1920)\n",
      "\n",
      "image 1/1 /datasets/tdt4265/other/rbk/1_train-val_1min_aalesund_from_start/img1/000563.jpg: 1088x1920 22 players, 2.4ms\n",
      "\n",
      "image 1/1 /datasets/tdt4265/other/rbk/1_train-val_1min_aalesund_from_start/img1/000563.jpg: 1088x1920 1 ball, 2.6ms\n",
      "Speed: 2.3ms preprocess, 2.4ms inference, 0.5ms postprocess per image at shape (1, 3, 1088, 1920)\n",
      "\n",
      "image 1/1 /datasets/tdt4265/other/rbk/1_train-val_1min_aalesund_from_start/img1/000564.jpg: 1088x1920 22 players, 2.5ms\n",
      "\n",
      "image 1/1 /datasets/tdt4265/other/rbk/1_train-val_1min_aalesund_from_start/img1/000564.jpg: 1088x1920 1 ball, 2.5ms\n",
      "Speed: 4.4ms preprocess, 2.5ms inference, 0.5ms postprocess per image at shape (1, 3, 1088, 1920)\n",
      "\n",
      "image 1/1 /datasets/tdt4265/other/rbk/1_train-val_1min_aalesund_from_start/img1/000565.jpg: 1088x1920 22 players, 2.4ms\n",
      "\n",
      "image 1/1 /datasets/tdt4265/other/rbk/1_train-val_1min_aalesund_from_start/img1/000565.jpg: 1088x1920 1 ball, 2.5ms\n",
      "Speed: 3.3ms preprocess, 2.4ms inference, 0.5ms postprocess per image at shape (1, 3, 1088, 1920)\n",
      "\n",
      "image 1/1 /datasets/tdt4265/other/rbk/1_train-val_1min_aalesund_from_start/img1/000566.jpg: 1088x1920 22 players, 2.7ms\n",
      "\n",
      "image 1/1 /datasets/tdt4265/other/rbk/1_train-val_1min_aalesund_from_start/img1/000566.jpg: 1088x1920 1 ball, 2.4ms\n",
      "Speed: 4.4ms preprocess, 2.7ms inference, 0.6ms postprocess per image at shape (1, 3, 1088, 1920)\n",
      "\n",
      "image 1/1 /datasets/tdt4265/other/rbk/1_train-val_1min_aalesund_from_start/img1/000567.jpg: 1088x1920 22 players, 2.4ms\n",
      "\n",
      "image 1/1 /datasets/tdt4265/other/rbk/1_train-val_1min_aalesund_from_start/img1/000567.jpg: 1088x1920 1 ball, 2.3ms\n",
      "Speed: 3.3ms preprocess, 2.4ms inference, 0.5ms postprocess per image at shape (1, 3, 1088, 1920)\n",
      "\n",
      "image 1/1 /datasets/tdt4265/other/rbk/1_train-val_1min_aalesund_from_start/img1/000568.jpg: 1088x1920 22 players, 2.8ms\n",
      "\n",
      "image 1/1 /datasets/tdt4265/other/rbk/1_train-val_1min_aalesund_from_start/img1/000568.jpg: 1088x1920 1 ball, 2.8ms\n",
      "Speed: 4.3ms preprocess, 2.8ms inference, 0.6ms postprocess per image at shape (1, 3, 1088, 1920)\n",
      "\n",
      "image 1/1 /datasets/tdt4265/other/rbk/1_train-val_1min_aalesund_from_start/img1/000569.jpg: 1088x1920 22 players, 2.6ms\n",
      "\n",
      "image 1/1 /datasets/tdt4265/other/rbk/1_train-val_1min_aalesund_from_start/img1/000569.jpg: 1088x1920 1 ball, 2.6ms\n",
      "Speed: 2.5ms preprocess, 2.6ms inference, 0.5ms postprocess per image at shape (1, 3, 1088, 1920)\n",
      "\n",
      "image 1/1 /datasets/tdt4265/other/rbk/1_train-val_1min_aalesund_from_start/img1/000570.jpg: 1088x1920 22 players, 2.4ms\n",
      "\n",
      "image 1/1 /datasets/tdt4265/other/rbk/1_train-val_1min_aalesund_from_start/img1/000570.jpg: 1088x1920 1 ball, 2.4ms\n",
      "Speed: 4.4ms preprocess, 2.4ms inference, 0.5ms postprocess per image at shape (1, 3, 1088, 1920)\n",
      "\n",
      "image 1/1 /datasets/tdt4265/other/rbk/1_train-val_1min_aalesund_from_start/img1/000571.jpg: 1088x1920 22 players, 2.4ms\n",
      "\n",
      "image 1/1 /datasets/tdt4265/other/rbk/1_train-val_1min_aalesund_from_start/img1/000571.jpg: 1088x1920 1 ball, 2.4ms\n",
      "Speed: 3.3ms preprocess, 2.4ms inference, 0.5ms postprocess per image at shape (1, 3, 1088, 1920)\n",
      "\n",
      "image 1/1 /datasets/tdt4265/other/rbk/1_train-val_1min_aalesund_from_start/img1/000572.jpg: 1088x1920 22 players, 2.6ms\n",
      "\n",
      "image 1/1 /datasets/tdt4265/other/rbk/1_train-val_1min_aalesund_from_start/img1/000572.jpg: 1088x1920 1 ball, 2.5ms\n",
      "Speed: 4.6ms preprocess, 2.6ms inference, 0.5ms postprocess per image at shape (1, 3, 1088, 1920)\n",
      "\n",
      "image 1/1 /datasets/tdt4265/other/rbk/1_train-val_1min_aalesund_from_start/img1/000573.jpg: 1088x1920 22 players, 2.5ms\n",
      "\n",
      "image 1/1 /datasets/tdt4265/other/rbk/1_train-val_1min_aalesund_from_start/img1/000573.jpg: 1088x1920 1 ball, 2.4ms\n",
      "Speed: 3.1ms preprocess, 2.5ms inference, 0.6ms postprocess per image at shape (1, 3, 1088, 1920)\n",
      "\n",
      "image 1/1 /datasets/tdt4265/other/rbk/1_train-val_1min_aalesund_from_start/img1/000574.jpg: 1088x1920 22 players, 2.6ms\n",
      "\n",
      "image 1/1 /datasets/tdt4265/other/rbk/1_train-val_1min_aalesund_from_start/img1/000574.jpg: 1088x1920 1 ball, 2.6ms\n",
      "Speed: 4.4ms preprocess, 2.6ms inference, 0.5ms postprocess per image at shape (1, 3, 1088, 1920)\n",
      "\n",
      "image 1/1 /datasets/tdt4265/other/rbk/1_train-val_1min_aalesund_from_start/img1/000575.jpg: 1088x1920 22 players, 2.6ms\n",
      "\n",
      "image 1/1 /datasets/tdt4265/other/rbk/1_train-val_1min_aalesund_from_start/img1/000575.jpg: 1088x1920 1 ball, 2.6ms\n",
      "Speed: 2.4ms preprocess, 2.6ms inference, 0.5ms postprocess per image at shape (1, 3, 1088, 1920)\n",
      "\n",
      "image 1/1 /datasets/tdt4265/other/rbk/1_train-val_1min_aalesund_from_start/img1/000576.jpg: 1088x1920 22 players, 2.4ms\n",
      "\n",
      "image 1/1 /datasets/tdt4265/other/rbk/1_train-val_1min_aalesund_from_start/img1/000576.jpg: 1088x1920 1 ball, 2.8ms\n",
      "Speed: 4.4ms preprocess, 2.4ms inference, 0.5ms postprocess per image at shape (1, 3, 1088, 1920)\n",
      "\n",
      "image 1/1 /datasets/tdt4265/other/rbk/1_train-val_1min_aalesund_from_start/img1/000577.jpg: 1088x1920 22 players, 2.5ms\n",
      "\n",
      "image 1/1 /datasets/tdt4265/other/rbk/1_train-val_1min_aalesund_from_start/img1/000577.jpg: 1088x1920 1 ball, 2.4ms\n",
      "Speed: 3.3ms preprocess, 2.5ms inference, 0.5ms postprocess per image at shape (1, 3, 1088, 1920)\n",
      "\n",
      "image 1/1 /datasets/tdt4265/other/rbk/1_train-val_1min_aalesund_from_start/img1/000578.jpg: 1088x1920 22 players, 2.4ms\n",
      "\n",
      "image 1/1 /datasets/tdt4265/other/rbk/1_train-val_1min_aalesund_from_start/img1/000578.jpg: 1088x1920 1 ball, 2.5ms\n",
      "Speed: 4.4ms preprocess, 2.4ms inference, 0.5ms postprocess per image at shape (1, 3, 1088, 1920)\n",
      "\n",
      "image 1/1 /datasets/tdt4265/other/rbk/1_train-val_1min_aalesund_from_start/img1/000579.jpg: 1088x1920 22 players, 2.9ms\n",
      "\n",
      "image 1/1 /datasets/tdt4265/other/rbk/1_train-val_1min_aalesund_from_start/img1/000579.jpg: 1088x1920 1 ball, 2.3ms\n",
      "Speed: 2.4ms preprocess, 2.9ms inference, 0.7ms postprocess per image at shape (1, 3, 1088, 1920)\n",
      "\n",
      "image 1/1 /datasets/tdt4265/other/rbk/1_train-val_1min_aalesund_from_start/img1/000580.jpg: 1088x1920 22 players, 2.4ms\n",
      "\n",
      "image 1/1 /datasets/tdt4265/other/rbk/1_train-val_1min_aalesund_from_start/img1/000580.jpg: 1088x1920 1 ball, 2.6ms\n",
      "Speed: 4.3ms preprocess, 2.4ms inference, 0.7ms postprocess per image at shape (1, 3, 1088, 1920)\n",
      "\n",
      "image 1/1 /datasets/tdt4265/other/rbk/1_train-val_1min_aalesund_from_start/img1/000581.jpg: 1088x1920 22 players, 2.5ms\n",
      "\n",
      "image 1/1 /datasets/tdt4265/other/rbk/1_train-val_1min_aalesund_from_start/img1/000581.jpg: 1088x1920 1 ball, 3.2ms\n",
      "Speed: 3.3ms preprocess, 2.5ms inference, 0.5ms postprocess per image at shape (1, 3, 1088, 1920)\n",
      "\n",
      "image 1/1 /datasets/tdt4265/other/rbk/1_train-val_1min_aalesund_from_start/img1/000582.jpg: 1088x1920 22 players, 2.6ms\n",
      "\n",
      "image 1/1 /datasets/tdt4265/other/rbk/1_train-val_1min_aalesund_from_start/img1/000582.jpg: 1088x1920 1 ball, 2.4ms\n",
      "Speed: 4.5ms preprocess, 2.6ms inference, 0.6ms postprocess per image at shape (1, 3, 1088, 1920)\n",
      "\n",
      "image 1/1 /datasets/tdt4265/other/rbk/1_train-val_1min_aalesund_from_start/img1/000583.jpg: 1088x1920 22 players, 2.6ms\n",
      "\n",
      "image 1/1 /datasets/tdt4265/other/rbk/1_train-val_1min_aalesund_from_start/img1/000583.jpg: 1088x1920 1 ball, 2.5ms\n",
      "Speed: 2.3ms preprocess, 2.6ms inference, 0.5ms postprocess per image at shape (1, 3, 1088, 1920)\n",
      "\n",
      "image 1/1 /datasets/tdt4265/other/rbk/1_train-val_1min_aalesund_from_start/img1/000584.jpg: 1088x1920 22 players, 2.4ms\n",
      "\n",
      "image 1/1 /datasets/tdt4265/other/rbk/1_train-val_1min_aalesund_from_start/img1/000584.jpg: 1088x1920 1 ball, 2.4ms\n",
      "Speed: 4.5ms preprocess, 2.4ms inference, 0.5ms postprocess per image at shape (1, 3, 1088, 1920)\n",
      "\n",
      "image 1/1 /datasets/tdt4265/other/rbk/1_train-val_1min_aalesund_from_start/img1/000585.jpg: 1088x1920 22 players, 2.4ms\n",
      "\n",
      "image 1/1 /datasets/tdt4265/other/rbk/1_train-val_1min_aalesund_from_start/img1/000585.jpg: 1088x1920 1 ball, 3.7ms\n",
      "Speed: 3.4ms preprocess, 2.4ms inference, 0.8ms postprocess per image at shape (1, 3, 1088, 1920)\n",
      "\n",
      "image 1/1 /datasets/tdt4265/other/rbk/1_train-val_1min_aalesund_from_start/img1/000586.jpg: 1088x1920 22 players, 2.4ms\n",
      "\n",
      "image 1/1 /datasets/tdt4265/other/rbk/1_train-val_1min_aalesund_from_start/img1/000586.jpg: 1088x1920 1 ball, 2.3ms\n",
      "Speed: 4.2ms preprocess, 2.4ms inference, 0.5ms postprocess per image at shape (1, 3, 1088, 1920)\n",
      "\n",
      "image 1/1 /datasets/tdt4265/other/rbk/1_train-val_1min_aalesund_from_start/img1/000587.jpg: 1088x1920 22 players, 2.6ms\n",
      "\n",
      "image 1/1 /datasets/tdt4265/other/rbk/1_train-val_1min_aalesund_from_start/img1/000587.jpg: 1088x1920 1 ball, 2.4ms\n",
      "Speed: 3.3ms preprocess, 2.6ms inference, 0.5ms postprocess per image at shape (1, 3, 1088, 1920)\n",
      "\n",
      "image 1/1 /datasets/tdt4265/other/rbk/1_train-val_1min_aalesund_from_start/img1/000588.jpg: 1088x1920 22 players, 2.5ms\n",
      "\n",
      "image 1/1 /datasets/tdt4265/other/rbk/1_train-val_1min_aalesund_from_start/img1/000588.jpg: 1088x1920 1 ball, 2.7ms\n",
      "Speed: 4.4ms preprocess, 2.5ms inference, 0.5ms postprocess per image at shape (1, 3, 1088, 1920)\n",
      "\n",
      "image 1/1 /datasets/tdt4265/other/rbk/1_train-val_1min_aalesund_from_start/img1/000589.jpg: 1088x1920 22 players, 2.4ms\n",
      "\n",
      "image 1/1 /datasets/tdt4265/other/rbk/1_train-val_1min_aalesund_from_start/img1/000589.jpg: 1088x1920 1 ball, 2.6ms\n",
      "Speed: 2.4ms preprocess, 2.4ms inference, 0.5ms postprocess per image at shape (1, 3, 1088, 1920)\n",
      "\n",
      "image 1/1 /datasets/tdt4265/other/rbk/1_train-val_1min_aalesund_from_start/img1/000590.jpg: 1088x1920 22 players, 2.6ms\n",
      "\n",
      "image 1/1 /datasets/tdt4265/other/rbk/1_train-val_1min_aalesund_from_start/img1/000590.jpg: 1088x1920 1 ball, 2.4ms\n",
      "Speed: 4.5ms preprocess, 2.6ms inference, 0.7ms postprocess per image at shape (1, 3, 1088, 1920)\n",
      "\n",
      "image 1/1 /datasets/tdt4265/other/rbk/1_train-val_1min_aalesund_from_start/img1/000591.jpg: 1088x1920 22 players, 2.5ms\n",
      "\n",
      "image 1/1 /datasets/tdt4265/other/rbk/1_train-val_1min_aalesund_from_start/img1/000591.jpg: 1088x1920 1 ball, 2.4ms\n",
      "Speed: 3.3ms preprocess, 2.5ms inference, 0.5ms postprocess per image at shape (1, 3, 1088, 1920)\n",
      "\n",
      "image 1/1 /datasets/tdt4265/other/rbk/1_train-val_1min_aalesund_from_start/img1/000592.jpg: 1088x1920 22 players, 2.5ms\n",
      "\n",
      "image 1/1 /datasets/tdt4265/other/rbk/1_train-val_1min_aalesund_from_start/img1/000592.jpg: 1088x1920 1 ball, 2.4ms\n",
      "Speed: 4.6ms preprocess, 2.5ms inference, 0.5ms postprocess per image at shape (1, 3, 1088, 1920)\n",
      "\n",
      "image 1/1 /datasets/tdt4265/other/rbk/1_train-val_1min_aalesund_from_start/img1/000593.jpg: 1088x1920 22 players, 2.5ms\n",
      "\n",
      "image 1/1 /datasets/tdt4265/other/rbk/1_train-val_1min_aalesund_from_start/img1/000593.jpg: 1088x1920 1 ball, 2.6ms\n",
      "Speed: 2.3ms preprocess, 2.5ms inference, 0.5ms postprocess per image at shape (1, 3, 1088, 1920)\n",
      "\n",
      "image 1/1 /datasets/tdt4265/other/rbk/1_train-val_1min_aalesund_from_start/img1/000594.jpg: 1088x1920 22 players, 2.4ms\n",
      "\n",
      "image 1/1 /datasets/tdt4265/other/rbk/1_train-val_1min_aalesund_from_start/img1/000594.jpg: 1088x1920 1 ball, 2.5ms\n",
      "Speed: 4.4ms preprocess, 2.4ms inference, 0.5ms postprocess per image at shape (1, 3, 1088, 1920)\n",
      "\n",
      "image 1/1 /datasets/tdt4265/other/rbk/1_train-val_1min_aalesund_from_start/img1/000595.jpg: 1088x1920 22 players, 2.4ms\n",
      "\n",
      "image 1/1 /datasets/tdt4265/other/rbk/1_train-val_1min_aalesund_from_start/img1/000595.jpg: 1088x1920 1 ball, 2.4ms\n",
      "Speed: 2.4ms preprocess, 2.4ms inference, 0.6ms postprocess per image at shape (1, 3, 1088, 1920)\n",
      "\n",
      "image 1/1 /datasets/tdt4265/other/rbk/1_train-val_1min_aalesund_from_start/img1/000596.jpg: 1088x1920 22 players, 2.7ms\n",
      "\n",
      "image 1/1 /datasets/tdt4265/other/rbk/1_train-val_1min_aalesund_from_start/img1/000596.jpg: 1088x1920 1 ball, 2.4ms\n",
      "Speed: 4.5ms preprocess, 2.7ms inference, 0.5ms postprocess per image at shape (1, 3, 1088, 1920)\n",
      "\n",
      "image 1/1 /datasets/tdt4265/other/rbk/1_train-val_1min_aalesund_from_start/img1/000597.jpg: 1088x1920 22 players, 2.4ms\n",
      "\n",
      "image 1/1 /datasets/tdt4265/other/rbk/1_train-val_1min_aalesund_from_start/img1/000597.jpg: 1088x1920 1 ball, 2.4ms\n",
      "Speed: 3.3ms preprocess, 2.4ms inference, 0.5ms postprocess per image at shape (1, 3, 1088, 1920)\n",
      "\n",
      "image 1/1 /datasets/tdt4265/other/rbk/1_train-val_1min_aalesund_from_start/img1/000598.jpg: 1088x1920 22 players, 2.9ms\n",
      "\n",
      "image 1/1 /datasets/tdt4265/other/rbk/1_train-val_1min_aalesund_from_start/img1/000598.jpg: 1088x1920 1 ball, 2.7ms\n",
      "Speed: 4.3ms preprocess, 2.9ms inference, 0.5ms postprocess per image at shape (1, 3, 1088, 1920)\n",
      "\n",
      "image 1/1 /datasets/tdt4265/other/rbk/1_train-val_1min_aalesund_from_start/img1/000599.jpg: 1088x1920 22 players, 2.5ms\n",
      "\n",
      "image 1/1 /datasets/tdt4265/other/rbk/1_train-val_1min_aalesund_from_start/img1/000599.jpg: 1088x1920 1 ball, 2.4ms\n",
      "Speed: 2.4ms preprocess, 2.5ms inference, 0.5ms postprocess per image at shape (1, 3, 1088, 1920)\n",
      "\n",
      "image 1/1 /datasets/tdt4265/other/rbk/1_train-val_1min_aalesund_from_start/img1/000600.jpg: 1088x1920 22 players, 2.5ms\n",
      "\n",
      "image 1/1 /datasets/tdt4265/other/rbk/1_train-val_1min_aalesund_from_start/img1/000600.jpg: 1088x1920 1 ball, 2.6ms\n",
      "Speed: 4.4ms preprocess, 2.5ms inference, 0.5ms postprocess per image at shape (1, 3, 1088, 1920)\n",
      "\n",
      "image 1/1 /datasets/tdt4265/other/rbk/1_train-val_1min_aalesund_from_start/img1/000601.jpg: 1088x1920 22 players, 2.4ms\n",
      "\n",
      "image 1/1 /datasets/tdt4265/other/rbk/1_train-val_1min_aalesund_from_start/img1/000601.jpg: 1088x1920 1 ball, 2.5ms\n",
      "Speed: 3.2ms preprocess, 2.4ms inference, 0.5ms postprocess per image at shape (1, 3, 1088, 1920)\n",
      "\n",
      "image 1/1 /datasets/tdt4265/other/rbk/1_train-val_1min_aalesund_from_start/img1/000602.jpg: 1088x1920 22 players, 2.4ms\n",
      "\n",
      "image 1/1 /datasets/tdt4265/other/rbk/1_train-val_1min_aalesund_from_start/img1/000602.jpg: 1088x1920 1 ball, 2.7ms\n",
      "Speed: 4.6ms preprocess, 2.4ms inference, 0.6ms postprocess per image at shape (1, 3, 1088, 1920)\n",
      "\n",
      "image 1/1 /datasets/tdt4265/other/rbk/1_train-val_1min_aalesund_from_start/img1/000603.jpg: 1088x1920 22 players, 2.5ms\n",
      "\n",
      "image 1/1 /datasets/tdt4265/other/rbk/1_train-val_1min_aalesund_from_start/img1/000603.jpg: 1088x1920 1 ball, 2.4ms\n",
      "Speed: 2.4ms preprocess, 2.5ms inference, 0.6ms postprocess per image at shape (1, 3, 1088, 1920)\n",
      "\n",
      "image 1/1 /datasets/tdt4265/other/rbk/1_train-val_1min_aalesund_from_start/img1/000604.jpg: 1088x1920 22 players, 2.6ms\n",
      "\n",
      "image 1/1 /datasets/tdt4265/other/rbk/1_train-val_1min_aalesund_from_start/img1/000604.jpg: 1088x1920 1 ball, 2.4ms\n",
      "Speed: 4.4ms preprocess, 2.6ms inference, 0.7ms postprocess per image at shape (1, 3, 1088, 1920)\n",
      "\n",
      "image 1/1 /datasets/tdt4265/other/rbk/1_train-val_1min_aalesund_from_start/img1/000605.jpg: 1088x1920 22 players, 2.6ms\n",
      "\n",
      "image 1/1 /datasets/tdt4265/other/rbk/1_train-val_1min_aalesund_from_start/img1/000605.jpg: 1088x1920 1 ball, 2.4ms\n",
      "Speed: 2.3ms preprocess, 2.6ms inference, 0.5ms postprocess per image at shape (1, 3, 1088, 1920)\n",
      "\n",
      "image 1/1 /datasets/tdt4265/other/rbk/1_train-val_1min_aalesund_from_start/img1/000606.jpg: 1088x1920 22 players, 2.4ms\n",
      "\n",
      "image 1/1 /datasets/tdt4265/other/rbk/1_train-val_1min_aalesund_from_start/img1/000606.jpg: 1088x1920 1 ball, 2.7ms\n",
      "Speed: 4.5ms preprocess, 2.4ms inference, 0.9ms postprocess per image at shape (1, 3, 1088, 1920)\n",
      "\n",
      "image 1/1 /datasets/tdt4265/other/rbk/1_train-val_1min_aalesund_from_start/img1/000607.jpg: 1088x1920 22 players, 2.4ms\n",
      "\n",
      "image 1/1 /datasets/tdt4265/other/rbk/1_train-val_1min_aalesund_from_start/img1/000607.jpg: 1088x1920 1 ball, 2.7ms\n",
      "Speed: 3.3ms preprocess, 2.4ms inference, 0.5ms postprocess per image at shape (1, 3, 1088, 1920)\n",
      "\n",
      "image 1/1 /datasets/tdt4265/other/rbk/1_train-val_1min_aalesund_from_start/img1/000608.jpg: 1088x1920 22 players, 2.4ms\n",
      "\n",
      "image 1/1 /datasets/tdt4265/other/rbk/1_train-val_1min_aalesund_from_start/img1/000608.jpg: 1088x1920 1 ball, 2.5ms\n",
      "Speed: 3.2ms preprocess, 2.4ms inference, 0.5ms postprocess per image at shape (1, 3, 1088, 1920)\n",
      "\n",
      "image 1/1 /datasets/tdt4265/other/rbk/1_train-val_1min_aalesund_from_start/img1/000609.jpg: 1088x1920 22 players, 2.3ms\n",
      "\n",
      "image 1/1 /datasets/tdt4265/other/rbk/1_train-val_1min_aalesund_from_start/img1/000609.jpg: 1088x1920 1 ball, 2.5ms\n",
      "Speed: 2.2ms preprocess, 2.3ms inference, 0.6ms postprocess per image at shape (1, 3, 1088, 1920)\n",
      "\n",
      "image 1/1 /datasets/tdt4265/other/rbk/1_train-val_1min_aalesund_from_start/img1/000610.jpg: 1088x1920 22 players, 2.3ms\n",
      "\n",
      "image 1/1 /datasets/tdt4265/other/rbk/1_train-val_1min_aalesund_from_start/img1/000610.jpg: 1088x1920 1 ball, 2.4ms\n",
      "Speed: 3.2ms preprocess, 2.3ms inference, 0.5ms postprocess per image at shape (1, 3, 1088, 1920)\n",
      "\n",
      "image 1/1 /datasets/tdt4265/other/rbk/1_train-val_1min_aalesund_from_start/img1/000611.jpg: 1088x1920 22 players, 2.5ms\n",
      "\n",
      "image 1/1 /datasets/tdt4265/other/rbk/1_train-val_1min_aalesund_from_start/img1/000611.jpg: 1088x1920 1 ball, 2.6ms\n",
      "Speed: 3.4ms preprocess, 2.5ms inference, 0.5ms postprocess per image at shape (1, 3, 1088, 1920)\n",
      "\n",
      "image 1/1 /datasets/tdt4265/other/rbk/1_train-val_1min_aalesund_from_start/img1/000612.jpg: 1088x1920 22 players, 2.3ms\n",
      "\n",
      "image 1/1 /datasets/tdt4265/other/rbk/1_train-val_1min_aalesund_from_start/img1/000612.jpg: 1088x1920 1 ball, 2.6ms\n",
      "Speed: 3.3ms preprocess, 2.3ms inference, 0.6ms postprocess per image at shape (1, 3, 1088, 1920)\n",
      "\n",
      "image 1/1 /datasets/tdt4265/other/rbk/1_train-val_1min_aalesund_from_start/img1/000613.jpg: 1088x1920 22 players, 2.5ms\n",
      "\n",
      "image 1/1 /datasets/tdt4265/other/rbk/1_train-val_1min_aalesund_from_start/img1/000613.jpg: 1088x1920 1 ball, 2.6ms\n",
      "Speed: 3.2ms preprocess, 2.5ms inference, 0.5ms postprocess per image at shape (1, 3, 1088, 1920)\n",
      "\n",
      "image 1/1 /datasets/tdt4265/other/rbk/1_train-val_1min_aalesund_from_start/img1/000614.jpg: 1088x1920 22 players, 2.3ms\n",
      "\n",
      "image 1/1 /datasets/tdt4265/other/rbk/1_train-val_1min_aalesund_from_start/img1/000614.jpg: 1088x1920 1 ball, 2.4ms\n",
      "Speed: 2.3ms preprocess, 2.3ms inference, 0.5ms postprocess per image at shape (1, 3, 1088, 1920)\n",
      "\n",
      "image 1/1 /datasets/tdt4265/other/rbk/1_train-val_1min_aalesund_from_start/img1/000615.jpg: 1088x1920 22 players, 2.6ms\n",
      "\n",
      "image 1/1 /datasets/tdt4265/other/rbk/1_train-val_1min_aalesund_from_start/img1/000615.jpg: 1088x1920 1 ball, 2.6ms\n",
      "Speed: 3.0ms preprocess, 2.6ms inference, 0.7ms postprocess per image at shape (1, 3, 1088, 1920)\n",
      "\n",
      "image 1/1 /datasets/tdt4265/other/rbk/1_train-val_1min_aalesund_from_start/img1/000616.jpg: 1088x1920 22 players, 2.6ms\n",
      "\n",
      "image 1/1 /datasets/tdt4265/other/rbk/1_train-val_1min_aalesund_from_start/img1/000616.jpg: 1088x1920 1 ball, 2.3ms\n",
      "Speed: 3.3ms preprocess, 2.6ms inference, 0.7ms postprocess per image at shape (1, 3, 1088, 1920)\n",
      "\n",
      "image 1/1 /datasets/tdt4265/other/rbk/1_train-val_1min_aalesund_from_start/img1/000617.jpg: 1088x1920 22 players, 2.3ms\n",
      "\n",
      "image 1/1 /datasets/tdt4265/other/rbk/1_train-val_1min_aalesund_from_start/img1/000617.jpg: 1088x1920 1 ball, 2.6ms\n",
      "Speed: 3.5ms preprocess, 2.3ms inference, 0.5ms postprocess per image at shape (1, 3, 1088, 1920)\n",
      "\n",
      "image 1/1 /datasets/tdt4265/other/rbk/1_train-val_1min_aalesund_from_start/img1/000618.jpg: 1088x1920 22 players, 2.7ms\n",
      "\n",
      "image 1/1 /datasets/tdt4265/other/rbk/1_train-val_1min_aalesund_from_start/img1/000618.jpg: 1088x1920 1 ball, 2.3ms\n",
      "Speed: 2.2ms preprocess, 2.7ms inference, 0.6ms postprocess per image at shape (1, 3, 1088, 1920)\n",
      "\n",
      "image 1/1 /datasets/tdt4265/other/rbk/1_train-val_1min_aalesund_from_start/img1/000619.jpg: 1088x1920 22 players, 2.4ms\n",
      "\n",
      "image 1/1 /datasets/tdt4265/other/rbk/1_train-val_1min_aalesund_from_start/img1/000619.jpg: 1088x1920 1 ball, 2.3ms\n",
      "Speed: 3.2ms preprocess, 2.4ms inference, 0.5ms postprocess per image at shape (1, 3, 1088, 1920)\n",
      "\n",
      "image 1/1 /datasets/tdt4265/other/rbk/1_train-val_1min_aalesund_from_start/img1/000620.jpg: 1088x1920 22 players, 2.3ms\n",
      "\n",
      "image 1/1 /datasets/tdt4265/other/rbk/1_train-val_1min_aalesund_from_start/img1/000620.jpg: 1088x1920 1 ball, 2.7ms\n",
      "Speed: 2.3ms preprocess, 2.3ms inference, 0.5ms postprocess per image at shape (1, 3, 1088, 1920)\n",
      "\n",
      "image 1/1 /datasets/tdt4265/other/rbk/1_train-val_1min_aalesund_from_start/img1/000621.jpg: 1088x1920 22 players, 2.3ms\n",
      "\n",
      "image 1/1 /datasets/tdt4265/other/rbk/1_train-val_1min_aalesund_from_start/img1/000621.jpg: 1088x1920 1 ball, 2.6ms\n",
      "Speed: 3.2ms preprocess, 2.3ms inference, 0.5ms postprocess per image at shape (1, 3, 1088, 1920)\n",
      "\n",
      "image 1/1 /datasets/tdt4265/other/rbk/1_train-val_1min_aalesund_from_start/img1/000622.jpg: 1088x1920 22 players, 2.5ms\n",
      "\n",
      "image 1/1 /datasets/tdt4265/other/rbk/1_train-val_1min_aalesund_from_start/img1/000622.jpg: 1088x1920 1 ball, 2.8ms\n",
      "Speed: 3.4ms preprocess, 2.5ms inference, 0.5ms postprocess per image at shape (1, 3, 1088, 1920)\n",
      "\n",
      "image 1/1 /datasets/tdt4265/other/rbk/1_train-val_1min_aalesund_from_start/img1/000623.jpg: 1088x1920 22 players, 2.7ms\n",
      "\n",
      "image 1/1 /datasets/tdt4265/other/rbk/1_train-val_1min_aalesund_from_start/img1/000623.jpg: 1088x1920 1 ball, 2.6ms\n",
      "Speed: 3.2ms preprocess, 2.7ms inference, 0.5ms postprocess per image at shape (1, 3, 1088, 1920)\n",
      "\n",
      "image 1/1 /datasets/tdt4265/other/rbk/1_train-val_1min_aalesund_from_start/img1/000624.jpg: 1088x1920 22 players, 2.5ms\n",
      "\n",
      "image 1/1 /datasets/tdt4265/other/rbk/1_train-val_1min_aalesund_from_start/img1/000624.jpg: 1088x1920 1 ball, 2.4ms\n",
      "Speed: 2.2ms preprocess, 2.5ms inference, 0.5ms postprocess per image at shape (1, 3, 1088, 1920)\n",
      "\n",
      "image 1/1 /datasets/tdt4265/other/rbk/1_train-val_1min_aalesund_from_start/img1/000625.jpg: 1088x1920 22 players, 2.6ms\n",
      "\n",
      "image 1/1 /datasets/tdt4265/other/rbk/1_train-val_1min_aalesund_from_start/img1/000625.jpg: 1088x1920 1 ball, 2.3ms\n",
      "Speed: 3.3ms preprocess, 2.6ms inference, 0.5ms postprocess per image at shape (1, 3, 1088, 1920)\n",
      "\n",
      "image 1/1 /datasets/tdt4265/other/rbk/1_train-val_1min_aalesund_from_start/img1/000626.jpg: 1088x1920 22 players, 2.6ms\n",
      "\n",
      "image 1/1 /datasets/tdt4265/other/rbk/1_train-val_1min_aalesund_from_start/img1/000626.jpg: 1088x1920 1 ball, 2.3ms\n",
      "Speed: 3.4ms preprocess, 2.6ms inference, 0.9ms postprocess per image at shape (1, 3, 1088, 1920)\n",
      "\n",
      "image 1/1 /datasets/tdt4265/other/rbk/1_train-val_1min_aalesund_from_start/img1/000627.jpg: 1088x1920 22 players, 2.6ms\n",
      "\n",
      "image 1/1 /datasets/tdt4265/other/rbk/1_train-val_1min_aalesund_from_start/img1/000627.jpg: 1088x1920 1 ball, 2.3ms\n",
      "Speed: 3.4ms preprocess, 2.6ms inference, 0.9ms postprocess per image at shape (1, 3, 1088, 1920)\n",
      "\n",
      "image 1/1 /datasets/tdt4265/other/rbk/1_train-val_1min_aalesund_from_start/img1/000628.jpg: 1088x1920 22 players, 2.6ms\n",
      "\n",
      "image 1/1 /datasets/tdt4265/other/rbk/1_train-val_1min_aalesund_from_start/img1/000628.jpg: 1088x1920 1 ball, 2.3ms\n",
      "Speed: 2.3ms preprocess, 2.6ms inference, 0.5ms postprocess per image at shape (1, 3, 1088, 1920)\n",
      "\n",
      "image 1/1 /datasets/tdt4265/other/rbk/1_train-val_1min_aalesund_from_start/img1/000629.jpg: 1088x1920 22 players, 2.3ms\n",
      "\n",
      "image 1/1 /datasets/tdt4265/other/rbk/1_train-val_1min_aalesund_from_start/img1/000629.jpg: 1088x1920 1 ball, 2.3ms\n",
      "Speed: 3.3ms preprocess, 2.3ms inference, 0.5ms postprocess per image at shape (1, 3, 1088, 1920)\n",
      "\n",
      "image 1/1 /datasets/tdt4265/other/rbk/1_train-val_1min_aalesund_from_start/img1/000630.jpg: 1088x1920 22 players, 2.3ms\n",
      "\n",
      "image 1/1 /datasets/tdt4265/other/rbk/1_train-val_1min_aalesund_from_start/img1/000630.jpg: 1088x1920 1 ball, 2.3ms\n",
      "Speed: 2.3ms preprocess, 2.3ms inference, 0.5ms postprocess per image at shape (1, 3, 1088, 1920)\n",
      "\n",
      "image 1/1 /datasets/tdt4265/other/rbk/1_train-val_1min_aalesund_from_start/img1/000631.jpg: 1088x1920 22 players, 2.3ms\n",
      "\n",
      "image 1/1 /datasets/tdt4265/other/rbk/1_train-val_1min_aalesund_from_start/img1/000631.jpg: 1088x1920 1 ball, 2.4ms\n",
      "Speed: 3.2ms preprocess, 2.3ms inference, 0.5ms postprocess per image at shape (1, 3, 1088, 1920)\n",
      "\n",
      "image 1/1 /datasets/tdt4265/other/rbk/1_train-val_1min_aalesund_from_start/img1/000632.jpg: 1088x1920 22 players, 2.4ms\n",
      "\n",
      "image 1/1 /datasets/tdt4265/other/rbk/1_train-val_1min_aalesund_from_start/img1/000632.jpg: 1088x1920 1 ball, 2.5ms\n",
      "Speed: 3.4ms preprocess, 2.4ms inference, 0.5ms postprocess per image at shape (1, 3, 1088, 1920)\n",
      "\n",
      "image 1/1 /datasets/tdt4265/other/rbk/1_train-val_1min_aalesund_from_start/img1/000633.jpg: 1088x1920 22 players, 2.3ms\n",
      "\n",
      "image 1/1 /datasets/tdt4265/other/rbk/1_train-val_1min_aalesund_from_start/img1/000633.jpg: 1088x1920 1 ball, 2.4ms\n",
      "Speed: 3.2ms preprocess, 2.3ms inference, 0.5ms postprocess per image at shape (1, 3, 1088, 1920)\n",
      "\n",
      "image 1/1 /datasets/tdt4265/other/rbk/1_train-val_1min_aalesund_from_start/img1/000634.jpg: 1088x1920 22 players, 2.5ms\n",
      "\n",
      "image 1/1 /datasets/tdt4265/other/rbk/1_train-val_1min_aalesund_from_start/img1/000634.jpg: 1088x1920 1 ball, 3.1ms\n",
      "Speed: 2.2ms preprocess, 2.5ms inference, 0.5ms postprocess per image at shape (1, 3, 1088, 1920)\n",
      "\n",
      "image 1/1 /datasets/tdt4265/other/rbk/1_train-val_1min_aalesund_from_start/img1/000635.jpg: 1088x1920 22 players, 2.3ms\n",
      "\n",
      "image 1/1 /datasets/tdt4265/other/rbk/1_train-val_1min_aalesund_from_start/img1/000635.jpg: 1088x1920 1 ball, 2.6ms\n",
      "Speed: 3.3ms preprocess, 2.3ms inference, 0.6ms postprocess per image at shape (1, 3, 1088, 1920)\n",
      "\n",
      "image 1/1 /datasets/tdt4265/other/rbk/1_train-val_1min_aalesund_from_start/img1/000636.jpg: 1088x1920 22 players, 2.3ms\n",
      "\n",
      "image 1/1 /datasets/tdt4265/other/rbk/1_train-val_1min_aalesund_from_start/img1/000636.jpg: 1088x1920 1 ball, 2.6ms\n",
      "Speed: 3.4ms preprocess, 2.3ms inference, 0.5ms postprocess per image at shape (1, 3, 1088, 1920)\n",
      "\n",
      "image 1/1 /datasets/tdt4265/other/rbk/1_train-val_1min_aalesund_from_start/img1/000637.jpg: 1088x1920 22 players, 2.3ms\n",
      "\n",
      "image 1/1 /datasets/tdt4265/other/rbk/1_train-val_1min_aalesund_from_start/img1/000637.jpg: 1088x1920 1 ball, 2.3ms\n",
      "Speed: 3.4ms preprocess, 2.3ms inference, 0.5ms postprocess per image at shape (1, 3, 1088, 1920)\n",
      "\n",
      "image 1/1 /datasets/tdt4265/other/rbk/1_train-val_1min_aalesund_from_start/img1/000638.jpg: 1088x1920 22 players, 2.6ms\n",
      "\n",
      "image 1/1 /datasets/tdt4265/other/rbk/1_train-val_1min_aalesund_from_start/img1/000638.jpg: 1088x1920 1 ball, 2.3ms\n",
      "Speed: 3.3ms preprocess, 2.6ms inference, 0.5ms postprocess per image at shape (1, 3, 1088, 1920)\n",
      "\n",
      "image 1/1 /datasets/tdt4265/other/rbk/1_train-val_1min_aalesund_from_start/img1/000639.jpg: 1088x1920 22 players, 2.9ms\n",
      "\n",
      "image 1/1 /datasets/tdt4265/other/rbk/1_train-val_1min_aalesund_from_start/img1/000639.jpg: 1088x1920 1 ball, 2.3ms\n",
      "Speed: 3.3ms preprocess, 2.9ms inference, 0.5ms postprocess per image at shape (1, 3, 1088, 1920)\n",
      "\n",
      "image 1/1 /datasets/tdt4265/other/rbk/1_train-val_1min_aalesund_from_start/img1/000640.jpg: 1088x1920 22 players, 2.3ms\n",
      "\n",
      "image 1/1 /datasets/tdt4265/other/rbk/1_train-val_1min_aalesund_from_start/img1/000640.jpg: 1088x1920 1 ball, 2.3ms\n",
      "Speed: 2.3ms preprocess, 2.3ms inference, 0.8ms postprocess per image at shape (1, 3, 1088, 1920)\n",
      "\n",
      "image 1/1 /datasets/tdt4265/other/rbk/1_train-val_1min_aalesund_from_start/img1/000641.jpg: 1088x1920 22 players, 2.4ms\n",
      "\n",
      "image 1/1 /datasets/tdt4265/other/rbk/1_train-val_1min_aalesund_from_start/img1/000641.jpg: 1088x1920 1 ball, 2.3ms\n",
      "Speed: 3.3ms preprocess, 2.4ms inference, 0.5ms postprocess per image at shape (1, 3, 1088, 1920)\n",
      "\n",
      "image 1/1 /datasets/tdt4265/other/rbk/1_train-val_1min_aalesund_from_start/img1/000642.jpg: 1088x1920 22 players, 2.3ms\n",
      "\n",
      "image 1/1 /datasets/tdt4265/other/rbk/1_train-val_1min_aalesund_from_start/img1/000642.jpg: 1088x1920 1 ball, 2.3ms\n",
      "Speed: 3.2ms preprocess, 2.3ms inference, 0.5ms postprocess per image at shape (1, 3, 1088, 1920)\n",
      "\n",
      "image 1/1 /datasets/tdt4265/other/rbk/1_train-val_1min_aalesund_from_start/img1/000643.jpg: 1088x1920 22 players, 2.3ms\n",
      "\n",
      "image 1/1 /datasets/tdt4265/other/rbk/1_train-val_1min_aalesund_from_start/img1/000643.jpg: 1088x1920 1 ball, 2.3ms\n",
      "Speed: 3.1ms preprocess, 2.3ms inference, 0.5ms postprocess per image at shape (1, 3, 1088, 1920)\n",
      "\n",
      "image 1/1 /datasets/tdt4265/other/rbk/1_train-val_1min_aalesund_from_start/img1/000644.jpg: 1088x1920 22 players, 2.3ms\n",
      "\n",
      "image 1/1 /datasets/tdt4265/other/rbk/1_train-val_1min_aalesund_from_start/img1/000644.jpg: 1088x1920 1 ball, 2.5ms\n",
      "Speed: 3.2ms preprocess, 2.3ms inference, 0.5ms postprocess per image at shape (1, 3, 1088, 1920)\n",
      "\n",
      "image 1/1 /datasets/tdt4265/other/rbk/1_train-val_1min_aalesund_from_start/img1/000645.jpg: 1088x1920 22 players, 2.4ms\n",
      "\n",
      "image 1/1 /datasets/tdt4265/other/rbk/1_train-val_1min_aalesund_from_start/img1/000645.jpg: 1088x1920 1 ball, 2.3ms\n",
      "Speed: 3.4ms preprocess, 2.4ms inference, 0.5ms postprocess per image at shape (1, 3, 1088, 1920)\n",
      "\n",
      "image 1/1 /datasets/tdt4265/other/rbk/1_train-val_1min_aalesund_from_start/img1/000646.jpg: 1088x1920 22 players, 2.5ms\n",
      "\n",
      "image 1/1 /datasets/tdt4265/other/rbk/1_train-val_1min_aalesund_from_start/img1/000646.jpg: 1088x1920 1 ball, 2.6ms\n",
      "Speed: 3.3ms preprocess, 2.5ms inference, 0.5ms postprocess per image at shape (1, 3, 1088, 1920)\n",
      "\n",
      "image 1/1 /datasets/tdt4265/other/rbk/1_train-val_1min_aalesund_from_start/img1/000647.jpg: 1088x1920 22 players, 2.5ms\n",
      "\n",
      "image 1/1 /datasets/tdt4265/other/rbk/1_train-val_1min_aalesund_from_start/img1/000647.jpg: 1088x1920 1 ball, 2.6ms\n",
      "Speed: 3.4ms preprocess, 2.5ms inference, 0.6ms postprocess per image at shape (1, 3, 1088, 1920)\n",
      "\n",
      "image 1/1 /datasets/tdt4265/other/rbk/1_train-val_1min_aalesund_from_start/img1/000648.jpg: 1088x1920 22 players, 2.3ms\n",
      "\n",
      "image 1/1 /datasets/tdt4265/other/rbk/1_train-val_1min_aalesund_from_start/img1/000648.jpg: 1088x1920 1 ball, 2.6ms\n",
      "Speed: 3.2ms preprocess, 2.3ms inference, 0.7ms postprocess per image at shape (1, 3, 1088, 1920)\n",
      "\n",
      "image 1/1 /datasets/tdt4265/other/rbk/1_train-val_1min_aalesund_from_start/img1/000649.jpg: 1088x1920 22 players, 2.3ms\n",
      "\n",
      "image 1/1 /datasets/tdt4265/other/rbk/1_train-val_1min_aalesund_from_start/img1/000649.jpg: 1088x1920 1 ball, 2.3ms\n",
      "Speed: 3.2ms preprocess, 2.3ms inference, 0.5ms postprocess per image at shape (1, 3, 1088, 1920)\n",
      "\n",
      "image 1/1 /datasets/tdt4265/other/rbk/1_train-val_1min_aalesund_from_start/img1/000650.jpg: 1088x1920 22 players, 2.6ms\n",
      "\n",
      "image 1/1 /datasets/tdt4265/other/rbk/1_train-val_1min_aalesund_from_start/img1/000650.jpg: 1088x1920 1 ball, 2.3ms\n",
      "Speed: 3.3ms preprocess, 2.6ms inference, 0.5ms postprocess per image at shape (1, 3, 1088, 1920)\n",
      "\n",
      "image 1/1 /datasets/tdt4265/other/rbk/1_train-val_1min_aalesund_from_start/img1/000651.jpg: 1088x1920 22 players, 2.7ms\n",
      "\n",
      "image 1/1 /datasets/tdt4265/other/rbk/1_train-val_1min_aalesund_from_start/img1/000651.jpg: 1088x1920 1 ball, 2.3ms\n",
      "Speed: 3.3ms preprocess, 2.7ms inference, 0.7ms postprocess per image at shape (1, 3, 1088, 1920)\n",
      "\n",
      "image 1/1 /datasets/tdt4265/other/rbk/1_train-val_1min_aalesund_from_start/img1/000652.jpg: 1088x1920 22 players, 2.3ms\n",
      "\n",
      "image 1/1 /datasets/tdt4265/other/rbk/1_train-val_1min_aalesund_from_start/img1/000652.jpg: 1088x1920 1 ball, 2.3ms\n",
      "Speed: 3.4ms preprocess, 2.3ms inference, 0.8ms postprocess per image at shape (1, 3, 1088, 1920)\n",
      "\n",
      "image 1/1 /datasets/tdt4265/other/rbk/1_train-val_1min_aalesund_from_start/img1/000653.jpg: 1088x1920 22 players, 2.3ms\n",
      "\n",
      "image 1/1 /datasets/tdt4265/other/rbk/1_train-val_1min_aalesund_from_start/img1/000653.jpg: 1088x1920 1 ball, 2.3ms\n",
      "Speed: 3.3ms preprocess, 2.3ms inference, 0.5ms postprocess per image at shape (1, 3, 1088, 1920)\n",
      "\n",
      "image 1/1 /datasets/tdt4265/other/rbk/1_train-val_1min_aalesund_from_start/img1/000654.jpg: 1088x1920 22 players, 2.7ms\n",
      "\n",
      "image 1/1 /datasets/tdt4265/other/rbk/1_train-val_1min_aalesund_from_start/img1/000654.jpg: 1088x1920 1 ball, 2.3ms\n",
      "Speed: 2.4ms preprocess, 2.7ms inference, 0.7ms postprocess per image at shape (1, 3, 1088, 1920)\n",
      "\n",
      "image 1/1 /datasets/tdt4265/other/rbk/1_train-val_1min_aalesund_from_start/img1/000655.jpg: 1088x1920 22 players, 2.3ms\n",
      "\n",
      "image 1/1 /datasets/tdt4265/other/rbk/1_train-val_1min_aalesund_from_start/img1/000655.jpg: 1088x1920 1 ball, 2.3ms\n",
      "Speed: 3.2ms preprocess, 2.3ms inference, 0.8ms postprocess per image at shape (1, 3, 1088, 1920)\n",
      "\n",
      "image 1/1 /datasets/tdt4265/other/rbk/1_train-val_1min_aalesund_from_start/img1/000656.jpg: 1088x1920 22 players, 2.3ms\n",
      "\n",
      "image 1/1 /datasets/tdt4265/other/rbk/1_train-val_1min_aalesund_from_start/img1/000656.jpg: 1088x1920 1 ball, 2.4ms\n",
      "Speed: 3.3ms preprocess, 2.3ms inference, 0.5ms postprocess per image at shape (1, 3, 1088, 1920)\n",
      "\n",
      "image 1/1 /datasets/tdt4265/other/rbk/1_train-val_1min_aalesund_from_start/img1/000657.jpg: 1088x1920 22 players, 2.3ms\n",
      "\n",
      "image 1/1 /datasets/tdt4265/other/rbk/1_train-val_1min_aalesund_from_start/img1/000657.jpg: 1088x1920 1 ball, 2.5ms\n",
      "Speed: 3.3ms preprocess, 2.3ms inference, 0.5ms postprocess per image at shape (1, 3, 1088, 1920)\n",
      "\n",
      "image 1/1 /datasets/tdt4265/other/rbk/1_train-val_1min_aalesund_from_start/img1/000658.jpg: 1088x1920 22 players, 2.3ms\n",
      "\n",
      "image 1/1 /datasets/tdt4265/other/rbk/1_train-val_1min_aalesund_from_start/img1/000658.jpg: 1088x1920 1 ball, 2.6ms\n",
      "Speed: 3.3ms preprocess, 2.3ms inference, 0.5ms postprocess per image at shape (1, 3, 1088, 1920)\n",
      "\n",
      "image 1/1 /datasets/tdt4265/other/rbk/1_train-val_1min_aalesund_from_start/img1/000659.jpg: 1088x1920 22 players, 2.3ms\n",
      "\n",
      "image 1/1 /datasets/tdt4265/other/rbk/1_train-val_1min_aalesund_from_start/img1/000659.jpg: 1088x1920 1 ball, 2.4ms\n",
      "Speed: 3.2ms preprocess, 2.3ms inference, 0.5ms postprocess per image at shape (1, 3, 1088, 1920)\n",
      "\n",
      "image 1/1 /datasets/tdt4265/other/rbk/1_train-val_1min_aalesund_from_start/img1/000660.jpg: 1088x1920 22 players, 2.3ms\n",
      "\n",
      "image 1/1 /datasets/tdt4265/other/rbk/1_train-val_1min_aalesund_from_start/img1/000660.jpg: 1088x1920 1 ball, 2.6ms\n",
      "Speed: 3.3ms preprocess, 2.3ms inference, 0.6ms postprocess per image at shape (1, 3, 1088, 1920)\n",
      "\n",
      "image 1/1 /datasets/tdt4265/other/rbk/1_train-val_1min_aalesund_from_start/img1/000661.jpg: 1088x1920 22 players, 2.3ms\n",
      "\n",
      "image 1/1 /datasets/tdt4265/other/rbk/1_train-val_1min_aalesund_from_start/img1/000661.jpg: 1088x1920 1 ball, 2.3ms\n",
      "Speed: 3.3ms preprocess, 2.3ms inference, 0.6ms postprocess per image at shape (1, 3, 1088, 1920)\n",
      "\n",
      "image 1/1 /datasets/tdt4265/other/rbk/1_train-val_1min_aalesund_from_start/img1/000662.jpg: 1088x1920 22 players, 2.8ms\n",
      "\n",
      "image 1/1 /datasets/tdt4265/other/rbk/1_train-val_1min_aalesund_from_start/img1/000662.jpg: 1088x1920 1 ball, 2.3ms\n",
      "Speed: 3.9ms preprocess, 2.8ms inference, 0.9ms postprocess per image at shape (1, 3, 1088, 1920)\n",
      "\n",
      "image 1/1 /datasets/tdt4265/other/rbk/1_train-val_1min_aalesund_from_start/img1/000663.jpg: 1088x1920 22 players, 2.3ms\n",
      "\n",
      "image 1/1 /datasets/tdt4265/other/rbk/1_train-val_1min_aalesund_from_start/img1/000663.jpg: 1088x1920 1 ball, 2.6ms\n",
      "Speed: 3.3ms preprocess, 2.3ms inference, 0.5ms postprocess per image at shape (1, 3, 1088, 1920)\n",
      "\n",
      "image 1/1 /datasets/tdt4265/other/rbk/1_train-val_1min_aalesund_from_start/img1/000664.jpg: 1088x1920 22 players, 2.6ms\n",
      "\n",
      "image 1/1 /datasets/tdt4265/other/rbk/1_train-val_1min_aalesund_from_start/img1/000664.jpg: 1088x1920 1 ball, 2.3ms\n",
      "Speed: 2.2ms preprocess, 2.6ms inference, 0.5ms postprocess per image at shape (1, 3, 1088, 1920)\n",
      "\n",
      "image 1/1 /datasets/tdt4265/other/rbk/1_train-val_1min_aalesund_from_start/img1/000665.jpg: 1088x1920 22 players, 2.6ms\n",
      "\n",
      "image 1/1 /datasets/tdt4265/other/rbk/1_train-val_1min_aalesund_from_start/img1/000665.jpg: 1088x1920 (no detections), 2.8ms\n",
      "Speed: 3.2ms preprocess, 2.6ms inference, 0.5ms postprocess per image at shape (1, 3, 1088, 1920)\n",
      "\n",
      "image 1/1 /datasets/tdt4265/other/rbk/1_train-val_1min_aalesund_from_start/img1/000666.jpg: 1088x1920 22 players, 2.7ms\n",
      "\n",
      "image 1/1 /datasets/tdt4265/other/rbk/1_train-val_1min_aalesund_from_start/img1/000666.jpg: 1088x1920 (no detections), 2.6ms\n",
      "Speed: 3.9ms preprocess, 2.7ms inference, 0.7ms postprocess per image at shape (1, 3, 1088, 1920)\n",
      "\n",
      "image 1/1 /datasets/tdt4265/other/rbk/1_train-val_1min_aalesund_from_start/img1/000667.jpg: 1088x1920 22 players, 2.5ms\n",
      "\n",
      "image 1/1 /datasets/tdt4265/other/rbk/1_train-val_1min_aalesund_from_start/img1/000667.jpg: 1088x1920 (no detections), 2.6ms\n",
      "Speed: 3.4ms preprocess, 2.5ms inference, 0.6ms postprocess per image at shape (1, 3, 1088, 1920)\n",
      "\n",
      "image 1/1 /datasets/tdt4265/other/rbk/1_train-val_1min_aalesund_from_start/img1/000668.jpg: 1088x1920 22 players, 2.4ms\n",
      "\n",
      "image 1/1 /datasets/tdt4265/other/rbk/1_train-val_1min_aalesund_from_start/img1/000668.jpg: 1088x1920 (no detections), 2.6ms\n",
      "Speed: 2.2ms preprocess, 2.4ms inference, 0.5ms postprocess per image at shape (1, 3, 1088, 1920)\n",
      "\n",
      "image 1/1 /datasets/tdt4265/other/rbk/1_train-val_1min_aalesund_from_start/img1/000669.jpg: 1088x1920 22 players, 2.4ms\n",
      "\n",
      "image 1/1 /datasets/tdt4265/other/rbk/1_train-val_1min_aalesund_from_start/img1/000669.jpg: 1088x1920 (no detections), 2.5ms\n",
      "Speed: 3.3ms preprocess, 2.4ms inference, 0.5ms postprocess per image at shape (1, 3, 1088, 1920)\n",
      "\n",
      "image 1/1 /datasets/tdt4265/other/rbk/1_train-val_1min_aalesund_from_start/img1/000670.jpg: 1088x1920 22 players, 2.7ms\n",
      "\n",
      "image 1/1 /datasets/tdt4265/other/rbk/1_train-val_1min_aalesund_from_start/img1/000670.jpg: 1088x1920 1 ball, 2.3ms\n",
      "Speed: 2.2ms preprocess, 2.7ms inference, 0.5ms postprocess per image at shape (1, 3, 1088, 1920)\n",
      "\n",
      "image 1/1 /datasets/tdt4265/other/rbk/1_train-val_1min_aalesund_from_start/img1/000671.jpg: 1088x1920 22 players, 2.4ms\n",
      "\n",
      "image 1/1 /datasets/tdt4265/other/rbk/1_train-val_1min_aalesund_from_start/img1/000671.jpg: 1088x1920 1 ball, 2.3ms\n",
      "Speed: 3.3ms preprocess, 2.4ms inference, 0.8ms postprocess per image at shape (1, 3, 1088, 1920)\n",
      "\n",
      "image 1/1 /datasets/tdt4265/other/rbk/1_train-val_1min_aalesund_from_start/img1/000672.jpg: 1088x1920 22 players, 2.4ms\n",
      "\n",
      "image 1/1 /datasets/tdt4265/other/rbk/1_train-val_1min_aalesund_from_start/img1/000672.jpg: 1088x1920 1 ball, 2.5ms\n",
      "Speed: 3.4ms preprocess, 2.4ms inference, 0.5ms postprocess per image at shape (1, 3, 1088, 1920)\n",
      "\n",
      "image 1/1 /datasets/tdt4265/other/rbk/1_train-val_1min_aalesund_from_start/img1/000673.jpg: 1088x1920 22 players, 2.3ms\n",
      "\n",
      "image 1/1 /datasets/tdt4265/other/rbk/1_train-val_1min_aalesund_from_start/img1/000673.jpg: 1088x1920 1 ball, 2.5ms\n",
      "Speed: 3.1ms preprocess, 2.3ms inference, 0.5ms postprocess per image at shape (1, 3, 1088, 1920)\n",
      "\n",
      "image 1/1 /datasets/tdt4265/other/rbk/1_train-val_1min_aalesund_from_start/img1/000674.jpg: 1088x1920 22 players, 2.3ms\n",
      "\n",
      "image 1/1 /datasets/tdt4265/other/rbk/1_train-val_1min_aalesund_from_start/img1/000674.jpg: 1088x1920 1 ball, 2.6ms\n",
      "Speed: 2.4ms preprocess, 2.3ms inference, 0.5ms postprocess per image at shape (1, 3, 1088, 1920)\n",
      "\n",
      "image 1/1 /datasets/tdt4265/other/rbk/1_train-val_1min_aalesund_from_start/img1/000675.jpg: 1088x1920 22 players, 2.5ms\n",
      "\n",
      "image 1/1 /datasets/tdt4265/other/rbk/1_train-val_1min_aalesund_from_start/img1/000675.jpg: 1088x1920 1 ball, 2.6ms\n",
      "Speed: 3.3ms preprocess, 2.5ms inference, 0.5ms postprocess per image at shape (1, 3, 1088, 1920)\n",
      "\n",
      "image 1/1 /datasets/tdt4265/other/rbk/1_train-val_1min_aalesund_from_start/img1/000676.jpg: 1088x1920 22 players, 2.3ms\n",
      "\n",
      "image 1/1 /datasets/tdt4265/other/rbk/1_train-val_1min_aalesund_from_start/img1/000676.jpg: 1088x1920 1 ball, 2.6ms\n",
      "Speed: 3.3ms preprocess, 2.3ms inference, 0.6ms postprocess per image at shape (1, 3, 1088, 1920)\n",
      "\n",
      "image 1/1 /datasets/tdt4265/other/rbk/1_train-val_1min_aalesund_from_start/img1/000677.jpg: 1088x1920 22 players, 2.3ms\n",
      "\n",
      "image 1/1 /datasets/tdt4265/other/rbk/1_train-val_1min_aalesund_from_start/img1/000677.jpg: 1088x1920 1 ball, 2.6ms\n",
      "Speed: 3.4ms preprocess, 2.3ms inference, 0.6ms postprocess per image at shape (1, 3, 1088, 1920)\n",
      "\n",
      "image 1/1 /datasets/tdt4265/other/rbk/1_train-val_1min_aalesund_from_start/img1/000678.jpg: 1088x1920 22 players, 2.3ms\n",
      "\n",
      "image 1/1 /datasets/tdt4265/other/rbk/1_train-val_1min_aalesund_from_start/img1/000678.jpg: 1088x1920 1 ball, 2.6ms\n",
      "Speed: 3.4ms preprocess, 2.3ms inference, 0.6ms postprocess per image at shape (1, 3, 1088, 1920)\n",
      "\n",
      "image 1/1 /datasets/tdt4265/other/rbk/1_train-val_1min_aalesund_from_start/img1/000679.jpg: 1088x1920 22 players, 2.5ms\n",
      "\n",
      "image 1/1 /datasets/tdt4265/other/rbk/1_train-val_1min_aalesund_from_start/img1/000679.jpg: 1088x1920 1 ball, 2.6ms\n",
      "Speed: 2.4ms preprocess, 2.5ms inference, 0.7ms postprocess per image at shape (1, 3, 1088, 1920)\n",
      "\n",
      "image 1/1 /datasets/tdt4265/other/rbk/1_train-val_1min_aalesund_from_start/img1/000680.jpg: 1088x1920 22 players, 2.6ms\n",
      "\n",
      "image 1/1 /datasets/tdt4265/other/rbk/1_train-val_1min_aalesund_from_start/img1/000680.jpg: 1088x1920 1 ball, 2.3ms\n",
      "Speed: 3.0ms preprocess, 2.6ms inference, 0.5ms postprocess per image at shape (1, 3, 1088, 1920)\n",
      "\n",
      "image 1/1 /datasets/tdt4265/other/rbk/1_train-val_1min_aalesund_from_start/img1/000681.jpg: 1088x1920 22 players, 2.6ms\n",
      "\n",
      "image 1/1 /datasets/tdt4265/other/rbk/1_train-val_1min_aalesund_from_start/img1/000681.jpg: 1088x1920 1 ball, 2.3ms\n",
      "Speed: 3.3ms preprocess, 2.6ms inference, 0.7ms postprocess per image at shape (1, 3, 1088, 1920)\n",
      "\n",
      "image 1/1 /datasets/tdt4265/other/rbk/1_train-val_1min_aalesund_from_start/img1/000682.jpg: 1088x1920 22 players, 2.6ms\n",
      "\n",
      "image 1/1 /datasets/tdt4265/other/rbk/1_train-val_1min_aalesund_from_start/img1/000682.jpg: 1088x1920 1 ball, 2.4ms\n",
      "Speed: 3.3ms preprocess, 2.6ms inference, 0.7ms postprocess per image at shape (1, 3, 1088, 1920)\n",
      "\n",
      "image 1/1 /datasets/tdt4265/other/rbk/1_train-val_1min_aalesund_from_start/img1/000683.jpg: 1088x1920 22 players, 2.6ms\n",
      "\n",
      "image 1/1 /datasets/tdt4265/other/rbk/1_train-val_1min_aalesund_from_start/img1/000683.jpg: 1088x1920 1 ball, 2.3ms\n",
      "Speed: 3.8ms preprocess, 2.6ms inference, 0.6ms postprocess per image at shape (1, 3, 1088, 1920)\n",
      "\n",
      "image 1/1 /datasets/tdt4265/other/rbk/1_train-val_1min_aalesund_from_start/img1/000684.jpg: 1088x1920 22 players, 2.6ms\n",
      "\n",
      "image 1/1 /datasets/tdt4265/other/rbk/1_train-val_1min_aalesund_from_start/img1/000684.jpg: 1088x1920 1 ball, 2.6ms\n",
      "Speed: 3.4ms preprocess, 2.6ms inference, 0.5ms postprocess per image at shape (1, 3, 1088, 1920)\n",
      "\n",
      "image 1/1 /datasets/tdt4265/other/rbk/1_train-val_1min_aalesund_from_start/img1/000685.jpg: 1088x1920 22 players, 2.6ms\n",
      "\n",
      "image 1/1 /datasets/tdt4265/other/rbk/1_train-val_1min_aalesund_from_start/img1/000685.jpg: 1088x1920 1 ball, 2.7ms\n",
      "Speed: 2.5ms preprocess, 2.6ms inference, 0.5ms postprocess per image at shape (1, 3, 1088, 1920)\n",
      "\n",
      "image 1/1 /datasets/tdt4265/other/rbk/1_train-val_1min_aalesund_from_start/img1/000686.jpg: 1088x1920 22 players, 2.4ms\n",
      "\n",
      "image 1/1 /datasets/tdt4265/other/rbk/1_train-val_1min_aalesund_from_start/img1/000686.jpg: 1088x1920 1 ball, 2.6ms\n",
      "Speed: 3.4ms preprocess, 2.4ms inference, 0.7ms postprocess per image at shape (1, 3, 1088, 1920)\n",
      "\n",
      "image 1/1 /datasets/tdt4265/other/rbk/1_train-val_1min_aalesund_from_start/img1/000687.jpg: 1088x1920 22 players, 2.3ms\n",
      "\n",
      "image 1/1 /datasets/tdt4265/other/rbk/1_train-val_1min_aalesund_from_start/img1/000687.jpg: 1088x1920 1 ball, 2.6ms\n",
      "Speed: 3.4ms preprocess, 2.3ms inference, 0.6ms postprocess per image at shape (1, 3, 1088, 1920)\n",
      "\n",
      "image 1/1 /datasets/tdt4265/other/rbk/1_train-val_1min_aalesund_from_start/img1/000688.jpg: 1088x1920 22 players, 2.5ms\n",
      "\n",
      "image 1/1 /datasets/tdt4265/other/rbk/1_train-val_1min_aalesund_from_start/img1/000688.jpg: 1088x1920 1 ball, 2.5ms\n",
      "Speed: 3.3ms preprocess, 2.5ms inference, 0.5ms postprocess per image at shape (1, 3, 1088, 1920)\n",
      "\n",
      "image 1/1 /datasets/tdt4265/other/rbk/1_train-val_1min_aalesund_from_start/img1/000689.jpg: 1088x1920 22 players, 2.5ms\n",
      "\n",
      "image 1/1 /datasets/tdt4265/other/rbk/1_train-val_1min_aalesund_from_start/img1/000689.jpg: 1088x1920 1 ball, 2.8ms\n",
      "Speed: 2.3ms preprocess, 2.5ms inference, 0.5ms postprocess per image at shape (1, 3, 1088, 1920)\n",
      "\n",
      "image 1/1 /datasets/tdt4265/other/rbk/1_train-val_1min_aalesund_from_start/img1/000690.jpg: 1088x1920 22 players, 2.5ms\n",
      "\n",
      "image 1/1 /datasets/tdt4265/other/rbk/1_train-val_1min_aalesund_from_start/img1/000690.jpg: 1088x1920 1 ball, 2.9ms\n",
      "Speed: 3.2ms preprocess, 2.5ms inference, 0.5ms postprocess per image at shape (1, 3, 1088, 1920)\n",
      "\n",
      "image 1/1 /datasets/tdt4265/other/rbk/1_train-val_1min_aalesund_from_start/img1/000691.jpg: 1088x1920 22 players, 2.5ms\n",
      "\n",
      "image 1/1 /datasets/tdt4265/other/rbk/1_train-val_1min_aalesund_from_start/img1/000691.jpg: 1088x1920 1 ball, 2.6ms\n",
      "Speed: 3.2ms preprocess, 2.5ms inference, 0.5ms postprocess per image at shape (1, 3, 1088, 1920)\n",
      "\n",
      "image 1/1 /datasets/tdt4265/other/rbk/1_train-val_1min_aalesund_from_start/img1/000692.jpg: 1088x1920 22 players, 2.5ms\n",
      "\n",
      "image 1/1 /datasets/tdt4265/other/rbk/1_train-val_1min_aalesund_from_start/img1/000692.jpg: 1088x1920 1 ball, 2.6ms\n",
      "Speed: 3.3ms preprocess, 2.5ms inference, 0.5ms postprocess per image at shape (1, 3, 1088, 1920)\n",
      "\n",
      "image 1/1 /datasets/tdt4265/other/rbk/1_train-val_1min_aalesund_from_start/img1/000693.jpg: 1088x1920 22 players, 2.5ms\n",
      "\n",
      "image 1/1 /datasets/tdt4265/other/rbk/1_train-val_1min_aalesund_from_start/img1/000693.jpg: 1088x1920 1 ball, 2.6ms\n",
      "Speed: 3.3ms preprocess, 2.5ms inference, 0.5ms postprocess per image at shape (1, 3, 1088, 1920)\n",
      "\n",
      "image 1/1 /datasets/tdt4265/other/rbk/1_train-val_1min_aalesund_from_start/img1/000694.jpg: 1088x1920 23 players, 2.4ms\n",
      "\n",
      "image 1/1 /datasets/tdt4265/other/rbk/1_train-val_1min_aalesund_from_start/img1/000694.jpg: 1088x1920 1 ball, 2.5ms\n",
      "Speed: 3.3ms preprocess, 2.4ms inference, 0.5ms postprocess per image at shape (1, 3, 1088, 1920)\n",
      "\n",
      "image 1/1 /datasets/tdt4265/other/rbk/1_train-val_1min_aalesund_from_start/img1/000695.jpg: 1088x1920 23 players, 2.3ms\n",
      "\n",
      "image 1/1 /datasets/tdt4265/other/rbk/1_train-val_1min_aalesund_from_start/img1/000695.jpg: 1088x1920 (no detections), 2.7ms\n",
      "Speed: 3.2ms preprocess, 2.3ms inference, 0.5ms postprocess per image at shape (1, 3, 1088, 1920)\n",
      "\n",
      "image 1/1 /datasets/tdt4265/other/rbk/1_train-val_1min_aalesund_from_start/img1/000696.jpg: 1088x1920 23 players, 2.9ms\n",
      "\n",
      "image 1/1 /datasets/tdt4265/other/rbk/1_train-val_1min_aalesund_from_start/img1/000696.jpg: 1088x1920 (no detections), 2.4ms\n",
      "Speed: 3.2ms preprocess, 2.9ms inference, 0.5ms postprocess per image at shape (1, 3, 1088, 1920)\n",
      "\n",
      "image 1/1 /datasets/tdt4265/other/rbk/1_train-val_1min_aalesund_from_start/img1/000697.jpg: 1088x1920 23 players, 2.6ms\n",
      "\n",
      "image 1/1 /datasets/tdt4265/other/rbk/1_train-val_1min_aalesund_from_start/img1/000697.jpg: 1088x1920 1 ball, 2.3ms\n",
      "Speed: 3.4ms preprocess, 2.6ms inference, 0.7ms postprocess per image at shape (1, 3, 1088, 1920)\n",
      "\n",
      "image 1/1 /datasets/tdt4265/other/rbk/1_train-val_1min_aalesund_from_start/img1/000698.jpg: 1088x1920 23 players, 2.6ms\n",
      "\n",
      "image 1/1 /datasets/tdt4265/other/rbk/1_train-val_1min_aalesund_from_start/img1/000698.jpg: 1088x1920 1 ball, 2.3ms\n",
      "Speed: 3.3ms preprocess, 2.6ms inference, 0.7ms postprocess per image at shape (1, 3, 1088, 1920)\n",
      "\n",
      "image 1/1 /datasets/tdt4265/other/rbk/1_train-val_1min_aalesund_from_start/img1/000699.jpg: 1088x1920 23 players, 2.7ms\n",
      "\n",
      "image 1/1 /datasets/tdt4265/other/rbk/1_train-val_1min_aalesund_from_start/img1/000699.jpg: 1088x1920 1 ball, 2.7ms\n",
      "Speed: 2.3ms preprocess, 2.7ms inference, 0.6ms postprocess per image at shape (1, 3, 1088, 1920)\n",
      "\n",
      "image 1/1 /datasets/tdt4265/other/rbk/1_train-val_1min_aalesund_from_start/img1/000700.jpg: 1088x1920 23 players, 2.6ms\n",
      "\n",
      "image 1/1 /datasets/tdt4265/other/rbk/1_train-val_1min_aalesund_from_start/img1/000700.jpg: 1088x1920 1 ball, 2.6ms\n",
      "Speed: 3.2ms preprocess, 2.6ms inference, 0.5ms postprocess per image at shape (1, 3, 1088, 1920)\n",
      "\n",
      "image 1/1 /datasets/tdt4265/other/rbk/1_train-val_1min_aalesund_from_start/img1/000701.jpg: 1088x1920 23 players, 2.6ms\n",
      "\n",
      "image 1/1 /datasets/tdt4265/other/rbk/1_train-val_1min_aalesund_from_start/img1/000701.jpg: 1088x1920 1 ball, 2.6ms\n",
      "Speed: 2.3ms preprocess, 2.6ms inference, 0.5ms postprocess per image at shape (1, 3, 1088, 1920)\n",
      "\n",
      "image 1/1 /datasets/tdt4265/other/rbk/1_train-val_1min_aalesund_from_start/img1/000702.jpg: 1088x1920 23 players, 2.4ms\n",
      "\n",
      "image 1/1 /datasets/tdt4265/other/rbk/1_train-val_1min_aalesund_from_start/img1/000702.jpg: 1088x1920 1 ball, 2.6ms\n",
      "Speed: 3.5ms preprocess, 2.4ms inference, 0.6ms postprocess per image at shape (1, 3, 1088, 1920)\n",
      "\n",
      "image 1/1 /datasets/tdt4265/other/rbk/1_train-val_1min_aalesund_from_start/img1/000703.jpg: 1088x1920 23 players, 2.3ms\n",
      "\n",
      "image 1/1 /datasets/tdt4265/other/rbk/1_train-val_1min_aalesund_from_start/img1/000703.jpg: 1088x1920 1 ball, 2.6ms\n",
      "Speed: 3.2ms preprocess, 2.3ms inference, 0.6ms postprocess per image at shape (1, 3, 1088, 1920)\n",
      "\n",
      "image 1/1 /datasets/tdt4265/other/rbk/1_train-val_1min_aalesund_from_start/img1/000704.jpg: 1088x1920 23 players, 2.5ms\n",
      "\n",
      "image 1/1 /datasets/tdt4265/other/rbk/1_train-val_1min_aalesund_from_start/img1/000704.jpg: 1088x1920 1 ball, 2.6ms\n",
      "Speed: 3.2ms preprocess, 2.5ms inference, 0.5ms postprocess per image at shape (1, 3, 1088, 1920)\n",
      "\n",
      "image 1/1 /datasets/tdt4265/other/rbk/1_train-val_1min_aalesund_from_start/img1/000705.jpg: 1088x1920 23 players, 2.3ms\n",
      "\n",
      "image 1/1 /datasets/tdt4265/other/rbk/1_train-val_1min_aalesund_from_start/img1/000705.jpg: 1088x1920 1 ball, 2.9ms\n",
      "Speed: 3.3ms preprocess, 2.3ms inference, 0.6ms postprocess per image at shape (1, 3, 1088, 1920)\n",
      "\n",
      "image 1/1 /datasets/tdt4265/other/rbk/1_train-val_1min_aalesund_from_start/img1/000706.jpg: 1088x1920 23 players, 2.5ms\n",
      "\n",
      "image 1/1 /datasets/tdt4265/other/rbk/1_train-val_1min_aalesund_from_start/img1/000706.jpg: 1088x1920 1 ball, 2.4ms\n",
      "Speed: 3.2ms preprocess, 2.5ms inference, 0.5ms postprocess per image at shape (1, 3, 1088, 1920)\n",
      "\n",
      "image 1/1 /datasets/tdt4265/other/rbk/1_train-val_1min_aalesund_from_start/img1/000707.jpg: 1088x1920 23 players, 2.5ms\n",
      "\n",
      "image 1/1 /datasets/tdt4265/other/rbk/1_train-val_1min_aalesund_from_start/img1/000707.jpg: 1088x1920 1 ball, 2.6ms\n",
      "Speed: 3.2ms preprocess, 2.5ms inference, 0.5ms postprocess per image at shape (1, 3, 1088, 1920)\n",
      "\n",
      "image 1/1 /datasets/tdt4265/other/rbk/1_train-val_1min_aalesund_from_start/img1/000708.jpg: 1088x1920 23 players, 2.5ms\n",
      "\n",
      "image 1/1 /datasets/tdt4265/other/rbk/1_train-val_1min_aalesund_from_start/img1/000708.jpg: 1088x1920 1 ball, 2.5ms\n",
      "Speed: 3.2ms preprocess, 2.5ms inference, 0.5ms postprocess per image at shape (1, 3, 1088, 1920)\n",
      "\n",
      "image 1/1 /datasets/tdt4265/other/rbk/1_train-val_1min_aalesund_from_start/img1/000709.jpg: 1088x1920 23 players, 2.5ms\n",
      "\n",
      "image 1/1 /datasets/tdt4265/other/rbk/1_train-val_1min_aalesund_from_start/img1/000709.jpg: 1088x1920 1 ball, 2.6ms\n",
      "Speed: 2.4ms preprocess, 2.5ms inference, 0.5ms postprocess per image at shape (1, 3, 1088, 1920)\n",
      "\n",
      "image 1/1 /datasets/tdt4265/other/rbk/1_train-val_1min_aalesund_from_start/img1/000710.jpg: 1088x1920 23 players, 2.5ms\n",
      "\n",
      "image 1/1 /datasets/tdt4265/other/rbk/1_train-val_1min_aalesund_from_start/img1/000710.jpg: 1088x1920 1 ball, 2.6ms\n",
      "Speed: 2.3ms preprocess, 2.5ms inference, 0.5ms postprocess per image at shape (1, 3, 1088, 1920)\n",
      "\n",
      "image 1/1 /datasets/tdt4265/other/rbk/1_train-val_1min_aalesund_from_start/img1/000711.jpg: 1088x1920 23 players, 2.5ms\n",
      "\n",
      "image 1/1 /datasets/tdt4265/other/rbk/1_train-val_1min_aalesund_from_start/img1/000711.jpg: 1088x1920 1 ball, 2.7ms\n",
      "Speed: 3.2ms preprocess, 2.5ms inference, 0.5ms postprocess per image at shape (1, 3, 1088, 1920)\n",
      "\n",
      "image 1/1 /datasets/tdt4265/other/rbk/1_train-val_1min_aalesund_from_start/img1/000712.jpg: 1088x1920 23 players, 2.3ms\n",
      "\n",
      "image 1/1 /datasets/tdt4265/other/rbk/1_train-val_1min_aalesund_from_start/img1/000712.jpg: 1088x1920 (no detections), 2.3ms\n",
      "Speed: 3.2ms preprocess, 2.3ms inference, 0.5ms postprocess per image at shape (1, 3, 1088, 1920)\n",
      "\n",
      "image 1/1 /datasets/tdt4265/other/rbk/1_train-val_1min_aalesund_from_start/img1/000713.jpg: 1088x1920 23 players, 2.8ms\n",
      "\n",
      "image 1/1 /datasets/tdt4265/other/rbk/1_train-val_1min_aalesund_from_start/img1/000713.jpg: 1088x1920 (no detections), 2.3ms\n",
      "Speed: 3.3ms preprocess, 2.8ms inference, 0.5ms postprocess per image at shape (1, 3, 1088, 1920)\n",
      "\n",
      "image 1/1 /datasets/tdt4265/other/rbk/1_train-val_1min_aalesund_from_start/img1/000714.jpg: 1088x1920 23 players, 2.4ms\n",
      "\n",
      "image 1/1 /datasets/tdt4265/other/rbk/1_train-val_1min_aalesund_from_start/img1/000714.jpg: 1088x1920 (no detections), 2.9ms\n",
      "Speed: 3.4ms preprocess, 2.4ms inference, 1.0ms postprocess per image at shape (1, 3, 1088, 1920)\n",
      "\n",
      "image 1/1 /datasets/tdt4265/other/rbk/1_train-val_1min_aalesund_from_start/img1/000715.jpg: 1088x1920 23 players, 2.3ms\n",
      "\n",
      "image 1/1 /datasets/tdt4265/other/rbk/1_train-val_1min_aalesund_from_start/img1/000715.jpg: 1088x1920 1 ball, 2.8ms\n",
      "Speed: 3.3ms preprocess, 2.3ms inference, 0.5ms postprocess per image at shape (1, 3, 1088, 1920)\n",
      "\n",
      "image 1/1 /datasets/tdt4265/other/rbk/1_train-val_1min_aalesund_from_start/img1/000716.jpg: 1088x1920 23 players, 2.7ms\n",
      "\n",
      "image 1/1 /datasets/tdt4265/other/rbk/1_train-val_1min_aalesund_from_start/img1/000716.jpg: 1088x1920 1 ball, 2.3ms\n",
      "Speed: 3.7ms preprocess, 2.7ms inference, 0.5ms postprocess per image at shape (1, 3, 1088, 1920)\n",
      "\n",
      "image 1/1 /datasets/tdt4265/other/rbk/1_train-val_1min_aalesund_from_start/img1/000717.jpg: 1088x1920 23 players, 2.5ms\n",
      "\n",
      "image 1/1 /datasets/tdt4265/other/rbk/1_train-val_1min_aalesund_from_start/img1/000717.jpg: 1088x1920 1 ball, 2.3ms\n",
      "Speed: 3.2ms preprocess, 2.5ms inference, 0.5ms postprocess per image at shape (1, 3, 1088, 1920)\n",
      "\n",
      "image 1/1 /datasets/tdt4265/other/rbk/1_train-val_1min_aalesund_from_start/img1/000718.jpg: 1088x1920 23 players, 2.5ms\n",
      "\n",
      "image 1/1 /datasets/tdt4265/other/rbk/1_train-val_1min_aalesund_from_start/img1/000718.jpg: 1088x1920 1 ball, 2.3ms\n",
      "Speed: 3.2ms preprocess, 2.5ms inference, 0.5ms postprocess per image at shape (1, 3, 1088, 1920)\n",
      "\n",
      "image 1/1 /datasets/tdt4265/other/rbk/1_train-val_1min_aalesund_from_start/img1/000719.jpg: 1088x1920 23 players, 2.5ms\n",
      "\n",
      "image 1/1 /datasets/tdt4265/other/rbk/1_train-val_1min_aalesund_from_start/img1/000719.jpg: 1088x1920 1 ball, 2.3ms\n",
      "Speed: 3.3ms preprocess, 2.5ms inference, 0.5ms postprocess per image at shape (1, 3, 1088, 1920)\n",
      "\n",
      "image 1/1 /datasets/tdt4265/other/rbk/1_train-val_1min_aalesund_from_start/img1/000720.jpg: 1088x1920 23 players, 2.6ms\n",
      "\n",
      "image 1/1 /datasets/tdt4265/other/rbk/1_train-val_1min_aalesund_from_start/img1/000720.jpg: 1088x1920 1 ball, 2.6ms\n",
      "Speed: 3.7ms preprocess, 2.6ms inference, 0.5ms postprocess per image at shape (1, 3, 1088, 1920)\n",
      "\n",
      "image 1/1 /datasets/tdt4265/other/rbk/1_train-val_1min_aalesund_from_start/img1/000721.jpg: 1088x1920 22 players, 2.3ms\n",
      "\n",
      "image 1/1 /datasets/tdt4265/other/rbk/1_train-val_1min_aalesund_from_start/img1/000721.jpg: 1088x1920 1 ball, 2.6ms\n",
      "Speed: 3.2ms preprocess, 2.3ms inference, 0.5ms postprocess per image at shape (1, 3, 1088, 1920)\n",
      "\n",
      "image 1/1 /datasets/tdt4265/other/rbk/1_train-val_1min_aalesund_from_start/img1/000722.jpg: 1088x1920 22 players, 2.3ms\n",
      "\n",
      "image 1/1 /datasets/tdt4265/other/rbk/1_train-val_1min_aalesund_from_start/img1/000722.jpg: 1088x1920 1 ball, 2.3ms\n",
      "Speed: 3.2ms preprocess, 2.3ms inference, 0.5ms postprocess per image at shape (1, 3, 1088, 1920)\n",
      "\n",
      "image 1/1 /datasets/tdt4265/other/rbk/1_train-val_1min_aalesund_from_start/img1/000723.jpg: 1088x1920 22 players, 2.3ms\n",
      "\n",
      "image 1/1 /datasets/tdt4265/other/rbk/1_train-val_1min_aalesund_from_start/img1/000723.jpg: 1088x1920 1 ball, 2.5ms\n",
      "Speed: 3.2ms preprocess, 2.3ms inference, 0.5ms postprocess per image at shape (1, 3, 1088, 1920)\n",
      "\n",
      "image 1/1 /datasets/tdt4265/other/rbk/1_train-val_1min_aalesund_from_start/img1/000724.jpg: 1088x1920 23 players, 2.4ms\n",
      "\n",
      "image 1/1 /datasets/tdt4265/other/rbk/1_train-val_1min_aalesund_from_start/img1/000724.jpg: 1088x1920 1 ball, 2.4ms\n",
      "Speed: 3.3ms preprocess, 2.4ms inference, 0.6ms postprocess per image at shape (1, 3, 1088, 1920)\n",
      "\n",
      "image 1/1 /datasets/tdt4265/other/rbk/1_train-val_1min_aalesund_from_start/img1/000725.jpg: 1088x1920 23 players, 2.4ms\n",
      "\n",
      "image 1/1 /datasets/tdt4265/other/rbk/1_train-val_1min_aalesund_from_start/img1/000725.jpg: 1088x1920 1 ball, 2.5ms\n",
      "Speed: 3.3ms preprocess, 2.4ms inference, 0.5ms postprocess per image at shape (1, 3, 1088, 1920)\n",
      "\n",
      "image 1/1 /datasets/tdt4265/other/rbk/1_train-val_1min_aalesund_from_start/img1/000726.jpg: 1088x1920 23 players, 2.4ms\n",
      "\n",
      "image 1/1 /datasets/tdt4265/other/rbk/1_train-val_1min_aalesund_from_start/img1/000726.jpg: 1088x1920 1 ball, 2.3ms\n",
      "Speed: 3.3ms preprocess, 2.4ms inference, 0.5ms postprocess per image at shape (1, 3, 1088, 1920)\n",
      "\n",
      "image 1/1 /datasets/tdt4265/other/rbk/1_train-val_1min_aalesund_from_start/img1/000727.jpg: 1088x1920 23 players, 2.3ms\n",
      "\n",
      "image 1/1 /datasets/tdt4265/other/rbk/1_train-val_1min_aalesund_from_start/img1/000727.jpg: 1088x1920 (no detections), 3.1ms\n",
      "Speed: 2.3ms preprocess, 2.3ms inference, 0.5ms postprocess per image at shape (1, 3, 1088, 1920)\n",
      "\n",
      "image 1/1 /datasets/tdt4265/other/rbk/1_train-val_1min_aalesund_from_start/img1/000728.jpg: 1088x1920 23 players, 2.4ms\n",
      "\n",
      "image 1/1 /datasets/tdt4265/other/rbk/1_train-val_1min_aalesund_from_start/img1/000728.jpg: 1088x1920 1 ball, 2.8ms\n",
      "Speed: 4.4ms preprocess, 2.4ms inference, 0.5ms postprocess per image at shape (1, 3, 1088, 1920)\n",
      "\n",
      "image 1/1 /datasets/tdt4265/other/rbk/1_train-val_1min_aalesund_from_start/img1/000729.jpg: 1088x1920 23 players, 2.3ms\n",
      "\n",
      "image 1/1 /datasets/tdt4265/other/rbk/1_train-val_1min_aalesund_from_start/img1/000729.jpg: 1088x1920 1 ball, 2.8ms\n",
      "Speed: 2.3ms preprocess, 2.3ms inference, 0.5ms postprocess per image at shape (1, 3, 1088, 1920)\n",
      "\n",
      "image 1/1 /datasets/tdt4265/other/rbk/1_train-val_1min_aalesund_from_start/img1/000730.jpg: 1088x1920 23 players, 2.3ms\n",
      "\n",
      "image 1/1 /datasets/tdt4265/other/rbk/1_train-val_1min_aalesund_from_start/img1/000730.jpg: 1088x1920 1 ball, 2.5ms\n",
      "Speed: 3.2ms preprocess, 2.3ms inference, 0.6ms postprocess per image at shape (1, 3, 1088, 1920)\n",
      "\n",
      "image 1/1 /datasets/tdt4265/other/rbk/1_train-val_1min_aalesund_from_start/img1/000731.jpg: 1088x1920 23 players, 2.3ms\n",
      "\n",
      "image 1/1 /datasets/tdt4265/other/rbk/1_train-val_1min_aalesund_from_start/img1/000731.jpg: 1088x1920 1 ball, 2.6ms\n",
      "Speed: 3.2ms preprocess, 2.3ms inference, 0.6ms postprocess per image at shape (1, 3, 1088, 1920)\n",
      "\n",
      "image 1/1 /datasets/tdt4265/other/rbk/1_train-val_1min_aalesund_from_start/img1/000732.jpg: 1088x1920 23 players, 2.5ms\n",
      "\n",
      "image 1/1 /datasets/tdt4265/other/rbk/1_train-val_1min_aalesund_from_start/img1/000732.jpg: 1088x1920 1 ball, 2.3ms\n",
      "Speed: 3.3ms preprocess, 2.5ms inference, 0.5ms postprocess per image at shape (1, 3, 1088, 1920)\n",
      "\n",
      "image 1/1 /datasets/tdt4265/other/rbk/1_train-val_1min_aalesund_from_start/img1/000733.jpg: 1088x1920 23 players, 2.5ms\n",
      "\n",
      "image 1/1 /datasets/tdt4265/other/rbk/1_train-val_1min_aalesund_from_start/img1/000733.jpg: 1088x1920 1 ball, 2.4ms\n",
      "Speed: 3.3ms preprocess, 2.5ms inference, 0.5ms postprocess per image at shape (1, 3, 1088, 1920)\n",
      "\n",
      "image 1/1 /datasets/tdt4265/other/rbk/1_train-val_1min_aalesund_from_start/img1/000734.jpg: 1088x1920 23 players, 2.3ms\n",
      "\n",
      "image 1/1 /datasets/tdt4265/other/rbk/1_train-val_1min_aalesund_from_start/img1/000734.jpg: 1088x1920 1 ball, 2.4ms\n",
      "Speed: 3.2ms preprocess, 2.3ms inference, 0.5ms postprocess per image at shape (1, 3, 1088, 1920)\n",
      "\n",
      "image 1/1 /datasets/tdt4265/other/rbk/1_train-val_1min_aalesund_from_start/img1/000735.jpg: 1088x1920 23 players, 2.3ms\n",
      "\n",
      "image 1/1 /datasets/tdt4265/other/rbk/1_train-val_1min_aalesund_from_start/img1/000735.jpg: 1088x1920 1 ball, 2.4ms\n",
      "Speed: 3.3ms preprocess, 2.3ms inference, 0.5ms postprocess per image at shape (1, 3, 1088, 1920)\n",
      "\n",
      "image 1/1 /datasets/tdt4265/other/rbk/1_train-val_1min_aalesund_from_start/img1/000736.jpg: 1088x1920 23 players, 3.1ms\n",
      "\n",
      "image 1/1 /datasets/tdt4265/other/rbk/1_train-val_1min_aalesund_from_start/img1/000736.jpg: 1088x1920 1 ball, 2.5ms\n",
      "Speed: 3.9ms preprocess, 3.1ms inference, 0.6ms postprocess per image at shape (1, 3, 1088, 1920)\n",
      "\n",
      "image 1/1 /datasets/tdt4265/other/rbk/1_train-val_1min_aalesund_from_start/img1/000737.jpg: 1088x1920 23 players, 2.3ms\n",
      "\n",
      "image 1/1 /datasets/tdt4265/other/rbk/1_train-val_1min_aalesund_from_start/img1/000737.jpg: 1088x1920 1 ball, 2.5ms\n",
      "Speed: 2.3ms preprocess, 2.3ms inference, 0.5ms postprocess per image at shape (1, 3, 1088, 1920)\n",
      "\n",
      "image 1/1 /datasets/tdt4265/other/rbk/1_train-val_1min_aalesund_from_start/img1/000738.jpg: 1088x1920 23 players, 2.3ms\n",
      "\n",
      "image 1/1 /datasets/tdt4265/other/rbk/1_train-val_1min_aalesund_from_start/img1/000738.jpg: 1088x1920 1 ball, 2.5ms\n",
      "Speed: 3.3ms preprocess, 2.3ms inference, 0.5ms postprocess per image at shape (1, 3, 1088, 1920)\n",
      "\n",
      "image 1/1 /datasets/tdt4265/other/rbk/1_train-val_1min_aalesund_from_start/img1/000739.jpg: 1088x1920 23 players, 2.3ms\n",
      "\n",
      "image 1/1 /datasets/tdt4265/other/rbk/1_train-val_1min_aalesund_from_start/img1/000739.jpg: 1088x1920 1 ball, 2.8ms\n",
      "Speed: 2.3ms preprocess, 2.3ms inference, 0.5ms postprocess per image at shape (1, 3, 1088, 1920)\n",
      "\n",
      "image 1/1 /datasets/tdt4265/other/rbk/1_train-val_1min_aalesund_from_start/img1/000740.jpg: 1088x1920 23 players, 2.3ms\n",
      "\n",
      "image 1/1 /datasets/tdt4265/other/rbk/1_train-val_1min_aalesund_from_start/img1/000740.jpg: 1088x1920 1 ball, 2.5ms\n",
      "Speed: 3.3ms preprocess, 2.3ms inference, 0.5ms postprocess per image at shape (1, 3, 1088, 1920)\n",
      "\n",
      "image 1/1 /datasets/tdt4265/other/rbk/1_train-val_1min_aalesund_from_start/img1/000741.jpg: 1088x1920 23 players, 2.4ms\n",
      "\n",
      "image 1/1 /datasets/tdt4265/other/rbk/1_train-val_1min_aalesund_from_start/img1/000741.jpg: 1088x1920 1 ball, 2.4ms\n",
      "Speed: 3.3ms preprocess, 2.4ms inference, 0.5ms postprocess per image at shape (1, 3, 1088, 1920)\n",
      "\n",
      "image 1/1 /datasets/tdt4265/other/rbk/1_train-val_1min_aalesund_from_start/img1/000742.jpg: 1088x1920 23 players, 2.3ms\n",
      "\n",
      "image 1/1 /datasets/tdt4265/other/rbk/1_train-val_1min_aalesund_from_start/img1/000742.jpg: 1088x1920 1 ball, 2.3ms\n",
      "Speed: 3.2ms preprocess, 2.3ms inference, 0.5ms postprocess per image at shape (1, 3, 1088, 1920)\n",
      "\n",
      "image 1/1 /datasets/tdt4265/other/rbk/1_train-val_1min_aalesund_from_start/img1/000743.jpg: 1088x1920 23 players, 3.1ms\n",
      "\n",
      "image 1/1 /datasets/tdt4265/other/rbk/1_train-val_1min_aalesund_from_start/img1/000743.jpg: 1088x1920 1 ball, 2.3ms\n",
      "Speed: 3.7ms preprocess, 3.1ms inference, 1.0ms postprocess per image at shape (1, 3, 1088, 1920)\n",
      "\n",
      "image 1/1 /datasets/tdt4265/other/rbk/1_train-val_1min_aalesund_from_start/img1/000744.jpg: 1088x1920 23 players, 2.3ms\n",
      "\n",
      "image 1/1 /datasets/tdt4265/other/rbk/1_train-val_1min_aalesund_from_start/img1/000744.jpg: 1088x1920 1 ball, 2.6ms\n",
      "Speed: 3.3ms preprocess, 2.3ms inference, 0.7ms postprocess per image at shape (1, 3, 1088, 1920)\n",
      "\n",
      "image 1/1 /datasets/tdt4265/other/rbk/1_train-val_1min_aalesund_from_start/img1/000745.jpg: 1088x1920 23 players, 2.5ms\n",
      "\n",
      "image 1/1 /datasets/tdt4265/other/rbk/1_train-val_1min_aalesund_from_start/img1/000745.jpg: 1088x1920 1 ball, 2.3ms\n",
      "Speed: 3.2ms preprocess, 2.5ms inference, 0.5ms postprocess per image at shape (1, 3, 1088, 1920)\n",
      "\n",
      "image 1/1 /datasets/tdt4265/other/rbk/1_train-val_1min_aalesund_from_start/img1/000746.jpg: 1088x1920 23 players, 2.5ms\n",
      "\n",
      "image 1/1 /datasets/tdt4265/other/rbk/1_train-val_1min_aalesund_from_start/img1/000746.jpg: 1088x1920 1 ball, 2.3ms\n",
      "Speed: 3.2ms preprocess, 2.5ms inference, 0.5ms postprocess per image at shape (1, 3, 1088, 1920)\n",
      "\n",
      "image 1/1 /datasets/tdt4265/other/rbk/1_train-val_1min_aalesund_from_start/img1/000747.jpg: 1088x1920 23 players, 2.3ms\n",
      "\n",
      "image 1/1 /datasets/tdt4265/other/rbk/1_train-val_1min_aalesund_from_start/img1/000747.jpg: 1088x1920 1 ball, 3.0ms\n",
      "Speed: 2.3ms preprocess, 2.3ms inference, 0.6ms postprocess per image at shape (1, 3, 1088, 1920)\n",
      "\n",
      "image 1/1 /datasets/tdt4265/other/rbk/1_train-val_1min_aalesund_from_start/img1/000748.jpg: 1088x1920 23 players, 2.3ms\n",
      "\n",
      "image 1/1 /datasets/tdt4265/other/rbk/1_train-val_1min_aalesund_from_start/img1/000748.jpg: 1088x1920 1 ball, 2.4ms\n",
      "Speed: 3.3ms preprocess, 2.3ms inference, 0.5ms postprocess per image at shape (1, 3, 1088, 1920)\n",
      "\n",
      "image 1/1 /datasets/tdt4265/other/rbk/1_train-val_1min_aalesund_from_start/img1/000749.jpg: 1088x1920 23 players, 2.3ms\n",
      "\n",
      "image 1/1 /datasets/tdt4265/other/rbk/1_train-val_1min_aalesund_from_start/img1/000749.jpg: 1088x1920 1 ball, 2.3ms\n",
      "Speed: 3.2ms preprocess, 2.3ms inference, 0.5ms postprocess per image at shape (1, 3, 1088, 1920)\n",
      "\n",
      "image 1/1 /datasets/tdt4265/other/rbk/1_train-val_1min_aalesund_from_start/img1/000750.jpg: 1088x1920 23 players, 2.6ms\n",
      "\n",
      "image 1/1 /datasets/tdt4265/other/rbk/1_train-val_1min_aalesund_from_start/img1/000750.jpg: 1088x1920 1 ball, 2.4ms\n",
      "Speed: 4.2ms preprocess, 2.6ms inference, 0.5ms postprocess per image at shape (1, 3, 1088, 1920)\n",
      "\n",
      "image 1/1 /datasets/tdt4265/other/rbk/1_train-val_1min_aalesund_from_start/img1/000751.jpg: 1088x1920 23 players, 2.6ms\n",
      "\n",
      "image 1/1 /datasets/tdt4265/other/rbk/1_train-val_1min_aalesund_from_start/img1/000751.jpg: 1088x1920 1 ball, 2.8ms\n",
      "Speed: 3.3ms preprocess, 2.6ms inference, 0.5ms postprocess per image at shape (1, 3, 1088, 1920)\n",
      "\n",
      "image 1/1 /datasets/tdt4265/other/rbk/1_train-val_1min_aalesund_from_start/img1/000752.jpg: 1088x1920 23 players, 2.5ms\n",
      "\n",
      "image 1/1 /datasets/tdt4265/other/rbk/1_train-val_1min_aalesund_from_start/img1/000752.jpg: 1088x1920 1 ball, 2.4ms\n",
      "Speed: 3.3ms preprocess, 2.5ms inference, 0.6ms postprocess per image at shape (1, 3, 1088, 1920)\n",
      "\n",
      "image 1/1 /datasets/tdt4265/other/rbk/1_train-val_1min_aalesund_from_start/img1/000753.jpg: 1088x1920 23 players, 2.8ms\n",
      "\n",
      "image 1/1 /datasets/tdt4265/other/rbk/1_train-val_1min_aalesund_from_start/img1/000753.jpg: 1088x1920 1 ball, 2.4ms\n",
      "Speed: 2.4ms preprocess, 2.8ms inference, 0.6ms postprocess per image at shape (1, 3, 1088, 1920)\n",
      "\n",
      "image 1/1 /datasets/tdt4265/other/rbk/1_train-val_1min_aalesund_from_start/img1/000754.jpg: 1088x1920 23 players, 2.6ms\n",
      "\n",
      "image 1/1 /datasets/tdt4265/other/rbk/1_train-val_1min_aalesund_from_start/img1/000754.jpg: 1088x1920 1 ball, 2.4ms\n",
      "Speed: 3.2ms preprocess, 2.6ms inference, 0.5ms postprocess per image at shape (1, 3, 1088, 1920)\n",
      "\n",
      "image 1/1 /datasets/tdt4265/other/rbk/1_train-val_1min_aalesund_from_start/img1/000755.jpg: 1088x1920 23 players, 2.3ms\n",
      "\n",
      "image 1/1 /datasets/tdt4265/other/rbk/1_train-val_1min_aalesund_from_start/img1/000755.jpg: 1088x1920 1 ball, 2.5ms\n",
      "Speed: 3.3ms preprocess, 2.3ms inference, 0.5ms postprocess per image at shape (1, 3, 1088, 1920)\n",
      "\n",
      "image 1/1 /datasets/tdt4265/other/rbk/1_train-val_1min_aalesund_from_start/img1/000756.jpg: 1088x1920 23 players, 2.5ms\n",
      "\n",
      "image 1/1 /datasets/tdt4265/other/rbk/1_train-val_1min_aalesund_from_start/img1/000756.jpg: 1088x1920 (no detections), 2.4ms\n",
      "Speed: 3.2ms preprocess, 2.5ms inference, 0.5ms postprocess per image at shape (1, 3, 1088, 1920)\n",
      "\n",
      "image 1/1 /datasets/tdt4265/other/rbk/1_train-val_1min_aalesund_from_start/img1/000757.jpg: 1088x1920 23 players, 3.2ms\n",
      "\n",
      "image 1/1 /datasets/tdt4265/other/rbk/1_train-val_1min_aalesund_from_start/img1/000757.jpg: 1088x1920 1 ball, 2.4ms\n",
      "Speed: 2.8ms preprocess, 3.2ms inference, 0.7ms postprocess per image at shape (1, 3, 1088, 1920)\n",
      "\n",
      "image 1/1 /datasets/tdt4265/other/rbk/1_train-val_1min_aalesund_from_start/img1/000758.jpg: 1088x1920 23 players, 2.8ms\n",
      "\n",
      "image 1/1 /datasets/tdt4265/other/rbk/1_train-val_1min_aalesund_from_start/img1/000758.jpg: 1088x1920 1 ball, 2.6ms\n",
      "Speed: 3.3ms preprocess, 2.8ms inference, 0.6ms postprocess per image at shape (1, 3, 1088, 1920)\n",
      "\n",
      "image 1/1 /datasets/tdt4265/other/rbk/1_train-val_1min_aalesund_from_start/img1/000759.jpg: 1088x1920 23 players, 2.3ms\n",
      "\n",
      "image 1/1 /datasets/tdt4265/other/rbk/1_train-val_1min_aalesund_from_start/img1/000759.jpg: 1088x1920 1 ball, 2.8ms\n",
      "Speed: 3.3ms preprocess, 2.3ms inference, 0.5ms postprocess per image at shape (1, 3, 1088, 1920)\n",
      "\n",
      "image 1/1 /datasets/tdt4265/other/rbk/1_train-val_1min_aalesund_from_start/img1/000760.jpg: 1088x1920 23 players, 2.5ms\n",
      "\n",
      "image 1/1 /datasets/tdt4265/other/rbk/1_train-val_1min_aalesund_from_start/img1/000760.jpg: 1088x1920 1 ball, 2.3ms\n",
      "Speed: 3.3ms preprocess, 2.5ms inference, 0.5ms postprocess per image at shape (1, 3, 1088, 1920)\n",
      "\n",
      "image 1/1 /datasets/tdt4265/other/rbk/1_train-val_1min_aalesund_from_start/img1/000761.jpg: 1088x1920 23 players, 2.3ms\n",
      "\n",
      "image 1/1 /datasets/tdt4265/other/rbk/1_train-val_1min_aalesund_from_start/img1/000761.jpg: 1088x1920 (no detections), 2.7ms\n",
      "Speed: 2.3ms preprocess, 2.3ms inference, 0.6ms postprocess per image at shape (1, 3, 1088, 1920)\n",
      "\n",
      "image 1/1 /datasets/tdt4265/other/rbk/1_train-val_1min_aalesund_from_start/img1/000762.jpg: 1088x1920 23 players, 2.3ms\n",
      "\n",
      "image 1/1 /datasets/tdt4265/other/rbk/1_train-val_1min_aalesund_from_start/img1/000762.jpg: 1088x1920 1 ball, 2.5ms\n"
     ]
    }
   ],
   "source": [
    "# Blender frames fra 2 modeller\n",
    "\n",
    "for frame_path in frame_paths:\n",
    "    # Hent resultatene fra begge modellene for hver frame\n",
    "    for result1, result2 in zip(model_players.track(frame_path, persist=True, stream=True, line_width=1),\n",
    "                                model_ball.track(frame_path, persist=True, stream=True, line_width=1)):\n",
    "        # Tegn annotasjoner fra begge modellene på samme bilde\n",
    "        annotated_frame1 = result1.plot(font_size=1, line_width=1)\n",
    "        annotated_frame2 = result2.plot(font_size=1, line_width=1)\n",
    "\n",
    "        combined_frame = cv2.addWeighted(annotated_frame1, 0.5, annotated_frame2, 0.5, 0)  \n",
    "\n",
    "        # Vis det annoterte bildet med resultater fra begge modeller\n",
    "        cv2.imshow('Combined frame', combined_frame)\n",
    "        \n",
    "        # Vent på et tastetrykk i 1 millisekund og sjekk om det er 'ESC'\n",
    "        key = cv2.waitKey(1) & 0xFF\n",
    "        if key == 27:  # 27 er ASCII-verdien for 'ESC'\n",
    "            break\n",
    "\n",
    "    if key == 27:  # Kontroller igjen om 'ESC' ble trykket for å bryte ut av den ytre løkken\n",
    "        break\n",
    "\n",
    "cv2.destroyAllWindows()  # Lukker alle OpenCV-vinduene\n"
   ]
  },
  {
   "cell_type": "code",
   "execution_count": 26,
   "metadata": {},
   "outputs": [
    {
     "name": "stdout",
     "output_type": "stream",
     "text": [
      "WARNING ⚠️ 'line_thickness' is deprecated and will be removed in 'ultralytics 8.299999999999999' in the future. Please use 'line_width' instead.\n",
      "\n",
      "image 1/1 /work/mbergst/TDT4265_Project/data_yolov8/1_train-val_1min_aalesund_from_start/images/all_frames/000001.jpg: 1088x1920 22 players, 4.5ms\n"
     ]
    },
    {
     "name": "stderr",
     "output_type": "stream",
     "text": [
      "SupervisionWarnings: BoxAnnotator is deprecated: `BoxAnnotator` is deprecated and will be removed in `supervision-0.22.0`. Use `BoundingBoxAnnotator` and `LabelAnnotator` instead\n"
     ]
    },
    {
     "ename": "error",
     "evalue": "OpenCV(4.9.0) /io/opencv/modules/highgui/src/window.cpp:1272: error: (-2:Unspecified error) The function is not implemented. Rebuild the library with Windows, GTK+ 2.x or Cocoa support. If you are on Ubuntu or Debian, install libgtk2.0-dev and pkg-config, then re-run cmake or configure script in function 'cvShowImage'\n",
     "output_type": "error",
     "traceback": [
      "\u001b[0;31m---------------------------------------------------------------------------\u001b[0m",
      "\u001b[0;31merror\u001b[0m                                     Traceback (most recent call last)",
      "Cell \u001b[0;32mIn[26], line 17\u001b[0m\n\u001b[1;32m     13\u001b[0m         detections \u001b[38;5;241m=\u001b[39m sv\u001b[38;5;241m.\u001b[39mDetections\u001b[38;5;241m.\u001b[39mfrom_ultralytics(result)\n\u001b[1;32m     16\u001b[0m         frame \u001b[38;5;241m=\u001b[39m boxann\u001b[38;5;241m.\u001b[39mannotate(scene\u001b[38;5;241m=\u001b[39mframe, detections\u001b[38;5;241m=\u001b[39mdetections)\n\u001b[0;32m---> 17\u001b[0m         \u001b[43mcv2\u001b[49m\u001b[38;5;241;43m.\u001b[39;49m\u001b[43mimshow\u001b[49m\u001b[43m(\u001b[49m\u001b[38;5;124;43m'\u001b[39;49m\u001b[38;5;124;43myolov8\u001b[39;49m\u001b[38;5;124;43m'\u001b[39;49m\u001b[43m,\u001b[49m\u001b[43m \u001b[49m\u001b[43mframe\u001b[49m\u001b[43m)\u001b[49m\n\u001b[1;32m     18\u001b[0m         cv2\u001b[38;5;241m.\u001b[39mwaitKey(\u001b[38;5;241m1\u001b[39m)  \u001b[38;5;66;03m# Venter en kort tid så bildet kan oppdateres\u001b[39;00m\n\u001b[1;32m     20\u001b[0m cv2\u001b[38;5;241m.\u001b[39mdestroyAllWindows()  \u001b[38;5;66;03m# Lukker alle OpenCV-vinduene\u001b[39;00m\n",
      "\u001b[0;31merror\u001b[0m: OpenCV(4.9.0) /io/opencv/modules/highgui/src/window.cpp:1272: error: (-2:Unspecified error) The function is not implemented. Rebuild the library with Windows, GTK+ 2.x or Cocoa support. If you are on Ubuntu or Debian, install libgtk2.0-dev and pkg-config, then re-run cmake or configure script in function 'cvShowImage'\n"
     ]
    }
   ],
   "source": [
    "# Object tracking with supervision\n",
    "\n",
    "boxann = sv.BoxAnnotator(\n",
    "    thickness=1,\n",
    "    text_thickness=1,\n",
    "    text_scale=0.5,\n",
    "    \n",
    ")\n",
    "\n",
    "for frame_path in frame_paths:\n",
    "    # model.track kan være en generator, så vi bruker en løkke for å hente resultatene\n",
    "    for result in model.track(frame_path, persist=True, stream=True, line_thickness=1):\n",
    "        frame = result.orig_img\n",
    "        \n",
    "        detections = sv.Detections.from_ultralytics(result)\n",
    "        \n",
    "\n",
    "        frame = boxann.annotate(scene=frame, detections=detections)\n",
    "        cv2.imshow('yolov8', frame)\n",
    "        cv2.waitKey(1)  # Venter en kort tid så bildet kan oppdateres\n",
    "\n",
    "cv2.destroyAllWindows()  # Lukker alle OpenCV-vinduene"
   ]
  },
  {
   "cell_type": "code",
   "execution_count": null,
   "metadata": {},
   "outputs": [
    {
     "name": "stdout",
     "output_type": "stream",
     "text": [
      "\n",
      "image 1/1 /work/mbergst/project/data_yolov8/1_train-val_1min_aalesund_from_start/images/all_frames/000001.jpg: 1088x1920 2 players, 3.2ms\n",
      "Speed: 21.6ms preprocess, 3.2ms inference, 0.6ms postprocess per image at shape (1, 3, 1088, 1920)\n"
     ]
    },
    {
     "ename": "error",
     "evalue": "OpenCV(4.9.0) :-1: error: (-5:Bad argument) in function 'rectangle'\n> Overload resolution failed:\n>  - img is not a numpy array, neither a scalar\n>  - Expected Ptr<cv::UMat> for argument 'img'\n>  - img is not a numpy array, neither a scalar\n>  - Expected Ptr<cv::UMat> for argument 'img'\n",
     "output_type": "error",
     "traceback": [
      "\u001b[0;31m---------------------------------------------------------------------------\u001b[0m",
      "\u001b[0;31merror\u001b[0m                                     Traceback (most recent call last)",
      "Cell \u001b[0;32mIn[24], line 6\u001b[0m\n\u001b[1;32m      4\u001b[0m ids \u001b[38;5;241m=\u001b[39m results[\u001b[38;5;241m0\u001b[39m]\u001b[38;5;241m.\u001b[39mboxes\u001b[38;5;241m.\u001b[39mid\u001b[38;5;241m.\u001b[39mcpu()\u001b[38;5;241m.\u001b[39mnumpy()\u001b[38;5;241m.\u001b[39mastype(\u001b[38;5;28mint\u001b[39m)\n\u001b[1;32m      5\u001b[0m \u001b[38;5;28;01mfor\u001b[39;00m box, \u001b[38;5;28mid\u001b[39m \u001b[38;5;129;01min\u001b[39;00m \u001b[38;5;28mzip\u001b[39m(boxes, ids):\n\u001b[0;32m----> 6\u001b[0m     \u001b[43mcv2\u001b[49m\u001b[38;5;241;43m.\u001b[39;49m\u001b[43mrectangle\u001b[49m\u001b[43m(\u001b[49m\u001b[43mframe\u001b[49m\u001b[43m,\u001b[49m\u001b[43m \u001b[49m\u001b[43m(\u001b[49m\u001b[43mbox\u001b[49m\u001b[43m[\u001b[49m\u001b[38;5;241;43m0\u001b[39;49m\u001b[43m]\u001b[49m\u001b[43m,\u001b[49m\u001b[43m \u001b[49m\u001b[43mbox\u001b[49m\u001b[43m[\u001b[49m\u001b[38;5;241;43m1\u001b[39;49m\u001b[43m]\u001b[49m\u001b[43m)\u001b[49m\u001b[43m,\u001b[49m\u001b[43m \u001b[49m\u001b[43m(\u001b[49m\u001b[43mbox\u001b[49m\u001b[43m[\u001b[49m\u001b[38;5;241;43m2\u001b[39;49m\u001b[43m]\u001b[49m\u001b[43m,\u001b[49m\u001b[43m \u001b[49m\u001b[43mbox\u001b[49m\u001b[43m[\u001b[49m\u001b[38;5;241;43m3\u001b[39;49m\u001b[43m]\u001b[49m\u001b[43m)\u001b[49m\u001b[43m,\u001b[49m\u001b[43m \u001b[49m\u001b[43m(\u001b[49m\u001b[38;5;241;43m0\u001b[39;49m\u001b[43m,\u001b[49m\u001b[43m \u001b[49m\u001b[38;5;241;43m255\u001b[39;49m\u001b[43m,\u001b[49m\u001b[43m \u001b[49m\u001b[38;5;241;43m0\u001b[39;49m\u001b[43m)\u001b[49m\u001b[43m,\u001b[49m\u001b[43m \u001b[49m\u001b[38;5;241;43m2\u001b[39;49m\u001b[43m)\u001b[49m\n\u001b[1;32m      7\u001b[0m     cv2\u001b[38;5;241m.\u001b[39mputText(\n\u001b[1;32m      8\u001b[0m         frame,\n\u001b[1;32m      9\u001b[0m         \u001b[38;5;124mf\u001b[39m\u001b[38;5;124m\"\u001b[39m\u001b[38;5;124mId \u001b[39m\u001b[38;5;132;01m{\u001b[39;00m\u001b[38;5;28mid\u001b[39m\u001b[38;5;132;01m}\u001b[39;00m\u001b[38;5;124m\"\u001b[39m,\n\u001b[0;32m   (...)\u001b[0m\n\u001b[1;32m     14\u001b[0m         \u001b[38;5;241m2\u001b[39m,\n\u001b[1;32m     15\u001b[0m     )\n\u001b[1;32m     16\u001b[0m cv2\u001b[38;5;241m.\u001b[39mimshow(\u001b[38;5;124m\"\u001b[39m\u001b[38;5;124mframe\u001b[39m\u001b[38;5;124m\"\u001b[39m, frame)\n",
      "\u001b[0;31merror\u001b[0m: OpenCV(4.9.0) :-1: error: (-5:Bad argument) in function 'rectangle'\n> Overload resolution failed:\n>  - img is not a numpy array, neither a scalar\n>  - Expected Ptr<cv::UMat> for argument 'img'\n>  - img is not a numpy array, neither a scalar\n>  - Expected Ptr<cv::UMat> for argument 'img'\n"
     ]
    }
   ],
   "source": [
    "# Not working Object tracking\n",
    "\n",
    "for frame in frame_paths:\n",
    "    results = model.track(frame, persist=True)\n",
    "    boxes = results[0].boxes.xyxy.cpu().numpy().astype(int)\n",
    "    ids = results[0].boxes.id.cpu().numpy().astype(int)\n",
    "    for box, id in zip(boxes, ids):\n",
    "        cv2.rectangle(frame, (box[0], box[1]), (box[2], box[3]), (0, 255, 0), 2)\n",
    "        cv2.putText(\n",
    "            frame,\n",
    "            f\"Id {id}\",\n",
    "            (box[0], box[1]),\n",
    "            cv2.FONT_HERSHEY_SIMPLEX,\n",
    "            1,\n",
    "            (0, 0, 255),\n",
    "            2,\n",
    "        )\n",
    "    cv2.imshow(\"frame\", frame)\n",
    "    if cv2.waitKey(1) & 0xFF == ord(\"q\"):\n",
    "        break"
   ]
  }
 ],
 "metadata": {
  "kernelspec": {
   "display_name": "Python 3",
   "language": "python",
   "name": "python3"
  },
  "language_info": {
   "codemirror_mode": {
    "name": "ipython",
    "version": 3
   },
   "file_extension": ".py",
   "mimetype": "text/x-python",
   "name": "python",
   "nbconvert_exporter": "python",
   "pygments_lexer": "ipython3",
   "version": "3.10.12"
  }
 },
 "nbformat": 4,
 "nbformat_minor": 2
}
