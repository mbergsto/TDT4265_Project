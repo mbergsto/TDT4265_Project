{
 "cells": [
  {
   "cell_type": "code",
   "execution_count": 1,
   "metadata": {},
   "outputs": [],
   "source": [
    "from ultralytics import YOLO\n",
    "import os\n",
    "import random\n",
    "import cv2\n",
    "import numpy as np\n",
    "import shutil\n",
    "import supervision as sv\n",
    "import cv2\n",
    "import matplotlib.pyplot as plt\n",
    "\n",
    "\n"
   ]
  },
  {
   "cell_type": "code",
   "execution_count": 2,
   "metadata": {},
   "outputs": [],
   "source": [
    "# Choose dataset 1 or 2:\n",
    "dataset = 1  # 1 or 2\n",
    "\n",
    "if dataset == 1:\n",
    "    data_folder = \"1_train-val_1min_aalesund_from_start/\"\n",
    "    yaml_file_all = \"yaml_files/data_1.yaml\"\n",
    "    yaml_file_ball = \"yaml_files/ball_1.yaml\"\n",
    "    yaml_file_players = \"yaml_files/player_1.yaml\"\n",
    "\n",
    "else:\n",
    "    data_folder = \"2_train-val_1min_after_goal/\"\n",
    "    yaml_file_all = \"yaml_files/data_2.yaml\"\n",
    "    yaml_file_ball = \"yaml_files/ball_2.yaml\"\n",
    "    yaml_file_players = \"yaml_files/player_2.yaml\"\n"
   ]
  },
  {
   "cell_type": "code",
   "execution_count": 3,
   "metadata": {},
   "outputs": [],
   "source": [
    "# Generate shuffled txt and img files for training and validation, 80% training and 20% validation\n",
    "\n",
    "from scripts.shuffler import generate_shuffled_txt_img_files_for_train_val\n",
    "from scripts.ball_dataset import generate_ball_dataset\n",
    "from scripts.player_dataset import generate_player_dataset\n",
    "\n",
    "object_path = f\"data_yolov8/object_datasets/{data_folder}/\"  \n",
    "ball_path = f\"data_yolov8/ball_datasets/{data_folder}/\"  \n",
    "player_path = f\"data_yolov8/player_datasets/{data_folder}/\"\n",
    "text_file_path = f\"/datasets/tdt4265/other/rbk/{data_folder}/gt/gt.txt\"  \n",
    "all_images_path = f\"/datasets/tdt4265/other/rbk/{data_folder}/img1\"\n",
    "img_width = 1920  \n",
    "img_height = 1080  \n",
    "\n",
    "\n",
    "generate_shuffled_txt_img_files_for_train_val(text_file_path, img_width, img_height, object_path, all_images_path)\n",
    "generate_ball_dataset(text_file_path, img_width, img_height, ball_path, all_images_path)\n",
    "generate_player_dataset(text_file_path, img_width, img_height, player_path, all_images_path)\n"
   ]
  },
  {
   "cell_type": "code",
   "execution_count": 4,
   "metadata": {},
   "outputs": [],
   "source": [
    "# Generate test txt and img files\n",
    "\n",
    "from scripts.test_dataset import generate_txt_img_files_for_test\n",
    "\n",
    "object_path = f\"data_yolov8/object_datasets/3_test_1min_hamkam_from_start/\"  \n",
    "ball_path = f\"data_yolov8/ball_datasets/3_test_1min_hamkam_from_start/\"  \n",
    "player_path = f\"data_yolov8/player_datasets/3_test_1min_hamkam_from_start/\" \n",
    "text_file_path = \"/datasets/tdt4265/other/rbk/3_test_1min_hamkam_from_start/gt/gt.txt\"  \n",
    "all_images_path = \"/datasets/tdt4265/other/rbk/3_test_1min_hamkam_from_start/img1/\"\n",
    "\n",
    "generate_txt_img_files_for_test(text_file_path, img_width, img_height, object_path, all_images_path)\n",
    "generate_txt_img_files_for_test(text_file_path, img_width, img_height, ball_path, all_images_path, type='ball')\n",
    "generate_txt_img_files_for_test(text_file_path, img_width, img_height, player_path, all_images_path, type='player')"
   ]
  },
  {
   "cell_type": "code",
   "execution_count": 3,
   "metadata": {},
   "outputs": [],
   "source": [
    "# Last inn sist trente modell\n",
    "\n",
    "def find_latest_model_with_best(base_path, type):\n",
    "    detect_path = os.path.join(base_path, 'runs/detect', type)\n",
    "    training_sessions = [os.path.join(detect_path, d) for d in os.listdir(detect_path) if os.path.isdir(os.path.join(detect_path, d))]\n",
    "    \n",
    "    # Liste for å holde stiene til alle 'best.pt'-filer\n",
    "    best_model_paths = []\n",
    "\n",
    "    for session in training_sessions:\n",
    "        best_model_path = os.path.join(session, 'weights', 'best.pt')\n",
    "        if os.path.exists(best_model_path):\n",
    "            best_model_paths.append((best_model_path, os.path.getmtime(best_model_path)))\n",
    "\n",
    "    if not best_model_paths:\n",
    "        print(\"Ingen 'best.pt' fil funnet i noen av treningsøktene.\")\n",
    "        return None\n",
    "    \n",
    "    # Sorter basert på modifiseringstid og returner den nyeste\n",
    "    best_model_paths.sort(key=lambda x: x[1], reverse=True)\n",
    "    return best_model_paths[0][0]\n",
    "\n",
    "\n",
    "base_path = '/work/mbergst/TDT4265_Project' \n",
    "\n",
    "model_combined = YOLO(find_latest_model_with_best(base_path, 'combined'))\n",
    "model_ball = YOLO(find_latest_model_with_best(base_path, 'ball'))\n",
    "model_players = YOLO(find_latest_model_with_best(base_path, 'player'))\n",
    "#model = YOLO('yolov8n.pt')\n"
   ]
  },
  {
   "cell_type": "code",
   "execution_count": 6,
   "metadata": {},
   "outputs": [
    {
     "name": "stdout",
     "output_type": "stream",
     "text": [
      "New https://pypi.org/project/ultralytics/8.2.2 available 😃 Update with 'pip install -U ultralytics'\n",
      "Ultralytics YOLOv8.1.42 🚀 Python-3.10.12 torch-2.2.2+cu121 CUDA:0 (NVIDIA GeForce RTX 4090, 24195MiB)\n",
      "\u001b[34m\u001b[1mengine/trainer: \u001b[0mtask=detect, mode=train, model=/work/mbergst/TDT4265_Project/runs/detect/combined/train2/weights/best.pt, data=yaml_files/data_1.yaml, epochs=100, time=None, patience=100, batch=8, imgsz=(1920, 1080), save=True, save_period=-1, cache=False, device=None, workers=8, project=/work/mbergst/TDT4265_Project/runs/detect/combined, name=train7, exist_ok=False, pretrained=True, optimizer=auto, verbose=True, seed=0, deterministic=True, single_cls=False, rect=False, cos_lr=False, close_mosaic=10, resume=False, amp=True, fraction=1.0, profile=False, freeze=None, multi_scale=False, overlap_mask=True, mask_ratio=4, dropout=0.0, val=True, split=val, save_json=False, save_hybrid=False, conf=None, iou=0.7, max_det=300, half=False, dnn=False, plots=True, source=None, vid_stride=1, stream_buffer=False, visualize=False, augment=False, agnostic_nms=False, classes=None, retina_masks=False, embed=None, show=False, save_frames=False, save_txt=False, save_conf=False, save_crop=False, show_labels=True, show_conf=True, show_boxes=True, line_width=None, format=torchscript, keras=False, optimize=False, int8=False, dynamic=False, simplify=False, opset=None, workspace=4, nms=False, lr0=0.01, lrf=0.01, momentum=0.937, weight_decay=0.0005, warmup_epochs=3.0, warmup_momentum=0.8, warmup_bias_lr=0.1, box=7.5, cls=0.5, dfl=1.5, pose=12.0, kobj=1.0, label_smoothing=0.0, nbs=64, hsv_h=0.015, hsv_s=0.7, hsv_v=0.4, degrees=0.0, translate=0.1, scale=0.5, shear=0.0, perspective=0.0, flipud=0.0, fliplr=0.5, bgr=0.0, mosaic=1.0, mixup=0.0, copy_paste=0.0, auto_augment=randaugment, erasing=0.4, crop_fraction=1.0, cfg=None, tracker=botsort.yaml, save_dir=/work/mbergst/TDT4265_Project/runs/detect/combined/train7\n",
      "\n",
      "                   from  n    params  module                                       arguments                     \n",
      "  0                  -1  1       464  ultralytics.nn.modules.conv.Conv             [3, 16, 3, 2]                 \n",
      "  1                  -1  1      4672  ultralytics.nn.modules.conv.Conv             [16, 32, 3, 2]                \n",
      "  2                  -1  1      7360  ultralytics.nn.modules.block.C2f             [32, 32, 1, True]             \n",
      "  3                  -1  1     18560  ultralytics.nn.modules.conv.Conv             [32, 64, 3, 2]                \n",
      "  4                  -1  2     49664  ultralytics.nn.modules.block.C2f             [64, 64, 2, True]             \n",
      "  5                  -1  1     73984  ultralytics.nn.modules.conv.Conv             [64, 128, 3, 2]               \n",
      "  6                  -1  2    197632  ultralytics.nn.modules.block.C2f             [128, 128, 2, True]           \n",
      "  7                  -1  1    295424  ultralytics.nn.modules.conv.Conv             [128, 256, 3, 2]              \n",
      "  8                  -1  1    460288  ultralytics.nn.modules.block.C2f             [256, 256, 1, True]           \n",
      "  9                  -1  1    164608  ultralytics.nn.modules.block.SPPF            [256, 256, 5]                 \n",
      " 10                  -1  1         0  torch.nn.modules.upsampling.Upsample         [None, 2, 'nearest']          \n",
      " 11             [-1, 6]  1         0  ultralytics.nn.modules.conv.Concat           [1]                           \n",
      " 12                  -1  1    148224  ultralytics.nn.modules.block.C2f             [384, 128, 1]                 \n",
      " 13                  -1  1         0  torch.nn.modules.upsampling.Upsample         [None, 2, 'nearest']          \n",
      " 14             [-1, 4]  1         0  ultralytics.nn.modules.conv.Concat           [1]                           \n",
      " 15                  -1  1     37248  ultralytics.nn.modules.block.C2f             [192, 64, 1]                  \n",
      " 16                  -1  1     36992  ultralytics.nn.modules.conv.Conv             [64, 64, 3, 2]                \n",
      " 17            [-1, 12]  1         0  ultralytics.nn.modules.conv.Concat           [1]                           \n",
      " 18                  -1  1    123648  ultralytics.nn.modules.block.C2f             [192, 128, 1]                 \n",
      " 19                  -1  1    147712  ultralytics.nn.modules.conv.Conv             [128, 128, 3, 2]              \n",
      " 20             [-1, 9]  1         0  ultralytics.nn.modules.conv.Concat           [1]                           \n",
      " 21                  -1  1    493056  ultralytics.nn.modules.block.C2f             [384, 256, 1]                 \n",
      " 22        [15, 18, 21]  1    751702  ultralytics.nn.modules.head.Detect           [2, [64, 128, 256]]           \n",
      "Model summary: 225 layers, 3011238 parameters, 3011222 gradients, 8.2 GFLOPs\n",
      "\n",
      "Transferred 70/355 items from pretrained weights\n",
      "\u001b[34m\u001b[1mTensorBoard: \u001b[0mStart with 'tensorboard --logdir /work/mbergst/TDT4265_Project/runs/detect/combined/train7', view at http://localhost:6006/\n",
      "Freezing layer 'model.22.dfl.conv.weight'\n",
      "\u001b[34m\u001b[1mAMP: \u001b[0mrunning Automatic Mixed Precision (AMP) checks with YOLOv8n...\n",
      "\u001b[34m\u001b[1mAMP: \u001b[0mchecks passed ✅\n",
      "WARNING ⚠️ updating to 'imgsz=1920'. 'train' and 'val' imgsz must be an integer, while 'predict' and 'export' imgsz may be a [h, w] list or an integer, i.e. 'yolo export imgsz=640,480' or 'yolo export imgsz=640'\n"
     ]
    },
    {
     "name": "stderr",
     "output_type": "stream",
     "text": [
      "\u001b[34m\u001b[1mtrain: \u001b[0mScanning /work/mbergst/TDT4265_Project/data_yolov8/object_datasets/1_train-val_1min_aalesund_from_start/labels/train... 1441 images, 0 backgrounds, 0 corrupt: 100%|██████████| 1441/1441 [00:00<00:00, 3538.77it/s]"
     ]
    },
    {
     "name": "stdout",
     "output_type": "stream",
     "text": [
      "\u001b[34m\u001b[1mtrain: \u001b[0mNew cache created: /work/mbergst/TDT4265_Project/data_yolov8/object_datasets/1_train-val_1min_aalesund_from_start/labels/train.cache\n"
     ]
    },
    {
     "name": "stderr",
     "output_type": "stream",
     "text": [
      "\n",
      "\u001b[34m\u001b[1mval: \u001b[0mScanning /work/mbergst/TDT4265_Project/data_yolov8/object_datasets/1_train-val_1min_aalesund_from_start/labels/val... 361 images, 0 backgrounds, 0 corrupt: 100%|██████████| 361/361 [00:00<00:00, 4714.34it/s]"
     ]
    },
    {
     "name": "stdout",
     "output_type": "stream",
     "text": [
      "\u001b[34m\u001b[1mval: \u001b[0mNew cache created: /work/mbergst/TDT4265_Project/data_yolov8/object_datasets/1_train-val_1min_aalesund_from_start/labels/val.cache\n"
     ]
    },
    {
     "name": "stderr",
     "output_type": "stream",
     "text": [
      "\n"
     ]
    },
    {
     "name": "stdout",
     "output_type": "stream",
     "text": [
      "Plotting labels to /work/mbergst/TDT4265_Project/runs/detect/combined/train7/labels.jpg... \n",
      "\u001b[34m\u001b[1moptimizer:\u001b[0m 'optimizer=auto' found, ignoring 'lr0=0.01' and 'momentum=0.937' and determining best 'optimizer', 'lr0' and 'momentum' automatically... \n",
      "\u001b[34m\u001b[1moptimizer:\u001b[0m AdamW(lr=0.001667, momentum=0.9) with parameter groups 57 weight(decay=0.0), 64 weight(decay=0.0005), 63 bias(decay=0.0)\n",
      "\u001b[34m\u001b[1mTensorBoard: \u001b[0mmodel graph visualization added ✅\n",
      "Image sizes 1920 train, 1920 val\n",
      "Using 8 dataloader workers\n",
      "Logging results to \u001b[1m/work/mbergst/TDT4265_Project/runs/detect/combined/train7\u001b[0m\n",
      "Starting training for 100 epochs...\n",
      "\n",
      "      Epoch    GPU_mem   box_loss   cls_loss   dfl_loss  Instances       Size\n"
     ]
    },
    {
     "name": "stderr",
     "output_type": "stream",
     "text": [
      "      1/100      14.6G      0.731     0.4571     0.8373         72       1920: 100%|██████████| 181/181 [00:26<00:00,  6.78it/s]\n",
      "                 Class     Images  Instances      Box(P          R      mAP50  mAP50-95): 100%|██████████| 23/23 [00:01<00:00, 15.95it/s]\n"
     ]
    },
    {
     "name": "stdout",
     "output_type": "stream",
     "text": [
      "                   all        361       8361      0.962      0.828      0.853      0.626\n",
      "\n",
      "      Epoch    GPU_mem   box_loss   cls_loss   dfl_loss  Instances       Size\n"
     ]
    },
    {
     "name": "stderr",
     "output_type": "stream",
     "text": [
      "      2/100      13.9G     0.6939     0.4256     0.8269         63       1920: 100%|██████████| 181/181 [00:25<00:00,  7.03it/s]\n",
      "                 Class     Images  Instances      Box(P          R      mAP50  mAP50-95): 100%|██████████| 23/23 [00:01<00:00, 17.04it/s]"
     ]
    },
    {
     "name": "stdout",
     "output_type": "stream",
     "text": [
      "                   all        361       8361       0.97       0.83      0.859      0.656\n"
     ]
    },
    {
     "name": "stderr",
     "output_type": "stream",
     "text": [
      "\n"
     ]
    },
    {
     "name": "stdout",
     "output_type": "stream",
     "text": [
      "\n",
      "      Epoch    GPU_mem   box_loss   cls_loss   dfl_loss  Instances       Size\n"
     ]
    },
    {
     "name": "stderr",
     "output_type": "stream",
     "text": [
      "      3/100      15.5G     0.6712     0.4036     0.8235         25       1920: 100%|██████████| 181/181 [00:25<00:00,  7.05it/s]\n",
      "                 Class     Images  Instances      Box(P          R      mAP50  mAP50-95): 100%|██████████| 23/23 [00:01<00:00, 16.90it/s]"
     ]
    },
    {
     "name": "stdout",
     "output_type": "stream",
     "text": [
      "                   all        361       8361      0.987      0.839      0.862      0.651\n"
     ]
    },
    {
     "name": "stderr",
     "output_type": "stream",
     "text": [
      "\n"
     ]
    },
    {
     "name": "stdout",
     "output_type": "stream",
     "text": [
      "\n",
      "      Epoch    GPU_mem   box_loss   cls_loss   dfl_loss  Instances       Size\n"
     ]
    },
    {
     "name": "stderr",
     "output_type": "stream",
     "text": [
      "      4/100      11.3G     0.6556     0.3834     0.8206         28       1920: 100%|██████████| 181/181 [00:25<00:00,  7.09it/s]\n",
      "                 Class     Images  Instances      Box(P          R      mAP50  mAP50-95): 100%|██████████| 23/23 [00:01<00:00, 17.01it/s]"
     ]
    },
    {
     "name": "stdout",
     "output_type": "stream",
     "text": [
      "                   all        361       8361      0.981      0.843      0.875      0.654\n"
     ]
    },
    {
     "name": "stderr",
     "output_type": "stream",
     "text": [
      "\n"
     ]
    },
    {
     "name": "stdout",
     "output_type": "stream",
     "text": [
      "\n",
      "      Epoch    GPU_mem   box_loss   cls_loss   dfl_loss  Instances       Size\n"
     ]
    },
    {
     "name": "stderr",
     "output_type": "stream",
     "text": [
      "      5/100      17.4G     0.6399     0.3685     0.8179         71       1920: 100%|██████████| 181/181 [00:25<00:00,  7.06it/s]\n",
      "                 Class     Images  Instances      Box(P          R      mAP50  mAP50-95): 100%|██████████| 23/23 [00:01<00:00, 17.06it/s]"
     ]
    },
    {
     "name": "stdout",
     "output_type": "stream",
     "text": [
      "                   all        361       8361      0.974      0.843      0.873      0.669\n"
     ]
    },
    {
     "name": "stderr",
     "output_type": "stream",
     "text": [
      "\n"
     ]
    },
    {
     "name": "stdout",
     "output_type": "stream",
     "text": [
      "\n",
      "      Epoch    GPU_mem   box_loss   cls_loss   dfl_loss  Instances       Size\n"
     ]
    },
    {
     "name": "stderr",
     "output_type": "stream",
     "text": [
      "      6/100      13.8G     0.6346     0.3642     0.8189         51       1920: 100%|██████████| 181/181 [00:25<00:00,  7.06it/s]\n",
      "                 Class     Images  Instances      Box(P          R      mAP50  mAP50-95): 100%|██████████| 23/23 [00:01<00:00, 16.81it/s]"
     ]
    },
    {
     "name": "stdout",
     "output_type": "stream",
     "text": [
      "                   all        361       8361       0.99       0.84      0.878      0.683\n"
     ]
    },
    {
     "name": "stderr",
     "output_type": "stream",
     "text": [
      "\n"
     ]
    },
    {
     "name": "stdout",
     "output_type": "stream",
     "text": [
      "\n",
      "      Epoch    GPU_mem   box_loss   cls_loss   dfl_loss  Instances       Size\n"
     ]
    },
    {
     "name": "stderr",
     "output_type": "stream",
     "text": [
      "      7/100      11.6G     0.6078     0.3481     0.8139         86       1920: 100%|██████████| 181/181 [00:25<00:00,  7.09it/s]\n",
      "                 Class     Images  Instances      Box(P          R      mAP50  mAP50-95): 100%|██████████| 23/23 [00:01<00:00, 16.83it/s]"
     ]
    },
    {
     "name": "stdout",
     "output_type": "stream",
     "text": [
      "                   all        361       8361      0.991      0.832      0.877      0.672\n"
     ]
    },
    {
     "name": "stderr",
     "output_type": "stream",
     "text": [
      "\n"
     ]
    },
    {
     "name": "stdout",
     "output_type": "stream",
     "text": [
      "\n",
      "      Epoch    GPU_mem   box_loss   cls_loss   dfl_loss  Instances       Size\n"
     ]
    },
    {
     "name": "stderr",
     "output_type": "stream",
     "text": [
      "      8/100      15.5G     0.6028     0.3434     0.8124         27       1920: 100%|██████████| 181/181 [00:25<00:00,  7.10it/s]\n",
      "                 Class     Images  Instances      Box(P          R      mAP50  mAP50-95): 100%|██████████| 23/23 [00:01<00:00, 16.94it/s]"
     ]
    },
    {
     "name": "stdout",
     "output_type": "stream",
     "text": [
      "                   all        361       8361      0.981      0.834       0.88      0.684\n"
     ]
    },
    {
     "name": "stderr",
     "output_type": "stream",
     "text": [
      "\n"
     ]
    },
    {
     "name": "stdout",
     "output_type": "stream",
     "text": [
      "\n",
      "      Epoch    GPU_mem   box_loss   cls_loss   dfl_loss  Instances       Size\n"
     ]
    },
    {
     "name": "stderr",
     "output_type": "stream",
     "text": [
      "      9/100      12.4G     0.6024     0.3373     0.8121         58       1920: 100%|██████████| 181/181 [00:25<00:00,  7.06it/s]\n",
      "                 Class     Images  Instances      Box(P          R      mAP50  mAP50-95): 100%|██████████| 23/23 [00:01<00:00, 16.74it/s]"
     ]
    },
    {
     "name": "stdout",
     "output_type": "stream",
     "text": [
      "                   all        361       8361      0.966      0.859      0.879       0.69\n"
     ]
    },
    {
     "name": "stderr",
     "output_type": "stream",
     "text": [
      "\n"
     ]
    },
    {
     "name": "stdout",
     "output_type": "stream",
     "text": [
      "\n",
      "      Epoch    GPU_mem   box_loss   cls_loss   dfl_loss  Instances       Size\n"
     ]
    },
    {
     "name": "stderr",
     "output_type": "stream",
     "text": [
      "     10/100      13.2G      0.586     0.3299       0.81         32       1920: 100%|██████████| 181/181 [00:25<00:00,  7.09it/s]\n",
      "                 Class     Images  Instances      Box(P          R      mAP50  mAP50-95): 100%|██████████| 23/23 [00:01<00:00, 16.94it/s]"
     ]
    },
    {
     "name": "stdout",
     "output_type": "stream",
     "text": [
      "                   all        361       8361      0.989      0.836      0.883      0.682\n"
     ]
    },
    {
     "name": "stderr",
     "output_type": "stream",
     "text": [
      "\n"
     ]
    },
    {
     "name": "stdout",
     "output_type": "stream",
     "text": [
      "\n",
      "      Epoch    GPU_mem   box_loss   cls_loss   dfl_loss  Instances       Size\n"
     ]
    },
    {
     "name": "stderr",
     "output_type": "stream",
     "text": [
      "     11/100      14.6G      0.584     0.3255     0.8097         27       1920: 100%|██████████| 181/181 [00:25<00:00,  7.09it/s]\n",
      "                 Class     Images  Instances      Box(P          R      mAP50  mAP50-95): 100%|██████████| 23/23 [00:01<00:00, 16.78it/s]"
     ]
    },
    {
     "name": "stdout",
     "output_type": "stream",
     "text": [
      "                   all        361       8361      0.958      0.868      0.884      0.682\n"
     ]
    },
    {
     "name": "stderr",
     "output_type": "stream",
     "text": [
      "\n"
     ]
    },
    {
     "name": "stdout",
     "output_type": "stream",
     "text": [
      "\n",
      "      Epoch    GPU_mem   box_loss   cls_loss   dfl_loss  Instances       Size\n"
     ]
    },
    {
     "name": "stderr",
     "output_type": "stream",
     "text": [
      "     12/100      11.6G     0.5804     0.3247      0.809         43       1920: 100%|██████████| 181/181 [00:25<00:00,  7.08it/s]\n",
      "                 Class     Images  Instances      Box(P          R      mAP50  mAP50-95): 100%|██████████| 23/23 [00:01<00:00, 16.92it/s]"
     ]
    },
    {
     "name": "stdout",
     "output_type": "stream",
     "text": [
      "                   all        361       8361      0.957       0.86      0.888      0.691\n"
     ]
    },
    {
     "name": "stderr",
     "output_type": "stream",
     "text": [
      "\n"
     ]
    },
    {
     "name": "stdout",
     "output_type": "stream",
     "text": [
      "\n",
      "      Epoch    GPU_mem   box_loss   cls_loss   dfl_loss  Instances       Size\n"
     ]
    },
    {
     "name": "stderr",
     "output_type": "stream",
     "text": [
      "     13/100        15G     0.5753     0.3213     0.8093         26       1920: 100%|██████████| 181/181 [00:25<00:00,  7.11it/s]\n",
      "                 Class     Images  Instances      Box(P          R      mAP50  mAP50-95): 100%|██████████| 23/23 [00:01<00:00, 16.79it/s]"
     ]
    },
    {
     "name": "stdout",
     "output_type": "stream",
     "text": [
      "                   all        361       8361      0.951      0.872      0.893      0.666\n"
     ]
    },
    {
     "name": "stderr",
     "output_type": "stream",
     "text": [
      "\n"
     ]
    },
    {
     "name": "stdout",
     "output_type": "stream",
     "text": [
      "\n",
      "      Epoch    GPU_mem   box_loss   cls_loss   dfl_loss  Instances       Size\n"
     ]
    },
    {
     "name": "stderr",
     "output_type": "stream",
     "text": [
      "     14/100      14.5G     0.5701     0.3155     0.8077         27       1920: 100%|██████████| 181/181 [00:25<00:00,  7.08it/s]\n",
      "                 Class     Images  Instances      Box(P          R      mAP50  mAP50-95): 100%|██████████| 23/23 [00:01<00:00, 16.87it/s]"
     ]
    },
    {
     "name": "stdout",
     "output_type": "stream",
     "text": [
      "                   all        361       8361      0.981      0.864      0.896      0.704\n"
     ]
    },
    {
     "name": "stderr",
     "output_type": "stream",
     "text": [
      "\n"
     ]
    },
    {
     "name": "stdout",
     "output_type": "stream",
     "text": [
      "\n",
      "      Epoch    GPU_mem   box_loss   cls_loss   dfl_loss  Instances       Size\n"
     ]
    },
    {
     "name": "stderr",
     "output_type": "stream",
     "text": [
      "     15/100      15.7G     0.5669     0.3095     0.8074         20       1920: 100%|██████████| 181/181 [00:25<00:00,  7.09it/s]\n",
      "                 Class     Images  Instances      Box(P          R      mAP50  mAP50-95): 100%|██████████| 23/23 [00:01<00:00, 16.85it/s]"
     ]
    },
    {
     "name": "stdout",
     "output_type": "stream",
     "text": [
      "                   all        361       8361      0.969      0.869      0.895      0.703\n"
     ]
    },
    {
     "name": "stderr",
     "output_type": "stream",
     "text": [
      "\n"
     ]
    },
    {
     "name": "stdout",
     "output_type": "stream",
     "text": [
      "\n",
      "      Epoch    GPU_mem   box_loss   cls_loss   dfl_loss  Instances       Size\n"
     ]
    },
    {
     "name": "stderr",
     "output_type": "stream",
     "text": [
      "     16/100      14.6G     0.5587     0.3065     0.8062         24       1920: 100%|██████████| 181/181 [00:25<00:00,  7.09it/s]\n",
      "                 Class     Images  Instances      Box(P          R      mAP50  mAP50-95): 100%|██████████| 23/23 [00:01<00:00, 16.89it/s]"
     ]
    },
    {
     "name": "stdout",
     "output_type": "stream",
     "text": [
      "                   all        361       8361      0.977      0.862      0.894      0.712\n"
     ]
    },
    {
     "name": "stderr",
     "output_type": "stream",
     "text": [
      "\n"
     ]
    },
    {
     "name": "stdout",
     "output_type": "stream",
     "text": [
      "\n",
      "      Epoch    GPU_mem   box_loss   cls_loss   dfl_loss  Instances       Size\n"
     ]
    },
    {
     "name": "stderr",
     "output_type": "stream",
     "text": [
      "     17/100      11.5G     0.5547     0.3014     0.8054         22       1920: 100%|██████████| 181/181 [00:25<00:00,  7.09it/s]\n",
      "                 Class     Images  Instances      Box(P          R      mAP50  mAP50-95): 100%|██████████| 23/23 [00:01<00:00, 16.99it/s]"
     ]
    },
    {
     "name": "stdout",
     "output_type": "stream",
     "text": [
      "                   all        361       8361      0.974       0.87      0.897      0.707\n"
     ]
    },
    {
     "name": "stderr",
     "output_type": "stream",
     "text": [
      "\n"
     ]
    },
    {
     "name": "stdout",
     "output_type": "stream",
     "text": [
      "\n",
      "      Epoch    GPU_mem   box_loss   cls_loss   dfl_loss  Instances       Size\n"
     ]
    },
    {
     "name": "stderr",
     "output_type": "stream",
     "text": [
      "     18/100      14.7G     0.5578     0.3088     0.8056         19       1920: 100%|██████████| 181/181 [00:25<00:00,  7.10it/s]\n",
      "                 Class     Images  Instances      Box(P          R      mAP50  mAP50-95): 100%|██████████| 23/23 [00:01<00:00, 16.88it/s]"
     ]
    },
    {
     "name": "stdout",
     "output_type": "stream",
     "text": [
      "                   all        361       8361      0.985      0.868        0.9      0.717\n"
     ]
    },
    {
     "name": "stderr",
     "output_type": "stream",
     "text": [
      "\n"
     ]
    },
    {
     "name": "stdout",
     "output_type": "stream",
     "text": [
      "\n",
      "      Epoch    GPU_mem   box_loss   cls_loss   dfl_loss  Instances       Size\n"
     ]
    },
    {
     "name": "stderr",
     "output_type": "stream",
     "text": [
      "     19/100      16.6G     0.5552     0.3077     0.8055         23       1920: 100%|██████████| 181/181 [00:25<00:00,  7.07it/s]\n",
      "                 Class     Images  Instances      Box(P          R      mAP50  mAP50-95): 100%|██████████| 23/23 [00:01<00:00, 16.89it/s]"
     ]
    },
    {
     "name": "stdout",
     "output_type": "stream",
     "text": [
      "                   all        361       8361      0.978      0.877      0.903       0.72\n"
     ]
    },
    {
     "name": "stderr",
     "output_type": "stream",
     "text": [
      "\n"
     ]
    },
    {
     "name": "stdout",
     "output_type": "stream",
     "text": [
      "\n",
      "      Epoch    GPU_mem   box_loss   cls_loss   dfl_loss  Instances       Size\n"
     ]
    },
    {
     "name": "stderr",
     "output_type": "stream",
     "text": [
      "     20/100        15G     0.5494     0.2997     0.8049         34       1920: 100%|██████████| 181/181 [00:25<00:00,  7.07it/s]\n",
      "                 Class     Images  Instances      Box(P          R      mAP50  mAP50-95): 100%|██████████| 23/23 [00:01<00:00, 16.77it/s]"
     ]
    },
    {
     "name": "stdout",
     "output_type": "stream",
     "text": [
      "                   all        361       8361      0.965      0.866        0.9      0.705\n"
     ]
    },
    {
     "name": "stderr",
     "output_type": "stream",
     "text": [
      "\n"
     ]
    },
    {
     "name": "stdout",
     "output_type": "stream",
     "text": [
      "\n",
      "      Epoch    GPU_mem   box_loss   cls_loss   dfl_loss  Instances       Size\n"
     ]
    },
    {
     "name": "stderr",
     "output_type": "stream",
     "text": [
      "     21/100      14.8G      0.555     0.3027     0.8055         23       1920: 100%|██████████| 181/181 [00:25<00:00,  7.07it/s]\n",
      "                 Class     Images  Instances      Box(P          R      mAP50  mAP50-95): 100%|██████████| 23/23 [00:01<00:00, 16.92it/s]"
     ]
    },
    {
     "name": "stdout",
     "output_type": "stream",
     "text": [
      "                   all        361       8361      0.994      0.858      0.904      0.709\n"
     ]
    },
    {
     "name": "stderr",
     "output_type": "stream",
     "text": [
      "\n"
     ]
    },
    {
     "name": "stdout",
     "output_type": "stream",
     "text": [
      "\n",
      "      Epoch    GPU_mem   box_loss   cls_loss   dfl_loss  Instances       Size\n"
     ]
    },
    {
     "name": "stderr",
     "output_type": "stream",
     "text": [
      "     22/100      12.9G     0.5449     0.2962     0.8029         14       1920: 100%|██████████| 181/181 [00:25<00:00,  7.10it/s]\n",
      "                 Class     Images  Instances      Box(P          R      mAP50  mAP50-95): 100%|██████████| 23/23 [00:01<00:00, 16.96it/s]"
     ]
    },
    {
     "name": "stdout",
     "output_type": "stream",
     "text": [
      "                   all        361       8361      0.967      0.873      0.905      0.728\n"
     ]
    },
    {
     "name": "stderr",
     "output_type": "stream",
     "text": [
      "\n"
     ]
    },
    {
     "name": "stdout",
     "output_type": "stream",
     "text": [
      "\n",
      "      Epoch    GPU_mem   box_loss   cls_loss   dfl_loss  Instances       Size\n"
     ]
    },
    {
     "name": "stderr",
     "output_type": "stream",
     "text": [
      "     23/100      14.8G     0.5401     0.2918     0.8035         25       1920: 100%|██████████| 181/181 [00:25<00:00,  7.12it/s]\n",
      "                 Class     Images  Instances      Box(P          R      mAP50  mAP50-95): 100%|██████████| 23/23 [00:01<00:00, 16.84it/s]"
     ]
    },
    {
     "name": "stdout",
     "output_type": "stream",
     "text": [
      "                   all        361       8361      0.967       0.88      0.907       0.73\n"
     ]
    },
    {
     "name": "stderr",
     "output_type": "stream",
     "text": [
      "\n"
     ]
    },
    {
     "name": "stdout",
     "output_type": "stream",
     "text": [
      "\n",
      "      Epoch    GPU_mem   box_loss   cls_loss   dfl_loss  Instances       Size\n"
     ]
    },
    {
     "name": "stderr",
     "output_type": "stream",
     "text": [
      "     24/100      12.4G     0.5434     0.2927     0.8029         24       1920: 100%|██████████| 181/181 [00:25<00:00,  7.08it/s]\n",
      "                 Class     Images  Instances      Box(P          R      mAP50  mAP50-95): 100%|██████████| 23/23 [00:01<00:00, 17.04it/s]"
     ]
    },
    {
     "name": "stdout",
     "output_type": "stream",
     "text": [
      "                   all        361       8361       0.98      0.878      0.907      0.708\n"
     ]
    },
    {
     "name": "stderr",
     "output_type": "stream",
     "text": [
      "\n"
     ]
    },
    {
     "name": "stdout",
     "output_type": "stream",
     "text": [
      "\n",
      "      Epoch    GPU_mem   box_loss   cls_loss   dfl_loss  Instances       Size\n"
     ]
    },
    {
     "name": "stderr",
     "output_type": "stream",
     "text": [
      "     25/100      13.3G     0.5368     0.2933     0.8024         56       1920: 100%|██████████| 181/181 [00:25<00:00,  7.08it/s]\n",
      "                 Class     Images  Instances      Box(P          R      mAP50  mAP50-95): 100%|██████████| 23/23 [00:01<00:00, 16.96it/s]"
     ]
    },
    {
     "name": "stdout",
     "output_type": "stream",
     "text": [
      "                   all        361       8361      0.983      0.879      0.906      0.717\n"
     ]
    },
    {
     "name": "stderr",
     "output_type": "stream",
     "text": [
      "\n"
     ]
    },
    {
     "name": "stdout",
     "output_type": "stream",
     "text": [
      "\n",
      "      Epoch    GPU_mem   box_loss   cls_loss   dfl_loss  Instances       Size\n"
     ]
    },
    {
     "name": "stderr",
     "output_type": "stream",
     "text": [
      "     26/100      13.9G     0.5377     0.2954     0.8019         80       1920: 100%|██████████| 181/181 [00:25<00:00,  7.09it/s]\n",
      "                 Class     Images  Instances      Box(P          R      mAP50  mAP50-95): 100%|██████████| 23/23 [00:01<00:00, 16.64it/s]"
     ]
    },
    {
     "name": "stdout",
     "output_type": "stream",
     "text": [
      "                   all        361       8361      0.978      0.876      0.904      0.724\n"
     ]
    },
    {
     "name": "stderr",
     "output_type": "stream",
     "text": [
      "\n"
     ]
    },
    {
     "name": "stdout",
     "output_type": "stream",
     "text": [
      "\n",
      "      Epoch    GPU_mem   box_loss   cls_loss   dfl_loss  Instances       Size\n"
     ]
    },
    {
     "name": "stderr",
     "output_type": "stream",
     "text": [
      "     27/100      15.4G     0.5321     0.2877     0.8007         32       1920: 100%|██████████| 181/181 [00:25<00:00,  7.10it/s]\n",
      "                 Class     Images  Instances      Box(P          R      mAP50  mAP50-95): 100%|██████████| 23/23 [00:01<00:00, 16.97it/s]"
     ]
    },
    {
     "name": "stdout",
     "output_type": "stream",
     "text": [
      "                   all        361       8361      0.979      0.881      0.909      0.736\n"
     ]
    },
    {
     "name": "stderr",
     "output_type": "stream",
     "text": [
      "\n"
     ]
    },
    {
     "name": "stdout",
     "output_type": "stream",
     "text": [
      "\n",
      "      Epoch    GPU_mem   box_loss   cls_loss   dfl_loss  Instances       Size\n"
     ]
    },
    {
     "name": "stderr",
     "output_type": "stream",
     "text": [
      "     28/100      11.4G      0.535     0.2878     0.8018         80       1920: 100%|██████████| 181/181 [00:25<00:00,  7.07it/s]\n",
      "                 Class     Images  Instances      Box(P          R      mAP50  mAP50-95): 100%|██████████| 23/23 [00:01<00:00, 16.98it/s]"
     ]
    },
    {
     "name": "stdout",
     "output_type": "stream",
     "text": [
      "                   all        361       8361      0.976      0.878      0.909      0.729\n"
     ]
    },
    {
     "name": "stderr",
     "output_type": "stream",
     "text": [
      "\n"
     ]
    },
    {
     "name": "stdout",
     "output_type": "stream",
     "text": [
      "\n",
      "      Epoch    GPU_mem   box_loss   cls_loss   dfl_loss  Instances       Size\n"
     ]
    },
    {
     "name": "stderr",
     "output_type": "stream",
     "text": [
      "     29/100      11.6G      0.535      0.287     0.8013         18       1920: 100%|██████████| 181/181 [00:25<00:00,  7.07it/s]\n",
      "                 Class     Images  Instances      Box(P          R      mAP50  mAP50-95): 100%|██████████| 23/23 [00:01<00:00, 16.81it/s]"
     ]
    },
    {
     "name": "stdout",
     "output_type": "stream",
     "text": [
      "                   all        361       8361      0.991      0.877      0.905      0.724\n"
     ]
    },
    {
     "name": "stderr",
     "output_type": "stream",
     "text": [
      "\n"
     ]
    },
    {
     "name": "stdout",
     "output_type": "stream",
     "text": [
      "\n",
      "      Epoch    GPU_mem   box_loss   cls_loss   dfl_loss  Instances       Size\n"
     ]
    },
    {
     "name": "stderr",
     "output_type": "stream",
     "text": [
      "     30/100      14.6G     0.5264     0.2847     0.8006         20       1920: 100%|██████████| 181/181 [00:25<00:00,  7.09it/s]\n",
      "                 Class     Images  Instances      Box(P          R      mAP50  mAP50-95): 100%|██████████| 23/23 [00:01<00:00, 16.86it/s]"
     ]
    },
    {
     "name": "stdout",
     "output_type": "stream",
     "text": [
      "                   all        361       8361      0.979      0.879      0.912      0.737\n"
     ]
    },
    {
     "name": "stderr",
     "output_type": "stream",
     "text": [
      "\n"
     ]
    },
    {
     "name": "stdout",
     "output_type": "stream",
     "text": [
      "\n",
      "      Epoch    GPU_mem   box_loss   cls_loss   dfl_loss  Instances       Size\n"
     ]
    },
    {
     "name": "stderr",
     "output_type": "stream",
     "text": [
      "     31/100      13.7G     0.5262     0.2834     0.8006         39       1920: 100%|██████████| 181/181 [00:25<00:00,  7.09it/s]\n",
      "                 Class     Images  Instances      Box(P          R      mAP50  mAP50-95): 100%|██████████| 23/23 [00:01<00:00, 16.77it/s]"
     ]
    },
    {
     "name": "stdout",
     "output_type": "stream",
     "text": [
      "                   all        361       8361       0.97      0.884      0.911      0.732\n"
     ]
    },
    {
     "name": "stderr",
     "output_type": "stream",
     "text": [
      "\n"
     ]
    },
    {
     "name": "stdout",
     "output_type": "stream",
     "text": [
      "\n",
      "      Epoch    GPU_mem   box_loss   cls_loss   dfl_loss  Instances       Size\n"
     ]
    },
    {
     "name": "stderr",
     "output_type": "stream",
     "text": [
      "     32/100      13.8G     0.5279     0.2825     0.8002         20       1920: 100%|██████████| 181/181 [00:25<00:00,  7.09it/s]\n",
      "                 Class     Images  Instances      Box(P          R      mAP50  mAP50-95): 100%|██████████| 23/23 [00:01<00:00, 16.92it/s]"
     ]
    },
    {
     "name": "stdout",
     "output_type": "stream",
     "text": [
      "                   all        361       8361      0.971      0.886       0.91      0.727\n"
     ]
    },
    {
     "name": "stderr",
     "output_type": "stream",
     "text": [
      "\n"
     ]
    },
    {
     "name": "stdout",
     "output_type": "stream",
     "text": [
      "\n",
      "      Epoch    GPU_mem   box_loss   cls_loss   dfl_loss  Instances       Size\n"
     ]
    },
    {
     "name": "stderr",
     "output_type": "stream",
     "text": [
      "     33/100      13.7G     0.5253     0.2815     0.8005         25       1920: 100%|██████████| 181/181 [00:25<00:00,  7.08it/s]\n",
      "                 Class     Images  Instances      Box(P          R      mAP50  mAP50-95): 100%|██████████| 23/23 [00:01<00:00, 16.84it/s]"
     ]
    },
    {
     "name": "stdout",
     "output_type": "stream",
     "text": [
      "                   all        361       8361      0.979      0.888      0.907      0.731\n"
     ]
    },
    {
     "name": "stderr",
     "output_type": "stream",
     "text": [
      "\n"
     ]
    },
    {
     "name": "stdout",
     "output_type": "stream",
     "text": [
      "\n",
      "      Epoch    GPU_mem   box_loss   cls_loss   dfl_loss  Instances       Size\n"
     ]
    },
    {
     "name": "stderr",
     "output_type": "stream",
     "text": [
      "     34/100      14.6G     0.5262     0.2816     0.8004         21       1920: 100%|██████████| 181/181 [00:25<00:00,  7.06it/s]\n",
      "                 Class     Images  Instances      Box(P          R      mAP50  mAP50-95): 100%|██████████| 23/23 [00:01<00:00, 16.89it/s]"
     ]
    },
    {
     "name": "stdout",
     "output_type": "stream",
     "text": [
      "                   all        361       8361      0.975      0.886      0.912      0.735\n"
     ]
    },
    {
     "name": "stderr",
     "output_type": "stream",
     "text": [
      "\n"
     ]
    },
    {
     "name": "stdout",
     "output_type": "stream",
     "text": [
      "\n",
      "      Epoch    GPU_mem   box_loss   cls_loss   dfl_loss  Instances       Size\n"
     ]
    },
    {
     "name": "stderr",
     "output_type": "stream",
     "text": [
      "     35/100      14.6G       0.53     0.2847     0.8015         41       1920: 100%|██████████| 181/181 [00:25<00:00,  7.09it/s]\n",
      "                 Class     Images  Instances      Box(P          R      mAP50  mAP50-95): 100%|██████████| 23/23 [00:01<00:00, 16.60it/s]"
     ]
    },
    {
     "name": "stdout",
     "output_type": "stream",
     "text": [
      "                   all        361       8361      0.973      0.894      0.908      0.727\n"
     ]
    },
    {
     "name": "stderr",
     "output_type": "stream",
     "text": [
      "\n"
     ]
    },
    {
     "name": "stdout",
     "output_type": "stream",
     "text": [
      "\n",
      "      Epoch    GPU_mem   box_loss   cls_loss   dfl_loss  Instances       Size\n"
     ]
    },
    {
     "name": "stderr",
     "output_type": "stream",
     "text": [
      "     36/100      13.2G      0.524     0.2787     0.7999         22       1920: 100%|██████████| 181/181 [00:25<00:00,  7.06it/s]\n",
      "                 Class     Images  Instances      Box(P          R      mAP50  mAP50-95): 100%|██████████| 23/23 [00:01<00:00, 16.93it/s]"
     ]
    },
    {
     "name": "stdout",
     "output_type": "stream",
     "text": [
      "                   all        361       8361      0.968      0.889      0.913      0.732\n"
     ]
    },
    {
     "name": "stderr",
     "output_type": "stream",
     "text": [
      "\n"
     ]
    },
    {
     "name": "stdout",
     "output_type": "stream",
     "text": [
      "\n",
      "      Epoch    GPU_mem   box_loss   cls_loss   dfl_loss  Instances       Size\n"
     ]
    },
    {
     "name": "stderr",
     "output_type": "stream",
     "text": [
      "     37/100        17G      0.515     0.2755     0.7996         25       1920: 100%|██████████| 181/181 [00:25<00:00,  7.09it/s]\n",
      "                 Class     Images  Instances      Box(P          R      mAP50  mAP50-95): 100%|██████████| 23/23 [00:01<00:00, 16.95it/s]"
     ]
    },
    {
     "name": "stdout",
     "output_type": "stream",
     "text": [
      "                   all        361       8361       0.98      0.887      0.913      0.735\n"
     ]
    },
    {
     "name": "stderr",
     "output_type": "stream",
     "text": [
      "\n"
     ]
    },
    {
     "name": "stdout",
     "output_type": "stream",
     "text": [
      "\n",
      "      Epoch    GPU_mem   box_loss   cls_loss   dfl_loss  Instances       Size\n"
     ]
    },
    {
     "name": "stderr",
     "output_type": "stream",
     "text": [
      "     38/100      14.9G     0.5137     0.2741     0.7977         53       1920: 100%|██████████| 181/181 [00:25<00:00,  7.06it/s]\n",
      "                 Class     Images  Instances      Box(P          R      mAP50  mAP50-95): 100%|██████████| 23/23 [00:01<00:00, 16.69it/s]"
     ]
    },
    {
     "name": "stdout",
     "output_type": "stream",
     "text": [
      "                   all        361       8361      0.988      0.885      0.916      0.739\n"
     ]
    },
    {
     "name": "stderr",
     "output_type": "stream",
     "text": [
      "\n"
     ]
    },
    {
     "name": "stdout",
     "output_type": "stream",
     "text": [
      "\n",
      "      Epoch    GPU_mem   box_loss   cls_loss   dfl_loss  Instances       Size\n"
     ]
    },
    {
     "name": "stderr",
     "output_type": "stream",
     "text": [
      "     39/100      11.7G      0.512     0.2728     0.7993         19       1920: 100%|██████████| 181/181 [00:25<00:00,  7.07it/s]\n",
      "                 Class     Images  Instances      Box(P          R      mAP50  mAP50-95): 100%|██████████| 23/23 [00:01<00:00, 16.73it/s]"
     ]
    },
    {
     "name": "stdout",
     "output_type": "stream",
     "text": [
      "                   all        361       8361      0.988      0.888      0.913      0.728\n"
     ]
    },
    {
     "name": "stderr",
     "output_type": "stream",
     "text": [
      "\n"
     ]
    },
    {
     "name": "stdout",
     "output_type": "stream",
     "text": [
      "\n",
      "      Epoch    GPU_mem   box_loss   cls_loss   dfl_loss  Instances       Size\n"
     ]
    },
    {
     "name": "stderr",
     "output_type": "stream",
     "text": [
      "     40/100      15.6G     0.5215     0.2784     0.7977         71       1920: 100%|██████████| 181/181 [00:25<00:00,  7.07it/s]\n",
      "                 Class     Images  Instances      Box(P          R      mAP50  mAP50-95): 100%|██████████| 23/23 [00:01<00:00, 16.72it/s]"
     ]
    },
    {
     "name": "stdout",
     "output_type": "stream",
     "text": [
      "                   all        361       8361      0.984        0.9      0.916      0.735\n"
     ]
    },
    {
     "name": "stderr",
     "output_type": "stream",
     "text": [
      "\n"
     ]
    },
    {
     "name": "stdout",
     "output_type": "stream",
     "text": [
      "\n",
      "      Epoch    GPU_mem   box_loss   cls_loss   dfl_loss  Instances       Size\n"
     ]
    },
    {
     "name": "stderr",
     "output_type": "stream",
     "text": [
      "     41/100      14.5G     0.5178     0.2721     0.7986         16       1920: 100%|██████████| 181/181 [00:25<00:00,  7.06it/s]\n",
      "                 Class     Images  Instances      Box(P          R      mAP50  mAP50-95): 100%|██████████| 23/23 [00:01<00:00, 17.02it/s]"
     ]
    },
    {
     "name": "stdout",
     "output_type": "stream",
     "text": [
      "                   all        361       8361      0.982      0.887      0.915      0.738\n"
     ]
    },
    {
     "name": "stderr",
     "output_type": "stream",
     "text": [
      "\n"
     ]
    },
    {
     "name": "stdout",
     "output_type": "stream",
     "text": [
      "\n",
      "      Epoch    GPU_mem   box_loss   cls_loss   dfl_loss  Instances       Size\n"
     ]
    },
    {
     "name": "stderr",
     "output_type": "stream",
     "text": [
      "     42/100      11.3G     0.5092     0.2715      0.798         14       1920: 100%|██████████| 181/181 [00:25<00:00,  7.07it/s]\n",
      "                 Class     Images  Instances      Box(P          R      mAP50  mAP50-95): 100%|██████████| 23/23 [00:01<00:00, 16.85it/s]"
     ]
    },
    {
     "name": "stdout",
     "output_type": "stream",
     "text": [
      "                   all        361       8361      0.972       0.89      0.914       0.74\n"
     ]
    },
    {
     "name": "stderr",
     "output_type": "stream",
     "text": [
      "\n"
     ]
    },
    {
     "name": "stdout",
     "output_type": "stream",
     "text": [
      "\n",
      "      Epoch    GPU_mem   box_loss   cls_loss   dfl_loss  Instances       Size\n"
     ]
    },
    {
     "name": "stderr",
     "output_type": "stream",
     "text": [
      "     43/100      13.5G     0.5105     0.2726      0.798         27       1920: 100%|██████████| 181/181 [00:25<00:00,  7.10it/s]\n",
      "                 Class     Images  Instances      Box(P          R      mAP50  mAP50-95): 100%|██████████| 23/23 [00:01<00:00, 16.86it/s]"
     ]
    },
    {
     "name": "stdout",
     "output_type": "stream",
     "text": [
      "                   all        361       8361      0.984      0.885      0.915      0.743\n"
     ]
    },
    {
     "name": "stderr",
     "output_type": "stream",
     "text": [
      "\n"
     ]
    },
    {
     "name": "stdout",
     "output_type": "stream",
     "text": [
      "\n",
      "      Epoch    GPU_mem   box_loss   cls_loss   dfl_loss  Instances       Size\n"
     ]
    },
    {
     "name": "stderr",
     "output_type": "stream",
     "text": [
      "     44/100      14.4G     0.5126     0.2689     0.7973         23       1920: 100%|██████████| 181/181 [00:25<00:00,  7.09it/s]\n",
      "                 Class     Images  Instances      Box(P          R      mAP50  mAP50-95): 100%|██████████| 23/23 [00:01<00:00, 17.00it/s]"
     ]
    },
    {
     "name": "stdout",
     "output_type": "stream",
     "text": [
      "                   all        361       8361      0.984      0.891      0.919      0.743\n"
     ]
    },
    {
     "name": "stderr",
     "output_type": "stream",
     "text": [
      "\n"
     ]
    },
    {
     "name": "stdout",
     "output_type": "stream",
     "text": [
      "\n",
      "      Epoch    GPU_mem   box_loss   cls_loss   dfl_loss  Instances       Size\n"
     ]
    },
    {
     "name": "stderr",
     "output_type": "stream",
     "text": [
      "     45/100      12.7G     0.5077     0.2671     0.7975         20       1920: 100%|██████████| 181/181 [00:25<00:00,  7.07it/s]\n",
      "                 Class     Images  Instances      Box(P          R      mAP50  mAP50-95): 100%|██████████| 23/23 [00:01<00:00, 16.95it/s]"
     ]
    },
    {
     "name": "stdout",
     "output_type": "stream",
     "text": [
      "                   all        361       8361      0.983      0.895      0.921      0.746\n"
     ]
    },
    {
     "name": "stderr",
     "output_type": "stream",
     "text": [
      "\n"
     ]
    },
    {
     "name": "stdout",
     "output_type": "stream",
     "text": [
      "\n",
      "      Epoch    GPU_mem   box_loss   cls_loss   dfl_loss  Instances       Size\n"
     ]
    },
    {
     "name": "stderr",
     "output_type": "stream",
     "text": [
      "     46/100      13.6G     0.5026     0.2651     0.7971         25       1920: 100%|██████████| 181/181 [00:25<00:00,  7.10it/s]\n",
      "                 Class     Images  Instances      Box(P          R      mAP50  mAP50-95): 100%|██████████| 23/23 [00:01<00:00, 16.81it/s]"
     ]
    },
    {
     "name": "stdout",
     "output_type": "stream",
     "text": [
      "                   all        361       8361      0.973      0.894      0.913       0.74\n"
     ]
    },
    {
     "name": "stderr",
     "output_type": "stream",
     "text": [
      "\n"
     ]
    },
    {
     "name": "stdout",
     "output_type": "stream",
     "text": [
      "\n",
      "      Epoch    GPU_mem   box_loss   cls_loss   dfl_loss  Instances       Size\n"
     ]
    },
    {
     "name": "stderr",
     "output_type": "stream",
     "text": [
      "     47/100      13.8G     0.4995      0.264     0.7952         21       1920: 100%|██████████| 181/181 [00:25<00:00,  7.10it/s]\n",
      "                 Class     Images  Instances      Box(P          R      mAP50  mAP50-95): 100%|██████████| 23/23 [00:01<00:00, 16.81it/s]"
     ]
    },
    {
     "name": "stdout",
     "output_type": "stream",
     "text": [
      "                   all        361       8361      0.976       0.89      0.923       0.75\n"
     ]
    },
    {
     "name": "stderr",
     "output_type": "stream",
     "text": [
      "\n"
     ]
    },
    {
     "name": "stdout",
     "output_type": "stream",
     "text": [
      "\n",
      "      Epoch    GPU_mem   box_loss   cls_loss   dfl_loss  Instances       Size\n"
     ]
    },
    {
     "name": "stderr",
     "output_type": "stream",
     "text": [
      "     48/100      12.8G     0.5069     0.2669     0.7982         13       1920: 100%|██████████| 181/181 [00:25<00:00,  7.09it/s]\n",
      "                 Class     Images  Instances      Box(P          R      mAP50  mAP50-95): 100%|██████████| 23/23 [00:01<00:00, 16.80it/s]"
     ]
    },
    {
     "name": "stdout",
     "output_type": "stream",
     "text": [
      "                   all        361       8361      0.978      0.906      0.927      0.751\n"
     ]
    },
    {
     "name": "stderr",
     "output_type": "stream",
     "text": [
      "\n"
     ]
    },
    {
     "name": "stdout",
     "output_type": "stream",
     "text": [
      "\n",
      "      Epoch    GPU_mem   box_loss   cls_loss   dfl_loss  Instances       Size\n"
     ]
    },
    {
     "name": "stderr",
     "output_type": "stream",
     "text": [
      "     49/100      12.7G      0.514     0.2676     0.7976         53       1920: 100%|██████████| 181/181 [00:25<00:00,  7.11it/s]\n",
      "                 Class     Images  Instances      Box(P          R      mAP50  mAP50-95): 100%|██████████| 23/23 [00:01<00:00, 16.80it/s]"
     ]
    },
    {
     "name": "stdout",
     "output_type": "stream",
     "text": [
      "                   all        361       8361      0.982      0.902      0.922      0.746\n"
     ]
    },
    {
     "name": "stderr",
     "output_type": "stream",
     "text": [
      "\n"
     ]
    },
    {
     "name": "stdout",
     "output_type": "stream",
     "text": [
      "\n",
      "      Epoch    GPU_mem   box_loss   cls_loss   dfl_loss  Instances       Size\n"
     ]
    },
    {
     "name": "stderr",
     "output_type": "stream",
     "text": [
      "     50/100      13.2G     0.5044     0.2664     0.7971         53       1920: 100%|██████████| 181/181 [00:25<00:00,  7.08it/s]\n",
      "                 Class     Images  Instances      Box(P          R      mAP50  mAP50-95): 100%|██████████| 23/23 [00:01<00:00, 16.97it/s]"
     ]
    },
    {
     "name": "stdout",
     "output_type": "stream",
     "text": [
      "                   all        361       8361      0.982      0.896      0.922       0.75\n"
     ]
    },
    {
     "name": "stderr",
     "output_type": "stream",
     "text": [
      "\n"
     ]
    },
    {
     "name": "stdout",
     "output_type": "stream",
     "text": [
      "\n",
      "      Epoch    GPU_mem   box_loss   cls_loss   dfl_loss  Instances       Size\n"
     ]
    },
    {
     "name": "stderr",
     "output_type": "stream",
     "text": [
      "     51/100        13G     0.5025     0.2642     0.7962         53       1920: 100%|██████████| 181/181 [00:25<00:00,  7.07it/s]\n",
      "                 Class     Images  Instances      Box(P          R      mAP50  mAP50-95): 100%|██████████| 23/23 [00:01<00:00, 16.84it/s]"
     ]
    },
    {
     "name": "stdout",
     "output_type": "stream",
     "text": [
      "                   all        361       8361       0.98      0.902      0.928      0.749\n"
     ]
    },
    {
     "name": "stderr",
     "output_type": "stream",
     "text": [
      "\n"
     ]
    },
    {
     "name": "stdout",
     "output_type": "stream",
     "text": [
      "\n",
      "      Epoch    GPU_mem   box_loss   cls_loss   dfl_loss  Instances       Size\n"
     ]
    },
    {
     "name": "stderr",
     "output_type": "stream",
     "text": [
      "     52/100      15.3G     0.4942     0.2613     0.7952         24       1920: 100%|██████████| 181/181 [00:25<00:00,  7.08it/s]\n",
      "                 Class     Images  Instances      Box(P          R      mAP50  mAP50-95): 100%|██████████| 23/23 [00:01<00:00, 16.78it/s]"
     ]
    },
    {
     "name": "stdout",
     "output_type": "stream",
     "text": [
      "                   all        361       8361      0.979      0.896      0.917      0.751\n"
     ]
    },
    {
     "name": "stderr",
     "output_type": "stream",
     "text": [
      "\n"
     ]
    },
    {
     "name": "stdout",
     "output_type": "stream",
     "text": [
      "\n",
      "      Epoch    GPU_mem   box_loss   cls_loss   dfl_loss  Instances       Size\n"
     ]
    },
    {
     "name": "stderr",
     "output_type": "stream",
     "text": [
      "     53/100        13G     0.4996     0.2647     0.7952         49       1920: 100%|██████████| 181/181 [00:25<00:00,  7.08it/s]\n",
      "                 Class     Images  Instances      Box(P          R      mAP50  mAP50-95): 100%|██████████| 23/23 [00:01<00:00, 16.97it/s]"
     ]
    },
    {
     "name": "stdout",
     "output_type": "stream",
     "text": [
      "                   all        361       8361      0.985      0.899      0.922      0.734\n"
     ]
    },
    {
     "name": "stderr",
     "output_type": "stream",
     "text": [
      "\n"
     ]
    },
    {
     "name": "stdout",
     "output_type": "stream",
     "text": [
      "\n",
      "      Epoch    GPU_mem   box_loss   cls_loss   dfl_loss  Instances       Size\n"
     ]
    },
    {
     "name": "stderr",
     "output_type": "stream",
     "text": [
      "     54/100      12.2G     0.4996     0.2634      0.796         76       1920: 100%|██████████| 181/181 [00:25<00:00,  7.07it/s]\n",
      "                 Class     Images  Instances      Box(P          R      mAP50  mAP50-95): 100%|██████████| 23/23 [00:01<00:00, 16.75it/s]"
     ]
    },
    {
     "name": "stdout",
     "output_type": "stream",
     "text": [
      "                   all        361       8361      0.978        0.9      0.923      0.744\n"
     ]
    },
    {
     "name": "stderr",
     "output_type": "stream",
     "text": [
      "\n"
     ]
    },
    {
     "name": "stdout",
     "output_type": "stream",
     "text": [
      "\n",
      "      Epoch    GPU_mem   box_loss   cls_loss   dfl_loss  Instances       Size\n"
     ]
    },
    {
     "name": "stderr",
     "output_type": "stream",
     "text": [
      "     55/100      14.9G     0.4931     0.2588     0.7973         30       1920: 100%|██████████| 181/181 [00:25<00:00,  7.09it/s]\n",
      "                 Class     Images  Instances      Box(P          R      mAP50  mAP50-95): 100%|██████████| 23/23 [00:01<00:00, 17.06it/s]"
     ]
    },
    {
     "name": "stdout",
     "output_type": "stream",
     "text": [
      "                   all        361       8361      0.964      0.906       0.93      0.752\n"
     ]
    },
    {
     "name": "stderr",
     "output_type": "stream",
     "text": [
      "\n"
     ]
    },
    {
     "name": "stdout",
     "output_type": "stream",
     "text": [
      "\n",
      "      Epoch    GPU_mem   box_loss   cls_loss   dfl_loss  Instances       Size\n"
     ]
    },
    {
     "name": "stderr",
     "output_type": "stream",
     "text": [
      "     56/100      13.8G     0.4904     0.2584     0.7953         43       1920: 100%|██████████| 181/181 [00:25<00:00,  7.09it/s]\n",
      "                 Class     Images  Instances      Box(P          R      mAP50  mAP50-95): 100%|██████████| 23/23 [00:01<00:00, 16.91it/s]"
     ]
    },
    {
     "name": "stdout",
     "output_type": "stream",
     "text": [
      "                   all        361       8361      0.979      0.904      0.922      0.751\n"
     ]
    },
    {
     "name": "stderr",
     "output_type": "stream",
     "text": [
      "\n"
     ]
    },
    {
     "name": "stdout",
     "output_type": "stream",
     "text": [
      "\n",
      "      Epoch    GPU_mem   box_loss   cls_loss   dfl_loss  Instances       Size\n"
     ]
    },
    {
     "name": "stderr",
     "output_type": "stream",
     "text": [
      "     57/100      13.9G     0.4933     0.2587     0.7956         22       1920: 100%|██████████| 181/181 [00:25<00:00,  7.10it/s]\n",
      "                 Class     Images  Instances      Box(P          R      mAP50  mAP50-95): 100%|██████████| 23/23 [00:01<00:00, 17.06it/s]"
     ]
    },
    {
     "name": "stdout",
     "output_type": "stream",
     "text": [
      "                   all        361       8361      0.972      0.903      0.926      0.751\n"
     ]
    },
    {
     "name": "stderr",
     "output_type": "stream",
     "text": [
      "\n"
     ]
    },
    {
     "name": "stdout",
     "output_type": "stream",
     "text": [
      "\n",
      "      Epoch    GPU_mem   box_loss   cls_loss   dfl_loss  Instances       Size\n"
     ]
    },
    {
     "name": "stderr",
     "output_type": "stream",
     "text": [
      "     58/100        13G     0.4932     0.2575     0.7956         32       1920: 100%|██████████| 181/181 [00:25<00:00,  7.06it/s]\n",
      "                 Class     Images  Instances      Box(P          R      mAP50  mAP50-95): 100%|██████████| 23/23 [00:01<00:00, 16.99it/s]"
     ]
    },
    {
     "name": "stdout",
     "output_type": "stream",
     "text": [
      "                   all        361       8361      0.986      0.904      0.926      0.752\n"
     ]
    },
    {
     "name": "stderr",
     "output_type": "stream",
     "text": [
      "\n"
     ]
    },
    {
     "name": "stdout",
     "output_type": "stream",
     "text": [
      "\n",
      "      Epoch    GPU_mem   box_loss   cls_loss   dfl_loss  Instances       Size\n"
     ]
    },
    {
     "name": "stderr",
     "output_type": "stream",
     "text": [
      "     59/100      11.8G     0.5011     0.2603      0.796         21       1920: 100%|██████████| 181/181 [00:25<00:00,  7.07it/s]\n",
      "                 Class     Images  Instances      Box(P          R      mAP50  mAP50-95): 100%|██████████| 23/23 [00:01<00:00, 16.88it/s]"
     ]
    },
    {
     "name": "stdout",
     "output_type": "stream",
     "text": [
      "                   all        361       8361      0.979      0.896      0.924      0.753\n"
     ]
    },
    {
     "name": "stderr",
     "output_type": "stream",
     "text": [
      "\n"
     ]
    },
    {
     "name": "stdout",
     "output_type": "stream",
     "text": [
      "\n",
      "      Epoch    GPU_mem   box_loss   cls_loss   dfl_loss  Instances       Size\n"
     ]
    },
    {
     "name": "stderr",
     "output_type": "stream",
     "text": [
      "     60/100      12.4G     0.4928     0.2564     0.7945         63       1920: 100%|██████████| 181/181 [00:25<00:00,  7.07it/s]\n",
      "                 Class     Images  Instances      Box(P          R      mAP50  mAP50-95): 100%|██████████| 23/23 [00:01<00:00, 16.78it/s]"
     ]
    },
    {
     "name": "stdout",
     "output_type": "stream",
     "text": [
      "                   all        361       8361      0.978       0.91      0.929      0.753\n"
     ]
    },
    {
     "name": "stderr",
     "output_type": "stream",
     "text": [
      "\n"
     ]
    },
    {
     "name": "stdout",
     "output_type": "stream",
     "text": [
      "\n",
      "      Epoch    GPU_mem   box_loss   cls_loss   dfl_loss  Instances       Size\n"
     ]
    },
    {
     "name": "stderr",
     "output_type": "stream",
     "text": [
      "     61/100      12.9G     0.4897     0.2557     0.7956         53       1920: 100%|██████████| 181/181 [00:25<00:00,  7.08it/s]\n",
      "                 Class     Images  Instances      Box(P          R      mAP50  mAP50-95): 100%|██████████| 23/23 [00:01<00:00, 16.77it/s]"
     ]
    },
    {
     "name": "stdout",
     "output_type": "stream",
     "text": [
      "                   all        361       8361      0.986      0.896      0.925      0.754\n"
     ]
    },
    {
     "name": "stderr",
     "output_type": "stream",
     "text": [
      "\n"
     ]
    },
    {
     "name": "stdout",
     "output_type": "stream",
     "text": [
      "\n",
      "      Epoch    GPU_mem   box_loss   cls_loss   dfl_loss  Instances       Size\n"
     ]
    },
    {
     "name": "stderr",
     "output_type": "stream",
     "text": [
      "     62/100      15.5G     0.4911     0.2564     0.7956         40       1920: 100%|██████████| 181/181 [00:25<00:00,  7.10it/s]\n",
      "                 Class     Images  Instances      Box(P          R      mAP50  mAP50-95): 100%|██████████| 23/23 [00:01<00:00, 16.95it/s]"
     ]
    },
    {
     "name": "stdout",
     "output_type": "stream",
     "text": [
      "                   all        361       8361      0.975      0.908      0.928      0.752\n"
     ]
    },
    {
     "name": "stderr",
     "output_type": "stream",
     "text": [
      "\n"
     ]
    },
    {
     "name": "stdout",
     "output_type": "stream",
     "text": [
      "\n",
      "      Epoch    GPU_mem   box_loss   cls_loss   dfl_loss  Instances       Size\n"
     ]
    },
    {
     "name": "stderr",
     "output_type": "stream",
     "text": [
      "     63/100        13G     0.4927     0.2532     0.7964         22       1920: 100%|██████████| 181/181 [00:25<00:00,  7.08it/s]\n",
      "                 Class     Images  Instances      Box(P          R      mAP50  mAP50-95): 100%|██████████| 23/23 [00:01<00:00, 16.90it/s]"
     ]
    },
    {
     "name": "stdout",
     "output_type": "stream",
     "text": [
      "                   all        361       8361      0.977      0.904      0.927      0.747\n"
     ]
    },
    {
     "name": "stderr",
     "output_type": "stream",
     "text": [
      "\n"
     ]
    },
    {
     "name": "stdout",
     "output_type": "stream",
     "text": [
      "\n",
      "      Epoch    GPU_mem   box_loss   cls_loss   dfl_loss  Instances       Size\n"
     ]
    },
    {
     "name": "stderr",
     "output_type": "stream",
     "text": [
      "     64/100      13.1G     0.4836     0.2505     0.7952         79       1920: 100%|██████████| 181/181 [00:25<00:00,  7.11it/s]\n",
      "                 Class     Images  Instances      Box(P          R      mAP50  mAP50-95): 100%|██████████| 23/23 [00:01<00:00, 16.91it/s]"
     ]
    },
    {
     "name": "stdout",
     "output_type": "stream",
     "text": [
      "                   all        361       8361      0.972      0.905      0.928      0.754\n"
     ]
    },
    {
     "name": "stderr",
     "output_type": "stream",
     "text": [
      "\n"
     ]
    },
    {
     "name": "stdout",
     "output_type": "stream",
     "text": [
      "\n",
      "      Epoch    GPU_mem   box_loss   cls_loss   dfl_loss  Instances       Size\n"
     ]
    },
    {
     "name": "stderr",
     "output_type": "stream",
     "text": [
      "     65/100        13G     0.4837     0.2526     0.7948         20       1920: 100%|██████████| 181/181 [00:25<00:00,  7.08it/s]\n",
      "                 Class     Images  Instances      Box(P          R      mAP50  mAP50-95): 100%|██████████| 23/23 [00:01<00:00, 16.74it/s]"
     ]
    },
    {
     "name": "stdout",
     "output_type": "stream",
     "text": [
      "                   all        361       8361      0.979        0.9      0.925      0.749\n"
     ]
    },
    {
     "name": "stderr",
     "output_type": "stream",
     "text": [
      "\n"
     ]
    },
    {
     "name": "stdout",
     "output_type": "stream",
     "text": [
      "\n",
      "      Epoch    GPU_mem   box_loss   cls_loss   dfl_loss  Instances       Size\n"
     ]
    },
    {
     "name": "stderr",
     "output_type": "stream",
     "text": [
      "     66/100        13G     0.4921     0.2554     0.7958         56       1920: 100%|██████████| 181/181 [00:25<00:00,  7.08it/s]\n",
      "                 Class     Images  Instances      Box(P          R      mAP50  mAP50-95): 100%|██████████| 23/23 [00:01<00:00, 16.62it/s]"
     ]
    },
    {
     "name": "stdout",
     "output_type": "stream",
     "text": [
      "                   all        361       8361      0.968      0.904      0.919      0.753\n"
     ]
    },
    {
     "name": "stderr",
     "output_type": "stream",
     "text": [
      "\n"
     ]
    },
    {
     "name": "stdout",
     "output_type": "stream",
     "text": [
      "\n",
      "      Epoch    GPU_mem   box_loss   cls_loss   dfl_loss  Instances       Size\n"
     ]
    },
    {
     "name": "stderr",
     "output_type": "stream",
     "text": [
      "     67/100      12.5G     0.4828     0.2496     0.7945         53       1920: 100%|██████████| 181/181 [00:25<00:00,  7.09it/s]\n",
      "                 Class     Images  Instances      Box(P          R      mAP50  mAP50-95): 100%|██████████| 23/23 [00:01<00:00, 16.78it/s]"
     ]
    },
    {
     "name": "stdout",
     "output_type": "stream",
     "text": [
      "                   all        361       8361      0.979      0.906      0.929      0.764\n"
     ]
    },
    {
     "name": "stderr",
     "output_type": "stream",
     "text": [
      "\n"
     ]
    },
    {
     "name": "stdout",
     "output_type": "stream",
     "text": [
      "\n",
      "      Epoch    GPU_mem   box_loss   cls_loss   dfl_loss  Instances       Size\n"
     ]
    },
    {
     "name": "stderr",
     "output_type": "stream",
     "text": [
      "     68/100      13.3G     0.4804     0.2503     0.7939         36       1920: 100%|██████████| 181/181 [00:25<00:00,  7.09it/s]\n",
      "                 Class     Images  Instances      Box(P          R      mAP50  mAP50-95): 100%|██████████| 23/23 [00:01<00:00, 16.71it/s]"
     ]
    },
    {
     "name": "stdout",
     "output_type": "stream",
     "text": [
      "                   all        361       8361      0.977      0.902      0.928      0.756\n"
     ]
    },
    {
     "name": "stderr",
     "output_type": "stream",
     "text": [
      "\n"
     ]
    },
    {
     "name": "stdout",
     "output_type": "stream",
     "text": [
      "\n",
      "      Epoch    GPU_mem   box_loss   cls_loss   dfl_loss  Instances       Size\n"
     ]
    },
    {
     "name": "stderr",
     "output_type": "stream",
     "text": [
      "     69/100        13G     0.4825     0.2494     0.7931         43       1920: 100%|██████████| 181/181 [00:25<00:00,  7.06it/s]\n",
      "                 Class     Images  Instances      Box(P          R      mAP50  mAP50-95): 100%|██████████| 23/23 [00:01<00:00, 16.92it/s]"
     ]
    },
    {
     "name": "stdout",
     "output_type": "stream",
     "text": [
      "                   all        361       8361      0.987        0.9       0.92      0.754\n"
     ]
    },
    {
     "name": "stderr",
     "output_type": "stream",
     "text": [
      "\n"
     ]
    },
    {
     "name": "stdout",
     "output_type": "stream",
     "text": [
      "\n",
      "      Epoch    GPU_mem   box_loss   cls_loss   dfl_loss  Instances       Size\n"
     ]
    },
    {
     "name": "stderr",
     "output_type": "stream",
     "text": [
      "     70/100      14.8G     0.4803     0.2474     0.7951         37       1920: 100%|██████████| 181/181 [00:25<00:00,  7.08it/s]\n",
      "                 Class     Images  Instances      Box(P          R      mAP50  mAP50-95): 100%|██████████| 23/23 [00:01<00:00, 16.85it/s]"
     ]
    },
    {
     "name": "stdout",
     "output_type": "stream",
     "text": [
      "                   all        361       8361      0.978      0.906      0.933       0.77\n"
     ]
    },
    {
     "name": "stderr",
     "output_type": "stream",
     "text": [
      "\n"
     ]
    },
    {
     "name": "stdout",
     "output_type": "stream",
     "text": [
      "\n",
      "      Epoch    GPU_mem   box_loss   cls_loss   dfl_loss  Instances       Size\n"
     ]
    },
    {
     "name": "stderr",
     "output_type": "stream",
     "text": [
      "     71/100      13.4G      0.476     0.2459     0.7932         19       1920: 100%|██████████| 181/181 [00:25<00:00,  7.09it/s]\n",
      "                 Class     Images  Instances      Box(P          R      mAP50  mAP50-95): 100%|██████████| 23/23 [00:01<00:00, 16.98it/s]"
     ]
    },
    {
     "name": "stdout",
     "output_type": "stream",
     "text": [
      "                   all        361       8361      0.987      0.905      0.932      0.751\n"
     ]
    },
    {
     "name": "stderr",
     "output_type": "stream",
     "text": [
      "\n"
     ]
    },
    {
     "name": "stdout",
     "output_type": "stream",
     "text": [
      "\n",
      "      Epoch    GPU_mem   box_loss   cls_loss   dfl_loss  Instances       Size\n"
     ]
    },
    {
     "name": "stderr",
     "output_type": "stream",
     "text": [
      "     72/100      13.6G     0.4725     0.2432     0.7931         66       1920: 100%|██████████| 181/181 [00:25<00:00,  7.11it/s]\n",
      "                 Class     Images  Instances      Box(P          R      mAP50  mAP50-95): 100%|██████████| 23/23 [00:01<00:00, 16.84it/s]"
     ]
    },
    {
     "name": "stdout",
     "output_type": "stream",
     "text": [
      "                   all        361       8361      0.966      0.912       0.93      0.762\n"
     ]
    },
    {
     "name": "stderr",
     "output_type": "stream",
     "text": [
      "\n"
     ]
    },
    {
     "name": "stdout",
     "output_type": "stream",
     "text": [
      "\n",
      "      Epoch    GPU_mem   box_loss   cls_loss   dfl_loss  Instances       Size\n"
     ]
    },
    {
     "name": "stderr",
     "output_type": "stream",
     "text": [
      "     73/100      12.4G     0.4776     0.2458     0.7936         45       1920: 100%|██████████| 181/181 [00:25<00:00,  7.07it/s]\n",
      "                 Class     Images  Instances      Box(P          R      mAP50  mAP50-95): 100%|██████████| 23/23 [00:01<00:00, 16.64it/s]"
     ]
    },
    {
     "name": "stdout",
     "output_type": "stream",
     "text": [
      "                   all        361       8361      0.975      0.903      0.927      0.757\n"
     ]
    },
    {
     "name": "stderr",
     "output_type": "stream",
     "text": [
      "\n"
     ]
    },
    {
     "name": "stdout",
     "output_type": "stream",
     "text": [
      "\n",
      "      Epoch    GPU_mem   box_loss   cls_loss   dfl_loss  Instances       Size\n"
     ]
    },
    {
     "name": "stderr",
     "output_type": "stream",
     "text": [
      "     74/100      13.6G     0.4752     0.2453     0.7937         23       1920: 100%|██████████| 181/181 [00:25<00:00,  7.09it/s]\n",
      "                 Class     Images  Instances      Box(P          R      mAP50  mAP50-95): 100%|██████████| 23/23 [00:01<00:00, 16.83it/s]"
     ]
    },
    {
     "name": "stdout",
     "output_type": "stream",
     "text": [
      "                   all        361       8361      0.982      0.901      0.933      0.765\n"
     ]
    },
    {
     "name": "stderr",
     "output_type": "stream",
     "text": [
      "\n"
     ]
    },
    {
     "name": "stdout",
     "output_type": "stream",
     "text": [
      "\n",
      "      Epoch    GPU_mem   box_loss   cls_loss   dfl_loss  Instances       Size\n"
     ]
    },
    {
     "name": "stderr",
     "output_type": "stream",
     "text": [
      "     75/100      13.6G     0.4716     0.2426     0.7932         22       1920: 100%|██████████| 181/181 [00:25<00:00,  7.08it/s]\n",
      "                 Class     Images  Instances      Box(P          R      mAP50  mAP50-95): 100%|██████████| 23/23 [00:01<00:00, 16.81it/s]"
     ]
    },
    {
     "name": "stdout",
     "output_type": "stream",
     "text": [
      "                   all        361       8361      0.989      0.904       0.93      0.763\n"
     ]
    },
    {
     "name": "stderr",
     "output_type": "stream",
     "text": [
      "\n"
     ]
    },
    {
     "name": "stdout",
     "output_type": "stream",
     "text": [
      "\n",
      "      Epoch    GPU_mem   box_loss   cls_loss   dfl_loss  Instances       Size\n"
     ]
    },
    {
     "name": "stderr",
     "output_type": "stream",
     "text": [
      "     76/100        13G     0.4779      0.245     0.7929         86       1920: 100%|██████████| 181/181 [00:25<00:00,  7.06it/s]\n",
      "                 Class     Images  Instances      Box(P          R      mAP50  mAP50-95): 100%|██████████| 23/23 [00:01<00:00, 17.05it/s]"
     ]
    },
    {
     "name": "stdout",
     "output_type": "stream",
     "text": [
      "                   all        361       8361      0.981      0.903      0.934      0.761\n"
     ]
    },
    {
     "name": "stderr",
     "output_type": "stream",
     "text": [
      "\n"
     ]
    },
    {
     "name": "stdout",
     "output_type": "stream",
     "text": [
      "\n",
      "      Epoch    GPU_mem   box_loss   cls_loss   dfl_loss  Instances       Size\n"
     ]
    },
    {
     "name": "stderr",
     "output_type": "stream",
     "text": [
      "     77/100      13.8G     0.4703     0.2419     0.7922         51       1920: 100%|██████████| 181/181 [00:25<00:00,  7.08it/s]\n",
      "                 Class     Images  Instances      Box(P          R      mAP50  mAP50-95): 100%|██████████| 23/23 [00:01<00:00, 17.02it/s]"
     ]
    },
    {
     "name": "stdout",
     "output_type": "stream",
     "text": [
      "                   all        361       8361      0.984      0.906      0.933      0.762\n"
     ]
    },
    {
     "name": "stderr",
     "output_type": "stream",
     "text": [
      "\n"
     ]
    },
    {
     "name": "stdout",
     "output_type": "stream",
     "text": [
      "\n",
      "      Epoch    GPU_mem   box_loss   cls_loss   dfl_loss  Instances       Size\n"
     ]
    },
    {
     "name": "stderr",
     "output_type": "stream",
     "text": [
      "     78/100      15.7G     0.4772     0.2423     0.7937         24       1920: 100%|██████████| 181/181 [00:25<00:00,  7.06it/s]\n",
      "                 Class     Images  Instances      Box(P          R      mAP50  mAP50-95): 100%|██████████| 23/23 [00:01<00:00, 16.88it/s]"
     ]
    },
    {
     "name": "stdout",
     "output_type": "stream",
     "text": [
      "                   all        361       8361      0.982       0.91      0.927      0.752\n"
     ]
    },
    {
     "name": "stderr",
     "output_type": "stream",
     "text": [
      "\n"
     ]
    },
    {
     "name": "stdout",
     "output_type": "stream",
     "text": [
      "\n",
      "      Epoch    GPU_mem   box_loss   cls_loss   dfl_loss  Instances       Size\n"
     ]
    },
    {
     "name": "stderr",
     "output_type": "stream",
     "text": [
      "     79/100      14.1G     0.4681     0.2393     0.7923         60       1920: 100%|██████████| 181/181 [00:25<00:00,  7.07it/s]\n",
      "                 Class     Images  Instances      Box(P          R      mAP50  mAP50-95): 100%|██████████| 23/23 [00:01<00:00, 17.04it/s]"
     ]
    },
    {
     "name": "stdout",
     "output_type": "stream",
     "text": [
      "                   all        361       8361       0.98      0.903       0.93      0.764\n"
     ]
    },
    {
     "name": "stderr",
     "output_type": "stream",
     "text": [
      "\n"
     ]
    },
    {
     "name": "stdout",
     "output_type": "stream",
     "text": [
      "\n",
      "      Epoch    GPU_mem   box_loss   cls_loss   dfl_loss  Instances       Size\n"
     ]
    },
    {
     "name": "stderr",
     "output_type": "stream",
     "text": [
      "     80/100      12.8G     0.4708     0.2405     0.7928         23       1920: 100%|██████████| 181/181 [00:25<00:00,  7.06it/s]\n",
      "                 Class     Images  Instances      Box(P          R      mAP50  mAP50-95): 100%|██████████| 23/23 [00:01<00:00, 16.71it/s]"
     ]
    },
    {
     "name": "stdout",
     "output_type": "stream",
     "text": [
      "                   all        361       8361      0.983      0.897      0.928      0.759\n"
     ]
    },
    {
     "name": "stderr",
     "output_type": "stream",
     "text": [
      "\n"
     ]
    },
    {
     "name": "stdout",
     "output_type": "stream",
     "text": [
      "\n",
      "      Epoch    GPU_mem   box_loss   cls_loss   dfl_loss  Instances       Size\n"
     ]
    },
    {
     "name": "stderr",
     "output_type": "stream",
     "text": [
      "     81/100      15.6G      0.471     0.2402     0.7929         22       1920: 100%|██████████| 181/181 [00:25<00:00,  7.08it/s]\n",
      "                 Class     Images  Instances      Box(P          R      mAP50  mAP50-95): 100%|██████████| 23/23 [00:01<00:00, 16.91it/s]"
     ]
    },
    {
     "name": "stdout",
     "output_type": "stream",
     "text": [
      "                   all        361       8361      0.987      0.908      0.932      0.764\n"
     ]
    },
    {
     "name": "stderr",
     "output_type": "stream",
     "text": [
      "\n"
     ]
    },
    {
     "name": "stdout",
     "output_type": "stream",
     "text": [
      "\n",
      "      Epoch    GPU_mem   box_loss   cls_loss   dfl_loss  Instances       Size\n"
     ]
    },
    {
     "name": "stderr",
     "output_type": "stream",
     "text": [
      "     82/100      12.5G     0.4672     0.2385      0.792         35       1920: 100%|██████████| 181/181 [00:25<00:00,  7.08it/s]\n",
      "                 Class     Images  Instances      Box(P          R      mAP50  mAP50-95): 100%|██████████| 23/23 [00:01<00:00, 16.93it/s]"
     ]
    },
    {
     "name": "stdout",
     "output_type": "stream",
     "text": [
      "                   all        361       8361      0.982      0.908      0.933      0.765\n"
     ]
    },
    {
     "name": "stderr",
     "output_type": "stream",
     "text": [
      "\n"
     ]
    },
    {
     "name": "stdout",
     "output_type": "stream",
     "text": [
      "\n",
      "      Epoch    GPU_mem   box_loss   cls_loss   dfl_loss  Instances       Size\n"
     ]
    },
    {
     "name": "stderr",
     "output_type": "stream",
     "text": [
      "     83/100      13.5G     0.4656      0.239     0.7921         15       1920: 100%|██████████| 181/181 [00:25<00:00,  7.08it/s]\n",
      "                 Class     Images  Instances      Box(P          R      mAP50  mAP50-95): 100%|██████████| 23/23 [00:01<00:00, 16.87it/s]"
     ]
    },
    {
     "name": "stdout",
     "output_type": "stream",
     "text": [
      "                   all        361       8361      0.987      0.905       0.93      0.757\n"
     ]
    },
    {
     "name": "stderr",
     "output_type": "stream",
     "text": [
      "\n"
     ]
    },
    {
     "name": "stdout",
     "output_type": "stream",
     "text": [
      "\n",
      "      Epoch    GPU_mem   box_loss   cls_loss   dfl_loss  Instances       Size\n"
     ]
    },
    {
     "name": "stderr",
     "output_type": "stream",
     "text": [
      "     84/100      12.9G     0.4638     0.2376     0.7921         24       1920: 100%|██████████| 181/181 [00:25<00:00,  7.09it/s]\n",
      "                 Class     Images  Instances      Box(P          R      mAP50  mAP50-95): 100%|██████████| 23/23 [00:01<00:00, 16.78it/s]"
     ]
    },
    {
     "name": "stdout",
     "output_type": "stream",
     "text": [
      "                   all        361       8361      0.984      0.905      0.933      0.767\n"
     ]
    },
    {
     "name": "stderr",
     "output_type": "stream",
     "text": [
      "\n"
     ]
    },
    {
     "name": "stdout",
     "output_type": "stream",
     "text": [
      "\n",
      "      Epoch    GPU_mem   box_loss   cls_loss   dfl_loss  Instances       Size\n"
     ]
    },
    {
     "name": "stderr",
     "output_type": "stream",
     "text": [
      "     85/100      14.8G     0.4691     0.2389     0.7923         20       1920: 100%|██████████| 181/181 [00:25<00:00,  7.07it/s]\n",
      "                 Class     Images  Instances      Box(P          R      mAP50  mAP50-95): 100%|██████████| 23/23 [00:01<00:00, 17.07it/s]"
     ]
    },
    {
     "name": "stdout",
     "output_type": "stream",
     "text": [
      "                   all        361       8361      0.997      0.905      0.933      0.764\n"
     ]
    },
    {
     "name": "stderr",
     "output_type": "stream",
     "text": [
      "\n"
     ]
    },
    {
     "name": "stdout",
     "output_type": "stream",
     "text": [
      "\n",
      "      Epoch    GPU_mem   box_loss   cls_loss   dfl_loss  Instances       Size\n"
     ]
    },
    {
     "name": "stderr",
     "output_type": "stream",
     "text": [
      "     86/100      10.9G      0.463     0.2354     0.7923         19       1920: 100%|██████████| 181/181 [00:25<00:00,  7.08it/s]\n",
      "                 Class     Images  Instances      Box(P          R      mAP50  mAP50-95): 100%|██████████| 23/23 [00:01<00:00, 16.93it/s]"
     ]
    },
    {
     "name": "stdout",
     "output_type": "stream",
     "text": [
      "                   all        361       8361      0.985      0.902      0.931      0.763\n"
     ]
    },
    {
     "name": "stderr",
     "output_type": "stream",
     "text": [
      "\n"
     ]
    },
    {
     "name": "stdout",
     "output_type": "stream",
     "text": [
      "\n",
      "      Epoch    GPU_mem   box_loss   cls_loss   dfl_loss  Instances       Size\n"
     ]
    },
    {
     "name": "stderr",
     "output_type": "stream",
     "text": [
      "     87/100      12.6G      0.465     0.2362     0.7912         21       1920: 100%|██████████| 181/181 [00:25<00:00,  7.08it/s]\n",
      "                 Class     Images  Instances      Box(P          R      mAP50  mAP50-95): 100%|██████████| 23/23 [00:01<00:00, 16.97it/s]"
     ]
    },
    {
     "name": "stdout",
     "output_type": "stream",
     "text": [
      "                   all        361       8361      0.984      0.904      0.934      0.766\n"
     ]
    },
    {
     "name": "stderr",
     "output_type": "stream",
     "text": [
      "\n"
     ]
    },
    {
     "name": "stdout",
     "output_type": "stream",
     "text": [
      "\n",
      "      Epoch    GPU_mem   box_loss   cls_loss   dfl_loss  Instances       Size\n"
     ]
    },
    {
     "name": "stderr",
     "output_type": "stream",
     "text": [
      "     88/100      12.9G     0.4603     0.2341     0.7924         76       1920: 100%|██████████| 181/181 [00:25<00:00,  7.09it/s]\n",
      "                 Class     Images  Instances      Box(P          R      mAP50  mAP50-95): 100%|██████████| 23/23 [00:01<00:00, 16.95it/s]"
     ]
    },
    {
     "name": "stdout",
     "output_type": "stream",
     "text": [
      "                   all        361       8361      0.978      0.906      0.932      0.766\n"
     ]
    },
    {
     "name": "stderr",
     "output_type": "stream",
     "text": [
      "\n"
     ]
    },
    {
     "name": "stdout",
     "output_type": "stream",
     "text": [
      "\n",
      "      Epoch    GPU_mem   box_loss   cls_loss   dfl_loss  Instances       Size\n"
     ]
    },
    {
     "name": "stderr",
     "output_type": "stream",
     "text": [
      "     89/100      13.9G     0.4624     0.2351     0.7926         14       1920: 100%|██████████| 181/181 [00:25<00:00,  7.08it/s]\n",
      "                 Class     Images  Instances      Box(P          R      mAP50  mAP50-95): 100%|██████████| 23/23 [00:01<00:00, 16.88it/s]"
     ]
    },
    {
     "name": "stdout",
     "output_type": "stream",
     "text": [
      "                   all        361       8361      0.983      0.906      0.934      0.765\n"
     ]
    },
    {
     "name": "stderr",
     "output_type": "stream",
     "text": [
      "\n"
     ]
    },
    {
     "name": "stdout",
     "output_type": "stream",
     "text": [
      "\n",
      "      Epoch    GPU_mem   box_loss   cls_loss   dfl_loss  Instances       Size\n"
     ]
    },
    {
     "name": "stderr",
     "output_type": "stream",
     "text": [
      "     90/100      17.1G     0.4622     0.2342      0.791         72       1920: 100%|██████████| 181/181 [00:25<00:00,  7.07it/s]\n",
      "                 Class     Images  Instances      Box(P          R      mAP50  mAP50-95): 100%|██████████| 23/23 [00:01<00:00, 16.92it/s]"
     ]
    },
    {
     "name": "stdout",
     "output_type": "stream",
     "text": [
      "                   all        361       8361      0.986      0.906      0.934      0.757\n"
     ]
    },
    {
     "name": "stderr",
     "output_type": "stream",
     "text": [
      "\n"
     ]
    },
    {
     "name": "stdout",
     "output_type": "stream",
     "text": [
      "Closing dataloader mosaic\n",
      "\n",
      "      Epoch    GPU_mem   box_loss   cls_loss   dfl_loss  Instances       Size\n"
     ]
    },
    {
     "name": "stderr",
     "output_type": "stream",
     "text": [
      "     91/100      11.1G     0.4425     0.2272     0.7893         24       1920: 100%|██████████| 181/181 [00:24<00:00,  7.50it/s]\n",
      "                 Class     Images  Instances      Box(P          R      mAP50  mAP50-95): 100%|██████████| 23/23 [00:01<00:00, 16.93it/s]"
     ]
    },
    {
     "name": "stdout",
     "output_type": "stream",
     "text": [
      "                   all        361       8361      0.991      0.906      0.926      0.754\n"
     ]
    },
    {
     "name": "stderr",
     "output_type": "stream",
     "text": [
      "\n"
     ]
    },
    {
     "name": "stdout",
     "output_type": "stream",
     "text": [
      "\n",
      "      Epoch    GPU_mem   box_loss   cls_loss   dfl_loss  Instances       Size\n"
     ]
    },
    {
     "name": "stderr",
     "output_type": "stream",
     "text": [
      "     92/100      10.3G     0.4364     0.2255     0.7896         22       1920: 100%|██████████| 181/181 [00:23<00:00,  7.77it/s]\n",
      "                 Class     Images  Instances      Box(P          R      mAP50  mAP50-95): 100%|██████████| 23/23 [00:01<00:00, 16.87it/s]"
     ]
    },
    {
     "name": "stdout",
     "output_type": "stream",
     "text": [
      "                   all        361       8361      0.988      0.908      0.932      0.756\n"
     ]
    },
    {
     "name": "stderr",
     "output_type": "stream",
     "text": [
      "\n"
     ]
    },
    {
     "name": "stdout",
     "output_type": "stream",
     "text": [
      "\n",
      "      Epoch    GPU_mem   box_loss   cls_loss   dfl_loss  Instances       Size\n"
     ]
    },
    {
     "name": "stderr",
     "output_type": "stream",
     "text": [
      "     93/100      10.3G      0.434     0.2222     0.7893         20       1920: 100%|██████████| 181/181 [00:23<00:00,  7.77it/s]\n",
      "                 Class     Images  Instances      Box(P          R      mAP50  mAP50-95): 100%|██████████| 23/23 [00:01<00:00, 16.95it/s]"
     ]
    },
    {
     "name": "stdout",
     "output_type": "stream",
     "text": [
      "                   all        361       8361      0.993      0.904      0.934      0.759\n"
     ]
    },
    {
     "name": "stderr",
     "output_type": "stream",
     "text": [
      "\n"
     ]
    },
    {
     "name": "stdout",
     "output_type": "stream",
     "text": [
      "\n",
      "      Epoch    GPU_mem   box_loss   cls_loss   dfl_loss  Instances       Size\n"
     ]
    },
    {
     "name": "stderr",
     "output_type": "stream",
     "text": [
      "     94/100      10.3G     0.4349     0.2236     0.7869         24       1920: 100%|██████████| 181/181 [00:23<00:00,  7.76it/s]\n",
      "                 Class     Images  Instances      Box(P          R      mAP50  mAP50-95): 100%|██████████| 23/23 [00:01<00:00, 16.79it/s]"
     ]
    },
    {
     "name": "stdout",
     "output_type": "stream",
     "text": [
      "                   all        361       8361      0.984       0.91      0.934      0.759\n"
     ]
    },
    {
     "name": "stderr",
     "output_type": "stream",
     "text": [
      "\n"
     ]
    },
    {
     "name": "stdout",
     "output_type": "stream",
     "text": [
      "\n",
      "      Epoch    GPU_mem   box_loss   cls_loss   dfl_loss  Instances       Size\n"
     ]
    },
    {
     "name": "stderr",
     "output_type": "stream",
     "text": [
      "     95/100      10.3G     0.4327     0.2223     0.7876         24       1920: 100%|██████████| 181/181 [00:23<00:00,  7.78it/s]\n",
      "                 Class     Images  Instances      Box(P          R      mAP50  mAP50-95): 100%|██████████| 23/23 [00:01<00:00, 16.70it/s]"
     ]
    },
    {
     "name": "stdout",
     "output_type": "stream",
     "text": [
      "                   all        361       8361      0.984      0.908      0.932      0.755\n"
     ]
    },
    {
     "name": "stderr",
     "output_type": "stream",
     "text": [
      "\n"
     ]
    },
    {
     "name": "stdout",
     "output_type": "stream",
     "text": [
      "\n",
      "      Epoch    GPU_mem   box_loss   cls_loss   dfl_loss  Instances       Size\n"
     ]
    },
    {
     "name": "stderr",
     "output_type": "stream",
     "text": [
      "     96/100      10.3G      0.431     0.2203      0.787         23       1920: 100%|██████████| 181/181 [00:23<00:00,  7.78it/s]\n",
      "                 Class     Images  Instances      Box(P          R      mAP50  mAP50-95): 100%|██████████| 23/23 [00:01<00:00, 16.67it/s]"
     ]
    },
    {
     "name": "stdout",
     "output_type": "stream",
     "text": [
      "                   all        361       8361      0.988       0.91      0.934       0.76\n"
     ]
    },
    {
     "name": "stderr",
     "output_type": "stream",
     "text": [
      "\n"
     ]
    },
    {
     "name": "stdout",
     "output_type": "stream",
     "text": [
      "\n",
      "      Epoch    GPU_mem   box_loss   cls_loss   dfl_loss  Instances       Size\n"
     ]
    },
    {
     "name": "stderr",
     "output_type": "stream",
     "text": [
      "     97/100      10.3G     0.4311     0.2198     0.7872         23       1920: 100%|██████████| 181/181 [00:23<00:00,  7.77it/s]\n",
      "                 Class     Images  Instances      Box(P          R      mAP50  mAP50-95): 100%|██████████| 23/23 [00:01<00:00, 17.01it/s]"
     ]
    },
    {
     "name": "stdout",
     "output_type": "stream",
     "text": [
      "                   all        361       8361       0.99       0.91      0.934      0.762\n"
     ]
    },
    {
     "name": "stderr",
     "output_type": "stream",
     "text": [
      "\n"
     ]
    },
    {
     "name": "stdout",
     "output_type": "stream",
     "text": [
      "\n",
      "      Epoch    GPU_mem   box_loss   cls_loss   dfl_loss  Instances       Size\n"
     ]
    },
    {
     "name": "stderr",
     "output_type": "stream",
     "text": [
      "     98/100      10.3G     0.4282     0.2184      0.786         23       1920: 100%|██████████| 181/181 [00:23<00:00,  7.77it/s]\n",
      "                 Class     Images  Instances      Box(P          R      mAP50  mAP50-95): 100%|██████████| 23/23 [00:01<00:00, 16.92it/s]"
     ]
    },
    {
     "name": "stdout",
     "output_type": "stream",
     "text": [
      "                   all        361       8361      0.986      0.912      0.935      0.763\n"
     ]
    },
    {
     "name": "stderr",
     "output_type": "stream",
     "text": [
      "\n"
     ]
    },
    {
     "name": "stdout",
     "output_type": "stream",
     "text": [
      "\n",
      "      Epoch    GPU_mem   box_loss   cls_loss   dfl_loss  Instances       Size\n"
     ]
    },
    {
     "name": "stderr",
     "output_type": "stream",
     "text": [
      "     99/100      10.3G     0.4296     0.2184     0.7868         24       1920: 100%|██████████| 181/181 [00:23<00:00,  7.77it/s]\n",
      "                 Class     Images  Instances      Box(P          R      mAP50  mAP50-95): 100%|██████████| 23/23 [00:01<00:00, 16.83it/s]"
     ]
    },
    {
     "name": "stdout",
     "output_type": "stream",
     "text": [
      "                   all        361       8361      0.987       0.91      0.932      0.762\n"
     ]
    },
    {
     "name": "stderr",
     "output_type": "stream",
     "text": [
      "\n"
     ]
    },
    {
     "name": "stdout",
     "output_type": "stream",
     "text": [
      "\n",
      "      Epoch    GPU_mem   box_loss   cls_loss   dfl_loss  Instances       Size\n"
     ]
    },
    {
     "name": "stderr",
     "output_type": "stream",
     "text": [
      "    100/100      10.3G     0.4259      0.216     0.7854         22       1920: 100%|██████████| 181/181 [00:23<00:00,  7.77it/s]\n",
      "                 Class     Images  Instances      Box(P          R      mAP50  mAP50-95): 100%|██████████| 23/23 [00:01<00:00, 16.80it/s]"
     ]
    },
    {
     "name": "stdout",
     "output_type": "stream",
     "text": [
      "                   all        361       8361      0.983       0.91      0.933      0.758\n"
     ]
    },
    {
     "name": "stderr",
     "output_type": "stream",
     "text": [
      "\n"
     ]
    },
    {
     "name": "stdout",
     "output_type": "stream",
     "text": [
      "\n",
      "100 epochs completed in 0.750 hours.\n",
      "Optimizer stripped from /work/mbergst/TDT4265_Project/runs/detect/combined/train7/weights/last.pt, 6.5MB\n",
      "Optimizer stripped from /work/mbergst/TDT4265_Project/runs/detect/combined/train7/weights/best.pt, 6.5MB\n",
      "\n",
      "Validating /work/mbergst/TDT4265_Project/runs/detect/combined/train7/weights/best.pt...\n",
      "Ultralytics YOLOv8.1.42 🚀 Python-3.10.12 torch-2.2.2+cu121 CUDA:0 (NVIDIA GeForce RTX 4090, 24195MiB)\n",
      "Model summary (fused): 168 layers, 3006038 parameters, 0 gradients, 8.1 GFLOPs\n"
     ]
    },
    {
     "name": "stderr",
     "output_type": "stream",
     "text": [
      "                 Class     Images  Instances      Box(P          R      mAP50  mAP50-95): 100%|██████████| 23/23 [00:03<00:00,  6.43it/s]\n"
     ]
    },
    {
     "name": "stdout",
     "output_type": "stream",
     "text": [
      "                   all        361       8361      0.978      0.906      0.933      0.769\n",
      "                  ball        361        241      0.958      0.813      0.871      0.616\n",
      "                player        361       8120      0.998      0.999      0.995      0.923\n",
      "Speed: 0.3ms preprocess, 1.7ms inference, 0.0ms loss, 0.3ms postprocess per image\n",
      "Results saved to \u001b[1m/work/mbergst/TDT4265_Project/runs/detect/combined/train7\u001b[0m\n"
     ]
    }
   ],
   "source": [
    "# Object Detection\n",
    "\n",
    "# Tren modellen på datasettet\n",
    "results = model_combined.train(data=yaml_file_all, epochs=100, batch=8, imgsz=(1920, 1080), project='/work/mbergst/TDT4265_Project/runs/detect/combined')\n",
    "#results = model_ball.train(data=yaml_file_ball, epochs=100, batch=8, imgsz=(1920, 1080), project='/work/mbergst/TDT4265_Project/runs/detect/ball')\n",
    "#results = model_players.train(data=yaml_file_players, epochs=100, batch=8, imgsz=(1920, 1080), project='/work/mbergst/TDT4265_Project/runs/detect/player')\n",
    "\n",
    "\n"
   ]
  },
  {
   "cell_type": "code",
   "execution_count": 11,
   "metadata": {},
   "outputs": [
    {
     "name": "stdout",
     "output_type": "stream",
     "text": [
      "Ultralytics YOLOv8.1.42 🚀 Python-3.10.12 torch-2.2.2+cu121 CUDA:0 (NVIDIA GeForce RTX 4090, 24188MiB)\n",
      "Model summary (fused): 168 layers, 3005843 parameters, 0 gradients, 8.1 GFLOPs\n"
     ]
    },
    {
     "name": "stderr",
     "output_type": "stream",
     "text": [
      "\u001b[34m\u001b[1mval: \u001b[0mScanning /work/mbergst/TDT4265_Project/data_yolov8/ball_datasets/2_train-val_1min_after_goal/labels/val.cache... 225 images, 0 backgrounds, 0 corrupt: 100%|██████████| 225/225 [00:00<?, ?it/s]\n",
      "                 Class     Images  Instances      Box(P          R      mAP50  mAP50-95): 100%|██████████| 29/29 [00:01<00:00, 17.52it/s]\n"
     ]
    },
    {
     "name": "stdout",
     "output_type": "stream",
     "text": [
      "                   all        225        225      0.963      0.769      0.839      0.502\n",
      "Speed: 0.4ms preprocess, 3.0ms inference, 0.0ms loss, 1.3ms postprocess per image\n",
      "Results saved to \u001b[1m/work/mbergst/TDT4265_Project/runs/detect/train2342\u001b[0m\n"
     ]
    }
   ],
   "source": [
    "# Evaluér modellens prestasjon på valideringssettet\n",
    "val_results = model_combined.val()\n"
   ]
  },
  {
   "cell_type": "code",
   "execution_count": 7,
   "metadata": {},
   "outputs": [
    {
     "name": "stdout",
     "output_type": "stream",
     "text": [
      "Ultralytics YOLOv8.1.42 🚀 Python-3.10.12 torch-2.2.2+cu121 CUDA:0 (NVIDIA GeForce RTX 4090, 24195MiB)\n",
      "Model summary (fused): 168 layers, 3006038 parameters, 0 gradients, 8.1 GFLOPs\n"
     ]
    },
    {
     "name": "stderr",
     "output_type": "stream",
     "text": [
      "\u001b[34m\u001b[1mval: \u001b[0mScanning /work/mbergst/TDT4265_Project/data_yolov8/ball_datasets/3_test_1min_hamkam_from_start/labels/test.cache... 1412 images, 390 backgrounds, 0 corrupt: 100%|██████████| 1802/1802 [00:00<?, ?it/s]\n",
      "                 Class     Images  Instances      Box(P          R      mAP50  mAP50-95): 100%|██████████| 226/226 [00:09<00:00, 24.70it/s]\n"
     ]
    },
    {
     "name": "stdout",
     "output_type": "stream",
     "text": [
      "                   all       1802       1412      0.838       0.62      0.711      0.481\n",
      "                  ball       1802       1412      0.838       0.62      0.711      0.481\n",
      "Speed: 0.4ms preprocess, 2.9ms inference, 0.0ms loss, 0.3ms postprocess per image\n",
      "Results saved to \u001b[1m/work/mbergst/TDT4265_Project/runs/detect/combined/train72\u001b[0m\n"
     ]
    }
   ],
   "source": [
    "# Test modellen på testsettet\n",
    "test_results = model_combined.val(data='yaml_files/test.yaml')"
   ]
  },
  {
   "cell_type": "code",
   "execution_count": 6,
   "metadata": {},
   "outputs": [],
   "source": [
    "# Object tracking\n",
    "all_frames = f'/datasets/tdt4265/other/rbk/{data_folder}/img1'\n",
    "\n",
    "frame_paths = sorted([os.path.join(all_frames, f) for f in os.listdir(all_frames) if f.endswith('.jpg')])\n"
   ]
  },
  {
   "cell_type": "code",
   "execution_count": 7,
   "metadata": {},
   "outputs": [
    {
     "name": "stdout",
     "output_type": "stream",
     "text": [
      "\n",
      "image 1/1 /datasets/tdt4265/other/rbk/1_train-val_1min_aalesund_from_start/img1/000001.jpg: 1088x1920 1 ball, 22 players, 45.1ms\n",
      "Speed: 4.4ms preprocess, 45.1ms inference, 419.2ms postprocess per image at shape (1, 3, 1088, 1920)\n",
      "\n",
      "image 1/1 /datasets/tdt4265/other/rbk/1_train-val_1min_aalesund_from_start/img1/000002.jpg: 1088x1920 1 ball, 22 players, 2.5ms\n",
      "Speed: 4.5ms preprocess, 2.5ms inference, 0.5ms postprocess per image at shape (1, 3, 1088, 1920)\n",
      "\n",
      "image 1/1 /datasets/tdt4265/other/rbk/1_train-val_1min_aalesund_from_start/img1/000003.jpg: 1088x1920 1 ball, 22 players, 2.8ms\n",
      "Speed: 2.7ms preprocess, 2.8ms inference, 0.6ms postprocess per image at shape (1, 3, 1088, 1920)\n",
      "\n",
      "image 1/1 /datasets/tdt4265/other/rbk/1_train-val_1min_aalesund_from_start/img1/000004.jpg: 1088x1920 1 ball, 22 players, 2.5ms\n",
      "Speed: 3.6ms preprocess, 2.5ms inference, 0.7ms postprocess per image at shape (1, 3, 1088, 1920)\n",
      "\n",
      "image 1/1 /datasets/tdt4265/other/rbk/1_train-val_1min_aalesund_from_start/img1/000005.jpg: 1088x1920 1 ball, 22 players, 3.4ms\n",
      "Speed: 3.3ms preprocess, 3.4ms inference, 0.7ms postprocess per image at shape (1, 3, 1088, 1920)\n",
      "\n",
      "image 1/1 /datasets/tdt4265/other/rbk/1_train-val_1min_aalesund_from_start/img1/000006.jpg: 1088x1920 1 ball, 22 players, 3.4ms\n",
      "Speed: 3.4ms preprocess, 3.4ms inference, 0.5ms postprocess per image at shape (1, 3, 1088, 1920)\n",
      "\n",
      "image 1/1 /datasets/tdt4265/other/rbk/1_train-val_1min_aalesund_from_start/img1/000007.jpg: 1088x1920 1 ball, 22 players, 2.6ms\n",
      "Speed: 3.4ms preprocess, 2.6ms inference, 0.8ms postprocess per image at shape (1, 3, 1088, 1920)\n",
      "\n",
      "image 1/1 /datasets/tdt4265/other/rbk/1_train-val_1min_aalesund_from_start/img1/000008.jpg: 1088x1920 1 ball, 22 players, 2.4ms\n",
      "Speed: 3.1ms preprocess, 2.4ms inference, 1.0ms postprocess per image at shape (1, 3, 1088, 1920)\n",
      "\n",
      "image 1/1 /datasets/tdt4265/other/rbk/1_train-val_1min_aalesund_from_start/img1/000009.jpg: 1088x1920 1 ball, 22 players, 2.3ms\n",
      "Speed: 3.2ms preprocess, 2.3ms inference, 1.1ms postprocess per image at shape (1, 3, 1088, 1920)\n",
      "\n",
      "image 1/1 /datasets/tdt4265/other/rbk/1_train-val_1min_aalesund_from_start/img1/000010.jpg: 1088x1920 1 ball, 22 players, 2.4ms\n",
      "Speed: 3.1ms preprocess, 2.4ms inference, 0.5ms postprocess per image at shape (1, 3, 1088, 1920)\n",
      "\n",
      "image 1/1 /datasets/tdt4265/other/rbk/1_train-val_1min_aalesund_from_start/img1/000011.jpg: 1088x1920 1 ball, 22 players, 2.3ms\n",
      "Speed: 3.3ms preprocess, 2.3ms inference, 0.5ms postprocess per image at shape (1, 3, 1088, 1920)\n",
      "\n",
      "image 1/1 /datasets/tdt4265/other/rbk/1_train-val_1min_aalesund_from_start/img1/000012.jpg: 1088x1920 1 ball, 22 players, 2.4ms\n",
      "Speed: 3.1ms preprocess, 2.4ms inference, 0.5ms postprocess per image at shape (1, 3, 1088, 1920)\n",
      "\n",
      "image 1/1 /datasets/tdt4265/other/rbk/1_train-val_1min_aalesund_from_start/img1/000013.jpg: 1088x1920 1 ball, 22 players, 2.4ms\n",
      "Speed: 3.3ms preprocess, 2.4ms inference, 0.5ms postprocess per image at shape (1, 3, 1088, 1920)\n",
      "\n",
      "image 1/1 /datasets/tdt4265/other/rbk/1_train-val_1min_aalesund_from_start/img1/000014.jpg: 1088x1920 1 ball, 22 players, 2.4ms\n",
      "Speed: 3.1ms preprocess, 2.4ms inference, 0.5ms postprocess per image at shape (1, 3, 1088, 1920)\n",
      "\n",
      "image 1/1 /datasets/tdt4265/other/rbk/1_train-val_1min_aalesund_from_start/img1/000015.jpg: 1088x1920 1 ball, 22 players, 2.4ms\n",
      "Speed: 3.3ms preprocess, 2.4ms inference, 0.5ms postprocess per image at shape (1, 3, 1088, 1920)\n",
      "\n",
      "image 1/1 /datasets/tdt4265/other/rbk/1_train-val_1min_aalesund_from_start/img1/000016.jpg: 1088x1920 1 ball, 22 players, 2.3ms\n",
      "Speed: 2.2ms preprocess, 2.3ms inference, 0.5ms postprocess per image at shape (1, 3, 1088, 1920)\n",
      "\n",
      "image 1/1 /datasets/tdt4265/other/rbk/1_train-val_1min_aalesund_from_start/img1/000017.jpg: 1088x1920 1 ball, 22 players, 2.3ms\n",
      "Speed: 2.7ms preprocess, 2.3ms inference, 0.5ms postprocess per image at shape (1, 3, 1088, 1920)\n",
      "\n",
      "image 1/1 /datasets/tdt4265/other/rbk/1_train-val_1min_aalesund_from_start/img1/000018.jpg: 1088x1920 1 ball, 22 players, 2.3ms\n",
      "Speed: 2.9ms preprocess, 2.3ms inference, 0.5ms postprocess per image at shape (1, 3, 1088, 1920)\n",
      "\n",
      "image 1/1 /datasets/tdt4265/other/rbk/1_train-val_1min_aalesund_from_start/img1/000019.jpg: 1088x1920 1 ball, 22 players, 2.3ms\n",
      "Speed: 3.8ms preprocess, 2.3ms inference, 0.6ms postprocess per image at shape (1, 3, 1088, 1920)\n",
      "\n",
      "image 1/1 /datasets/tdt4265/other/rbk/1_train-val_1min_aalesund_from_start/img1/000020.jpg: 1088x1920 1 ball, 22 players, 2.3ms\n",
      "Speed: 2.3ms preprocess, 2.3ms inference, 0.6ms postprocess per image at shape (1, 3, 1088, 1920)\n",
      "\n",
      "image 1/1 /datasets/tdt4265/other/rbk/1_train-val_1min_aalesund_from_start/img1/000021.jpg: 1088x1920 1 ball, 22 players, 2.3ms\n",
      "Speed: 3.3ms preprocess, 2.3ms inference, 0.6ms postprocess per image at shape (1, 3, 1088, 1920)\n",
      "\n",
      "image 1/1 /datasets/tdt4265/other/rbk/1_train-val_1min_aalesund_from_start/img1/000022.jpg: 1088x1920 1 ball, 22 players, 2.3ms\n",
      "Speed: 2.4ms preprocess, 2.3ms inference, 0.5ms postprocess per image at shape (1, 3, 1088, 1920)\n",
      "\n",
      "image 1/1 /datasets/tdt4265/other/rbk/1_train-val_1min_aalesund_from_start/img1/000023.jpg: 1088x1920 1 ball, 22 players, 2.6ms\n",
      "Speed: 2.4ms preprocess, 2.6ms inference, 0.6ms postprocess per image at shape (1, 3, 1088, 1920)\n",
      "\n",
      "image 1/1 /datasets/tdt4265/other/rbk/1_train-val_1min_aalesund_from_start/img1/000024.jpg: 1088x1920 1 ball, 22 players, 2.3ms\n",
      "Speed: 2.3ms preprocess, 2.3ms inference, 0.8ms postprocess per image at shape (1, 3, 1088, 1920)\n",
      "\n",
      "image 1/1 /datasets/tdt4265/other/rbk/1_train-val_1min_aalesund_from_start/img1/000025.jpg: 1088x1920 1 ball, 22 players, 2.3ms\n",
      "Speed: 2.5ms preprocess, 2.3ms inference, 0.5ms postprocess per image at shape (1, 3, 1088, 1920)\n",
      "\n",
      "image 1/1 /datasets/tdt4265/other/rbk/1_train-val_1min_aalesund_from_start/img1/000026.jpg: 1088x1920 1 ball, 22 players, 2.3ms\n",
      "Speed: 2.4ms preprocess, 2.3ms inference, 0.5ms postprocess per image at shape (1, 3, 1088, 1920)\n",
      "\n",
      "image 1/1 /datasets/tdt4265/other/rbk/1_train-val_1min_aalesund_from_start/img1/000027.jpg: 1088x1920 1 ball, 22 players, 2.3ms\n",
      "Speed: 2.5ms preprocess, 2.3ms inference, 0.5ms postprocess per image at shape (1, 3, 1088, 1920)\n",
      "\n",
      "image 1/1 /datasets/tdt4265/other/rbk/1_train-val_1min_aalesund_from_start/img1/000028.jpg: 1088x1920 1 ball, 22 players, 2.6ms\n",
      "Speed: 2.4ms preprocess, 2.6ms inference, 0.8ms postprocess per image at shape (1, 3, 1088, 1920)\n",
      "\n",
      "image 1/1 /datasets/tdt4265/other/rbk/1_train-val_1min_aalesund_from_start/img1/000029.jpg: 1088x1920 1 ball, 22 players, 2.3ms\n",
      "Speed: 2.4ms preprocess, 2.3ms inference, 1.0ms postprocess per image at shape (1, 3, 1088, 1920)\n",
      "\n",
      "image 1/1 /datasets/tdt4265/other/rbk/1_train-val_1min_aalesund_from_start/img1/000030.jpg: 1088x1920 1 ball, 22 players, 2.3ms\n",
      "Speed: 2.4ms preprocess, 2.3ms inference, 0.5ms postprocess per image at shape (1, 3, 1088, 1920)\n",
      "\n",
      "image 1/1 /datasets/tdt4265/other/rbk/1_train-val_1min_aalesund_from_start/img1/000031.jpg: 1088x1920 1 ball, 22 players, 2.6ms\n",
      "Speed: 2.4ms preprocess, 2.6ms inference, 0.5ms postprocess per image at shape (1, 3, 1088, 1920)\n",
      "\n",
      "image 1/1 /datasets/tdt4265/other/rbk/1_train-val_1min_aalesund_from_start/img1/000032.jpg: 1088x1920 1 ball, 22 players, 2.5ms\n",
      "Speed: 2.3ms preprocess, 2.5ms inference, 0.5ms postprocess per image at shape (1, 3, 1088, 1920)\n",
      "\n",
      "image 1/1 /datasets/tdt4265/other/rbk/1_train-val_1min_aalesund_from_start/img1/000033.jpg: 1088x1920 1 ball, 22 players, 2.3ms\n",
      "Speed: 2.4ms preprocess, 2.3ms inference, 0.6ms postprocess per image at shape (1, 3, 1088, 1920)\n",
      "\n",
      "image 1/1 /datasets/tdt4265/other/rbk/1_train-val_1min_aalesund_from_start/img1/000034.jpg: 1088x1920 1 ball, 22 players, 2.3ms\n",
      "Speed: 2.4ms preprocess, 2.3ms inference, 0.5ms postprocess per image at shape (1, 3, 1088, 1920)\n",
      "\n",
      "image 1/1 /datasets/tdt4265/other/rbk/1_train-val_1min_aalesund_from_start/img1/000035.jpg: 1088x1920 1 ball, 22 players, 2.3ms\n",
      "Speed: 2.5ms preprocess, 2.3ms inference, 0.6ms postprocess per image at shape (1, 3, 1088, 1920)\n",
      "\n",
      "image 1/1 /datasets/tdt4265/other/rbk/1_train-val_1min_aalesund_from_start/img1/000036.jpg: 1088x1920 1 ball, 22 players, 2.6ms\n",
      "Speed: 2.4ms preprocess, 2.6ms inference, 0.6ms postprocess per image at shape (1, 3, 1088, 1920)\n",
      "\n",
      "image 1/1 /datasets/tdt4265/other/rbk/1_train-val_1min_aalesund_from_start/img1/000037.jpg: 1088x1920 1 ball, 22 players, 2.5ms\n",
      "Speed: 2.4ms preprocess, 2.5ms inference, 0.6ms postprocess per image at shape (1, 3, 1088, 1920)\n",
      "\n",
      "image 1/1 /datasets/tdt4265/other/rbk/1_train-val_1min_aalesund_from_start/img1/000038.jpg: 1088x1920 1 ball, 22 players, 2.3ms\n",
      "Speed: 2.4ms preprocess, 2.3ms inference, 0.8ms postprocess per image at shape (1, 3, 1088, 1920)\n",
      "\n",
      "image 1/1 /datasets/tdt4265/other/rbk/1_train-val_1min_aalesund_from_start/img1/000039.jpg: 1088x1920 1 ball, 22 players, 2.3ms\n",
      "Speed: 2.2ms preprocess, 2.3ms inference, 0.5ms postprocess per image at shape (1, 3, 1088, 1920)\n",
      "\n",
      "image 1/1 /datasets/tdt4265/other/rbk/1_train-val_1min_aalesund_from_start/img1/000040.jpg: 1088x1920 1 ball, 22 players, 2.3ms\n",
      "Speed: 2.2ms preprocess, 2.3ms inference, 0.5ms postprocess per image at shape (1, 3, 1088, 1920)\n",
      "\n",
      "image 1/1 /datasets/tdt4265/other/rbk/1_train-val_1min_aalesund_from_start/img1/000041.jpg: 1088x1920 1 ball, 22 players, 2.3ms\n",
      "Speed: 2.5ms preprocess, 2.3ms inference, 0.5ms postprocess per image at shape (1, 3, 1088, 1920)\n",
      "\n",
      "image 1/1 /datasets/tdt4265/other/rbk/1_train-val_1min_aalesund_from_start/img1/000042.jpg: 1088x1920 1 ball, 22 players, 2.6ms\n",
      "Speed: 2.4ms preprocess, 2.6ms inference, 0.8ms postprocess per image at shape (1, 3, 1088, 1920)\n",
      "\n",
      "image 1/1 /datasets/tdt4265/other/rbk/1_train-val_1min_aalesund_from_start/img1/000043.jpg: 1088x1920 1 ball, 22 players, 2.6ms\n",
      "Speed: 2.6ms preprocess, 2.6ms inference, 0.8ms postprocess per image at shape (1, 3, 1088, 1920)\n",
      "\n",
      "image 1/1 /datasets/tdt4265/other/rbk/1_train-val_1min_aalesund_from_start/img1/000044.jpg: 1088x1920 1 ball, 22 players, 2.7ms\n",
      "Speed: 2.4ms preprocess, 2.7ms inference, 0.8ms postprocess per image at shape (1, 3, 1088, 1920)\n",
      "\n",
      "image 1/1 /datasets/tdt4265/other/rbk/1_train-val_1min_aalesund_from_start/img1/000045.jpg: 1088x1920 1 ball, 22 players, 2.4ms\n",
      "Speed: 2.4ms preprocess, 2.4ms inference, 1.0ms postprocess per image at shape (1, 3, 1088, 1920)\n",
      "\n",
      "image 1/1 /datasets/tdt4265/other/rbk/1_train-val_1min_aalesund_from_start/img1/000046.jpg: 1088x1920 1 ball, 22 players, 2.5ms\n",
      "Speed: 2.3ms preprocess, 2.5ms inference, 0.8ms postprocess per image at shape (1, 3, 1088, 1920)\n",
      "\n",
      "image 1/1 /datasets/tdt4265/other/rbk/1_train-val_1min_aalesund_from_start/img1/000047.jpg: 1088x1920 1 ball, 22 players, 2.6ms\n",
      "Speed: 2.5ms preprocess, 2.6ms inference, 0.5ms postprocess per image at shape (1, 3, 1088, 1920)\n",
      "\n",
      "image 1/1 /datasets/tdt4265/other/rbk/1_train-val_1min_aalesund_from_start/img1/000048.jpg: 1088x1920 1 ball, 22 players, 2.5ms\n",
      "Speed: 2.4ms preprocess, 2.5ms inference, 0.5ms postprocess per image at shape (1, 3, 1088, 1920)\n",
      "\n",
      "image 1/1 /datasets/tdt4265/other/rbk/1_train-val_1min_aalesund_from_start/img1/000049.jpg: 1088x1920 1 ball, 22 players, 2.4ms\n",
      "Speed: 2.4ms preprocess, 2.4ms inference, 0.6ms postprocess per image at shape (1, 3, 1088, 1920)\n",
      "\n",
      "image 1/1 /datasets/tdt4265/other/rbk/1_train-val_1min_aalesund_from_start/img1/000050.jpg: 1088x1920 1 ball, 22 players, 2.4ms\n",
      "Speed: 2.3ms preprocess, 2.4ms inference, 0.5ms postprocess per image at shape (1, 3, 1088, 1920)\n",
      "\n",
      "image 1/1 /datasets/tdt4265/other/rbk/1_train-val_1min_aalesund_from_start/img1/000051.jpg: 1088x1920 1 ball, 22 players, 2.3ms\n",
      "Speed: 2.4ms preprocess, 2.3ms inference, 0.6ms postprocess per image at shape (1, 3, 1088, 1920)\n",
      "\n",
      "image 1/1 /datasets/tdt4265/other/rbk/1_train-val_1min_aalesund_from_start/img1/000052.jpg: 1088x1920 1 ball, 22 players, 2.3ms\n",
      "Speed: 2.3ms preprocess, 2.3ms inference, 0.5ms postprocess per image at shape (1, 3, 1088, 1920)\n",
      "\n",
      "image 1/1 /datasets/tdt4265/other/rbk/1_train-val_1min_aalesund_from_start/img1/000053.jpg: 1088x1920 1 ball, 22 players, 2.3ms\n",
      "Speed: 2.4ms preprocess, 2.3ms inference, 0.5ms postprocess per image at shape (1, 3, 1088, 1920)\n",
      "\n",
      "image 1/1 /datasets/tdt4265/other/rbk/1_train-val_1min_aalesund_from_start/img1/000054.jpg: 1088x1920 1 ball, 22 players, 2.3ms\n",
      "Speed: 2.3ms preprocess, 2.3ms inference, 0.6ms postprocess per image at shape (1, 3, 1088, 1920)\n",
      "\n",
      "image 1/1 /datasets/tdt4265/other/rbk/1_train-val_1min_aalesund_from_start/img1/000055.jpg: 1088x1920 1 ball, 22 players, 2.7ms\n",
      "Speed: 2.4ms preprocess, 2.7ms inference, 0.7ms postprocess per image at shape (1, 3, 1088, 1920)\n",
      "\n",
      "image 1/1 /datasets/tdt4265/other/rbk/1_train-val_1min_aalesund_from_start/img1/000056.jpg: 1088x1920 1 ball, 22 players, 2.4ms\n",
      "Speed: 2.4ms preprocess, 2.4ms inference, 0.6ms postprocess per image at shape (1, 3, 1088, 1920)\n",
      "\n",
      "image 1/1 /datasets/tdt4265/other/rbk/1_train-val_1min_aalesund_from_start/img1/000057.jpg: 1088x1920 1 ball, 22 players, 2.5ms\n",
      "Speed: 2.7ms preprocess, 2.5ms inference, 0.5ms postprocess per image at shape (1, 3, 1088, 1920)\n",
      "\n",
      "image 1/1 /datasets/tdt4265/other/rbk/1_train-val_1min_aalesund_from_start/img1/000058.jpg: 1088x1920 1 ball, 22 players, 2.7ms\n",
      "Speed: 2.3ms preprocess, 2.7ms inference, 0.7ms postprocess per image at shape (1, 3, 1088, 1920)\n",
      "\n",
      "image 1/1 /datasets/tdt4265/other/rbk/1_train-val_1min_aalesund_from_start/img1/000059.jpg: 1088x1920 1 ball, 22 players, 2.9ms\n",
      "Speed: 2.5ms preprocess, 2.9ms inference, 0.5ms postprocess per image at shape (1, 3, 1088, 1920)\n",
      "\n",
      "image 1/1 /datasets/tdt4265/other/rbk/1_train-val_1min_aalesund_from_start/img1/000060.jpg: 1088x1920 1 ball, 22 players, 3.1ms\n",
      "Speed: 2.4ms preprocess, 3.1ms inference, 0.6ms postprocess per image at shape (1, 3, 1088, 1920)\n",
      "\n",
      "image 1/1 /datasets/tdt4265/other/rbk/1_train-val_1min_aalesund_from_start/img1/000061.jpg: 1088x1920 1 ball, 22 players, 2.3ms\n",
      "Speed: 3.0ms preprocess, 2.3ms inference, 0.5ms postprocess per image at shape (1, 3, 1088, 1920)\n",
      "\n",
      "image 1/1 /datasets/tdt4265/other/rbk/1_train-val_1min_aalesund_from_start/img1/000062.jpg: 1088x1920 1 ball, 22 players, 3.1ms\n",
      "Speed: 2.4ms preprocess, 3.1ms inference, 1.1ms postprocess per image at shape (1, 3, 1088, 1920)\n",
      "\n",
      "image 1/1 /datasets/tdt4265/other/rbk/1_train-val_1min_aalesund_from_start/img1/000063.jpg: 1088x1920 1 ball, 22 players, 2.6ms\n",
      "Speed: 2.7ms preprocess, 2.6ms inference, 0.8ms postprocess per image at shape (1, 3, 1088, 1920)\n",
      "\n",
      "image 1/1 /datasets/tdt4265/other/rbk/1_train-val_1min_aalesund_from_start/img1/000064.jpg: 1088x1920 1 ball, 22 players, 3.1ms\n",
      "Speed: 3.0ms preprocess, 3.1ms inference, 0.7ms postprocess per image at shape (1, 3, 1088, 1920)\n",
      "\n",
      "image 1/1 /datasets/tdt4265/other/rbk/1_train-val_1min_aalesund_from_start/img1/000065.jpg: 1088x1920 1 ball, 22 players, 2.3ms\n",
      "Speed: 2.2ms preprocess, 2.3ms inference, 0.6ms postprocess per image at shape (1, 3, 1088, 1920)\n",
      "\n",
      "image 1/1 /datasets/tdt4265/other/rbk/1_train-val_1min_aalesund_from_start/img1/000066.jpg: 1088x1920 1 ball, 22 players, 2.4ms\n",
      "Speed: 2.3ms preprocess, 2.4ms inference, 0.5ms postprocess per image at shape (1, 3, 1088, 1920)\n",
      "\n",
      "image 1/1 /datasets/tdt4265/other/rbk/1_train-val_1min_aalesund_from_start/img1/000067.jpg: 1088x1920 1 ball, 22 players, 2.4ms\n",
      "Speed: 2.4ms preprocess, 2.4ms inference, 0.5ms postprocess per image at shape (1, 3, 1088, 1920)\n",
      "\n",
      "image 1/1 /datasets/tdt4265/other/rbk/1_train-val_1min_aalesund_from_start/img1/000068.jpg: 1088x1920 1 ball, 22 players, 2.4ms\n",
      "Speed: 2.3ms preprocess, 2.4ms inference, 0.5ms postprocess per image at shape (1, 3, 1088, 1920)\n",
      "\n",
      "image 1/1 /datasets/tdt4265/other/rbk/1_train-val_1min_aalesund_from_start/img1/000069.jpg: 1088x1920 1 ball, 22 players, 2.4ms\n",
      "Speed: 2.4ms preprocess, 2.4ms inference, 0.5ms postprocess per image at shape (1, 3, 1088, 1920)\n",
      "\n",
      "image 1/1 /datasets/tdt4265/other/rbk/1_train-val_1min_aalesund_from_start/img1/000070.jpg: 1088x1920 1 ball, 22 players, 2.4ms\n",
      "Speed: 2.3ms preprocess, 2.4ms inference, 0.5ms postprocess per image at shape (1, 3, 1088, 1920)\n",
      "\n",
      "image 1/1 /datasets/tdt4265/other/rbk/1_train-val_1min_aalesund_from_start/img1/000071.jpg: 1088x1920 1 ball, 22 players, 2.3ms\n",
      "Speed: 2.4ms preprocess, 2.3ms inference, 0.6ms postprocess per image at shape (1, 3, 1088, 1920)\n",
      "\n",
      "image 1/1 /datasets/tdt4265/other/rbk/1_train-val_1min_aalesund_from_start/img1/000072.jpg: 1088x1920 1 ball, 22 players, 2.4ms\n",
      "Speed: 2.4ms preprocess, 2.4ms inference, 0.5ms postprocess per image at shape (1, 3, 1088, 1920)\n",
      "\n",
      "image 1/1 /datasets/tdt4265/other/rbk/1_train-val_1min_aalesund_from_start/img1/000073.jpg: 1088x1920 1 ball, 22 players, 2.3ms\n",
      "Speed: 2.4ms preprocess, 2.3ms inference, 0.5ms postprocess per image at shape (1, 3, 1088, 1920)\n",
      "\n",
      "image 1/1 /datasets/tdt4265/other/rbk/1_train-val_1min_aalesund_from_start/img1/000074.jpg: 1088x1920 1 ball, 22 players, 2.4ms\n",
      "Speed: 2.4ms preprocess, 2.4ms inference, 0.5ms postprocess per image at shape (1, 3, 1088, 1920)\n",
      "\n",
      "image 1/1 /datasets/tdt4265/other/rbk/1_train-val_1min_aalesund_from_start/img1/000075.jpg: 1088x1920 1 ball, 22 players, 2.3ms\n",
      "Speed: 2.4ms preprocess, 2.3ms inference, 0.8ms postprocess per image at shape (1, 3, 1088, 1920)\n",
      "\n",
      "image 1/1 /datasets/tdt4265/other/rbk/1_train-val_1min_aalesund_from_start/img1/000076.jpg: 1088x1920 1 ball, 22 players, 2.3ms\n",
      "Speed: 2.5ms preprocess, 2.3ms inference, 1.0ms postprocess per image at shape (1, 3, 1088, 1920)\n",
      "\n",
      "image 1/1 /datasets/tdt4265/other/rbk/1_train-val_1min_aalesund_from_start/img1/000077.jpg: 1088x1920 1 ball, 22 players, 2.6ms\n",
      "Speed: 2.4ms preprocess, 2.6ms inference, 0.8ms postprocess per image at shape (1, 3, 1088, 1920)\n",
      "\n",
      "image 1/1 /datasets/tdt4265/other/rbk/1_train-val_1min_aalesund_from_start/img1/000078.jpg: 1088x1920 1 ball, 22 players, 2.6ms\n",
      "Speed: 2.3ms preprocess, 2.6ms inference, 0.8ms postprocess per image at shape (1, 3, 1088, 1920)\n",
      "\n",
      "image 1/1 /datasets/tdt4265/other/rbk/1_train-val_1min_aalesund_from_start/img1/000079.jpg: 1088x1920 1 ball, 22 players, 2.3ms\n",
      "Speed: 2.4ms preprocess, 2.3ms inference, 0.5ms postprocess per image at shape (1, 3, 1088, 1920)\n",
      "\n",
      "image 1/1 /datasets/tdt4265/other/rbk/1_train-val_1min_aalesund_from_start/img1/000080.jpg: 1088x1920 1 ball, 22 players, 2.3ms\n",
      "Speed: 2.2ms preprocess, 2.3ms inference, 0.5ms postprocess per image at shape (1, 3, 1088, 1920)\n",
      "\n",
      "image 1/1 /datasets/tdt4265/other/rbk/1_train-val_1min_aalesund_from_start/img1/000081.jpg: 1088x1920 1 ball, 22 players, 2.3ms\n",
      "Speed: 2.2ms preprocess, 2.3ms inference, 0.5ms postprocess per image at shape (1, 3, 1088, 1920)\n",
      "\n",
      "image 1/1 /datasets/tdt4265/other/rbk/1_train-val_1min_aalesund_from_start/img1/000082.jpg: 1088x1920 1 ball, 22 players, 2.3ms\n",
      "Speed: 2.4ms preprocess, 2.3ms inference, 0.5ms postprocess per image at shape (1, 3, 1088, 1920)\n",
      "\n",
      "image 1/1 /datasets/tdt4265/other/rbk/1_train-val_1min_aalesund_from_start/img1/000083.jpg: 1088x1920 1 ball, 22 players, 2.3ms\n",
      "Speed: 2.4ms preprocess, 2.3ms inference, 0.5ms postprocess per image at shape (1, 3, 1088, 1920)\n",
      "\n",
      "image 1/1 /datasets/tdt4265/other/rbk/1_train-val_1min_aalesund_from_start/img1/000084.jpg: 1088x1920 1 ball, 22 players, 2.3ms\n",
      "Speed: 2.3ms preprocess, 2.3ms inference, 0.8ms postprocess per image at shape (1, 3, 1088, 1920)\n",
      "\n",
      "image 1/1 /datasets/tdt4265/other/rbk/1_train-val_1min_aalesund_from_start/img1/000085.jpg: 1088x1920 1 ball, 22 players, 2.6ms\n",
      "Speed: 2.4ms preprocess, 2.6ms inference, 0.6ms postprocess per image at shape (1, 3, 1088, 1920)\n",
      "\n",
      "image 1/1 /datasets/tdt4265/other/rbk/1_train-val_1min_aalesund_from_start/img1/000086.jpg: 1088x1920 1 ball, 22 players, 2.4ms\n",
      "Speed: 2.3ms preprocess, 2.4ms inference, 0.5ms postprocess per image at shape (1, 3, 1088, 1920)\n",
      "\n",
      "image 1/1 /datasets/tdt4265/other/rbk/1_train-val_1min_aalesund_from_start/img1/000087.jpg: 1088x1920 1 ball, 22 players, 2.3ms\n",
      "Speed: 2.4ms preprocess, 2.3ms inference, 0.5ms postprocess per image at shape (1, 3, 1088, 1920)\n",
      "\n",
      "image 1/1 /datasets/tdt4265/other/rbk/1_train-val_1min_aalesund_from_start/img1/000088.jpg: 1088x1920 1 ball, 22 players, 2.3ms\n",
      "Speed: 2.3ms preprocess, 2.3ms inference, 0.5ms postprocess per image at shape (1, 3, 1088, 1920)\n",
      "\n",
      "image 1/1 /datasets/tdt4265/other/rbk/1_train-val_1min_aalesund_from_start/img1/000089.jpg: 1088x1920 1 ball, 22 players, 2.3ms\n",
      "Speed: 2.4ms preprocess, 2.3ms inference, 0.5ms postprocess per image at shape (1, 3, 1088, 1920)\n",
      "\n",
      "image 1/1 /datasets/tdt4265/other/rbk/1_train-val_1min_aalesund_from_start/img1/000090.jpg: 1088x1920 1 ball, 22 players, 2.3ms\n",
      "Speed: 2.4ms preprocess, 2.3ms inference, 0.5ms postprocess per image at shape (1, 3, 1088, 1920)\n",
      "\n",
      "image 1/1 /datasets/tdt4265/other/rbk/1_train-val_1min_aalesund_from_start/img1/000091.jpg: 1088x1920 1 ball, 22 players, 2.3ms\n",
      "Speed: 2.4ms preprocess, 2.3ms inference, 0.5ms postprocess per image at shape (1, 3, 1088, 1920)\n",
      "\n",
      "image 1/1 /datasets/tdt4265/other/rbk/1_train-val_1min_aalesund_from_start/img1/000092.jpg: 1088x1920 1 ball, 22 players, 2.3ms\n",
      "Speed: 2.3ms preprocess, 2.3ms inference, 0.5ms postprocess per image at shape (1, 3, 1088, 1920)\n",
      "\n",
      "image 1/1 /datasets/tdt4265/other/rbk/1_train-val_1min_aalesund_from_start/img1/000093.jpg: 1088x1920 1 ball, 22 players, 2.3ms\n",
      "Speed: 2.4ms preprocess, 2.3ms inference, 0.5ms postprocess per image at shape (1, 3, 1088, 1920)\n",
      "\n",
      "image 1/1 /datasets/tdt4265/other/rbk/1_train-val_1min_aalesund_from_start/img1/000094.jpg: 1088x1920 1 ball, 22 players, 2.4ms\n",
      "Speed: 2.3ms preprocess, 2.4ms inference, 0.5ms postprocess per image at shape (1, 3, 1088, 1920)\n",
      "\n",
      "image 1/1 /datasets/tdt4265/other/rbk/1_train-val_1min_aalesund_from_start/img1/000095.jpg: 1088x1920 1 ball, 22 players, 2.3ms\n",
      "Speed: 2.4ms preprocess, 2.3ms inference, 0.6ms postprocess per image at shape (1, 3, 1088, 1920)\n",
      "\n",
      "image 1/1 /datasets/tdt4265/other/rbk/1_train-val_1min_aalesund_from_start/img1/000096.jpg: 1088x1920 1 ball, 22 players, 2.4ms\n",
      "Speed: 2.3ms preprocess, 2.4ms inference, 0.5ms postprocess per image at shape (1, 3, 1088, 1920)\n",
      "\n",
      "image 1/1 /datasets/tdt4265/other/rbk/1_train-val_1min_aalesund_from_start/img1/000097.jpg: 1088x1920 1 ball, 22 players, 2.4ms\n",
      "Speed: 2.4ms preprocess, 2.4ms inference, 0.5ms postprocess per image at shape (1, 3, 1088, 1920)\n",
      "\n",
      "image 1/1 /datasets/tdt4265/other/rbk/1_train-val_1min_aalesund_from_start/img1/000098.jpg: 1088x1920 1 ball, 22 players, 2.4ms\n",
      "Speed: 2.3ms preprocess, 2.4ms inference, 0.6ms postprocess per image at shape (1, 3, 1088, 1920)\n",
      "\n",
      "image 1/1 /datasets/tdt4265/other/rbk/1_train-val_1min_aalesund_from_start/img1/000099.jpg: 1088x1920 1 ball, 22 players, 2.4ms\n",
      "Speed: 2.4ms preprocess, 2.4ms inference, 0.5ms postprocess per image at shape (1, 3, 1088, 1920)\n",
      "\n",
      "image 1/1 /datasets/tdt4265/other/rbk/1_train-val_1min_aalesund_from_start/img1/000100.jpg: 1088x1920 1 ball, 22 players, 2.3ms\n",
      "Speed: 2.3ms preprocess, 2.3ms inference, 0.5ms postprocess per image at shape (1, 3, 1088, 1920)\n",
      "\n",
      "image 1/1 /datasets/tdt4265/other/rbk/1_train-val_1min_aalesund_from_start/img1/000101.jpg: 1088x1920 1 ball, 22 players, 2.4ms\n",
      "Speed: 2.4ms preprocess, 2.4ms inference, 0.5ms postprocess per image at shape (1, 3, 1088, 1920)\n",
      "\n",
      "image 1/1 /datasets/tdt4265/other/rbk/1_train-val_1min_aalesund_from_start/img1/000102.jpg: 1088x1920 1 ball, 22 players, 2.3ms\n",
      "Speed: 2.4ms preprocess, 2.3ms inference, 0.5ms postprocess per image at shape (1, 3, 1088, 1920)\n",
      "\n",
      "image 1/1 /datasets/tdt4265/other/rbk/1_train-val_1min_aalesund_from_start/img1/000103.jpg: 1088x1920 1 ball, 22 players, 2.3ms\n",
      "Speed: 2.4ms preprocess, 2.3ms inference, 0.5ms postprocess per image at shape (1, 3, 1088, 1920)\n",
      "\n",
      "image 1/1 /datasets/tdt4265/other/rbk/1_train-val_1min_aalesund_from_start/img1/000104.jpg: 1088x1920 1 ball, 22 players, 2.3ms\n",
      "Speed: 2.3ms preprocess, 2.3ms inference, 1.1ms postprocess per image at shape (1, 3, 1088, 1920)\n",
      "\n",
      "image 1/1 /datasets/tdt4265/other/rbk/1_train-val_1min_aalesund_from_start/img1/000105.jpg: 1088x1920 1 ball, 22 players, 2.4ms\n",
      "Speed: 2.5ms preprocess, 2.4ms inference, 1.0ms postprocess per image at shape (1, 3, 1088, 1920)\n",
      "\n",
      "image 1/1 /datasets/tdt4265/other/rbk/1_train-val_1min_aalesund_from_start/img1/000106.jpg: 1088x1920 1 ball, 22 players, 2.6ms\n",
      "Speed: 2.4ms preprocess, 2.6ms inference, 0.8ms postprocess per image at shape (1, 3, 1088, 1920)\n",
      "\n",
      "image 1/1 /datasets/tdt4265/other/rbk/1_train-val_1min_aalesund_from_start/img1/000107.jpg: 1088x1920 1 ball, 22 players, 2.6ms\n",
      "Speed: 2.2ms preprocess, 2.6ms inference, 0.7ms postprocess per image at shape (1, 3, 1088, 1920)\n",
      "\n",
      "image 1/1 /datasets/tdt4265/other/rbk/1_train-val_1min_aalesund_from_start/img1/000108.jpg: 1088x1920 1 ball, 22 players, 2.5ms\n",
      "Speed: 2.4ms preprocess, 2.5ms inference, 0.8ms postprocess per image at shape (1, 3, 1088, 1920)\n",
      "\n",
      "image 1/1 /datasets/tdt4265/other/rbk/1_train-val_1min_aalesund_from_start/img1/000109.jpg: 1088x1920 1 ball, 22 players, 2.6ms\n",
      "Speed: 2.4ms preprocess, 2.6ms inference, 0.8ms postprocess per image at shape (1, 3, 1088, 1920)\n",
      "\n",
      "image 1/1 /datasets/tdt4265/other/rbk/1_train-val_1min_aalesund_from_start/img1/000110.jpg: 1088x1920 1 ball, 22 players, 2.8ms\n",
      "Speed: 2.4ms preprocess, 2.8ms inference, 0.5ms postprocess per image at shape (1, 3, 1088, 1920)\n",
      "\n",
      "image 1/1 /datasets/tdt4265/other/rbk/1_train-val_1min_aalesund_from_start/img1/000111.jpg: 1088x1920 1 ball, 22 players, 2.6ms\n",
      "Speed: 2.4ms preprocess, 2.6ms inference, 0.8ms postprocess per image at shape (1, 3, 1088, 1920)\n",
      "\n",
      "image 1/1 /datasets/tdt4265/other/rbk/1_train-val_1min_aalesund_from_start/img1/000112.jpg: 1088x1920 1 ball, 22 players, 2.3ms\n",
      "Speed: 2.3ms preprocess, 2.3ms inference, 1.0ms postprocess per image at shape (1, 3, 1088, 1920)\n",
      "\n",
      "image 1/1 /datasets/tdt4265/other/rbk/1_train-val_1min_aalesund_from_start/img1/000113.jpg: 1088x1920 1 ball, 22 players, 2.3ms\n",
      "Speed: 2.4ms preprocess, 2.3ms inference, 1.0ms postprocess per image at shape (1, 3, 1088, 1920)\n",
      "\n",
      "image 1/1 /datasets/tdt4265/other/rbk/1_train-val_1min_aalesund_from_start/img1/000114.jpg: 1088x1920 1 ball, 22 players, 2.3ms\n",
      "Speed: 2.4ms preprocess, 2.3ms inference, 1.0ms postprocess per image at shape (1, 3, 1088, 1920)\n",
      "\n",
      "image 1/1 /datasets/tdt4265/other/rbk/1_train-val_1min_aalesund_from_start/img1/000115.jpg: 1088x1920 1 ball, 22 players, 2.6ms\n",
      "Speed: 2.4ms preprocess, 2.6ms inference, 0.8ms postprocess per image at shape (1, 3, 1088, 1920)\n",
      "\n",
      "image 1/1 /datasets/tdt4265/other/rbk/1_train-val_1min_aalesund_from_start/img1/000116.jpg: 1088x1920 1 ball, 22 players, 2.3ms\n",
      "Speed: 2.5ms preprocess, 2.3ms inference, 1.0ms postprocess per image at shape (1, 3, 1088, 1920)\n",
      "\n",
      "image 1/1 /datasets/tdt4265/other/rbk/1_train-val_1min_aalesund_from_start/img1/000117.jpg: 1088x1920 1 ball, 22 players, 2.3ms\n",
      "Speed: 2.4ms preprocess, 2.3ms inference, 1.0ms postprocess per image at shape (1, 3, 1088, 1920)\n",
      "\n",
      "image 1/1 /datasets/tdt4265/other/rbk/1_train-val_1min_aalesund_from_start/img1/000118.jpg: 1088x1920 1 ball, 22 players, 2.3ms\n",
      "Speed: 2.2ms preprocess, 2.3ms inference, 1.1ms postprocess per image at shape (1, 3, 1088, 1920)\n",
      "\n",
      "image 1/1 /datasets/tdt4265/other/rbk/1_train-val_1min_aalesund_from_start/img1/000119.jpg: 1088x1920 1 ball, 22 players, 2.6ms\n",
      "Speed: 2.4ms preprocess, 2.6ms inference, 0.8ms postprocess per image at shape (1, 3, 1088, 1920)\n",
      "\n",
      "image 1/1 /datasets/tdt4265/other/rbk/1_train-val_1min_aalesund_from_start/img1/000120.jpg: 1088x1920 1 ball, 22 players, 2.3ms\n",
      "Speed: 2.4ms preprocess, 2.3ms inference, 0.9ms postprocess per image at shape (1, 3, 1088, 1920)\n",
      "\n",
      "image 1/1 /datasets/tdt4265/other/rbk/1_train-val_1min_aalesund_from_start/img1/000121.jpg: 1088x1920 1 ball, 22 players, 2.6ms\n",
      "Speed: 2.4ms preprocess, 2.6ms inference, 0.8ms postprocess per image at shape (1, 3, 1088, 1920)\n",
      "\n",
      "image 1/1 /datasets/tdt4265/other/rbk/1_train-val_1min_aalesund_from_start/img1/000122.jpg: 1088x1920 22 players, 2.3ms\n",
      "Speed: 2.3ms preprocess, 2.3ms inference, 1.0ms postprocess per image at shape (1, 3, 1088, 1920)\n",
      "\n",
      "image 1/1 /datasets/tdt4265/other/rbk/1_train-val_1min_aalesund_from_start/img1/000123.jpg: 1088x1920 22 players, 2.6ms\n",
      "Speed: 2.5ms preprocess, 2.6ms inference, 0.8ms postprocess per image at shape (1, 3, 1088, 1920)\n",
      "\n",
      "image 1/1 /datasets/tdt4265/other/rbk/1_train-val_1min_aalesund_from_start/img1/000124.jpg: 1088x1920 22 players, 2.6ms\n",
      "Speed: 2.4ms preprocess, 2.6ms inference, 0.8ms postprocess per image at shape (1, 3, 1088, 1920)\n",
      "\n",
      "image 1/1 /datasets/tdt4265/other/rbk/1_train-val_1min_aalesund_from_start/img1/000125.jpg: 1088x1920 22 players, 2.6ms\n",
      "Speed: 2.4ms preprocess, 2.6ms inference, 0.8ms postprocess per image at shape (1, 3, 1088, 1920)\n",
      "\n",
      "image 1/1 /datasets/tdt4265/other/rbk/1_train-val_1min_aalesund_from_start/img1/000126.jpg: 1088x1920 22 players, 2.6ms\n",
      "Speed: 2.4ms preprocess, 2.6ms inference, 0.8ms postprocess per image at shape (1, 3, 1088, 1920)\n",
      "\n",
      "image 1/1 /datasets/tdt4265/other/rbk/1_train-val_1min_aalesund_from_start/img1/000127.jpg: 1088x1920 22 players, 2.6ms\n",
      "Speed: 2.4ms preprocess, 2.6ms inference, 0.8ms postprocess per image at shape (1, 3, 1088, 1920)\n",
      "\n",
      "image 1/1 /datasets/tdt4265/other/rbk/1_train-val_1min_aalesund_from_start/img1/000128.jpg: 1088x1920 22 players, 2.6ms\n",
      "Speed: 2.4ms preprocess, 2.6ms inference, 0.8ms postprocess per image at shape (1, 3, 1088, 1920)\n",
      "\n",
      "image 1/1 /datasets/tdt4265/other/rbk/1_train-val_1min_aalesund_from_start/img1/000129.jpg: 1088x1920 22 players, 2.6ms\n",
      "Speed: 2.4ms preprocess, 2.6ms inference, 0.8ms postprocess per image at shape (1, 3, 1088, 1920)\n",
      "\n",
      "image 1/1 /datasets/tdt4265/other/rbk/1_train-val_1min_aalesund_from_start/img1/000130.jpg: 1088x1920 22 players, 2.8ms\n",
      "Speed: 2.4ms preprocess, 2.8ms inference, 0.6ms postprocess per image at shape (1, 3, 1088, 1920)\n",
      "\n",
      "image 1/1 /datasets/tdt4265/other/rbk/1_train-val_1min_aalesund_from_start/img1/000131.jpg: 1088x1920 22 players, 2.6ms\n",
      "Speed: 2.5ms preprocess, 2.6ms inference, 0.8ms postprocess per image at shape (1, 3, 1088, 1920)\n",
      "\n",
      "image 1/1 /datasets/tdt4265/other/rbk/1_train-val_1min_aalesund_from_start/img1/000132.jpg: 1088x1920 22 players, 2.6ms\n",
      "Speed: 2.4ms preprocess, 2.6ms inference, 0.8ms postprocess per image at shape (1, 3, 1088, 1920)\n",
      "\n",
      "image 1/1 /datasets/tdt4265/other/rbk/1_train-val_1min_aalesund_from_start/img1/000133.jpg: 1088x1920 22 players, 2.3ms\n",
      "Speed: 2.4ms preprocess, 2.3ms inference, 1.0ms postprocess per image at shape (1, 3, 1088, 1920)\n",
      "\n",
      "image 1/1 /datasets/tdt4265/other/rbk/1_train-val_1min_aalesund_from_start/img1/000134.jpg: 1088x1920 22 players, 2.4ms\n",
      "Speed: 2.4ms preprocess, 2.4ms inference, 1.0ms postprocess per image at shape (1, 3, 1088, 1920)\n",
      "\n",
      "image 1/1 /datasets/tdt4265/other/rbk/1_train-val_1min_aalesund_from_start/img1/000135.jpg: 1088x1920 22 players, 2.3ms\n",
      "Speed: 2.4ms preprocess, 2.3ms inference, 1.0ms postprocess per image at shape (1, 3, 1088, 1920)\n",
      "\n",
      "image 1/1 /datasets/tdt4265/other/rbk/1_train-val_1min_aalesund_from_start/img1/000136.jpg: 1088x1920 22 players, 2.3ms\n",
      "Speed: 2.4ms preprocess, 2.3ms inference, 1.1ms postprocess per image at shape (1, 3, 1088, 1920)\n",
      "\n",
      "image 1/1 /datasets/tdt4265/other/rbk/1_train-val_1min_aalesund_from_start/img1/000137.jpg: 1088x1920 22 players, 2.3ms\n",
      "Speed: 2.5ms preprocess, 2.3ms inference, 1.1ms postprocess per image at shape (1, 3, 1088, 1920)\n",
      "\n",
      "image 1/1 /datasets/tdt4265/other/rbk/1_train-val_1min_aalesund_from_start/img1/000138.jpg: 1088x1920 22 players, 2.4ms\n",
      "Speed: 2.4ms preprocess, 2.4ms inference, 0.5ms postprocess per image at shape (1, 3, 1088, 1920)\n",
      "\n",
      "image 1/1 /datasets/tdt4265/other/rbk/1_train-val_1min_aalesund_from_start/img1/000139.jpg: 1088x1920 22 players, 2.3ms\n",
      "Speed: 2.4ms preprocess, 2.3ms inference, 0.5ms postprocess per image at shape (1, 3, 1088, 1920)\n",
      "\n",
      "image 1/1 /datasets/tdt4265/other/rbk/1_train-val_1min_aalesund_from_start/img1/000140.jpg: 1088x1920 22 players, 2.4ms\n",
      "Speed: 2.3ms preprocess, 2.4ms inference, 0.5ms postprocess per image at shape (1, 3, 1088, 1920)\n",
      "\n",
      "image 1/1 /datasets/tdt4265/other/rbk/1_train-val_1min_aalesund_from_start/img1/000141.jpg: 1088x1920 22 players, 2.3ms\n",
      "Speed: 2.4ms preprocess, 2.3ms inference, 0.5ms postprocess per image at shape (1, 3, 1088, 1920)\n",
      "\n",
      "image 1/1 /datasets/tdt4265/other/rbk/1_train-val_1min_aalesund_from_start/img1/000142.jpg: 1088x1920 22 players, 2.3ms\n",
      "Speed: 2.3ms preprocess, 2.3ms inference, 0.6ms postprocess per image at shape (1, 3, 1088, 1920)\n",
      "\n",
      "image 1/1 /datasets/tdt4265/other/rbk/1_train-val_1min_aalesund_from_start/img1/000143.jpg: 1088x1920 22 players, 2.4ms\n",
      "Speed: 2.7ms preprocess, 2.4ms inference, 0.5ms postprocess per image at shape (1, 3, 1088, 1920)\n",
      "\n",
      "image 1/1 /datasets/tdt4265/other/rbk/1_train-val_1min_aalesund_from_start/img1/000144.jpg: 1088x1920 22 players, 2.4ms\n",
      "Speed: 2.4ms preprocess, 2.4ms inference, 0.6ms postprocess per image at shape (1, 3, 1088, 1920)\n",
      "\n",
      "image 1/1 /datasets/tdt4265/other/rbk/1_train-val_1min_aalesund_from_start/img1/000145.jpg: 1088x1920 22 players, 2.5ms\n",
      "Speed: 2.5ms preprocess, 2.5ms inference, 0.5ms postprocess per image at shape (1, 3, 1088, 1920)\n",
      "\n",
      "image 1/1 /datasets/tdt4265/other/rbk/1_train-val_1min_aalesund_from_start/img1/000146.jpg: 1088x1920 22 players, 2.4ms\n",
      "Speed: 2.5ms preprocess, 2.4ms inference, 0.6ms postprocess per image at shape (1, 3, 1088, 1920)\n",
      "\n",
      "image 1/1 /datasets/tdt4265/other/rbk/1_train-val_1min_aalesund_from_start/img1/000147.jpg: 1088x1920 22 players, 2.4ms\n",
      "Speed: 2.5ms preprocess, 2.4ms inference, 1.1ms postprocess per image at shape (1, 3, 1088, 1920)\n",
      "\n",
      "image 1/1 /datasets/tdt4265/other/rbk/1_train-val_1min_aalesund_from_start/img1/000148.jpg: 1088x1920 22 players, 2.6ms\n",
      "Speed: 2.5ms preprocess, 2.6ms inference, 0.7ms postprocess per image at shape (1, 3, 1088, 1920)\n",
      "\n",
      "image 1/1 /datasets/tdt4265/other/rbk/1_train-val_1min_aalesund_from_start/img1/000149.jpg: 1088x1920 22 players, 2.6ms\n",
      "Speed: 2.5ms preprocess, 2.6ms inference, 0.8ms postprocess per image at shape (1, 3, 1088, 1920)\n",
      "\n",
      "image 1/1 /datasets/tdt4265/other/rbk/1_train-val_1min_aalesund_from_start/img1/000150.jpg: 1088x1920 22 players, 2.6ms\n",
      "Speed: 2.5ms preprocess, 2.6ms inference, 0.8ms postprocess per image at shape (1, 3, 1088, 1920)\n",
      "\n",
      "image 1/1 /datasets/tdt4265/other/rbk/1_train-val_1min_aalesund_from_start/img1/000151.jpg: 1088x1920 1 ball, 22 players, 2.8ms\n",
      "Speed: 2.5ms preprocess, 2.8ms inference, 0.5ms postprocess per image at shape (1, 3, 1088, 1920)\n",
      "\n",
      "image 1/1 /datasets/tdt4265/other/rbk/1_train-val_1min_aalesund_from_start/img1/000152.jpg: 1088x1920 1 ball, 22 players, 2.3ms\n",
      "Speed: 2.4ms preprocess, 2.3ms inference, 0.5ms postprocess per image at shape (1, 3, 1088, 1920)\n",
      "\n",
      "image 1/1 /datasets/tdt4265/other/rbk/1_train-val_1min_aalesund_from_start/img1/000153.jpg: 1088x1920 1 ball, 22 players, 2.3ms\n",
      "Speed: 2.4ms preprocess, 2.3ms inference, 0.5ms postprocess per image at shape (1, 3, 1088, 1920)\n",
      "\n",
      "image 1/1 /datasets/tdt4265/other/rbk/1_train-val_1min_aalesund_from_start/img1/000154.jpg: 1088x1920 1 ball, 22 players, 2.3ms\n",
      "Speed: 2.4ms preprocess, 2.3ms inference, 0.5ms postprocess per image at shape (1, 3, 1088, 1920)\n",
      "\n",
      "image 1/1 /datasets/tdt4265/other/rbk/1_train-val_1min_aalesund_from_start/img1/000155.jpg: 1088x1920 1 ball, 22 players, 2.3ms\n",
      "Speed: 2.4ms preprocess, 2.3ms inference, 0.6ms postprocess per image at shape (1, 3, 1088, 1920)\n",
      "\n",
      "image 1/1 /datasets/tdt4265/other/rbk/1_train-val_1min_aalesund_from_start/img1/000156.jpg: 1088x1920 1 ball, 22 players, 2.4ms\n",
      "Speed: 2.4ms preprocess, 2.4ms inference, 0.9ms postprocess per image at shape (1, 3, 1088, 1920)\n",
      "\n",
      "image 1/1 /datasets/tdt4265/other/rbk/1_train-val_1min_aalesund_from_start/img1/000157.jpg: 1088x1920 1 ball, 22 players, 2.5ms\n",
      "Speed: 2.4ms preprocess, 2.5ms inference, 0.6ms postprocess per image at shape (1, 3, 1088, 1920)\n",
      "\n",
      "image 1/1 /datasets/tdt4265/other/rbk/1_train-val_1min_aalesund_from_start/img1/000158.jpg: 1088x1920 1 ball, 22 players, 2.9ms\n",
      "Speed: 2.4ms preprocess, 2.9ms inference, 0.5ms postprocess per image at shape (1, 3, 1088, 1920)\n",
      "\n",
      "image 1/1 /datasets/tdt4265/other/rbk/1_train-val_1min_aalesund_from_start/img1/000159.jpg: 1088x1920 1 ball, 22 players, 2.4ms\n",
      "Speed: 2.4ms preprocess, 2.4ms inference, 0.5ms postprocess per image at shape (1, 3, 1088, 1920)\n",
      "\n",
      "image 1/1 /datasets/tdt4265/other/rbk/1_train-val_1min_aalesund_from_start/img1/000160.jpg: 1088x1920 1 ball, 22 players, 2.4ms\n",
      "Speed: 2.4ms preprocess, 2.4ms inference, 0.6ms postprocess per image at shape (1, 3, 1088, 1920)\n",
      "\n",
      "image 1/1 /datasets/tdt4265/other/rbk/1_train-val_1min_aalesund_from_start/img1/000161.jpg: 1088x1920 1 ball, 22 players, 2.4ms\n",
      "Speed: 2.4ms preprocess, 2.4ms inference, 0.5ms postprocess per image at shape (1, 3, 1088, 1920)\n",
      "\n",
      "image 1/1 /datasets/tdt4265/other/rbk/1_train-val_1min_aalesund_from_start/img1/000162.jpg: 1088x1920 1 ball, 22 players, 2.4ms\n",
      "Speed: 2.4ms preprocess, 2.4ms inference, 0.5ms postprocess per image at shape (1, 3, 1088, 1920)\n",
      "\n",
      "image 1/1 /datasets/tdt4265/other/rbk/1_train-val_1min_aalesund_from_start/img1/000163.jpg: 1088x1920 1 ball, 22 players, 2.7ms\n",
      "Speed: 2.5ms preprocess, 2.7ms inference, 0.8ms postprocess per image at shape (1, 3, 1088, 1920)\n",
      "\n",
      "image 1/1 /datasets/tdt4265/other/rbk/1_train-val_1min_aalesund_from_start/img1/000164.jpg: 1088x1920 1 ball, 22 players, 2.4ms\n",
      "Speed: 2.4ms preprocess, 2.4ms inference, 0.5ms postprocess per image at shape (1, 3, 1088, 1920)\n",
      "\n",
      "image 1/1 /datasets/tdt4265/other/rbk/1_train-val_1min_aalesund_from_start/img1/000165.jpg: 1088x1920 1 ball, 22 players, 2.3ms\n",
      "Speed: 2.5ms preprocess, 2.3ms inference, 0.5ms postprocess per image at shape (1, 3, 1088, 1920)\n",
      "\n",
      "image 1/1 /datasets/tdt4265/other/rbk/1_train-val_1min_aalesund_from_start/img1/000166.jpg: 1088x1920 1 ball, 22 players, 2.3ms\n",
      "Speed: 2.4ms preprocess, 2.3ms inference, 0.8ms postprocess per image at shape (1, 3, 1088, 1920)\n",
      "\n",
      "image 1/1 /datasets/tdt4265/other/rbk/1_train-val_1min_aalesund_from_start/img1/000167.jpg: 1088x1920 1 ball, 22 players, 2.4ms\n",
      "Speed: 2.5ms preprocess, 2.4ms inference, 0.5ms postprocess per image at shape (1, 3, 1088, 1920)\n",
      "\n",
      "image 1/1 /datasets/tdt4265/other/rbk/1_train-val_1min_aalesund_from_start/img1/000168.jpg: 1088x1920 1 ball, 22 players, 2.3ms\n",
      "Speed: 2.4ms preprocess, 2.3ms inference, 0.5ms postprocess per image at shape (1, 3, 1088, 1920)\n",
      "\n",
      "image 1/1 /datasets/tdt4265/other/rbk/1_train-val_1min_aalesund_from_start/img1/000169.jpg: 1088x1920 1 ball, 22 players, 2.3ms\n",
      "Speed: 2.5ms preprocess, 2.3ms inference, 0.5ms postprocess per image at shape (1, 3, 1088, 1920)\n",
      "\n",
      "image 1/1 /datasets/tdt4265/other/rbk/1_train-val_1min_aalesund_from_start/img1/000170.jpg: 1088x1920 1 ball, 22 players, 2.3ms\n",
      "Speed: 2.3ms preprocess, 2.3ms inference, 0.5ms postprocess per image at shape (1, 3, 1088, 1920)\n",
      "\n",
      "image 1/1 /datasets/tdt4265/other/rbk/1_train-val_1min_aalesund_from_start/img1/000171.jpg: 1088x1920 1 ball, 22 players, 2.3ms\n",
      "Speed: 2.4ms preprocess, 2.3ms inference, 0.5ms postprocess per image at shape (1, 3, 1088, 1920)\n",
      "\n",
      "image 1/1 /datasets/tdt4265/other/rbk/1_train-val_1min_aalesund_from_start/img1/000172.jpg: 1088x1920 1 ball, 22 players, 2.3ms\n",
      "Speed: 2.3ms preprocess, 2.3ms inference, 0.5ms postprocess per image at shape (1, 3, 1088, 1920)\n",
      "\n",
      "image 1/1 /datasets/tdt4265/other/rbk/1_train-val_1min_aalesund_from_start/img1/000173.jpg: 1088x1920 1 ball, 22 players, 2.3ms\n",
      "Speed: 2.4ms preprocess, 2.3ms inference, 0.5ms postprocess per image at shape (1, 3, 1088, 1920)\n",
      "\n",
      "image 1/1 /datasets/tdt4265/other/rbk/1_train-val_1min_aalesund_from_start/img1/000174.jpg: 1088x1920 1 ball, 22 players, 2.3ms\n",
      "Speed: 2.3ms preprocess, 2.3ms inference, 0.5ms postprocess per image at shape (1, 3, 1088, 1920)\n",
      "\n",
      "image 1/1 /datasets/tdt4265/other/rbk/1_train-val_1min_aalesund_from_start/img1/000175.jpg: 1088x1920 1 ball, 22 players, 2.3ms\n",
      "Speed: 2.4ms preprocess, 2.3ms inference, 0.5ms postprocess per image at shape (1, 3, 1088, 1920)\n",
      "\n",
      "image 1/1 /datasets/tdt4265/other/rbk/1_train-val_1min_aalesund_from_start/img1/000176.jpg: 1088x1920 1 ball, 22 players, 2.3ms\n",
      "Speed: 2.3ms preprocess, 2.3ms inference, 0.6ms postprocess per image at shape (1, 3, 1088, 1920)\n",
      "\n",
      "image 1/1 /datasets/tdt4265/other/rbk/1_train-val_1min_aalesund_from_start/img1/000177.jpg: 1088x1920 1 ball, 22 players, 2.3ms\n",
      "Speed: 2.2ms preprocess, 2.3ms inference, 0.5ms postprocess per image at shape (1, 3, 1088, 1920)\n",
      "\n",
      "image 1/1 /datasets/tdt4265/other/rbk/1_train-val_1min_aalesund_from_start/img1/000178.jpg: 1088x1920 22 players, 2.3ms\n",
      "Speed: 2.3ms preprocess, 2.3ms inference, 0.5ms postprocess per image at shape (1, 3, 1088, 1920)\n",
      "\n",
      "image 1/1 /datasets/tdt4265/other/rbk/1_train-val_1min_aalesund_from_start/img1/000179.jpg: 1088x1920 22 players, 2.3ms\n",
      "Speed: 2.4ms preprocess, 2.3ms inference, 0.9ms postprocess per image at shape (1, 3, 1088, 1920)\n",
      "\n",
      "image 1/1 /datasets/tdt4265/other/rbk/1_train-val_1min_aalesund_from_start/img1/000180.jpg: 1088x1920 22 players, 2.5ms\n",
      "Speed: 2.3ms preprocess, 2.5ms inference, 0.6ms postprocess per image at shape (1, 3, 1088, 1920)\n",
      "\n",
      "image 1/1 /datasets/tdt4265/other/rbk/1_train-val_1min_aalesund_from_start/img1/000181.jpg: 1088x1920 22 players, 2.5ms\n",
      "Speed: 2.4ms preprocess, 2.5ms inference, 0.6ms postprocess per image at shape (1, 3, 1088, 1920)\n",
      "\n",
      "image 1/1 /datasets/tdt4265/other/rbk/1_train-val_1min_aalesund_from_start/img1/000182.jpg: 1088x1920 22 players, 2.6ms\n",
      "Speed: 2.3ms preprocess, 2.6ms inference, 0.6ms postprocess per image at shape (1, 3, 1088, 1920)\n",
      "\n",
      "image 1/1 /datasets/tdt4265/other/rbk/1_train-val_1min_aalesund_from_start/img1/000183.jpg: 1088x1920 22 players, 2.7ms\n",
      "Speed: 2.4ms preprocess, 2.7ms inference, 0.5ms postprocess per image at shape (1, 3, 1088, 1920)\n",
      "\n",
      "image 1/1 /datasets/tdt4265/other/rbk/1_train-val_1min_aalesund_from_start/img1/000184.jpg: 1088x1920 22 players, 2.3ms\n",
      "Speed: 2.2ms preprocess, 2.3ms inference, 0.5ms postprocess per image at shape (1, 3, 1088, 1920)\n",
      "\n",
      "image 1/1 /datasets/tdt4265/other/rbk/1_train-val_1min_aalesund_from_start/img1/000185.jpg: 1088x1920 22 players, 2.3ms\n",
      "Speed: 2.2ms preprocess, 2.3ms inference, 0.5ms postprocess per image at shape (1, 3, 1088, 1920)\n",
      "\n",
      "image 1/1 /datasets/tdt4265/other/rbk/1_train-val_1min_aalesund_from_start/img1/000186.jpg: 1088x1920 22 players, 2.3ms\n",
      "Speed: 2.3ms preprocess, 2.3ms inference, 0.5ms postprocess per image at shape (1, 3, 1088, 1920)\n",
      "\n",
      "image 1/1 /datasets/tdt4265/other/rbk/1_train-val_1min_aalesund_from_start/img1/000187.jpg: 1088x1920 22 players, 2.3ms\n",
      "Speed: 2.4ms preprocess, 2.3ms inference, 0.5ms postprocess per image at shape (1, 3, 1088, 1920)\n",
      "\n",
      "image 1/1 /datasets/tdt4265/other/rbk/1_train-val_1min_aalesund_from_start/img1/000188.jpg: 1088x1920 22 players, 2.4ms\n",
      "Speed: 2.3ms preprocess, 2.4ms inference, 0.7ms postprocess per image at shape (1, 3, 1088, 1920)\n",
      "\n",
      "image 1/1 /datasets/tdt4265/other/rbk/1_train-val_1min_aalesund_from_start/img1/000189.jpg: 1088x1920 22 players, 2.7ms\n",
      "Speed: 5.8ms preprocess, 2.7ms inference, 6.6ms postprocess per image at shape (1, 3, 1088, 1920)\n",
      "\n",
      "image 1/1 /datasets/tdt4265/other/rbk/1_train-val_1min_aalesund_from_start/img1/000190.jpg: 1088x1920 22 players, 2.6ms\n",
      "Speed: 2.3ms preprocess, 2.6ms inference, 0.5ms postprocess per image at shape (1, 3, 1088, 1920)\n",
      "\n",
      "image 1/1 /datasets/tdt4265/other/rbk/1_train-val_1min_aalesund_from_start/img1/000191.jpg: 1088x1920 22 players, 2.3ms\n",
      "Speed: 2.4ms preprocess, 2.3ms inference, 0.5ms postprocess per image at shape (1, 3, 1088, 1920)\n",
      "\n",
      "image 1/1 /datasets/tdt4265/other/rbk/1_train-val_1min_aalesund_from_start/img1/000192.jpg: 1088x1920 22 players, 2.4ms\n",
      "Speed: 2.3ms preprocess, 2.4ms inference, 0.5ms postprocess per image at shape (1, 3, 1088, 1920)\n",
      "\n",
      "image 1/1 /datasets/tdt4265/other/rbk/1_train-val_1min_aalesund_from_start/img1/000193.jpg: 1088x1920 22 players, 2.8ms\n",
      "Speed: 2.4ms preprocess, 2.8ms inference, 0.5ms postprocess per image at shape (1, 3, 1088, 1920)\n",
      "\n",
      "image 1/1 /datasets/tdt4265/other/rbk/1_train-val_1min_aalesund_from_start/img1/000194.jpg: 1088x1920 22 players, 2.3ms\n",
      "Speed: 2.4ms preprocess, 2.3ms inference, 0.5ms postprocess per image at shape (1, 3, 1088, 1920)\n",
      "\n",
      "image 1/1 /datasets/tdt4265/other/rbk/1_train-val_1min_aalesund_from_start/img1/000195.jpg: 1088x1920 22 players, 2.6ms\n",
      "Speed: 2.4ms preprocess, 2.6ms inference, 0.8ms postprocess per image at shape (1, 3, 1088, 1920)\n",
      "\n",
      "image 1/1 /datasets/tdt4265/other/rbk/1_train-val_1min_aalesund_from_start/img1/000196.jpg: 1088x1920 22 players, 2.3ms\n",
      "Speed: 2.4ms preprocess, 2.3ms inference, 0.5ms postprocess per image at shape (1, 3, 1088, 1920)\n",
      "\n",
      "image 1/1 /datasets/tdt4265/other/rbk/1_train-val_1min_aalesund_from_start/img1/000197.jpg: 1088x1920 22 players, 2.3ms\n",
      "Speed: 2.4ms preprocess, 2.3ms inference, 0.5ms postprocess per image at shape (1, 3, 1088, 1920)\n",
      "\n",
      "image 1/1 /datasets/tdt4265/other/rbk/1_train-val_1min_aalesund_from_start/img1/000198.jpg: 1088x1920 22 players, 2.5ms\n",
      "Speed: 2.3ms preprocess, 2.5ms inference, 0.6ms postprocess per image at shape (1, 3, 1088, 1920)\n",
      "\n",
      "image 1/1 /datasets/tdt4265/other/rbk/1_train-val_1min_aalesund_from_start/img1/000199.jpg: 1088x1920 22 players, 2.6ms\n",
      "Speed: 2.4ms preprocess, 2.6ms inference, 0.5ms postprocess per image at shape (1, 3, 1088, 1920)\n",
      "\n",
      "image 1/1 /datasets/tdt4265/other/rbk/1_train-val_1min_aalesund_from_start/img1/000200.jpg: 1088x1920 22 players, 2.3ms\n",
      "Speed: 2.3ms preprocess, 2.3ms inference, 0.5ms postprocess per image at shape (1, 3, 1088, 1920)\n",
      "\n",
      "image 1/1 /datasets/tdt4265/other/rbk/1_train-val_1min_aalesund_from_start/img1/000201.jpg: 1088x1920 22 players, 2.3ms\n",
      "Speed: 2.4ms preprocess, 2.3ms inference, 0.5ms postprocess per image at shape (1, 3, 1088, 1920)\n",
      "\n",
      "image 1/1 /datasets/tdt4265/other/rbk/1_train-val_1min_aalesund_from_start/img1/000202.jpg: 1088x1920 22 players, 2.3ms\n",
      "Speed: 2.3ms preprocess, 2.3ms inference, 0.5ms postprocess per image at shape (1, 3, 1088, 1920)\n",
      "\n",
      "image 1/1 /datasets/tdt4265/other/rbk/1_train-val_1min_aalesund_from_start/img1/000203.jpg: 1088x1920 22 players, 2.3ms\n",
      "Speed: 2.4ms preprocess, 2.3ms inference, 0.6ms postprocess per image at shape (1, 3, 1088, 1920)\n",
      "\n",
      "image 1/1 /datasets/tdt4265/other/rbk/1_train-val_1min_aalesund_from_start/img1/000204.jpg: 1088x1920 22 players, 2.3ms\n",
      "Speed: 2.3ms preprocess, 2.3ms inference, 0.6ms postprocess per image at shape (1, 3, 1088, 1920)\n",
      "\n",
      "image 1/1 /datasets/tdt4265/other/rbk/1_train-val_1min_aalesund_from_start/img1/000205.jpg: 1088x1920 22 players, 2.3ms\n",
      "Speed: 2.4ms preprocess, 2.3ms inference, 0.6ms postprocess per image at shape (1, 3, 1088, 1920)\n",
      "\n",
      "image 1/1 /datasets/tdt4265/other/rbk/1_train-val_1min_aalesund_from_start/img1/000206.jpg: 1088x1920 22 players, 2.3ms\n",
      "Speed: 2.3ms preprocess, 2.3ms inference, 0.5ms postprocess per image at shape (1, 3, 1088, 1920)\n",
      "\n",
      "image 1/1 /datasets/tdt4265/other/rbk/1_train-val_1min_aalesund_from_start/img1/000207.jpg: 1088x1920 22 players, 2.4ms\n",
      "Speed: 2.4ms preprocess, 2.4ms inference, 0.5ms postprocess per image at shape (1, 3, 1088, 1920)\n",
      "\n",
      "image 1/1 /datasets/tdt4265/other/rbk/1_train-val_1min_aalesund_from_start/img1/000208.jpg: 1088x1920 22 players, 2.3ms\n",
      "Speed: 2.3ms preprocess, 2.3ms inference, 0.7ms postprocess per image at shape (1, 3, 1088, 1920)\n",
      "\n",
      "image 1/1 /datasets/tdt4265/other/rbk/1_train-val_1min_aalesund_from_start/img1/000209.jpg: 1088x1920 22 players, 3.1ms\n",
      "Speed: 3.0ms preprocess, 3.1ms inference, 0.7ms postprocess per image at shape (1, 3, 1088, 1920)\n",
      "\n",
      "image 1/1 /datasets/tdt4265/other/rbk/1_train-val_1min_aalesund_from_start/img1/000210.jpg: 1088x1920 22 players, 2.4ms\n",
      "Speed: 2.6ms preprocess, 2.4ms inference, 0.5ms postprocess per image at shape (1, 3, 1088, 1920)\n",
      "\n",
      "image 1/1 /datasets/tdt4265/other/rbk/1_train-val_1min_aalesund_from_start/img1/000211.jpg: 1088x1920 1 ball, 22 players, 2.3ms\n",
      "Speed: 2.4ms preprocess, 2.3ms inference, 0.5ms postprocess per image at shape (1, 3, 1088, 1920)\n",
      "\n",
      "image 1/1 /datasets/tdt4265/other/rbk/1_train-val_1min_aalesund_from_start/img1/000212.jpg: 1088x1920 1 ball, 22 players, 2.6ms\n",
      "Speed: 2.4ms preprocess, 2.6ms inference, 0.6ms postprocess per image at shape (1, 3, 1088, 1920)\n",
      "\n",
      "image 1/1 /datasets/tdt4265/other/rbk/1_train-val_1min_aalesund_from_start/img1/000213.jpg: 1088x1920 1 ball, 22 players, 2.3ms\n",
      "Speed: 2.4ms preprocess, 2.3ms inference, 0.5ms postprocess per image at shape (1, 3, 1088, 1920)\n",
      "\n",
      "image 1/1 /datasets/tdt4265/other/rbk/1_train-val_1min_aalesund_from_start/img1/000214.jpg: 1088x1920 1 ball, 22 players, 2.5ms\n",
      "Speed: 2.4ms preprocess, 2.5ms inference, 0.5ms postprocess per image at shape (1, 3, 1088, 1920)\n",
      "\n",
      "image 1/1 /datasets/tdt4265/other/rbk/1_train-val_1min_aalesund_from_start/img1/000215.jpg: 1088x1920 1 ball, 22 players, 2.4ms\n",
      "Speed: 2.4ms preprocess, 2.4ms inference, 0.5ms postprocess per image at shape (1, 3, 1088, 1920)\n",
      "\n",
      "image 1/1 /datasets/tdt4265/other/rbk/1_train-val_1min_aalesund_from_start/img1/000216.jpg: 1088x1920 1 ball, 22 players, 2.3ms\n",
      "Speed: 2.4ms preprocess, 2.3ms inference, 0.5ms postprocess per image at shape (1, 3, 1088, 1920)\n",
      "\n",
      "image 1/1 /datasets/tdt4265/other/rbk/1_train-val_1min_aalesund_from_start/img1/000217.jpg: 1088x1920 1 ball, 22 players, 2.3ms\n",
      "Speed: 2.4ms preprocess, 2.3ms inference, 0.5ms postprocess per image at shape (1, 3, 1088, 1920)\n",
      "\n",
      "image 1/1 /datasets/tdt4265/other/rbk/1_train-val_1min_aalesund_from_start/img1/000218.jpg: 1088x1920 1 ball, 22 players, 2.3ms\n",
      "Speed: 2.3ms preprocess, 2.3ms inference, 0.5ms postprocess per image at shape (1, 3, 1088, 1920)\n",
      "\n",
      "image 1/1 /datasets/tdt4265/other/rbk/1_train-val_1min_aalesund_from_start/img1/000219.jpg: 1088x1920 1 ball, 22 players, 2.3ms\n",
      "Speed: 2.4ms preprocess, 2.3ms inference, 0.5ms postprocess per image at shape (1, 3, 1088, 1920)\n",
      "\n",
      "image 1/1 /datasets/tdt4265/other/rbk/1_train-val_1min_aalesund_from_start/img1/000220.jpg: 1088x1920 1 ball, 22 players, 2.3ms\n",
      "Speed: 2.4ms preprocess, 2.3ms inference, 0.5ms postprocess per image at shape (1, 3, 1088, 1920)\n",
      "\n",
      "image 1/1 /datasets/tdt4265/other/rbk/1_train-val_1min_aalesund_from_start/img1/000221.jpg: 1088x1920 1 ball, 22 players, 2.3ms\n",
      "Speed: 2.4ms preprocess, 2.3ms inference, 0.5ms postprocess per image at shape (1, 3, 1088, 1920)\n",
      "\n",
      "image 1/1 /datasets/tdt4265/other/rbk/1_train-val_1min_aalesund_from_start/img1/000222.jpg: 1088x1920 1 ball, 22 players, 2.3ms\n",
      "Speed: 2.3ms preprocess, 2.3ms inference, 0.5ms postprocess per image at shape (1, 3, 1088, 1920)\n",
      "\n",
      "image 1/1 /datasets/tdt4265/other/rbk/1_train-val_1min_aalesund_from_start/img1/000223.jpg: 1088x1920 1 ball, 22 players, 2.3ms\n",
      "Speed: 2.4ms preprocess, 2.3ms inference, 0.5ms postprocess per image at shape (1, 3, 1088, 1920)\n",
      "\n",
      "image 1/1 /datasets/tdt4265/other/rbk/1_train-val_1min_aalesund_from_start/img1/000224.jpg: 1088x1920 1 ball, 22 players, 2.3ms\n",
      "Speed: 2.3ms preprocess, 2.3ms inference, 0.5ms postprocess per image at shape (1, 3, 1088, 1920)\n",
      "\n",
      "image 1/1 /datasets/tdt4265/other/rbk/1_train-val_1min_aalesund_from_start/img1/000225.jpg: 1088x1920 1 ball, 22 players, 2.3ms\n",
      "Speed: 2.4ms preprocess, 2.3ms inference, 0.5ms postprocess per image at shape (1, 3, 1088, 1920)\n",
      "\n",
      "image 1/1 /datasets/tdt4265/other/rbk/1_train-val_1min_aalesund_from_start/img1/000226.jpg: 1088x1920 1 ball, 22 players, 2.3ms\n",
      "Speed: 2.3ms preprocess, 2.3ms inference, 0.5ms postprocess per image at shape (1, 3, 1088, 1920)\n",
      "\n",
      "image 1/1 /datasets/tdt4265/other/rbk/1_train-val_1min_aalesund_from_start/img1/000227.jpg: 1088x1920 1 ball, 22 players, 2.3ms\n",
      "Speed: 2.4ms preprocess, 2.3ms inference, 0.5ms postprocess per image at shape (1, 3, 1088, 1920)\n",
      "\n",
      "image 1/1 /datasets/tdt4265/other/rbk/1_train-val_1min_aalesund_from_start/img1/000228.jpg: 1088x1920 1 ball, 21 players, 2.4ms\n",
      "Speed: 2.5ms preprocess, 2.4ms inference, 0.5ms postprocess per image at shape (1, 3, 1088, 1920)\n",
      "\n",
      "image 1/1 /datasets/tdt4265/other/rbk/1_train-val_1min_aalesund_from_start/img1/000229.jpg: 1088x1920 1 ball, 21 players, 2.6ms\n",
      "Speed: 2.4ms preprocess, 2.6ms inference, 0.6ms postprocess per image at shape (1, 3, 1088, 1920)\n",
      "\n",
      "image 1/1 /datasets/tdt4265/other/rbk/1_train-val_1min_aalesund_from_start/img1/000230.jpg: 1088x1920 1 ball, 21 players, 2.5ms\n",
      "Speed: 2.3ms preprocess, 2.5ms inference, 0.6ms postprocess per image at shape (1, 3, 1088, 1920)\n",
      "\n",
      "image 1/1 /datasets/tdt4265/other/rbk/1_train-val_1min_aalesund_from_start/img1/000231.jpg: 1088x1920 1 ball, 21 players, 2.5ms\n",
      "Speed: 2.4ms preprocess, 2.5ms inference, 0.6ms postprocess per image at shape (1, 3, 1088, 1920)\n",
      "\n",
      "image 1/1 /datasets/tdt4265/other/rbk/1_train-val_1min_aalesund_from_start/img1/000232.jpg: 1088x1920 1 ball, 22 players, 2.3ms\n",
      "Speed: 2.3ms preprocess, 2.3ms inference, 0.8ms postprocess per image at shape (1, 3, 1088, 1920)\n",
      "\n",
      "image 1/1 /datasets/tdt4265/other/rbk/1_train-val_1min_aalesund_from_start/img1/000233.jpg: 1088x1920 1 ball, 22 players, 2.3ms\n",
      "Speed: 2.4ms preprocess, 2.3ms inference, 0.7ms postprocess per image at shape (1, 3, 1088, 1920)\n",
      "\n",
      "image 1/1 /datasets/tdt4265/other/rbk/1_train-val_1min_aalesund_from_start/img1/000234.jpg: 1088x1920 1 ball, 22 players, 2.3ms\n",
      "Speed: 2.4ms preprocess, 2.3ms inference, 0.5ms postprocess per image at shape (1, 3, 1088, 1920)\n",
      "\n",
      "image 1/1 /datasets/tdt4265/other/rbk/1_train-val_1min_aalesund_from_start/img1/000235.jpg: 1088x1920 1 ball, 22 players, 2.3ms\n",
      "Speed: 2.4ms preprocess, 2.3ms inference, 0.5ms postprocess per image at shape (1, 3, 1088, 1920)\n",
      "\n",
      "image 1/1 /datasets/tdt4265/other/rbk/1_train-val_1min_aalesund_from_start/img1/000236.jpg: 1088x1920 1 ball, 22 players, 2.5ms\n",
      "Speed: 2.2ms preprocess, 2.5ms inference, 0.5ms postprocess per image at shape (1, 3, 1088, 1920)\n",
      "\n",
      "image 1/1 /datasets/tdt4265/other/rbk/1_train-val_1min_aalesund_from_start/img1/000237.jpg: 1088x1920 1 ball, 22 players, 2.6ms\n",
      "Speed: 2.4ms preprocess, 2.6ms inference, 0.7ms postprocess per image at shape (1, 3, 1088, 1920)\n",
      "\n",
      "image 1/1 /datasets/tdt4265/other/rbk/1_train-val_1min_aalesund_from_start/img1/000238.jpg: 1088x1920 1 ball, 22 players, 2.6ms\n",
      "Speed: 2.4ms preprocess, 2.6ms inference, 0.8ms postprocess per image at shape (1, 3, 1088, 1920)\n",
      "\n",
      "image 1/1 /datasets/tdt4265/other/rbk/1_train-val_1min_aalesund_from_start/img1/000239.jpg: 1088x1920 1 ball, 22 players, 2.6ms\n",
      "Speed: 2.4ms preprocess, 2.6ms inference, 0.8ms postprocess per image at shape (1, 3, 1088, 1920)\n",
      "\n",
      "image 1/1 /datasets/tdt4265/other/rbk/1_train-val_1min_aalesund_from_start/img1/000240.jpg: 1088x1920 1 ball, 22 players, 2.6ms\n",
      "Speed: 2.3ms preprocess, 2.6ms inference, 0.8ms postprocess per image at shape (1, 3, 1088, 1920)\n",
      "\n",
      "image 1/1 /datasets/tdt4265/other/rbk/1_train-val_1min_aalesund_from_start/img1/000241.jpg: 1088x1920 1 ball, 22 players, 2.6ms\n",
      "Speed: 2.4ms preprocess, 2.6ms inference, 0.8ms postprocess per image at shape (1, 3, 1088, 1920)\n",
      "\n",
      "image 1/1 /datasets/tdt4265/other/rbk/1_train-val_1min_aalesund_from_start/img1/000242.jpg: 1088x1920 1 ball, 22 players, 2.3ms\n",
      "Speed: 2.4ms preprocess, 2.3ms inference, 1.2ms postprocess per image at shape (1, 3, 1088, 1920)\n",
      "\n",
      "image 1/1 /datasets/tdt4265/other/rbk/1_train-val_1min_aalesund_from_start/img1/000243.jpg: 1088x1920 1 ball, 22 players, 2.6ms\n",
      "Speed: 2.4ms preprocess, 2.6ms inference, 0.8ms postprocess per image at shape (1, 3, 1088, 1920)\n",
      "\n",
      "image 1/1 /datasets/tdt4265/other/rbk/1_train-val_1min_aalesund_from_start/img1/000244.jpg: 1088x1920 1 ball, 22 players, 2.4ms\n",
      "Speed: 2.4ms preprocess, 2.4ms inference, 1.1ms postprocess per image at shape (1, 3, 1088, 1920)\n",
      "\n",
      "image 1/1 /datasets/tdt4265/other/rbk/1_train-val_1min_aalesund_from_start/img1/000245.jpg: 1088x1920 1 ball, 22 players, 2.3ms\n",
      "Speed: 2.4ms preprocess, 2.3ms inference, 1.1ms postprocess per image at shape (1, 3, 1088, 1920)\n",
      "\n",
      "image 1/1 /datasets/tdt4265/other/rbk/1_train-val_1min_aalesund_from_start/img1/000246.jpg: 1088x1920 1 ball, 22 players, 2.3ms\n",
      "Speed: 2.4ms preprocess, 2.3ms inference, 0.5ms postprocess per image at shape (1, 3, 1088, 1920)\n",
      "\n",
      "image 1/1 /datasets/tdt4265/other/rbk/1_train-val_1min_aalesund_from_start/img1/000247.jpg: 1088x1920 1 ball, 22 players, 2.3ms\n",
      "Speed: 2.2ms preprocess, 2.3ms inference, 0.5ms postprocess per image at shape (1, 3, 1088, 1920)\n",
      "\n",
      "image 1/1 /datasets/tdt4265/other/rbk/1_train-val_1min_aalesund_from_start/img1/000248.jpg: 1088x1920 1 ball, 22 players, 2.3ms\n",
      "Speed: 2.4ms preprocess, 2.3ms inference, 0.5ms postprocess per image at shape (1, 3, 1088, 1920)\n",
      "\n",
      "image 1/1 /datasets/tdt4265/other/rbk/1_train-val_1min_aalesund_from_start/img1/000249.jpg: 1088x1920 1 ball, 22 players, 2.3ms\n",
      "Speed: 2.4ms preprocess, 2.3ms inference, 0.5ms postprocess per image at shape (1, 3, 1088, 1920)\n",
      "\n",
      "image 1/1 /datasets/tdt4265/other/rbk/1_train-val_1min_aalesund_from_start/img1/000250.jpg: 1088x1920 22 players, 2.3ms\n",
      "Speed: 2.4ms preprocess, 2.3ms inference, 0.6ms postprocess per image at shape (1, 3, 1088, 1920)\n",
      "\n",
      "image 1/1 /datasets/tdt4265/other/rbk/1_train-val_1min_aalesund_from_start/img1/000251.jpg: 1088x1920 22 players, 2.3ms\n",
      "Speed: 2.4ms preprocess, 2.3ms inference, 0.5ms postprocess per image at shape (1, 3, 1088, 1920)\n",
      "\n",
      "image 1/1 /datasets/tdt4265/other/rbk/1_train-val_1min_aalesund_from_start/img1/000252.jpg: 1088x1920 22 players, 2.3ms\n",
      "Speed: 2.3ms preprocess, 2.3ms inference, 0.5ms postprocess per image at shape (1, 3, 1088, 1920)\n",
      "\n",
      "image 1/1 /datasets/tdt4265/other/rbk/1_train-val_1min_aalesund_from_start/img1/000253.jpg: 1088x1920 22 players, 2.3ms\n",
      "Speed: 2.4ms preprocess, 2.3ms inference, 0.5ms postprocess per image at shape (1, 3, 1088, 1920)\n",
      "\n",
      "image 1/1 /datasets/tdt4265/other/rbk/1_train-val_1min_aalesund_from_start/img1/000254.jpg: 1088x1920 22 players, 2.6ms\n",
      "Speed: 2.3ms preprocess, 2.6ms inference, 0.6ms postprocess per image at shape (1, 3, 1088, 1920)\n",
      "\n",
      "image 1/1 /datasets/tdt4265/other/rbk/1_train-val_1min_aalesund_from_start/img1/000255.jpg: 1088x1920 22 players, 2.6ms\n",
      "Speed: 2.4ms preprocess, 2.6ms inference, 0.6ms postprocess per image at shape (1, 3, 1088, 1920)\n",
      "\n",
      "image 1/1 /datasets/tdt4265/other/rbk/1_train-val_1min_aalesund_from_start/img1/000256.jpg: 1088x1920 22 players, 2.4ms\n",
      "Speed: 2.3ms preprocess, 2.4ms inference, 0.8ms postprocess per image at shape (1, 3, 1088, 1920)\n",
      "\n",
      "image 1/1 /datasets/tdt4265/other/rbk/1_train-val_1min_aalesund_from_start/img1/000257.jpg: 1088x1920 22 players, 2.3ms\n",
      "Speed: 2.4ms preprocess, 2.3ms inference, 0.5ms postprocess per image at shape (1, 3, 1088, 1920)\n",
      "\n",
      "image 1/1 /datasets/tdt4265/other/rbk/1_train-val_1min_aalesund_from_start/img1/000258.jpg: 1088x1920 22 players, 2.3ms\n",
      "Speed: 2.4ms preprocess, 2.3ms inference, 0.5ms postprocess per image at shape (1, 3, 1088, 1920)\n",
      "\n",
      "image 1/1 /datasets/tdt4265/other/rbk/1_train-val_1min_aalesund_from_start/img1/000259.jpg: 1088x1920 1 ball, 22 players, 2.3ms\n",
      "Speed: 2.5ms preprocess, 2.3ms inference, 0.5ms postprocess per image at shape (1, 3, 1088, 1920)\n",
      "\n",
      "image 1/1 /datasets/tdt4265/other/rbk/1_train-val_1min_aalesund_from_start/img1/000260.jpg: 1088x1920 1 ball, 22 players, 2.6ms\n",
      "Speed: 2.3ms preprocess, 2.6ms inference, 0.8ms postprocess per image at shape (1, 3, 1088, 1920)\n",
      "\n",
      "image 1/1 /datasets/tdt4265/other/rbk/1_train-val_1min_aalesund_from_start/img1/000261.jpg: 1088x1920 1 ball, 22 players, 2.6ms\n",
      "Speed: 2.4ms preprocess, 2.6ms inference, 0.8ms postprocess per image at shape (1, 3, 1088, 1920)\n",
      "\n",
      "image 1/1 /datasets/tdt4265/other/rbk/1_train-val_1min_aalesund_from_start/img1/000262.jpg: 1088x1920 1 ball, 22 players, 2.6ms\n",
      "Speed: 2.3ms preprocess, 2.6ms inference, 0.8ms postprocess per image at shape (1, 3, 1088, 1920)\n",
      "\n",
      "image 1/1 /datasets/tdt4265/other/rbk/1_train-val_1min_aalesund_from_start/img1/000263.jpg: 1088x1920 1 ball, 22 players, 2.3ms\n",
      "Speed: 2.4ms preprocess, 2.3ms inference, 1.0ms postprocess per image at shape (1, 3, 1088, 1920)\n",
      "\n",
      "image 1/1 /datasets/tdt4265/other/rbk/1_train-val_1min_aalesund_from_start/img1/000264.jpg: 1088x1920 1 ball, 22 players, 2.3ms\n",
      "Speed: 2.3ms preprocess, 2.3ms inference, 0.5ms postprocess per image at shape (1, 3, 1088, 1920)\n",
      "\n",
      "image 1/1 /datasets/tdt4265/other/rbk/1_train-val_1min_aalesund_from_start/img1/000265.jpg: 1088x1920 1 ball, 22 players, 2.4ms\n",
      "Speed: 2.4ms preprocess, 2.4ms inference, 0.5ms postprocess per image at shape (1, 3, 1088, 1920)\n",
      "\n",
      "image 1/1 /datasets/tdt4265/other/rbk/1_train-val_1min_aalesund_from_start/img1/000266.jpg: 1088x1920 1 ball, 22 players, 2.3ms\n",
      "Speed: 2.3ms preprocess, 2.3ms inference, 0.5ms postprocess per image at shape (1, 3, 1088, 1920)\n",
      "\n",
      "image 1/1 /datasets/tdt4265/other/rbk/1_train-val_1min_aalesund_from_start/img1/000267.jpg: 1088x1920 1 ball, 22 players, 2.3ms\n",
      "Speed: 2.4ms preprocess, 2.3ms inference, 0.5ms postprocess per image at shape (1, 3, 1088, 1920)\n",
      "\n",
      "image 1/1 /datasets/tdt4265/other/rbk/1_train-val_1min_aalesund_from_start/img1/000268.jpg: 1088x1920 1 ball, 21 players, 2.3ms\n",
      "Speed: 2.2ms preprocess, 2.3ms inference, 0.5ms postprocess per image at shape (1, 3, 1088, 1920)\n",
      "\n",
      "image 1/1 /datasets/tdt4265/other/rbk/1_train-val_1min_aalesund_from_start/img1/000269.jpg: 1088x1920 1 ball, 21 players, 2.3ms\n",
      "Speed: 2.4ms preprocess, 2.3ms inference, 0.5ms postprocess per image at shape (1, 3, 1088, 1920)\n",
      "\n",
      "image 1/1 /datasets/tdt4265/other/rbk/1_train-val_1min_aalesund_from_start/img1/000270.jpg: 1088x1920 1 ball, 21 players, 2.8ms\n",
      "Speed: 2.3ms preprocess, 2.8ms inference, 0.6ms postprocess per image at shape (1, 3, 1088, 1920)\n",
      "\n",
      "image 1/1 /datasets/tdt4265/other/rbk/1_train-val_1min_aalesund_from_start/img1/000271.jpg: 1088x1920 1 ball, 21 players, 2.6ms\n",
      "Speed: 2.4ms preprocess, 2.6ms inference, 0.6ms postprocess per image at shape (1, 3, 1088, 1920)\n",
      "\n",
      "image 1/1 /datasets/tdt4265/other/rbk/1_train-val_1min_aalesund_from_start/img1/000272.jpg: 1088x1920 1 ball, 22 players, 2.6ms\n",
      "Speed: 2.3ms preprocess, 2.6ms inference, 0.6ms postprocess per image at shape (1, 3, 1088, 1920)\n",
      "\n",
      "image 1/1 /datasets/tdt4265/other/rbk/1_train-val_1min_aalesund_from_start/img1/000273.jpg: 1088x1920 1 ball, 22 players, 2.5ms\n",
      "Speed: 2.4ms preprocess, 2.5ms inference, 0.6ms postprocess per image at shape (1, 3, 1088, 1920)\n",
      "\n",
      "image 1/1 /datasets/tdt4265/other/rbk/1_train-val_1min_aalesund_from_start/img1/000274.jpg: 1088x1920 1 ball, 22 players, 2.6ms\n",
      "Speed: 2.5ms preprocess, 2.6ms inference, 0.6ms postprocess per image at shape (1, 3, 1088, 1920)\n",
      "\n",
      "image 1/1 /datasets/tdt4265/other/rbk/1_train-val_1min_aalesund_from_start/img1/000275.jpg: 1088x1920 1 ball, 22 players, 2.5ms\n",
      "Speed: 2.4ms preprocess, 2.5ms inference, 0.6ms postprocess per image at shape (1, 3, 1088, 1920)\n",
      "\n",
      "image 1/1 /datasets/tdt4265/other/rbk/1_train-val_1min_aalesund_from_start/img1/000276.jpg: 1088x1920 1 ball, 22 players, 2.3ms\n",
      "Speed: 2.3ms preprocess, 2.3ms inference, 0.8ms postprocess per image at shape (1, 3, 1088, 1920)\n",
      "\n",
      "image 1/1 /datasets/tdt4265/other/rbk/1_train-val_1min_aalesund_from_start/img1/000277.jpg: 1088x1920 1 ball, 22 players, 2.3ms\n",
      "Speed: 2.4ms preprocess, 2.3ms inference, 0.5ms postprocess per image at shape (1, 3, 1088, 1920)\n",
      "\n",
      "image 1/1 /datasets/tdt4265/other/rbk/1_train-val_1min_aalesund_from_start/img1/000278.jpg: 1088x1920 1 ball, 22 players, 2.3ms\n",
      "Speed: 2.3ms preprocess, 2.3ms inference, 0.5ms postprocess per image at shape (1, 3, 1088, 1920)\n",
      "\n",
      "image 1/1 /datasets/tdt4265/other/rbk/1_train-val_1min_aalesund_from_start/img1/000279.jpg: 1088x1920 1 ball, 22 players, 2.8ms\n",
      "Speed: 2.4ms preprocess, 2.8ms inference, 0.5ms postprocess per image at shape (1, 3, 1088, 1920)\n",
      "\n",
      "image 1/1 /datasets/tdt4265/other/rbk/1_train-val_1min_aalesund_from_start/img1/000280.jpg: 1088x1920 1 ball, 22 players, 2.6ms\n",
      "Speed: 2.4ms preprocess, 2.6ms inference, 0.8ms postprocess per image at shape (1, 3, 1088, 1920)\n",
      "\n",
      "image 1/1 /datasets/tdt4265/other/rbk/1_train-val_1min_aalesund_from_start/img1/000281.jpg: 1088x1920 1 ball, 22 players, 2.6ms\n",
      "Speed: 2.4ms preprocess, 2.6ms inference, 0.8ms postprocess per image at shape (1, 3, 1088, 1920)\n",
      "\n",
      "image 1/1 /datasets/tdt4265/other/rbk/1_train-val_1min_aalesund_from_start/img1/000282.jpg: 1088x1920 1 ball, 22 players, 2.3ms\n",
      "Speed: 2.3ms preprocess, 2.3ms inference, 1.0ms postprocess per image at shape (1, 3, 1088, 1920)\n",
      "\n",
      "image 1/1 /datasets/tdt4265/other/rbk/1_train-val_1min_aalesund_from_start/img1/000283.jpg: 1088x1920 22 players, 2.3ms\n",
      "Speed: 2.4ms preprocess, 2.3ms inference, 0.5ms postprocess per image at shape (1, 3, 1088, 1920)\n",
      "\n",
      "image 1/1 /datasets/tdt4265/other/rbk/1_train-val_1min_aalesund_from_start/img1/000284.jpg: 1088x1920 22 players, 2.4ms\n",
      "Speed: 2.3ms preprocess, 2.4ms inference, 0.5ms postprocess per image at shape (1, 3, 1088, 1920)\n",
      "\n",
      "image 1/1 /datasets/tdt4265/other/rbk/1_train-val_1min_aalesund_from_start/img1/000285.jpg: 1088x1920 22 players, 2.4ms\n",
      "Speed: 2.8ms preprocess, 2.4ms inference, 0.5ms postprocess per image at shape (1, 3, 1088, 1920)\n",
      "\n",
      "image 1/1 /datasets/tdt4265/other/rbk/1_train-val_1min_aalesund_from_start/img1/000286.jpg: 1088x1920 22 players, 2.4ms\n",
      "Speed: 2.6ms preprocess, 2.4ms inference, 1.0ms postprocess per image at shape (1, 3, 1088, 1920)\n",
      "\n",
      "image 1/1 /datasets/tdt4265/other/rbk/1_train-val_1min_aalesund_from_start/img1/000287.jpg: 1088x1920 22 players, 2.8ms\n",
      "Speed: 2.4ms preprocess, 2.8ms inference, 0.5ms postprocess per image at shape (1, 3, 1088, 1920)\n",
      "\n",
      "image 1/1 /datasets/tdt4265/other/rbk/1_train-val_1min_aalesund_from_start/img1/000288.jpg: 1088x1920 22 players, 2.8ms\n",
      "Speed: 2.4ms preprocess, 2.8ms inference, 0.5ms postprocess per image at shape (1, 3, 1088, 1920)\n",
      "\n",
      "image 1/1 /datasets/tdt4265/other/rbk/1_train-val_1min_aalesund_from_start/img1/000289.jpg: 1088x1920 22 players, 2.3ms\n",
      "Speed: 2.4ms preprocess, 2.3ms inference, 0.5ms postprocess per image at shape (1, 3, 1088, 1920)\n",
      "\n",
      "image 1/1 /datasets/tdt4265/other/rbk/1_train-val_1min_aalesund_from_start/img1/000290.jpg: 1088x1920 22 players, 2.3ms\n",
      "Speed: 2.5ms preprocess, 2.3ms inference, 0.5ms postprocess per image at shape (1, 3, 1088, 1920)\n",
      "\n",
      "image 1/1 /datasets/tdt4265/other/rbk/1_train-val_1min_aalesund_from_start/img1/000291.jpg: 1088x1920 22 players, 2.3ms\n",
      "Speed: 2.4ms preprocess, 2.3ms inference, 0.5ms postprocess per image at shape (1, 3, 1088, 1920)\n",
      "\n",
      "image 1/1 /datasets/tdt4265/other/rbk/1_train-val_1min_aalesund_from_start/img1/000292.jpg: 1088x1920 22 players, 2.4ms\n",
      "Speed: 2.4ms preprocess, 2.4ms inference, 0.5ms postprocess per image at shape (1, 3, 1088, 1920)\n",
      "\n",
      "image 1/1 /datasets/tdt4265/other/rbk/1_train-val_1min_aalesund_from_start/img1/000293.jpg: 1088x1920 22 players, 2.3ms\n",
      "Speed: 2.4ms preprocess, 2.3ms inference, 0.5ms postprocess per image at shape (1, 3, 1088, 1920)\n",
      "\n",
      "image 1/1 /datasets/tdt4265/other/rbk/1_train-val_1min_aalesund_from_start/img1/000294.jpg: 1088x1920 22 players, 2.4ms\n",
      "Speed: 2.2ms preprocess, 2.4ms inference, 0.5ms postprocess per image at shape (1, 3, 1088, 1920)\n",
      "\n",
      "image 1/1 /datasets/tdt4265/other/rbk/1_train-val_1min_aalesund_from_start/img1/000295.jpg: 1088x1920 22 players, 2.4ms\n",
      "Speed: 2.5ms preprocess, 2.4ms inference, 0.5ms postprocess per image at shape (1, 3, 1088, 1920)\n",
      "\n",
      "image 1/1 /datasets/tdt4265/other/rbk/1_train-val_1min_aalesund_from_start/img1/000296.jpg: 1088x1920 22 players, 2.4ms\n",
      "Speed: 2.4ms preprocess, 2.4ms inference, 0.5ms postprocess per image at shape (1, 3, 1088, 1920)\n",
      "\n",
      "image 1/1 /datasets/tdt4265/other/rbk/1_train-val_1min_aalesund_from_start/img1/000297.jpg: 1088x1920 22 players, 2.4ms\n",
      "Speed: 2.2ms preprocess, 2.4ms inference, 0.5ms postprocess per image at shape (1, 3, 1088, 1920)\n",
      "\n",
      "image 1/1 /datasets/tdt4265/other/rbk/1_train-val_1min_aalesund_from_start/img1/000298.jpg: 1088x1920 22 players, 2.3ms\n",
      "Speed: 2.4ms preprocess, 2.3ms inference, 0.5ms postprocess per image at shape (1, 3, 1088, 1920)\n",
      "\n",
      "image 1/1 /datasets/tdt4265/other/rbk/1_train-val_1min_aalesund_from_start/img1/000299.jpg: 1088x1920 22 players, 2.4ms\n",
      "Speed: 2.4ms preprocess, 2.4ms inference, 0.5ms postprocess per image at shape (1, 3, 1088, 1920)\n",
      "\n",
      "image 1/1 /datasets/tdt4265/other/rbk/1_train-val_1min_aalesund_from_start/img1/000300.jpg: 1088x1920 22 players, 2.4ms\n",
      "Speed: 2.3ms preprocess, 2.4ms inference, 0.5ms postprocess per image at shape (1, 3, 1088, 1920)\n",
      "\n",
      "image 1/1 /datasets/tdt4265/other/rbk/1_train-val_1min_aalesund_from_start/img1/000301.jpg: 1088x1920 22 players, 2.4ms\n",
      "Speed: 2.4ms preprocess, 2.4ms inference, 0.5ms postprocess per image at shape (1, 3, 1088, 1920)\n",
      "\n",
      "image 1/1 /datasets/tdt4265/other/rbk/1_train-val_1min_aalesund_from_start/img1/000302.jpg: 1088x1920 22 players, 2.3ms\n",
      "Speed: 2.4ms preprocess, 2.3ms inference, 0.6ms postprocess per image at shape (1, 3, 1088, 1920)\n",
      "\n",
      "image 1/1 /datasets/tdt4265/other/rbk/1_train-val_1min_aalesund_from_start/img1/000303.jpg: 1088x1920 22 players, 2.3ms\n",
      "Speed: 2.4ms preprocess, 2.3ms inference, 0.8ms postprocess per image at shape (1, 3, 1088, 1920)\n",
      "\n",
      "image 1/1 /datasets/tdt4265/other/rbk/1_train-val_1min_aalesund_from_start/img1/000304.jpg: 1088x1920 22 players, 2.5ms\n",
      "Speed: 2.4ms preprocess, 2.5ms inference, 0.6ms postprocess per image at shape (1, 3, 1088, 1920)\n",
      "\n",
      "image 1/1 /datasets/tdt4265/other/rbk/1_train-val_1min_aalesund_from_start/img1/000305.jpg: 1088x1920 22 players, 2.5ms\n",
      "Speed: 2.4ms preprocess, 2.5ms inference, 0.6ms postprocess per image at shape (1, 3, 1088, 1920)\n",
      "\n",
      "image 1/1 /datasets/tdt4265/other/rbk/1_train-val_1min_aalesund_from_start/img1/000306.jpg: 1088x1920 22 players, 2.5ms\n",
      "Speed: 2.4ms preprocess, 2.5ms inference, 0.6ms postprocess per image at shape (1, 3, 1088, 1920)\n",
      "\n",
      "image 1/1 /datasets/tdt4265/other/rbk/1_train-val_1min_aalesund_from_start/img1/000307.jpg: 1088x1920 22 players, 2.4ms\n",
      "Speed: 2.4ms preprocess, 2.4ms inference, 0.5ms postprocess per image at shape (1, 3, 1088, 1920)\n",
      "\n",
      "image 1/1 /datasets/tdt4265/other/rbk/1_train-val_1min_aalesund_from_start/img1/000308.jpg: 1088x1920 22 players, 2.4ms\n",
      "Speed: 2.4ms preprocess, 2.4ms inference, 0.5ms postprocess per image at shape (1, 3, 1088, 1920)\n",
      "\n",
      "image 1/1 /datasets/tdt4265/other/rbk/1_train-val_1min_aalesund_from_start/img1/000309.jpg: 1088x1920 22 players, 2.3ms\n",
      "Speed: 2.4ms preprocess, 2.3ms inference, 0.5ms postprocess per image at shape (1, 3, 1088, 1920)\n",
      "\n",
      "image 1/1 /datasets/tdt4265/other/rbk/1_train-val_1min_aalesund_from_start/img1/000310.jpg: 1088x1920 22 players, 2.4ms\n",
      "Speed: 2.4ms preprocess, 2.4ms inference, 0.6ms postprocess per image at shape (1, 3, 1088, 1920)\n",
      "\n",
      "image 1/1 /datasets/tdt4265/other/rbk/1_train-val_1min_aalesund_from_start/img1/000311.jpg: 1088x1920 22 players, 3.0ms\n",
      "Speed: 2.4ms preprocess, 3.0ms inference, 0.5ms postprocess per image at shape (1, 3, 1088, 1920)\n",
      "\n",
      "image 1/1 /datasets/tdt4265/other/rbk/1_train-val_1min_aalesund_from_start/img1/000312.jpg: 1088x1920 22 players, 2.4ms\n",
      "Speed: 2.5ms preprocess, 2.4ms inference, 0.5ms postprocess per image at shape (1, 3, 1088, 1920)\n",
      "\n",
      "image 1/1 /datasets/tdt4265/other/rbk/1_train-val_1min_aalesund_from_start/img1/000313.jpg: 1088x1920 22 players, 2.6ms\n",
      "Speed: 2.7ms preprocess, 2.6ms inference, 0.8ms postprocess per image at shape (1, 3, 1088, 1920)\n",
      "\n",
      "image 1/1 /datasets/tdt4265/other/rbk/1_train-val_1min_aalesund_from_start/img1/000314.jpg: 1088x1920 22 players, 2.3ms\n",
      "Speed: 2.4ms preprocess, 2.3ms inference, 0.5ms postprocess per image at shape (1, 3, 1088, 1920)\n",
      "\n",
      "image 1/1 /datasets/tdt4265/other/rbk/1_train-val_1min_aalesund_from_start/img1/000315.jpg: 1088x1920 22 players, 2.3ms\n",
      "Speed: 2.4ms preprocess, 2.3ms inference, 0.5ms postprocess per image at shape (1, 3, 1088, 1920)\n",
      "\n",
      "image 1/1 /datasets/tdt4265/other/rbk/1_train-val_1min_aalesund_from_start/img1/000316.jpg: 1088x1920 22 players, 2.5ms\n",
      "Speed: 2.4ms preprocess, 2.5ms inference, 0.6ms postprocess per image at shape (1, 3, 1088, 1920)\n",
      "\n",
      "image 1/1 /datasets/tdt4265/other/rbk/1_train-val_1min_aalesund_from_start/img1/000317.jpg: 1088x1920 22 players, 2.4ms\n",
      "Speed: 2.4ms preprocess, 2.4ms inference, 0.5ms postprocess per image at shape (1, 3, 1088, 1920)\n",
      "\n",
      "image 1/1 /datasets/tdt4265/other/rbk/1_train-val_1min_aalesund_from_start/img1/000318.jpg: 1088x1920 22 players, 2.4ms\n",
      "Speed: 2.4ms preprocess, 2.4ms inference, 0.7ms postprocess per image at shape (1, 3, 1088, 1920)\n",
      "\n",
      "image 1/1 /datasets/tdt4265/other/rbk/1_train-val_1min_aalesund_from_start/img1/000319.jpg: 1088x1920 22 players, 2.8ms\n",
      "Speed: 2.4ms preprocess, 2.8ms inference, 0.5ms postprocess per image at shape (1, 3, 1088, 1920)\n",
      "\n",
      "image 1/1 /datasets/tdt4265/other/rbk/1_train-val_1min_aalesund_from_start/img1/000320.jpg: 1088x1920 22 players, 2.4ms\n",
      "Speed: 2.4ms preprocess, 2.4ms inference, 1.1ms postprocess per image at shape (1, 3, 1088, 1920)\n",
      "\n",
      "image 1/1 /datasets/tdt4265/other/rbk/1_train-val_1min_aalesund_from_start/img1/000321.jpg: 1088x1920 1 ball, 22 players, 2.4ms\n",
      "Speed: 2.6ms preprocess, 2.4ms inference, 0.5ms postprocess per image at shape (1, 3, 1088, 1920)\n",
      "\n",
      "image 1/1 /datasets/tdt4265/other/rbk/1_train-val_1min_aalesund_from_start/img1/000322.jpg: 1088x1920 1 ball, 22 players, 2.4ms\n",
      "Speed: 2.4ms preprocess, 2.4ms inference, 0.5ms postprocess per image at shape (1, 3, 1088, 1920)\n",
      "\n",
      "image 1/1 /datasets/tdt4265/other/rbk/1_train-val_1min_aalesund_from_start/img1/000323.jpg: 1088x1920 1 ball, 22 players, 2.5ms\n",
      "Speed: 2.4ms preprocess, 2.5ms inference, 0.6ms postprocess per image at shape (1, 3, 1088, 1920)\n",
      "\n",
      "image 1/1 /datasets/tdt4265/other/rbk/1_train-val_1min_aalesund_from_start/img1/000324.jpg: 1088x1920 22 players, 2.4ms\n",
      "Speed: 2.4ms preprocess, 2.4ms inference, 0.5ms postprocess per image at shape (1, 3, 1088, 1920)\n",
      "\n",
      "image 1/1 /datasets/tdt4265/other/rbk/1_train-val_1min_aalesund_from_start/img1/000325.jpg: 1088x1920 22 players, 2.4ms\n",
      "Speed: 2.4ms preprocess, 2.4ms inference, 0.5ms postprocess per image at shape (1, 3, 1088, 1920)\n",
      "\n",
      "image 1/1 /datasets/tdt4265/other/rbk/1_train-val_1min_aalesund_from_start/img1/000326.jpg: 1088x1920 22 players, 2.9ms\n",
      "Speed: 2.5ms preprocess, 2.9ms inference, 0.6ms postprocess per image at shape (1, 3, 1088, 1920)\n",
      "\n",
      "image 1/1 /datasets/tdt4265/other/rbk/1_train-val_1min_aalesund_from_start/img1/000327.jpg: 1088x1920 22 players, 2.6ms\n",
      "Speed: 2.3ms preprocess, 2.6ms inference, 0.8ms postprocess per image at shape (1, 3, 1088, 1920)\n",
      "\n",
      "image 1/1 /datasets/tdt4265/other/rbk/1_train-val_1min_aalesund_from_start/img1/000328.jpg: 1088x1920 22 players, 2.4ms\n",
      "Speed: 2.4ms preprocess, 2.4ms inference, 0.5ms postprocess per image at shape (1, 3, 1088, 1920)\n",
      "\n",
      "image 1/1 /datasets/tdt4265/other/rbk/1_train-val_1min_aalesund_from_start/img1/000329.jpg: 1088x1920 22 players, 2.6ms\n",
      "Speed: 2.4ms preprocess, 2.6ms inference, 0.6ms postprocess per image at shape (1, 3, 1088, 1920)\n",
      "\n",
      "image 1/1 /datasets/tdt4265/other/rbk/1_train-val_1min_aalesund_from_start/img1/000330.jpg: 1088x1920 22 players, 2.4ms\n",
      "Speed: 2.4ms preprocess, 2.4ms inference, 0.5ms postprocess per image at shape (1, 3, 1088, 1920)\n",
      "\n",
      "image 1/1 /datasets/tdt4265/other/rbk/1_train-val_1min_aalesund_from_start/img1/000331.jpg: 1088x1920 22 players, 2.4ms\n",
      "Speed: 2.4ms preprocess, 2.4ms inference, 0.5ms postprocess per image at shape (1, 3, 1088, 1920)\n",
      "\n",
      "image 1/1 /datasets/tdt4265/other/rbk/1_train-val_1min_aalesund_from_start/img1/000332.jpg: 1088x1920 1 ball, 22 players, 2.4ms\n",
      "Speed: 2.4ms preprocess, 2.4ms inference, 0.5ms postprocess per image at shape (1, 3, 1088, 1920)\n",
      "\n",
      "image 1/1 /datasets/tdt4265/other/rbk/1_train-val_1min_aalesund_from_start/img1/000333.jpg: 1088x1920 1 ball, 22 players, 2.6ms\n",
      "Speed: 2.4ms preprocess, 2.6ms inference, 0.8ms postprocess per image at shape (1, 3, 1088, 1920)\n",
      "\n",
      "image 1/1 /datasets/tdt4265/other/rbk/1_train-val_1min_aalesund_from_start/img1/000334.jpg: 1088x1920 1 ball, 22 players, 2.3ms\n",
      "Speed: 2.4ms preprocess, 2.3ms inference, 0.5ms postprocess per image at shape (1, 3, 1088, 1920)\n",
      "\n",
      "image 1/1 /datasets/tdt4265/other/rbk/1_train-val_1min_aalesund_from_start/img1/000335.jpg: 1088x1920 1 ball, 22 players, 2.5ms\n",
      "Speed: 2.4ms preprocess, 2.5ms inference, 0.6ms postprocess per image at shape (1, 3, 1088, 1920)\n",
      "\n",
      "image 1/1 /datasets/tdt4265/other/rbk/1_train-val_1min_aalesund_from_start/img1/000336.jpg: 1088x1920 1 ball, 22 players, 2.3ms\n",
      "Speed: 2.4ms preprocess, 2.3ms inference, 0.5ms postprocess per image at shape (1, 3, 1088, 1920)\n",
      "\n",
      "image 1/1 /datasets/tdt4265/other/rbk/1_train-val_1min_aalesund_from_start/img1/000337.jpg: 1088x1920 1 ball, 22 players, 2.4ms\n",
      "Speed: 2.4ms preprocess, 2.4ms inference, 0.5ms postprocess per image at shape (1, 3, 1088, 1920)\n",
      "\n",
      "image 1/1 /datasets/tdt4265/other/rbk/1_train-val_1min_aalesund_from_start/img1/000338.jpg: 1088x1920 22 players, 2.3ms\n",
      "Speed: 2.4ms preprocess, 2.3ms inference, 1.2ms postprocess per image at shape (1, 3, 1088, 1920)\n",
      "\n",
      "image 1/1 /datasets/tdt4265/other/rbk/1_train-val_1min_aalesund_from_start/img1/000339.jpg: 1088x1920 22 players, 2.3ms\n",
      "Speed: 2.3ms preprocess, 2.3ms inference, 0.5ms postprocess per image at shape (1, 3, 1088, 1920)\n",
      "\n",
      "image 1/1 /datasets/tdt4265/other/rbk/1_train-val_1min_aalesund_from_start/img1/000340.jpg: 1088x1920 1 ball, 22 players, 2.3ms\n",
      "Speed: 2.4ms preprocess, 2.3ms inference, 0.8ms postprocess per image at shape (1, 3, 1088, 1920)\n",
      "\n",
      "image 1/1 /datasets/tdt4265/other/rbk/1_train-val_1min_aalesund_from_start/img1/000341.jpg: 1088x1920 1 ball, 22 players, 2.3ms\n",
      "Speed: 2.4ms preprocess, 2.3ms inference, 0.5ms postprocess per image at shape (1, 3, 1088, 1920)\n",
      "\n",
      "image 1/1 /datasets/tdt4265/other/rbk/1_train-val_1min_aalesund_from_start/img1/000342.jpg: 1088x1920 1 ball, 22 players, 2.4ms\n",
      "Speed: 2.4ms preprocess, 2.4ms inference, 0.6ms postprocess per image at shape (1, 3, 1088, 1920)\n",
      "\n",
      "image 1/1 /datasets/tdt4265/other/rbk/1_train-val_1min_aalesund_from_start/img1/000343.jpg: 1088x1920 1 ball, 22 players, 2.4ms\n",
      "Speed: 2.4ms preprocess, 2.4ms inference, 0.5ms postprocess per image at shape (1, 3, 1088, 1920)\n",
      "\n",
      "image 1/1 /datasets/tdt4265/other/rbk/1_train-val_1min_aalesund_from_start/img1/000344.jpg: 1088x1920 22 players, 2.6ms\n",
      "Speed: 2.4ms preprocess, 2.6ms inference, 0.8ms postprocess per image at shape (1, 3, 1088, 1920)\n",
      "\n",
      "image 1/1 /datasets/tdt4265/other/rbk/1_train-val_1min_aalesund_from_start/img1/000345.jpg: 1088x1920 22 players, 2.4ms\n",
      "Speed: 2.2ms preprocess, 2.4ms inference, 0.5ms postprocess per image at shape (1, 3, 1088, 1920)\n",
      "\n",
      "image 1/1 /datasets/tdt4265/other/rbk/1_train-val_1min_aalesund_from_start/img1/000346.jpg: 1088x1920 22 players, 2.6ms\n",
      "Speed: 2.4ms preprocess, 2.6ms inference, 0.6ms postprocess per image at shape (1, 3, 1088, 1920)\n",
      "\n",
      "image 1/1 /datasets/tdt4265/other/rbk/1_train-val_1min_aalesund_from_start/img1/000347.jpg: 1088x1920 22 players, 2.3ms\n",
      "Speed: 2.4ms preprocess, 2.3ms inference, 0.5ms postprocess per image at shape (1, 3, 1088, 1920)\n",
      "\n",
      "image 1/1 /datasets/tdt4265/other/rbk/1_train-val_1min_aalesund_from_start/img1/000348.jpg: 1088x1920 22 players, 2.4ms\n",
      "Speed: 2.4ms preprocess, 2.4ms inference, 0.6ms postprocess per image at shape (1, 3, 1088, 1920)\n",
      "\n",
      "image 1/1 /datasets/tdt4265/other/rbk/1_train-val_1min_aalesund_from_start/img1/000349.jpg: 1088x1920 22 players, 2.5ms\n",
      "Speed: 2.6ms preprocess, 2.5ms inference, 1.1ms postprocess per image at shape (1, 3, 1088, 1920)\n",
      "\n",
      "image 1/1 /datasets/tdt4265/other/rbk/1_train-val_1min_aalesund_from_start/img1/000350.jpg: 1088x1920 22 players, 2.3ms\n",
      "Speed: 2.2ms preprocess, 2.3ms inference, 0.5ms postprocess per image at shape (1, 3, 1088, 1920)\n",
      "\n",
      "image 1/1 /datasets/tdt4265/other/rbk/1_train-val_1min_aalesund_from_start/img1/000351.jpg: 1088x1920 22 players, 2.3ms\n",
      "Speed: 2.4ms preprocess, 2.3ms inference, 0.8ms postprocess per image at shape (1, 3, 1088, 1920)\n",
      "\n",
      "image 1/1 /datasets/tdt4265/other/rbk/1_train-val_1min_aalesund_from_start/img1/000352.jpg: 1088x1920 22 players, 2.3ms\n",
      "Speed: 2.4ms preprocess, 2.3ms inference, 0.5ms postprocess per image at shape (1, 3, 1088, 1920)\n",
      "\n",
      "image 1/1 /datasets/tdt4265/other/rbk/1_train-val_1min_aalesund_from_start/img1/000353.jpg: 1088x1920 22 players, 2.5ms\n",
      "Speed: 2.4ms preprocess, 2.5ms inference, 0.5ms postprocess per image at shape (1, 3, 1088, 1920)\n",
      "\n",
      "image 1/1 /datasets/tdt4265/other/rbk/1_train-val_1min_aalesund_from_start/img1/000354.jpg: 1088x1920 22 players, 2.4ms\n",
      "Speed: 2.5ms preprocess, 2.4ms inference, 1.1ms postprocess per image at shape (1, 3, 1088, 1920)\n",
      "\n",
      "image 1/1 /datasets/tdt4265/other/rbk/1_train-val_1min_aalesund_from_start/img1/000355.jpg: 1088x1920 22 players, 2.3ms\n",
      "Speed: 2.5ms preprocess, 2.3ms inference, 0.5ms postprocess per image at shape (1, 3, 1088, 1920)\n",
      "\n",
      "image 1/1 /datasets/tdt4265/other/rbk/1_train-val_1min_aalesund_from_start/img1/000356.jpg: 1088x1920 22 players, 2.3ms\n",
      "Speed: 2.4ms preprocess, 2.3ms inference, 0.8ms postprocess per image at shape (1, 3, 1088, 1920)\n",
      "\n",
      "image 1/1 /datasets/tdt4265/other/rbk/1_train-val_1min_aalesund_from_start/img1/000357.jpg: 1088x1920 22 players, 2.4ms\n",
      "Speed: 2.4ms preprocess, 2.4ms inference, 0.5ms postprocess per image at shape (1, 3, 1088, 1920)\n",
      "\n",
      "image 1/1 /datasets/tdt4265/other/rbk/1_train-val_1min_aalesund_from_start/img1/000358.jpg: 1088x1920 22 players, 2.4ms\n",
      "Speed: 2.4ms preprocess, 2.4ms inference, 0.5ms postprocess per image at shape (1, 3, 1088, 1920)\n",
      "\n",
      "image 1/1 /datasets/tdt4265/other/rbk/1_train-val_1min_aalesund_from_start/img1/000359.jpg: 1088x1920 22 players, 2.4ms\n",
      "Speed: 2.5ms preprocess, 2.4ms inference, 0.5ms postprocess per image at shape (1, 3, 1088, 1920)\n",
      "\n",
      "image 1/1 /datasets/tdt4265/other/rbk/1_train-val_1min_aalesund_from_start/img1/000360.jpg: 1088x1920 22 players, 2.6ms\n",
      "Speed: 2.4ms preprocess, 2.6ms inference, 0.8ms postprocess per image at shape (1, 3, 1088, 1920)\n",
      "\n",
      "image 1/1 /datasets/tdt4265/other/rbk/1_train-val_1min_aalesund_from_start/img1/000361.jpg: 1088x1920 22 players, 2.3ms\n",
      "Speed: 2.4ms preprocess, 2.3ms inference, 0.9ms postprocess per image at shape (1, 3, 1088, 1920)\n",
      "\n",
      "image 1/1 /datasets/tdt4265/other/rbk/1_train-val_1min_aalesund_from_start/img1/000362.jpg: 1088x1920 22 players, 2.3ms\n",
      "Speed: 2.4ms preprocess, 2.3ms inference, 0.5ms postprocess per image at shape (1, 3, 1088, 1920)\n",
      "\n",
      "image 1/1 /datasets/tdt4265/other/rbk/1_train-val_1min_aalesund_from_start/img1/000363.jpg: 1088x1920 22 players, 2.4ms\n",
      "Speed: 2.4ms preprocess, 2.4ms inference, 0.5ms postprocess per image at shape (1, 3, 1088, 1920)\n",
      "\n",
      "image 1/1 /datasets/tdt4265/other/rbk/1_train-val_1min_aalesund_from_start/img1/000364.jpg: 1088x1920 22 players, 2.4ms\n",
      "Speed: 2.4ms preprocess, 2.4ms inference, 0.5ms postprocess per image at shape (1, 3, 1088, 1920)\n",
      "\n",
      "image 1/1 /datasets/tdt4265/other/rbk/1_train-val_1min_aalesund_from_start/img1/000365.jpg: 1088x1920 22 players, 2.4ms\n",
      "Speed: 2.3ms preprocess, 2.4ms inference, 0.6ms postprocess per image at shape (1, 3, 1088, 1920)\n",
      "\n",
      "image 1/1 /datasets/tdt4265/other/rbk/1_train-val_1min_aalesund_from_start/img1/000366.jpg: 1088x1920 22 players, 2.6ms\n",
      "Speed: 2.4ms preprocess, 2.6ms inference, 0.8ms postprocess per image at shape (1, 3, 1088, 1920)\n",
      "\n",
      "image 1/1 /datasets/tdt4265/other/rbk/1_train-val_1min_aalesund_from_start/img1/000367.jpg: 1088x1920 22 players, 2.3ms\n",
      "Speed: 2.4ms preprocess, 2.3ms inference, 0.6ms postprocess per image at shape (1, 3, 1088, 1920)\n",
      "\n",
      "image 1/1 /datasets/tdt4265/other/rbk/1_train-val_1min_aalesund_from_start/img1/000368.jpg: 1088x1920 22 players, 2.3ms\n",
      "Speed: 2.3ms preprocess, 2.3ms inference, 0.5ms postprocess per image at shape (1, 3, 1088, 1920)\n",
      "\n",
      "image 1/1 /datasets/tdt4265/other/rbk/1_train-val_1min_aalesund_from_start/img1/000369.jpg: 1088x1920 22 players, 2.5ms\n",
      "Speed: 2.4ms preprocess, 2.5ms inference, 0.6ms postprocess per image at shape (1, 3, 1088, 1920)\n",
      "\n",
      "image 1/1 /datasets/tdt4265/other/rbk/1_train-val_1min_aalesund_from_start/img1/000370.jpg: 1088x1920 22 players, 2.8ms\n",
      "Speed: 2.6ms preprocess, 2.8ms inference, 0.6ms postprocess per image at shape (1, 3, 1088, 1920)\n",
      "\n",
      "image 1/1 /datasets/tdt4265/other/rbk/1_train-val_1min_aalesund_from_start/img1/000371.jpg: 1088x1920 22 players, 2.4ms\n",
      "Speed: 2.2ms preprocess, 2.4ms inference, 0.5ms postprocess per image at shape (1, 3, 1088, 1920)\n",
      "\n",
      "image 1/1 /datasets/tdt4265/other/rbk/1_train-val_1min_aalesund_from_start/img1/000372.jpg: 1088x1920 22 players, 2.5ms\n",
      "Speed: 2.4ms preprocess, 2.5ms inference, 0.5ms postprocess per image at shape (1, 3, 1088, 1920)\n",
      "\n",
      "image 1/1 /datasets/tdt4265/other/rbk/1_train-val_1min_aalesund_from_start/img1/000373.jpg: 1088x1920 22 players, 2.3ms\n",
      "Speed: 2.5ms preprocess, 2.3ms inference, 0.5ms postprocess per image at shape (1, 3, 1088, 1920)\n",
      "\n",
      "image 1/1 /datasets/tdt4265/other/rbk/1_train-val_1min_aalesund_from_start/img1/000374.jpg: 1088x1920 22 players, 2.4ms\n",
      "Speed: 2.4ms preprocess, 2.4ms inference, 1.0ms postprocess per image at shape (1, 3, 1088, 1920)\n",
      "\n",
      "image 1/1 /datasets/tdt4265/other/rbk/1_train-val_1min_aalesund_from_start/img1/000375.jpg: 1088x1920 22 players, 2.5ms\n",
      "Speed: 2.6ms preprocess, 2.5ms inference, 0.5ms postprocess per image at shape (1, 3, 1088, 1920)\n",
      "\n",
      "image 1/1 /datasets/tdt4265/other/rbk/1_train-val_1min_aalesund_from_start/img1/000376.jpg: 1088x1920 22 players, 2.3ms\n",
      "Speed: 2.2ms preprocess, 2.3ms inference, 0.5ms postprocess per image at shape (1, 3, 1088, 1920)\n",
      "\n",
      "image 1/1 /datasets/tdt4265/other/rbk/1_train-val_1min_aalesund_from_start/img1/000377.jpg: 1088x1920 22 players, 2.3ms\n",
      "Speed: 2.4ms preprocess, 2.3ms inference, 0.7ms postprocess per image at shape (1, 3, 1088, 1920)\n",
      "\n",
      "image 1/1 /datasets/tdt4265/other/rbk/1_train-val_1min_aalesund_from_start/img1/000378.jpg: 1088x1920 22 players, 2.6ms\n"
     ]
    }
   ],
   "source": [
    "# Iterere over hver frame og bruk track metoden\n",
    "for frame_path in frame_paths:\n",
    "    # model.track kan være en generator, så vi bruker en løkke for å hente resultatene\n",
    "    for result in model_combined.track(frame_path, persist=True, stream=True, line_width=1):\n",
    "        annotated_frame = result.plot(font_size=1, line_width=1)\n",
    "        cv2.imshow('frame', annotated_frame)\n",
    "        # Vent på et tastetrykk i 1 millisekund og sjekk om det er 'ESC'\n",
    "        key = cv2.waitKey(1) & 0xFF\n",
    "        if key == 27:  # 27 er ASCII-verdien for 'ESC'\n",
    "            break\n",
    "\n",
    "    if key == 27:  # Kontroller igjen om 'ESC' ble trykket for å bryte ut av den ytre løkken\n",
    "        break\n",
    "\n",
    "cv2.destroyAllWindows()  # Lukker alle OpenCV-vinduene"
   ]
  },
  {
   "cell_type": "code",
   "execution_count": 9,
   "metadata": {},
   "outputs": [
    {
     "name": "stdout",
     "output_type": "stream",
     "text": [
      "\n",
      "image 1/1 /datasets/tdt4265/other/rbk/1_train-val_1min_aalesund_from_start/img1/000001.jpg: 1088x1920 22 players, 2.5ms\n",
      "\n",
      "image 1/1 /datasets/tdt4265/other/rbk/1_train-val_1min_aalesund_from_start/img1/000001.jpg: 1088x1920 1 ball, 2.5ms\n",
      "Speed: 3.0ms preprocess, 2.5ms inference, 0.5ms postprocess per image at shape (1, 3, 1088, 1920)\n",
      "\n",
      "image 1/1 /datasets/tdt4265/other/rbk/1_train-val_1min_aalesund_from_start/img1/000002.jpg: 1088x1920 22 players, 2.4ms\n",
      "\n",
      "image 1/1 /datasets/tdt4265/other/rbk/1_train-val_1min_aalesund_from_start/img1/000002.jpg: 1088x1920 1 ball, 2.3ms\n",
      "Speed: 4.4ms preprocess, 2.4ms inference, 0.5ms postprocess per image at shape (1, 3, 1088, 1920)\n",
      "\n",
      "image 1/1 /datasets/tdt4265/other/rbk/1_train-val_1min_aalesund_from_start/img1/000003.jpg: 1088x1920 22 players, 2.4ms\n",
      "\n",
      "image 1/1 /datasets/tdt4265/other/rbk/1_train-val_1min_aalesund_from_start/img1/000003.jpg: 1088x1920 1 ball, 2.6ms\n",
      "Speed: 3.1ms preprocess, 2.4ms inference, 0.6ms postprocess per image at shape (1, 3, 1088, 1920)\n",
      "\n",
      "image 1/1 /datasets/tdt4265/other/rbk/1_train-val_1min_aalesund_from_start/img1/000004.jpg: 1088x1920 22 players, 2.4ms\n",
      "\n",
      "image 1/1 /datasets/tdt4265/other/rbk/1_train-val_1min_aalesund_from_start/img1/000004.jpg: 1088x1920 1 ball, 2.6ms\n",
      "Speed: 4.2ms preprocess, 2.4ms inference, 0.5ms postprocess per image at shape (1, 3, 1088, 1920)\n",
      "\n",
      "image 1/1 /datasets/tdt4265/other/rbk/1_train-val_1min_aalesund_from_start/img1/000005.jpg: 1088x1920 22 players, 2.4ms\n",
      "\n",
      "image 1/1 /datasets/tdt4265/other/rbk/1_train-val_1min_aalesund_from_start/img1/000005.jpg: 1088x1920 1 ball, 2.4ms\n",
      "Speed: 3.3ms preprocess, 2.4ms inference, 0.6ms postprocess per image at shape (1, 3, 1088, 1920)\n",
      "\n",
      "image 1/1 /datasets/tdt4265/other/rbk/1_train-val_1min_aalesund_from_start/img1/000006.jpg: 1088x1920 22 players, 2.4ms\n",
      "\n",
      "image 1/1 /datasets/tdt4265/other/rbk/1_train-val_1min_aalesund_from_start/img1/000006.jpg: 1088x1920 1 ball, 2.5ms\n",
      "Speed: 3.3ms preprocess, 2.4ms inference, 0.6ms postprocess per image at shape (1, 3, 1088, 1920)\n",
      "\n",
      "image 1/1 /datasets/tdt4265/other/rbk/1_train-val_1min_aalesund_from_start/img1/000007.jpg: 1088x1920 22 players, 2.6ms\n",
      "\n",
      "image 1/1 /datasets/tdt4265/other/rbk/1_train-val_1min_aalesund_from_start/img1/000007.jpg: 1088x1920 1 ball, 2.4ms\n",
      "Speed: 3.3ms preprocess, 2.6ms inference, 0.8ms postprocess per image at shape (1, 3, 1088, 1920)\n",
      "\n",
      "image 1/1 /datasets/tdt4265/other/rbk/1_train-val_1min_aalesund_from_start/img1/000008.jpg: 1088x1920 22 players, 2.5ms\n",
      "\n",
      "image 1/1 /datasets/tdt4265/other/rbk/1_train-val_1min_aalesund_from_start/img1/000008.jpg: 1088x1920 1 ball, 2.4ms\n",
      "Speed: 4.3ms preprocess, 2.5ms inference, 0.7ms postprocess per image at shape (1, 3, 1088, 1920)\n",
      "\n",
      "image 1/1 /datasets/tdt4265/other/rbk/1_train-val_1min_aalesund_from_start/img1/000009.jpg: 1088x1920 22 players, 2.5ms\n",
      "\n",
      "image 1/1 /datasets/tdt4265/other/rbk/1_train-val_1min_aalesund_from_start/img1/000009.jpg: 1088x1920 1 ball, 2.5ms\n",
      "Speed: 3.3ms preprocess, 2.5ms inference, 0.6ms postprocess per image at shape (1, 3, 1088, 1920)\n",
      "\n",
      "image 1/1 /datasets/tdt4265/other/rbk/1_train-val_1min_aalesund_from_start/img1/000010.jpg: 1088x1920 22 players, 2.4ms\n",
      "\n",
      "image 1/1 /datasets/tdt4265/other/rbk/1_train-val_1min_aalesund_from_start/img1/000010.jpg: 1088x1920 1 ball, 2.4ms\n",
      "Speed: 3.3ms preprocess, 2.4ms inference, 0.5ms postprocess per image at shape (1, 3, 1088, 1920)\n",
      "\n",
      "image 1/1 /datasets/tdt4265/other/rbk/1_train-val_1min_aalesund_from_start/img1/000011.jpg: 1088x1920 22 players, 2.4ms\n",
      "\n",
      "image 1/1 /datasets/tdt4265/other/rbk/1_train-val_1min_aalesund_from_start/img1/000011.jpg: 1088x1920 1 ball, 2.5ms\n",
      "Speed: 3.3ms preprocess, 2.4ms inference, 0.6ms postprocess per image at shape (1, 3, 1088, 1920)\n",
      "\n",
      "image 1/1 /datasets/tdt4265/other/rbk/1_train-val_1min_aalesund_from_start/img1/000012.jpg: 1088x1920 22 players, 2.5ms\n",
      "\n",
      "image 1/1 /datasets/tdt4265/other/rbk/1_train-val_1min_aalesund_from_start/img1/000012.jpg: 1088x1920 1 ball, 2.4ms\n",
      "Speed: 3.2ms preprocess, 2.5ms inference, 0.7ms postprocess per image at shape (1, 3, 1088, 1920)\n",
      "\n",
      "image 1/1 /datasets/tdt4265/other/rbk/1_train-val_1min_aalesund_from_start/img1/000013.jpg: 1088x1920 22 players, 2.6ms\n",
      "\n",
      "image 1/1 /datasets/tdt4265/other/rbk/1_train-val_1min_aalesund_from_start/img1/000013.jpg: 1088x1920 1 ball, 2.3ms\n",
      "Speed: 3.3ms preprocess, 2.6ms inference, 0.8ms postprocess per image at shape (1, 3, 1088, 1920)\n",
      "\n",
      "image 1/1 /datasets/tdt4265/other/rbk/1_train-val_1min_aalesund_from_start/img1/000014.jpg: 1088x1920 22 players, 2.4ms\n",
      "\n",
      "image 1/1 /datasets/tdt4265/other/rbk/1_train-val_1min_aalesund_from_start/img1/000014.jpg: 1088x1920 1 ball, 2.7ms\n",
      "Speed: 3.3ms preprocess, 2.4ms inference, 0.6ms postprocess per image at shape (1, 3, 1088, 1920)\n",
      "\n",
      "image 1/1 /datasets/tdt4265/other/rbk/1_train-val_1min_aalesund_from_start/img1/000015.jpg: 1088x1920 22 players, 2.4ms\n",
      "\n",
      "image 1/1 /datasets/tdt4265/other/rbk/1_train-val_1min_aalesund_from_start/img1/000015.jpg: 1088x1920 1 ball, 2.5ms\n",
      "Speed: 3.3ms preprocess, 2.4ms inference, 0.5ms postprocess per image at shape (1, 3, 1088, 1920)\n",
      "\n",
      "image 1/1 /datasets/tdt4265/other/rbk/1_train-val_1min_aalesund_from_start/img1/000016.jpg: 1088x1920 22 players, 2.4ms\n",
      "\n",
      "image 1/1 /datasets/tdt4265/other/rbk/1_train-val_1min_aalesund_from_start/img1/000016.jpg: 1088x1920 1 ball, 2.3ms\n",
      "Speed: 3.3ms preprocess, 2.4ms inference, 0.8ms postprocess per image at shape (1, 3, 1088, 1920)\n",
      "\n",
      "image 1/1 /datasets/tdt4265/other/rbk/1_train-val_1min_aalesund_from_start/img1/000017.jpg: 1088x1920 22 players, 2.5ms\n",
      "\n",
      "image 1/1 /datasets/tdt4265/other/rbk/1_train-val_1min_aalesund_from_start/img1/000017.jpg: 1088x1920 1 ball, 2.3ms\n",
      "Speed: 3.3ms preprocess, 2.5ms inference, 0.5ms postprocess per image at shape (1, 3, 1088, 1920)\n",
      "\n",
      "image 1/1 /datasets/tdt4265/other/rbk/1_train-val_1min_aalesund_from_start/img1/000018.jpg: 1088x1920 22 players, 2.5ms\n",
      "\n",
      "image 1/1 /datasets/tdt4265/other/rbk/1_train-val_1min_aalesund_from_start/img1/000018.jpg: 1088x1920 1 ball, 2.5ms\n",
      "Speed: 3.4ms preprocess, 2.5ms inference, 0.5ms postprocess per image at shape (1, 3, 1088, 1920)\n",
      "\n",
      "image 1/1 /datasets/tdt4265/other/rbk/1_train-val_1min_aalesund_from_start/img1/000019.jpg: 1088x1920 22 players, 2.4ms\n",
      "\n",
      "image 1/1 /datasets/tdt4265/other/rbk/1_train-val_1min_aalesund_from_start/img1/000019.jpg: 1088x1920 1 ball, 2.3ms\n",
      "Speed: 2.6ms preprocess, 2.4ms inference, 0.6ms postprocess per image at shape (1, 3, 1088, 1920)\n",
      "\n",
      "image 1/1 /datasets/tdt4265/other/rbk/1_train-val_1min_aalesund_from_start/img1/000020.jpg: 1088x1920 22 players, 2.4ms\n",
      "\n",
      "image 1/1 /datasets/tdt4265/other/rbk/1_train-val_1min_aalesund_from_start/img1/000020.jpg: 1088x1920 1 ball, 2.5ms\n",
      "Speed: 3.2ms preprocess, 2.4ms inference, 0.5ms postprocess per image at shape (1, 3, 1088, 1920)\n",
      "\n",
      "image 1/1 /datasets/tdt4265/other/rbk/1_train-val_1min_aalesund_from_start/img1/000021.jpg: 1088x1920 22 players, 2.4ms\n",
      "\n",
      "image 1/1 /datasets/tdt4265/other/rbk/1_train-val_1min_aalesund_from_start/img1/000021.jpg: 1088x1920 1 ball, 2.3ms\n",
      "Speed: 4.5ms preprocess, 2.4ms inference, 0.5ms postprocess per image at shape (1, 3, 1088, 1920)\n",
      "\n",
      "image 1/1 /datasets/tdt4265/other/rbk/1_train-val_1min_aalesund_from_start/img1/000022.jpg: 1088x1920 22 players, 2.4ms\n",
      "\n",
      "image 1/1 /datasets/tdt4265/other/rbk/1_train-val_1min_aalesund_from_start/img1/000022.jpg: 1088x1920 1 ball, 2.5ms\n",
      "Speed: 3.2ms preprocess, 2.4ms inference, 0.5ms postprocess per image at shape (1, 3, 1088, 1920)\n",
      "\n",
      "image 1/1 /datasets/tdt4265/other/rbk/1_train-val_1min_aalesund_from_start/img1/000023.jpg: 1088x1920 22 players, 2.5ms\n",
      "\n",
      "image 1/1 /datasets/tdt4265/other/rbk/1_train-val_1min_aalesund_from_start/img1/000023.jpg: 1088x1920 1 ball, 2.5ms\n",
      "Speed: 4.3ms preprocess, 2.5ms inference, 0.6ms postprocess per image at shape (1, 3, 1088, 1920)\n",
      "\n",
      "image 1/1 /datasets/tdt4265/other/rbk/1_train-val_1min_aalesund_from_start/img1/000024.jpg: 1088x1920 22 players, 2.4ms\n",
      "\n",
      "image 1/1 /datasets/tdt4265/other/rbk/1_train-val_1min_aalesund_from_start/img1/000024.jpg: 1088x1920 1 ball, 2.3ms\n",
      "Speed: 3.3ms preprocess, 2.4ms inference, 0.7ms postprocess per image at shape (1, 3, 1088, 1920)\n",
      "\n",
      "image 1/1 /datasets/tdt4265/other/rbk/1_train-val_1min_aalesund_from_start/img1/000025.jpg: 1088x1920 22 players, 2.4ms\n",
      "\n",
      "image 1/1 /datasets/tdt4265/other/rbk/1_train-val_1min_aalesund_from_start/img1/000025.jpg: 1088x1920 1 ball, 2.3ms\n",
      "Speed: 3.3ms preprocess, 2.4ms inference, 0.5ms postprocess per image at shape (1, 3, 1088, 1920)\n",
      "\n",
      "image 1/1 /datasets/tdt4265/other/rbk/1_train-val_1min_aalesund_from_start/img1/000026.jpg: 1088x1920 22 players, 2.4ms\n",
      "\n",
      "image 1/1 /datasets/tdt4265/other/rbk/1_train-val_1min_aalesund_from_start/img1/000026.jpg: 1088x1920 1 ball, 2.3ms\n",
      "Speed: 3.3ms preprocess, 2.4ms inference, 0.5ms postprocess per image at shape (1, 3, 1088, 1920)\n",
      "\n",
      "image 1/1 /datasets/tdt4265/other/rbk/1_train-val_1min_aalesund_from_start/img1/000027.jpg: 1088x1920 22 players, 2.4ms\n",
      "\n",
      "image 1/1 /datasets/tdt4265/other/rbk/1_train-val_1min_aalesund_from_start/img1/000027.jpg: 1088x1920 1 ball, 2.3ms\n",
      "Speed: 3.3ms preprocess, 2.4ms inference, 0.7ms postprocess per image at shape (1, 3, 1088, 1920)\n",
      "\n",
      "image 1/1 /datasets/tdt4265/other/rbk/1_train-val_1min_aalesund_from_start/img1/000028.jpg: 1088x1920 22 players, 2.4ms\n",
      "\n",
      "image 1/1 /datasets/tdt4265/other/rbk/1_train-val_1min_aalesund_from_start/img1/000028.jpg: 1088x1920 1 ball, 2.3ms\n",
      "Speed: 3.3ms preprocess, 2.4ms inference, 0.5ms postprocess per image at shape (1, 3, 1088, 1920)\n",
      "\n",
      "image 1/1 /datasets/tdt4265/other/rbk/1_train-val_1min_aalesund_from_start/img1/000029.jpg: 1088x1920 22 players, 2.4ms\n",
      "\n",
      "image 1/1 /datasets/tdt4265/other/rbk/1_train-val_1min_aalesund_from_start/img1/000029.jpg: 1088x1920 1 ball, 2.5ms\n",
      "Speed: 3.2ms preprocess, 2.4ms inference, 0.5ms postprocess per image at shape (1, 3, 1088, 1920)\n",
      "\n",
      "image 1/1 /datasets/tdt4265/other/rbk/1_train-val_1min_aalesund_from_start/img1/000030.jpg: 1088x1920 22 players, 2.6ms\n",
      "\n",
      "image 1/1 /datasets/tdt4265/other/rbk/1_train-val_1min_aalesund_from_start/img1/000030.jpg: 1088x1920 1 ball, 2.4ms\n",
      "Speed: 3.3ms preprocess, 2.6ms inference, 0.6ms postprocess per image at shape (1, 3, 1088, 1920)\n",
      "\n",
      "image 1/1 /datasets/tdt4265/other/rbk/1_train-val_1min_aalesund_from_start/img1/000031.jpg: 1088x1920 22 players, 2.4ms\n",
      "\n",
      "image 1/1 /datasets/tdt4265/other/rbk/1_train-val_1min_aalesund_from_start/img1/000031.jpg: 1088x1920 1 ball, 2.3ms\n",
      "Speed: 3.3ms preprocess, 2.4ms inference, 1.0ms postprocess per image at shape (1, 3, 1088, 1920)\n",
      "\n",
      "image 1/1 /datasets/tdt4265/other/rbk/1_train-val_1min_aalesund_from_start/img1/000032.jpg: 1088x1920 22 players, 2.5ms\n",
      "\n",
      "image 1/1 /datasets/tdt4265/other/rbk/1_train-val_1min_aalesund_from_start/img1/000032.jpg: 1088x1920 1 ball, 2.6ms\n",
      "Speed: 3.2ms preprocess, 2.5ms inference, 0.5ms postprocess per image at shape (1, 3, 1088, 1920)\n",
      "\n",
      "image 1/1 /datasets/tdt4265/other/rbk/1_train-val_1min_aalesund_from_start/img1/000033.jpg: 1088x1920 22 players, 2.4ms\n",
      "\n",
      "image 1/1 /datasets/tdt4265/other/rbk/1_train-val_1min_aalesund_from_start/img1/000033.jpg: 1088x1920 1 ball, 2.6ms\n",
      "Speed: 3.4ms preprocess, 2.4ms inference, 0.5ms postprocess per image at shape (1, 3, 1088, 1920)\n",
      "\n",
      "image 1/1 /datasets/tdt4265/other/rbk/1_train-val_1min_aalesund_from_start/img1/000034.jpg: 1088x1920 22 players, 2.4ms\n",
      "\n",
      "image 1/1 /datasets/tdt4265/other/rbk/1_train-val_1min_aalesund_from_start/img1/000034.jpg: 1088x1920 1 ball, 2.3ms\n",
      "Speed: 3.3ms preprocess, 2.4ms inference, 0.6ms postprocess per image at shape (1, 3, 1088, 1920)\n",
      "\n",
      "image 1/1 /datasets/tdt4265/other/rbk/1_train-val_1min_aalesund_from_start/img1/000035.jpg: 1088x1920 22 players, 2.4ms\n",
      "\n",
      "image 1/1 /datasets/tdt4265/other/rbk/1_train-val_1min_aalesund_from_start/img1/000035.jpg: 1088x1920 1 ball, 2.4ms\n",
      "Speed: 3.3ms preprocess, 2.4ms inference, 0.5ms postprocess per image at shape (1, 3, 1088, 1920)\n",
      "\n",
      "image 1/1 /datasets/tdt4265/other/rbk/1_train-val_1min_aalesund_from_start/img1/000036.jpg: 1088x1920 22 players, 2.4ms\n",
      "\n",
      "image 1/1 /datasets/tdt4265/other/rbk/1_train-val_1min_aalesund_from_start/img1/000036.jpg: 1088x1920 1 ball, 2.6ms\n",
      "Speed: 3.3ms preprocess, 2.4ms inference, 0.5ms postprocess per image at shape (1, 3, 1088, 1920)\n",
      "\n",
      "image 1/1 /datasets/tdt4265/other/rbk/1_train-val_1min_aalesund_from_start/img1/000037.jpg: 1088x1920 22 players, 2.5ms\n",
      "\n",
      "image 1/1 /datasets/tdt4265/other/rbk/1_train-val_1min_aalesund_from_start/img1/000037.jpg: 1088x1920 1 ball, 2.3ms\n",
      "Speed: 3.2ms preprocess, 2.5ms inference, 0.8ms postprocess per image at shape (1, 3, 1088, 1920)\n",
      "\n",
      "image 1/1 /datasets/tdt4265/other/rbk/1_train-val_1min_aalesund_from_start/img1/000038.jpg: 1088x1920 22 players, 2.4ms\n",
      "\n",
      "image 1/1 /datasets/tdt4265/other/rbk/1_train-val_1min_aalesund_from_start/img1/000038.jpg: 1088x1920 1 ball, 2.3ms\n",
      "Speed: 3.3ms preprocess, 2.4ms inference, 0.8ms postprocess per image at shape (1, 3, 1088, 1920)\n",
      "\n",
      "image 1/1 /datasets/tdt4265/other/rbk/1_train-val_1min_aalesund_from_start/img1/000039.jpg: 1088x1920 22 players, 2.4ms\n",
      "\n",
      "image 1/1 /datasets/tdt4265/other/rbk/1_train-val_1min_aalesund_from_start/img1/000039.jpg: 1088x1920 1 ball, 2.6ms\n",
      "Speed: 3.2ms preprocess, 2.4ms inference, 0.5ms postprocess per image at shape (1, 3, 1088, 1920)\n",
      "\n",
      "image 1/1 /datasets/tdt4265/other/rbk/1_train-val_1min_aalesund_from_start/img1/000040.jpg: 1088x1920 22 players, 2.5ms\n",
      "\n",
      "image 1/1 /datasets/tdt4265/other/rbk/1_train-val_1min_aalesund_from_start/img1/000040.jpg: 1088x1920 1 ball, 2.5ms\n",
      "Speed: 3.3ms preprocess, 2.5ms inference, 0.5ms postprocess per image at shape (1, 3, 1088, 1920)\n",
      "\n",
      "image 1/1 /datasets/tdt4265/other/rbk/1_train-val_1min_aalesund_from_start/img1/000041.jpg: 1088x1920 22 players, 2.4ms\n",
      "\n",
      "image 1/1 /datasets/tdt4265/other/rbk/1_train-val_1min_aalesund_from_start/img1/000041.jpg: 1088x1920 1 ball, 2.3ms\n",
      "Speed: 3.5ms preprocess, 2.4ms inference, 0.5ms postprocess per image at shape (1, 3, 1088, 1920)\n",
      "\n",
      "image 1/1 /datasets/tdt4265/other/rbk/1_train-val_1min_aalesund_from_start/img1/000042.jpg: 1088x1920 22 players, 2.4ms\n",
      "\n",
      "image 1/1 /datasets/tdt4265/other/rbk/1_train-val_1min_aalesund_from_start/img1/000042.jpg: 1088x1920 1 ball, 2.4ms\n",
      "Speed: 3.3ms preprocess, 2.4ms inference, 0.6ms postprocess per image at shape (1, 3, 1088, 1920)\n",
      "\n",
      "image 1/1 /datasets/tdt4265/other/rbk/1_train-val_1min_aalesund_from_start/img1/000043.jpg: 1088x1920 22 players, 2.4ms\n",
      "\n",
      "image 1/1 /datasets/tdt4265/other/rbk/1_train-val_1min_aalesund_from_start/img1/000043.jpg: 1088x1920 1 ball, 2.5ms\n",
      "Speed: 3.3ms preprocess, 2.4ms inference, 0.5ms postprocess per image at shape (1, 3, 1088, 1920)\n",
      "\n",
      "image 1/1 /datasets/tdt4265/other/rbk/1_train-val_1min_aalesund_from_start/img1/000044.jpg: 1088x1920 22 players, 2.8ms\n",
      "\n",
      "image 1/1 /datasets/tdt4265/other/rbk/1_train-val_1min_aalesund_from_start/img1/000044.jpg: 1088x1920 1 ball, 2.5ms\n",
      "Speed: 3.3ms preprocess, 2.8ms inference, 0.5ms postprocess per image at shape (1, 3, 1088, 1920)\n",
      "\n",
      "image 1/1 /datasets/tdt4265/other/rbk/1_train-val_1min_aalesund_from_start/img1/000045.jpg: 1088x1920 22 players, 2.8ms\n",
      "\n",
      "image 1/1 /datasets/tdt4265/other/rbk/1_train-val_1min_aalesund_from_start/img1/000045.jpg: 1088x1920 1 ball, 2.3ms\n",
      "Speed: 3.3ms preprocess, 2.8ms inference, 0.5ms postprocess per image at shape (1, 3, 1088, 1920)\n",
      "\n",
      "image 1/1 /datasets/tdt4265/other/rbk/1_train-val_1min_aalesund_from_start/img1/000046.jpg: 1088x1920 22 players, 2.4ms\n",
      "\n",
      "image 1/1 /datasets/tdt4265/other/rbk/1_train-val_1min_aalesund_from_start/img1/000046.jpg: 1088x1920 1 ball, 2.3ms\n",
      "Speed: 3.2ms preprocess, 2.4ms inference, 0.5ms postprocess per image at shape (1, 3, 1088, 1920)\n",
      "\n",
      "image 1/1 /datasets/tdt4265/other/rbk/1_train-val_1min_aalesund_from_start/img1/000047.jpg: 1088x1920 22 players, 2.4ms\n",
      "\n",
      "image 1/1 /datasets/tdt4265/other/rbk/1_train-val_1min_aalesund_from_start/img1/000047.jpg: 1088x1920 1 ball, 2.6ms\n",
      "Speed: 3.3ms preprocess, 2.4ms inference, 0.5ms postprocess per image at shape (1, 3, 1088, 1920)\n",
      "\n",
      "image 1/1 /datasets/tdt4265/other/rbk/1_train-val_1min_aalesund_from_start/img1/000048.jpg: 1088x1920 22 players, 2.5ms\n",
      "\n",
      "image 1/1 /datasets/tdt4265/other/rbk/1_train-val_1min_aalesund_from_start/img1/000048.jpg: 1088x1920 1 ball, 2.6ms\n",
      "Speed: 3.3ms preprocess, 2.5ms inference, 0.6ms postprocess per image at shape (1, 3, 1088, 1920)\n",
      "\n",
      "image 1/1 /datasets/tdt4265/other/rbk/1_train-val_1min_aalesund_from_start/img1/000049.jpg: 1088x1920 22 players, 2.6ms\n",
      "\n",
      "image 1/1 /datasets/tdt4265/other/rbk/1_train-val_1min_aalesund_from_start/img1/000049.jpg: 1088x1920 1 ball, 2.3ms\n",
      "Speed: 3.4ms preprocess, 2.6ms inference, 0.8ms postprocess per image at shape (1, 3, 1088, 1920)\n",
      "\n",
      "image 1/1 /datasets/tdt4265/other/rbk/1_train-val_1min_aalesund_from_start/img1/000050.jpg: 1088x1920 22 players, 2.4ms\n",
      "\n",
      "image 1/1 /datasets/tdt4265/other/rbk/1_train-val_1min_aalesund_from_start/img1/000050.jpg: 1088x1920 1 ball, 2.3ms\n",
      "Speed: 3.2ms preprocess, 2.4ms inference, 0.5ms postprocess per image at shape (1, 3, 1088, 1920)\n",
      "\n",
      "image 1/1 /datasets/tdt4265/other/rbk/1_train-val_1min_aalesund_from_start/img1/000051.jpg: 1088x1920 22 players, 2.4ms\n",
      "\n",
      "image 1/1 /datasets/tdt4265/other/rbk/1_train-val_1min_aalesund_from_start/img1/000051.jpg: 1088x1920 1 ball, 2.5ms\n",
      "Speed: 3.2ms preprocess, 2.4ms inference, 0.5ms postprocess per image at shape (1, 3, 1088, 1920)\n",
      "\n",
      "image 1/1 /datasets/tdt4265/other/rbk/1_train-val_1min_aalesund_from_start/img1/000052.jpg: 1088x1920 22 players, 2.6ms\n",
      "\n",
      "image 1/1 /datasets/tdt4265/other/rbk/1_train-val_1min_aalesund_from_start/img1/000052.jpg: 1088x1920 1 ball, 2.6ms\n",
      "Speed: 2.4ms preprocess, 2.6ms inference, 0.6ms postprocess per image at shape (1, 3, 1088, 1920)\n",
      "\n",
      "image 1/1 /datasets/tdt4265/other/rbk/1_train-val_1min_aalesund_from_start/img1/000053.jpg: 1088x1920 22 players, 2.6ms\n",
      "\n",
      "image 1/1 /datasets/tdt4265/other/rbk/1_train-val_1min_aalesund_from_start/img1/000053.jpg: 1088x1920 1 ball, 2.9ms\n",
      "Speed: 4.3ms preprocess, 2.6ms inference, 0.6ms postprocess per image at shape (1, 3, 1088, 1920)\n",
      "\n",
      "image 1/1 /datasets/tdt4265/other/rbk/1_train-val_1min_aalesund_from_start/img1/000054.jpg: 1088x1920 22 players, 2.7ms\n",
      "\n",
      "image 1/1 /datasets/tdt4265/other/rbk/1_train-val_1min_aalesund_from_start/img1/000054.jpg: 1088x1920 1 ball, 2.3ms\n",
      "Speed: 3.3ms preprocess, 2.7ms inference, 0.7ms postprocess per image at shape (1, 3, 1088, 1920)\n",
      "\n",
      "image 1/1 /datasets/tdt4265/other/rbk/1_train-val_1min_aalesund_from_start/img1/000055.jpg: 1088x1920 22 players, 2.5ms\n",
      "\n",
      "image 1/1 /datasets/tdt4265/other/rbk/1_train-val_1min_aalesund_from_start/img1/000055.jpg: 1088x1920 1 ball, 2.3ms\n",
      "Speed: 3.3ms preprocess, 2.5ms inference, 0.8ms postprocess per image at shape (1, 3, 1088, 1920)\n",
      "\n",
      "image 1/1 /datasets/tdt4265/other/rbk/1_train-val_1min_aalesund_from_start/img1/000056.jpg: 1088x1920 22 players, 2.4ms\n",
      "\n",
      "image 1/1 /datasets/tdt4265/other/rbk/1_train-val_1min_aalesund_from_start/img1/000056.jpg: 1088x1920 1 ball, 2.3ms\n",
      "Speed: 3.2ms preprocess, 2.4ms inference, 0.5ms postprocess per image at shape (1, 3, 1088, 1920)\n",
      "\n",
      "image 1/1 /datasets/tdt4265/other/rbk/1_train-val_1min_aalesund_from_start/img1/000057.jpg: 1088x1920 22 players, 2.4ms\n",
      "\n",
      "image 1/1 /datasets/tdt4265/other/rbk/1_train-val_1min_aalesund_from_start/img1/000057.jpg: 1088x1920 1 ball, 2.5ms\n",
      "Speed: 3.2ms preprocess, 2.4ms inference, 0.6ms postprocess per image at shape (1, 3, 1088, 1920)\n",
      "\n",
      "image 1/1 /datasets/tdt4265/other/rbk/1_train-val_1min_aalesund_from_start/img1/000058.jpg: 1088x1920 22 players, 2.4ms\n",
      "\n",
      "image 1/1 /datasets/tdt4265/other/rbk/1_train-val_1min_aalesund_from_start/img1/000058.jpg: 1088x1920 1 ball, 2.5ms\n",
      "Speed: 3.3ms preprocess, 2.4ms inference, 0.5ms postprocess per image at shape (1, 3, 1088, 1920)\n",
      "\n",
      "image 1/1 /datasets/tdt4265/other/rbk/1_train-val_1min_aalesund_from_start/img1/000059.jpg: 1088x1920 22 players, 2.6ms\n",
      "\n",
      "image 1/1 /datasets/tdt4265/other/rbk/1_train-val_1min_aalesund_from_start/img1/000059.jpg: 1088x1920 1 ball, 2.6ms\n",
      "Speed: 3.4ms preprocess, 2.6ms inference, 0.6ms postprocess per image at shape (1, 3, 1088, 1920)\n",
      "\n",
      "image 1/1 /datasets/tdt4265/other/rbk/1_train-val_1min_aalesund_from_start/img1/000060.jpg: 1088x1920 22 players, 2.4ms\n",
      "\n",
      "image 1/1 /datasets/tdt4265/other/rbk/1_train-val_1min_aalesund_from_start/img1/000060.jpg: 1088x1920 1 ball, 2.3ms\n",
      "Speed: 3.3ms preprocess, 2.4ms inference, 0.6ms postprocess per image at shape (1, 3, 1088, 1920)\n",
      "\n",
      "image 1/1 /datasets/tdt4265/other/rbk/1_train-val_1min_aalesund_from_start/img1/000061.jpg: 1088x1920 22 players, 2.4ms\n",
      "\n",
      "image 1/1 /datasets/tdt4265/other/rbk/1_train-val_1min_aalesund_from_start/img1/000061.jpg: 1088x1920 1 ball, 2.3ms\n",
      "Speed: 3.3ms preprocess, 2.4ms inference, 1.1ms postprocess per image at shape (1, 3, 1088, 1920)\n",
      "\n",
      "image 1/1 /datasets/tdt4265/other/rbk/1_train-val_1min_aalesund_from_start/img1/000062.jpg: 1088x1920 22 players, 2.4ms\n",
      "\n",
      "image 1/1 /datasets/tdt4265/other/rbk/1_train-val_1min_aalesund_from_start/img1/000062.jpg: 1088x1920 1 ball, 2.3ms\n",
      "Speed: 3.2ms preprocess, 2.4ms inference, 0.5ms postprocess per image at shape (1, 3, 1088, 1920)\n",
      "\n",
      "image 1/1 /datasets/tdt4265/other/rbk/1_train-val_1min_aalesund_from_start/img1/000063.jpg: 1088x1920 22 players, 2.4ms\n",
      "\n",
      "image 1/1 /datasets/tdt4265/other/rbk/1_train-val_1min_aalesund_from_start/img1/000063.jpg: 1088x1920 1 ball, 2.4ms\n",
      "Speed: 3.3ms preprocess, 2.4ms inference, 0.5ms postprocess per image at shape (1, 3, 1088, 1920)\n",
      "\n",
      "image 1/1 /datasets/tdt4265/other/rbk/1_train-val_1min_aalesund_from_start/img1/000064.jpg: 1088x1920 22 players, 2.4ms\n",
      "\n",
      "image 1/1 /datasets/tdt4265/other/rbk/1_train-val_1min_aalesund_from_start/img1/000064.jpg: 1088x1920 1 ball, 2.5ms\n",
      "Speed: 3.2ms preprocess, 2.4ms inference, 0.5ms postprocess per image at shape (1, 3, 1088, 1920)\n",
      "\n",
      "image 1/1 /datasets/tdt4265/other/rbk/1_train-val_1min_aalesund_from_start/img1/000065.jpg: 1088x1920 22 players, 2.4ms\n",
      "\n",
      "image 1/1 /datasets/tdt4265/other/rbk/1_train-val_1min_aalesund_from_start/img1/000065.jpg: 1088x1920 1 ball, 2.6ms\n",
      "Speed: 3.3ms preprocess, 2.4ms inference, 0.5ms postprocess per image at shape (1, 3, 1088, 1920)\n",
      "\n",
      "image 1/1 /datasets/tdt4265/other/rbk/1_train-val_1min_aalesund_from_start/img1/000066.jpg: 1088x1920 22 players, 2.6ms\n",
      "\n",
      "image 1/1 /datasets/tdt4265/other/rbk/1_train-val_1min_aalesund_from_start/img1/000066.jpg: 1088x1920 1 ball, 2.5ms\n",
      "Speed: 3.3ms preprocess, 2.6ms inference, 0.6ms postprocess per image at shape (1, 3, 1088, 1920)\n",
      "\n",
      "image 1/1 /datasets/tdt4265/other/rbk/1_train-val_1min_aalesund_from_start/img1/000067.jpg: 1088x1920 22 players, 2.6ms\n",
      "\n",
      "image 1/1 /datasets/tdt4265/other/rbk/1_train-val_1min_aalesund_from_start/img1/000067.jpg: 1088x1920 1 ball, 2.5ms\n",
      "Speed: 3.3ms preprocess, 2.6ms inference, 0.6ms postprocess per image at shape (1, 3, 1088, 1920)\n",
      "\n",
      "image 1/1 /datasets/tdt4265/other/rbk/1_train-val_1min_aalesund_from_start/img1/000068.jpg: 1088x1920 22 players, 2.6ms\n",
      "\n",
      "image 1/1 /datasets/tdt4265/other/rbk/1_train-val_1min_aalesund_from_start/img1/000068.jpg: 1088x1920 1 ball, 2.3ms\n",
      "Speed: 3.3ms preprocess, 2.6ms inference, 0.5ms postprocess per image at shape (1, 3, 1088, 1920)\n",
      "\n",
      "image 1/1 /datasets/tdt4265/other/rbk/1_train-val_1min_aalesund_from_start/img1/000069.jpg: 1088x1920 22 players, 2.9ms\n",
      "\n",
      "image 1/1 /datasets/tdt4265/other/rbk/1_train-val_1min_aalesund_from_start/img1/000069.jpg: 1088x1920 1 ball, 2.3ms\n",
      "Speed: 3.2ms preprocess, 2.9ms inference, 0.6ms postprocess per image at shape (1, 3, 1088, 1920)\n",
      "\n",
      "image 1/1 /datasets/tdt4265/other/rbk/1_train-val_1min_aalesund_from_start/img1/000070.jpg: 1088x1920 22 players, 2.6ms\n",
      "\n",
      "image 1/1 /datasets/tdt4265/other/rbk/1_train-val_1min_aalesund_from_start/img1/000070.jpg: 1088x1920 1 ball, 2.3ms\n",
      "Speed: 3.3ms preprocess, 2.6ms inference, 0.8ms postprocess per image at shape (1, 3, 1088, 1920)\n",
      "\n",
      "image 1/1 /datasets/tdt4265/other/rbk/1_train-val_1min_aalesund_from_start/img1/000071.jpg: 1088x1920 22 players, 2.4ms\n",
      "\n",
      "image 1/1 /datasets/tdt4265/other/rbk/1_train-val_1min_aalesund_from_start/img1/000071.jpg: 1088x1920 1 ball, 2.4ms\n",
      "Speed: 3.3ms preprocess, 2.4ms inference, 1.0ms postprocess per image at shape (1, 3, 1088, 1920)\n",
      "\n",
      "image 1/1 /datasets/tdt4265/other/rbk/1_train-val_1min_aalesund_from_start/img1/000072.jpg: 1088x1920 22 players, 2.6ms\n",
      "\n",
      "image 1/1 /datasets/tdt4265/other/rbk/1_train-val_1min_aalesund_from_start/img1/000072.jpg: 1088x1920 1 ball, 2.4ms\n",
      "Speed: 3.4ms preprocess, 2.6ms inference, 0.8ms postprocess per image at shape (1, 3, 1088, 1920)\n",
      "\n",
      "image 1/1 /datasets/tdt4265/other/rbk/1_train-val_1min_aalesund_from_start/img1/000073.jpg: 1088x1920 22 players, 2.5ms\n",
      "\n",
      "image 1/1 /datasets/tdt4265/other/rbk/1_train-val_1min_aalesund_from_start/img1/000073.jpg: 1088x1920 1 ball, 2.3ms\n",
      "Speed: 4.3ms preprocess, 2.5ms inference, 0.8ms postprocess per image at shape (1, 3, 1088, 1920)\n",
      "\n",
      "image 1/1 /datasets/tdt4265/other/rbk/1_train-val_1min_aalesund_from_start/img1/000074.jpg: 1088x1920 22 players, 2.4ms\n",
      "\n",
      "image 1/1 /datasets/tdt4265/other/rbk/1_train-val_1min_aalesund_from_start/img1/000074.jpg: 1088x1920 1 ball, 2.3ms\n",
      "Speed: 3.2ms preprocess, 2.4ms inference, 0.5ms postprocess per image at shape (1, 3, 1088, 1920)\n",
      "\n",
      "image 1/1 /datasets/tdt4265/other/rbk/1_train-val_1min_aalesund_from_start/img1/000075.jpg: 1088x1920 22 players, 2.5ms\n",
      "\n",
      "image 1/1 /datasets/tdt4265/other/rbk/1_train-val_1min_aalesund_from_start/img1/000075.jpg: 1088x1920 1 ball, 2.3ms\n",
      "Speed: 3.3ms preprocess, 2.5ms inference, 0.5ms postprocess per image at shape (1, 3, 1088, 1920)\n",
      "\n",
      "image 1/1 /datasets/tdt4265/other/rbk/1_train-val_1min_aalesund_from_start/img1/000076.jpg: 1088x1920 22 players, 2.5ms\n",
      "\n",
      "image 1/1 /datasets/tdt4265/other/rbk/1_train-val_1min_aalesund_from_start/img1/000076.jpg: 1088x1920 1 ball, 2.3ms\n",
      "Speed: 3.2ms preprocess, 2.5ms inference, 0.8ms postprocess per image at shape (1, 3, 1088, 1920)\n",
      "\n",
      "image 1/1 /datasets/tdt4265/other/rbk/1_train-val_1min_aalesund_from_start/img1/000077.jpg: 1088x1920 22 players, 2.4ms\n",
      "\n",
      "image 1/1 /datasets/tdt4265/other/rbk/1_train-val_1min_aalesund_from_start/img1/000077.jpg: 1088x1920 1 ball, 2.3ms\n",
      "Speed: 3.2ms preprocess, 2.4ms inference, 1.1ms postprocess per image at shape (1, 3, 1088, 1920)\n",
      "\n",
      "image 1/1 /datasets/tdt4265/other/rbk/1_train-val_1min_aalesund_from_start/img1/000078.jpg: 1088x1920 22 players, 2.4ms\n",
      "\n",
      "image 1/1 /datasets/tdt4265/other/rbk/1_train-val_1min_aalesund_from_start/img1/000078.jpg: 1088x1920 1 ball, 2.3ms\n",
      "Speed: 3.3ms preprocess, 2.4ms inference, 0.5ms postprocess per image at shape (1, 3, 1088, 1920)\n",
      "\n",
      "image 1/1 /datasets/tdt4265/other/rbk/1_train-val_1min_aalesund_from_start/img1/000079.jpg: 1088x1920 22 players, 2.4ms\n",
      "\n",
      "image 1/1 /datasets/tdt4265/other/rbk/1_train-val_1min_aalesund_from_start/img1/000079.jpg: 1088x1920 1 ball, 2.3ms\n",
      "Speed: 3.2ms preprocess, 2.4ms inference, 0.5ms postprocess per image at shape (1, 3, 1088, 1920)\n",
      "\n",
      "image 1/1 /datasets/tdt4265/other/rbk/1_train-val_1min_aalesund_from_start/img1/000080.jpg: 1088x1920 22 players, 2.4ms\n",
      "\n",
      "image 1/1 /datasets/tdt4265/other/rbk/1_train-val_1min_aalesund_from_start/img1/000080.jpg: 1088x1920 1 ball, 2.3ms\n",
      "Speed: 3.2ms preprocess, 2.4ms inference, 0.5ms postprocess per image at shape (1, 3, 1088, 1920)\n",
      "\n",
      "image 1/1 /datasets/tdt4265/other/rbk/1_train-val_1min_aalesund_from_start/img1/000081.jpg: 1088x1920 22 players, 2.4ms\n",
      "\n",
      "image 1/1 /datasets/tdt4265/other/rbk/1_train-val_1min_aalesund_from_start/img1/000081.jpg: 1088x1920 1 ball, 2.5ms\n",
      "Speed: 3.2ms preprocess, 2.4ms inference, 0.5ms postprocess per image at shape (1, 3, 1088, 1920)\n",
      "\n",
      "image 1/1 /datasets/tdt4265/other/rbk/1_train-val_1min_aalesund_from_start/img1/000082.jpg: 1088x1920 22 players, 2.4ms\n",
      "\n",
      "image 1/1 /datasets/tdt4265/other/rbk/1_train-val_1min_aalesund_from_start/img1/000082.jpg: 1088x1920 1 ball, 2.5ms\n",
      "Speed: 3.3ms preprocess, 2.4ms inference, 0.5ms postprocess per image at shape (1, 3, 1088, 1920)\n",
      "\n",
      "image 1/1 /datasets/tdt4265/other/rbk/1_train-val_1min_aalesund_from_start/img1/000083.jpg: 1088x1920 22 players, 2.4ms\n",
      "\n",
      "image 1/1 /datasets/tdt4265/other/rbk/1_train-val_1min_aalesund_from_start/img1/000083.jpg: 1088x1920 1 ball, 2.3ms\n",
      "Speed: 4.3ms preprocess, 2.4ms inference, 0.5ms postprocess per image at shape (1, 3, 1088, 1920)\n",
      "\n",
      "image 1/1 /datasets/tdt4265/other/rbk/1_train-val_1min_aalesund_from_start/img1/000084.jpg: 1088x1920 22 players, 2.4ms\n",
      "\n",
      "image 1/1 /datasets/tdt4265/other/rbk/1_train-val_1min_aalesund_from_start/img1/000084.jpg: 1088x1920 1 ball, 2.3ms\n",
      "Speed: 3.3ms preprocess, 2.4ms inference, 0.5ms postprocess per image at shape (1, 3, 1088, 1920)\n",
      "\n",
      "image 1/1 /datasets/tdt4265/other/rbk/1_train-val_1min_aalesund_from_start/img1/000085.jpg: 1088x1920 22 players, 2.4ms\n",
      "\n",
      "image 1/1 /datasets/tdt4265/other/rbk/1_train-val_1min_aalesund_from_start/img1/000085.jpg: 1088x1920 1 ball, 2.5ms\n",
      "Speed: 3.2ms preprocess, 2.4ms inference, 0.5ms postprocess per image at shape (1, 3, 1088, 1920)\n",
      "\n",
      "image 1/1 /datasets/tdt4265/other/rbk/1_train-val_1min_aalesund_from_start/img1/000086.jpg: 1088x1920 22 players, 2.4ms\n",
      "\n",
      "image 1/1 /datasets/tdt4265/other/rbk/1_train-val_1min_aalesund_from_start/img1/000086.jpg: 1088x1920 1 ball, 2.5ms\n",
      "Speed: 3.2ms preprocess, 2.4ms inference, 0.5ms postprocess per image at shape (1, 3, 1088, 1920)\n",
      "\n",
      "image 1/1 /datasets/tdt4265/other/rbk/1_train-val_1min_aalesund_from_start/img1/000087.jpg: 1088x1920 22 players, 2.4ms\n",
      "\n",
      "image 1/1 /datasets/tdt4265/other/rbk/1_train-val_1min_aalesund_from_start/img1/000087.jpg: 1088x1920 1 ball, 2.6ms\n",
      "Speed: 3.2ms preprocess, 2.4ms inference, 0.5ms postprocess per image at shape (1, 3, 1088, 1920)\n",
      "\n",
      "image 1/1 /datasets/tdt4265/other/rbk/1_train-val_1min_aalesund_from_start/img1/000088.jpg: 1088x1920 22 players, 2.5ms\n",
      "\n",
      "image 1/1 /datasets/tdt4265/other/rbk/1_train-val_1min_aalesund_from_start/img1/000088.jpg: 1088x1920 1 ball, 2.5ms\n",
      "Speed: 3.2ms preprocess, 2.5ms inference, 0.5ms postprocess per image at shape (1, 3, 1088, 1920)\n",
      "\n",
      "image 1/1 /datasets/tdt4265/other/rbk/1_train-val_1min_aalesund_from_start/img1/000089.jpg: 1088x1920 22 players, 2.5ms\n",
      "\n",
      "image 1/1 /datasets/tdt4265/other/rbk/1_train-val_1min_aalesund_from_start/img1/000089.jpg: 1088x1920 1 ball, 2.8ms\n",
      "Speed: 3.2ms preprocess, 2.5ms inference, 0.6ms postprocess per image at shape (1, 3, 1088, 1920)\n",
      "\n",
      "image 1/1 /datasets/tdt4265/other/rbk/1_train-val_1min_aalesund_from_start/img1/000090.jpg: 1088x1920 22 players, 2.5ms\n",
      "\n",
      "image 1/1 /datasets/tdt4265/other/rbk/1_train-val_1min_aalesund_from_start/img1/000090.jpg: 1088x1920 1 ball, 2.5ms\n",
      "Speed: 3.2ms preprocess, 2.5ms inference, 0.7ms postprocess per image at shape (1, 3, 1088, 1920)\n",
      "\n",
      "image 1/1 /datasets/tdt4265/other/rbk/1_train-val_1min_aalesund_from_start/img1/000091.jpg: 1088x1920 22 players, 2.4ms\n",
      "\n",
      "image 1/1 /datasets/tdt4265/other/rbk/1_train-val_1min_aalesund_from_start/img1/000091.jpg: 1088x1920 1 ball, 2.3ms\n",
      "Speed: 3.2ms preprocess, 2.4ms inference, 0.6ms postprocess per image at shape (1, 3, 1088, 1920)\n",
      "\n",
      "image 1/1 /datasets/tdt4265/other/rbk/1_train-val_1min_aalesund_from_start/img1/000092.jpg: 1088x1920 22 players, 2.5ms\n",
      "\n",
      "image 1/1 /datasets/tdt4265/other/rbk/1_train-val_1min_aalesund_from_start/img1/000092.jpg: 1088x1920 1 ball, 2.3ms\n",
      "Speed: 3.5ms preprocess, 2.5ms inference, 0.5ms postprocess per image at shape (1, 3, 1088, 1920)\n",
      "\n",
      "image 1/1 /datasets/tdt4265/other/rbk/1_train-val_1min_aalesund_from_start/img1/000093.jpg: 1088x1920 22 players, 2.4ms\n",
      "\n",
      "image 1/1 /datasets/tdt4265/other/rbk/1_train-val_1min_aalesund_from_start/img1/000093.jpg: 1088x1920 1 ball, 2.5ms\n",
      "Speed: 4.3ms preprocess, 2.4ms inference, 0.7ms postprocess per image at shape (1, 3, 1088, 1920)\n",
      "\n",
      "image 1/1 /datasets/tdt4265/other/rbk/1_train-val_1min_aalesund_from_start/img1/000094.jpg: 1088x1920 22 players, 2.6ms\n",
      "\n",
      "image 1/1 /datasets/tdt4265/other/rbk/1_train-val_1min_aalesund_from_start/img1/000094.jpg: 1088x1920 1 ball, 2.5ms\n",
      "Speed: 3.2ms preprocess, 2.6ms inference, 0.7ms postprocess per image at shape (1, 3, 1088, 1920)\n",
      "\n",
      "image 1/1 /datasets/tdt4265/other/rbk/1_train-val_1min_aalesund_from_start/img1/000095.jpg: 1088x1920 22 players, 2.4ms\n",
      "\n",
      "image 1/1 /datasets/tdt4265/other/rbk/1_train-val_1min_aalesund_from_start/img1/000095.jpg: 1088x1920 1 ball, 2.5ms\n",
      "Speed: 3.2ms preprocess, 2.4ms inference, 0.6ms postprocess per image at shape (1, 3, 1088, 1920)\n",
      "\n",
      "image 1/1 /datasets/tdt4265/other/rbk/1_train-val_1min_aalesund_from_start/img1/000096.jpg: 1088x1920 22 players, 2.4ms\n",
      "\n",
      "image 1/1 /datasets/tdt4265/other/rbk/1_train-val_1min_aalesund_from_start/img1/000096.jpg: 1088x1920 1 ball, 2.3ms\n",
      "Speed: 3.2ms preprocess, 2.4ms inference, 0.5ms postprocess per image at shape (1, 3, 1088, 1920)\n",
      "\n",
      "image 1/1 /datasets/tdt4265/other/rbk/1_train-val_1min_aalesund_from_start/img1/000097.jpg: 1088x1920 22 players, 2.6ms\n",
      "\n",
      "image 1/1 /datasets/tdt4265/other/rbk/1_train-val_1min_aalesund_from_start/img1/000097.jpg: 1088x1920 1 ball, 2.3ms\n",
      "Speed: 3.3ms preprocess, 2.6ms inference, 0.8ms postprocess per image at shape (1, 3, 1088, 1920)\n",
      "\n",
      "image 1/1 /datasets/tdt4265/other/rbk/1_train-val_1min_aalesund_from_start/img1/000098.jpg: 1088x1920 22 players, 2.4ms\n",
      "\n",
      "image 1/1 /datasets/tdt4265/other/rbk/1_train-val_1min_aalesund_from_start/img1/000098.jpg: 1088x1920 1 ball, 2.3ms\n",
      "Speed: 3.2ms preprocess, 2.4ms inference, 1.2ms postprocess per image at shape (1, 3, 1088, 1920)\n",
      "\n",
      "image 1/1 /datasets/tdt4265/other/rbk/1_train-val_1min_aalesund_from_start/img1/000099.jpg: 1088x1920 22 players, 2.5ms\n",
      "\n",
      "image 1/1 /datasets/tdt4265/other/rbk/1_train-val_1min_aalesund_from_start/img1/000099.jpg: 1088x1920 1 ball, 2.3ms\n",
      "Speed: 3.3ms preprocess, 2.5ms inference, 1.1ms postprocess per image at shape (1, 3, 1088, 1920)\n",
      "\n",
      "image 1/1 /datasets/tdt4265/other/rbk/1_train-val_1min_aalesund_from_start/img1/000100.jpg: 1088x1920 22 players, 2.4ms\n",
      "\n",
      "image 1/1 /datasets/tdt4265/other/rbk/1_train-val_1min_aalesund_from_start/img1/000100.jpg: 1088x1920 1 ball, 2.3ms\n",
      "Speed: 3.2ms preprocess, 2.4ms inference, 0.5ms postprocess per image at shape (1, 3, 1088, 1920)\n",
      "\n",
      "image 1/1 /datasets/tdt4265/other/rbk/1_train-val_1min_aalesund_from_start/img1/000101.jpg: 1088x1920 22 players, 2.4ms\n",
      "\n",
      "image 1/1 /datasets/tdt4265/other/rbk/1_train-val_1min_aalesund_from_start/img1/000101.jpg: 1088x1920 1 ball, 2.3ms\n",
      "Speed: 3.2ms preprocess, 2.4ms inference, 0.5ms postprocess per image at shape (1, 3, 1088, 1920)\n",
      "\n",
      "image 1/1 /datasets/tdt4265/other/rbk/1_train-val_1min_aalesund_from_start/img1/000102.jpg: 1088x1920 22 players, 2.4ms\n",
      "\n",
      "image 1/1 /datasets/tdt4265/other/rbk/1_train-val_1min_aalesund_from_start/img1/000102.jpg: 1088x1920 1 ball, 2.3ms\n",
      "Speed: 3.2ms preprocess, 2.4ms inference, 0.5ms postprocess per image at shape (1, 3, 1088, 1920)\n",
      "\n",
      "image 1/1 /datasets/tdt4265/other/rbk/1_train-val_1min_aalesund_from_start/img1/000103.jpg: 1088x1920 22 players, 2.4ms\n",
      "\n",
      "image 1/1 /datasets/tdt4265/other/rbk/1_train-val_1min_aalesund_from_start/img1/000103.jpg: 1088x1920 1 ball, 2.5ms\n",
      "Speed: 3.2ms preprocess, 2.4ms inference, 0.5ms postprocess per image at shape (1, 3, 1088, 1920)\n",
      "\n",
      "image 1/1 /datasets/tdt4265/other/rbk/1_train-val_1min_aalesund_from_start/img1/000104.jpg: 1088x1920 22 players, 2.4ms\n",
      "\n",
      "image 1/1 /datasets/tdt4265/other/rbk/1_train-val_1min_aalesund_from_start/img1/000104.jpg: 1088x1920 1 ball, 2.5ms\n",
      "Speed: 3.2ms preprocess, 2.4ms inference, 0.5ms postprocess per image at shape (1, 3, 1088, 1920)\n",
      "\n",
      "image 1/1 /datasets/tdt4265/other/rbk/1_train-val_1min_aalesund_from_start/img1/000105.jpg: 1088x1920 22 players, 2.4ms\n",
      "\n",
      "image 1/1 /datasets/tdt4265/other/rbk/1_train-val_1min_aalesund_from_start/img1/000105.jpg: 1088x1920 1 ball, 2.5ms\n",
      "Speed: 3.3ms preprocess, 2.4ms inference, 0.5ms postprocess per image at shape (1, 3, 1088, 1920)\n",
      "\n",
      "image 1/1 /datasets/tdt4265/other/rbk/1_train-val_1min_aalesund_from_start/img1/000106.jpg: 1088x1920 22 players, 2.5ms\n",
      "\n",
      "image 1/1 /datasets/tdt4265/other/rbk/1_train-val_1min_aalesund_from_start/img1/000106.jpg: 1088x1920 1 ball, 2.3ms\n",
      "Speed: 3.2ms preprocess, 2.5ms inference, 0.6ms postprocess per image at shape (1, 3, 1088, 1920)\n",
      "\n",
      "image 1/1 /datasets/tdt4265/other/rbk/1_train-val_1min_aalesund_from_start/img1/000107.jpg: 1088x1920 22 players, 2.5ms\n",
      "\n",
      "image 1/1 /datasets/tdt4265/other/rbk/1_train-val_1min_aalesund_from_start/img1/000107.jpg: 1088x1920 1 ball, 2.6ms\n",
      "Speed: 3.2ms preprocess, 2.5ms inference, 0.6ms postprocess per image at shape (1, 3, 1088, 1920)\n",
      "\n",
      "image 1/1 /datasets/tdt4265/other/rbk/1_train-val_1min_aalesund_from_start/img1/000108.jpg: 1088x1920 22 players, 2.4ms\n",
      "\n",
      "image 1/1 /datasets/tdt4265/other/rbk/1_train-val_1min_aalesund_from_start/img1/000108.jpg: 1088x1920 1 ball, 2.3ms\n",
      "Speed: 3.3ms preprocess, 2.4ms inference, 0.7ms postprocess per image at shape (1, 3, 1088, 1920)\n",
      "\n",
      "image 1/1 /datasets/tdt4265/other/rbk/1_train-val_1min_aalesund_from_start/img1/000109.jpg: 1088x1920 22 players, 2.8ms\n",
      "\n",
      "image 1/1 /datasets/tdt4265/other/rbk/1_train-val_1min_aalesund_from_start/img1/000109.jpg: 1088x1920 1 ball, 2.3ms\n",
      "Speed: 3.2ms preprocess, 2.8ms inference, 0.5ms postprocess per image at shape (1, 3, 1088, 1920)\n",
      "\n",
      "image 1/1 /datasets/tdt4265/other/rbk/1_train-val_1min_aalesund_from_start/img1/000110.jpg: 1088x1920 22 players, 2.6ms\n",
      "\n",
      "image 1/1 /datasets/tdt4265/other/rbk/1_train-val_1min_aalesund_from_start/img1/000110.jpg: 1088x1920 1 ball, 2.3ms\n",
      "Speed: 3.3ms preprocess, 2.6ms inference, 0.8ms postprocess per image at shape (1, 3, 1088, 1920)\n",
      "\n",
      "image 1/1 /datasets/tdt4265/other/rbk/1_train-val_1min_aalesund_from_start/img1/000111.jpg: 1088x1920 22 players, 2.4ms\n",
      "\n",
      "image 1/1 /datasets/tdt4265/other/rbk/1_train-val_1min_aalesund_from_start/img1/000111.jpg: 1088x1920 1 ball, 2.4ms\n",
      "Speed: 3.2ms preprocess, 2.4ms inference, 0.5ms postprocess per image at shape (1, 3, 1088, 1920)\n",
      "\n",
      "image 1/1 /datasets/tdt4265/other/rbk/1_train-val_1min_aalesund_from_start/img1/000112.jpg: 1088x1920 22 players, 2.4ms\n",
      "\n",
      "image 1/1 /datasets/tdt4265/other/rbk/1_train-val_1min_aalesund_from_start/img1/000112.jpg: 1088x1920 1 ball, 2.3ms\n",
      "Speed: 3.2ms preprocess, 2.4ms inference, 0.5ms postprocess per image at shape (1, 3, 1088, 1920)\n",
      "\n",
      "image 1/1 /datasets/tdt4265/other/rbk/1_train-val_1min_aalesund_from_start/img1/000113.jpg: 1088x1920 22 players, 2.4ms\n",
      "\n",
      "image 1/1 /datasets/tdt4265/other/rbk/1_train-val_1min_aalesund_from_start/img1/000113.jpg: 1088x1920 1 ball, 2.4ms\n",
      "Speed: 3.2ms preprocess, 2.4ms inference, 0.5ms postprocess per image at shape (1, 3, 1088, 1920)\n",
      "\n",
      "image 1/1 /datasets/tdt4265/other/rbk/1_train-val_1min_aalesund_from_start/img1/000114.jpg: 1088x1920 22 players, 2.4ms\n",
      "\n",
      "image 1/1 /datasets/tdt4265/other/rbk/1_train-val_1min_aalesund_from_start/img1/000114.jpg: 1088x1920 1 ball, 2.8ms\n",
      "Speed: 3.2ms preprocess, 2.4ms inference, 0.5ms postprocess per image at shape (1, 3, 1088, 1920)\n",
      "\n",
      "image 1/1 /datasets/tdt4265/other/rbk/1_train-val_1min_aalesund_from_start/img1/000115.jpg: 1088x1920 22 players, 2.4ms\n",
      "\n",
      "image 1/1 /datasets/tdt4265/other/rbk/1_train-val_1min_aalesund_from_start/img1/000115.jpg: 1088x1920 1 ball, 2.5ms\n",
      "Speed: 3.2ms preprocess, 2.4ms inference, 0.5ms postprocess per image at shape (1, 3, 1088, 1920)\n",
      "\n",
      "image 1/1 /datasets/tdt4265/other/rbk/1_train-val_1min_aalesund_from_start/img1/000116.jpg: 1088x1920 22 players, 2.5ms\n",
      "\n",
      "image 1/1 /datasets/tdt4265/other/rbk/1_train-val_1min_aalesund_from_start/img1/000116.jpg: 1088x1920 1 ball, 2.5ms\n",
      "Speed: 3.2ms preprocess, 2.5ms inference, 0.6ms postprocess per image at shape (1, 3, 1088, 1920)\n",
      "\n",
      "image 1/1 /datasets/tdt4265/other/rbk/1_train-val_1min_aalesund_from_start/img1/000117.jpg: 1088x1920 22 players, 2.6ms\n",
      "\n",
      "image 1/1 /datasets/tdt4265/other/rbk/1_train-val_1min_aalesund_from_start/img1/000117.jpg: 1088x1920 1 ball, 2.6ms\n",
      "Speed: 3.2ms preprocess, 2.6ms inference, 0.7ms postprocess per image at shape (1, 3, 1088, 1920)\n",
      "\n",
      "image 1/1 /datasets/tdt4265/other/rbk/1_train-val_1min_aalesund_from_start/img1/000118.jpg: 1088x1920 22 players, 2.6ms\n",
      "\n",
      "image 1/1 /datasets/tdt4265/other/rbk/1_train-val_1min_aalesund_from_start/img1/000118.jpg: 1088x1920 1 ball, 2.3ms\n",
      "Speed: 3.3ms preprocess, 2.6ms inference, 0.8ms postprocess per image at shape (1, 3, 1088, 1920)\n",
      "\n",
      "image 1/1 /datasets/tdt4265/other/rbk/1_train-val_1min_aalesund_from_start/img1/000119.jpg: 1088x1920 22 players, 2.4ms\n",
      "\n",
      "image 1/1 /datasets/tdt4265/other/rbk/1_train-val_1min_aalesund_from_start/img1/000119.jpg: 1088x1920 1 ball, 2.3ms\n",
      "Speed: 4.4ms preprocess, 2.4ms inference, 0.7ms postprocess per image at shape (1, 3, 1088, 1920)\n",
      "\n",
      "image 1/1 /datasets/tdt4265/other/rbk/1_train-val_1min_aalesund_from_start/img1/000120.jpg: 1088x1920 22 players, 2.5ms\n",
      "\n",
      "image 1/1 /datasets/tdt4265/other/rbk/1_train-val_1min_aalesund_from_start/img1/000120.jpg: 1088x1920 1 ball, 2.3ms\n",
      "Speed: 3.3ms preprocess, 2.5ms inference, 0.8ms postprocess per image at shape (1, 3, 1088, 1920)\n",
      "\n",
      "image 1/1 /datasets/tdt4265/other/rbk/1_train-val_1min_aalesund_from_start/img1/000121.jpg: 1088x1920 22 players, 2.5ms\n",
      "\n",
      "image 1/1 /datasets/tdt4265/other/rbk/1_train-val_1min_aalesund_from_start/img1/000121.jpg: 1088x1920 1 ball, 2.3ms\n",
      "Speed: 4.4ms preprocess, 2.5ms inference, 0.8ms postprocess per image at shape (1, 3, 1088, 1920)\n",
      "\n",
      "image 1/1 /datasets/tdt4265/other/rbk/1_train-val_1min_aalesund_from_start/img1/000122.jpg: 1088x1920 22 players, 2.5ms\n",
      "\n",
      "image 1/1 /datasets/tdt4265/other/rbk/1_train-val_1min_aalesund_from_start/img1/000122.jpg: 1088x1920 1 ball, 2.3ms\n",
      "Speed: 3.3ms preprocess, 2.5ms inference, 0.8ms postprocess per image at shape (1, 3, 1088, 1920)\n",
      "\n",
      "image 1/1 /datasets/tdt4265/other/rbk/1_train-val_1min_aalesund_from_start/img1/000123.jpg: 1088x1920 22 players, 2.6ms\n",
      "\n",
      "image 1/1 /datasets/tdt4265/other/rbk/1_train-val_1min_aalesund_from_start/img1/000123.jpg: 1088x1920 1 ball, 2.3ms\n",
      "Speed: 3.3ms preprocess, 2.6ms inference, 0.8ms postprocess per image at shape (1, 3, 1088, 1920)\n",
      "\n",
      "image 1/1 /datasets/tdt4265/other/rbk/1_train-val_1min_aalesund_from_start/img1/000124.jpg: 1088x1920 22 players, 2.4ms\n",
      "\n",
      "image 1/1 /datasets/tdt4265/other/rbk/1_train-val_1min_aalesund_from_start/img1/000124.jpg: 1088x1920 1 ball, 2.3ms\n",
      "Speed: 3.2ms preprocess, 2.4ms inference, 0.5ms postprocess per image at shape (1, 3, 1088, 1920)\n",
      "\n",
      "image 1/1 /datasets/tdt4265/other/rbk/1_train-val_1min_aalesund_from_start/img1/000125.jpg: 1088x1920 22 players, 2.4ms\n",
      "\n",
      "image 1/1 /datasets/tdt4265/other/rbk/1_train-val_1min_aalesund_from_start/img1/000125.jpg: 1088x1920 1 ball, 2.6ms\n",
      "Speed: 3.2ms preprocess, 2.4ms inference, 0.5ms postprocess per image at shape (1, 3, 1088, 1920)\n",
      "\n",
      "image 1/1 /datasets/tdt4265/other/rbk/1_train-val_1min_aalesund_from_start/img1/000126.jpg: 1088x1920 22 players, 2.5ms\n",
      "\n",
      "image 1/1 /datasets/tdt4265/other/rbk/1_train-val_1min_aalesund_from_start/img1/000126.jpg: 1088x1920 1 ball, 2.3ms\n",
      "Speed: 3.2ms preprocess, 2.5ms inference, 0.5ms postprocess per image at shape (1, 3, 1088, 1920)\n",
      "\n",
      "image 1/1 /datasets/tdt4265/other/rbk/1_train-val_1min_aalesund_from_start/img1/000127.jpg: 1088x1920 22 players, 2.4ms\n",
      "\n",
      "image 1/1 /datasets/tdt4265/other/rbk/1_train-val_1min_aalesund_from_start/img1/000127.jpg: 1088x1920 1 ball, 2.3ms\n",
      "Speed: 3.3ms preprocess, 2.4ms inference, 0.6ms postprocess per image at shape (1, 3, 1088, 1920)\n",
      "\n",
      "image 1/1 /datasets/tdt4265/other/rbk/1_train-val_1min_aalesund_from_start/img1/000128.jpg: 1088x1920 22 players, 2.6ms\n",
      "\n",
      "image 1/1 /datasets/tdt4265/other/rbk/1_train-val_1min_aalesund_from_start/img1/000128.jpg: 1088x1920 1 ball, 2.3ms\n",
      "Speed: 3.3ms preprocess, 2.6ms inference, 0.8ms postprocess per image at shape (1, 3, 1088, 1920)\n",
      "\n",
      "image 1/1 /datasets/tdt4265/other/rbk/1_train-val_1min_aalesund_from_start/img1/000129.jpg: 1088x1920 22 players, 2.4ms\n",
      "\n",
      "image 1/1 /datasets/tdt4265/other/rbk/1_train-val_1min_aalesund_from_start/img1/000129.jpg: 1088x1920 1 ball, 2.3ms\n",
      "Speed: 3.2ms preprocess, 2.4ms inference, 0.5ms postprocess per image at shape (1, 3, 1088, 1920)\n",
      "\n",
      "image 1/1 /datasets/tdt4265/other/rbk/1_train-val_1min_aalesund_from_start/img1/000130.jpg: 1088x1920 22 players, 2.5ms\n",
      "\n",
      "image 1/1 /datasets/tdt4265/other/rbk/1_train-val_1min_aalesund_from_start/img1/000130.jpg: 1088x1920 1 ball, 2.5ms\n",
      "Speed: 3.3ms preprocess, 2.5ms inference, 0.6ms postprocess per image at shape (1, 3, 1088, 1920)\n",
      "\n",
      "image 1/1 /datasets/tdt4265/other/rbk/1_train-val_1min_aalesund_from_start/img1/000131.jpg: 1088x1920 22 players, 2.4ms\n",
      "\n",
      "image 1/1 /datasets/tdt4265/other/rbk/1_train-val_1min_aalesund_from_start/img1/000131.jpg: 1088x1920 1 ball, 2.3ms\n",
      "Speed: 3.2ms preprocess, 2.4ms inference, 0.5ms postprocess per image at shape (1, 3, 1088, 1920)\n",
      "\n",
      "image 1/1 /datasets/tdt4265/other/rbk/1_train-val_1min_aalesund_from_start/img1/000132.jpg: 1088x1920 22 players, 2.5ms\n",
      "\n",
      "image 1/1 /datasets/tdt4265/other/rbk/1_train-val_1min_aalesund_from_start/img1/000132.jpg: 1088x1920 1 ball, 2.3ms\n",
      "Speed: 3.2ms preprocess, 2.5ms inference, 0.6ms postprocess per image at shape (1, 3, 1088, 1920)\n",
      "\n",
      "image 1/1 /datasets/tdt4265/other/rbk/1_train-val_1min_aalesund_from_start/img1/000133.jpg: 1088x1920 22 players, 2.5ms\n",
      "\n",
      "image 1/1 /datasets/tdt4265/other/rbk/1_train-val_1min_aalesund_from_start/img1/000133.jpg: 1088x1920 1 ball, 2.3ms\n",
      "Speed: 3.4ms preprocess, 2.5ms inference, 0.8ms postprocess per image at shape (1, 3, 1088, 1920)\n",
      "\n",
      "image 1/1 /datasets/tdt4265/other/rbk/1_train-val_1min_aalesund_from_start/img1/000134.jpg: 1088x1920 22 players, 2.4ms\n",
      "\n",
      "image 1/1 /datasets/tdt4265/other/rbk/1_train-val_1min_aalesund_from_start/img1/000134.jpg: 1088x1920 1 ball, 2.6ms\n",
      "Speed: 3.2ms preprocess, 2.4ms inference, 0.5ms postprocess per image at shape (1, 3, 1088, 1920)\n",
      "\n",
      "image 1/1 /datasets/tdt4265/other/rbk/1_train-val_1min_aalesund_from_start/img1/000135.jpg: 1088x1920 22 players, 2.4ms\n",
      "\n",
      "image 1/1 /datasets/tdt4265/other/rbk/1_train-val_1min_aalesund_from_start/img1/000135.jpg: 1088x1920 1 ball, 2.5ms\n",
      "Speed: 3.2ms preprocess, 2.4ms inference, 0.5ms postprocess per image at shape (1, 3, 1088, 1920)\n",
      "\n",
      "image 1/1 /datasets/tdt4265/other/rbk/1_train-val_1min_aalesund_from_start/img1/000136.jpg: 1088x1920 22 players, 2.4ms\n",
      "\n",
      "image 1/1 /datasets/tdt4265/other/rbk/1_train-val_1min_aalesund_from_start/img1/000136.jpg: 1088x1920 1 ball, 2.3ms\n",
      "Speed: 3.2ms preprocess, 2.4ms inference, 0.5ms postprocess per image at shape (1, 3, 1088, 1920)\n",
      "\n",
      "image 1/1 /datasets/tdt4265/other/rbk/1_train-val_1min_aalesund_from_start/img1/000137.jpg: 1088x1920 22 players, 2.4ms\n",
      "\n",
      "image 1/1 /datasets/tdt4265/other/rbk/1_train-val_1min_aalesund_from_start/img1/000137.jpg: 1088x1920 1 ball, 2.4ms\n",
      "Speed: 3.3ms preprocess, 2.4ms inference, 0.5ms postprocess per image at shape (1, 3, 1088, 1920)\n",
      "\n",
      "image 1/1 /datasets/tdt4265/other/rbk/1_train-val_1min_aalesund_from_start/img1/000138.jpg: 1088x1920 22 players, 2.7ms\n",
      "\n",
      "image 1/1 /datasets/tdt4265/other/rbk/1_train-val_1min_aalesund_from_start/img1/000138.jpg: 1088x1920 1 ball, 2.3ms\n",
      "Speed: 3.3ms preprocess, 2.7ms inference, 0.8ms postprocess per image at shape (1, 3, 1088, 1920)\n",
      "\n",
      "image 1/1 /datasets/tdt4265/other/rbk/1_train-val_1min_aalesund_from_start/img1/000139.jpg: 1088x1920 22 players, 2.4ms\n",
      "\n",
      "image 1/1 /datasets/tdt4265/other/rbk/1_train-val_1min_aalesund_from_start/img1/000139.jpg: 1088x1920 1 ball, 2.3ms\n",
      "Speed: 3.2ms preprocess, 2.4ms inference, 0.5ms postprocess per image at shape (1, 3, 1088, 1920)\n",
      "\n",
      "image 1/1 /datasets/tdt4265/other/rbk/1_train-val_1min_aalesund_from_start/img1/000140.jpg: 1088x1920 22 players, 2.5ms\n",
      "\n",
      "image 1/1 /datasets/tdt4265/other/rbk/1_train-val_1min_aalesund_from_start/img1/000140.jpg: 1088x1920 1 ball, 2.3ms\n",
      "Speed: 3.3ms preprocess, 2.5ms inference, 0.5ms postprocess per image at shape (1, 3, 1088, 1920)\n",
      "\n",
      "image 1/1 /datasets/tdt4265/other/rbk/1_train-val_1min_aalesund_from_start/img1/000141.jpg: 1088x1920 22 players, 2.5ms\n",
      "\n",
      "image 1/1 /datasets/tdt4265/other/rbk/1_train-val_1min_aalesund_from_start/img1/000141.jpg: 1088x1920 1 ball, 2.6ms\n",
      "Speed: 3.2ms preprocess, 2.5ms inference, 0.5ms postprocess per image at shape (1, 3, 1088, 1920)\n",
      "\n",
      "image 1/1 /datasets/tdt4265/other/rbk/1_train-val_1min_aalesund_from_start/img1/000142.jpg: 1088x1920 22 players, 2.5ms\n",
      "\n",
      "image 1/1 /datasets/tdt4265/other/rbk/1_train-val_1min_aalesund_from_start/img1/000142.jpg: 1088x1920 1 ball, 2.3ms\n",
      "Speed: 3.3ms preprocess, 2.5ms inference, 0.7ms postprocess per image at shape (1, 3, 1088, 1920)\n",
      "\n",
      "image 1/1 /datasets/tdt4265/other/rbk/1_train-val_1min_aalesund_from_start/img1/000143.jpg: 1088x1920 22 players, 2.4ms\n",
      "\n",
      "image 1/1 /datasets/tdt4265/other/rbk/1_train-val_1min_aalesund_from_start/img1/000143.jpg: 1088x1920 1 ball, 2.6ms\n",
      "Speed: 3.3ms preprocess, 2.4ms inference, 0.6ms postprocess per image at shape (1, 3, 1088, 1920)\n",
      "\n",
      "image 1/1 /datasets/tdt4265/other/rbk/1_train-val_1min_aalesund_from_start/img1/000144.jpg: 1088x1920 22 players, 2.5ms\n",
      "\n",
      "image 1/1 /datasets/tdt4265/other/rbk/1_train-val_1min_aalesund_from_start/img1/000144.jpg: 1088x1920 1 ball, 2.5ms\n",
      "Speed: 3.2ms preprocess, 2.5ms inference, 0.5ms postprocess per image at shape (1, 3, 1088, 1920)\n",
      "\n",
      "image 1/1 /datasets/tdt4265/other/rbk/1_train-val_1min_aalesund_from_start/img1/000145.jpg: 1088x1920 22 players, 2.5ms\n",
      "\n",
      "image 1/1 /datasets/tdt4265/other/rbk/1_train-val_1min_aalesund_from_start/img1/000145.jpg: 1088x1920 1 ball, 2.9ms\n",
      "Speed: 3.2ms preprocess, 2.5ms inference, 0.5ms postprocess per image at shape (1, 3, 1088, 1920)\n",
      "\n",
      "image 1/1 /datasets/tdt4265/other/rbk/1_train-val_1min_aalesund_from_start/img1/000146.jpg: 1088x1920 22 players, 2.4ms\n",
      "\n",
      "image 1/1 /datasets/tdt4265/other/rbk/1_train-val_1min_aalesund_from_start/img1/000146.jpg: 1088x1920 1 ball, 2.3ms\n",
      "Speed: 3.3ms preprocess, 2.4ms inference, 0.5ms postprocess per image at shape (1, 3, 1088, 1920)\n",
      "\n",
      "image 1/1 /datasets/tdt4265/other/rbk/1_train-val_1min_aalesund_from_start/img1/000147.jpg: 1088x1920 22 players, 2.4ms\n",
      "\n",
      "image 1/1 /datasets/tdt4265/other/rbk/1_train-val_1min_aalesund_from_start/img1/000147.jpg: 1088x1920 1 ball, 2.3ms\n",
      "Speed: 3.3ms preprocess, 2.4ms inference, 1.0ms postprocess per image at shape (1, 3, 1088, 1920)\n",
      "\n",
      "image 1/1 /datasets/tdt4265/other/rbk/1_train-val_1min_aalesund_from_start/img1/000148.jpg: 1088x1920 22 players, 2.4ms\n",
      "\n",
      "image 1/1 /datasets/tdt4265/other/rbk/1_train-val_1min_aalesund_from_start/img1/000148.jpg: 1088x1920 1 ball, 2.4ms\n",
      "Speed: 3.3ms preprocess, 2.4ms inference, 0.5ms postprocess per image at shape (1, 3, 1088, 1920)\n",
      "\n",
      "image 1/1 /datasets/tdt4265/other/rbk/1_train-val_1min_aalesund_from_start/img1/000149.jpg: 1088x1920 22 players, 2.4ms\n",
      "\n",
      "image 1/1 /datasets/tdt4265/other/rbk/1_train-val_1min_aalesund_from_start/img1/000149.jpg: 1088x1920 1 ball, 2.4ms\n",
      "Speed: 3.2ms preprocess, 2.4ms inference, 0.6ms postprocess per image at shape (1, 3, 1088, 1920)\n",
      "\n",
      "image 1/1 /datasets/tdt4265/other/rbk/1_train-val_1min_aalesund_from_start/img1/000150.jpg: 1088x1920 22 players, 2.6ms\n",
      "\n",
      "image 1/1 /datasets/tdt4265/other/rbk/1_train-val_1min_aalesund_from_start/img1/000150.jpg: 1088x1920 1 ball, 2.3ms\n",
      "Speed: 3.3ms preprocess, 2.6ms inference, 0.5ms postprocess per image at shape (1, 3, 1088, 1920)\n",
      "\n",
      "image 1/1 /datasets/tdt4265/other/rbk/1_train-val_1min_aalesund_from_start/img1/000151.jpg: 1088x1920 22 players, 2.6ms\n",
      "\n",
      "image 1/1 /datasets/tdt4265/other/rbk/1_train-val_1min_aalesund_from_start/img1/000151.jpg: 1088x1920 1 ball, 2.4ms\n",
      "Speed: 3.3ms preprocess, 2.6ms inference, 0.8ms postprocess per image at shape (1, 3, 1088, 1920)\n",
      "\n",
      "image 1/1 /datasets/tdt4265/other/rbk/1_train-val_1min_aalesund_from_start/img1/000152.jpg: 1088x1920 22 players, 2.4ms\n",
      "\n",
      "image 1/1 /datasets/tdt4265/other/rbk/1_train-val_1min_aalesund_from_start/img1/000152.jpg: 1088x1920 1 ball, 2.5ms\n",
      "Speed: 3.3ms preprocess, 2.4ms inference, 0.5ms postprocess per image at shape (1, 3, 1088, 1920)\n",
      "\n",
      "image 1/1 /datasets/tdt4265/other/rbk/1_train-val_1min_aalesund_from_start/img1/000153.jpg: 1088x1920 22 players, 2.4ms\n",
      "\n",
      "image 1/1 /datasets/tdt4265/other/rbk/1_train-val_1min_aalesund_from_start/img1/000153.jpg: 1088x1920 1 ball, 2.5ms\n",
      "Speed: 3.3ms preprocess, 2.4ms inference, 0.5ms postprocess per image at shape (1, 3, 1088, 1920)\n",
      "\n",
      "image 1/1 /datasets/tdt4265/other/rbk/1_train-val_1min_aalesund_from_start/img1/000154.jpg: 1088x1920 22 players, 2.4ms\n",
      "\n",
      "image 1/1 /datasets/tdt4265/other/rbk/1_train-val_1min_aalesund_from_start/img1/000154.jpg: 1088x1920 1 ball, 2.3ms\n",
      "Speed: 2.4ms preprocess, 2.4ms inference, 0.5ms postprocess per image at shape (1, 3, 1088, 1920)\n",
      "\n",
      "image 1/1 /datasets/tdt4265/other/rbk/1_train-val_1min_aalesund_from_start/img1/000155.jpg: 1088x1920 22 players, 2.5ms\n",
      "\n",
      "image 1/1 /datasets/tdt4265/other/rbk/1_train-val_1min_aalesund_from_start/img1/000155.jpg: 1088x1920 1 ball, 2.3ms\n",
      "Speed: 4.4ms preprocess, 2.5ms inference, 0.5ms postprocess per image at shape (1, 3, 1088, 1920)\n",
      "\n",
      "image 1/1 /datasets/tdt4265/other/rbk/1_train-val_1min_aalesund_from_start/img1/000156.jpg: 1088x1920 22 players, 2.4ms\n",
      "\n",
      "image 1/1 /datasets/tdt4265/other/rbk/1_train-val_1min_aalesund_from_start/img1/000156.jpg: 1088x1920 1 ball, 2.6ms\n",
      "Speed: 3.1ms preprocess, 2.4ms inference, 0.7ms postprocess per image at shape (1, 3, 1088, 1920)\n",
      "\n",
      "image 1/1 /datasets/tdt4265/other/rbk/1_train-val_1min_aalesund_from_start/img1/000157.jpg: 1088x1920 22 players, 2.4ms\n",
      "\n",
      "image 1/1 /datasets/tdt4265/other/rbk/1_train-val_1min_aalesund_from_start/img1/000157.jpg: 1088x1920 1 ball, 2.5ms\n",
      "Speed: 4.4ms preprocess, 2.4ms inference, 0.7ms postprocess per image at shape (1, 3, 1088, 1920)\n",
      "\n",
      "image 1/1 /datasets/tdt4265/other/rbk/1_train-val_1min_aalesund_from_start/img1/000158.jpg: 1088x1920 22 players, 2.5ms\n",
      "\n",
      "image 1/1 /datasets/tdt4265/other/rbk/1_train-val_1min_aalesund_from_start/img1/000158.jpg: 1088x1920 1 ball, 2.3ms\n",
      "Speed: 2.4ms preprocess, 2.5ms inference, 0.5ms postprocess per image at shape (1, 3, 1088, 1920)\n",
      "\n",
      "image 1/1 /datasets/tdt4265/other/rbk/1_train-val_1min_aalesund_from_start/img1/000159.jpg: 1088x1920 22 players, 2.4ms\n",
      "\n",
      "image 1/1 /datasets/tdt4265/other/rbk/1_train-val_1min_aalesund_from_start/img1/000159.jpg: 1088x1920 1 ball, 2.5ms\n",
      "Speed: 4.4ms preprocess, 2.4ms inference, 0.5ms postprocess per image at shape (1, 3, 1088, 1920)\n",
      "\n",
      "image 1/1 /datasets/tdt4265/other/rbk/1_train-val_1min_aalesund_from_start/img1/000160.jpg: 1088x1920 22 players, 2.4ms\n",
      "\n",
      "image 1/1 /datasets/tdt4265/other/rbk/1_train-val_1min_aalesund_from_start/img1/000160.jpg: 1088x1920 1 ball, 2.3ms\n",
      "Speed: 3.2ms preprocess, 2.4ms inference, 0.5ms postprocess per image at shape (1, 3, 1088, 1920)\n",
      "\n",
      "image 1/1 /datasets/tdt4265/other/rbk/1_train-val_1min_aalesund_from_start/img1/000161.jpg: 1088x1920 22 players, 2.4ms\n",
      "\n",
      "image 1/1 /datasets/tdt4265/other/rbk/1_train-val_1min_aalesund_from_start/img1/000161.jpg: 1088x1920 1 ball, 2.4ms\n",
      "Speed: 4.4ms preprocess, 2.4ms inference, 0.5ms postprocess per image at shape (1, 3, 1088, 1920)\n",
      "\n",
      "image 1/1 /datasets/tdt4265/other/rbk/1_train-val_1min_aalesund_from_start/img1/000162.jpg: 1088x1920 22 players, 2.9ms\n",
      "\n",
      "image 1/1 /datasets/tdt4265/other/rbk/1_train-val_1min_aalesund_from_start/img1/000162.jpg: 1088x1920 1 ball, 2.3ms\n",
      "Speed: 3.0ms preprocess, 2.9ms inference, 0.5ms postprocess per image at shape (1, 3, 1088, 1920)\n",
      "\n",
      "image 1/1 /datasets/tdt4265/other/rbk/1_train-val_1min_aalesund_from_start/img1/000163.jpg: 1088x1920 22 players, 2.4ms\n",
      "\n",
      "image 1/1 /datasets/tdt4265/other/rbk/1_train-val_1min_aalesund_from_start/img1/000163.jpg: 1088x1920 1 ball, 2.5ms\n",
      "Speed: 4.3ms preprocess, 2.4ms inference, 0.5ms postprocess per image at shape (1, 3, 1088, 1920)\n",
      "\n",
      "image 1/1 /datasets/tdt4265/other/rbk/1_train-val_1min_aalesund_from_start/img1/000164.jpg: 1088x1920 22 players, 2.4ms\n",
      "\n",
      "image 1/1 /datasets/tdt4265/other/rbk/1_train-val_1min_aalesund_from_start/img1/000164.jpg: 1088x1920 1 ball, 2.4ms\n",
      "Speed: 2.4ms preprocess, 2.4ms inference, 0.5ms postprocess per image at shape (1, 3, 1088, 1920)\n",
      "\n",
      "image 1/1 /datasets/tdt4265/other/rbk/1_train-val_1min_aalesund_from_start/img1/000165.jpg: 1088x1920 22 players, 2.4ms\n",
      "\n",
      "image 1/1 /datasets/tdt4265/other/rbk/1_train-val_1min_aalesund_from_start/img1/000165.jpg: 1088x1920 1 ball, 2.6ms\n",
      "Speed: 4.5ms preprocess, 2.4ms inference, 0.5ms postprocess per image at shape (1, 3, 1088, 1920)\n",
      "\n",
      "image 1/1 /datasets/tdt4265/other/rbk/1_train-val_1min_aalesund_from_start/img1/000166.jpg: 1088x1920 22 players, 2.4ms\n",
      "\n",
      "image 1/1 /datasets/tdt4265/other/rbk/1_train-val_1min_aalesund_from_start/img1/000166.jpg: 1088x1920 1 ball, 2.4ms\n",
      "Speed: 3.1ms preprocess, 2.4ms inference, 0.5ms postprocess per image at shape (1, 3, 1088, 1920)\n",
      "\n",
      "image 1/1 /datasets/tdt4265/other/rbk/1_train-val_1min_aalesund_from_start/img1/000167.jpg: 1088x1920 22 players, 2.6ms\n",
      "\n",
      "image 1/1 /datasets/tdt4265/other/rbk/1_train-val_1min_aalesund_from_start/img1/000167.jpg: 1088x1920 1 ball, 2.5ms\n",
      "Speed: 4.5ms preprocess, 2.6ms inference, 0.6ms postprocess per image at shape (1, 3, 1088, 1920)\n",
      "\n",
      "image 1/1 /datasets/tdt4265/other/rbk/1_train-val_1min_aalesund_from_start/img1/000168.jpg: 1088x1920 22 players, 2.4ms\n",
      "\n",
      "image 1/1 /datasets/tdt4265/other/rbk/1_train-val_1min_aalesund_from_start/img1/000168.jpg: 1088x1920 1 ball, 2.6ms\n",
      "Speed: 2.3ms preprocess, 2.4ms inference, 0.7ms postprocess per image at shape (1, 3, 1088, 1920)\n",
      "\n",
      "image 1/1 /datasets/tdt4265/other/rbk/1_train-val_1min_aalesund_from_start/img1/000169.jpg: 1088x1920 22 players, 2.5ms\n",
      "\n",
      "image 1/1 /datasets/tdt4265/other/rbk/1_train-val_1min_aalesund_from_start/img1/000169.jpg: 1088x1920 1 ball, 2.3ms\n",
      "Speed: 4.4ms preprocess, 2.5ms inference, 0.5ms postprocess per image at shape (1, 3, 1088, 1920)\n",
      "\n",
      "image 1/1 /datasets/tdt4265/other/rbk/1_train-val_1min_aalesund_from_start/img1/000170.jpg: 1088x1920 22 players, 2.4ms\n",
      "\n",
      "image 1/1 /datasets/tdt4265/other/rbk/1_train-val_1min_aalesund_from_start/img1/000170.jpg: 1088x1920 1 ball, 2.3ms\n",
      "Speed: 3.2ms preprocess, 2.4ms inference, 0.5ms postprocess per image at shape (1, 3, 1088, 1920)\n",
      "\n",
      "image 1/1 /datasets/tdt4265/other/rbk/1_train-val_1min_aalesund_from_start/img1/000171.jpg: 1088x1920 22 players, 2.4ms\n",
      "\n",
      "image 1/1 /datasets/tdt4265/other/rbk/1_train-val_1min_aalesund_from_start/img1/000171.jpg: 1088x1920 1 ball, 2.5ms\n",
      "Speed: 4.4ms preprocess, 2.4ms inference, 0.6ms postprocess per image at shape (1, 3, 1088, 1920)\n",
      "\n",
      "image 1/1 /datasets/tdt4265/other/rbk/1_train-val_1min_aalesund_from_start/img1/000172.jpg: 1088x1920 22 players, 2.4ms\n",
      "\n",
      "image 1/1 /datasets/tdt4265/other/rbk/1_train-val_1min_aalesund_from_start/img1/000172.jpg: 1088x1920 1 ball, 2.5ms\n",
      "Speed: 3.0ms preprocess, 2.4ms inference, 0.6ms postprocess per image at shape (1, 3, 1088, 1920)\n",
      "\n",
      "image 1/1 /datasets/tdt4265/other/rbk/1_train-val_1min_aalesund_from_start/img1/000173.jpg: 1088x1920 22 players, 2.5ms\n",
      "\n",
      "image 1/1 /datasets/tdt4265/other/rbk/1_train-val_1min_aalesund_from_start/img1/000173.jpg: 1088x1920 1 ball, 2.3ms\n",
      "Speed: 4.2ms preprocess, 2.5ms inference, 0.5ms postprocess per image at shape (1, 3, 1088, 1920)\n",
      "\n",
      "image 1/1 /datasets/tdt4265/other/rbk/1_train-val_1min_aalesund_from_start/img1/000174.jpg: 1088x1920 22 players, 2.4ms\n",
      "\n",
      "image 1/1 /datasets/tdt4265/other/rbk/1_train-val_1min_aalesund_from_start/img1/000174.jpg: 1088x1920 1 ball, 2.4ms\n",
      "Speed: 2.4ms preprocess, 2.4ms inference, 0.5ms postprocess per image at shape (1, 3, 1088, 1920)\n",
      "\n",
      "image 1/1 /datasets/tdt4265/other/rbk/1_train-val_1min_aalesund_from_start/img1/000175.jpg: 1088x1920 22 players, 2.4ms\n",
      "\n",
      "image 1/1 /datasets/tdt4265/other/rbk/1_train-val_1min_aalesund_from_start/img1/000175.jpg: 1088x1920 1 ball, 2.3ms\n",
      "Speed: 4.4ms preprocess, 2.4ms inference, 0.5ms postprocess per image at shape (1, 3, 1088, 1920)\n",
      "\n",
      "image 1/1 /datasets/tdt4265/other/rbk/1_train-val_1min_aalesund_from_start/img1/000176.jpg: 1088x1920 22 players, 2.4ms\n",
      "\n",
      "image 1/1 /datasets/tdt4265/other/rbk/1_train-val_1min_aalesund_from_start/img1/000176.jpg: 1088x1920 1 ball, 2.4ms\n",
      "Speed: 3.1ms preprocess, 2.4ms inference, 0.5ms postprocess per image at shape (1, 3, 1088, 1920)\n",
      "\n",
      "image 1/1 /datasets/tdt4265/other/rbk/1_train-val_1min_aalesund_from_start/img1/000177.jpg: 1088x1920 22 players, 2.4ms\n",
      "\n",
      "image 1/1 /datasets/tdt4265/other/rbk/1_train-val_1min_aalesund_from_start/img1/000177.jpg: 1088x1920 1 ball, 2.4ms\n",
      "Speed: 4.5ms preprocess, 2.4ms inference, 0.6ms postprocess per image at shape (1, 3, 1088, 1920)\n",
      "\n",
      "image 1/1 /datasets/tdt4265/other/rbk/1_train-val_1min_aalesund_from_start/img1/000178.jpg: 1088x1920 22 players, 2.4ms\n",
      "\n",
      "image 1/1 /datasets/tdt4265/other/rbk/1_train-val_1min_aalesund_from_start/img1/000178.jpg: 1088x1920 1 ball, 2.4ms\n",
      "Speed: 3.1ms preprocess, 2.4ms inference, 0.7ms postprocess per image at shape (1, 3, 1088, 1920)\n",
      "\n",
      "image 1/1 /datasets/tdt4265/other/rbk/1_train-val_1min_aalesund_from_start/img1/000179.jpg: 1088x1920 22 players, 2.7ms\n",
      "\n",
      "image 1/1 /datasets/tdt4265/other/rbk/1_train-val_1min_aalesund_from_start/img1/000179.jpg: 1088x1920 (no detections), 2.5ms\n",
      "Speed: 4.5ms preprocess, 2.7ms inference, 0.5ms postprocess per image at shape (1, 3, 1088, 1920)\n",
      "\n",
      "image 1/1 /datasets/tdt4265/other/rbk/1_train-val_1min_aalesund_from_start/img1/000180.jpg: 1088x1920 22 players, 2.5ms\n",
      "\n",
      "image 1/1 /datasets/tdt4265/other/rbk/1_train-val_1min_aalesund_from_start/img1/000180.jpg: 1088x1920 (no detections), 2.4ms\n",
      "Speed: 3.3ms preprocess, 2.5ms inference, 0.6ms postprocess per image at shape (1, 3, 1088, 1920)\n",
      "\n",
      "image 1/1 /datasets/tdt4265/other/rbk/1_train-val_1min_aalesund_from_start/img1/000181.jpg: 1088x1920 22 players, 2.7ms\n",
      "\n",
      "image 1/1 /datasets/tdt4265/other/rbk/1_train-val_1min_aalesund_from_start/img1/000181.jpg: 1088x1920 (no detections), 2.4ms\n",
      "Speed: 4.6ms preprocess, 2.7ms inference, 0.8ms postprocess per image at shape (1, 3, 1088, 1920)\n",
      "\n",
      "image 1/1 /datasets/tdt4265/other/rbk/1_train-val_1min_aalesund_from_start/img1/000182.jpg: 1088x1920 22 players, 2.6ms\n",
      "\n",
      "image 1/1 /datasets/tdt4265/other/rbk/1_train-val_1min_aalesund_from_start/img1/000182.jpg: 1088x1920 (no detections), 2.5ms\n",
      "Speed: 3.1ms preprocess, 2.6ms inference, 0.5ms postprocess per image at shape (1, 3, 1088, 1920)\n",
      "\n",
      "image 1/1 /datasets/tdt4265/other/rbk/1_train-val_1min_aalesund_from_start/img1/000183.jpg: 1088x1920 22 players, 2.4ms\n",
      "\n",
      "image 1/1 /datasets/tdt4265/other/rbk/1_train-val_1min_aalesund_from_start/img1/000183.jpg: 1088x1920 (no detections), 2.4ms\n",
      "Speed: 4.3ms preprocess, 2.4ms inference, 0.6ms postprocess per image at shape (1, 3, 1088, 1920)\n",
      "\n",
      "image 1/1 /datasets/tdt4265/other/rbk/1_train-val_1min_aalesund_from_start/img1/000184.jpg: 1088x1920 22 players, 2.5ms\n",
      "\n",
      "image 1/1 /datasets/tdt4265/other/rbk/1_train-val_1min_aalesund_from_start/img1/000184.jpg: 1088x1920 (no detections), 2.4ms\n",
      "Speed: 2.4ms preprocess, 2.5ms inference, 0.8ms postprocess per image at shape (1, 3, 1088, 1920)\n",
      "\n",
      "image 1/1 /datasets/tdt4265/other/rbk/1_train-val_1min_aalesund_from_start/img1/000185.jpg: 1088x1920 22 players, 2.6ms\n",
      "\n",
      "image 1/1 /datasets/tdt4265/other/rbk/1_train-val_1min_aalesund_from_start/img1/000185.jpg: 1088x1920 (no detections), 2.3ms\n",
      "Speed: 4.4ms preprocess, 2.6ms inference, 0.5ms postprocess per image at shape (1, 3, 1088, 1920)\n",
      "\n",
      "image 1/1 /datasets/tdt4265/other/rbk/1_train-val_1min_aalesund_from_start/img1/000186.jpg: 1088x1920 22 players, 2.4ms\n",
      "\n",
      "image 1/1 /datasets/tdt4265/other/rbk/1_train-val_1min_aalesund_from_start/img1/000186.jpg: 1088x1920 (no detections), 2.3ms\n",
      "Speed: 3.1ms preprocess, 2.4ms inference, 0.5ms postprocess per image at shape (1, 3, 1088, 1920)\n",
      "\n",
      "image 1/1 /datasets/tdt4265/other/rbk/1_train-val_1min_aalesund_from_start/img1/000187.jpg: 1088x1920 22 players, 2.4ms\n",
      "\n",
      "image 1/1 /datasets/tdt4265/other/rbk/1_train-val_1min_aalesund_from_start/img1/000187.jpg: 1088x1920 (no detections), 2.3ms\n",
      "Speed: 4.5ms preprocess, 2.4ms inference, 0.6ms postprocess per image at shape (1, 3, 1088, 1920)\n",
      "\n",
      "image 1/1 /datasets/tdt4265/other/rbk/1_train-val_1min_aalesund_from_start/img1/000188.jpg: 1088x1920 22 players, 2.6ms\n",
      "\n",
      "image 1/1 /datasets/tdt4265/other/rbk/1_train-val_1min_aalesund_from_start/img1/000188.jpg: 1088x1920 (no detections), 2.3ms\n",
      "Speed: 3.1ms preprocess, 2.6ms inference, 0.5ms postprocess per image at shape (1, 3, 1088, 1920)\n",
      "\n",
      "image 1/1 /datasets/tdt4265/other/rbk/1_train-val_1min_aalesund_from_start/img1/000189.jpg: 1088x1920 22 players, 2.5ms\n",
      "\n",
      "image 1/1 /datasets/tdt4265/other/rbk/1_train-val_1min_aalesund_from_start/img1/000189.jpg: 1088x1920 (no detections), 2.5ms\n",
      "Speed: 4.5ms preprocess, 2.5ms inference, 0.8ms postprocess per image at shape (1, 3, 1088, 1920)\n",
      "\n",
      "image 1/1 /datasets/tdt4265/other/rbk/1_train-val_1min_aalesund_from_start/img1/000190.jpg: 1088x1920 22 players, 2.4ms\n",
      "\n",
      "image 1/1 /datasets/tdt4265/other/rbk/1_train-val_1min_aalesund_from_start/img1/000190.jpg: 1088x1920 (no detections), 2.5ms\n",
      "Speed: 3.2ms preprocess, 2.4ms inference, 0.6ms postprocess per image at shape (1, 3, 1088, 1920)\n",
      "\n",
      "image 1/1 /datasets/tdt4265/other/rbk/1_train-val_1min_aalesund_from_start/img1/000191.jpg: 1088x1920 22 players, 2.6ms\n",
      "\n",
      "image 1/1 /datasets/tdt4265/other/rbk/1_train-val_1min_aalesund_from_start/img1/000191.jpg: 1088x1920 (no detections), 2.3ms\n",
      "Speed: 4.6ms preprocess, 2.6ms inference, 0.8ms postprocess per image at shape (1, 3, 1088, 1920)\n",
      "\n",
      "image 1/1 /datasets/tdt4265/other/rbk/1_train-val_1min_aalesund_from_start/img1/000192.jpg: 1088x1920 22 players, 2.5ms\n",
      "\n",
      "image 1/1 /datasets/tdt4265/other/rbk/1_train-val_1min_aalesund_from_start/img1/000192.jpg: 1088x1920 (no detections), 2.3ms\n",
      "Speed: 3.1ms preprocess, 2.5ms inference, 0.5ms postprocess per image at shape (1, 3, 1088, 1920)\n",
      "\n",
      "image 1/1 /datasets/tdt4265/other/rbk/1_train-val_1min_aalesund_from_start/img1/000193.jpg: 1088x1920 22 players, 2.4ms\n",
      "\n",
      "image 1/1 /datasets/tdt4265/other/rbk/1_train-val_1min_aalesund_from_start/img1/000193.jpg: 1088x1920 (no detections), 2.4ms\n",
      "Speed: 4.3ms preprocess, 2.4ms inference, 0.6ms postprocess per image at shape (1, 3, 1088, 1920)\n",
      "\n",
      "image 1/1 /datasets/tdt4265/other/rbk/1_train-val_1min_aalesund_from_start/img1/000194.jpg: 1088x1920 22 players, 2.5ms\n",
      "\n",
      "image 1/1 /datasets/tdt4265/other/rbk/1_train-val_1min_aalesund_from_start/img1/000194.jpg: 1088x1920 (no detections), 2.6ms\n",
      "Speed: 3.3ms preprocess, 2.5ms inference, 0.5ms postprocess per image at shape (1, 3, 1088, 1920)\n",
      "\n",
      "image 1/1 /datasets/tdt4265/other/rbk/1_train-val_1min_aalesund_from_start/img1/000195.jpg: 1088x1920 22 players, 2.5ms\n",
      "\n",
      "image 1/1 /datasets/tdt4265/other/rbk/1_train-val_1min_aalesund_from_start/img1/000195.jpg: 1088x1920 (no detections), 2.4ms\n",
      "Speed: 4.4ms preprocess, 2.5ms inference, 0.5ms postprocess per image at shape (1, 3, 1088, 1920)\n",
      "\n",
      "image 1/1 /datasets/tdt4265/other/rbk/1_train-val_1min_aalesund_from_start/img1/000196.jpg: 1088x1920 22 players, 2.4ms\n",
      "\n",
      "image 1/1 /datasets/tdt4265/other/rbk/1_train-val_1min_aalesund_from_start/img1/000196.jpg: 1088x1920 (no detections), 2.3ms\n",
      "Speed: 3.1ms preprocess, 2.4ms inference, 1.0ms postprocess per image at shape (1, 3, 1088, 1920)\n",
      "\n",
      "image 1/1 /datasets/tdt4265/other/rbk/1_train-val_1min_aalesund_from_start/img1/000197.jpg: 1088x1920 22 players, 2.5ms\n",
      "\n",
      "image 1/1 /datasets/tdt4265/other/rbk/1_train-val_1min_aalesund_from_start/img1/000197.jpg: 1088x1920 (no detections), 2.3ms\n",
      "Speed: 4.4ms preprocess, 2.5ms inference, 0.5ms postprocess per image at shape (1, 3, 1088, 1920)\n",
      "\n",
      "image 1/1 /datasets/tdt4265/other/rbk/1_train-val_1min_aalesund_from_start/img1/000198.jpg: 1088x1920 22 players, 2.5ms\n",
      "\n",
      "image 1/1 /datasets/tdt4265/other/rbk/1_train-val_1min_aalesund_from_start/img1/000198.jpg: 1088x1920 (no detections), 2.3ms\n",
      "Speed: 2.3ms preprocess, 2.5ms inference, 0.5ms postprocess per image at shape (1, 3, 1088, 1920)\n",
      "\n",
      "image 1/1 /datasets/tdt4265/other/rbk/1_train-val_1min_aalesund_from_start/img1/000199.jpg: 1088x1920 22 players, 2.6ms\n",
      "\n",
      "image 1/1 /datasets/tdt4265/other/rbk/1_train-val_1min_aalesund_from_start/img1/000199.jpg: 1088x1920 (no detections), 2.7ms\n",
      "Speed: 4.5ms preprocess, 2.6ms inference, 0.8ms postprocess per image at shape (1, 3, 1088, 1920)\n",
      "\n",
      "image 1/1 /datasets/tdt4265/other/rbk/1_train-val_1min_aalesund_from_start/img1/000200.jpg: 1088x1920 22 players, 2.4ms\n",
      "\n",
      "image 1/1 /datasets/tdt4265/other/rbk/1_train-val_1min_aalesund_from_start/img1/000200.jpg: 1088x1920 (no detections), 2.5ms\n",
      "Speed: 3.2ms preprocess, 2.4ms inference, 0.7ms postprocess per image at shape (1, 3, 1088, 1920)\n",
      "\n",
      "image 1/1 /datasets/tdt4265/other/rbk/1_train-val_1min_aalesund_from_start/img1/000201.jpg: 1088x1920 22 players, 2.4ms\n",
      "\n",
      "image 1/1 /datasets/tdt4265/other/rbk/1_train-val_1min_aalesund_from_start/img1/000201.jpg: 1088x1920 (no detections), 2.4ms\n",
      "Speed: 4.5ms preprocess, 2.4ms inference, 0.6ms postprocess per image at shape (1, 3, 1088, 1920)\n",
      "\n",
      "image 1/1 /datasets/tdt4265/other/rbk/1_train-val_1min_aalesund_from_start/img1/000202.jpg: 1088x1920 22 players, 2.4ms\n",
      "\n",
      "image 1/1 /datasets/tdt4265/other/rbk/1_train-val_1min_aalesund_from_start/img1/000202.jpg: 1088x1920 (no detections), 2.3ms\n",
      "Speed: 3.1ms preprocess, 2.4ms inference, 0.5ms postprocess per image at shape (1, 3, 1088, 1920)\n",
      "\n",
      "image 1/1 /datasets/tdt4265/other/rbk/1_train-val_1min_aalesund_from_start/img1/000203.jpg: 1088x1920 22 players, 2.4ms\n",
      "\n",
      "image 1/1 /datasets/tdt4265/other/rbk/1_train-val_1min_aalesund_from_start/img1/000203.jpg: 1088x1920 (no detections), 2.5ms\n",
      "Speed: 4.3ms preprocess, 2.4ms inference, 0.6ms postprocess per image at shape (1, 3, 1088, 1920)\n",
      "\n",
      "image 1/1 /datasets/tdt4265/other/rbk/1_train-val_1min_aalesund_from_start/img1/000204.jpg: 1088x1920 22 players, 2.4ms\n",
      "\n",
      "image 1/1 /datasets/tdt4265/other/rbk/1_train-val_1min_aalesund_from_start/img1/000204.jpg: 1088x1920 (no detections), 2.4ms\n",
      "Speed: 2.4ms preprocess, 2.4ms inference, 0.5ms postprocess per image at shape (1, 3, 1088, 1920)\n",
      "\n",
      "image 1/1 /datasets/tdt4265/other/rbk/1_train-val_1min_aalesund_from_start/img1/000205.jpg: 1088x1920 22 players, 2.6ms\n",
      "\n",
      "image 1/1 /datasets/tdt4265/other/rbk/1_train-val_1min_aalesund_from_start/img1/000205.jpg: 1088x1920 (no detections), 2.3ms\n",
      "Speed: 4.5ms preprocess, 2.6ms inference, 0.8ms postprocess per image at shape (1, 3, 1088, 1920)\n",
      "\n",
      "image 1/1 /datasets/tdt4265/other/rbk/1_train-val_1min_aalesund_from_start/img1/000206.jpg: 1088x1920 22 players, 2.4ms\n",
      "\n",
      "image 1/1 /datasets/tdt4265/other/rbk/1_train-val_1min_aalesund_from_start/img1/000206.jpg: 1088x1920 (no detections), 2.6ms\n",
      "Speed: 3.1ms preprocess, 2.4ms inference, 0.6ms postprocess per image at shape (1, 3, 1088, 1920)\n",
      "\n",
      "image 1/1 /datasets/tdt4265/other/rbk/1_train-val_1min_aalesund_from_start/img1/000207.jpg: 1088x1920 22 players, 2.5ms\n",
      "\n",
      "image 1/1 /datasets/tdt4265/other/rbk/1_train-val_1min_aalesund_from_start/img1/000207.jpg: 1088x1920 1 ball, 2.5ms\n",
      "Speed: 4.5ms preprocess, 2.5ms inference, 0.5ms postprocess per image at shape (1, 3, 1088, 1920)\n",
      "\n",
      "image 1/1 /datasets/tdt4265/other/rbk/1_train-val_1min_aalesund_from_start/img1/000208.jpg: 1088x1920 22 players, 2.4ms\n",
      "\n",
      "image 1/1 /datasets/tdt4265/other/rbk/1_train-val_1min_aalesund_from_start/img1/000208.jpg: 1088x1920 1 ball, 2.3ms\n",
      "Speed: 2.3ms preprocess, 2.4ms inference, 0.5ms postprocess per image at shape (1, 3, 1088, 1920)\n",
      "\n",
      "image 1/1 /datasets/tdt4265/other/rbk/1_train-val_1min_aalesund_from_start/img1/000209.jpg: 1088x1920 22 players, 2.4ms\n",
      "\n",
      "image 1/1 /datasets/tdt4265/other/rbk/1_train-val_1min_aalesund_from_start/img1/000209.jpg: 1088x1920 1 ball, 2.5ms\n",
      "Speed: 4.4ms preprocess, 2.4ms inference, 0.5ms postprocess per image at shape (1, 3, 1088, 1920)\n",
      "\n",
      "image 1/1 /datasets/tdt4265/other/rbk/1_train-val_1min_aalesund_from_start/img1/000210.jpg: 1088x1920 22 players, 2.4ms\n",
      "\n",
      "image 1/1 /datasets/tdt4265/other/rbk/1_train-val_1min_aalesund_from_start/img1/000210.jpg: 1088x1920 1 ball, 2.4ms\n",
      "Speed: 3.2ms preprocess, 2.4ms inference, 0.5ms postprocess per image at shape (1, 3, 1088, 1920)\n",
      "\n",
      "image 1/1 /datasets/tdt4265/other/rbk/1_train-val_1min_aalesund_from_start/img1/000211.jpg: 1088x1920 22 players, 2.4ms\n",
      "\n",
      "image 1/1 /datasets/tdt4265/other/rbk/1_train-val_1min_aalesund_from_start/img1/000211.jpg: 1088x1920 1 ball, 2.3ms\n",
      "Speed: 4.4ms preprocess, 2.4ms inference, 0.5ms postprocess per image at shape (1, 3, 1088, 1920)\n",
      "\n",
      "image 1/1 /datasets/tdt4265/other/rbk/1_train-val_1min_aalesund_from_start/img1/000212.jpg: 1088x1920 22 players, 2.6ms\n",
      "\n",
      "image 1/1 /datasets/tdt4265/other/rbk/1_train-val_1min_aalesund_from_start/img1/000212.jpg: 1088x1920 1 ball, 2.3ms\n",
      "Speed: 3.0ms preprocess, 2.6ms inference, 0.5ms postprocess per image at shape (1, 3, 1088, 1920)\n",
      "\n",
      "image 1/1 /datasets/tdt4265/other/rbk/1_train-val_1min_aalesund_from_start/img1/000213.jpg: 1088x1920 22 players, 2.4ms\n",
      "\n",
      "image 1/1 /datasets/tdt4265/other/rbk/1_train-val_1min_aalesund_from_start/img1/000213.jpg: 1088x1920 1 ball, 2.5ms\n",
      "Speed: 4.2ms preprocess, 2.4ms inference, 0.6ms postprocess per image at shape (1, 3, 1088, 1920)\n",
      "\n",
      "image 1/1 /datasets/tdt4265/other/rbk/1_train-val_1min_aalesund_from_start/img1/000214.jpg: 1088x1920 22 players, 2.5ms\n",
      "\n",
      "image 1/1 /datasets/tdt4265/other/rbk/1_train-val_1min_aalesund_from_start/img1/000214.jpg: 1088x1920 1 ball, 2.4ms\n",
      "Speed: 2.4ms preprocess, 2.5ms inference, 0.5ms postprocess per image at shape (1, 3, 1088, 1920)\n",
      "\n",
      "image 1/1 /datasets/tdt4265/other/rbk/1_train-val_1min_aalesund_from_start/img1/000215.jpg: 1088x1920 22 players, 2.5ms\n",
      "\n",
      "image 1/1 /datasets/tdt4265/other/rbk/1_train-val_1min_aalesund_from_start/img1/000215.jpg: 1088x1920 1 ball, 2.4ms\n",
      "Speed: 4.5ms preprocess, 2.5ms inference, 0.5ms postprocess per image at shape (1, 3, 1088, 1920)\n",
      "\n",
      "image 1/1 /datasets/tdt4265/other/rbk/1_train-val_1min_aalesund_from_start/img1/000216.jpg: 1088x1920 22 players, 2.6ms\n",
      "\n",
      "image 1/1 /datasets/tdt4265/other/rbk/1_train-val_1min_aalesund_from_start/img1/000216.jpg: 1088x1920 1 ball, 2.6ms\n",
      "Speed: 3.1ms preprocess, 2.6ms inference, 0.6ms postprocess per image at shape (1, 3, 1088, 1920)\n",
      "\n",
      "image 1/1 /datasets/tdt4265/other/rbk/1_train-val_1min_aalesund_from_start/img1/000217.jpg: 1088x1920 22 players, 2.6ms\n",
      "\n",
      "image 1/1 /datasets/tdt4265/other/rbk/1_train-val_1min_aalesund_from_start/img1/000217.jpg: 1088x1920 1 ball, 2.5ms\n",
      "Speed: 4.4ms preprocess, 2.6ms inference, 0.5ms postprocess per image at shape (1, 3, 1088, 1920)\n",
      "\n",
      "image 1/1 /datasets/tdt4265/other/rbk/1_train-val_1min_aalesund_from_start/img1/000218.jpg: 1088x1920 22 players, 2.4ms\n",
      "\n",
      "image 1/1 /datasets/tdt4265/other/rbk/1_train-val_1min_aalesund_from_start/img1/000218.jpg: 1088x1920 1 ball, 2.3ms\n",
      "Speed: 3.1ms preprocess, 2.4ms inference, 0.5ms postprocess per image at shape (1, 3, 1088, 1920)\n",
      "\n",
      "image 1/1 /datasets/tdt4265/other/rbk/1_train-val_1min_aalesund_from_start/img1/000219.jpg: 1088x1920 22 players, 2.4ms\n",
      "\n",
      "image 1/1 /datasets/tdt4265/other/rbk/1_train-val_1min_aalesund_from_start/img1/000219.jpg: 1088x1920 1 ball, 3.2ms\n",
      "Speed: 4.4ms preprocess, 2.4ms inference, 0.5ms postprocess per image at shape (1, 3, 1088, 1920)\n",
      "\n",
      "image 1/1 /datasets/tdt4265/other/rbk/1_train-val_1min_aalesund_from_start/img1/000220.jpg: 1088x1920 22 players, 2.4ms\n",
      "\n",
      "image 1/1 /datasets/tdt4265/other/rbk/1_train-val_1min_aalesund_from_start/img1/000220.jpg: 1088x1920 1 ball, 2.5ms\n",
      "Speed: 3.3ms preprocess, 2.4ms inference, 0.5ms postprocess per image at shape (1, 3, 1088, 1920)\n",
      "\n",
      "image 1/1 /datasets/tdt4265/other/rbk/1_train-val_1min_aalesund_from_start/img1/000221.jpg: 1088x1920 22 players, 2.4ms\n",
      "\n",
      "image 1/1 /datasets/tdt4265/other/rbk/1_train-val_1min_aalesund_from_start/img1/000221.jpg: 1088x1920 1 ball, 2.5ms\n",
      "Speed: 4.5ms preprocess, 2.4ms inference, 0.5ms postprocess per image at shape (1, 3, 1088, 1920)\n",
      "\n",
      "image 1/1 /datasets/tdt4265/other/rbk/1_train-val_1min_aalesund_from_start/img1/000222.jpg: 1088x1920 22 players, 2.6ms\n",
      "\n",
      "image 1/1 /datasets/tdt4265/other/rbk/1_train-val_1min_aalesund_from_start/img1/000222.jpg: 1088x1920 1 ball, 2.4ms\n",
      "Speed: 3.1ms preprocess, 2.6ms inference, 0.8ms postprocess per image at shape (1, 3, 1088, 1920)\n",
      "\n",
      "image 1/1 /datasets/tdt4265/other/rbk/1_train-val_1min_aalesund_from_start/img1/000223.jpg: 1088x1920 22 players, 2.6ms\n",
      "\n",
      "image 1/1 /datasets/tdt4265/other/rbk/1_train-val_1min_aalesund_from_start/img1/000223.jpg: 1088x1920 1 ball, 2.4ms\n",
      "Speed: 4.3ms preprocess, 2.6ms inference, 0.8ms postprocess per image at shape (1, 3, 1088, 1920)\n",
      "\n",
      "image 1/1 /datasets/tdt4265/other/rbk/1_train-val_1min_aalesund_from_start/img1/000224.jpg: 1088x1920 22 players, 2.6ms\n",
      "\n",
      "image 1/1 /datasets/tdt4265/other/rbk/1_train-val_1min_aalesund_from_start/img1/000224.jpg: 1088x1920 1 ball, 2.4ms\n",
      "Speed: 2.4ms preprocess, 2.6ms inference, 0.8ms postprocess per image at shape (1, 3, 1088, 1920)\n",
      "\n",
      "image 1/1 /datasets/tdt4265/other/rbk/1_train-val_1min_aalesund_from_start/img1/000225.jpg: 1088x1920 22 players, 2.5ms\n",
      "\n",
      "image 1/1 /datasets/tdt4265/other/rbk/1_train-val_1min_aalesund_from_start/img1/000225.jpg: 1088x1920 1 ball, 2.3ms\n",
      "Speed: 4.6ms preprocess, 2.5ms inference, 0.5ms postprocess per image at shape (1, 3, 1088, 1920)\n",
      "\n",
      "image 1/1 /datasets/tdt4265/other/rbk/1_train-val_1min_aalesund_from_start/img1/000226.jpg: 1088x1920 22 players, 2.6ms\n",
      "\n",
      "image 1/1 /datasets/tdt4265/other/rbk/1_train-val_1min_aalesund_from_start/img1/000226.jpg: 1088x1920 1 ball, 2.4ms\n",
      "Speed: 3.2ms preprocess, 2.6ms inference, 0.8ms postprocess per image at shape (1, 3, 1088, 1920)\n",
      "\n",
      "image 1/1 /datasets/tdt4265/other/rbk/1_train-val_1min_aalesund_from_start/img1/000227.jpg: 1088x1920 22 players, 2.7ms\n",
      "\n",
      "image 1/1 /datasets/tdt4265/other/rbk/1_train-val_1min_aalesund_from_start/img1/000227.jpg: 1088x1920 1 ball, 2.4ms\n",
      "Speed: 4.6ms preprocess, 2.7ms inference, 0.8ms postprocess per image at shape (1, 3, 1088, 1920)\n",
      "\n",
      "image 1/1 /datasets/tdt4265/other/rbk/1_train-val_1min_aalesund_from_start/img1/000228.jpg: 1088x1920 21 players, 2.4ms\n",
      "\n",
      "image 1/1 /datasets/tdt4265/other/rbk/1_train-val_1min_aalesund_from_start/img1/000228.jpg: 1088x1920 1 ball, 2.6ms\n",
      "Speed: 2.3ms preprocess, 2.4ms inference, 0.5ms postprocess per image at shape (1, 3, 1088, 1920)\n",
      "\n",
      "image 1/1 /datasets/tdt4265/other/rbk/1_train-val_1min_aalesund_from_start/img1/000229.jpg: 1088x1920 21 players, 2.4ms\n",
      "\n",
      "image 1/1 /datasets/tdt4265/other/rbk/1_train-val_1min_aalesund_from_start/img1/000229.jpg: 1088x1920 1 ball, 2.6ms\n",
      "Speed: 4.6ms preprocess, 2.4ms inference, 0.5ms postprocess per image at shape (1, 3, 1088, 1920)\n",
      "\n",
      "image 1/1 /datasets/tdt4265/other/rbk/1_train-val_1min_aalesund_from_start/img1/000230.jpg: 1088x1920 21 players, 2.4ms\n",
      "\n",
      "image 1/1 /datasets/tdt4265/other/rbk/1_train-val_1min_aalesund_from_start/img1/000230.jpg: 1088x1920 1 ball, 2.4ms\n",
      "Speed: 3.3ms preprocess, 2.4ms inference, 0.5ms postprocess per image at shape (1, 3, 1088, 1920)\n",
      "\n",
      "image 1/1 /datasets/tdt4265/other/rbk/1_train-val_1min_aalesund_from_start/img1/000231.jpg: 1088x1920 21 players, 2.4ms\n",
      "\n",
      "image 1/1 /datasets/tdt4265/other/rbk/1_train-val_1min_aalesund_from_start/img1/000231.jpg: 1088x1920 1 ball, 2.6ms\n",
      "Speed: 4.6ms preprocess, 2.4ms inference, 0.5ms postprocess per image at shape (1, 3, 1088, 1920)\n",
      "\n",
      "image 1/1 /datasets/tdt4265/other/rbk/1_train-val_1min_aalesund_from_start/img1/000232.jpg: 1088x1920 22 players, 2.4ms\n",
      "\n",
      "image 1/1 /datasets/tdt4265/other/rbk/1_train-val_1min_aalesund_from_start/img1/000232.jpg: 1088x1920 1 ball, 2.5ms\n",
      "Speed: 3.1ms preprocess, 2.4ms inference, 0.5ms postprocess per image at shape (1, 3, 1088, 1920)\n",
      "\n",
      "image 1/1 /datasets/tdt4265/other/rbk/1_train-val_1min_aalesund_from_start/img1/000233.jpg: 1088x1920 22 players, 2.5ms\n",
      "\n",
      "image 1/1 /datasets/tdt4265/other/rbk/1_train-val_1min_aalesund_from_start/img1/000233.jpg: 1088x1920 1 ball, 2.5ms\n",
      "Speed: 4.4ms preprocess, 2.5ms inference, 0.5ms postprocess per image at shape (1, 3, 1088, 1920)\n",
      "\n",
      "image 1/1 /datasets/tdt4265/other/rbk/1_train-val_1min_aalesund_from_start/img1/000234.jpg: 1088x1920 22 players, 2.5ms\n",
      "\n",
      "image 1/1 /datasets/tdt4265/other/rbk/1_train-val_1min_aalesund_from_start/img1/000234.jpg: 1088x1920 1 ball, 2.4ms\n",
      "Speed: 3.4ms preprocess, 2.5ms inference, 0.5ms postprocess per image at shape (1, 3, 1088, 1920)\n",
      "\n",
      "image 1/1 /datasets/tdt4265/other/rbk/1_train-val_1min_aalesund_from_start/img1/000235.jpg: 1088x1920 22 players, 2.5ms\n",
      "\n",
      "image 1/1 /datasets/tdt4265/other/rbk/1_train-val_1min_aalesund_from_start/img1/000235.jpg: 1088x1920 1 ball, 2.5ms\n",
      "Speed: 4.5ms preprocess, 2.5ms inference, 0.5ms postprocess per image at shape (1, 3, 1088, 1920)\n",
      "\n",
      "image 1/1 /datasets/tdt4265/other/rbk/1_train-val_1min_aalesund_from_start/img1/000236.jpg: 1088x1920 22 players, 2.5ms\n",
      "\n",
      "image 1/1 /datasets/tdt4265/other/rbk/1_train-val_1min_aalesund_from_start/img1/000236.jpg: 1088x1920 1 ball, 2.5ms\n",
      "Speed: 3.1ms preprocess, 2.5ms inference, 0.5ms postprocess per image at shape (1, 3, 1088, 1920)\n",
      "\n",
      "image 1/1 /datasets/tdt4265/other/rbk/1_train-val_1min_aalesund_from_start/img1/000237.jpg: 1088x1920 22 players, 2.5ms\n",
      "\n",
      "image 1/1 /datasets/tdt4265/other/rbk/1_train-val_1min_aalesund_from_start/img1/000237.jpg: 1088x1920 1 ball, 2.5ms\n",
      "Speed: 4.4ms preprocess, 2.5ms inference, 0.5ms postprocess per image at shape (1, 3, 1088, 1920)\n",
      "\n",
      "image 1/1 /datasets/tdt4265/other/rbk/1_train-val_1min_aalesund_from_start/img1/000238.jpg: 1088x1920 22 players, 2.5ms\n",
      "\n",
      "image 1/1 /datasets/tdt4265/other/rbk/1_train-val_1min_aalesund_from_start/img1/000238.jpg: 1088x1920 1 ball, 2.4ms\n",
      "Speed: 2.3ms preprocess, 2.5ms inference, 0.5ms postprocess per image at shape (1, 3, 1088, 1920)\n",
      "\n",
      "image 1/1 /datasets/tdt4265/other/rbk/1_train-val_1min_aalesund_from_start/img1/000239.jpg: 1088x1920 22 players, 2.5ms\n",
      "\n",
      "image 1/1 /datasets/tdt4265/other/rbk/1_train-val_1min_aalesund_from_start/img1/000239.jpg: 1088x1920 1 ball, 2.3ms\n",
      "Speed: 4.4ms preprocess, 2.5ms inference, 0.5ms postprocess per image at shape (1, 3, 1088, 1920)\n",
      "\n",
      "image 1/1 /datasets/tdt4265/other/rbk/1_train-val_1min_aalesund_from_start/img1/000240.jpg: 1088x1920 22 players, 2.6ms\n",
      "\n",
      "image 1/1 /datasets/tdt4265/other/rbk/1_train-val_1min_aalesund_from_start/img1/000240.jpg: 1088x1920 1 ball, 2.6ms\n",
      "Speed: 3.3ms preprocess, 2.6ms inference, 0.5ms postprocess per image at shape (1, 3, 1088, 1920)\n",
      "\n",
      "image 1/1 /datasets/tdt4265/other/rbk/1_train-val_1min_aalesund_from_start/img1/000241.jpg: 1088x1920 22 players, 2.4ms\n",
      "\n",
      "image 1/1 /datasets/tdt4265/other/rbk/1_train-val_1min_aalesund_from_start/img1/000241.jpg: 1088x1920 1 ball, 2.5ms\n",
      "Speed: 4.5ms preprocess, 2.4ms inference, 0.6ms postprocess per image at shape (1, 3, 1088, 1920)\n",
      "\n",
      "image 1/1 /datasets/tdt4265/other/rbk/1_train-val_1min_aalesund_from_start/img1/000242.jpg: 1088x1920 22 players, 2.4ms\n",
      "\n",
      "image 1/1 /datasets/tdt4265/other/rbk/1_train-val_1min_aalesund_from_start/img1/000242.jpg: 1088x1920 1 ball, 2.5ms\n",
      "Speed: 3.1ms preprocess, 2.4ms inference, 0.5ms postprocess per image at shape (1, 3, 1088, 1920)\n",
      "\n",
      "image 1/1 /datasets/tdt4265/other/rbk/1_train-val_1min_aalesund_from_start/img1/000243.jpg: 1088x1920 22 players, 2.4ms\n",
      "\n",
      "image 1/1 /datasets/tdt4265/other/rbk/1_train-val_1min_aalesund_from_start/img1/000243.jpg: 1088x1920 1 ball, 2.9ms\n",
      "Speed: 4.3ms preprocess, 2.4ms inference, 0.6ms postprocess per image at shape (1, 3, 1088, 1920)\n",
      "\n",
      "image 1/1 /datasets/tdt4265/other/rbk/1_train-val_1min_aalesund_from_start/img1/000244.jpg: 1088x1920 22 players, 2.4ms\n",
      "\n",
      "image 1/1 /datasets/tdt4265/other/rbk/1_train-val_1min_aalesund_from_start/img1/000244.jpg: 1088x1920 1 ball, 2.4ms\n",
      "Speed: 2.5ms preprocess, 2.4ms inference, 0.5ms postprocess per image at shape (1, 3, 1088, 1920)\n",
      "\n",
      "image 1/1 /datasets/tdt4265/other/rbk/1_train-val_1min_aalesund_from_start/img1/000245.jpg: 1088x1920 22 players, 2.6ms\n",
      "\n",
      "image 1/1 /datasets/tdt4265/other/rbk/1_train-val_1min_aalesund_from_start/img1/000245.jpg: 1088x1920 1 ball, 2.3ms\n",
      "Speed: 4.5ms preprocess, 2.6ms inference, 0.8ms postprocess per image at shape (1, 3, 1088, 1920)\n",
      "\n",
      "image 1/1 /datasets/tdt4265/other/rbk/1_train-val_1min_aalesund_from_start/img1/000246.jpg: 1088x1920 22 players, 2.4ms\n",
      "\n",
      "image 1/1 /datasets/tdt4265/other/rbk/1_train-val_1min_aalesund_from_start/img1/000246.jpg: 1088x1920 1 ball, 2.5ms\n",
      "Speed: 3.2ms preprocess, 2.4ms inference, 0.5ms postprocess per image at shape (1, 3, 1088, 1920)\n",
      "\n",
      "image 1/1 /datasets/tdt4265/other/rbk/1_train-val_1min_aalesund_from_start/img1/000247.jpg: 1088x1920 22 players, 2.4ms\n",
      "\n",
      "image 1/1 /datasets/tdt4265/other/rbk/1_train-val_1min_aalesund_from_start/img1/000247.jpg: 1088x1920 1 ball, 2.5ms\n",
      "Speed: 4.5ms preprocess, 2.4ms inference, 0.5ms postprocess per image at shape (1, 3, 1088, 1920)\n",
      "\n",
      "image 1/1 /datasets/tdt4265/other/rbk/1_train-val_1min_aalesund_from_start/img1/000248.jpg: 1088x1920 22 players, 2.6ms\n",
      "\n",
      "image 1/1 /datasets/tdt4265/other/rbk/1_train-val_1min_aalesund_from_start/img1/000248.jpg: 1088x1920 1 ball, 2.4ms\n",
      "Speed: 2.3ms preprocess, 2.6ms inference, 0.6ms postprocess per image at shape (1, 3, 1088, 1920)\n",
      "\n",
      "image 1/1 /datasets/tdt4265/other/rbk/1_train-val_1min_aalesund_from_start/img1/000249.jpg: 1088x1920 22 players, 2.4ms\n",
      "\n",
      "image 1/1 /datasets/tdt4265/other/rbk/1_train-val_1min_aalesund_from_start/img1/000249.jpg: 1088x1920 1 ball, 2.5ms\n",
      "Speed: 4.4ms preprocess, 2.4ms inference, 0.6ms postprocess per image at shape (1, 3, 1088, 1920)\n",
      "\n",
      "image 1/1 /datasets/tdt4265/other/rbk/1_train-val_1min_aalesund_from_start/img1/000250.jpg: 1088x1920 22 players, 2.5ms\n",
      "\n",
      "image 1/1 /datasets/tdt4265/other/rbk/1_train-val_1min_aalesund_from_start/img1/000250.jpg: 1088x1920 1 ball, 2.4ms\n",
      "Speed: 3.3ms preprocess, 2.5ms inference, 0.5ms postprocess per image at shape (1, 3, 1088, 1920)\n",
      "\n",
      "image 1/1 /datasets/tdt4265/other/rbk/1_train-val_1min_aalesund_from_start/img1/000251.jpg: 1088x1920 22 players, 2.5ms\n",
      "\n",
      "image 1/1 /datasets/tdt4265/other/rbk/1_train-val_1min_aalesund_from_start/img1/000251.jpg: 1088x1920 1 ball, 2.9ms\n",
      "Speed: 4.4ms preprocess, 2.5ms inference, 0.5ms postprocess per image at shape (1, 3, 1088, 1920)\n",
      "\n",
      "image 1/1 /datasets/tdt4265/other/rbk/1_train-val_1min_aalesund_from_start/img1/000252.jpg: 1088x1920 22 players, 2.4ms\n",
      "\n",
      "image 1/1 /datasets/tdt4265/other/rbk/1_train-val_1min_aalesund_from_start/img1/000252.jpg: 1088x1920 1 ball, 2.3ms\n",
      "Speed: 3.1ms preprocess, 2.4ms inference, 0.5ms postprocess per image at shape (1, 3, 1088, 1920)\n",
      "\n",
      "image 1/1 /datasets/tdt4265/other/rbk/1_train-val_1min_aalesund_from_start/img1/000253.jpg: 1088x1920 22 players, 2.5ms\n",
      "\n",
      "image 1/1 /datasets/tdt4265/other/rbk/1_train-val_1min_aalesund_from_start/img1/000253.jpg: 1088x1920 1 ball, 2.4ms\n",
      "Speed: 4.6ms preprocess, 2.5ms inference, 0.5ms postprocess per image at shape (1, 3, 1088, 1920)\n",
      "\n",
      "image 1/1 /datasets/tdt4265/other/rbk/1_train-val_1min_aalesund_from_start/img1/000254.jpg: 1088x1920 22 players, 2.6ms\n",
      "\n",
      "image 1/1 /datasets/tdt4265/other/rbk/1_train-val_1min_aalesund_from_start/img1/000254.jpg: 1088x1920 1 ball, 2.4ms\n",
      "Speed: 3.4ms preprocess, 2.6ms inference, 0.8ms postprocess per image at shape (1, 3, 1088, 1920)\n",
      "\n",
      "image 1/1 /datasets/tdt4265/other/rbk/1_train-val_1min_aalesund_from_start/img1/000255.jpg: 1088x1920 22 players, 2.6ms\n",
      "\n",
      "image 1/1 /datasets/tdt4265/other/rbk/1_train-val_1min_aalesund_from_start/img1/000255.jpg: 1088x1920 1 ball, 2.5ms\n",
      "Speed: 4.5ms preprocess, 2.6ms inference, 0.8ms postprocess per image at shape (1, 3, 1088, 1920)\n",
      "\n",
      "image 1/1 /datasets/tdt4265/other/rbk/1_train-val_1min_aalesund_from_start/img1/000256.jpg: 1088x1920 22 players, 2.4ms\n",
      "\n",
      "image 1/1 /datasets/tdt4265/other/rbk/1_train-val_1min_aalesund_from_start/img1/000256.jpg: 1088x1920 1 ball, 2.4ms\n",
      "Speed: 3.1ms preprocess, 2.4ms inference, 1.1ms postprocess per image at shape (1, 3, 1088, 1920)\n",
      "\n",
      "image 1/1 /datasets/tdt4265/other/rbk/1_train-val_1min_aalesund_from_start/img1/000257.jpg: 1088x1920 22 players, 2.4ms\n",
      "\n",
      "image 1/1 /datasets/tdt4265/other/rbk/1_train-val_1min_aalesund_from_start/img1/000257.jpg: 1088x1920 1 ball, 2.4ms\n",
      "Speed: 4.4ms preprocess, 2.4ms inference, 0.5ms postprocess per image at shape (1, 3, 1088, 1920)\n",
      "\n",
      "image 1/1 /datasets/tdt4265/other/rbk/1_train-val_1min_aalesund_from_start/img1/000258.jpg: 1088x1920 22 players, 2.6ms\n",
      "\n",
      "image 1/1 /datasets/tdt4265/other/rbk/1_train-val_1min_aalesund_from_start/img1/000258.jpg: 1088x1920 1 ball, 2.5ms\n",
      "Speed: 2.3ms preprocess, 2.6ms inference, 0.5ms postprocess per image at shape (1, 3, 1088, 1920)\n",
      "\n",
      "image 1/1 /datasets/tdt4265/other/rbk/1_train-val_1min_aalesund_from_start/img1/000259.jpg: 1088x1920 22 players, 2.4ms\n",
      "\n",
      "image 1/1 /datasets/tdt4265/other/rbk/1_train-val_1min_aalesund_from_start/img1/000259.jpg: 1088x1920 1 ball, 2.5ms\n",
      "Speed: 4.4ms preprocess, 2.4ms inference, 0.6ms postprocess per image at shape (1, 3, 1088, 1920)\n",
      "\n",
      "image 1/1 /datasets/tdt4265/other/rbk/1_train-val_1min_aalesund_from_start/img1/000260.jpg: 1088x1920 22 players, 2.4ms\n",
      "\n",
      "image 1/1 /datasets/tdt4265/other/rbk/1_train-val_1min_aalesund_from_start/img1/000260.jpg: 1088x1920 1 ball, 2.5ms\n",
      "Speed: 3.2ms preprocess, 2.4ms inference, 0.5ms postprocess per image at shape (1, 3, 1088, 1920)\n",
      "\n",
      "image 1/1 /datasets/tdt4265/other/rbk/1_train-val_1min_aalesund_from_start/img1/000261.jpg: 1088x1920 22 players, 2.5ms\n",
      "\n",
      "image 1/1 /datasets/tdt4265/other/rbk/1_train-val_1min_aalesund_from_start/img1/000261.jpg: 1088x1920 1 ball, 2.6ms\n",
      "Speed: 4.5ms preprocess, 2.5ms inference, 0.5ms postprocess per image at shape (1, 3, 1088, 1920)\n",
      "\n",
      "image 1/1 /datasets/tdt4265/other/rbk/1_train-val_1min_aalesund_from_start/img1/000262.jpg: 1088x1920 22 players, 2.4ms\n",
      "\n",
      "image 1/1 /datasets/tdt4265/other/rbk/1_train-val_1min_aalesund_from_start/img1/000262.jpg: 1088x1920 1 ball, 2.3ms\n",
      "Speed: 3.5ms preprocess, 2.4ms inference, 0.5ms postprocess per image at shape (1, 3, 1088, 1920)\n",
      "\n",
      "image 1/1 /datasets/tdt4265/other/rbk/1_train-val_1min_aalesund_from_start/img1/000263.jpg: 1088x1920 22 players, 2.4ms\n",
      "\n",
      "image 1/1 /datasets/tdt4265/other/rbk/1_train-val_1min_aalesund_from_start/img1/000263.jpg: 1088x1920 1 ball, 2.3ms\n",
      "Speed: 4.4ms preprocess, 2.4ms inference, 0.5ms postprocess per image at shape (1, 3, 1088, 1920)\n",
      "\n",
      "image 1/1 /datasets/tdt4265/other/rbk/1_train-val_1min_aalesund_from_start/img1/000264.jpg: 1088x1920 22 players, 2.6ms\n",
      "\n",
      "image 1/1 /datasets/tdt4265/other/rbk/1_train-val_1min_aalesund_from_start/img1/000264.jpg: 1088x1920 1 ball, 2.4ms\n",
      "Speed: 2.4ms preprocess, 2.6ms inference, 0.8ms postprocess per image at shape (1, 3, 1088, 1920)\n",
      "\n",
      "image 1/1 /datasets/tdt4265/other/rbk/1_train-val_1min_aalesund_from_start/img1/000265.jpg: 1088x1920 22 players, 2.4ms\n",
      "\n",
      "image 1/1 /datasets/tdt4265/other/rbk/1_train-val_1min_aalesund_from_start/img1/000265.jpg: 1088x1920 1 ball, 2.3ms\n",
      "Speed: 4.5ms preprocess, 2.4ms inference, 0.5ms postprocess per image at shape (1, 3, 1088, 1920)\n",
      "\n",
      "image 1/1 /datasets/tdt4265/other/rbk/1_train-val_1min_aalesund_from_start/img1/000266.jpg: 1088x1920 22 players, 2.6ms\n",
      "\n",
      "image 1/1 /datasets/tdt4265/other/rbk/1_train-val_1min_aalesund_from_start/img1/000266.jpg: 1088x1920 1 ball, 2.5ms\n",
      "Speed: 3.0ms preprocess, 2.6ms inference, 0.5ms postprocess per image at shape (1, 3, 1088, 1920)\n",
      "\n",
      "image 1/1 /datasets/tdt4265/other/rbk/1_train-val_1min_aalesund_from_start/img1/000267.jpg: 1088x1920 22 players, 2.6ms\n",
      "\n",
      "image 1/1 /datasets/tdt4265/other/rbk/1_train-val_1min_aalesund_from_start/img1/000267.jpg: 1088x1920 1 ball, 2.3ms\n",
      "Speed: 4.4ms preprocess, 2.6ms inference, 0.5ms postprocess per image at shape (1, 3, 1088, 1920)\n",
      "\n",
      "image 1/1 /datasets/tdt4265/other/rbk/1_train-val_1min_aalesund_from_start/img1/000268.jpg: 1088x1920 21 players, 2.6ms\n",
      "\n",
      "image 1/1 /datasets/tdt4265/other/rbk/1_train-val_1min_aalesund_from_start/img1/000268.jpg: 1088x1920 1 ball, 2.4ms\n",
      "Speed: 2.3ms preprocess, 2.6ms inference, 0.5ms postprocess per image at shape (1, 3, 1088, 1920)\n",
      "\n",
      "image 1/1 /datasets/tdt4265/other/rbk/1_train-val_1min_aalesund_from_start/img1/000269.jpg: 1088x1920 21 players, 2.3ms\n",
      "\n",
      "image 1/1 /datasets/tdt4265/other/rbk/1_train-val_1min_aalesund_from_start/img1/000269.jpg: 1088x1920 1 ball, 2.5ms\n",
      "Speed: 4.4ms preprocess, 2.3ms inference, 0.5ms postprocess per image at shape (1, 3, 1088, 1920)\n",
      "\n",
      "image 1/1 /datasets/tdt4265/other/rbk/1_train-val_1min_aalesund_from_start/img1/000270.jpg: 1088x1920 21 players, 2.6ms\n",
      "\n",
      "image 1/1 /datasets/tdt4265/other/rbk/1_train-val_1min_aalesund_from_start/img1/000270.jpg: 1088x1920 1 ball, 2.3ms\n",
      "Speed: 3.5ms preprocess, 2.6ms inference, 0.5ms postprocess per image at shape (1, 3, 1088, 1920)\n",
      "\n",
      "image 1/1 /datasets/tdt4265/other/rbk/1_train-val_1min_aalesund_from_start/img1/000271.jpg: 1088x1920 22 players, 2.5ms\n",
      "\n",
      "image 1/1 /datasets/tdt4265/other/rbk/1_train-val_1min_aalesund_from_start/img1/000271.jpg: 1088x1920 1 ball, 2.3ms\n",
      "Speed: 4.5ms preprocess, 2.5ms inference, 0.8ms postprocess per image at shape (1, 3, 1088, 1920)\n",
      "\n",
      "image 1/1 /datasets/tdt4265/other/rbk/1_train-val_1min_aalesund_from_start/img1/000272.jpg: 1088x1920 22 players, 2.4ms\n",
      "\n",
      "image 1/1 /datasets/tdt4265/other/rbk/1_train-val_1min_aalesund_from_start/img1/000272.jpg: 1088x1920 1 ball, 2.9ms\n",
      "Speed: 3.1ms preprocess, 2.4ms inference, 0.5ms postprocess per image at shape (1, 3, 1088, 1920)\n",
      "\n",
      "image 1/1 /datasets/tdt4265/other/rbk/1_train-val_1min_aalesund_from_start/img1/000273.jpg: 1088x1920 22 players, 2.5ms\n",
      "\n",
      "image 1/1 /datasets/tdt4265/other/rbk/1_train-val_1min_aalesund_from_start/img1/000273.jpg: 1088x1920 1 ball, 2.4ms\n",
      "Speed: 4.4ms preprocess, 2.5ms inference, 0.6ms postprocess per image at shape (1, 3, 1088, 1920)\n",
      "\n",
      "image 1/1 /datasets/tdt4265/other/rbk/1_train-val_1min_aalesund_from_start/img1/000274.jpg: 1088x1920 22 players, 2.4ms\n",
      "\n",
      "image 1/1 /datasets/tdt4265/other/rbk/1_train-val_1min_aalesund_from_start/img1/000274.jpg: 1088x1920 1 ball, 2.4ms\n",
      "Speed: 2.4ms preprocess, 2.4ms inference, 0.6ms postprocess per image at shape (1, 3, 1088, 1920)\n",
      "\n",
      "image 1/1 /datasets/tdt4265/other/rbk/1_train-val_1min_aalesund_from_start/img1/000275.jpg: 1088x1920 22 players, 2.5ms\n",
      "\n",
      "image 1/1 /datasets/tdt4265/other/rbk/1_train-val_1min_aalesund_from_start/img1/000275.jpg: 1088x1920 1 ball, 2.5ms\n",
      "Speed: 4.5ms preprocess, 2.5ms inference, 0.5ms postprocess per image at shape (1, 3, 1088, 1920)\n",
      "\n",
      "image 1/1 /datasets/tdt4265/other/rbk/1_train-val_1min_aalesund_from_start/img1/000276.jpg: 1088x1920 22 players, 2.4ms\n",
      "\n",
      "image 1/1 /datasets/tdt4265/other/rbk/1_train-val_1min_aalesund_from_start/img1/000276.jpg: 1088x1920 1 ball, 2.9ms\n",
      "Speed: 3.0ms preprocess, 2.4ms inference, 0.5ms postprocess per image at shape (1, 3, 1088, 1920)\n",
      "\n",
      "image 1/1 /datasets/tdt4265/other/rbk/1_train-val_1min_aalesund_from_start/img1/000277.jpg: 1088x1920 22 players, 2.5ms\n",
      "\n",
      "image 1/1 /datasets/tdt4265/other/rbk/1_train-val_1min_aalesund_from_start/img1/000277.jpg: 1088x1920 1 ball, 2.6ms\n",
      "Speed: 4.5ms preprocess, 2.5ms inference, 0.5ms postprocess per image at shape (1, 3, 1088, 1920)\n",
      "\n",
      "image 1/1 /datasets/tdt4265/other/rbk/1_train-val_1min_aalesund_from_start/img1/000278.jpg: 1088x1920 22 players, 2.5ms\n",
      "\n",
      "image 1/1 /datasets/tdt4265/other/rbk/1_train-val_1min_aalesund_from_start/img1/000278.jpg: 1088x1920 1 ball, 2.3ms\n",
      "Speed: 2.3ms preprocess, 2.5ms inference, 0.8ms postprocess per image at shape (1, 3, 1088, 1920)\n",
      "\n",
      "image 1/1 /datasets/tdt4265/other/rbk/1_train-val_1min_aalesund_from_start/img1/000279.jpg: 1088x1920 22 players, 2.6ms\n",
      "\n",
      "image 1/1 /datasets/tdt4265/other/rbk/1_train-val_1min_aalesund_from_start/img1/000279.jpg: 1088x1920 1 ball, 2.3ms\n",
      "Speed: 4.5ms preprocess, 2.6ms inference, 0.8ms postprocess per image at shape (1, 3, 1088, 1920)\n",
      "\n",
      "image 1/1 /datasets/tdt4265/other/rbk/1_train-val_1min_aalesund_from_start/img1/000280.jpg: 1088x1920 22 players, 2.4ms\n",
      "\n",
      "image 1/1 /datasets/tdt4265/other/rbk/1_train-val_1min_aalesund_from_start/img1/000280.jpg: 1088x1920 1 ball, 2.4ms\n",
      "Speed: 3.3ms preprocess, 2.4ms inference, 1.1ms postprocess per image at shape (1, 3, 1088, 1920)\n",
      "\n",
      "image 1/1 /datasets/tdt4265/other/rbk/1_train-val_1min_aalesund_from_start/img1/000281.jpg: 1088x1920 22 players, 2.4ms\n",
      "\n",
      "image 1/1 /datasets/tdt4265/other/rbk/1_train-val_1min_aalesund_from_start/img1/000281.jpg: 1088x1920 1 ball, 2.4ms\n",
      "Speed: 4.5ms preprocess, 2.4ms inference, 0.5ms postprocess per image at shape (1, 3, 1088, 1920)\n",
      "\n",
      "image 1/1 /datasets/tdt4265/other/rbk/1_train-val_1min_aalesund_from_start/img1/000282.jpg: 1088x1920 22 players, 2.8ms\n",
      "\n",
      "image 1/1 /datasets/tdt4265/other/rbk/1_train-val_1min_aalesund_from_start/img1/000282.jpg: 1088x1920 1 ball, 2.3ms\n",
      "Speed: 3.7ms preprocess, 2.8ms inference, 0.5ms postprocess per image at shape (1, 3, 1088, 1920)\n",
      "\n",
      "image 1/1 /datasets/tdt4265/other/rbk/1_train-val_1min_aalesund_from_start/img1/000283.jpg: 1088x1920 22 players, 2.4ms\n",
      "\n",
      "image 1/1 /datasets/tdt4265/other/rbk/1_train-val_1min_aalesund_from_start/img1/000283.jpg: 1088x1920 1 ball, 2.3ms\n",
      "Speed: 4.3ms preprocess, 2.4ms inference, 0.5ms postprocess per image at shape (1, 3, 1088, 1920)\n",
      "\n",
      "image 1/1 /datasets/tdt4265/other/rbk/1_train-val_1min_aalesund_from_start/img1/000284.jpg: 1088x1920 22 players, 2.4ms\n",
      "\n",
      "image 1/1 /datasets/tdt4265/other/rbk/1_train-val_1min_aalesund_from_start/img1/000284.jpg: 1088x1920 1 ball, 2.6ms\n",
      "Speed: 2.4ms preprocess, 2.4ms inference, 0.6ms postprocess per image at shape (1, 3, 1088, 1920)\n",
      "\n",
      "image 1/1 /datasets/tdt4265/other/rbk/1_train-val_1min_aalesund_from_start/img1/000285.jpg: 1088x1920 22 players, 2.5ms\n",
      "\n",
      "image 1/1 /datasets/tdt4265/other/rbk/1_train-val_1min_aalesund_from_start/img1/000285.jpg: 1088x1920 1 ball, 2.5ms\n",
      "Speed: 4.4ms preprocess, 2.5ms inference, 0.5ms postprocess per image at shape (1, 3, 1088, 1920)\n",
      "\n",
      "image 1/1 /datasets/tdt4265/other/rbk/1_train-val_1min_aalesund_from_start/img1/000286.jpg: 1088x1920 22 players, 2.5ms\n",
      "\n",
      "image 1/1 /datasets/tdt4265/other/rbk/1_train-val_1min_aalesund_from_start/img1/000286.jpg: 1088x1920 1 ball, 2.5ms\n",
      "Speed: 3.1ms preprocess, 2.5ms inference, 0.5ms postprocess per image at shape (1, 3, 1088, 1920)\n",
      "\n",
      "image 1/1 /datasets/tdt4265/other/rbk/1_train-val_1min_aalesund_from_start/img1/000287.jpg: 1088x1920 22 players, 2.6ms\n",
      "\n",
      "image 1/1 /datasets/tdt4265/other/rbk/1_train-val_1min_aalesund_from_start/img1/000287.jpg: 1088x1920 1 ball, 2.6ms\n",
      "Speed: 4.5ms preprocess, 2.6ms inference, 0.7ms postprocess per image at shape (1, 3, 1088, 1920)\n",
      "\n",
      "image 1/1 /datasets/tdt4265/other/rbk/1_train-val_1min_aalesund_from_start/img1/000288.jpg: 1088x1920 22 players, 2.7ms\n",
      "\n",
      "image 1/1 /datasets/tdt4265/other/rbk/1_train-val_1min_aalesund_from_start/img1/000288.jpg: 1088x1920 1 ball, 2.4ms\n",
      "Speed: 2.4ms preprocess, 2.7ms inference, 0.8ms postprocess per image at shape (1, 3, 1088, 1920)\n",
      "\n",
      "image 1/1 /datasets/tdt4265/other/rbk/1_train-val_1min_aalesund_from_start/img1/000289.jpg: 1088x1920 22 players, 2.4ms\n",
      "\n",
      "image 1/1 /datasets/tdt4265/other/rbk/1_train-val_1min_aalesund_from_start/img1/000289.jpg: 1088x1920 1 ball, 2.4ms\n",
      "Speed: 4.6ms preprocess, 2.4ms inference, 0.5ms postprocess per image at shape (1, 3, 1088, 1920)\n",
      "\n",
      "image 1/1 /datasets/tdt4265/other/rbk/1_train-val_1min_aalesund_from_start/img1/000290.jpg: 1088x1920 22 players, 2.7ms\n",
      "\n",
      "image 1/1 /datasets/tdt4265/other/rbk/1_train-val_1min_aalesund_from_start/img1/000290.jpg: 1088x1920 1 ball, 2.3ms\n",
      "Speed: 3.3ms preprocess, 2.7ms inference, 0.5ms postprocess per image at shape (1, 3, 1088, 1920)\n",
      "\n",
      "image 1/1 /datasets/tdt4265/other/rbk/1_train-val_1min_aalesund_from_start/img1/000291.jpg: 1088x1920 22 players, 2.5ms\n",
      "\n",
      "image 1/1 /datasets/tdt4265/other/rbk/1_train-val_1min_aalesund_from_start/img1/000291.jpg: 1088x1920 1 ball, 2.7ms\n",
      "Speed: 4.5ms preprocess, 2.5ms inference, 0.6ms postprocess per image at shape (1, 3, 1088, 1920)\n",
      "\n",
      "image 1/1 /datasets/tdt4265/other/rbk/1_train-val_1min_aalesund_from_start/img1/000292.jpg: 1088x1920 22 players, 2.4ms\n",
      "\n",
      "image 1/1 /datasets/tdt4265/other/rbk/1_train-val_1min_aalesund_from_start/img1/000292.jpg: 1088x1920 1 ball, 2.5ms\n",
      "Speed: 3.1ms preprocess, 2.4ms inference, 0.5ms postprocess per image at shape (1, 3, 1088, 1920)\n",
      "\n",
      "image 1/1 /datasets/tdt4265/other/rbk/1_train-val_1min_aalesund_from_start/img1/000293.jpg: 1088x1920 22 players, 2.4ms\n",
      "\n",
      "image 1/1 /datasets/tdt4265/other/rbk/1_train-val_1min_aalesund_from_start/img1/000293.jpg: 1088x1920 1 ball, 2.5ms\n",
      "Speed: 4.3ms preprocess, 2.4ms inference, 0.5ms postprocess per image at shape (1, 3, 1088, 1920)\n",
      "\n",
      "image 1/1 /datasets/tdt4265/other/rbk/1_train-val_1min_aalesund_from_start/img1/000294.jpg: 1088x1920 22 players, 2.4ms\n",
      "\n",
      "image 1/1 /datasets/tdt4265/other/rbk/1_train-val_1min_aalesund_from_start/img1/000294.jpg: 1088x1920 1 ball, 2.5ms\n",
      "Speed: 3.3ms preprocess, 2.4ms inference, 0.5ms postprocess per image at shape (1, 3, 1088, 1920)\n",
      "\n",
      "image 1/1 /datasets/tdt4265/other/rbk/1_train-val_1min_aalesund_from_start/img1/000295.jpg: 1088x1920 22 players, 2.5ms\n",
      "\n",
      "image 1/1 /datasets/tdt4265/other/rbk/1_train-val_1min_aalesund_from_start/img1/000295.jpg: 1088x1920 1 ball, 2.6ms\n",
      "Speed: 4.5ms preprocess, 2.5ms inference, 0.5ms postprocess per image at shape (1, 3, 1088, 1920)\n",
      "\n",
      "image 1/1 /datasets/tdt4265/other/rbk/1_train-val_1min_aalesund_from_start/img1/000296.jpg: 1088x1920 22 players, 2.5ms\n",
      "\n",
      "image 1/1 /datasets/tdt4265/other/rbk/1_train-val_1min_aalesund_from_start/img1/000296.jpg: 1088x1920 1 ball, 2.3ms\n",
      "Speed: 3.1ms preprocess, 2.5ms inference, 0.5ms postprocess per image at shape (1, 3, 1088, 1920)\n",
      "\n",
      "image 1/1 /datasets/tdt4265/other/rbk/1_train-val_1min_aalesund_from_start/img1/000297.jpg: 1088x1920 22 players, 2.6ms\n",
      "\n",
      "image 1/1 /datasets/tdt4265/other/rbk/1_train-val_1min_aalesund_from_start/img1/000297.jpg: 1088x1920 1 ball, 2.6ms\n",
      "Speed: 4.5ms preprocess, 2.6ms inference, 0.8ms postprocess per image at shape (1, 3, 1088, 1920)\n",
      "\n",
      "image 1/1 /datasets/tdt4265/other/rbk/1_train-val_1min_aalesund_from_start/img1/000298.jpg: 1088x1920 22 players, 2.6ms\n",
      "\n",
      "image 1/1 /datasets/tdt4265/other/rbk/1_train-val_1min_aalesund_from_start/img1/000298.jpg: 1088x1920 1 ball, 2.3ms\n",
      "Speed: 3.1ms preprocess, 2.6ms inference, 0.5ms postprocess per image at shape (1, 3, 1088, 1920)\n",
      "\n",
      "image 1/1 /datasets/tdt4265/other/rbk/1_train-val_1min_aalesund_from_start/img1/000299.jpg: 1088x1920 22 players, 2.6ms\n",
      "\n",
      "image 1/1 /datasets/tdt4265/other/rbk/1_train-val_1min_aalesund_from_start/img1/000299.jpg: 1088x1920 1 ball, 2.4ms\n",
      "Speed: 4.4ms preprocess, 2.6ms inference, 0.5ms postprocess per image at shape (1, 3, 1088, 1920)\n",
      "\n",
      "image 1/1 /datasets/tdt4265/other/rbk/1_train-val_1min_aalesund_from_start/img1/000300.jpg: 1088x1920 22 players, 2.4ms\n",
      "\n",
      "image 1/1 /datasets/tdt4265/other/rbk/1_train-val_1min_aalesund_from_start/img1/000300.jpg: 1088x1920 1 ball, 2.5ms\n",
      "Speed: 3.2ms preprocess, 2.4ms inference, 0.5ms postprocess per image at shape (1, 3, 1088, 1920)\n",
      "\n",
      "image 1/1 /datasets/tdt4265/other/rbk/1_train-val_1min_aalesund_from_start/img1/000301.jpg: 1088x1920 22 players, 2.5ms\n",
      "\n",
      "image 1/1 /datasets/tdt4265/other/rbk/1_train-val_1min_aalesund_from_start/img1/000301.jpg: 1088x1920 1 ball, 2.5ms\n",
      "Speed: 4.6ms preprocess, 2.5ms inference, 0.5ms postprocess per image at shape (1, 3, 1088, 1920)\n",
      "\n",
      "image 1/1 /datasets/tdt4265/other/rbk/1_train-val_1min_aalesund_from_start/img1/000302.jpg: 1088x1920 22 players, 2.5ms\n",
      "\n",
      "image 1/1 /datasets/tdt4265/other/rbk/1_train-val_1min_aalesund_from_start/img1/000302.jpg: 1088x1920 1 ball, 2.5ms\n",
      "Speed: 3.1ms preprocess, 2.5ms inference, 0.5ms postprocess per image at shape (1, 3, 1088, 1920)\n",
      "\n",
      "image 1/1 /datasets/tdt4265/other/rbk/1_train-val_1min_aalesund_from_start/img1/000303.jpg: 1088x1920 22 players, 3.2ms\n",
      "\n",
      "image 1/1 /datasets/tdt4265/other/rbk/1_train-val_1min_aalesund_from_start/img1/000303.jpg: 1088x1920 1 ball, 2.5ms\n",
      "Speed: 5.0ms preprocess, 3.2ms inference, 0.7ms postprocess per image at shape (1, 3, 1088, 1920)\n",
      "\n",
      "image 1/1 /datasets/tdt4265/other/rbk/1_train-val_1min_aalesund_from_start/img1/000304.jpg: 1088x1920 22 players, 2.4ms\n",
      "\n",
      "image 1/1 /datasets/tdt4265/other/rbk/1_train-val_1min_aalesund_from_start/img1/000304.jpg: 1088x1920 1 ball, 2.3ms\n",
      "Speed: 2.2ms preprocess, 2.4ms inference, 0.5ms postprocess per image at shape (1, 3, 1088, 1920)\n",
      "\n",
      "image 1/1 /datasets/tdt4265/other/rbk/1_train-val_1min_aalesund_from_start/img1/000305.jpg: 1088x1920 22 players, 2.4ms\n",
      "\n",
      "image 1/1 /datasets/tdt4265/other/rbk/1_train-val_1min_aalesund_from_start/img1/000305.jpg: 1088x1920 1 ball, 2.5ms\n",
      "Speed: 4.5ms preprocess, 2.4ms inference, 0.5ms postprocess per image at shape (1, 3, 1088, 1920)\n",
      "\n",
      "image 1/1 /datasets/tdt4265/other/rbk/1_train-val_1min_aalesund_from_start/img1/000306.jpg: 1088x1920 22 players, 2.5ms\n",
      "\n",
      "image 1/1 /datasets/tdt4265/other/rbk/1_train-val_1min_aalesund_from_start/img1/000306.jpg: 1088x1920 1 ball, 2.6ms\n",
      "Speed: 3.0ms preprocess, 2.5ms inference, 0.5ms postprocess per image at shape (1, 3, 1088, 1920)\n",
      "\n",
      "image 1/1 /datasets/tdt4265/other/rbk/1_train-val_1min_aalesund_from_start/img1/000307.jpg: 1088x1920 22 players, 2.6ms\n",
      "\n",
      "image 1/1 /datasets/tdt4265/other/rbk/1_train-val_1min_aalesund_from_start/img1/000307.jpg: 1088x1920 1 ball, 2.6ms\n",
      "Speed: 4.4ms preprocess, 2.6ms inference, 0.5ms postprocess per image at shape (1, 3, 1088, 1920)\n",
      "\n",
      "image 1/1 /datasets/tdt4265/other/rbk/1_train-val_1min_aalesund_from_start/img1/000308.jpg: 1088x1920 22 players, 2.4ms\n",
      "\n",
      "image 1/1 /datasets/tdt4265/other/rbk/1_train-val_1min_aalesund_from_start/img1/000308.jpg: 1088x1920 1 ball, 2.3ms\n",
      "Speed: 2.3ms preprocess, 2.4ms inference, 0.5ms postprocess per image at shape (1, 3, 1088, 1920)\n",
      "\n",
      "image 1/1 /datasets/tdt4265/other/rbk/1_train-val_1min_aalesund_from_start/img1/000309.jpg: 1088x1920 22 players, 2.4ms\n",
      "\n",
      "image 1/1 /datasets/tdt4265/other/rbk/1_train-val_1min_aalesund_from_start/img1/000309.jpg: 1088x1920 1 ball, 2.6ms\n",
      "Speed: 4.5ms preprocess, 2.4ms inference, 0.5ms postprocess per image at shape (1, 3, 1088, 1920)\n",
      "\n",
      "image 1/1 /datasets/tdt4265/other/rbk/1_train-val_1min_aalesund_from_start/img1/000310.jpg: 1088x1920 22 players, 2.5ms\n",
      "\n",
      "image 1/1 /datasets/tdt4265/other/rbk/1_train-val_1min_aalesund_from_start/img1/000310.jpg: 1088x1920 1 ball, 2.9ms\n",
      "Speed: 3.2ms preprocess, 2.5ms inference, 0.5ms postprocess per image at shape (1, 3, 1088, 1920)\n",
      "\n",
      "image 1/1 /datasets/tdt4265/other/rbk/1_train-val_1min_aalesund_from_start/img1/000311.jpg: 1088x1920 22 players, 2.6ms\n",
      "\n",
      "image 1/1 /datasets/tdt4265/other/rbk/1_train-val_1min_aalesund_from_start/img1/000311.jpg: 1088x1920 1 ball, 2.5ms\n",
      "Speed: 4.4ms preprocess, 2.6ms inference, 0.5ms postprocess per image at shape (1, 3, 1088, 1920)\n",
      "\n",
      "image 1/1 /datasets/tdt4265/other/rbk/1_train-val_1min_aalesund_from_start/img1/000312.jpg: 1088x1920 22 players, 2.6ms\n",
      "\n",
      "image 1/1 /datasets/tdt4265/other/rbk/1_train-val_1min_aalesund_from_start/img1/000312.jpg: 1088x1920 1 ball, 2.6ms\n",
      "Speed: 3.1ms preprocess, 2.6ms inference, 0.5ms postprocess per image at shape (1, 3, 1088, 1920)\n",
      "\n",
      "image 1/1 /datasets/tdt4265/other/rbk/1_train-val_1min_aalesund_from_start/img1/000313.jpg: 1088x1920 22 players, 2.5ms\n",
      "\n",
      "image 1/1 /datasets/tdt4265/other/rbk/1_train-val_1min_aalesund_from_start/img1/000313.jpg: 1088x1920 1 ball, 2.6ms\n",
      "Speed: 4.3ms preprocess, 2.5ms inference, 0.5ms postprocess per image at shape (1, 3, 1088, 1920)\n",
      "\n",
      "image 1/1 /datasets/tdt4265/other/rbk/1_train-val_1min_aalesund_from_start/img1/000314.jpg: 1088x1920 22 players, 2.5ms\n",
      "\n",
      "image 1/1 /datasets/tdt4265/other/rbk/1_train-val_1min_aalesund_from_start/img1/000314.jpg: 1088x1920 1 ball, 2.5ms\n",
      "Speed: 3.3ms preprocess, 2.5ms inference, 0.5ms postprocess per image at shape (1, 3, 1088, 1920)\n",
      "\n",
      "image 1/1 /datasets/tdt4265/other/rbk/1_train-val_1min_aalesund_from_start/img1/000315.jpg: 1088x1920 22 players, 2.4ms\n",
      "\n",
      "image 1/1 /datasets/tdt4265/other/rbk/1_train-val_1min_aalesund_from_start/img1/000315.jpg: 1088x1920 1 ball, 2.5ms\n",
      "Speed: 4.5ms preprocess, 2.4ms inference, 0.5ms postprocess per image at shape (1, 3, 1088, 1920)\n",
      "\n",
      "image 1/1 /datasets/tdt4265/other/rbk/1_train-val_1min_aalesund_from_start/img1/000316.jpg: 1088x1920 22 players, 2.4ms\n",
      "\n",
      "image 1/1 /datasets/tdt4265/other/rbk/1_train-val_1min_aalesund_from_start/img1/000316.jpg: 1088x1920 1 ball, 2.3ms\n",
      "Speed: 3.0ms preprocess, 2.4ms inference, 0.5ms postprocess per image at shape (1, 3, 1088, 1920)\n",
      "\n",
      "image 1/1 /datasets/tdt4265/other/rbk/1_train-val_1min_aalesund_from_start/img1/000317.jpg: 1088x1920 22 players, 3.2ms\n",
      "\n",
      "image 1/1 /datasets/tdt4265/other/rbk/1_train-val_1min_aalesund_from_start/img1/000317.jpg: 1088x1920 1 ball, 2.4ms\n",
      "Speed: 5.2ms preprocess, 3.2ms inference, 0.7ms postprocess per image at shape (1, 3, 1088, 1920)\n",
      "\n",
      "image 1/1 /datasets/tdt4265/other/rbk/1_train-val_1min_aalesund_from_start/img1/000318.jpg: 1088x1920 22 players, 2.4ms\n",
      "\n",
      "image 1/1 /datasets/tdt4265/other/rbk/1_train-val_1min_aalesund_from_start/img1/000318.jpg: 1088x1920 1 ball, 2.4ms\n",
      "Speed: 2.3ms preprocess, 2.4ms inference, 0.5ms postprocess per image at shape (1, 3, 1088, 1920)\n",
      "\n",
      "image 1/1 /datasets/tdt4265/other/rbk/1_train-val_1min_aalesund_from_start/img1/000319.jpg: 1088x1920 22 players, 2.8ms\n",
      "\n",
      "image 1/1 /datasets/tdt4265/other/rbk/1_train-val_1min_aalesund_from_start/img1/000319.jpg: 1088x1920 1 ball, 2.6ms\n",
      "Speed: 4.6ms preprocess, 2.8ms inference, 0.5ms postprocess per image at shape (1, 3, 1088, 1920)\n",
      "\n",
      "image 1/1 /datasets/tdt4265/other/rbk/1_train-val_1min_aalesund_from_start/img1/000320.jpg: 1088x1920 22 players, 2.4ms\n",
      "\n",
      "image 1/1 /datasets/tdt4265/other/rbk/1_train-val_1min_aalesund_from_start/img1/000320.jpg: 1088x1920 1 ball, 2.6ms\n",
      "Speed: 3.3ms preprocess, 2.4ms inference, 0.6ms postprocess per image at shape (1, 3, 1088, 1920)\n",
      "\n",
      "image 1/1 /datasets/tdt4265/other/rbk/1_train-val_1min_aalesund_from_start/img1/000321.jpg: 1088x1920 22 players, 2.4ms\n",
      "\n",
      "image 1/1 /datasets/tdt4265/other/rbk/1_train-val_1min_aalesund_from_start/img1/000321.jpg: 1088x1920 1 ball, 2.3ms\n",
      "Speed: 4.5ms preprocess, 2.4ms inference, 0.5ms postprocess per image at shape (1, 3, 1088, 1920)\n",
      "\n",
      "image 1/1 /datasets/tdt4265/other/rbk/1_train-val_1min_aalesund_from_start/img1/000322.jpg: 1088x1920 22 players, 2.4ms\n",
      "\n",
      "image 1/1 /datasets/tdt4265/other/rbk/1_train-val_1min_aalesund_from_start/img1/000322.jpg: 1088x1920 1 ball, 2.5ms\n",
      "Speed: 3.1ms preprocess, 2.4ms inference, 0.6ms postprocess per image at shape (1, 3, 1088, 1920)\n",
      "\n",
      "image 1/1 /datasets/tdt4265/other/rbk/1_train-val_1min_aalesund_from_start/img1/000323.jpg: 1088x1920 22 players, 2.4ms\n",
      "\n",
      "image 1/1 /datasets/tdt4265/other/rbk/1_train-val_1min_aalesund_from_start/img1/000323.jpg: 1088x1920 1 ball, 2.3ms\n",
      "Speed: 4.3ms preprocess, 2.4ms inference, 0.5ms postprocess per image at shape (1, 3, 1088, 1920)\n",
      "\n",
      "image 1/1 /datasets/tdt4265/other/rbk/1_train-val_1min_aalesund_from_start/img1/000324.jpg: 1088x1920 22 players, 2.4ms\n",
      "\n",
      "image 1/1 /datasets/tdt4265/other/rbk/1_train-val_1min_aalesund_from_start/img1/000324.jpg: 1088x1920 1 ball, 2.3ms\n",
      "Speed: 3.3ms preprocess, 2.4ms inference, 0.7ms postprocess per image at shape (1, 3, 1088, 1920)\n",
      "\n",
      "image 1/1 /datasets/tdt4265/other/rbk/1_train-val_1min_aalesund_from_start/img1/000325.jpg: 1088x1920 22 players, 2.6ms\n",
      "\n",
      "image 1/1 /datasets/tdt4265/other/rbk/1_train-val_1min_aalesund_from_start/img1/000325.jpg: 1088x1920 1 ball, 2.6ms\n",
      "Speed: 4.5ms preprocess, 2.6ms inference, 0.8ms postprocess per image at shape (1, 3, 1088, 1920)\n",
      "\n",
      "image 1/1 /datasets/tdt4265/other/rbk/1_train-val_1min_aalesund_from_start/img1/000326.jpg: 1088x1920 22 players, 2.6ms\n",
      "\n",
      "image 1/1 /datasets/tdt4265/other/rbk/1_train-val_1min_aalesund_from_start/img1/000326.jpg: 1088x1920 1 ball, 2.3ms\n",
      "Speed: 3.1ms preprocess, 2.6ms inference, 0.7ms postprocess per image at shape (1, 3, 1088, 1920)\n",
      "\n",
      "image 1/1 /datasets/tdt4265/other/rbk/1_train-val_1min_aalesund_from_start/img1/000327.jpg: 1088x1920 22 players, 2.4ms\n",
      "\n",
      "image 1/1 /datasets/tdt4265/other/rbk/1_train-val_1min_aalesund_from_start/img1/000327.jpg: 1088x1920 1 ball, 2.5ms\n",
      "Speed: 4.5ms preprocess, 2.4ms inference, 0.7ms postprocess per image at shape (1, 3, 1088, 1920)\n",
      "\n",
      "image 1/1 /datasets/tdt4265/other/rbk/1_train-val_1min_aalesund_from_start/img1/000328.jpg: 1088x1920 22 players, 2.5ms\n",
      "\n",
      "image 1/1 /datasets/tdt4265/other/rbk/1_train-val_1min_aalesund_from_start/img1/000328.jpg: 1088x1920 1 ball, 2.5ms\n",
      "Speed: 3.1ms preprocess, 2.5ms inference, 0.5ms postprocess per image at shape (1, 3, 1088, 1920)\n",
      "\n",
      "image 1/1 /datasets/tdt4265/other/rbk/1_train-val_1min_aalesund_from_start/img1/000329.jpg: 1088x1920 22 players, 2.4ms\n",
      "\n",
      "image 1/1 /datasets/tdt4265/other/rbk/1_train-val_1min_aalesund_from_start/img1/000329.jpg: 1088x1920 1 ball, 2.3ms\n",
      "Speed: 4.4ms preprocess, 2.4ms inference, 0.5ms postprocess per image at shape (1, 3, 1088, 1920)\n",
      "\n",
      "image 1/1 /datasets/tdt4265/other/rbk/1_train-val_1min_aalesund_from_start/img1/000330.jpg: 1088x1920 22 players, 2.5ms\n",
      "\n",
      "image 1/1 /datasets/tdt4265/other/rbk/1_train-val_1min_aalesund_from_start/img1/000330.jpg: 1088x1920 1 ball, 2.4ms\n",
      "Speed: 3.3ms preprocess, 2.5ms inference, 0.6ms postprocess per image at shape (1, 3, 1088, 1920)\n",
      "\n",
      "image 1/1 /datasets/tdt4265/other/rbk/1_train-val_1min_aalesund_from_start/img1/000331.jpg: 1088x1920 22 players, 2.7ms\n",
      "\n",
      "image 1/1 /datasets/tdt4265/other/rbk/1_train-val_1min_aalesund_from_start/img1/000331.jpg: 1088x1920 1 ball, 2.3ms\n",
      "Speed: 4.5ms preprocess, 2.7ms inference, 0.7ms postprocess per image at shape (1, 3, 1088, 1920)\n",
      "\n",
      "image 1/1 /datasets/tdt4265/other/rbk/1_train-val_1min_aalesund_from_start/img1/000332.jpg: 1088x1920 22 players, 2.6ms\n",
      "\n",
      "image 1/1 /datasets/tdt4265/other/rbk/1_train-val_1min_aalesund_from_start/img1/000332.jpg: 1088x1920 1 ball, 2.6ms\n",
      "Speed: 3.1ms preprocess, 2.6ms inference, 0.5ms postprocess per image at shape (1, 3, 1088, 1920)\n",
      "\n",
      "image 1/1 /datasets/tdt4265/other/rbk/1_train-val_1min_aalesund_from_start/img1/000333.jpg: 1088x1920 22 players, 2.5ms\n",
      "\n",
      "image 1/1 /datasets/tdt4265/other/rbk/1_train-val_1min_aalesund_from_start/img1/000333.jpg: 1088x1920 1 ball, 2.5ms\n",
      "Speed: 4.3ms preprocess, 2.5ms inference, 0.5ms postprocess per image at shape (1, 3, 1088, 1920)\n",
      "\n",
      "image 1/1 /datasets/tdt4265/other/rbk/1_train-val_1min_aalesund_from_start/img1/000334.jpg: 1088x1920 22 players, 2.4ms\n",
      "\n",
      "image 1/1 /datasets/tdt4265/other/rbk/1_train-val_1min_aalesund_from_start/img1/000334.jpg: 1088x1920 1 ball, 2.3ms\n",
      "Speed: 3.3ms preprocess, 2.4ms inference, 0.5ms postprocess per image at shape (1, 3, 1088, 1920)\n",
      "\n",
      "image 1/1 /datasets/tdt4265/other/rbk/1_train-val_1min_aalesund_from_start/img1/000335.jpg: 1088x1920 22 players, 2.5ms\n",
      "\n",
      "image 1/1 /datasets/tdt4265/other/rbk/1_train-val_1min_aalesund_from_start/img1/000335.jpg: 1088x1920 1 ball, 2.5ms\n",
      "Speed: 4.5ms preprocess, 2.5ms inference, 0.5ms postprocess per image at shape (1, 3, 1088, 1920)\n",
      "\n",
      "image 1/1 /datasets/tdt4265/other/rbk/1_train-val_1min_aalesund_from_start/img1/000336.jpg: 1088x1920 22 players, 2.4ms\n",
      "\n",
      "image 1/1 /datasets/tdt4265/other/rbk/1_train-val_1min_aalesund_from_start/img1/000336.jpg: 1088x1920 1 ball, 2.3ms\n",
      "Speed: 3.1ms preprocess, 2.4ms inference, 0.9ms postprocess per image at shape (1, 3, 1088, 1920)\n",
      "\n",
      "image 1/1 /datasets/tdt4265/other/rbk/1_train-val_1min_aalesund_from_start/img1/000337.jpg: 1088x1920 22 players, 2.4ms\n",
      "\n",
      "image 1/1 /datasets/tdt4265/other/rbk/1_train-val_1min_aalesund_from_start/img1/000337.jpg: 1088x1920 1 ball, 2.5ms\n",
      "Speed: 4.4ms preprocess, 2.4ms inference, 0.7ms postprocess per image at shape (1, 3, 1088, 1920)\n",
      "\n",
      "image 1/1 /datasets/tdt4265/other/rbk/1_train-val_1min_aalesund_from_start/img1/000338.jpg: 1088x1920 22 players, 2.5ms\n",
      "\n",
      "image 1/1 /datasets/tdt4265/other/rbk/1_train-val_1min_aalesund_from_start/img1/000338.jpg: 1088x1920 1 ball, 2.3ms\n",
      "Speed: 3.1ms preprocess, 2.5ms inference, 0.5ms postprocess per image at shape (1, 3, 1088, 1920)\n",
      "\n",
      "image 1/1 /datasets/tdt4265/other/rbk/1_train-val_1min_aalesund_from_start/img1/000339.jpg: 1088x1920 22 players, 2.4ms\n",
      "\n",
      "image 1/1 /datasets/tdt4265/other/rbk/1_train-val_1min_aalesund_from_start/img1/000339.jpg: 1088x1920 1 ball, 2.3ms\n",
      "Speed: 4.4ms preprocess, 2.4ms inference, 0.5ms postprocess per image at shape (1, 3, 1088, 1920)\n",
      "\n",
      "image 1/1 /datasets/tdt4265/other/rbk/1_train-val_1min_aalesund_from_start/img1/000340.jpg: 1088x1920 22 players, 2.4ms\n",
      "\n",
      "image 1/1 /datasets/tdt4265/other/rbk/1_train-val_1min_aalesund_from_start/img1/000340.jpg: 1088x1920 1 ball, 2.6ms\n",
      "Speed: 3.3ms preprocess, 2.4ms inference, 0.5ms postprocess per image at shape (1, 3, 1088, 1920)\n",
      "\n",
      "image 1/1 /datasets/tdt4265/other/rbk/1_train-val_1min_aalesund_from_start/img1/000341.jpg: 1088x1920 22 players, 2.6ms\n",
      "\n",
      "image 1/1 /datasets/tdt4265/other/rbk/1_train-val_1min_aalesund_from_start/img1/000341.jpg: 1088x1920 1 ball, 2.5ms\n",
      "Speed: 4.4ms preprocess, 2.6ms inference, 0.7ms postprocess per image at shape (1, 3, 1088, 1920)\n",
      "\n",
      "image 1/1 /datasets/tdt4265/other/rbk/1_train-val_1min_aalesund_from_start/img1/000342.jpg: 1088x1920 22 players, 2.6ms\n",
      "\n",
      "image 1/1 /datasets/tdt4265/other/rbk/1_train-val_1min_aalesund_from_start/img1/000342.jpg: 1088x1920 1 ball, 2.5ms\n",
      "Speed: 3.1ms preprocess, 2.6ms inference, 0.5ms postprocess per image at shape (1, 3, 1088, 1920)\n",
      "\n",
      "image 1/1 /datasets/tdt4265/other/rbk/1_train-val_1min_aalesund_from_start/img1/000343.jpg: 1088x1920 22 players, 2.4ms\n",
      "\n",
      "image 1/1 /datasets/tdt4265/other/rbk/1_train-val_1min_aalesund_from_start/img1/000343.jpg: 1088x1920 1 ball, 3.2ms\n",
      "Speed: 4.3ms preprocess, 2.4ms inference, 0.5ms postprocess per image at shape (1, 3, 1088, 1920)\n",
      "\n",
      "image 1/1 /datasets/tdt4265/other/rbk/1_train-val_1min_aalesund_from_start/img1/000344.jpg: 1088x1920 22 players, 2.4ms\n",
      "\n",
      "image 1/1 /datasets/tdt4265/other/rbk/1_train-val_1min_aalesund_from_start/img1/000344.jpg: 1088x1920 1 ball, 2.3ms\n",
      "Speed: 3.3ms preprocess, 2.4ms inference, 0.7ms postprocess per image at shape (1, 3, 1088, 1920)\n",
      "\n",
      "image 1/1 /datasets/tdt4265/other/rbk/1_train-val_1min_aalesund_from_start/img1/000345.jpg: 1088x1920 22 players, 2.7ms\n",
      "\n",
      "image 1/1 /datasets/tdt4265/other/rbk/1_train-val_1min_aalesund_from_start/img1/000345.jpg: 1088x1920 1 ball, 2.6ms\n",
      "Speed: 4.5ms preprocess, 2.7ms inference, 0.8ms postprocess per image at shape (1, 3, 1088, 1920)\n",
      "\n",
      "image 1/1 /datasets/tdt4265/other/rbk/1_train-val_1min_aalesund_from_start/img1/000346.jpg: 1088x1920 22 players, 2.7ms\n",
      "\n",
      "image 1/1 /datasets/tdt4265/other/rbk/1_train-val_1min_aalesund_from_start/img1/000346.jpg: 1088x1920 1 ball, 2.3ms\n",
      "Speed: 3.1ms preprocess, 2.7ms inference, 0.6ms postprocess per image at shape (1, 3, 1088, 1920)\n",
      "\n",
      "image 1/1 /datasets/tdt4265/other/rbk/1_train-val_1min_aalesund_from_start/img1/000347.jpg: 1088x1920 22 players, 2.5ms\n",
      "\n",
      "image 1/1 /datasets/tdt4265/other/rbk/1_train-val_1min_aalesund_from_start/img1/000347.jpg: 1088x1920 1 ball, 2.3ms\n",
      "Speed: 4.5ms preprocess, 2.5ms inference, 0.5ms postprocess per image at shape (1, 3, 1088, 1920)\n",
      "\n",
      "image 1/1 /datasets/tdt4265/other/rbk/1_train-val_1min_aalesund_from_start/img1/000348.jpg: 1088x1920 22 players, 2.5ms\n",
      "\n",
      "image 1/1 /datasets/tdt4265/other/rbk/1_train-val_1min_aalesund_from_start/img1/000348.jpg: 1088x1920 1 ball, 2.4ms\n",
      "Speed: 2.3ms preprocess, 2.5ms inference, 0.5ms postprocess per image at shape (1, 3, 1088, 1920)\n",
      "\n",
      "image 1/1 /datasets/tdt4265/other/rbk/1_train-val_1min_aalesund_from_start/img1/000349.jpg: 1088x1920 22 players, 2.4ms\n",
      "\n",
      "image 1/1 /datasets/tdt4265/other/rbk/1_train-val_1min_aalesund_from_start/img1/000349.jpg: 1088x1920 1 ball, 2.3ms\n",
      "Speed: 4.2ms preprocess, 2.4ms inference, 0.5ms postprocess per image at shape (1, 3, 1088, 1920)\n",
      "\n",
      "image 1/1 /datasets/tdt4265/other/rbk/1_train-val_1min_aalesund_from_start/img1/000350.jpg: 1088x1920 22 players, 2.4ms\n",
      "\n",
      "image 1/1 /datasets/tdt4265/other/rbk/1_train-val_1min_aalesund_from_start/img1/000350.jpg: 1088x1920 1 ball, 2.4ms\n",
      "Speed: 3.2ms preprocess, 2.4ms inference, 0.7ms postprocess per image at shape (1, 3, 1088, 1920)\n",
      "\n",
      "image 1/1 /datasets/tdt4265/other/rbk/1_train-val_1min_aalesund_from_start/img1/000351.jpg: 1088x1920 22 players, 2.6ms\n",
      "\n",
      "image 1/1 /datasets/tdt4265/other/rbk/1_train-val_1min_aalesund_from_start/img1/000351.jpg: 1088x1920 1 ball, 2.7ms\n",
      "Speed: 4.6ms preprocess, 2.6ms inference, 0.7ms postprocess per image at shape (1, 3, 1088, 1920)\n",
      "\n",
      "image 1/1 /datasets/tdt4265/other/rbk/1_train-val_1min_aalesund_from_start/img1/000352.jpg: 1088x1920 22 players, 2.4ms\n",
      "\n",
      "image 1/1 /datasets/tdt4265/other/rbk/1_train-val_1min_aalesund_from_start/img1/000352.jpg: 1088x1920 1 ball, 2.9ms\n",
      "Speed: 3.1ms preprocess, 2.4ms inference, 0.7ms postprocess per image at shape (1, 3, 1088, 1920)\n",
      "\n",
      "image 1/1 /datasets/tdt4265/other/rbk/1_train-val_1min_aalesund_from_start/img1/000353.jpg: 1088x1920 22 players, 2.4ms\n",
      "\n",
      "image 1/1 /datasets/tdt4265/other/rbk/1_train-val_1min_aalesund_from_start/img1/000353.jpg: 1088x1920 1 ball, 2.3ms\n",
      "Speed: 4.3ms preprocess, 2.4ms inference, 0.5ms postprocess per image at shape (1, 3, 1088, 1920)\n",
      "\n",
      "image 1/1 /datasets/tdt4265/other/rbk/1_train-val_1min_aalesund_from_start/img1/000354.jpg: 1088x1920 22 players, 2.4ms\n",
      "\n",
      "image 1/1 /datasets/tdt4265/other/rbk/1_train-val_1min_aalesund_from_start/img1/000354.jpg: 1088x1920 1 ball, 2.3ms\n",
      "Speed: 3.4ms preprocess, 2.4ms inference, 0.5ms postprocess per image at shape (1, 3, 1088, 1920)\n",
      "\n",
      "image 1/1 /datasets/tdt4265/other/rbk/1_train-val_1min_aalesund_from_start/img1/000355.jpg: 1088x1920 22 players, 2.4ms\n",
      "\n",
      "image 1/1 /datasets/tdt4265/other/rbk/1_train-val_1min_aalesund_from_start/img1/000355.jpg: 1088x1920 1 ball, 2.3ms\n",
      "Speed: 4.4ms preprocess, 2.4ms inference, 0.5ms postprocess per image at shape (1, 3, 1088, 1920)\n",
      "\n",
      "image 1/1 /datasets/tdt4265/other/rbk/1_train-val_1min_aalesund_from_start/img1/000356.jpg: 1088x1920 22 players, 2.4ms\n",
      "\n",
      "image 1/1 /datasets/tdt4265/other/rbk/1_train-val_1min_aalesund_from_start/img1/000356.jpg: 1088x1920 1 ball, 2.3ms\n",
      "Speed: 3.2ms preprocess, 2.4ms inference, 1.0ms postprocess per image at shape (1, 3, 1088, 1920)\n",
      "\n",
      "image 1/1 /datasets/tdt4265/other/rbk/1_train-val_1min_aalesund_from_start/img1/000357.jpg: 1088x1920 22 players, 2.6ms\n",
      "\n",
      "image 1/1 /datasets/tdt4265/other/rbk/1_train-val_1min_aalesund_from_start/img1/000357.jpg: 1088x1920 1 ball, 2.6ms\n",
      "Speed: 4.8ms preprocess, 2.6ms inference, 0.6ms postprocess per image at shape (1, 3, 1088, 1920)\n",
      "\n",
      "image 1/1 /datasets/tdt4265/other/rbk/1_train-val_1min_aalesund_from_start/img1/000358.jpg: 1088x1920 22 players, 2.4ms\n",
      "\n",
      "image 1/1 /datasets/tdt4265/other/rbk/1_train-val_1min_aalesund_from_start/img1/000358.jpg: 1088x1920 1 ball, 3.2ms\n",
      "Speed: 2.2ms preprocess, 2.4ms inference, 0.6ms postprocess per image at shape (1, 3, 1088, 1920)\n",
      "\n",
      "image 1/1 /datasets/tdt4265/other/rbk/1_train-val_1min_aalesund_from_start/img1/000359.jpg: 1088x1920 22 players, 2.4ms\n",
      "\n",
      "image 1/1 /datasets/tdt4265/other/rbk/1_train-val_1min_aalesund_from_start/img1/000359.jpg: 1088x1920 1 ball, 2.3ms\n",
      "Speed: 4.2ms preprocess, 2.4ms inference, 0.6ms postprocess per image at shape (1, 3, 1088, 1920)\n",
      "\n",
      "image 1/1 /datasets/tdt4265/other/rbk/1_train-val_1min_aalesund_from_start/img1/000360.jpg: 1088x1920 22 players, 2.6ms\n",
      "\n",
      "image 1/1 /datasets/tdt4265/other/rbk/1_train-val_1min_aalesund_from_start/img1/000360.jpg: 1088x1920 1 ball, 2.4ms\n",
      "Speed: 3.3ms preprocess, 2.6ms inference, 0.6ms postprocess per image at shape (1, 3, 1088, 1920)\n",
      "\n",
      "image 1/1 /datasets/tdt4265/other/rbk/1_train-val_1min_aalesund_from_start/img1/000361.jpg: 1088x1920 22 players, 2.7ms\n",
      "\n",
      "image 1/1 /datasets/tdt4265/other/rbk/1_train-val_1min_aalesund_from_start/img1/000361.jpg: 1088x1920 1 ball, 2.3ms\n",
      "Speed: 4.6ms preprocess, 2.7ms inference, 0.8ms postprocess per image at shape (1, 3, 1088, 1920)\n",
      "\n",
      "image 1/1 /datasets/tdt4265/other/rbk/1_train-val_1min_aalesund_from_start/img1/000362.jpg: 1088x1920 22 players, 2.8ms\n",
      "\n",
      "image 1/1 /datasets/tdt4265/other/rbk/1_train-val_1min_aalesund_from_start/img1/000362.jpg: 1088x1920 1 ball, 2.4ms\n",
      "Speed: 3.2ms preprocess, 2.8ms inference, 0.5ms postprocess per image at shape (1, 3, 1088, 1920)\n",
      "\n",
      "image 1/1 /datasets/tdt4265/other/rbk/1_train-val_1min_aalesund_from_start/img1/000363.jpg: 1088x1920 22 players, 2.4ms\n",
      "\n",
      "image 1/1 /datasets/tdt4265/other/rbk/1_train-val_1min_aalesund_from_start/img1/000363.jpg: 1088x1920 1 ball, 2.5ms\n",
      "Speed: 4.3ms preprocess, 2.4ms inference, 0.6ms postprocess per image at shape (1, 3, 1088, 1920)\n",
      "\n",
      "image 1/1 /datasets/tdt4265/other/rbk/1_train-val_1min_aalesund_from_start/img1/000364.jpg: 1088x1920 22 players, 2.5ms\n",
      "\n",
      "image 1/1 /datasets/tdt4265/other/rbk/1_train-val_1min_aalesund_from_start/img1/000364.jpg: 1088x1920 1 ball, 2.6ms\n",
      "Speed: 2.2ms preprocess, 2.5ms inference, 0.6ms postprocess per image at shape (1, 3, 1088, 1920)\n",
      "\n",
      "image 1/1 /datasets/tdt4265/other/rbk/1_train-val_1min_aalesund_from_start/img1/000365.jpg: 1088x1920 22 players, 2.4ms\n",
      "\n",
      "image 1/1 /datasets/tdt4265/other/rbk/1_train-val_1min_aalesund_from_start/img1/000365.jpg: 1088x1920 1 ball, 3.1ms\n",
      "Speed: 4.5ms preprocess, 2.4ms inference, 0.5ms postprocess per image at shape (1, 3, 1088, 1920)\n",
      "\n",
      "image 1/1 /datasets/tdt4265/other/rbk/1_train-val_1min_aalesund_from_start/img1/000366.jpg: 1088x1920 22 players, 2.4ms\n",
      "\n",
      "image 1/1 /datasets/tdt4265/other/rbk/1_train-val_1min_aalesund_from_start/img1/000366.jpg: 1088x1920 1 ball, 2.5ms\n",
      "Speed: 3.1ms preprocess, 2.4ms inference, 0.6ms postprocess per image at shape (1, 3, 1088, 1920)\n",
      "\n",
      "image 1/1 /datasets/tdt4265/other/rbk/1_train-val_1min_aalesund_from_start/img1/000367.jpg: 1088x1920 22 players, 2.4ms\n",
      "\n",
      "image 1/1 /datasets/tdt4265/other/rbk/1_train-val_1min_aalesund_from_start/img1/000367.jpg: 1088x1920 1 ball, 2.5ms\n",
      "Speed: 4.5ms preprocess, 2.4ms inference, 0.6ms postprocess per image at shape (1, 3, 1088, 1920)\n",
      "\n",
      "image 1/1 /datasets/tdt4265/other/rbk/1_train-val_1min_aalesund_from_start/img1/000368.jpg: 1088x1920 22 players, 2.4ms\n",
      "\n",
      "image 1/1 /datasets/tdt4265/other/rbk/1_train-val_1min_aalesund_from_start/img1/000368.jpg: 1088x1920 1 ball, 2.4ms\n",
      "Speed: 2.4ms preprocess, 2.4ms inference, 0.5ms postprocess per image at shape (1, 3, 1088, 1920)\n",
      "\n",
      "image 1/1 /datasets/tdt4265/other/rbk/1_train-val_1min_aalesund_from_start/img1/000369.jpg: 1088x1920 22 players, 2.5ms\n",
      "\n",
      "image 1/1 /datasets/tdt4265/other/rbk/1_train-val_1min_aalesund_from_start/img1/000369.jpg: 1088x1920 1 ball, 2.4ms\n",
      "Speed: 4.2ms preprocess, 2.5ms inference, 0.6ms postprocess per image at shape (1, 3, 1088, 1920)\n",
      "\n",
      "image 1/1 /datasets/tdt4265/other/rbk/1_train-val_1min_aalesund_from_start/img1/000370.jpg: 1088x1920 22 players, 2.4ms\n",
      "\n",
      "image 1/1 /datasets/tdt4265/other/rbk/1_train-val_1min_aalesund_from_start/img1/000370.jpg: 1088x1920 1 ball, 2.5ms\n",
      "Speed: 3.3ms preprocess, 2.4ms inference, 0.5ms postprocess per image at shape (1, 3, 1088, 1920)\n",
      "\n",
      "image 1/1 /datasets/tdt4265/other/rbk/1_train-val_1min_aalesund_from_start/img1/000371.jpg: 1088x1920 22 players, 2.4ms\n",
      "\n",
      "image 1/1 /datasets/tdt4265/other/rbk/1_train-val_1min_aalesund_from_start/img1/000371.jpg: 1088x1920 1 ball, 2.4ms\n",
      "Speed: 4.4ms preprocess, 2.4ms inference, 0.5ms postprocess per image at shape (1, 3, 1088, 1920)\n",
      "\n",
      "image 1/1 /datasets/tdt4265/other/rbk/1_train-val_1min_aalesund_from_start/img1/000372.jpg: 1088x1920 22 players, 2.4ms\n",
      "\n",
      "image 1/1 /datasets/tdt4265/other/rbk/1_train-val_1min_aalesund_from_start/img1/000372.jpg: 1088x1920 1 ball, 3.2ms\n",
      "Speed: 3.1ms preprocess, 2.4ms inference, 0.6ms postprocess per image at shape (1, 3, 1088, 1920)\n",
      "\n",
      "image 1/1 /datasets/tdt4265/other/rbk/1_train-val_1min_aalesund_from_start/img1/000373.jpg: 1088x1920 22 players, 2.4ms\n",
      "\n",
      "image 1/1 /datasets/tdt4265/other/rbk/1_train-val_1min_aalesund_from_start/img1/000373.jpg: 1088x1920 1 ball, 2.4ms\n",
      "Speed: 4.2ms preprocess, 2.4ms inference, 0.5ms postprocess per image at shape (1, 3, 1088, 1920)\n",
      "\n",
      "image 1/1 /datasets/tdt4265/other/rbk/1_train-val_1min_aalesund_from_start/img1/000374.jpg: 1088x1920 22 players, 2.4ms\n",
      "\n",
      "image 1/1 /datasets/tdt4265/other/rbk/1_train-val_1min_aalesund_from_start/img1/000374.jpg: 1088x1920 1 ball, 2.5ms\n",
      "Speed: 2.2ms preprocess, 2.4ms inference, 0.5ms postprocess per image at shape (1, 3, 1088, 1920)\n",
      "\n",
      "image 1/1 /datasets/tdt4265/other/rbk/1_train-val_1min_aalesund_from_start/img1/000375.jpg: 1088x1920 22 players, 2.4ms\n",
      "\n",
      "image 1/1 /datasets/tdt4265/other/rbk/1_train-val_1min_aalesund_from_start/img1/000375.jpg: 1088x1920 1 ball, 2.3ms\n",
      "Speed: 4.5ms preprocess, 2.4ms inference, 0.6ms postprocess per image at shape (1, 3, 1088, 1920)\n",
      "\n",
      "image 1/1 /datasets/tdt4265/other/rbk/1_train-val_1min_aalesund_from_start/img1/000376.jpg: 1088x1920 22 players, 2.4ms\n",
      "\n",
      "image 1/1 /datasets/tdt4265/other/rbk/1_train-val_1min_aalesund_from_start/img1/000376.jpg: 1088x1920 1 ball, 2.6ms\n",
      "Speed: 3.1ms preprocess, 2.4ms inference, 0.6ms postprocess per image at shape (1, 3, 1088, 1920)\n",
      "\n",
      "image 1/1 /datasets/tdt4265/other/rbk/1_train-val_1min_aalesund_from_start/img1/000377.jpg: 1088x1920 22 players, 2.4ms\n",
      "\n",
      "image 1/1 /datasets/tdt4265/other/rbk/1_train-val_1min_aalesund_from_start/img1/000377.jpg: 1088x1920 1 ball, 2.5ms\n",
      "Speed: 4.5ms preprocess, 2.4ms inference, 0.6ms postprocess per image at shape (1, 3, 1088, 1920)\n",
      "\n",
      "image 1/1 /datasets/tdt4265/other/rbk/1_train-val_1min_aalesund_from_start/img1/000378.jpg: 1088x1920 22 players, 2.4ms\n",
      "\n",
      "image 1/1 /datasets/tdt4265/other/rbk/1_train-val_1min_aalesund_from_start/img1/000378.jpg: 1088x1920 1 ball, 2.6ms\n",
      "Speed: 2.3ms preprocess, 2.4ms inference, 0.5ms postprocess per image at shape (1, 3, 1088, 1920)\n",
      "\n",
      "image 1/1 /datasets/tdt4265/other/rbk/1_train-val_1min_aalesund_from_start/img1/000379.jpg: 1088x1920 22 players, 2.4ms\n",
      "\n",
      "image 1/1 /datasets/tdt4265/other/rbk/1_train-val_1min_aalesund_from_start/img1/000379.jpg: 1088x1920 1 ball, 2.8ms\n",
      "Speed: 4.2ms preprocess, 2.4ms inference, 0.6ms postprocess per image at shape (1, 3, 1088, 1920)\n",
      "\n",
      "image 1/1 /datasets/tdt4265/other/rbk/1_train-val_1min_aalesund_from_start/img1/000380.jpg: 1088x1920 22 players, 2.4ms\n",
      "\n",
      "image 1/1 /datasets/tdt4265/other/rbk/1_train-val_1min_aalesund_from_start/img1/000380.jpg: 1088x1920 1 ball, 2.3ms\n",
      "Speed: 3.3ms preprocess, 2.4ms inference, 0.5ms postprocess per image at shape (1, 3, 1088, 1920)\n",
      "\n",
      "image 1/1 /datasets/tdt4265/other/rbk/1_train-val_1min_aalesund_from_start/img1/000381.jpg: 1088x1920 22 players, 2.5ms\n",
      "\n",
      "image 1/1 /datasets/tdt4265/other/rbk/1_train-val_1min_aalesund_from_start/img1/000381.jpg: 1088x1920 1 ball, 2.4ms\n",
      "Speed: 4.5ms preprocess, 2.5ms inference, 0.6ms postprocess per image at shape (1, 3, 1088, 1920)\n",
      "\n",
      "image 1/1 /datasets/tdt4265/other/rbk/1_train-val_1min_aalesund_from_start/img1/000382.jpg: 1088x1920 22 players, 2.6ms\n",
      "\n",
      "image 1/1 /datasets/tdt4265/other/rbk/1_train-val_1min_aalesund_from_start/img1/000382.jpg: 1088x1920 1 ball, 2.3ms\n",
      "Speed: 3.1ms preprocess, 2.6ms inference, 0.7ms postprocess per image at shape (1, 3, 1088, 1920)\n",
      "\n",
      "image 1/1 /datasets/tdt4265/other/rbk/1_train-val_1min_aalesund_from_start/img1/000383.jpg: 1088x1920 22 players, 2.6ms\n",
      "\n",
      "image 1/1 /datasets/tdt4265/other/rbk/1_train-val_1min_aalesund_from_start/img1/000383.jpg: 1088x1920 1 ball, 2.7ms\n",
      "Speed: 4.3ms preprocess, 2.6ms inference, 0.5ms postprocess per image at shape (1, 3, 1088, 1920)\n",
      "\n",
      "image 1/1 /datasets/tdt4265/other/rbk/1_train-val_1min_aalesund_from_start/img1/000384.jpg: 1088x1920 22 players, 2.4ms\n",
      "\n",
      "image 1/1 /datasets/tdt4265/other/rbk/1_train-val_1min_aalesund_from_start/img1/000384.jpg: 1088x1920 1 ball, 2.3ms\n",
      "Speed: 3.5ms preprocess, 2.4ms inference, 0.9ms postprocess per image at shape (1, 3, 1088, 1920)\n",
      "\n",
      "image 1/1 /datasets/tdt4265/other/rbk/1_train-val_1min_aalesund_from_start/img1/000385.jpg: 1088x1920 22 players, 2.6ms\n",
      "\n",
      "image 1/1 /datasets/tdt4265/other/rbk/1_train-val_1min_aalesund_from_start/img1/000385.jpg: 1088x1920 1 ball, 2.4ms\n",
      "Speed: 4.5ms preprocess, 2.6ms inference, 0.7ms postprocess per image at shape (1, 3, 1088, 1920)\n",
      "\n",
      "image 1/1 /datasets/tdt4265/other/rbk/1_train-val_1min_aalesund_from_start/img1/000386.jpg: 1088x1920 22 players, 2.9ms\n",
      "\n",
      "image 1/1 /datasets/tdt4265/other/rbk/1_train-val_1min_aalesund_from_start/img1/000386.jpg: 1088x1920 1 ball, 2.9ms\n",
      "Speed: 3.1ms preprocess, 2.9ms inference, 0.5ms postprocess per image at shape (1, 3, 1088, 1920)\n",
      "\n",
      "image 1/1 /datasets/tdt4265/other/rbk/1_train-val_1min_aalesund_from_start/img1/000387.jpg: 1088x1920 22 players, 2.5ms\n",
      "\n",
      "image 1/1 /datasets/tdt4265/other/rbk/1_train-val_1min_aalesund_from_start/img1/000387.jpg: 1088x1920 1 ball, 2.3ms\n",
      "Speed: 4.5ms preprocess, 2.5ms inference, 0.6ms postprocess per image at shape (1, 3, 1088, 1920)\n",
      "\n",
      "image 1/1 /datasets/tdt4265/other/rbk/1_train-val_1min_aalesund_from_start/img1/000388.jpg: 1088x1920 22 players, 2.6ms\n",
      "\n",
      "image 1/1 /datasets/tdt4265/other/rbk/1_train-val_1min_aalesund_from_start/img1/000388.jpg: 1088x1920 1 ball, 2.8ms\n",
      "Speed: 3.1ms preprocess, 2.6ms inference, 0.5ms postprocess per image at shape (1, 3, 1088, 1920)\n",
      "\n",
      "image 1/1 /datasets/tdt4265/other/rbk/1_train-val_1min_aalesund_from_start/img1/000389.jpg: 1088x1920 22 players, 2.4ms\n",
      "\n",
      "image 1/1 /datasets/tdt4265/other/rbk/1_train-val_1min_aalesund_from_start/img1/000389.jpg: 1088x1920 1 ball, 2.5ms\n",
      "Speed: 4.4ms preprocess, 2.4ms inference, 0.5ms postprocess per image at shape (1, 3, 1088, 1920)\n",
      "\n",
      "image 1/1 /datasets/tdt4265/other/rbk/1_train-val_1min_aalesund_from_start/img1/000390.jpg: 1088x1920 22 players, 2.4ms\n",
      "\n",
      "image 1/1 /datasets/tdt4265/other/rbk/1_train-val_1min_aalesund_from_start/img1/000390.jpg: 1088x1920 1 ball, 2.5ms\n",
      "Speed: 3.2ms preprocess, 2.4ms inference, 0.5ms postprocess per image at shape (1, 3, 1088, 1920)\n",
      "\n",
      "image 1/1 /datasets/tdt4265/other/rbk/1_train-val_1min_aalesund_from_start/img1/000391.jpg: 1088x1920 22 players, 2.4ms\n",
      "\n",
      "image 1/1 /datasets/tdt4265/other/rbk/1_train-val_1min_aalesund_from_start/img1/000391.jpg: 1088x1920 1 ball, 2.3ms\n",
      "Speed: 4.5ms preprocess, 2.4ms inference, 0.5ms postprocess per image at shape (1, 3, 1088, 1920)\n",
      "\n",
      "image 1/1 /datasets/tdt4265/other/rbk/1_train-val_1min_aalesund_from_start/img1/000392.jpg: 1088x1920 22 players, 2.4ms\n",
      "\n",
      "image 1/1 /datasets/tdt4265/other/rbk/1_train-val_1min_aalesund_from_start/img1/000392.jpg: 1088x1920 1 ball, 2.3ms\n",
      "Speed: 3.0ms preprocess, 2.4ms inference, 0.5ms postprocess per image at shape (1, 3, 1088, 1920)\n",
      "\n",
      "image 1/1 /datasets/tdt4265/other/rbk/1_train-val_1min_aalesund_from_start/img1/000393.jpg: 1088x1920 22 players, 2.7ms\n",
      "\n",
      "image 1/1 /datasets/tdt4265/other/rbk/1_train-val_1min_aalesund_from_start/img1/000393.jpg: 1088x1920 1 ball, 2.4ms\n",
      "Speed: 4.4ms preprocess, 2.7ms inference, 0.6ms postprocess per image at shape (1, 3, 1088, 1920)\n",
      "\n",
      "image 1/1 /datasets/tdt4265/other/rbk/1_train-val_1min_aalesund_from_start/img1/000394.jpg: 1088x1920 22 players, 2.4ms\n",
      "\n",
      "image 1/1 /datasets/tdt4265/other/rbk/1_train-val_1min_aalesund_from_start/img1/000394.jpg: 1088x1920 1 ball, 2.6ms\n",
      "Speed: 4.0ms preprocess, 2.4ms inference, 0.8ms postprocess per image at shape (1, 3, 1088, 1920)\n",
      "\n",
      "image 1/1 /datasets/tdt4265/other/rbk/1_train-val_1min_aalesund_from_start/img1/000395.jpg: 1088x1920 22 players, 2.5ms\n",
      "\n",
      "image 1/1 /datasets/tdt4265/other/rbk/1_train-val_1min_aalesund_from_start/img1/000395.jpg: 1088x1920 1 ball, 2.4ms\n",
      "Speed: 4.5ms preprocess, 2.5ms inference, 0.5ms postprocess per image at shape (1, 3, 1088, 1920)\n",
      "\n",
      "image 1/1 /datasets/tdt4265/other/rbk/1_train-val_1min_aalesund_from_start/img1/000396.jpg: 1088x1920 22 players, 2.7ms\n",
      "\n",
      "image 1/1 /datasets/tdt4265/other/rbk/1_train-val_1min_aalesund_from_start/img1/000396.jpg: 1088x1920 1 ball, 2.3ms\n",
      "Speed: 3.1ms preprocess, 2.7ms inference, 0.5ms postprocess per image at shape (1, 3, 1088, 1920)\n",
      "\n",
      "image 1/1 /datasets/tdt4265/other/rbk/1_train-val_1min_aalesund_from_start/img1/000397.jpg: 1088x1920 22 players, 2.4ms\n",
      "\n",
      "image 1/1 /datasets/tdt4265/other/rbk/1_train-val_1min_aalesund_from_start/img1/000397.jpg: 1088x1920 1 ball, 2.5ms\n",
      "Speed: 4.5ms preprocess, 2.4ms inference, 0.5ms postprocess per image at shape (1, 3, 1088, 1920)\n",
      "\n",
      "image 1/1 /datasets/tdt4265/other/rbk/1_train-val_1min_aalesund_from_start/img1/000398.jpg: 1088x1920 22 players, 2.4ms\n",
      "\n",
      "image 1/1 /datasets/tdt4265/other/rbk/1_train-val_1min_aalesund_from_start/img1/000398.jpg: 1088x1920 1 ball, 2.4ms\n",
      "Speed: 2.3ms preprocess, 2.4ms inference, 0.5ms postprocess per image at shape (1, 3, 1088, 1920)\n",
      "\n",
      "image 1/1 /datasets/tdt4265/other/rbk/1_train-val_1min_aalesund_from_start/img1/000399.jpg: 1088x1920 22 players, 2.4ms\n",
      "\n",
      "image 1/1 /datasets/tdt4265/other/rbk/1_train-val_1min_aalesund_from_start/img1/000399.jpg: 1088x1920 1 ball, 3.2ms\n",
      "Speed: 4.3ms preprocess, 2.4ms inference, 0.5ms postprocess per image at shape (1, 3, 1088, 1920)\n",
      "\n",
      "image 1/1 /datasets/tdt4265/other/rbk/1_train-val_1min_aalesund_from_start/img1/000400.jpg: 1088x1920 22 players, 2.6ms\n",
      "\n",
      "image 1/1 /datasets/tdt4265/other/rbk/1_train-val_1min_aalesund_from_start/img1/000400.jpg: 1088x1920 1 ball, 2.3ms\n",
      "Speed: 3.3ms preprocess, 2.6ms inference, 0.6ms postprocess per image at shape (1, 3, 1088, 1920)\n",
      "\n",
      "image 1/1 /datasets/tdt4265/other/rbk/1_train-val_1min_aalesund_from_start/img1/000401.jpg: 1088x1920 22 players, 2.6ms\n",
      "\n",
      "image 1/1 /datasets/tdt4265/other/rbk/1_train-val_1min_aalesund_from_start/img1/000401.jpg: 1088x1920 1 ball, 2.7ms\n",
      "Speed: 4.5ms preprocess, 2.6ms inference, 0.8ms postprocess per image at shape (1, 3, 1088, 1920)\n",
      "\n",
      "image 1/1 /datasets/tdt4265/other/rbk/1_train-val_1min_aalesund_from_start/img1/000402.jpg: 1088x1920 22 players, 2.7ms\n",
      "\n",
      "image 1/1 /datasets/tdt4265/other/rbk/1_train-val_1min_aalesund_from_start/img1/000402.jpg: 1088x1920 1 ball, 2.3ms\n",
      "Speed: 3.1ms preprocess, 2.7ms inference, 0.6ms postprocess per image at shape (1, 3, 1088, 1920)\n",
      "\n",
      "image 1/1 /datasets/tdt4265/other/rbk/1_train-val_1min_aalesund_from_start/img1/000403.jpg: 1088x1920 22 players, 2.5ms\n",
      "\n",
      "image 1/1 /datasets/tdt4265/other/rbk/1_train-val_1min_aalesund_from_start/img1/000403.jpg: 1088x1920 1 ball, 2.4ms\n",
      "Speed: 4.2ms preprocess, 2.5ms inference, 0.5ms postprocess per image at shape (1, 3, 1088, 1920)\n",
      "\n",
      "image 1/1 /datasets/tdt4265/other/rbk/1_train-val_1min_aalesund_from_start/img1/000404.jpg: 1088x1920 22 players, 2.4ms\n",
      "\n",
      "image 1/1 /datasets/tdt4265/other/rbk/1_train-val_1min_aalesund_from_start/img1/000404.jpg: 1088x1920 1 ball, 2.5ms\n",
      "Speed: 3.0ms preprocess, 2.4ms inference, 0.5ms postprocess per image at shape (1, 3, 1088, 1920)\n",
      "\n",
      "image 1/1 /datasets/tdt4265/other/rbk/1_train-val_1min_aalesund_from_start/img1/000405.jpg: 1088x1920 22 players, 3.3ms\n",
      "\n",
      "image 1/1 /datasets/tdt4265/other/rbk/1_train-val_1min_aalesund_from_start/img1/000405.jpg: 1088x1920 1 ball, 2.6ms\n",
      "Speed: 5.3ms preprocess, 3.3ms inference, 0.7ms postprocess per image at shape (1, 3, 1088, 1920)\n",
      "\n",
      "image 1/1 /datasets/tdt4265/other/rbk/1_train-val_1min_aalesund_from_start/img1/000406.jpg: 1088x1920 22 players, 2.5ms\n",
      "\n",
      "image 1/1 /datasets/tdt4265/other/rbk/1_train-val_1min_aalesund_from_start/img1/000406.jpg: 1088x1920 1 ball, 2.4ms\n",
      "Speed: 3.1ms preprocess, 2.5ms inference, 0.5ms postprocess per image at shape (1, 3, 1088, 1920)\n",
      "\n",
      "image 1/1 /datasets/tdt4265/other/rbk/1_train-val_1min_aalesund_from_start/img1/000407.jpg: 1088x1920 22 players, 2.4ms\n",
      "\n",
      "image 1/1 /datasets/tdt4265/other/rbk/1_train-val_1min_aalesund_from_start/img1/000407.jpg: 1088x1920 1 ball, 2.3ms\n",
      "Speed: 4.4ms preprocess, 2.4ms inference, 0.5ms postprocess per image at shape (1, 3, 1088, 1920)\n",
      "\n",
      "image 1/1 /datasets/tdt4265/other/rbk/1_train-val_1min_aalesund_from_start/img1/000408.jpg: 1088x1920 22 players, 2.4ms\n",
      "\n",
      "image 1/1 /datasets/tdt4265/other/rbk/1_train-val_1min_aalesund_from_start/img1/000408.jpg: 1088x1920 1 ball, 2.3ms\n",
      "Speed: 3.1ms preprocess, 2.4ms inference, 0.6ms postprocess per image at shape (1, 3, 1088, 1920)\n",
      "\n",
      "image 1/1 /datasets/tdt4265/other/rbk/1_train-val_1min_aalesund_from_start/img1/000409.jpg: 1088x1920 22 players, 2.4ms\n",
      "\n",
      "image 1/1 /datasets/tdt4265/other/rbk/1_train-val_1min_aalesund_from_start/img1/000409.jpg: 1088x1920 1 ball, 2.3ms\n",
      "Speed: 4.3ms preprocess, 2.4ms inference, 0.5ms postprocess per image at shape (1, 3, 1088, 1920)\n",
      "\n",
      "image 1/1 /datasets/tdt4265/other/rbk/1_train-val_1min_aalesund_from_start/img1/000410.jpg: 1088x1920 22 players, 2.6ms\n",
      "\n",
      "image 1/1 /datasets/tdt4265/other/rbk/1_train-val_1min_aalesund_from_start/img1/000410.jpg: 1088x1920 1 ball, 2.6ms\n",
      "Speed: 3.2ms preprocess, 2.6ms inference, 0.5ms postprocess per image at shape (1, 3, 1088, 1920)\n",
      "\n",
      "image 1/1 /datasets/tdt4265/other/rbk/1_train-val_1min_aalesund_from_start/img1/000411.jpg: 1088x1920 22 players, 2.5ms\n",
      "\n",
      "image 1/1 /datasets/tdt4265/other/rbk/1_train-val_1min_aalesund_from_start/img1/000411.jpg: 1088x1920 1 ball, 2.5ms\n",
      "Speed: 4.5ms preprocess, 2.5ms inference, 0.5ms postprocess per image at shape (1, 3, 1088, 1920)\n",
      "\n",
      "image 1/1 /datasets/tdt4265/other/rbk/1_train-val_1min_aalesund_from_start/img1/000412.jpg: 1088x1920 22 players, 2.4ms\n",
      "\n",
      "image 1/1 /datasets/tdt4265/other/rbk/1_train-val_1min_aalesund_from_start/img1/000412.jpg: 1088x1920 1 ball, 3.0ms\n",
      "Speed: 3.0ms preprocess, 2.4ms inference, 0.5ms postprocess per image at shape (1, 3, 1088, 1920)\n",
      "\n",
      "image 1/1 /datasets/tdt4265/other/rbk/1_train-val_1min_aalesund_from_start/img1/000413.jpg: 1088x1920 22 players, 2.5ms\n",
      "\n",
      "image 1/1 /datasets/tdt4265/other/rbk/1_train-val_1min_aalesund_from_start/img1/000413.jpg: 1088x1920 1 ball, 2.6ms\n",
      "Speed: 4.3ms preprocess, 2.5ms inference, 0.5ms postprocess per image at shape (1, 3, 1088, 1920)\n",
      "\n",
      "image 1/1 /datasets/tdt4265/other/rbk/1_train-val_1min_aalesund_from_start/img1/000414.jpg: 1088x1920 22 players, 2.6ms\n",
      "\n",
      "image 1/1 /datasets/tdt4265/other/rbk/1_train-val_1min_aalesund_from_start/img1/000414.jpg: 1088x1920 1 ball, 2.3ms\n",
      "Speed: 3.3ms preprocess, 2.6ms inference, 0.7ms postprocess per image at shape (1, 3, 1088, 1920)\n",
      "\n",
      "image 1/1 /datasets/tdt4265/other/rbk/1_train-val_1min_aalesund_from_start/img1/000415.jpg: 1088x1920 22 players, 2.5ms\n",
      "\n",
      "image 1/1 /datasets/tdt4265/other/rbk/1_train-val_1min_aalesund_from_start/img1/000415.jpg: 1088x1920 1 ball, 2.3ms\n",
      "Speed: 4.5ms preprocess, 2.5ms inference, 0.5ms postprocess per image at shape (1, 3, 1088, 1920)\n",
      "\n",
      "image 1/1 /datasets/tdt4265/other/rbk/1_train-val_1min_aalesund_from_start/img1/000416.jpg: 1088x1920 22 players, 2.5ms\n",
      "\n",
      "image 1/1 /datasets/tdt4265/other/rbk/1_train-val_1min_aalesund_from_start/img1/000416.jpg: 1088x1920 1 ball, 2.3ms\n",
      "Speed: 3.1ms preprocess, 2.5ms inference, 0.5ms postprocess per image at shape (1, 3, 1088, 1920)\n",
      "\n",
      "image 1/1 /datasets/tdt4265/other/rbk/1_train-val_1min_aalesund_from_start/img1/000417.jpg: 1088x1920 22 players, 2.4ms\n",
      "\n",
      "image 1/1 /datasets/tdt4265/other/rbk/1_train-val_1min_aalesund_from_start/img1/000417.jpg: 1088x1920 1 ball, 2.3ms\n",
      "Speed: 4.4ms preprocess, 2.4ms inference, 0.5ms postprocess per image at shape (1, 3, 1088, 1920)\n",
      "\n",
      "image 1/1 /datasets/tdt4265/other/rbk/1_train-val_1min_aalesund_from_start/img1/000418.jpg: 1088x1920 22 players, 2.5ms\n",
      "\n",
      "image 1/1 /datasets/tdt4265/other/rbk/1_train-val_1min_aalesund_from_start/img1/000418.jpg: 1088x1920 1 ball, 2.4ms\n",
      "Speed: 3.2ms preprocess, 2.5ms inference, 0.6ms postprocess per image at shape (1, 3, 1088, 1920)\n",
      "\n",
      "image 1/1 /datasets/tdt4265/other/rbk/1_train-val_1min_aalesund_from_start/img1/000419.jpg: 1088x1920 22 players, 2.4ms\n",
      "\n",
      "image 1/1 /datasets/tdt4265/other/rbk/1_train-val_1min_aalesund_from_start/img1/000419.jpg: 1088x1920 1 ball, 2.4ms\n",
      "Speed: 4.5ms preprocess, 2.4ms inference, 0.5ms postprocess per image at shape (1, 3, 1088, 1920)\n",
      "\n",
      "image 1/1 /datasets/tdt4265/other/rbk/1_train-val_1min_aalesund_from_start/img1/000420.jpg: 1088x1920 22 players, 2.4ms\n",
      "\n",
      "image 1/1 /datasets/tdt4265/other/rbk/1_train-val_1min_aalesund_from_start/img1/000420.jpg: 1088x1920 1 ball, 2.6ms\n",
      "Speed: 3.2ms preprocess, 2.4ms inference, 0.5ms postprocess per image at shape (1, 3, 1088, 1920)\n",
      "\n",
      "image 1/1 /datasets/tdt4265/other/rbk/1_train-val_1min_aalesund_from_start/img1/000421.jpg: 1088x1920 22 players, 2.5ms\n",
      "\n",
      "image 1/1 /datasets/tdt4265/other/rbk/1_train-val_1min_aalesund_from_start/img1/000421.jpg: 1088x1920 1 ball, 2.4ms\n",
      "Speed: 4.5ms preprocess, 2.5ms inference, 0.8ms postprocess per image at shape (1, 3, 1088, 1920)\n",
      "\n",
      "image 1/1 /datasets/tdt4265/other/rbk/1_train-val_1min_aalesund_from_start/img1/000422.jpg: 1088x1920 22 players, 2.5ms\n",
      "\n",
      "image 1/1 /datasets/tdt4265/other/rbk/1_train-val_1min_aalesund_from_start/img1/000422.jpg: 1088x1920 1 ball, 2.4ms\n",
      "Speed: 3.0ms preprocess, 2.5ms inference, 0.9ms postprocess per image at shape (1, 3, 1088, 1920)\n",
      "\n",
      "image 1/1 /datasets/tdt4265/other/rbk/1_train-val_1min_aalesund_from_start/img1/000423.jpg: 1088x1920 22 players, 2.4ms\n",
      "\n",
      "image 1/1 /datasets/tdt4265/other/rbk/1_train-val_1min_aalesund_from_start/img1/000423.jpg: 1088x1920 1 ball, 2.3ms\n",
      "Speed: 4.3ms preprocess, 2.4ms inference, 0.5ms postprocess per image at shape (1, 3, 1088, 1920)\n",
      "\n",
      "image 1/1 /datasets/tdt4265/other/rbk/1_train-val_1min_aalesund_from_start/img1/000424.jpg: 1088x1920 22 players, 2.4ms\n",
      "\n",
      "image 1/1 /datasets/tdt4265/other/rbk/1_train-val_1min_aalesund_from_start/img1/000424.jpg: 1088x1920 1 ball, 2.3ms\n",
      "Speed: 2.4ms preprocess, 2.4ms inference, 1.1ms postprocess per image at shape (1, 3, 1088, 1920)\n",
      "\n",
      "image 1/1 /datasets/tdt4265/other/rbk/1_train-val_1min_aalesund_from_start/img1/000425.jpg: 1088x1920 22 players, 2.5ms\n",
      "\n",
      "image 1/1 /datasets/tdt4265/other/rbk/1_train-val_1min_aalesund_from_start/img1/000425.jpg: 1088x1920 1 ball, 2.3ms\n",
      "Speed: 4.6ms preprocess, 2.5ms inference, 0.5ms postprocess per image at shape (1, 3, 1088, 1920)\n",
      "\n",
      "image 1/1 /datasets/tdt4265/other/rbk/1_train-val_1min_aalesund_from_start/img1/000426.jpg: 1088x1920 22 players, 2.5ms\n",
      "\n",
      "image 1/1 /datasets/tdt4265/other/rbk/1_train-val_1min_aalesund_from_start/img1/000426.jpg: 1088x1920 1 ball, 2.3ms\n",
      "Speed: 3.1ms preprocess, 2.5ms inference, 0.5ms postprocess per image at shape (1, 3, 1088, 1920)\n",
      "\n",
      "image 1/1 /datasets/tdt4265/other/rbk/1_train-val_1min_aalesund_from_start/img1/000427.jpg: 1088x1920 22 players, 2.4ms\n",
      "\n",
      "image 1/1 /datasets/tdt4265/other/rbk/1_train-val_1min_aalesund_from_start/img1/000427.jpg: 1088x1920 1 ball, 2.3ms\n",
      "Speed: 4.4ms preprocess, 2.4ms inference, 0.5ms postprocess per image at shape (1, 3, 1088, 1920)\n",
      "\n",
      "image 1/1 /datasets/tdt4265/other/rbk/1_train-val_1min_aalesund_from_start/img1/000428.jpg: 1088x1920 22 players, 2.4ms\n",
      "\n",
      "image 1/1 /datasets/tdt4265/other/rbk/1_train-val_1min_aalesund_from_start/img1/000428.jpg: 1088x1920 1 ball, 2.6ms\n",
      "Speed: 2.4ms preprocess, 2.4ms inference, 0.5ms postprocess per image at shape (1, 3, 1088, 1920)\n",
      "\n",
      "image 1/1 /datasets/tdt4265/other/rbk/1_train-val_1min_aalesund_from_start/img1/000429.jpg: 1088x1920 22 players, 2.4ms\n",
      "\n",
      "image 1/1 /datasets/tdt4265/other/rbk/1_train-val_1min_aalesund_from_start/img1/000429.jpg: 1088x1920 1 ball, 2.4ms\n",
      "Speed: 4.4ms preprocess, 2.4ms inference, 0.5ms postprocess per image at shape (1, 3, 1088, 1920)\n",
      "\n",
      "image 1/1 /datasets/tdt4265/other/rbk/1_train-val_1min_aalesund_from_start/img1/000430.jpg: 1088x1920 22 players, 2.6ms\n",
      "\n",
      "image 1/1 /datasets/tdt4265/other/rbk/1_train-val_1min_aalesund_from_start/img1/000430.jpg: 1088x1920 1 ball, 2.6ms\n",
      "Speed: 3.2ms preprocess, 2.6ms inference, 0.5ms postprocess per image at shape (1, 3, 1088, 1920)\n",
      "\n",
      "image 1/1 /datasets/tdt4265/other/rbk/1_train-val_1min_aalesund_from_start/img1/000431.jpg: 1088x1920 22 players, 2.4ms\n",
      "\n",
      "image 1/1 /datasets/tdt4265/other/rbk/1_train-val_1min_aalesund_from_start/img1/000431.jpg: 1088x1920 1 ball, 2.5ms\n",
      "Speed: 5.1ms preprocess, 2.4ms inference, 0.6ms postprocess per image at shape (1, 3, 1088, 1920)\n",
      "\n",
      "image 1/1 /datasets/tdt4265/other/rbk/1_train-val_1min_aalesund_from_start/img1/000432.jpg: 1088x1920 22 players, 2.4ms\n",
      "\n",
      "image 1/1 /datasets/tdt4265/other/rbk/1_train-val_1min_aalesund_from_start/img1/000432.jpg: 1088x1920 1 ball, 2.5ms\n",
      "Speed: 3.1ms preprocess, 2.4ms inference, 0.6ms postprocess per image at shape (1, 3, 1088, 1920)\n",
      "\n",
      "image 1/1 /datasets/tdt4265/other/rbk/1_train-val_1min_aalesund_from_start/img1/000433.jpg: 1088x1920 23 players, 2.4ms\n",
      "\n",
      "image 1/1 /datasets/tdt4265/other/rbk/1_train-val_1min_aalesund_from_start/img1/000433.jpg: 1088x1920 1 ball, 2.3ms\n",
      "Speed: 4.3ms preprocess, 2.4ms inference, 0.8ms postprocess per image at shape (1, 3, 1088, 1920)\n",
      "\n",
      "image 1/1 /datasets/tdt4265/other/rbk/1_train-val_1min_aalesund_from_start/img1/000434.jpg: 1088x1920 23 players, 2.4ms\n",
      "\n",
      "image 1/1 /datasets/tdt4265/other/rbk/1_train-val_1min_aalesund_from_start/img1/000434.jpg: 1088x1920 1 ball, 2.4ms\n",
      "Speed: 2.4ms preprocess, 2.4ms inference, 0.7ms postprocess per image at shape (1, 3, 1088, 1920)\n",
      "\n",
      "image 1/1 /datasets/tdt4265/other/rbk/1_train-val_1min_aalesund_from_start/img1/000435.jpg: 1088x1920 23 players, 2.6ms\n",
      "\n",
      "image 1/1 /datasets/tdt4265/other/rbk/1_train-val_1min_aalesund_from_start/img1/000435.jpg: 1088x1920 1 ball, 2.3ms\n",
      "Speed: 4.5ms preprocess, 2.6ms inference, 0.5ms postprocess per image at shape (1, 3, 1088, 1920)\n",
      "\n",
      "image 1/1 /datasets/tdt4265/other/rbk/1_train-val_1min_aalesund_from_start/img1/000436.jpg: 1088x1920 23 players, 2.4ms\n",
      "\n",
      "image 1/1 /datasets/tdt4265/other/rbk/1_train-val_1min_aalesund_from_start/img1/000436.jpg: 1088x1920 1 ball, 2.4ms\n",
      "Speed: 3.0ms preprocess, 2.4ms inference, 0.8ms postprocess per image at shape (1, 3, 1088, 1920)\n",
      "\n",
      "image 1/1 /datasets/tdt4265/other/rbk/1_train-val_1min_aalesund_from_start/img1/000437.jpg: 1088x1920 23 players, 2.5ms\n",
      "\n",
      "image 1/1 /datasets/tdt4265/other/rbk/1_train-val_1min_aalesund_from_start/img1/000437.jpg: 1088x1920 1 ball, 2.3ms\n",
      "Speed: 5.1ms preprocess, 2.5ms inference, 0.8ms postprocess per image at shape (1, 3, 1088, 1920)\n",
      "\n",
      "image 1/1 /datasets/tdt4265/other/rbk/1_train-val_1min_aalesund_from_start/img1/000438.jpg: 1088x1920 23 players, 2.4ms\n",
      "\n",
      "image 1/1 /datasets/tdt4265/other/rbk/1_train-val_1min_aalesund_from_start/img1/000438.jpg: 1088x1920 1 ball, 2.5ms\n",
      "Speed: 3.1ms preprocess, 2.4ms inference, 0.5ms postprocess per image at shape (1, 3, 1088, 1920)\n",
      "\n",
      "image 1/1 /datasets/tdt4265/other/rbk/1_train-val_1min_aalesund_from_start/img1/000439.jpg: 1088x1920 23 players, 2.4ms\n",
      "\n",
      "image 1/1 /datasets/tdt4265/other/rbk/1_train-val_1min_aalesund_from_start/img1/000439.jpg: 1088x1920 1 ball, 2.3ms\n",
      "Speed: 4.3ms preprocess, 2.4ms inference, 0.8ms postprocess per image at shape (1, 3, 1088, 1920)\n",
      "\n",
      "image 1/1 /datasets/tdt4265/other/rbk/1_train-val_1min_aalesund_from_start/img1/000440.jpg: 1088x1920 23 players, 3.2ms\n",
      "\n",
      "image 1/1 /datasets/tdt4265/other/rbk/1_train-val_1min_aalesund_from_start/img1/000440.jpg: 1088x1920 1 ball, 2.4ms\n",
      "Speed: 3.6ms preprocess, 3.2ms inference, 0.8ms postprocess per image at shape (1, 3, 1088, 1920)\n",
      "\n",
      "image 1/1 /datasets/tdt4265/other/rbk/1_train-val_1min_aalesund_from_start/img1/000441.jpg: 1088x1920 22 players, 2.8ms\n",
      "\n",
      "image 1/1 /datasets/tdt4265/other/rbk/1_train-val_1min_aalesund_from_start/img1/000441.jpg: 1088x1920 1 ball, 2.3ms\n",
      "Speed: 4.4ms preprocess, 2.8ms inference, 0.5ms postprocess per image at shape (1, 3, 1088, 1920)\n",
      "\n",
      "image 1/1 /datasets/tdt4265/other/rbk/1_train-val_1min_aalesund_from_start/img1/000442.jpg: 1088x1920 22 players, 2.6ms\n",
      "\n",
      "image 1/1 /datasets/tdt4265/other/rbk/1_train-val_1min_aalesund_from_start/img1/000442.jpg: 1088x1920 1 ball, 2.3ms\n",
      "Speed: 3.0ms preprocess, 2.6ms inference, 0.7ms postprocess per image at shape (1, 3, 1088, 1920)\n",
      "\n",
      "image 1/1 /datasets/tdt4265/other/rbk/1_train-val_1min_aalesund_from_start/img1/000443.jpg: 1088x1920 22 players, 2.6ms\n",
      "\n",
      "image 1/1 /datasets/tdt4265/other/rbk/1_train-val_1min_aalesund_from_start/img1/000443.jpg: 1088x1920 1 ball, 2.6ms\n",
      "Speed: 4.3ms preprocess, 2.6ms inference, 0.5ms postprocess per image at shape (1, 3, 1088, 1920)\n",
      "\n",
      "image 1/1 /datasets/tdt4265/other/rbk/1_train-val_1min_aalesund_from_start/img1/000444.jpg: 1088x1920 22 players, 2.6ms\n",
      "\n",
      "image 1/1 /datasets/tdt4265/other/rbk/1_train-val_1min_aalesund_from_start/img1/000444.jpg: 1088x1920 1 ball, 2.4ms\n",
      "Speed: 2.4ms preprocess, 2.6ms inference, 0.5ms postprocess per image at shape (1, 3, 1088, 1920)\n",
      "\n",
      "image 1/1 /datasets/tdt4265/other/rbk/1_train-val_1min_aalesund_from_start/img1/000445.jpg: 1088x1920 22 players, 2.4ms\n",
      "\n",
      "image 1/1 /datasets/tdt4265/other/rbk/1_train-val_1min_aalesund_from_start/img1/000445.jpg: 1088x1920 1 ball, 2.6ms\n",
      "Speed: 4.4ms preprocess, 2.4ms inference, 0.5ms postprocess per image at shape (1, 3, 1088, 1920)\n",
      "\n",
      "image 1/1 /datasets/tdt4265/other/rbk/1_train-val_1min_aalesund_from_start/img1/000446.jpg: 1088x1920 22 players, 2.4ms\n",
      "\n",
      "image 1/1 /datasets/tdt4265/other/rbk/1_train-val_1min_aalesund_from_start/img1/000446.jpg: 1088x1920 1 ball, 2.3ms\n",
      "Speed: 3.1ms preprocess, 2.4ms inference, 0.6ms postprocess per image at shape (1, 3, 1088, 1920)\n",
      "\n",
      "image 1/1 /datasets/tdt4265/other/rbk/1_train-val_1min_aalesund_from_start/img1/000447.jpg: 1088x1920 22 players, 2.6ms\n",
      "\n",
      "image 1/1 /datasets/tdt4265/other/rbk/1_train-val_1min_aalesund_from_start/img1/000447.jpg: 1088x1920 1 ball, 2.6ms\n",
      "Speed: 4.4ms preprocess, 2.6ms inference, 0.5ms postprocess per image at shape (1, 3, 1088, 1920)\n",
      "\n",
      "image 1/1 /datasets/tdt4265/other/rbk/1_train-val_1min_aalesund_from_start/img1/000448.jpg: 1088x1920 22 players, 2.4ms\n",
      "\n",
      "image 1/1 /datasets/tdt4265/other/rbk/1_train-val_1min_aalesund_from_start/img1/000448.jpg: 1088x1920 1 ball, 2.6ms\n",
      "Speed: 2.3ms preprocess, 2.4ms inference, 0.7ms postprocess per image at shape (1, 3, 1088, 1920)\n",
      "\n",
      "image 1/1 /datasets/tdt4265/other/rbk/1_train-val_1min_aalesund_from_start/img1/000449.jpg: 1088x1920 22 players, 2.5ms\n",
      "\n",
      "image 1/1 /datasets/tdt4265/other/rbk/1_train-val_1min_aalesund_from_start/img1/000449.jpg: 1088x1920 1 ball, 2.4ms\n",
      "Speed: 4.5ms preprocess, 2.5ms inference, 0.5ms postprocess per image at shape (1, 3, 1088, 1920)\n",
      "\n",
      "image 1/1 /datasets/tdt4265/other/rbk/1_train-val_1min_aalesund_from_start/img1/000450.jpg: 1088x1920 22 players, 2.5ms\n",
      "\n",
      "image 1/1 /datasets/tdt4265/other/rbk/1_train-val_1min_aalesund_from_start/img1/000450.jpg: 1088x1920 1 ball, 2.3ms\n",
      "Speed: 3.2ms preprocess, 2.5ms inference, 0.5ms postprocess per image at shape (1, 3, 1088, 1920)\n",
      "\n",
      "image 1/1 /datasets/tdt4265/other/rbk/1_train-val_1min_aalesund_from_start/img1/000451.jpg: 1088x1920 22 players, 2.9ms\n",
      "\n",
      "image 1/1 /datasets/tdt4265/other/rbk/1_train-val_1min_aalesund_from_start/img1/000451.jpg: 1088x1920 1 ball, 2.4ms\n",
      "Speed: 4.5ms preprocess, 2.9ms inference, 0.6ms postprocess per image at shape (1, 3, 1088, 1920)\n",
      "\n",
      "image 1/1 /datasets/tdt4265/other/rbk/1_train-val_1min_aalesund_from_start/img1/000452.jpg: 1088x1920 22 players, 2.4ms\n",
      "\n",
      "image 1/1 /datasets/tdt4265/other/rbk/1_train-val_1min_aalesund_from_start/img1/000452.jpg: 1088x1920 1 ball, 2.4ms\n",
      "Speed: 3.2ms preprocess, 2.4ms inference, 0.5ms postprocess per image at shape (1, 3, 1088, 1920)\n",
      "\n",
      "image 1/1 /datasets/tdt4265/other/rbk/1_train-val_1min_aalesund_from_start/img1/000453.jpg: 1088x1920 22 players, 2.6ms\n",
      "\n",
      "image 1/1 /datasets/tdt4265/other/rbk/1_train-val_1min_aalesund_from_start/img1/000453.jpg: 1088x1920 1 ball, 2.3ms\n",
      "Speed: 4.4ms preprocess, 2.6ms inference, 0.8ms postprocess per image at shape (1, 3, 1088, 1920)\n",
      "\n",
      "image 1/1 /datasets/tdt4265/other/rbk/1_train-val_1min_aalesund_from_start/img1/000454.jpg: 1088x1920 22 players, 2.6ms\n",
      "\n",
      "image 1/1 /datasets/tdt4265/other/rbk/1_train-val_1min_aalesund_from_start/img1/000454.jpg: 1088x1920 1 ball, 2.4ms\n",
      "Speed: 2.2ms preprocess, 2.6ms inference, 0.7ms postprocess per image at shape (1, 3, 1088, 1920)\n",
      "\n",
      "image 1/1 /datasets/tdt4265/other/rbk/1_train-val_1min_aalesund_from_start/img1/000455.jpg: 1088x1920 22 players, 2.7ms\n",
      "\n",
      "image 1/1 /datasets/tdt4265/other/rbk/1_train-val_1min_aalesund_from_start/img1/000455.jpg: 1088x1920 1 ball, 2.3ms\n",
      "Speed: 5.3ms preprocess, 2.7ms inference, 0.5ms postprocess per image at shape (1, 3, 1088, 1920)\n",
      "\n",
      "image 1/1 /datasets/tdt4265/other/rbk/1_train-val_1min_aalesund_from_start/img1/000456.jpg: 1088x1920 22 players, 2.5ms\n",
      "\n",
      "image 1/1 /datasets/tdt4265/other/rbk/1_train-val_1min_aalesund_from_start/img1/000456.jpg: 1088x1920 1 ball, 2.3ms\n",
      "Speed: 3.1ms preprocess, 2.5ms inference, 0.5ms postprocess per image at shape (1, 3, 1088, 1920)\n",
      "\n",
      "image 1/1 /datasets/tdt4265/other/rbk/1_train-val_1min_aalesund_from_start/img1/000457.jpg: 1088x1920 22 players, 2.4ms\n",
      "\n",
      "image 1/1 /datasets/tdt4265/other/rbk/1_train-val_1min_aalesund_from_start/img1/000457.jpg: 1088x1920 1 ball, 2.3ms\n",
      "Speed: 4.4ms preprocess, 2.4ms inference, 0.6ms postprocess per image at shape (1, 3, 1088, 1920)\n",
      "\n",
      "image 1/1 /datasets/tdt4265/other/rbk/1_train-val_1min_aalesund_from_start/img1/000458.jpg: 1088x1920 22 players, 2.4ms\n",
      "\n",
      "image 1/1 /datasets/tdt4265/other/rbk/1_train-val_1min_aalesund_from_start/img1/000458.jpg: 1088x1920 1 ball, 2.3ms\n",
      "Speed: 2.3ms preprocess, 2.4ms inference, 0.6ms postprocess per image at shape (1, 3, 1088, 1920)\n",
      "\n",
      "image 1/1 /datasets/tdt4265/other/rbk/1_train-val_1min_aalesund_from_start/img1/000459.jpg: 1088x1920 22 players, 2.6ms\n",
      "\n",
      "image 1/1 /datasets/tdt4265/other/rbk/1_train-val_1min_aalesund_from_start/img1/000459.jpg: 1088x1920 1 ball, 2.8ms\n",
      "Speed: 4.5ms preprocess, 2.6ms inference, 0.5ms postprocess per image at shape (1, 3, 1088, 1920)\n",
      "\n",
      "image 1/1 /datasets/tdt4265/other/rbk/1_train-val_1min_aalesund_from_start/img1/000460.jpg: 1088x1920 22 players, 2.4ms\n",
      "\n",
      "image 1/1 /datasets/tdt4265/other/rbk/1_train-val_1min_aalesund_from_start/img1/000460.jpg: 1088x1920 1 ball, 2.6ms\n",
      "Speed: 3.2ms preprocess, 2.4ms inference, 1.1ms postprocess per image at shape (1, 3, 1088, 1920)\n",
      "\n",
      "image 1/1 /datasets/tdt4265/other/rbk/1_train-val_1min_aalesund_from_start/img1/000461.jpg: 1088x1920 22 players, 2.8ms\n",
      "\n",
      "image 1/1 /datasets/tdt4265/other/rbk/1_train-val_1min_aalesund_from_start/img1/000461.jpg: 1088x1920 1 ball, 2.7ms\n",
      "Speed: 4.0ms preprocess, 2.8ms inference, 0.7ms postprocess per image at shape (1, 3, 1088, 1920)\n",
      "\n",
      "image 1/1 /datasets/tdt4265/other/rbk/1_train-val_1min_aalesund_from_start/img1/000462.jpg: 1088x1920 22 players, 2.4ms\n",
      "\n",
      "image 1/1 /datasets/tdt4265/other/rbk/1_train-val_1min_aalesund_from_start/img1/000462.jpg: 1088x1920 1 ball, 2.6ms\n",
      "Speed: 3.3ms preprocess, 2.4ms inference, 0.5ms postprocess per image at shape (1, 3, 1088, 1920)\n",
      "\n",
      "image 1/1 /datasets/tdt4265/other/rbk/1_train-val_1min_aalesund_from_start/img1/000463.jpg: 1088x1920 22 players, 2.4ms\n",
      "\n",
      "image 1/1 /datasets/tdt4265/other/rbk/1_train-val_1min_aalesund_from_start/img1/000463.jpg: 1088x1920 1 ball, 2.6ms\n",
      "Speed: 3.3ms preprocess, 2.4ms inference, 0.7ms postprocess per image at shape (1, 3, 1088, 1920)\n",
      "\n",
      "image 1/1 /datasets/tdt4265/other/rbk/1_train-val_1min_aalesund_from_start/img1/000464.jpg: 1088x1920 22 players, 2.5ms\n",
      "\n",
      "image 1/1 /datasets/tdt4265/other/rbk/1_train-val_1min_aalesund_from_start/img1/000464.jpg: 1088x1920 1 ball, 2.8ms\n",
      "Speed: 2.5ms preprocess, 2.5ms inference, 0.6ms postprocess per image at shape (1, 3, 1088, 1920)\n",
      "\n",
      "image 1/1 /datasets/tdt4265/other/rbk/1_train-val_1min_aalesund_from_start/img1/000465.jpg: 1088x1920 22 players, 2.5ms\n",
      "\n",
      "image 1/1 /datasets/tdt4265/other/rbk/1_train-val_1min_aalesund_from_start/img1/000465.jpg: 1088x1920 1 ball, 2.9ms\n",
      "Speed: 3.2ms preprocess, 2.5ms inference, 0.5ms postprocess per image at shape (1, 3, 1088, 1920)\n",
      "\n",
      "image 1/1 /datasets/tdt4265/other/rbk/1_train-val_1min_aalesund_from_start/img1/000466.jpg: 1088x1920 22 players, 2.4ms\n",
      "\n",
      "image 1/1 /datasets/tdt4265/other/rbk/1_train-val_1min_aalesund_from_start/img1/000466.jpg: 1088x1920 1 ball, 3.2ms\n",
      "Speed: 4.4ms preprocess, 2.4ms inference, 0.5ms postprocess per image at shape (1, 3, 1088, 1920)\n",
      "\n",
      "image 1/1 /datasets/tdt4265/other/rbk/1_train-val_1min_aalesund_from_start/img1/000467.jpg: 1088x1920 22 players, 2.4ms\n",
      "\n",
      "image 1/1 /datasets/tdt4265/other/rbk/1_train-val_1min_aalesund_from_start/img1/000467.jpg: 1088x1920 1 ball, 2.5ms\n",
      "Speed: 3.0ms preprocess, 2.4ms inference, 0.6ms postprocess per image at shape (1, 3, 1088, 1920)\n",
      "\n",
      "image 1/1 /datasets/tdt4265/other/rbk/1_train-val_1min_aalesund_from_start/img1/000468.jpg: 1088x1920 22 players, 2.7ms\n",
      "\n",
      "image 1/1 /datasets/tdt4265/other/rbk/1_train-val_1min_aalesund_from_start/img1/000468.jpg: 1088x1920 1 ball, 2.7ms\n",
      "Speed: 4.3ms preprocess, 2.7ms inference, 0.5ms postprocess per image at shape (1, 3, 1088, 1920)\n",
      "\n",
      "image 1/1 /datasets/tdt4265/other/rbk/1_train-val_1min_aalesund_from_start/img1/000469.jpg: 1088x1920 22 players, 2.4ms\n",
      "\n",
      "image 1/1 /datasets/tdt4265/other/rbk/1_train-val_1min_aalesund_from_start/img1/000469.jpg: 1088x1920 1 ball, 2.4ms\n",
      "Speed: 3.3ms preprocess, 2.4ms inference, 0.5ms postprocess per image at shape (1, 3, 1088, 1920)\n",
      "\n",
      "image 1/1 /datasets/tdt4265/other/rbk/1_train-val_1min_aalesund_from_start/img1/000470.jpg: 1088x1920 22 players, 2.4ms\n",
      "\n",
      "image 1/1 /datasets/tdt4265/other/rbk/1_train-val_1min_aalesund_from_start/img1/000470.jpg: 1088x1920 1 ball, 2.6ms\n",
      "Speed: 3.3ms preprocess, 2.4ms inference, 0.8ms postprocess per image at shape (1, 3, 1088, 1920)\n",
      "\n",
      "image 1/1 /datasets/tdt4265/other/rbk/1_train-val_1min_aalesund_from_start/img1/000471.jpg: 1088x1920 22 players, 3.7ms\n",
      "\n",
      "image 1/1 /datasets/tdt4265/other/rbk/1_train-val_1min_aalesund_from_start/img1/000471.jpg: 1088x1920 1 ball, 2.4ms\n",
      "Speed: 4.0ms preprocess, 3.7ms inference, 0.7ms postprocess per image at shape (1, 3, 1088, 1920)\n",
      "\n",
      "image 1/1 /datasets/tdt4265/other/rbk/1_train-val_1min_aalesund_from_start/img1/000472.jpg: 1088x1920 22 players, 2.7ms\n",
      "\n",
      "image 1/1 /datasets/tdt4265/other/rbk/1_train-val_1min_aalesund_from_start/img1/000472.jpg: 1088x1920 1 ball, 3.1ms\n",
      "Speed: 4.3ms preprocess, 2.7ms inference, 0.5ms postprocess per image at shape (1, 3, 1088, 1920)\n",
      "\n",
      "image 1/1 /datasets/tdt4265/other/rbk/1_train-val_1min_aalesund_from_start/img1/000473.jpg: 1088x1920 22 players, 2.7ms\n",
      "\n",
      "image 1/1 /datasets/tdt4265/other/rbk/1_train-val_1min_aalesund_from_start/img1/000473.jpg: 1088x1920 1 ball, 2.5ms\n",
      "Speed: 3.3ms preprocess, 2.7ms inference, 0.7ms postprocess per image at shape (1, 3, 1088, 1920)\n",
      "\n",
      "image 1/1 /datasets/tdt4265/other/rbk/1_train-val_1min_aalesund_from_start/img1/000474.jpg: 1088x1920 22 players, 2.6ms\n",
      "\n",
      "image 1/1 /datasets/tdt4265/other/rbk/1_train-val_1min_aalesund_from_start/img1/000474.jpg: 1088x1920 1 ball, 2.3ms\n",
      "Speed: 3.3ms preprocess, 2.6ms inference, 0.5ms postprocess per image at shape (1, 3, 1088, 1920)\n",
      "\n",
      "image 1/1 /datasets/tdt4265/other/rbk/1_train-val_1min_aalesund_from_start/img1/000475.jpg: 1088x1920 22 players, 2.4ms\n",
      "\n",
      "image 1/1 /datasets/tdt4265/other/rbk/1_train-val_1min_aalesund_from_start/img1/000475.jpg: 1088x1920 1 ball, 2.6ms\n",
      "Speed: 3.3ms preprocess, 2.4ms inference, 0.5ms postprocess per image at shape (1, 3, 1088, 1920)\n",
      "\n",
      "image 1/1 /datasets/tdt4265/other/rbk/1_train-val_1min_aalesund_from_start/img1/000476.jpg: 1088x1920 22 players, 2.4ms\n",
      "\n",
      "image 1/1 /datasets/tdt4265/other/rbk/1_train-val_1min_aalesund_from_start/img1/000476.jpg: 1088x1920 1 ball, 2.6ms\n",
      "Speed: 3.3ms preprocess, 2.4ms inference, 0.7ms postprocess per image at shape (1, 3, 1088, 1920)\n",
      "\n",
      "image 1/1 /datasets/tdt4265/other/rbk/1_train-val_1min_aalesund_from_start/img1/000477.jpg: 1088x1920 22 players, 2.5ms\n",
      "\n",
      "image 1/1 /datasets/tdt4265/other/rbk/1_train-val_1min_aalesund_from_start/img1/000477.jpg: 1088x1920 1 ball, 2.8ms\n",
      "Speed: 3.3ms preprocess, 2.5ms inference, 0.5ms postprocess per image at shape (1, 3, 1088, 1920)\n",
      "\n",
      "image 1/1 /datasets/tdt4265/other/rbk/1_train-val_1min_aalesund_from_start/img1/000478.jpg: 1088x1920 22 players, 2.5ms\n",
      "\n",
      "image 1/1 /datasets/tdt4265/other/rbk/1_train-val_1min_aalesund_from_start/img1/000478.jpg: 1088x1920 1 ball, 2.6ms\n",
      "Speed: 3.3ms preprocess, 2.5ms inference, 0.6ms postprocess per image at shape (1, 3, 1088, 1920)\n",
      "\n",
      "image 1/1 /datasets/tdt4265/other/rbk/1_train-val_1min_aalesund_from_start/img1/000479.jpg: 1088x1920 22 players, 2.5ms\n",
      "\n",
      "image 1/1 /datasets/tdt4265/other/rbk/1_train-val_1min_aalesund_from_start/img1/000479.jpg: 1088x1920 1 ball, 2.3ms\n",
      "Speed: 3.2ms preprocess, 2.5ms inference, 0.5ms postprocess per image at shape (1, 3, 1088, 1920)\n",
      "\n",
      "image 1/1 /datasets/tdt4265/other/rbk/1_train-val_1min_aalesund_from_start/img1/000480.jpg: 1088x1920 22 players, 2.5ms\n",
      "\n",
      "image 1/1 /datasets/tdt4265/other/rbk/1_train-val_1min_aalesund_from_start/img1/000480.jpg: 1088x1920 1 ball, 2.3ms\n",
      "Speed: 3.2ms preprocess, 2.5ms inference, 0.5ms postprocess per image at shape (1, 3, 1088, 1920)\n",
      "\n",
      "image 1/1 /datasets/tdt4265/other/rbk/1_train-val_1min_aalesund_from_start/img1/000481.jpg: 1088x1920 22 players, 2.5ms\n",
      "\n",
      "image 1/1 /datasets/tdt4265/other/rbk/1_train-val_1min_aalesund_from_start/img1/000481.jpg: 1088x1920 1 ball, 2.3ms\n",
      "Speed: 3.3ms preprocess, 2.5ms inference, 0.6ms postprocess per image at shape (1, 3, 1088, 1920)\n",
      "\n",
      "image 1/1 /datasets/tdt4265/other/rbk/1_train-val_1min_aalesund_from_start/img1/000482.jpg: 1088x1920 22 players, 2.4ms\n",
      "\n",
      "image 1/1 /datasets/tdt4265/other/rbk/1_train-val_1min_aalesund_from_start/img1/000482.jpg: 1088x1920 1 ball, 2.3ms\n",
      "Speed: 3.3ms preprocess, 2.4ms inference, 0.5ms postprocess per image at shape (1, 3, 1088, 1920)\n",
      "\n",
      "image 1/1 /datasets/tdt4265/other/rbk/1_train-val_1min_aalesund_from_start/img1/000483.jpg: 1088x1920 22 players, 2.5ms\n",
      "\n",
      "image 1/1 /datasets/tdt4265/other/rbk/1_train-val_1min_aalesund_from_start/img1/000483.jpg: 1088x1920 1 ball, 2.3ms\n",
      "Speed: 3.2ms preprocess, 2.5ms inference, 0.5ms postprocess per image at shape (1, 3, 1088, 1920)\n",
      "\n",
      "image 1/1 /datasets/tdt4265/other/rbk/1_train-val_1min_aalesund_from_start/img1/000484.jpg: 1088x1920 22 players, 2.4ms\n",
      "\n",
      "image 1/1 /datasets/tdt4265/other/rbk/1_train-val_1min_aalesund_from_start/img1/000484.jpg: 1088x1920 1 ball, 2.6ms\n",
      "Speed: 3.3ms preprocess, 2.4ms inference, 0.5ms postprocess per image at shape (1, 3, 1088, 1920)\n",
      "\n",
      "image 1/1 /datasets/tdt4265/other/rbk/1_train-val_1min_aalesund_from_start/img1/000485.jpg: 1088x1920 22 players, 2.4ms\n",
      "\n",
      "image 1/1 /datasets/tdt4265/other/rbk/1_train-val_1min_aalesund_from_start/img1/000485.jpg: 1088x1920 1 ball, 2.4ms\n",
      "Speed: 3.3ms preprocess, 2.4ms inference, 0.5ms postprocess per image at shape (1, 3, 1088, 1920)\n",
      "\n",
      "image 1/1 /datasets/tdt4265/other/rbk/1_train-val_1min_aalesund_from_start/img1/000486.jpg: 1088x1920 22 players, 2.4ms\n",
      "\n",
      "image 1/1 /datasets/tdt4265/other/rbk/1_train-val_1min_aalesund_from_start/img1/000486.jpg: 1088x1920 1 ball, 2.5ms\n",
      "Speed: 3.3ms preprocess, 2.4ms inference, 0.5ms postprocess per image at shape (1, 3, 1088, 1920)\n",
      "\n",
      "image 1/1 /datasets/tdt4265/other/rbk/1_train-val_1min_aalesund_from_start/img1/000487.jpg: 1088x1920 22 players, 2.4ms\n",
      "\n",
      "image 1/1 /datasets/tdt4265/other/rbk/1_train-val_1min_aalesund_from_start/img1/000487.jpg: 1088x1920 1 ball, 2.5ms\n",
      "Speed: 3.2ms preprocess, 2.4ms inference, 0.5ms postprocess per image at shape (1, 3, 1088, 1920)\n",
      "\n",
      "image 1/1 /datasets/tdt4265/other/rbk/1_train-val_1min_aalesund_from_start/img1/000488.jpg: 1088x1920 22 players, 2.4ms\n",
      "\n",
      "image 1/1 /datasets/tdt4265/other/rbk/1_train-val_1min_aalesund_from_start/img1/000488.jpg: 1088x1920 1 ball, 2.5ms\n",
      "Speed: 3.3ms preprocess, 2.4ms inference, 0.5ms postprocess per image at shape (1, 3, 1088, 1920)\n",
      "\n",
      "image 1/1 /datasets/tdt4265/other/rbk/1_train-val_1min_aalesund_from_start/img1/000489.jpg: 1088x1920 22 players, 2.4ms\n",
      "\n",
      "image 1/1 /datasets/tdt4265/other/rbk/1_train-val_1min_aalesund_from_start/img1/000489.jpg: 1088x1920 1 ball, 2.5ms\n",
      "Speed: 3.3ms preprocess, 2.4ms inference, 0.6ms postprocess per image at shape (1, 3, 1088, 1920)\n",
      "\n",
      "image 1/1 /datasets/tdt4265/other/rbk/1_train-val_1min_aalesund_from_start/img1/000490.jpg: 1088x1920 22 players, 2.5ms\n",
      "\n",
      "image 1/1 /datasets/tdt4265/other/rbk/1_train-val_1min_aalesund_from_start/img1/000490.jpg: 1088x1920 1 ball, 2.6ms\n",
      "Speed: 3.3ms preprocess, 2.5ms inference, 0.5ms postprocess per image at shape (1, 3, 1088, 1920)\n",
      "\n",
      "image 1/1 /datasets/tdt4265/other/rbk/1_train-val_1min_aalesund_from_start/img1/000491.jpg: 1088x1920 22 players, 2.4ms\n",
      "\n",
      "image 1/1 /datasets/tdt4265/other/rbk/1_train-val_1min_aalesund_from_start/img1/000491.jpg: 1088x1920 1 ball, 2.5ms\n",
      "Speed: 2.4ms preprocess, 2.4ms inference, 0.6ms postprocess per image at shape (1, 3, 1088, 1920)\n",
      "\n",
      "image 1/1 /datasets/tdt4265/other/rbk/1_train-val_1min_aalesund_from_start/img1/000492.jpg: 1088x1920 22 players, 2.7ms\n",
      "\n",
      "image 1/1 /datasets/tdt4265/other/rbk/1_train-val_1min_aalesund_from_start/img1/000492.jpg: 1088x1920 1 ball, 2.6ms\n",
      "Speed: 5.4ms preprocess, 2.7ms inference, 0.6ms postprocess per image at shape (1, 3, 1088, 1920)\n",
      "\n",
      "image 1/1 /datasets/tdt4265/other/rbk/1_train-val_1min_aalesund_from_start/img1/000493.jpg: 1088x1920 22 players, 2.3ms\n",
      "\n",
      "image 1/1 /datasets/tdt4265/other/rbk/1_train-val_1min_aalesund_from_start/img1/000493.jpg: 1088x1920 1 ball, 2.8ms\n",
      "Speed: 2.3ms preprocess, 2.3ms inference, 0.6ms postprocess per image at shape (1, 3, 1088, 1920)\n",
      "\n",
      "image 1/1 /datasets/tdt4265/other/rbk/1_train-val_1min_aalesund_from_start/img1/000494.jpg: 1088x1920 22 players, 2.4ms\n",
      "\n",
      "image 1/1 /datasets/tdt4265/other/rbk/1_train-val_1min_aalesund_from_start/img1/000494.jpg: 1088x1920 1 ball, 2.3ms\n",
      "Speed: 4.4ms preprocess, 2.4ms inference, 0.5ms postprocess per image at shape (1, 3, 1088, 1920)\n",
      "\n",
      "image 1/1 /datasets/tdt4265/other/rbk/1_train-val_1min_aalesund_from_start/img1/000495.jpg: 1088x1920 22 players, 2.5ms\n",
      "\n",
      "image 1/1 /datasets/tdt4265/other/rbk/1_train-val_1min_aalesund_from_start/img1/000495.jpg: 1088x1920 1 ball, 2.3ms\n",
      "Speed: 3.3ms preprocess, 2.5ms inference, 0.6ms postprocess per image at shape (1, 3, 1088, 1920)\n",
      "\n",
      "image 1/1 /datasets/tdt4265/other/rbk/1_train-val_1min_aalesund_from_start/img1/000496.jpg: 1088x1920 22 players, 2.6ms\n",
      "\n",
      "image 1/1 /datasets/tdt4265/other/rbk/1_train-val_1min_aalesund_from_start/img1/000496.jpg: 1088x1920 1 ball, 2.4ms\n",
      "Speed: 4.5ms preprocess, 2.6ms inference, 0.5ms postprocess per image at shape (1, 3, 1088, 1920)\n",
      "\n",
      "image 1/1 /datasets/tdt4265/other/rbk/1_train-val_1min_aalesund_from_start/img1/000497.jpg: 1088x1920 22 players, 2.6ms\n",
      "\n",
      "image 1/1 /datasets/tdt4265/other/rbk/1_train-val_1min_aalesund_from_start/img1/000497.jpg: 1088x1920 1 ball, 2.4ms\n",
      "Speed: 3.2ms preprocess, 2.6ms inference, 0.5ms postprocess per image at shape (1, 3, 1088, 1920)\n",
      "\n",
      "image 1/1 /datasets/tdt4265/other/rbk/1_train-val_1min_aalesund_from_start/img1/000498.jpg: 1088x1920 22 players, 2.6ms\n",
      "\n",
      "image 1/1 /datasets/tdt4265/other/rbk/1_train-val_1min_aalesund_from_start/img1/000498.jpg: 1088x1920 1 ball, 2.7ms\n",
      "Speed: 4.3ms preprocess, 2.6ms inference, 0.7ms postprocess per image at shape (1, 3, 1088, 1920)\n",
      "\n",
      "image 1/1 /datasets/tdt4265/other/rbk/1_train-val_1min_aalesund_from_start/img1/000499.jpg: 1088x1920 22 players, 2.4ms\n",
      "\n",
      "image 1/1 /datasets/tdt4265/other/rbk/1_train-val_1min_aalesund_from_start/img1/000499.jpg: 1088x1920 1 ball, 2.7ms\n",
      "Speed: 2.4ms preprocess, 2.4ms inference, 0.7ms postprocess per image at shape (1, 3, 1088, 1920)\n",
      "\n",
      "image 1/1 /datasets/tdt4265/other/rbk/1_train-val_1min_aalesund_from_start/img1/000500.jpg: 1088x1920 22 players, 2.4ms\n",
      "\n",
      "image 1/1 /datasets/tdt4265/other/rbk/1_train-val_1min_aalesund_from_start/img1/000500.jpg: 1088x1920 1 ball, 2.5ms\n",
      "Speed: 4.5ms preprocess, 2.4ms inference, 0.5ms postprocess per image at shape (1, 3, 1088, 1920)\n",
      "\n",
      "image 1/1 /datasets/tdt4265/other/rbk/1_train-val_1min_aalesund_from_start/img1/000501.jpg: 1088x1920 22 players, 2.4ms\n",
      "\n",
      "image 1/1 /datasets/tdt4265/other/rbk/1_train-val_1min_aalesund_from_start/img1/000501.jpg: 1088x1920 1 ball, 2.6ms\n",
      "Speed: 3.1ms preprocess, 2.4ms inference, 0.5ms postprocess per image at shape (1, 3, 1088, 1920)\n",
      "\n",
      "image 1/1 /datasets/tdt4265/other/rbk/1_train-val_1min_aalesund_from_start/img1/000502.jpg: 1088x1920 22 players, 2.4ms\n",
      "\n",
      "image 1/1 /datasets/tdt4265/other/rbk/1_train-val_1min_aalesund_from_start/img1/000502.jpg: 1088x1920 1 ball, 2.6ms\n",
      "Speed: 4.4ms preprocess, 2.4ms inference, 0.5ms postprocess per image at shape (1, 3, 1088, 1920)\n",
      "\n",
      "image 1/1 /datasets/tdt4265/other/rbk/1_train-val_1min_aalesund_from_start/img1/000503.jpg: 1088x1920 22 players, 2.4ms\n",
      "\n",
      "image 1/1 /datasets/tdt4265/other/rbk/1_train-val_1min_aalesund_from_start/img1/000503.jpg: 1088x1920 1 ball, 2.4ms\n",
      "Speed: 3.1ms preprocess, 2.4ms inference, 0.8ms postprocess per image at shape (1, 3, 1088, 1920)\n",
      "\n",
      "image 1/1 /datasets/tdt4265/other/rbk/1_train-val_1min_aalesund_from_start/img1/000504.jpg: 1088x1920 22 players, 2.6ms\n",
      "\n",
      "image 1/1 /datasets/tdt4265/other/rbk/1_train-val_1min_aalesund_from_start/img1/000504.jpg: 1088x1920 1 ball, 2.7ms\n",
      "Speed: 4.4ms preprocess, 2.6ms inference, 0.5ms postprocess per image at shape (1, 3, 1088, 1920)\n",
      "\n",
      "image 1/1 /datasets/tdt4265/other/rbk/1_train-val_1min_aalesund_from_start/img1/000505.jpg: 1088x1920 22 players, 2.4ms\n",
      "\n",
      "image 1/1 /datasets/tdt4265/other/rbk/1_train-val_1min_aalesund_from_start/img1/000505.jpg: 1088x1920 1 ball, 2.4ms\n",
      "Speed: 3.3ms preprocess, 2.4ms inference, 1.0ms postprocess per image at shape (1, 3, 1088, 1920)\n",
      "\n",
      "image 1/1 /datasets/tdt4265/other/rbk/1_train-val_1min_aalesund_from_start/img1/000506.jpg: 1088x1920 22 players, 2.5ms\n",
      "\n",
      "image 1/1 /datasets/tdt4265/other/rbk/1_train-val_1min_aalesund_from_start/img1/000506.jpg: 1088x1920 1 ball, 2.6ms\n",
      "Speed: 4.5ms preprocess, 2.5ms inference, 0.5ms postprocess per image at shape (1, 3, 1088, 1920)\n",
      "\n",
      "image 1/1 /datasets/tdt4265/other/rbk/1_train-val_1min_aalesund_from_start/img1/000507.jpg: 1088x1920 22 players, 2.6ms\n",
      "\n",
      "image 1/1 /datasets/tdt4265/other/rbk/1_train-val_1min_aalesund_from_start/img1/000507.jpg: 1088x1920 1 ball, 2.6ms\n",
      "Speed: 3.1ms preprocess, 2.6ms inference, 0.5ms postprocess per image at shape (1, 3, 1088, 1920)\n",
      "\n",
      "image 1/1 /datasets/tdt4265/other/rbk/1_train-val_1min_aalesund_from_start/img1/000508.jpg: 1088x1920 22 players, 2.5ms\n",
      "\n",
      "image 1/1 /datasets/tdt4265/other/rbk/1_train-val_1min_aalesund_from_start/img1/000508.jpg: 1088x1920 1 ball, 2.4ms\n",
      "Speed: 4.4ms preprocess, 2.5ms inference, 0.5ms postprocess per image at shape (1, 3, 1088, 1920)\n",
      "\n",
      "image 1/1 /datasets/tdt4265/other/rbk/1_train-val_1min_aalesund_from_start/img1/000509.jpg: 1088x1920 22 players, 2.4ms\n",
      "\n",
      "image 1/1 /datasets/tdt4265/other/rbk/1_train-val_1min_aalesund_from_start/img1/000509.jpg: 1088x1920 1 ball, 2.6ms\n",
      "Speed: 2.4ms preprocess, 2.4ms inference, 0.5ms postprocess per image at shape (1, 3, 1088, 1920)\n",
      "\n",
      "image 1/1 /datasets/tdt4265/other/rbk/1_train-val_1min_aalesund_from_start/img1/000510.jpg: 1088x1920 22 players, 2.4ms\n",
      "\n",
      "image 1/1 /datasets/tdt4265/other/rbk/1_train-val_1min_aalesund_from_start/img1/000510.jpg: 1088x1920 1 ball, 2.4ms\n",
      "Speed: 4.5ms preprocess, 2.4ms inference, 0.6ms postprocess per image at shape (1, 3, 1088, 1920)\n",
      "\n",
      "image 1/1 /datasets/tdt4265/other/rbk/1_train-val_1min_aalesund_from_start/img1/000511.jpg: 1088x1920 22 players, 2.6ms\n",
      "\n",
      "image 1/1 /datasets/tdt4265/other/rbk/1_train-val_1min_aalesund_from_start/img1/000511.jpg: 1088x1920 1 ball, 2.4ms\n",
      "Speed: 3.1ms preprocess, 2.6ms inference, 0.5ms postprocess per image at shape (1, 3, 1088, 1920)\n",
      "\n",
      "image 1/1 /datasets/tdt4265/other/rbk/1_train-val_1min_aalesund_from_start/img1/000512.jpg: 1088x1920 22 players, 2.8ms\n",
      "\n",
      "image 1/1 /datasets/tdt4265/other/rbk/1_train-val_1min_aalesund_from_start/img1/000512.jpg: 1088x1920 1 ball, 2.5ms\n",
      "Speed: 4.6ms preprocess, 2.8ms inference, 1.1ms postprocess per image at shape (1, 3, 1088, 1920)\n",
      "\n",
      "image 1/1 /datasets/tdt4265/other/rbk/1_train-val_1min_aalesund_from_start/img1/000513.jpg: 1088x1920 22 players, 3.0ms\n",
      "\n",
      "image 1/1 /datasets/tdt4265/other/rbk/1_train-val_1min_aalesund_from_start/img1/000513.jpg: 1088x1920 1 ball, 2.6ms\n",
      "Speed: 3.7ms preprocess, 3.0ms inference, 0.7ms postprocess per image at shape (1, 3, 1088, 1920)\n",
      "\n",
      "image 1/1 /datasets/tdt4265/other/rbk/1_train-val_1min_aalesund_from_start/img1/000514.jpg: 1088x1920 22 players, 2.4ms\n",
      "\n",
      "image 1/1 /datasets/tdt4265/other/rbk/1_train-val_1min_aalesund_from_start/img1/000514.jpg: 1088x1920 1 ball, 2.7ms\n",
      "Speed: 4.4ms preprocess, 2.4ms inference, 0.6ms postprocess per image at shape (1, 3, 1088, 1920)\n",
      "\n",
      "image 1/1 /datasets/tdt4265/other/rbk/1_train-val_1min_aalesund_from_start/img1/000515.jpg: 1088x1920 22 players, 2.6ms\n",
      "\n",
      "image 1/1 /datasets/tdt4265/other/rbk/1_train-val_1min_aalesund_from_start/img1/000515.jpg: 1088x1920 1 ball, 2.5ms\n",
      "Speed: 3.3ms preprocess, 2.6ms inference, 0.7ms postprocess per image at shape (1, 3, 1088, 1920)\n",
      "\n",
      "image 1/1 /datasets/tdt4265/other/rbk/1_train-val_1min_aalesund_from_start/img1/000516.jpg: 1088x1920 22 players, 2.4ms\n",
      "\n",
      "image 1/1 /datasets/tdt4265/other/rbk/1_train-val_1min_aalesund_from_start/img1/000516.jpg: 1088x1920 1 ball, 2.6ms\n",
      "Speed: 4.5ms preprocess, 2.4ms inference, 0.5ms postprocess per image at shape (1, 3, 1088, 1920)\n",
      "\n",
      "image 1/1 /datasets/tdt4265/other/rbk/1_train-val_1min_aalesund_from_start/img1/000517.jpg: 1088x1920 22 players, 2.4ms\n",
      "\n",
      "image 1/1 /datasets/tdt4265/other/rbk/1_train-val_1min_aalesund_from_start/img1/000517.jpg: 1088x1920 1 ball, 2.4ms\n",
      "Speed: 3.1ms preprocess, 2.4ms inference, 0.5ms postprocess per image at shape (1, 3, 1088, 1920)\n",
      "\n",
      "image 1/1 /datasets/tdt4265/other/rbk/1_train-val_1min_aalesund_from_start/img1/000518.jpg: 1088x1920 22 players, 2.7ms\n",
      "\n",
      "image 1/1 /datasets/tdt4265/other/rbk/1_train-val_1min_aalesund_from_start/img1/000518.jpg: 1088x1920 1 ball, 2.3ms\n",
      "Speed: 5.3ms preprocess, 2.7ms inference, 0.7ms postprocess per image at shape (1, 3, 1088, 1920)\n",
      "\n",
      "image 1/1 /datasets/tdt4265/other/rbk/1_train-val_1min_aalesund_from_start/img1/000519.jpg: 1088x1920 22 players, 2.8ms\n",
      "\n",
      "image 1/1 /datasets/tdt4265/other/rbk/1_train-val_1min_aalesund_from_start/img1/000519.jpg: 1088x1920 1 ball, 2.3ms\n",
      "Speed: 3.4ms preprocess, 2.8ms inference, 0.6ms postprocess per image at shape (1, 3, 1088, 1920)\n",
      "\n",
      "image 1/1 /datasets/tdt4265/other/rbk/1_train-val_1min_aalesund_from_start/img1/000520.jpg: 1088x1920 22 players, 2.5ms\n",
      "\n",
      "image 1/1 /datasets/tdt4265/other/rbk/1_train-val_1min_aalesund_from_start/img1/000520.jpg: 1088x1920 1 ball, 2.4ms\n",
      "Speed: 4.4ms preprocess, 2.5ms inference, 0.5ms postprocess per image at shape (1, 3, 1088, 1920)\n",
      "\n",
      "image 1/1 /datasets/tdt4265/other/rbk/1_train-val_1min_aalesund_from_start/img1/000521.jpg: 1088x1920 22 players, 2.4ms\n",
      "\n",
      "image 1/1 /datasets/tdt4265/other/rbk/1_train-val_1min_aalesund_from_start/img1/000521.jpg: 1088x1920 1 ball, 2.3ms\n",
      "Speed: 3.2ms preprocess, 2.4ms inference, 0.5ms postprocess per image at shape (1, 3, 1088, 1920)\n",
      "\n",
      "image 1/1 /datasets/tdt4265/other/rbk/1_train-val_1min_aalesund_from_start/img1/000522.jpg: 1088x1920 22 players, 2.4ms\n",
      "\n",
      "image 1/1 /datasets/tdt4265/other/rbk/1_train-val_1min_aalesund_from_start/img1/000522.jpg: 1088x1920 1 ball, 2.7ms\n",
      "Speed: 4.5ms preprocess, 2.4ms inference, 0.5ms postprocess per image at shape (1, 3, 1088, 1920)\n",
      "\n",
      "image 1/1 /datasets/tdt4265/other/rbk/1_train-val_1min_aalesund_from_start/img1/000523.jpg: 1088x1920 22 players, 3.1ms\n",
      "\n",
      "image 1/1 /datasets/tdt4265/other/rbk/1_train-val_1min_aalesund_from_start/img1/000523.jpg: 1088x1920 1 ball, 2.6ms\n",
      "Speed: 3.0ms preprocess, 3.1ms inference, 0.8ms postprocess per image at shape (1, 3, 1088, 1920)\n",
      "\n",
      "image 1/1 /datasets/tdt4265/other/rbk/1_train-val_1min_aalesund_from_start/img1/000524.jpg: 1088x1920 22 players, 2.5ms\n",
      "\n",
      "image 1/1 /datasets/tdt4265/other/rbk/1_train-val_1min_aalesund_from_start/img1/000524.jpg: 1088x1920 1 ball, 2.3ms\n",
      "Speed: 4.4ms preprocess, 2.5ms inference, 0.5ms postprocess per image at shape (1, 3, 1088, 1920)\n",
      "\n",
      "image 1/1 /datasets/tdt4265/other/rbk/1_train-val_1min_aalesund_from_start/img1/000525.jpg: 1088x1920 22 players, 2.4ms\n",
      "\n",
      "image 1/1 /datasets/tdt4265/other/rbk/1_train-val_1min_aalesund_from_start/img1/000525.jpg: 1088x1920 1 ball, 2.3ms\n",
      "Speed: 3.2ms preprocess, 2.4ms inference, 0.5ms postprocess per image at shape (1, 3, 1088, 1920)\n",
      "\n",
      "image 1/1 /datasets/tdt4265/other/rbk/1_train-val_1min_aalesund_from_start/img1/000526.jpg: 1088x1920 22 players, 2.4ms\n",
      "\n",
      "image 1/1 /datasets/tdt4265/other/rbk/1_train-val_1min_aalesund_from_start/img1/000526.jpg: 1088x1920 1 ball, 2.3ms\n",
      "Speed: 4.5ms preprocess, 2.4ms inference, 0.5ms postprocess per image at shape (1, 3, 1088, 1920)\n",
      "\n",
      "image 1/1 /datasets/tdt4265/other/rbk/1_train-val_1min_aalesund_from_start/img1/000527.jpg: 1088x1920 22 players, 2.4ms\n",
      "\n",
      "image 1/1 /datasets/tdt4265/other/rbk/1_train-val_1min_aalesund_from_start/img1/000527.jpg: 1088x1920 1 ball, 2.3ms\n",
      "Speed: 3.1ms preprocess, 2.4ms inference, 0.5ms postprocess per image at shape (1, 3, 1088, 1920)\n",
      "\n",
      "image 1/1 /datasets/tdt4265/other/rbk/1_train-val_1min_aalesund_from_start/img1/000528.jpg: 1088x1920 22 players, 3.0ms\n",
      "\n",
      "image 1/1 /datasets/tdt4265/other/rbk/1_train-val_1min_aalesund_from_start/img1/000528.jpg: 1088x1920 1 ball, 2.3ms\n",
      "Speed: 4.7ms preprocess, 3.0ms inference, 0.6ms postprocess per image at shape (1, 3, 1088, 1920)\n",
      "\n",
      "image 1/1 /datasets/tdt4265/other/rbk/1_train-val_1min_aalesund_from_start/img1/000529.jpg: 1088x1920 22 players, 2.4ms\n",
      "\n",
      "image 1/1 /datasets/tdt4265/other/rbk/1_train-val_1min_aalesund_from_start/img1/000529.jpg: 1088x1920 1 ball, 2.4ms\n",
      "Speed: 2.4ms preprocess, 2.4ms inference, 0.5ms postprocess per image at shape (1, 3, 1088, 1920)\n",
      "\n",
      "image 1/1 /datasets/tdt4265/other/rbk/1_train-val_1min_aalesund_from_start/img1/000530.jpg: 1088x1920 22 players, 2.4ms\n",
      "\n",
      "image 1/1 /datasets/tdt4265/other/rbk/1_train-val_1min_aalesund_from_start/img1/000530.jpg: 1088x1920 1 ball, 2.5ms\n",
      "Speed: 4.4ms preprocess, 2.4ms inference, 0.5ms postprocess per image at shape (1, 3, 1088, 1920)\n",
      "\n",
      "image 1/1 /datasets/tdt4265/other/rbk/1_train-val_1min_aalesund_from_start/img1/000531.jpg: 1088x1920 22 players, 2.7ms\n",
      "\n",
      "image 1/1 /datasets/tdt4265/other/rbk/1_train-val_1min_aalesund_from_start/img1/000531.jpg: 1088x1920 1 ball, 2.5ms\n",
      "Speed: 3.2ms preprocess, 2.7ms inference, 0.6ms postprocess per image at shape (1, 3, 1088, 1920)\n",
      "\n",
      "image 1/1 /datasets/tdt4265/other/rbk/1_train-val_1min_aalesund_from_start/img1/000532.jpg: 1088x1920 22 players, 2.5ms\n",
      "\n",
      "image 1/1 /datasets/tdt4265/other/rbk/1_train-val_1min_aalesund_from_start/img1/000532.jpg: 1088x1920 1 ball, 2.3ms\n",
      "Speed: 4.5ms preprocess, 2.5ms inference, 0.5ms postprocess per image at shape (1, 3, 1088, 1920)\n",
      "\n",
      "image 1/1 /datasets/tdt4265/other/rbk/1_train-val_1min_aalesund_from_start/img1/000533.jpg: 1088x1920 22 players, 2.9ms\n",
      "\n",
      "image 1/1 /datasets/tdt4265/other/rbk/1_train-val_1min_aalesund_from_start/img1/000533.jpg: 1088x1920 1 ball, 2.6ms\n",
      "Speed: 2.9ms preprocess, 2.9ms inference, 0.7ms postprocess per image at shape (1, 3, 1088, 1920)\n",
      "\n",
      "image 1/1 /datasets/tdt4265/other/rbk/1_train-val_1min_aalesund_from_start/img1/000534.jpg: 1088x1920 22 players, 2.4ms\n",
      "\n",
      "image 1/1 /datasets/tdt4265/other/rbk/1_train-val_1min_aalesund_from_start/img1/000534.jpg: 1088x1920 1 ball, 2.5ms\n",
      "Speed: 4.5ms preprocess, 2.4ms inference, 0.5ms postprocess per image at shape (1, 3, 1088, 1920)\n",
      "\n",
      "image 1/1 /datasets/tdt4265/other/rbk/1_train-val_1min_aalesund_from_start/img1/000535.jpg: 1088x1920 22 players, 2.4ms\n",
      "\n",
      "image 1/1 /datasets/tdt4265/other/rbk/1_train-val_1min_aalesund_from_start/img1/000535.jpg: 1088x1920 1 ball, 2.5ms\n",
      "Speed: 3.2ms preprocess, 2.4ms inference, 0.5ms postprocess per image at shape (1, 3, 1088, 1920)\n",
      "\n",
      "image 1/1 /datasets/tdt4265/other/rbk/1_train-val_1min_aalesund_from_start/img1/000536.jpg: 1088x1920 22 players, 2.5ms\n",
      "\n",
      "image 1/1 /datasets/tdt4265/other/rbk/1_train-val_1min_aalesund_from_start/img1/000536.jpg: 1088x1920 1 ball, 2.5ms\n",
      "Speed: 4.4ms preprocess, 2.5ms inference, 0.5ms postprocess per image at shape (1, 3, 1088, 1920)\n",
      "\n",
      "image 1/1 /datasets/tdt4265/other/rbk/1_train-val_1min_aalesund_from_start/img1/000537.jpg: 1088x1920 22 players, 2.4ms\n",
      "\n",
      "image 1/1 /datasets/tdt4265/other/rbk/1_train-val_1min_aalesund_from_start/img1/000537.jpg: 1088x1920 1 ball, 2.3ms\n",
      "Speed: 3.0ms preprocess, 2.4ms inference, 0.5ms postprocess per image at shape (1, 3, 1088, 1920)\n",
      "\n",
      "image 1/1 /datasets/tdt4265/other/rbk/1_train-val_1min_aalesund_from_start/img1/000538.jpg: 1088x1920 22 players, 2.9ms\n",
      "\n",
      "image 1/1 /datasets/tdt4265/other/rbk/1_train-val_1min_aalesund_from_start/img1/000538.jpg: 1088x1920 1 ball, 2.5ms\n",
      "Speed: 4.5ms preprocess, 2.9ms inference, 0.6ms postprocess per image at shape (1, 3, 1088, 1920)\n",
      "\n",
      "image 1/1 /datasets/tdt4265/other/rbk/1_train-val_1min_aalesund_from_start/img1/000539.jpg: 1088x1920 22 players, 2.4ms\n",
      "\n",
      "image 1/1 /datasets/tdt4265/other/rbk/1_train-val_1min_aalesund_from_start/img1/000539.jpg: 1088x1920 1 ball, 2.3ms\n",
      "Speed: 3.3ms preprocess, 2.4ms inference, 0.5ms postprocess per image at shape (1, 3, 1088, 1920)\n",
      "\n",
      "image 1/1 /datasets/tdt4265/other/rbk/1_train-val_1min_aalesund_from_start/img1/000540.jpg: 1088x1920 22 players, 2.7ms\n",
      "\n",
      "image 1/1 /datasets/tdt4265/other/rbk/1_train-val_1min_aalesund_from_start/img1/000540.jpg: 1088x1920 1 ball, 2.3ms\n",
      "Speed: 4.4ms preprocess, 2.7ms inference, 0.5ms postprocess per image at shape (1, 3, 1088, 1920)\n",
      "\n",
      "image 1/1 /datasets/tdt4265/other/rbk/1_train-val_1min_aalesund_from_start/img1/000541.jpg: 1088x1920 22 players, 2.4ms\n",
      "\n",
      "image 1/1 /datasets/tdt4265/other/rbk/1_train-val_1min_aalesund_from_start/img1/000541.jpg: 1088x1920 1 ball, 2.6ms\n",
      "Speed: 3.1ms preprocess, 2.4ms inference, 0.6ms postprocess per image at shape (1, 3, 1088, 1920)\n",
      "\n",
      "image 1/1 /datasets/tdt4265/other/rbk/1_train-val_1min_aalesund_from_start/img1/000542.jpg: 1088x1920 22 players, 2.4ms\n",
      "\n",
      "image 1/1 /datasets/tdt4265/other/rbk/1_train-val_1min_aalesund_from_start/img1/000542.jpg: 1088x1920 1 ball, 2.6ms\n",
      "Speed: 4.5ms preprocess, 2.4ms inference, 1.0ms postprocess per image at shape (1, 3, 1088, 1920)\n",
      "\n",
      "image 1/1 /datasets/tdt4265/other/rbk/1_train-val_1min_aalesund_from_start/img1/000543.jpg: 1088x1920 22 players, 2.4ms\n",
      "\n",
      "image 1/1 /datasets/tdt4265/other/rbk/1_train-val_1min_aalesund_from_start/img1/000543.jpg: 1088x1920 1 ball, 2.9ms\n",
      "Speed: 3.1ms preprocess, 2.4ms inference, 0.5ms postprocess per image at shape (1, 3, 1088, 1920)\n",
      "\n",
      "image 1/1 /datasets/tdt4265/other/rbk/1_train-val_1min_aalesund_from_start/img1/000544.jpg: 1088x1920 22 players, 2.5ms\n",
      "\n",
      "image 1/1 /datasets/tdt4265/other/rbk/1_train-val_1min_aalesund_from_start/img1/000544.jpg: 1088x1920 1 ball, 2.6ms\n",
      "Speed: 4.5ms preprocess, 2.5ms inference, 0.5ms postprocess per image at shape (1, 3, 1088, 1920)\n",
      "\n",
      "image 1/1 /datasets/tdt4265/other/rbk/1_train-val_1min_aalesund_from_start/img1/000545.jpg: 1088x1920 22 players, 2.4ms\n",
      "\n",
      "image 1/1 /datasets/tdt4265/other/rbk/1_train-val_1min_aalesund_from_start/img1/000545.jpg: 1088x1920 1 ball, 2.4ms\n",
      "Speed: 3.2ms preprocess, 2.4ms inference, 0.5ms postprocess per image at shape (1, 3, 1088, 1920)\n",
      "\n",
      "image 1/1 /datasets/tdt4265/other/rbk/1_train-val_1min_aalesund_from_start/img1/000546.jpg: 1088x1920 22 players, 2.4ms\n",
      "\n",
      "image 1/1 /datasets/tdt4265/other/rbk/1_train-val_1min_aalesund_from_start/img1/000546.jpg: 1088x1920 1 ball, 2.5ms\n",
      "Speed: 4.4ms preprocess, 2.4ms inference, 0.6ms postprocess per image at shape (1, 3, 1088, 1920)\n",
      "\n",
      "image 1/1 /datasets/tdt4265/other/rbk/1_train-val_1min_aalesund_from_start/img1/000547.jpg: 1088x1920 22 players, 2.4ms\n",
      "\n",
      "image 1/1 /datasets/tdt4265/other/rbk/1_train-val_1min_aalesund_from_start/img1/000547.jpg: 1088x1920 1 ball, 2.5ms\n",
      "Speed: 3.1ms preprocess, 2.4ms inference, 0.5ms postprocess per image at shape (1, 3, 1088, 1920)\n",
      "\n",
      "image 1/1 /datasets/tdt4265/other/rbk/1_train-val_1min_aalesund_from_start/img1/000548.jpg: 1088x1920 22 players, 2.4ms\n",
      "\n",
      "image 1/1 /datasets/tdt4265/other/rbk/1_train-val_1min_aalesund_from_start/img1/000548.jpg: 1088x1920 1 ball, 3.2ms\n",
      "Speed: 4.2ms preprocess, 2.4ms inference, 0.5ms postprocess per image at shape (1, 3, 1088, 1920)\n",
      "\n",
      "image 1/1 /datasets/tdt4265/other/rbk/1_train-val_1min_aalesund_from_start/img1/000549.jpg: 1088x1920 22 players, 2.6ms\n",
      "\n",
      "image 1/1 /datasets/tdt4265/other/rbk/1_train-val_1min_aalesund_from_start/img1/000549.jpg: 1088x1920 1 ball, 2.5ms\n",
      "Speed: 3.4ms preprocess, 2.6ms inference, 0.5ms postprocess per image at shape (1, 3, 1088, 1920)\n",
      "\n",
      "image 1/1 /datasets/tdt4265/other/rbk/1_train-val_1min_aalesund_from_start/img1/000550.jpg: 1088x1920 22 players, 2.5ms\n",
      "\n",
      "image 1/1 /datasets/tdt4265/other/rbk/1_train-val_1min_aalesund_from_start/img1/000550.jpg: 1088x1920 1 ball, 2.5ms\n",
      "Speed: 4.6ms preprocess, 2.5ms inference, 0.7ms postprocess per image at shape (1, 3, 1088, 1920)\n",
      "\n",
      "image 1/1 /datasets/tdt4265/other/rbk/1_train-val_1min_aalesund_from_start/img1/000551.jpg: 1088x1920 22 players, 2.7ms\n",
      "\n",
      "image 1/1 /datasets/tdt4265/other/rbk/1_train-val_1min_aalesund_from_start/img1/000551.jpg: 1088x1920 1 ball, 2.6ms\n",
      "Speed: 3.1ms preprocess, 2.7ms inference, 0.7ms postprocess per image at shape (1, 3, 1088, 1920)\n",
      "\n",
      "image 1/1 /datasets/tdt4265/other/rbk/1_train-val_1min_aalesund_from_start/img1/000552.jpg: 1088x1920 22 players, 2.6ms\n",
      "\n",
      "image 1/1 /datasets/tdt4265/other/rbk/1_train-val_1min_aalesund_from_start/img1/000552.jpg: 1088x1920 1 ball, 3.5ms\n",
      "Speed: 4.5ms preprocess, 2.6ms inference, 0.5ms postprocess per image at shape (1, 3, 1088, 1920)\n",
      "\n",
      "image 1/1 /datasets/tdt4265/other/rbk/1_train-val_1min_aalesund_from_start/img1/000553.jpg: 1088x1920 22 players, 2.5ms\n",
      "\n",
      "image 1/1 /datasets/tdt4265/other/rbk/1_train-val_1min_aalesund_from_start/img1/000553.jpg: 1088x1920 1 ball, 2.8ms\n",
      "Speed: 2.3ms preprocess, 2.5ms inference, 0.5ms postprocess per image at shape (1, 3, 1088, 1920)\n",
      "\n",
      "image 1/1 /datasets/tdt4265/other/rbk/1_train-val_1min_aalesund_from_start/img1/000554.jpg: 1088x1920 22 players, 2.4ms\n",
      "\n",
      "image 1/1 /datasets/tdt4265/other/rbk/1_train-val_1min_aalesund_from_start/img1/000554.jpg: 1088x1920 1 ball, 2.4ms\n",
      "Speed: 4.4ms preprocess, 2.4ms inference, 0.6ms postprocess per image at shape (1, 3, 1088, 1920)\n",
      "\n",
      "image 1/1 /datasets/tdt4265/other/rbk/1_train-val_1min_aalesund_from_start/img1/000555.jpg: 1088x1920 22 players, 2.7ms\n",
      "\n",
      "image 1/1 /datasets/tdt4265/other/rbk/1_train-val_1min_aalesund_from_start/img1/000555.jpg: 1088x1920 1 ball, 2.3ms\n",
      "Speed: 3.3ms preprocess, 2.7ms inference, 0.6ms postprocess per image at shape (1, 3, 1088, 1920)\n",
      "\n",
      "image 1/1 /datasets/tdt4265/other/rbk/1_train-val_1min_aalesund_from_start/img1/000556.jpg: 1088x1920 22 players, 2.4ms\n",
      "\n",
      "image 1/1 /datasets/tdt4265/other/rbk/1_train-val_1min_aalesund_from_start/img1/000556.jpg: 1088x1920 1 ball, 2.4ms\n",
      "Speed: 4.5ms preprocess, 2.4ms inference, 0.5ms postprocess per image at shape (1, 3, 1088, 1920)\n",
      "\n",
      "image 1/1 /datasets/tdt4265/other/rbk/1_train-val_1min_aalesund_from_start/img1/000557.jpg: 1088x1920 22 players, 2.4ms\n",
      "\n",
      "image 1/1 /datasets/tdt4265/other/rbk/1_train-val_1min_aalesund_from_start/img1/000557.jpg: 1088x1920 1 ball, 2.3ms\n",
      "Speed: 3.1ms preprocess, 2.4ms inference, 0.9ms postprocess per image at shape (1, 3, 1088, 1920)\n",
      "\n",
      "image 1/1 /datasets/tdt4265/other/rbk/1_train-val_1min_aalesund_from_start/img1/000558.jpg: 1088x1920 22 players, 2.5ms\n",
      "\n",
      "image 1/1 /datasets/tdt4265/other/rbk/1_train-val_1min_aalesund_from_start/img1/000558.jpg: 1088x1920 1 ball, 2.7ms\n",
      "Speed: 4.4ms preprocess, 2.5ms inference, 0.5ms postprocess per image at shape (1, 3, 1088, 1920)\n",
      "\n",
      "image 1/1 /datasets/tdt4265/other/rbk/1_train-val_1min_aalesund_from_start/img1/000559.jpg: 1088x1920 22 players, 2.4ms\n",
      "\n",
      "image 1/1 /datasets/tdt4265/other/rbk/1_train-val_1min_aalesund_from_start/img1/000559.jpg: 1088x1920 1 ball, 2.6ms\n",
      "Speed: 2.3ms preprocess, 2.4ms inference, 0.6ms postprocess per image at shape (1, 3, 1088, 1920)\n",
      "\n",
      "image 1/1 /datasets/tdt4265/other/rbk/1_train-val_1min_aalesund_from_start/img1/000560.jpg: 1088x1920 22 players, 2.4ms\n",
      "\n",
      "image 1/1 /datasets/tdt4265/other/rbk/1_train-val_1min_aalesund_from_start/img1/000560.jpg: 1088x1920 1 ball, 2.4ms\n",
      "Speed: 4.2ms preprocess, 2.4ms inference, 0.5ms postprocess per image at shape (1, 3, 1088, 1920)\n",
      "\n",
      "image 1/1 /datasets/tdt4265/other/rbk/1_train-val_1min_aalesund_from_start/img1/000561.jpg: 1088x1920 22 players, 3.2ms\n",
      "\n",
      "image 1/1 /datasets/tdt4265/other/rbk/1_train-val_1min_aalesund_from_start/img1/000561.jpg: 1088x1920 1 ball, 2.8ms\n",
      "Speed: 3.8ms preprocess, 3.2ms inference, 0.7ms postprocess per image at shape (1, 3, 1088, 1920)\n",
      "\n",
      "image 1/1 /datasets/tdt4265/other/rbk/1_train-val_1min_aalesund_from_start/img1/000562.jpg: 1088x1920 22 players, 2.4ms\n",
      "\n",
      "image 1/1 /datasets/tdt4265/other/rbk/1_train-val_1min_aalesund_from_start/img1/000562.jpg: 1088x1920 1 ball, 2.7ms\n",
      "Speed: 4.6ms preprocess, 2.4ms inference, 0.5ms postprocess per image at shape (1, 3, 1088, 1920)\n",
      "\n",
      "image 1/1 /datasets/tdt4265/other/rbk/1_train-val_1min_aalesund_from_start/img1/000563.jpg: 1088x1920 22 players, 2.4ms\n",
      "\n",
      "image 1/1 /datasets/tdt4265/other/rbk/1_train-val_1min_aalesund_from_start/img1/000563.jpg: 1088x1920 1 ball, 2.6ms\n",
      "Speed: 2.3ms preprocess, 2.4ms inference, 0.5ms postprocess per image at shape (1, 3, 1088, 1920)\n",
      "\n",
      "image 1/1 /datasets/tdt4265/other/rbk/1_train-val_1min_aalesund_from_start/img1/000564.jpg: 1088x1920 22 players, 2.5ms\n",
      "\n",
      "image 1/1 /datasets/tdt4265/other/rbk/1_train-val_1min_aalesund_from_start/img1/000564.jpg: 1088x1920 1 ball, 2.5ms\n",
      "Speed: 4.4ms preprocess, 2.5ms inference, 0.5ms postprocess per image at shape (1, 3, 1088, 1920)\n",
      "\n",
      "image 1/1 /datasets/tdt4265/other/rbk/1_train-val_1min_aalesund_from_start/img1/000565.jpg: 1088x1920 22 players, 2.4ms\n",
      "\n",
      "image 1/1 /datasets/tdt4265/other/rbk/1_train-val_1min_aalesund_from_start/img1/000565.jpg: 1088x1920 1 ball, 2.5ms\n",
      "Speed: 3.3ms preprocess, 2.4ms inference, 0.5ms postprocess per image at shape (1, 3, 1088, 1920)\n",
      "\n",
      "image 1/1 /datasets/tdt4265/other/rbk/1_train-val_1min_aalesund_from_start/img1/000566.jpg: 1088x1920 22 players, 2.7ms\n",
      "\n",
      "image 1/1 /datasets/tdt4265/other/rbk/1_train-val_1min_aalesund_from_start/img1/000566.jpg: 1088x1920 1 ball, 2.4ms\n",
      "Speed: 4.4ms preprocess, 2.7ms inference, 0.6ms postprocess per image at shape (1, 3, 1088, 1920)\n",
      "\n",
      "image 1/1 /datasets/tdt4265/other/rbk/1_train-val_1min_aalesund_from_start/img1/000567.jpg: 1088x1920 22 players, 2.4ms\n",
      "\n",
      "image 1/1 /datasets/tdt4265/other/rbk/1_train-val_1min_aalesund_from_start/img1/000567.jpg: 1088x1920 1 ball, 2.3ms\n",
      "Speed: 3.3ms preprocess, 2.4ms inference, 0.5ms postprocess per image at shape (1, 3, 1088, 1920)\n",
      "\n",
      "image 1/1 /datasets/tdt4265/other/rbk/1_train-val_1min_aalesund_from_start/img1/000568.jpg: 1088x1920 22 players, 2.8ms\n",
      "\n",
      "image 1/1 /datasets/tdt4265/other/rbk/1_train-val_1min_aalesund_from_start/img1/000568.jpg: 1088x1920 1 ball, 2.8ms\n",
      "Speed: 4.3ms preprocess, 2.8ms inference, 0.6ms postprocess per image at shape (1, 3, 1088, 1920)\n",
      "\n",
      "image 1/1 /datasets/tdt4265/other/rbk/1_train-val_1min_aalesund_from_start/img1/000569.jpg: 1088x1920 22 players, 2.6ms\n",
      "\n",
      "image 1/1 /datasets/tdt4265/other/rbk/1_train-val_1min_aalesund_from_start/img1/000569.jpg: 1088x1920 1 ball, 2.6ms\n",
      "Speed: 2.5ms preprocess, 2.6ms inference, 0.5ms postprocess per image at shape (1, 3, 1088, 1920)\n",
      "\n",
      "image 1/1 /datasets/tdt4265/other/rbk/1_train-val_1min_aalesund_from_start/img1/000570.jpg: 1088x1920 22 players, 2.4ms\n",
      "\n",
      "image 1/1 /datasets/tdt4265/other/rbk/1_train-val_1min_aalesund_from_start/img1/000570.jpg: 1088x1920 1 ball, 2.4ms\n",
      "Speed: 4.4ms preprocess, 2.4ms inference, 0.5ms postprocess per image at shape (1, 3, 1088, 1920)\n",
      "\n",
      "image 1/1 /datasets/tdt4265/other/rbk/1_train-val_1min_aalesund_from_start/img1/000571.jpg: 1088x1920 22 players, 2.4ms\n",
      "\n",
      "image 1/1 /datasets/tdt4265/other/rbk/1_train-val_1min_aalesund_from_start/img1/000571.jpg: 1088x1920 1 ball, 2.4ms\n",
      "Speed: 3.3ms preprocess, 2.4ms inference, 0.5ms postprocess per image at shape (1, 3, 1088, 1920)\n",
      "\n",
      "image 1/1 /datasets/tdt4265/other/rbk/1_train-val_1min_aalesund_from_start/img1/000572.jpg: 1088x1920 22 players, 2.6ms\n",
      "\n",
      "image 1/1 /datasets/tdt4265/other/rbk/1_train-val_1min_aalesund_from_start/img1/000572.jpg: 1088x1920 1 ball, 2.5ms\n",
      "Speed: 4.6ms preprocess, 2.6ms inference, 0.5ms postprocess per image at shape (1, 3, 1088, 1920)\n",
      "\n",
      "image 1/1 /datasets/tdt4265/other/rbk/1_train-val_1min_aalesund_from_start/img1/000573.jpg: 1088x1920 22 players, 2.5ms\n",
      "\n",
      "image 1/1 /datasets/tdt4265/other/rbk/1_train-val_1min_aalesund_from_start/img1/000573.jpg: 1088x1920 1 ball, 2.4ms\n",
      "Speed: 3.1ms preprocess, 2.5ms inference, 0.6ms postprocess per image at shape (1, 3, 1088, 1920)\n",
      "\n",
      "image 1/1 /datasets/tdt4265/other/rbk/1_train-val_1min_aalesund_from_start/img1/000574.jpg: 1088x1920 22 players, 2.6ms\n",
      "\n",
      "image 1/1 /datasets/tdt4265/other/rbk/1_train-val_1min_aalesund_from_start/img1/000574.jpg: 1088x1920 1 ball, 2.6ms\n",
      "Speed: 4.4ms preprocess, 2.6ms inference, 0.5ms postprocess per image at shape (1, 3, 1088, 1920)\n",
      "\n",
      "image 1/1 /datasets/tdt4265/other/rbk/1_train-val_1min_aalesund_from_start/img1/000575.jpg: 1088x1920 22 players, 2.6ms\n",
      "\n",
      "image 1/1 /datasets/tdt4265/other/rbk/1_train-val_1min_aalesund_from_start/img1/000575.jpg: 1088x1920 1 ball, 2.6ms\n",
      "Speed: 2.4ms preprocess, 2.6ms inference, 0.5ms postprocess per image at shape (1, 3, 1088, 1920)\n",
      "\n",
      "image 1/1 /datasets/tdt4265/other/rbk/1_train-val_1min_aalesund_from_start/img1/000576.jpg: 1088x1920 22 players, 2.4ms\n",
      "\n",
      "image 1/1 /datasets/tdt4265/other/rbk/1_train-val_1min_aalesund_from_start/img1/000576.jpg: 1088x1920 1 ball, 2.8ms\n",
      "Speed: 4.4ms preprocess, 2.4ms inference, 0.5ms postprocess per image at shape (1, 3, 1088, 1920)\n",
      "\n",
      "image 1/1 /datasets/tdt4265/other/rbk/1_train-val_1min_aalesund_from_start/img1/000577.jpg: 1088x1920 22 players, 2.5ms\n",
      "\n",
      "image 1/1 /datasets/tdt4265/other/rbk/1_train-val_1min_aalesund_from_start/img1/000577.jpg: 1088x1920 1 ball, 2.4ms\n",
      "Speed: 3.3ms preprocess, 2.5ms inference, 0.5ms postprocess per image at shape (1, 3, 1088, 1920)\n",
      "\n",
      "image 1/1 /datasets/tdt4265/other/rbk/1_train-val_1min_aalesund_from_start/img1/000578.jpg: 1088x1920 22 players, 2.4ms\n",
      "\n",
      "image 1/1 /datasets/tdt4265/other/rbk/1_train-val_1min_aalesund_from_start/img1/000578.jpg: 1088x1920 1 ball, 2.5ms\n",
      "Speed: 4.4ms preprocess, 2.4ms inference, 0.5ms postprocess per image at shape (1, 3, 1088, 1920)\n",
      "\n",
      "image 1/1 /datasets/tdt4265/other/rbk/1_train-val_1min_aalesund_from_start/img1/000579.jpg: 1088x1920 22 players, 2.9ms\n",
      "\n",
      "image 1/1 /datasets/tdt4265/other/rbk/1_train-val_1min_aalesund_from_start/img1/000579.jpg: 1088x1920 1 ball, 2.3ms\n",
      "Speed: 2.4ms preprocess, 2.9ms inference, 0.7ms postprocess per image at shape (1, 3, 1088, 1920)\n",
      "\n",
      "image 1/1 /datasets/tdt4265/other/rbk/1_train-val_1min_aalesund_from_start/img1/000580.jpg: 1088x1920 22 players, 2.4ms\n",
      "\n",
      "image 1/1 /datasets/tdt4265/other/rbk/1_train-val_1min_aalesund_from_start/img1/000580.jpg: 1088x1920 1 ball, 2.6ms\n",
      "Speed: 4.3ms preprocess, 2.4ms inference, 0.7ms postprocess per image at shape (1, 3, 1088, 1920)\n",
      "\n",
      "image 1/1 /datasets/tdt4265/other/rbk/1_train-val_1min_aalesund_from_start/img1/000581.jpg: 1088x1920 22 players, 2.5ms\n",
      "\n",
      "image 1/1 /datasets/tdt4265/other/rbk/1_train-val_1min_aalesund_from_start/img1/000581.jpg: 1088x1920 1 ball, 3.2ms\n",
      "Speed: 3.3ms preprocess, 2.5ms inference, 0.5ms postprocess per image at shape (1, 3, 1088, 1920)\n",
      "\n",
      "image 1/1 /datasets/tdt4265/other/rbk/1_train-val_1min_aalesund_from_start/img1/000582.jpg: 1088x1920 22 players, 2.6ms\n",
      "\n",
      "image 1/1 /datasets/tdt4265/other/rbk/1_train-val_1min_aalesund_from_start/img1/000582.jpg: 1088x1920 1 ball, 2.4ms\n",
      "Speed: 4.5ms preprocess, 2.6ms inference, 0.6ms postprocess per image at shape (1, 3, 1088, 1920)\n",
      "\n",
      "image 1/1 /datasets/tdt4265/other/rbk/1_train-val_1min_aalesund_from_start/img1/000583.jpg: 1088x1920 22 players, 2.6ms\n",
      "\n",
      "image 1/1 /datasets/tdt4265/other/rbk/1_train-val_1min_aalesund_from_start/img1/000583.jpg: 1088x1920 1 ball, 2.5ms\n",
      "Speed: 2.3ms preprocess, 2.6ms inference, 0.5ms postprocess per image at shape (1, 3, 1088, 1920)\n",
      "\n",
      "image 1/1 /datasets/tdt4265/other/rbk/1_train-val_1min_aalesund_from_start/img1/000584.jpg: 1088x1920 22 players, 2.4ms\n",
      "\n",
      "image 1/1 /datasets/tdt4265/other/rbk/1_train-val_1min_aalesund_from_start/img1/000584.jpg: 1088x1920 1 ball, 2.4ms\n",
      "Speed: 4.5ms preprocess, 2.4ms inference, 0.5ms postprocess per image at shape (1, 3, 1088, 1920)\n",
      "\n",
      "image 1/1 /datasets/tdt4265/other/rbk/1_train-val_1min_aalesund_from_start/img1/000585.jpg: 1088x1920 22 players, 2.4ms\n",
      "\n",
      "image 1/1 /datasets/tdt4265/other/rbk/1_train-val_1min_aalesund_from_start/img1/000585.jpg: 1088x1920 1 ball, 3.7ms\n",
      "Speed: 3.4ms preprocess, 2.4ms inference, 0.8ms postprocess per image at shape (1, 3, 1088, 1920)\n",
      "\n",
      "image 1/1 /datasets/tdt4265/other/rbk/1_train-val_1min_aalesund_from_start/img1/000586.jpg: 1088x1920 22 players, 2.4ms\n",
      "\n",
      "image 1/1 /datasets/tdt4265/other/rbk/1_train-val_1min_aalesund_from_start/img1/000586.jpg: 1088x1920 1 ball, 2.3ms\n",
      "Speed: 4.2ms preprocess, 2.4ms inference, 0.5ms postprocess per image at shape (1, 3, 1088, 1920)\n",
      "\n",
      "image 1/1 /datasets/tdt4265/other/rbk/1_train-val_1min_aalesund_from_start/img1/000587.jpg: 1088x1920 22 players, 2.6ms\n",
      "\n",
      "image 1/1 /datasets/tdt4265/other/rbk/1_train-val_1min_aalesund_from_start/img1/000587.jpg: 1088x1920 1 ball, 2.4ms\n",
      "Speed: 3.3ms preprocess, 2.6ms inference, 0.5ms postprocess per image at shape (1, 3, 1088, 1920)\n",
      "\n",
      "image 1/1 /datasets/tdt4265/other/rbk/1_train-val_1min_aalesund_from_start/img1/000588.jpg: 1088x1920 22 players, 2.5ms\n",
      "\n",
      "image 1/1 /datasets/tdt4265/other/rbk/1_train-val_1min_aalesund_from_start/img1/000588.jpg: 1088x1920 1 ball, 2.7ms\n",
      "Speed: 4.4ms preprocess, 2.5ms inference, 0.5ms postprocess per image at shape (1, 3, 1088, 1920)\n",
      "\n",
      "image 1/1 /datasets/tdt4265/other/rbk/1_train-val_1min_aalesund_from_start/img1/000589.jpg: 1088x1920 22 players, 2.4ms\n",
      "\n",
      "image 1/1 /datasets/tdt4265/other/rbk/1_train-val_1min_aalesund_from_start/img1/000589.jpg: 1088x1920 1 ball, 2.6ms\n",
      "Speed: 2.4ms preprocess, 2.4ms inference, 0.5ms postprocess per image at shape (1, 3, 1088, 1920)\n",
      "\n",
      "image 1/1 /datasets/tdt4265/other/rbk/1_train-val_1min_aalesund_from_start/img1/000590.jpg: 1088x1920 22 players, 2.6ms\n",
      "\n",
      "image 1/1 /datasets/tdt4265/other/rbk/1_train-val_1min_aalesund_from_start/img1/000590.jpg: 1088x1920 1 ball, 2.4ms\n",
      "Speed: 4.5ms preprocess, 2.6ms inference, 0.7ms postprocess per image at shape (1, 3, 1088, 1920)\n",
      "\n",
      "image 1/1 /datasets/tdt4265/other/rbk/1_train-val_1min_aalesund_from_start/img1/000591.jpg: 1088x1920 22 players, 2.5ms\n",
      "\n",
      "image 1/1 /datasets/tdt4265/other/rbk/1_train-val_1min_aalesund_from_start/img1/000591.jpg: 1088x1920 1 ball, 2.4ms\n",
      "Speed: 3.3ms preprocess, 2.5ms inference, 0.5ms postprocess per image at shape (1, 3, 1088, 1920)\n",
      "\n",
      "image 1/1 /datasets/tdt4265/other/rbk/1_train-val_1min_aalesund_from_start/img1/000592.jpg: 1088x1920 22 players, 2.5ms\n",
      "\n",
      "image 1/1 /datasets/tdt4265/other/rbk/1_train-val_1min_aalesund_from_start/img1/000592.jpg: 1088x1920 1 ball, 2.4ms\n",
      "Speed: 4.6ms preprocess, 2.5ms inference, 0.5ms postprocess per image at shape (1, 3, 1088, 1920)\n",
      "\n",
      "image 1/1 /datasets/tdt4265/other/rbk/1_train-val_1min_aalesund_from_start/img1/000593.jpg: 1088x1920 22 players, 2.5ms\n",
      "\n",
      "image 1/1 /datasets/tdt4265/other/rbk/1_train-val_1min_aalesund_from_start/img1/000593.jpg: 1088x1920 1 ball, 2.6ms\n",
      "Speed: 2.3ms preprocess, 2.5ms inference, 0.5ms postprocess per image at shape (1, 3, 1088, 1920)\n",
      "\n",
      "image 1/1 /datasets/tdt4265/other/rbk/1_train-val_1min_aalesund_from_start/img1/000594.jpg: 1088x1920 22 players, 2.4ms\n",
      "\n",
      "image 1/1 /datasets/tdt4265/other/rbk/1_train-val_1min_aalesund_from_start/img1/000594.jpg: 1088x1920 1 ball, 2.5ms\n",
      "Speed: 4.4ms preprocess, 2.4ms inference, 0.5ms postprocess per image at shape (1, 3, 1088, 1920)\n",
      "\n",
      "image 1/1 /datasets/tdt4265/other/rbk/1_train-val_1min_aalesund_from_start/img1/000595.jpg: 1088x1920 22 players, 2.4ms\n",
      "\n",
      "image 1/1 /datasets/tdt4265/other/rbk/1_train-val_1min_aalesund_from_start/img1/000595.jpg: 1088x1920 1 ball, 2.4ms\n",
      "Speed: 2.4ms preprocess, 2.4ms inference, 0.6ms postprocess per image at shape (1, 3, 1088, 1920)\n",
      "\n",
      "image 1/1 /datasets/tdt4265/other/rbk/1_train-val_1min_aalesund_from_start/img1/000596.jpg: 1088x1920 22 players, 2.7ms\n",
      "\n",
      "image 1/1 /datasets/tdt4265/other/rbk/1_train-val_1min_aalesund_from_start/img1/000596.jpg: 1088x1920 1 ball, 2.4ms\n",
      "Speed: 4.5ms preprocess, 2.7ms inference, 0.5ms postprocess per image at shape (1, 3, 1088, 1920)\n",
      "\n",
      "image 1/1 /datasets/tdt4265/other/rbk/1_train-val_1min_aalesund_from_start/img1/000597.jpg: 1088x1920 22 players, 2.4ms\n",
      "\n",
      "image 1/1 /datasets/tdt4265/other/rbk/1_train-val_1min_aalesund_from_start/img1/000597.jpg: 1088x1920 1 ball, 2.4ms\n",
      "Speed: 3.3ms preprocess, 2.4ms inference, 0.5ms postprocess per image at shape (1, 3, 1088, 1920)\n",
      "\n",
      "image 1/1 /datasets/tdt4265/other/rbk/1_train-val_1min_aalesund_from_start/img1/000598.jpg: 1088x1920 22 players, 2.9ms\n",
      "\n",
      "image 1/1 /datasets/tdt4265/other/rbk/1_train-val_1min_aalesund_from_start/img1/000598.jpg: 1088x1920 1 ball, 2.7ms\n",
      "Speed: 4.3ms preprocess, 2.9ms inference, 0.5ms postprocess per image at shape (1, 3, 1088, 1920)\n",
      "\n",
      "image 1/1 /datasets/tdt4265/other/rbk/1_train-val_1min_aalesund_from_start/img1/000599.jpg: 1088x1920 22 players, 2.5ms\n",
      "\n",
      "image 1/1 /datasets/tdt4265/other/rbk/1_train-val_1min_aalesund_from_start/img1/000599.jpg: 1088x1920 1 ball, 2.4ms\n",
      "Speed: 2.4ms preprocess, 2.5ms inference, 0.5ms postprocess per image at shape (1, 3, 1088, 1920)\n",
      "\n",
      "image 1/1 /datasets/tdt4265/other/rbk/1_train-val_1min_aalesund_from_start/img1/000600.jpg: 1088x1920 22 players, 2.5ms\n",
      "\n",
      "image 1/1 /datasets/tdt4265/other/rbk/1_train-val_1min_aalesund_from_start/img1/000600.jpg: 1088x1920 1 ball, 2.6ms\n",
      "Speed: 4.4ms preprocess, 2.5ms inference, 0.5ms postprocess per image at shape (1, 3, 1088, 1920)\n",
      "\n",
      "image 1/1 /datasets/tdt4265/other/rbk/1_train-val_1min_aalesund_from_start/img1/000601.jpg: 1088x1920 22 players, 2.4ms\n",
      "\n",
      "image 1/1 /datasets/tdt4265/other/rbk/1_train-val_1min_aalesund_from_start/img1/000601.jpg: 1088x1920 1 ball, 2.5ms\n",
      "Speed: 3.2ms preprocess, 2.4ms inference, 0.5ms postprocess per image at shape (1, 3, 1088, 1920)\n",
      "\n",
      "image 1/1 /datasets/tdt4265/other/rbk/1_train-val_1min_aalesund_from_start/img1/000602.jpg: 1088x1920 22 players, 2.4ms\n",
      "\n",
      "image 1/1 /datasets/tdt4265/other/rbk/1_train-val_1min_aalesund_from_start/img1/000602.jpg: 1088x1920 1 ball, 2.7ms\n",
      "Speed: 4.6ms preprocess, 2.4ms inference, 0.6ms postprocess per image at shape (1, 3, 1088, 1920)\n",
      "\n",
      "image 1/1 /datasets/tdt4265/other/rbk/1_train-val_1min_aalesund_from_start/img1/000603.jpg: 1088x1920 22 players, 2.5ms\n",
      "\n",
      "image 1/1 /datasets/tdt4265/other/rbk/1_train-val_1min_aalesund_from_start/img1/000603.jpg: 1088x1920 1 ball, 2.4ms\n",
      "Speed: 2.4ms preprocess, 2.5ms inference, 0.6ms postprocess per image at shape (1, 3, 1088, 1920)\n",
      "\n",
      "image 1/1 /datasets/tdt4265/other/rbk/1_train-val_1min_aalesund_from_start/img1/000604.jpg: 1088x1920 22 players, 2.6ms\n",
      "\n",
      "image 1/1 /datasets/tdt4265/other/rbk/1_train-val_1min_aalesund_from_start/img1/000604.jpg: 1088x1920 1 ball, 2.4ms\n",
      "Speed: 4.4ms preprocess, 2.6ms inference, 0.7ms postprocess per image at shape (1, 3, 1088, 1920)\n",
      "\n",
      "image 1/1 /datasets/tdt4265/other/rbk/1_train-val_1min_aalesund_from_start/img1/000605.jpg: 1088x1920 22 players, 2.6ms\n",
      "\n",
      "image 1/1 /datasets/tdt4265/other/rbk/1_train-val_1min_aalesund_from_start/img1/000605.jpg: 1088x1920 1 ball, 2.4ms\n",
      "Speed: 2.3ms preprocess, 2.6ms inference, 0.5ms postprocess per image at shape (1, 3, 1088, 1920)\n",
      "\n",
      "image 1/1 /datasets/tdt4265/other/rbk/1_train-val_1min_aalesund_from_start/img1/000606.jpg: 1088x1920 22 players, 2.4ms\n",
      "\n",
      "image 1/1 /datasets/tdt4265/other/rbk/1_train-val_1min_aalesund_from_start/img1/000606.jpg: 1088x1920 1 ball, 2.7ms\n",
      "Speed: 4.5ms preprocess, 2.4ms inference, 0.9ms postprocess per image at shape (1, 3, 1088, 1920)\n",
      "\n",
      "image 1/1 /datasets/tdt4265/other/rbk/1_train-val_1min_aalesund_from_start/img1/000607.jpg: 1088x1920 22 players, 2.4ms\n",
      "\n",
      "image 1/1 /datasets/tdt4265/other/rbk/1_train-val_1min_aalesund_from_start/img1/000607.jpg: 1088x1920 1 ball, 2.7ms\n",
      "Speed: 3.3ms preprocess, 2.4ms inference, 0.5ms postprocess per image at shape (1, 3, 1088, 1920)\n",
      "\n",
      "image 1/1 /datasets/tdt4265/other/rbk/1_train-val_1min_aalesund_from_start/img1/000608.jpg: 1088x1920 22 players, 2.4ms\n",
      "\n",
      "image 1/1 /datasets/tdt4265/other/rbk/1_train-val_1min_aalesund_from_start/img1/000608.jpg: 1088x1920 1 ball, 2.5ms\n",
      "Speed: 3.2ms preprocess, 2.4ms inference, 0.5ms postprocess per image at shape (1, 3, 1088, 1920)\n",
      "\n",
      "image 1/1 /datasets/tdt4265/other/rbk/1_train-val_1min_aalesund_from_start/img1/000609.jpg: 1088x1920 22 players, 2.3ms\n",
      "\n",
      "image 1/1 /datasets/tdt4265/other/rbk/1_train-val_1min_aalesund_from_start/img1/000609.jpg: 1088x1920 1 ball, 2.5ms\n",
      "Speed: 2.2ms preprocess, 2.3ms inference, 0.6ms postprocess per image at shape (1, 3, 1088, 1920)\n",
      "\n",
      "image 1/1 /datasets/tdt4265/other/rbk/1_train-val_1min_aalesund_from_start/img1/000610.jpg: 1088x1920 22 players, 2.3ms\n",
      "\n",
      "image 1/1 /datasets/tdt4265/other/rbk/1_train-val_1min_aalesund_from_start/img1/000610.jpg: 1088x1920 1 ball, 2.4ms\n",
      "Speed: 3.2ms preprocess, 2.3ms inference, 0.5ms postprocess per image at shape (1, 3, 1088, 1920)\n",
      "\n",
      "image 1/1 /datasets/tdt4265/other/rbk/1_train-val_1min_aalesund_from_start/img1/000611.jpg: 1088x1920 22 players, 2.5ms\n",
      "\n",
      "image 1/1 /datasets/tdt4265/other/rbk/1_train-val_1min_aalesund_from_start/img1/000611.jpg: 1088x1920 1 ball, 2.6ms\n",
      "Speed: 3.4ms preprocess, 2.5ms inference, 0.5ms postprocess per image at shape (1, 3, 1088, 1920)\n",
      "\n",
      "image 1/1 /datasets/tdt4265/other/rbk/1_train-val_1min_aalesund_from_start/img1/000612.jpg: 1088x1920 22 players, 2.3ms\n",
      "\n",
      "image 1/1 /datasets/tdt4265/other/rbk/1_train-val_1min_aalesund_from_start/img1/000612.jpg: 1088x1920 1 ball, 2.6ms\n",
      "Speed: 3.3ms preprocess, 2.3ms inference, 0.6ms postprocess per image at shape (1, 3, 1088, 1920)\n",
      "\n",
      "image 1/1 /datasets/tdt4265/other/rbk/1_train-val_1min_aalesund_from_start/img1/000613.jpg: 1088x1920 22 players, 2.5ms\n",
      "\n",
      "image 1/1 /datasets/tdt4265/other/rbk/1_train-val_1min_aalesund_from_start/img1/000613.jpg: 1088x1920 1 ball, 2.6ms\n",
      "Speed: 3.2ms preprocess, 2.5ms inference, 0.5ms postprocess per image at shape (1, 3, 1088, 1920)\n",
      "\n",
      "image 1/1 /datasets/tdt4265/other/rbk/1_train-val_1min_aalesund_from_start/img1/000614.jpg: 1088x1920 22 players, 2.3ms\n",
      "\n",
      "image 1/1 /datasets/tdt4265/other/rbk/1_train-val_1min_aalesund_from_start/img1/000614.jpg: 1088x1920 1 ball, 2.4ms\n",
      "Speed: 2.3ms preprocess, 2.3ms inference, 0.5ms postprocess per image at shape (1, 3, 1088, 1920)\n",
      "\n",
      "image 1/1 /datasets/tdt4265/other/rbk/1_train-val_1min_aalesund_from_start/img1/000615.jpg: 1088x1920 22 players, 2.6ms\n",
      "\n",
      "image 1/1 /datasets/tdt4265/other/rbk/1_train-val_1min_aalesund_from_start/img1/000615.jpg: 1088x1920 1 ball, 2.6ms\n",
      "Speed: 3.0ms preprocess, 2.6ms inference, 0.7ms postprocess per image at shape (1, 3, 1088, 1920)\n",
      "\n",
      "image 1/1 /datasets/tdt4265/other/rbk/1_train-val_1min_aalesund_from_start/img1/000616.jpg: 1088x1920 22 players, 2.6ms\n",
      "\n",
      "image 1/1 /datasets/tdt4265/other/rbk/1_train-val_1min_aalesund_from_start/img1/000616.jpg: 1088x1920 1 ball, 2.3ms\n",
      "Speed: 3.3ms preprocess, 2.6ms inference, 0.7ms postprocess per image at shape (1, 3, 1088, 1920)\n",
      "\n",
      "image 1/1 /datasets/tdt4265/other/rbk/1_train-val_1min_aalesund_from_start/img1/000617.jpg: 1088x1920 22 players, 2.3ms\n",
      "\n",
      "image 1/1 /datasets/tdt4265/other/rbk/1_train-val_1min_aalesund_from_start/img1/000617.jpg: 1088x1920 1 ball, 2.6ms\n",
      "Speed: 3.5ms preprocess, 2.3ms inference, 0.5ms postprocess per image at shape (1, 3, 1088, 1920)\n",
      "\n",
      "image 1/1 /datasets/tdt4265/other/rbk/1_train-val_1min_aalesund_from_start/img1/000618.jpg: 1088x1920 22 players, 2.7ms\n",
      "\n",
      "image 1/1 /datasets/tdt4265/other/rbk/1_train-val_1min_aalesund_from_start/img1/000618.jpg: 1088x1920 1 ball, 2.3ms\n",
      "Speed: 2.2ms preprocess, 2.7ms inference, 0.6ms postprocess per image at shape (1, 3, 1088, 1920)\n",
      "\n",
      "image 1/1 /datasets/tdt4265/other/rbk/1_train-val_1min_aalesund_from_start/img1/000619.jpg: 1088x1920 22 players, 2.4ms\n",
      "\n",
      "image 1/1 /datasets/tdt4265/other/rbk/1_train-val_1min_aalesund_from_start/img1/000619.jpg: 1088x1920 1 ball, 2.3ms\n",
      "Speed: 3.2ms preprocess, 2.4ms inference, 0.5ms postprocess per image at shape (1, 3, 1088, 1920)\n",
      "\n",
      "image 1/1 /datasets/tdt4265/other/rbk/1_train-val_1min_aalesund_from_start/img1/000620.jpg: 1088x1920 22 players, 2.3ms\n",
      "\n",
      "image 1/1 /datasets/tdt4265/other/rbk/1_train-val_1min_aalesund_from_start/img1/000620.jpg: 1088x1920 1 ball, 2.7ms\n",
      "Speed: 2.3ms preprocess, 2.3ms inference, 0.5ms postprocess per image at shape (1, 3, 1088, 1920)\n",
      "\n",
      "image 1/1 /datasets/tdt4265/other/rbk/1_train-val_1min_aalesund_from_start/img1/000621.jpg: 1088x1920 22 players, 2.3ms\n",
      "\n",
      "image 1/1 /datasets/tdt4265/other/rbk/1_train-val_1min_aalesund_from_start/img1/000621.jpg: 1088x1920 1 ball, 2.6ms\n",
      "Speed: 3.2ms preprocess, 2.3ms inference, 0.5ms postprocess per image at shape (1, 3, 1088, 1920)\n",
      "\n",
      "image 1/1 /datasets/tdt4265/other/rbk/1_train-val_1min_aalesund_from_start/img1/000622.jpg: 1088x1920 22 players, 2.5ms\n",
      "\n",
      "image 1/1 /datasets/tdt4265/other/rbk/1_train-val_1min_aalesund_from_start/img1/000622.jpg: 1088x1920 1 ball, 2.8ms\n",
      "Speed: 3.4ms preprocess, 2.5ms inference, 0.5ms postprocess per image at shape (1, 3, 1088, 1920)\n",
      "\n",
      "image 1/1 /datasets/tdt4265/other/rbk/1_train-val_1min_aalesund_from_start/img1/000623.jpg: 1088x1920 22 players, 2.7ms\n",
      "\n",
      "image 1/1 /datasets/tdt4265/other/rbk/1_train-val_1min_aalesund_from_start/img1/000623.jpg: 1088x1920 1 ball, 2.6ms\n",
      "Speed: 3.2ms preprocess, 2.7ms inference, 0.5ms postprocess per image at shape (1, 3, 1088, 1920)\n",
      "\n",
      "image 1/1 /datasets/tdt4265/other/rbk/1_train-val_1min_aalesund_from_start/img1/000624.jpg: 1088x1920 22 players, 2.5ms\n",
      "\n",
      "image 1/1 /datasets/tdt4265/other/rbk/1_train-val_1min_aalesund_from_start/img1/000624.jpg: 1088x1920 1 ball, 2.4ms\n",
      "Speed: 2.2ms preprocess, 2.5ms inference, 0.5ms postprocess per image at shape (1, 3, 1088, 1920)\n",
      "\n",
      "image 1/1 /datasets/tdt4265/other/rbk/1_train-val_1min_aalesund_from_start/img1/000625.jpg: 1088x1920 22 players, 2.6ms\n",
      "\n",
      "image 1/1 /datasets/tdt4265/other/rbk/1_train-val_1min_aalesund_from_start/img1/000625.jpg: 1088x1920 1 ball, 2.3ms\n",
      "Speed: 3.3ms preprocess, 2.6ms inference, 0.5ms postprocess per image at shape (1, 3, 1088, 1920)\n",
      "\n",
      "image 1/1 /datasets/tdt4265/other/rbk/1_train-val_1min_aalesund_from_start/img1/000626.jpg: 1088x1920 22 players, 2.6ms\n",
      "\n",
      "image 1/1 /datasets/tdt4265/other/rbk/1_train-val_1min_aalesund_from_start/img1/000626.jpg: 1088x1920 1 ball, 2.3ms\n",
      "Speed: 3.4ms preprocess, 2.6ms inference, 0.9ms postprocess per image at shape (1, 3, 1088, 1920)\n",
      "\n",
      "image 1/1 /datasets/tdt4265/other/rbk/1_train-val_1min_aalesund_from_start/img1/000627.jpg: 1088x1920 22 players, 2.6ms\n",
      "\n",
      "image 1/1 /datasets/tdt4265/other/rbk/1_train-val_1min_aalesund_from_start/img1/000627.jpg: 1088x1920 1 ball, 2.3ms\n",
      "Speed: 3.4ms preprocess, 2.6ms inference, 0.9ms postprocess per image at shape (1, 3, 1088, 1920)\n",
      "\n",
      "image 1/1 /datasets/tdt4265/other/rbk/1_train-val_1min_aalesund_from_start/img1/000628.jpg: 1088x1920 22 players, 2.6ms\n",
      "\n",
      "image 1/1 /datasets/tdt4265/other/rbk/1_train-val_1min_aalesund_from_start/img1/000628.jpg: 1088x1920 1 ball, 2.3ms\n",
      "Speed: 2.3ms preprocess, 2.6ms inference, 0.5ms postprocess per image at shape (1, 3, 1088, 1920)\n",
      "\n",
      "image 1/1 /datasets/tdt4265/other/rbk/1_train-val_1min_aalesund_from_start/img1/000629.jpg: 1088x1920 22 players, 2.3ms\n",
      "\n",
      "image 1/1 /datasets/tdt4265/other/rbk/1_train-val_1min_aalesund_from_start/img1/000629.jpg: 1088x1920 1 ball, 2.3ms\n",
      "Speed: 3.3ms preprocess, 2.3ms inference, 0.5ms postprocess per image at shape (1, 3, 1088, 1920)\n",
      "\n",
      "image 1/1 /datasets/tdt4265/other/rbk/1_train-val_1min_aalesund_from_start/img1/000630.jpg: 1088x1920 22 players, 2.3ms\n",
      "\n",
      "image 1/1 /datasets/tdt4265/other/rbk/1_train-val_1min_aalesund_from_start/img1/000630.jpg: 1088x1920 1 ball, 2.3ms\n",
      "Speed: 2.3ms preprocess, 2.3ms inference, 0.5ms postprocess per image at shape (1, 3, 1088, 1920)\n",
      "\n",
      "image 1/1 /datasets/tdt4265/other/rbk/1_train-val_1min_aalesund_from_start/img1/000631.jpg: 1088x1920 22 players, 2.3ms\n",
      "\n",
      "image 1/1 /datasets/tdt4265/other/rbk/1_train-val_1min_aalesund_from_start/img1/000631.jpg: 1088x1920 1 ball, 2.4ms\n",
      "Speed: 3.2ms preprocess, 2.3ms inference, 0.5ms postprocess per image at shape (1, 3, 1088, 1920)\n",
      "\n",
      "image 1/1 /datasets/tdt4265/other/rbk/1_train-val_1min_aalesund_from_start/img1/000632.jpg: 1088x1920 22 players, 2.4ms\n",
      "\n",
      "image 1/1 /datasets/tdt4265/other/rbk/1_train-val_1min_aalesund_from_start/img1/000632.jpg: 1088x1920 1 ball, 2.5ms\n",
      "Speed: 3.4ms preprocess, 2.4ms inference, 0.5ms postprocess per image at shape (1, 3, 1088, 1920)\n",
      "\n",
      "image 1/1 /datasets/tdt4265/other/rbk/1_train-val_1min_aalesund_from_start/img1/000633.jpg: 1088x1920 22 players, 2.3ms\n",
      "\n",
      "image 1/1 /datasets/tdt4265/other/rbk/1_train-val_1min_aalesund_from_start/img1/000633.jpg: 1088x1920 1 ball, 2.4ms\n",
      "Speed: 3.2ms preprocess, 2.3ms inference, 0.5ms postprocess per image at shape (1, 3, 1088, 1920)\n",
      "\n",
      "image 1/1 /datasets/tdt4265/other/rbk/1_train-val_1min_aalesund_from_start/img1/000634.jpg: 1088x1920 22 players, 2.5ms\n",
      "\n",
      "image 1/1 /datasets/tdt4265/other/rbk/1_train-val_1min_aalesund_from_start/img1/000634.jpg: 1088x1920 1 ball, 3.1ms\n",
      "Speed: 2.2ms preprocess, 2.5ms inference, 0.5ms postprocess per image at shape (1, 3, 1088, 1920)\n",
      "\n",
      "image 1/1 /datasets/tdt4265/other/rbk/1_train-val_1min_aalesund_from_start/img1/000635.jpg: 1088x1920 22 players, 2.3ms\n",
      "\n",
      "image 1/1 /datasets/tdt4265/other/rbk/1_train-val_1min_aalesund_from_start/img1/000635.jpg: 1088x1920 1 ball, 2.6ms\n",
      "Speed: 3.3ms preprocess, 2.3ms inference, 0.6ms postprocess per image at shape (1, 3, 1088, 1920)\n",
      "\n",
      "image 1/1 /datasets/tdt4265/other/rbk/1_train-val_1min_aalesund_from_start/img1/000636.jpg: 1088x1920 22 players, 2.3ms\n",
      "\n",
      "image 1/1 /datasets/tdt4265/other/rbk/1_train-val_1min_aalesund_from_start/img1/000636.jpg: 1088x1920 1 ball, 2.6ms\n",
      "Speed: 3.4ms preprocess, 2.3ms inference, 0.5ms postprocess per image at shape (1, 3, 1088, 1920)\n",
      "\n",
      "image 1/1 /datasets/tdt4265/other/rbk/1_train-val_1min_aalesund_from_start/img1/000637.jpg: 1088x1920 22 players, 2.3ms\n",
      "\n",
      "image 1/1 /datasets/tdt4265/other/rbk/1_train-val_1min_aalesund_from_start/img1/000637.jpg: 1088x1920 1 ball, 2.3ms\n",
      "Speed: 3.4ms preprocess, 2.3ms inference, 0.5ms postprocess per image at shape (1, 3, 1088, 1920)\n",
      "\n",
      "image 1/1 /datasets/tdt4265/other/rbk/1_train-val_1min_aalesund_from_start/img1/000638.jpg: 1088x1920 22 players, 2.6ms\n",
      "\n",
      "image 1/1 /datasets/tdt4265/other/rbk/1_train-val_1min_aalesund_from_start/img1/000638.jpg: 1088x1920 1 ball, 2.3ms\n",
      "Speed: 3.3ms preprocess, 2.6ms inference, 0.5ms postprocess per image at shape (1, 3, 1088, 1920)\n",
      "\n",
      "image 1/1 /datasets/tdt4265/other/rbk/1_train-val_1min_aalesund_from_start/img1/000639.jpg: 1088x1920 22 players, 2.9ms\n",
      "\n",
      "image 1/1 /datasets/tdt4265/other/rbk/1_train-val_1min_aalesund_from_start/img1/000639.jpg: 1088x1920 1 ball, 2.3ms\n",
      "Speed: 3.3ms preprocess, 2.9ms inference, 0.5ms postprocess per image at shape (1, 3, 1088, 1920)\n",
      "\n",
      "image 1/1 /datasets/tdt4265/other/rbk/1_train-val_1min_aalesund_from_start/img1/000640.jpg: 1088x1920 22 players, 2.3ms\n",
      "\n",
      "image 1/1 /datasets/tdt4265/other/rbk/1_train-val_1min_aalesund_from_start/img1/000640.jpg: 1088x1920 1 ball, 2.3ms\n",
      "Speed: 2.3ms preprocess, 2.3ms inference, 0.8ms postprocess per image at shape (1, 3, 1088, 1920)\n",
      "\n",
      "image 1/1 /datasets/tdt4265/other/rbk/1_train-val_1min_aalesund_from_start/img1/000641.jpg: 1088x1920 22 players, 2.4ms\n",
      "\n",
      "image 1/1 /datasets/tdt4265/other/rbk/1_train-val_1min_aalesund_from_start/img1/000641.jpg: 1088x1920 1 ball, 2.3ms\n",
      "Speed: 3.3ms preprocess, 2.4ms inference, 0.5ms postprocess per image at shape (1, 3, 1088, 1920)\n",
      "\n",
      "image 1/1 /datasets/tdt4265/other/rbk/1_train-val_1min_aalesund_from_start/img1/000642.jpg: 1088x1920 22 players, 2.3ms\n",
      "\n",
      "image 1/1 /datasets/tdt4265/other/rbk/1_train-val_1min_aalesund_from_start/img1/000642.jpg: 1088x1920 1 ball, 2.3ms\n",
      "Speed: 3.2ms preprocess, 2.3ms inference, 0.5ms postprocess per image at shape (1, 3, 1088, 1920)\n",
      "\n",
      "image 1/1 /datasets/tdt4265/other/rbk/1_train-val_1min_aalesund_from_start/img1/000643.jpg: 1088x1920 22 players, 2.3ms\n",
      "\n",
      "image 1/1 /datasets/tdt4265/other/rbk/1_train-val_1min_aalesund_from_start/img1/000643.jpg: 1088x1920 1 ball, 2.3ms\n",
      "Speed: 3.1ms preprocess, 2.3ms inference, 0.5ms postprocess per image at shape (1, 3, 1088, 1920)\n",
      "\n",
      "image 1/1 /datasets/tdt4265/other/rbk/1_train-val_1min_aalesund_from_start/img1/000644.jpg: 1088x1920 22 players, 2.3ms\n",
      "\n",
      "image 1/1 /datasets/tdt4265/other/rbk/1_train-val_1min_aalesund_from_start/img1/000644.jpg: 1088x1920 1 ball, 2.5ms\n",
      "Speed: 3.2ms preprocess, 2.3ms inference, 0.5ms postprocess per image at shape (1, 3, 1088, 1920)\n",
      "\n",
      "image 1/1 /datasets/tdt4265/other/rbk/1_train-val_1min_aalesund_from_start/img1/000645.jpg: 1088x1920 22 players, 2.4ms\n",
      "\n",
      "image 1/1 /datasets/tdt4265/other/rbk/1_train-val_1min_aalesund_from_start/img1/000645.jpg: 1088x1920 1 ball, 2.3ms\n",
      "Speed: 3.4ms preprocess, 2.4ms inference, 0.5ms postprocess per image at shape (1, 3, 1088, 1920)\n",
      "\n",
      "image 1/1 /datasets/tdt4265/other/rbk/1_train-val_1min_aalesund_from_start/img1/000646.jpg: 1088x1920 22 players, 2.5ms\n",
      "\n",
      "image 1/1 /datasets/tdt4265/other/rbk/1_train-val_1min_aalesund_from_start/img1/000646.jpg: 1088x1920 1 ball, 2.6ms\n",
      "Speed: 3.3ms preprocess, 2.5ms inference, 0.5ms postprocess per image at shape (1, 3, 1088, 1920)\n",
      "\n",
      "image 1/1 /datasets/tdt4265/other/rbk/1_train-val_1min_aalesund_from_start/img1/000647.jpg: 1088x1920 22 players, 2.5ms\n",
      "\n",
      "image 1/1 /datasets/tdt4265/other/rbk/1_train-val_1min_aalesund_from_start/img1/000647.jpg: 1088x1920 1 ball, 2.6ms\n",
      "Speed: 3.4ms preprocess, 2.5ms inference, 0.6ms postprocess per image at shape (1, 3, 1088, 1920)\n",
      "\n",
      "image 1/1 /datasets/tdt4265/other/rbk/1_train-val_1min_aalesund_from_start/img1/000648.jpg: 1088x1920 22 players, 2.3ms\n",
      "\n",
      "image 1/1 /datasets/tdt4265/other/rbk/1_train-val_1min_aalesund_from_start/img1/000648.jpg: 1088x1920 1 ball, 2.6ms\n",
      "Speed: 3.2ms preprocess, 2.3ms inference, 0.7ms postprocess per image at shape (1, 3, 1088, 1920)\n",
      "\n",
      "image 1/1 /datasets/tdt4265/other/rbk/1_train-val_1min_aalesund_from_start/img1/000649.jpg: 1088x1920 22 players, 2.3ms\n",
      "\n",
      "image 1/1 /datasets/tdt4265/other/rbk/1_train-val_1min_aalesund_from_start/img1/000649.jpg: 1088x1920 1 ball, 2.3ms\n",
      "Speed: 3.2ms preprocess, 2.3ms inference, 0.5ms postprocess per image at shape (1, 3, 1088, 1920)\n",
      "\n",
      "image 1/1 /datasets/tdt4265/other/rbk/1_train-val_1min_aalesund_from_start/img1/000650.jpg: 1088x1920 22 players, 2.6ms\n",
      "\n",
      "image 1/1 /datasets/tdt4265/other/rbk/1_train-val_1min_aalesund_from_start/img1/000650.jpg: 1088x1920 1 ball, 2.3ms\n",
      "Speed: 3.3ms preprocess, 2.6ms inference, 0.5ms postprocess per image at shape (1, 3, 1088, 1920)\n",
      "\n",
      "image 1/1 /datasets/tdt4265/other/rbk/1_train-val_1min_aalesund_from_start/img1/000651.jpg: 1088x1920 22 players, 2.7ms\n",
      "\n",
      "image 1/1 /datasets/tdt4265/other/rbk/1_train-val_1min_aalesund_from_start/img1/000651.jpg: 1088x1920 1 ball, 2.3ms\n",
      "Speed: 3.3ms preprocess, 2.7ms inference, 0.7ms postprocess per image at shape (1, 3, 1088, 1920)\n",
      "\n",
      "image 1/1 /datasets/tdt4265/other/rbk/1_train-val_1min_aalesund_from_start/img1/000652.jpg: 1088x1920 22 players, 2.3ms\n",
      "\n",
      "image 1/1 /datasets/tdt4265/other/rbk/1_train-val_1min_aalesund_from_start/img1/000652.jpg: 1088x1920 1 ball, 2.3ms\n",
      "Speed: 3.4ms preprocess, 2.3ms inference, 0.8ms postprocess per image at shape (1, 3, 1088, 1920)\n",
      "\n",
      "image 1/1 /datasets/tdt4265/other/rbk/1_train-val_1min_aalesund_from_start/img1/000653.jpg: 1088x1920 22 players, 2.3ms\n",
      "\n",
      "image 1/1 /datasets/tdt4265/other/rbk/1_train-val_1min_aalesund_from_start/img1/000653.jpg: 1088x1920 1 ball, 2.3ms\n",
      "Speed: 3.3ms preprocess, 2.3ms inference, 0.5ms postprocess per image at shape (1, 3, 1088, 1920)\n",
      "\n",
      "image 1/1 /datasets/tdt4265/other/rbk/1_train-val_1min_aalesund_from_start/img1/000654.jpg: 1088x1920 22 players, 2.7ms\n",
      "\n",
      "image 1/1 /datasets/tdt4265/other/rbk/1_train-val_1min_aalesund_from_start/img1/000654.jpg: 1088x1920 1 ball, 2.3ms\n",
      "Speed: 2.4ms preprocess, 2.7ms inference, 0.7ms postprocess per image at shape (1, 3, 1088, 1920)\n",
      "\n",
      "image 1/1 /datasets/tdt4265/other/rbk/1_train-val_1min_aalesund_from_start/img1/000655.jpg: 1088x1920 22 players, 2.3ms\n",
      "\n",
      "image 1/1 /datasets/tdt4265/other/rbk/1_train-val_1min_aalesund_from_start/img1/000655.jpg: 1088x1920 1 ball, 2.3ms\n",
      "Speed: 3.2ms preprocess, 2.3ms inference, 0.8ms postprocess per image at shape (1, 3, 1088, 1920)\n",
      "\n",
      "image 1/1 /datasets/tdt4265/other/rbk/1_train-val_1min_aalesund_from_start/img1/000656.jpg: 1088x1920 22 players, 2.3ms\n",
      "\n",
      "image 1/1 /datasets/tdt4265/other/rbk/1_train-val_1min_aalesund_from_start/img1/000656.jpg: 1088x1920 1 ball, 2.4ms\n",
      "Speed: 3.3ms preprocess, 2.3ms inference, 0.5ms postprocess per image at shape (1, 3, 1088, 1920)\n",
      "\n",
      "image 1/1 /datasets/tdt4265/other/rbk/1_train-val_1min_aalesund_from_start/img1/000657.jpg: 1088x1920 22 players, 2.3ms\n",
      "\n",
      "image 1/1 /datasets/tdt4265/other/rbk/1_train-val_1min_aalesund_from_start/img1/000657.jpg: 1088x1920 1 ball, 2.5ms\n",
      "Speed: 3.3ms preprocess, 2.3ms inference, 0.5ms postprocess per image at shape (1, 3, 1088, 1920)\n",
      "\n",
      "image 1/1 /datasets/tdt4265/other/rbk/1_train-val_1min_aalesund_from_start/img1/000658.jpg: 1088x1920 22 players, 2.3ms\n",
      "\n",
      "image 1/1 /datasets/tdt4265/other/rbk/1_train-val_1min_aalesund_from_start/img1/000658.jpg: 1088x1920 1 ball, 2.6ms\n",
      "Speed: 3.3ms preprocess, 2.3ms inference, 0.5ms postprocess per image at shape (1, 3, 1088, 1920)\n",
      "\n",
      "image 1/1 /datasets/tdt4265/other/rbk/1_train-val_1min_aalesund_from_start/img1/000659.jpg: 1088x1920 22 players, 2.3ms\n",
      "\n",
      "image 1/1 /datasets/tdt4265/other/rbk/1_train-val_1min_aalesund_from_start/img1/000659.jpg: 1088x1920 1 ball, 2.4ms\n",
      "Speed: 3.2ms preprocess, 2.3ms inference, 0.5ms postprocess per image at shape (1, 3, 1088, 1920)\n",
      "\n",
      "image 1/1 /datasets/tdt4265/other/rbk/1_train-val_1min_aalesund_from_start/img1/000660.jpg: 1088x1920 22 players, 2.3ms\n",
      "\n",
      "image 1/1 /datasets/tdt4265/other/rbk/1_train-val_1min_aalesund_from_start/img1/000660.jpg: 1088x1920 1 ball, 2.6ms\n",
      "Speed: 3.3ms preprocess, 2.3ms inference, 0.6ms postprocess per image at shape (1, 3, 1088, 1920)\n",
      "\n",
      "image 1/1 /datasets/tdt4265/other/rbk/1_train-val_1min_aalesund_from_start/img1/000661.jpg: 1088x1920 22 players, 2.3ms\n",
      "\n",
      "image 1/1 /datasets/tdt4265/other/rbk/1_train-val_1min_aalesund_from_start/img1/000661.jpg: 1088x1920 1 ball, 2.3ms\n",
      "Speed: 3.3ms preprocess, 2.3ms inference, 0.6ms postprocess per image at shape (1, 3, 1088, 1920)\n",
      "\n",
      "image 1/1 /datasets/tdt4265/other/rbk/1_train-val_1min_aalesund_from_start/img1/000662.jpg: 1088x1920 22 players, 2.8ms\n",
      "\n",
      "image 1/1 /datasets/tdt4265/other/rbk/1_train-val_1min_aalesund_from_start/img1/000662.jpg: 1088x1920 1 ball, 2.3ms\n",
      "Speed: 3.9ms preprocess, 2.8ms inference, 0.9ms postprocess per image at shape (1, 3, 1088, 1920)\n",
      "\n",
      "image 1/1 /datasets/tdt4265/other/rbk/1_train-val_1min_aalesund_from_start/img1/000663.jpg: 1088x1920 22 players, 2.3ms\n",
      "\n",
      "image 1/1 /datasets/tdt4265/other/rbk/1_train-val_1min_aalesund_from_start/img1/000663.jpg: 1088x1920 1 ball, 2.6ms\n",
      "Speed: 3.3ms preprocess, 2.3ms inference, 0.5ms postprocess per image at shape (1, 3, 1088, 1920)\n",
      "\n",
      "image 1/1 /datasets/tdt4265/other/rbk/1_train-val_1min_aalesund_from_start/img1/000664.jpg: 1088x1920 22 players, 2.6ms\n",
      "\n",
      "image 1/1 /datasets/tdt4265/other/rbk/1_train-val_1min_aalesund_from_start/img1/000664.jpg: 1088x1920 1 ball, 2.3ms\n",
      "Speed: 2.2ms preprocess, 2.6ms inference, 0.5ms postprocess per image at shape (1, 3, 1088, 1920)\n",
      "\n",
      "image 1/1 /datasets/tdt4265/other/rbk/1_train-val_1min_aalesund_from_start/img1/000665.jpg: 1088x1920 22 players, 2.6ms\n",
      "\n",
      "image 1/1 /datasets/tdt4265/other/rbk/1_train-val_1min_aalesund_from_start/img1/000665.jpg: 1088x1920 (no detections), 2.8ms\n",
      "Speed: 3.2ms preprocess, 2.6ms inference, 0.5ms postprocess per image at shape (1, 3, 1088, 1920)\n",
      "\n",
      "image 1/1 /datasets/tdt4265/other/rbk/1_train-val_1min_aalesund_from_start/img1/000666.jpg: 1088x1920 22 players, 2.7ms\n",
      "\n",
      "image 1/1 /datasets/tdt4265/other/rbk/1_train-val_1min_aalesund_from_start/img1/000666.jpg: 1088x1920 (no detections), 2.6ms\n",
      "Speed: 3.9ms preprocess, 2.7ms inference, 0.7ms postprocess per image at shape (1, 3, 1088, 1920)\n",
      "\n",
      "image 1/1 /datasets/tdt4265/other/rbk/1_train-val_1min_aalesund_from_start/img1/000667.jpg: 1088x1920 22 players, 2.5ms\n",
      "\n",
      "image 1/1 /datasets/tdt4265/other/rbk/1_train-val_1min_aalesund_from_start/img1/000667.jpg: 1088x1920 (no detections), 2.6ms\n",
      "Speed: 3.4ms preprocess, 2.5ms inference, 0.6ms postprocess per image at shape (1, 3, 1088, 1920)\n",
      "\n",
      "image 1/1 /datasets/tdt4265/other/rbk/1_train-val_1min_aalesund_from_start/img1/000668.jpg: 1088x1920 22 players, 2.4ms\n",
      "\n",
      "image 1/1 /datasets/tdt4265/other/rbk/1_train-val_1min_aalesund_from_start/img1/000668.jpg: 1088x1920 (no detections), 2.6ms\n",
      "Speed: 2.2ms preprocess, 2.4ms inference, 0.5ms postprocess per image at shape (1, 3, 1088, 1920)\n",
      "\n",
      "image 1/1 /datasets/tdt4265/other/rbk/1_train-val_1min_aalesund_from_start/img1/000669.jpg: 1088x1920 22 players, 2.4ms\n",
      "\n",
      "image 1/1 /datasets/tdt4265/other/rbk/1_train-val_1min_aalesund_from_start/img1/000669.jpg: 1088x1920 (no detections), 2.5ms\n",
      "Speed: 3.3ms preprocess, 2.4ms inference, 0.5ms postprocess per image at shape (1, 3, 1088, 1920)\n",
      "\n",
      "image 1/1 /datasets/tdt4265/other/rbk/1_train-val_1min_aalesund_from_start/img1/000670.jpg: 1088x1920 22 players, 2.7ms\n",
      "\n",
      "image 1/1 /datasets/tdt4265/other/rbk/1_train-val_1min_aalesund_from_start/img1/000670.jpg: 1088x1920 1 ball, 2.3ms\n",
      "Speed: 2.2ms preprocess, 2.7ms inference, 0.5ms postprocess per image at shape (1, 3, 1088, 1920)\n",
      "\n",
      "image 1/1 /datasets/tdt4265/other/rbk/1_train-val_1min_aalesund_from_start/img1/000671.jpg: 1088x1920 22 players, 2.4ms\n",
      "\n",
      "image 1/1 /datasets/tdt4265/other/rbk/1_train-val_1min_aalesund_from_start/img1/000671.jpg: 1088x1920 1 ball, 2.3ms\n",
      "Speed: 3.3ms preprocess, 2.4ms inference, 0.8ms postprocess per image at shape (1, 3, 1088, 1920)\n",
      "\n",
      "image 1/1 /datasets/tdt4265/other/rbk/1_train-val_1min_aalesund_from_start/img1/000672.jpg: 1088x1920 22 players, 2.4ms\n",
      "\n",
      "image 1/1 /datasets/tdt4265/other/rbk/1_train-val_1min_aalesund_from_start/img1/000672.jpg: 1088x1920 1 ball, 2.5ms\n",
      "Speed: 3.4ms preprocess, 2.4ms inference, 0.5ms postprocess per image at shape (1, 3, 1088, 1920)\n",
      "\n",
      "image 1/1 /datasets/tdt4265/other/rbk/1_train-val_1min_aalesund_from_start/img1/000673.jpg: 1088x1920 22 players, 2.3ms\n",
      "\n",
      "image 1/1 /datasets/tdt4265/other/rbk/1_train-val_1min_aalesund_from_start/img1/000673.jpg: 1088x1920 1 ball, 2.5ms\n",
      "Speed: 3.1ms preprocess, 2.3ms inference, 0.5ms postprocess per image at shape (1, 3, 1088, 1920)\n",
      "\n",
      "image 1/1 /datasets/tdt4265/other/rbk/1_train-val_1min_aalesund_from_start/img1/000674.jpg: 1088x1920 22 players, 2.3ms\n",
      "\n",
      "image 1/1 /datasets/tdt4265/other/rbk/1_train-val_1min_aalesund_from_start/img1/000674.jpg: 1088x1920 1 ball, 2.6ms\n",
      "Speed: 2.4ms preprocess, 2.3ms inference, 0.5ms postprocess per image at shape (1, 3, 1088, 1920)\n",
      "\n",
      "image 1/1 /datasets/tdt4265/other/rbk/1_train-val_1min_aalesund_from_start/img1/000675.jpg: 1088x1920 22 players, 2.5ms\n",
      "\n",
      "image 1/1 /datasets/tdt4265/other/rbk/1_train-val_1min_aalesund_from_start/img1/000675.jpg: 1088x1920 1 ball, 2.6ms\n",
      "Speed: 3.3ms preprocess, 2.5ms inference, 0.5ms postprocess per image at shape (1, 3, 1088, 1920)\n",
      "\n",
      "image 1/1 /datasets/tdt4265/other/rbk/1_train-val_1min_aalesund_from_start/img1/000676.jpg: 1088x1920 22 players, 2.3ms\n",
      "\n",
      "image 1/1 /datasets/tdt4265/other/rbk/1_train-val_1min_aalesund_from_start/img1/000676.jpg: 1088x1920 1 ball, 2.6ms\n",
      "Speed: 3.3ms preprocess, 2.3ms inference, 0.6ms postprocess per image at shape (1, 3, 1088, 1920)\n",
      "\n",
      "image 1/1 /datasets/tdt4265/other/rbk/1_train-val_1min_aalesund_from_start/img1/000677.jpg: 1088x1920 22 players, 2.3ms\n",
      "\n",
      "image 1/1 /datasets/tdt4265/other/rbk/1_train-val_1min_aalesund_from_start/img1/000677.jpg: 1088x1920 1 ball, 2.6ms\n",
      "Speed: 3.4ms preprocess, 2.3ms inference, 0.6ms postprocess per image at shape (1, 3, 1088, 1920)\n",
      "\n",
      "image 1/1 /datasets/tdt4265/other/rbk/1_train-val_1min_aalesund_from_start/img1/000678.jpg: 1088x1920 22 players, 2.3ms\n",
      "\n",
      "image 1/1 /datasets/tdt4265/other/rbk/1_train-val_1min_aalesund_from_start/img1/000678.jpg: 1088x1920 1 ball, 2.6ms\n",
      "Speed: 3.4ms preprocess, 2.3ms inference, 0.6ms postprocess per image at shape (1, 3, 1088, 1920)\n",
      "\n",
      "image 1/1 /datasets/tdt4265/other/rbk/1_train-val_1min_aalesund_from_start/img1/000679.jpg: 1088x1920 22 players, 2.5ms\n",
      "\n",
      "image 1/1 /datasets/tdt4265/other/rbk/1_train-val_1min_aalesund_from_start/img1/000679.jpg: 1088x1920 1 ball, 2.6ms\n",
      "Speed: 2.4ms preprocess, 2.5ms inference, 0.7ms postprocess per image at shape (1, 3, 1088, 1920)\n",
      "\n",
      "image 1/1 /datasets/tdt4265/other/rbk/1_train-val_1min_aalesund_from_start/img1/000680.jpg: 1088x1920 22 players, 2.6ms\n",
      "\n",
      "image 1/1 /datasets/tdt4265/other/rbk/1_train-val_1min_aalesund_from_start/img1/000680.jpg: 1088x1920 1 ball, 2.3ms\n",
      "Speed: 3.0ms preprocess, 2.6ms inference, 0.5ms postprocess per image at shape (1, 3, 1088, 1920)\n",
      "\n",
      "image 1/1 /datasets/tdt4265/other/rbk/1_train-val_1min_aalesund_from_start/img1/000681.jpg: 1088x1920 22 players, 2.6ms\n",
      "\n",
      "image 1/1 /datasets/tdt4265/other/rbk/1_train-val_1min_aalesund_from_start/img1/000681.jpg: 1088x1920 1 ball, 2.3ms\n",
      "Speed: 3.3ms preprocess, 2.6ms inference, 0.7ms postprocess per image at shape (1, 3, 1088, 1920)\n",
      "\n",
      "image 1/1 /datasets/tdt4265/other/rbk/1_train-val_1min_aalesund_from_start/img1/000682.jpg: 1088x1920 22 players, 2.6ms\n",
      "\n",
      "image 1/1 /datasets/tdt4265/other/rbk/1_train-val_1min_aalesund_from_start/img1/000682.jpg: 1088x1920 1 ball, 2.4ms\n",
      "Speed: 3.3ms preprocess, 2.6ms inference, 0.7ms postprocess per image at shape (1, 3, 1088, 1920)\n",
      "\n",
      "image 1/1 /datasets/tdt4265/other/rbk/1_train-val_1min_aalesund_from_start/img1/000683.jpg: 1088x1920 22 players, 2.6ms\n",
      "\n",
      "image 1/1 /datasets/tdt4265/other/rbk/1_train-val_1min_aalesund_from_start/img1/000683.jpg: 1088x1920 1 ball, 2.3ms\n",
      "Speed: 3.8ms preprocess, 2.6ms inference, 0.6ms postprocess per image at shape (1, 3, 1088, 1920)\n",
      "\n",
      "image 1/1 /datasets/tdt4265/other/rbk/1_train-val_1min_aalesund_from_start/img1/000684.jpg: 1088x1920 22 players, 2.6ms\n",
      "\n",
      "image 1/1 /datasets/tdt4265/other/rbk/1_train-val_1min_aalesund_from_start/img1/000684.jpg: 1088x1920 1 ball, 2.6ms\n",
      "Speed: 3.4ms preprocess, 2.6ms inference, 0.5ms postprocess per image at shape (1, 3, 1088, 1920)\n",
      "\n",
      "image 1/1 /datasets/tdt4265/other/rbk/1_train-val_1min_aalesund_from_start/img1/000685.jpg: 1088x1920 22 players, 2.6ms\n",
      "\n",
      "image 1/1 /datasets/tdt4265/other/rbk/1_train-val_1min_aalesund_from_start/img1/000685.jpg: 1088x1920 1 ball, 2.7ms\n",
      "Speed: 2.5ms preprocess, 2.6ms inference, 0.5ms postprocess per image at shape (1, 3, 1088, 1920)\n",
      "\n",
      "image 1/1 /datasets/tdt4265/other/rbk/1_train-val_1min_aalesund_from_start/img1/000686.jpg: 1088x1920 22 players, 2.4ms\n",
      "\n",
      "image 1/1 /datasets/tdt4265/other/rbk/1_train-val_1min_aalesund_from_start/img1/000686.jpg: 1088x1920 1 ball, 2.6ms\n",
      "Speed: 3.4ms preprocess, 2.4ms inference, 0.7ms postprocess per image at shape (1, 3, 1088, 1920)\n",
      "\n",
      "image 1/1 /datasets/tdt4265/other/rbk/1_train-val_1min_aalesund_from_start/img1/000687.jpg: 1088x1920 22 players, 2.3ms\n",
      "\n",
      "image 1/1 /datasets/tdt4265/other/rbk/1_train-val_1min_aalesund_from_start/img1/000687.jpg: 1088x1920 1 ball, 2.6ms\n",
      "Speed: 3.4ms preprocess, 2.3ms inference, 0.6ms postprocess per image at shape (1, 3, 1088, 1920)\n",
      "\n",
      "image 1/1 /datasets/tdt4265/other/rbk/1_train-val_1min_aalesund_from_start/img1/000688.jpg: 1088x1920 22 players, 2.5ms\n",
      "\n",
      "image 1/1 /datasets/tdt4265/other/rbk/1_train-val_1min_aalesund_from_start/img1/000688.jpg: 1088x1920 1 ball, 2.5ms\n",
      "Speed: 3.3ms preprocess, 2.5ms inference, 0.5ms postprocess per image at shape (1, 3, 1088, 1920)\n",
      "\n",
      "image 1/1 /datasets/tdt4265/other/rbk/1_train-val_1min_aalesund_from_start/img1/000689.jpg: 1088x1920 22 players, 2.5ms\n",
      "\n",
      "image 1/1 /datasets/tdt4265/other/rbk/1_train-val_1min_aalesund_from_start/img1/000689.jpg: 1088x1920 1 ball, 2.8ms\n",
      "Speed: 2.3ms preprocess, 2.5ms inference, 0.5ms postprocess per image at shape (1, 3, 1088, 1920)\n",
      "\n",
      "image 1/1 /datasets/tdt4265/other/rbk/1_train-val_1min_aalesund_from_start/img1/000690.jpg: 1088x1920 22 players, 2.5ms\n",
      "\n",
      "image 1/1 /datasets/tdt4265/other/rbk/1_train-val_1min_aalesund_from_start/img1/000690.jpg: 1088x1920 1 ball, 2.9ms\n",
      "Speed: 3.2ms preprocess, 2.5ms inference, 0.5ms postprocess per image at shape (1, 3, 1088, 1920)\n",
      "\n",
      "image 1/1 /datasets/tdt4265/other/rbk/1_train-val_1min_aalesund_from_start/img1/000691.jpg: 1088x1920 22 players, 2.5ms\n",
      "\n",
      "image 1/1 /datasets/tdt4265/other/rbk/1_train-val_1min_aalesund_from_start/img1/000691.jpg: 1088x1920 1 ball, 2.6ms\n",
      "Speed: 3.2ms preprocess, 2.5ms inference, 0.5ms postprocess per image at shape (1, 3, 1088, 1920)\n",
      "\n",
      "image 1/1 /datasets/tdt4265/other/rbk/1_train-val_1min_aalesund_from_start/img1/000692.jpg: 1088x1920 22 players, 2.5ms\n",
      "\n",
      "image 1/1 /datasets/tdt4265/other/rbk/1_train-val_1min_aalesund_from_start/img1/000692.jpg: 1088x1920 1 ball, 2.6ms\n",
      "Speed: 3.3ms preprocess, 2.5ms inference, 0.5ms postprocess per image at shape (1, 3, 1088, 1920)\n",
      "\n",
      "image 1/1 /datasets/tdt4265/other/rbk/1_train-val_1min_aalesund_from_start/img1/000693.jpg: 1088x1920 22 players, 2.5ms\n",
      "\n",
      "image 1/1 /datasets/tdt4265/other/rbk/1_train-val_1min_aalesund_from_start/img1/000693.jpg: 1088x1920 1 ball, 2.6ms\n",
      "Speed: 3.3ms preprocess, 2.5ms inference, 0.5ms postprocess per image at shape (1, 3, 1088, 1920)\n",
      "\n",
      "image 1/1 /datasets/tdt4265/other/rbk/1_train-val_1min_aalesund_from_start/img1/000694.jpg: 1088x1920 23 players, 2.4ms\n",
      "\n",
      "image 1/1 /datasets/tdt4265/other/rbk/1_train-val_1min_aalesund_from_start/img1/000694.jpg: 1088x1920 1 ball, 2.5ms\n",
      "Speed: 3.3ms preprocess, 2.4ms inference, 0.5ms postprocess per image at shape (1, 3, 1088, 1920)\n",
      "\n",
      "image 1/1 /datasets/tdt4265/other/rbk/1_train-val_1min_aalesund_from_start/img1/000695.jpg: 1088x1920 23 players, 2.3ms\n",
      "\n",
      "image 1/1 /datasets/tdt4265/other/rbk/1_train-val_1min_aalesund_from_start/img1/000695.jpg: 1088x1920 (no detections), 2.7ms\n",
      "Speed: 3.2ms preprocess, 2.3ms inference, 0.5ms postprocess per image at shape (1, 3, 1088, 1920)\n",
      "\n",
      "image 1/1 /datasets/tdt4265/other/rbk/1_train-val_1min_aalesund_from_start/img1/000696.jpg: 1088x1920 23 players, 2.9ms\n",
      "\n",
      "image 1/1 /datasets/tdt4265/other/rbk/1_train-val_1min_aalesund_from_start/img1/000696.jpg: 1088x1920 (no detections), 2.4ms\n",
      "Speed: 3.2ms preprocess, 2.9ms inference, 0.5ms postprocess per image at shape (1, 3, 1088, 1920)\n",
      "\n",
      "image 1/1 /datasets/tdt4265/other/rbk/1_train-val_1min_aalesund_from_start/img1/000697.jpg: 1088x1920 23 players, 2.6ms\n",
      "\n",
      "image 1/1 /datasets/tdt4265/other/rbk/1_train-val_1min_aalesund_from_start/img1/000697.jpg: 1088x1920 1 ball, 2.3ms\n",
      "Speed: 3.4ms preprocess, 2.6ms inference, 0.7ms postprocess per image at shape (1, 3, 1088, 1920)\n",
      "\n",
      "image 1/1 /datasets/tdt4265/other/rbk/1_train-val_1min_aalesund_from_start/img1/000698.jpg: 1088x1920 23 players, 2.6ms\n",
      "\n",
      "image 1/1 /datasets/tdt4265/other/rbk/1_train-val_1min_aalesund_from_start/img1/000698.jpg: 1088x1920 1 ball, 2.3ms\n",
      "Speed: 3.3ms preprocess, 2.6ms inference, 0.7ms postprocess per image at shape (1, 3, 1088, 1920)\n",
      "\n",
      "image 1/1 /datasets/tdt4265/other/rbk/1_train-val_1min_aalesund_from_start/img1/000699.jpg: 1088x1920 23 players, 2.7ms\n",
      "\n",
      "image 1/1 /datasets/tdt4265/other/rbk/1_train-val_1min_aalesund_from_start/img1/000699.jpg: 1088x1920 1 ball, 2.7ms\n",
      "Speed: 2.3ms preprocess, 2.7ms inference, 0.6ms postprocess per image at shape (1, 3, 1088, 1920)\n",
      "\n",
      "image 1/1 /datasets/tdt4265/other/rbk/1_train-val_1min_aalesund_from_start/img1/000700.jpg: 1088x1920 23 players, 2.6ms\n",
      "\n",
      "image 1/1 /datasets/tdt4265/other/rbk/1_train-val_1min_aalesund_from_start/img1/000700.jpg: 1088x1920 1 ball, 2.6ms\n",
      "Speed: 3.2ms preprocess, 2.6ms inference, 0.5ms postprocess per image at shape (1, 3, 1088, 1920)\n",
      "\n",
      "image 1/1 /datasets/tdt4265/other/rbk/1_train-val_1min_aalesund_from_start/img1/000701.jpg: 1088x1920 23 players, 2.6ms\n",
      "\n",
      "image 1/1 /datasets/tdt4265/other/rbk/1_train-val_1min_aalesund_from_start/img1/000701.jpg: 1088x1920 1 ball, 2.6ms\n",
      "Speed: 2.3ms preprocess, 2.6ms inference, 0.5ms postprocess per image at shape (1, 3, 1088, 1920)\n",
      "\n",
      "image 1/1 /datasets/tdt4265/other/rbk/1_train-val_1min_aalesund_from_start/img1/000702.jpg: 1088x1920 23 players, 2.4ms\n",
      "\n",
      "image 1/1 /datasets/tdt4265/other/rbk/1_train-val_1min_aalesund_from_start/img1/000702.jpg: 1088x1920 1 ball, 2.6ms\n",
      "Speed: 3.5ms preprocess, 2.4ms inference, 0.6ms postprocess per image at shape (1, 3, 1088, 1920)\n",
      "\n",
      "image 1/1 /datasets/tdt4265/other/rbk/1_train-val_1min_aalesund_from_start/img1/000703.jpg: 1088x1920 23 players, 2.3ms\n",
      "\n",
      "image 1/1 /datasets/tdt4265/other/rbk/1_train-val_1min_aalesund_from_start/img1/000703.jpg: 1088x1920 1 ball, 2.6ms\n",
      "Speed: 3.2ms preprocess, 2.3ms inference, 0.6ms postprocess per image at shape (1, 3, 1088, 1920)\n",
      "\n",
      "image 1/1 /datasets/tdt4265/other/rbk/1_train-val_1min_aalesund_from_start/img1/000704.jpg: 1088x1920 23 players, 2.5ms\n",
      "\n",
      "image 1/1 /datasets/tdt4265/other/rbk/1_train-val_1min_aalesund_from_start/img1/000704.jpg: 1088x1920 1 ball, 2.6ms\n",
      "Speed: 3.2ms preprocess, 2.5ms inference, 0.5ms postprocess per image at shape (1, 3, 1088, 1920)\n",
      "\n",
      "image 1/1 /datasets/tdt4265/other/rbk/1_train-val_1min_aalesund_from_start/img1/000705.jpg: 1088x1920 23 players, 2.3ms\n",
      "\n",
      "image 1/1 /datasets/tdt4265/other/rbk/1_train-val_1min_aalesund_from_start/img1/000705.jpg: 1088x1920 1 ball, 2.9ms\n",
      "Speed: 3.3ms preprocess, 2.3ms inference, 0.6ms postprocess per image at shape (1, 3, 1088, 1920)\n",
      "\n",
      "image 1/1 /datasets/tdt4265/other/rbk/1_train-val_1min_aalesund_from_start/img1/000706.jpg: 1088x1920 23 players, 2.5ms\n",
      "\n",
      "image 1/1 /datasets/tdt4265/other/rbk/1_train-val_1min_aalesund_from_start/img1/000706.jpg: 1088x1920 1 ball, 2.4ms\n",
      "Speed: 3.2ms preprocess, 2.5ms inference, 0.5ms postprocess per image at shape (1, 3, 1088, 1920)\n",
      "\n",
      "image 1/1 /datasets/tdt4265/other/rbk/1_train-val_1min_aalesund_from_start/img1/000707.jpg: 1088x1920 23 players, 2.5ms\n",
      "\n",
      "image 1/1 /datasets/tdt4265/other/rbk/1_train-val_1min_aalesund_from_start/img1/000707.jpg: 1088x1920 1 ball, 2.6ms\n",
      "Speed: 3.2ms preprocess, 2.5ms inference, 0.5ms postprocess per image at shape (1, 3, 1088, 1920)\n",
      "\n",
      "image 1/1 /datasets/tdt4265/other/rbk/1_train-val_1min_aalesund_from_start/img1/000708.jpg: 1088x1920 23 players, 2.5ms\n",
      "\n",
      "image 1/1 /datasets/tdt4265/other/rbk/1_train-val_1min_aalesund_from_start/img1/000708.jpg: 1088x1920 1 ball, 2.5ms\n",
      "Speed: 3.2ms preprocess, 2.5ms inference, 0.5ms postprocess per image at shape (1, 3, 1088, 1920)\n",
      "\n",
      "image 1/1 /datasets/tdt4265/other/rbk/1_train-val_1min_aalesund_from_start/img1/000709.jpg: 1088x1920 23 players, 2.5ms\n",
      "\n",
      "image 1/1 /datasets/tdt4265/other/rbk/1_train-val_1min_aalesund_from_start/img1/000709.jpg: 1088x1920 1 ball, 2.6ms\n",
      "Speed: 2.4ms preprocess, 2.5ms inference, 0.5ms postprocess per image at shape (1, 3, 1088, 1920)\n",
      "\n",
      "image 1/1 /datasets/tdt4265/other/rbk/1_train-val_1min_aalesund_from_start/img1/000710.jpg: 1088x1920 23 players, 2.5ms\n",
      "\n",
      "image 1/1 /datasets/tdt4265/other/rbk/1_train-val_1min_aalesund_from_start/img1/000710.jpg: 1088x1920 1 ball, 2.6ms\n",
      "Speed: 2.3ms preprocess, 2.5ms inference, 0.5ms postprocess per image at shape (1, 3, 1088, 1920)\n",
      "\n",
      "image 1/1 /datasets/tdt4265/other/rbk/1_train-val_1min_aalesund_from_start/img1/000711.jpg: 1088x1920 23 players, 2.5ms\n",
      "\n",
      "image 1/1 /datasets/tdt4265/other/rbk/1_train-val_1min_aalesund_from_start/img1/000711.jpg: 1088x1920 1 ball, 2.7ms\n",
      "Speed: 3.2ms preprocess, 2.5ms inference, 0.5ms postprocess per image at shape (1, 3, 1088, 1920)\n",
      "\n",
      "image 1/1 /datasets/tdt4265/other/rbk/1_train-val_1min_aalesund_from_start/img1/000712.jpg: 1088x1920 23 players, 2.3ms\n",
      "\n",
      "image 1/1 /datasets/tdt4265/other/rbk/1_train-val_1min_aalesund_from_start/img1/000712.jpg: 1088x1920 (no detections), 2.3ms\n",
      "Speed: 3.2ms preprocess, 2.3ms inference, 0.5ms postprocess per image at shape (1, 3, 1088, 1920)\n",
      "\n",
      "image 1/1 /datasets/tdt4265/other/rbk/1_train-val_1min_aalesund_from_start/img1/000713.jpg: 1088x1920 23 players, 2.8ms\n",
      "\n",
      "image 1/1 /datasets/tdt4265/other/rbk/1_train-val_1min_aalesund_from_start/img1/000713.jpg: 1088x1920 (no detections), 2.3ms\n",
      "Speed: 3.3ms preprocess, 2.8ms inference, 0.5ms postprocess per image at shape (1, 3, 1088, 1920)\n",
      "\n",
      "image 1/1 /datasets/tdt4265/other/rbk/1_train-val_1min_aalesund_from_start/img1/000714.jpg: 1088x1920 23 players, 2.4ms\n",
      "\n",
      "image 1/1 /datasets/tdt4265/other/rbk/1_train-val_1min_aalesund_from_start/img1/000714.jpg: 1088x1920 (no detections), 2.9ms\n",
      "Speed: 3.4ms preprocess, 2.4ms inference, 1.0ms postprocess per image at shape (1, 3, 1088, 1920)\n",
      "\n",
      "image 1/1 /datasets/tdt4265/other/rbk/1_train-val_1min_aalesund_from_start/img1/000715.jpg: 1088x1920 23 players, 2.3ms\n",
      "\n",
      "image 1/1 /datasets/tdt4265/other/rbk/1_train-val_1min_aalesund_from_start/img1/000715.jpg: 1088x1920 1 ball, 2.8ms\n",
      "Speed: 3.3ms preprocess, 2.3ms inference, 0.5ms postprocess per image at shape (1, 3, 1088, 1920)\n",
      "\n",
      "image 1/1 /datasets/tdt4265/other/rbk/1_train-val_1min_aalesund_from_start/img1/000716.jpg: 1088x1920 23 players, 2.7ms\n",
      "\n",
      "image 1/1 /datasets/tdt4265/other/rbk/1_train-val_1min_aalesund_from_start/img1/000716.jpg: 1088x1920 1 ball, 2.3ms\n",
      "Speed: 3.7ms preprocess, 2.7ms inference, 0.5ms postprocess per image at shape (1, 3, 1088, 1920)\n",
      "\n",
      "image 1/1 /datasets/tdt4265/other/rbk/1_train-val_1min_aalesund_from_start/img1/000717.jpg: 1088x1920 23 players, 2.5ms\n",
      "\n",
      "image 1/1 /datasets/tdt4265/other/rbk/1_train-val_1min_aalesund_from_start/img1/000717.jpg: 1088x1920 1 ball, 2.3ms\n",
      "Speed: 3.2ms preprocess, 2.5ms inference, 0.5ms postprocess per image at shape (1, 3, 1088, 1920)\n",
      "\n",
      "image 1/1 /datasets/tdt4265/other/rbk/1_train-val_1min_aalesund_from_start/img1/000718.jpg: 1088x1920 23 players, 2.5ms\n",
      "\n",
      "image 1/1 /datasets/tdt4265/other/rbk/1_train-val_1min_aalesund_from_start/img1/000718.jpg: 1088x1920 1 ball, 2.3ms\n",
      "Speed: 3.2ms preprocess, 2.5ms inference, 0.5ms postprocess per image at shape (1, 3, 1088, 1920)\n",
      "\n",
      "image 1/1 /datasets/tdt4265/other/rbk/1_train-val_1min_aalesund_from_start/img1/000719.jpg: 1088x1920 23 players, 2.5ms\n",
      "\n",
      "image 1/1 /datasets/tdt4265/other/rbk/1_train-val_1min_aalesund_from_start/img1/000719.jpg: 1088x1920 1 ball, 2.3ms\n",
      "Speed: 3.3ms preprocess, 2.5ms inference, 0.5ms postprocess per image at shape (1, 3, 1088, 1920)\n",
      "\n",
      "image 1/1 /datasets/tdt4265/other/rbk/1_train-val_1min_aalesund_from_start/img1/000720.jpg: 1088x1920 23 players, 2.6ms\n",
      "\n",
      "image 1/1 /datasets/tdt4265/other/rbk/1_train-val_1min_aalesund_from_start/img1/000720.jpg: 1088x1920 1 ball, 2.6ms\n",
      "Speed: 3.7ms preprocess, 2.6ms inference, 0.5ms postprocess per image at shape (1, 3, 1088, 1920)\n",
      "\n",
      "image 1/1 /datasets/tdt4265/other/rbk/1_train-val_1min_aalesund_from_start/img1/000721.jpg: 1088x1920 22 players, 2.3ms\n",
      "\n",
      "image 1/1 /datasets/tdt4265/other/rbk/1_train-val_1min_aalesund_from_start/img1/000721.jpg: 1088x1920 1 ball, 2.6ms\n",
      "Speed: 3.2ms preprocess, 2.3ms inference, 0.5ms postprocess per image at shape (1, 3, 1088, 1920)\n",
      "\n",
      "image 1/1 /datasets/tdt4265/other/rbk/1_train-val_1min_aalesund_from_start/img1/000722.jpg: 1088x1920 22 players, 2.3ms\n",
      "\n",
      "image 1/1 /datasets/tdt4265/other/rbk/1_train-val_1min_aalesund_from_start/img1/000722.jpg: 1088x1920 1 ball, 2.3ms\n",
      "Speed: 3.2ms preprocess, 2.3ms inference, 0.5ms postprocess per image at shape (1, 3, 1088, 1920)\n",
      "\n",
      "image 1/1 /datasets/tdt4265/other/rbk/1_train-val_1min_aalesund_from_start/img1/000723.jpg: 1088x1920 22 players, 2.3ms\n",
      "\n",
      "image 1/1 /datasets/tdt4265/other/rbk/1_train-val_1min_aalesund_from_start/img1/000723.jpg: 1088x1920 1 ball, 2.5ms\n",
      "Speed: 3.2ms preprocess, 2.3ms inference, 0.5ms postprocess per image at shape (1, 3, 1088, 1920)\n",
      "\n",
      "image 1/1 /datasets/tdt4265/other/rbk/1_train-val_1min_aalesund_from_start/img1/000724.jpg: 1088x1920 23 players, 2.4ms\n",
      "\n",
      "image 1/1 /datasets/tdt4265/other/rbk/1_train-val_1min_aalesund_from_start/img1/000724.jpg: 1088x1920 1 ball, 2.4ms\n",
      "Speed: 3.3ms preprocess, 2.4ms inference, 0.6ms postprocess per image at shape (1, 3, 1088, 1920)\n",
      "\n",
      "image 1/1 /datasets/tdt4265/other/rbk/1_train-val_1min_aalesund_from_start/img1/000725.jpg: 1088x1920 23 players, 2.4ms\n",
      "\n",
      "image 1/1 /datasets/tdt4265/other/rbk/1_train-val_1min_aalesund_from_start/img1/000725.jpg: 1088x1920 1 ball, 2.5ms\n",
      "Speed: 3.3ms preprocess, 2.4ms inference, 0.5ms postprocess per image at shape (1, 3, 1088, 1920)\n",
      "\n",
      "image 1/1 /datasets/tdt4265/other/rbk/1_train-val_1min_aalesund_from_start/img1/000726.jpg: 1088x1920 23 players, 2.4ms\n",
      "\n",
      "image 1/1 /datasets/tdt4265/other/rbk/1_train-val_1min_aalesund_from_start/img1/000726.jpg: 1088x1920 1 ball, 2.3ms\n",
      "Speed: 3.3ms preprocess, 2.4ms inference, 0.5ms postprocess per image at shape (1, 3, 1088, 1920)\n",
      "\n",
      "image 1/1 /datasets/tdt4265/other/rbk/1_train-val_1min_aalesund_from_start/img1/000727.jpg: 1088x1920 23 players, 2.3ms\n",
      "\n",
      "image 1/1 /datasets/tdt4265/other/rbk/1_train-val_1min_aalesund_from_start/img1/000727.jpg: 1088x1920 (no detections), 3.1ms\n",
      "Speed: 2.3ms preprocess, 2.3ms inference, 0.5ms postprocess per image at shape (1, 3, 1088, 1920)\n",
      "\n",
      "image 1/1 /datasets/tdt4265/other/rbk/1_train-val_1min_aalesund_from_start/img1/000728.jpg: 1088x1920 23 players, 2.4ms\n",
      "\n",
      "image 1/1 /datasets/tdt4265/other/rbk/1_train-val_1min_aalesund_from_start/img1/000728.jpg: 1088x1920 1 ball, 2.8ms\n",
      "Speed: 4.4ms preprocess, 2.4ms inference, 0.5ms postprocess per image at shape (1, 3, 1088, 1920)\n",
      "\n",
      "image 1/1 /datasets/tdt4265/other/rbk/1_train-val_1min_aalesund_from_start/img1/000729.jpg: 1088x1920 23 players, 2.3ms\n",
      "\n",
      "image 1/1 /datasets/tdt4265/other/rbk/1_train-val_1min_aalesund_from_start/img1/000729.jpg: 1088x1920 1 ball, 2.8ms\n",
      "Speed: 2.3ms preprocess, 2.3ms inference, 0.5ms postprocess per image at shape (1, 3, 1088, 1920)\n",
      "\n",
      "image 1/1 /datasets/tdt4265/other/rbk/1_train-val_1min_aalesund_from_start/img1/000730.jpg: 1088x1920 23 players, 2.3ms\n",
      "\n",
      "image 1/1 /datasets/tdt4265/other/rbk/1_train-val_1min_aalesund_from_start/img1/000730.jpg: 1088x1920 1 ball, 2.5ms\n",
      "Speed: 3.2ms preprocess, 2.3ms inference, 0.6ms postprocess per image at shape (1, 3, 1088, 1920)\n",
      "\n",
      "image 1/1 /datasets/tdt4265/other/rbk/1_train-val_1min_aalesund_from_start/img1/000731.jpg: 1088x1920 23 players, 2.3ms\n",
      "\n",
      "image 1/1 /datasets/tdt4265/other/rbk/1_train-val_1min_aalesund_from_start/img1/000731.jpg: 1088x1920 1 ball, 2.6ms\n",
      "Speed: 3.2ms preprocess, 2.3ms inference, 0.6ms postprocess per image at shape (1, 3, 1088, 1920)\n",
      "\n",
      "image 1/1 /datasets/tdt4265/other/rbk/1_train-val_1min_aalesund_from_start/img1/000732.jpg: 1088x1920 23 players, 2.5ms\n",
      "\n",
      "image 1/1 /datasets/tdt4265/other/rbk/1_train-val_1min_aalesund_from_start/img1/000732.jpg: 1088x1920 1 ball, 2.3ms\n",
      "Speed: 3.3ms preprocess, 2.5ms inference, 0.5ms postprocess per image at shape (1, 3, 1088, 1920)\n",
      "\n",
      "image 1/1 /datasets/tdt4265/other/rbk/1_train-val_1min_aalesund_from_start/img1/000733.jpg: 1088x1920 23 players, 2.5ms\n",
      "\n",
      "image 1/1 /datasets/tdt4265/other/rbk/1_train-val_1min_aalesund_from_start/img1/000733.jpg: 1088x1920 1 ball, 2.4ms\n",
      "Speed: 3.3ms preprocess, 2.5ms inference, 0.5ms postprocess per image at shape (1, 3, 1088, 1920)\n",
      "\n",
      "image 1/1 /datasets/tdt4265/other/rbk/1_train-val_1min_aalesund_from_start/img1/000734.jpg: 1088x1920 23 players, 2.3ms\n",
      "\n",
      "image 1/1 /datasets/tdt4265/other/rbk/1_train-val_1min_aalesund_from_start/img1/000734.jpg: 1088x1920 1 ball, 2.4ms\n",
      "Speed: 3.2ms preprocess, 2.3ms inference, 0.5ms postprocess per image at shape (1, 3, 1088, 1920)\n",
      "\n",
      "image 1/1 /datasets/tdt4265/other/rbk/1_train-val_1min_aalesund_from_start/img1/000735.jpg: 1088x1920 23 players, 2.3ms\n",
      "\n",
      "image 1/1 /datasets/tdt4265/other/rbk/1_train-val_1min_aalesund_from_start/img1/000735.jpg: 1088x1920 1 ball, 2.4ms\n",
      "Speed: 3.3ms preprocess, 2.3ms inference, 0.5ms postprocess per image at shape (1, 3, 1088, 1920)\n",
      "\n",
      "image 1/1 /datasets/tdt4265/other/rbk/1_train-val_1min_aalesund_from_start/img1/000736.jpg: 1088x1920 23 players, 3.1ms\n",
      "\n",
      "image 1/1 /datasets/tdt4265/other/rbk/1_train-val_1min_aalesund_from_start/img1/000736.jpg: 1088x1920 1 ball, 2.5ms\n",
      "Speed: 3.9ms preprocess, 3.1ms inference, 0.6ms postprocess per image at shape (1, 3, 1088, 1920)\n",
      "\n",
      "image 1/1 /datasets/tdt4265/other/rbk/1_train-val_1min_aalesund_from_start/img1/000737.jpg: 1088x1920 23 players, 2.3ms\n",
      "\n",
      "image 1/1 /datasets/tdt4265/other/rbk/1_train-val_1min_aalesund_from_start/img1/000737.jpg: 1088x1920 1 ball, 2.5ms\n",
      "Speed: 2.3ms preprocess, 2.3ms inference, 0.5ms postprocess per image at shape (1, 3, 1088, 1920)\n",
      "\n",
      "image 1/1 /datasets/tdt4265/other/rbk/1_train-val_1min_aalesund_from_start/img1/000738.jpg: 1088x1920 23 players, 2.3ms\n",
      "\n",
      "image 1/1 /datasets/tdt4265/other/rbk/1_train-val_1min_aalesund_from_start/img1/000738.jpg: 1088x1920 1 ball, 2.5ms\n",
      "Speed: 3.3ms preprocess, 2.3ms inference, 0.5ms postprocess per image at shape (1, 3, 1088, 1920)\n",
      "\n",
      "image 1/1 /datasets/tdt4265/other/rbk/1_train-val_1min_aalesund_from_start/img1/000739.jpg: 1088x1920 23 players, 2.3ms\n",
      "\n",
      "image 1/1 /datasets/tdt4265/other/rbk/1_train-val_1min_aalesund_from_start/img1/000739.jpg: 1088x1920 1 ball, 2.8ms\n",
      "Speed: 2.3ms preprocess, 2.3ms inference, 0.5ms postprocess per image at shape (1, 3, 1088, 1920)\n",
      "\n",
      "image 1/1 /datasets/tdt4265/other/rbk/1_train-val_1min_aalesund_from_start/img1/000740.jpg: 1088x1920 23 players, 2.3ms\n",
      "\n",
      "image 1/1 /datasets/tdt4265/other/rbk/1_train-val_1min_aalesund_from_start/img1/000740.jpg: 1088x1920 1 ball, 2.5ms\n",
      "Speed: 3.3ms preprocess, 2.3ms inference, 0.5ms postprocess per image at shape (1, 3, 1088, 1920)\n",
      "\n",
      "image 1/1 /datasets/tdt4265/other/rbk/1_train-val_1min_aalesund_from_start/img1/000741.jpg: 1088x1920 23 players, 2.4ms\n",
      "\n",
      "image 1/1 /datasets/tdt4265/other/rbk/1_train-val_1min_aalesund_from_start/img1/000741.jpg: 1088x1920 1 ball, 2.4ms\n",
      "Speed: 3.3ms preprocess, 2.4ms inference, 0.5ms postprocess per image at shape (1, 3, 1088, 1920)\n",
      "\n",
      "image 1/1 /datasets/tdt4265/other/rbk/1_train-val_1min_aalesund_from_start/img1/000742.jpg: 1088x1920 23 players, 2.3ms\n",
      "\n",
      "image 1/1 /datasets/tdt4265/other/rbk/1_train-val_1min_aalesund_from_start/img1/000742.jpg: 1088x1920 1 ball, 2.3ms\n",
      "Speed: 3.2ms preprocess, 2.3ms inference, 0.5ms postprocess per image at shape (1, 3, 1088, 1920)\n",
      "\n",
      "image 1/1 /datasets/tdt4265/other/rbk/1_train-val_1min_aalesund_from_start/img1/000743.jpg: 1088x1920 23 players, 3.1ms\n",
      "\n",
      "image 1/1 /datasets/tdt4265/other/rbk/1_train-val_1min_aalesund_from_start/img1/000743.jpg: 1088x1920 1 ball, 2.3ms\n",
      "Speed: 3.7ms preprocess, 3.1ms inference, 1.0ms postprocess per image at shape (1, 3, 1088, 1920)\n",
      "\n",
      "image 1/1 /datasets/tdt4265/other/rbk/1_train-val_1min_aalesund_from_start/img1/000744.jpg: 1088x1920 23 players, 2.3ms\n",
      "\n",
      "image 1/1 /datasets/tdt4265/other/rbk/1_train-val_1min_aalesund_from_start/img1/000744.jpg: 1088x1920 1 ball, 2.6ms\n",
      "Speed: 3.3ms preprocess, 2.3ms inference, 0.7ms postprocess per image at shape (1, 3, 1088, 1920)\n",
      "\n",
      "image 1/1 /datasets/tdt4265/other/rbk/1_train-val_1min_aalesund_from_start/img1/000745.jpg: 1088x1920 23 players, 2.5ms\n",
      "\n",
      "image 1/1 /datasets/tdt4265/other/rbk/1_train-val_1min_aalesund_from_start/img1/000745.jpg: 1088x1920 1 ball, 2.3ms\n",
      "Speed: 3.2ms preprocess, 2.5ms inference, 0.5ms postprocess per image at shape (1, 3, 1088, 1920)\n",
      "\n",
      "image 1/1 /datasets/tdt4265/other/rbk/1_train-val_1min_aalesund_from_start/img1/000746.jpg: 1088x1920 23 players, 2.5ms\n",
      "\n",
      "image 1/1 /datasets/tdt4265/other/rbk/1_train-val_1min_aalesund_from_start/img1/000746.jpg: 1088x1920 1 ball, 2.3ms\n",
      "Speed: 3.2ms preprocess, 2.5ms inference, 0.5ms postprocess per image at shape (1, 3, 1088, 1920)\n",
      "\n",
      "image 1/1 /datasets/tdt4265/other/rbk/1_train-val_1min_aalesund_from_start/img1/000747.jpg: 1088x1920 23 players, 2.3ms\n",
      "\n",
      "image 1/1 /datasets/tdt4265/other/rbk/1_train-val_1min_aalesund_from_start/img1/000747.jpg: 1088x1920 1 ball, 3.0ms\n",
      "Speed: 2.3ms preprocess, 2.3ms inference, 0.6ms postprocess per image at shape (1, 3, 1088, 1920)\n",
      "\n",
      "image 1/1 /datasets/tdt4265/other/rbk/1_train-val_1min_aalesund_from_start/img1/000748.jpg: 1088x1920 23 players, 2.3ms\n",
      "\n",
      "image 1/1 /datasets/tdt4265/other/rbk/1_train-val_1min_aalesund_from_start/img1/000748.jpg: 1088x1920 1 ball, 2.4ms\n",
      "Speed: 3.3ms preprocess, 2.3ms inference, 0.5ms postprocess per image at shape (1, 3, 1088, 1920)\n",
      "\n",
      "image 1/1 /datasets/tdt4265/other/rbk/1_train-val_1min_aalesund_from_start/img1/000749.jpg: 1088x1920 23 players, 2.3ms\n",
      "\n",
      "image 1/1 /datasets/tdt4265/other/rbk/1_train-val_1min_aalesund_from_start/img1/000749.jpg: 1088x1920 1 ball, 2.3ms\n",
      "Speed: 3.2ms preprocess, 2.3ms inference, 0.5ms postprocess per image at shape (1, 3, 1088, 1920)\n",
      "\n",
      "image 1/1 /datasets/tdt4265/other/rbk/1_train-val_1min_aalesund_from_start/img1/000750.jpg: 1088x1920 23 players, 2.6ms\n",
      "\n",
      "image 1/1 /datasets/tdt4265/other/rbk/1_train-val_1min_aalesund_from_start/img1/000750.jpg: 1088x1920 1 ball, 2.4ms\n",
      "Speed: 4.2ms preprocess, 2.6ms inference, 0.5ms postprocess per image at shape (1, 3, 1088, 1920)\n",
      "\n",
      "image 1/1 /datasets/tdt4265/other/rbk/1_train-val_1min_aalesund_from_start/img1/000751.jpg: 1088x1920 23 players, 2.6ms\n",
      "\n",
      "image 1/1 /datasets/tdt4265/other/rbk/1_train-val_1min_aalesund_from_start/img1/000751.jpg: 1088x1920 1 ball, 2.8ms\n",
      "Speed: 3.3ms preprocess, 2.6ms inference, 0.5ms postprocess per image at shape (1, 3, 1088, 1920)\n",
      "\n",
      "image 1/1 /datasets/tdt4265/other/rbk/1_train-val_1min_aalesund_from_start/img1/000752.jpg: 1088x1920 23 players, 2.5ms\n",
      "\n",
      "image 1/1 /datasets/tdt4265/other/rbk/1_train-val_1min_aalesund_from_start/img1/000752.jpg: 1088x1920 1 ball, 2.4ms\n",
      "Speed: 3.3ms preprocess, 2.5ms inference, 0.6ms postprocess per image at shape (1, 3, 1088, 1920)\n",
      "\n",
      "image 1/1 /datasets/tdt4265/other/rbk/1_train-val_1min_aalesund_from_start/img1/000753.jpg: 1088x1920 23 players, 2.8ms\n",
      "\n",
      "image 1/1 /datasets/tdt4265/other/rbk/1_train-val_1min_aalesund_from_start/img1/000753.jpg: 1088x1920 1 ball, 2.4ms\n",
      "Speed: 2.4ms preprocess, 2.8ms inference, 0.6ms postprocess per image at shape (1, 3, 1088, 1920)\n",
      "\n",
      "image 1/1 /datasets/tdt4265/other/rbk/1_train-val_1min_aalesund_from_start/img1/000754.jpg: 1088x1920 23 players, 2.6ms\n",
      "\n",
      "image 1/1 /datasets/tdt4265/other/rbk/1_train-val_1min_aalesund_from_start/img1/000754.jpg: 1088x1920 1 ball, 2.4ms\n",
      "Speed: 3.2ms preprocess, 2.6ms inference, 0.5ms postprocess per image at shape (1, 3, 1088, 1920)\n",
      "\n",
      "image 1/1 /datasets/tdt4265/other/rbk/1_train-val_1min_aalesund_from_start/img1/000755.jpg: 1088x1920 23 players, 2.3ms\n",
      "\n",
      "image 1/1 /datasets/tdt4265/other/rbk/1_train-val_1min_aalesund_from_start/img1/000755.jpg: 1088x1920 1 ball, 2.5ms\n",
      "Speed: 3.3ms preprocess, 2.3ms inference, 0.5ms postprocess per image at shape (1, 3, 1088, 1920)\n",
      "\n",
      "image 1/1 /datasets/tdt4265/other/rbk/1_train-val_1min_aalesund_from_start/img1/000756.jpg: 1088x1920 23 players, 2.5ms\n",
      "\n",
      "image 1/1 /datasets/tdt4265/other/rbk/1_train-val_1min_aalesund_from_start/img1/000756.jpg: 1088x1920 (no detections), 2.4ms\n",
      "Speed: 3.2ms preprocess, 2.5ms inference, 0.5ms postprocess per image at shape (1, 3, 1088, 1920)\n",
      "\n",
      "image 1/1 /datasets/tdt4265/other/rbk/1_train-val_1min_aalesund_from_start/img1/000757.jpg: 1088x1920 23 players, 3.2ms\n",
      "\n",
      "image 1/1 /datasets/tdt4265/other/rbk/1_train-val_1min_aalesund_from_start/img1/000757.jpg: 1088x1920 1 ball, 2.4ms\n",
      "Speed: 2.8ms preprocess, 3.2ms inference, 0.7ms postprocess per image at shape (1, 3, 1088, 1920)\n",
      "\n",
      "image 1/1 /datasets/tdt4265/other/rbk/1_train-val_1min_aalesund_from_start/img1/000758.jpg: 1088x1920 23 players, 2.8ms\n",
      "\n",
      "image 1/1 /datasets/tdt4265/other/rbk/1_train-val_1min_aalesund_from_start/img1/000758.jpg: 1088x1920 1 ball, 2.6ms\n",
      "Speed: 3.3ms preprocess, 2.8ms inference, 0.6ms postprocess per image at shape (1, 3, 1088, 1920)\n",
      "\n",
      "image 1/1 /datasets/tdt4265/other/rbk/1_train-val_1min_aalesund_from_start/img1/000759.jpg: 1088x1920 23 players, 2.3ms\n",
      "\n",
      "image 1/1 /datasets/tdt4265/other/rbk/1_train-val_1min_aalesund_from_start/img1/000759.jpg: 1088x1920 1 ball, 2.8ms\n",
      "Speed: 3.3ms preprocess, 2.3ms inference, 0.5ms postprocess per image at shape (1, 3, 1088, 1920)\n",
      "\n",
      "image 1/1 /datasets/tdt4265/other/rbk/1_train-val_1min_aalesund_from_start/img1/000760.jpg: 1088x1920 23 players, 2.5ms\n",
      "\n",
      "image 1/1 /datasets/tdt4265/other/rbk/1_train-val_1min_aalesund_from_start/img1/000760.jpg: 1088x1920 1 ball, 2.3ms\n",
      "Speed: 3.3ms preprocess, 2.5ms inference, 0.5ms postprocess per image at shape (1, 3, 1088, 1920)\n",
      "\n",
      "image 1/1 /datasets/tdt4265/other/rbk/1_train-val_1min_aalesund_from_start/img1/000761.jpg: 1088x1920 23 players, 2.3ms\n",
      "\n",
      "image 1/1 /datasets/tdt4265/other/rbk/1_train-val_1min_aalesund_from_start/img1/000761.jpg: 1088x1920 (no detections), 2.7ms\n",
      "Speed: 2.3ms preprocess, 2.3ms inference, 0.6ms postprocess per image at shape (1, 3, 1088, 1920)\n",
      "\n",
      "image 1/1 /datasets/tdt4265/other/rbk/1_train-val_1min_aalesund_from_start/img1/000762.jpg: 1088x1920 23 players, 2.3ms\n",
      "\n",
      "image 1/1 /datasets/tdt4265/other/rbk/1_train-val_1min_aalesund_from_start/img1/000762.jpg: 1088x1920 1 ball, 2.5ms\n"
     ]
    }
   ],
   "source": [
    "# Blender frames fra 2 modeller\n",
    "\n",
    "for frame_path in frame_paths:\n",
    "    # Hent resultatene fra begge modellene for hver frame\n",
    "    for result1, result2 in zip(model_players.track(frame_path, persist=True, stream=True, line_width=1),\n",
    "                                model_ball.track(frame_path, persist=True, stream=True, line_width=1)):\n",
    "        # Tegn annotasjoner fra begge modellene på samme bilde\n",
    "        annotated_frame1 = result1.plot(font_size=1, line_width=1)\n",
    "        annotated_frame2 = result2.plot(font_size=1, line_width=1)\n",
    "\n",
    "        combined_frame = cv2.addWeighted(annotated_frame1, 0.5, annotated_frame2, 0.5, 0)  \n",
    "\n",
    "        # Vis det annoterte bildet med resultater fra begge modeller\n",
    "        cv2.imshow('Combined frame', combined_frame)\n",
    "        \n",
    "        # Vent på et tastetrykk i 1 millisekund og sjekk om det er 'ESC'\n",
    "        key = cv2.waitKey(1) & 0xFF\n",
    "        if key == 27:  # 27 er ASCII-verdien for 'ESC'\n",
    "            break\n",
    "\n",
    "    if key == 27:  # Kontroller igjen om 'ESC' ble trykket for å bryte ut av den ytre løkken\n",
    "        break\n",
    "\n",
    "cv2.destroyAllWindows()  # Lukker alle OpenCV-vinduene\n"
   ]
  },
  {
   "cell_type": "code",
   "execution_count": 26,
   "metadata": {},
   "outputs": [
    {
     "name": "stdout",
     "output_type": "stream",
     "text": [
      "WARNING ⚠️ 'line_thickness' is deprecated and will be removed in 'ultralytics 8.299999999999999' in the future. Please use 'line_width' instead.\n",
      "\n",
      "image 1/1 /work/mbergst/TDT4265_Project/data_yolov8/1_train-val_1min_aalesund_from_start/images/all_frames/000001.jpg: 1088x1920 22 players, 4.5ms\n"
     ]
    },
    {
     "name": "stderr",
     "output_type": "stream",
     "text": [
      "SupervisionWarnings: BoxAnnotator is deprecated: `BoxAnnotator` is deprecated and will be removed in `supervision-0.22.0`. Use `BoundingBoxAnnotator` and `LabelAnnotator` instead\n"
     ]
    },
    {
     "ename": "error",
     "evalue": "OpenCV(4.9.0) /io/opencv/modules/highgui/src/window.cpp:1272: error: (-2:Unspecified error) The function is not implemented. Rebuild the library with Windows, GTK+ 2.x or Cocoa support. If you are on Ubuntu or Debian, install libgtk2.0-dev and pkg-config, then re-run cmake or configure script in function 'cvShowImage'\n",
     "output_type": "error",
     "traceback": [
      "\u001b[0;31m---------------------------------------------------------------------------\u001b[0m",
      "\u001b[0;31merror\u001b[0m                                     Traceback (most recent call last)",
      "Cell \u001b[0;32mIn[26], line 17\u001b[0m\n\u001b[1;32m     13\u001b[0m         detections \u001b[38;5;241m=\u001b[39m sv\u001b[38;5;241m.\u001b[39mDetections\u001b[38;5;241m.\u001b[39mfrom_ultralytics(result)\n\u001b[1;32m     16\u001b[0m         frame \u001b[38;5;241m=\u001b[39m boxann\u001b[38;5;241m.\u001b[39mannotate(scene\u001b[38;5;241m=\u001b[39mframe, detections\u001b[38;5;241m=\u001b[39mdetections)\n\u001b[0;32m---> 17\u001b[0m         \u001b[43mcv2\u001b[49m\u001b[38;5;241;43m.\u001b[39;49m\u001b[43mimshow\u001b[49m\u001b[43m(\u001b[49m\u001b[38;5;124;43m'\u001b[39;49m\u001b[38;5;124;43myolov8\u001b[39;49m\u001b[38;5;124;43m'\u001b[39;49m\u001b[43m,\u001b[49m\u001b[43m \u001b[49m\u001b[43mframe\u001b[49m\u001b[43m)\u001b[49m\n\u001b[1;32m     18\u001b[0m         cv2\u001b[38;5;241m.\u001b[39mwaitKey(\u001b[38;5;241m1\u001b[39m)  \u001b[38;5;66;03m# Venter en kort tid så bildet kan oppdateres\u001b[39;00m\n\u001b[1;32m     20\u001b[0m cv2\u001b[38;5;241m.\u001b[39mdestroyAllWindows()  \u001b[38;5;66;03m# Lukker alle OpenCV-vinduene\u001b[39;00m\n",
      "\u001b[0;31merror\u001b[0m: OpenCV(4.9.0) /io/opencv/modules/highgui/src/window.cpp:1272: error: (-2:Unspecified error) The function is not implemented. Rebuild the library with Windows, GTK+ 2.x or Cocoa support. If you are on Ubuntu or Debian, install libgtk2.0-dev and pkg-config, then re-run cmake or configure script in function 'cvShowImage'\n"
     ]
    }
   ],
   "source": [
    "# Object tracking with supervision\n",
    "\n",
    "boxann = sv.BoxAnnotator(\n",
    "    thickness=1,\n",
    "    text_thickness=1,\n",
    "    text_scale=0.5,\n",
    "    \n",
    ")\n",
    "\n",
    "for frame_path in frame_paths:\n",
    "    # model.track kan være en generator, så vi bruker en løkke for å hente resultatene\n",
    "    for result in model.track(frame_path, persist=True, stream=True, line_thickness=1):\n",
    "        frame = result.orig_img\n",
    "        \n",
    "        detections = sv.Detections.from_ultralytics(result)\n",
    "        \n",
    "\n",
    "        frame = boxann.annotate(scene=frame, detections=detections)\n",
    "        cv2.imshow('yolov8', frame)\n",
    "        cv2.waitKey(1)  # Venter en kort tid så bildet kan oppdateres\n",
    "\n",
    "cv2.destroyAllWindows()  # Lukker alle OpenCV-vinduene"
   ]
  },
  {
   "cell_type": "code",
   "execution_count": null,
   "metadata": {},
   "outputs": [
    {
     "name": "stdout",
     "output_type": "stream",
     "text": [
      "\n",
      "image 1/1 /work/mbergst/project/data_yolov8/1_train-val_1min_aalesund_from_start/images/all_frames/000001.jpg: 1088x1920 2 players, 3.2ms\n",
      "Speed: 21.6ms preprocess, 3.2ms inference, 0.6ms postprocess per image at shape (1, 3, 1088, 1920)\n"
     ]
    },
    {
     "ename": "error",
     "evalue": "OpenCV(4.9.0) :-1: error: (-5:Bad argument) in function 'rectangle'\n> Overload resolution failed:\n>  - img is not a numpy array, neither a scalar\n>  - Expected Ptr<cv::UMat> for argument 'img'\n>  - img is not a numpy array, neither a scalar\n>  - Expected Ptr<cv::UMat> for argument 'img'\n",
     "output_type": "error",
     "traceback": [
      "\u001b[0;31m---------------------------------------------------------------------------\u001b[0m",
      "\u001b[0;31merror\u001b[0m                                     Traceback (most recent call last)",
      "Cell \u001b[0;32mIn[24], line 6\u001b[0m\n\u001b[1;32m      4\u001b[0m ids \u001b[38;5;241m=\u001b[39m results[\u001b[38;5;241m0\u001b[39m]\u001b[38;5;241m.\u001b[39mboxes\u001b[38;5;241m.\u001b[39mid\u001b[38;5;241m.\u001b[39mcpu()\u001b[38;5;241m.\u001b[39mnumpy()\u001b[38;5;241m.\u001b[39mastype(\u001b[38;5;28mint\u001b[39m)\n\u001b[1;32m      5\u001b[0m \u001b[38;5;28;01mfor\u001b[39;00m box, \u001b[38;5;28mid\u001b[39m \u001b[38;5;129;01min\u001b[39;00m \u001b[38;5;28mzip\u001b[39m(boxes, ids):\n\u001b[0;32m----> 6\u001b[0m     \u001b[43mcv2\u001b[49m\u001b[38;5;241;43m.\u001b[39;49m\u001b[43mrectangle\u001b[49m\u001b[43m(\u001b[49m\u001b[43mframe\u001b[49m\u001b[43m,\u001b[49m\u001b[43m \u001b[49m\u001b[43m(\u001b[49m\u001b[43mbox\u001b[49m\u001b[43m[\u001b[49m\u001b[38;5;241;43m0\u001b[39;49m\u001b[43m]\u001b[49m\u001b[43m,\u001b[49m\u001b[43m \u001b[49m\u001b[43mbox\u001b[49m\u001b[43m[\u001b[49m\u001b[38;5;241;43m1\u001b[39;49m\u001b[43m]\u001b[49m\u001b[43m)\u001b[49m\u001b[43m,\u001b[49m\u001b[43m \u001b[49m\u001b[43m(\u001b[49m\u001b[43mbox\u001b[49m\u001b[43m[\u001b[49m\u001b[38;5;241;43m2\u001b[39;49m\u001b[43m]\u001b[49m\u001b[43m,\u001b[49m\u001b[43m \u001b[49m\u001b[43mbox\u001b[49m\u001b[43m[\u001b[49m\u001b[38;5;241;43m3\u001b[39;49m\u001b[43m]\u001b[49m\u001b[43m)\u001b[49m\u001b[43m,\u001b[49m\u001b[43m \u001b[49m\u001b[43m(\u001b[49m\u001b[38;5;241;43m0\u001b[39;49m\u001b[43m,\u001b[49m\u001b[43m \u001b[49m\u001b[38;5;241;43m255\u001b[39;49m\u001b[43m,\u001b[49m\u001b[43m \u001b[49m\u001b[38;5;241;43m0\u001b[39;49m\u001b[43m)\u001b[49m\u001b[43m,\u001b[49m\u001b[43m \u001b[49m\u001b[38;5;241;43m2\u001b[39;49m\u001b[43m)\u001b[49m\n\u001b[1;32m      7\u001b[0m     cv2\u001b[38;5;241m.\u001b[39mputText(\n\u001b[1;32m      8\u001b[0m         frame,\n\u001b[1;32m      9\u001b[0m         \u001b[38;5;124mf\u001b[39m\u001b[38;5;124m\"\u001b[39m\u001b[38;5;124mId \u001b[39m\u001b[38;5;132;01m{\u001b[39;00m\u001b[38;5;28mid\u001b[39m\u001b[38;5;132;01m}\u001b[39;00m\u001b[38;5;124m\"\u001b[39m,\n\u001b[0;32m   (...)\u001b[0m\n\u001b[1;32m     14\u001b[0m         \u001b[38;5;241m2\u001b[39m,\n\u001b[1;32m     15\u001b[0m     )\n\u001b[1;32m     16\u001b[0m cv2\u001b[38;5;241m.\u001b[39mimshow(\u001b[38;5;124m\"\u001b[39m\u001b[38;5;124mframe\u001b[39m\u001b[38;5;124m\"\u001b[39m, frame)\n",
      "\u001b[0;31merror\u001b[0m: OpenCV(4.9.0) :-1: error: (-5:Bad argument) in function 'rectangle'\n> Overload resolution failed:\n>  - img is not a numpy array, neither a scalar\n>  - Expected Ptr<cv::UMat> for argument 'img'\n>  - img is not a numpy array, neither a scalar\n>  - Expected Ptr<cv::UMat> for argument 'img'\n"
     ]
    }
   ],
   "source": [
    "# Not working Object tracking\n",
    "\n",
    "for frame in frame_paths:\n",
    "    results = model.track(frame, persist=True)\n",
    "    boxes = results[0].boxes.xyxy.cpu().numpy().astype(int)\n",
    "    ids = results[0].boxes.id.cpu().numpy().astype(int)\n",
    "    for box, id in zip(boxes, ids):\n",
    "        cv2.rectangle(frame, (box[0], box[1]), (box[2], box[3]), (0, 255, 0), 2)\n",
    "        cv2.putText(\n",
    "            frame,\n",
    "            f\"Id {id}\",\n",
    "            (box[0], box[1]),\n",
    "            cv2.FONT_HERSHEY_SIMPLEX,\n",
    "            1,\n",
    "            (0, 0, 255),\n",
    "            2,\n",
    "        )\n",
    "    cv2.imshow(\"frame\", frame)\n",
    "    if cv2.waitKey(1) & 0xFF == ord(\"q\"):\n",
    "        break"
   ]
  }
 ],
 "metadata": {
  "kernelspec": {
   "display_name": "Python 3",
   "language": "python",
   "name": "python3"
  },
  "language_info": {
   "codemirror_mode": {
    "name": "ipython",
    "version": 3
   },
   "file_extension": ".py",
   "mimetype": "text/x-python",
   "name": "python",
   "nbconvert_exporter": "python",
   "pygments_lexer": "ipython3",
   "version": "3.10.12"
  }
 },
 "nbformat": 4,
 "nbformat_minor": 2
}
