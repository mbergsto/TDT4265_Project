{
 "cells": [
  {
   "cell_type": "code",
   "execution_count": 1,
   "metadata": {},
   "outputs": [],
   "source": [
    "from ultralytics import YOLO\n",
    "import os\n",
    "import random\n",
    "import cv2\n",
    "import numpy as np\n",
    "import shutil\n",
    "import supervision as sv\n",
    "import cv2\n",
    "import matplotlib.pyplot as plt\n",
    "\n",
    "\n"
   ]
  },
  {
   "cell_type": "code",
   "execution_count": 2,
   "metadata": {},
   "outputs": [],
   "source": [
    "# Choose dataset 1 or 2:\n",
    "dataset = 1  # 1 or 2\n",
    "\n",
    "if dataset == 1:\n",
    "    data_folder = \"1_train-val_1min_aalesund_from_start/\"\n",
    "    yaml_file_combined = \"yaml_files/data_1.yaml\"\n",
    "    yaml_file_ball = \"yaml_files/ball_1.yaml\"\n",
    "    yaml_file_players = \"yaml_files/player_1.yaml\"\n",
    "\n",
    "else:\n",
    "    data_folder = \"2_train-val_1min_after_goal/\"\n",
    "    yaml_file_combined = \"yaml_files/data_2.yaml\"\n",
    "    yaml_file_ball = \"yaml_files/ball_2.yaml\"\n",
    "    yaml_file_players = \"yaml_files/player_2.yaml\"\n",
    "\n",
    "test_combined = \"yaml_files/test_files/test_combined.yaml\"\n",
    "test_ball = \"yaml_files/test_files/test_ball.yaml\"\n",
    "test_players = \"yaml_files/test_files/test_players.yaml\"\n",
    "\n",
    "img_width = 1920  \n",
    "img_height = 1080  "
   ]
  },
  {
   "cell_type": "code",
   "execution_count": 3,
   "metadata": {},
   "outputs": [],
   "source": [
    "# Generate shuffled txt and img files for training and validation, 80% training and 20% validation\n",
    "\n",
    "from scripts.shuffler import generate_shuffled_txt_img_files_for_train_val\n",
    "from scripts.ball_dataset import generate_ball_dataset\n",
    "from scripts.player_dataset import generate_player_dataset\n",
    "\n",
    "object_path = f\"data_yolov8/object_datasets/{data_folder}/\"  \n",
    "ball_path = f\"data_yolov8/ball_datasets/{data_folder}/\"  \n",
    "player_path = f\"data_yolov8/player_datasets/{data_folder}/\"\n",
    "text_file_path = f\"/datasets/tdt4265/other/rbk/{data_folder}/gt/gt.txt\"  \n",
    "all_images_path = f\"/datasets/tdt4265/other/rbk/{data_folder}/img1\"\n",
    "\n",
    "\n",
    "\n",
    "generate_shuffled_txt_img_files_for_train_val(text_file_path, img_width, img_height, object_path, all_images_path)\n",
    "generate_ball_dataset(text_file_path, img_width, img_height, ball_path, all_images_path)\n",
    "generate_player_dataset(text_file_path, img_width, img_height, player_path, all_images_path)\n"
   ]
  },
  {
   "cell_type": "code",
   "execution_count": 4,
   "metadata": {},
   "outputs": [],
   "source": [
    "# Generate test txt and img files\n",
    "\n",
    "from scripts.test_dataset import generate_txt_img_files_for_test\n",
    "\n",
    "object_path = f\"data_yolov8/object_datasets/3_test_1min_hamkam_from_start/\"  \n",
    "ball_path = f\"data_yolov8/ball_datasets/3_test_1min_hamkam_from_start/\"  \n",
    "player_path = f\"data_yolov8/player_datasets/3_test_1min_hamkam_from_start/\" \n",
    "text_file_path = \"/datasets/tdt4265/other/rbk/3_test_1min_hamkam_from_start/gt/gt.txt\"  \n",
    "all_images_path = \"/datasets/tdt4265/other/rbk/3_test_1min_hamkam_from_start/img1/\"\n",
    "\n",
    "generate_txt_img_files_for_test(text_file_path, img_width, img_height, object_path, all_images_path)\n",
    "generate_txt_img_files_for_test(text_file_path, img_width, img_height, ball_path, all_images_path, type='ball')\n",
    "generate_txt_img_files_for_test(text_file_path, img_width, img_height, player_path, all_images_path, type='player')"
   ]
  },
  {
   "cell_type": "code",
   "execution_count": 6,
   "metadata": {},
   "outputs": [],
   "source": [
    "# Last inn sist trente modell\n",
    "\n",
    "def find_latest_model_with_best(base_path, type):\n",
    "    detect_path = os.path.join(base_path, 'runs/detect', type)\n",
    "    training_sessions = [os.path.join(detect_path, d) for d in os.listdir(detect_path) if os.path.isdir(os.path.join(detect_path, d))]\n",
    "    \n",
    "    # Liste for å holde stiene til alle 'best.pt'-filer\n",
    "    best_model_paths = []\n",
    "\n",
    "    for session in training_sessions:\n",
    "        best_model_path = os.path.join(session, 'weights', 'best.pt')\n",
    "        if os.path.exists(best_model_path):\n",
    "            best_model_paths.append((best_model_path, os.path.getmtime(best_model_path)))\n",
    "\n",
    "    if not best_model_paths:\n",
    "        print(\"Ingen 'best.pt' fil funnet i noen av treningsøktene.\")\n",
    "        return None\n",
    "    \n",
    "    # Sorter basert på modifiseringstid og returner den nyeste\n",
    "    best_model_paths.sort(key=lambda x: x[1], reverse=True)\n",
    "    return best_model_paths[0][0]\n",
    "\n",
    "\n",
    "base_path = '/work/mbergst/TDT4265_Project' \n",
    "\n",
    "#model_combined = YOLO(find_latest_model_with_best(base_path, 'combined'))\n",
    "model_ball = YOLO(find_latest_model_with_best(base_path, 'ball'))\n",
    "model_players = YOLO(find_latest_model_with_best(base_path, 'player'))\n",
    "#model = YOLO('yolov8n.pt')\n"
   ]
  },
  {
   "cell_type": "code",
   "execution_count": 5,
   "metadata": {},
   "outputs": [
    {
     "name": "stdout",
     "output_type": "stream",
     "text": [
      "New https://pypi.org/project/ultralytics/8.2.5 available 😃 Update with 'pip install -U ultralytics'\n",
      "Ultralytics YOLOv8.1.42 🚀 Python-3.10.12 torch-2.3.0+cu121 CUDA:0 (NVIDIA GeForce RTX 4090, 24195MiB)\n",
      "\u001b[34m\u001b[1mengine/trainer: \u001b[0mtask=detect, mode=train, model=yolov8n.pt, data=yaml_files/data_1.yaml, epochs=50, time=None, patience=100, batch=14, imgsz=(1920, 1080), save=True, save_period=-1, cache=False, device=None, workers=8, project=/work/mbergst/TDT4265_Project/runs/detect/combined, name=train11, exist_ok=False, pretrained=True, optimizer=auto, verbose=True, seed=0, deterministic=True, single_cls=False, rect=False, cos_lr=False, close_mosaic=10, resume=False, amp=True, fraction=1.0, profile=False, freeze=None, multi_scale=False, overlap_mask=True, mask_ratio=4, dropout=0.0, val=True, split=val, save_json=False, save_hybrid=False, conf=None, iou=0.7, max_det=300, half=False, dnn=False, plots=True, source=None, vid_stride=1, stream_buffer=False, visualize=False, augment=False, agnostic_nms=False, classes=None, retina_masks=False, embed=None, show=False, save_frames=False, save_txt=False, save_conf=False, save_crop=False, show_labels=True, show_conf=True, show_boxes=True, line_width=None, format=torchscript, keras=False, optimize=False, int8=False, dynamic=False, simplify=False, opset=None, workspace=4, nms=False, lr0=0.01, lrf=0.01, momentum=0.937, weight_decay=0.0005, warmup_epochs=3.0, warmup_momentum=0.8, warmup_bias_lr=0.1, box=7.5, cls=0.5, dfl=1.5, pose=12.0, kobj=1.0, label_smoothing=0.0, nbs=64, hsv_h=0.015, hsv_s=0.7, hsv_v=0.4, degrees=0.0, translate=0.1, scale=0.5, shear=0.0, perspective=0.0, flipud=0.0, fliplr=0.5, bgr=0.0, mosaic=1.0, mixup=0.0, copy_paste=0.0, auto_augment=randaugment, erasing=0.4, crop_fraction=1.0, cfg=None, tracker=botsort.yaml, save_dir=/work/mbergst/TDT4265_Project/runs/detect/combined/train11\n",
      "Overriding model.yaml nc=80 with nc=2\n",
      "\n",
      "                   from  n    params  module                                       arguments                     \n",
      "  0                  -1  1       464  ultralytics.nn.modules.conv.Conv             [3, 16, 3, 2]                 \n",
      "  1                  -1  1      4672  ultralytics.nn.modules.conv.Conv             [16, 32, 3, 2]                \n",
      "  2                  -1  1      7360  ultralytics.nn.modules.block.C2f             [32, 32, 1, True]             \n",
      "  3                  -1  1     18560  ultralytics.nn.modules.conv.Conv             [32, 64, 3, 2]                \n",
      "  4                  -1  2     49664  ultralytics.nn.modules.block.C2f             [64, 64, 2, True]             \n",
      "  5                  -1  1     73984  ultralytics.nn.modules.conv.Conv             [64, 128, 3, 2]               \n",
      "  6                  -1  2    197632  ultralytics.nn.modules.block.C2f             [128, 128, 2, True]           \n",
      "  7                  -1  1    295424  ultralytics.nn.modules.conv.Conv             [128, 256, 3, 2]              \n",
      "  8                  -1  1    460288  ultralytics.nn.modules.block.C2f             [256, 256, 1, True]           \n",
      "  9                  -1  1    164608  ultralytics.nn.modules.block.SPPF            [256, 256, 5]                 \n",
      " 10                  -1  1         0  torch.nn.modules.upsampling.Upsample         [None, 2, 'nearest']          \n",
      " 11             [-1, 6]  1         0  ultralytics.nn.modules.conv.Concat           [1]                           \n",
      " 12                  -1  1    148224  ultralytics.nn.modules.block.C2f             [384, 128, 1]                 \n",
      " 13                  -1  1         0  torch.nn.modules.upsampling.Upsample         [None, 2, 'nearest']          \n",
      " 14             [-1, 4]  1         0  ultralytics.nn.modules.conv.Concat           [1]                           \n",
      " 15                  -1  1     37248  ultralytics.nn.modules.block.C2f             [192, 64, 1]                  \n",
      " 16                  -1  1     36992  ultralytics.nn.modules.conv.Conv             [64, 64, 3, 2]                \n",
      " 17            [-1, 12]  1         0  ultralytics.nn.modules.conv.Concat           [1]                           \n",
      " 18                  -1  1    123648  ultralytics.nn.modules.block.C2f             [192, 128, 1]                 \n",
      " 19                  -1  1    147712  ultralytics.nn.modules.conv.Conv             [128, 128, 3, 2]              \n",
      " 20             [-1, 9]  1         0  ultralytics.nn.modules.conv.Concat           [1]                           \n",
      " 21                  -1  1    493056  ultralytics.nn.modules.block.C2f             [384, 256, 1]                 \n",
      " 22        [15, 18, 21]  1    751702  ultralytics.nn.modules.head.Detect           [2, [64, 128, 256]]           \n",
      "Model summary: 225 layers, 3011238 parameters, 3011222 gradients, 8.2 GFLOPs\n",
      "\n",
      "Transferred 319/355 items from pretrained weights\n",
      "\u001b[34m\u001b[1mTensorBoard: \u001b[0mStart with 'tensorboard --logdir /work/mbergst/TDT4265_Project/runs/detect/combined/train11', view at http://localhost:6006/\n",
      "Freezing layer 'model.22.dfl.conv.weight'\n",
      "\u001b[34m\u001b[1mAMP: \u001b[0mrunning Automatic Mixed Precision (AMP) checks with YOLOv8n...\n",
      "\u001b[34m\u001b[1mAMP: \u001b[0mchecks passed ✅\n",
      "WARNING ⚠️ updating to 'imgsz=1920'. 'train' and 'val' imgsz must be an integer, while 'predict' and 'export' imgsz may be a [h, w] list or an integer, i.e. 'yolo export imgsz=640,480' or 'yolo export imgsz=640'\n"
     ]
    },
    {
     "name": "stderr",
     "output_type": "stream",
     "text": [
      "UserWarning: Plan failed with a cudnnException: CUDNN_BACKEND_EXECUTION_PLAN_DESCRIPTOR: cudnnFinalize Descriptor Failed cudnn_status: CUDNN_STATUS_NOT_SUPPORTED (Triggered internally at ../aten/src/ATen/native/cudnn/Conv_v8.cpp:919.)\n",
      "\u001b[34m\u001b[1mtrain: \u001b[0mScanning /work/mbergst/TDT4265_Project/data_yolov8/object_datasets/1_train-val_1min_aalesund_from_start/labels/train... 1441 images, 0 backgrounds, 0 corrupt: 100%|██████████| 1441/1441 [00:00<00:00, 2463.73it/s]\n"
     ]
    },
    {
     "name": "stdout",
     "output_type": "stream",
     "text": [
      "\u001b[34m\u001b[1mtrain: \u001b[0mNew cache created: /work/mbergst/TDT4265_Project/data_yolov8/object_datasets/1_train-val_1min_aalesund_from_start/labels/train.cache\n"
     ]
    },
    {
     "name": "stderr",
     "output_type": "stream",
     "text": [
      "\u001b[34m\u001b[1mval: \u001b[0mScanning /work/mbergst/TDT4265_Project/data_yolov8/object_datasets/1_train-val_1min_aalesund_from_start/labels/val... 361 images, 0 backgrounds, 0 corrupt: 100%|██████████| 361/361 [00:00<00:00, 4614.20it/s]"
     ]
    },
    {
     "name": "stdout",
     "output_type": "stream",
     "text": [
      "\u001b[34m\u001b[1mval: \u001b[0mNew cache created: /work/mbergst/TDT4265_Project/data_yolov8/object_datasets/1_train-val_1min_aalesund_from_start/labels/val.cache\n"
     ]
    },
    {
     "name": "stderr",
     "output_type": "stream",
     "text": [
      "\n"
     ]
    },
    {
     "name": "stdout",
     "output_type": "stream",
     "text": [
      "Plotting labels to /work/mbergst/TDT4265_Project/runs/detect/combined/train11/labels.jpg... \n",
      "\u001b[34m\u001b[1moptimizer:\u001b[0m 'optimizer=auto' found, ignoring 'lr0=0.01' and 'momentum=0.937' and determining best 'optimizer', 'lr0' and 'momentum' automatically... \n",
      "\u001b[34m\u001b[1moptimizer:\u001b[0m AdamW(lr=0.001667, momentum=0.9) with parameter groups 57 weight(decay=0.0), 64 weight(decay=0.000546875), 63 bias(decay=0.0)\n",
      "\u001b[34m\u001b[1mTensorBoard: \u001b[0mmodel graph visualization added ✅\n",
      "Image sizes 1920 train, 1920 val\n",
      "Using 8 dataloader workers\n",
      "Logging results to \u001b[1m/work/mbergst/TDT4265_Project/runs/detect/combined/train11\u001b[0m\n",
      "Starting training for 50 epochs...\n",
      "\n",
      "      Epoch    GPU_mem   box_loss   cls_loss   dfl_loss  Instances       Size\n"
     ]
    },
    {
     "name": "stderr",
     "output_type": "stream",
     "text": [
      "  0%|          | 0/103 [00:00<?, ?it/s]UserWarning: Plan failed with a cudnnException: CUDNN_BACKEND_EXECUTION_PLAN_DESCRIPTOR: cudnnFinalize Descriptor Failed cudnn_status: CUDNN_STATUS_NOT_SUPPORTED (Triggered internally at ../aten/src/ATen/native/cudnn/Conv_v8.cpp:919.)\n",
      "       1/50        23G     0.8565      1.217     0.8543        527       1920: 100%|██████████| 103/103 [00:29<00:00,  3.53it/s]\n",
      "                 Class     Images  Instances      Box(P          R      mAP50  mAP50-95): 100%|██████████| 13/13 [00:05<00:00,  2.50it/s]"
     ]
    },
    {
     "name": "stdout",
     "output_type": "stream",
     "text": [
      "                   all        361       8361      0.997      0.593      0.742      0.551\n"
     ]
    },
    {
     "name": "stderr",
     "output_type": "stream",
     "text": [
      "\n"
     ]
    },
    {
     "name": "stdout",
     "output_type": "stream",
     "text": [
      "\n",
      "      Epoch    GPU_mem   box_loss   cls_loss   dfl_loss  Instances       Size\n"
     ]
    },
    {
     "name": "stderr",
     "output_type": "stream",
     "text": [
      "       2/50      19.3G     0.7291     0.6529     0.8316        424       1920: 100%|██████████| 103/103 [00:27<00:00,  3.70it/s]\n",
      "                 Class     Images  Instances      Box(P          R      mAP50  mAP50-95): 100%|██████████| 13/13 [00:02<00:00,  5.07it/s]"
     ]
    },
    {
     "name": "stdout",
     "output_type": "stream",
     "text": [
      "                   all        361       8361      0.923      0.761      0.816      0.579\n"
     ]
    },
    {
     "name": "stderr",
     "output_type": "stream",
     "text": [
      "\n"
     ]
    },
    {
     "name": "stdout",
     "output_type": "stream",
     "text": [
      "\n",
      "      Epoch    GPU_mem   box_loss   cls_loss   dfl_loss  Instances       Size\n"
     ]
    },
    {
     "name": "stderr",
     "output_type": "stream",
     "text": [
      "       3/50      23.5G     0.7356     0.5983     0.8337        554       1920: 100%|██████████| 103/103 [00:27<00:00,  3.72it/s]\n",
      "                 Class     Images  Instances      Box(P          R      mAP50  mAP50-95): 100%|██████████| 13/13 [00:01<00:00,  6.65it/s]"
     ]
    },
    {
     "name": "stdout",
     "output_type": "stream",
     "text": [
      "                   all        361       8361      0.947      0.811      0.849      0.624\n"
     ]
    },
    {
     "name": "stderr",
     "output_type": "stream",
     "text": [
      "\n"
     ]
    },
    {
     "name": "stdout",
     "output_type": "stream",
     "text": [
      "\n",
      "      Epoch    GPU_mem   box_loss   cls_loss   dfl_loss  Instances       Size\n"
     ]
    },
    {
     "name": "stderr",
     "output_type": "stream",
     "text": [
      "       4/50      22.8G      0.753     0.5627     0.8372        579       1920: 100%|██████████| 103/103 [00:27<00:00,  3.81it/s]\n",
      "                 Class     Images  Instances      Box(P          R      mAP50  mAP50-95): 100%|██████████| 13/13 [00:01<00:00,  7.10it/s]"
     ]
    },
    {
     "name": "stdout",
     "output_type": "stream",
     "text": [
      "                   all        361       8361      0.954      0.827      0.853      0.628\n"
     ]
    },
    {
     "name": "stderr",
     "output_type": "stream",
     "text": [
      "\n"
     ]
    },
    {
     "name": "stdout",
     "output_type": "stream",
     "text": [
      "\n",
      "      Epoch    GPU_mem   box_loss   cls_loss   dfl_loss  Instances       Size\n"
     ]
    },
    {
     "name": "stderr",
     "output_type": "stream",
     "text": [
      "       5/50      19.7G     0.6791     0.4933     0.8246        464       1920: 100%|██████████| 103/103 [00:27<00:00,  3.73it/s]\n",
      "                 Class     Images  Instances      Box(P          R      mAP50  mAP50-95): 100%|██████████| 13/13 [00:01<00:00,  8.62it/s]"
     ]
    },
    {
     "name": "stdout",
     "output_type": "stream",
     "text": [
      "                   all        361       8361       0.96      0.838      0.862      0.634\n"
     ]
    },
    {
     "name": "stderr",
     "output_type": "stream",
     "text": [
      "\n"
     ]
    },
    {
     "name": "stdout",
     "output_type": "stream",
     "text": [
      "\n",
      "      Epoch    GPU_mem   box_loss   cls_loss   dfl_loss  Instances       Size\n"
     ]
    },
    {
     "name": "stderr",
     "output_type": "stream",
     "text": [
      "       6/50      19.2G     0.6801     0.4529     0.8233        490       1920: 100%|██████████| 103/103 [00:27<00:00,  3.74it/s]\n",
      "                 Class     Images  Instances      Box(P          R      mAP50  mAP50-95): 100%|██████████| 13/13 [00:01<00:00,  8.72it/s]"
     ]
    },
    {
     "name": "stdout",
     "output_type": "stream",
     "text": [
      "                   all        361       8361      0.946      0.838      0.864      0.641\n"
     ]
    },
    {
     "name": "stderr",
     "output_type": "stream",
     "text": [
      "\n"
     ]
    },
    {
     "name": "stdout",
     "output_type": "stream",
     "text": [
      "\n",
      "      Epoch    GPU_mem   box_loss   cls_loss   dfl_loss  Instances       Size\n"
     ]
    },
    {
     "name": "stderr",
     "output_type": "stream",
     "text": [
      "       7/50        22G     0.6402     0.4118     0.8181        479       1920: 100%|██████████| 103/103 [00:27<00:00,  3.74it/s]\n",
      "                 Class     Images  Instances      Box(P          R      mAP50  mAP50-95): 100%|██████████| 13/13 [00:01<00:00,  8.82it/s]"
     ]
    },
    {
     "name": "stdout",
     "output_type": "stream",
     "text": [
      "                   all        361       8361       0.97      0.837      0.866      0.638\n"
     ]
    },
    {
     "name": "stderr",
     "output_type": "stream",
     "text": [
      "\n"
     ]
    },
    {
     "name": "stdout",
     "output_type": "stream",
     "text": [
      "\n",
      "      Epoch    GPU_mem   box_loss   cls_loss   dfl_loss  Instances       Size\n"
     ]
    },
    {
     "name": "stderr",
     "output_type": "stream",
     "text": [
      "       8/50      21.2G     0.6262     0.3926     0.8154        438       1920: 100%|██████████| 103/103 [00:27<00:00,  3.72it/s]\n",
      "                 Class     Images  Instances      Box(P          R      mAP50  mAP50-95): 100%|██████████| 13/13 [00:01<00:00,  8.85it/s]"
     ]
    },
    {
     "name": "stdout",
     "output_type": "stream",
     "text": [
      "                   all        361       8361      0.977      0.847      0.873      0.659\n"
     ]
    },
    {
     "name": "stderr",
     "output_type": "stream",
     "text": [
      "\n"
     ]
    },
    {
     "name": "stdout",
     "output_type": "stream",
     "text": [
      "\n",
      "      Epoch    GPU_mem   box_loss   cls_loss   dfl_loss  Instances       Size\n"
     ]
    },
    {
     "name": "stderr",
     "output_type": "stream",
     "text": [
      "       9/50      22.7G     0.6115     0.3779      0.813        451       1920: 100%|██████████| 103/103 [00:27<00:00,  3.73it/s]\n",
      "                 Class     Images  Instances      Box(P          R      mAP50  mAP50-95): 100%|██████████| 13/13 [00:01<00:00,  8.66it/s]"
     ]
    },
    {
     "name": "stdout",
     "output_type": "stream",
     "text": [
      "                   all        361       8361      0.975      0.843       0.88       0.65\n"
     ]
    },
    {
     "name": "stderr",
     "output_type": "stream",
     "text": [
      "\n"
     ]
    },
    {
     "name": "stdout",
     "output_type": "stream",
     "text": [
      "\n",
      "      Epoch    GPU_mem   box_loss   cls_loss   dfl_loss  Instances       Size\n"
     ]
    },
    {
     "name": "stderr",
     "output_type": "stream",
     "text": [
      "      10/50      23.8G      0.607     0.3739      0.814        629       1920: 100%|██████████| 103/103 [00:27<00:00,  3.79it/s]\n",
      "                 Class     Images  Instances      Box(P          R      mAP50  mAP50-95): 100%|██████████| 13/13 [00:01<00:00,  8.68it/s]"
     ]
    },
    {
     "name": "stdout",
     "output_type": "stream",
     "text": [
      "                   all        361       8361      0.984      0.838      0.874      0.672\n"
     ]
    },
    {
     "name": "stderr",
     "output_type": "stream",
     "text": [
      "\n"
     ]
    },
    {
     "name": "stdout",
     "output_type": "stream",
     "text": [
      "\n",
      "      Epoch    GPU_mem   box_loss   cls_loss   dfl_loss  Instances       Size\n"
     ]
    },
    {
     "name": "stderr",
     "output_type": "stream",
     "text": [
      "      11/50      19.9G     0.5881     0.3618     0.8089        584       1920: 100%|██████████| 103/103 [00:26<00:00,  3.94it/s]\n",
      "                 Class     Images  Instances      Box(P          R      mAP50  mAP50-95): 100%|██████████| 13/13 [00:01<00:00,  9.30it/s]"
     ]
    },
    {
     "name": "stdout",
     "output_type": "stream",
     "text": [
      "                   all        361       8361      0.984      0.843      0.891      0.686\n"
     ]
    },
    {
     "name": "stderr",
     "output_type": "stream",
     "text": [
      "\n"
     ]
    },
    {
     "name": "stdout",
     "output_type": "stream",
     "text": [
      "\n",
      "      Epoch    GPU_mem   box_loss   cls_loss   dfl_loss  Instances       Size\n"
     ]
    },
    {
     "name": "stderr",
     "output_type": "stream",
     "text": [
      "      12/50      20.3G     0.5973     0.3562     0.8114        623       1920: 100%|██████████| 103/103 [00:26<00:00,  3.94it/s]\n",
      "                 Class     Images  Instances      Box(P          R      mAP50  mAP50-95): 100%|██████████| 13/13 [00:01<00:00,  9.47it/s]\n"
     ]
    },
    {
     "name": "stdout",
     "output_type": "stream",
     "text": [
      "                   all        361       8361      0.987      0.848      0.887      0.673\n",
      "\n",
      "      Epoch    GPU_mem   box_loss   cls_loss   dfl_loss  Instances       Size\n"
     ]
    },
    {
     "name": "stderr",
     "output_type": "stream",
     "text": [
      "      13/50      21.7G     0.5823     0.3455     0.8082        432       1920: 100%|██████████| 103/103 [00:27<00:00,  3.73it/s]\n",
      "                 Class     Images  Instances      Box(P          R      mAP50  mAP50-95): 100%|██████████| 13/13 [00:01<00:00,  8.73it/s]"
     ]
    },
    {
     "name": "stdout",
     "output_type": "stream",
     "text": [
      "                   all        361       8361      0.953      0.868      0.895      0.682\n"
     ]
    },
    {
     "name": "stderr",
     "output_type": "stream",
     "text": [
      "\n"
     ]
    },
    {
     "name": "stdout",
     "output_type": "stream",
     "text": [
      "\n",
      "      Epoch    GPU_mem   box_loss   cls_loss   dfl_loss  Instances       Size\n"
     ]
    },
    {
     "name": "stderr",
     "output_type": "stream",
     "text": [
      "      14/50      19.2G     0.5724     0.3376     0.8075        663       1920: 100%|██████████| 103/103 [00:27<00:00,  3.75it/s]\n",
      "                 Class     Images  Instances      Box(P          R      mAP50  mAP50-95): 100%|██████████| 13/13 [00:01<00:00,  8.77it/s]"
     ]
    },
    {
     "name": "stdout",
     "output_type": "stream",
     "text": [
      "                   all        361       8361      0.986      0.841      0.892      0.679\n"
     ]
    },
    {
     "name": "stderr",
     "output_type": "stream",
     "text": [
      "\n"
     ]
    },
    {
     "name": "stdout",
     "output_type": "stream",
     "text": [
      "\n",
      "      Epoch    GPU_mem   box_loss   cls_loss   dfl_loss  Instances       Size\n"
     ]
    },
    {
     "name": "stderr",
     "output_type": "stream",
     "text": [
      "      15/50      23.9G     0.5645     0.3282     0.8061        549       1920: 100%|██████████| 103/103 [00:27<00:00,  3.75it/s]\n",
      "                 Class     Images  Instances      Box(P          R      mAP50  mAP50-95): 100%|██████████| 13/13 [00:01<00:00,  9.20it/s]"
     ]
    },
    {
     "name": "stdout",
     "output_type": "stream",
     "text": [
      "                   all        361       8361      0.982      0.862      0.899      0.698\n"
     ]
    },
    {
     "name": "stderr",
     "output_type": "stream",
     "text": [
      "\n"
     ]
    },
    {
     "name": "stdout",
     "output_type": "stream",
     "text": [
      "\n",
      "      Epoch    GPU_mem   box_loss   cls_loss   dfl_loss  Instances       Size\n"
     ]
    },
    {
     "name": "stderr",
     "output_type": "stream",
     "text": [
      "      16/50      20.1G     0.5677     0.3335     0.8066        538       1920: 100%|██████████| 103/103 [00:27<00:00,  3.80it/s]\n",
      "                 Class     Images  Instances      Box(P          R      mAP50  mAP50-95): 100%|██████████| 13/13 [00:01<00:00,  9.11it/s]"
     ]
    },
    {
     "name": "stdout",
     "output_type": "stream",
     "text": [
      "                   all        361       8361      0.973      0.866      0.898      0.675\n"
     ]
    },
    {
     "name": "stderr",
     "output_type": "stream",
     "text": [
      "\n"
     ]
    },
    {
     "name": "stdout",
     "output_type": "stream",
     "text": [
      "\n",
      "      Epoch    GPU_mem   box_loss   cls_loss   dfl_loss  Instances       Size\n"
     ]
    },
    {
     "name": "stderr",
     "output_type": "stream",
     "text": [
      "      17/50      19.9G     0.5604     0.3232     0.8055        411       1920: 100%|██████████| 103/103 [00:27<00:00,  3.74it/s]\n",
      "                 Class     Images  Instances      Box(P          R      mAP50  mAP50-95): 100%|██████████| 13/13 [00:01<00:00,  8.90it/s]"
     ]
    },
    {
     "name": "stdout",
     "output_type": "stream",
     "text": [
      "                   all        361       8361      0.981      0.873      0.904      0.696\n"
     ]
    },
    {
     "name": "stderr",
     "output_type": "stream",
     "text": [
      "\n"
     ]
    },
    {
     "name": "stdout",
     "output_type": "stream",
     "text": [
      "\n",
      "      Epoch    GPU_mem   box_loss   cls_loss   dfl_loss  Instances       Size\n"
     ]
    },
    {
     "name": "stderr",
     "output_type": "stream",
     "text": [
      "      18/50      19.6G     0.5539     0.3171     0.8058        610       1920: 100%|██████████| 103/103 [00:27<00:00,  3.74it/s]\n",
      "                 Class     Images  Instances      Box(P          R      mAP50  mAP50-95): 100%|██████████| 13/13 [00:01<00:00,  8.80it/s]"
     ]
    },
    {
     "name": "stdout",
     "output_type": "stream",
     "text": [
      "                   all        361       8361      0.977      0.854      0.901      0.709\n"
     ]
    },
    {
     "name": "stderr",
     "output_type": "stream",
     "text": [
      "\n"
     ]
    },
    {
     "name": "stdout",
     "output_type": "stream",
     "text": [
      "\n",
      "      Epoch    GPU_mem   box_loss   cls_loss   dfl_loss  Instances       Size\n"
     ]
    },
    {
     "name": "stderr",
     "output_type": "stream",
     "text": [
      "      19/50      19.1G     0.5518     0.3138     0.8026        595       1920: 100%|██████████| 103/103 [00:26<00:00,  3.94it/s]\n",
      "                 Class     Images  Instances      Box(P          R      mAP50  mAP50-95): 100%|██████████| 13/13 [00:01<00:00,  9.48it/s]\n"
     ]
    },
    {
     "name": "stdout",
     "output_type": "stream",
     "text": [
      "                   all        361       8361      0.964      0.884      0.901      0.705\n",
      "\n",
      "      Epoch    GPU_mem   box_loss   cls_loss   dfl_loss  Instances       Size\n"
     ]
    },
    {
     "name": "stderr",
     "output_type": "stream",
     "text": [
      "      20/50      22.9G     0.5449     0.3089     0.8024        609       1920: 100%|██████████| 103/103 [00:25<00:00,  3.96it/s]\n",
      "                 Class     Images  Instances      Box(P          R      mAP50  mAP50-95): 100%|██████████| 13/13 [00:01<00:00,  9.49it/s]\n"
     ]
    },
    {
     "name": "stdout",
     "output_type": "stream",
     "text": [
      "                   all        361       8361      0.975      0.868      0.911      0.725\n",
      "\n",
      "      Epoch    GPU_mem   box_loss   cls_loss   dfl_loss  Instances       Size\n"
     ]
    },
    {
     "name": "stderr",
     "output_type": "stream",
     "text": [
      "      21/50      22.5G     0.5389     0.3018     0.8018        590       1920: 100%|██████████| 103/103 [00:25<00:00,  3.97it/s]\n",
      "                 Class     Images  Instances      Box(P          R      mAP50  mAP50-95): 100%|██████████| 13/13 [00:01<00:00,  9.33it/s]\n"
     ]
    },
    {
     "name": "stdout",
     "output_type": "stream",
     "text": [
      "                   all        361       8361      0.966      0.877      0.907       0.71\n",
      "\n",
      "      Epoch    GPU_mem   box_loss   cls_loss   dfl_loss  Instances       Size\n"
     ]
    },
    {
     "name": "stderr",
     "output_type": "stream",
     "text": [
      "      22/50      23.4G     0.5358     0.3027      0.801        475       1920: 100%|██████████| 103/103 [00:26<00:00,  3.96it/s]\n",
      "                 Class     Images  Instances      Box(P          R      mAP50  mAP50-95): 100%|██████████| 13/13 [00:01<00:00,  9.29it/s]"
     ]
    },
    {
     "name": "stdout",
     "output_type": "stream",
     "text": [
      "                   all        361       8361      0.983      0.862      0.907      0.715\n"
     ]
    },
    {
     "name": "stderr",
     "output_type": "stream",
     "text": [
      "\n"
     ]
    },
    {
     "name": "stdout",
     "output_type": "stream",
     "text": [
      "\n",
      "      Epoch    GPU_mem   box_loss   cls_loss   dfl_loss  Instances       Size\n"
     ]
    },
    {
     "name": "stderr",
     "output_type": "stream",
     "text": [
      "      23/50      20.8G     0.5431      0.301     0.8024        519       1920: 100%|██████████| 103/103 [00:27<00:00,  3.81it/s]\n",
      "                 Class     Images  Instances      Box(P          R      mAP50  mAP50-95): 100%|██████████| 13/13 [00:01<00:00,  8.79it/s]"
     ]
    },
    {
     "name": "stdout",
     "output_type": "stream",
     "text": [
      "                   all        361       8361      0.974      0.876      0.906      0.714\n"
     ]
    },
    {
     "name": "stderr",
     "output_type": "stream",
     "text": [
      "\n"
     ]
    },
    {
     "name": "stdout",
     "output_type": "stream",
     "text": [
      "\n",
      "      Epoch    GPU_mem   box_loss   cls_loss   dfl_loss  Instances       Size\n"
     ]
    },
    {
     "name": "stderr",
     "output_type": "stream",
     "text": [
      "      24/50      23.1G     0.5321     0.2952     0.8005        572       1920: 100%|██████████| 103/103 [00:27<00:00,  3.71it/s]\n",
      "                 Class     Images  Instances      Box(P          R      mAP50  mAP50-95): 100%|██████████| 13/13 [00:01<00:00,  8.83it/s]"
     ]
    },
    {
     "name": "stdout",
     "output_type": "stream",
     "text": [
      "                   all        361       8361      0.968      0.878      0.914       0.71\n"
     ]
    },
    {
     "name": "stderr",
     "output_type": "stream",
     "text": [
      "\n"
     ]
    },
    {
     "name": "stdout",
     "output_type": "stream",
     "text": [
      "\n",
      "      Epoch    GPU_mem   box_loss   cls_loss   dfl_loss  Instances       Size\n"
     ]
    },
    {
     "name": "stderr",
     "output_type": "stream",
     "text": [
      "      25/50      23.1G      0.527     0.2922     0.7989        663       1920: 100%|██████████| 103/103 [00:27<00:00,  3.73it/s]\n",
      "                 Class     Images  Instances      Box(P          R      mAP50  mAP50-95): 100%|██████████| 13/13 [00:01<00:00,  8.77it/s]"
     ]
    },
    {
     "name": "stdout",
     "output_type": "stream",
     "text": [
      "                   all        361       8361      0.981      0.871      0.911      0.724\n"
     ]
    },
    {
     "name": "stderr",
     "output_type": "stream",
     "text": [
      "\n"
     ]
    },
    {
     "name": "stdout",
     "output_type": "stream",
     "text": [
      "\n",
      "      Epoch    GPU_mem   box_loss   cls_loss   dfl_loss  Instances       Size\n"
     ]
    },
    {
     "name": "stderr",
     "output_type": "stream",
     "text": [
      "      26/50      20.7G     0.5281     0.2949     0.8006        473       1920: 100%|██████████| 103/103 [00:27<00:00,  3.71it/s]\n",
      "                 Class     Images  Instances      Box(P          R      mAP50  mAP50-95): 100%|██████████| 13/13 [00:01<00:00,  8.79it/s]"
     ]
    },
    {
     "name": "stdout",
     "output_type": "stream",
     "text": [
      "                   all        361       8361      0.966      0.887      0.914      0.724\n"
     ]
    },
    {
     "name": "stderr",
     "output_type": "stream",
     "text": [
      "\n"
     ]
    },
    {
     "name": "stdout",
     "output_type": "stream",
     "text": [
      "\n",
      "      Epoch    GPU_mem   box_loss   cls_loss   dfl_loss  Instances       Size\n"
     ]
    },
    {
     "name": "stderr",
     "output_type": "stream",
     "text": [
      "      27/50      21.5G     0.5225     0.2889     0.7995        486       1920: 100%|██████████| 103/103 [00:27<00:00,  3.72it/s]\n",
      "                 Class     Images  Instances      Box(P          R      mAP50  mAP50-95): 100%|██████████| 13/13 [00:01<00:00,  8.82it/s]"
     ]
    },
    {
     "name": "stdout",
     "output_type": "stream",
     "text": [
      "                   all        361       8361       0.98      0.869       0.91      0.717\n"
     ]
    },
    {
     "name": "stderr",
     "output_type": "stream",
     "text": [
      "\n"
     ]
    },
    {
     "name": "stdout",
     "output_type": "stream",
     "text": [
      "\n",
      "      Epoch    GPU_mem   box_loss   cls_loss   dfl_loss  Instances       Size\n"
     ]
    },
    {
     "name": "stderr",
     "output_type": "stream",
     "text": [
      "      28/50      18.5G      0.512     0.2833     0.7978        596       1920: 100%|██████████| 103/103 [00:27<00:00,  3.71it/s]\n",
      "                 Class     Images  Instances      Box(P          R      mAP50  mAP50-95): 100%|██████████| 13/13 [00:01<00:00,  8.73it/s]"
     ]
    },
    {
     "name": "stdout",
     "output_type": "stream",
     "text": [
      "                   all        361       8361      0.972       0.88      0.917      0.732\n"
     ]
    },
    {
     "name": "stderr",
     "output_type": "stream",
     "text": [
      "\n"
     ]
    },
    {
     "name": "stdout",
     "output_type": "stream",
     "text": [
      "\n",
      "      Epoch    GPU_mem   box_loss   cls_loss   dfl_loss  Instances       Size\n"
     ]
    },
    {
     "name": "stderr",
     "output_type": "stream",
     "text": [
      "      29/50      19.9G     0.5232     0.2864     0.7984        338       1920: 100%|██████████| 103/103 [00:27<00:00,  3.72it/s]\n",
      "                 Class     Images  Instances      Box(P          R      mAP50  mAP50-95): 100%|██████████| 13/13 [00:01<00:00,  8.90it/s]"
     ]
    },
    {
     "name": "stdout",
     "output_type": "stream",
     "text": [
      "                   all        361       8361       0.97      0.887      0.923      0.715\n"
     ]
    },
    {
     "name": "stderr",
     "output_type": "stream",
     "text": [
      "\n"
     ]
    },
    {
     "name": "stdout",
     "output_type": "stream",
     "text": [
      "\n",
      "      Epoch    GPU_mem   box_loss   cls_loss   dfl_loss  Instances       Size\n"
     ]
    },
    {
     "name": "stderr",
     "output_type": "stream",
     "text": [
      "      30/50      18.6G     0.5161     0.2814     0.7988        546       1920: 100%|██████████| 103/103 [00:27<00:00,  3.72it/s]\n",
      "                 Class     Images  Instances      Box(P          R      mAP50  mAP50-95): 100%|██████████| 13/13 [00:01<00:00,  8.70it/s]"
     ]
    },
    {
     "name": "stdout",
     "output_type": "stream",
     "text": [
      "                   all        361       8361      0.961      0.898      0.924      0.731\n"
     ]
    },
    {
     "name": "stderr",
     "output_type": "stream",
     "text": [
      "\n"
     ]
    },
    {
     "name": "stdout",
     "output_type": "stream",
     "text": [
      "\n",
      "      Epoch    GPU_mem   box_loss   cls_loss   dfl_loss  Instances       Size\n"
     ]
    },
    {
     "name": "stderr",
     "output_type": "stream",
     "text": [
      "      31/50      21.5G     0.5104     0.2796     0.7964        572       1920: 100%|██████████| 103/103 [00:27<00:00,  3.74it/s]\n",
      "                 Class     Images  Instances      Box(P          R      mAP50  mAP50-95): 100%|██████████| 13/13 [00:01<00:00,  8.88it/s]"
     ]
    },
    {
     "name": "stdout",
     "output_type": "stream",
     "text": [
      "                   all        361       8361      0.983      0.881      0.923      0.733\n"
     ]
    },
    {
     "name": "stderr",
     "output_type": "stream",
     "text": [
      "\n"
     ]
    },
    {
     "name": "stdout",
     "output_type": "stream",
     "text": [
      "\n",
      "      Epoch    GPU_mem   box_loss   cls_loss   dfl_loss  Instances       Size\n"
     ]
    },
    {
     "name": "stderr",
     "output_type": "stream",
     "text": [
      "      32/50      20.8G     0.5066     0.2748     0.7972        471       1920: 100%|██████████| 103/103 [00:27<00:00,  3.70it/s]\n",
      "                 Class     Images  Instances      Box(P          R      mAP50  mAP50-95): 100%|██████████| 13/13 [00:01<00:00,  8.85it/s]"
     ]
    },
    {
     "name": "stdout",
     "output_type": "stream",
     "text": [
      "                   all        361       8361      0.964      0.896      0.924      0.731\n"
     ]
    },
    {
     "name": "stderr",
     "output_type": "stream",
     "text": [
      "\n"
     ]
    },
    {
     "name": "stdout",
     "output_type": "stream",
     "text": [
      "\n",
      "      Epoch    GPU_mem   box_loss   cls_loss   dfl_loss  Instances       Size\n"
     ]
    },
    {
     "name": "stderr",
     "output_type": "stream",
     "text": [
      "      33/50      20.4G     0.5051     0.2738      0.797        419       1920: 100%|██████████| 103/103 [00:27<00:00,  3.72it/s]\n",
      "                 Class     Images  Instances      Box(P          R      mAP50  mAP50-95): 100%|██████████| 13/13 [00:01<00:00,  8.86it/s]"
     ]
    },
    {
     "name": "stdout",
     "output_type": "stream",
     "text": [
      "                   all        361       8361      0.984      0.892      0.921      0.732\n"
     ]
    },
    {
     "name": "stderr",
     "output_type": "stream",
     "text": [
      "\n"
     ]
    },
    {
     "name": "stdout",
     "output_type": "stream",
     "text": [
      "\n",
      "      Epoch    GPU_mem   box_loss   cls_loss   dfl_loss  Instances       Size\n"
     ]
    },
    {
     "name": "stderr",
     "output_type": "stream",
     "text": [
      "      34/50        23G     0.5052     0.2746     0.7961        498       1920: 100%|██████████| 103/103 [00:27<00:00,  3.75it/s]\n",
      "                 Class     Images  Instances      Box(P          R      mAP50  mAP50-95): 100%|██████████| 13/13 [00:01<00:00,  8.89it/s]"
     ]
    },
    {
     "name": "stdout",
     "output_type": "stream",
     "text": [
      "                   all        361       8361      0.976      0.887      0.926       0.73\n"
     ]
    },
    {
     "name": "stderr",
     "output_type": "stream",
     "text": [
      "\n"
     ]
    },
    {
     "name": "stdout",
     "output_type": "stream",
     "text": [
      "\n",
      "      Epoch    GPU_mem   box_loss   cls_loss   dfl_loss  Instances       Size\n"
     ]
    },
    {
     "name": "stderr",
     "output_type": "stream",
     "text": [
      "      35/50      20.3G     0.4996     0.2689     0.7971        392       1920: 100%|██████████| 103/103 [00:27<00:00,  3.75it/s]\n",
      "                 Class     Images  Instances      Box(P          R      mAP50  mAP50-95): 100%|██████████| 13/13 [00:01<00:00,  8.85it/s]"
     ]
    },
    {
     "name": "stdout",
     "output_type": "stream",
     "text": [
      "                   all        361       8361      0.962      0.897      0.923      0.733\n"
     ]
    },
    {
     "name": "stderr",
     "output_type": "stream",
     "text": [
      "\n"
     ]
    },
    {
     "name": "stdout",
     "output_type": "stream",
     "text": [
      "\n",
      "      Epoch    GPU_mem   box_loss   cls_loss   dfl_loss  Instances       Size\n"
     ]
    },
    {
     "name": "stderr",
     "output_type": "stream",
     "text": [
      "      36/50      22.2G     0.5021     0.2694     0.7965        512       1920: 100%|██████████| 103/103 [00:27<00:00,  3.74it/s]\n",
      "                 Class     Images  Instances      Box(P          R      mAP50  mAP50-95): 100%|██████████| 13/13 [00:01<00:00,  8.83it/s]"
     ]
    },
    {
     "name": "stdout",
     "output_type": "stream",
     "text": [
      "                   all        361       8361      0.974      0.902      0.929      0.743\n"
     ]
    },
    {
     "name": "stderr",
     "output_type": "stream",
     "text": [
      "\n"
     ]
    },
    {
     "name": "stdout",
     "output_type": "stream",
     "text": [
      "\n",
      "      Epoch    GPU_mem   box_loss   cls_loss   dfl_loss  Instances       Size\n"
     ]
    },
    {
     "name": "stderr",
     "output_type": "stream",
     "text": [
      "      37/50      22.2G     0.5031     0.2714     0.7975        515       1920: 100%|██████████| 103/103 [00:27<00:00,  3.72it/s]\n",
      "                 Class     Images  Instances      Box(P          R      mAP50  mAP50-95): 100%|██████████| 13/13 [00:01<00:00,  8.90it/s]"
     ]
    },
    {
     "name": "stdout",
     "output_type": "stream",
     "text": [
      "                   all        361       8361      0.962      0.898      0.928      0.733\n"
     ]
    },
    {
     "name": "stderr",
     "output_type": "stream",
     "text": [
      "\n"
     ]
    },
    {
     "name": "stdout",
     "output_type": "stream",
     "text": [
      "\n",
      "      Epoch    GPU_mem   box_loss   cls_loss   dfl_loss  Instances       Size\n"
     ]
    },
    {
     "name": "stderr",
     "output_type": "stream",
     "text": [
      "      38/50      19.8G     0.4969     0.2664     0.7939        575       1920: 100%|██████████| 103/103 [00:27<00:00,  3.74it/s]\n",
      "                 Class     Images  Instances      Box(P          R      mAP50  mAP50-95): 100%|██████████| 13/13 [00:01<00:00,  8.83it/s]"
     ]
    },
    {
     "name": "stdout",
     "output_type": "stream",
     "text": [
      "                   all        361       8361      0.956      0.906      0.926      0.733\n"
     ]
    },
    {
     "name": "stderr",
     "output_type": "stream",
     "text": [
      "\n"
     ]
    },
    {
     "name": "stdout",
     "output_type": "stream",
     "text": [
      "\n",
      "      Epoch    GPU_mem   box_loss   cls_loss   dfl_loss  Instances       Size\n"
     ]
    },
    {
     "name": "stderr",
     "output_type": "stream",
     "text": [
      "      39/50      20.8G     0.4914     0.2641      0.795        563       1920: 100%|██████████| 103/103 [00:27<00:00,  3.76it/s]\n",
      "                 Class     Images  Instances      Box(P          R      mAP50  mAP50-95): 100%|██████████| 13/13 [00:01<00:00,  8.84it/s]"
     ]
    },
    {
     "name": "stdout",
     "output_type": "stream",
     "text": [
      "                   all        361       8361      0.981      0.895      0.928      0.741\n"
     ]
    },
    {
     "name": "stderr",
     "output_type": "stream",
     "text": [
      "\n"
     ]
    },
    {
     "name": "stdout",
     "output_type": "stream",
     "text": [
      "\n",
      "      Epoch    GPU_mem   box_loss   cls_loss   dfl_loss  Instances       Size\n"
     ]
    },
    {
     "name": "stderr",
     "output_type": "stream",
     "text": [
      "      40/50      22.4G     0.4894     0.2614     0.7943        574       1920: 100%|██████████| 103/103 [00:26<00:00,  3.91it/s]\n",
      "                 Class     Images  Instances      Box(P          R      mAP50  mAP50-95): 100%|██████████| 13/13 [00:01<00:00,  9.29it/s]"
     ]
    },
    {
     "name": "stdout",
     "output_type": "stream",
     "text": [
      "                   all        361       8361      0.968      0.912      0.935      0.744\n"
     ]
    },
    {
     "name": "stderr",
     "output_type": "stream",
     "text": [
      "\n"
     ]
    },
    {
     "name": "stdout",
     "output_type": "stream",
     "text": [
      "Closing dataloader mosaic\n",
      "\n",
      "      Epoch    GPU_mem   box_loss   cls_loss   dfl_loss  Instances       Size\n"
     ]
    },
    {
     "name": "stderr",
     "output_type": "stream",
     "text": [
      "      41/50        19G     0.4762     0.2602     0.7929        290       1920: 100%|██████████| 103/103 [00:25<00:00,  4.04it/s]\n",
      "                 Class     Images  Instances      Box(P          R      mAP50  mAP50-95): 100%|██████████| 13/13 [00:01<00:00,  9.22it/s]"
     ]
    },
    {
     "name": "stdout",
     "output_type": "stream",
     "text": [
      "                   all        361       8361      0.971      0.904      0.926      0.737\n"
     ]
    },
    {
     "name": "stderr",
     "output_type": "stream",
     "text": [
      "\n"
     ]
    },
    {
     "name": "stdout",
     "output_type": "stream",
     "text": [
      "\n",
      "      Epoch    GPU_mem   box_loss   cls_loss   dfl_loss  Instances       Size\n"
     ]
    },
    {
     "name": "stderr",
     "output_type": "stream",
     "text": [
      "      42/50      17.6G     0.4677     0.2543     0.7915        277       1920: 100%|██████████| 103/103 [00:25<00:00,  4.12it/s]\n",
      "                 Class     Images  Instances      Box(P          R      mAP50  mAP50-95): 100%|██████████| 13/13 [00:01<00:00,  8.75it/s]"
     ]
    },
    {
     "name": "stdout",
     "output_type": "stream",
     "text": [
      "                   all        361       8361      0.975      0.892      0.923       0.73\n"
     ]
    },
    {
     "name": "stderr",
     "output_type": "stream",
     "text": [
      "\n"
     ]
    },
    {
     "name": "stdout",
     "output_type": "stream",
     "text": [
      "\n",
      "      Epoch    GPU_mem   box_loss   cls_loss   dfl_loss  Instances       Size\n"
     ]
    },
    {
     "name": "stderr",
     "output_type": "stream",
     "text": [
      "      43/50      17.6G     0.4644     0.2536     0.7918        297       1920: 100%|██████████| 103/103 [00:24<00:00,  4.13it/s]\n",
      "                 Class     Images  Instances      Box(P          R      mAP50  mAP50-95): 100%|██████████| 13/13 [00:01<00:00,  8.76it/s]"
     ]
    },
    {
     "name": "stdout",
     "output_type": "stream",
     "text": [
      "                   all        361       8361      0.975      0.881      0.929      0.742\n"
     ]
    },
    {
     "name": "stderr",
     "output_type": "stream",
     "text": [
      "\n"
     ]
    },
    {
     "name": "stdout",
     "output_type": "stream",
     "text": [
      "\n",
      "      Epoch    GPU_mem   box_loss   cls_loss   dfl_loss  Instances       Size\n"
     ]
    },
    {
     "name": "stderr",
     "output_type": "stream",
     "text": [
      "      44/50      17.6G      0.462     0.2491     0.7913        294       1920: 100%|██████████| 103/103 [00:24<00:00,  4.24it/s]\n",
      "                 Class     Images  Instances      Box(P          R      mAP50  mAP50-95): 100%|██████████| 13/13 [00:01<00:00,  9.04it/s]"
     ]
    },
    {
     "name": "stdout",
     "output_type": "stream",
     "text": [
      "                   all        361       8361      0.949      0.909      0.924      0.741\n"
     ]
    },
    {
     "name": "stderr",
     "output_type": "stream",
     "text": [
      "\n"
     ]
    },
    {
     "name": "stdout",
     "output_type": "stream",
     "text": [
      "\n",
      "      Epoch    GPU_mem   box_loss   cls_loss   dfl_loss  Instances       Size\n"
     ]
    },
    {
     "name": "stderr",
     "output_type": "stream",
     "text": [
      "      45/50      17.6G     0.4561     0.2451     0.7902        295       1920: 100%|██████████| 103/103 [00:25<00:00,  4.11it/s]\n",
      "                 Class     Images  Instances      Box(P          R      mAP50  mAP50-95): 100%|██████████| 13/13 [00:01<00:00,  8.79it/s]"
     ]
    },
    {
     "name": "stdout",
     "output_type": "stream",
     "text": [
      "                   all        361       8361       0.96      0.902       0.93      0.742\n"
     ]
    },
    {
     "name": "stderr",
     "output_type": "stream",
     "text": [
      "\n"
     ]
    },
    {
     "name": "stdout",
     "output_type": "stream",
     "text": [
      "\n",
      "      Epoch    GPU_mem   box_loss   cls_loss   dfl_loss  Instances       Size\n"
     ]
    },
    {
     "name": "stderr",
     "output_type": "stream",
     "text": [
      "      46/50      17.6G     0.4554     0.2442     0.7917        289       1920: 100%|██████████| 103/103 [00:25<00:00,  4.10it/s]\n",
      "                 Class     Images  Instances      Box(P          R      mAP50  mAP50-95): 100%|██████████| 13/13 [00:01<00:00,  8.87it/s]"
     ]
    },
    {
     "name": "stdout",
     "output_type": "stream",
     "text": [
      "                   all        361       8361      0.966        0.9      0.928      0.745\n"
     ]
    },
    {
     "name": "stderr",
     "output_type": "stream",
     "text": [
      "\n"
     ]
    },
    {
     "name": "stdout",
     "output_type": "stream",
     "text": [
      "\n",
      "      Epoch    GPU_mem   box_loss   cls_loss   dfl_loss  Instances       Size\n"
     ]
    },
    {
     "name": "stderr",
     "output_type": "stream",
     "text": [
      "      47/50      17.6G     0.4505     0.2401     0.7907        293       1920: 100%|██████████| 103/103 [00:25<00:00,  4.07it/s]\n",
      "                 Class     Images  Instances      Box(P          R      mAP50  mAP50-95): 100%|██████████| 13/13 [00:01<00:00,  8.82it/s]"
     ]
    },
    {
     "name": "stdout",
     "output_type": "stream",
     "text": [
      "                   all        361       8361      0.985      0.894      0.931      0.749\n"
     ]
    },
    {
     "name": "stderr",
     "output_type": "stream",
     "text": [
      "\n"
     ]
    },
    {
     "name": "stdout",
     "output_type": "stream",
     "text": [
      "\n",
      "      Epoch    GPU_mem   box_loss   cls_loss   dfl_loss  Instances       Size\n"
     ]
    },
    {
     "name": "stderr",
     "output_type": "stream",
     "text": [
      "      48/50      17.6G     0.4448     0.2371       0.79        277       1920: 100%|██████████| 103/103 [00:25<00:00,  4.08it/s]\n",
      "                 Class     Images  Instances      Box(P          R      mAP50  mAP50-95): 100%|██████████| 13/13 [00:01<00:00,  8.85it/s]"
     ]
    },
    {
     "name": "stdout",
     "output_type": "stream",
     "text": [
      "                   all        361       8361      0.983      0.895      0.932      0.744\n"
     ]
    },
    {
     "name": "stderr",
     "output_type": "stream",
     "text": [
      "\n"
     ]
    },
    {
     "name": "stdout",
     "output_type": "stream",
     "text": [
      "\n",
      "      Epoch    GPU_mem   box_loss   cls_loss   dfl_loss  Instances       Size\n"
     ]
    },
    {
     "name": "stderr",
     "output_type": "stream",
     "text": [
      "      49/50      17.6G     0.4436     0.2359      0.788        296       1920: 100%|██████████| 103/103 [00:25<00:00,  4.11it/s]\n",
      "                 Class     Images  Instances      Box(P          R      mAP50  mAP50-95): 100%|██████████| 13/13 [00:01<00:00,  8.96it/s]"
     ]
    },
    {
     "name": "stdout",
     "output_type": "stream",
     "text": [
      "                   all        361       8361      0.964       0.91      0.936      0.754\n"
     ]
    },
    {
     "name": "stderr",
     "output_type": "stream",
     "text": [
      "\n"
     ]
    },
    {
     "name": "stdout",
     "output_type": "stream",
     "text": [
      "\n",
      "      Epoch    GPU_mem   box_loss   cls_loss   dfl_loss  Instances       Size\n"
     ]
    },
    {
     "name": "stderr",
     "output_type": "stream",
     "text": [
      "      50/50      17.6G     0.4394     0.2325     0.7886        289       1920: 100%|██████████| 103/103 [00:25<00:00,  4.08it/s]\n",
      "                 Class     Images  Instances      Box(P          R      mAP50  mAP50-95): 100%|██████████| 13/13 [00:01<00:00,  8.91it/s]"
     ]
    },
    {
     "name": "stdout",
     "output_type": "stream",
     "text": [
      "                   all        361       8361      0.963      0.906      0.934       0.75\n"
     ]
    },
    {
     "name": "stderr",
     "output_type": "stream",
     "text": [
      "\n"
     ]
    },
    {
     "name": "stdout",
     "output_type": "stream",
     "text": [
      "\n",
      "50 epochs completed in 0.400 hours.\n",
      "Optimizer stripped from /work/mbergst/TDT4265_Project/runs/detect/combined/train11/weights/last.pt, 6.5MB\n",
      "Optimizer stripped from /work/mbergst/TDT4265_Project/runs/detect/combined/train11/weights/best.pt, 6.5MB\n",
      "\n",
      "Validating /work/mbergst/TDT4265_Project/runs/detect/combined/train11/weights/best.pt...\n",
      "Ultralytics YOLOv8.1.42 🚀 Python-3.10.12 torch-2.3.0+cu121 CUDA:0 (NVIDIA GeForce RTX 4090, 24195MiB)\n",
      "Model summary (fused): 168 layers, 3006038 parameters, 0 gradients, 8.1 GFLOPs\n"
     ]
    },
    {
     "name": "stderr",
     "output_type": "stream",
     "text": [
      "                 Class     Images  Instances      Box(P          R      mAP50  mAP50-95): 100%|██████████| 13/13 [00:03<00:00,  3.37it/s]\n"
     ]
    },
    {
     "name": "stdout",
     "output_type": "stream",
     "text": [
      "                   all        361       8361      0.962       0.91      0.936      0.753\n",
      "                  ball        361        241      0.927      0.822      0.877      0.584\n",
      "                player        361       8120      0.996      0.999      0.995      0.922\n",
      "Speed: 0.3ms preprocess, 1.8ms inference, 0.0ms loss, 0.4ms postprocess per image\n",
      "Results saved to \u001b[1m/work/mbergst/TDT4265_Project/runs/detect/combined/train11\u001b[0m\n"
     ]
    },
    {
     "ename": "NameError",
     "evalue": "name 'r' is not defined",
     "output_type": "error",
     "traceback": [
      "\u001b[0;31m---------------------------------------------------------------------------\u001b[0m",
      "\u001b[0;31mNameError\u001b[0m                                 Traceback (most recent call last)",
      "Cell \u001b[0;32mIn[5], line 10\u001b[0m\n\u001b[1;32m      8\u001b[0m results \u001b[38;5;241m=\u001b[39m model_combined\u001b[38;5;241m.\u001b[39mtrain(data\u001b[38;5;241m=\u001b[39myaml_file_combined, epochs\u001b[38;5;241m=\u001b[39m\u001b[38;5;241m50\u001b[39m, batch\u001b[38;5;241m=\u001b[39m\u001b[38;5;241m14\u001b[39m, imgsz\u001b[38;5;241m=\u001b[39m(\u001b[38;5;241m1920\u001b[39m, \u001b[38;5;241m1080\u001b[39m), project\u001b[38;5;241m=\u001b[39m\u001b[38;5;124m'\u001b[39m\u001b[38;5;124m/work/mbergst/TDT4265_Project/runs/detect/combined\u001b[39m\u001b[38;5;124m'\u001b[39m)\n\u001b[1;32m      9\u001b[0m \u001b[38;5;66;03m#results = model_ball.train(data=yaml_file_ball, epochs=50, batch=14, imgsz=(1920, 1080), project='/work/mbergst/TDT4265_Project/runs/detect/ball')\u001b[39;00m\n\u001b[0;32m---> 10\u001b[0m \u001b[43mr\u001b[49m\u001b[38;5;66;03m#esults = model_players.train(data=yaml_file_players, epochs=50, batch=14, imgsz=(1920, 1080), project='/work/mbergst/TDT4265_Project/runs/detect/player')\u001b[39;00m\n",
      "\u001b[0;31mNameError\u001b[0m: name 'r' is not defined"
     ]
    }
   ],
   "source": [
    "# Object Detection\n",
    "\n",
    "model_combined = YOLO('yolov8n.pt')\n",
    "model_ball = YOLO('yolov8n.pt')\n",
    "model_players = YOLO('yolov8n.pt')\n",
    "\n",
    "# Tren modellen på datasettet\n",
    "results = model_combined.train(data=yaml_file_combined, epochs=50, batch=14, imgsz=(1920, 1080), project='/work/mbergst/TDT4265_Project/runs/detect/combined')\n",
    "#results = model_ball.train(data=yaml_file_ball, epochs=50, batch=14, imgsz=(1920, 1080), project='/work/mbergst/TDT4265_Project/runs/detect/ball')\n",
    "#results = model_players.train(data=yaml_file_players, epochs=50, batch=14, imgsz=(1920, 1080), project='/work/mbergst/TDT4265_Project/runs/detect/player')\n",
    "\n",
    "\n"
   ]
  },
  {
   "cell_type": "code",
   "execution_count": 5,
   "metadata": {},
   "outputs": [],
   "source": [
    "model_combined = YOLO(\"/work/mbergst/TDT4265_Project/runs/detect/combined/train7/weights/best.pt\")\n",
    "#model_combined.predict('/work/mbergst/TDT4265_Project/data_yolov8/object_datasets/1_train-val_1min_aalesund_from_start/images/all_frames/000763.jpg', \n",
    "                       #save=True, imgsz=(1920, 1080), conf=0.5, project='/work/mbergst/TDT4265_Project/runs/detect/combined')"
   ]
  },
  {
   "cell_type": "code",
   "execution_count": 22,
   "metadata": {},
   "outputs": [],
   "source": [
    "# Evaluér modellens prestasjon på valideringssettet\n",
    "# Gjør det litt ulikt train sitt output pga ingen parametere definert\n",
    "#val_results = model_combined.val()\n"
   ]
  },
  {
   "cell_type": "code",
   "execution_count": null,
   "metadata": {},
   "outputs": [],
   "source": [
    "# Test modellen på testsette\n",
    "\n",
    "test_ball = model_ball.val(data=test_ball, cfg='test_hyperparameters.yaml',batch=10, imgsz=(1920, 1080), project = '/work/mbergst/TDT4265_Project/runs/detect/ball/test')\n",
    "#test_players = model_players.val(data=test_players, batch=8, imgsz=(1920, 1080), project = '/work/mbergst/TDT4265_Project/runs/detect/player/test')\n"
   ]
  },
  {
   "cell_type": "code",
   "execution_count": 3,
   "metadata": {},
   "outputs": [],
   "source": [
    "# Object tracking\n",
    "all_frames = f'/datasets/tdt4265/other/rbk/{data_folder}/img1'\n",
    "\n",
    "frame_paths = sorted([os.path.join(all_frames, f) for f in os.listdir(all_frames) if f.endswith('.jpg')])\n"
   ]
  },
  {
   "cell_type": "code",
   "execution_count": null,
   "metadata": {},
   "outputs": [],
   "source": [
    "# Iterere over hver frame og bruk track metoden\n",
    "for frame_path in frame_paths:\n",
    "    # model.track kan være en generator, så vi bruker en løkke for å hente resultatene\n",
    "    for result in model_combined.track(frame_path, persist=True, stream=True, line_width=1, tracker='botsort.yaml'):\n",
    "        annotated_frame = result.plot(font_size=1, line_width=1)\n",
    "        cv2.imshow('frame', annotated_frame)\n",
    "        # Vent på et tastetrykk i 1 millisekund og sjekk om det er 'ESC'\n",
    "        key = cv2.waitKey(1) & 0xFF\n",
    "        if key == 27:  # 27 er ASCII-verdien for 'ESC'\n",
    "            break\n",
    "\n",
    "    if key == 27:  # Kontroller igjen om 'ESC' ble trykket for å bryte ut av den ytre løkken\n",
    "        break\n",
    "\n",
    "cv2.destroyAllWindows()  # Lukker alle OpenCV-vinduene"
   ]
  },
  {
   "cell_type": "code",
   "execution_count": 4,
   "metadata": {},
   "outputs": [
    {
     "name": "stdout",
     "output_type": "stream",
     "text": [
      "\n",
      "image 1/1 /datasets/tdt4265/other/rbk/1_train-val_1min_aalesund_from_start/img1/000001.jpg: 1088x1920 22 players, 55.7ms\n",
      "\n",
      "image 1/1 /datasets/tdt4265/other/rbk/1_train-val_1min_aalesund_from_start/img1/000001.jpg: 1088x1920 1 ball, 11.5ms\n",
      "Speed: 5.6ms preprocess, 55.7ms inference, 474.6ms postprocess per image at shape (1, 3, 1088, 1920)\n",
      "\n",
      "image 1/1 /datasets/tdt4265/other/rbk/1_train-val_1min_aalesund_from_start/img1/000002.jpg: 1088x1920 22 players, 4.2ms\n",
      "\n",
      "image 1/1 /datasets/tdt4265/other/rbk/1_train-val_1min_aalesund_from_start/img1/000002.jpg: 1088x1920 1 ball, 4.3ms\n",
      "Speed: 4.8ms preprocess, 4.2ms inference, 12.8ms postprocess per image at shape (1, 3, 1088, 1920)\n",
      "\n",
      "image 1/1 /datasets/tdt4265/other/rbk/1_train-val_1min_aalesund_from_start/img1/000003.jpg: 1088x1920 21 players, 4.5ms\n",
      "\n",
      "image 1/1 /datasets/tdt4265/other/rbk/1_train-val_1min_aalesund_from_start/img1/000003.jpg: 1088x1920 1 ball, 4.5ms\n",
      "Speed: 6.5ms preprocess, 4.5ms inference, 12.3ms postprocess per image at shape (1, 3, 1088, 1920)\n",
      "\n",
      "image 1/1 /datasets/tdt4265/other/rbk/1_train-val_1min_aalesund_from_start/img1/000004.jpg: 1088x1920 21 players, 4.4ms\n",
      "\n",
      "image 1/1 /datasets/tdt4265/other/rbk/1_train-val_1min_aalesund_from_start/img1/000004.jpg: 1088x1920 1 ball, 4.3ms\n",
      "Speed: 3.7ms preprocess, 4.4ms inference, 12.9ms postprocess per image at shape (1, 3, 1088, 1920)\n",
      "\n",
      "image 1/1 /datasets/tdt4265/other/rbk/1_train-val_1min_aalesund_from_start/img1/000005.jpg: 1088x1920 21 players, 4.3ms\n",
      "\n",
      "image 1/1 /datasets/tdt4265/other/rbk/1_train-val_1min_aalesund_from_start/img1/000005.jpg: 1088x1920 1 ball, 4.4ms\n",
      "Speed: 4.2ms preprocess, 4.3ms inference, 12.2ms postprocess per image at shape (1, 3, 1088, 1920)\n",
      "\n",
      "image 1/1 /datasets/tdt4265/other/rbk/1_train-val_1min_aalesund_from_start/img1/000006.jpg: 1088x1920 21 players, 4.4ms\n",
      "\n",
      "image 1/1 /datasets/tdt4265/other/rbk/1_train-val_1min_aalesund_from_start/img1/000006.jpg: 1088x1920 1 ball, 4.3ms\n",
      "Speed: 4.4ms preprocess, 4.4ms inference, 12.2ms postprocess per image at shape (1, 3, 1088, 1920)\n",
      "\n",
      "image 1/1 /datasets/tdt4265/other/rbk/1_train-val_1min_aalesund_from_start/img1/000007.jpg: 1088x1920 21 players, 4.3ms\n",
      "\n",
      "image 1/1 /datasets/tdt4265/other/rbk/1_train-val_1min_aalesund_from_start/img1/000007.jpg: 1088x1920 1 ball, 2.6ms\n",
      "Speed: 4.4ms preprocess, 4.3ms inference, 10.0ms postprocess per image at shape (1, 3, 1088, 1920)\n",
      "\n",
      "image 1/1 /datasets/tdt4265/other/rbk/1_train-val_1min_aalesund_from_start/img1/000008.jpg: 1088x1920 21 players, 2.4ms\n",
      "\n",
      "image 1/1 /datasets/tdt4265/other/rbk/1_train-val_1min_aalesund_from_start/img1/000008.jpg: 1088x1920 1 ball, 2.3ms\n",
      "Speed: 2.4ms preprocess, 2.4ms inference, 0.5ms postprocess per image at shape (1, 3, 1088, 1920)\n",
      "\n",
      "image 1/1 /datasets/tdt4265/other/rbk/1_train-val_1min_aalesund_from_start/img1/000009.jpg: 1088x1920 21 players, 2.6ms\n",
      "\n",
      "image 1/1 /datasets/tdt4265/other/rbk/1_train-val_1min_aalesund_from_start/img1/000009.jpg: 1088x1920 1 ball, 2.3ms\n",
      "Speed: 3.1ms preprocess, 2.6ms inference, 0.5ms postprocess per image at shape (1, 3, 1088, 1920)\n",
      "\n",
      "image 1/1 /datasets/tdt4265/other/rbk/1_train-val_1min_aalesund_from_start/img1/000010.jpg: 1088x1920 21 players, 2.6ms\n",
      "\n",
      "image 1/1 /datasets/tdt4265/other/rbk/1_train-val_1min_aalesund_from_start/img1/000010.jpg: 1088x1920 1 ball, 4.5ms\n",
      "Speed: 3.1ms preprocess, 2.6ms inference, 0.6ms postprocess per image at shape (1, 3, 1088, 1920)\n",
      "\n",
      "image 1/1 /datasets/tdt4265/other/rbk/1_train-val_1min_aalesund_from_start/img1/000011.jpg: 1088x1920 22 players, 4.5ms\n",
      "\n",
      "image 1/1 /datasets/tdt4265/other/rbk/1_train-val_1min_aalesund_from_start/img1/000011.jpg: 1088x1920 1 ball, 4.3ms\n",
      "Speed: 4.7ms preprocess, 4.5ms inference, 12.1ms postprocess per image at shape (1, 3, 1088, 1920)\n",
      "\n",
      "image 1/1 /datasets/tdt4265/other/rbk/1_train-val_1min_aalesund_from_start/img1/000012.jpg: 1088x1920 22 players, 4.4ms\n",
      "\n",
      "image 1/1 /datasets/tdt4265/other/rbk/1_train-val_1min_aalesund_from_start/img1/000012.jpg: 1088x1920 1 ball, 4.3ms\n",
      "Speed: 4.7ms preprocess, 4.4ms inference, 12.1ms postprocess per image at shape (1, 3, 1088, 1920)\n",
      "\n",
      "image 1/1 /datasets/tdt4265/other/rbk/1_train-val_1min_aalesund_from_start/img1/000013.jpg: 1088x1920 22 players, 4.7ms\n",
      "\n",
      "image 1/1 /datasets/tdt4265/other/rbk/1_train-val_1min_aalesund_from_start/img1/000013.jpg: 1088x1920 1 ball, 4.4ms\n",
      "Speed: 3.4ms preprocess, 4.7ms inference, 11.9ms postprocess per image at shape (1, 3, 1088, 1920)\n",
      "\n",
      "image 1/1 /datasets/tdt4265/other/rbk/1_train-val_1min_aalesund_from_start/img1/000014.jpg: 1088x1920 22 players, 4.3ms\n",
      "\n",
      "image 1/1 /datasets/tdt4265/other/rbk/1_train-val_1min_aalesund_from_start/img1/000014.jpg: 1088x1920 1 ball, 4.4ms\n",
      "Speed: 3.7ms preprocess, 4.3ms inference, 12.3ms postprocess per image at shape (1, 3, 1088, 1920)\n",
      "\n",
      "image 1/1 /datasets/tdt4265/other/rbk/1_train-val_1min_aalesund_from_start/img1/000015.jpg: 1088x1920 22 players, 4.5ms\n",
      "\n",
      "image 1/1 /datasets/tdt4265/other/rbk/1_train-val_1min_aalesund_from_start/img1/000015.jpg: 1088x1920 1 ball, 4.3ms\n",
      "Speed: 3.9ms preprocess, 4.5ms inference, 12.0ms postprocess per image at shape (1, 3, 1088, 1920)\n",
      "\n",
      "image 1/1 /datasets/tdt4265/other/rbk/1_train-val_1min_aalesund_from_start/img1/000016.jpg: 1088x1920 22 players, 4.4ms\n",
      "\n",
      "image 1/1 /datasets/tdt4265/other/rbk/1_train-val_1min_aalesund_from_start/img1/000016.jpg: 1088x1920 1 ball, 2.6ms\n",
      "Speed: 3.5ms preprocess, 4.4ms inference, 8.2ms postprocess per image at shape (1, 3, 1088, 1920)\n",
      "\n",
      "image 1/1 /datasets/tdt4265/other/rbk/1_train-val_1min_aalesund_from_start/img1/000017.jpg: 1088x1920 22 players, 2.5ms\n",
      "\n",
      "image 1/1 /datasets/tdt4265/other/rbk/1_train-val_1min_aalesund_from_start/img1/000017.jpg: 1088x1920 1 ball, 2.3ms\n",
      "Speed: 2.8ms preprocess, 2.5ms inference, 0.6ms postprocess per image at shape (1, 3, 1088, 1920)\n",
      "\n",
      "image 1/1 /datasets/tdt4265/other/rbk/1_train-val_1min_aalesund_from_start/img1/000018.jpg: 1088x1920 22 players, 2.5ms\n",
      "\n",
      "image 1/1 /datasets/tdt4265/other/rbk/1_train-val_1min_aalesund_from_start/img1/000018.jpg: 1088x1920 1 ball, 4.6ms\n",
      "Speed: 3.4ms preprocess, 2.5ms inference, 0.6ms postprocess per image at shape (1, 3, 1088, 1920)\n",
      "\n",
      "image 1/1 /datasets/tdt4265/other/rbk/1_train-val_1min_aalesund_from_start/img1/000019.jpg: 1088x1920 22 players, 4.6ms\n",
      "\n",
      "image 1/1 /datasets/tdt4265/other/rbk/1_train-val_1min_aalesund_from_start/img1/000019.jpg: 1088x1920 1 ball, 4.5ms\n",
      "Speed: 4.8ms preprocess, 4.6ms inference, 11.9ms postprocess per image at shape (1, 3, 1088, 1920)\n",
      "\n",
      "image 1/1 /datasets/tdt4265/other/rbk/1_train-val_1min_aalesund_from_start/img1/000020.jpg: 1088x1920 22 players, 4.9ms\n",
      "\n",
      "image 1/1 /datasets/tdt4265/other/rbk/1_train-val_1min_aalesund_from_start/img1/000020.jpg: 1088x1920 1 ball, 4.3ms\n",
      "Speed: 3.6ms preprocess, 4.9ms inference, 12.3ms postprocess per image at shape (1, 3, 1088, 1920)\n",
      "\n",
      "image 1/1 /datasets/tdt4265/other/rbk/1_train-val_1min_aalesund_from_start/img1/000021.jpg: 1088x1920 22 players, 4.7ms\n",
      "\n",
      "image 1/1 /datasets/tdt4265/other/rbk/1_train-val_1min_aalesund_from_start/img1/000021.jpg: 1088x1920 1 ball, 4.4ms\n",
      "Speed: 4.1ms preprocess, 4.7ms inference, 12.0ms postprocess per image at shape (1, 3, 1088, 1920)\n",
      "\n",
      "image 1/1 /datasets/tdt4265/other/rbk/1_train-val_1min_aalesund_from_start/img1/000022.jpg: 1088x1920 22 players, 4.6ms\n",
      "\n",
      "image 1/1 /datasets/tdt4265/other/rbk/1_train-val_1min_aalesund_from_start/img1/000022.jpg: 1088x1920 1 ball, 4.3ms\n",
      "Speed: 4.1ms preprocess, 4.6ms inference, 11.9ms postprocess per image at shape (1, 3, 1088, 1920)\n",
      "\n",
      "image 1/1 /datasets/tdt4265/other/rbk/1_train-val_1min_aalesund_from_start/img1/000023.jpg: 1088x1920 22 players, 4.3ms\n",
      "\n",
      "image 1/1 /datasets/tdt4265/other/rbk/1_train-val_1min_aalesund_from_start/img1/000023.jpg: 1088x1920 1 ball, 4.4ms\n",
      "Speed: 3.7ms preprocess, 4.3ms inference, 12.2ms postprocess per image at shape (1, 3, 1088, 1920)\n",
      "\n",
      "image 1/1 /datasets/tdt4265/other/rbk/1_train-val_1min_aalesund_from_start/img1/000024.jpg: 1088x1920 22 players, 4.5ms\n",
      "\n",
      "image 1/1 /datasets/tdt4265/other/rbk/1_train-val_1min_aalesund_from_start/img1/000024.jpg: 1088x1920 1 ball, 4.4ms\n",
      "Speed: 4.5ms preprocess, 4.5ms inference, 12.0ms postprocess per image at shape (1, 3, 1088, 1920)\n",
      "\n",
      "image 1/1 /datasets/tdt4265/other/rbk/1_train-val_1min_aalesund_from_start/img1/000025.jpg: 1088x1920 22 players, 4.4ms\n",
      "\n",
      "image 1/1 /datasets/tdt4265/other/rbk/1_train-val_1min_aalesund_from_start/img1/000025.jpg: 1088x1920 1 ball, 4.5ms\n",
      "Speed: 4.2ms preprocess, 4.4ms inference, 12.1ms postprocess per image at shape (1, 3, 1088, 1920)\n",
      "\n",
      "image 1/1 /datasets/tdt4265/other/rbk/1_train-val_1min_aalesund_from_start/img1/000026.jpg: 1088x1920 22 players, 4.5ms\n",
      "\n",
      "image 1/1 /datasets/tdt4265/other/rbk/1_train-val_1min_aalesund_from_start/img1/000026.jpg: 1088x1920 1 ball, 4.4ms\n",
      "Speed: 4.0ms preprocess, 4.5ms inference, 12.0ms postprocess per image at shape (1, 3, 1088, 1920)\n",
      "\n",
      "image 1/1 /datasets/tdt4265/other/rbk/1_train-val_1min_aalesund_from_start/img1/000027.jpg: 1088x1920 21 players, 5.1ms\n",
      "\n",
      "image 1/1 /datasets/tdt4265/other/rbk/1_train-val_1min_aalesund_from_start/img1/000027.jpg: 1088x1920 1 ball, 4.3ms\n",
      "Speed: 3.7ms preprocess, 5.1ms inference, 12.1ms postprocess per image at shape (1, 3, 1088, 1920)\n",
      "\n",
      "image 1/1 /datasets/tdt4265/other/rbk/1_train-val_1min_aalesund_from_start/img1/000028.jpg: 1088x1920 21 players, 4.3ms\n",
      "\n",
      "image 1/1 /datasets/tdt4265/other/rbk/1_train-val_1min_aalesund_from_start/img1/000028.jpg: 1088x1920 1 ball, 4.4ms\n",
      "Speed: 4.7ms preprocess, 4.3ms inference, 12.2ms postprocess per image at shape (1, 3, 1088, 1920)\n",
      "\n",
      "image 1/1 /datasets/tdt4265/other/rbk/1_train-val_1min_aalesund_from_start/img1/000029.jpg: 1088x1920 21 players, 4.5ms\n",
      "\n",
      "image 1/1 /datasets/tdt4265/other/rbk/1_train-val_1min_aalesund_from_start/img1/000029.jpg: 1088x1920 1 ball, 4.3ms\n",
      "Speed: 4.6ms preprocess, 4.5ms inference, 12.1ms postprocess per image at shape (1, 3, 1088, 1920)\n",
      "\n",
      "image 1/1 /datasets/tdt4265/other/rbk/1_train-val_1min_aalesund_from_start/img1/000030.jpg: 1088x1920 20 players, 4.3ms\n",
      "\n",
      "image 1/1 /datasets/tdt4265/other/rbk/1_train-val_1min_aalesund_from_start/img1/000030.jpg: 1088x1920 1 ball, 4.6ms\n",
      "Speed: 4.2ms preprocess, 4.3ms inference, 12.3ms postprocess per image at shape (1, 3, 1088, 1920)\n",
      "\n",
      "image 1/1 /datasets/tdt4265/other/rbk/1_train-val_1min_aalesund_from_start/img1/000031.jpg: 1088x1920 20 players, 4.6ms\n",
      "\n",
      "image 1/1 /datasets/tdt4265/other/rbk/1_train-val_1min_aalesund_from_start/img1/000031.jpg: 1088x1920 1 ball, 4.3ms\n",
      "Speed: 4.0ms preprocess, 4.6ms inference, 11.8ms postprocess per image at shape (1, 3, 1088, 1920)\n",
      "\n",
      "image 1/1 /datasets/tdt4265/other/rbk/1_train-val_1min_aalesund_from_start/img1/000032.jpg: 1088x1920 20 players, 4.4ms\n",
      "\n",
      "image 1/1 /datasets/tdt4265/other/rbk/1_train-val_1min_aalesund_from_start/img1/000032.jpg: 1088x1920 1 ball, 2.5ms\n",
      "Speed: 3.8ms preprocess, 4.4ms inference, 12.2ms postprocess per image at shape (1, 3, 1088, 1920)\n",
      "\n",
      "image 1/1 /datasets/tdt4265/other/rbk/1_train-val_1min_aalesund_from_start/img1/000033.jpg: 1088x1920 20 players, 2.4ms\n",
      "\n",
      "image 1/1 /datasets/tdt4265/other/rbk/1_train-val_1min_aalesund_from_start/img1/000033.jpg: 1088x1920 1 ball, 2.4ms\n",
      "Speed: 3.2ms preprocess, 2.4ms inference, 0.5ms postprocess per image at shape (1, 3, 1088, 1920)\n",
      "\n",
      "image 1/1 /datasets/tdt4265/other/rbk/1_train-val_1min_aalesund_from_start/img1/000034.jpg: 1088x1920 20 players, 2.4ms\n",
      "\n",
      "image 1/1 /datasets/tdt4265/other/rbk/1_train-val_1min_aalesund_from_start/img1/000034.jpg: 1088x1920 1 ball, 2.6ms\n",
      "Speed: 2.9ms preprocess, 2.4ms inference, 0.5ms postprocess per image at shape (1, 3, 1088, 1920)\n",
      "\n",
      "image 1/1 /datasets/tdt4265/other/rbk/1_train-val_1min_aalesund_from_start/img1/000035.jpg: 1088x1920 20 players, 2.4ms\n",
      "\n",
      "image 1/1 /datasets/tdt4265/other/rbk/1_train-val_1min_aalesund_from_start/img1/000035.jpg: 1088x1920 1 ball, 2.3ms\n",
      "Speed: 3.2ms preprocess, 2.4ms inference, 0.5ms postprocess per image at shape (1, 3, 1088, 1920)\n",
      "\n",
      "image 1/1 /datasets/tdt4265/other/rbk/1_train-val_1min_aalesund_from_start/img1/000036.jpg: 1088x1920 22 players, 2.4ms\n",
      "\n",
      "image 1/1 /datasets/tdt4265/other/rbk/1_train-val_1min_aalesund_from_start/img1/000036.jpg: 1088x1920 1 ball, 2.6ms\n",
      "Speed: 3.1ms preprocess, 2.4ms inference, 0.6ms postprocess per image at shape (1, 3, 1088, 1920)\n",
      "\n",
      "image 1/1 /datasets/tdt4265/other/rbk/1_train-val_1min_aalesund_from_start/img1/000037.jpg: 1088x1920 22 players, 3.1ms\n",
      "\n",
      "image 1/1 /datasets/tdt4265/other/rbk/1_train-val_1min_aalesund_from_start/img1/000037.jpg: 1088x1920 1 ball, 3.2ms\n",
      "Speed: 2.5ms preprocess, 3.1ms inference, 0.6ms postprocess per image at shape (1, 3, 1088, 1920)\n",
      "\n",
      "image 1/1 /datasets/tdt4265/other/rbk/1_train-val_1min_aalesund_from_start/img1/000038.jpg: 1088x1920 22 players, 3.1ms\n",
      "\n",
      "image 1/1 /datasets/tdt4265/other/rbk/1_train-val_1min_aalesund_from_start/img1/000038.jpg: 1088x1920 1 ball, 2.7ms\n",
      "Speed: 3.6ms preprocess, 3.1ms inference, 0.7ms postprocess per image at shape (1, 3, 1088, 1920)\n",
      "\n",
      "image 1/1 /datasets/tdt4265/other/rbk/1_train-val_1min_aalesund_from_start/img1/000039.jpg: 1088x1920 22 players, 2.4ms\n",
      "\n",
      "image 1/1 /datasets/tdt4265/other/rbk/1_train-val_1min_aalesund_from_start/img1/000039.jpg: 1088x1920 1 ball, 2.4ms\n",
      "Speed: 3.2ms preprocess, 2.4ms inference, 0.5ms postprocess per image at shape (1, 3, 1088, 1920)\n",
      "\n",
      "image 1/1 /datasets/tdt4265/other/rbk/1_train-val_1min_aalesund_from_start/img1/000040.jpg: 1088x1920 22 players, 2.4ms\n",
      "\n",
      "image 1/1 /datasets/tdt4265/other/rbk/1_train-val_1min_aalesund_from_start/img1/000040.jpg: 1088x1920 1 ball, 2.7ms\n",
      "Speed: 2.2ms preprocess, 2.4ms inference, 0.5ms postprocess per image at shape (1, 3, 1088, 1920)\n",
      "\n",
      "image 1/1 /datasets/tdt4265/other/rbk/1_train-val_1min_aalesund_from_start/img1/000041.jpg: 1088x1920 22 players, 2.8ms\n",
      "\n",
      "image 1/1 /datasets/tdt4265/other/rbk/1_train-val_1min_aalesund_from_start/img1/000041.jpg: 1088x1920 1 ball, 2.7ms\n",
      "Speed: 2.3ms preprocess, 2.8ms inference, 0.6ms postprocess per image at shape (1, 3, 1088, 1920)\n",
      "\n",
      "image 1/1 /datasets/tdt4265/other/rbk/1_train-val_1min_aalesund_from_start/img1/000042.jpg: 1088x1920 22 players, 2.7ms\n",
      "\n",
      "image 1/1 /datasets/tdt4265/other/rbk/1_train-val_1min_aalesund_from_start/img1/000042.jpg: 1088x1920 1 ball, 2.7ms\n",
      "Speed: 3.2ms preprocess, 2.7ms inference, 0.6ms postprocess per image at shape (1, 3, 1088, 1920)\n",
      "\n",
      "image 1/1 /datasets/tdt4265/other/rbk/1_train-val_1min_aalesund_from_start/img1/000043.jpg: 1088x1920 21 players, 2.5ms\n",
      "\n",
      "image 1/1 /datasets/tdt4265/other/rbk/1_train-val_1min_aalesund_from_start/img1/000043.jpg: 1088x1920 1 ball, 2.4ms\n",
      "Speed: 2.5ms preprocess, 2.5ms inference, 0.6ms postprocess per image at shape (1, 3, 1088, 1920)\n",
      "\n",
      "image 1/1 /datasets/tdt4265/other/rbk/1_train-val_1min_aalesund_from_start/img1/000044.jpg: 1088x1920 22 players, 2.4ms\n",
      "\n",
      "image 1/1 /datasets/tdt4265/other/rbk/1_train-val_1min_aalesund_from_start/img1/000044.jpg: 1088x1920 1 ball, 2.4ms\n",
      "Speed: 2.3ms preprocess, 2.4ms inference, 0.5ms postprocess per image at shape (1, 3, 1088, 1920)\n",
      "\n",
      "image 1/1 /datasets/tdt4265/other/rbk/1_train-val_1min_aalesund_from_start/img1/000045.jpg: 1088x1920 21 players, 2.4ms\n",
      "\n",
      "image 1/1 /datasets/tdt4265/other/rbk/1_train-val_1min_aalesund_from_start/img1/000045.jpg: 1088x1920 1 ball, 2.4ms\n",
      "Speed: 2.4ms preprocess, 2.4ms inference, 0.6ms postprocess per image at shape (1, 3, 1088, 1920)\n",
      "\n",
      "image 1/1 /datasets/tdt4265/other/rbk/1_train-val_1min_aalesund_from_start/img1/000046.jpg: 1088x1920 22 players, 2.7ms\n",
      "\n",
      "image 1/1 /datasets/tdt4265/other/rbk/1_train-val_1min_aalesund_from_start/img1/000046.jpg: 1088x1920 1 ball, 2.7ms\n",
      "Speed: 4.2ms preprocess, 2.7ms inference, 0.6ms postprocess per image at shape (1, 3, 1088, 1920)\n",
      "\n",
      "image 1/1 /datasets/tdt4265/other/rbk/1_train-val_1min_aalesund_from_start/img1/000047.jpg: 1088x1920 22 players, 2.7ms\n",
      "\n",
      "image 1/1 /datasets/tdt4265/other/rbk/1_train-val_1min_aalesund_from_start/img1/000047.jpg: 1088x1920 1 ball, 2.9ms\n",
      "Speed: 3.3ms preprocess, 2.7ms inference, 0.6ms postprocess per image at shape (1, 3, 1088, 1920)\n",
      "\n",
      "image 1/1 /datasets/tdt4265/other/rbk/1_train-val_1min_aalesund_from_start/img1/000048.jpg: 1088x1920 22 players, 2.7ms\n",
      "\n",
      "image 1/1 /datasets/tdt4265/other/rbk/1_train-val_1min_aalesund_from_start/img1/000048.jpg: 1088x1920 1 ball, 2.7ms\n",
      "Speed: 2.5ms preprocess, 2.7ms inference, 0.6ms postprocess per image at shape (1, 3, 1088, 1920)\n",
      "\n",
      "image 1/1 /datasets/tdt4265/other/rbk/1_train-val_1min_aalesund_from_start/img1/000049.jpg: 1088x1920 22 players, 2.6ms\n",
      "\n",
      "image 1/1 /datasets/tdt4265/other/rbk/1_train-val_1min_aalesund_from_start/img1/000049.jpg: 1088x1920 1 ball, 2.4ms\n",
      "Speed: 3.2ms preprocess, 2.6ms inference, 0.5ms postprocess per image at shape (1, 3, 1088, 1920)\n",
      "\n",
      "image 1/1 /datasets/tdt4265/other/rbk/1_train-val_1min_aalesund_from_start/img1/000050.jpg: 1088x1920 22 players, 12.4ms\n",
      "\n",
      "image 1/1 /datasets/tdt4265/other/rbk/1_train-val_1min_aalesund_from_start/img1/000050.jpg: 1088x1920 1 ball, 8.9ms\n",
      "Speed: 14.4ms preprocess, 12.4ms inference, 2.4ms postprocess per image at shape (1, 3, 1088, 1920)\n",
      "\n",
      "image 1/1 /datasets/tdt4265/other/rbk/1_train-val_1min_aalesund_from_start/img1/000051.jpg: 1088x1920 22 players, 7.8ms\n",
      "\n",
      "image 1/1 /datasets/tdt4265/other/rbk/1_train-val_1min_aalesund_from_start/img1/000051.jpg: 1088x1920 1 ball, 7.3ms\n",
      "Speed: 10.4ms preprocess, 7.8ms inference, 1.9ms postprocess per image at shape (1, 3, 1088, 1920)\n",
      "\n",
      "image 1/1 /datasets/tdt4265/other/rbk/1_train-val_1min_aalesund_from_start/img1/000052.jpg: 1088x1920 22 players, 6.8ms\n",
      "\n",
      "image 1/1 /datasets/tdt4265/other/rbk/1_train-val_1min_aalesund_from_start/img1/000052.jpg: 1088x1920 1 ball, 4.5ms\n",
      "Speed: 11.8ms preprocess, 6.8ms inference, 2.1ms postprocess per image at shape (1, 3, 1088, 1920)\n",
      "\n",
      "image 1/1 /datasets/tdt4265/other/rbk/1_train-val_1min_aalesund_from_start/img1/000053.jpg: 1088x1920 22 players, 7.2ms\n",
      "\n",
      "image 1/1 /datasets/tdt4265/other/rbk/1_train-val_1min_aalesund_from_start/img1/000053.jpg: 1088x1920 1 ball, 4.2ms\n",
      "Speed: 10.3ms preprocess, 7.2ms inference, 2.0ms postprocess per image at shape (1, 3, 1088, 1920)\n",
      "\n",
      "image 1/1 /datasets/tdt4265/other/rbk/1_train-val_1min_aalesund_from_start/img1/000054.jpg: 1088x1920 22 players, 8.9ms\n",
      "\n",
      "image 1/1 /datasets/tdt4265/other/rbk/1_train-val_1min_aalesund_from_start/img1/000054.jpg: 1088x1920 1 ball, 4.0ms\n",
      "Speed: 7.7ms preprocess, 8.9ms inference, 2.2ms postprocess per image at shape (1, 3, 1088, 1920)\n",
      "\n",
      "image 1/1 /datasets/tdt4265/other/rbk/1_train-val_1min_aalesund_from_start/img1/000055.jpg: 1088x1920 22 players, 10.4ms\n",
      "\n",
      "image 1/1 /datasets/tdt4265/other/rbk/1_train-val_1min_aalesund_from_start/img1/000055.jpg: 1088x1920 1 ball, 8.2ms\n",
      "Speed: 8.6ms preprocess, 10.4ms inference, 3.1ms postprocess per image at shape (1, 3, 1088, 1920)\n",
      "\n",
      "image 1/1 /datasets/tdt4265/other/rbk/1_train-val_1min_aalesund_from_start/img1/000056.jpg: 1088x1920 22 players, 4.1ms\n",
      "\n",
      "image 1/1 /datasets/tdt4265/other/rbk/1_train-val_1min_aalesund_from_start/img1/000056.jpg: 1088x1920 1 ball, 3.6ms\n",
      "Speed: 3.7ms preprocess, 4.1ms inference, 0.8ms postprocess per image at shape (1, 3, 1088, 1920)\n",
      "\n",
      "image 1/1 /datasets/tdt4265/other/rbk/1_train-val_1min_aalesund_from_start/img1/000057.jpg: 1088x1920 22 players, 7.1ms\n",
      "\n",
      "image 1/1 /datasets/tdt4265/other/rbk/1_train-val_1min_aalesund_from_start/img1/000057.jpg: 1088x1920 1 ball, 3.7ms\n",
      "Speed: 6.0ms preprocess, 7.1ms inference, 1.7ms postprocess per image at shape (1, 3, 1088, 1920)\n",
      "\n",
      "image 1/1 /datasets/tdt4265/other/rbk/1_train-val_1min_aalesund_from_start/img1/000058.jpg: 1088x1920 21 players, 4.1ms\n",
      "\n",
      "image 1/1 /datasets/tdt4265/other/rbk/1_train-val_1min_aalesund_from_start/img1/000058.jpg: 1088x1920 1 ball, 5.1ms\n",
      "Speed: 4.7ms preprocess, 4.1ms inference, 1.1ms postprocess per image at shape (1, 3, 1088, 1920)\n",
      "\n",
      "image 1/1 /datasets/tdt4265/other/rbk/1_train-val_1min_aalesund_from_start/img1/000059.jpg: 1088x1920 20 players, 8.0ms\n",
      "\n",
      "image 1/1 /datasets/tdt4265/other/rbk/1_train-val_1min_aalesund_from_start/img1/000059.jpg: 1088x1920 1 ball, 4.3ms\n",
      "Speed: 5.7ms preprocess, 8.0ms inference, 2.0ms postprocess per image at shape (1, 3, 1088, 1920)\n",
      "\n",
      "image 1/1 /datasets/tdt4265/other/rbk/1_train-val_1min_aalesund_from_start/img1/000060.jpg: 1088x1920 20 players, 3.5ms\n",
      "\n",
      "image 1/1 /datasets/tdt4265/other/rbk/1_train-val_1min_aalesund_from_start/img1/000060.jpg: 1088x1920 1 ball, 3.8ms\n",
      "Speed: 4.6ms preprocess, 3.5ms inference, 0.9ms postprocess per image at shape (1, 3, 1088, 1920)\n",
      "\n",
      "image 1/1 /datasets/tdt4265/other/rbk/1_train-val_1min_aalesund_from_start/img1/000061.jpg: 1088x1920 20 players, 2.8ms\n",
      "\n",
      "image 1/1 /datasets/tdt4265/other/rbk/1_train-val_1min_aalesund_from_start/img1/000061.jpg: 1088x1920 1 ball, 3.1ms\n",
      "Speed: 3.7ms preprocess, 2.8ms inference, 0.6ms postprocess per image at shape (1, 3, 1088, 1920)\n",
      "\n",
      "image 1/1 /datasets/tdt4265/other/rbk/1_train-val_1min_aalesund_from_start/img1/000062.jpg: 1088x1920 21 players, 4.5ms\n",
      "\n",
      "image 1/1 /datasets/tdt4265/other/rbk/1_train-val_1min_aalesund_from_start/img1/000062.jpg: 1088x1920 1 ball, 3.6ms\n",
      "Speed: 4.9ms preprocess, 4.5ms inference, 1.1ms postprocess per image at shape (1, 3, 1088, 1920)\n",
      "\n",
      "image 1/1 /datasets/tdt4265/other/rbk/1_train-val_1min_aalesund_from_start/img1/000063.jpg: 1088x1920 22 players, 3.2ms\n",
      "\n",
      "image 1/1 /datasets/tdt4265/other/rbk/1_train-val_1min_aalesund_from_start/img1/000063.jpg: 1088x1920 1 ball, 3.3ms\n",
      "Speed: 3.5ms preprocess, 3.2ms inference, 0.7ms postprocess per image at shape (1, 3, 1088, 1920)\n",
      "\n",
      "image 1/1 /datasets/tdt4265/other/rbk/1_train-val_1min_aalesund_from_start/img1/000064.jpg: 1088x1920 22 players, 3.5ms\n",
      "\n",
      "image 1/1 /datasets/tdt4265/other/rbk/1_train-val_1min_aalesund_from_start/img1/000064.jpg: 1088x1920 1 ball, 3.6ms\n",
      "Speed: 3.5ms preprocess, 3.5ms inference, 0.8ms postprocess per image at shape (1, 3, 1088, 1920)\n",
      "\n",
      "image 1/1 /datasets/tdt4265/other/rbk/1_train-val_1min_aalesund_from_start/img1/000065.jpg: 1088x1920 22 players, 3.5ms\n",
      "\n",
      "image 1/1 /datasets/tdt4265/other/rbk/1_train-val_1min_aalesund_from_start/img1/000065.jpg: 1088x1920 1 ball, 3.1ms\n",
      "Speed: 4.4ms preprocess, 3.5ms inference, 0.8ms postprocess per image at shape (1, 3, 1088, 1920)\n",
      "\n",
      "image 1/1 /datasets/tdt4265/other/rbk/1_train-val_1min_aalesund_from_start/img1/000066.jpg: 1088x1920 22 players, 4.6ms\n",
      "\n",
      "image 1/1 /datasets/tdt4265/other/rbk/1_train-val_1min_aalesund_from_start/img1/000066.jpg: 1088x1920 1 ball, 2.5ms\n",
      "Speed: 4.0ms preprocess, 4.6ms inference, 1.0ms postprocess per image at shape (1, 3, 1088, 1920)\n",
      "\n",
      "image 1/1 /datasets/tdt4265/other/rbk/1_train-val_1min_aalesund_from_start/img1/000067.jpg: 1088x1920 22 players, 7.0ms\n",
      "\n",
      "image 1/1 /datasets/tdt4265/other/rbk/1_train-val_1min_aalesund_from_start/img1/000067.jpg: 1088x1920 1 ball, 7.3ms\n",
      "Speed: 3.1ms preprocess, 7.0ms inference, 12.3ms postprocess per image at shape (1, 3, 1088, 1920)\n",
      "\n",
      "image 1/1 /datasets/tdt4265/other/rbk/1_train-val_1min_aalesund_from_start/img1/000068.jpg: 1088x1920 22 players, 4.3ms\n",
      "\n",
      "image 1/1 /datasets/tdt4265/other/rbk/1_train-val_1min_aalesund_from_start/img1/000068.jpg: 1088x1920 1 ball, 4.5ms\n",
      "Speed: 3.4ms preprocess, 4.3ms inference, 12.2ms postprocess per image at shape (1, 3, 1088, 1920)\n",
      "\n",
      "image 1/1 /datasets/tdt4265/other/rbk/1_train-val_1min_aalesund_from_start/img1/000069.jpg: 1088x1920 21 players, 4.3ms\n",
      "\n",
      "image 1/1 /datasets/tdt4265/other/rbk/1_train-val_1min_aalesund_from_start/img1/000069.jpg: 1088x1920 1 ball, 4.5ms\n",
      "Speed: 5.3ms preprocess, 4.3ms inference, 12.3ms postprocess per image at shape (1, 3, 1088, 1920)\n",
      "\n",
      "image 1/1 /datasets/tdt4265/other/rbk/1_train-val_1min_aalesund_from_start/img1/000070.jpg: 1088x1920 22 players, 4.5ms\n",
      "\n",
      "image 1/1 /datasets/tdt4265/other/rbk/1_train-val_1min_aalesund_from_start/img1/000070.jpg: 1088x1920 1 ball, 4.5ms\n",
      "Speed: 5.3ms preprocess, 4.5ms inference, 12.1ms postprocess per image at shape (1, 3, 1088, 1920)\n",
      "\n",
      "image 1/1 /datasets/tdt4265/other/rbk/1_train-val_1min_aalesund_from_start/img1/000071.jpg: 1088x1920 22 players, 4.3ms\n",
      "\n",
      "image 1/1 /datasets/tdt4265/other/rbk/1_train-val_1min_aalesund_from_start/img1/000071.jpg: 1088x1920 1 ball, 4.4ms\n",
      "Speed: 3.6ms preprocess, 4.3ms inference, 12.3ms postprocess per image at shape (1, 3, 1088, 1920)\n",
      "\n",
      "image 1/1 /datasets/tdt4265/other/rbk/1_train-val_1min_aalesund_from_start/img1/000072.jpg: 1088x1920 22 players, 4.4ms\n",
      "\n",
      "image 1/1 /datasets/tdt4265/other/rbk/1_train-val_1min_aalesund_from_start/img1/000072.jpg: 1088x1920 1 ball, 4.3ms\n",
      "Speed: 5.3ms preprocess, 4.4ms inference, 12.2ms postprocess per image at shape (1, 3, 1088, 1920)\n",
      "\n",
      "image 1/1 /datasets/tdt4265/other/rbk/1_train-val_1min_aalesund_from_start/img1/000073.jpg: 1088x1920 22 players, 4.4ms\n",
      "\n",
      "image 1/1 /datasets/tdt4265/other/rbk/1_train-val_1min_aalesund_from_start/img1/000073.jpg: 1088x1920 1 ball, 4.3ms\n",
      "Speed: 5.3ms preprocess, 4.4ms inference, 12.2ms postprocess per image at shape (1, 3, 1088, 1920)\n",
      "\n",
      "image 1/1 /datasets/tdt4265/other/rbk/1_train-val_1min_aalesund_from_start/img1/000074.jpg: 1088x1920 22 players, 4.4ms\n",
      "\n",
      "image 1/1 /datasets/tdt4265/other/rbk/1_train-val_1min_aalesund_from_start/img1/000074.jpg: 1088x1920 1 ball, 4.3ms\n",
      "Speed: 4.6ms preprocess, 4.4ms inference, 12.3ms postprocess per image at shape (1, 3, 1088, 1920)\n",
      "\n",
      "image 1/1 /datasets/tdt4265/other/rbk/1_train-val_1min_aalesund_from_start/img1/000075.jpg: 1088x1920 21 players, 3.3ms\n",
      "\n",
      "image 1/1 /datasets/tdt4265/other/rbk/1_train-val_1min_aalesund_from_start/img1/000075.jpg: 1088x1920 1 ball, 4.3ms\n",
      "Speed: 2.4ms preprocess, 3.3ms inference, 12.2ms postprocess per image at shape (1, 3, 1088, 1920)\n",
      "\n",
      "image 1/1 /datasets/tdt4265/other/rbk/1_train-val_1min_aalesund_from_start/img1/000076.jpg: 1088x1920 22 players, 4.2ms\n",
      "\n",
      "image 1/1 /datasets/tdt4265/other/rbk/1_train-val_1min_aalesund_from_start/img1/000076.jpg: 1088x1920 1 ball, 4.3ms\n",
      "Speed: 3.2ms preprocess, 4.2ms inference, 12.2ms postprocess per image at shape (1, 3, 1088, 1920)\n",
      "\n",
      "image 1/1 /datasets/tdt4265/other/rbk/1_train-val_1min_aalesund_from_start/img1/000077.jpg: 1088x1920 21 players, 4.5ms\n",
      "\n",
      "image 1/1 /datasets/tdt4265/other/rbk/1_train-val_1min_aalesund_from_start/img1/000077.jpg: 1088x1920 1 ball, 4.5ms\n",
      "Speed: 5.8ms preprocess, 4.5ms inference, 12.4ms postprocess per image at shape (1, 3, 1088, 1920)\n",
      "\n",
      "image 1/1 /datasets/tdt4265/other/rbk/1_train-val_1min_aalesund_from_start/img1/000078.jpg: 1088x1920 22 players, 4.5ms\n",
      "\n",
      "image 1/1 /datasets/tdt4265/other/rbk/1_train-val_1min_aalesund_from_start/img1/000078.jpg: 1088x1920 1 ball, 4.5ms\n",
      "Speed: 3.3ms preprocess, 4.5ms inference, 11.9ms postprocess per image at shape (1, 3, 1088, 1920)\n",
      "\n",
      "image 1/1 /datasets/tdt4265/other/rbk/1_train-val_1min_aalesund_from_start/img1/000079.jpg: 1088x1920 21 players, 4.6ms\n",
      "\n",
      "image 1/1 /datasets/tdt4265/other/rbk/1_train-val_1min_aalesund_from_start/img1/000079.jpg: 1088x1920 1 ball, 4.4ms\n",
      "Speed: 5.6ms preprocess, 4.6ms inference, 12.0ms postprocess per image at shape (1, 3, 1088, 1920)\n",
      "\n",
      "image 1/1 /datasets/tdt4265/other/rbk/1_train-val_1min_aalesund_from_start/img1/000080.jpg: 1088x1920 21 players, 4.5ms\n",
      "\n",
      "image 1/1 /datasets/tdt4265/other/rbk/1_train-val_1min_aalesund_from_start/img1/000080.jpg: 1088x1920 1 ball, 4.3ms\n",
      "Speed: 3.3ms preprocess, 4.5ms inference, 12.0ms postprocess per image at shape (1, 3, 1088, 1920)\n",
      "\n",
      "image 1/1 /datasets/tdt4265/other/rbk/1_train-val_1min_aalesund_from_start/img1/000081.jpg: 1088x1920 22 players, 4.3ms\n",
      "\n",
      "image 1/1 /datasets/tdt4265/other/rbk/1_train-val_1min_aalesund_from_start/img1/000081.jpg: 1088x1920 1 ball, 4.3ms\n",
      "Speed: 3.4ms preprocess, 4.3ms inference, 12.2ms postprocess per image at shape (1, 3, 1088, 1920)\n",
      "\n",
      "image 1/1 /datasets/tdt4265/other/rbk/1_train-val_1min_aalesund_from_start/img1/000082.jpg: 1088x1920 21 players, 4.5ms\n",
      "\n",
      "image 1/1 /datasets/tdt4265/other/rbk/1_train-val_1min_aalesund_from_start/img1/000082.jpg: 1088x1920 1 ball, 4.6ms\n",
      "Speed: 5.8ms preprocess, 4.5ms inference, 12.3ms postprocess per image at shape (1, 3, 1088, 1920)\n",
      "\n",
      "image 1/1 /datasets/tdt4265/other/rbk/1_train-val_1min_aalesund_from_start/img1/000083.jpg: 1088x1920 22 players, 4.3ms\n",
      "\n",
      "image 1/1 /datasets/tdt4265/other/rbk/1_train-val_1min_aalesund_from_start/img1/000083.jpg: 1088x1920 1 ball, 4.4ms\n",
      "Speed: 3.9ms preprocess, 4.3ms inference, 12.2ms postprocess per image at shape (1, 3, 1088, 1920)\n",
      "\n",
      "image 1/1 /datasets/tdt4265/other/rbk/1_train-val_1min_aalesund_from_start/img1/000084.jpg: 1088x1920 21 players, 4.3ms\n",
      "\n",
      "image 1/1 /datasets/tdt4265/other/rbk/1_train-val_1min_aalesund_from_start/img1/000084.jpg: 1088x1920 1 ball, 4.2ms\n",
      "Speed: 5.5ms preprocess, 4.3ms inference, 12.3ms postprocess per image at shape (1, 3, 1088, 1920)\n",
      "\n",
      "image 1/1 /datasets/tdt4265/other/rbk/1_train-val_1min_aalesund_from_start/img1/000085.jpg: 1088x1920 21 players, 5.1ms\n",
      "\n",
      "image 1/1 /datasets/tdt4265/other/rbk/1_train-val_1min_aalesund_from_start/img1/000085.jpg: 1088x1920 1 ball, 4.5ms\n",
      "Speed: 3.1ms preprocess, 5.1ms inference, 12.5ms postprocess per image at shape (1, 3, 1088, 1920)\n",
      "\n",
      "image 1/1 /datasets/tdt4265/other/rbk/1_train-val_1min_aalesund_from_start/img1/000086.jpg: 1088x1920 22 players, 4.6ms\n",
      "\n",
      "image 1/1 /datasets/tdt4265/other/rbk/1_train-val_1min_aalesund_from_start/img1/000086.jpg: 1088x1920 1 ball, 4.3ms\n",
      "Speed: 5.8ms preprocess, 4.6ms inference, 11.8ms postprocess per image at shape (1, 3, 1088, 1920)\n",
      "\n",
      "image 1/1 /datasets/tdt4265/other/rbk/1_train-val_1min_aalesund_from_start/img1/000087.jpg: 1088x1920 21 players, 4.5ms\n",
      "\n",
      "image 1/1 /datasets/tdt4265/other/rbk/1_train-val_1min_aalesund_from_start/img1/000087.jpg: 1088x1920 1 ball, 4.3ms\n",
      "Speed: 3.3ms preprocess, 4.5ms inference, 12.2ms postprocess per image at shape (1, 3, 1088, 1920)\n",
      "\n",
      "image 1/1 /datasets/tdt4265/other/rbk/1_train-val_1min_aalesund_from_start/img1/000088.jpg: 1088x1920 21 players, 4.3ms\n",
      "\n",
      "image 1/1 /datasets/tdt4265/other/rbk/1_train-val_1min_aalesund_from_start/img1/000088.jpg: 1088x1920 1 ball, 4.3ms\n",
      "Speed: 3.8ms preprocess, 4.3ms inference, 12.2ms postprocess per image at shape (1, 3, 1088, 1920)\n",
      "\n",
      "image 1/1 /datasets/tdt4265/other/rbk/1_train-val_1min_aalesund_from_start/img1/000089.jpg: 1088x1920 21 players, 4.5ms\n",
      "\n",
      "image 1/1 /datasets/tdt4265/other/rbk/1_train-val_1min_aalesund_from_start/img1/000089.jpg: 1088x1920 1 ball, 4.3ms\n",
      "Speed: 5.9ms preprocess, 4.5ms inference, 12.3ms postprocess per image at shape (1, 3, 1088, 1920)\n",
      "\n",
      "image 1/1 /datasets/tdt4265/other/rbk/1_train-val_1min_aalesund_from_start/img1/000090.jpg: 1088x1920 21 players, 4.4ms\n",
      "\n",
      "image 1/1 /datasets/tdt4265/other/rbk/1_train-val_1min_aalesund_from_start/img1/000090.jpg: 1088x1920 1 ball, 4.3ms\n",
      "Speed: 3.4ms preprocess, 4.4ms inference, 12.2ms postprocess per image at shape (1, 3, 1088, 1920)\n",
      "\n",
      "image 1/1 /datasets/tdt4265/other/rbk/1_train-val_1min_aalesund_from_start/img1/000091.jpg: 1088x1920 21 players, 4.4ms\n",
      "\n",
      "image 1/1 /datasets/tdt4265/other/rbk/1_train-val_1min_aalesund_from_start/img1/000091.jpg: 1088x1920 1 ball, 4.5ms\n",
      "Speed: 3.2ms preprocess, 4.4ms inference, 12.0ms postprocess per image at shape (1, 3, 1088, 1920)\n",
      "\n",
      "image 1/1 /datasets/tdt4265/other/rbk/1_train-val_1min_aalesund_from_start/img1/000092.jpg: 1088x1920 22 players, 4.6ms\n",
      "\n",
      "image 1/1 /datasets/tdt4265/other/rbk/1_train-val_1min_aalesund_from_start/img1/000092.jpg: 1088x1920 1 ball, 4.4ms\n",
      "Speed: 5.8ms preprocess, 4.6ms inference, 12.0ms postprocess per image at shape (1, 3, 1088, 1920)\n",
      "\n",
      "image 1/1 /datasets/tdt4265/other/rbk/1_train-val_1min_aalesund_from_start/img1/000093.jpg: 1088x1920 22 players, 4.4ms\n",
      "\n",
      "image 1/1 /datasets/tdt4265/other/rbk/1_train-val_1min_aalesund_from_start/img1/000093.jpg: 1088x1920 1 ball, 4.3ms\n",
      "Speed: 3.1ms preprocess, 4.4ms inference, 12.1ms postprocess per image at shape (1, 3, 1088, 1920)\n",
      "\n",
      "image 1/1 /datasets/tdt4265/other/rbk/1_train-val_1min_aalesund_from_start/img1/000094.jpg: 1088x1920 22 players, 4.9ms\n",
      "\n",
      "image 1/1 /datasets/tdt4265/other/rbk/1_train-val_1min_aalesund_from_start/img1/000094.jpg: 1088x1920 1 ball, 4.3ms\n",
      "Speed: 3.6ms preprocess, 4.9ms inference, 12.4ms postprocess per image at shape (1, 3, 1088, 1920)\n",
      "\n",
      "image 1/1 /datasets/tdt4265/other/rbk/1_train-val_1min_aalesund_from_start/img1/000095.jpg: 1088x1920 22 players, 4.3ms\n",
      "\n",
      "image 1/1 /datasets/tdt4265/other/rbk/1_train-val_1min_aalesund_from_start/img1/000095.jpg: 1088x1920 1 ball, 4.4ms\n",
      "Speed: 5.3ms preprocess, 4.3ms inference, 12.3ms postprocess per image at shape (1, 3, 1088, 1920)\n",
      "\n",
      "image 1/1 /datasets/tdt4265/other/rbk/1_train-val_1min_aalesund_from_start/img1/000096.jpg: 1088x1920 22 players, 4.4ms\n",
      "\n",
      "image 1/1 /datasets/tdt4265/other/rbk/1_train-val_1min_aalesund_from_start/img1/000096.jpg: 1088x1920 1 ball, 4.4ms\n",
      "Speed: 3.9ms preprocess, 4.4ms inference, 12.1ms postprocess per image at shape (1, 3, 1088, 1920)\n",
      "\n",
      "image 1/1 /datasets/tdt4265/other/rbk/1_train-val_1min_aalesund_from_start/img1/000097.jpg: 1088x1920 21 players, 2.5ms\n",
      "\n",
      "image 1/1 /datasets/tdt4265/other/rbk/1_train-val_1min_aalesund_from_start/img1/000097.jpg: 1088x1920 1 ball, 4.4ms\n",
      "Speed: 4.9ms preprocess, 2.5ms inference, 0.6ms postprocess per image at shape (1, 3, 1088, 1920)\n",
      "\n",
      "image 1/1 /datasets/tdt4265/other/rbk/1_train-val_1min_aalesund_from_start/img1/000098.jpg: 1088x1920 21 players, 4.4ms\n",
      "\n",
      "image 1/1 /datasets/tdt4265/other/rbk/1_train-val_1min_aalesund_from_start/img1/000098.jpg: 1088x1920 1 ball, 4.6ms\n",
      "Speed: 3.6ms preprocess, 4.4ms inference, 12.1ms postprocess per image at shape (1, 3, 1088, 1920)\n",
      "\n",
      "image 1/1 /datasets/tdt4265/other/rbk/1_train-val_1min_aalesund_from_start/img1/000099.jpg: 1088x1920 22 players, 5.0ms\n",
      "\n",
      "image 1/1 /datasets/tdt4265/other/rbk/1_train-val_1min_aalesund_from_start/img1/000099.jpg: 1088x1920 1 ball, 4.5ms\n",
      "Speed: 3.0ms preprocess, 5.0ms inference, 12.1ms postprocess per image at shape (1, 3, 1088, 1920)\n",
      "\n",
      "image 1/1 /datasets/tdt4265/other/rbk/1_train-val_1min_aalesund_from_start/img1/000100.jpg: 1088x1920 22 players, 4.8ms\n",
      "\n",
      "image 1/1 /datasets/tdt4265/other/rbk/1_train-val_1min_aalesund_from_start/img1/000100.jpg: 1088x1920 1 ball, 4.5ms\n",
      "Speed: 5.6ms preprocess, 4.8ms inference, 12.1ms postprocess per image at shape (1, 3, 1088, 1920)\n",
      "\n",
      "image 1/1 /datasets/tdt4265/other/rbk/1_train-val_1min_aalesund_from_start/img1/000101.jpg: 1088x1920 22 players, 4.6ms\n",
      "\n",
      "image 1/1 /datasets/tdt4265/other/rbk/1_train-val_1min_aalesund_from_start/img1/000101.jpg: 1088x1920 1 ball, 2.5ms\n",
      "Speed: 5.2ms preprocess, 4.6ms inference, 12.0ms postprocess per image at shape (1, 3, 1088, 1920)\n",
      "\n",
      "image 1/1 /datasets/tdt4265/other/rbk/1_train-val_1min_aalesund_from_start/img1/000102.jpg: 1088x1920 22 players, 5.1ms\n",
      "\n",
      "image 1/1 /datasets/tdt4265/other/rbk/1_train-val_1min_aalesund_from_start/img1/000102.jpg: 1088x1920 1 ball, 4.3ms\n"
     ]
    }
   ],
   "source": [
    "# Blender frames fra 2 modeller\n",
    "model_ball = YOLO('/work/mbergst/TDT4265_Project/runs/detect/ball/train44/weights/best.pt')\n",
    "model_players = YOLO('/work/mbergst/TDT4265_Project/runs/detect/player/train6/weights/best.pt')\n",
    "\n",
    "for frame_path in frame_paths:\n",
    "    # Hent resultatene fra begge modellene for hver frame\n",
    "    for result1, result2 in zip(model_players.track(frame_path, persist=True, stream=True, line_width=1, tracker = 'botsort.yaml'),\n",
    "                                model_ball.track(frame_path, persist=True, stream=True, line_width=1, tracker = 'botsort.yaml')):\n",
    "        # Tegn annotasjoner fra begge modellene på samme bilde\n",
    "        annotated_frame1 = result1.plot(font_size=1, line_width=1)\n",
    "        annotated_frame2 = result2.plot(font_size=1, line_width=1)\n",
    "\n",
    "        combined_frame = cv2.addWeighted(annotated_frame1, 0.5, annotated_frame2, 0.5, 0)  \n",
    "\n",
    "        # Vis det annoterte bildet med resultater fra begge modeller\n",
    "        cv2.imshow('Combined frame', combined_frame)\n",
    "        \n",
    "        # Vent på et tastetrykk i 1 millisekund og sjekk om det er 'ESC'\n",
    "        key = cv2.waitKey(1) & 0xFF\n",
    "        if key == 27:  # 27 er ASCII-verdien for 'ESC'\n",
    "            break\n",
    "\n",
    "    if key == 27:  # Kontroller igjen om 'ESC' ble trykket for å bryte ut av den ytre løkken\n",
    "        break\n",
    "\n",
    "cv2.destroyAllWindows()  # Lukker alle OpenCV-vinduene\n"
   ]
  },
  {
   "cell_type": "code",
   "execution_count": 26,
   "metadata": {},
   "outputs": [
    {
     "name": "stdout",
     "output_type": "stream",
     "text": [
      "WARNING ⚠️ 'line_thickness' is deprecated and will be removed in 'ultralytics 8.299999999999999' in the future. Please use 'line_width' instead.\n",
      "\n",
      "image 1/1 /work/mbergst/TDT4265_Project/data_yolov8/1_train-val_1min_aalesund_from_start/images/all_frames/000001.jpg: 1088x1920 22 players, 4.5ms\n"
     ]
    },
    {
     "name": "stderr",
     "output_type": "stream",
     "text": [
      "SupervisionWarnings: BoxAnnotator is deprecated: `BoxAnnotator` is deprecated and will be removed in `supervision-0.22.0`. Use `BoundingBoxAnnotator` and `LabelAnnotator` instead\n"
     ]
    },
    {
     "ename": "error",
     "evalue": "OpenCV(4.9.0) /io/opencv/modules/highgui/src/window.cpp:1272: error: (-2:Unspecified error) The function is not implemented. Rebuild the library with Windows, GTK+ 2.x or Cocoa support. If you are on Ubuntu or Debian, install libgtk2.0-dev and pkg-config, then re-run cmake or configure script in function 'cvShowImage'\n",
     "output_type": "error",
     "traceback": [
      "\u001b[0;31m---------------------------------------------------------------------------\u001b[0m",
      "\u001b[0;31merror\u001b[0m                                     Traceback (most recent call last)",
      "Cell \u001b[0;32mIn[26], line 17\u001b[0m\n\u001b[1;32m     13\u001b[0m         detections \u001b[38;5;241m=\u001b[39m sv\u001b[38;5;241m.\u001b[39mDetections\u001b[38;5;241m.\u001b[39mfrom_ultralytics(result)\n\u001b[1;32m     16\u001b[0m         frame \u001b[38;5;241m=\u001b[39m boxann\u001b[38;5;241m.\u001b[39mannotate(scene\u001b[38;5;241m=\u001b[39mframe, detections\u001b[38;5;241m=\u001b[39mdetections)\n\u001b[0;32m---> 17\u001b[0m         \u001b[43mcv2\u001b[49m\u001b[38;5;241;43m.\u001b[39;49m\u001b[43mimshow\u001b[49m\u001b[43m(\u001b[49m\u001b[38;5;124;43m'\u001b[39;49m\u001b[38;5;124;43myolov8\u001b[39;49m\u001b[38;5;124;43m'\u001b[39;49m\u001b[43m,\u001b[49m\u001b[43m \u001b[49m\u001b[43mframe\u001b[49m\u001b[43m)\u001b[49m\n\u001b[1;32m     18\u001b[0m         cv2\u001b[38;5;241m.\u001b[39mwaitKey(\u001b[38;5;241m1\u001b[39m)  \u001b[38;5;66;03m# Venter en kort tid så bildet kan oppdateres\u001b[39;00m\n\u001b[1;32m     20\u001b[0m cv2\u001b[38;5;241m.\u001b[39mdestroyAllWindows()  \u001b[38;5;66;03m# Lukker alle OpenCV-vinduene\u001b[39;00m\n",
      "\u001b[0;31merror\u001b[0m: OpenCV(4.9.0) /io/opencv/modules/highgui/src/window.cpp:1272: error: (-2:Unspecified error) The function is not implemented. Rebuild the library with Windows, GTK+ 2.x or Cocoa support. If you are on Ubuntu or Debian, install libgtk2.0-dev and pkg-config, then re-run cmake or configure script in function 'cvShowImage'\n"
     ]
    }
   ],
   "source": [
    "# Object tracking with supervision\n",
    "\n",
    "boxann = sv.BoxAnnotator(\n",
    "    thickness=1,\n",
    "    text_thickness=1,\n",
    "    text_scale=0.5,\n",
    "    \n",
    ")\n",
    "\n",
    "for frame_path in frame_paths:\n",
    "    # model.track kan være en generator, så vi bruker en løkke for å hente resultatene\n",
    "    for result in model.track(frame_path, persist=True, stream=True, line_thickness=1):\n",
    "        frame = result.orig_img\n",
    "        \n",
    "        detections = sv.Detections.from_ultralytics(result)\n",
    "        \n",
    "\n",
    "        frame = boxann.annotate(scene=frame, detections=detections)\n",
    "        cv2.imshow('yolov8', frame)\n",
    "        cv2.waitKey(1)  # Venter en kort tid så bildet kan oppdateres\n",
    "\n",
    "cv2.destroyAllWindows()  # Lukker alle OpenCV-vinduene"
   ]
  },
  {
   "cell_type": "code",
   "execution_count": null,
   "metadata": {},
   "outputs": [
    {
     "name": "stdout",
     "output_type": "stream",
     "text": [
      "\n",
      "image 1/1 /work/mbergst/project/data_yolov8/1_train-val_1min_aalesund_from_start/images/all_frames/000001.jpg: 1088x1920 2 players, 3.2ms\n",
      "Speed: 21.6ms preprocess, 3.2ms inference, 0.6ms postprocess per image at shape (1, 3, 1088, 1920)\n"
     ]
    },
    {
     "ename": "error",
     "evalue": "OpenCV(4.9.0) :-1: error: (-5:Bad argument) in function 'rectangle'\n> Overload resolution failed:\n>  - img is not a numpy array, neither a scalar\n>  - Expected Ptr<cv::UMat> for argument 'img'\n>  - img is not a numpy array, neither a scalar\n>  - Expected Ptr<cv::UMat> for argument 'img'\n",
     "output_type": "error",
     "traceback": [
      "\u001b[0;31m---------------------------------------------------------------------------\u001b[0m",
      "\u001b[0;31merror\u001b[0m                                     Traceback (most recent call last)",
      "Cell \u001b[0;32mIn[24], line 6\u001b[0m\n\u001b[1;32m      4\u001b[0m ids \u001b[38;5;241m=\u001b[39m results[\u001b[38;5;241m0\u001b[39m]\u001b[38;5;241m.\u001b[39mboxes\u001b[38;5;241m.\u001b[39mid\u001b[38;5;241m.\u001b[39mcpu()\u001b[38;5;241m.\u001b[39mnumpy()\u001b[38;5;241m.\u001b[39mastype(\u001b[38;5;28mint\u001b[39m)\n\u001b[1;32m      5\u001b[0m \u001b[38;5;28;01mfor\u001b[39;00m box, \u001b[38;5;28mid\u001b[39m \u001b[38;5;129;01min\u001b[39;00m \u001b[38;5;28mzip\u001b[39m(boxes, ids):\n\u001b[0;32m----> 6\u001b[0m     \u001b[43mcv2\u001b[49m\u001b[38;5;241;43m.\u001b[39;49m\u001b[43mrectangle\u001b[49m\u001b[43m(\u001b[49m\u001b[43mframe\u001b[49m\u001b[43m,\u001b[49m\u001b[43m \u001b[49m\u001b[43m(\u001b[49m\u001b[43mbox\u001b[49m\u001b[43m[\u001b[49m\u001b[38;5;241;43m0\u001b[39;49m\u001b[43m]\u001b[49m\u001b[43m,\u001b[49m\u001b[43m \u001b[49m\u001b[43mbox\u001b[49m\u001b[43m[\u001b[49m\u001b[38;5;241;43m1\u001b[39;49m\u001b[43m]\u001b[49m\u001b[43m)\u001b[49m\u001b[43m,\u001b[49m\u001b[43m \u001b[49m\u001b[43m(\u001b[49m\u001b[43mbox\u001b[49m\u001b[43m[\u001b[49m\u001b[38;5;241;43m2\u001b[39;49m\u001b[43m]\u001b[49m\u001b[43m,\u001b[49m\u001b[43m \u001b[49m\u001b[43mbox\u001b[49m\u001b[43m[\u001b[49m\u001b[38;5;241;43m3\u001b[39;49m\u001b[43m]\u001b[49m\u001b[43m)\u001b[49m\u001b[43m,\u001b[49m\u001b[43m \u001b[49m\u001b[43m(\u001b[49m\u001b[38;5;241;43m0\u001b[39;49m\u001b[43m,\u001b[49m\u001b[43m \u001b[49m\u001b[38;5;241;43m255\u001b[39;49m\u001b[43m,\u001b[49m\u001b[43m \u001b[49m\u001b[38;5;241;43m0\u001b[39;49m\u001b[43m)\u001b[49m\u001b[43m,\u001b[49m\u001b[43m \u001b[49m\u001b[38;5;241;43m2\u001b[39;49m\u001b[43m)\u001b[49m\n\u001b[1;32m      7\u001b[0m     cv2\u001b[38;5;241m.\u001b[39mputText(\n\u001b[1;32m      8\u001b[0m         frame,\n\u001b[1;32m      9\u001b[0m         \u001b[38;5;124mf\u001b[39m\u001b[38;5;124m\"\u001b[39m\u001b[38;5;124mId \u001b[39m\u001b[38;5;132;01m{\u001b[39;00m\u001b[38;5;28mid\u001b[39m\u001b[38;5;132;01m}\u001b[39;00m\u001b[38;5;124m\"\u001b[39m,\n\u001b[0;32m   (...)\u001b[0m\n\u001b[1;32m     14\u001b[0m         \u001b[38;5;241m2\u001b[39m,\n\u001b[1;32m     15\u001b[0m     )\n\u001b[1;32m     16\u001b[0m cv2\u001b[38;5;241m.\u001b[39mimshow(\u001b[38;5;124m\"\u001b[39m\u001b[38;5;124mframe\u001b[39m\u001b[38;5;124m\"\u001b[39m, frame)\n",
      "\u001b[0;31merror\u001b[0m: OpenCV(4.9.0) :-1: error: (-5:Bad argument) in function 'rectangle'\n> Overload resolution failed:\n>  - img is not a numpy array, neither a scalar\n>  - Expected Ptr<cv::UMat> for argument 'img'\n>  - img is not a numpy array, neither a scalar\n>  - Expected Ptr<cv::UMat> for argument 'img'\n"
     ]
    }
   ],
   "source": [
    "# Not working Object tracking\n",
    "\n",
    "for frame in frame_paths:\n",
    "    results = model.track(frame, persist=True)\n",
    "    boxes = results[0].boxes.xyxy.cpu().numpy().astype(int)\n",
    "    ids = results[0].boxes.id.cpu().numpy().astype(int)\n",
    "    for box, id in zip(boxes, ids):\n",
    "        cv2.rectangle(frame, (box[0], box[1]), (box[2], box[3]), (0, 255, 0), 2)\n",
    "        cv2.putText(\n",
    "            frame,\n",
    "            f\"Id {id}\",\n",
    "            (box[0], box[1]),\n",
    "            cv2.FONT_HERSHEY_SIMPLEX,\n",
    "            1,\n",
    "            (0, 0, 255),\n",
    "            2,\n",
    "        )\n",
    "    cv2.imshow(\"frame\", frame)\n",
    "    if cv2.waitKey(1) & 0xFF == ord(\"q\"):\n",
    "        break"
   ]
  }
 ],
 "metadata": {
  "kernelspec": {
   "display_name": "Python 3",
   "language": "python",
   "name": "python3"
  },
  "language_info": {
   "codemirror_mode": {
    "name": "ipython",
    "version": 3
   },
   "file_extension": ".py",
   "mimetype": "text/x-python",
   "name": "python",
   "nbconvert_exporter": "python",
   "pygments_lexer": "ipython3",
   "version": "3.10.12"
  }
 },
 "nbformat": 4,
 "nbformat_minor": 2
}
