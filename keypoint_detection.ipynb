{
 "cells": [
  {
   "cell_type": "code",
   "execution_count": 2,
   "metadata": {},
   "outputs": [
    {
     "name": "stderr",
     "output_type": "stream",
     "text": [
      "/home/mbergst/.local/lib/python3.10/site-packages/matplotlib/projections/__init__.py:63: UserWarning: Unable to import Axes3D. This may be due to multiple versions of Matplotlib being installed (e.g. as a system package and as a pip package). As a result, the 3D projection is not available.\n",
      "  warnings.warn(\"Unable to import Axes3D. This may be due to multiple versions of \"\n"
     ]
    }
   ],
   "source": [
    "from ultralytics import YOLO\n",
    "import os\n",
    "import random\n",
    "import cv2\n",
    "import numpy as np\n",
    "import shutil\n",
    "import supervision as sv\n",
    "import cv2\n",
    "import matplotlib.pyplot as plt\n"
   ]
  },
  {
   "cell_type": "code",
   "execution_count": 3,
   "metadata": {},
   "outputs": [],
   "source": [
    "keypoints = {1: (44, 30), 2: (457, 30), 3: (44, 563), 4: (457, 563), 5: (44, 138), 6: (174, 138), 7: (174, 230), 8: (174, 346), 9: (174, 453), 10: (44, 453), 11: (44, 230), 12: (86, 230), 13: (86, 368), 14: (44, 368), 15: (130, 295), 16: (457, 230), 17: (457, 295), 18: (457, 368), 19: (201, 295), 20: (387, 295), 21: (530, 295), 22: (870, 30), 23: (870, 563), 24: (870, 138), 25: (740, 138), 26: (740, 230), 27: (740, 346), 28: (740, 453), 29: (870, 453), 30: (870, 230), 31: (827, 230), 32: (827, 368), 33: (870, 368), 34: (785, 295), 35: (712, 295)}"
   ]
  },
  {
   "cell_type": "code",
   "execution_count": 4,
   "metadata": {},
   "outputs": [],
   "source": [
    "# Choose dataset 1 or 2:\n",
    "dataset = 1  # 1 or 2\n",
    "\n",
    "if dataset == 1:\n",
    "    data_folder = \"1_train-val_1min_aalesund_from_start\"\n",
    "    yaml_file = \"yaml_files/keypoint_1.yaml\"\n",
    "    labels = \"labels_1\"\n",
    "\n",
    "else:\n",
    "    data_folder = \"2_train-val_1min_after_goal\"\n",
    "    yaml_file = \"yaml_files/keypoint_2.yaml\"\n",
    "    labels = \"labels_2\""
   ]
  },
  {
   "cell_type": "code",
   "execution_count": 2,
   "metadata": {},
   "outputs": [],
   "source": [
    "image_src_folder = f'/datasets/tdt4265/other/rbk/{data_folder}/img1'\n",
    "label_src_folder = f'/work/mbergst/TDT4265_Project/data_yolov8/keypoint_detection/{labels}'\n",
    "image_dest_folder = f'/work/mbergst/TDT4265_Project/data_yolov8/keypoint_detection/{data_folder}/images/'\n",
    "label_dest_folder = f'/work/mbergst/TDT4265_Project/data_yolov8/keypoint_detection/{data_folder}/labels/'\n",
    "\n",
    "from scripts.keypoint_dataset import distribute_files\n",
    "\n",
    "distribute_files(image_src_folder, label_src_folder, image_dest_folder, label_dest_folder)"
   ]
  },
  {
   "cell_type": "code",
   "execution_count": 4,
   "metadata": {},
   "outputs": [],
   "source": [
    "# Last inn sist trente modell\n",
    "# Gjør det ikke bedre virker det som\n",
    "\n",
    "def find_latest_model_with_best(base_path, type='keypoints'):\n",
    "    detect_path = os.path.join(base_path, 'runs', type)\n",
    "    training_sessions = [os.path.join(detect_path, d) for d in os.listdir(detect_path) if os.path.isdir(os.path.join(detect_path, d))]\n",
    "    \n",
    "    # Liste for å holde stiene til alle 'best.pt'-filer\n",
    "    best_model_paths = []\n",
    "\n",
    "    for session in training_sessions:\n",
    "        best_model_path = os.path.join(session, 'weights', 'best.pt')\n",
    "        if os.path.exists(best_model_path):\n",
    "            best_model_paths.append((best_model_path, os.path.getmtime(best_model_path)))\n",
    "\n",
    "    if not best_model_paths:\n",
    "        print(\"Ingen 'best.pt' fil funnet i noen av treningsøktene.\")\n",
    "        return None\n",
    "    \n",
    "    # Sorter basert på modifiseringstid og returner den nyeste\n",
    "    best_model_paths.sort(key=lambda x: x[1], reverse=True)\n",
    "    return best_model_paths[0][0]\n",
    "\n",
    "\n",
    "base_path = '/work/mbergst/TDT4265_Project' \n",
    "\n",
    "\n",
    "#model = YOLO(find_latest_model_with_best(base_path, 'keypoints'))\n",
    "#model = YOLO('yolov8n.pt')\n"
   ]
  },
  {
   "cell_type": "code",
   "execution_count": 5,
   "metadata": {},
   "outputs": [],
   "source": [
    "# Gjør det veldig bra på dataset 1\n",
    "model = YOLO('/work/mbergst/TDT4265_Project/runs/keypoints/train54/weights/best.pt')"
   ]
  },
  {
   "cell_type": "code",
   "execution_count": 6,
   "metadata": {},
   "outputs": [
    {
     "name": "stdout",
     "output_type": "stream",
     "text": [
      "New https://pypi.org/project/ultralytics/8.2.2 available 😃 Update with 'pip install -U ultralytics'\n",
      "Ultralytics YOLOv8.1.42 🚀 Python-3.10.12 torch-2.2.2+cu121 CUDA:0 (NVIDIA GeForce RTX 4090, 24195MiB)\n",
      "\u001b[34m\u001b[1mengine/trainer: \u001b[0mtask=detect, mode=train, model=/work/mbergst/TDT4265_Project/runs/keypoints/train54/weights/best.pt, data=yaml_files/keypoint_1.yaml, epochs=50, time=None, patience=100, batch=18, imgsz=(1600, 900), save=True, save_period=-1, cache=False, device=None, workers=8, project=/work/mbergst/TDT4265_Project/runs/keypoints, name=train78, exist_ok=False, pretrained=True, optimizer=auto, verbose=True, seed=0, deterministic=True, single_cls=False, rect=False, cos_lr=False, close_mosaic=10, resume=False, amp=True, fraction=1.0, profile=False, freeze=None, multi_scale=False, overlap_mask=True, mask_ratio=4, dropout=0.0, val=True, split=val, save_json=False, save_hybrid=False, conf=None, iou=0.7, max_det=300, half=False, dnn=False, plots=True, source=None, vid_stride=1, stream_buffer=False, visualize=False, augment=False, agnostic_nms=False, classes=None, retina_masks=False, embed=None, show=False, save_frames=False, save_txt=False, save_conf=False, save_crop=False, show_labels=True, show_conf=True, show_boxes=True, line_width=None, format=torchscript, keras=False, optimize=False, int8=False, dynamic=False, simplify=False, opset=None, workspace=4, nms=False, lr0=0.01, lrf=0.01, momentum=0.937, weight_decay=0.0005, warmup_epochs=3.0, warmup_momentum=0.8, warmup_bias_lr=0.1, box=7.5, cls=0.5, dfl=1.5, pose=12.0, kobj=1.0, label_smoothing=0.0, nbs=64, hsv_h=0.015, hsv_s=0.7, hsv_v=0.4, degrees=0.0, translate=0.1, scale=0.5, shear=0.0, perspective=0.0, flipud=0.0, fliplr=0.5, bgr=0.0, mosaic=1.0, mixup=0.0, copy_paste=0.0, auto_augment=randaugment, erasing=0.4, crop_fraction=1.0, cfg=None, tracker=botsort.yaml, save_dir=/work/mbergst/TDT4265_Project/runs/keypoints/train78\n",
      "\n",
      "                   from  n    params  module                                       arguments                     \n",
      "  0                  -1  1       464  ultralytics.nn.modules.conv.Conv             [3, 16, 3, 2]                 \n",
      "  1                  -1  1      4672  ultralytics.nn.modules.conv.Conv             [16, 32, 3, 2]                \n",
      "  2                  -1  1      7360  ultralytics.nn.modules.block.C2f             [32, 32, 1, True]             \n",
      "  3                  -1  1     18560  ultralytics.nn.modules.conv.Conv             [32, 64, 3, 2]                \n",
      "  4                  -1  2     49664  ultralytics.nn.modules.block.C2f             [64, 64, 2, True]             \n",
      "  5                  -1  1     73984  ultralytics.nn.modules.conv.Conv             [64, 128, 3, 2]               \n",
      "  6                  -1  2    197632  ultralytics.nn.modules.block.C2f             [128, 128, 2, True]           \n",
      "  7                  -1  1    295424  ultralytics.nn.modules.conv.Conv             [128, 256, 3, 2]              \n",
      "  8                  -1  1    460288  ultralytics.nn.modules.block.C2f             [256, 256, 1, True]           \n",
      "  9                  -1  1    164608  ultralytics.nn.modules.block.SPPF            [256, 256, 5]                 \n",
      " 10                  -1  1         0  torch.nn.modules.upsampling.Upsample         [None, 2, 'nearest']          \n",
      " 11             [-1, 6]  1         0  ultralytics.nn.modules.conv.Concat           [1]                           \n",
      " 12                  -1  1    148224  ultralytics.nn.modules.block.C2f             [384, 128, 1]                 \n",
      " 13                  -1  1         0  torch.nn.modules.upsampling.Upsample         [None, 2, 'nearest']          \n",
      " 14             [-1, 4]  1         0  ultralytics.nn.modules.conv.Concat           [1]                           \n",
      " 15                  -1  1     37248  ultralytics.nn.modules.block.C2f             [192, 64, 1]                  \n",
      " 16                  -1  1     36992  ultralytics.nn.modules.conv.Conv             [64, 64, 3, 2]                \n",
      " 17            [-1, 12]  1         0  ultralytics.nn.modules.conv.Concat           [1]                           \n",
      " 18                  -1  1    123648  ultralytics.nn.modules.block.C2f             [192, 128, 1]                 \n",
      " 19                  -1  1    147712  ultralytics.nn.modules.conv.Conv             [128, 128, 3, 2]              \n",
      " 20             [-1, 9]  1         0  ultralytics.nn.modules.conv.Concat           [1]                           \n",
      " 21                  -1  1    493056  ultralytics.nn.modules.block.C2f             [384, 256, 1]                 \n",
      " 22        [15, 18, 21]  1    755797  ultralytics.nn.modules.head.Detect           [23, [64, 128, 256]]          \n",
      "Model summary: 225 layers, 3015333 parameters, 3015317 gradients, 8.2 GFLOPs\n",
      "\n",
      "Transferred 355/355 items from pretrained weights\n",
      "\u001b[34m\u001b[1mTensorBoard: \u001b[0mStart with 'tensorboard --logdir /work/mbergst/TDT4265_Project/runs/keypoints/train78', view at http://localhost:6006/\n",
      "Freezing layer 'model.22.dfl.conv.weight'\n",
      "\u001b[34m\u001b[1mAMP: \u001b[0mrunning Automatic Mixed Precision (AMP) checks with YOLOv8n...\n",
      "\u001b[34m\u001b[1mAMP: \u001b[0mchecks passed ✅\n",
      "WARNING ⚠️ updating to 'imgsz=1600'. 'train' and 'val' imgsz must be an integer, while 'predict' and 'export' imgsz may be a [h, w] list or an integer, i.e. 'yolo export imgsz=640,480' or 'yolo export imgsz=640'\n"
     ]
    },
    {
     "name": "stderr",
     "output_type": "stream",
     "text": [
      "\u001b[34m\u001b[1mtrain: \u001b[0mScanning /work/mbergst/TDT4265_Project/data_yolov8/keypoint_detection/1_train-val_1min_aalesund_from_start/labels/train.cache... 1441 images, 0 backgrounds, 150 corrupt: 100%|██████████| 1441/1441 [00:00<?, ?it/s]"
     ]
    },
    {
     "name": "stdout",
     "output_type": "stream",
     "text": [
      "\u001b[34m\u001b[1mtrain: \u001b[0mWARNING ⚠️ /work/mbergst/TDT4265_Project/data_yolov8/keypoint_detection/1_train-val_1min_aalesund_from_start/images/train/000340.jpg: ignoring corrupt image/label: Label class 25 exceeds dataset class count 23. Possible class labels are 0-22\n",
      "\u001b[34m\u001b[1mtrain: \u001b[0mWARNING ⚠️ /work/mbergst/TDT4265_Project/data_yolov8/keypoint_detection/1_train-val_1min_aalesund_from_start/images/train/000342.jpg: ignoring corrupt image/label: Label class 25 exceeds dataset class count 23. Possible class labels are 0-22\n",
      "\u001b[34m\u001b[1mtrain: \u001b[0mWARNING ⚠️ /work/mbergst/TDT4265_Project/data_yolov8/keypoint_detection/1_train-val_1min_aalesund_from_start/images/train/000343.jpg: ignoring corrupt image/label: Label class 25 exceeds dataset class count 23. Possible class labels are 0-22\n",
      "\u001b[34m\u001b[1mtrain: \u001b[0mWARNING ⚠️ /work/mbergst/TDT4265_Project/data_yolov8/keypoint_detection/1_train-val_1min_aalesund_from_start/images/train/000344.jpg: ignoring corrupt image/label: Label class 25 exceeds dataset class count 23. Possible class labels are 0-22\n",
      "\u001b[34m\u001b[1mtrain: \u001b[0mWARNING ⚠️ /work/mbergst/TDT4265_Project/data_yolov8/keypoint_detection/1_train-val_1min_aalesund_from_start/images/train/000345.jpg: ignoring corrupt image/label: Label class 25 exceeds dataset class count 23. Possible class labels are 0-22\n",
      "\u001b[34m\u001b[1mtrain: \u001b[0mWARNING ⚠️ /work/mbergst/TDT4265_Project/data_yolov8/keypoint_detection/1_train-val_1min_aalesund_from_start/images/train/000346.jpg: ignoring corrupt image/label: Label class 25 exceeds dataset class count 23. Possible class labels are 0-22\n",
      "\u001b[34m\u001b[1mtrain: \u001b[0mWARNING ⚠️ /work/mbergst/TDT4265_Project/data_yolov8/keypoint_detection/1_train-val_1min_aalesund_from_start/images/train/000347.jpg: ignoring corrupt image/label: Label class 25 exceeds dataset class count 23. Possible class labels are 0-22\n",
      "\u001b[34m\u001b[1mtrain: \u001b[0mWARNING ⚠️ /work/mbergst/TDT4265_Project/data_yolov8/keypoint_detection/1_train-val_1min_aalesund_from_start/images/train/000348.jpg: ignoring corrupt image/label: Label class 25 exceeds dataset class count 23. Possible class labels are 0-22\n",
      "\u001b[34m\u001b[1mtrain: \u001b[0mWARNING ⚠️ /work/mbergst/TDT4265_Project/data_yolov8/keypoint_detection/1_train-val_1min_aalesund_from_start/images/train/000349.jpg: ignoring corrupt image/label: Label class 25 exceeds dataset class count 23. Possible class labels are 0-22\n",
      "\u001b[34m\u001b[1mtrain: \u001b[0mWARNING ⚠️ /work/mbergst/TDT4265_Project/data_yolov8/keypoint_detection/1_train-val_1min_aalesund_from_start/images/train/000350.jpg: ignoring corrupt image/label: Label class 25 exceeds dataset class count 23. Possible class labels are 0-22\n",
      "\u001b[34m\u001b[1mtrain: \u001b[0mWARNING ⚠️ /work/mbergst/TDT4265_Project/data_yolov8/keypoint_detection/1_train-val_1min_aalesund_from_start/images/train/000352.jpg: ignoring corrupt image/label: Label class 25 exceeds dataset class count 23. Possible class labels are 0-22\n",
      "\u001b[34m\u001b[1mtrain: \u001b[0mWARNING ⚠️ /work/mbergst/TDT4265_Project/data_yolov8/keypoint_detection/1_train-val_1min_aalesund_from_start/images/train/000353.jpg: ignoring corrupt image/label: Label class 25 exceeds dataset class count 23. Possible class labels are 0-22\n",
      "\u001b[34m\u001b[1mtrain: \u001b[0mWARNING ⚠️ /work/mbergst/TDT4265_Project/data_yolov8/keypoint_detection/1_train-val_1min_aalesund_from_start/images/train/000354.jpg: ignoring corrupt image/label: Label class 25 exceeds dataset class count 23. Possible class labels are 0-22\n",
      "\u001b[34m\u001b[1mtrain: \u001b[0mWARNING ⚠️ /work/mbergst/TDT4265_Project/data_yolov8/keypoint_detection/1_train-val_1min_aalesund_from_start/images/train/000355.jpg: ignoring corrupt image/label: Label class 25 exceeds dataset class count 23. Possible class labels are 0-22\n",
      "\u001b[34m\u001b[1mtrain: \u001b[0mWARNING ⚠️ /work/mbergst/TDT4265_Project/data_yolov8/keypoint_detection/1_train-val_1min_aalesund_from_start/images/train/000356.jpg: ignoring corrupt image/label: Label class 25 exceeds dataset class count 23. Possible class labels are 0-22\n",
      "\u001b[34m\u001b[1mtrain: \u001b[0mWARNING ⚠️ /work/mbergst/TDT4265_Project/data_yolov8/keypoint_detection/1_train-val_1min_aalesund_from_start/images/train/000357.jpg: ignoring corrupt image/label: Label class 25 exceeds dataset class count 23. Possible class labels are 0-22\n",
      "\u001b[34m\u001b[1mtrain: \u001b[0mWARNING ⚠️ /work/mbergst/TDT4265_Project/data_yolov8/keypoint_detection/1_train-val_1min_aalesund_from_start/images/train/000358.jpg: ignoring corrupt image/label: Label class 25 exceeds dataset class count 23. Possible class labels are 0-22\n",
      "\u001b[34m\u001b[1mtrain: \u001b[0mWARNING ⚠️ /work/mbergst/TDT4265_Project/data_yolov8/keypoint_detection/1_train-val_1min_aalesund_from_start/images/train/000359.jpg: ignoring corrupt image/label: Label class 25 exceeds dataset class count 23. Possible class labels are 0-22\n",
      "\u001b[34m\u001b[1mtrain: \u001b[0mWARNING ⚠️ /work/mbergst/TDT4265_Project/data_yolov8/keypoint_detection/1_train-val_1min_aalesund_from_start/images/train/000360.jpg: ignoring corrupt image/label: Label class 25 exceeds dataset class count 23. Possible class labels are 0-22\n",
      "\u001b[34m\u001b[1mtrain: \u001b[0mWARNING ⚠️ /work/mbergst/TDT4265_Project/data_yolov8/keypoint_detection/1_train-val_1min_aalesund_from_start/images/train/000361.jpg: ignoring corrupt image/label: Label class 26 exceeds dataset class count 23. Possible class labels are 0-22\n",
      "\u001b[34m\u001b[1mtrain: \u001b[0mWARNING ⚠️ /work/mbergst/TDT4265_Project/data_yolov8/keypoint_detection/1_train-val_1min_aalesund_from_start/images/train/000362.jpg: ignoring corrupt image/label: Label class 26 exceeds dataset class count 23. Possible class labels are 0-22\n",
      "\u001b[34m\u001b[1mtrain: \u001b[0mWARNING ⚠️ /work/mbergst/TDT4265_Project/data_yolov8/keypoint_detection/1_train-val_1min_aalesund_from_start/images/train/000363.jpg: ignoring corrupt image/label: Label class 26 exceeds dataset class count 23. Possible class labels are 0-22\n",
      "\u001b[34m\u001b[1mtrain: \u001b[0mWARNING ⚠️ /work/mbergst/TDT4265_Project/data_yolov8/keypoint_detection/1_train-val_1min_aalesund_from_start/images/train/000364.jpg: ignoring corrupt image/label: Label class 38 exceeds dataset class count 23. Possible class labels are 0-22\n",
      "\u001b[34m\u001b[1mtrain: \u001b[0mWARNING ⚠️ /work/mbergst/TDT4265_Project/data_yolov8/keypoint_detection/1_train-val_1min_aalesund_from_start/images/train/000365.jpg: ignoring corrupt image/label: Label class 38 exceeds dataset class count 23. Possible class labels are 0-22\n",
      "\u001b[34m\u001b[1mtrain: \u001b[0mWARNING ⚠️ /work/mbergst/TDT4265_Project/data_yolov8/keypoint_detection/1_train-val_1min_aalesund_from_start/images/train/000367.jpg: ignoring corrupt image/label: Label class 38 exceeds dataset class count 23. Possible class labels are 0-22\n",
      "\u001b[34m\u001b[1mtrain: \u001b[0mWARNING ⚠️ /work/mbergst/TDT4265_Project/data_yolov8/keypoint_detection/1_train-val_1min_aalesund_from_start/images/train/000368.jpg: ignoring corrupt image/label: Label class 38 exceeds dataset class count 23. Possible class labels are 0-22\n",
      "\u001b[34m\u001b[1mtrain: \u001b[0mWARNING ⚠️ /work/mbergst/TDT4265_Project/data_yolov8/keypoint_detection/1_train-val_1min_aalesund_from_start/images/train/000369.jpg: ignoring corrupt image/label: Label class 38 exceeds dataset class count 23. Possible class labels are 0-22\n",
      "\u001b[34m\u001b[1mtrain: \u001b[0mWARNING ⚠️ /work/mbergst/TDT4265_Project/data_yolov8/keypoint_detection/1_train-val_1min_aalesund_from_start/images/train/000370.jpg: ignoring corrupt image/label: Label class 38 exceeds dataset class count 23. Possible class labels are 0-22\n",
      "\u001b[34m\u001b[1mtrain: \u001b[0mWARNING ⚠️ /work/mbergst/TDT4265_Project/data_yolov8/keypoint_detection/1_train-val_1min_aalesund_from_start/images/train/000371.jpg: ignoring corrupt image/label: Label class 38 exceeds dataset class count 23. Possible class labels are 0-22\n",
      "\u001b[34m\u001b[1mtrain: \u001b[0mWARNING ⚠️ /work/mbergst/TDT4265_Project/data_yolov8/keypoint_detection/1_train-val_1min_aalesund_from_start/images/train/000372.jpg: ignoring corrupt image/label: Label class 38 exceeds dataset class count 23. Possible class labels are 0-22\n",
      "\u001b[34m\u001b[1mtrain: \u001b[0mWARNING ⚠️ /work/mbergst/TDT4265_Project/data_yolov8/keypoint_detection/1_train-val_1min_aalesund_from_start/images/train/000373.jpg: ignoring corrupt image/label: Label class 38 exceeds dataset class count 23. Possible class labels are 0-22\n",
      "\u001b[34m\u001b[1mtrain: \u001b[0mWARNING ⚠️ /work/mbergst/TDT4265_Project/data_yolov8/keypoint_detection/1_train-val_1min_aalesund_from_start/images/train/000374.jpg: ignoring corrupt image/label: Label class 38 exceeds dataset class count 23. Possible class labels are 0-22\n",
      "\u001b[34m\u001b[1mtrain: \u001b[0mWARNING ⚠️ /work/mbergst/TDT4265_Project/data_yolov8/keypoint_detection/1_train-val_1min_aalesund_from_start/images/train/000375.jpg: ignoring corrupt image/label: Label class 38 exceeds dataset class count 23. Possible class labels are 0-22\n",
      "\u001b[34m\u001b[1mtrain: \u001b[0mWARNING ⚠️ /work/mbergst/TDT4265_Project/data_yolov8/keypoint_detection/1_train-val_1min_aalesund_from_start/images/train/000377.jpg: ignoring corrupt image/label: Label class 38 exceeds dataset class count 23. Possible class labels are 0-22\n",
      "\u001b[34m\u001b[1mtrain: \u001b[0mWARNING ⚠️ /work/mbergst/TDT4265_Project/data_yolov8/keypoint_detection/1_train-val_1min_aalesund_from_start/images/train/000378.jpg: ignoring corrupt image/label: Label class 38 exceeds dataset class count 23. Possible class labels are 0-22\n",
      "\u001b[34m\u001b[1mtrain: \u001b[0mWARNING ⚠️ /work/mbergst/TDT4265_Project/data_yolov8/keypoint_detection/1_train-val_1min_aalesund_from_start/images/train/000379.jpg: ignoring corrupt image/label: Label class 38 exceeds dataset class count 23. Possible class labels are 0-22\n",
      "\u001b[34m\u001b[1mtrain: \u001b[0mWARNING ⚠️ /work/mbergst/TDT4265_Project/data_yolov8/keypoint_detection/1_train-val_1min_aalesund_from_start/images/train/000380.jpg: ignoring corrupt image/label: Label class 38 exceeds dataset class count 23. Possible class labels are 0-22\n",
      "\u001b[34m\u001b[1mtrain: \u001b[0mWARNING ⚠️ /work/mbergst/TDT4265_Project/data_yolov8/keypoint_detection/1_train-val_1min_aalesund_from_start/images/train/000381.jpg: ignoring corrupt image/label: Label class 38 exceeds dataset class count 23. Possible class labels are 0-22\n",
      "\u001b[34m\u001b[1mtrain: \u001b[0mWARNING ⚠️ /work/mbergst/TDT4265_Project/data_yolov8/keypoint_detection/1_train-val_1min_aalesund_from_start/images/train/000382.jpg: ignoring corrupt image/label: Label class 38 exceeds dataset class count 23. Possible class labels are 0-22\n",
      "\u001b[34m\u001b[1mtrain: \u001b[0mWARNING ⚠️ /work/mbergst/TDT4265_Project/data_yolov8/keypoint_detection/1_train-val_1min_aalesund_from_start/images/train/000383.jpg: ignoring corrupt image/label: Label class 38 exceeds dataset class count 23. Possible class labels are 0-22\n",
      "\u001b[34m\u001b[1mtrain: \u001b[0mWARNING ⚠️ /work/mbergst/TDT4265_Project/data_yolov8/keypoint_detection/1_train-val_1min_aalesund_from_start/images/train/000384.jpg: ignoring corrupt image/label: Label class 38 exceeds dataset class count 23. Possible class labels are 0-22\n",
      "\u001b[34m\u001b[1mtrain: \u001b[0mWARNING ⚠️ /work/mbergst/TDT4265_Project/data_yolov8/keypoint_detection/1_train-val_1min_aalesund_from_start/images/train/000385.jpg: ignoring corrupt image/label: Label class 38 exceeds dataset class count 23. Possible class labels are 0-22\n",
      "\u001b[34m\u001b[1mtrain: \u001b[0mWARNING ⚠️ /work/mbergst/TDT4265_Project/data_yolov8/keypoint_detection/1_train-val_1min_aalesund_from_start/images/train/000386.jpg: ignoring corrupt image/label: Label class 38 exceeds dataset class count 23. Possible class labels are 0-22\n",
      "\u001b[34m\u001b[1mtrain: \u001b[0mWARNING ⚠️ /work/mbergst/TDT4265_Project/data_yolov8/keypoint_detection/1_train-val_1min_aalesund_from_start/images/train/000387.jpg: ignoring corrupt image/label: Label class 38 exceeds dataset class count 23. Possible class labels are 0-22\n",
      "\u001b[34m\u001b[1mtrain: \u001b[0mWARNING ⚠️ /work/mbergst/TDT4265_Project/data_yolov8/keypoint_detection/1_train-val_1min_aalesund_from_start/images/train/000388.jpg: ignoring corrupt image/label: Label class 38 exceeds dataset class count 23. Possible class labels are 0-22\n",
      "\u001b[34m\u001b[1mtrain: \u001b[0mWARNING ⚠️ /work/mbergst/TDT4265_Project/data_yolov8/keypoint_detection/1_train-val_1min_aalesund_from_start/images/train/000391.jpg: ignoring corrupt image/label: Label class 38 exceeds dataset class count 23. Possible class labels are 0-22\n",
      "\u001b[34m\u001b[1mtrain: \u001b[0mWARNING ⚠️ /work/mbergst/TDT4265_Project/data_yolov8/keypoint_detection/1_train-val_1min_aalesund_from_start/images/train/000392.jpg: ignoring corrupt image/label: Label class 38 exceeds dataset class count 23. Possible class labels are 0-22\n",
      "\u001b[34m\u001b[1mtrain: \u001b[0mWARNING ⚠️ /work/mbergst/TDT4265_Project/data_yolov8/keypoint_detection/1_train-val_1min_aalesund_from_start/images/train/000395.jpg: ignoring corrupt image/label: Label class 38 exceeds dataset class count 23. Possible class labels are 0-22\n",
      "\u001b[34m\u001b[1mtrain: \u001b[0mWARNING ⚠️ /work/mbergst/TDT4265_Project/data_yolov8/keypoint_detection/1_train-val_1min_aalesund_from_start/images/train/000396.jpg: ignoring corrupt image/label: Label class 38 exceeds dataset class count 23. Possible class labels are 0-22\n",
      "\u001b[34m\u001b[1mtrain: \u001b[0mWARNING ⚠️ /work/mbergst/TDT4265_Project/data_yolov8/keypoint_detection/1_train-val_1min_aalesund_from_start/images/train/000397.jpg: ignoring corrupt image/label: Label class 38 exceeds dataset class count 23. Possible class labels are 0-22\n",
      "\u001b[34m\u001b[1mtrain: \u001b[0mWARNING ⚠️ /work/mbergst/TDT4265_Project/data_yolov8/keypoint_detection/1_train-val_1min_aalesund_from_start/images/train/000398.jpg: ignoring corrupt image/label: Label class 38 exceeds dataset class count 23. Possible class labels are 0-22\n",
      "\u001b[34m\u001b[1mtrain: \u001b[0mWARNING ⚠️ /work/mbergst/TDT4265_Project/data_yolov8/keypoint_detection/1_train-val_1min_aalesund_from_start/images/train/000399.jpg: ignoring corrupt image/label: Label class 38 exceeds dataset class count 23. Possible class labels are 0-22\n",
      "\u001b[34m\u001b[1mtrain: \u001b[0mWARNING ⚠️ /work/mbergst/TDT4265_Project/data_yolov8/keypoint_detection/1_train-val_1min_aalesund_from_start/images/train/000400.jpg: ignoring corrupt image/label: Label class 38 exceeds dataset class count 23. Possible class labels are 0-22\n",
      "\u001b[34m\u001b[1mtrain: \u001b[0mWARNING ⚠️ /work/mbergst/TDT4265_Project/data_yolov8/keypoint_detection/1_train-val_1min_aalesund_from_start/images/train/000401.jpg: ignoring corrupt image/label: Label class 38 exceeds dataset class count 23. Possible class labels are 0-22\n",
      "\u001b[34m\u001b[1mtrain: \u001b[0mWARNING ⚠️ /work/mbergst/TDT4265_Project/data_yolov8/keypoint_detection/1_train-val_1min_aalesund_from_start/images/train/000402.jpg: ignoring corrupt image/label: Label class 38 exceeds dataset class count 23. Possible class labels are 0-22\n",
      "\u001b[34m\u001b[1mtrain: \u001b[0mWARNING ⚠️ /work/mbergst/TDT4265_Project/data_yolov8/keypoint_detection/1_train-val_1min_aalesund_from_start/images/train/000403.jpg: ignoring corrupt image/label: Label class 38 exceeds dataset class count 23. Possible class labels are 0-22\n",
      "\u001b[34m\u001b[1mtrain: \u001b[0mWARNING ⚠️ /work/mbergst/TDT4265_Project/data_yolov8/keypoint_detection/1_train-val_1min_aalesund_from_start/images/train/000404.jpg: ignoring corrupt image/label: Label class 38 exceeds dataset class count 23. Possible class labels are 0-22\n",
      "\u001b[34m\u001b[1mtrain: \u001b[0mWARNING ⚠️ /work/mbergst/TDT4265_Project/data_yolov8/keypoint_detection/1_train-val_1min_aalesund_from_start/images/train/000405.jpg: ignoring corrupt image/label: Label class 38 exceeds dataset class count 23. Possible class labels are 0-22\n",
      "\u001b[34m\u001b[1mtrain: \u001b[0mWARNING ⚠️ /work/mbergst/TDT4265_Project/data_yolov8/keypoint_detection/1_train-val_1min_aalesund_from_start/images/train/000406.jpg: ignoring corrupt image/label: Label class 38 exceeds dataset class count 23. Possible class labels are 0-22\n",
      "\u001b[34m\u001b[1mtrain: \u001b[0mWARNING ⚠️ /work/mbergst/TDT4265_Project/data_yolov8/keypoint_detection/1_train-val_1min_aalesund_from_start/images/train/000407.jpg: ignoring corrupt image/label: Label class 38 exceeds dataset class count 23. Possible class labels are 0-22\n",
      "\u001b[34m\u001b[1mtrain: \u001b[0mWARNING ⚠️ /work/mbergst/TDT4265_Project/data_yolov8/keypoint_detection/1_train-val_1min_aalesund_from_start/images/train/000409.jpg: ignoring corrupt image/label: Label class 38 exceeds dataset class count 23. Possible class labels are 0-22\n",
      "\u001b[34m\u001b[1mtrain: \u001b[0mWARNING ⚠️ /work/mbergst/TDT4265_Project/data_yolov8/keypoint_detection/1_train-val_1min_aalesund_from_start/images/train/000410.jpg: ignoring corrupt image/label: Label class 38 exceeds dataset class count 23. Possible class labels are 0-22\n",
      "\u001b[34m\u001b[1mtrain: \u001b[0mWARNING ⚠️ /work/mbergst/TDT4265_Project/data_yolov8/keypoint_detection/1_train-val_1min_aalesund_from_start/images/train/000411.jpg: ignoring corrupt image/label: Label class 38 exceeds dataset class count 23. Possible class labels are 0-22\n",
      "\u001b[34m\u001b[1mtrain: \u001b[0mWARNING ⚠️ /work/mbergst/TDT4265_Project/data_yolov8/keypoint_detection/1_train-val_1min_aalesund_from_start/images/train/000413.jpg: ignoring corrupt image/label: Label class 38 exceeds dataset class count 23. Possible class labels are 0-22\n",
      "\u001b[34m\u001b[1mtrain: \u001b[0mWARNING ⚠️ /work/mbergst/TDT4265_Project/data_yolov8/keypoint_detection/1_train-val_1min_aalesund_from_start/images/train/000414.jpg: ignoring corrupt image/label: Label class 38 exceeds dataset class count 23. Possible class labels are 0-22\n",
      "\u001b[34m\u001b[1mtrain: \u001b[0mWARNING ⚠️ /work/mbergst/TDT4265_Project/data_yolov8/keypoint_detection/1_train-val_1min_aalesund_from_start/images/train/000415.jpg: ignoring corrupt image/label: Label class 38 exceeds dataset class count 23. Possible class labels are 0-22\n",
      "\u001b[34m\u001b[1mtrain: \u001b[0mWARNING ⚠️ /work/mbergst/TDT4265_Project/data_yolov8/keypoint_detection/1_train-val_1min_aalesund_from_start/images/train/000416.jpg: ignoring corrupt image/label: Label class 38 exceeds dataset class count 23. Possible class labels are 0-22\n",
      "\u001b[34m\u001b[1mtrain: \u001b[0mWARNING ⚠️ /work/mbergst/TDT4265_Project/data_yolov8/keypoint_detection/1_train-val_1min_aalesund_from_start/images/train/000417.jpg: ignoring corrupt image/label: Label class 38 exceeds dataset class count 23. Possible class labels are 0-22\n",
      "\u001b[34m\u001b[1mtrain: \u001b[0mWARNING ⚠️ /work/mbergst/TDT4265_Project/data_yolov8/keypoint_detection/1_train-val_1min_aalesund_from_start/images/train/000418.jpg: ignoring corrupt image/label: Label class 38 exceeds dataset class count 23. Possible class labels are 0-22\n",
      "\u001b[34m\u001b[1mtrain: \u001b[0mWARNING ⚠️ /work/mbergst/TDT4265_Project/data_yolov8/keypoint_detection/1_train-val_1min_aalesund_from_start/images/train/000419.jpg: ignoring corrupt image/label: Label class 38 exceeds dataset class count 23. Possible class labels are 0-22\n",
      "\u001b[34m\u001b[1mtrain: \u001b[0mWARNING ⚠️ /work/mbergst/TDT4265_Project/data_yolov8/keypoint_detection/1_train-val_1min_aalesund_from_start/images/train/000420.jpg: ignoring corrupt image/label: Label class 38 exceeds dataset class count 23. Possible class labels are 0-22\n",
      "\u001b[34m\u001b[1mtrain: \u001b[0mWARNING ⚠️ /work/mbergst/TDT4265_Project/data_yolov8/keypoint_detection/1_train-val_1min_aalesund_from_start/images/train/000421.jpg: ignoring corrupt image/label: Label class 38 exceeds dataset class count 23. Possible class labels are 0-22\n",
      "\u001b[34m\u001b[1mtrain: \u001b[0mWARNING ⚠️ /work/mbergst/TDT4265_Project/data_yolov8/keypoint_detection/1_train-val_1min_aalesund_from_start/images/train/000422.jpg: ignoring corrupt image/label: Label class 38 exceeds dataset class count 23. Possible class labels are 0-22\n",
      "\u001b[34m\u001b[1mtrain: \u001b[0mWARNING ⚠️ /work/mbergst/TDT4265_Project/data_yolov8/keypoint_detection/1_train-val_1min_aalesund_from_start/images/train/000423.jpg: ignoring corrupt image/label: Label class 38 exceeds dataset class count 23. Possible class labels are 0-22\n",
      "\u001b[34m\u001b[1mtrain: \u001b[0mWARNING ⚠️ /work/mbergst/TDT4265_Project/data_yolov8/keypoint_detection/1_train-val_1min_aalesund_from_start/images/train/000424.jpg: ignoring corrupt image/label: Label class 38 exceeds dataset class count 23. Possible class labels are 0-22\n",
      "\u001b[34m\u001b[1mtrain: \u001b[0mWARNING ⚠️ /work/mbergst/TDT4265_Project/data_yolov8/keypoint_detection/1_train-val_1min_aalesund_from_start/images/train/000425.jpg: ignoring corrupt image/label: Label class 38 exceeds dataset class count 23. Possible class labels are 0-22\n",
      "\u001b[34m\u001b[1mtrain: \u001b[0mWARNING ⚠️ /work/mbergst/TDT4265_Project/data_yolov8/keypoint_detection/1_train-val_1min_aalesund_from_start/images/train/000426.jpg: ignoring corrupt image/label: Label class 38 exceeds dataset class count 23. Possible class labels are 0-22\n",
      "\u001b[34m\u001b[1mtrain: \u001b[0mWARNING ⚠️ /work/mbergst/TDT4265_Project/data_yolov8/keypoint_detection/1_train-val_1min_aalesund_from_start/images/train/000427.jpg: ignoring corrupt image/label: Label class 38 exceeds dataset class count 23. Possible class labels are 0-22\n",
      "\u001b[34m\u001b[1mtrain: \u001b[0mWARNING ⚠️ /work/mbergst/TDT4265_Project/data_yolov8/keypoint_detection/1_train-val_1min_aalesund_from_start/images/train/000428.jpg: ignoring corrupt image/label: Label class 38 exceeds dataset class count 23. Possible class labels are 0-22\n",
      "\u001b[34m\u001b[1mtrain: \u001b[0mWARNING ⚠️ /work/mbergst/TDT4265_Project/data_yolov8/keypoint_detection/1_train-val_1min_aalesund_from_start/images/train/000429.jpg: ignoring corrupt image/label: Label class 38 exceeds dataset class count 23. Possible class labels are 0-22\n",
      "\u001b[34m\u001b[1mtrain: \u001b[0mWARNING ⚠️ /work/mbergst/TDT4265_Project/data_yolov8/keypoint_detection/1_train-val_1min_aalesund_from_start/images/train/000431.jpg: ignoring corrupt image/label: Label class 38 exceeds dataset class count 23. Possible class labels are 0-22\n",
      "\u001b[34m\u001b[1mtrain: \u001b[0mWARNING ⚠️ /work/mbergst/TDT4265_Project/data_yolov8/keypoint_detection/1_train-val_1min_aalesund_from_start/images/train/000432.jpg: ignoring corrupt image/label: Label class 38 exceeds dataset class count 23. Possible class labels are 0-22\n",
      "\u001b[34m\u001b[1mtrain: \u001b[0mWARNING ⚠️ /work/mbergst/TDT4265_Project/data_yolov8/keypoint_detection/1_train-val_1min_aalesund_from_start/images/train/000435.jpg: ignoring corrupt image/label: Label class 38 exceeds dataset class count 23. Possible class labels are 0-22\n",
      "\u001b[34m\u001b[1mtrain: \u001b[0mWARNING ⚠️ /work/mbergst/TDT4265_Project/data_yolov8/keypoint_detection/1_train-val_1min_aalesund_from_start/images/train/000437.jpg: ignoring corrupt image/label: Label class 38 exceeds dataset class count 23. Possible class labels are 0-22\n",
      "\u001b[34m\u001b[1mtrain: \u001b[0mWARNING ⚠️ /work/mbergst/TDT4265_Project/data_yolov8/keypoint_detection/1_train-val_1min_aalesund_from_start/images/train/000440.jpg: ignoring corrupt image/label: Label class 38 exceeds dataset class count 23. Possible class labels are 0-22\n",
      "\u001b[34m\u001b[1mtrain: \u001b[0mWARNING ⚠️ /work/mbergst/TDT4265_Project/data_yolov8/keypoint_detection/1_train-val_1min_aalesund_from_start/images/train/000442.jpg: ignoring corrupt image/label: Label class 38 exceeds dataset class count 23. Possible class labels are 0-22\n",
      "\u001b[34m\u001b[1mtrain: \u001b[0mWARNING ⚠️ /work/mbergst/TDT4265_Project/data_yolov8/keypoint_detection/1_train-val_1min_aalesund_from_start/images/train/000443.jpg: ignoring corrupt image/label: Label class 38 exceeds dataset class count 23. Possible class labels are 0-22\n",
      "\u001b[34m\u001b[1mtrain: \u001b[0mWARNING ⚠️ /work/mbergst/TDT4265_Project/data_yolov8/keypoint_detection/1_train-val_1min_aalesund_from_start/images/train/000444.jpg: ignoring corrupt image/label: Label class 38 exceeds dataset class count 23. Possible class labels are 0-22\n",
      "\u001b[34m\u001b[1mtrain: \u001b[0mWARNING ⚠️ /work/mbergst/TDT4265_Project/data_yolov8/keypoint_detection/1_train-val_1min_aalesund_from_start/images/train/000445.jpg: ignoring corrupt image/label: Label class 38 exceeds dataset class count 23. Possible class labels are 0-22\n",
      "\u001b[34m\u001b[1mtrain: \u001b[0mWARNING ⚠️ /work/mbergst/TDT4265_Project/data_yolov8/keypoint_detection/1_train-val_1min_aalesund_from_start/images/train/000447.jpg: ignoring corrupt image/label: Label class 38 exceeds dataset class count 23. Possible class labels are 0-22\n",
      "\u001b[34m\u001b[1mtrain: \u001b[0mWARNING ⚠️ /work/mbergst/TDT4265_Project/data_yolov8/keypoint_detection/1_train-val_1min_aalesund_from_start/images/train/000449.jpg: ignoring corrupt image/label: Label class 38 exceeds dataset class count 23. Possible class labels are 0-22\n",
      "\u001b[34m\u001b[1mtrain: \u001b[0mWARNING ⚠️ /work/mbergst/TDT4265_Project/data_yolov8/keypoint_detection/1_train-val_1min_aalesund_from_start/images/train/000451.jpg: ignoring corrupt image/label: Label class 38 exceeds dataset class count 23. Possible class labels are 0-22\n",
      "\u001b[34m\u001b[1mtrain: \u001b[0mWARNING ⚠️ /work/mbergst/TDT4265_Project/data_yolov8/keypoint_detection/1_train-val_1min_aalesund_from_start/images/train/000453.jpg: ignoring corrupt image/label: Label class 38 exceeds dataset class count 23. Possible class labels are 0-22\n",
      "\u001b[34m\u001b[1mtrain: \u001b[0mWARNING ⚠️ /work/mbergst/TDT4265_Project/data_yolov8/keypoint_detection/1_train-val_1min_aalesund_from_start/images/train/000454.jpg: ignoring corrupt image/label: Label class 38 exceeds dataset class count 23. Possible class labels are 0-22\n",
      "\u001b[34m\u001b[1mtrain: \u001b[0mWARNING ⚠️ /work/mbergst/TDT4265_Project/data_yolov8/keypoint_detection/1_train-val_1min_aalesund_from_start/images/train/000455.jpg: ignoring corrupt image/label: Label class 38 exceeds dataset class count 23. Possible class labels are 0-22\n",
      "\u001b[34m\u001b[1mtrain: \u001b[0mWARNING ⚠️ /work/mbergst/TDT4265_Project/data_yolov8/keypoint_detection/1_train-val_1min_aalesund_from_start/images/train/000456.jpg: ignoring corrupt image/label: Label class 38 exceeds dataset class count 23. Possible class labels are 0-22\n",
      "\u001b[34m\u001b[1mtrain: \u001b[0mWARNING ⚠️ /work/mbergst/TDT4265_Project/data_yolov8/keypoint_detection/1_train-val_1min_aalesund_from_start/images/train/000457.jpg: ignoring corrupt image/label: Label class 38 exceeds dataset class count 23. Possible class labels are 0-22\n",
      "\u001b[34m\u001b[1mtrain: \u001b[0mWARNING ⚠️ /work/mbergst/TDT4265_Project/data_yolov8/keypoint_detection/1_train-val_1min_aalesund_from_start/images/train/000459.jpg: ignoring corrupt image/label: Label class 38 exceeds dataset class count 23. Possible class labels are 0-22\n",
      "\u001b[34m\u001b[1mtrain: \u001b[0mWARNING ⚠️ /work/mbergst/TDT4265_Project/data_yolov8/keypoint_detection/1_train-val_1min_aalesund_from_start/images/train/000460.jpg: ignoring corrupt image/label: Label class 38 exceeds dataset class count 23. Possible class labels are 0-22\n",
      "\u001b[34m\u001b[1mtrain: \u001b[0mWARNING ⚠️ /work/mbergst/TDT4265_Project/data_yolov8/keypoint_detection/1_train-val_1min_aalesund_from_start/images/train/000462.jpg: ignoring corrupt image/label: Label class 38 exceeds dataset class count 23. Possible class labels are 0-22\n",
      "\u001b[34m\u001b[1mtrain: \u001b[0mWARNING ⚠️ /work/mbergst/TDT4265_Project/data_yolov8/keypoint_detection/1_train-val_1min_aalesund_from_start/images/train/000463.jpg: ignoring corrupt image/label: Label class 38 exceeds dataset class count 23. Possible class labels are 0-22\n",
      "\u001b[34m\u001b[1mtrain: \u001b[0mWARNING ⚠️ /work/mbergst/TDT4265_Project/data_yolov8/keypoint_detection/1_train-val_1min_aalesund_from_start/images/train/000464.jpg: ignoring corrupt image/label: Label class 38 exceeds dataset class count 23. Possible class labels are 0-22\n",
      "\u001b[34m\u001b[1mtrain: \u001b[0mWARNING ⚠️ /work/mbergst/TDT4265_Project/data_yolov8/keypoint_detection/1_train-val_1min_aalesund_from_start/images/train/000465.jpg: ignoring corrupt image/label: Label class 38 exceeds dataset class count 23. Possible class labels are 0-22\n",
      "\u001b[34m\u001b[1mtrain: \u001b[0mWARNING ⚠️ /work/mbergst/TDT4265_Project/data_yolov8/keypoint_detection/1_train-val_1min_aalesund_from_start/images/train/000466.jpg: ignoring corrupt image/label: Label class 38 exceeds dataset class count 23. Possible class labels are 0-22\n",
      "\u001b[34m\u001b[1mtrain: \u001b[0mWARNING ⚠️ /work/mbergst/TDT4265_Project/data_yolov8/keypoint_detection/1_train-val_1min_aalesund_from_start/images/train/000468.jpg: ignoring corrupt image/label: Label class 38 exceeds dataset class count 23. Possible class labels are 0-22\n",
      "\u001b[34m\u001b[1mtrain: \u001b[0mWARNING ⚠️ /work/mbergst/TDT4265_Project/data_yolov8/keypoint_detection/1_train-val_1min_aalesund_from_start/images/train/000471.jpg: ignoring corrupt image/label: Label class 38 exceeds dataset class count 23. Possible class labels are 0-22\n",
      "\u001b[34m\u001b[1mtrain: \u001b[0mWARNING ⚠️ /work/mbergst/TDT4265_Project/data_yolov8/keypoint_detection/1_train-val_1min_aalesund_from_start/images/train/000473.jpg: ignoring corrupt image/label: Label class 38 exceeds dataset class count 23. Possible class labels are 0-22\n",
      "\u001b[34m\u001b[1mtrain: \u001b[0mWARNING ⚠️ /work/mbergst/TDT4265_Project/data_yolov8/keypoint_detection/1_train-val_1min_aalesund_from_start/images/train/000474.jpg: ignoring corrupt image/label: Label class 38 exceeds dataset class count 23. Possible class labels are 0-22\n",
      "\u001b[34m\u001b[1mtrain: \u001b[0mWARNING ⚠️ /work/mbergst/TDT4265_Project/data_yolov8/keypoint_detection/1_train-val_1min_aalesund_from_start/images/train/000475.jpg: ignoring corrupt image/label: Label class 38 exceeds dataset class count 23. Possible class labels are 0-22\n",
      "\u001b[34m\u001b[1mtrain: \u001b[0mWARNING ⚠️ /work/mbergst/TDT4265_Project/data_yolov8/keypoint_detection/1_train-val_1min_aalesund_from_start/images/train/000476.jpg: ignoring corrupt image/label: Label class 38 exceeds dataset class count 23. Possible class labels are 0-22\n",
      "\u001b[34m\u001b[1mtrain: \u001b[0mWARNING ⚠️ /work/mbergst/TDT4265_Project/data_yolov8/keypoint_detection/1_train-val_1min_aalesund_from_start/images/train/000478.jpg: ignoring corrupt image/label: Label class 38 exceeds dataset class count 23. Possible class labels are 0-22\n",
      "\u001b[34m\u001b[1mtrain: \u001b[0mWARNING ⚠️ /work/mbergst/TDT4265_Project/data_yolov8/keypoint_detection/1_train-val_1min_aalesund_from_start/images/train/000479.jpg: ignoring corrupt image/label: Label class 38 exceeds dataset class count 23. Possible class labels are 0-22\n",
      "\u001b[34m\u001b[1mtrain: \u001b[0mWARNING ⚠️ /work/mbergst/TDT4265_Project/data_yolov8/keypoint_detection/1_train-val_1min_aalesund_from_start/images/train/000480.jpg: ignoring corrupt image/label: Label class 38 exceeds dataset class count 23. Possible class labels are 0-22\n",
      "\u001b[34m\u001b[1mtrain: \u001b[0mWARNING ⚠️ /work/mbergst/TDT4265_Project/data_yolov8/keypoint_detection/1_train-val_1min_aalesund_from_start/images/train/000481.jpg: ignoring corrupt image/label: Label class 38 exceeds dataset class count 23. Possible class labels are 0-22\n",
      "\u001b[34m\u001b[1mtrain: \u001b[0mWARNING ⚠️ /work/mbergst/TDT4265_Project/data_yolov8/keypoint_detection/1_train-val_1min_aalesund_from_start/images/train/000482.jpg: ignoring corrupt image/label: Label class 38 exceeds dataset class count 23. Possible class labels are 0-22\n",
      "\u001b[34m\u001b[1mtrain: \u001b[0mWARNING ⚠️ /work/mbergst/TDT4265_Project/data_yolov8/keypoint_detection/1_train-val_1min_aalesund_from_start/images/train/000483.jpg: ignoring corrupt image/label: Label class 38 exceeds dataset class count 23. Possible class labels are 0-22\n",
      "\u001b[34m\u001b[1mtrain: \u001b[0mWARNING ⚠️ /work/mbergst/TDT4265_Project/data_yolov8/keypoint_detection/1_train-val_1min_aalesund_from_start/images/train/000484.jpg: ignoring corrupt image/label: Label class 38 exceeds dataset class count 23. Possible class labels are 0-22\n",
      "\u001b[34m\u001b[1mtrain: \u001b[0mWARNING ⚠️ /work/mbergst/TDT4265_Project/data_yolov8/keypoint_detection/1_train-val_1min_aalesund_from_start/images/train/000486.jpg: ignoring corrupt image/label: Label class 38 exceeds dataset class count 23. Possible class labels are 0-22\n",
      "\u001b[34m\u001b[1mtrain: \u001b[0mWARNING ⚠️ /work/mbergst/TDT4265_Project/data_yolov8/keypoint_detection/1_train-val_1min_aalesund_from_start/images/train/000487.jpg: ignoring corrupt image/label: Label class 38 exceeds dataset class count 23. Possible class labels are 0-22\n",
      "\u001b[34m\u001b[1mtrain: \u001b[0mWARNING ⚠️ /work/mbergst/TDT4265_Project/data_yolov8/keypoint_detection/1_train-val_1min_aalesund_from_start/images/train/000489.jpg: ignoring corrupt image/label: Label class 38 exceeds dataset class count 23. Possible class labels are 0-22\n",
      "\u001b[34m\u001b[1mtrain: \u001b[0mWARNING ⚠️ /work/mbergst/TDT4265_Project/data_yolov8/keypoint_detection/1_train-val_1min_aalesund_from_start/images/train/000490.jpg: ignoring corrupt image/label: Label class 38 exceeds dataset class count 23. Possible class labels are 0-22\n",
      "\u001b[34m\u001b[1mtrain: \u001b[0mWARNING ⚠️ /work/mbergst/TDT4265_Project/data_yolov8/keypoint_detection/1_train-val_1min_aalesund_from_start/images/train/000492.jpg: ignoring corrupt image/label: Label class 38 exceeds dataset class count 23. Possible class labels are 0-22\n",
      "\u001b[34m\u001b[1mtrain: \u001b[0mWARNING ⚠️ /work/mbergst/TDT4265_Project/data_yolov8/keypoint_detection/1_train-val_1min_aalesund_from_start/images/train/000493.jpg: ignoring corrupt image/label: Label class 38 exceeds dataset class count 23. Possible class labels are 0-22\n",
      "\u001b[34m\u001b[1mtrain: \u001b[0mWARNING ⚠️ /work/mbergst/TDT4265_Project/data_yolov8/keypoint_detection/1_train-val_1min_aalesund_from_start/images/train/000495.jpg: ignoring corrupt image/label: Label class 25 exceeds dataset class count 23. Possible class labels are 0-22\n",
      "\u001b[34m\u001b[1mtrain: \u001b[0mWARNING ⚠️ /work/mbergst/TDT4265_Project/data_yolov8/keypoint_detection/1_train-val_1min_aalesund_from_start/images/train/000496.jpg: ignoring corrupt image/label: Label class 25 exceeds dataset class count 23. Possible class labels are 0-22\n",
      "\u001b[34m\u001b[1mtrain: \u001b[0mWARNING ⚠️ /work/mbergst/TDT4265_Project/data_yolov8/keypoint_detection/1_train-val_1min_aalesund_from_start/images/train/000497.jpg: ignoring corrupt image/label: Label class 25 exceeds dataset class count 23. Possible class labels are 0-22\n",
      "\u001b[34m\u001b[1mtrain: \u001b[0mWARNING ⚠️ /work/mbergst/TDT4265_Project/data_yolov8/keypoint_detection/1_train-val_1min_aalesund_from_start/images/train/000499.jpg: ignoring corrupt image/label: Label class 25 exceeds dataset class count 23. Possible class labels are 0-22\n",
      "\u001b[34m\u001b[1mtrain: \u001b[0mWARNING ⚠️ /work/mbergst/TDT4265_Project/data_yolov8/keypoint_detection/1_train-val_1min_aalesund_from_start/images/train/000500.jpg: ignoring corrupt image/label: Label class 25 exceeds dataset class count 23. Possible class labels are 0-22\n",
      "\u001b[34m\u001b[1mtrain: \u001b[0mWARNING ⚠️ /work/mbergst/TDT4265_Project/data_yolov8/keypoint_detection/1_train-val_1min_aalesund_from_start/images/train/000501.jpg: ignoring corrupt image/label: Label class 25 exceeds dataset class count 23. Possible class labels are 0-22\n",
      "\u001b[34m\u001b[1mtrain: \u001b[0mWARNING ⚠️ /work/mbergst/TDT4265_Project/data_yolov8/keypoint_detection/1_train-val_1min_aalesund_from_start/images/train/000503.jpg: ignoring corrupt image/label: Label class 25 exceeds dataset class count 23. Possible class labels are 0-22\n",
      "\u001b[34m\u001b[1mtrain: \u001b[0mWARNING ⚠️ /work/mbergst/TDT4265_Project/data_yolov8/keypoint_detection/1_train-val_1min_aalesund_from_start/images/train/000504.jpg: ignoring corrupt image/label: Label class 25 exceeds dataset class count 23. Possible class labels are 0-22\n",
      "\u001b[34m\u001b[1mtrain: \u001b[0mWARNING ⚠️ /work/mbergst/TDT4265_Project/data_yolov8/keypoint_detection/1_train-val_1min_aalesund_from_start/images/train/000505.jpg: ignoring corrupt image/label: Label class 25 exceeds dataset class count 23. Possible class labels are 0-22\n",
      "\u001b[34m\u001b[1mtrain: \u001b[0mWARNING ⚠️ /work/mbergst/TDT4265_Project/data_yolov8/keypoint_detection/1_train-val_1min_aalesund_from_start/images/train/000507.jpg: ignoring corrupt image/label: Label class 25 exceeds dataset class count 23. Possible class labels are 0-22\n",
      "\u001b[34m\u001b[1mtrain: \u001b[0mWARNING ⚠️ /work/mbergst/TDT4265_Project/data_yolov8/keypoint_detection/1_train-val_1min_aalesund_from_start/images/train/000509.jpg: ignoring corrupt image/label: Label class 25 exceeds dataset class count 23. Possible class labels are 0-22\n",
      "\u001b[34m\u001b[1mtrain: \u001b[0mWARNING ⚠️ /work/mbergst/TDT4265_Project/data_yolov8/keypoint_detection/1_train-val_1min_aalesund_from_start/images/train/000511.jpg: ignoring corrupt image/label: Label class 25 exceeds dataset class count 23. Possible class labels are 0-22\n",
      "\u001b[34m\u001b[1mtrain: \u001b[0mWARNING ⚠️ /work/mbergst/TDT4265_Project/data_yolov8/keypoint_detection/1_train-val_1min_aalesund_from_start/images/train/000835.jpg: ignoring corrupt image/label: non-normalized or out of bounds coordinates [     1.0004]\n",
      "\u001b[34m\u001b[1mtrain: \u001b[0mWARNING ⚠️ /work/mbergst/TDT4265_Project/data_yolov8/keypoint_detection/1_train-val_1min_aalesund_from_start/images/train/000836.jpg: ignoring corrupt image/label: non-normalized or out of bounds coordinates [     1.0014]\n",
      "\u001b[34m\u001b[1mtrain: \u001b[0mWARNING ⚠️ /work/mbergst/TDT4265_Project/data_yolov8/keypoint_detection/1_train-val_1min_aalesund_from_start/images/train/000837.jpg: ignoring corrupt image/label: non-normalized or out of bounds coordinates [     1.0014]\n",
      "\u001b[34m\u001b[1mtrain: \u001b[0mWARNING ⚠️ /work/mbergst/TDT4265_Project/data_yolov8/keypoint_detection/1_train-val_1min_aalesund_from_start/images/train/000838.jpg: ignoring corrupt image/label: non-normalized or out of bounds coordinates [     1.0014]\n",
      "\u001b[34m\u001b[1mtrain: \u001b[0mWARNING ⚠️ /work/mbergst/TDT4265_Project/data_yolov8/keypoint_detection/1_train-val_1min_aalesund_from_start/images/train/000839.jpg: ignoring corrupt image/label: non-normalized or out of bounds coordinates [     1.0014]\n",
      "\u001b[34m\u001b[1mtrain: \u001b[0mWARNING ⚠️ /work/mbergst/TDT4265_Project/data_yolov8/keypoint_detection/1_train-val_1min_aalesund_from_start/images/train/000840.jpg: ignoring corrupt image/label: non-normalized or out of bounds coordinates [     1.0014]\n",
      "\u001b[34m\u001b[1mtrain: \u001b[0mWARNING ⚠️ /work/mbergst/TDT4265_Project/data_yolov8/keypoint_detection/1_train-val_1min_aalesund_from_start/images/train/000841.jpg: ignoring corrupt image/label: non-normalized or out of bounds coordinates [     1.0014]\n",
      "\u001b[34m\u001b[1mtrain: \u001b[0mWARNING ⚠️ /work/mbergst/TDT4265_Project/data_yolov8/keypoint_detection/1_train-val_1min_aalesund_from_start/images/train/000873.jpg: ignoring corrupt image/label: non-normalized or out of bounds coordinates [     1.0004]\n",
      "\u001b[34m\u001b[1mtrain: \u001b[0mWARNING ⚠️ /work/mbergst/TDT4265_Project/data_yolov8/keypoint_detection/1_train-val_1min_aalesund_from_start/images/train/000874.jpg: ignoring corrupt image/label: non-normalized or out of bounds coordinates [     1.0008]\n",
      "\u001b[34m\u001b[1mtrain: \u001b[0mWARNING ⚠️ /work/mbergst/TDT4265_Project/data_yolov8/keypoint_detection/1_train-val_1min_aalesund_from_start/images/train/000875.jpg: ignoring corrupt image/label: non-normalized or out of bounds coordinates [     1.0004]\n",
      "\u001b[34m\u001b[1mtrain: \u001b[0mWARNING ⚠️ /work/mbergst/TDT4265_Project/data_yolov8/keypoint_detection/1_train-val_1min_aalesund_from_start/images/train/000876.jpg: ignoring corrupt image/label: non-normalized or out of bounds coordinates [     1.0001]\n",
      "\u001b[34m\u001b[1mtrain: \u001b[0mWARNING ⚠️ /work/mbergst/TDT4265_Project/data_yolov8/keypoint_detection/1_train-val_1min_aalesund_from_start/images/train/001188.jpg: ignoring corrupt image/label: non-normalized or out of bounds coordinates [     1.0007]\n",
      "\u001b[34m\u001b[1mtrain: \u001b[0mWARNING ⚠️ /work/mbergst/TDT4265_Project/data_yolov8/keypoint_detection/1_train-val_1min_aalesund_from_start/images/train/001189.jpg: ignoring corrupt image/label: non-normalized or out of bounds coordinates [     1.0021]\n",
      "\u001b[34m\u001b[1mtrain: \u001b[0mWARNING ⚠️ /work/mbergst/TDT4265_Project/data_yolov8/keypoint_detection/1_train-val_1min_aalesund_from_start/images/train/001190.jpg: ignoring corrupt image/label: non-normalized or out of bounds coordinates [     1.0035]\n",
      "\u001b[34m\u001b[1mtrain: \u001b[0mWARNING ⚠️ /work/mbergst/TDT4265_Project/data_yolov8/keypoint_detection/1_train-val_1min_aalesund_from_start/images/train/001191.jpg: ignoring corrupt image/label: non-normalized or out of bounds coordinates [     1.0049]\n"
     ]
    },
    {
     "name": "stderr",
     "output_type": "stream",
     "text": [
      "\n",
      "\u001b[34m\u001b[1mval: \u001b[0mScanning /work/mbergst/TDT4265_Project/data_yolov8/keypoint_detection/1_train-val_1min_aalesund_from_start/labels/val.cache... 361 images, 0 backgrounds, 37 corrupt: 100%|██████████| 361/361 [00:00<?, ?it/s]"
     ]
    },
    {
     "name": "stdout",
     "output_type": "stream",
     "text": [
      "\u001b[34m\u001b[1mval: \u001b[0mWARNING ⚠️ /work/mbergst/TDT4265_Project/data_yolov8/keypoint_detection/1_train-val_1min_aalesund_from_start/images/val/000341.jpg: ignoring corrupt image/label: Label class 25 exceeds dataset class count 23. Possible class labels are 0-22\n",
      "\u001b[34m\u001b[1mval: \u001b[0mWARNING ⚠️ /work/mbergst/TDT4265_Project/data_yolov8/keypoint_detection/1_train-val_1min_aalesund_from_start/images/val/000351.jpg: ignoring corrupt image/label: Label class 25 exceeds dataset class count 23. Possible class labels are 0-22\n",
      "\u001b[34m\u001b[1mval: \u001b[0mWARNING ⚠️ /work/mbergst/TDT4265_Project/data_yolov8/keypoint_detection/1_train-val_1min_aalesund_from_start/images/val/000366.jpg: ignoring corrupt image/label: Label class 38 exceeds dataset class count 23. Possible class labels are 0-22\n",
      "\u001b[34m\u001b[1mval: \u001b[0mWARNING ⚠️ /work/mbergst/TDT4265_Project/data_yolov8/keypoint_detection/1_train-val_1min_aalesund_from_start/images/val/000376.jpg: ignoring corrupt image/label: Label class 38 exceeds dataset class count 23. Possible class labels are 0-22\n",
      "\u001b[34m\u001b[1mval: \u001b[0mWARNING ⚠️ /work/mbergst/TDT4265_Project/data_yolov8/keypoint_detection/1_train-val_1min_aalesund_from_start/images/val/000389.jpg: ignoring corrupt image/label: Label class 38 exceeds dataset class count 23. Possible class labels are 0-22\n",
      "\u001b[34m\u001b[1mval: \u001b[0mWARNING ⚠️ /work/mbergst/TDT4265_Project/data_yolov8/keypoint_detection/1_train-val_1min_aalesund_from_start/images/val/000390.jpg: ignoring corrupt image/label: Label class 38 exceeds dataset class count 23. Possible class labels are 0-22\n",
      "\u001b[34m\u001b[1mval: \u001b[0mWARNING ⚠️ /work/mbergst/TDT4265_Project/data_yolov8/keypoint_detection/1_train-val_1min_aalesund_from_start/images/val/000393.jpg: ignoring corrupt image/label: Label class 38 exceeds dataset class count 23. Possible class labels are 0-22\n",
      "\u001b[34m\u001b[1mval: \u001b[0mWARNING ⚠️ /work/mbergst/TDT4265_Project/data_yolov8/keypoint_detection/1_train-val_1min_aalesund_from_start/images/val/000394.jpg: ignoring corrupt image/label: Label class 38 exceeds dataset class count 23. Possible class labels are 0-22\n",
      "\u001b[34m\u001b[1mval: \u001b[0mWARNING ⚠️ /work/mbergst/TDT4265_Project/data_yolov8/keypoint_detection/1_train-val_1min_aalesund_from_start/images/val/000408.jpg: ignoring corrupt image/label: Label class 38 exceeds dataset class count 23. Possible class labels are 0-22\n",
      "\u001b[34m\u001b[1mval: \u001b[0mWARNING ⚠️ /work/mbergst/TDT4265_Project/data_yolov8/keypoint_detection/1_train-val_1min_aalesund_from_start/images/val/000412.jpg: ignoring corrupt image/label: Label class 38 exceeds dataset class count 23. Possible class labels are 0-22\n",
      "\u001b[34m\u001b[1mval: \u001b[0mWARNING ⚠️ /work/mbergst/TDT4265_Project/data_yolov8/keypoint_detection/1_train-val_1min_aalesund_from_start/images/val/000430.jpg: ignoring corrupt image/label: Label class 38 exceeds dataset class count 23. Possible class labels are 0-22\n",
      "\u001b[34m\u001b[1mval: \u001b[0mWARNING ⚠️ /work/mbergst/TDT4265_Project/data_yolov8/keypoint_detection/1_train-val_1min_aalesund_from_start/images/val/000433.jpg: ignoring corrupt image/label: Label class 38 exceeds dataset class count 23. Possible class labels are 0-22\n",
      "\u001b[34m\u001b[1mval: \u001b[0mWARNING ⚠️ /work/mbergst/TDT4265_Project/data_yolov8/keypoint_detection/1_train-val_1min_aalesund_from_start/images/val/000434.jpg: ignoring corrupt image/label: Label class 38 exceeds dataset class count 23. Possible class labels are 0-22\n",
      "\u001b[34m\u001b[1mval: \u001b[0mWARNING ⚠️ /work/mbergst/TDT4265_Project/data_yolov8/keypoint_detection/1_train-val_1min_aalesund_from_start/images/val/000436.jpg: ignoring corrupt image/label: Label class 38 exceeds dataset class count 23. Possible class labels are 0-22\n",
      "\u001b[34m\u001b[1mval: \u001b[0mWARNING ⚠️ /work/mbergst/TDT4265_Project/data_yolov8/keypoint_detection/1_train-val_1min_aalesund_from_start/images/val/000438.jpg: ignoring corrupt image/label: Label class 38 exceeds dataset class count 23. Possible class labels are 0-22\n",
      "\u001b[34m\u001b[1mval: \u001b[0mWARNING ⚠️ /work/mbergst/TDT4265_Project/data_yolov8/keypoint_detection/1_train-val_1min_aalesund_from_start/images/val/000439.jpg: ignoring corrupt image/label: Label class 38 exceeds dataset class count 23. Possible class labels are 0-22\n",
      "\u001b[34m\u001b[1mval: \u001b[0mWARNING ⚠️ /work/mbergst/TDT4265_Project/data_yolov8/keypoint_detection/1_train-val_1min_aalesund_from_start/images/val/000441.jpg: ignoring corrupt image/label: Label class 38 exceeds dataset class count 23. Possible class labels are 0-22\n",
      "\u001b[34m\u001b[1mval: \u001b[0mWARNING ⚠️ /work/mbergst/TDT4265_Project/data_yolov8/keypoint_detection/1_train-val_1min_aalesund_from_start/images/val/000446.jpg: ignoring corrupt image/label: Label class 38 exceeds dataset class count 23. Possible class labels are 0-22\n",
      "\u001b[34m\u001b[1mval: \u001b[0mWARNING ⚠️ /work/mbergst/TDT4265_Project/data_yolov8/keypoint_detection/1_train-val_1min_aalesund_from_start/images/val/000448.jpg: ignoring corrupt image/label: Label class 38 exceeds dataset class count 23. Possible class labels are 0-22\n",
      "\u001b[34m\u001b[1mval: \u001b[0mWARNING ⚠️ /work/mbergst/TDT4265_Project/data_yolov8/keypoint_detection/1_train-val_1min_aalesund_from_start/images/val/000450.jpg: ignoring corrupt image/label: Label class 38 exceeds dataset class count 23. Possible class labels are 0-22\n",
      "\u001b[34m\u001b[1mval: \u001b[0mWARNING ⚠️ /work/mbergst/TDT4265_Project/data_yolov8/keypoint_detection/1_train-val_1min_aalesund_from_start/images/val/000452.jpg: ignoring corrupt image/label: Label class 38 exceeds dataset class count 23. Possible class labels are 0-22\n",
      "\u001b[34m\u001b[1mval: \u001b[0mWARNING ⚠️ /work/mbergst/TDT4265_Project/data_yolov8/keypoint_detection/1_train-val_1min_aalesund_from_start/images/val/000458.jpg: ignoring corrupt image/label: Label class 38 exceeds dataset class count 23. Possible class labels are 0-22\n",
      "\u001b[34m\u001b[1mval: \u001b[0mWARNING ⚠️ /work/mbergst/TDT4265_Project/data_yolov8/keypoint_detection/1_train-val_1min_aalesund_from_start/images/val/000461.jpg: ignoring corrupt image/label: Label class 38 exceeds dataset class count 23. Possible class labels are 0-22\n",
      "\u001b[34m\u001b[1mval: \u001b[0mWARNING ⚠️ /work/mbergst/TDT4265_Project/data_yolov8/keypoint_detection/1_train-val_1min_aalesund_from_start/images/val/000467.jpg: ignoring corrupt image/label: Label class 38 exceeds dataset class count 23. Possible class labels are 0-22\n",
      "\u001b[34m\u001b[1mval: \u001b[0mWARNING ⚠️ /work/mbergst/TDT4265_Project/data_yolov8/keypoint_detection/1_train-val_1min_aalesund_from_start/images/val/000469.jpg: ignoring corrupt image/label: Label class 38 exceeds dataset class count 23. Possible class labels are 0-22\n",
      "\u001b[34m\u001b[1mval: \u001b[0mWARNING ⚠️ /work/mbergst/TDT4265_Project/data_yolov8/keypoint_detection/1_train-val_1min_aalesund_from_start/images/val/000470.jpg: ignoring corrupt image/label: Label class 38 exceeds dataset class count 23. Possible class labels are 0-22\n",
      "\u001b[34m\u001b[1mval: \u001b[0mWARNING ⚠️ /work/mbergst/TDT4265_Project/data_yolov8/keypoint_detection/1_train-val_1min_aalesund_from_start/images/val/000472.jpg: ignoring corrupt image/label: Label class 38 exceeds dataset class count 23. Possible class labels are 0-22\n",
      "\u001b[34m\u001b[1mval: \u001b[0mWARNING ⚠️ /work/mbergst/TDT4265_Project/data_yolov8/keypoint_detection/1_train-val_1min_aalesund_from_start/images/val/000477.jpg: ignoring corrupt image/label: Label class 38 exceeds dataset class count 23. Possible class labels are 0-22\n",
      "\u001b[34m\u001b[1mval: \u001b[0mWARNING ⚠️ /work/mbergst/TDT4265_Project/data_yolov8/keypoint_detection/1_train-val_1min_aalesund_from_start/images/val/000485.jpg: ignoring corrupt image/label: Label class 38 exceeds dataset class count 23. Possible class labels are 0-22\n",
      "\u001b[34m\u001b[1mval: \u001b[0mWARNING ⚠️ /work/mbergst/TDT4265_Project/data_yolov8/keypoint_detection/1_train-val_1min_aalesund_from_start/images/val/000488.jpg: ignoring corrupt image/label: Label class 38 exceeds dataset class count 23. Possible class labels are 0-22\n",
      "\u001b[34m\u001b[1mval: \u001b[0mWARNING ⚠️ /work/mbergst/TDT4265_Project/data_yolov8/keypoint_detection/1_train-val_1min_aalesund_from_start/images/val/000491.jpg: ignoring corrupt image/label: Label class 38 exceeds dataset class count 23. Possible class labels are 0-22\n",
      "\u001b[34m\u001b[1mval: \u001b[0mWARNING ⚠️ /work/mbergst/TDT4265_Project/data_yolov8/keypoint_detection/1_train-val_1min_aalesund_from_start/images/val/000494.jpg: ignoring corrupt image/label: Label class 26 exceeds dataset class count 23. Possible class labels are 0-22\n",
      "\u001b[34m\u001b[1mval: \u001b[0mWARNING ⚠️ /work/mbergst/TDT4265_Project/data_yolov8/keypoint_detection/1_train-val_1min_aalesund_from_start/images/val/000498.jpg: ignoring corrupt image/label: Label class 25 exceeds dataset class count 23. Possible class labels are 0-22\n",
      "\u001b[34m\u001b[1mval: \u001b[0mWARNING ⚠️ /work/mbergst/TDT4265_Project/data_yolov8/keypoint_detection/1_train-val_1min_aalesund_from_start/images/val/000502.jpg: ignoring corrupt image/label: Label class 25 exceeds dataset class count 23. Possible class labels are 0-22\n",
      "\u001b[34m\u001b[1mval: \u001b[0mWARNING ⚠️ /work/mbergst/TDT4265_Project/data_yolov8/keypoint_detection/1_train-val_1min_aalesund_from_start/images/val/000506.jpg: ignoring corrupt image/label: Label class 25 exceeds dataset class count 23. Possible class labels are 0-22\n",
      "\u001b[34m\u001b[1mval: \u001b[0mWARNING ⚠️ /work/mbergst/TDT4265_Project/data_yolov8/keypoint_detection/1_train-val_1min_aalesund_from_start/images/val/000508.jpg: ignoring corrupt image/label: Label class 25 exceeds dataset class count 23. Possible class labels are 0-22\n",
      "\u001b[34m\u001b[1mval: \u001b[0mWARNING ⚠️ /work/mbergst/TDT4265_Project/data_yolov8/keypoint_detection/1_train-val_1min_aalesund_from_start/images/val/000510.jpg: ignoring corrupt image/label: Label class 25 exceeds dataset class count 23. Possible class labels are 0-22\n"
     ]
    },
    {
     "name": "stderr",
     "output_type": "stream",
     "text": [
      "\n"
     ]
    },
    {
     "name": "stdout",
     "output_type": "stream",
     "text": [
      "Plotting labels to /work/mbergst/TDT4265_Project/runs/keypoints/train78/labels.jpg... \n",
      "\u001b[34m\u001b[1moptimizer:\u001b[0m 'optimizer=auto' found, ignoring 'lr0=0.01' and 'momentum=0.937' and determining best 'optimizer', 'lr0' and 'momentum' automatically... \n",
      "\u001b[34m\u001b[1moptimizer:\u001b[0m AdamW(lr=0.00037, momentum=0.9) with parameter groups 57 weight(decay=0.0), 64 weight(decay=0.0005625000000000001), 63 bias(decay=0.0)\n",
      "\u001b[34m\u001b[1mTensorBoard: \u001b[0mmodel graph visualization added ✅\n",
      "Image sizes 1600 train, 1600 val\n",
      "Using 8 dataloader workers\n",
      "Logging results to \u001b[1m/work/mbergst/TDT4265_Project/runs/keypoints/train78\u001b[0m\n",
      "Starting training for 50 epochs...\n",
      "\n",
      "      Epoch    GPU_mem   box_loss   cls_loss   dfl_loss  Instances       Size\n"
     ]
    },
    {
     "name": "stderr",
     "output_type": "stream",
     "text": [
      "       1/50      19.4G      0.926     0.6984     0.9227        276       1600: 100%|██████████| 72/72 [00:17<00:00,  4.12it/s]\n",
      "                 Class     Images  Instances      Box(P          R      mAP50  mAP50-95): 100%|██████████| 9/9 [00:01<00:00,  8.85it/s]"
     ]
    },
    {
     "name": "stdout",
     "output_type": "stream",
     "text": [
      "                   all        324       3668      0.987      0.985      0.989      0.709\n"
     ]
    },
    {
     "name": "stderr",
     "output_type": "stream",
     "text": [
      "\n"
     ]
    },
    {
     "name": "stdout",
     "output_type": "stream",
     "text": [
      "\n",
      "      Epoch    GPU_mem   box_loss   cls_loss   dfl_loss  Instances       Size\n"
     ]
    },
    {
     "name": "stderr",
     "output_type": "stream",
     "text": [
      "       2/50      16.4G     0.9624     0.6861     0.9322        208       1600: 100%|██████████| 72/72 [00:16<00:00,  4.30it/s]\n",
      "                 Class     Images  Instances      Box(P          R      mAP50  mAP50-95): 100%|██████████| 9/9 [00:01<00:00,  8.91it/s]"
     ]
    },
    {
     "name": "stdout",
     "output_type": "stream",
     "text": [
      "                   all        324       3668      0.989      0.987       0.99      0.716\n"
     ]
    },
    {
     "name": "stderr",
     "output_type": "stream",
     "text": [
      "\n"
     ]
    },
    {
     "name": "stdout",
     "output_type": "stream",
     "text": [
      "\n",
      "      Epoch    GPU_mem   box_loss   cls_loss   dfl_loss  Instances       Size\n"
     ]
    },
    {
     "name": "stderr",
     "output_type": "stream",
     "text": [
      "       3/50      16.9G     0.9986     0.6785     0.9462        283       1600: 100%|██████████| 72/72 [00:16<00:00,  4.36it/s]\n",
      "                 Class     Images  Instances      Box(P          R      mAP50  mAP50-95): 100%|██████████| 9/9 [00:01<00:00,  8.89it/s]"
     ]
    },
    {
     "name": "stdout",
     "output_type": "stream",
     "text": [
      "                   all        324       3668      0.987      0.982      0.989      0.716\n"
     ]
    },
    {
     "name": "stderr",
     "output_type": "stream",
     "text": [
      "\n"
     ]
    },
    {
     "name": "stdout",
     "output_type": "stream",
     "text": [
      "\n",
      "      Epoch    GPU_mem   box_loss   cls_loss   dfl_loss  Instances       Size\n"
     ]
    },
    {
     "name": "stderr",
     "output_type": "stream",
     "text": [
      "       4/50      18.2G       1.01     0.6609     0.9434        343       1600: 100%|██████████| 72/72 [00:16<00:00,  4.36it/s]\n",
      "                 Class     Images  Instances      Box(P          R      mAP50  mAP50-95): 100%|██████████| 9/9 [00:01<00:00,  8.98it/s]"
     ]
    },
    {
     "name": "stdout",
     "output_type": "stream",
     "text": [
      "                   all        324       3668      0.992      0.985      0.991      0.708\n"
     ]
    },
    {
     "name": "stderr",
     "output_type": "stream",
     "text": [
      "\n"
     ]
    },
    {
     "name": "stdout",
     "output_type": "stream",
     "text": [
      "\n",
      "      Epoch    GPU_mem   box_loss   cls_loss   dfl_loss  Instances       Size\n"
     ]
    },
    {
     "name": "stderr",
     "output_type": "stream",
     "text": [
      "       5/50      16.8G     0.9633     0.6301     0.9335        248       1600: 100%|██████████| 72/72 [00:16<00:00,  4.33it/s]\n",
      "                 Class     Images  Instances      Box(P          R      mAP50  mAP50-95): 100%|██████████| 9/9 [00:00<00:00,  9.00it/s]"
     ]
    },
    {
     "name": "stdout",
     "output_type": "stream",
     "text": [
      "                   all        324       3668      0.987      0.985      0.991      0.724\n"
     ]
    },
    {
     "name": "stderr",
     "output_type": "stream",
     "text": [
      "\n"
     ]
    },
    {
     "name": "stdout",
     "output_type": "stream",
     "text": [
      "\n",
      "      Epoch    GPU_mem   box_loss   cls_loss   dfl_loss  Instances       Size\n"
     ]
    },
    {
     "name": "stderr",
     "output_type": "stream",
     "text": [
      "       6/50      17.4G     0.9646     0.6186      0.932        201       1600: 100%|██████████| 72/72 [00:16<00:00,  4.35it/s]\n",
      "                 Class     Images  Instances      Box(P          R      mAP50  mAP50-95): 100%|██████████| 9/9 [00:01<00:00,  8.96it/s]"
     ]
    },
    {
     "name": "stdout",
     "output_type": "stream",
     "text": [
      "                   all        324       3668      0.987      0.986      0.991       0.72\n"
     ]
    },
    {
     "name": "stderr",
     "output_type": "stream",
     "text": [
      "\n"
     ]
    },
    {
     "name": "stdout",
     "output_type": "stream",
     "text": [
      "\n",
      "      Epoch    GPU_mem   box_loss   cls_loss   dfl_loss  Instances       Size\n"
     ]
    },
    {
     "name": "stderr",
     "output_type": "stream",
     "text": [
      "       7/50      17.3G     0.9509     0.5996     0.9275        234       1600: 100%|██████████| 72/72 [00:16<00:00,  4.36it/s]\n",
      "                 Class     Images  Instances      Box(P          R      mAP50  mAP50-95): 100%|██████████| 9/9 [00:01<00:00,  8.99it/s]"
     ]
    },
    {
     "name": "stdout",
     "output_type": "stream",
     "text": [
      "                   all        324       3668      0.986      0.988      0.992       0.72\n"
     ]
    },
    {
     "name": "stderr",
     "output_type": "stream",
     "text": [
      "\n"
     ]
    },
    {
     "name": "stdout",
     "output_type": "stream",
     "text": [
      "\n",
      "      Epoch    GPU_mem   box_loss   cls_loss   dfl_loss  Instances       Size\n"
     ]
    },
    {
     "name": "stderr",
     "output_type": "stream",
     "text": [
      "       8/50      16.6G      0.959     0.5986     0.9317        196       1600: 100%|██████████| 72/72 [00:16<00:00,  4.36it/s]\n",
      "                 Class     Images  Instances      Box(P          R      mAP50  mAP50-95): 100%|██████████| 9/9 [00:00<00:00,  9.06it/s]"
     ]
    },
    {
     "name": "stdout",
     "output_type": "stream",
     "text": [
      "                   all        324       3668      0.991      0.986      0.992      0.756\n"
     ]
    },
    {
     "name": "stderr",
     "output_type": "stream",
     "text": [
      "\n"
     ]
    },
    {
     "name": "stdout",
     "output_type": "stream",
     "text": [
      "\n",
      "      Epoch    GPU_mem   box_loss   cls_loss   dfl_loss  Instances       Size\n"
     ]
    },
    {
     "name": "stderr",
     "output_type": "stream",
     "text": [
      "       9/50      17.3G      0.925     0.5744     0.9201        211       1600: 100%|██████████| 72/72 [00:16<00:00,  4.34it/s]\n",
      "                 Class     Images  Instances      Box(P          R      mAP50  mAP50-95): 100%|██████████| 9/9 [00:01<00:00,  8.83it/s]"
     ]
    },
    {
     "name": "stdout",
     "output_type": "stream",
     "text": [
      "                   all        324       3668      0.988       0.99      0.991      0.744\n"
     ]
    },
    {
     "name": "stderr",
     "output_type": "stream",
     "text": [
      "\n"
     ]
    },
    {
     "name": "stdout",
     "output_type": "stream",
     "text": [
      "\n",
      "      Epoch    GPU_mem   box_loss   cls_loss   dfl_loss  Instances       Size\n"
     ]
    },
    {
     "name": "stderr",
     "output_type": "stream",
     "text": [
      "      10/50      17.7G     0.9023     0.5598     0.9107        298       1600: 100%|██████████| 72/72 [00:16<00:00,  4.33it/s]\n",
      "                 Class     Images  Instances      Box(P          R      mAP50  mAP50-95): 100%|██████████| 9/9 [00:01<00:00,  8.83it/s]"
     ]
    },
    {
     "name": "stdout",
     "output_type": "stream",
     "text": [
      "                   all        324       3668      0.987       0.99      0.992      0.755\n"
     ]
    },
    {
     "name": "stderr",
     "output_type": "stream",
     "text": [
      "\n"
     ]
    },
    {
     "name": "stdout",
     "output_type": "stream",
     "text": [
      "\n",
      "      Epoch    GPU_mem   box_loss   cls_loss   dfl_loss  Instances       Size\n"
     ]
    },
    {
     "name": "stderr",
     "output_type": "stream",
     "text": [
      "      11/50      17.6G      0.912      0.556     0.9204        276       1600: 100%|██████████| 72/72 [00:16<00:00,  4.36it/s]\n",
      "                 Class     Images  Instances      Box(P          R      mAP50  mAP50-95): 100%|██████████| 9/9 [00:01<00:00,  8.96it/s]"
     ]
    },
    {
     "name": "stdout",
     "output_type": "stream",
     "text": [
      "                   all        324       3668      0.991      0.989      0.993      0.753\n"
     ]
    },
    {
     "name": "stderr",
     "output_type": "stream",
     "text": [
      "\n"
     ]
    },
    {
     "name": "stdout",
     "output_type": "stream",
     "text": [
      "\n",
      "      Epoch    GPU_mem   box_loss   cls_loss   dfl_loss  Instances       Size\n"
     ]
    },
    {
     "name": "stderr",
     "output_type": "stream",
     "text": [
      "      12/50      17.2G      0.898     0.5382     0.9154        232       1600: 100%|██████████| 72/72 [00:16<00:00,  4.36it/s]\n",
      "                 Class     Images  Instances      Box(P          R      mAP50  mAP50-95): 100%|██████████| 9/9 [00:01<00:00,  8.96it/s]"
     ]
    },
    {
     "name": "stdout",
     "output_type": "stream",
     "text": [
      "                   all        324       3668      0.992      0.988      0.993      0.765\n"
     ]
    },
    {
     "name": "stderr",
     "output_type": "stream",
     "text": [
      "\n"
     ]
    },
    {
     "name": "stdout",
     "output_type": "stream",
     "text": [
      "\n",
      "      Epoch    GPU_mem   box_loss   cls_loss   dfl_loss  Instances       Size\n"
     ]
    },
    {
     "name": "stderr",
     "output_type": "stream",
     "text": [
      "      13/50      16.5G     0.8858     0.5287     0.9082        275       1600: 100%|██████████| 72/72 [00:16<00:00,  4.37it/s]\n",
      "                 Class     Images  Instances      Box(P          R      mAP50  mAP50-95): 100%|██████████| 9/9 [00:01<00:00,  8.91it/s]"
     ]
    },
    {
     "name": "stdout",
     "output_type": "stream",
     "text": [
      "                   all        324       3668      0.989      0.986      0.992      0.732\n"
     ]
    },
    {
     "name": "stderr",
     "output_type": "stream",
     "text": [
      "\n"
     ]
    },
    {
     "name": "stdout",
     "output_type": "stream",
     "text": [
      "\n",
      "      Epoch    GPU_mem   box_loss   cls_loss   dfl_loss  Instances       Size\n"
     ]
    },
    {
     "name": "stderr",
     "output_type": "stream",
     "text": [
      "      14/50        18G     0.8785      0.517     0.9086        212       1600: 100%|██████████| 72/72 [00:16<00:00,  4.38it/s]\n",
      "                 Class     Images  Instances      Box(P          R      mAP50  mAP50-95): 100%|██████████| 9/9 [00:01<00:00,  8.95it/s]"
     ]
    },
    {
     "name": "stdout",
     "output_type": "stream",
     "text": [
      "                   all        324       3668      0.987      0.992      0.992      0.774\n"
     ]
    },
    {
     "name": "stderr",
     "output_type": "stream",
     "text": [
      "\n"
     ]
    },
    {
     "name": "stdout",
     "output_type": "stream",
     "text": [
      "\n",
      "      Epoch    GPU_mem   box_loss   cls_loss   dfl_loss  Instances       Size\n"
     ]
    },
    {
     "name": "stderr",
     "output_type": "stream",
     "text": [
      "      15/50      15.9G     0.8798     0.5157     0.9076        316       1600: 100%|██████████| 72/72 [00:16<00:00,  4.36it/s]\n",
      "                 Class     Images  Instances      Box(P          R      mAP50  mAP50-95): 100%|██████████| 9/9 [00:01<00:00,  8.92it/s]"
     ]
    },
    {
     "name": "stdout",
     "output_type": "stream",
     "text": [
      "                   all        324       3668      0.987       0.99      0.993      0.767\n"
     ]
    },
    {
     "name": "stderr",
     "output_type": "stream",
     "text": [
      "\n"
     ]
    },
    {
     "name": "stdout",
     "output_type": "stream",
     "text": [
      "\n",
      "      Epoch    GPU_mem   box_loss   cls_loss   dfl_loss  Instances       Size\n"
     ]
    },
    {
     "name": "stderr",
     "output_type": "stream",
     "text": [
      "      16/50      16.6G     0.8556     0.4991     0.9036        230       1600: 100%|██████████| 72/72 [00:16<00:00,  4.38it/s]\n",
      "                 Class     Images  Instances      Box(P          R      mAP50  mAP50-95): 100%|██████████| 9/9 [00:00<00:00,  9.07it/s]"
     ]
    },
    {
     "name": "stdout",
     "output_type": "stream",
     "text": [
      "                   all        324       3668      0.992      0.988      0.993      0.777\n"
     ]
    },
    {
     "name": "stderr",
     "output_type": "stream",
     "text": [
      "\n"
     ]
    },
    {
     "name": "stdout",
     "output_type": "stream",
     "text": [
      "\n",
      "      Epoch    GPU_mem   box_loss   cls_loss   dfl_loss  Instances       Size\n"
     ]
    },
    {
     "name": "stderr",
     "output_type": "stream",
     "text": [
      "      17/50      15.9G      0.836     0.4917      0.894        267       1600: 100%|██████████| 72/72 [00:16<00:00,  4.39it/s]\n",
      "                 Class     Images  Instances      Box(P          R      mAP50  mAP50-95): 100%|██████████| 9/9 [00:00<00:00,  9.01it/s]"
     ]
    },
    {
     "name": "stdout",
     "output_type": "stream",
     "text": [
      "                   all        324       3668       0.99      0.989      0.994      0.786\n"
     ]
    },
    {
     "name": "stderr",
     "output_type": "stream",
     "text": [
      "\n"
     ]
    },
    {
     "name": "stdout",
     "output_type": "stream",
     "text": [
      "\n",
      "      Epoch    GPU_mem   box_loss   cls_loss   dfl_loss  Instances       Size\n"
     ]
    },
    {
     "name": "stderr",
     "output_type": "stream",
     "text": [
      "      18/50      16.6G     0.8411     0.4881     0.9014        261       1600: 100%|██████████| 72/72 [00:16<00:00,  4.39it/s]\n",
      "                 Class     Images  Instances      Box(P          R      mAP50  mAP50-95): 100%|██████████| 9/9 [00:00<00:00,  9.00it/s]"
     ]
    },
    {
     "name": "stdout",
     "output_type": "stream",
     "text": [
      "                   all        324       3668       0.99      0.993      0.994      0.787\n"
     ]
    },
    {
     "name": "stderr",
     "output_type": "stream",
     "text": [
      "\n"
     ]
    },
    {
     "name": "stdout",
     "output_type": "stream",
     "text": [
      "\n",
      "      Epoch    GPU_mem   box_loss   cls_loss   dfl_loss  Instances       Size\n"
     ]
    },
    {
     "name": "stderr",
     "output_type": "stream",
     "text": [
      "      19/50      16.6G     0.8147     0.4761     0.8937        259       1600: 100%|██████████| 72/72 [00:16<00:00,  4.38it/s]\n",
      "                 Class     Images  Instances      Box(P          R      mAP50  mAP50-95): 100%|██████████| 9/9 [00:01<00:00,  8.95it/s]"
     ]
    },
    {
     "name": "stdout",
     "output_type": "stream",
     "text": [
      "                   all        324       3668      0.988       0.99      0.994      0.783\n"
     ]
    },
    {
     "name": "stderr",
     "output_type": "stream",
     "text": [
      "\n"
     ]
    },
    {
     "name": "stdout",
     "output_type": "stream",
     "text": [
      "\n",
      "      Epoch    GPU_mem   box_loss   cls_loss   dfl_loss  Instances       Size\n"
     ]
    },
    {
     "name": "stderr",
     "output_type": "stream",
     "text": [
      "      20/50      17.5G      0.821     0.4777     0.8947        261       1600: 100%|██████████| 72/72 [00:16<00:00,  4.37it/s]\n",
      "                 Class     Images  Instances      Box(P          R      mAP50  mAP50-95): 100%|██████████| 9/9 [00:00<00:00,  9.04it/s]"
     ]
    },
    {
     "name": "stdout",
     "output_type": "stream",
     "text": [
      "                   all        324       3668      0.992      0.989      0.994      0.788\n"
     ]
    },
    {
     "name": "stderr",
     "output_type": "stream",
     "text": [
      "\n"
     ]
    },
    {
     "name": "stdout",
     "output_type": "stream",
     "text": [
      "\n",
      "      Epoch    GPU_mem   box_loss   cls_loss   dfl_loss  Instances       Size\n"
     ]
    },
    {
     "name": "stderr",
     "output_type": "stream",
     "text": [
      "      21/50      16.9G      0.817     0.4735     0.8903        217       1600: 100%|██████████| 72/72 [00:16<00:00,  4.39it/s]\n",
      "                 Class     Images  Instances      Box(P          R      mAP50  mAP50-95): 100%|██████████| 9/9 [00:01<00:00,  8.98it/s]"
     ]
    },
    {
     "name": "stdout",
     "output_type": "stream",
     "text": [
      "                   all        324       3668      0.989       0.99      0.994      0.798\n"
     ]
    },
    {
     "name": "stderr",
     "output_type": "stream",
     "text": [
      "\n"
     ]
    },
    {
     "name": "stdout",
     "output_type": "stream",
     "text": [
      "\n",
      "      Epoch    GPU_mem   box_loss   cls_loss   dfl_loss  Instances       Size\n"
     ]
    },
    {
     "name": "stderr",
     "output_type": "stream",
     "text": [
      "      22/50      17.3G     0.8033     0.4646     0.8925        218       1600: 100%|██████████| 72/72 [00:16<00:00,  4.39it/s]\n",
      "                 Class     Images  Instances      Box(P          R      mAP50  mAP50-95): 100%|██████████| 9/9 [00:00<00:00,  9.06it/s]"
     ]
    },
    {
     "name": "stdout",
     "output_type": "stream",
     "text": [
      "                   all        324       3668      0.992      0.993      0.994      0.783\n"
     ]
    },
    {
     "name": "stderr",
     "output_type": "stream",
     "text": [
      "\n"
     ]
    },
    {
     "name": "stdout",
     "output_type": "stream",
     "text": [
      "\n",
      "      Epoch    GPU_mem   box_loss   cls_loss   dfl_loss  Instances       Size\n"
     ]
    },
    {
     "name": "stderr",
     "output_type": "stream",
     "text": [
      "      23/50      17.3G     0.7981     0.4593     0.8875        272       1600: 100%|██████████| 72/72 [00:16<00:00,  4.37it/s]\n",
      "                 Class     Images  Instances      Box(P          R      mAP50  mAP50-95): 100%|██████████| 9/9 [00:01<00:00,  8.98it/s]"
     ]
    },
    {
     "name": "stdout",
     "output_type": "stream",
     "text": [
      "                   all        324       3668      0.992      0.993      0.994      0.808\n"
     ]
    },
    {
     "name": "stderr",
     "output_type": "stream",
     "text": [
      "\n"
     ]
    },
    {
     "name": "stdout",
     "output_type": "stream",
     "text": [
      "\n",
      "      Epoch    GPU_mem   box_loss   cls_loss   dfl_loss  Instances       Size\n"
     ]
    },
    {
     "name": "stderr",
     "output_type": "stream",
     "text": [
      "      24/50      17.2G     0.8156     0.4573     0.8876        266       1600: 100%|██████████| 72/72 [00:16<00:00,  4.39it/s]\n",
      "                 Class     Images  Instances      Box(P          R      mAP50  mAP50-95): 100%|██████████| 9/9 [00:00<00:00,  9.03it/s]"
     ]
    },
    {
     "name": "stdout",
     "output_type": "stream",
     "text": [
      "                   all        324       3668      0.993      0.992      0.994      0.785\n"
     ]
    },
    {
     "name": "stderr",
     "output_type": "stream",
     "text": [
      "\n"
     ]
    },
    {
     "name": "stdout",
     "output_type": "stream",
     "text": [
      "\n",
      "      Epoch    GPU_mem   box_loss   cls_loss   dfl_loss  Instances       Size\n"
     ]
    },
    {
     "name": "stderr",
     "output_type": "stream",
     "text": [
      "      25/50      18.9G     0.7835     0.4481     0.8822        250       1600: 100%|██████████| 72/72 [00:16<00:00,  4.40it/s]\n",
      "                 Class     Images  Instances      Box(P          R      mAP50  mAP50-95): 100%|██████████| 9/9 [00:00<00:00,  9.00it/s]"
     ]
    },
    {
     "name": "stdout",
     "output_type": "stream",
     "text": [
      "                   all        324       3668      0.993      0.993      0.994      0.802\n"
     ]
    },
    {
     "name": "stderr",
     "output_type": "stream",
     "text": [
      "\n"
     ]
    },
    {
     "name": "stdout",
     "output_type": "stream",
     "text": [
      "\n",
      "      Epoch    GPU_mem   box_loss   cls_loss   dfl_loss  Instances       Size\n"
     ]
    },
    {
     "name": "stderr",
     "output_type": "stream",
     "text": [
      "      26/50      16.7G     0.7519     0.4383     0.8755        240       1600: 100%|██████████| 72/72 [00:16<00:00,  4.37it/s]\n",
      "                 Class     Images  Instances      Box(P          R      mAP50  mAP50-95): 100%|██████████| 9/9 [00:01<00:00,  8.96it/s]"
     ]
    },
    {
     "name": "stdout",
     "output_type": "stream",
     "text": [
      "                   all        324       3668      0.993      0.996      0.995      0.808\n"
     ]
    },
    {
     "name": "stderr",
     "output_type": "stream",
     "text": [
      "\n"
     ]
    },
    {
     "name": "stdout",
     "output_type": "stream",
     "text": [
      "\n",
      "      Epoch    GPU_mem   box_loss   cls_loss   dfl_loss  Instances       Size\n"
     ]
    },
    {
     "name": "stderr",
     "output_type": "stream",
     "text": [
      "      27/50      18.2G     0.7648     0.4436     0.8773        236       1600: 100%|██████████| 72/72 [00:16<00:00,  4.40it/s]\n",
      "                 Class     Images  Instances      Box(P          R      mAP50  mAP50-95): 100%|██████████| 9/9 [00:00<00:00,  9.10it/s]"
     ]
    },
    {
     "name": "stdout",
     "output_type": "stream",
     "text": [
      "                   all        324       3668      0.989      0.994      0.994      0.817\n"
     ]
    },
    {
     "name": "stderr",
     "output_type": "stream",
     "text": [
      "\n"
     ]
    },
    {
     "name": "stdout",
     "output_type": "stream",
     "text": [
      "\n",
      "      Epoch    GPU_mem   box_loss   cls_loss   dfl_loss  Instances       Size\n"
     ]
    },
    {
     "name": "stderr",
     "output_type": "stream",
     "text": [
      "      28/50      16.5G     0.7621     0.4372     0.8817        278       1600: 100%|██████████| 72/72 [00:16<00:00,  4.38it/s]\n",
      "                 Class     Images  Instances      Box(P          R      mAP50  mAP50-95): 100%|██████████| 9/9 [00:00<00:00,  9.03it/s]"
     ]
    },
    {
     "name": "stdout",
     "output_type": "stream",
     "text": [
      "                   all        324       3668       0.99      0.993      0.994      0.804\n"
     ]
    },
    {
     "name": "stderr",
     "output_type": "stream",
     "text": [
      "\n"
     ]
    },
    {
     "name": "stdout",
     "output_type": "stream",
     "text": [
      "\n",
      "      Epoch    GPU_mem   box_loss   cls_loss   dfl_loss  Instances       Size\n"
     ]
    },
    {
     "name": "stderr",
     "output_type": "stream",
     "text": [
      "      29/50      16.3G     0.7434     0.4289     0.8714        332       1600: 100%|██████████| 72/72 [00:16<00:00,  4.39it/s]\n",
      "                 Class     Images  Instances      Box(P          R      mAP50  mAP50-95): 100%|██████████| 9/9 [00:00<00:00,  9.01it/s]"
     ]
    },
    {
     "name": "stdout",
     "output_type": "stream",
     "text": [
      "                   all        324       3668      0.995      0.993      0.995      0.816\n"
     ]
    },
    {
     "name": "stderr",
     "output_type": "stream",
     "text": [
      "\n"
     ]
    },
    {
     "name": "stdout",
     "output_type": "stream",
     "text": [
      "\n",
      "      Epoch    GPU_mem   box_loss   cls_loss   dfl_loss  Instances       Size\n"
     ]
    },
    {
     "name": "stderr",
     "output_type": "stream",
     "text": [
      "      30/50      16.9G     0.7349     0.4233     0.8696        325       1600: 100%|██████████| 72/72 [00:16<00:00,  4.39it/s]\n",
      "                 Class     Images  Instances      Box(P          R      mAP50  mAP50-95): 100%|██████████| 9/9 [00:00<00:00,  9.05it/s]"
     ]
    },
    {
     "name": "stdout",
     "output_type": "stream",
     "text": [
      "                   all        324       3668      0.991      0.995      0.995      0.816\n"
     ]
    },
    {
     "name": "stderr",
     "output_type": "stream",
     "text": [
      "\n"
     ]
    },
    {
     "name": "stdout",
     "output_type": "stream",
     "text": [
      "\n",
      "      Epoch    GPU_mem   box_loss   cls_loss   dfl_loss  Instances       Size\n"
     ]
    },
    {
     "name": "stderr",
     "output_type": "stream",
     "text": [
      "      31/50      17.3G     0.7375     0.4235     0.8751        217       1600: 100%|██████████| 72/72 [00:16<00:00,  4.36it/s]\n",
      "                 Class     Images  Instances      Box(P          R      mAP50  mAP50-95): 100%|██████████| 9/9 [00:01<00:00,  8.98it/s]"
     ]
    },
    {
     "name": "stdout",
     "output_type": "stream",
     "text": [
      "                   all        324       3668      0.993      0.993      0.994      0.822\n"
     ]
    },
    {
     "name": "stderr",
     "output_type": "stream",
     "text": [
      "\n"
     ]
    },
    {
     "name": "stdout",
     "output_type": "stream",
     "text": [
      "\n",
      "      Epoch    GPU_mem   box_loss   cls_loss   dfl_loss  Instances       Size\n"
     ]
    },
    {
     "name": "stderr",
     "output_type": "stream",
     "text": [
      "      32/50        18G      0.738     0.4245     0.8714        289       1600: 100%|██████████| 72/72 [00:15<00:00,  4.67it/s]\n",
      "                 Class     Images  Instances      Box(P          R      mAP50  mAP50-95): 100%|██████████| 9/9 [00:00<00:00,  9.61it/s]"
     ]
    },
    {
     "name": "stdout",
     "output_type": "stream",
     "text": [
      "                   all        324       3668      0.993      0.988      0.994      0.799\n"
     ]
    },
    {
     "name": "stderr",
     "output_type": "stream",
     "text": [
      "\n"
     ]
    },
    {
     "name": "stdout",
     "output_type": "stream",
     "text": [
      "\n",
      "      Epoch    GPU_mem   box_loss   cls_loss   dfl_loss  Instances       Size\n"
     ]
    },
    {
     "name": "stderr",
     "output_type": "stream",
     "text": [
      "      33/50      15.9G     0.7233     0.4166     0.8673        308       1600: 100%|██████████| 72/72 [00:15<00:00,  4.68it/s]\n",
      "                 Class     Images  Instances      Box(P          R      mAP50  mAP50-95): 100%|██████████| 9/9 [00:00<00:00,  9.59it/s]"
     ]
    },
    {
     "name": "stdout",
     "output_type": "stream",
     "text": [
      "                   all        324       3668       0.99      0.995      0.995      0.828\n"
     ]
    },
    {
     "name": "stderr",
     "output_type": "stream",
     "text": [
      "\n"
     ]
    },
    {
     "name": "stdout",
     "output_type": "stream",
     "text": [
      "\n",
      "      Epoch    GPU_mem   box_loss   cls_loss   dfl_loss  Instances       Size\n"
     ]
    },
    {
     "name": "stderr",
     "output_type": "stream",
     "text": [
      "      34/50      16.4G     0.7075     0.4095     0.8629        294       1600: 100%|██████████| 72/72 [00:15<00:00,  4.69it/s]\n",
      "                 Class     Images  Instances      Box(P          R      mAP50  mAP50-95): 100%|██████████| 9/9 [00:00<00:00,  9.55it/s]"
     ]
    },
    {
     "name": "stdout",
     "output_type": "stream",
     "text": [
      "                   all        324       3668      0.995      0.996      0.995      0.829\n"
     ]
    },
    {
     "name": "stderr",
     "output_type": "stream",
     "text": [
      "\n"
     ]
    },
    {
     "name": "stdout",
     "output_type": "stream",
     "text": [
      "\n",
      "      Epoch    GPU_mem   box_loss   cls_loss   dfl_loss  Instances       Size\n"
     ]
    },
    {
     "name": "stderr",
     "output_type": "stream",
     "text": [
      "      35/50      16.7G     0.7114     0.4101     0.8644        278       1600: 100%|██████████| 72/72 [00:15<00:00,  4.69it/s]\n",
      "                 Class     Images  Instances      Box(P          R      mAP50  mAP50-95): 100%|██████████| 9/9 [00:00<00:00,  9.54it/s]"
     ]
    },
    {
     "name": "stdout",
     "output_type": "stream",
     "text": [
      "                   all        324       3668      0.993      0.993      0.995      0.823\n"
     ]
    },
    {
     "name": "stderr",
     "output_type": "stream",
     "text": [
      "\n"
     ]
    },
    {
     "name": "stdout",
     "output_type": "stream",
     "text": [
      "\n",
      "      Epoch    GPU_mem   box_loss   cls_loss   dfl_loss  Instances       Size\n"
     ]
    },
    {
     "name": "stderr",
     "output_type": "stream",
     "text": [
      "      36/50      16.6G     0.7035     0.4049     0.8662        273       1600: 100%|██████████| 72/72 [00:15<00:00,  4.69it/s]\n",
      "                 Class     Images  Instances      Box(P          R      mAP50  mAP50-95): 100%|██████████| 9/9 [00:00<00:00,  9.58it/s]"
     ]
    },
    {
     "name": "stdout",
     "output_type": "stream",
     "text": [
      "                   all        324       3668      0.995      0.994      0.995      0.834\n"
     ]
    },
    {
     "name": "stderr",
     "output_type": "stream",
     "text": [
      "\n"
     ]
    },
    {
     "name": "stdout",
     "output_type": "stream",
     "text": [
      "\n",
      "      Epoch    GPU_mem   box_loss   cls_loss   dfl_loss  Instances       Size\n"
     ]
    },
    {
     "name": "stderr",
     "output_type": "stream",
     "text": [
      "      37/50      15.8G     0.7122     0.4049     0.8633        284       1600: 100%|██████████| 72/72 [00:15<00:00,  4.67it/s]\n",
      "                 Class     Images  Instances      Box(P          R      mAP50  mAP50-95): 100%|██████████| 9/9 [00:00<00:00,  9.53it/s]"
     ]
    },
    {
     "name": "stdout",
     "output_type": "stream",
     "text": [
      "                   all        324       3668      0.993      0.995      0.994      0.837\n"
     ]
    },
    {
     "name": "stderr",
     "output_type": "stream",
     "text": [
      "\n"
     ]
    },
    {
     "name": "stdout",
     "output_type": "stream",
     "text": [
      "\n",
      "      Epoch    GPU_mem   box_loss   cls_loss   dfl_loss  Instances       Size\n"
     ]
    },
    {
     "name": "stderr",
     "output_type": "stream",
     "text": [
      "      38/50      15.1G      0.687     0.3983      0.857        266       1600: 100%|██████████| 72/72 [00:15<00:00,  4.69it/s]\n",
      "                 Class     Images  Instances      Box(P          R      mAP50  mAP50-95): 100%|██████████| 9/9 [00:00<00:00,  9.61it/s]"
     ]
    },
    {
     "name": "stdout",
     "output_type": "stream",
     "text": [
      "                   all        324       3668      0.994      0.994      0.995      0.841\n"
     ]
    },
    {
     "name": "stderr",
     "output_type": "stream",
     "text": [
      "\n"
     ]
    },
    {
     "name": "stdout",
     "output_type": "stream",
     "text": [
      "\n",
      "      Epoch    GPU_mem   box_loss   cls_loss   dfl_loss  Instances       Size\n"
     ]
    },
    {
     "name": "stderr",
     "output_type": "stream",
     "text": [
      "      39/50      17.2G     0.6862     0.3974     0.8578        315       1600: 100%|██████████| 72/72 [00:15<00:00,  4.68it/s]\n",
      "                 Class     Images  Instances      Box(P          R      mAP50  mAP50-95): 100%|██████████| 9/9 [00:00<00:00,  9.62it/s]"
     ]
    },
    {
     "name": "stdout",
     "output_type": "stream",
     "text": [
      "                   all        324       3668      0.995      0.994      0.995      0.847\n"
     ]
    },
    {
     "name": "stderr",
     "output_type": "stream",
     "text": [
      "\n"
     ]
    },
    {
     "name": "stdout",
     "output_type": "stream",
     "text": [
      "\n",
      "      Epoch    GPU_mem   box_loss   cls_loss   dfl_loss  Instances       Size\n"
     ]
    },
    {
     "name": "stderr",
     "output_type": "stream",
     "text": [
      "      40/50      18.3G     0.6825     0.3929     0.8591        342       1600: 100%|██████████| 72/72 [00:15<00:00,  4.67it/s]\n",
      "                 Class     Images  Instances      Box(P          R      mAP50  mAP50-95): 100%|██████████| 9/9 [00:00<00:00,  9.44it/s]"
     ]
    },
    {
     "name": "stdout",
     "output_type": "stream",
     "text": [
      "                   all        324       3668      0.992      0.992      0.995      0.838\n"
     ]
    },
    {
     "name": "stderr",
     "output_type": "stream",
     "text": [
      "\n"
     ]
    },
    {
     "name": "stdout",
     "output_type": "stream",
     "text": [
      "Closing dataloader mosaic\n",
      "\n",
      "      Epoch    GPU_mem   box_loss   cls_loss   dfl_loss  Instances       Size\n"
     ]
    },
    {
     "name": "stderr",
     "output_type": "stream",
     "text": [
      "      41/50      16.2G      0.708     0.3994     0.8736        129       1600: 100%|██████████| 72/72 [00:16<00:00,  4.49it/s]\n",
      "                 Class     Images  Instances      Box(P          R      mAP50  mAP50-95): 100%|██████████| 9/9 [00:00<00:00,  9.59it/s]"
     ]
    },
    {
     "name": "stdout",
     "output_type": "stream",
     "text": [
      "                   all        324       3668      0.994      0.992      0.994      0.828\n"
     ]
    },
    {
     "name": "stderr",
     "output_type": "stream",
     "text": [
      "\n"
     ]
    },
    {
     "name": "stdout",
     "output_type": "stream",
     "text": [
      "\n",
      "      Epoch    GPU_mem   box_loss   cls_loss   dfl_loss  Instances       Size\n"
     ]
    },
    {
     "name": "stderr",
     "output_type": "stream",
     "text": [
      "      42/50      15.5G     0.6445     0.3804     0.8585        139       1600: 100%|██████████| 72/72 [00:14<00:00,  4.90it/s]\n",
      "                 Class     Images  Instances      Box(P          R      mAP50  mAP50-95): 100%|██████████| 9/9 [00:00<00:00,  9.71it/s]"
     ]
    },
    {
     "name": "stdout",
     "output_type": "stream",
     "text": [
      "                   all        324       3668      0.992      0.996      0.995      0.827\n"
     ]
    },
    {
     "name": "stderr",
     "output_type": "stream",
     "text": [
      "\n"
     ]
    },
    {
     "name": "stdout",
     "output_type": "stream",
     "text": [
      "\n",
      "      Epoch    GPU_mem   box_loss   cls_loss   dfl_loss  Instances       Size\n"
     ]
    },
    {
     "name": "stderr",
     "output_type": "stream",
     "text": [
      "      43/50      15.5G     0.6263     0.3733     0.8517        143       1600: 100%|██████████| 72/72 [00:14<00:00,  4.90it/s]\n",
      "                 Class     Images  Instances      Box(P          R      mAP50  mAP50-95): 100%|██████████| 9/9 [00:00<00:00,  9.66it/s]"
     ]
    },
    {
     "name": "stdout",
     "output_type": "stream",
     "text": [
      "                   all        324       3668      0.995      0.994      0.995      0.835\n"
     ]
    },
    {
     "name": "stderr",
     "output_type": "stream",
     "text": [
      "\n"
     ]
    },
    {
     "name": "stdout",
     "output_type": "stream",
     "text": [
      "\n",
      "      Epoch    GPU_mem   box_loss   cls_loss   dfl_loss  Instances       Size\n"
     ]
    },
    {
     "name": "stderr",
     "output_type": "stream",
     "text": [
      "      44/50      15.7G      0.609     0.3662     0.8481        109       1600: 100%|██████████| 72/72 [00:14<00:00,  4.89it/s]\n",
      "                 Class     Images  Instances      Box(P          R      mAP50  mAP50-95): 100%|██████████| 9/9 [00:00<00:00,  9.57it/s]"
     ]
    },
    {
     "name": "stdout",
     "output_type": "stream",
     "text": [
      "                   all        324       3668      0.996      0.995      0.995      0.839\n"
     ]
    },
    {
     "name": "stderr",
     "output_type": "stream",
     "text": [
      "\n"
     ]
    },
    {
     "name": "stdout",
     "output_type": "stream",
     "text": [
      "\n",
      "      Epoch    GPU_mem   box_loss   cls_loss   dfl_loss  Instances       Size\n"
     ]
    },
    {
     "name": "stderr",
     "output_type": "stream",
     "text": [
      "      45/50      15.5G     0.6036     0.3626     0.8448        171       1600: 100%|██████████| 72/72 [00:14<00:00,  4.89it/s]\n",
      "                 Class     Images  Instances      Box(P          R      mAP50  mAP50-95): 100%|██████████| 9/9 [00:00<00:00,  9.63it/s]"
     ]
    },
    {
     "name": "stdout",
     "output_type": "stream",
     "text": [
      "                   all        324       3668      0.995      0.994      0.995      0.849\n"
     ]
    },
    {
     "name": "stderr",
     "output_type": "stream",
     "text": [
      "\n"
     ]
    },
    {
     "name": "stdout",
     "output_type": "stream",
     "text": [
      "\n",
      "      Epoch    GPU_mem   box_loss   cls_loss   dfl_loss  Instances       Size\n"
     ]
    },
    {
     "name": "stderr",
     "output_type": "stream",
     "text": [
      "      46/50      15.5G     0.5914     0.3592     0.8449        120       1600: 100%|██████████| 72/72 [00:14<00:00,  4.89it/s]\n",
      "                 Class     Images  Instances      Box(P          R      mAP50  mAP50-95): 100%|██████████| 9/9 [00:00<00:00,  9.59it/s]"
     ]
    },
    {
     "name": "stdout",
     "output_type": "stream",
     "text": [
      "                   all        324       3668      0.992      0.997      0.995      0.852\n"
     ]
    },
    {
     "name": "stderr",
     "output_type": "stream",
     "text": [
      "\n"
     ]
    },
    {
     "name": "stdout",
     "output_type": "stream",
     "text": [
      "\n",
      "      Epoch    GPU_mem   box_loss   cls_loss   dfl_loss  Instances       Size\n"
     ]
    },
    {
     "name": "stderr",
     "output_type": "stream",
     "text": [
      "      47/50      15.5G      0.588     0.3575     0.8437        133       1600: 100%|██████████| 72/72 [00:14<00:00,  4.90it/s]\n",
      "                 Class     Images  Instances      Box(P          R      mAP50  mAP50-95): 100%|██████████| 9/9 [00:00<00:00,  9.56it/s]"
     ]
    },
    {
     "name": "stdout",
     "output_type": "stream",
     "text": [
      "                   all        324       3668      0.991      0.997      0.995      0.848\n"
     ]
    },
    {
     "name": "stderr",
     "output_type": "stream",
     "text": [
      "\n"
     ]
    },
    {
     "name": "stdout",
     "output_type": "stream",
     "text": [
      "\n",
      "      Epoch    GPU_mem   box_loss   cls_loss   dfl_loss  Instances       Size\n"
     ]
    },
    {
     "name": "stderr",
     "output_type": "stream",
     "text": [
      "      48/50      15.5G     0.5791     0.3546      0.843        158       1600: 100%|██████████| 72/72 [00:14<00:00,  4.90it/s]\n",
      "                 Class     Images  Instances      Box(P          R      mAP50  mAP50-95): 100%|██████████| 9/9 [00:00<00:00,  9.44it/s]"
     ]
    },
    {
     "name": "stdout",
     "output_type": "stream",
     "text": [
      "                   all        324       3668      0.994      0.996      0.995      0.845\n"
     ]
    },
    {
     "name": "stderr",
     "output_type": "stream",
     "text": [
      "\n"
     ]
    },
    {
     "name": "stdout",
     "output_type": "stream",
     "text": [
      "\n",
      "      Epoch    GPU_mem   box_loss   cls_loss   dfl_loss  Instances       Size\n"
     ]
    },
    {
     "name": "stderr",
     "output_type": "stream",
     "text": [
      "      49/50      15.5G     0.5707     0.3502     0.8379        144       1600: 100%|██████████| 72/72 [00:14<00:00,  4.90it/s]\n",
      "                 Class     Images  Instances      Box(P          R      mAP50  mAP50-95): 100%|██████████| 9/9 [00:00<00:00,  9.54it/s]"
     ]
    },
    {
     "name": "stdout",
     "output_type": "stream",
     "text": [
      "                   all        324       3668      0.995      0.996      0.995      0.852\n"
     ]
    },
    {
     "name": "stderr",
     "output_type": "stream",
     "text": [
      "\n"
     ]
    },
    {
     "name": "stdout",
     "output_type": "stream",
     "text": [
      "\n",
      "      Epoch    GPU_mem   box_loss   cls_loss   dfl_loss  Instances       Size\n"
     ]
    },
    {
     "name": "stderr",
     "output_type": "stream",
     "text": [
      "      50/50      15.5G     0.5606     0.3484     0.8382        121       1600: 100%|██████████| 72/72 [00:14<00:00,  4.86it/s]\n",
      "                 Class     Images  Instances      Box(P          R      mAP50  mAP50-95): 100%|██████████| 9/9 [00:00<00:00,  9.76it/s]"
     ]
    },
    {
     "name": "stdout",
     "output_type": "stream",
     "text": [
      "                   all        324       3668      0.993      0.997      0.995      0.855\n"
     ]
    },
    {
     "name": "stderr",
     "output_type": "stream",
     "text": [
      "\n"
     ]
    },
    {
     "name": "stdout",
     "output_type": "stream",
     "text": [
      "\n",
      "50 epochs completed in 0.241 hours.\n",
      "Optimizer stripped from /work/mbergst/TDT4265_Project/runs/keypoints/train78/weights/last.pt, 6.4MB\n",
      "Optimizer stripped from /work/mbergst/TDT4265_Project/runs/keypoints/train78/weights/best.pt, 6.4MB\n",
      "\n",
      "Validating /work/mbergst/TDT4265_Project/runs/keypoints/train78/weights/best.pt...\n",
      "Ultralytics YOLOv8.1.42 🚀 Python-3.10.12 torch-2.2.2+cu121 CUDA:0 (NVIDIA GeForce RTX 4090, 24195MiB)\n",
      "Model summary (fused): 168 layers, 3010133 parameters, 0 gradients, 8.1 GFLOPs\n"
     ]
    },
    {
     "name": "stderr",
     "output_type": "stream",
     "text": [
      "                 Class     Images  Instances      Box(P          R      mAP50  mAP50-95): 100%|██████████| 9/9 [00:01<00:00,  5.58it/s]\n"
     ]
    },
    {
     "name": "stdout",
     "output_type": "stream",
     "text": [
      "                   all        324       3668      0.993      0.997      0.995      0.854\n",
      "                     0        324        211          1      0.999      0.995       0.85\n",
      "                     1        324        265      0.992          1      0.995      0.888\n",
      "                     6        324        187      0.997      0.995      0.995      0.803\n",
      "                     7        324        239      0.998          1      0.995      0.905\n",
      "                     8        324        230      0.998          1      0.995      0.879\n",
      "                    10        324        177      0.998          1      0.995      0.848\n",
      "                    11        324        107          1       0.99      0.995      0.823\n",
      "                    13        324        166      0.964      0.979      0.992      0.778\n",
      "                    14        324        177      0.998      0.994      0.995      0.841\n",
      "                    15        324        101          1       0.99      0.995      0.778\n",
      "                    16        324         31      0.951          1      0.994      0.757\n",
      "                    17        324        176      0.997          1      0.995      0.825\n",
      "                    18        324        286      0.998          1      0.995      0.914\n",
      "                    19        324        287      0.995          1      0.995      0.886\n",
      "                    20        324        289      0.998          1      0.995      0.907\n",
      "                    21        324        229      0.994          1      0.995      0.846\n",
      "                    24        324        106      0.995          1      0.995      0.931\n",
      "                    25        324        404      0.999          1      0.995       0.92\n",
      "Speed: 0.2ms preprocess, 1.2ms inference, 0.0ms loss, 0.3ms postprocess per image\n",
      "Results saved to \u001b[1m/work/mbergst/TDT4265_Project/runs/keypoints/train78\u001b[0m\n"
     ]
    }
   ],
   "source": [
    "results = model.train(data=yaml_file, epochs=50, batch=18, imgsz=(1600, 900), project='/work/mbergst/TDT4265_Project/runs/keypoints')"
   ]
  },
  {
   "cell_type": "code",
   "execution_count": 19,
   "metadata": {},
   "outputs": [
    {
     "name": "stdout",
     "output_type": "stream",
     "text": [
      "Ultralytics YOLOv8.1.42 🚀 Python-3.10.12 torch-2.2.2+cu121 CUDA:0 (NVIDIA GeForce RTX 4090, 24195MiB)\n"
     ]
    },
    {
     "name": "stdout",
     "output_type": "stream",
     "text": [
      "Model summary (fused): 168 layers, 3010133 parameters, 0 gradients, 8.1 GFLOPs\n"
     ]
    },
    {
     "name": "stderr",
     "output_type": "stream",
     "text": [
      "\u001b[34m\u001b[1mval: \u001b[0mScanning /work/mbergst/TDT4265_Project/data_yolov8/keypoint_detection/1_train-val_1min_aalesund_from_start/labels/val.cache... 361 images, 0 backgrounds, 37 corrupt: 100%|██████████| 361/361 [00:00<?, ?it/s]"
     ]
    },
    {
     "name": "stdout",
     "output_type": "stream",
     "text": [
      "\u001b[34m\u001b[1mval: \u001b[0mWARNING ⚠️ /work/mbergst/TDT4265_Project/data_yolov8/keypoint_detection/1_train-val_1min_aalesund_from_start/images/val/000341.jpg: ignoring corrupt image/label: Label class 25 exceeds dataset class count 23. Possible class labels are 0-22\n",
      "\u001b[34m\u001b[1mval: \u001b[0mWARNING ⚠️ /work/mbergst/TDT4265_Project/data_yolov8/keypoint_detection/1_train-val_1min_aalesund_from_start/images/val/000351.jpg: ignoring corrupt image/label: Label class 25 exceeds dataset class count 23. Possible class labels are 0-22\n",
      "\u001b[34m\u001b[1mval: \u001b[0mWARNING ⚠️ /work/mbergst/TDT4265_Project/data_yolov8/keypoint_detection/1_train-val_1min_aalesund_from_start/images/val/000366.jpg: ignoring corrupt image/label: Label class 38 exceeds dataset class count 23. Possible class labels are 0-22\n",
      "\u001b[34m\u001b[1mval: \u001b[0mWARNING ⚠️ /work/mbergst/TDT4265_Project/data_yolov8/keypoint_detection/1_train-val_1min_aalesund_from_start/images/val/000376.jpg: ignoring corrupt image/label: Label class 38 exceeds dataset class count 23. Possible class labels are 0-22\n",
      "\u001b[34m\u001b[1mval: \u001b[0mWARNING ⚠️ /work/mbergst/TDT4265_Project/data_yolov8/keypoint_detection/1_train-val_1min_aalesund_from_start/images/val/000389.jpg: ignoring corrupt image/label: Label class 38 exceeds dataset class count 23. Possible class labels are 0-22\n",
      "\u001b[34m\u001b[1mval: \u001b[0mWARNING ⚠️ /work/mbergst/TDT4265_Project/data_yolov8/keypoint_detection/1_train-val_1min_aalesund_from_start/images/val/000390.jpg: ignoring corrupt image/label: Label class 38 exceeds dataset class count 23. Possible class labels are 0-22\n",
      "\u001b[34m\u001b[1mval: \u001b[0mWARNING ⚠️ /work/mbergst/TDT4265_Project/data_yolov8/keypoint_detection/1_train-val_1min_aalesund_from_start/images/val/000393.jpg: ignoring corrupt image/label: Label class 38 exceeds dataset class count 23. Possible class labels are 0-22\n",
      "\u001b[34m\u001b[1mval: \u001b[0mWARNING ⚠️ /work/mbergst/TDT4265_Project/data_yolov8/keypoint_detection/1_train-val_1min_aalesund_from_start/images/val/000394.jpg: ignoring corrupt image/label: Label class 38 exceeds dataset class count 23. Possible class labels are 0-22\n",
      "\u001b[34m\u001b[1mval: \u001b[0mWARNING ⚠️ /work/mbergst/TDT4265_Project/data_yolov8/keypoint_detection/1_train-val_1min_aalesund_from_start/images/val/000408.jpg: ignoring corrupt image/label: Label class 38 exceeds dataset class count 23. Possible class labels are 0-22\n",
      "\u001b[34m\u001b[1mval: \u001b[0mWARNING ⚠️ /work/mbergst/TDT4265_Project/data_yolov8/keypoint_detection/1_train-val_1min_aalesund_from_start/images/val/000412.jpg: ignoring corrupt image/label: Label class 38 exceeds dataset class count 23. Possible class labels are 0-22\n",
      "\u001b[34m\u001b[1mval: \u001b[0mWARNING ⚠️ /work/mbergst/TDT4265_Project/data_yolov8/keypoint_detection/1_train-val_1min_aalesund_from_start/images/val/000430.jpg: ignoring corrupt image/label: Label class 38 exceeds dataset class count 23. Possible class labels are 0-22\n",
      "\u001b[34m\u001b[1mval: \u001b[0mWARNING ⚠️ /work/mbergst/TDT4265_Project/data_yolov8/keypoint_detection/1_train-val_1min_aalesund_from_start/images/val/000433.jpg: ignoring corrupt image/label: Label class 38 exceeds dataset class count 23. Possible class labels are 0-22\n",
      "\u001b[34m\u001b[1mval: \u001b[0mWARNING ⚠️ /work/mbergst/TDT4265_Project/data_yolov8/keypoint_detection/1_train-val_1min_aalesund_from_start/images/val/000434.jpg: ignoring corrupt image/label: Label class 38 exceeds dataset class count 23. Possible class labels are 0-22\n",
      "\u001b[34m\u001b[1mval: \u001b[0mWARNING ⚠️ /work/mbergst/TDT4265_Project/data_yolov8/keypoint_detection/1_train-val_1min_aalesund_from_start/images/val/000436.jpg: ignoring corrupt image/label: Label class 38 exceeds dataset class count 23. Possible class labels are 0-22\n",
      "\u001b[34m\u001b[1mval: \u001b[0mWARNING ⚠️ /work/mbergst/TDT4265_Project/data_yolov8/keypoint_detection/1_train-val_1min_aalesund_from_start/images/val/000438.jpg: ignoring corrupt image/label: Label class 38 exceeds dataset class count 23. Possible class labels are 0-22\n",
      "\u001b[34m\u001b[1mval: \u001b[0mWARNING ⚠️ /work/mbergst/TDT4265_Project/data_yolov8/keypoint_detection/1_train-val_1min_aalesund_from_start/images/val/000439.jpg: ignoring corrupt image/label: Label class 38 exceeds dataset class count 23. Possible class labels are 0-22\n",
      "\u001b[34m\u001b[1mval: \u001b[0mWARNING ⚠️ /work/mbergst/TDT4265_Project/data_yolov8/keypoint_detection/1_train-val_1min_aalesund_from_start/images/val/000441.jpg: ignoring corrupt image/label: Label class 38 exceeds dataset class count 23. Possible class labels are 0-22\n",
      "\u001b[34m\u001b[1mval: \u001b[0mWARNING ⚠️ /work/mbergst/TDT4265_Project/data_yolov8/keypoint_detection/1_train-val_1min_aalesund_from_start/images/val/000446.jpg: ignoring corrupt image/label: Label class 38 exceeds dataset class count 23. Possible class labels are 0-22\n",
      "\u001b[34m\u001b[1mval: \u001b[0mWARNING ⚠️ /work/mbergst/TDT4265_Project/data_yolov8/keypoint_detection/1_train-val_1min_aalesund_from_start/images/val/000448.jpg: ignoring corrupt image/label: Label class 38 exceeds dataset class count 23. Possible class labels are 0-22\n",
      "\u001b[34m\u001b[1mval: \u001b[0mWARNING ⚠️ /work/mbergst/TDT4265_Project/data_yolov8/keypoint_detection/1_train-val_1min_aalesund_from_start/images/val/000450.jpg: ignoring corrupt image/label: Label class 38 exceeds dataset class count 23. Possible class labels are 0-22\n",
      "\u001b[34m\u001b[1mval: \u001b[0mWARNING ⚠️ /work/mbergst/TDT4265_Project/data_yolov8/keypoint_detection/1_train-val_1min_aalesund_from_start/images/val/000452.jpg: ignoring corrupt image/label: Label class 38 exceeds dataset class count 23. Possible class labels are 0-22\n",
      "\u001b[34m\u001b[1mval: \u001b[0mWARNING ⚠️ /work/mbergst/TDT4265_Project/data_yolov8/keypoint_detection/1_train-val_1min_aalesund_from_start/images/val/000458.jpg: ignoring corrupt image/label: Label class 38 exceeds dataset class count 23. Possible class labels are 0-22\n",
      "\u001b[34m\u001b[1mval: \u001b[0mWARNING ⚠️ /work/mbergst/TDT4265_Project/data_yolov8/keypoint_detection/1_train-val_1min_aalesund_from_start/images/val/000461.jpg: ignoring corrupt image/label: Label class 38 exceeds dataset class count 23. Possible class labels are 0-22\n",
      "\u001b[34m\u001b[1mval: \u001b[0mWARNING ⚠️ /work/mbergst/TDT4265_Project/data_yolov8/keypoint_detection/1_train-val_1min_aalesund_from_start/images/val/000467.jpg: ignoring corrupt image/label: Label class 38 exceeds dataset class count 23. Possible class labels are 0-22\n",
      "\u001b[34m\u001b[1mval: \u001b[0mWARNING ⚠️ /work/mbergst/TDT4265_Project/data_yolov8/keypoint_detection/1_train-val_1min_aalesund_from_start/images/val/000469.jpg: ignoring corrupt image/label: Label class 38 exceeds dataset class count 23. Possible class labels are 0-22\n",
      "\u001b[34m\u001b[1mval: \u001b[0mWARNING ⚠️ /work/mbergst/TDT4265_Project/data_yolov8/keypoint_detection/1_train-val_1min_aalesund_from_start/images/val/000470.jpg: ignoring corrupt image/label: Label class 38 exceeds dataset class count 23. Possible class labels are 0-22\n",
      "\u001b[34m\u001b[1mval: \u001b[0mWARNING ⚠️ /work/mbergst/TDT4265_Project/data_yolov8/keypoint_detection/1_train-val_1min_aalesund_from_start/images/val/000472.jpg: ignoring corrupt image/label: Label class 38 exceeds dataset class count 23. Possible class labels are 0-22\n",
      "\u001b[34m\u001b[1mval: \u001b[0mWARNING ⚠️ /work/mbergst/TDT4265_Project/data_yolov8/keypoint_detection/1_train-val_1min_aalesund_from_start/images/val/000477.jpg: ignoring corrupt image/label: Label class 38 exceeds dataset class count 23. Possible class labels are 0-22\n",
      "\u001b[34m\u001b[1mval: \u001b[0mWARNING ⚠️ /work/mbergst/TDT4265_Project/data_yolov8/keypoint_detection/1_train-val_1min_aalesund_from_start/images/val/000485.jpg: ignoring corrupt image/label: Label class 38 exceeds dataset class count 23. Possible class labels are 0-22\n",
      "\u001b[34m\u001b[1mval: \u001b[0mWARNING ⚠️ /work/mbergst/TDT4265_Project/data_yolov8/keypoint_detection/1_train-val_1min_aalesund_from_start/images/val/000488.jpg: ignoring corrupt image/label: Label class 38 exceeds dataset class count 23. Possible class labels are 0-22\n",
      "\u001b[34m\u001b[1mval: \u001b[0mWARNING ⚠️ /work/mbergst/TDT4265_Project/data_yolov8/keypoint_detection/1_train-val_1min_aalesund_from_start/images/val/000491.jpg: ignoring corrupt image/label: Label class 38 exceeds dataset class count 23. Possible class labels are 0-22\n",
      "\u001b[34m\u001b[1mval: \u001b[0mWARNING ⚠️ /work/mbergst/TDT4265_Project/data_yolov8/keypoint_detection/1_train-val_1min_aalesund_from_start/images/val/000494.jpg: ignoring corrupt image/label: Label class 26 exceeds dataset class count 23. Possible class labels are 0-22\n",
      "\u001b[34m\u001b[1mval: \u001b[0mWARNING ⚠️ /work/mbergst/TDT4265_Project/data_yolov8/keypoint_detection/1_train-val_1min_aalesund_from_start/images/val/000498.jpg: ignoring corrupt image/label: Label class 25 exceeds dataset class count 23. Possible class labels are 0-22\n",
      "\u001b[34m\u001b[1mval: \u001b[0mWARNING ⚠️ /work/mbergst/TDT4265_Project/data_yolov8/keypoint_detection/1_train-val_1min_aalesund_from_start/images/val/000502.jpg: ignoring corrupt image/label: Label class 25 exceeds dataset class count 23. Possible class labels are 0-22\n",
      "\u001b[34m\u001b[1mval: \u001b[0mWARNING ⚠️ /work/mbergst/TDT4265_Project/data_yolov8/keypoint_detection/1_train-val_1min_aalesund_from_start/images/val/000506.jpg: ignoring corrupt image/label: Label class 25 exceeds dataset class count 23. Possible class labels are 0-22\n",
      "\u001b[34m\u001b[1mval: \u001b[0mWARNING ⚠️ /work/mbergst/TDT4265_Project/data_yolov8/keypoint_detection/1_train-val_1min_aalesund_from_start/images/val/000508.jpg: ignoring corrupt image/label: Label class 25 exceeds dataset class count 23. Possible class labels are 0-22\n",
      "\u001b[34m\u001b[1mval: \u001b[0mWARNING ⚠️ /work/mbergst/TDT4265_Project/data_yolov8/keypoint_detection/1_train-val_1min_aalesund_from_start/images/val/000510.jpg: ignoring corrupt image/label: Label class 25 exceeds dataset class count 23. Possible class labels are 0-22\n"
     ]
    },
    {
     "name": "stderr",
     "output_type": "stream",
     "text": [
      "\n",
      "                 Class     Images  Instances      Box(P          R      mAP50  mAP50-95): 100%|██████████| 17/17 [00:02<00:00,  6.22it/s]\n"
     ]
    },
    {
     "name": "stdout",
     "output_type": "stream",
     "text": [
      "                   all        324       3668      0.974      0.973      0.979      0.632\n",
      "                     0        324        211      0.999      0.995      0.995      0.626\n",
      "                     1        324        265       0.98          1      0.993      0.694\n",
      "                     6        324        187      0.941      0.936      0.958      0.487\n",
      "                     7        324        239          1      0.997      0.995      0.724\n",
      "                     8        324        230      0.993          1      0.995      0.655\n",
      "                    10        324        177      0.994      0.994      0.995      0.599\n",
      "                    11        324        107          1      0.976       0.99      0.615\n",
      "                    13        324        166      0.894      0.892      0.891      0.436\n",
      "                    14        324        177      0.994      0.973      0.994      0.615\n",
      "                    15        324        101      0.989       0.96      0.989      0.551\n",
      "                    16        324         31      0.891      0.935      0.957      0.638\n",
      "                    17        324        176      0.983       0.97      0.976      0.569\n",
      "                    18        324        286      0.993          1      0.995      0.762\n",
      "                    19        324        287      0.987      0.993      0.994        0.7\n",
      "                    20        324        289       0.99          1      0.995      0.736\n",
      "                    21        324        229      0.914      0.887      0.921      0.492\n",
      "                    24        324        106      0.999          1      0.995      0.726\n",
      "                    25        324        404      0.995      0.998      0.995      0.752\n",
      "Speed: 0.6ms preprocess, 2.4ms inference, 0.0ms loss, 0.3ms postprocess per image\n",
      "Results saved to \u001b[1m/work/mbergst/TDT4265_Project/runs/keypoints/train72322\u001b[0m\n"
     ]
    }
   ],
   "source": [
    "# Evaluér modellens prestasjon på valideringssettet\n",
    "val_results = model.val()"
   ]
  },
  {
   "cell_type": "code",
   "execution_count": null,
   "metadata": {},
   "outputs": [],
   "source": []
  },
  {
   "cell_type": "code",
   "execution_count": 7,
   "metadata": {},
   "outputs": [],
   "source": [
    "# Tracking\n",
    "\n",
    "all_frames = f'/datasets/tdt4265/other/rbk/{data_folder}/img1'\n",
    "frame_paths = sorted([os.path.join(all_frames, f) for f in os.listdir(all_frames) if f.endswith('.jpg')])\n"
   ]
  },
  {
   "cell_type": "code",
   "execution_count": 9,
   "metadata": {},
   "outputs": [
    {
     "name": "stdout",
     "output_type": "stream",
     "text": [
      "\n",
      "image 1/1 /datasets/tdt4265/other/rbk/1_train-val_1min_aalesund_from_start/img1/000001.jpg: 928x1600 1 1, 1 18, 1 19, 1 20, 1 24, 1 25, 52.8ms\n",
      "Speed: 4.0ms preprocess, 52.8ms inference, 0.7ms postprocess per image at shape (1, 3, 928, 1600)\n",
      "\n",
      "image 1/1 /datasets/tdt4265/other/rbk/1_train-val_1min_aalesund_from_start/img1/000002.jpg: 928x1600 1 1, 1 18, 1 19, 1 20, 1 24, 1 25, 2.8ms\n",
      "Speed: 3.8ms preprocess, 2.8ms inference, 0.6ms postprocess per image at shape (1, 3, 928, 1600)\n",
      "\n",
      "image 1/1 /datasets/tdt4265/other/rbk/1_train-val_1min_aalesund_from_start/img1/000003.jpg: 928x1600 1 1, 1 18, 1 19, 1 20, 1 24, 1 25, 4.2ms\n",
      "Speed: 5.3ms preprocess, 4.2ms inference, 0.9ms postprocess per image at shape (1, 3, 928, 1600)\n",
      "\n",
      "image 1/1 /datasets/tdt4265/other/rbk/1_train-val_1min_aalesund_from_start/img1/000004.jpg: 928x1600 1 1, 1 18, 1 19, 1 20, 1 24, 1 25, 2.7ms\n",
      "Speed: 3.3ms preprocess, 2.7ms inference, 0.6ms postprocess per image at shape (1, 3, 928, 1600)\n",
      "\n",
      "image 1/1 /datasets/tdt4265/other/rbk/1_train-val_1min_aalesund_from_start/img1/000005.jpg: 928x1600 1 1, 1 18, 1 19, 1 20, 1 24, 1 25, 2.7ms\n",
      "Speed: 3.4ms preprocess, 2.7ms inference, 0.6ms postprocess per image at shape (1, 3, 928, 1600)\n",
      "\n",
      "image 1/1 /datasets/tdt4265/other/rbk/1_train-val_1min_aalesund_from_start/img1/000006.jpg: 928x1600 1 1, 1 18, 1 19, 1 20, 1 24, 1 25, 2.7ms\n",
      "Speed: 3.4ms preprocess, 2.7ms inference, 0.6ms postprocess per image at shape (1, 3, 928, 1600)\n",
      "\n",
      "image 1/1 /datasets/tdt4265/other/rbk/1_train-val_1min_aalesund_from_start/img1/000007.jpg: 928x1600 1 1, 1 18, 1 19, 1 20, 1 24, 1 25, 2.9ms\n",
      "Speed: 3.6ms preprocess, 2.9ms inference, 0.6ms postprocess per image at shape (1, 3, 928, 1600)\n",
      "\n",
      "image 1/1 /datasets/tdt4265/other/rbk/1_train-val_1min_aalesund_from_start/img1/000008.jpg: 928x1600 1 1, 1 18, 1 19, 1 20, 1 24, 1 25, 2.9ms\n",
      "Speed: 3.4ms preprocess, 2.9ms inference, 0.6ms postprocess per image at shape (1, 3, 928, 1600)\n",
      "\n",
      "image 1/1 /datasets/tdt4265/other/rbk/1_train-val_1min_aalesund_from_start/img1/000009.jpg: 928x1600 1 1, 1 18, 1 19, 1 20, 1 24, 1 25, 2.8ms\n",
      "Speed: 3.4ms preprocess, 2.8ms inference, 0.6ms postprocess per image at shape (1, 3, 928, 1600)\n",
      "\n",
      "image 1/1 /datasets/tdt4265/other/rbk/1_train-val_1min_aalesund_from_start/img1/000010.jpg: 928x1600 1 1, 1 18, 1 19, 1 20, 1 24, 1 25, 2.7ms\n",
      "Speed: 3.4ms preprocess, 2.7ms inference, 0.6ms postprocess per image at shape (1, 3, 928, 1600)\n",
      "\n",
      "image 1/1 /datasets/tdt4265/other/rbk/1_train-val_1min_aalesund_from_start/img1/000011.jpg: 928x1600 1 1, 1 18, 1 19, 1 20, 1 24, 1 25, 2.7ms\n",
      "Speed: 3.4ms preprocess, 2.7ms inference, 0.6ms postprocess per image at shape (1, 3, 928, 1600)\n",
      "\n",
      "image 1/1 /datasets/tdt4265/other/rbk/1_train-val_1min_aalesund_from_start/img1/000012.jpg: 928x1600 1 1, 1 18, 1 19, 1 20, 1 24, 1 25, 2.6ms\n",
      "Speed: 3.4ms preprocess, 2.6ms inference, 0.6ms postprocess per image at shape (1, 3, 928, 1600)\n",
      "\n",
      "image 1/1 /datasets/tdt4265/other/rbk/1_train-val_1min_aalesund_from_start/img1/000013.jpg: 928x1600 1 1, 1 18, 1 19, 1 20, 1 24, 1 25, 2.6ms\n",
      "Speed: 3.4ms preprocess, 2.6ms inference, 0.6ms postprocess per image at shape (1, 3, 928, 1600)\n",
      "\n",
      "image 1/1 /datasets/tdt4265/other/rbk/1_train-val_1min_aalesund_from_start/img1/000014.jpg: 928x1600 1 1, 1 18, 1 19, 1 20, 1 24, 1 25, 2.7ms\n",
      "Speed: 3.5ms preprocess, 2.7ms inference, 0.6ms postprocess per image at shape (1, 3, 928, 1600)\n",
      "\n",
      "image 1/1 /datasets/tdt4265/other/rbk/1_train-val_1min_aalesund_from_start/img1/000015.jpg: 928x1600 1 1, 1 18, 1 19, 1 20, 1 24, 1 25, 2.7ms\n",
      "Speed: 3.4ms preprocess, 2.7ms inference, 0.6ms postprocess per image at shape (1, 3, 928, 1600)\n",
      "\n",
      "image 1/1 /datasets/tdt4265/other/rbk/1_train-val_1min_aalesund_from_start/img1/000016.jpg: 928x1600 1 1, 1 18, 1 19, 1 20, 1 24, 1 25, 2.7ms\n",
      "Speed: 3.4ms preprocess, 2.7ms inference, 0.6ms postprocess per image at shape (1, 3, 928, 1600)\n",
      "\n",
      "image 1/1 /datasets/tdt4265/other/rbk/1_train-val_1min_aalesund_from_start/img1/000017.jpg: 928x1600 1 1, 1 18, 1 19, 1 20, 1 24, 1 25, 2.6ms\n",
      "Speed: 3.4ms preprocess, 2.6ms inference, 0.6ms postprocess per image at shape (1, 3, 928, 1600)\n",
      "\n",
      "image 1/1 /datasets/tdt4265/other/rbk/1_train-val_1min_aalesund_from_start/img1/000018.jpg: 928x1600 1 1, 1 18, 1 19, 1 20, 1 24, 1 25, 2.7ms\n",
      "Speed: 3.4ms preprocess, 2.7ms inference, 0.6ms postprocess per image at shape (1, 3, 928, 1600)\n",
      "\n",
      "image 1/1 /datasets/tdt4265/other/rbk/1_train-val_1min_aalesund_from_start/img1/000019.jpg: 928x1600 1 1, 1 18, 1 19, 1 20, 1 24, 1 25, 2.8ms\n",
      "Speed: 3.4ms preprocess, 2.8ms inference, 0.6ms postprocess per image at shape (1, 3, 928, 1600)\n",
      "\n",
      "image 1/1 /datasets/tdt4265/other/rbk/1_train-val_1min_aalesund_from_start/img1/000020.jpg: 928x1600 1 1, 1 18, 1 19, 1 20, 1 24, 1 25, 2.8ms\n",
      "Speed: 3.6ms preprocess, 2.8ms inference, 0.6ms postprocess per image at shape (1, 3, 928, 1600)\n",
      "\n",
      "image 1/1 /datasets/tdt4265/other/rbk/1_train-val_1min_aalesund_from_start/img1/000021.jpg: 928x1600 1 1, 1 18, 1 19, 1 20, 1 24, 1 25, 2.8ms\n",
      "Speed: 3.4ms preprocess, 2.8ms inference, 0.6ms postprocess per image at shape (1, 3, 928, 1600)\n",
      "\n",
      "image 1/1 /datasets/tdt4265/other/rbk/1_train-val_1min_aalesund_from_start/img1/000022.jpg: 928x1600 1 1, 1 18, 1 19, 1 20, 1 24, 1 25, 2.8ms\n",
      "Speed: 3.4ms preprocess, 2.8ms inference, 0.6ms postprocess per image at shape (1, 3, 928, 1600)\n",
      "\n",
      "image 1/1 /datasets/tdt4265/other/rbk/1_train-val_1min_aalesund_from_start/img1/000023.jpg: 928x1600 1 1, 1 18, 1 19, 1 20, 1 24, 1 25, 2.9ms\n",
      "Speed: 3.4ms preprocess, 2.9ms inference, 0.6ms postprocess per image at shape (1, 3, 928, 1600)\n",
      "\n",
      "image 1/1 /datasets/tdt4265/other/rbk/1_train-val_1min_aalesund_from_start/img1/000024.jpg: 928x1600 1 1, 1 18, 1 19, 1 20, 1 24, 1 25, 2.7ms\n",
      "Speed: 3.3ms preprocess, 2.7ms inference, 0.9ms postprocess per image at shape (1, 3, 928, 1600)\n",
      "\n",
      "image 1/1 /datasets/tdt4265/other/rbk/1_train-val_1min_aalesund_from_start/img1/000025.jpg: 928x1600 1 1, 1 18, 1 19, 1 20, 1 24, 1 25, 2.9ms\n",
      "Speed: 3.4ms preprocess, 2.9ms inference, 0.6ms postprocess per image at shape (1, 3, 928, 1600)\n",
      "\n",
      "image 1/1 /datasets/tdt4265/other/rbk/1_train-val_1min_aalesund_from_start/img1/000026.jpg: 928x1600 1 1, 1 18, 1 19, 1 20, 1 24, 1 25, 2.8ms\n",
      "Speed: 3.4ms preprocess, 2.8ms inference, 0.6ms postprocess per image at shape (1, 3, 928, 1600)\n",
      "\n",
      "image 1/1 /datasets/tdt4265/other/rbk/1_train-val_1min_aalesund_from_start/img1/000027.jpg: 928x1600 1 1, 1 18, 1 19, 1 20, 1 24, 1 25, 2.7ms\n",
      "Speed: 3.4ms preprocess, 2.7ms inference, 0.6ms postprocess per image at shape (1, 3, 928, 1600)\n",
      "\n",
      "image 1/1 /datasets/tdt4265/other/rbk/1_train-val_1min_aalesund_from_start/img1/000028.jpg: 928x1600 1 1, 1 18, 1 19, 1 20, 1 24, 1 25, 2.7ms\n",
      "Speed: 3.4ms preprocess, 2.7ms inference, 0.6ms postprocess per image at shape (1, 3, 928, 1600)\n",
      "\n",
      "image 1/1 /datasets/tdt4265/other/rbk/1_train-val_1min_aalesund_from_start/img1/000029.jpg: 928x1600 1 1, 1 18, 1 19, 1 20, 1 24, 1 25, 2.8ms\n",
      "Speed: 3.4ms preprocess, 2.8ms inference, 0.6ms postprocess per image at shape (1, 3, 928, 1600)\n",
      "\n",
      "image 1/1 /datasets/tdt4265/other/rbk/1_train-val_1min_aalesund_from_start/img1/000030.jpg: 928x1600 1 1, 1 18, 1 19, 1 20, 1 24, 1 25, 2.8ms\n",
      "Speed: 3.4ms preprocess, 2.8ms inference, 0.6ms postprocess per image at shape (1, 3, 928, 1600)\n",
      "\n",
      "image 1/1 /datasets/tdt4265/other/rbk/1_train-val_1min_aalesund_from_start/img1/000031.jpg: 928x1600 1 1, 1 18, 1 19, 1 20, 1 24, 1 25, 2.7ms\n",
      "Speed: 3.4ms preprocess, 2.7ms inference, 0.6ms postprocess per image at shape (1, 3, 928, 1600)\n",
      "\n",
      "image 1/1 /datasets/tdt4265/other/rbk/1_train-val_1min_aalesund_from_start/img1/000032.jpg: 928x1600 1 1, 1 18, 1 19, 1 20, 1 24, 1 25, 2.8ms\n",
      "Speed: 3.4ms preprocess, 2.8ms inference, 0.6ms postprocess per image at shape (1, 3, 928, 1600)\n",
      "\n",
      "image 1/1 /datasets/tdt4265/other/rbk/1_train-val_1min_aalesund_from_start/img1/000033.jpg: 928x1600 1 1, 1 18, 1 19, 1 20, 1 24, 1 25, 2.8ms\n",
      "Speed: 3.4ms preprocess, 2.8ms inference, 0.6ms postprocess per image at shape (1, 3, 928, 1600)\n",
      "\n",
      "image 1/1 /datasets/tdt4265/other/rbk/1_train-val_1min_aalesund_from_start/img1/000034.jpg: 928x1600 1 1, 1 18, 1 19, 1 20, 1 24, 1 25, 2.8ms\n",
      "Speed: 3.4ms preprocess, 2.8ms inference, 0.6ms postprocess per image at shape (1, 3, 928, 1600)\n",
      "\n",
      "image 1/1 /datasets/tdt4265/other/rbk/1_train-val_1min_aalesund_from_start/img1/000035.jpg: 928x1600 1 1, 1 18, 1 19, 1 20, 1 24, 1 25, 2.8ms\n",
      "Speed: 3.4ms preprocess, 2.8ms inference, 0.6ms postprocess per image at shape (1, 3, 928, 1600)\n",
      "\n",
      "image 1/1 /datasets/tdt4265/other/rbk/1_train-val_1min_aalesund_from_start/img1/000036.jpg: 928x1600 1 1, 1 18, 1 19, 1 20, 1 24, 1 25, 2.8ms\n",
      "Speed: 3.4ms preprocess, 2.8ms inference, 0.6ms postprocess per image at shape (1, 3, 928, 1600)\n",
      "\n",
      "image 1/1 /datasets/tdt4265/other/rbk/1_train-val_1min_aalesund_from_start/img1/000037.jpg: 928x1600 1 1, 1 18, 1 19, 1 20, 1 24, 1 25, 2.8ms\n",
      "Speed: 3.4ms preprocess, 2.8ms inference, 0.6ms postprocess per image at shape (1, 3, 928, 1600)\n",
      "\n",
      "image 1/1 /datasets/tdt4265/other/rbk/1_train-val_1min_aalesund_from_start/img1/000038.jpg: 928x1600 1 1, 1 18, 1 19, 1 20, 1 24, 1 25, 2.8ms\n",
      "Speed: 3.4ms preprocess, 2.8ms inference, 0.6ms postprocess per image at shape (1, 3, 928, 1600)\n",
      "\n",
      "image 1/1 /datasets/tdt4265/other/rbk/1_train-val_1min_aalesund_from_start/img1/000039.jpg: 928x1600 1 1, 1 18, 1 19, 1 20, 1 24, 1 25, 2.7ms\n",
      "Speed: 3.4ms preprocess, 2.7ms inference, 0.6ms postprocess per image at shape (1, 3, 928, 1600)\n",
      "\n",
      "image 1/1 /datasets/tdt4265/other/rbk/1_train-val_1min_aalesund_from_start/img1/000040.jpg: 928x1600 1 1, 1 18, 1 19, 1 20, 1 24, 1 25, 2.7ms\n",
      "Speed: 3.4ms preprocess, 2.7ms inference, 0.6ms postprocess per image at shape (1, 3, 928, 1600)\n",
      "\n",
      "image 1/1 /datasets/tdt4265/other/rbk/1_train-val_1min_aalesund_from_start/img1/000041.jpg: 928x1600 1 1, 1 18, 1 19, 1 20, 1 24, 1 25, 2.6ms\n",
      "Speed: 3.4ms preprocess, 2.6ms inference, 0.6ms postprocess per image at shape (1, 3, 928, 1600)\n",
      "\n",
      "image 1/1 /datasets/tdt4265/other/rbk/1_train-val_1min_aalesund_from_start/img1/000042.jpg: 928x1600 1 1, 1 18, 1 19, 1 20, 1 24, 1 25, 2.7ms\n",
      "Speed: 3.4ms preprocess, 2.7ms inference, 0.6ms postprocess per image at shape (1, 3, 928, 1600)\n",
      "\n",
      "image 1/1 /datasets/tdt4265/other/rbk/1_train-val_1min_aalesund_from_start/img1/000043.jpg: 928x1600 1 1, 1 18, 1 19, 1 20, 1 24, 1 25, 2.7ms\n",
      "Speed: 3.4ms preprocess, 2.7ms inference, 0.6ms postprocess per image at shape (1, 3, 928, 1600)\n",
      "\n",
      "image 1/1 /datasets/tdt4265/other/rbk/1_train-val_1min_aalesund_from_start/img1/000044.jpg: 928x1600 1 1, 1 18, 1 19, 1 20, 1 24, 1 25, 2.7ms\n",
      "Speed: 3.4ms preprocess, 2.7ms inference, 0.6ms postprocess per image at shape (1, 3, 928, 1600)\n",
      "\n",
      "image 1/1 /datasets/tdt4265/other/rbk/1_train-val_1min_aalesund_from_start/img1/000045.jpg: 928x1600 1 1, 1 18, 1 19, 1 20, 1 24, 1 25, 2.8ms\n",
      "Speed: 3.5ms preprocess, 2.8ms inference, 0.6ms postprocess per image at shape (1, 3, 928, 1600)\n",
      "\n",
      "image 1/1 /datasets/tdt4265/other/rbk/1_train-val_1min_aalesund_from_start/img1/000046.jpg: 928x1600 1 1, 1 18, 1 19, 1 20, 1 24, 1 25, 2.6ms\n",
      "Speed: 3.4ms preprocess, 2.6ms inference, 0.6ms postprocess per image at shape (1, 3, 928, 1600)\n",
      "\n",
      "image 1/1 /datasets/tdt4265/other/rbk/1_train-val_1min_aalesund_from_start/img1/000047.jpg: 928x1600 1 1, 1 18, 1 19, 1 20, 1 24, 1 25, 2.7ms\n",
      "Speed: 3.4ms preprocess, 2.7ms inference, 0.6ms postprocess per image at shape (1, 3, 928, 1600)\n",
      "\n",
      "image 1/1 /datasets/tdt4265/other/rbk/1_train-val_1min_aalesund_from_start/img1/000048.jpg: 928x1600 1 1, 1 18, 1 19, 1 20, 1 24, 1 25, 2.7ms\n",
      "Speed: 3.4ms preprocess, 2.7ms inference, 0.6ms postprocess per image at shape (1, 3, 928, 1600)\n",
      "\n",
      "image 1/1 /datasets/tdt4265/other/rbk/1_train-val_1min_aalesund_from_start/img1/000049.jpg: 928x1600 1 1, 1 18, 1 19, 1 20, 1 24, 1 25, 2.7ms\n",
      "Speed: 3.4ms preprocess, 2.7ms inference, 0.6ms postprocess per image at shape (1, 3, 928, 1600)\n",
      "\n",
      "image 1/1 /datasets/tdt4265/other/rbk/1_train-val_1min_aalesund_from_start/img1/000050.jpg: 928x1600 1 1, 1 18, 1 19, 1 20, 1 24, 1 25, 2.7ms\n",
      "Speed: 3.4ms preprocess, 2.7ms inference, 0.6ms postprocess per image at shape (1, 3, 928, 1600)\n",
      "\n",
      "image 1/1 /datasets/tdt4265/other/rbk/1_train-val_1min_aalesund_from_start/img1/000051.jpg: 928x1600 1 1, 1 18, 1 19, 1 20, 1 24, 1 25, 2.7ms\n",
      "Speed: 3.5ms preprocess, 2.7ms inference, 0.6ms postprocess per image at shape (1, 3, 928, 1600)\n",
      "\n",
      "image 1/1 /datasets/tdt4265/other/rbk/1_train-val_1min_aalesund_from_start/img1/000052.jpg: 928x1600 1 1, 1 18, 1 19, 1 20, 1 24, 1 25, 2.7ms\n",
      "Speed: 3.4ms preprocess, 2.7ms inference, 0.6ms postprocess per image at shape (1, 3, 928, 1600)\n",
      "\n",
      "image 1/1 /datasets/tdt4265/other/rbk/1_train-val_1min_aalesund_from_start/img1/000053.jpg: 928x1600 1 1, 1 18, 1 19, 1 20, 1 24, 1 25, 2.7ms\n",
      "Speed: 3.4ms preprocess, 2.7ms inference, 0.9ms postprocess per image at shape (1, 3, 928, 1600)\n",
      "\n",
      "image 1/1 /datasets/tdt4265/other/rbk/1_train-val_1min_aalesund_from_start/img1/000054.jpg: 928x1600 1 1, 1 18, 1 19, 1 20, 1 24, 1 25, 2.8ms\n",
      "Speed: 3.4ms preprocess, 2.8ms inference, 0.6ms postprocess per image at shape (1, 3, 928, 1600)\n",
      "\n",
      "image 1/1 /datasets/tdt4265/other/rbk/1_train-val_1min_aalesund_from_start/img1/000055.jpg: 928x1600 1 1, 1 18, 1 19, 1 20, 1 24, 1 25, 2.8ms\n",
      "Speed: 3.4ms preprocess, 2.8ms inference, 0.6ms postprocess per image at shape (1, 3, 928, 1600)\n",
      "\n",
      "image 1/1 /datasets/tdt4265/other/rbk/1_train-val_1min_aalesund_from_start/img1/000056.jpg: 928x1600 1 1, 1 18, 1 19, 1 20, 1 24, 1 25, 2.7ms\n",
      "Speed: 3.4ms preprocess, 2.7ms inference, 0.6ms postprocess per image at shape (1, 3, 928, 1600)\n",
      "\n",
      "image 1/1 /datasets/tdt4265/other/rbk/1_train-val_1min_aalesund_from_start/img1/000057.jpg: 928x1600 1 1, 1 18, 1 19, 1 20, 1 24, 1 25, 3.0ms\n",
      "Speed: 3.6ms preprocess, 3.0ms inference, 0.6ms postprocess per image at shape (1, 3, 928, 1600)\n",
      "\n",
      "image 1/1 /datasets/tdt4265/other/rbk/1_train-val_1min_aalesund_from_start/img1/000058.jpg: 928x1600 1 1, 1 18, 1 19, 1 20, 1 24, 1 25, 2.7ms\n",
      "Speed: 3.4ms preprocess, 2.7ms inference, 0.6ms postprocess per image at shape (1, 3, 928, 1600)\n",
      "\n",
      "image 1/1 /datasets/tdt4265/other/rbk/1_train-val_1min_aalesund_from_start/img1/000059.jpg: 928x1600 1 1, 1 18, 1 19, 1 20, 1 24, 1 25, 2.7ms\n",
      "Speed: 3.4ms preprocess, 2.7ms inference, 0.6ms postprocess per image at shape (1, 3, 928, 1600)\n",
      "\n",
      "image 1/1 /datasets/tdt4265/other/rbk/1_train-val_1min_aalesund_from_start/img1/000060.jpg: 928x1600 1 1, 1 18, 1 19, 1 20, 1 24, 1 25, 2.7ms\n",
      "Speed: 3.4ms preprocess, 2.7ms inference, 0.6ms postprocess per image at shape (1, 3, 928, 1600)\n",
      "\n",
      "image 1/1 /datasets/tdt4265/other/rbk/1_train-val_1min_aalesund_from_start/img1/000061.jpg: 928x1600 1 1, 1 18, 1 19, 1 20, 1 24, 1 25, 2.7ms\n",
      "Speed: 3.6ms preprocess, 2.7ms inference, 0.6ms postprocess per image at shape (1, 3, 928, 1600)\n",
      "\n",
      "image 1/1 /datasets/tdt4265/other/rbk/1_train-val_1min_aalesund_from_start/img1/000062.jpg: 928x1600 1 1, 1 18, 1 19, 1 20, 1 24, 1 25, 2.7ms\n",
      "Speed: 3.3ms preprocess, 2.7ms inference, 0.6ms postprocess per image at shape (1, 3, 928, 1600)\n",
      "\n",
      "image 1/1 /datasets/tdt4265/other/rbk/1_train-val_1min_aalesund_from_start/img1/000063.jpg: 928x1600 1 1, 1 18, 1 19, 1 20, 1 24, 1 25, 2.7ms\n",
      "Speed: 3.4ms preprocess, 2.7ms inference, 0.6ms postprocess per image at shape (1, 3, 928, 1600)\n",
      "\n",
      "image 1/1 /datasets/tdt4265/other/rbk/1_train-val_1min_aalesund_from_start/img1/000064.jpg: 928x1600 1 1, 1 18, 1 19, 1 20, 1 24, 1 25, 2.7ms\n",
      "Speed: 3.4ms preprocess, 2.7ms inference, 0.6ms postprocess per image at shape (1, 3, 928, 1600)\n",
      "\n",
      "image 1/1 /datasets/tdt4265/other/rbk/1_train-val_1min_aalesund_from_start/img1/000065.jpg: 928x1600 1 1, 1 18, 1 19, 1 20, 1 24, 1 25, 2.8ms\n",
      "Speed: 3.4ms preprocess, 2.8ms inference, 0.6ms postprocess per image at shape (1, 3, 928, 1600)\n",
      "\n",
      "image 1/1 /datasets/tdt4265/other/rbk/1_train-val_1min_aalesund_from_start/img1/000066.jpg: 928x1600 1 1, 1 18, 1 19, 1 20, 1 24, 1 25, 2.6ms\n",
      "Speed: 3.4ms preprocess, 2.6ms inference, 0.6ms postprocess per image at shape (1, 3, 928, 1600)\n",
      "\n",
      "image 1/1 /datasets/tdt4265/other/rbk/1_train-val_1min_aalesund_from_start/img1/000067.jpg: 928x1600 1 1, 1 18, 1 19, 1 20, 1 24, 1 25, 2.7ms\n",
      "Speed: 3.4ms preprocess, 2.7ms inference, 0.6ms postprocess per image at shape (1, 3, 928, 1600)\n",
      "\n",
      "image 1/1 /datasets/tdt4265/other/rbk/1_train-val_1min_aalesund_from_start/img1/000068.jpg: 928x1600 1 1, 1 18, 1 19, 1 20, 1 24, 1 25, 2.7ms\n",
      "Speed: 3.4ms preprocess, 2.7ms inference, 0.6ms postprocess per image at shape (1, 3, 928, 1600)\n",
      "\n",
      "image 1/1 /datasets/tdt4265/other/rbk/1_train-val_1min_aalesund_from_start/img1/000069.jpg: 928x1600 1 1, 1 18, 1 19, 1 20, 1 24, 1 25, 2.7ms\n",
      "Speed: 3.5ms preprocess, 2.7ms inference, 0.6ms postprocess per image at shape (1, 3, 928, 1600)\n",
      "\n",
      "image 1/1 /datasets/tdt4265/other/rbk/1_train-val_1min_aalesund_from_start/img1/000070.jpg: 928x1600 1 1, 1 18, 1 19, 1 20, 1 24, 1 25, 2.7ms\n",
      "Speed: 3.4ms preprocess, 2.7ms inference, 0.6ms postprocess per image at shape (1, 3, 928, 1600)\n",
      "\n",
      "image 1/1 /datasets/tdt4265/other/rbk/1_train-val_1min_aalesund_from_start/img1/000071.jpg: 928x1600 1 1, 1 18, 1 19, 1 20, 1 24, 1 25, 2.7ms\n",
      "Speed: 3.4ms preprocess, 2.7ms inference, 0.6ms postprocess per image at shape (1, 3, 928, 1600)\n",
      "\n",
      "image 1/1 /datasets/tdt4265/other/rbk/1_train-val_1min_aalesund_from_start/img1/000072.jpg: 928x1600 1 1, 1 18, 1 19, 1 20, 1 24, 1 25, 2.7ms\n",
      "Speed: 3.4ms preprocess, 2.7ms inference, 0.8ms postprocess per image at shape (1, 3, 928, 1600)\n",
      "\n",
      "image 1/1 /datasets/tdt4265/other/rbk/1_train-val_1min_aalesund_from_start/img1/000073.jpg: 928x1600 1 1, 1 18, 1 19, 1 20, 1 24, 1 25, 2.8ms\n",
      "Speed: 3.5ms preprocess, 2.8ms inference, 0.6ms postprocess per image at shape (1, 3, 928, 1600)\n",
      "\n",
      "image 1/1 /datasets/tdt4265/other/rbk/1_train-val_1min_aalesund_from_start/img1/000074.jpg: 928x1600 1 1, 1 18, 1 19, 1 20, 1 24, 1 25, 2.7ms\n",
      "Speed: 3.4ms preprocess, 2.7ms inference, 0.6ms postprocess per image at shape (1, 3, 928, 1600)\n",
      "\n",
      "image 1/1 /datasets/tdt4265/other/rbk/1_train-val_1min_aalesund_from_start/img1/000075.jpg: 928x1600 1 1, 1 18, 1 19, 1 20, 1 24, 1 25, 2.6ms\n",
      "Speed: 3.4ms preprocess, 2.6ms inference, 0.6ms postprocess per image at shape (1, 3, 928, 1600)\n",
      "\n",
      "image 1/1 /datasets/tdt4265/other/rbk/1_train-val_1min_aalesund_from_start/img1/000076.jpg: 928x1600 1 1, 1 18, 1 19, 1 20, 1 24, 1 25, 2.7ms\n",
      "Speed: 3.4ms preprocess, 2.7ms inference, 0.6ms postprocess per image at shape (1, 3, 928, 1600)\n",
      "\n",
      "image 1/1 /datasets/tdt4265/other/rbk/1_train-val_1min_aalesund_from_start/img1/000077.jpg: 928x1600 1 1, 1 18, 1 19, 1 20, 1 24, 1 25, 2.7ms\n",
      "Speed: 3.4ms preprocess, 2.7ms inference, 1.0ms postprocess per image at shape (1, 3, 928, 1600)\n",
      "\n",
      "image 1/1 /datasets/tdt4265/other/rbk/1_train-val_1min_aalesund_from_start/img1/000078.jpg: 928x1600 1 1, 1 18, 1 19, 1 20, 1 24, 1 25, 2.7ms\n",
      "Speed: 3.4ms preprocess, 2.7ms inference, 0.6ms postprocess per image at shape (1, 3, 928, 1600)\n",
      "\n",
      "image 1/1 /datasets/tdt4265/other/rbk/1_train-val_1min_aalesund_from_start/img1/000079.jpg: 928x1600 1 1, 1 18, 1 19, 1 20, 1 24, 1 25, 2.9ms\n",
      "Speed: 3.4ms preprocess, 2.9ms inference, 0.7ms postprocess per image at shape (1, 3, 928, 1600)\n",
      "\n",
      "image 1/1 /datasets/tdt4265/other/rbk/1_train-val_1min_aalesund_from_start/img1/000080.jpg: 928x1600 1 1, 1 18, 1 19, 1 20, 1 24, 1 25, 2.7ms\n",
      "Speed: 3.4ms preprocess, 2.7ms inference, 0.6ms postprocess per image at shape (1, 3, 928, 1600)\n",
      "\n",
      "image 1/1 /datasets/tdt4265/other/rbk/1_train-val_1min_aalesund_from_start/img1/000081.jpg: 928x1600 1 1, 1 18, 1 19, 1 20, 1 24, 1 25, 2.7ms\n",
      "Speed: 3.5ms preprocess, 2.7ms inference, 0.6ms postprocess per image at shape (1, 3, 928, 1600)\n",
      "\n",
      "image 1/1 /datasets/tdt4265/other/rbk/1_train-val_1min_aalesund_from_start/img1/000082.jpg: 928x1600 1 1, 1 18, 1 19, 1 20, 1 24, 1 25, 2.7ms\n",
      "Speed: 3.4ms preprocess, 2.7ms inference, 0.6ms postprocess per image at shape (1, 3, 928, 1600)\n",
      "\n",
      "image 1/1 /datasets/tdt4265/other/rbk/1_train-val_1min_aalesund_from_start/img1/000083.jpg: 928x1600 1 1, 1 18, 1 19, 1 20, 1 24, 1 25, 2.8ms\n",
      "Speed: 3.4ms preprocess, 2.8ms inference, 0.6ms postprocess per image at shape (1, 3, 928, 1600)\n",
      "\n",
      "image 1/1 /datasets/tdt4265/other/rbk/1_train-val_1min_aalesund_from_start/img1/000084.jpg: 928x1600 1 1, 1 18, 1 19, 1 20, 1 24, 1 25, 2.7ms\n",
      "Speed: 3.5ms preprocess, 2.7ms inference, 0.6ms postprocess per image at shape (1, 3, 928, 1600)\n",
      "\n",
      "image 1/1 /datasets/tdt4265/other/rbk/1_train-val_1min_aalesund_from_start/img1/000085.jpg: 928x1600 1 1, 1 18, 1 19, 1 20, 1 24, 1 25, 2.8ms\n",
      "Speed: 3.4ms preprocess, 2.8ms inference, 0.6ms postprocess per image at shape (1, 3, 928, 1600)\n",
      "\n",
      "image 1/1 /datasets/tdt4265/other/rbk/1_train-val_1min_aalesund_from_start/img1/000086.jpg: 928x1600 1 1, 1 18, 1 19, 1 20, 1 24, 1 25, 2.8ms\n",
      "Speed: 3.5ms preprocess, 2.8ms inference, 0.6ms postprocess per image at shape (1, 3, 928, 1600)\n",
      "\n",
      "image 1/1 /datasets/tdt4265/other/rbk/1_train-val_1min_aalesund_from_start/img1/000087.jpg: 928x1600 1 1, 1 18, 1 19, 1 20, 1 24, 1 25, 2.7ms\n",
      "Speed: 3.4ms preprocess, 2.7ms inference, 0.6ms postprocess per image at shape (1, 3, 928, 1600)\n",
      "\n",
      "image 1/1 /datasets/tdt4265/other/rbk/1_train-val_1min_aalesund_from_start/img1/000088.jpg: 928x1600 1 1, 1 18, 1 19, 1 20, 1 24, 1 25, 2.7ms\n",
      "Speed: 3.3ms preprocess, 2.7ms inference, 0.9ms postprocess per image at shape (1, 3, 928, 1600)\n",
      "\n",
      "image 1/1 /datasets/tdt4265/other/rbk/1_train-val_1min_aalesund_from_start/img1/000089.jpg: 928x1600 1 1, 1 18, 1 19, 1 20, 1 24, 1 25, 2.8ms\n",
      "Speed: 3.5ms preprocess, 2.8ms inference, 0.7ms postprocess per image at shape (1, 3, 928, 1600)\n",
      "\n",
      "image 1/1 /datasets/tdt4265/other/rbk/1_train-val_1min_aalesund_from_start/img1/000090.jpg: 928x1600 1 1, 1 18, 1 19, 1 20, 1 24, 1 25, 2.9ms\n",
      "Speed: 3.5ms preprocess, 2.9ms inference, 0.6ms postprocess per image at shape (1, 3, 928, 1600)\n",
      "\n",
      "image 1/1 /datasets/tdt4265/other/rbk/1_train-val_1min_aalesund_from_start/img1/000091.jpg: 928x1600 1 1, 1 18, 1 19, 1 20, 1 24, 1 25, 2.7ms\n",
      "Speed: 3.5ms preprocess, 2.7ms inference, 0.6ms postprocess per image at shape (1, 3, 928, 1600)\n",
      "\n",
      "image 1/1 /datasets/tdt4265/other/rbk/1_train-val_1min_aalesund_from_start/img1/000092.jpg: 928x1600 1 1, 1 18, 1 19, 1 20, 1 24, 1 25, 2.7ms\n",
      "Speed: 3.4ms preprocess, 2.7ms inference, 0.6ms postprocess per image at shape (1, 3, 928, 1600)\n",
      "\n",
      "image 1/1 /datasets/tdt4265/other/rbk/1_train-val_1min_aalesund_from_start/img1/000093.jpg: 928x1600 1 1, 1 18, 1 19, 1 20, 1 24, 1 25, 2.8ms\n",
      "Speed: 3.4ms preprocess, 2.8ms inference, 0.6ms postprocess per image at shape (1, 3, 928, 1600)\n",
      "\n",
      "image 1/1 /datasets/tdt4265/other/rbk/1_train-val_1min_aalesund_from_start/img1/000094.jpg: 928x1600 1 1, 1 18, 1 19, 1 20, 1 24, 1 25, 3.0ms\n",
      "Speed: 3.4ms preprocess, 3.0ms inference, 0.7ms postprocess per image at shape (1, 3, 928, 1600)\n",
      "\n",
      "image 1/1 /datasets/tdt4265/other/rbk/1_train-val_1min_aalesund_from_start/img1/000095.jpg: 928x1600 1 1, 1 18, 1 19, 1 20, 1 24, 1 25, 3.0ms\n",
      "Speed: 3.4ms preprocess, 3.0ms inference, 0.7ms postprocess per image at shape (1, 3, 928, 1600)\n",
      "\n",
      "image 1/1 /datasets/tdt4265/other/rbk/1_train-val_1min_aalesund_from_start/img1/000096.jpg: 928x1600 1 1, 1 18, 1 19, 1 20, 1 24, 1 25, 2.9ms\n",
      "Speed: 3.6ms preprocess, 2.9ms inference, 0.6ms postprocess per image at shape (1, 3, 928, 1600)\n",
      "\n",
      "image 1/1 /datasets/tdt4265/other/rbk/1_train-val_1min_aalesund_from_start/img1/000097.jpg: 928x1600 1 1, 1 18, 1 19, 1 20, 1 24, 1 25, 2.7ms\n",
      "Speed: 3.3ms preprocess, 2.7ms inference, 0.6ms postprocess per image at shape (1, 3, 928, 1600)\n",
      "\n",
      "image 1/1 /datasets/tdt4265/other/rbk/1_train-val_1min_aalesund_from_start/img1/000098.jpg: 928x1600 1 1, 1 18, 1 19, 1 20, 1 24, 1 25, 2.8ms\n",
      "Speed: 3.3ms preprocess, 2.8ms inference, 0.6ms postprocess per image at shape (1, 3, 928, 1600)\n",
      "\n",
      "image 1/1 /datasets/tdt4265/other/rbk/1_train-val_1min_aalesund_from_start/img1/000099.jpg: 928x1600 1 1, 1 18, 1 19, 1 20, 1 24, 1 25, 2.8ms\n",
      "Speed: 3.4ms preprocess, 2.8ms inference, 0.6ms postprocess per image at shape (1, 3, 928, 1600)\n",
      "\n",
      "image 1/1 /datasets/tdt4265/other/rbk/1_train-val_1min_aalesund_from_start/img1/000100.jpg: 928x1600 1 1, 1 18, 1 19, 1 20, 1 24, 1 25, 2.9ms\n",
      "Speed: 3.5ms preprocess, 2.9ms inference, 0.7ms postprocess per image at shape (1, 3, 928, 1600)\n",
      "\n",
      "image 1/1 /datasets/tdt4265/other/rbk/1_train-val_1min_aalesund_from_start/img1/000101.jpg: 928x1600 1 1, 1 18, 1 19, 1 20, 1 24, 1 25, 3.0ms\n",
      "Speed: 3.5ms preprocess, 3.0ms inference, 0.6ms postprocess per image at shape (1, 3, 928, 1600)\n",
      "\n",
      "image 1/1 /datasets/tdt4265/other/rbk/1_train-val_1min_aalesund_from_start/img1/000102.jpg: 928x1600 1 1, 1 18, 1 19, 1 20, 1 24, 1 25, 2.9ms\n",
      "Speed: 3.5ms preprocess, 2.9ms inference, 0.6ms postprocess per image at shape (1, 3, 928, 1600)\n",
      "\n",
      "image 1/1 /datasets/tdt4265/other/rbk/1_train-val_1min_aalesund_from_start/img1/000103.jpg: 928x1600 1 1, 1 18, 1 19, 1 20, 1 24, 1 25, 2.7ms\n",
      "Speed: 3.4ms preprocess, 2.7ms inference, 0.6ms postprocess per image at shape (1, 3, 928, 1600)\n",
      "\n",
      "image 1/1 /datasets/tdt4265/other/rbk/1_train-val_1min_aalesund_from_start/img1/000104.jpg: 928x1600 1 1, 1 18, 1 19, 1 20, 1 24, 1 25, 2.7ms\n",
      "Speed: 3.3ms preprocess, 2.7ms inference, 0.6ms postprocess per image at shape (1, 3, 928, 1600)\n",
      "\n",
      "image 1/1 /datasets/tdt4265/other/rbk/1_train-val_1min_aalesund_from_start/img1/000105.jpg: 928x1600 1 1, 1 18, 1 19, 1 20, 1 24, 1 25, 2.9ms\n",
      "Speed: 3.4ms preprocess, 2.9ms inference, 0.6ms postprocess per image at shape (1, 3, 928, 1600)\n",
      "\n",
      "image 1/1 /datasets/tdt4265/other/rbk/1_train-val_1min_aalesund_from_start/img1/000106.jpg: 928x1600 1 1, 1 18, 1 19, 1 20, 1 24, 1 25, 2.7ms\n",
      "Speed: 3.3ms preprocess, 2.7ms inference, 0.6ms postprocess per image at shape (1, 3, 928, 1600)\n",
      "\n",
      "image 1/1 /datasets/tdt4265/other/rbk/1_train-val_1min_aalesund_from_start/img1/000107.jpg: 928x1600 1 1, 1 18, 1 19, 1 20, 1 24, 1 25, 3.0ms\n",
      "Speed: 3.4ms preprocess, 3.0ms inference, 0.7ms postprocess per image at shape (1, 3, 928, 1600)\n",
      "\n",
      "image 1/1 /datasets/tdt4265/other/rbk/1_train-val_1min_aalesund_from_start/img1/000108.jpg: 928x1600 1 1, 1 18, 1 19, 1 20, 1 24, 1 25, 3.0ms\n",
      "Speed: 3.6ms preprocess, 3.0ms inference, 0.6ms postprocess per image at shape (1, 3, 928, 1600)\n",
      "\n",
      "image 1/1 /datasets/tdt4265/other/rbk/1_train-val_1min_aalesund_from_start/img1/000109.jpg: 928x1600 1 1, 1 18, 1 19, 1 20, 1 24, 1 25, 2.7ms\n",
      "Speed: 3.4ms preprocess, 2.7ms inference, 0.6ms postprocess per image at shape (1, 3, 928, 1600)\n",
      "\n",
      "image 1/1 /datasets/tdt4265/other/rbk/1_train-val_1min_aalesund_from_start/img1/000110.jpg: 928x1600 1 1, 1 18, 1 19, 1 20, 1 24, 1 25, 2.7ms\n",
      "Speed: 3.3ms preprocess, 2.7ms inference, 0.6ms postprocess per image at shape (1, 3, 928, 1600)\n",
      "\n",
      "image 1/1 /datasets/tdt4265/other/rbk/1_train-val_1min_aalesund_from_start/img1/000111.jpg: 928x1600 1 1, 1 18, 1 19, 1 20, 1 24, 1 25, 2.9ms\n",
      "Speed: 3.4ms preprocess, 2.9ms inference, 0.6ms postprocess per image at shape (1, 3, 928, 1600)\n",
      "\n",
      "image 1/1 /datasets/tdt4265/other/rbk/1_train-val_1min_aalesund_from_start/img1/000112.jpg: 928x1600 1 1, 1 18, 1 19, 1 20, 1 24, 1 25, 3.1ms\n",
      "Speed: 3.4ms preprocess, 3.1ms inference, 0.6ms postprocess per image at shape (1, 3, 928, 1600)\n",
      "\n",
      "image 1/1 /datasets/tdt4265/other/rbk/1_train-val_1min_aalesund_from_start/img1/000113.jpg: 928x1600 1 1, 1 18, 1 19, 1 20, 1 24, 1 25, 3.0ms\n",
      "Speed: 3.5ms preprocess, 3.0ms inference, 0.6ms postprocess per image at shape (1, 3, 928, 1600)\n",
      "\n",
      "image 1/1 /datasets/tdt4265/other/rbk/1_train-val_1min_aalesund_from_start/img1/000114.jpg: 928x1600 1 1, 1 18, 1 19, 1 20, 1 24, 1 25, 2.7ms\n",
      "Speed: 3.6ms preprocess, 2.7ms inference, 0.6ms postprocess per image at shape (1, 3, 928, 1600)\n",
      "\n",
      "image 1/1 /datasets/tdt4265/other/rbk/1_train-val_1min_aalesund_from_start/img1/000115.jpg: 928x1600 1 1, 1 18, 1 19, 1 20, 1 24, 1 25, 2.7ms\n",
      "Speed: 3.3ms preprocess, 2.7ms inference, 0.6ms postprocess per image at shape (1, 3, 928, 1600)\n",
      "\n",
      "image 1/1 /datasets/tdt4265/other/rbk/1_train-val_1min_aalesund_from_start/img1/000116.jpg: 928x1600 1 1, 1 18, 1 19, 1 20, 1 24, 1 25, 2.7ms\n",
      "Speed: 3.4ms preprocess, 2.7ms inference, 0.6ms postprocess per image at shape (1, 3, 928, 1600)\n",
      "\n",
      "image 1/1 /datasets/tdt4265/other/rbk/1_train-val_1min_aalesund_from_start/img1/000117.jpg: 928x1600 1 1, 1 18, 1 19, 1 20, 1 24, 1 25, 2.8ms\n",
      "Speed: 3.4ms preprocess, 2.8ms inference, 0.8ms postprocess per image at shape (1, 3, 928, 1600)\n",
      "\n",
      "image 1/1 /datasets/tdt4265/other/rbk/1_train-val_1min_aalesund_from_start/img1/000118.jpg: 928x1600 1 1, 1 18, 1 19, 1 20, 1 24, 1 25, 2.8ms\n",
      "Speed: 3.4ms preprocess, 2.8ms inference, 0.6ms postprocess per image at shape (1, 3, 928, 1600)\n",
      "\n",
      "image 1/1 /datasets/tdt4265/other/rbk/1_train-val_1min_aalesund_from_start/img1/000119.jpg: 928x1600 1 1, 1 18, 1 19, 1 20, 1 24, 1 25, 2.8ms\n",
      "Speed: 3.4ms preprocess, 2.8ms inference, 0.6ms postprocess per image at shape (1, 3, 928, 1600)\n",
      "\n",
      "image 1/1 /datasets/tdt4265/other/rbk/1_train-val_1min_aalesund_from_start/img1/000120.jpg: 928x1600 1 1, 1 18, 1 19, 1 20, 1 24, 1 25, 3.3ms\n",
      "Speed: 3.4ms preprocess, 3.3ms inference, 0.6ms postprocess per image at shape (1, 3, 928, 1600)\n",
      "\n",
      "image 1/1 /datasets/tdt4265/other/rbk/1_train-val_1min_aalesund_from_start/img1/000121.jpg: 928x1600 1 1, 1 18, 1 19, 1 20, 1 24, 1 25, 2.8ms\n",
      "Speed: 3.6ms preprocess, 2.8ms inference, 0.6ms postprocess per image at shape (1, 3, 928, 1600)\n",
      "\n",
      "image 1/1 /datasets/tdt4265/other/rbk/1_train-val_1min_aalesund_from_start/img1/000122.jpg: 928x1600 1 1, 1 18, 1 19, 1 20, 1 24, 1 25, 2.9ms\n",
      "Speed: 3.4ms preprocess, 2.9ms inference, 0.6ms postprocess per image at shape (1, 3, 928, 1600)\n",
      "\n",
      "image 1/1 /datasets/tdt4265/other/rbk/1_train-val_1min_aalesund_from_start/img1/000123.jpg: 928x1600 1 1, 1 18, 1 19, 1 20, 1 24, 1 25, 2.7ms\n",
      "Speed: 3.4ms preprocess, 2.7ms inference, 0.6ms postprocess per image at shape (1, 3, 928, 1600)\n",
      "\n",
      "image 1/1 /datasets/tdt4265/other/rbk/1_train-val_1min_aalesund_from_start/img1/000124.jpg: 928x1600 1 1, 1 18, 1 19, 1 20, 1 24, 1 25, 2.7ms\n",
      "Speed: 3.4ms preprocess, 2.7ms inference, 0.6ms postprocess per image at shape (1, 3, 928, 1600)\n",
      "\n",
      "image 1/1 /datasets/tdt4265/other/rbk/1_train-val_1min_aalesund_from_start/img1/000125.jpg: 928x1600 1 1, 1 18, 1 19, 1 20, 1 24, 1 25, 2.7ms\n",
      "Speed: 3.5ms preprocess, 2.7ms inference, 0.7ms postprocess per image at shape (1, 3, 928, 1600)\n",
      "\n",
      "image 1/1 /datasets/tdt4265/other/rbk/1_train-val_1min_aalesund_from_start/img1/000126.jpg: 928x1600 1 1, 1 18, 1 19, 1 20, 1 24, 1 25, 3.1ms\n",
      "Speed: 3.5ms preprocess, 3.1ms inference, 0.7ms postprocess per image at shape (1, 3, 928, 1600)\n",
      "\n",
      "image 1/1 /datasets/tdt4265/other/rbk/1_train-val_1min_aalesund_from_start/img1/000127.jpg: 928x1600 1 1, 1 18, 1 19, 1 20, 1 24, 1 25, 2.9ms\n",
      "Speed: 3.4ms preprocess, 2.9ms inference, 0.8ms postprocess per image at shape (1, 3, 928, 1600)\n",
      "\n",
      "image 1/1 /datasets/tdt4265/other/rbk/1_train-val_1min_aalesund_from_start/img1/000128.jpg: 928x1600 1 1, 1 18, 1 19, 1 20, 1 24, 1 25, 2.8ms\n",
      "Speed: 3.6ms preprocess, 2.8ms inference, 0.6ms postprocess per image at shape (1, 3, 928, 1600)\n",
      "\n",
      "image 1/1 /datasets/tdt4265/other/rbk/1_train-val_1min_aalesund_from_start/img1/000129.jpg: 928x1600 1 1, 1 18, 1 19, 1 20, 1 24, 1 25, 2.9ms\n",
      "Speed: 3.5ms preprocess, 2.9ms inference, 0.6ms postprocess per image at shape (1, 3, 928, 1600)\n",
      "\n",
      "image 1/1 /datasets/tdt4265/other/rbk/1_train-val_1min_aalesund_from_start/img1/000130.jpg: 928x1600 1 1, 1 18, 1 19, 1 20, 1 24, 1 25, 2.7ms\n",
      "Speed: 3.5ms preprocess, 2.7ms inference, 0.6ms postprocess per image at shape (1, 3, 928, 1600)\n",
      "\n",
      "image 1/1 /datasets/tdt4265/other/rbk/1_train-val_1min_aalesund_from_start/img1/000131.jpg: 928x1600 1 1, 1 18, 1 19, 1 20, 1 24, 1 25, 2.9ms\n",
      "Speed: 3.4ms preprocess, 2.9ms inference, 0.6ms postprocess per image at shape (1, 3, 928, 1600)\n",
      "\n",
      "image 1/1 /datasets/tdt4265/other/rbk/1_train-val_1min_aalesund_from_start/img1/000132.jpg: 928x1600 1 1, 1 18, 1 19, 1 20, 1 24, 1 25, 2.7ms\n",
      "Speed: 3.4ms preprocess, 2.7ms inference, 0.6ms postprocess per image at shape (1, 3, 928, 1600)\n",
      "\n",
      "image 1/1 /datasets/tdt4265/other/rbk/1_train-val_1min_aalesund_from_start/img1/000133.jpg: 928x1600 1 1, 1 18, 1 19, 1 20, 1 24, 1 25, 2.8ms\n",
      "Speed: 3.3ms preprocess, 2.8ms inference, 0.6ms postprocess per image at shape (1, 3, 928, 1600)\n",
      "\n",
      "image 1/1 /datasets/tdt4265/other/rbk/1_train-val_1min_aalesund_from_start/img1/000134.jpg: 928x1600 1 1, 1 18, 1 19, 1 20, 1 24, 1 25, 2.7ms\n",
      "Speed: 3.4ms preprocess, 2.7ms inference, 0.6ms postprocess per image at shape (1, 3, 928, 1600)\n",
      "\n",
      "image 1/1 /datasets/tdt4265/other/rbk/1_train-val_1min_aalesund_from_start/img1/000135.jpg: 928x1600 1 1, 1 18, 1 19, 1 20, 1 24, 1 25, 2.8ms\n",
      "Speed: 3.4ms preprocess, 2.8ms inference, 0.7ms postprocess per image at shape (1, 3, 928, 1600)\n",
      "\n",
      "image 1/1 /datasets/tdt4265/other/rbk/1_train-val_1min_aalesund_from_start/img1/000136.jpg: 928x1600 1 1, 1 18, 1 19, 1 20, 1 24, 1 25, 3.1ms\n",
      "Speed: 3.4ms preprocess, 3.1ms inference, 0.7ms postprocess per image at shape (1, 3, 928, 1600)\n",
      "\n",
      "image 1/1 /datasets/tdt4265/other/rbk/1_train-val_1min_aalesund_from_start/img1/000137.jpg: 928x1600 1 1, 1 18, 1 19, 1 20, 1 24, 1 25, 3.1ms\n",
      "Speed: 3.4ms preprocess, 3.1ms inference, 0.6ms postprocess per image at shape (1, 3, 928, 1600)\n",
      "\n",
      "image 1/1 /datasets/tdt4265/other/rbk/1_train-val_1min_aalesund_from_start/img1/000138.jpg: 928x1600 1 1, 1 18, 1 19, 1 20, 1 24, 1 25, 2.8ms\n",
      "Speed: 3.5ms preprocess, 2.8ms inference, 0.6ms postprocess per image at shape (1, 3, 928, 1600)\n",
      "\n",
      "image 1/1 /datasets/tdt4265/other/rbk/1_train-val_1min_aalesund_from_start/img1/000139.jpg: 928x1600 1 1, 1 18, 1 19, 1 20, 1 24, 1 25, 2.9ms\n",
      "Speed: 3.5ms preprocess, 2.9ms inference, 0.6ms postprocess per image at shape (1, 3, 928, 1600)\n",
      "\n",
      "image 1/1 /datasets/tdt4265/other/rbk/1_train-val_1min_aalesund_from_start/img1/000140.jpg: 928x1600 1 1, 1 18, 1 19, 1 20, 1 24, 1 25, 2.8ms\n",
      "Speed: 3.5ms preprocess, 2.8ms inference, 0.6ms postprocess per image at shape (1, 3, 928, 1600)\n",
      "\n",
      "image 1/1 /datasets/tdt4265/other/rbk/1_train-val_1min_aalesund_from_start/img1/000141.jpg: 928x1600 1 1, 1 18, 1 19, 1 20, 1 24, 1 25, 2.7ms\n",
      "Speed: 3.6ms preprocess, 2.7ms inference, 0.6ms postprocess per image at shape (1, 3, 928, 1600)\n",
      "\n",
      "image 1/1 /datasets/tdt4265/other/rbk/1_train-val_1min_aalesund_from_start/img1/000142.jpg: 928x1600 1 1, 1 18, 1 19, 1 20, 1 24, 1 25, 2.7ms\n",
      "Speed: 3.4ms preprocess, 2.7ms inference, 0.6ms postprocess per image at shape (1, 3, 928, 1600)\n",
      "\n",
      "image 1/1 /datasets/tdt4265/other/rbk/1_train-val_1min_aalesund_from_start/img1/000143.jpg: 928x1600 1 1, 1 18, 1 19, 1 20, 1 24, 1 25, 2.7ms\n",
      "Speed: 3.4ms preprocess, 2.7ms inference, 0.7ms postprocess per image at shape (1, 3, 928, 1600)\n",
      "\n",
      "image 1/1 /datasets/tdt4265/other/rbk/1_train-val_1min_aalesund_from_start/img1/000144.jpg: 928x1600 1 1, 1 18, 1 19, 1 20, 1 24, 1 25, 2.7ms\n",
      "Speed: 3.4ms preprocess, 2.7ms inference, 0.6ms postprocess per image at shape (1, 3, 928, 1600)\n",
      "\n",
      "image 1/1 /datasets/tdt4265/other/rbk/1_train-val_1min_aalesund_from_start/img1/000145.jpg: 928x1600 1 1, 1 18, 1 19, 1 20, 1 24, 1 25, 2.7ms\n",
      "Speed: 3.4ms preprocess, 2.7ms inference, 0.6ms postprocess per image at shape (1, 3, 928, 1600)\n",
      "\n",
      "image 1/1 /datasets/tdt4265/other/rbk/1_train-val_1min_aalesund_from_start/img1/000146.jpg: 928x1600 1 1, 1 18, 1 19, 1 20, 1 24, 1 25, 3.1ms\n",
      "Speed: 3.4ms preprocess, 3.1ms inference, 0.6ms postprocess per image at shape (1, 3, 928, 1600)\n",
      "\n",
      "image 1/1 /datasets/tdt4265/other/rbk/1_train-val_1min_aalesund_from_start/img1/000147.jpg: 928x1600 1 1, 1 18, 1 19, 1 20, 1 24, 1 25, 2.7ms\n",
      "Speed: 3.4ms preprocess, 2.7ms inference, 0.6ms postprocess per image at shape (1, 3, 928, 1600)\n",
      "\n",
      "image 1/1 /datasets/tdt4265/other/rbk/1_train-val_1min_aalesund_from_start/img1/000148.jpg: 928x1600 1 1, 1 18, 1 19, 1 20, 1 24, 1 25, 2.8ms\n",
      "Speed: 3.3ms preprocess, 2.8ms inference, 0.6ms postprocess per image at shape (1, 3, 928, 1600)\n",
      "\n",
      "image 1/1 /datasets/tdt4265/other/rbk/1_train-val_1min_aalesund_from_start/img1/000149.jpg: 928x1600 1 1, 1 18, 1 19, 1 20, 1 24, 1 25, 2.7ms\n",
      "Speed: 3.4ms preprocess, 2.7ms inference, 0.8ms postprocess per image at shape (1, 3, 928, 1600)\n",
      "\n",
      "image 1/1 /datasets/tdt4265/other/rbk/1_train-val_1min_aalesund_from_start/img1/000150.jpg: 928x1600 1 1, 1 18, 1 19, 1 20, 1 24, 1 25, 2.7ms\n",
      "Speed: 3.5ms preprocess, 2.7ms inference, 0.6ms postprocess per image at shape (1, 3, 928, 1600)\n",
      "\n",
      "image 1/1 /datasets/tdt4265/other/rbk/1_train-val_1min_aalesund_from_start/img1/000151.jpg: 928x1600 1 1, 1 18, 1 19, 1 20, 1 24, 1 25, 2.7ms\n",
      "Speed: 3.4ms preprocess, 2.7ms inference, 0.6ms postprocess per image at shape (1, 3, 928, 1600)\n",
      "\n",
      "image 1/1 /datasets/tdt4265/other/rbk/1_train-val_1min_aalesund_from_start/img1/000152.jpg: 928x1600 1 1, 1 18, 1 19, 1 20, 1 24, 1 25, 2.8ms\n",
      "Speed: 3.4ms preprocess, 2.8ms inference, 0.6ms postprocess per image at shape (1, 3, 928, 1600)\n",
      "\n",
      "image 1/1 /datasets/tdt4265/other/rbk/1_train-val_1min_aalesund_from_start/img1/000153.jpg: 928x1600 1 1, 1 18, 1 19, 1 20, 1 24, 1 25, 2.7ms\n",
      "Speed: 3.4ms preprocess, 2.7ms inference, 0.6ms postprocess per image at shape (1, 3, 928, 1600)\n",
      "\n",
      "image 1/1 /datasets/tdt4265/other/rbk/1_train-val_1min_aalesund_from_start/img1/000154.jpg: 928x1600 1 1, 1 18, 1 19, 1 20, 1 24, 1 25, 2.7ms\n",
      "Speed: 3.4ms preprocess, 2.7ms inference, 1.0ms postprocess per image at shape (1, 3, 928, 1600)\n",
      "\n",
      "image 1/1 /datasets/tdt4265/other/rbk/1_train-val_1min_aalesund_from_start/img1/000155.jpg: 928x1600 1 1, 1 18, 1 19, 1 20, 1 24, 1 25, 2.8ms\n",
      "Speed: 3.4ms preprocess, 2.8ms inference, 0.6ms postprocess per image at shape (1, 3, 928, 1600)\n",
      "\n",
      "image 1/1 /datasets/tdt4265/other/rbk/1_train-val_1min_aalesund_from_start/img1/000156.jpg: 928x1600 1 1, 1 18, 1 19, 1 20, 1 24, 1 25, 2.7ms\n",
      "Speed: 3.6ms preprocess, 2.7ms inference, 0.8ms postprocess per image at shape (1, 3, 928, 1600)\n",
      "\n",
      "image 1/1 /datasets/tdt4265/other/rbk/1_train-val_1min_aalesund_from_start/img1/000157.jpg: 928x1600 1 1, 1 18, 1 19, 1 20, 1 24, 1 25, 2.8ms\n",
      "Speed: 3.5ms preprocess, 2.8ms inference, 0.6ms postprocess per image at shape (1, 3, 928, 1600)\n",
      "\n",
      "image 1/1 /datasets/tdt4265/other/rbk/1_train-val_1min_aalesund_from_start/img1/000158.jpg: 928x1600 1 1, 1 18, 1 19, 1 20, 1 24, 1 25, 2.8ms\n",
      "Speed: 3.4ms preprocess, 2.8ms inference, 0.6ms postprocess per image at shape (1, 3, 928, 1600)\n",
      "\n",
      "image 1/1 /datasets/tdt4265/other/rbk/1_train-val_1min_aalesund_from_start/img1/000159.jpg: 928x1600 1 1, 1 18, 1 19, 1 20, 1 24, 1 25, 2.7ms\n",
      "Speed: 3.5ms preprocess, 2.7ms inference, 0.6ms postprocess per image at shape (1, 3, 928, 1600)\n",
      "\n",
      "image 1/1 /datasets/tdt4265/other/rbk/1_train-val_1min_aalesund_from_start/img1/000160.jpg: 928x1600 1 1, 1 18, 1 19, 1 20, 1 24, 1 25, 2.7ms\n",
      "Speed: 3.4ms preprocess, 2.7ms inference, 0.6ms postprocess per image at shape (1, 3, 928, 1600)\n",
      "\n",
      "image 1/1 /datasets/tdt4265/other/rbk/1_train-val_1min_aalesund_from_start/img1/000161.jpg: 928x1600 1 1, 1 18, 1 19, 1 20, 1 24, 1 25, 2.6ms\n",
      "Speed: 3.4ms preprocess, 2.6ms inference, 0.6ms postprocess per image at shape (1, 3, 928, 1600)\n",
      "\n",
      "image 1/1 /datasets/tdt4265/other/rbk/1_train-val_1min_aalesund_from_start/img1/000162.jpg: 928x1600 1 1, 1 18, 1 19, 1 20, 1 24, 1 25, 2.7ms\n",
      "Speed: 3.3ms preprocess, 2.7ms inference, 1.1ms postprocess per image at shape (1, 3, 928, 1600)\n",
      "\n",
      "image 1/1 /datasets/tdt4265/other/rbk/1_train-val_1min_aalesund_from_start/img1/000163.jpg: 928x1600 1 1, 1 18, 1 19, 1 20, 1 24, 1 25, 2.7ms\n",
      "Speed: 3.5ms preprocess, 2.7ms inference, 1.0ms postprocess per image at shape (1, 3, 928, 1600)\n",
      "\n",
      "image 1/1 /datasets/tdt4265/other/rbk/1_train-val_1min_aalesund_from_start/img1/000164.jpg: 928x1600 1 1, 1 18, 1 19, 1 20, 1 24, 1 25, 2.7ms\n",
      "Speed: 3.4ms preprocess, 2.7ms inference, 0.6ms postprocess per image at shape (1, 3, 928, 1600)\n",
      "\n",
      "image 1/1 /datasets/tdt4265/other/rbk/1_train-val_1min_aalesund_from_start/img1/000165.jpg: 928x1600 1 1, 1 18, 1 19, 1 20, 1 24, 1 25, 2.7ms\n",
      "Speed: 3.4ms preprocess, 2.7ms inference, 0.6ms postprocess per image at shape (1, 3, 928, 1600)\n",
      "\n",
      "image 1/1 /datasets/tdt4265/other/rbk/1_train-val_1min_aalesund_from_start/img1/000166.jpg: 928x1600 1 1, 1 18, 1 19, 1 20, 1 24, 1 25, 2.8ms\n",
      "Speed: 3.4ms preprocess, 2.8ms inference, 0.6ms postprocess per image at shape (1, 3, 928, 1600)\n",
      "\n",
      "image 1/1 /datasets/tdt4265/other/rbk/1_train-val_1min_aalesund_from_start/img1/000167.jpg: 928x1600 1 1, 1 18, 1 19, 1 20, 1 24, 1 25, 2.7ms\n",
      "Speed: 3.4ms preprocess, 2.7ms inference, 1.1ms postprocess per image at shape (1, 3, 928, 1600)\n",
      "\n",
      "image 1/1 /datasets/tdt4265/other/rbk/1_train-val_1min_aalesund_from_start/img1/000168.jpg: 928x1600 1 1, 1 18, 1 19, 1 20, 1 24, 1 25, 2.8ms\n",
      "Speed: 3.6ms preprocess, 2.8ms inference, 0.6ms postprocess per image at shape (1, 3, 928, 1600)\n",
      "\n",
      "image 1/1 /datasets/tdt4265/other/rbk/1_train-val_1min_aalesund_from_start/img1/000169.jpg: 928x1600 1 1, 1 18, 1 19, 1 20, 1 24, 1 25, 2.7ms\n",
      "Speed: 3.4ms preprocess, 2.7ms inference, 0.6ms postprocess per image at shape (1, 3, 928, 1600)\n",
      "\n",
      "image 1/1 /datasets/tdt4265/other/rbk/1_train-val_1min_aalesund_from_start/img1/000170.jpg: 928x1600 1 1, 1 18, 1 19, 1 20, 1 24, 1 25, 2.8ms\n",
      "Speed: 3.5ms preprocess, 2.8ms inference, 0.6ms postprocess per image at shape (1, 3, 928, 1600)\n",
      "\n",
      "image 1/1 /datasets/tdt4265/other/rbk/1_train-val_1min_aalesund_from_start/img1/000171.jpg: 928x1600 1 1, 1 18, 1 19, 1 20, 1 24, 1 25, 2.8ms\n",
      "Speed: 3.4ms preprocess, 2.8ms inference, 0.6ms postprocess per image at shape (1, 3, 928, 1600)\n",
      "\n",
      "image 1/1 /datasets/tdt4265/other/rbk/1_train-val_1min_aalesund_from_start/img1/000172.jpg: 928x1600 1 1, 1 18, 1 19, 1 20, 1 24, 1 25, 2.9ms\n",
      "Speed: 3.4ms preprocess, 2.9ms inference, 1.0ms postprocess per image at shape (1, 3, 928, 1600)\n",
      "\n",
      "image 1/1 /datasets/tdt4265/other/rbk/1_train-val_1min_aalesund_from_start/img1/000173.jpg: 928x1600 1 1, 1 18, 1 19, 1 20, 1 24, 1 25, 2.7ms\n",
      "Speed: 3.4ms preprocess, 2.7ms inference, 0.6ms postprocess per image at shape (1, 3, 928, 1600)\n",
      "\n",
      "image 1/1 /datasets/tdt4265/other/rbk/1_train-val_1min_aalesund_from_start/img1/000174.jpg: 928x1600 1 1, 1 18, 1 19, 1 20, 1 24, 1 25, 2.8ms\n",
      "Speed: 3.5ms preprocess, 2.8ms inference, 0.6ms postprocess per image at shape (1, 3, 928, 1600)\n",
      "\n",
      "image 1/1 /datasets/tdt4265/other/rbk/1_train-val_1min_aalesund_from_start/img1/000175.jpg: 928x1600 1 1, 1 18, 1 19, 1 20, 1 24, 1 25, 2.7ms\n",
      "Speed: 3.4ms preprocess, 2.7ms inference, 0.6ms postprocess per image at shape (1, 3, 928, 1600)\n",
      "\n",
      "image 1/1 /datasets/tdt4265/other/rbk/1_train-val_1min_aalesund_from_start/img1/000176.jpg: 928x1600 1 1, 1 18, 1 19, 1 20, 1 24, 1 25, 2.7ms\n",
      "Speed: 3.4ms preprocess, 2.7ms inference, 0.6ms postprocess per image at shape (1, 3, 928, 1600)\n",
      "\n",
      "image 1/1 /datasets/tdt4265/other/rbk/1_train-val_1min_aalesund_from_start/img1/000177.jpg: 928x1600 1 1, 1 18, 1 19, 1 20, 1 24, 1 25, 2.9ms\n",
      "Speed: 3.5ms preprocess, 2.9ms inference, 0.6ms postprocess per image at shape (1, 3, 928, 1600)\n",
      "\n",
      "image 1/1 /datasets/tdt4265/other/rbk/1_train-val_1min_aalesund_from_start/img1/000178.jpg: 928x1600 1 1, 1 18, 1 19, 1 20, 1 24, 1 25, 2.8ms\n",
      "Speed: 3.4ms preprocess, 2.8ms inference, 0.7ms postprocess per image at shape (1, 3, 928, 1600)\n",
      "\n",
      "image 1/1 /datasets/tdt4265/other/rbk/1_train-val_1min_aalesund_from_start/img1/000179.jpg: 928x1600 1 1, 1 18, 1 19, 1 20, 1 24, 1 25, 2.9ms\n",
      "Speed: 3.4ms preprocess, 2.9ms inference, 0.6ms postprocess per image at shape (1, 3, 928, 1600)\n",
      "\n",
      "image 1/1 /datasets/tdt4265/other/rbk/1_train-val_1min_aalesund_from_start/img1/000180.jpg: 928x1600 1 1, 1 18, 1 19, 1 20, 1 24, 1 25, 2.7ms\n",
      "Speed: 3.5ms preprocess, 2.7ms inference, 0.6ms postprocess per image at shape (1, 3, 928, 1600)\n",
      "\n",
      "image 1/1 /datasets/tdt4265/other/rbk/1_train-val_1min_aalesund_from_start/img1/000181.jpg: 928x1600 1 1, 1 18, 1 19, 1 20, 1 24, 1 25, 2.7ms\n",
      "Speed: 3.5ms preprocess, 2.7ms inference, 1.1ms postprocess per image at shape (1, 3, 928, 1600)\n",
      "\n",
      "image 1/1 /datasets/tdt4265/other/rbk/1_train-val_1min_aalesund_from_start/img1/000182.jpg: 928x1600 1 1, 1 18, 1 19, 1 20, 1 24, 1 25, 2.9ms\n",
      "Speed: 3.4ms preprocess, 2.9ms inference, 0.7ms postprocess per image at shape (1, 3, 928, 1600)\n",
      "\n",
      "image 1/1 /datasets/tdt4265/other/rbk/1_train-val_1min_aalesund_from_start/img1/000183.jpg: 928x1600 1 1, 1 18, 1 19, 1 20, 1 24, 1 25, 2.8ms\n",
      "Speed: 3.5ms preprocess, 2.8ms inference, 0.6ms postprocess per image at shape (1, 3, 928, 1600)\n",
      "\n",
      "image 1/1 /datasets/tdt4265/other/rbk/1_train-val_1min_aalesund_from_start/img1/000184.jpg: 928x1600 1 1, 1 18, 1 19, 1 20, 1 24, 1 25, 2.7ms\n",
      "Speed: 3.4ms preprocess, 2.7ms inference, 0.6ms postprocess per image at shape (1, 3, 928, 1600)\n",
      "\n",
      "image 1/1 /datasets/tdt4265/other/rbk/1_train-val_1min_aalesund_from_start/img1/000185.jpg: 928x1600 1 1, 1 18, 1 19, 1 20, 1 24, 1 25, 2.7ms\n",
      "Speed: 3.4ms preprocess, 2.7ms inference, 0.6ms postprocess per image at shape (1, 3, 928, 1600)\n",
      "\n",
      "image 1/1 /datasets/tdt4265/other/rbk/1_train-val_1min_aalesund_from_start/img1/000186.jpg: 928x1600 1 1, 1 18, 1 19, 1 20, 1 24, 1 25, 2.8ms\n",
      "Speed: 3.5ms preprocess, 2.8ms inference, 0.8ms postprocess per image at shape (1, 3, 928, 1600)\n",
      "\n",
      "image 1/1 /datasets/tdt4265/other/rbk/1_train-val_1min_aalesund_from_start/img1/000187.jpg: 928x1600 1 1, 1 18, 1 19, 1 20, 1 24, 1 25, 3.0ms\n",
      "Speed: 3.3ms preprocess, 3.0ms inference, 0.7ms postprocess per image at shape (1, 3, 928, 1600)\n",
      "\n",
      "image 1/1 /datasets/tdt4265/other/rbk/1_train-val_1min_aalesund_from_start/img1/000188.jpg: 928x1600 1 1, 1 18, 1 19, 1 20, 1 24, 1 25, 2.8ms\n",
      "Speed: 3.4ms preprocess, 2.8ms inference, 0.6ms postprocess per image at shape (1, 3, 928, 1600)\n",
      "\n",
      "image 1/1 /datasets/tdt4265/other/rbk/1_train-val_1min_aalesund_from_start/img1/000189.jpg: 928x1600 1 1, 1 18, 1 19, 1 20, 1 24, 1 25, 2.7ms\n",
      "Speed: 3.5ms preprocess, 2.7ms inference, 0.6ms postprocess per image at shape (1, 3, 928, 1600)\n",
      "\n",
      "image 1/1 /datasets/tdt4265/other/rbk/1_train-val_1min_aalesund_from_start/img1/000190.jpg: 928x1600 1 1, 1 18, 1 19, 1 20, 1 24, 1 25, 2.8ms\n",
      "Speed: 3.5ms preprocess, 2.8ms inference, 0.6ms postprocess per image at shape (1, 3, 928, 1600)\n",
      "\n",
      "image 1/1 /datasets/tdt4265/other/rbk/1_train-val_1min_aalesund_from_start/img1/000191.jpg: 928x1600 1 1, 1 18, 1 19, 1 20, 1 24, 1 25, 2.9ms\n",
      "Speed: 3.5ms preprocess, 2.9ms inference, 0.6ms postprocess per image at shape (1, 3, 928, 1600)\n",
      "\n",
      "image 1/1 /datasets/tdt4265/other/rbk/1_train-val_1min_aalesund_from_start/img1/000192.jpg: 928x1600 1 1, 1 18, 1 19, 1 20, 1 24, 1 25, 2.8ms\n",
      "Speed: 3.5ms preprocess, 2.8ms inference, 0.7ms postprocess per image at shape (1, 3, 928, 1600)\n",
      "\n",
      "image 1/1 /datasets/tdt4265/other/rbk/1_train-val_1min_aalesund_from_start/img1/000193.jpg: 928x1600 1 1, 1 18, 1 19, 1 20, 1 24, 1 25, 2.9ms\n",
      "Speed: 3.4ms preprocess, 2.9ms inference, 0.6ms postprocess per image at shape (1, 3, 928, 1600)\n",
      "\n",
      "image 1/1 /datasets/tdt4265/other/rbk/1_train-val_1min_aalesund_from_start/img1/000194.jpg: 928x1600 1 1, 1 18, 1 19, 1 20, 1 24, 1 25, 2.7ms\n",
      "Speed: 3.5ms preprocess, 2.7ms inference, 0.6ms postprocess per image at shape (1, 3, 928, 1600)\n",
      "\n",
      "image 1/1 /datasets/tdt4265/other/rbk/1_train-val_1min_aalesund_from_start/img1/000195.jpg: 928x1600 1 1, 1 18, 1 19, 1 20, 1 24, 1 25, 2.7ms\n",
      "Speed: 3.5ms preprocess, 2.7ms inference, 0.6ms postprocess per image at shape (1, 3, 928, 1600)\n",
      "\n",
      "image 1/1 /datasets/tdt4265/other/rbk/1_train-val_1min_aalesund_from_start/img1/000196.jpg: 928x1600 1 1, 1 18, 1 19, 1 20, 1 24, 1 25, 3.2ms\n",
      "Speed: 3.4ms preprocess, 3.2ms inference, 0.6ms postprocess per image at shape (1, 3, 928, 1600)\n",
      "\n",
      "image 1/1 /datasets/tdt4265/other/rbk/1_train-val_1min_aalesund_from_start/img1/000197.jpg: 928x1600 1 1, 1 18, 1 19, 1 20, 1 24, 1 25, 2.9ms\n",
      "Speed: 3.3ms preprocess, 2.9ms inference, 0.6ms postprocess per image at shape (1, 3, 928, 1600)\n",
      "\n",
      "image 1/1 /datasets/tdt4265/other/rbk/1_train-val_1min_aalesund_from_start/img1/000198.jpg: 928x1600 1 1, 1 18, 1 19, 1 20, 1 24, 1 25, 2.7ms\n",
      "Speed: 3.5ms preprocess, 2.7ms inference, 0.6ms postprocess per image at shape (1, 3, 928, 1600)\n",
      "\n",
      "image 1/1 /datasets/tdt4265/other/rbk/1_train-val_1min_aalesund_from_start/img1/000199.jpg: 928x1600 1 1, 1 18, 1 19, 1 20, 1 24, 1 25, 2.7ms\n",
      "Speed: 3.4ms preprocess, 2.7ms inference, 0.6ms postprocess per image at shape (1, 3, 928, 1600)\n",
      "\n",
      "image 1/1 /datasets/tdt4265/other/rbk/1_train-val_1min_aalesund_from_start/img1/000200.jpg: 928x1600 1 1, 1 18, 1 19, 1 20, 1 24, 1 25, 2.7ms\n",
      "Speed: 3.4ms preprocess, 2.7ms inference, 0.8ms postprocess per image at shape (1, 3, 928, 1600)\n",
      "\n",
      "image 1/1 /datasets/tdt4265/other/rbk/1_train-val_1min_aalesund_from_start/img1/000201.jpg: 928x1600 1 1, 1 18, 1 19, 1 20, 1 24, 1 25, 2.7ms\n",
      "Speed: 3.5ms preprocess, 2.7ms inference, 0.6ms postprocess per image at shape (1, 3, 928, 1600)\n",
      "\n",
      "image 1/1 /datasets/tdt4265/other/rbk/1_train-val_1min_aalesund_from_start/img1/000202.jpg: 928x1600 1 1, 1 18, 1 19, 1 20, 1 24, 1 25, 2.9ms\n",
      "Speed: 3.4ms preprocess, 2.9ms inference, 0.6ms postprocess per image at shape (1, 3, 928, 1600)\n",
      "\n",
      "image 1/1 /datasets/tdt4265/other/rbk/1_train-val_1min_aalesund_from_start/img1/000203.jpg: 928x1600 1 1, 1 18, 1 19, 1 20, 1 24, 1 25, 2.8ms\n",
      "Speed: 3.4ms preprocess, 2.8ms inference, 0.6ms postprocess per image at shape (1, 3, 928, 1600)\n",
      "\n",
      "image 1/1 /datasets/tdt4265/other/rbk/1_train-val_1min_aalesund_from_start/img1/000204.jpg: 928x1600 1 1, 1 18, 1 19, 1 20, 1 24, 1 25, 2.8ms\n",
      "Speed: 3.4ms preprocess, 2.8ms inference, 0.6ms postprocess per image at shape (1, 3, 928, 1600)\n",
      "\n",
      "image 1/1 /datasets/tdt4265/other/rbk/1_train-val_1min_aalesund_from_start/img1/000205.jpg: 928x1600 1 1, 1 18, 1 19, 1 20, 1 24, 1 25, 2.7ms\n",
      "Speed: 3.5ms preprocess, 2.7ms inference, 0.6ms postprocess per image at shape (1, 3, 928, 1600)\n",
      "\n",
      "image 1/1 /datasets/tdt4265/other/rbk/1_train-val_1min_aalesund_from_start/img1/000206.jpg: 928x1600 1 1, 1 18, 1 19, 1 20, 1 24, 1 25, 2.7ms\n",
      "Speed: 3.4ms preprocess, 2.7ms inference, 0.6ms postprocess per image at shape (1, 3, 928, 1600)\n",
      "\n",
      "image 1/1 /datasets/tdt4265/other/rbk/1_train-val_1min_aalesund_from_start/img1/000207.jpg: 928x1600 1 1, 1 18, 1 19, 1 20, 1 24, 1 25, 2.7ms\n",
      "Speed: 3.4ms preprocess, 2.7ms inference, 0.6ms postprocess per image at shape (1, 3, 928, 1600)\n",
      "\n",
      "image 1/1 /datasets/tdt4265/other/rbk/1_train-val_1min_aalesund_from_start/img1/000208.jpg: 928x1600 1 1, 1 18, 1 19, 1 20, 1 24, 1 25, 2.7ms\n",
      "Speed: 3.5ms preprocess, 2.7ms inference, 0.6ms postprocess per image at shape (1, 3, 928, 1600)\n",
      "\n",
      "image 1/1 /datasets/tdt4265/other/rbk/1_train-val_1min_aalesund_from_start/img1/000209.jpg: 928x1600 1 1, 1 18, 1 19, 1 20, 1 24, 1 25, 2.7ms\n",
      "Speed: 3.4ms preprocess, 2.7ms inference, 0.8ms postprocess per image at shape (1, 3, 928, 1600)\n",
      "\n",
      "image 1/1 /datasets/tdt4265/other/rbk/1_train-val_1min_aalesund_from_start/img1/000210.jpg: 928x1600 1 1, 1 18, 1 19, 1 20, 1 24, 1 25, 3.1ms\n",
      "Speed: 3.4ms preprocess, 3.1ms inference, 0.6ms postprocess per image at shape (1, 3, 928, 1600)\n",
      "\n",
      "image 1/1 /datasets/tdt4265/other/rbk/1_train-val_1min_aalesund_from_start/img1/000211.jpg: 928x1600 1 1, 1 18, 1 19, 1 20, 1 24, 1 25, 2.7ms\n",
      "Speed: 3.5ms preprocess, 2.7ms inference, 0.7ms postprocess per image at shape (1, 3, 928, 1600)\n",
      "\n",
      "image 1/1 /datasets/tdt4265/other/rbk/1_train-val_1min_aalesund_from_start/img1/000212.jpg: 928x1600 1 1, 1 18, 1 19, 1 20, 1 24, 1 25, 2.7ms\n",
      "Speed: 3.4ms preprocess, 2.7ms inference, 0.6ms postprocess per image at shape (1, 3, 928, 1600)\n",
      "\n",
      "image 1/1 /datasets/tdt4265/other/rbk/1_train-val_1min_aalesund_from_start/img1/000213.jpg: 928x1600 1 1, 1 18, 1 19, 1 20, 1 24, 1 25, 2.9ms\n",
      "Speed: 3.5ms preprocess, 2.9ms inference, 0.7ms postprocess per image at shape (1, 3, 928, 1600)\n",
      "\n",
      "image 1/1 /datasets/tdt4265/other/rbk/1_train-val_1min_aalesund_from_start/img1/000214.jpg: 928x1600 1 1, 1 18, 1 19, 1 20, 1 24, 1 25, 2.9ms\n",
      "Speed: 3.4ms preprocess, 2.9ms inference, 0.6ms postprocess per image at shape (1, 3, 928, 1600)\n",
      "\n",
      "image 1/1 /datasets/tdt4265/other/rbk/1_train-val_1min_aalesund_from_start/img1/000215.jpg: 928x1600 1 1, 1 18, 1 19, 1 20, 1 24, 1 25, 2.8ms\n",
      "Speed: 3.5ms preprocess, 2.8ms inference, 0.6ms postprocess per image at shape (1, 3, 928, 1600)\n",
      "\n",
      "image 1/1 /datasets/tdt4265/other/rbk/1_train-val_1min_aalesund_from_start/img1/000216.jpg: 928x1600 1 1, 1 18, 1 19, 1 20, 1 24, 1 25, 2.7ms\n",
      "Speed: 3.4ms preprocess, 2.7ms inference, 0.6ms postprocess per image at shape (1, 3, 928, 1600)\n",
      "\n",
      "image 1/1 /datasets/tdt4265/other/rbk/1_train-val_1min_aalesund_from_start/img1/000217.jpg: 928x1600 1 1, 1 18, 1 19, 1 20, 1 24, 1 25, 3.1ms\n",
      "Speed: 3.4ms preprocess, 3.1ms inference, 0.6ms postprocess per image at shape (1, 3, 928, 1600)\n",
      "\n",
      "image 1/1 /datasets/tdt4265/other/rbk/1_train-val_1min_aalesund_from_start/img1/000218.jpg: 928x1600 1 1, 1 18, 1 19, 1 20, 1 24, 1 25, 2.7ms\n",
      "Speed: 3.4ms preprocess, 2.7ms inference, 0.8ms postprocess per image at shape (1, 3, 928, 1600)\n",
      "\n",
      "image 1/1 /datasets/tdt4265/other/rbk/1_train-val_1min_aalesund_from_start/img1/000219.jpg: 928x1600 1 1, 1 18, 1 19, 1 20, 1 24, 1 25, 2.8ms\n",
      "Speed: 3.5ms preprocess, 2.8ms inference, 0.6ms postprocess per image at shape (1, 3, 928, 1600)\n",
      "\n",
      "image 1/1 /datasets/tdt4265/other/rbk/1_train-val_1min_aalesund_from_start/img1/000220.jpg: 928x1600 1 1, 1 18, 1 19, 1 20, 1 24, 1 25, 2.9ms\n",
      "Speed: 3.4ms preprocess, 2.9ms inference, 0.6ms postprocess per image at shape (1, 3, 928, 1600)\n",
      "\n",
      "image 1/1 /datasets/tdt4265/other/rbk/1_train-val_1min_aalesund_from_start/img1/000221.jpg: 928x1600 1 1, 1 18, 1 19, 1 20, 1 24, 1 25, 2.8ms\n",
      "Speed: 3.5ms preprocess, 2.8ms inference, 0.6ms postprocess per image at shape (1, 3, 928, 1600)\n",
      "\n",
      "image 1/1 /datasets/tdt4265/other/rbk/1_train-val_1min_aalesund_from_start/img1/000222.jpg: 928x1600 1 1, 1 18, 1 19, 1 20, 1 24, 1 25, 2.7ms\n",
      "Speed: 3.6ms preprocess, 2.7ms inference, 0.6ms postprocess per image at shape (1, 3, 928, 1600)\n",
      "\n",
      "image 1/1 /datasets/tdt4265/other/rbk/1_train-val_1min_aalesund_from_start/img1/000223.jpg: 928x1600 1 1, 1 18, 1 19, 1 20, 1 24, 1 25, 2.7ms\n",
      "Speed: 3.4ms preprocess, 2.7ms inference, 0.6ms postprocess per image at shape (1, 3, 928, 1600)\n",
      "\n",
      "image 1/1 /datasets/tdt4265/other/rbk/1_train-val_1min_aalesund_from_start/img1/000224.jpg: 928x1600 1 1, 1 18, 1 19, 1 20, 1 24, 1 25, 2.7ms\n",
      "Speed: 3.4ms preprocess, 2.7ms inference, 0.6ms postprocess per image at shape (1, 3, 928, 1600)\n",
      "\n",
      "image 1/1 /datasets/tdt4265/other/rbk/1_train-val_1min_aalesund_from_start/img1/000225.jpg: 928x1600 1 1, 1 18, 1 19, 1 20, 1 24, 1 25, 2.7ms\n",
      "Speed: 3.5ms preprocess, 2.7ms inference, 0.6ms postprocess per image at shape (1, 3, 928, 1600)\n",
      "\n",
      "image 1/1 /datasets/tdt4265/other/rbk/1_train-val_1min_aalesund_from_start/img1/000226.jpg: 928x1600 1 1, 1 18, 1 19, 1 20, 1 24, 1 25, 2.8ms\n",
      "Speed: 3.4ms preprocess, 2.8ms inference, 0.8ms postprocess per image at shape (1, 3, 928, 1600)\n",
      "\n",
      "image 1/1 /datasets/tdt4265/other/rbk/1_train-val_1min_aalesund_from_start/img1/000227.jpg: 928x1600 1 1, 1 18, 1 19, 1 20, 1 24, 1 25, 2.7ms\n",
      "Speed: 3.4ms preprocess, 2.7ms inference, 0.6ms postprocess per image at shape (1, 3, 928, 1600)\n",
      "\n",
      "image 1/1 /datasets/tdt4265/other/rbk/1_train-val_1min_aalesund_from_start/img1/000228.jpg: 928x1600 1 1, 1 18, 1 19, 1 20, 1 24, 1 25, 2.8ms\n",
      "Speed: 3.5ms preprocess, 2.8ms inference, 0.6ms postprocess per image at shape (1, 3, 928, 1600)\n",
      "\n",
      "image 1/1 /datasets/tdt4265/other/rbk/1_train-val_1min_aalesund_from_start/img1/000229.jpg: 928x1600 1 1, 1 18, 1 19, 1 20, 1 24, 1 25, 2.8ms\n",
      "Speed: 3.4ms preprocess, 2.8ms inference, 0.7ms postprocess per image at shape (1, 3, 928, 1600)\n",
      "\n",
      "image 1/1 /datasets/tdt4265/other/rbk/1_train-val_1min_aalesund_from_start/img1/000230.jpg: 928x1600 1 1, 1 18, 1 19, 1 20, 1 24, 1 25, 3.0ms\n",
      "Speed: 3.4ms preprocess, 3.0ms inference, 0.6ms postprocess per image at shape (1, 3, 928, 1600)\n",
      "\n",
      "image 1/1 /datasets/tdt4265/other/rbk/1_train-val_1min_aalesund_from_start/img1/000231.jpg: 928x1600 1 1, 1 18, 1 19, 1 20, 1 24, 1 25, 2.9ms\n",
      "Speed: 3.4ms preprocess, 2.9ms inference, 0.6ms postprocess per image at shape (1, 3, 928, 1600)\n",
      "\n",
      "image 1/1 /datasets/tdt4265/other/rbk/1_train-val_1min_aalesund_from_start/img1/000232.jpg: 928x1600 1 1, 1 18, 1 19, 1 20, 1 24, 1 25, 2.7ms\n",
      "Speed: 3.5ms preprocess, 2.7ms inference, 0.6ms postprocess per image at shape (1, 3, 928, 1600)\n",
      "\n",
      "image 1/1 /datasets/tdt4265/other/rbk/1_train-val_1min_aalesund_from_start/img1/000233.jpg: 928x1600 1 1, 1 18, 1 19, 1 20, 1 24, 1 25, 2.8ms\n",
      "Speed: 3.7ms preprocess, 2.8ms inference, 0.6ms postprocess per image at shape (1, 3, 928, 1600)\n",
      "\n",
      "image 1/1 /datasets/tdt4265/other/rbk/1_train-val_1min_aalesund_from_start/img1/000234.jpg: 928x1600 1 1, 1 18, 1 19, 1 20, 1 24, 1 25, 2.7ms\n",
      "Speed: 3.5ms preprocess, 2.7ms inference, 0.6ms postprocess per image at shape (1, 3, 928, 1600)\n",
      "\n",
      "image 1/1 /datasets/tdt4265/other/rbk/1_train-val_1min_aalesund_from_start/img1/000235.jpg: 928x1600 1 1, 1 18, 1 19, 1 20, 1 24, 1 25, 2.7ms\n",
      "Speed: 3.4ms preprocess, 2.7ms inference, 0.6ms postprocess per image at shape (1, 3, 928, 1600)\n",
      "\n",
      "image 1/1 /datasets/tdt4265/other/rbk/1_train-val_1min_aalesund_from_start/img1/000236.jpg: 928x1600 1 1, 1 18, 1 19, 1 20, 1 24, 1 25, 2.9ms\n",
      "Speed: 3.4ms preprocess, 2.9ms inference, 0.8ms postprocess per image at shape (1, 3, 928, 1600)\n",
      "\n",
      "image 1/1 /datasets/tdt4265/other/rbk/1_train-val_1min_aalesund_from_start/img1/000237.jpg: 928x1600 1 1, 1 18, 1 19, 1 20, 1 24, 1 25, 2.8ms\n",
      "Speed: 3.5ms preprocess, 2.8ms inference, 0.6ms postprocess per image at shape (1, 3, 928, 1600)\n",
      "\n",
      "image 1/1 /datasets/tdt4265/other/rbk/1_train-val_1min_aalesund_from_start/img1/000238.jpg: 928x1600 1 1, 1 18, 1 19, 1 20, 1 24, 1 25, 2.7ms\n",
      "Speed: 3.7ms preprocess, 2.7ms inference, 0.8ms postprocess per image at shape (1, 3, 928, 1600)\n",
      "\n",
      "image 1/1 /datasets/tdt4265/other/rbk/1_train-val_1min_aalesund_from_start/img1/000239.jpg: 928x1600 1 1, 1 18, 1 19, 1 20, 1 24, 1 25, 2.7ms\n",
      "Speed: 3.4ms preprocess, 2.7ms inference, 0.7ms postprocess per image at shape (1, 3, 928, 1600)\n",
      "\n",
      "image 1/1 /datasets/tdt4265/other/rbk/1_train-val_1min_aalesund_from_start/img1/000240.jpg: 928x1600 1 1, 1 18, 1 19, 1 20, 1 24, 1 25, 2.8ms\n",
      "Speed: 3.5ms preprocess, 2.8ms inference, 0.6ms postprocess per image at shape (1, 3, 928, 1600)\n",
      "\n",
      "image 1/1 /datasets/tdt4265/other/rbk/1_train-val_1min_aalesund_from_start/img1/000241.jpg: 928x1600 1 1, 1 18, 1 19, 1 20, 1 24, 1 25, 2.8ms\n",
      "Speed: 3.4ms preprocess, 2.8ms inference, 0.6ms postprocess per image at shape (1, 3, 928, 1600)\n",
      "\n",
      "image 1/1 /datasets/tdt4265/other/rbk/1_train-val_1min_aalesund_from_start/img1/000242.jpg: 928x1600 1 1, 1 18, 1 19, 1 20, 1 24, 1 25, 2.7ms\n",
      "Speed: 3.5ms preprocess, 2.7ms inference, 0.6ms postprocess per image at shape (1, 3, 928, 1600)\n",
      "\n",
      "image 1/1 /datasets/tdt4265/other/rbk/1_train-val_1min_aalesund_from_start/img1/000243.jpg: 928x1600 1 1, 1 18, 1 19, 1 20, 1 24, 1 25, 2.7ms\n",
      "Speed: 3.5ms preprocess, 2.7ms inference, 0.6ms postprocess per image at shape (1, 3, 928, 1600)\n",
      "\n",
      "image 1/1 /datasets/tdt4265/other/rbk/1_train-val_1min_aalesund_from_start/img1/000244.jpg: 928x1600 1 1, 1 18, 1 19, 1 20, 1 24, 1 25, 2.7ms\n",
      "Speed: 3.4ms preprocess, 2.7ms inference, 0.6ms postprocess per image at shape (1, 3, 928, 1600)\n",
      "\n",
      "image 1/1 /datasets/tdt4265/other/rbk/1_train-val_1min_aalesund_from_start/img1/000245.jpg: 928x1600 1 1, 1 18, 1 19, 1 20, 1 24, 1 25, 2.7ms\n",
      "Speed: 3.4ms preprocess, 2.7ms inference, 0.6ms postprocess per image at shape (1, 3, 928, 1600)\n",
      "\n",
      "image 1/1 /datasets/tdt4265/other/rbk/1_train-val_1min_aalesund_from_start/img1/000246.jpg: 928x1600 1 1, 1 18, 1 19, 1 20, 1 24, 1 25, 2.7ms\n",
      "Speed: 3.5ms preprocess, 2.7ms inference, 0.6ms postprocess per image at shape (1, 3, 928, 1600)\n",
      "\n",
      "image 1/1 /datasets/tdt4265/other/rbk/1_train-val_1min_aalesund_from_start/img1/000247.jpg: 928x1600 1 1, 1 18, 1 19, 1 20, 1 24, 1 25, 2.7ms\n",
      "Speed: 3.4ms preprocess, 2.7ms inference, 0.6ms postprocess per image at shape (1, 3, 928, 1600)\n",
      "\n",
      "image 1/1 /datasets/tdt4265/other/rbk/1_train-val_1min_aalesund_from_start/img1/000248.jpg: 928x1600 1 1, 1 18, 1 19, 1 20, 1 24, 1 25, 2.7ms\n",
      "Speed: 3.4ms preprocess, 2.7ms inference, 0.6ms postprocess per image at shape (1, 3, 928, 1600)\n",
      "\n",
      "image 1/1 /datasets/tdt4265/other/rbk/1_train-val_1min_aalesund_from_start/img1/000249.jpg: 928x1600 1 1, 1 18, 1 19, 1 20, 1 24, 1 25, 2.7ms\n",
      "Speed: 3.5ms preprocess, 2.7ms inference, 0.6ms postprocess per image at shape (1, 3, 928, 1600)\n",
      "\n",
      "image 1/1 /datasets/tdt4265/other/rbk/1_train-val_1min_aalesund_from_start/img1/000250.jpg: 928x1600 1 1, 1 18, 1 19, 1 20, 1 24, 1 25, 2.7ms\n",
      "Speed: 3.4ms preprocess, 2.7ms inference, 0.6ms postprocess per image at shape (1, 3, 928, 1600)\n",
      "\n",
      "image 1/1 /datasets/tdt4265/other/rbk/1_train-val_1min_aalesund_from_start/img1/000251.jpg: 928x1600 1 1, 1 18, 1 19, 1 20, 1 24, 1 25, 2.7ms\n",
      "Speed: 3.4ms preprocess, 2.7ms inference, 1.0ms postprocess per image at shape (1, 3, 928, 1600)\n",
      "\n",
      "image 1/1 /datasets/tdt4265/other/rbk/1_train-val_1min_aalesund_from_start/img1/000252.jpg: 928x1600 1 1, 1 18, 1 19, 1 20, 1 24, 1 25, 2.9ms\n",
      "Speed: 3.5ms preprocess, 2.9ms inference, 0.6ms postprocess per image at shape (1, 3, 928, 1600)\n",
      "\n",
      "image 1/1 /datasets/tdt4265/other/rbk/1_train-val_1min_aalesund_from_start/img1/000253.jpg: 928x1600 1 1, 1 18, 1 19, 1 20, 1 24, 1 25, 2.7ms\n",
      "Speed: 3.4ms preprocess, 2.7ms inference, 0.6ms postprocess per image at shape (1, 3, 928, 1600)\n",
      "\n",
      "image 1/1 /datasets/tdt4265/other/rbk/1_train-val_1min_aalesund_from_start/img1/000254.jpg: 928x1600 1 1, 1 18, 1 19, 1 20, 1 24, 1 25, 2.7ms\n",
      "Speed: 3.6ms preprocess, 2.7ms inference, 0.7ms postprocess per image at shape (1, 3, 928, 1600)\n",
      "\n",
      "image 1/1 /datasets/tdt4265/other/rbk/1_train-val_1min_aalesund_from_start/img1/000255.jpg: 928x1600 1 1, 1 18, 1 19, 1 20, 1 24, 1 25, 2.8ms\n",
      "Speed: 3.5ms preprocess, 2.8ms inference, 0.6ms postprocess per image at shape (1, 3, 928, 1600)\n",
      "\n",
      "image 1/1 /datasets/tdt4265/other/rbk/1_train-val_1min_aalesund_from_start/img1/000256.jpg: 928x1600 1 1, 1 18, 1 19, 1 20, 1 24, 1 25, 2.8ms\n",
      "Speed: 3.4ms preprocess, 2.8ms inference, 0.6ms postprocess per image at shape (1, 3, 928, 1600)\n",
      "\n",
      "image 1/1 /datasets/tdt4265/other/rbk/1_train-val_1min_aalesund_from_start/img1/000257.jpg: 928x1600 1 1, 1 18, 1 19, 1 20, 1 24, 1 25, 3.0ms\n",
      "Speed: 3.4ms preprocess, 3.0ms inference, 0.6ms postprocess per image at shape (1, 3, 928, 1600)\n",
      "\n",
      "image 1/1 /datasets/tdt4265/other/rbk/1_train-val_1min_aalesund_from_start/img1/000258.jpg: 928x1600 1 1, 1 18, 1 19, 1 20, 1 24, 1 25, 2.9ms\n",
      "Speed: 3.5ms preprocess, 2.9ms inference, 0.6ms postprocess per image at shape (1, 3, 928, 1600)\n",
      "\n",
      "image 1/1 /datasets/tdt4265/other/rbk/1_train-val_1min_aalesund_from_start/img1/000259.jpg: 928x1600 1 1, 1 18, 1 19, 1 20, 1 24, 1 25, 2.9ms\n",
      "Speed: 3.4ms preprocess, 2.9ms inference, 0.6ms postprocess per image at shape (1, 3, 928, 1600)\n",
      "\n",
      "image 1/1 /datasets/tdt4265/other/rbk/1_train-val_1min_aalesund_from_start/img1/000260.jpg: 928x1600 1 1, 1 18, 1 19, 1 20, 1 24, 1 25, 2.7ms\n",
      "Speed: 3.5ms preprocess, 2.7ms inference, 0.6ms postprocess per image at shape (1, 3, 928, 1600)\n",
      "\n",
      "image 1/1 /datasets/tdt4265/other/rbk/1_train-val_1min_aalesund_from_start/img1/000261.jpg: 928x1600 1 1, 1 18, 1 19, 1 20, 1 24, 1 25, 2.7ms\n",
      "Speed: 3.5ms preprocess, 2.7ms inference, 0.6ms postprocess per image at shape (1, 3, 928, 1600)\n",
      "\n",
      "image 1/1 /datasets/tdt4265/other/rbk/1_train-val_1min_aalesund_from_start/img1/000262.jpg: 928x1600 1 1, 1 18, 1 19, 1 20, 1 24, 1 25, 2.7ms\n",
      "Speed: 3.5ms preprocess, 2.7ms inference, 0.6ms postprocess per image at shape (1, 3, 928, 1600)\n",
      "\n",
      "image 1/1 /datasets/tdt4265/other/rbk/1_train-val_1min_aalesund_from_start/img1/000263.jpg: 928x1600 1 1, 1 18, 1 19, 1 20, 1 24, 1 25, 2.7ms\n",
      "Speed: 3.4ms preprocess, 2.7ms inference, 0.6ms postprocess per image at shape (1, 3, 928, 1600)\n",
      "\n",
      "image 1/1 /datasets/tdt4265/other/rbk/1_train-val_1min_aalesund_from_start/img1/000264.jpg: 928x1600 1 1, 1 18, 1 19, 1 20, 1 24, 1 25, 2.7ms\n",
      "Speed: 3.5ms preprocess, 2.7ms inference, 0.6ms postprocess per image at shape (1, 3, 928, 1600)\n",
      "\n",
      "image 1/1 /datasets/tdt4265/other/rbk/1_train-val_1min_aalesund_from_start/img1/000265.jpg: 928x1600 1 1, 1 18, 1 19, 1 20, 1 24, 1 25, 2.7ms\n",
      "Speed: 3.4ms preprocess, 2.7ms inference, 0.6ms postprocess per image at shape (1, 3, 928, 1600)\n",
      "\n",
      "image 1/1 /datasets/tdt4265/other/rbk/1_train-val_1min_aalesund_from_start/img1/000266.jpg: 928x1600 1 1, 1 18, 1 19, 1 20, 1 24, 1 25, 2.7ms\n",
      "Speed: 3.4ms preprocess, 2.7ms inference, 0.6ms postprocess per image at shape (1, 3, 928, 1600)\n",
      "\n",
      "image 1/1 /datasets/tdt4265/other/rbk/1_train-val_1min_aalesund_from_start/img1/000267.jpg: 928x1600 1 1, 1 18, 1 19, 1 20, 1 24, 1 25, 2.7ms\n",
      "Speed: 3.5ms preprocess, 2.7ms inference, 0.6ms postprocess per image at shape (1, 3, 928, 1600)\n",
      "\n",
      "image 1/1 /datasets/tdt4265/other/rbk/1_train-val_1min_aalesund_from_start/img1/000268.jpg: 928x1600 1 1, 1 18, 1 19, 1 20, 1 24, 1 25, 2.9ms\n",
      "Speed: 3.4ms preprocess, 2.9ms inference, 0.8ms postprocess per image at shape (1, 3, 928, 1600)\n",
      "\n",
      "image 1/1 /datasets/tdt4265/other/rbk/1_train-val_1min_aalesund_from_start/img1/000269.jpg: 928x1600 1 1, 1 18, 1 19, 1 20, 1 24, 1 25, 2.9ms\n",
      "Speed: 3.4ms preprocess, 2.9ms inference, 0.6ms postprocess per image at shape (1, 3, 928, 1600)\n",
      "\n",
      "image 1/1 /datasets/tdt4265/other/rbk/1_train-val_1min_aalesund_from_start/img1/000270.jpg: 928x1600 1 1, 1 18, 1 19, 1 20, 1 24, 1 25, 2.8ms\n",
      "Speed: 3.7ms preprocess, 2.8ms inference, 0.6ms postprocess per image at shape (1, 3, 928, 1600)\n",
      "\n",
      "image 1/1 /datasets/tdt4265/other/rbk/1_train-val_1min_aalesund_from_start/img1/000271.jpg: 928x1600 1 1, 1 18, 1 19, 1 20, 1 24, 1 25, 2.8ms\n",
      "Speed: 3.3ms preprocess, 2.8ms inference, 0.6ms postprocess per image at shape (1, 3, 928, 1600)\n",
      "\n",
      "image 1/1 /datasets/tdt4265/other/rbk/1_train-val_1min_aalesund_from_start/img1/000272.jpg: 928x1600 1 1, 1 18, 1 19, 1 20, 1 24, 1 25, 2.8ms\n",
      "Speed: 3.4ms preprocess, 2.8ms inference, 0.6ms postprocess per image at shape (1, 3, 928, 1600)\n",
      "\n",
      "image 1/1 /datasets/tdt4265/other/rbk/1_train-val_1min_aalesund_from_start/img1/000273.jpg: 928x1600 1 1, 1 18, 1 19, 1 20, 1 24, 1 25, 3.0ms\n",
      "Speed: 3.6ms preprocess, 3.0ms inference, 0.6ms postprocess per image at shape (1, 3, 928, 1600)\n",
      "\n",
      "image 1/1 /datasets/tdt4265/other/rbk/1_train-val_1min_aalesund_from_start/img1/000274.jpg: 928x1600 1 1, 1 18, 1 19, 1 20, 1 24, 1 25, 2.9ms\n",
      "Speed: 3.4ms preprocess, 2.9ms inference, 0.6ms postprocess per image at shape (1, 3, 928, 1600)\n",
      "\n",
      "image 1/1 /datasets/tdt4265/other/rbk/1_train-val_1min_aalesund_from_start/img1/000275.jpg: 928x1600 1 1, 1 18, 1 19, 1 20, 1 24, 1 25, 2.7ms\n",
      "Speed: 3.5ms preprocess, 2.7ms inference, 0.6ms postprocess per image at shape (1, 3, 928, 1600)\n",
      "\n",
      "image 1/1 /datasets/tdt4265/other/rbk/1_train-val_1min_aalesund_from_start/img1/000276.jpg: 928x1600 1 1, 1 18, 1 19, 1 20, 1 24, 1 25, 2.7ms\n",
      "Speed: 3.5ms preprocess, 2.7ms inference, 0.6ms postprocess per image at shape (1, 3, 928, 1600)\n",
      "\n",
      "image 1/1 /datasets/tdt4265/other/rbk/1_train-val_1min_aalesund_from_start/img1/000277.jpg: 928x1600 1 1, 1 18, 1 19, 1 20, 1 24, 1 25, 2.7ms\n",
      "Speed: 3.5ms preprocess, 2.7ms inference, 0.6ms postprocess per image at shape (1, 3, 928, 1600)\n",
      "\n",
      "image 1/1 /datasets/tdt4265/other/rbk/1_train-val_1min_aalesund_from_start/img1/000278.jpg: 928x1600 1 1, 1 18, 1 19, 1 20, 1 24, 1 25, 2.7ms\n",
      "Speed: 3.5ms preprocess, 2.7ms inference, 0.6ms postprocess per image at shape (1, 3, 928, 1600)\n",
      "\n",
      "image 1/1 /datasets/tdt4265/other/rbk/1_train-val_1min_aalesund_from_start/img1/000279.jpg: 928x1600 1 1, 1 18, 1 19, 1 20, 1 24, 1 25, 2.7ms\n",
      "Speed: 3.5ms preprocess, 2.7ms inference, 0.6ms postprocess per image at shape (1, 3, 928, 1600)\n",
      "\n",
      "image 1/1 /datasets/tdt4265/other/rbk/1_train-val_1min_aalesund_from_start/img1/000280.jpg: 928x1600 1 1, 1 18, 1 19, 1 20, 1 24, 1 25, 2.7ms\n",
      "Speed: 3.4ms preprocess, 2.7ms inference, 0.6ms postprocess per image at shape (1, 3, 928, 1600)\n",
      "\n",
      "image 1/1 /datasets/tdt4265/other/rbk/1_train-val_1min_aalesund_from_start/img1/000281.jpg: 928x1600 1 1, 1 18, 1 19, 1 20, 1 24, 1 25, 2.7ms\n",
      "Speed: 3.5ms preprocess, 2.7ms inference, 0.6ms postprocess per image at shape (1, 3, 928, 1600)\n",
      "\n",
      "image 1/1 /datasets/tdt4265/other/rbk/1_train-val_1min_aalesund_from_start/img1/000282.jpg: 928x1600 1 1, 1 18, 1 19, 1 20, 1 24, 1 25, 3.0ms\n",
      "Speed: 3.5ms preprocess, 3.0ms inference, 0.8ms postprocess per image at shape (1, 3, 928, 1600)\n",
      "\n",
      "image 1/1 /datasets/tdt4265/other/rbk/1_train-val_1min_aalesund_from_start/img1/000283.jpg: 928x1600 1 1, 1 18, 1 19, 1 20, 1 24, 1 25, 2.7ms\n",
      "Speed: 3.7ms preprocess, 2.7ms inference, 0.8ms postprocess per image at shape (1, 3, 928, 1600)\n",
      "\n",
      "image 1/1 /datasets/tdt4265/other/rbk/1_train-val_1min_aalesund_from_start/img1/000284.jpg: 928x1600 1 1, 1 18, 1 19, 1 20, 1 24, 1 25, 2.8ms\n",
      "Speed: 3.6ms preprocess, 2.8ms inference, 0.6ms postprocess per image at shape (1, 3, 928, 1600)\n",
      "\n",
      "image 1/1 /datasets/tdt4265/other/rbk/1_train-val_1min_aalesund_from_start/img1/000285.jpg: 928x1600 1 1, 1 18, 1 19, 1 20, 1 24, 1 25, 3.1ms\n",
      "Speed: 3.5ms preprocess, 3.1ms inference, 0.6ms postprocess per image at shape (1, 3, 928, 1600)\n",
      "\n",
      "image 1/1 /datasets/tdt4265/other/rbk/1_train-val_1min_aalesund_from_start/img1/000286.jpg: 928x1600 1 1, 1 18, 1 19, 1 20, 1 24, 1 25, 2.9ms\n",
      "Speed: 3.5ms preprocess, 2.9ms inference, 0.6ms postprocess per image at shape (1, 3, 928, 1600)\n",
      "\n",
      "image 1/1 /datasets/tdt4265/other/rbk/1_train-val_1min_aalesund_from_start/img1/000287.jpg: 928x1600 1 1, 1 18, 1 19, 1 20, 1 24, 1 25, 2.7ms\n",
      "Speed: 3.6ms preprocess, 2.7ms inference, 0.6ms postprocess per image at shape (1, 3, 928, 1600)\n",
      "\n",
      "image 1/1 /datasets/tdt4265/other/rbk/1_train-val_1min_aalesund_from_start/img1/000288.jpg: 928x1600 1 1, 1 18, 1 19, 1 20, 1 24, 1 25, 2.7ms\n",
      "Speed: 3.6ms preprocess, 2.7ms inference, 0.6ms postprocess per image at shape (1, 3, 928, 1600)\n",
      "\n",
      "image 1/1 /datasets/tdt4265/other/rbk/1_train-val_1min_aalesund_from_start/img1/000289.jpg: 928x1600 1 1, 1 18, 1 19, 1 20, 1 24, 1 25, 2.7ms\n",
      "Speed: 3.4ms preprocess, 2.7ms inference, 0.6ms postprocess per image at shape (1, 3, 928, 1600)\n",
      "\n",
      "image 1/1 /datasets/tdt4265/other/rbk/1_train-val_1min_aalesund_from_start/img1/000290.jpg: 928x1600 1 1, 1 18, 1 19, 1 20, 1 24, 1 25, 2.7ms\n",
      "Speed: 3.4ms preprocess, 2.7ms inference, 0.6ms postprocess per image at shape (1, 3, 928, 1600)\n",
      "\n",
      "image 1/1 /datasets/tdt4265/other/rbk/1_train-val_1min_aalesund_from_start/img1/000291.jpg: 928x1600 1 1, 1 18, 1 19, 1 20, 1 24, 1 25, 2.8ms\n",
      "Speed: 3.5ms preprocess, 2.8ms inference, 0.6ms postprocess per image at shape (1, 3, 928, 1600)\n",
      "\n",
      "image 1/1 /datasets/tdt4265/other/rbk/1_train-val_1min_aalesund_from_start/img1/000292.jpg: 928x1600 1 1, 1 18, 1 19, 1 20, 1 24, 1 25, 2.8ms\n",
      "Speed: 3.4ms preprocess, 2.8ms inference, 0.8ms postprocess per image at shape (1, 3, 928, 1600)\n",
      "\n",
      "image 1/1 /datasets/tdt4265/other/rbk/1_train-val_1min_aalesund_from_start/img1/000293.jpg: 928x1600 1 1, 1 18, 1 19, 1 20, 1 24, 1 25, 2.7ms\n",
      "Speed: 3.5ms preprocess, 2.7ms inference, 0.6ms postprocess per image at shape (1, 3, 928, 1600)\n",
      "\n",
      "image 1/1 /datasets/tdt4265/other/rbk/1_train-val_1min_aalesund_from_start/img1/000294.jpg: 928x1600 1 1, 1 18, 1 19, 1 20, 1 24, 1 25, 3.0ms\n",
      "Speed: 3.6ms preprocess, 3.0ms inference, 0.8ms postprocess per image at shape (1, 3, 928, 1600)\n",
      "\n",
      "image 1/1 /datasets/tdt4265/other/rbk/1_train-val_1min_aalesund_from_start/img1/000295.jpg: 928x1600 1 1, 1 18, 1 19, 1 20, 1 24, 1 25, 3.0ms\n",
      "Speed: 3.4ms preprocess, 3.0ms inference, 0.6ms postprocess per image at shape (1, 3, 928, 1600)\n",
      "\n",
      "image 1/1 /datasets/tdt4265/other/rbk/1_train-val_1min_aalesund_from_start/img1/000296.jpg: 928x1600 1 1, 1 18, 1 19, 1 20, 1 24, 1 25, 2.7ms\n",
      "Speed: 3.7ms preprocess, 2.7ms inference, 0.6ms postprocess per image at shape (1, 3, 928, 1600)\n",
      "\n",
      "image 1/1 /datasets/tdt4265/other/rbk/1_train-val_1min_aalesund_from_start/img1/000297.jpg: 928x1600 1 1, 1 18, 1 19, 1 20, 1 24, 1 25, 2.8ms\n",
      "Speed: 3.6ms preprocess, 2.8ms inference, 0.6ms postprocess per image at shape (1, 3, 928, 1600)\n",
      "\n",
      "image 1/1 /datasets/tdt4265/other/rbk/1_train-val_1min_aalesund_from_start/img1/000298.jpg: 928x1600 1 1, 1 18, 1 19, 1 20, 1 24, 1 25, 2.7ms\n",
      "Speed: 3.5ms preprocess, 2.7ms inference, 0.6ms postprocess per image at shape (1, 3, 928, 1600)\n",
      "\n",
      "image 1/1 /datasets/tdt4265/other/rbk/1_train-val_1min_aalesund_from_start/img1/000299.jpg: 928x1600 1 1, 1 18, 1 19, 1 20, 1 24, 1 25, 2.8ms\n",
      "Speed: 3.4ms preprocess, 2.8ms inference, 0.6ms postprocess per image at shape (1, 3, 928, 1600)\n",
      "\n",
      "image 1/1 /datasets/tdt4265/other/rbk/1_train-val_1min_aalesund_from_start/img1/000300.jpg: 928x1600 1 1, 1 18, 1 19, 1 20, 1 24, 1 25, 2.8ms\n",
      "Speed: 3.5ms preprocess, 2.8ms inference, 0.6ms postprocess per image at shape (1, 3, 928, 1600)\n",
      "\n",
      "image 1/1 /datasets/tdt4265/other/rbk/1_train-val_1min_aalesund_from_start/img1/000301.jpg: 928x1600 1 1, 1 18, 1 19, 1 20, 1 24, 1 25, 2.7ms\n",
      "Speed: 3.4ms preprocess, 2.7ms inference, 0.6ms postprocess per image at shape (1, 3, 928, 1600)\n",
      "\n",
      "image 1/1 /datasets/tdt4265/other/rbk/1_train-val_1min_aalesund_from_start/img1/000302.jpg: 928x1600 1 1, 1 18, 1 19, 1 20, 1 24, 1 25, 2.7ms\n",
      "Speed: 3.5ms preprocess, 2.7ms inference, 0.6ms postprocess per image at shape (1, 3, 928, 1600)\n",
      "\n",
      "image 1/1 /datasets/tdt4265/other/rbk/1_train-val_1min_aalesund_from_start/img1/000303.jpg: 928x1600 1 1, 1 18, 1 19, 1 20, 1 24, 1 25, 2.7ms\n",
      "Speed: 3.4ms preprocess, 2.7ms inference, 0.6ms postprocess per image at shape (1, 3, 928, 1600)\n",
      "\n",
      "image 1/1 /datasets/tdt4265/other/rbk/1_train-val_1min_aalesund_from_start/img1/000304.jpg: 928x1600 1 1, 1 18, 1 19, 1 20, 1 24, 1 25, 2.7ms\n",
      "Speed: 3.4ms preprocess, 2.7ms inference, 0.6ms postprocess per image at shape (1, 3, 928, 1600)\n",
      "\n",
      "image 1/1 /datasets/tdt4265/other/rbk/1_train-val_1min_aalesund_from_start/img1/000305.jpg: 928x1600 1 1, 1 18, 1 19, 1 20, 1 24, 1 25, 2.7ms\n",
      "Speed: 3.4ms preprocess, 2.7ms inference, 1.2ms postprocess per image at shape (1, 3, 928, 1600)\n",
      "\n",
      "image 1/1 /datasets/tdt4265/other/rbk/1_train-val_1min_aalesund_from_start/img1/000306.jpg: 928x1600 1 1, 1 18, 1 19, 1 20, 1 24, 1 25, 3.1ms\n",
      "Speed: 3.5ms preprocess, 3.1ms inference, 0.6ms postprocess per image at shape (1, 3, 928, 1600)\n",
      "\n",
      "image 1/1 /datasets/tdt4265/other/rbk/1_train-val_1min_aalesund_from_start/img1/000307.jpg: 928x1600 1 1, 1 18, 1 19, 1 20, 1 24, 1 25, 3.1ms\n",
      "Speed: 3.4ms preprocess, 3.1ms inference, 0.6ms postprocess per image at shape (1, 3, 928, 1600)\n",
      "\n",
      "image 1/1 /datasets/tdt4265/other/rbk/1_train-val_1min_aalesund_from_start/img1/000308.jpg: 928x1600 1 1, 1 18, 1 19, 1 20, 1 24, 1 25, 2.7ms\n",
      "Speed: 3.5ms preprocess, 2.7ms inference, 0.6ms postprocess per image at shape (1, 3, 928, 1600)\n",
      "\n",
      "image 1/1 /datasets/tdt4265/other/rbk/1_train-val_1min_aalesund_from_start/img1/000309.jpg: 928x1600 1 1, 1 18, 1 19, 1 20, 1 24, 1 25, 2.7ms\n",
      "Speed: 3.5ms preprocess, 2.7ms inference, 0.6ms postprocess per image at shape (1, 3, 928, 1600)\n",
      "\n",
      "image 1/1 /datasets/tdt4265/other/rbk/1_train-val_1min_aalesund_from_start/img1/000310.jpg: 928x1600 1 1, 1 18, 1 19, 1 20, 1 24, 1 25, 2.7ms\n",
      "Speed: 3.5ms preprocess, 2.7ms inference, 0.6ms postprocess per image at shape (1, 3, 928, 1600)\n",
      "\n",
      "image 1/1 /datasets/tdt4265/other/rbk/1_train-val_1min_aalesund_from_start/img1/000311.jpg: 928x1600 1 1, 1 18, 1 19, 1 20, 1 24, 1 25, 2.7ms\n",
      "Speed: 3.5ms preprocess, 2.7ms inference, 1.2ms postprocess per image at shape (1, 3, 928, 1600)\n",
      "\n",
      "image 1/1 /datasets/tdt4265/other/rbk/1_train-val_1min_aalesund_from_start/img1/000312.jpg: 928x1600 1 1, 1 18, 1 19, 1 20, 1 24, 1 25, 2.8ms\n",
      "Speed: 3.5ms preprocess, 2.8ms inference, 0.6ms postprocess per image at shape (1, 3, 928, 1600)\n",
      "\n",
      "image 1/1 /datasets/tdt4265/other/rbk/1_train-val_1min_aalesund_from_start/img1/000313.jpg: 928x1600 1 1, 1 18, 1 19, 1 20, 1 24, 1 25, 2.8ms\n",
      "Speed: 3.5ms preprocess, 2.8ms inference, 0.7ms postprocess per image at shape (1, 3, 928, 1600)\n",
      "\n",
      "image 1/1 /datasets/tdt4265/other/rbk/1_train-val_1min_aalesund_from_start/img1/000314.jpg: 928x1600 1 1, 1 18, 1 19, 1 20, 1 24, 1 25, 2.9ms\n",
      "Speed: 3.5ms preprocess, 2.9ms inference, 0.6ms postprocess per image at shape (1, 3, 928, 1600)\n",
      "\n",
      "image 1/1 /datasets/tdt4265/other/rbk/1_train-val_1min_aalesund_from_start/img1/000315.jpg: 928x1600 1 1, 1 18, 1 19, 1 20, 1 24, 1 25, 2.7ms\n",
      "Speed: 3.5ms preprocess, 2.7ms inference, 0.6ms postprocess per image at shape (1, 3, 928, 1600)\n",
      "\n",
      "image 1/1 /datasets/tdt4265/other/rbk/1_train-val_1min_aalesund_from_start/img1/000316.jpg: 928x1600 1 1, 1 18, 1 19, 1 20, 1 24, 1 25, 2.7ms\n",
      "Speed: 3.4ms preprocess, 2.7ms inference, 0.6ms postprocess per image at shape (1, 3, 928, 1600)\n",
      "\n",
      "image 1/1 /datasets/tdt4265/other/rbk/1_train-val_1min_aalesund_from_start/img1/000317.jpg: 928x1600 1 1, 1 18, 1 19, 1 20, 1 24, 1 25, 2.8ms\n",
      "Speed: 3.4ms preprocess, 2.8ms inference, 0.8ms postprocess per image at shape (1, 3, 928, 1600)\n",
      "\n",
      "image 1/1 /datasets/tdt4265/other/rbk/1_train-val_1min_aalesund_from_start/img1/000318.jpg: 928x1600 1 1, 1 18, 1 19, 1 20, 1 24, 1 25, 2.8ms\n",
      "Speed: 3.5ms preprocess, 2.8ms inference, 0.8ms postprocess per image at shape (1, 3, 928, 1600)\n",
      "\n",
      "image 1/1 /datasets/tdt4265/other/rbk/1_train-val_1min_aalesund_from_start/img1/000319.jpg: 928x1600 1 1, 1 18, 1 19, 1 20, 1 24, 1 25, 2.9ms\n",
      "Speed: 3.5ms preprocess, 2.9ms inference, 0.6ms postprocess per image at shape (1, 3, 928, 1600)\n",
      "\n",
      "image 1/1 /datasets/tdt4265/other/rbk/1_train-val_1min_aalesund_from_start/img1/000320.jpg: 928x1600 1 1, 1 18, 1 19, 1 20, 1 24, 1 25, 2.7ms\n",
      "Speed: 3.6ms preprocess, 2.7ms inference, 0.6ms postprocess per image at shape (1, 3, 928, 1600)\n",
      "\n",
      "image 1/1 /datasets/tdt4265/other/rbk/1_train-val_1min_aalesund_from_start/img1/000321.jpg: 928x1600 1 1, 1 18, 1 19, 1 20, 1 24, 1 25, 2.8ms\n",
      "Speed: 3.5ms preprocess, 2.8ms inference, 0.6ms postprocess per image at shape (1, 3, 928, 1600)\n",
      "\n",
      "image 1/1 /datasets/tdt4265/other/rbk/1_train-val_1min_aalesund_from_start/img1/000322.jpg: 928x1600 1 1, 1 18, 1 19, 1 20, 1 24, 1 25, 2.9ms\n",
      "Speed: 3.5ms preprocess, 2.9ms inference, 0.8ms postprocess per image at shape (1, 3, 928, 1600)\n",
      "\n",
      "image 1/1 /datasets/tdt4265/other/rbk/1_train-val_1min_aalesund_from_start/img1/000323.jpg: 928x1600 1 1, 1 18, 1 19, 1 20, 1 24, 1 25, 2.8ms\n",
      "Speed: 3.4ms preprocess, 2.8ms inference, 0.8ms postprocess per image at shape (1, 3, 928, 1600)\n",
      "\n",
      "image 1/1 /datasets/tdt4265/other/rbk/1_train-val_1min_aalesund_from_start/img1/000324.jpg: 928x1600 1 1, 1 18, 1 19, 1 20, 1 24, 1 25, 3.0ms\n",
      "Speed: 3.5ms preprocess, 3.0ms inference, 0.6ms postprocess per image at shape (1, 3, 928, 1600)\n",
      "\n",
      "image 1/1 /datasets/tdt4265/other/rbk/1_train-val_1min_aalesund_from_start/img1/000325.jpg: 928x1600 1 1, 1 18, 1 19, 1 20, 1 24, 1 25, 2.8ms\n",
      "Speed: 3.6ms preprocess, 2.8ms inference, 0.6ms postprocess per image at shape (1, 3, 928, 1600)\n",
      "\n",
      "image 1/1 /datasets/tdt4265/other/rbk/1_train-val_1min_aalesund_from_start/img1/000326.jpg: 928x1600 1 1, 1 18, 1 19, 1 20, 1 24, 1 25, 2.7ms\n",
      "Speed: 3.4ms preprocess, 2.7ms inference, 0.6ms postprocess per image at shape (1, 3, 928, 1600)\n",
      "\n",
      "image 1/1 /datasets/tdt4265/other/rbk/1_train-val_1min_aalesund_from_start/img1/000327.jpg: 928x1600 1 1, 1 18, 1 19, 1 20, 1 24, 1 25, 2.9ms\n",
      "Speed: 3.5ms preprocess, 2.9ms inference, 0.6ms postprocess per image at shape (1, 3, 928, 1600)\n",
      "\n",
      "image 1/1 /datasets/tdt4265/other/rbk/1_train-val_1min_aalesund_from_start/img1/000328.jpg: 928x1600 1 1, 1 18, 1 19, 1 20, 1 24, 1 25, 3.1ms\n",
      "Speed: 3.5ms preprocess, 3.1ms inference, 0.7ms postprocess per image at shape (1, 3, 928, 1600)\n",
      "\n",
      "image 1/1 /datasets/tdt4265/other/rbk/1_train-val_1min_aalesund_from_start/img1/000329.jpg: 928x1600 1 1, 1 18, 1 19, 1 20, 1 24, 1 25, 2.8ms\n",
      "Speed: 3.4ms preprocess, 2.8ms inference, 0.6ms postprocess per image at shape (1, 3, 928, 1600)\n",
      "\n",
      "image 1/1 /datasets/tdt4265/other/rbk/1_train-val_1min_aalesund_from_start/img1/000330.jpg: 928x1600 1 1, 1 18, 1 19, 1 20, 1 24, 1 25, 2.9ms\n",
      "Speed: 3.4ms preprocess, 2.9ms inference, 0.6ms postprocess per image at shape (1, 3, 928, 1600)\n",
      "\n",
      "image 1/1 /datasets/tdt4265/other/rbk/1_train-val_1min_aalesund_from_start/img1/000331.jpg: 928x1600 1 1, 1 18, 1 19, 1 20, 1 24, 1 25, 3.1ms\n",
      "Speed: 3.6ms preprocess, 3.1ms inference, 0.8ms postprocess per image at shape (1, 3, 928, 1600)\n",
      "\n",
      "image 1/1 /datasets/tdt4265/other/rbk/1_train-val_1min_aalesund_from_start/img1/000332.jpg: 928x1600 1 1, 1 18, 1 19, 1 20, 1 24, 1 25, 2.9ms\n",
      "Speed: 3.5ms preprocess, 2.9ms inference, 0.6ms postprocess per image at shape (1, 3, 928, 1600)\n",
      "\n",
      "image 1/1 /datasets/tdt4265/other/rbk/1_train-val_1min_aalesund_from_start/img1/000333.jpg: 928x1600 1 1, 1 18, 1 19, 1 20, 1 24, 1 25, 2.7ms\n",
      "Speed: 3.4ms preprocess, 2.7ms inference, 0.6ms postprocess per image at shape (1, 3, 928, 1600)\n",
      "\n",
      "image 1/1 /datasets/tdt4265/other/rbk/1_train-val_1min_aalesund_from_start/img1/000334.jpg: 928x1600 1 1, 1 18, 1 19, 1 20, 1 24, 1 25, 2.7ms\n",
      "Speed: 3.4ms preprocess, 2.7ms inference, 0.6ms postprocess per image at shape (1, 3, 928, 1600)\n",
      "\n",
      "image 1/1 /datasets/tdt4265/other/rbk/1_train-val_1min_aalesund_from_start/img1/000335.jpg: 928x1600 1 1, 1 18, 1 19, 1 20, 1 24, 1 25, 2.8ms\n",
      "Speed: 3.6ms preprocess, 2.8ms inference, 0.6ms postprocess per image at shape (1, 3, 928, 1600)\n",
      "\n",
      "image 1/1 /datasets/tdt4265/other/rbk/1_train-val_1min_aalesund_from_start/img1/000336.jpg: 928x1600 1 1, 1 18, 1 19, 1 20, 1 24, 1 25, 3.1ms\n",
      "Speed: 3.5ms preprocess, 3.1ms inference, 0.6ms postprocess per image at shape (1, 3, 928, 1600)\n",
      "\n",
      "image 1/1 /datasets/tdt4265/other/rbk/1_train-val_1min_aalesund_from_start/img1/000337.jpg: 928x1600 1 1, 1 18, 1 19, 1 20, 1 24, 1 25, 2.7ms\n",
      "Speed: 3.4ms preprocess, 2.7ms inference, 0.6ms postprocess per image at shape (1, 3, 928, 1600)\n",
      "\n",
      "image 1/1 /datasets/tdt4265/other/rbk/1_train-val_1min_aalesund_from_start/img1/000338.jpg: 928x1600 1 1, 1 18, 1 19, 1 20, 1 24, 1 25, 3.0ms\n",
      "Speed: 3.4ms preprocess, 3.0ms inference, 0.6ms postprocess per image at shape (1, 3, 928, 1600)\n",
      "\n",
      "image 1/1 /datasets/tdt4265/other/rbk/1_train-val_1min_aalesund_from_start/img1/000339.jpg: 928x1600 1 1, 1 18, 1 19, 1 20, 1 24, 1 25, 2.7ms\n",
      "Speed: 3.6ms preprocess, 2.7ms inference, 0.6ms postprocess per image at shape (1, 3, 928, 1600)\n",
      "\n",
      "image 1/1 /datasets/tdt4265/other/rbk/1_train-val_1min_aalesund_from_start/img1/000340.jpg: 928x1600 1 1, 1 18, 1 19, 1 20, 1 24, 1 25, 2.8ms\n",
      "Speed: 3.5ms preprocess, 2.8ms inference, 0.6ms postprocess per image at shape (1, 3, 928, 1600)\n",
      "\n",
      "image 1/1 /datasets/tdt4265/other/rbk/1_train-val_1min_aalesund_from_start/img1/000341.jpg: 928x1600 1 1, 1 18, 1 19, 1 20, 1 24, 1 25, 2.7ms\n",
      "Speed: 3.5ms preprocess, 2.7ms inference, 0.6ms postprocess per image at shape (1, 3, 928, 1600)\n",
      "\n",
      "image 1/1 /datasets/tdt4265/other/rbk/1_train-val_1min_aalesund_from_start/img1/000342.jpg: 928x1600 1 1, 1 18, 1 19, 1 20, 1 24, 1 25, 2.9ms\n",
      "Speed: 3.4ms preprocess, 2.9ms inference, 0.8ms postprocess per image at shape (1, 3, 928, 1600)\n",
      "\n",
      "image 1/1 /datasets/tdt4265/other/rbk/1_train-val_1min_aalesund_from_start/img1/000343.jpg: 928x1600 1 1, 1 18, 1 19, 1 20, 1 24, 1 25, 2.8ms\n",
      "Speed: 3.5ms preprocess, 2.8ms inference, 0.6ms postprocess per image at shape (1, 3, 928, 1600)\n",
      "\n",
      "image 1/1 /datasets/tdt4265/other/rbk/1_train-val_1min_aalesund_from_start/img1/000344.jpg: 928x1600 1 1, 1 18, 1 19, 1 20, 1 24, 1 25, 2.7ms\n",
      "Speed: 3.5ms preprocess, 2.7ms inference, 0.6ms postprocess per image at shape (1, 3, 928, 1600)\n",
      "\n",
      "image 1/1 /datasets/tdt4265/other/rbk/1_train-val_1min_aalesund_from_start/img1/000345.jpg: 928x1600 1 1, 1 18, 1 19, 1 20, 1 24, 1 25, 2.7ms\n",
      "Speed: 3.5ms preprocess, 2.7ms inference, 0.6ms postprocess per image at shape (1, 3, 928, 1600)\n",
      "\n",
      "image 1/1 /datasets/tdt4265/other/rbk/1_train-val_1min_aalesund_from_start/img1/000346.jpg: 928x1600 1 1, 1 18, 1 19, 1 20, 1 24, 1 25, 2.7ms\n",
      "Speed: 3.4ms preprocess, 2.7ms inference, 0.7ms postprocess per image at shape (1, 3, 928, 1600)\n",
      "\n",
      "image 1/1 /datasets/tdt4265/other/rbk/1_train-val_1min_aalesund_from_start/img1/000347.jpg: 928x1600 1 1, 1 18, 1 19, 1 20, 1 24, 1 25, 2.7ms\n",
      "Speed: 3.5ms preprocess, 2.7ms inference, 0.6ms postprocess per image at shape (1, 3, 928, 1600)\n",
      "\n",
      "image 1/1 /datasets/tdt4265/other/rbk/1_train-val_1min_aalesund_from_start/img1/000348.jpg: 928x1600 1 1, 1 18, 1 19, 1 20, 1 24, 1 25, 2.8ms\n",
      "Speed: 3.6ms preprocess, 2.8ms inference, 0.6ms postprocess per image at shape (1, 3, 928, 1600)\n",
      "\n",
      "image 1/1 /datasets/tdt4265/other/rbk/1_train-val_1min_aalesund_from_start/img1/000349.jpg: 928x1600 1 1, 1 18, 1 19, 1 20, 1 24, 1 25, 2.7ms\n",
      "Speed: 3.4ms preprocess, 2.7ms inference, 0.6ms postprocess per image at shape (1, 3, 928, 1600)\n",
      "\n",
      "image 1/1 /datasets/tdt4265/other/rbk/1_train-val_1min_aalesund_from_start/img1/000350.jpg: 928x1600 1 1, 1 18, 1 19, 1 20, 1 24, 1 25, 2.7ms\n",
      "Speed: 3.4ms preprocess, 2.7ms inference, 0.6ms postprocess per image at shape (1, 3, 928, 1600)\n",
      "\n",
      "image 1/1 /datasets/tdt4265/other/rbk/1_train-val_1min_aalesund_from_start/img1/000351.jpg: 928x1600 1 1, 1 18, 1 19, 1 20, 1 24, 1 25, 2.7ms\n",
      "Speed: 3.6ms preprocess, 2.7ms inference, 0.7ms postprocess per image at shape (1, 3, 928, 1600)\n",
      "\n",
      "image 1/1 /datasets/tdt4265/other/rbk/1_train-val_1min_aalesund_from_start/img1/000352.jpg: 928x1600 1 1, 1 18, 1 19, 1 20, 1 24, 1 25, 2.8ms\n",
      "Speed: 3.5ms preprocess, 2.8ms inference, 0.6ms postprocess per image at shape (1, 3, 928, 1600)\n",
      "\n",
      "image 1/1 /datasets/tdt4265/other/rbk/1_train-val_1min_aalesund_from_start/img1/000353.jpg: 928x1600 1 1, 1 18, 1 19, 1 20, 1 24, 1 25, 2.7ms\n",
      "Speed: 3.4ms preprocess, 2.7ms inference, 0.6ms postprocess per image at shape (1, 3, 928, 1600)\n",
      "\n",
      "image 1/1 /datasets/tdt4265/other/rbk/1_train-val_1min_aalesund_from_start/img1/000354.jpg: 928x1600 1 1, 1 18, 1 19, 1 20, 1 24, 1 25, 2.8ms\n",
      "Speed: 3.5ms preprocess, 2.8ms inference, 0.6ms postprocess per image at shape (1, 3, 928, 1600)\n",
      "\n",
      "image 1/1 /datasets/tdt4265/other/rbk/1_train-val_1min_aalesund_from_start/img1/000355.jpg: 928x1600 1 1, 1 18, 1 19, 1 20, 1 24, 1 25, 2.7ms\n",
      "Speed: 3.4ms preprocess, 2.7ms inference, 0.6ms postprocess per image at shape (1, 3, 928, 1600)\n",
      "\n",
      "image 1/1 /datasets/tdt4265/other/rbk/1_train-val_1min_aalesund_from_start/img1/000356.jpg: 928x1600 1 1, 1 18, 1 19, 1 20, 1 24, 1 25, 2.8ms\n",
      "Speed: 3.4ms preprocess, 2.8ms inference, 0.6ms postprocess per image at shape (1, 3, 928, 1600)\n",
      "\n",
      "image 1/1 /datasets/tdt4265/other/rbk/1_train-val_1min_aalesund_from_start/img1/000357.jpg: 928x1600 1 1, 1 18, 1 19, 1 20, 1 24, 1 25, 2.7ms\n",
      "Speed: 3.5ms preprocess, 2.7ms inference, 0.6ms postprocess per image at shape (1, 3, 928, 1600)\n",
      "\n",
      "image 1/1 /datasets/tdt4265/other/rbk/1_train-val_1min_aalesund_from_start/img1/000358.jpg: 928x1600 1 1, 1 18, 1 19, 1 20, 1 24, 1 25, 2.8ms\n",
      "Speed: 3.4ms preprocess, 2.8ms inference, 0.8ms postprocess per image at shape (1, 3, 928, 1600)\n",
      "\n",
      "image 1/1 /datasets/tdt4265/other/rbk/1_train-val_1min_aalesund_from_start/img1/000359.jpg: 928x1600 1 1, 1 18, 1 19, 1 20, 1 24, 1 25, 2.7ms\n",
      "Speed: 3.4ms preprocess, 2.7ms inference, 0.6ms postprocess per image at shape (1, 3, 928, 1600)\n",
      "\n",
      "image 1/1 /datasets/tdt4265/other/rbk/1_train-val_1min_aalesund_from_start/img1/000360.jpg: 928x1600 1 1, 1 18, 1 19, 1 20, 1 24, 1 25, 2.8ms\n",
      "Speed: 3.5ms preprocess, 2.8ms inference, 0.6ms postprocess per image at shape (1, 3, 928, 1600)\n",
      "\n",
      "image 1/1 /datasets/tdt4265/other/rbk/1_train-val_1min_aalesund_from_start/img1/000361.jpg: 928x1600 1 1, 1 18, 1 19, 1 20, 1 24, 1 25, 2.7ms\n",
      "Speed: 3.5ms preprocess, 2.7ms inference, 0.6ms postprocess per image at shape (1, 3, 928, 1600)\n",
      "\n",
      "image 1/1 /datasets/tdt4265/other/rbk/1_train-val_1min_aalesund_from_start/img1/000362.jpg: 928x1600 1 1, 1 18, 1 19, 1 20, 1 24, 1 25, 2.7ms\n",
      "Speed: 3.4ms preprocess, 2.7ms inference, 1.2ms postprocess per image at shape (1, 3, 928, 1600)\n",
      "\n",
      "image 1/1 /datasets/tdt4265/other/rbk/1_train-val_1min_aalesund_from_start/img1/000363.jpg: 928x1600 1 1, 1 18, 1 19, 1 20, 1 24, 1 25, 2.7ms\n",
      "Speed: 3.4ms preprocess, 2.7ms inference, 0.7ms postprocess per image at shape (1, 3, 928, 1600)\n",
      "\n",
      "image 1/1 /datasets/tdt4265/other/rbk/1_train-val_1min_aalesund_from_start/img1/000364.jpg: 928x1600 1 1, 1 18, 1 19, 1 20, 1 24, 1 25, 2.9ms\n",
      "Speed: 3.4ms preprocess, 2.9ms inference, 0.6ms postprocess per image at shape (1, 3, 928, 1600)\n",
      "\n",
      "image 1/1 /datasets/tdt4265/other/rbk/1_train-val_1min_aalesund_from_start/img1/000365.jpg: 928x1600 1 1, 1 18, 1 19, 1 20, 1 24, 1 25, 2.8ms\n",
      "Speed: 3.5ms preprocess, 2.8ms inference, 0.6ms postprocess per image at shape (1, 3, 928, 1600)\n",
      "\n",
      "image 1/1 /datasets/tdt4265/other/rbk/1_train-val_1min_aalesund_from_start/img1/000366.jpg: 928x1600 1 1, 1 18, 1 19, 1 20, 1 24, 1 25, 2.7ms\n",
      "Speed: 3.5ms preprocess, 2.7ms inference, 0.6ms postprocess per image at shape (1, 3, 928, 1600)\n",
      "\n",
      "image 1/1 /datasets/tdt4265/other/rbk/1_train-val_1min_aalesund_from_start/img1/000367.jpg: 928x1600 1 1, 1 18, 1 19, 1 20, 1 24, 1 25, 2.7ms\n",
      "Speed: 3.3ms preprocess, 2.7ms inference, 1.2ms postprocess per image at shape (1, 3, 928, 1600)\n",
      "\n",
      "image 1/1 /datasets/tdt4265/other/rbk/1_train-val_1min_aalesund_from_start/img1/000368.jpg: 928x1600 1 1, 1 18, 1 19, 1 20, 1 24, 1 25, 2.8ms\n",
      "Speed: 3.5ms preprocess, 2.8ms inference, 0.8ms postprocess per image at shape (1, 3, 928, 1600)\n",
      "\n",
      "image 1/1 /datasets/tdt4265/other/rbk/1_train-val_1min_aalesund_from_start/img1/000369.jpg: 928x1600 1 1, 1 18, 1 19, 1 20, 1 24, 1 25, 2.8ms\n",
      "Speed: 3.6ms preprocess, 2.8ms inference, 0.6ms postprocess per image at shape (1, 3, 928, 1600)\n",
      "\n",
      "image 1/1 /datasets/tdt4265/other/rbk/1_train-val_1min_aalesund_from_start/img1/000370.jpg: 928x1600 1 1, 1 18, 1 19, 1 20, 1 24, 1 25, 3.1ms\n",
      "Speed: 3.3ms preprocess, 3.1ms inference, 0.6ms postprocess per image at shape (1, 3, 928, 1600)\n",
      "\n",
      "image 1/1 /datasets/tdt4265/other/rbk/1_train-val_1min_aalesund_from_start/img1/000371.jpg: 928x1600 1 1, 1 18, 1 19, 1 20, 1 24, 1 25, 2.8ms\n",
      "Speed: 3.4ms preprocess, 2.8ms inference, 0.6ms postprocess per image at shape (1, 3, 928, 1600)\n",
      "\n",
      "image 1/1 /datasets/tdt4265/other/rbk/1_train-val_1min_aalesund_from_start/img1/000372.jpg: 928x1600 1 1, 1 18, 1 19, 1 20, 1 24, 1 25, 2.8ms\n",
      "Speed: 3.5ms preprocess, 2.8ms inference, 0.6ms postprocess per image at shape (1, 3, 928, 1600)\n",
      "\n",
      "image 1/1 /datasets/tdt4265/other/rbk/1_train-val_1min_aalesund_from_start/img1/000373.jpg: 928x1600 1 1, 1 18, 1 19, 1 20, 1 24, 1 25, 2.8ms\n",
      "Speed: 3.4ms preprocess, 2.8ms inference, 0.6ms postprocess per image at shape (1, 3, 928, 1600)\n",
      "\n",
      "image 1/1 /datasets/tdt4265/other/rbk/1_train-val_1min_aalesund_from_start/img1/000374.jpg: 928x1600 1 1, 1 18, 1 19, 1 20, 1 24, 1 25, 2.9ms\n",
      "Speed: 3.3ms preprocess, 2.9ms inference, 0.9ms postprocess per image at shape (1, 3, 928, 1600)\n",
      "\n",
      "image 1/1 /datasets/tdt4265/other/rbk/1_train-val_1min_aalesund_from_start/img1/000375.jpg: 928x1600 1 1, 1 18, 1 19, 1 20, 1 24, 1 25, 2.8ms\n",
      "Speed: 3.7ms preprocess, 2.8ms inference, 0.6ms postprocess per image at shape (1, 3, 928, 1600)\n",
      "\n",
      "image 1/1 /datasets/tdt4265/other/rbk/1_train-val_1min_aalesund_from_start/img1/000376.jpg: 928x1600 1 1, 1 18, 1 19, 1 20, 1 24, 1 25, 2.7ms\n",
      "Speed: 3.3ms preprocess, 2.7ms inference, 0.6ms postprocess per image at shape (1, 3, 928, 1600)\n",
      "\n",
      "image 1/1 /datasets/tdt4265/other/rbk/1_train-val_1min_aalesund_from_start/img1/000377.jpg: 928x1600 1 1, 1 18, 1 19, 1 20, 1 24, 1 25, 2.8ms\n",
      "Speed: 3.4ms preprocess, 2.8ms inference, 0.6ms postprocess per image at shape (1, 3, 928, 1600)\n",
      "\n",
      "image 1/1 /datasets/tdt4265/other/rbk/1_train-val_1min_aalesund_from_start/img1/000378.jpg: 928x1600 1 1, 1 18, 1 19, 1 20, 1 24, 1 25, 2.7ms\n",
      "Speed: 3.5ms preprocess, 2.7ms inference, 0.6ms postprocess per image at shape (1, 3, 928, 1600)\n",
      "\n",
      "image 1/1 /datasets/tdt4265/other/rbk/1_train-val_1min_aalesund_from_start/img1/000379.jpg: 928x1600 1 1, 1 18, 1 19, 1 20, 1 24, 1 25, 2.7ms\n",
      "Speed: 3.4ms preprocess, 2.7ms inference, 0.6ms postprocess per image at shape (1, 3, 928, 1600)\n",
      "\n",
      "image 1/1 /datasets/tdt4265/other/rbk/1_train-val_1min_aalesund_from_start/img1/000380.jpg: 928x1600 1 1, 1 18, 1 19, 1 20, 1 24, 1 25, 2.8ms\n",
      "Speed: 3.4ms preprocess, 2.8ms inference, 0.6ms postprocess per image at shape (1, 3, 928, 1600)\n",
      "\n",
      "image 1/1 /datasets/tdt4265/other/rbk/1_train-val_1min_aalesund_from_start/img1/000381.jpg: 928x1600 1 1, 1 18, 1 19, 1 20, 1 24, 1 25, 2.7ms\n",
      "Speed: 3.5ms preprocess, 2.7ms inference, 0.6ms postprocess per image at shape (1, 3, 928, 1600)\n",
      "\n",
      "image 1/1 /datasets/tdt4265/other/rbk/1_train-val_1min_aalesund_from_start/img1/000382.jpg: 928x1600 1 1, 1 18, 1 19, 1 20, 1 24, 1 25, 2.8ms\n",
      "Speed: 3.4ms preprocess, 2.8ms inference, 0.6ms postprocess per image at shape (1, 3, 928, 1600)\n",
      "\n",
      "image 1/1 /datasets/tdt4265/other/rbk/1_train-val_1min_aalesund_from_start/img1/000383.jpg: 928x1600 1 1, 1 18, 1 19, 1 20, 1 24, 1 25, 2.7ms\n",
      "Speed: 3.5ms preprocess, 2.7ms inference, 0.6ms postprocess per image at shape (1, 3, 928, 1600)\n",
      "\n",
      "image 1/1 /datasets/tdt4265/other/rbk/1_train-val_1min_aalesund_from_start/img1/000384.jpg: 928x1600 1 1, 1 18, 1 19, 1 20, 1 24, 1 25, 2.7ms\n",
      "Speed: 3.6ms preprocess, 2.7ms inference, 0.6ms postprocess per image at shape (1, 3, 928, 1600)\n",
      "\n",
      "image 1/1 /datasets/tdt4265/other/rbk/1_train-val_1min_aalesund_from_start/img1/000385.jpg: 928x1600 1 1, 1 18, 1 19, 1 20, 1 24, 1 25, 2.7ms\n",
      "Speed: 3.3ms preprocess, 2.7ms inference, 0.6ms postprocess per image at shape (1, 3, 928, 1600)\n",
      "\n",
      "image 1/1 /datasets/tdt4265/other/rbk/1_train-val_1min_aalesund_from_start/img1/000386.jpg: 928x1600 1 1, 1 18, 1 19, 1 20, 1 24, 1 25, 2.9ms\n",
      "Speed: 3.4ms preprocess, 2.9ms inference, 0.8ms postprocess per image at shape (1, 3, 928, 1600)\n",
      "\n",
      "image 1/1 /datasets/tdt4265/other/rbk/1_train-val_1min_aalesund_from_start/img1/000387.jpg: 928x1600 1 1, 1 18, 1 19, 1 20, 1 24, 1 25, 2.8ms\n",
      "Speed: 3.5ms preprocess, 2.8ms inference, 0.6ms postprocess per image at shape (1, 3, 928, 1600)\n",
      "\n",
      "image 1/1 /datasets/tdt4265/other/rbk/1_train-val_1min_aalesund_from_start/img1/000388.jpg: 928x1600 1 1, 1 18, 1 19, 1 20, 1 24, 1 25, 2.8ms\n",
      "Speed: 3.6ms preprocess, 2.8ms inference, 0.6ms postprocess per image at shape (1, 3, 928, 1600)\n",
      "\n",
      "image 1/1 /datasets/tdt4265/other/rbk/1_train-val_1min_aalesund_from_start/img1/000389.jpg: 928x1600 1 1, 1 18, 1 19, 1 20, 1 24, 1 25, 2.9ms\n",
      "Speed: 3.3ms preprocess, 2.9ms inference, 0.6ms postprocess per image at shape (1, 3, 928, 1600)\n",
      "\n",
      "image 1/1 /datasets/tdt4265/other/rbk/1_train-val_1min_aalesund_from_start/img1/000390.jpg: 928x1600 1 0, 1 1, 1 18, 1 19, 1 20, 2 25s, 2.8ms\n",
      "Speed: 3.4ms preprocess, 2.8ms inference, 0.6ms postprocess per image at shape (1, 3, 928, 1600)\n",
      "\n",
      "image 1/1 /datasets/tdt4265/other/rbk/1_train-val_1min_aalesund_from_start/img1/000391.jpg: 928x1600 1 0, 1 1, 1 18, 1 19, 1 20, 2 25s, 2.8ms\n",
      "Speed: 3.4ms preprocess, 2.8ms inference, 0.6ms postprocess per image at shape (1, 3, 928, 1600)\n",
      "\n",
      "image 1/1 /datasets/tdt4265/other/rbk/1_train-val_1min_aalesund_from_start/img1/000392.jpg: 928x1600 1 0, 1 1, 1 18, 1 19, 1 20, 2 25s, 2.8ms\n",
      "Speed: 3.4ms preprocess, 2.8ms inference, 0.6ms postprocess per image at shape (1, 3, 928, 1600)\n",
      "\n",
      "image 1/1 /datasets/tdt4265/other/rbk/1_train-val_1min_aalesund_from_start/img1/000393.jpg: 928x1600 1 0, 1 1, 1 18, 1 19, 1 20, 2 25s, 2.8ms\n",
      "Speed: 3.5ms preprocess, 2.8ms inference, 0.6ms postprocess per image at shape (1, 3, 928, 1600)\n",
      "\n",
      "image 1/1 /datasets/tdt4265/other/rbk/1_train-val_1min_aalesund_from_start/img1/000394.jpg: 928x1600 1 0, 1 1, 1 18, 1 19, 1 20, 2 25s, 2.8ms\n",
      "Speed: 3.4ms preprocess, 2.8ms inference, 0.6ms postprocess per image at shape (1, 3, 928, 1600)\n",
      "\n",
      "image 1/1 /datasets/tdt4265/other/rbk/1_train-val_1min_aalesund_from_start/img1/000395.jpg: 928x1600 1 0, 1 1, 1 18, 1 19, 1 20, 2 25s, 2.8ms\n",
      "Speed: 3.4ms preprocess, 2.8ms inference, 0.7ms postprocess per image at shape (1, 3, 928, 1600)\n",
      "\n",
      "image 1/1 /datasets/tdt4265/other/rbk/1_train-val_1min_aalesund_from_start/img1/000396.jpg: 928x1600 1 0, 1 1, 1 18, 1 19, 1 20, 2 25s, 2.7ms\n",
      "Speed: 3.5ms preprocess, 2.7ms inference, 0.6ms postprocess per image at shape (1, 3, 928, 1600)\n",
      "\n",
      "image 1/1 /datasets/tdt4265/other/rbk/1_train-val_1min_aalesund_from_start/img1/000397.jpg: 928x1600 1 0, 1 1, 1 18, 1 19, 1 20, 2 25s, 2.7ms\n",
      "Speed: 3.4ms preprocess, 2.7ms inference, 0.6ms postprocess per image at shape (1, 3, 928, 1600)\n",
      "\n",
      "image 1/1 /datasets/tdt4265/other/rbk/1_train-val_1min_aalesund_from_start/img1/000398.jpg: 928x1600 1 0, 1 1, 1 18, 1 19, 1 20, 2 25s, 2.7ms\n",
      "Speed: 3.4ms preprocess, 2.7ms inference, 1.1ms postprocess per image at shape (1, 3, 928, 1600)\n",
      "\n",
      "image 1/1 /datasets/tdt4265/other/rbk/1_train-val_1min_aalesund_from_start/img1/000399.jpg: 928x1600 1 0, 1 1, 1 18, 1 19, 1 20, 2 25s, 2.8ms\n",
      "Speed: 3.6ms preprocess, 2.8ms inference, 0.6ms postprocess per image at shape (1, 3, 928, 1600)\n",
      "\n",
      "image 1/1 /datasets/tdt4265/other/rbk/1_train-val_1min_aalesund_from_start/img1/000400.jpg: 928x1600 1 0, 1 1, 1 18, 1 19, 1 20, 2 25s, 2.8ms\n",
      "Speed: 3.4ms preprocess, 2.8ms inference, 0.6ms postprocess per image at shape (1, 3, 928, 1600)\n",
      "\n",
      "image 1/1 /datasets/tdt4265/other/rbk/1_train-val_1min_aalesund_from_start/img1/000401.jpg: 928x1600 1 0, 1 1, 1 18, 1 19, 1 20, 2 25s, 2.7ms\n",
      "Speed: 3.4ms preprocess, 2.7ms inference, 0.6ms postprocess per image at shape (1, 3, 928, 1600)\n",
      "\n",
      "image 1/1 /datasets/tdt4265/other/rbk/1_train-val_1min_aalesund_from_start/img1/000402.jpg: 928x1600 1 0, 1 1, 1 18, 1 19, 1 20, 2 25s, 2.8ms\n",
      "Speed: 3.5ms preprocess, 2.8ms inference, 0.6ms postprocess per image at shape (1, 3, 928, 1600)\n",
      "\n",
      "image 1/1 /datasets/tdt4265/other/rbk/1_train-val_1min_aalesund_from_start/img1/000403.jpg: 928x1600 1 0, 1 1, 1 18, 1 19, 1 20, 2 25s, 2.8ms\n",
      "Speed: 3.5ms preprocess, 2.8ms inference, 0.6ms postprocess per image at shape (1, 3, 928, 1600)\n",
      "\n",
      "image 1/1 /datasets/tdt4265/other/rbk/1_train-val_1min_aalesund_from_start/img1/000404.jpg: 928x1600 1 0, 1 1, 1 18, 1 19, 1 20, 2 25s, 2.8ms\n"
     ]
    }
   ],
   "source": [
    "# Iterere over hver frame og bruk track metoden\n",
    "for frame_path in frame_paths:\n",
    "    # model.track kan være en generator, så vi bruker en løkke for å hente resultatene\n",
    "    for result in model.track(frame_path, persist=True, stream=True, line_width=1):\n",
    "        annotated_frame = result.plot(font_size=1, line_width=1)\n",
    "        cv2.imshow('frame', annotated_frame)\n",
    "        # Vent på et tastetrykk i 1 millisekund og sjekk om det er 'ESC'\n",
    "        key = cv2.waitKey(1) & 0xFF\n",
    "        if key == 27:  # 27 er ASCII-verdien for 'ESC'\n",
    "            break\n",
    "\n",
    "    if key == 27:  # Kontroller igjen om 'ESC' ble trykket for å bryte ut av den ytre løkken\n",
    "        break\n",
    "\n",
    "cv2.destroyAllWindows()  # Lukker alle OpenCV-vinduene"
   ]
  },
  {
   "cell_type": "code",
   "execution_count": 39,
   "metadata": {},
   "outputs": [],
   "source": [
    "import matplotlib.pyplot as plt\n",
    "from PIL import Image\n",
    "import numpy as np\n",
    "%matplotlib inline\n",
    "\n",
    "def plot_pred_on_image(image_path, keypoints, keypoint_labels, players, ball, point_radius=5, label_offset=(10, -10)):\n",
    "    \"\"\"\n",
    "    Plotter keypoints med etiketter på et bilde.\n",
    "\n",
    "    Args:\n",
    "    - image_path (str): Stien til bildet der keypoints skal plottes.\n",
    "    - keypoints (list): Liste av koordinater for keypoints [(x1, y1), (x2, y2), ...].\n",
    "    - keypoint_labels (list): Liste av tekstetiketter for hvert keypoint.\n",
    "    - point_color (str): Fargen på punktene.\n",
    "    - point_radius (int): Størrelsen på punktene som skal tegnes.\n",
    "    - label_offset (tuple): Offset for etiketter relatert til tilhørende keypoint.\n",
    "    \"\"\"\n",
    "    # Åpne bildet\n",
    "    image = Image.open(image_path)\n",
    "    plt.imshow(image)\n",
    "\n",
    "    # Plot hvert punkt og tilhørende etikett\n",
    "    for (x, y), label in zip(keypoints, keypoint_labels):\n",
    "        plt.scatter(x, y, color='blue', s=point_radius**2)\n",
    "        plt.text(x + label_offset[0], y + label_offset[1], label, color='blue', fontsize=9)\n",
    "\n",
    "    for player in players:\n",
    "        plt.scatter(player[0], player[1], color='red', s=point_radius**2)\n",
    "\n",
    "    plt.scatter(ball[0], ball[1], color='orange', s=point_radius**2)\n",
    "        \n",
    "    # Fjern akser og vis bildet\n",
    "    plt.axis('off')\n",
    "    plt.show()\n"
   ]
  },
  {
   "cell_type": "code",
   "execution_count": 53,
   "metadata": {},
   "outputs": [
    {
     "name": "stdout",
     "output_type": "stream",
     "text": [
      "Known coordinates of each keypoint on pitch:\n"
     ]
    },
    {
     "data": {
      "text/html": [
       "<div>\n",
       "<style scoped>\n",
       "    .dataframe tbody tr th:only-of-type {\n",
       "        vertical-align: middle;\n",
       "    }\n",
       "\n",
       "    .dataframe tbody tr th {\n",
       "        vertical-align: top;\n",
       "    }\n",
       "\n",
       "    .dataframe thead th {\n",
       "        text-align: right;\n",
       "    }\n",
       "</style>\n",
       "<table border=\"1\" class=\"dataframe\">\n",
       "  <thead>\n",
       "    <tr style=\"text-align: right;\">\n",
       "      <th></th>\n",
       "      <th>1</th>\n",
       "      <th>2</th>\n",
       "      <th>3</th>\n",
       "      <th>4</th>\n",
       "      <th>5</th>\n",
       "      <th>6</th>\n",
       "      <th>7</th>\n",
       "      <th>8</th>\n",
       "      <th>9</th>\n",
       "      <th>10</th>\n",
       "      <th>...</th>\n",
       "      <th>26</th>\n",
       "      <th>27</th>\n",
       "      <th>28</th>\n",
       "      <th>29</th>\n",
       "      <th>30</th>\n",
       "      <th>31</th>\n",
       "      <th>32</th>\n",
       "      <th>33</th>\n",
       "      <th>34</th>\n",
       "      <th>35</th>\n",
       "    </tr>\n",
       "  </thead>\n",
       "  <tbody>\n",
       "    <tr>\n",
       "      <th>x</th>\n",
       "      <td>44</td>\n",
       "      <td>457</td>\n",
       "      <td>44</td>\n",
       "      <td>457</td>\n",
       "      <td>44</td>\n",
       "      <td>174</td>\n",
       "      <td>174</td>\n",
       "      <td>174</td>\n",
       "      <td>174</td>\n",
       "      <td>44</td>\n",
       "      <td>...</td>\n",
       "      <td>740</td>\n",
       "      <td>740</td>\n",
       "      <td>740</td>\n",
       "      <td>870</td>\n",
       "      <td>870</td>\n",
       "      <td>827</td>\n",
       "      <td>827</td>\n",
       "      <td>870</td>\n",
       "      <td>785</td>\n",
       "      <td>712</td>\n",
       "    </tr>\n",
       "    <tr>\n",
       "      <th>y</th>\n",
       "      <td>30</td>\n",
       "      <td>30</td>\n",
       "      <td>563</td>\n",
       "      <td>563</td>\n",
       "      <td>138</td>\n",
       "      <td>138</td>\n",
       "      <td>230</td>\n",
       "      <td>346</td>\n",
       "      <td>453</td>\n",
       "      <td>453</td>\n",
       "      <td>...</td>\n",
       "      <td>230</td>\n",
       "      <td>346</td>\n",
       "      <td>453</td>\n",
       "      <td>453</td>\n",
       "      <td>230</td>\n",
       "      <td>230</td>\n",
       "      <td>368</td>\n",
       "      <td>368</td>\n",
       "      <td>295</td>\n",
       "      <td>295</td>\n",
       "    </tr>\n",
       "  </tbody>\n",
       "</table>\n",
       "<p>2 rows × 35 columns</p>\n",
       "</div>"
      ],
      "text/plain": [
       "   1    2    3    4    5    6    7    8    9    10  ...   26   27   28   29  \\\n",
       "x  44  457   44  457   44  174  174  174  174   44  ...  740  740  740  870   \n",
       "y  30   30  563  563  138  138  230  346  453  453  ...  230  346  453  453   \n",
       "\n",
       "    30   31   32   33   34   35  \n",
       "x  870  827  827  870  785  712  \n",
       "y  230  230  368  368  295  295  \n",
       "\n",
       "[2 rows x 35 columns]"
      ]
     },
     "metadata": {},
     "output_type": "display_data"
    },
    {
     "name": "stdout",
     "output_type": "stream",
     "text": [
      "\n"
     ]
    },
    {
     "name": "stdout",
     "output_type": "stream",
     "text": [
      "image 1/1 /datasets/tdt4265/other/rbk/1_train-val_1min_aalesund_from_start/img1/000001.jpg: 928x1600 1 1, 1 18, 1 19, 1 20, 1 24, 1 25, 2.8ms\n",
      "Speed: 12.0ms preprocess, 2.8ms inference, 0.6ms postprocess per image at shape (1, 3, 928, 1600)\n",
      "\n",
      "image 1/1 /datasets/tdt4265/other/rbk/1_train-val_1min_aalesund_from_start/img1/000001.jpg: 1088x1920 22 players, 2.7ms\n",
      "Speed: 2.6ms preprocess, 2.7ms inference, 0.5ms postprocess per image at shape (1, 3, 1088, 1920)\n",
      "\n",
      "image 1/1 /datasets/tdt4265/other/rbk/1_train-val_1min_aalesund_from_start/img1/000001.jpg: 1088x1920 1 ball, 2.7ms\n",
      "Speed: 2.4ms preprocess, 2.7ms inference, 0.5ms postprocess per image at shape (1, 3, 1088, 1920)\n",
      "detected labels src [[ 940  374]\n",
      " [ 938  597]\n",
      " [ 939  460]\n",
      " [1299  478]\n",
      " [ 584  475]\n",
      " [ 934  217]]\n",
      "detected labels dst [[130 295]\n",
      " [457 295]\n",
      " [457 230]\n",
      " [201 295]\n",
      " [387 295]\n",
      " [ 44  30]]\n",
      "H [[   -0.41558     0.01178      385.65]\n",
      " [   -0.31744   0.0081165      294.76]\n",
      " [  -0.001075  2.4567e-05           1]]\n",
      "pred_dest_keypoints [[     436.14      438.86]\n",
      " [        457         295]\n",
      " [        457         230]\n",
      " [     386.13      295.55]\n",
      " [        387         295]\n",
      " [         44          30]]\n",
      "pred_player_points [[      388.3      295.59]\n",
      " [      387.3      295.34]\n",
      " [     572.46      316.49]\n",
      " [     385.11      294.94]\n",
      " [     382.22      295.31]\n",
      " [     385.64      294.09]\n",
      " [     387.91      295.35]\n",
      " [     386.66      295.05]\n",
      " [     386.22      294.83]\n",
      " [     397.68       305.2]\n",
      " [     398.01      297.05]\n",
      " [     386.19      295.33]\n",
      " [        387      295.22]\n",
      " [     391.42      291.42]\n",
      " [     386.95      294.99]\n",
      " [     387.01      296.61]\n",
      " [     386.13      293.77]\n",
      " [     386.05      295.66]\n",
      " [     387.37      295.97]\n",
      " [      386.7      295.55]\n",
      " [     391.35      295.32]\n",
      " [     385.65      294.56]]\n",
      "detected_ball_dst [     415.47      269.09           1]\n"
     ]
    },
    {
     "data": {
      "image/png": "[encoded data removed]",
      "text/plain": [
       "<Figure size 640x480 with 1 Axes>"
      ]
     },
     "metadata": {},
     "output_type": "display_data"
    }
   ],
   "source": [
    "# Keypoint mapping\n",
    "import pandas as pd\n",
    "\n",
    "model_players = YOLO('/work/mbergst/TDT4265_Project/runs/detect/player/train4/weights/best.pt')\n",
    "model_ball = YOLO('/work/mbergst/TDT4265_Project/runs/detect/ball/train3/weights/best.pt')\n",
    "\n",
    "print(\"Known coordinates of each keypoint on pitch:\")\n",
    "display(pd.DataFrame(keypoints, index = ['x', 'y']))\n",
    "\n",
    "# Initialize frame numbers\n",
    "frame_number = 0\n",
    "\n",
    "keypoints_displ_mean_tol = 10\n",
    "\n",
    "keypoints_model_confidence_treshold = 0.5\n",
    "\n",
    "# Iterate over each frame and use the track method\n",
    "\n",
    "\n",
    "for frame in frame_paths[:1] :\n",
    "    frame_number += 1\n",
    "    for result_keyp, result_player, result_ball in zip(model.track(frame), model_players.track(frame), model_ball.track(frame)):\n",
    "        bboxes_keyp = result_keyp.boxes.xyxy.cpu().numpy()\n",
    "        bboxes_keyp_c = result_keyp.boxes.xywh.cpu().numpy()\n",
    "        labels_keyp = list(result_keyp.boxes.cls.cpu().numpy())\n",
    "\n",
    "        bboxes_player = result_player.boxes.xyxy.cpu().numpy()\n",
    "        bboxes_player_c = result_player.boxes.xywh.cpu().numpy()\n",
    "        labels_player = list(result_player.boxes.cls.cpu().numpy())\n",
    "        \n",
    "\n",
    "        bboxes_ball = result_ball.boxes.xyxy.cpu().numpy()\n",
    "        bboxes_ball_c = result_ball.boxes.xywh.cpu().numpy()\n",
    "        labels_ball = list(result_ball.boxes.cls.cpu().numpy())\n",
    "\n",
    "        # Detected labels source points\n",
    "        detected_labels_src = np.array([list(np.round(bboxes_keyp_c[i][:2]).astype(int)) for i in range(bboxes_keyp_c.shape[0])])\n",
    "        # image = Image.open('/work/mbergst/TDT4265_Project/data_yolov8/keypoint_detection/1_train-val_1min_aalesund_from_start/images/train/000001.jpg')\n",
    "        # plt.imshow(image)\n",
    "        # for keypoint in detected_labels_src:\n",
    "        #     plt.scatter(keypoint[0], keypoint[1], color='red', s=5)\n",
    "        #plt.show()\n",
    "\n",
    "        # Detected labels destination points\n",
    "        detected_labels_dst = np.array([keypoints[i] for i in labels_keyp])\n",
    "\n",
    "        bboxes_player_c_0 = bboxes_player_c[[i==0 for i in labels_player]]\n",
    "\n",
    "        # Get coordinates of detected players as x_center, y_center + h/2\n",
    "        # detected_player_src = bboxes_player_c[:, :2] + bboxes_player_c[:, 2:] / 2\n",
    "        detected_player_src = bboxes_player_c[:, :2] + np.array([[0]*bboxes_player_c_0.shape[0], bboxes_player_c_0[:, 3] / 2]).T\n",
    "        # plot player points on frame\n",
    "        # image = Image.open('/work/mbergst/TDT4265_Project/data_yolov8/keypoint_detection/1_train-val_1min_aalesund_from_start/images/train/000001.jpg')\n",
    "        # plt.imshow(image)\n",
    "        # for player in detected_player_src:\n",
    "        #     plt.scatter(player[0], player[1], color='red', s=5)\n",
    "        # plt.show()\n",
    "\n",
    "\n",
    "        # Get coordinates of detected ball as x_center, y_center\n",
    "        detected_ball_src = bboxes_ball_c[0, :2] if len(bboxes_ball_c) > 0 else []\n",
    "\n",
    "        print(\"detected labels src\", detected_labels_src)\n",
    "        print(\"detected labels dst\", detected_labels_dst)\n",
    "        # Calculate homography transformation matrix if more than 3 keypoints are detected\n",
    "        if len(detected_labels_src) > 3:\n",
    "            H, _ = cv2.findHomography(detected_labels_src, detected_labels_dst)\n",
    "            print(\"H\", H)\n",
    "\n",
    "            # Transform keypoint coordinates from fram to pitch.png using calculated homography matrix\n",
    "            # pred_dst_pts = cv2.perspectiveTransform(np.array([bboxes_keyp_c[:, :2]]), H).squeeze()\n",
    "\n",
    "            pred_dest_keypoints = []\n",
    "            for pt in detected_labels_src:\n",
    "                pt = np.append(np.array(pt), np.array([1]), axis=0) \n",
    "                dest_point = np.matmul(H, np.transpose(pt))\n",
    "                dest_point = dest_point / dest_point[2]\n",
    "                pred_dest_keypoints.append(list(np.transpose(dest_point)[:2]))\n",
    "            pred_dest_keypoints = np.array(pred_dest_keypoints)\n",
    "\n",
    "            print(\"pred_dest_keypoints\", pred_dest_keypoints)\n",
    "\n",
    "            pred_player_points = []\n",
    "            for pt in detected_player_src:\n",
    "                pt = np.append(np.array(pt), np.array([1]), axis=0) \n",
    "                dest_point = np.matmul(H, np.transpose(pt))\n",
    "                dest_point = dest_point / dest_point[2]\n",
    "                pred_player_points.append(list(np.transpose(dest_point)[:2]))\n",
    "            pred_player_points = np.array(pred_player_points)\n",
    "\n",
    "            print(\"pred_player_points\", pred_player_points)\n",
    "\n",
    "            if detected_ball_src is not None:\n",
    "                pt = np.append(np.array(detected_ball_src), np.array([1]), axis=0) \n",
    "                dest_point = np.matmul(H, np.transpose(pt))\n",
    "                dest_point = dest_point / dest_point[2]\n",
    "                detected_ball_dst = np.transpose(dest_point)\n",
    "        \n",
    "\n",
    "            print(\"detected_ball_dst\", detected_ball_dst)\n",
    "            \n",
    "            # Beregner de transformerte punktene\n",
    "            # pred_dest_keypoints = []\n",
    "            # for pt in detected_labels_src:\n",
    "            #     homog_pt = np.append(pt, 1)  # Gjør punktet homogent\n",
    "            #     transformed_pt = np.dot(H, homog_pt)  # Utfører matrisemultiplikasjon\n",
    "            #     transformed_pt = transformed_pt / transformed_pt[2]  # Normaliserer for å få tilbake til kartesiske koordinater\n",
    "            #     pred_dest_keypoints.append(transformed_pt[:2])  # Lagrer de transformerte punktene uten den homogene koordinaten\n",
    "\n",
    "            # pred_dest_keypoints = np.array(pred_dest_keypoints)\n",
    "\n",
    "            # # Skriv ut de transformerte punktene\n",
    "            # print(\"Transformerte keypoints:\")\n",
    "            # print(pred_dest_keypoints)\n",
    "            # print(\"keyp labels\", labels_keyp)\n",
    "\n",
    "\n",
    "\n",
    "            \n",
    "            \n",
    "            \n",
    "            # Draw keypoints on pitch\n",
    "            plot_pred_on_image('pitch.png', pred_dest_keypoints, labels_keyp, pred_player_points, detected_ball_dst)\n",
    "        \n",
    "        \n",
    "        else:\n",
    "            print(\"Not enough keypoints detected for homography calculation in frame\", frame_number)\n",
    "            continue\n",
    "\n",
    "        \n",
    "\n",
    "\n",
    "\n",
    "#box_1 = bboxes_keyp[0]\n",
    "# #Check attributes of the first box\n",
    "#print(\"Box 1 attributes:\")\n",
    "#print(f\"Box 1 coordinates: {box_1[:4]}\")\n",
    "# print(\"COnf\", box_1.conf)\n",
    "# print(\"Number of detected keypoints in frame 1: \", len(bboxes))\n",
    "# print(\"Detected keypoints in frame 1: \", bboxes)\n",
    "        \n",
    "\n"
   ]
  },
  {
   "cell_type": "code",
   "execution_count": 48,
   "metadata": {},
   "outputs": [
    {
     "name": "stdout",
     "output_type": "stream",
     "text": [
      "Transformert punkt: [     386.43      294.89]\n",
      "Forventet destinasjonspunkt: [130, 295]\n"
     ]
    }
   ],
   "source": [
    "import numpy as np\n",
    "\n",
    "# Anta at H er definert som følger:\n",
    "H = np.array([\n",
    "    [-0.41558,     0.01178,      385.65],\n",
    "    [-0.31744,   0.0081165,      294.76],\n",
    "    [-0.001075, 2.4567e-05,           1]\n",
    "])\n",
    "\n",
    "# Testpunkt fra src\n",
    "src_pt = np.array([457, 374, 1])  # Legger til en homogen koordinat\n",
    "\n",
    "# Utfør transformasjonen\n",
    "dst_pt = np.dot(H, src_pt)\n",
    "dst_pt = dst_pt / dst_pt[-1]  # Konverter tilbake til inhomogene koordinater\n",
    "\n",
    "print(\"Transformert punkt:\", dst_pt[:2])\n",
    "print(\"Forventet destinasjonspunkt:\", [130, 295])\n"
   ]
  }
 ],
 "metadata": {
  "kernelspec": {
   "display_name": "Python 3",
   "language": "python",
   "name": "python3"
  },
  "language_info": {
   "codemirror_mode": {
    "name": "ipython",
    "version": 3
   },
   "file_extension": ".py",
   "mimetype": "text/x-python",
   "name": "python",
   "nbconvert_exporter": "python",
   "pygments_lexer": "ipython3",
   "version": "3.10.12"
  }
 },
 "nbformat": 4,
 "nbformat_minor": 2
}
