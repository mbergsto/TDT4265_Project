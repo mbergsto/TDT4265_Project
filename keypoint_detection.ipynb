{
 "cells": [
  {
   "cell_type": "code",
   "execution_count": 1,
   "metadata": {},
   "outputs": [
    {
     "name": "stderr",
     "output_type": "stream",
     "text": [
      "/home/mbergst/.local/lib/python3.10/site-packages/matplotlib/projections/__init__.py:63: UserWarning: Unable to import Axes3D. This may be due to multiple versions of Matplotlib being installed (e.g. as a system package and as a pip package). As a result, the 3D projection is not available.\n",
      "  warnings.warn(\"Unable to import Axes3D. This may be due to multiple versions of \"\n"
     ]
    }
   ],
   "source": [
    "from ultralytics import YOLO\n",
    "import os\n",
    "import random\n",
    "import cv2\n",
    "import numpy as np\n",
    "import shutil\n",
    "import supervision as sv\n",
    "import cv2\n",
    "import matplotlib.pyplot as plt\n"
   ]
  },
  {
   "cell_type": "code",
   "execution_count": null,
   "metadata": {},
   "outputs": [],
   "source": [
    "keypoints = {1: (44, 30), \n",
    "             2: (457, 30), \n",
    "             3: (44, 563), \n",
    "             4: (457, 563), \n",
    "             5: (44, 138), \n",
    "             6: (174, 138), \n",
    "             7: (174, 230), \n",
    "             8: (174, 346), \n",
    "             9: (174, 453), \n",
    "             10: (44, 453), \n",
    "             11: (44, 230), \n",
    "             12: (86, 230), \n",
    "             13: (86, 368), \n",
    "             14: (44, 368), \n",
    "             15: (130, 295),\n",
    "             16: (457, 230), \n",
    "             17: (457, 295), \n",
    "             18: (457, 368), \n",
    "             19: (201, 295), \n",
    "             20: (387, 295), \n",
    "             21: (530, 295), \n",
    "             22: (870, 30), \n",
    "             23: (870, 563), \n",
    "             24: (870, 138), \n",
    "             25: (740, 138), \n",
    "             26: (740, 230), \n",
    "             27: (740, 346), \n",
    "             28: (740, 453), 29: (870, 453), 30: (870, 230), 31: (827, 230), 32: (827, 368), 33: (870, 368), 34: (785, 295), 35: (712, 295), 36: (601, 121)}"
   ]
  },
  {
   "cell_type": "code",
   "execution_count": 2,
   "metadata": {},
   "outputs": [
    {
     "name": "stdout",
     "output_type": "stream",
     "text": [
      "Downloading https://github.com/ultralytics/assets/releases/download/v8.1.0/yolov8n-pose.pt to 'yolov8n-pose.pt'...\n"
     ]
    },
    {
     "name": "stderr",
     "output_type": "stream",
     "text": [
      "100%|██████████| 6.51M/6.51M [00:00<00:00, 11.5MB/s]\n"
     ]
    }
   ],
   "source": [
    "model = YOLO('yolov8n-pose.pt')\n",
    "\n",
    "results = "
   ]
  }
 ],
 "metadata": {
  "kernelspec": {
   "display_name": "Python 3",
   "language": "python",
   "name": "python3"
  },
  "language_info": {
   "codemirror_mode": {
    "name": "ipython",
    "version": 3
   },
   "file_extension": ".py",
   "mimetype": "text/x-python",
   "name": "python",
   "nbconvert_exporter": "python",
   "pygments_lexer": "ipython3",
   "version": "3.10.12"
  }
 },
 "nbformat": 4,
 "nbformat_minor": 2
}
